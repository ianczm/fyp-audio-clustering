{
 "cells": [
  {
   "cell_type": "code",
   "execution_count": 21,
   "metadata": {
    "collapsed": true
   },
   "outputs": [],
   "source": [
    "import pandas as pd"
   ]
  },
  {
   "cell_type": "code",
   "execution_count": 22,
   "outputs": [],
   "source": [
    "import config"
   ],
   "metadata": {
    "collapsed": false
   }
  },
  {
   "cell_type": "code",
   "execution_count": 23,
   "outputs": [],
   "source": [
    "neighbours = 5"
   ],
   "metadata": {
    "collapsed": false
   }
  },
  {
   "cell_type": "code",
   "execution_count": 24,
   "outputs": [
    {
     "data": {
      "text/plain": "                             song_name             artist       playlist  \\\n0                           Ivan Sings  Aram Khachaturian           kino   \n1    Prélude in E Minor, Op. 28, No. 4    Frédéric Chopin           kino   \n2                      Above the Trees               Kino           kino   \n3                                  All               Kino           kino   \n4                                 Anew               Kino           kino   \n..                                 ...                ...            ...   \n420           Tenderness - Woven Remix      Tony Anderson  tony-anderson   \n421                         Tenderness      Tony Anderson  tony-anderson   \n422         Cambodia - Ross Lara Remix      Tony Anderson  tony-anderson   \n423                           Cambodia      Tony Anderson  tony-anderson   \n424                             Oyarsa      Tony Anderson  tony-anderson   \n\n     zero_crossings_mean  zero_crossings_var         bpm  \\\n0               0.030815            0.029865  143.554688   \n1               0.028196            0.027401  103.359375   \n2               0.052121            0.049405  143.554688   \n3               0.044240            0.042283  161.499023   \n4               0.048969            0.046571  161.499023   \n..                   ...                 ...         ...   \n420             0.050498            0.047948   99.384014   \n421             0.019365            0.018990  151.999081   \n422             0.053039            0.050226  129.199219   \n423             0.042857            0.041020  129.199219   \n424             0.035910            0.034620  112.347147   \n\n     spectral_centroid_mean  spectral_centroid_var  spectral_rolloff_mean  \\\n0                728.505121          164591.144472            1044.706810   \n1                615.425486           95544.686241             892.440162   \n2               1053.924804          248527.612506            1937.848230   \n3                619.260455           49458.448746             981.976649   \n4                677.808914           72961.813450            1098.534181   \n..                      ...                    ...                    ...   \n420             1690.752815          996877.763828            3788.666509   \n421              500.969118          144860.433188             764.697603   \n422             1618.810406          687875.800819            3493.059627   \n423             1234.479968          276949.182834            2474.291523   \n424              625.735642           51465.968656            1004.456635   \n\n     spectral_rolloff_var  ...  mfcc_var_7  mfcc_mean_8  mfcc_var_8  \\\n0            1.492931e+06  ...   59.754135    -7.222707   53.279484   \n1            8.328338e+05  ...   66.532372    -7.709404   67.271782   \n2            1.480721e+06  ...  113.514336    -4.448510   74.239128   \n3            2.497879e+05  ...  109.742783     3.967615   61.414219   \n4            4.831254e+05  ...   75.191750    -0.318088   72.683647   \n..                    ...  ...         ...          ...         ...   \n420          6.661065e+06  ...   85.660057    -0.473025   55.165321   \n421          1.021311e+06  ...   42.235184     1.522114   30.496746   \n422          5.250681e+06  ...   62.413822    -2.939895   52.945293   \n423          1.718215e+06  ...  118.341034    -1.348665   86.386292   \n424          1.778121e+05  ...   73.260193     0.496677   49.557613   \n\n     mfcc_mean_9  mfcc_var_9  mfcc_mean_10  mfcc_var_10       TSNE1  \\\n0      -6.638159   63.120949     -7.461281    58.827705  102.825645   \n1      -8.138650   51.361748     -8.201083    51.866173  104.157578   \n2      -2.306997   76.906097     -2.640234    74.699959   41.979324   \n3       4.160887   66.464058     -0.379875    82.376328   51.150433   \n4      -0.499459   70.440079     -3.557541    71.182747   49.836388   \n..           ...         ...           ...          ...         ...   \n420     1.394155   64.965172     -3.817915    56.059143  -65.666039   \n421    -3.054044   27.486416     -6.413583    28.495449   97.646248   \n422     2.519716   61.408394     -2.011139    51.967083   -5.170745   \n423     1.038753   90.882286     -4.584059    92.075935   34.921757   \n424    -4.770782   65.222755     -8.970942    67.012970   76.371201   \n\n         TSNE2  cluster  \n0    12.029933        5  \n1    10.071753        5  \n2     8.616708        6  \n3    -6.074265        4  \n4    -6.950887        4  \n..         ...      ...  \n420  26.129416        7  \n421  24.417639        5  \n422  18.092010        0  \n423   7.771114        6  \n424   9.642812        1  \n\n[425 rows x 37 columns]",
      "text/html": "<div>\n<style scoped>\n    .dataframe tbody tr th:only-of-type {\n        vertical-align: middle;\n    }\n\n    .dataframe tbody tr th {\n        vertical-align: top;\n    }\n\n    .dataframe thead th {\n        text-align: right;\n    }\n</style>\n<table border=\"1\" class=\"dataframe\">\n  <thead>\n    <tr style=\"text-align: right;\">\n      <th></th>\n      <th>song_name</th>\n      <th>artist</th>\n      <th>playlist</th>\n      <th>zero_crossings_mean</th>\n      <th>zero_crossings_var</th>\n      <th>bpm</th>\n      <th>spectral_centroid_mean</th>\n      <th>spectral_centroid_var</th>\n      <th>spectral_rolloff_mean</th>\n      <th>spectral_rolloff_var</th>\n      <th>...</th>\n      <th>mfcc_var_7</th>\n      <th>mfcc_mean_8</th>\n      <th>mfcc_var_8</th>\n      <th>mfcc_mean_9</th>\n      <th>mfcc_var_9</th>\n      <th>mfcc_mean_10</th>\n      <th>mfcc_var_10</th>\n      <th>TSNE1</th>\n      <th>TSNE2</th>\n      <th>cluster</th>\n    </tr>\n  </thead>\n  <tbody>\n    <tr>\n      <th>0</th>\n      <td>Ivan Sings</td>\n      <td>Aram Khachaturian</td>\n      <td>kino</td>\n      <td>0.030815</td>\n      <td>0.029865</td>\n      <td>143.554688</td>\n      <td>728.505121</td>\n      <td>164591.144472</td>\n      <td>1044.706810</td>\n      <td>1.492931e+06</td>\n      <td>...</td>\n      <td>59.754135</td>\n      <td>-7.222707</td>\n      <td>53.279484</td>\n      <td>-6.638159</td>\n      <td>63.120949</td>\n      <td>-7.461281</td>\n      <td>58.827705</td>\n      <td>102.825645</td>\n      <td>12.029933</td>\n      <td>5</td>\n    </tr>\n    <tr>\n      <th>1</th>\n      <td>Prélude in E Minor, Op. 28, No. 4</td>\n      <td>Frédéric Chopin</td>\n      <td>kino</td>\n      <td>0.028196</td>\n      <td>0.027401</td>\n      <td>103.359375</td>\n      <td>615.425486</td>\n      <td>95544.686241</td>\n      <td>892.440162</td>\n      <td>8.328338e+05</td>\n      <td>...</td>\n      <td>66.532372</td>\n      <td>-7.709404</td>\n      <td>67.271782</td>\n      <td>-8.138650</td>\n      <td>51.361748</td>\n      <td>-8.201083</td>\n      <td>51.866173</td>\n      <td>104.157578</td>\n      <td>10.071753</td>\n      <td>5</td>\n    </tr>\n    <tr>\n      <th>2</th>\n      <td>Above the Trees</td>\n      <td>Kino</td>\n      <td>kino</td>\n      <td>0.052121</td>\n      <td>0.049405</td>\n      <td>143.554688</td>\n      <td>1053.924804</td>\n      <td>248527.612506</td>\n      <td>1937.848230</td>\n      <td>1.480721e+06</td>\n      <td>...</td>\n      <td>113.514336</td>\n      <td>-4.448510</td>\n      <td>74.239128</td>\n      <td>-2.306997</td>\n      <td>76.906097</td>\n      <td>-2.640234</td>\n      <td>74.699959</td>\n      <td>41.979324</td>\n      <td>8.616708</td>\n      <td>6</td>\n    </tr>\n    <tr>\n      <th>3</th>\n      <td>All</td>\n      <td>Kino</td>\n      <td>kino</td>\n      <td>0.044240</td>\n      <td>0.042283</td>\n      <td>161.499023</td>\n      <td>619.260455</td>\n      <td>49458.448746</td>\n      <td>981.976649</td>\n      <td>2.497879e+05</td>\n      <td>...</td>\n      <td>109.742783</td>\n      <td>3.967615</td>\n      <td>61.414219</td>\n      <td>4.160887</td>\n      <td>66.464058</td>\n      <td>-0.379875</td>\n      <td>82.376328</td>\n      <td>51.150433</td>\n      <td>-6.074265</td>\n      <td>4</td>\n    </tr>\n    <tr>\n      <th>4</th>\n      <td>Anew</td>\n      <td>Kino</td>\n      <td>kino</td>\n      <td>0.048969</td>\n      <td>0.046571</td>\n      <td>161.499023</td>\n      <td>677.808914</td>\n      <td>72961.813450</td>\n      <td>1098.534181</td>\n      <td>4.831254e+05</td>\n      <td>...</td>\n      <td>75.191750</td>\n      <td>-0.318088</td>\n      <td>72.683647</td>\n      <td>-0.499459</td>\n      <td>70.440079</td>\n      <td>-3.557541</td>\n      <td>71.182747</td>\n      <td>49.836388</td>\n      <td>-6.950887</td>\n      <td>4</td>\n    </tr>\n    <tr>\n      <th>...</th>\n      <td>...</td>\n      <td>...</td>\n      <td>...</td>\n      <td>...</td>\n      <td>...</td>\n      <td>...</td>\n      <td>...</td>\n      <td>...</td>\n      <td>...</td>\n      <td>...</td>\n      <td>...</td>\n      <td>...</td>\n      <td>...</td>\n      <td>...</td>\n      <td>...</td>\n      <td>...</td>\n      <td>...</td>\n      <td>...</td>\n      <td>...</td>\n      <td>...</td>\n      <td>...</td>\n    </tr>\n    <tr>\n      <th>420</th>\n      <td>Tenderness - Woven Remix</td>\n      <td>Tony Anderson</td>\n      <td>tony-anderson</td>\n      <td>0.050498</td>\n      <td>0.047948</td>\n      <td>99.384014</td>\n      <td>1690.752815</td>\n      <td>996877.763828</td>\n      <td>3788.666509</td>\n      <td>6.661065e+06</td>\n      <td>...</td>\n      <td>85.660057</td>\n      <td>-0.473025</td>\n      <td>55.165321</td>\n      <td>1.394155</td>\n      <td>64.965172</td>\n      <td>-3.817915</td>\n      <td>56.059143</td>\n      <td>-65.666039</td>\n      <td>26.129416</td>\n      <td>7</td>\n    </tr>\n    <tr>\n      <th>421</th>\n      <td>Tenderness</td>\n      <td>Tony Anderson</td>\n      <td>tony-anderson</td>\n      <td>0.019365</td>\n      <td>0.018990</td>\n      <td>151.999081</td>\n      <td>500.969118</td>\n      <td>144860.433188</td>\n      <td>764.697603</td>\n      <td>1.021311e+06</td>\n      <td>...</td>\n      <td>42.235184</td>\n      <td>1.522114</td>\n      <td>30.496746</td>\n      <td>-3.054044</td>\n      <td>27.486416</td>\n      <td>-6.413583</td>\n      <td>28.495449</td>\n      <td>97.646248</td>\n      <td>24.417639</td>\n      <td>5</td>\n    </tr>\n    <tr>\n      <th>422</th>\n      <td>Cambodia - Ross Lara Remix</td>\n      <td>Tony Anderson</td>\n      <td>tony-anderson</td>\n      <td>0.053039</td>\n      <td>0.050226</td>\n      <td>129.199219</td>\n      <td>1618.810406</td>\n      <td>687875.800819</td>\n      <td>3493.059627</td>\n      <td>5.250681e+06</td>\n      <td>...</td>\n      <td>62.413822</td>\n      <td>-2.939895</td>\n      <td>52.945293</td>\n      <td>2.519716</td>\n      <td>61.408394</td>\n      <td>-2.011139</td>\n      <td>51.967083</td>\n      <td>-5.170745</td>\n      <td>18.092010</td>\n      <td>0</td>\n    </tr>\n    <tr>\n      <th>423</th>\n      <td>Cambodia</td>\n      <td>Tony Anderson</td>\n      <td>tony-anderson</td>\n      <td>0.042857</td>\n      <td>0.041020</td>\n      <td>129.199219</td>\n      <td>1234.479968</td>\n      <td>276949.182834</td>\n      <td>2474.291523</td>\n      <td>1.718215e+06</td>\n      <td>...</td>\n      <td>118.341034</td>\n      <td>-1.348665</td>\n      <td>86.386292</td>\n      <td>1.038753</td>\n      <td>90.882286</td>\n      <td>-4.584059</td>\n      <td>92.075935</td>\n      <td>34.921757</td>\n      <td>7.771114</td>\n      <td>6</td>\n    </tr>\n    <tr>\n      <th>424</th>\n      <td>Oyarsa</td>\n      <td>Tony Anderson</td>\n      <td>tony-anderson</td>\n      <td>0.035910</td>\n      <td>0.034620</td>\n      <td>112.347147</td>\n      <td>625.735642</td>\n      <td>51465.968656</td>\n      <td>1004.456635</td>\n      <td>1.778121e+05</td>\n      <td>...</td>\n      <td>73.260193</td>\n      <td>0.496677</td>\n      <td>49.557613</td>\n      <td>-4.770782</td>\n      <td>65.222755</td>\n      <td>-8.970942</td>\n      <td>67.012970</td>\n      <td>76.371201</td>\n      <td>9.642812</td>\n      <td>1</td>\n    </tr>\n  </tbody>\n</table>\n<p>425 rows × 37 columns</p>\n</div>"
     },
     "execution_count": 24,
     "metadata": {},
     "output_type": "execute_result"
    }
   ],
   "source": [
    "tsne_results = pd.read_pickle(config.tsne_result_dir)\n",
    "tsne_results"
   ],
   "metadata": {
    "collapsed": false
   }
  },
  {
   "cell_type": "code",
   "execution_count": 25,
   "outputs": [
    {
     "data": {
      "text/plain": "                             song_name             artist       playlist  \\\n0                           Ivan Sings  Aram Khachaturian           kino   \n1    Prélude in E Minor, Op. 28, No. 4    Frédéric Chopin           kino   \n2                      Above the Trees               Kino           kino   \n3                                  All               Kino           kino   \n4                                 Anew               Kino           kino   \n..                                 ...                ...            ...   \n420           Tenderness - Woven Remix      Tony Anderson  tony-anderson   \n421                         Tenderness      Tony Anderson  tony-anderson   \n422         Cambodia - Ross Lara Remix      Tony Anderson  tony-anderson   \n423                           Cambodia      Tony Anderson  tony-anderson   \n424                             Oyarsa      Tony Anderson  tony-anderson   \n\n     zero_crossings_mean  zero_crossings_var         bpm  \\\n0               0.030815            0.029865  143.554688   \n1               0.028196            0.027401  103.359375   \n2               0.052121            0.049405  143.554688   \n3               0.044240            0.042283  161.499023   \n4               0.048969            0.046571  161.499023   \n..                   ...                 ...         ...   \n420             0.050498            0.047948   99.384014   \n421             0.019365            0.018990  151.999081   \n422             0.053039            0.050226  129.199219   \n423             0.042857            0.041020  129.199219   \n424             0.035910            0.034620  112.347147   \n\n     spectral_centroid_mean  spectral_centroid_var  spectral_rolloff_mean  \\\n0                728.505121          164591.144472            1044.706810   \n1                615.425486           95544.686241             892.440162   \n2               1053.924804          248527.612506            1937.848230   \n3                619.260455           49458.448746             981.976649   \n4                677.808914           72961.813450            1098.534181   \n..                      ...                    ...                    ...   \n420             1690.752815          996877.763828            3788.666509   \n421              500.969118          144860.433188             764.697603   \n422             1618.810406          687875.800819            3493.059627   \n423             1234.479968          276949.182834            2474.291523   \n424              625.735642           51465.968656            1004.456635   \n\n     spectral_rolloff_var  ...  mfcc_var_9  mfcc_mean_10  mfcc_var_10  \\\n0            1.492931e+06  ...   63.120949     -7.461281    58.827705   \n1            8.328338e+05  ...   51.361748     -8.201083    51.866173   \n2            1.480721e+06  ...   76.906097     -2.640234    74.699959   \n3            2.497879e+05  ...   66.464058     -0.379875    82.376328   \n4            4.831254e+05  ...   70.440079     -3.557541    71.182747   \n..                    ...  ...         ...           ...          ...   \n420          6.661065e+06  ...   64.965172     -3.817915    56.059143   \n421          1.021311e+06  ...   27.486416     -6.413583    28.495449   \n422          5.250681e+06  ...   61.408394     -2.011139    51.967083   \n423          1.718215e+06  ...   90.882286     -4.584059    92.075935   \n424          1.778121e+05  ...   65.222755     -8.970942    67.012970   \n\n         note_x      note_y    chord_x    chord_y      PCA1      PCA2  cluster  \n0     31.780665 -121.482794  16.583680  -8.145854 -4.891375  1.025704        1  \n1    -37.700638 -120.670648   6.109326   3.678018 -5.449469  0.597952        1  \n2     96.359045   35.283416  -3.912077 -23.493948 -2.439285  1.017661        4  \n3    114.854797   59.473852   6.485468  22.785488 -3.558834  0.543484        1  \n4   -100.486957  -80.102326 -23.841474  -4.478996 -3.714071  1.721099        1  \n..          ...         ...        ...        ...       ...       ...      ...  \n420  -76.252731   88.097315   1.371450   4.240695  1.688892 -1.614563        0  \n421 -115.940544  -32.135818  20.853100  -2.694651 -5.678649 -2.410351        1  \n422  -58.103933   94.477014  -6.038562   0.918093 -1.213789 -2.021869        6  \n423 -101.926581   47.305482 -12.879522   4.133999 -1.078785 -0.088524        5  \n424   15.962611  -93.441857  11.473009 -18.770906 -4.806718  1.042698        1  \n\n[425 rows x 41 columns]",
      "text/html": "<div>\n<style scoped>\n    .dataframe tbody tr th:only-of-type {\n        vertical-align: middle;\n    }\n\n    .dataframe tbody tr th {\n        vertical-align: top;\n    }\n\n    .dataframe thead th {\n        text-align: right;\n    }\n</style>\n<table border=\"1\" class=\"dataframe\">\n  <thead>\n    <tr style=\"text-align: right;\">\n      <th></th>\n      <th>song_name</th>\n      <th>artist</th>\n      <th>playlist</th>\n      <th>zero_crossings_mean</th>\n      <th>zero_crossings_var</th>\n      <th>bpm</th>\n      <th>spectral_centroid_mean</th>\n      <th>spectral_centroid_var</th>\n      <th>spectral_rolloff_mean</th>\n      <th>spectral_rolloff_var</th>\n      <th>...</th>\n      <th>mfcc_var_9</th>\n      <th>mfcc_mean_10</th>\n      <th>mfcc_var_10</th>\n      <th>note_x</th>\n      <th>note_y</th>\n      <th>chord_x</th>\n      <th>chord_y</th>\n      <th>PCA1</th>\n      <th>PCA2</th>\n      <th>cluster</th>\n    </tr>\n  </thead>\n  <tbody>\n    <tr>\n      <th>0</th>\n      <td>Ivan Sings</td>\n      <td>Aram Khachaturian</td>\n      <td>kino</td>\n      <td>0.030815</td>\n      <td>0.029865</td>\n      <td>143.554688</td>\n      <td>728.505121</td>\n      <td>164591.144472</td>\n      <td>1044.706810</td>\n      <td>1.492931e+06</td>\n      <td>...</td>\n      <td>63.120949</td>\n      <td>-7.461281</td>\n      <td>58.827705</td>\n      <td>31.780665</td>\n      <td>-121.482794</td>\n      <td>16.583680</td>\n      <td>-8.145854</td>\n      <td>-4.891375</td>\n      <td>1.025704</td>\n      <td>1</td>\n    </tr>\n    <tr>\n      <th>1</th>\n      <td>Prélude in E Minor, Op. 28, No. 4</td>\n      <td>Frédéric Chopin</td>\n      <td>kino</td>\n      <td>0.028196</td>\n      <td>0.027401</td>\n      <td>103.359375</td>\n      <td>615.425486</td>\n      <td>95544.686241</td>\n      <td>892.440162</td>\n      <td>8.328338e+05</td>\n      <td>...</td>\n      <td>51.361748</td>\n      <td>-8.201083</td>\n      <td>51.866173</td>\n      <td>-37.700638</td>\n      <td>-120.670648</td>\n      <td>6.109326</td>\n      <td>3.678018</td>\n      <td>-5.449469</td>\n      <td>0.597952</td>\n      <td>1</td>\n    </tr>\n    <tr>\n      <th>2</th>\n      <td>Above the Trees</td>\n      <td>Kino</td>\n      <td>kino</td>\n      <td>0.052121</td>\n      <td>0.049405</td>\n      <td>143.554688</td>\n      <td>1053.924804</td>\n      <td>248527.612506</td>\n      <td>1937.848230</td>\n      <td>1.480721e+06</td>\n      <td>...</td>\n      <td>76.906097</td>\n      <td>-2.640234</td>\n      <td>74.699959</td>\n      <td>96.359045</td>\n      <td>35.283416</td>\n      <td>-3.912077</td>\n      <td>-23.493948</td>\n      <td>-2.439285</td>\n      <td>1.017661</td>\n      <td>4</td>\n    </tr>\n    <tr>\n      <th>3</th>\n      <td>All</td>\n      <td>Kino</td>\n      <td>kino</td>\n      <td>0.044240</td>\n      <td>0.042283</td>\n      <td>161.499023</td>\n      <td>619.260455</td>\n      <td>49458.448746</td>\n      <td>981.976649</td>\n      <td>2.497879e+05</td>\n      <td>...</td>\n      <td>66.464058</td>\n      <td>-0.379875</td>\n      <td>82.376328</td>\n      <td>114.854797</td>\n      <td>59.473852</td>\n      <td>6.485468</td>\n      <td>22.785488</td>\n      <td>-3.558834</td>\n      <td>0.543484</td>\n      <td>1</td>\n    </tr>\n    <tr>\n      <th>4</th>\n      <td>Anew</td>\n      <td>Kino</td>\n      <td>kino</td>\n      <td>0.048969</td>\n      <td>0.046571</td>\n      <td>161.499023</td>\n      <td>677.808914</td>\n      <td>72961.813450</td>\n      <td>1098.534181</td>\n      <td>4.831254e+05</td>\n      <td>...</td>\n      <td>70.440079</td>\n      <td>-3.557541</td>\n      <td>71.182747</td>\n      <td>-100.486957</td>\n      <td>-80.102326</td>\n      <td>-23.841474</td>\n      <td>-4.478996</td>\n      <td>-3.714071</td>\n      <td>1.721099</td>\n      <td>1</td>\n    </tr>\n    <tr>\n      <th>...</th>\n      <td>...</td>\n      <td>...</td>\n      <td>...</td>\n      <td>...</td>\n      <td>...</td>\n      <td>...</td>\n      <td>...</td>\n      <td>...</td>\n      <td>...</td>\n      <td>...</td>\n      <td>...</td>\n      <td>...</td>\n      <td>...</td>\n      <td>...</td>\n      <td>...</td>\n      <td>...</td>\n      <td>...</td>\n      <td>...</td>\n      <td>...</td>\n      <td>...</td>\n      <td>...</td>\n    </tr>\n    <tr>\n      <th>420</th>\n      <td>Tenderness - Woven Remix</td>\n      <td>Tony Anderson</td>\n      <td>tony-anderson</td>\n      <td>0.050498</td>\n      <td>0.047948</td>\n      <td>99.384014</td>\n      <td>1690.752815</td>\n      <td>996877.763828</td>\n      <td>3788.666509</td>\n      <td>6.661065e+06</td>\n      <td>...</td>\n      <td>64.965172</td>\n      <td>-3.817915</td>\n      <td>56.059143</td>\n      <td>-76.252731</td>\n      <td>88.097315</td>\n      <td>1.371450</td>\n      <td>4.240695</td>\n      <td>1.688892</td>\n      <td>-1.614563</td>\n      <td>0</td>\n    </tr>\n    <tr>\n      <th>421</th>\n      <td>Tenderness</td>\n      <td>Tony Anderson</td>\n      <td>tony-anderson</td>\n      <td>0.019365</td>\n      <td>0.018990</td>\n      <td>151.999081</td>\n      <td>500.969118</td>\n      <td>144860.433188</td>\n      <td>764.697603</td>\n      <td>1.021311e+06</td>\n      <td>...</td>\n      <td>27.486416</td>\n      <td>-6.413583</td>\n      <td>28.495449</td>\n      <td>-115.940544</td>\n      <td>-32.135818</td>\n      <td>20.853100</td>\n      <td>-2.694651</td>\n      <td>-5.678649</td>\n      <td>-2.410351</td>\n      <td>1</td>\n    </tr>\n    <tr>\n      <th>422</th>\n      <td>Cambodia - Ross Lara Remix</td>\n      <td>Tony Anderson</td>\n      <td>tony-anderson</td>\n      <td>0.053039</td>\n      <td>0.050226</td>\n      <td>129.199219</td>\n      <td>1618.810406</td>\n      <td>687875.800819</td>\n      <td>3493.059627</td>\n      <td>5.250681e+06</td>\n      <td>...</td>\n      <td>61.408394</td>\n      <td>-2.011139</td>\n      <td>51.967083</td>\n      <td>-58.103933</td>\n      <td>94.477014</td>\n      <td>-6.038562</td>\n      <td>0.918093</td>\n      <td>-1.213789</td>\n      <td>-2.021869</td>\n      <td>6</td>\n    </tr>\n    <tr>\n      <th>423</th>\n      <td>Cambodia</td>\n      <td>Tony Anderson</td>\n      <td>tony-anderson</td>\n      <td>0.042857</td>\n      <td>0.041020</td>\n      <td>129.199219</td>\n      <td>1234.479968</td>\n      <td>276949.182834</td>\n      <td>2474.291523</td>\n      <td>1.718215e+06</td>\n      <td>...</td>\n      <td>90.882286</td>\n      <td>-4.584059</td>\n      <td>92.075935</td>\n      <td>-101.926581</td>\n      <td>47.305482</td>\n      <td>-12.879522</td>\n      <td>4.133999</td>\n      <td>-1.078785</td>\n      <td>-0.088524</td>\n      <td>5</td>\n    </tr>\n    <tr>\n      <th>424</th>\n      <td>Oyarsa</td>\n      <td>Tony Anderson</td>\n      <td>tony-anderson</td>\n      <td>0.035910</td>\n      <td>0.034620</td>\n      <td>112.347147</td>\n      <td>625.735642</td>\n      <td>51465.968656</td>\n      <td>1004.456635</td>\n      <td>1.778121e+05</td>\n      <td>...</td>\n      <td>65.222755</td>\n      <td>-8.970942</td>\n      <td>67.012970</td>\n      <td>15.962611</td>\n      <td>-93.441857</td>\n      <td>11.473009</td>\n      <td>-18.770906</td>\n      <td>-4.806718</td>\n      <td>1.042698</td>\n      <td>1</td>\n    </tr>\n  </tbody>\n</table>\n<p>425 rows × 41 columns</p>\n</div>"
     },
     "execution_count": 25,
     "metadata": {},
     "output_type": "execute_result"
    }
   ],
   "source": [
    "pca_results = pd.read_pickle(config.pca_result_dir)\n",
    "pca_results"
   ],
   "metadata": {
    "collapsed": false
   }
  },
  {
   "cell_type": "code",
   "execution_count": 26,
   "outputs": [
    {
     "data": {
      "application/vnd.plotly.v1+json": {
       "data": [
        {
         "customdata": [
          [
           "Ivan Sings",
           "Aram Khachaturian"
          ],
          [
           "Prélude in E Minor, Op. 28, No. 4",
           "Frédéric Chopin"
          ],
          [
           "Above the Trees",
           "Kino"
          ],
          [
           "All",
           "Kino"
          ],
          [
           "Anew",
           "Kino"
          ],
          [
           "As a Cloud",
           "Kino"
          ],
          [
           "Away",
           "Kino"
          ],
          [
           "Bloom",
           "Kino"
          ],
          [
           "Charleston",
           "Kino"
          ],
          [
           "Donau",
           "Kino"
          ],
          [
           "Each and Every (Ambient Mix)",
           "Kino"
          ],
          [
           "Each and Every (Piano)",
           "Kino"
          ],
          [
           "Each and Every",
           "Kino"
          ],
          [
           "Erlöst  Redeemed",
           "Kino"
          ],
          [
           "Gathering",
           "Kino"
          ],
          [
           "God Bless Us, Every One",
           "Kino"
          ],
          [
           "Hearth",
           "Kino"
          ],
          [
           "Hēo",
           "Kino"
          ],
          [
           "In Earnest",
           "Kino"
          ],
          [
           "Leinwand (Piano)",
           "Kino"
          ],
          [
           "Leinwand",
           "Kino"
          ],
          [
           "Lightly Tread",
           "Kino"
          ],
          [
           "Lone",
           "Kino"
          ],
          [
           "Many Colors",
           "Kino"
          ],
          [
           "Merrily, Merrily",
           "Kino"
          ],
          [
           "O Tannenbaum",
           "Kino"
          ],
          [
           "Presidio",
           "Kino"
          ],
          [
           "Rambuteau",
           "Kino"
          ],
          [
           "Seafarer's Quartet",
           "Kino"
          ],
          [
           "Seems",
           "Kino"
          ],
          [
           "Silent Night",
           "Kino"
          ],
          [
           "Silver Lake",
           "Kino"
          ],
          [
           "St John's",
           "Kino"
          ],
          [
           "Sunshine - Original",
           "Kino"
          ],
          [
           "Swell",
           "Kino"
          ],
          [
           "The Holly and the Ivy",
           "Kino"
          ],
          [
           "The Weight Unbearable (Piano)",
           "Kino"
          ],
          [
           "The Weight Unbearable",
           "Kino"
          ],
          [
           "Till",
           "Kino"
          ],
          [
           "Trio in E-flat Minor",
           "Kino"
          ],
          [
           "Under",
           "Kino"
          ],
          [
           "Water Lilies",
           "Kino"
          ],
          [
           "Wide Awake",
           "Kino"
          ],
          [
           "Willeth",
           "Kino"
          ],
          [
           "Wolden",
           "Kino"
          ],
          [
           "Yule",
           "Kino"
          ],
          [
           "Piano Sonata No. 14 in C-Sharp Minor, Op. 27 No. 2 “Moonlight”- I. Adagio sostenuto",
           "Ludwig van Beethoven"
          ]
         ],
         "hovertemplate": "playlist=kino<br>TSNE1=%{x}<br>TSNE2=%{y}<br>song_name=%{customdata[0]}<br>artist=%{customdata[1]}<extra></extra>",
         "legendgroup": "kino",
         "marker": {
          "color": "#636efa",
          "symbol": "circle"
         },
         "mode": "markers",
         "name": "kino",
         "orientation": "v",
         "showlegend": true,
         "x": [
          102.82564544677734,
          104.15757751464844,
          41.97932434082031,
          51.15043258666992,
          49.836387634277344,
          82.53286743164062,
          65.5614013671875,
          72.50605773925781,
          73.2879867553711,
          20.844453811645508,
          114.35906982421875,
          112.80278015136719,
          63.33331298828125,
          6.061720848083496,
          24.528221130371094,
          91.23761749267578,
          106.60163879394531,
          100.86858367919922,
          84.93377685546875,
          114.71881866455078,
          113.89537048339844,
          102.29244232177734,
          95.34219360351562,
          28.424301147460938,
          101.45636749267578,
          104.51466369628906,
          54.97725296020508,
          112.01008605957031,
          76.30419158935547,
          104.82633209228516,
          104.0625,
          72.35174560546875,
          10.859498023986816,
          -33.58394241333008,
          -60.470584869384766,
          49.22525405883789,
          114.68302154541016,
          113.89153289794922,
          93.50890350341797,
          70.14025115966797,
          99.75947570800781,
          107.65782928466797,
          66.85566711425781,
          89.54090118408203,
          48.00788879394531,
          107.71216583251953,
          104.06172943115234
         ],
         "xaxis": "x",
         "y": [
          12.029932975769043,
          10.071752548217773,
          8.616707801818848,
          -6.0742645263671875,
          -6.950887203216553,
          6.859352111816406,
          -13.564998626708984,
          -21.101316452026367,
          -18.85418128967285,
          23.707775115966797,
          -16.94820785522461,
          -17.36575698852539,
          -25.1248836517334,
          -12.948932647705078,
          26.364072799682617,
          5.721811771392822,
          -14.879526138305664,
          9.333606719970703,
          22.01201820373535,
          -12.003836631774902,
          -9.57515811920166,
          -13.274319648742676,
          12.335301399230957,
          -4.1375412940979,
          -16.533218383789062,
          -10.537131309509277,
          24.13555145263672,
          -11.1881685256958,
          -16.022216796875,
          12.167896270751953,
          -8.307982444763184,
          -23.535173416137695,
          4.077019214630127,
          41.72231674194336,
          -51.83192443847656,
          -27.168991088867188,
          -14.0905179977417,
          -7.408239364624023,
          24.866117477416992,
          -22.175674438476562,
          3.883483648300171,
          -12.853808403015137,
          -15.482840538024902,
          17.69327735900879,
          29.281715393066406,
          10.145216941833496,
          14.377259254455566
         ],
         "yaxis": "y",
         "type": "scatter"
        },
        {
         "customdata": [
          [
           "But it's Destiny",
           "10cm"
          ],
          [
           "나의 어깨에 기대어요",
           "10cm"
          ],
          [
           "Is You",
           "AILEE"
          ],
          [
           "How can I love the heartbreak, you're the one I love",
           "AKMU"
          ],
          [
           "How can I love the heartbreak, you`re the one I love",
           "AKMU"
          ],
          [
           "Amusement Park",
           "BAEKHYUN"
          ],
          [
           "너를 사랑하고 있어",
           "BAEKHYUN"
          ],
          [
           "Beautiful goodbye",
           "CHEN"
          ],
          [
           "Flower",
           "CHEN"
          ],
          [
           "I'll be there",
           "CHEN"
          ],
          [
           "My dear",
           "CHEN"
          ],
          [
           "Sorry not sorry",
           "CHEN"
          ],
          [
           "Everytime",
           "CHEN"
          ],
          [
           "Wish",
           "Choi Yuree"
          ],
          [
           "Beautiful",
           "Crush"
          ],
          [
           "Let Us Go",
           "Crush"
          ],
          [
           "No Words",
           "Crush"
          ],
          [
           "My Love",
           "DAVICHI"
          ],
          [
           "Please Don't Cry",
           "DAVICHI"
          ],
          [
           "Sunset",
           "DAVICHI"
          ],
          [
           "노력해볼게요 I'll try",
           "DAY6"
          ],
          [
           "I'm In Love With You",
           "Dvwn"
          ],
          [
           "No Problem",
           "Dvwn"
          ],
          [
           "긴 밤이 오면",
           "Eddy Kim"
          ],
          [
           "Rain or Shine",
           "Elaine"
          ],
          [
           "Hate Everything - Korean Version",
           "GSoul"
          ],
          [
           "기억해줘요 내 모든 날과 그때를",
           "Gummy"
          ],
          [
           "Slowly Fall",
           "Ha Hyun Sang"
          ],
          [
           "내 맘을 볼 수 있나요",
           "HEIZE"
          ],
          [
           "Deeply",
           "HEN"
          ],
          [
           "To You",
           "HEN"
          ],
          [
           "It's You",
           "HENRY"
          ],
          [
           "Untitled Love Song",
           "HENRY"
          ],
          [
           "Ending Scene",
           "IU"
          ],
          [
           "Give You My Heart",
           "IU"
          ],
          [
           "Love poem",
           "IU"
          ],
          [
           "My sea",
           "IU"
          ],
          [
           "Holiday",
           "JeHwi"
          ],
          [
           "Stardust love song",
           "JIHYO"
          ],
          [
           "What Lies Ahead",
           "Joe Layne"
          ],
          [
           "Times Like This",
           "Josh Daniel"
          ],
          [
           "Do you want to walk with me (Romance 101 X Jukjae)",
           "Jukjae"
          ],
          [
           "The Days Like Pictures",
           "Jukjae"
          ],
          [
           "나를 찾아서",
           "Jukjae"
          ],
          [
           "별 보러 가자",
           "Jukjae"
          ],
          [
           "Day & Night",
           "Jung Seung Hwan"
          ],
          [
           "Because I Miss You",
           "Jung Yong Hwa"
          ],
          [
           "For First-time Lovers (Banmal-song)",
           "Jung Yong Hwa"
          ],
          [
           "I Go",
           "Kei (Kim Ji Yeon)"
          ],
          [
           "보고싶다 (From. '드라마 천국의 계단')",
           "Kim Bum Soo"
          ],
          [
           "One Day",
           "Kim Feel"
          ],
          [
           "Someday, The Boy",
           "Kim Feel"
          ],
          [
           "Vacance in September",
           "KIM JAE HWAN"
          ],
          [
           "All of My Days",
           "KIMSEJEONG"
          ],
          [
           "If Only",
           "KIMSEJEONG"
          ],
          [
           "Lonely Night",
           "Kwon Jin Ah"
          ],
          [
           "The End",
           "Kwon Jin Ah"
          ],
          [
           "I Won't Heartbreaken",
           "Lee KwangHee"
          ],
          [
           "In My Heart",
           "LIM YEON"
          ],
          [
           "Lost",
           "LIM YEON"
          ],
          [
           "Say Yes",
           "Loco"
          ],
          [
           "Be There For You",
           "NCT DREAM"
          ],
          [
           "Rainbow - Acoustic Version",
           "O.WHEN"
          ],
          [
           "Me After You",
           "Paul Kim"
          ],
          [
           "안녕",
           "Paul Kim"
          ],
          [
           "But I'm Trying to Tell You How Much I Love You (With Moonbit)",
           "saevom"
          ],
          [
           "For You",
           "Sam Kim"
          ],
          [
           "Sunny Day Rainy Day (feat. Kassy)",
           "Sanchez"
          ],
          [
           "Your world",
           "Seol Hoseung (SURL)"
          ],
          [
           "Grown Ups",
           "Sondia"
          ],
          [
           "Hug",
           "Sondia"
          ],
          [
           "Our Souls at Night",
           "Sondia"
          ],
          [
           "우린 친구뿐일까",
           "Sondia"
          ],
          [
           "She",
           "Standing Egg"
          ],
          [
           "Miracle (Feat. Paul Kim)",
           "Stella Jang"
          ],
          [
           "One more time, One more chance",
           "Sung Si Kyung"
          ],
          [
           "君がいるよ",
           "Sung Si Kyung"
          ],
          [
           "Two People",
           "SURAN"
          ],
          [
           "Inevitable",
           "Suzy"
          ],
          [
           "Starlight",
           "TAEIL"
          ],
          [
           "그대라는 시",
           "TAEYEON"
          ],
          [
           "Two Words",
           "WENDY"
          ],
          [
           "What If Love",
           "WENDY"
          ],
          [
           "내일도 또 내일도 Tomorrow After Tomorrow",
           "WISUE"
          ],
          [
           "Your Existence",
           "Wonstein"
          ],
          [
           "Free",
           "Xydo"
          ],
          [
           "너만 너만 너만",
           "Yang Dail"
          ],
          [
           "With me",
           "Yang Dail"
          ],
          [
           "Here I Am Again",
           "Yerin Baek"
          ],
          [
           "Maze",
           "YONGZOO"
          ],
          [
           "ALWAYS",
           "Yoon Mirae"
          ],
          [
           "Flower",
           "Yoon Mirae"
          ],
          [
           "You Are My World",
           "Yoon Mirae"
          ],
          [
           "I Just Want To Stay With You",
           "Zion.T"
          ],
          [
           "Faith",
           "이준화"
          ]
         ],
         "hovertemplate": "playlist=korean-ost<br>TSNE1=%{x}<br>TSNE2=%{y}<br>song_name=%{customdata[0]}<br>artist=%{customdata[1]}<extra></extra>",
         "legendgroup": "korean-ost",
         "marker": {
          "color": "#EF553B",
          "symbol": "circle"
         },
         "mode": "markers",
         "name": "korean-ost",
         "orientation": "v",
         "showlegend": true,
         "x": [
          -47.567047119140625,
          -13.143450736999512,
          -34.16008758544922,
          -23.92762565612793,
          -23.077112197875977,
          -64.23454284667969,
          -13.059962272644043,
          -7.143955707550049,
          -11.568922996520996,
          -16.741641998291016,
          -1.3302550315856934,
          -15.968620300292969,
          -38.054439544677734,
          56.821231842041016,
          -17.373083114624023,
          -21.2205867767334,
          -5.449625492095947,
          -34.571346282958984,
          -35.33964920043945,
          -31.81659698486328,
          -57.26402282714844,
          -20.69361114501953,
          -19.868440628051758,
          -18.799392700195312,
          -30.9498291015625,
          -16.020776748657227,
          -14.754762649536133,
          0.7623381018638611,
          -22.425586700439453,
          -25.161670684814453,
          -30.613201141357422,
          -32.74153518676758,
          -65.12716674804688,
          -37.08843231201172,
          -34.01082992553711,
          -16.85591697692871,
          -36.84852981567383,
          -63.32779312133789,
          -34.13656997680664,
          -77.07710266113281,
          -66.70149993896484,
          -10.925660133361816,
          -9.39031982421875,
          -60.18658447265625,
          -10.787087440490723,
          -5.73775053024292,
          -19.253292083740234,
          -58.425655364990234,
          -56.06081008911133,
          -12.177499771118164,
          -32.509395599365234,
          -7.355615615844727,
          -54.27285385131836,
          -30.230438232421875,
          -37.86293411254883,
          -38.86619186401367,
          -55.15422439575195,
          69.7519760131836,
          -42.839141845703125,
          -24.211950302124023,
          -86.44869995117188,
          -48.749515533447266,
          -8.011722564697266,
          -1.8560937643051147,
          -11.198662757873535,
          -39.14492416381836,
          -68.8223876953125,
          -75.38068389892578,
          -14.215888977050781,
          -15.145600318908691,
          -16.792783737182617,
          -12.728761672973633,
          -16.542999267578125,
          -5.8842244148254395,
          -18.408252716064453,
          -14.186870574951172,
          -11.751201629638672,
          -38.620479583740234,
          -28.804162979125977,
          -43.39436340332031,
          -12.663436889648438,
          -15.359753608703613,
          -43.1027946472168,
          -24.668127059936523,
          -70.96570587158203,
          -46.96080780029297,
          -12.90158748626709,
          -55.56331253051758,
          -29.09366226196289,
          -2.892613172531128,
          -8.6482572555542,
          -7.058538913726807,
          -17.057445526123047,
          -46.65950393676758,
          -28.513219833374023
         ],
         "xaxis": "x",
         "y": [
          14.499444007873535,
          -14.051657676696777,
          -42.055049896240234,
          -57.42875289916992,
          -58.529964447021484,
          -41.03993606567383,
          -3.9922924041748047,
          -25.74045181274414,
          -23.81590461730957,
          -18.942224502563477,
          -12.95169448852539,
          -22.3341121673584,
          1.4392629861831665,
          5.03004264831543,
          -16.66657257080078,
          -22.042829513549805,
          -20.786720275878906,
          -36.587158203125,
          -34.9482536315918,
          -36.399269104003906,
          -44.509971618652344,
          21.225027084350586,
          -0.794430673122406,
          -3.771461248397827,
          -54.14448928833008,
          -26.528764724731445,
          -10.154684066772461,
          -4.465015888214111,
          -48.754554748535156,
          -60.126705169677734,
          -32.922672271728516,
          -18.00438117980957,
          -1.9169708490371704,
          -42.580753326416016,
          -23.813186645507812,
          1.1941187381744385,
          -20.452373504638672,
          21.37525749206543,
          -39.675167083740234,
          -34.478515625,
          -28.94702911376953,
          11.628604888916016,
          17.181974411010742,
          20.40804100036621,
          13.766613006591797,
          -22.645238876342773,
          41.3160400390625,
          21.391979217529297,
          -9.313372611999512,
          15.10028076171875,
          -15.432291030883789,
          -13.493721961975098,
          1.0852000713348389,
          -40.58736038208008,
          -34.91814422607422,
          -12.637835502624512,
          -43.82048034667969,
          24.03921127319336,
          -28.844234466552734,
          -48.357688903808594,
          -38.874916076660156,
          21.23601722717285,
          18.792068481445312,
          -4.291656970977783,
          -6.745911598205566,
          -44.15962600708008,
          -52.7686882019043,
          -2.8257532119750977,
          28.17477798461914,
          18.146377563476562,
          25.749109268188477,
          -34.279842376708984,
          16.56064796447754,
          9.219118118286133,
          22.839670181274414,
          -21.277774810791016,
          -19.847938537597656,
          -38.55048751831055,
          -30.205486297607422,
          38.284976959228516,
          -31.874441146850586,
          9.652092933654785,
          4.163265705108643,
          -46.50461196899414,
          -51.314697265625,
          37.918216705322266,
          -9.635723114013672,
          15.304720878601074,
          -37.06597137451172,
          -22.92448616027832,
          20.656641006469727,
          13.943551063537598,
          -10.187799453735352,
          19.798242568969727,
          -17.57248306274414
         ],
         "yaxis": "y",
         "type": "scatter"
        },
        {
         "customdata": [
          [
           "A Speck of Light - Reimagined",
           "Lights & Motion"
          ],
          [
           "A Speck of Light",
           "Lights & Motion"
          ],
          [
           "All the Way",
           "Lights & Motion"
          ],
          [
           "Anamorphic",
           "Lights & Motion"
          ],
          [
           "Anchor",
           "Lights & Motion"
          ],
          [
           "Anomaly",
           "Lights & Motion"
          ],
          [
           "Antlers",
           "Lights & Motion"
          ],
          [
           "Arms Wide Open",
           "Lights & Motion"
          ],
          [
           "As the World Goes Away",
           "Lights & Motion"
          ],
          [
           "As They Sleep",
           "Lights & Motion"
          ],
          [
           "Aurora",
           "Lights & Motion"
          ],
          [
           "Deafening Silence",
           "Lights & Motion"
          ],
          [
           "DNA",
           "Lights & Motion"
          ],
          [
           "Equals",
           "Lights & Motion"
          ],
          [
           "Everest",
           "Lights & Motion"
          ],
          [
           "Exhale",
           "Lights & Motion"
          ],
          [
           "Feathers",
           "Lights & Motion"
          ],
          [
           "Fireflies",
           "Lights & Motion"
          ],
          [
           "From Dust",
           "Lights & Motion"
          ],
          [
           "Glistening - Reimagined",
           "Lights & Motion"
          ],
          [
           "Glistening",
           "Lights & Motion"
          ],
          [
           "Glow",
           "Lights & Motion"
          ],
          [
           "I See You (feat. Frida Sundemo)",
           "Lights & Motion"
          ],
          [
           "I See You - Reimagined (feat. Frida Sundemo)",
           "Lights & Motion"
          ],
          [
           "Lucid Dreaming",
           "Lights & Motion"
          ],
          [
           "Northern Lights",
           "Lights & Motion"
          ],
          [
           "Pandora",
           "Lights & Motion"
          ],
          [
           "Panic Attack",
           "Lights & Motion"
          ],
          [
           "Paper Wings",
           "Lights & Motion"
          ],
          [
           "Parachutes",
           "Lights & Motion"
          ],
          [
           "Particle Storm",
           "Lights & Motion"
          ],
          [
           "Perfect Symmetry",
           "Lights & Motion"
          ],
          [
           "Phoenix",
           "Lights & Motion"
          ],
          [
           "Reanimation - Revisited 10th Anniversary Edition",
           "Lights & Motion"
          ],
          [
           "Reborn",
           "Lights & Motion"
          ],
          [
           "Separated Hearts - Reimagined",
           "Lights & Motion"
          ],
          [
           "Separated Hearts",
           "Lights & Motion"
          ],
          [
           "Silver Lining",
           "Lights & Motion"
          ],
          [
           "Sleeping Giant",
           "Lights & Motion"
          ],
          [
           "Sypher",
           "Lights & Motion"
          ],
          [
           "The First Day",
           "Lights & Motion"
          ],
          [
           "The Great Wide Open - Reimagined",
           "Lights & Motion"
          ],
          [
           "The Great Wide Open",
           "Lights & Motion"
          ],
          [
           "The Moments Before",
           "Lights & Motion"
          ],
          [
           "The Spectacular Quiet",
           "Lights & Motion"
          ],
          [
           "The World I Remember",
           "Lights & Motion"
          ],
          [
           "This Explosion Within",
           "Lights & Motion"
          ],
          [
           "Touching Sky",
           "Lights & Motion"
          ],
          [
           "We Only Have Forever",
           "Lights & Motion"
          ],
          [
           "When Everything Is Falling",
           "Lights & Motion"
          ],
          [
           "Wilderness",
           "Lights & Motion"
          ],
          [
           "Winter Solstice",
           "Lights & Motion"
          ],
          [
           "Wolves (feat. Johan Hasselblom)",
           "Lights & Motion"
          ],
          [
           "Wolves - Reimagined (feat. Johan Hasselblom)",
           "Lights & Motion"
          ],
          [
           "Woven",
           "Lights & Motion"
          ],
          [
           "Year Zero",
           "Lights & Motion"
          ]
         ],
         "hovertemplate": "playlist=lights-and-motion<br>TSNE1=%{x}<br>TSNE2=%{y}<br>song_name=%{customdata[0]}<br>artist=%{customdata[1]}<extra></extra>",
         "legendgroup": "lights-and-motion",
         "marker": {
          "color": "#00cc96",
          "symbol": "circle"
         },
         "mode": "markers",
         "name": "lights-and-motion",
         "orientation": "v",
         "showlegend": true,
         "x": [
          52.60567855834961,
          11.115818977355957,
          30.20944595336914,
          69.73780059814453,
          30.225326538085938,
          57.842010498046875,
          34.41508865356445,
          27.071550369262695,
          10.260519027709961,
          65.22341918945312,
          41.39912414550781,
          17.004924774169922,
          42.78567123413086,
          74.03235626220703,
          27.514076232910156,
          15.434980392456055,
          33.83338165283203,
          10.528685569763184,
          34.139198303222656,
          38.14641571044922,
          36.16636657714844,
          53.31545639038086,
          -54.66053009033203,
          -33.636131286621094,
          39.882164001464844,
          94.34869384765625,
          -26.713144302368164,
          33.11764907836914,
          103.30718994140625,
          10.286181449890137,
          11.324891090393066,
          66.3958740234375,
          20.022857666015625,
          24.32131576538086,
          26.06048583984375,
          28.92613410949707,
          29.678804397583008,
          32.17515563964844,
          25.472171783447266,
          22.3614501953125,
          71.65216827392578,
          43.31476974487305,
          37.16034698486328,
          38.1797981262207,
          -2.34631609916687,
          34.590023040771484,
          4.998335838317871,
          27.307788848876953,
          33.475555419921875,
          44.17230987548828,
          34.723541259765625,
          51.49561309814453,
          36.3007698059082,
          -6.643332481384277,
          42.81563949584961,
          36.535335540771484
         ],
         "xaxis": "x",
         "y": [
          17.58184051513672,
          20.39122200012207,
          13.37898063659668,
          2.179150104522705,
          39.271339416503906,
          -16.8956241607666,
          32.24726486206055,
          45.04726791381836,
          2.4908008575439453,
          -4.086700916290283,
          24.245729446411133,
          23.305086135864258,
          49.733150482177734,
          -13.721647262573242,
          21.176193237304688,
          6.594244003295898,
          23.571298599243164,
          -6.452799320220947,
          34.620628356933594,
          -10.024395942687988,
          -8.788713455200195,
          21.97394561767578,
          -20.33121109008789,
          -0.4549160301685333,
          -8.81612491607666,
          1.8720784187316895,
          48.85465621948242,
          44.1771125793457,
          -6.463518142700195,
          24.157135009765625,
          -8.05655574798584,
          21.360126495361328,
          25.514490127563477,
          45.56120681762695,
          15.492415428161621,
          -7.890906810760498,
          -9.601812362670898,
          16.583404541015625,
          37.63121032714844,
          27.891687393188477,
          21.078601837158203,
          23.771699905395508,
          14.55298900604248,
          39.76569366455078,
          18.3413028717041,
          39.209712982177734,
          26.71758460998535,
          38.62554168701172,
          45.952415466308594,
          52.35673141479492,
          49.45026779174805,
          18.68379783630371,
          46.25864791870117,
          24.52503776550293,
          47.4693603515625,
          38.88857650756836
         ],
         "yaxis": "y",
         "type": "scatter"
        },
        {
         "customdata": [
          [
           "Another Wave from You",
           "M83"
          ],
          [
           "Claudia Lewis",
           "M83"
          ],
          [
           "Echoes of Mine",
           "M83"
          ],
          [
           "Fountains",
           "M83"
          ],
          [
           "Intro",
           "M83"
          ],
          [
           "Klaus I Love You",
           "M83"
          ],
          [
           "Midnight City",
           "M83"
          ],
          [
           "My Tears Are Becoming a Sea",
           "M83"
          ],
          [
           "New Map",
           "M83"
          ],
          [
           "Ok Pal",
           "M83"
          ],
          [
           "Outro",
           "M83"
          ],
          [
           "Raconte-moi une histoire",
           "M83"
          ],
          [
           "Reunion",
           "M83"
          ],
          [
           "Soon, My Friend",
           "M83"
          ],
          [
           "Splendor",
           "M83"
          ],
          [
           "Steve Mcqueen",
           "M83"
          ],
          [
           "This Bright Flash",
           "M83"
          ],
          [
           "Train to Pluton",
           "M83"
          ],
          [
           "Wait",
           "M83"
          ],
          [
           "When Will You Come Home",
           "M83"
          ],
          [
           "Where the Boats Go",
           "M83"
          ],
          [
           "Year One, One Ufo",
           "M83"
          ],
          [
           "Ashes of Our Fathers",
           "M83"
          ],
          [
           "Canyon Battle",
           "M83"
          ],
          [
           "Earth 2077",
           "M83"
          ],
          [
           "Fearful Odds",
           "M83"
          ],
          [
           "I'm Sending You Away",
           "M83"
          ],
          [
           "Jack's Dream",
           "M83"
          ],
          [
           "Losing Control",
           "M83"
          ],
          [
           "Odyssey Rescue",
           "M83"
          ],
          [
           "Radiation Zone",
           "M83"
          ],
          [
           "Raven Rock",
           "M83"
          ],
          [
           "StarWaves",
           "M83"
          ],
          [
           "Tech 49",
           "M83"
          ],
          [
           "Temples of Our Gods",
           "M83"
          ],
          [
           "Undimmed by Time, Unbound by Death",
           "M83"
          ],
          [
           "Waking Up",
           "M83"
          ],
          [
           "You Can't Save Her",
           "M83"
          ],
          [
           "Oblivion",
           "M83"
          ]
         ],
         "hovertemplate": "playlist=m83<br>TSNE1=%{x}<br>TSNE2=%{y}<br>song_name=%{customdata[0]}<br>artist=%{customdata[1]}<extra></extra>",
         "legendgroup": "m83",
         "marker": {
          "color": "#ab63fa",
          "symbol": "circle"
         },
         "mode": "markers",
         "name": "m83",
         "orientation": "v",
         "showlegend": true,
         "x": [
          10.694518089294434,
          -40.86076736450195,
          -20.21284294128418,
          16.7670955657959,
          -35.00099182128906,
          -33.36394500732422,
          -45.708892822265625,
          10.089278221130371,
          -41.478572845458984,
          -39.08063888549805,
          -61.58233642578125,
          -37.75794219970703,
          -35.65033721923828,
          -13.225296974182129,
          36.4387092590332,
          -36.22943878173828,
          -22.56916046142578,
          55.021766662597656,
          -19.15064239501953,
          60.949161529541016,
          67.111572265625,
          -33.93175506591797,
          48.0417594909668,
          46.020469665527344,
          33.04035949707031,
          47.177978515625,
          51.72892379760742,
          74.3046646118164,
          44.771263122558594,
          67.85511016845703,
          33.69920349121094,
          51.549232482910156,
          36.70630645751953,
          77.94657897949219,
          54.45000076293945,
          52.58422088623047,
          52.27537155151367,
          50.57363510131836,
          19.802196502685547
         ],
         "xaxis": "x",
         "y": [
          17.936386108398438,
          58.777587890625,
          43.819129943847656,
          7.35469913482666,
          53.094322204589844,
          51.14430236816406,
          47.627166748046875,
          26.485647201538086,
          43.81076431274414,
          58.35429763793945,
          16.924793243408203,
          42.270355224609375,
          57.99419403076172,
          39.541046142578125,
          -16.07161521911621,
          56.24296951293945,
          47.17521286010742,
          31.66900634765625,
          39.67525863647461,
          -32.53205871582031,
          28.126943588256836,
          59.13079071044922,
          46.68907928466797,
          43.79717254638672,
          49.91706085205078,
          42.2414436340332,
          28.714887619018555,
          16.941679000854492,
          37.61684036254883,
          22.690671920776367,
          18.723533630371094,
          26.978689193725586,
          3.4999196529388428,
          30.412290573120117,
          38.224266052246094,
          -24.988285064697266,
          37.61343002319336,
          30.73344612121582,
          28.040756225585938
         ],
         "yaxis": "y",
         "type": "scatter"
        },
        {
         "customdata": [
          [
           "A Moment Apart",
           "ODESZA"
          ],
          [
           "Across The Room (feat. Leon Bridges)",
           "ODESZA"
          ],
          [
           "Boy",
           "ODESZA"
          ],
          [
           "Corners Of The Earth (feat. RY X)",
           "ODESZA"
          ],
          [
           "Divide (feat. Kelsey Bulkin)",
           "ODESZA"
          ],
          [
           "Everything At Your Feet (feat. The Chamanas)",
           "ODESZA"
          ],
          [
           "Falls (feat. Sasha Alex Sloan)",
           "ODESZA"
          ],
          [
           "Falls (Reprise) (feat. Sasha Alex Sloan)",
           "ODESZA"
          ],
          [
           "Falls (Reprise) - Instrumental",
           "ODESZA"
          ],
          [
           "Higher Ground (feat. Naomi Wild)",
           "ODESZA"
          ],
          [
           "Higher Ground (Reprise) (feat. Naomi Wild)",
           "ODESZA"
          ],
          [
           "Higher Ground (Reprise) - Instrumental",
           "ODESZA"
          ],
          [
           "Intro",
           "ODESZA"
          ],
          [
           "It’s Only (feat. Zyra) - ODESZA VIP Remix",
           "ODESZA"
          ],
          [
           "Just A Memory (feat. Regina Spektor)",
           "ODESZA"
          ],
          [
           "La Ciudad",
           "ODESZA"
          ],
          [
           "Late Night",
           "ODESZA"
          ],
          [
           "Line Of Sight (feat. WYNNE & Mansionair)",
           "ODESZA"
          ],
          [
           "Line Of Sight (Reprise) (feat. WYNNE & Mansionair)",
           "ODESZA"
          ],
          [
           "Line Of Sight (Reprise) - Instrumental",
           "ODESZA"
          ],
          [
           "Loyal",
           "ODESZA"
          ],
          [
           "Memories That You Call (feat. Monsoonsiren) - ODESZA & Golden Features VIP Remix",
           "ODESZA"
          ],
          [
           "Meridian",
           "ODESZA"
          ],
          [
           "Show Me",
           "ODESZA"
          ],
          [
           "Thin Floors And Tall Ceilings",
           "ODESZA"
          ]
         ],
         "hovertemplate": "playlist=odesza<br>TSNE1=%{x}<br>TSNE2=%{y}<br>song_name=%{customdata[0]}<br>artist=%{customdata[1]}<extra></extra>",
         "legendgroup": "odesza",
         "marker": {
          "color": "#FFA15A",
          "symbol": "circle"
         },
         "mode": "markers",
         "name": "odesza",
         "orientation": "v",
         "showlegend": true,
         "x": [
          -34.99169921875,
          -41.15426254272461,
          -91.74874114990234,
          -75.83978271484375,
          -41.69070053100586,
          -36.2324104309082,
          -41.89089584350586,
          -32.33052062988281,
          -4.578889846801758,
          -38.2610969543457,
          4.418309688568115,
          32.78228759765625,
          -69.56747436523438,
          -39.760520935058594,
          -74.79658508300781,
          -41.020565032958984,
          -41.89278793334961,
          -37.71855926513672,
          3.4768009185791016,
          35.50783157348633,
          -31.287683486938477,
          -66.8397216796875,
          -44.32391357421875,
          -21.55008888244629,
          31.883895874023438
         ],
         "xaxis": "x",
         "y": [
          6.983405590057373,
          -8.41318130493164,
          -29.895456314086914,
          -48.525421142578125,
          6.515142440795898,
          0.06488595902919769,
          8.206775665283203,
          -50.56169509887695,
          -14.65181827545166,
          14.6580228805542,
          -7.3639936447143555,
          11.228002548217773,
          -46.2222785949707,
          37.20242691040039,
          -35.165103912353516,
          34.13887405395508,
          -4.918646335601807,
          7.443751335144043,
          -5.7833476066589355,
          4.937906742095947,
          49.35054397583008,
          -39.926483154296875,
          30.7419376373291,
          -1.2293862104415894,
          3.8272159099578857
         ],
         "yaxis": "y",
         "type": "scatter"
        },
        {
         "customdata": [
          [
           "April 10, 2019- Powehi - Image of a Black Hole",
           "Sleeping At Last"
          ],
          [
           "August 12, 2018- Perseid Meteor Shower",
           "Sleeping At Last"
          ],
          [
           "August 21, 2017- Total Solar Eclipse",
           "Sleeping At Last"
          ],
          [
           "December 13, 2017- Geminid Meteor Shower",
           "Sleeping At Last"
          ],
          [
           "December 17, 2018- Farout",
           "Sleeping At Last"
          ],
          [
           "December 21, 2020- The Great Conjunction",
           "Sleeping At Last"
          ],
          [
           "December 25, 2021- Webb Space Telescope - Launch",
           "Sleeping At Last"
          ],
          [
           "February 1, 2023- C2022 E3 - Comet Ztf",
           "Sleeping At Last"
          ],
          [
           "February 13, 2019- Opportunity - Mission Complete",
           "Sleeping At Last"
          ],
          [
           "February 18, 2021- Perseverance - Mars Landing",
           "Sleeping At Last"
          ],
          [
           "January 30, 2020- Spitzer - Final Voyage",
           "Sleeping At Last"
          ],
          [
           "January 31, 2018- Super Blue Blood Moon",
           "Sleeping At Last"
          ],
          [
           "July 22, 2020- C  2020 F3 - Comet Neowise",
           "Sleeping At Last"
          ],
          [
           "July 27, 2018- Total Lunar Eclipse",
           "Sleeping At Last"
          ],
          [
           "July 4, 2020- Aphelion",
           "Sleeping At Last"
          ],
          [
           "June 24, 2022- Parade of Planets",
           "Sleeping At Last"
          ],
          [
           "June 30, 2018- Pds 70b (Birth of a Planet)",
           "Sleeping At Last"
          ],
          [
           "October 30, 2018- Kepler - Goodnight",
           "Sleeping At Last"
          ],
          [
           "September 15, 2017- Cassini - The Grand Finale",
           "Sleeping At Last"
          ]
         ],
         "hovertemplate": "playlist=sleeping-at-last<br>TSNE1=%{x}<br>TSNE2=%{y}<br>song_name=%{customdata[0]}<br>artist=%{customdata[1]}<extra></extra>",
         "legendgroup": "sleeping-at-last",
         "marker": {
          "color": "#19d3f3",
          "symbol": "circle"
         },
         "mode": "markers",
         "name": "sleeping-at-last",
         "orientation": "v",
         "showlegend": true,
         "x": [
          46.87116622924805,
          35.34675598144531,
          57.693519592285156,
          58.270606994628906,
          62.43305587768555,
          61.902225494384766,
          30.00580406188965,
          58.18857192993164,
          38.16731262207031,
          55.35111618041992,
          40.18735122680664,
          64.75196838378906,
          67.06232452392578,
          49.684078216552734,
          41.780216217041016,
          67.6220932006836,
          -33.13397216796875,
          42.37969970703125,
          38.74265670776367
         ],
         "xaxis": "x",
         "y": [
          -29.998798370361328,
          -19.251638412475586,
          -32.653812408447266,
          -30.327695846557617,
          -27.053197860717773,
          -6.837489128112793,
          18.422588348388672,
          -18.626649856567383,
          -12.969523429870605,
          -27.167858123779297,
          -26.12891387939453,
          -6.53942346572876,
          -9.550524711608887,
          -11.234594345092773,
          -24.152488708496094,
          -11.639350891113281,
          -55.98140335083008,
          -21.2291202545166,
          -17.254396438598633
         ],
         "yaxis": "y",
         "type": "scatter"
        },
        {
         "customdata": [
          [
           "It's Ok If You Forget Me",
           "Astrid S"
          ],
          [
           "Young & Alive",
           "Bazzi"
          ],
          [
           "Paralyze",
           "Bjørnskov"
          ],
          [
           "San Diego",
           "BRDGS"
          ],
          [
           "Ear Candy",
           "Caye"
          ],
          [
           "12 Hours",
           "Chris James"
          ],
          [
           "My Universe",
           "Coldplay"
          ],
          [
           "Overdrive",
           "Conan Gray"
          ],
          [
           "Titanic",
           "Cosmo's Midnight"
          ],
          [
           "Champagne For Two",
           "Devin Kennedy"
          ],
          [
           "Another Round",
           "Elina"
          ],
          [
           "How",
           "Elina"
          ],
          [
           "Paper Planes",
           "Elina"
          ],
          [
           "Nirvana",
           "ELLIANA"
          ],
          [
           "Lost In Space",
           "Emmit Fenn"
          ],
          [
           "12-45 - Stripped",
           "Etham"
          ],
          [
           "Purpose - Stripped",
           "Etham"
          ],
          [
           "California",
           "Ethan Dufault"
          ],
          [
           "Hurt The Ones We Love The Most",
           "Evan Blum"
          ],
          [
           "Young Love",
           "Falcon"
          ],
          [
           "I Should've Told You",
           "Fiji Blue"
          ],
          [
           "Waves",
           "Fiji Blue"
          ],
          [
           "Healing",
           "FLETCHER"
          ],
          [
           "hold on",
           "flor"
          ],
          [
           "Automatic (feat. Jake Miller)",
           "Fly By Midnight"
          ],
          [
           "Lovely",
           "Fly By Midnight"
          ],
          [
           "Lonely",
           "Gatsby"
          ],
          [
           "dear me,",
           "Gentle Bones"
          ],
          [
           "I Wouldn't Know Any Better Than You",
           "Gentle Bones"
          ],
          [
           "So Far So Good",
           "Great Good Fine Ok"
          ],
          [
           "Falling",
           "Harry Styles"
          ],
          [
           "sometimes",
           "Heather Sommer"
          ],
          [
           "you heard me",
           "Heather Sommer"
          ],
          [
           "Crying Over You ◐",
           "HONNE"
          ],
          [
           "Day Dreaming",
           "Jack & Jack"
          ],
          [
           "Ross And Rachel",
           "Jake Miller"
          ],
          [
           "Showing You Off",
           "Jake Miller"
          ],
          [
           "Like No One Does",
           "Jake Scott"
          ],
          [
           "CWJBHN",
           "Jake Scott"
          ],
          [
           "drive all night",
           "joan"
          ],
          [
           "i loved you first",
           "joan"
          ],
          [
           "love somebody like you",
           "joan"
          ],
          [
           "magnetic",
           "joan"
          ],
          [
           "6 months",
           "John K"
          ],
          [
           "ilym (feat. ROSIE)",
           "John K"
          ],
          [
           "I Believe",
           "Jonas Brothers"
          ],
          [
           "I Quit Drinking",
           "Kelsea Ballerini"
          ],
          [
           "13",
           "LANY"
          ],
          [
           "dancing in the kitchen",
           "LANY"
          ],
          [
           "dna",
           "LANY"
          ],
          [
           "get away",
           "LANY"
          ],
          [
           "I Don't Wanna Love You Anymore",
           "LANY"
          ],
          [
           "if this is the last time",
           "LANY"
          ],
          [
           "ILYSB - STRIPPED",
           "LANY"
          ],
          [
           "ILYSB",
           "LANY"
          ],
          [
           "Let Me Know",
           "LANY"
          ],
          [
           "Malibu Nights",
           "LANY"
          ],
          [
           "Super Far",
           "LANY"
          ],
          [
           "Thru These Tears",
           "LANY"
          ],
          [
           "up to me",
           "LANY"
          ],
          [
           "you!",
           "LANY"
          ],
          [
           "Tattoos Together",
           "Lauv"
          ],
          [
           "When We Were Younger",
           "Loving Caliber"
          ],
          [
           "Love You Back",
           "Madeon"
          ],
          [
           "colorblind",
           "Mokita"
          ],
          [
           "London",
           "Mokita"
          ],
          [
           "Ready Yet",
           "Mokita"
          ],
          [
           "Shut Up I Love U",
           "Neptune"
          ],
          [
           "This Is Heaven",
           "Nick Jonas"
          ],
          [
           "Plot Twist",
           "NIKI"
          ],
          [
           "Waves",
           "Paige"
          ],
          [
           "Shelter",
           "Porter Robinson"
          ],
          [
           "Outsider",
           "Rachel Grae"
          ],
          [
           "Dandelions",
           "Ruth B."
          ],
          [
           "Lie",
           "Sasha Alex Sloan"
          ],
          [
           "Day Dreaming",
           "Sopha"
          ],
          [
           "I Always Wanna Die (Sometimes)",
           "The 1975"
          ],
          [
           "I'm In Love With You",
           "The 1975"
          ],
          [
           "It's Not Living (If It's Not With You)",
           "The 1975"
          ],
          [
           "Robbers",
           "The 1975"
          ],
          [
           "She's American",
           "The 1975"
          ],
          [
           "Somebody Else",
           "The 1975"
          ],
          [
           "Going Home",
           "The Aces"
          ],
          [
           "Sunset",
           "The Midnight"
          ],
          [
           "Say So",
           "The Sam Willows"
          ],
          [
           "I Can't Stop Thinking About You",
           "The Shadowboxers"
          ],
          [
           "Strawberries & Cigarettes",
           "Troye Sivan"
          ],
          [
           "If Only for Tonight",
           "Vacation Manor"
          ],
          [
           "rocket science",
           "vaultboy"
          ],
          [
           "no excuses",
           "Virginia To Vegas"
          ],
          [
           "Got A Little Crush On You",
           "Wildflowers"
          ],
          [
           "Talking To Myself",
           "Will Jay"
          ],
          [
           "Dance Like Nobody's Watching",
           "Yuna"
          ],
          [
           "dancing in the kitchen",
           "Zachary Knowles"
          ],
          [
           "stranger to me",
           "Zachary Knowles"
          ],
          [
           "could you love me while i hate myself",
           "Zeph"
          ]
         ],
         "hovertemplate": "playlist=synth-pop<br>TSNE1=%{x}<br>TSNE2=%{y}<br>song_name=%{customdata[0]}<br>artist=%{customdata[1]}<extra></extra>",
         "legendgroup": "synth-pop",
         "marker": {
          "color": "#FF6692",
          "symbol": "circle"
         },
         "mode": "markers",
         "name": "synth-pop",
         "orientation": "v",
         "showlegend": true,
         "x": [
          -90.6799545288086,
          -59.732662200927734,
          -59.3006591796875,
          -69.5328140258789,
          -43.99728775024414,
          -79.39493560791016,
          -48.32518768310547,
          -47.65117263793945,
          -79.44681549072266,
          -89.46556091308594,
          -56.4094123840332,
          -56.91865539550781,
          -15.660469055175781,
          -50.86093521118164,
          -61.49346923828125,
          -65.0263900756836,
          -65.14443969726562,
          -62.22944259643555,
          -80.3919448852539,
          -68.71564483642578,
          -85.77667236328125,
          -63.57231521606445,
          -80.89615631103516,
          -39.119728088378906,
          -34.19758987426758,
          -50.90576171875,
          -40.568538665771484,
          -79.3263931274414,
          -82.16647338867188,
          -60.293556213378906,
          -62.947017669677734,
          -78.61930084228516,
          -88.14330291748047,
          -56.40937042236328,
          -84.39218139648438,
          -18.104564666748047,
          -82.40474700927734,
          -65.53929901123047,
          -69.33321380615234,
          -41.09687805175781,
          -25.44298553466797,
          -52.952056884765625,
          -60.44688415527344,
          -59.1279296875,
          -20.474693298339844,
          -59.209136962890625,
          -38.1129150390625,
          -76.94168853759766,
          -59.26309585571289,
          -68.57005310058594,
          -56.81342315673828,
          -63.10842514038086,
          -26.722320556640625,
          -67.56852722167969,
          -65.16366577148438,
          -77.49526977539062,
          -63.431461334228516,
          -77.17066192626953,
          -71.66218566894531,
          -59.935264587402344,
          -23.333580017089844,
          -83.18867492675781,
          -11.321793556213379,
          -46.9818115234375,
          -86.72291564941406,
          -62.90890884399414,
          -80.51197814941406,
          -24.261734008789062,
          -52.30693435668945,
          -81.01654052734375,
          -82.3286361694336,
          -51.81064224243164,
          -25.152130126953125,
          -43.16733932495117,
          -63.722496032714844,
          -26.83320426940918,
          -29.608552932739258,
          -35.352447509765625,
          -46.6766357421875,
          -46.59922790527344,
          -78.8533935546875,
          -55.67741775512695,
          -41.44184112548828,
          -57.689247131347656,
          -67.04204559326172,
          -22.302352905273438,
          -50.60682678222656,
          -11.415800094604492,
          -68.09431457519531,
          -78.2699203491211,
          -57.505088806152344,
          -73.00920867919922,
          -79.48778533935547,
          -75.2126235961914,
          -58.86924362182617,
          -55.19411849975586
         ],
         "xaxis": "x",
         "y": [
          -37.26800537109375,
          -35.503021240234375,
          -6.5547990798950195,
          7.8163676261901855,
          -7.126153945922852,
          -8.640475273132324,
          37.01118469238281,
          8.066716194152832,
          8.270987510681152,
          -29.27642822265625,
          -19.002670288085938,
          -24.850116729736328,
          14.238987922668457,
          -18.113367080688477,
          -17.588855743408203,
          -54.67363357543945,
          -52.023475646972656,
          34.07326126098633,
          -17.356130599975586,
          -1.7427647113800049,
          -25.275571823120117,
          28.451261520385742,
          -36.422264099121094,
          13.321065902709961,
          -19.585887908935547,
          38.7140998840332,
          -10.2940092086792,
          -34.59541320800781,
          -31.35641860961914,
          31.487096786499023,
          -43.79990768432617,
          -45.547935485839844,
          -37.490604400634766,
          2.5080931186676025,
          -29.052507400512695,
          -22.320295333862305,
          7.214999198913574,
          -19.393413543701172,
          6.2815752029418945,
          39.396175384521484,
          6.839019775390625,
          23.55422019958496,
          29.440000534057617,
          -0.6178174614906311,
          3.2825634479522705,
          26.375255584716797,
          -31.500612258911133,
          -13.279122352600098,
          6.7063727378845215,
          -6.3537278175354,
          6.169142723083496,
          -50.45636749267578,
          9.367600440979004,
          -15.047654151916504,
          1.3772311210632324,
          -9.831393241882324,
          -47.28608322143555,
          -15.94458293914795,
          -9.296866416931152,
          8.295397758483887,
          8.310105323791504,
          -13.318592071533203,
          -1.995952844619751,
          10.348245620727539,
          -27.9532413482666,
          -1.7897570133209229,
          -15.538537979125977,
          -1.1918033361434937,
          36.679569244384766,
          -44.35835647583008,
          -42.42897415161133,
          40.78650665283203,
          -31.719383239746094,
          -23.8919620513916,
          -19.388835906982422,
          -57.52689743041992,
          48.49820327758789,
          42.2327995300293,
          40.472164154052734,
          34.11330032348633,
          9.892778396606445,
          22.484756469726562,
          -26.41211700439453,
          34.004432678222656,
          -26.39398956298828,
          -30.00096893310547,
          6.361822128295898,
          28.087251663208008,
          -24.18235969543457,
          5.113969802856445,
          -8.131681442260742,
          -0.9783642292022705,
          -43.43450164794922,
          2.4746696949005127,
          -37.50943374633789,
          -22.4908447265625
         ],
         "yaxis": "y",
         "type": "scatter"
        },
        {
         "customdata": [
          [
           "Allure",
           "Tony Anderson"
          ],
          [
           "Aurora",
           "Tony Anderson"
          ],
          [
           "Chasm",
           "Tony Anderson"
          ],
          [
           "Darkest Night",
           "Tony Anderson"
          ],
          [
           "Deep Waters - Original Sketch",
           "Tony Anderson"
          ],
          [
           "Deep Waters",
           "Tony Anderson"
          ],
          [
           "Delusion",
           "Tony Anderson"
          ],
          [
           "Eyes Wide Open - Cinematic Mix",
           "Tony Anderson"
          ],
          [
           "Eyes Wide Open",
           "Tony Anderson"
          ],
          [
           "Face of the Father",
           "Tony Anderson"
          ],
          [
           "Farthest Seas",
           "Tony Anderson"
          ],
          [
           "Finding Your Heart",
           "Tony Anderson"
          ],
          [
           "Halo",
           "Tony Anderson"
          ],
          [
           "High Tide",
           "Tony Anderson"
          ],
          [
           "Immanuel",
           "Tony Anderson"
          ],
          [
           "Immersion",
           "Tony Anderson"
          ],
          [
           "In the Distance",
           "Tony Anderson"
          ],
          [
           "Incision",
           "Tony Anderson"
          ],
          [
           "Like a Child - Cinematic Mix",
           "Tony Anderson"
          ],
          [
           "Low Tide",
           "Tony Anderson"
          ],
          [
           "Lune",
           "Tony Anderson"
          ],
          [
           "Morning's Wings",
           "Tony Anderson"
          ],
          [
           "Nightingale",
           "Tony Anderson"
          ],
          [
           "No Place on Earth",
           "Tony Anderson"
          ],
          [
           "Nocturne in Paris",
           "Tony Anderson"
          ],
          [
           "Perennial",
           "Tony Anderson"
          ],
          [
           "Resurrect",
           "Tony Anderson"
          ],
          [
           "Retour",
           "Tony Anderson"
          ],
          [
           "Shalom",
           "Tony Anderson"
          ],
          [
           "Slipstream",
           "Tony Anderson"
          ],
          [
           "Something Can Grow",
           "Tony Anderson"
          ],
          [
           "Spiriteaux",
           "Tony Anderson"
          ],
          [
           "The King",
           "Tony Anderson"
          ],
          [
           "The Way Home",
           "Tony Anderson"
          ],
          [
           "Thin Place - Abbreviated",
           "Tony Anderson"
          ],
          [
           "Thin Place",
           "Tony Anderson"
          ],
          [
           "We Are One",
           "Tony Anderson"
          ],
          [
           "Wir Sind Gleich",
           "Tony Anderson"
          ],
          [
           "Younger",
           "Tony Anderson"
          ],
          [
           "Éclosion",
           "Tony Anderson"
          ],
          [
           "Éphémère",
           "Tony Anderson"
          ],
          [
           "Arpège",
           "Tony Anderson"
          ],
          [
           "Nuit",
           "Tony Anderson"
          ],
          [
           "Tenderness - Woven Remix",
           "Tony Anderson"
          ],
          [
           "Tenderness",
           "Tony Anderson"
          ],
          [
           "Cambodia - Ross Lara Remix",
           "Tony Anderson"
          ],
          [
           "Cambodia",
           "Tony Anderson"
          ],
          [
           "Oyarsa",
           "Tony Anderson"
          ]
         ],
         "hovertemplate": "playlist=tony-anderson<br>TSNE1=%{x}<br>TSNE2=%{y}<br>song_name=%{customdata[0]}<br>artist=%{customdata[1]}<extra></extra>",
         "legendgroup": "tony-anderson",
         "marker": {
          "color": "#B6E880",
          "symbol": "circle"
         },
         "mode": "markers",
         "name": "tony-anderson",
         "orientation": "v",
         "showlegend": true,
         "x": [
          74.82573699951172,
          67.79779815673828,
          73.28718566894531,
          76.06086730957031,
          94.6040267944336,
          93.97825622558594,
          81.37849426269531,
          80.23600769042969,
          59.31612014770508,
          39.94759750366211,
          33.9501838684082,
          81.8865966796875,
          88.62865447998047,
          63.790775299072266,
          81.55319213867188,
          97.66819763183594,
          77.28864288330078,
          77.88410949707031,
          61.43489456176758,
          39.068824768066406,
          82.040283203125,
          50.60029602050781,
          92.71336364746094,
          4.126879692077637,
          71.85794067382812,
          101.3456802368164,
          60.859954833984375,
          80.9442367553711,
          43.35927963256836,
          46.04016876220703,
          49.854122161865234,
          87.75425720214844,
          79.65049743652344,
          81.51972961425781,
          62.67033767700195,
          83.21843719482422,
          89.60227966308594,
          82.89720916748047,
          51.62372589111328,
          102.11514282226562,
          99.68184661865234,
          73.53067016601562,
          65.16160583496094,
          -65.6660385131836,
          97.64624786376953,
          -5.170745372772217,
          34.921756744384766,
          76.37120056152344
         ],
         "xaxis": "x",
         "y": [
          34.49306869506836,
          1.1366519927978516,
          -9.499629020690918,
          31.94611167907715,
          10.604969024658203,
          8.773406982421875,
          37.648136138916016,
          13.238296508789062,
          6.237098217010498,
          36.99687957763672,
          15.68134880065918,
          30.422344207763672,
          26.463502883911133,
          8.170479774475098,
          10.132428169250488,
          3.2271485328674316,
          28.90553092956543,
          12.61562442779541,
          13.534462928771973,
          -28.310989379882812,
          16.987680435180664,
          43.0774040222168,
          1.7531579732894897,
          -11.23197078704834,
          -11.032439231872559,
          20.3917236328125,
          6.036077499389648,
          14.862606048583984,
          42.26835632324219,
          -5.030160903930664,
          -21.780029296875,
          21.35552978515625,
          33.16514205932617,
          39.32112121582031,
          14.876554489135742,
          11.795711517333984,
          24.889799118041992,
          40.90201187133789,
          -23.686187744140625,
          17.82850456237793,
          22.900663375854492,
          21.362438201904297,
          -23.37552833557129,
          26.12941551208496,
          24.417638778686523,
          18.092010498046875,
          7.771114349365234,
          9.64281177520752
         ],
         "yaxis": "y",
         "type": "scatter"
        }
       ],
       "layout": {
        "template": {
         "data": {
          "histogram2dcontour": [
           {
            "type": "histogram2dcontour",
            "colorbar": {
             "outlinewidth": 0,
             "ticks": ""
            },
            "colorscale": [
             [
              0.0,
              "#0d0887"
             ],
             [
              0.1111111111111111,
              "#46039f"
             ],
             [
              0.2222222222222222,
              "#7201a8"
             ],
             [
              0.3333333333333333,
              "#9c179e"
             ],
             [
              0.4444444444444444,
              "#bd3786"
             ],
             [
              0.5555555555555556,
              "#d8576b"
             ],
             [
              0.6666666666666666,
              "#ed7953"
             ],
             [
              0.7777777777777778,
              "#fb9f3a"
             ],
             [
              0.8888888888888888,
              "#fdca26"
             ],
             [
              1.0,
              "#f0f921"
             ]
            ]
           }
          ],
          "choropleth": [
           {
            "type": "choropleth",
            "colorbar": {
             "outlinewidth": 0,
             "ticks": ""
            }
           }
          ],
          "histogram2d": [
           {
            "type": "histogram2d",
            "colorbar": {
             "outlinewidth": 0,
             "ticks": ""
            },
            "colorscale": [
             [
              0.0,
              "#0d0887"
             ],
             [
              0.1111111111111111,
              "#46039f"
             ],
             [
              0.2222222222222222,
              "#7201a8"
             ],
             [
              0.3333333333333333,
              "#9c179e"
             ],
             [
              0.4444444444444444,
              "#bd3786"
             ],
             [
              0.5555555555555556,
              "#d8576b"
             ],
             [
              0.6666666666666666,
              "#ed7953"
             ],
             [
              0.7777777777777778,
              "#fb9f3a"
             ],
             [
              0.8888888888888888,
              "#fdca26"
             ],
             [
              1.0,
              "#f0f921"
             ]
            ]
           }
          ],
          "heatmap": [
           {
            "type": "heatmap",
            "colorbar": {
             "outlinewidth": 0,
             "ticks": ""
            },
            "colorscale": [
             [
              0.0,
              "#0d0887"
             ],
             [
              0.1111111111111111,
              "#46039f"
             ],
             [
              0.2222222222222222,
              "#7201a8"
             ],
             [
              0.3333333333333333,
              "#9c179e"
             ],
             [
              0.4444444444444444,
              "#bd3786"
             ],
             [
              0.5555555555555556,
              "#d8576b"
             ],
             [
              0.6666666666666666,
              "#ed7953"
             ],
             [
              0.7777777777777778,
              "#fb9f3a"
             ],
             [
              0.8888888888888888,
              "#fdca26"
             ],
             [
              1.0,
              "#f0f921"
             ]
            ]
           }
          ],
          "heatmapgl": [
           {
            "type": "heatmapgl",
            "colorbar": {
             "outlinewidth": 0,
             "ticks": ""
            },
            "colorscale": [
             [
              0.0,
              "#0d0887"
             ],
             [
              0.1111111111111111,
              "#46039f"
             ],
             [
              0.2222222222222222,
              "#7201a8"
             ],
             [
              0.3333333333333333,
              "#9c179e"
             ],
             [
              0.4444444444444444,
              "#bd3786"
             ],
             [
              0.5555555555555556,
              "#d8576b"
             ],
             [
              0.6666666666666666,
              "#ed7953"
             ],
             [
              0.7777777777777778,
              "#fb9f3a"
             ],
             [
              0.8888888888888888,
              "#fdca26"
             ],
             [
              1.0,
              "#f0f921"
             ]
            ]
           }
          ],
          "contourcarpet": [
           {
            "type": "contourcarpet",
            "colorbar": {
             "outlinewidth": 0,
             "ticks": ""
            }
           }
          ],
          "contour": [
           {
            "type": "contour",
            "colorbar": {
             "outlinewidth": 0,
             "ticks": ""
            },
            "colorscale": [
             [
              0.0,
              "#0d0887"
             ],
             [
              0.1111111111111111,
              "#46039f"
             ],
             [
              0.2222222222222222,
              "#7201a8"
             ],
             [
              0.3333333333333333,
              "#9c179e"
             ],
             [
              0.4444444444444444,
              "#bd3786"
             ],
             [
              0.5555555555555556,
              "#d8576b"
             ],
             [
              0.6666666666666666,
              "#ed7953"
             ],
             [
              0.7777777777777778,
              "#fb9f3a"
             ],
             [
              0.8888888888888888,
              "#fdca26"
             ],
             [
              1.0,
              "#f0f921"
             ]
            ]
           }
          ],
          "surface": [
           {
            "type": "surface",
            "colorbar": {
             "outlinewidth": 0,
             "ticks": ""
            },
            "colorscale": [
             [
              0.0,
              "#0d0887"
             ],
             [
              0.1111111111111111,
              "#46039f"
             ],
             [
              0.2222222222222222,
              "#7201a8"
             ],
             [
              0.3333333333333333,
              "#9c179e"
             ],
             [
              0.4444444444444444,
              "#bd3786"
             ],
             [
              0.5555555555555556,
              "#d8576b"
             ],
             [
              0.6666666666666666,
              "#ed7953"
             ],
             [
              0.7777777777777778,
              "#fb9f3a"
             ],
             [
              0.8888888888888888,
              "#fdca26"
             ],
             [
              1.0,
              "#f0f921"
             ]
            ]
           }
          ],
          "mesh3d": [
           {
            "type": "mesh3d",
            "colorbar": {
             "outlinewidth": 0,
             "ticks": ""
            }
           }
          ],
          "scatter": [
           {
            "marker": {
             "line": {
              "color": "#283442"
             }
            },
            "type": "scatter"
           }
          ],
          "parcoords": [
           {
            "type": "parcoords",
            "line": {
             "colorbar": {
              "outlinewidth": 0,
              "ticks": ""
             }
            }
           }
          ],
          "scatterpolargl": [
           {
            "type": "scatterpolargl",
            "marker": {
             "colorbar": {
              "outlinewidth": 0,
              "ticks": ""
             }
            }
           }
          ],
          "bar": [
           {
            "error_x": {
             "color": "#f2f5fa"
            },
            "error_y": {
             "color": "#f2f5fa"
            },
            "marker": {
             "line": {
              "color": "rgb(17,17,17)",
              "width": 0.5
             },
             "pattern": {
              "fillmode": "overlay",
              "size": 10,
              "solidity": 0.2
             }
            },
            "type": "bar"
           }
          ],
          "scattergeo": [
           {
            "type": "scattergeo",
            "marker": {
             "colorbar": {
              "outlinewidth": 0,
              "ticks": ""
             }
            }
           }
          ],
          "scatterpolar": [
           {
            "type": "scatterpolar",
            "marker": {
             "colorbar": {
              "outlinewidth": 0,
              "ticks": ""
             }
            }
           }
          ],
          "histogram": [
           {
            "marker": {
             "pattern": {
              "fillmode": "overlay",
              "size": 10,
              "solidity": 0.2
             }
            },
            "type": "histogram"
           }
          ],
          "scattergl": [
           {
            "marker": {
             "line": {
              "color": "#283442"
             }
            },
            "type": "scattergl"
           }
          ],
          "scatter3d": [
           {
            "type": "scatter3d",
            "line": {
             "colorbar": {
              "outlinewidth": 0,
              "ticks": ""
             }
            },
            "marker": {
             "colorbar": {
              "outlinewidth": 0,
              "ticks": ""
             }
            }
           }
          ],
          "scattermapbox": [
           {
            "type": "scattermapbox",
            "marker": {
             "colorbar": {
              "outlinewidth": 0,
              "ticks": ""
             }
            }
           }
          ],
          "scatterternary": [
           {
            "type": "scatterternary",
            "marker": {
             "colorbar": {
              "outlinewidth": 0,
              "ticks": ""
             }
            }
           }
          ],
          "scattercarpet": [
           {
            "type": "scattercarpet",
            "marker": {
             "colorbar": {
              "outlinewidth": 0,
              "ticks": ""
             }
            }
           }
          ],
          "carpet": [
           {
            "aaxis": {
             "endlinecolor": "#A2B1C6",
             "gridcolor": "#506784",
             "linecolor": "#506784",
             "minorgridcolor": "#506784",
             "startlinecolor": "#A2B1C6"
            },
            "baxis": {
             "endlinecolor": "#A2B1C6",
             "gridcolor": "#506784",
             "linecolor": "#506784",
             "minorgridcolor": "#506784",
             "startlinecolor": "#A2B1C6"
            },
            "type": "carpet"
           }
          ],
          "table": [
           {
            "cells": {
             "fill": {
              "color": "#506784"
             },
             "line": {
              "color": "rgb(17,17,17)"
             }
            },
            "header": {
             "fill": {
              "color": "#2a3f5f"
             },
             "line": {
              "color": "rgb(17,17,17)"
             }
            },
            "type": "table"
           }
          ],
          "barpolar": [
           {
            "marker": {
             "line": {
              "color": "rgb(17,17,17)",
              "width": 0.5
             },
             "pattern": {
              "fillmode": "overlay",
              "size": 10,
              "solidity": 0.2
             }
            },
            "type": "barpolar"
           }
          ],
          "pie": [
           {
            "automargin": true,
            "type": "pie"
           }
          ]
         },
         "layout": {
          "autotypenumbers": "strict",
          "colorway": [
           "#636efa",
           "#EF553B",
           "#00cc96",
           "#ab63fa",
           "#FFA15A",
           "#19d3f3",
           "#FF6692",
           "#B6E880",
           "#FF97FF",
           "#FECB52"
          ],
          "font": {
           "color": "#f2f5fa"
          },
          "hovermode": "closest",
          "hoverlabel": {
           "align": "left"
          },
          "paper_bgcolor": "rgb(17,17,17)",
          "plot_bgcolor": "rgb(17,17,17)",
          "polar": {
           "bgcolor": "rgb(17,17,17)",
           "angularaxis": {
            "gridcolor": "#506784",
            "linecolor": "#506784",
            "ticks": ""
           },
           "radialaxis": {
            "gridcolor": "#506784",
            "linecolor": "#506784",
            "ticks": ""
           }
          },
          "ternary": {
           "bgcolor": "rgb(17,17,17)",
           "aaxis": {
            "gridcolor": "#506784",
            "linecolor": "#506784",
            "ticks": ""
           },
           "baxis": {
            "gridcolor": "#506784",
            "linecolor": "#506784",
            "ticks": ""
           },
           "caxis": {
            "gridcolor": "#506784",
            "linecolor": "#506784",
            "ticks": ""
           }
          },
          "coloraxis": {
           "colorbar": {
            "outlinewidth": 0,
            "ticks": ""
           }
          },
          "colorscale": {
           "sequential": [
            [
             0.0,
             "#0d0887"
            ],
            [
             0.1111111111111111,
             "#46039f"
            ],
            [
             0.2222222222222222,
             "#7201a8"
            ],
            [
             0.3333333333333333,
             "#9c179e"
            ],
            [
             0.4444444444444444,
             "#bd3786"
            ],
            [
             0.5555555555555556,
             "#d8576b"
            ],
            [
             0.6666666666666666,
             "#ed7953"
            ],
            [
             0.7777777777777778,
             "#fb9f3a"
            ],
            [
             0.8888888888888888,
             "#fdca26"
            ],
            [
             1.0,
             "#f0f921"
            ]
           ],
           "sequentialminus": [
            [
             0.0,
             "#0d0887"
            ],
            [
             0.1111111111111111,
             "#46039f"
            ],
            [
             0.2222222222222222,
             "#7201a8"
            ],
            [
             0.3333333333333333,
             "#9c179e"
            ],
            [
             0.4444444444444444,
             "#bd3786"
            ],
            [
             0.5555555555555556,
             "#d8576b"
            ],
            [
             0.6666666666666666,
             "#ed7953"
            ],
            [
             0.7777777777777778,
             "#fb9f3a"
            ],
            [
             0.8888888888888888,
             "#fdca26"
            ],
            [
             1.0,
             "#f0f921"
            ]
           ],
           "diverging": [
            [
             0,
             "#8e0152"
            ],
            [
             0.1,
             "#c51b7d"
            ],
            [
             0.2,
             "#de77ae"
            ],
            [
             0.3,
             "#f1b6da"
            ],
            [
             0.4,
             "#fde0ef"
            ],
            [
             0.5,
             "#f7f7f7"
            ],
            [
             0.6,
             "#e6f5d0"
            ],
            [
             0.7,
             "#b8e186"
            ],
            [
             0.8,
             "#7fbc41"
            ],
            [
             0.9,
             "#4d9221"
            ],
            [
             1,
             "#276419"
            ]
           ]
          },
          "xaxis": {
           "gridcolor": "#283442",
           "linecolor": "#506784",
           "ticks": "",
           "title": {
            "standoff": 15
           },
           "zerolinecolor": "#283442",
           "automargin": true,
           "zerolinewidth": 2
          },
          "yaxis": {
           "gridcolor": "#283442",
           "linecolor": "#506784",
           "ticks": "",
           "title": {
            "standoff": 15
           },
           "zerolinecolor": "#283442",
           "automargin": true,
           "zerolinewidth": 2
          },
          "scene": {
           "xaxis": {
            "backgroundcolor": "rgb(17,17,17)",
            "gridcolor": "#506784",
            "linecolor": "#506784",
            "showbackground": true,
            "ticks": "",
            "zerolinecolor": "#C8D4E3",
            "gridwidth": 2
           },
           "yaxis": {
            "backgroundcolor": "rgb(17,17,17)",
            "gridcolor": "#506784",
            "linecolor": "#506784",
            "showbackground": true,
            "ticks": "",
            "zerolinecolor": "#C8D4E3",
            "gridwidth": 2
           },
           "zaxis": {
            "backgroundcolor": "rgb(17,17,17)",
            "gridcolor": "#506784",
            "linecolor": "#506784",
            "showbackground": true,
            "ticks": "",
            "zerolinecolor": "#C8D4E3",
            "gridwidth": 2
           }
          },
          "shapedefaults": {
           "line": {
            "color": "#f2f5fa"
           }
          },
          "annotationdefaults": {
           "arrowcolor": "#f2f5fa",
           "arrowhead": 0,
           "arrowwidth": 1
          },
          "geo": {
           "bgcolor": "rgb(17,17,17)",
           "landcolor": "rgb(17,17,17)",
           "subunitcolor": "#506784",
           "showland": true,
           "showlakes": true,
           "lakecolor": "rgb(17,17,17)"
          },
          "title": {
           "x": 0.05
          },
          "updatemenudefaults": {
           "bgcolor": "#506784",
           "borderwidth": 0
          },
          "sliderdefaults": {
           "bgcolor": "#C8D4E3",
           "borderwidth": 1,
           "bordercolor": "rgb(17,17,17)",
           "tickwidth": 0
          },
          "mapbox": {
           "style": "dark"
          }
         }
        },
        "xaxis": {
         "anchor": "y",
         "domain": [
          0.0,
          1.0
         ],
         "title": {
          "text": "TSNE1"
         }
        },
        "yaxis": {
         "anchor": "x",
         "domain": [
          0.0,
          1.0
         ],
         "title": {
          "text": "TSNE2"
         }
        },
        "legend": {
         "title": {
          "text": "playlist"
         },
         "tracegroupgap": 0
        },
        "margin": {
         "t": 60
        },
        "height": 500,
        "width": 1000
       },
       "config": {
        "plotlyServerURL": "https://plotly.com"
       }
      },
      "text/html": "<div>                            <div id=\"6b6fb395-a35a-4a90-9704-b68f3abd89f6\" class=\"plotly-graph-div\" style=\"height:500px; width:1000px;\"></div>            <script type=\"text/javascript\">                require([\"plotly\"], function(Plotly) {                    window.PLOTLYENV=window.PLOTLYENV || {};                                    if (document.getElementById(\"6b6fb395-a35a-4a90-9704-b68f3abd89f6\")) {                    Plotly.newPlot(                        \"6b6fb395-a35a-4a90-9704-b68f3abd89f6\",                        [{\"customdata\":[[\"Ivan Sings\",\"Aram Khachaturian\"],[\"Pr\\u00e9lude in E Minor, Op. 28, No. 4\",\"Fr\\u00e9d\\u00e9ric Chopin\"],[\"Above the Trees\",\"Kino\"],[\"All\",\"Kino\"],[\"Anew\",\"Kino\"],[\"As a Cloud\",\"Kino\"],[\"Away\",\"Kino\"],[\"Bloom\",\"Kino\"],[\"Charleston\",\"Kino\"],[\"Donau\",\"Kino\"],[\"Each and Every (Ambient Mix)\",\"Kino\"],[\"Each and Every (Piano)\",\"Kino\"],[\"Each and Every\",\"Kino\"],[\"Erl\\u00f6st  Redeemed\",\"Kino\"],[\"Gathering\",\"Kino\"],[\"God Bless Us, Every One\",\"Kino\"],[\"Hearth\",\"Kino\"],[\"H\\u0113o\",\"Kino\"],[\"In Earnest\",\"Kino\"],[\"Leinwand (Piano)\",\"Kino\"],[\"Leinwand\",\"Kino\"],[\"Lightly Tread\",\"Kino\"],[\"Lone\",\"Kino\"],[\"Many Colors\",\"Kino\"],[\"Merrily, Merrily\",\"Kino\"],[\"O Tannenbaum\",\"Kino\"],[\"Presidio\",\"Kino\"],[\"Rambuteau\",\"Kino\"],[\"Seafarer's Quartet\",\"Kino\"],[\"Seems\",\"Kino\"],[\"Silent Night\",\"Kino\"],[\"Silver Lake\",\"Kino\"],[\"St John's\",\"Kino\"],[\"Sunshine - Original\",\"Kino\"],[\"Swell\",\"Kino\"],[\"The Holly and the Ivy\",\"Kino\"],[\"The Weight Unbearable (Piano)\",\"Kino\"],[\"The Weight Unbearable\",\"Kino\"],[\"Till\",\"Kino\"],[\"Trio in E-flat Minor\",\"Kino\"],[\"Under\",\"Kino\"],[\"Water Lilies\",\"Kino\"],[\"Wide Awake\",\"Kino\"],[\"Willeth\",\"Kino\"],[\"Wolden\",\"Kino\"],[\"Yule\",\"Kino\"],[\"Piano Sonata No. 14 in C-Sharp Minor, Op. 27 No. 2 \\u201cMoonlight\\u201d- I. Adagio sostenuto\",\"Ludwig van Beethoven\"]],\"hovertemplate\":\"playlist=kino<br>TSNE1=%{x}<br>TSNE2=%{y}<br>song_name=%{customdata[0]}<br>artist=%{customdata[1]}<extra></extra>\",\"legendgroup\":\"kino\",\"marker\":{\"color\":\"#636efa\",\"symbol\":\"circle\"},\"mode\":\"markers\",\"name\":\"kino\",\"orientation\":\"v\",\"showlegend\":true,\"x\":[102.82564544677734,104.15757751464844,41.97932434082031,51.15043258666992,49.836387634277344,82.53286743164062,65.5614013671875,72.50605773925781,73.2879867553711,20.844453811645508,114.35906982421875,112.80278015136719,63.33331298828125,6.061720848083496,24.528221130371094,91.23761749267578,106.60163879394531,100.86858367919922,84.93377685546875,114.71881866455078,113.89537048339844,102.29244232177734,95.34219360351562,28.424301147460938,101.45636749267578,104.51466369628906,54.97725296020508,112.01008605957031,76.30419158935547,104.82633209228516,104.0625,72.35174560546875,10.859498023986816,-33.58394241333008,-60.470584869384766,49.22525405883789,114.68302154541016,113.89153289794922,93.50890350341797,70.14025115966797,99.75947570800781,107.65782928466797,66.85566711425781,89.54090118408203,48.00788879394531,107.71216583251953,104.06172943115234],\"xaxis\":\"x\",\"y\":[12.029932975769043,10.071752548217773,8.616707801818848,-6.0742645263671875,-6.950887203216553,6.859352111816406,-13.564998626708984,-21.101316452026367,-18.85418128967285,23.707775115966797,-16.94820785522461,-17.36575698852539,-25.1248836517334,-12.948932647705078,26.364072799682617,5.721811771392822,-14.879526138305664,9.333606719970703,22.01201820373535,-12.003836631774902,-9.57515811920166,-13.274319648742676,12.335301399230957,-4.1375412940979,-16.533218383789062,-10.537131309509277,24.13555145263672,-11.1881685256958,-16.022216796875,12.167896270751953,-8.307982444763184,-23.535173416137695,4.077019214630127,41.72231674194336,-51.83192443847656,-27.168991088867188,-14.0905179977417,-7.408239364624023,24.866117477416992,-22.175674438476562,3.883483648300171,-12.853808403015137,-15.482840538024902,17.69327735900879,29.281715393066406,10.145216941833496,14.377259254455566],\"yaxis\":\"y\",\"type\":\"scatter\"},{\"customdata\":[[\"But it's Destiny\",\"10cm\"],[\"\\ub098\\uc758 \\uc5b4\\uae68\\uc5d0 \\uae30\\ub300\\uc5b4\\uc694\",\"10cm\"],[\"Is You\",\"AILEE\"],[\"How can I love the heartbreak, you're the one I love\",\"AKMU\"],[\"How can I love the heartbreak, you`re the one I love\",\"AKMU\"],[\"Amusement Park\",\"BAEKHYUN\"],[\"\\ub108\\ub97c \\uc0ac\\ub791\\ud558\\uace0 \\uc788\\uc5b4\",\"BAEKHYUN\"],[\"Beautiful goodbye\",\"CHEN\"],[\"Flower\",\"CHEN\"],[\"I'll be there\",\"CHEN\"],[\"My dear\",\"CHEN\"],[\"Sorry not sorry\",\"CHEN\"],[\"Everytime\",\"CHEN\"],[\"Wish\",\"Choi Yuree\"],[\"Beautiful\",\"Crush\"],[\"Let Us Go\",\"Crush\"],[\"No Words\",\"Crush\"],[\"My Love\",\"DAVICHI\"],[\"Please Don't Cry\",\"DAVICHI\"],[\"Sunset\",\"DAVICHI\"],[\"\\ub178\\ub825\\ud574\\ubcfc\\uac8c\\uc694 I'll try\",\"DAY6\"],[\"I'm In Love With You\",\"Dvwn\"],[\"No Problem\",\"Dvwn\"],[\"\\uae34 \\ubc24\\uc774 \\uc624\\uba74\",\"Eddy Kim\"],[\"Rain or Shine\",\"Elaine\"],[\"Hate Everything - Korean Version\",\"GSoul\"],[\"\\uae30\\uc5b5\\ud574\\uc918\\uc694 \\ub0b4 \\ubaa8\\ub4e0 \\ub0a0\\uacfc \\uadf8\\ub54c\\ub97c\",\"Gummy\"],[\"Slowly Fall\",\"Ha Hyun Sang\"],[\"\\ub0b4 \\ub9d8\\uc744 \\ubcfc \\uc218 \\uc788\\ub098\\uc694\",\"HEIZE\"],[\"Deeply\",\"HEN\"],[\"To You\",\"HEN\"],[\"It's You\",\"HENRY\"],[\"Untitled Love Song\",\"HENRY\"],[\"Ending Scene\",\"IU\"],[\"Give You My Heart\",\"IU\"],[\"Love poem\",\"IU\"],[\"My sea\",\"IU\"],[\"Holiday\",\"JeHwi\"],[\"Stardust love song\",\"JIHYO\"],[\"What Lies Ahead\",\"Joe Layne\"],[\"Times Like This\",\"Josh Daniel\"],[\"Do you want to walk with me (Romance 101 X Jukjae)\",\"Jukjae\"],[\"The Days Like Pictures\",\"Jukjae\"],[\"\\ub098\\ub97c \\ucc3e\\uc544\\uc11c\",\"Jukjae\"],[\"\\ubcc4 \\ubcf4\\ub7ec \\uac00\\uc790\",\"Jukjae\"],[\"Day & Night\",\"Jung Seung Hwan\"],[\"Because I Miss You\",\"Jung Yong Hwa\"],[\"For First-time Lovers (Banmal-song)\",\"Jung Yong Hwa\"],[\"I Go\",\"Kei (Kim Ji Yeon)\"],[\"\\ubcf4\\uace0\\uc2f6\\ub2e4 (From. '\\ub4dc\\ub77c\\ub9c8 \\ucc9c\\uad6d\\uc758 \\uacc4\\ub2e8')\",\"Kim Bum Soo\"],[\"One Day\",\"Kim Feel\"],[\"Someday, The Boy\",\"Kim Feel\"],[\"Vacance in September\",\"KIM JAE HWAN\"],[\"All of My Days\",\"KIMSEJEONG\"],[\"If Only\",\"KIMSEJEONG\"],[\"Lonely Night\",\"Kwon Jin Ah\"],[\"The End\",\"Kwon Jin Ah\"],[\"I Won't Heartbreaken\",\"Lee KwangHee\"],[\"In My Heart\",\"LIM YEON\"],[\"Lost\",\"LIM YEON\"],[\"Say Yes\",\"Loco\"],[\"Be There For You\",\"NCT DREAM\"],[\"Rainbow - Acoustic Version\",\"O.WHEN\"],[\"Me After You\",\"Paul Kim\"],[\"\\uc548\\ub155\",\"Paul Kim\"],[\"But I'm Trying to Tell You How Much I Love You (With Moonbit)\",\"saevom\"],[\"For You\",\"Sam Kim\"],[\"Sunny Day Rainy Day (feat. Kassy)\",\"Sanchez\"],[\"Your world\",\"Seol Hoseung (SURL)\"],[\"Grown Ups\",\"Sondia\"],[\"Hug\",\"Sondia\"],[\"Our Souls at Night\",\"Sondia\"],[\"\\uc6b0\\ub9b0 \\uce5c\\uad6c\\ubfd0\\uc77c\\uae4c\",\"Sondia\"],[\"She\",\"Standing Egg\"],[\"Miracle (Feat. Paul Kim)\",\"Stella Jang\"],[\"One more time, One more chance\",\"Sung Si Kyung\"],[\"\\u541b\\u304c\\u3044\\u308b\\u3088\",\"Sung Si Kyung\"],[\"Two People\",\"SURAN\"],[\"Inevitable\",\"Suzy\"],[\"Starlight\",\"TAEIL\"],[\"\\uadf8\\ub300\\ub77c\\ub294 \\uc2dc\",\"TAEYEON\"],[\"Two Words\",\"WENDY\"],[\"What If Love\",\"WENDY\"],[\"\\ub0b4\\uc77c\\ub3c4 \\ub610 \\ub0b4\\uc77c\\ub3c4 Tomorrow After Tomorrow\",\"WISUE\"],[\"Your Existence\",\"Wonstein\"],[\"Free\",\"Xydo\"],[\"\\ub108\\ub9cc \\ub108\\ub9cc \\ub108\\ub9cc\",\"Yang Dail\"],[\"With me\",\"Yang Dail\"],[\"Here I Am Again\",\"Yerin Baek\"],[\"Maze\",\"YONGZOO\"],[\"ALWAYS\",\"Yoon Mirae\"],[\"Flower\",\"Yoon Mirae\"],[\"You Are My World\",\"Yoon Mirae\"],[\"I Just Want To Stay With You\",\"Zion.T\"],[\"Faith\",\"\\uc774\\uc900\\ud654\"]],\"hovertemplate\":\"playlist=korean-ost<br>TSNE1=%{x}<br>TSNE2=%{y}<br>song_name=%{customdata[0]}<br>artist=%{customdata[1]}<extra></extra>\",\"legendgroup\":\"korean-ost\",\"marker\":{\"color\":\"#EF553B\",\"symbol\":\"circle\"},\"mode\":\"markers\",\"name\":\"korean-ost\",\"orientation\":\"v\",\"showlegend\":true,\"x\":[-47.567047119140625,-13.143450736999512,-34.16008758544922,-23.92762565612793,-23.077112197875977,-64.23454284667969,-13.059962272644043,-7.143955707550049,-11.568922996520996,-16.741641998291016,-1.3302550315856934,-15.968620300292969,-38.054439544677734,56.821231842041016,-17.373083114624023,-21.2205867767334,-5.449625492095947,-34.571346282958984,-35.33964920043945,-31.81659698486328,-57.26402282714844,-20.69361114501953,-19.868440628051758,-18.799392700195312,-30.9498291015625,-16.020776748657227,-14.754762649536133,0.7623381018638611,-22.425586700439453,-25.161670684814453,-30.613201141357422,-32.74153518676758,-65.12716674804688,-37.08843231201172,-34.01082992553711,-16.85591697692871,-36.84852981567383,-63.32779312133789,-34.13656997680664,-77.07710266113281,-66.70149993896484,-10.925660133361816,-9.39031982421875,-60.18658447265625,-10.787087440490723,-5.73775053024292,-19.253292083740234,-58.425655364990234,-56.06081008911133,-12.177499771118164,-32.509395599365234,-7.355615615844727,-54.27285385131836,-30.230438232421875,-37.86293411254883,-38.86619186401367,-55.15422439575195,69.7519760131836,-42.839141845703125,-24.211950302124023,-86.44869995117188,-48.749515533447266,-8.011722564697266,-1.8560937643051147,-11.198662757873535,-39.14492416381836,-68.8223876953125,-75.38068389892578,-14.215888977050781,-15.145600318908691,-16.792783737182617,-12.728761672973633,-16.542999267578125,-5.8842244148254395,-18.408252716064453,-14.186870574951172,-11.751201629638672,-38.620479583740234,-28.804162979125977,-43.39436340332031,-12.663436889648438,-15.359753608703613,-43.1027946472168,-24.668127059936523,-70.96570587158203,-46.96080780029297,-12.90158748626709,-55.56331253051758,-29.09366226196289,-2.892613172531128,-8.6482572555542,-7.058538913726807,-17.057445526123047,-46.65950393676758,-28.513219833374023],\"xaxis\":\"x\",\"y\":[14.499444007873535,-14.051657676696777,-42.055049896240234,-57.42875289916992,-58.529964447021484,-41.03993606567383,-3.9922924041748047,-25.74045181274414,-23.81590461730957,-18.942224502563477,-12.95169448852539,-22.3341121673584,1.4392629861831665,5.03004264831543,-16.66657257080078,-22.042829513549805,-20.786720275878906,-36.587158203125,-34.9482536315918,-36.399269104003906,-44.509971618652344,21.225027084350586,-0.794430673122406,-3.771461248397827,-54.14448928833008,-26.528764724731445,-10.154684066772461,-4.465015888214111,-48.754554748535156,-60.126705169677734,-32.922672271728516,-18.00438117980957,-1.9169708490371704,-42.580753326416016,-23.813186645507812,1.1941187381744385,-20.452373504638672,21.37525749206543,-39.675167083740234,-34.478515625,-28.94702911376953,11.628604888916016,17.181974411010742,20.40804100036621,13.766613006591797,-22.645238876342773,41.3160400390625,21.391979217529297,-9.313372611999512,15.10028076171875,-15.432291030883789,-13.493721961975098,1.0852000713348389,-40.58736038208008,-34.91814422607422,-12.637835502624512,-43.82048034667969,24.03921127319336,-28.844234466552734,-48.357688903808594,-38.874916076660156,21.23601722717285,18.792068481445312,-4.291656970977783,-6.745911598205566,-44.15962600708008,-52.7686882019043,-2.8257532119750977,28.17477798461914,18.146377563476562,25.749109268188477,-34.279842376708984,16.56064796447754,9.219118118286133,22.839670181274414,-21.277774810791016,-19.847938537597656,-38.55048751831055,-30.205486297607422,38.284976959228516,-31.874441146850586,9.652092933654785,4.163265705108643,-46.50461196899414,-51.314697265625,37.918216705322266,-9.635723114013672,15.304720878601074,-37.06597137451172,-22.92448616027832,20.656641006469727,13.943551063537598,-10.187799453735352,19.798242568969727,-17.57248306274414],\"yaxis\":\"y\",\"type\":\"scatter\"},{\"customdata\":[[\"A Speck of Light - Reimagined\",\"Lights & Motion\"],[\"A Speck of Light\",\"Lights & Motion\"],[\"All the Way\",\"Lights & Motion\"],[\"Anamorphic\",\"Lights & Motion\"],[\"Anchor\",\"Lights & Motion\"],[\"Anomaly\",\"Lights & Motion\"],[\"Antlers\",\"Lights & Motion\"],[\"Arms Wide Open\",\"Lights & Motion\"],[\"As the World Goes Away\",\"Lights & Motion\"],[\"As They Sleep\",\"Lights & Motion\"],[\"Aurora\",\"Lights & Motion\"],[\"Deafening Silence\",\"Lights & Motion\"],[\"DNA\",\"Lights & Motion\"],[\"Equals\",\"Lights & Motion\"],[\"Everest\",\"Lights & Motion\"],[\"Exhale\",\"Lights & Motion\"],[\"Feathers\",\"Lights & Motion\"],[\"Fireflies\",\"Lights & Motion\"],[\"From Dust\",\"Lights & Motion\"],[\"Glistening - Reimagined\",\"Lights & Motion\"],[\"Glistening\",\"Lights & Motion\"],[\"Glow\",\"Lights & Motion\"],[\"I See You (feat. Frida Sundemo)\",\"Lights & Motion\"],[\"I See You - Reimagined (feat. Frida Sundemo)\",\"Lights & Motion\"],[\"Lucid Dreaming\",\"Lights & Motion\"],[\"Northern Lights\",\"Lights & Motion\"],[\"Pandora\",\"Lights & Motion\"],[\"Panic Attack\",\"Lights & Motion\"],[\"Paper Wings\",\"Lights & Motion\"],[\"Parachutes\",\"Lights & Motion\"],[\"Particle Storm\",\"Lights & Motion\"],[\"Perfect Symmetry\",\"Lights & Motion\"],[\"Phoenix\",\"Lights & Motion\"],[\"Reanimation - Revisited 10th Anniversary Edition\",\"Lights & Motion\"],[\"Reborn\",\"Lights & Motion\"],[\"Separated Hearts - Reimagined\",\"Lights & Motion\"],[\"Separated Hearts\",\"Lights & Motion\"],[\"Silver Lining\",\"Lights & Motion\"],[\"Sleeping Giant\",\"Lights & Motion\"],[\"Sypher\",\"Lights & Motion\"],[\"The First Day\",\"Lights & Motion\"],[\"The Great Wide Open - Reimagined\",\"Lights & Motion\"],[\"The Great Wide Open\",\"Lights & Motion\"],[\"The Moments Before\",\"Lights & Motion\"],[\"The Spectacular Quiet\",\"Lights & Motion\"],[\"The World I Remember\",\"Lights & Motion\"],[\"This Explosion Within\",\"Lights & Motion\"],[\"Touching Sky\",\"Lights & Motion\"],[\"We Only Have Forever\",\"Lights & Motion\"],[\"When Everything Is Falling\",\"Lights & Motion\"],[\"Wilderness\",\"Lights & Motion\"],[\"Winter Solstice\",\"Lights & Motion\"],[\"Wolves (feat. Johan Hasselblom)\",\"Lights & Motion\"],[\"Wolves - Reimagined (feat. Johan Hasselblom)\",\"Lights & Motion\"],[\"Woven\",\"Lights & Motion\"],[\"Year Zero\",\"Lights & Motion\"]],\"hovertemplate\":\"playlist=lights-and-motion<br>TSNE1=%{x}<br>TSNE2=%{y}<br>song_name=%{customdata[0]}<br>artist=%{customdata[1]}<extra></extra>\",\"legendgroup\":\"lights-and-motion\",\"marker\":{\"color\":\"#00cc96\",\"symbol\":\"circle\"},\"mode\":\"markers\",\"name\":\"lights-and-motion\",\"orientation\":\"v\",\"showlegend\":true,\"x\":[52.60567855834961,11.115818977355957,30.20944595336914,69.73780059814453,30.225326538085938,57.842010498046875,34.41508865356445,27.071550369262695,10.260519027709961,65.22341918945312,41.39912414550781,17.004924774169922,42.78567123413086,74.03235626220703,27.514076232910156,15.434980392456055,33.83338165283203,10.528685569763184,34.139198303222656,38.14641571044922,36.16636657714844,53.31545639038086,-54.66053009033203,-33.636131286621094,39.882164001464844,94.34869384765625,-26.713144302368164,33.11764907836914,103.30718994140625,10.286181449890137,11.324891090393066,66.3958740234375,20.022857666015625,24.32131576538086,26.06048583984375,28.92613410949707,29.678804397583008,32.17515563964844,25.472171783447266,22.3614501953125,71.65216827392578,43.31476974487305,37.16034698486328,38.1797981262207,-2.34631609916687,34.590023040771484,4.998335838317871,27.307788848876953,33.475555419921875,44.17230987548828,34.723541259765625,51.49561309814453,36.3007698059082,-6.643332481384277,42.81563949584961,36.535335540771484],\"xaxis\":\"x\",\"y\":[17.58184051513672,20.39122200012207,13.37898063659668,2.179150104522705,39.271339416503906,-16.8956241607666,32.24726486206055,45.04726791381836,2.4908008575439453,-4.086700916290283,24.245729446411133,23.305086135864258,49.733150482177734,-13.721647262573242,21.176193237304688,6.594244003295898,23.571298599243164,-6.452799320220947,34.620628356933594,-10.024395942687988,-8.788713455200195,21.97394561767578,-20.33121109008789,-0.4549160301685333,-8.81612491607666,1.8720784187316895,48.85465621948242,44.1771125793457,-6.463518142700195,24.157135009765625,-8.05655574798584,21.360126495361328,25.514490127563477,45.56120681762695,15.492415428161621,-7.890906810760498,-9.601812362670898,16.583404541015625,37.63121032714844,27.891687393188477,21.078601837158203,23.771699905395508,14.55298900604248,39.76569366455078,18.3413028717041,39.209712982177734,26.71758460998535,38.62554168701172,45.952415466308594,52.35673141479492,49.45026779174805,18.68379783630371,46.25864791870117,24.52503776550293,47.4693603515625,38.88857650756836],\"yaxis\":\"y\",\"type\":\"scatter\"},{\"customdata\":[[\"Another Wave from You\",\"M83\"],[\"Claudia Lewis\",\"M83\"],[\"Echoes of Mine\",\"M83\"],[\"Fountains\",\"M83\"],[\"Intro\",\"M83\"],[\"Klaus I Love You\",\"M83\"],[\"Midnight City\",\"M83\"],[\"My Tears Are Becoming a Sea\",\"M83\"],[\"New Map\",\"M83\"],[\"Ok Pal\",\"M83\"],[\"Outro\",\"M83\"],[\"Raconte-moi une histoire\",\"M83\"],[\"Reunion\",\"M83\"],[\"Soon, My Friend\",\"M83\"],[\"Splendor\",\"M83\"],[\"Steve Mcqueen\",\"M83\"],[\"This Bright Flash\",\"M83\"],[\"Train to Pluton\",\"M83\"],[\"Wait\",\"M83\"],[\"When Will You Come Home\",\"M83\"],[\"Where the Boats Go\",\"M83\"],[\"Year One, One Ufo\",\"M83\"],[\"Ashes of Our Fathers\",\"M83\"],[\"Canyon Battle\",\"M83\"],[\"Earth 2077\",\"M83\"],[\"Fearful Odds\",\"M83\"],[\"I'm Sending You Away\",\"M83\"],[\"Jack's Dream\",\"M83\"],[\"Losing Control\",\"M83\"],[\"Odyssey Rescue\",\"M83\"],[\"Radiation Zone\",\"M83\"],[\"Raven Rock\",\"M83\"],[\"StarWaves\",\"M83\"],[\"Tech 49\",\"M83\"],[\"Temples of Our Gods\",\"M83\"],[\"Undimmed by Time, Unbound by Death\",\"M83\"],[\"Waking Up\",\"M83\"],[\"You Can't Save Her\",\"M83\"],[\"Oblivion\",\"M83\"]],\"hovertemplate\":\"playlist=m83<br>TSNE1=%{x}<br>TSNE2=%{y}<br>song_name=%{customdata[0]}<br>artist=%{customdata[1]}<extra></extra>\",\"legendgroup\":\"m83\",\"marker\":{\"color\":\"#ab63fa\",\"symbol\":\"circle\"},\"mode\":\"markers\",\"name\":\"m83\",\"orientation\":\"v\",\"showlegend\":true,\"x\":[10.694518089294434,-40.86076736450195,-20.21284294128418,16.7670955657959,-35.00099182128906,-33.36394500732422,-45.708892822265625,10.089278221130371,-41.478572845458984,-39.08063888549805,-61.58233642578125,-37.75794219970703,-35.65033721923828,-13.225296974182129,36.4387092590332,-36.22943878173828,-22.56916046142578,55.021766662597656,-19.15064239501953,60.949161529541016,67.111572265625,-33.93175506591797,48.0417594909668,46.020469665527344,33.04035949707031,47.177978515625,51.72892379760742,74.3046646118164,44.771263122558594,67.85511016845703,33.69920349121094,51.549232482910156,36.70630645751953,77.94657897949219,54.45000076293945,52.58422088623047,52.27537155151367,50.57363510131836,19.802196502685547],\"xaxis\":\"x\",\"y\":[17.936386108398438,58.777587890625,43.819129943847656,7.35469913482666,53.094322204589844,51.14430236816406,47.627166748046875,26.485647201538086,43.81076431274414,58.35429763793945,16.924793243408203,42.270355224609375,57.99419403076172,39.541046142578125,-16.07161521911621,56.24296951293945,47.17521286010742,31.66900634765625,39.67525863647461,-32.53205871582031,28.126943588256836,59.13079071044922,46.68907928466797,43.79717254638672,49.91706085205078,42.2414436340332,28.714887619018555,16.941679000854492,37.61684036254883,22.690671920776367,18.723533630371094,26.978689193725586,3.4999196529388428,30.412290573120117,38.224266052246094,-24.988285064697266,37.61343002319336,30.73344612121582,28.040756225585938],\"yaxis\":\"y\",\"type\":\"scatter\"},{\"customdata\":[[\"A Moment Apart\",\"ODESZA\"],[\"Across The Room (feat. Leon Bridges)\",\"ODESZA\"],[\"Boy\",\"ODESZA\"],[\"Corners Of The Earth (feat. RY X)\",\"ODESZA\"],[\"Divide (feat. Kelsey Bulkin)\",\"ODESZA\"],[\"Everything At Your Feet (feat. The Chamanas)\",\"ODESZA\"],[\"Falls (feat. Sasha Alex Sloan)\",\"ODESZA\"],[\"Falls (Reprise) (feat. Sasha Alex Sloan)\",\"ODESZA\"],[\"Falls (Reprise) - Instrumental\",\"ODESZA\"],[\"Higher Ground (feat. Naomi Wild)\",\"ODESZA\"],[\"Higher Ground (Reprise) (feat. Naomi Wild)\",\"ODESZA\"],[\"Higher Ground (Reprise) - Instrumental\",\"ODESZA\"],[\"Intro\",\"ODESZA\"],[\"It\\u2019s Only (feat. Zyra) - ODESZA VIP Remix\",\"ODESZA\"],[\"Just A Memory (feat. Regina Spektor)\",\"ODESZA\"],[\"La Ciudad\",\"ODESZA\"],[\"Late Night\",\"ODESZA\"],[\"Line Of Sight (feat. WYNNE & Mansionair)\",\"ODESZA\"],[\"Line Of Sight (Reprise) (feat. WYNNE & Mansionair)\",\"ODESZA\"],[\"Line Of Sight (Reprise) - Instrumental\",\"ODESZA\"],[\"Loyal\",\"ODESZA\"],[\"Memories That You Call (feat. Monsoonsiren) - ODESZA & Golden Features VIP Remix\",\"ODESZA\"],[\"Meridian\",\"ODESZA\"],[\"Show Me\",\"ODESZA\"],[\"Thin Floors And Tall Ceilings\",\"ODESZA\"]],\"hovertemplate\":\"playlist=odesza<br>TSNE1=%{x}<br>TSNE2=%{y}<br>song_name=%{customdata[0]}<br>artist=%{customdata[1]}<extra></extra>\",\"legendgroup\":\"odesza\",\"marker\":{\"color\":\"#FFA15A\",\"symbol\":\"circle\"},\"mode\":\"markers\",\"name\":\"odesza\",\"orientation\":\"v\",\"showlegend\":true,\"x\":[-34.99169921875,-41.15426254272461,-91.74874114990234,-75.83978271484375,-41.69070053100586,-36.2324104309082,-41.89089584350586,-32.33052062988281,-4.578889846801758,-38.2610969543457,4.418309688568115,32.78228759765625,-69.56747436523438,-39.760520935058594,-74.79658508300781,-41.020565032958984,-41.89278793334961,-37.71855926513672,3.4768009185791016,35.50783157348633,-31.287683486938477,-66.8397216796875,-44.32391357421875,-21.55008888244629,31.883895874023438],\"xaxis\":\"x\",\"y\":[6.983405590057373,-8.41318130493164,-29.895456314086914,-48.525421142578125,6.515142440795898,0.06488595902919769,8.206775665283203,-50.56169509887695,-14.65181827545166,14.6580228805542,-7.3639936447143555,11.228002548217773,-46.2222785949707,37.20242691040039,-35.165103912353516,34.13887405395508,-4.918646335601807,7.443751335144043,-5.7833476066589355,4.937906742095947,49.35054397583008,-39.926483154296875,30.7419376373291,-1.2293862104415894,3.8272159099578857],\"yaxis\":\"y\",\"type\":\"scatter\"},{\"customdata\":[[\"April 10, 2019- Powehi - Image of a Black Hole\",\"Sleeping At Last\"],[\"August 12, 2018- Perseid Meteor Shower\",\"Sleeping At Last\"],[\"August 21, 2017- Total Solar Eclipse\",\"Sleeping At Last\"],[\"December 13, 2017- Geminid Meteor Shower\",\"Sleeping At Last\"],[\"December 17, 2018- Farout\",\"Sleeping At Last\"],[\"December 21, 2020- The Great Conjunction\",\"Sleeping At Last\"],[\"December 25, 2021- Webb Space Telescope - Launch\",\"Sleeping At Last\"],[\"February 1, 2023- C2022 E3 - Comet Ztf\",\"Sleeping At Last\"],[\"February 13, 2019- Opportunity - Mission Complete\",\"Sleeping At Last\"],[\"February 18, 2021- Perseverance - Mars Landing\",\"Sleeping At Last\"],[\"January 30, 2020- Spitzer - Final Voyage\",\"Sleeping At Last\"],[\"January 31, 2018- Super Blue Blood Moon\",\"Sleeping At Last\"],[\"July 22, 2020- C  2020 F3 - Comet Neowise\",\"Sleeping At Last\"],[\"July 27, 2018- Total Lunar Eclipse\",\"Sleeping At Last\"],[\"July 4, 2020- Aphelion\",\"Sleeping At Last\"],[\"June 24, 2022- Parade of Planets\",\"Sleeping At Last\"],[\"June 30, 2018- Pds 70b (Birth of a Planet)\",\"Sleeping At Last\"],[\"October 30, 2018- Kepler - Goodnight\",\"Sleeping At Last\"],[\"September 15, 2017- Cassini - The Grand Finale\",\"Sleeping At Last\"]],\"hovertemplate\":\"playlist=sleeping-at-last<br>TSNE1=%{x}<br>TSNE2=%{y}<br>song_name=%{customdata[0]}<br>artist=%{customdata[1]}<extra></extra>\",\"legendgroup\":\"sleeping-at-last\",\"marker\":{\"color\":\"#19d3f3\",\"symbol\":\"circle\"},\"mode\":\"markers\",\"name\":\"sleeping-at-last\",\"orientation\":\"v\",\"showlegend\":true,\"x\":[46.87116622924805,35.34675598144531,57.693519592285156,58.270606994628906,62.43305587768555,61.902225494384766,30.00580406188965,58.18857192993164,38.16731262207031,55.35111618041992,40.18735122680664,64.75196838378906,67.06232452392578,49.684078216552734,41.780216217041016,67.6220932006836,-33.13397216796875,42.37969970703125,38.74265670776367],\"xaxis\":\"x\",\"y\":[-29.998798370361328,-19.251638412475586,-32.653812408447266,-30.327695846557617,-27.053197860717773,-6.837489128112793,18.422588348388672,-18.626649856567383,-12.969523429870605,-27.167858123779297,-26.12891387939453,-6.53942346572876,-9.550524711608887,-11.234594345092773,-24.152488708496094,-11.639350891113281,-55.98140335083008,-21.2291202545166,-17.254396438598633],\"yaxis\":\"y\",\"type\":\"scatter\"},{\"customdata\":[[\"It's Ok If You Forget Me\",\"Astrid S\"],[\"Young & Alive\",\"Bazzi\"],[\"Paralyze\",\"Bj\\u00f8rnskov\"],[\"San Diego\",\"BRDGS\"],[\"Ear Candy\",\"Caye\"],[\"12 Hours\",\"Chris James\"],[\"My Universe\",\"Coldplay\"],[\"Overdrive\",\"Conan Gray\"],[\"Titanic\",\"Cosmo's Midnight\"],[\"Champagne For Two\",\"Devin Kennedy\"],[\"Another Round\",\"Elina\"],[\"How\",\"Elina\"],[\"Paper Planes\",\"Elina\"],[\"Nirvana\",\"ELLIANA\"],[\"Lost In Space\",\"Emmit Fenn\"],[\"12-45 - Stripped\",\"Etham\"],[\"Purpose - Stripped\",\"Etham\"],[\"California\",\"Ethan Dufault\"],[\"Hurt The Ones We Love The Most\",\"Evan Blum\"],[\"Young Love\",\"Falcon\"],[\"I Should've Told You\",\"Fiji Blue\"],[\"Waves\",\"Fiji Blue\"],[\"Healing\",\"FLETCHER\"],[\"hold on\",\"flor\"],[\"Automatic (feat. Jake Miller)\",\"Fly By Midnight\"],[\"Lovely\",\"Fly By Midnight\"],[\"Lonely\",\"Gatsby\"],[\"dear me,\",\"Gentle Bones\"],[\"I Wouldn't Know Any Better Than You\",\"Gentle Bones\"],[\"So Far So Good\",\"Great Good Fine Ok\"],[\"Falling\",\"Harry Styles\"],[\"sometimes\",\"Heather Sommer\"],[\"you heard me\",\"Heather Sommer\"],[\"Crying Over You \\u25d0\",\"HONNE\"],[\"Day Dreaming\",\"Jack & Jack\"],[\"Ross And Rachel\",\"Jake Miller\"],[\"Showing You Off\",\"Jake Miller\"],[\"Like No One Does\",\"Jake Scott\"],[\"CWJBHN\",\"Jake Scott\"],[\"drive all night\",\"joan\"],[\"i loved you first\",\"joan\"],[\"love somebody like you\",\"joan\"],[\"magnetic\",\"joan\"],[\"6 months\",\"John K\"],[\"ilym (feat. ROSIE)\",\"John K\"],[\"I Believe\",\"Jonas Brothers\"],[\"I Quit Drinking\",\"Kelsea Ballerini\"],[\"13\",\"LANY\"],[\"dancing in the kitchen\",\"LANY\"],[\"dna\",\"LANY\"],[\"get away\",\"LANY\"],[\"I Don't Wanna Love You Anymore\",\"LANY\"],[\"if this is the last time\",\"LANY\"],[\"ILYSB - STRIPPED\",\"LANY\"],[\"ILYSB\",\"LANY\"],[\"Let Me Know\",\"LANY\"],[\"Malibu Nights\",\"LANY\"],[\"Super Far\",\"LANY\"],[\"Thru These Tears\",\"LANY\"],[\"up to me\",\"LANY\"],[\"you!\",\"LANY\"],[\"Tattoos Together\",\"Lauv\"],[\"When We Were Younger\",\"Loving Caliber\"],[\"Love You Back\",\"Madeon\"],[\"colorblind\",\"Mokita\"],[\"London\",\"Mokita\"],[\"Ready Yet\",\"Mokita\"],[\"Shut Up I Love U\",\"Neptune\"],[\"This Is Heaven\",\"Nick Jonas\"],[\"Plot Twist\",\"NIKI\"],[\"Waves\",\"Paige\"],[\"Shelter\",\"Porter Robinson\"],[\"Outsider\",\"Rachel Grae\"],[\"Dandelions\",\"Ruth B.\"],[\"Lie\",\"Sasha Alex Sloan\"],[\"Day Dreaming\",\"Sopha\"],[\"I Always Wanna Die (Sometimes)\",\"The 1975\"],[\"I'm In Love With You\",\"The 1975\"],[\"It's Not Living (If It's Not With You)\",\"The 1975\"],[\"Robbers\",\"The 1975\"],[\"She's American\",\"The 1975\"],[\"Somebody Else\",\"The 1975\"],[\"Going Home\",\"The Aces\"],[\"Sunset\",\"The Midnight\"],[\"Say So\",\"The Sam Willows\"],[\"I Can't Stop Thinking About You\",\"The Shadowboxers\"],[\"Strawberries & Cigarettes\",\"Troye Sivan\"],[\"If Only for Tonight\",\"Vacation Manor\"],[\"rocket science\",\"vaultboy\"],[\"no excuses\",\"Virginia To Vegas\"],[\"Got A Little Crush On You\",\"Wildflowers\"],[\"Talking To Myself\",\"Will Jay\"],[\"Dance Like Nobody's Watching\",\"Yuna\"],[\"dancing in the kitchen\",\"Zachary Knowles\"],[\"stranger to me\",\"Zachary Knowles\"],[\"could you love me while i hate myself\",\"Zeph\"]],\"hovertemplate\":\"playlist=synth-pop<br>TSNE1=%{x}<br>TSNE2=%{y}<br>song_name=%{customdata[0]}<br>artist=%{customdata[1]}<extra></extra>\",\"legendgroup\":\"synth-pop\",\"marker\":{\"color\":\"#FF6692\",\"symbol\":\"circle\"},\"mode\":\"markers\",\"name\":\"synth-pop\",\"orientation\":\"v\",\"showlegend\":true,\"x\":[-90.6799545288086,-59.732662200927734,-59.3006591796875,-69.5328140258789,-43.99728775024414,-79.39493560791016,-48.32518768310547,-47.65117263793945,-79.44681549072266,-89.46556091308594,-56.4094123840332,-56.91865539550781,-15.660469055175781,-50.86093521118164,-61.49346923828125,-65.0263900756836,-65.14443969726562,-62.22944259643555,-80.3919448852539,-68.71564483642578,-85.77667236328125,-63.57231521606445,-80.89615631103516,-39.119728088378906,-34.19758987426758,-50.90576171875,-40.568538665771484,-79.3263931274414,-82.16647338867188,-60.293556213378906,-62.947017669677734,-78.61930084228516,-88.14330291748047,-56.40937042236328,-84.39218139648438,-18.104564666748047,-82.40474700927734,-65.53929901123047,-69.33321380615234,-41.09687805175781,-25.44298553466797,-52.952056884765625,-60.44688415527344,-59.1279296875,-20.474693298339844,-59.209136962890625,-38.1129150390625,-76.94168853759766,-59.26309585571289,-68.57005310058594,-56.81342315673828,-63.10842514038086,-26.722320556640625,-67.56852722167969,-65.16366577148438,-77.49526977539062,-63.431461334228516,-77.17066192626953,-71.66218566894531,-59.935264587402344,-23.333580017089844,-83.18867492675781,-11.321793556213379,-46.9818115234375,-86.72291564941406,-62.90890884399414,-80.51197814941406,-24.261734008789062,-52.30693435668945,-81.01654052734375,-82.3286361694336,-51.81064224243164,-25.152130126953125,-43.16733932495117,-63.722496032714844,-26.83320426940918,-29.608552932739258,-35.352447509765625,-46.6766357421875,-46.59922790527344,-78.8533935546875,-55.67741775512695,-41.44184112548828,-57.689247131347656,-67.04204559326172,-22.302352905273438,-50.60682678222656,-11.415800094604492,-68.09431457519531,-78.2699203491211,-57.505088806152344,-73.00920867919922,-79.48778533935547,-75.2126235961914,-58.86924362182617,-55.19411849975586],\"xaxis\":\"x\",\"y\":[-37.26800537109375,-35.503021240234375,-6.5547990798950195,7.8163676261901855,-7.126153945922852,-8.640475273132324,37.01118469238281,8.066716194152832,8.270987510681152,-29.27642822265625,-19.002670288085938,-24.850116729736328,14.238987922668457,-18.113367080688477,-17.588855743408203,-54.67363357543945,-52.023475646972656,34.07326126098633,-17.356130599975586,-1.7427647113800049,-25.275571823120117,28.451261520385742,-36.422264099121094,13.321065902709961,-19.585887908935547,38.7140998840332,-10.2940092086792,-34.59541320800781,-31.35641860961914,31.487096786499023,-43.79990768432617,-45.547935485839844,-37.490604400634766,2.5080931186676025,-29.052507400512695,-22.320295333862305,7.214999198913574,-19.393413543701172,6.2815752029418945,39.396175384521484,6.839019775390625,23.55422019958496,29.440000534057617,-0.6178174614906311,3.2825634479522705,26.375255584716797,-31.500612258911133,-13.279122352600098,6.7063727378845215,-6.3537278175354,6.169142723083496,-50.45636749267578,9.367600440979004,-15.047654151916504,1.3772311210632324,-9.831393241882324,-47.28608322143555,-15.94458293914795,-9.296866416931152,8.295397758483887,8.310105323791504,-13.318592071533203,-1.995952844619751,10.348245620727539,-27.9532413482666,-1.7897570133209229,-15.538537979125977,-1.1918033361434937,36.679569244384766,-44.35835647583008,-42.42897415161133,40.78650665283203,-31.719383239746094,-23.8919620513916,-19.388835906982422,-57.52689743041992,48.49820327758789,42.2327995300293,40.472164154052734,34.11330032348633,9.892778396606445,22.484756469726562,-26.41211700439453,34.004432678222656,-26.39398956298828,-30.00096893310547,6.361822128295898,28.087251663208008,-24.18235969543457,5.113969802856445,-8.131681442260742,-0.9783642292022705,-43.43450164794922,2.4746696949005127,-37.50943374633789,-22.4908447265625],\"yaxis\":\"y\",\"type\":\"scatter\"},{\"customdata\":[[\"Allure\",\"Tony Anderson\"],[\"Aurora\",\"Tony Anderson\"],[\"Chasm\",\"Tony Anderson\"],[\"Darkest Night\",\"Tony Anderson\"],[\"Deep Waters - Original Sketch\",\"Tony Anderson\"],[\"Deep Waters\",\"Tony Anderson\"],[\"Delusion\",\"Tony Anderson\"],[\"Eyes Wide Open - Cinematic Mix\",\"Tony Anderson\"],[\"Eyes Wide Open\",\"Tony Anderson\"],[\"Face of the Father\",\"Tony Anderson\"],[\"Farthest Seas\",\"Tony Anderson\"],[\"Finding Your Heart\",\"Tony Anderson\"],[\"Halo\",\"Tony Anderson\"],[\"High Tide\",\"Tony Anderson\"],[\"Immanuel\",\"Tony Anderson\"],[\"Immersion\",\"Tony Anderson\"],[\"In the Distance\",\"Tony Anderson\"],[\"Incision\",\"Tony Anderson\"],[\"Like a Child - Cinematic Mix\",\"Tony Anderson\"],[\"Low Tide\",\"Tony Anderson\"],[\"Lune\",\"Tony Anderson\"],[\"Morning's Wings\",\"Tony Anderson\"],[\"Nightingale\",\"Tony Anderson\"],[\"No Place on Earth\",\"Tony Anderson\"],[\"Nocturne in Paris\",\"Tony Anderson\"],[\"Perennial\",\"Tony Anderson\"],[\"Resurrect\",\"Tony Anderson\"],[\"Retour\",\"Tony Anderson\"],[\"Shalom\",\"Tony Anderson\"],[\"Slipstream\",\"Tony Anderson\"],[\"Something Can Grow\",\"Tony Anderson\"],[\"Spiriteaux\",\"Tony Anderson\"],[\"The King\",\"Tony Anderson\"],[\"The Way Home\",\"Tony Anderson\"],[\"Thin Place - Abbreviated\",\"Tony Anderson\"],[\"Thin Place\",\"Tony Anderson\"],[\"We Are One\",\"Tony Anderson\"],[\"Wir Sind Gleich\",\"Tony Anderson\"],[\"Younger\",\"Tony Anderson\"],[\"\\u00c9closion\",\"Tony Anderson\"],[\"\\u00c9ph\\u00e9m\\u00e8re\",\"Tony Anderson\"],[\"Arp\\u00e8ge\",\"Tony Anderson\"],[\"Nuit\",\"Tony Anderson\"],[\"Tenderness - Woven Remix\",\"Tony Anderson\"],[\"Tenderness\",\"Tony Anderson\"],[\"Cambodia - Ross Lara Remix\",\"Tony Anderson\"],[\"Cambodia\",\"Tony Anderson\"],[\"Oyarsa\",\"Tony Anderson\"]],\"hovertemplate\":\"playlist=tony-anderson<br>TSNE1=%{x}<br>TSNE2=%{y}<br>song_name=%{customdata[0]}<br>artist=%{customdata[1]}<extra></extra>\",\"legendgroup\":\"tony-anderson\",\"marker\":{\"color\":\"#B6E880\",\"symbol\":\"circle\"},\"mode\":\"markers\",\"name\":\"tony-anderson\",\"orientation\":\"v\",\"showlegend\":true,\"x\":[74.82573699951172,67.79779815673828,73.28718566894531,76.06086730957031,94.6040267944336,93.97825622558594,81.37849426269531,80.23600769042969,59.31612014770508,39.94759750366211,33.9501838684082,81.8865966796875,88.62865447998047,63.790775299072266,81.55319213867188,97.66819763183594,77.28864288330078,77.88410949707031,61.43489456176758,39.068824768066406,82.040283203125,50.60029602050781,92.71336364746094,4.126879692077637,71.85794067382812,101.3456802368164,60.859954833984375,80.9442367553711,43.35927963256836,46.04016876220703,49.854122161865234,87.75425720214844,79.65049743652344,81.51972961425781,62.67033767700195,83.21843719482422,89.60227966308594,82.89720916748047,51.62372589111328,102.11514282226562,99.68184661865234,73.53067016601562,65.16160583496094,-65.6660385131836,97.64624786376953,-5.170745372772217,34.921756744384766,76.37120056152344],\"xaxis\":\"x\",\"y\":[34.49306869506836,1.1366519927978516,-9.499629020690918,31.94611167907715,10.604969024658203,8.773406982421875,37.648136138916016,13.238296508789062,6.237098217010498,36.99687957763672,15.68134880065918,30.422344207763672,26.463502883911133,8.170479774475098,10.132428169250488,3.2271485328674316,28.90553092956543,12.61562442779541,13.534462928771973,-28.310989379882812,16.987680435180664,43.0774040222168,1.7531579732894897,-11.23197078704834,-11.032439231872559,20.3917236328125,6.036077499389648,14.862606048583984,42.26835632324219,-5.030160903930664,-21.780029296875,21.35552978515625,33.16514205932617,39.32112121582031,14.876554489135742,11.795711517333984,24.889799118041992,40.90201187133789,-23.686187744140625,17.82850456237793,22.900663375854492,21.362438201904297,-23.37552833557129,26.12941551208496,24.417638778686523,18.092010498046875,7.771114349365234,9.64281177520752],\"yaxis\":\"y\",\"type\":\"scatter\"}],                        {\"template\":{\"data\":{\"histogram2dcontour\":[{\"type\":\"histogram2dcontour\",\"colorbar\":{\"outlinewidth\":0,\"ticks\":\"\"},\"colorscale\":[[0.0,\"#0d0887\"],[0.1111111111111111,\"#46039f\"],[0.2222222222222222,\"#7201a8\"],[0.3333333333333333,\"#9c179e\"],[0.4444444444444444,\"#bd3786\"],[0.5555555555555556,\"#d8576b\"],[0.6666666666666666,\"#ed7953\"],[0.7777777777777778,\"#fb9f3a\"],[0.8888888888888888,\"#fdca26\"],[1.0,\"#f0f921\"]]}],\"choropleth\":[{\"type\":\"choropleth\",\"colorbar\":{\"outlinewidth\":0,\"ticks\":\"\"}}],\"histogram2d\":[{\"type\":\"histogram2d\",\"colorbar\":{\"outlinewidth\":0,\"ticks\":\"\"},\"colorscale\":[[0.0,\"#0d0887\"],[0.1111111111111111,\"#46039f\"],[0.2222222222222222,\"#7201a8\"],[0.3333333333333333,\"#9c179e\"],[0.4444444444444444,\"#bd3786\"],[0.5555555555555556,\"#d8576b\"],[0.6666666666666666,\"#ed7953\"],[0.7777777777777778,\"#fb9f3a\"],[0.8888888888888888,\"#fdca26\"],[1.0,\"#f0f921\"]]}],\"heatmap\":[{\"type\":\"heatmap\",\"colorbar\":{\"outlinewidth\":0,\"ticks\":\"\"},\"colorscale\":[[0.0,\"#0d0887\"],[0.1111111111111111,\"#46039f\"],[0.2222222222222222,\"#7201a8\"],[0.3333333333333333,\"#9c179e\"],[0.4444444444444444,\"#bd3786\"],[0.5555555555555556,\"#d8576b\"],[0.6666666666666666,\"#ed7953\"],[0.7777777777777778,\"#fb9f3a\"],[0.8888888888888888,\"#fdca26\"],[1.0,\"#f0f921\"]]}],\"heatmapgl\":[{\"type\":\"heatmapgl\",\"colorbar\":{\"outlinewidth\":0,\"ticks\":\"\"},\"colorscale\":[[0.0,\"#0d0887\"],[0.1111111111111111,\"#46039f\"],[0.2222222222222222,\"#7201a8\"],[0.3333333333333333,\"#9c179e\"],[0.4444444444444444,\"#bd3786\"],[0.5555555555555556,\"#d8576b\"],[0.6666666666666666,\"#ed7953\"],[0.7777777777777778,\"#fb9f3a\"],[0.8888888888888888,\"#fdca26\"],[1.0,\"#f0f921\"]]}],\"contourcarpet\":[{\"type\":\"contourcarpet\",\"colorbar\":{\"outlinewidth\":0,\"ticks\":\"\"}}],\"contour\":[{\"type\":\"contour\",\"colorbar\":{\"outlinewidth\":0,\"ticks\":\"\"},\"colorscale\":[[0.0,\"#0d0887\"],[0.1111111111111111,\"#46039f\"],[0.2222222222222222,\"#7201a8\"],[0.3333333333333333,\"#9c179e\"],[0.4444444444444444,\"#bd3786\"],[0.5555555555555556,\"#d8576b\"],[0.6666666666666666,\"#ed7953\"],[0.7777777777777778,\"#fb9f3a\"],[0.8888888888888888,\"#fdca26\"],[1.0,\"#f0f921\"]]}],\"surface\":[{\"type\":\"surface\",\"colorbar\":{\"outlinewidth\":0,\"ticks\":\"\"},\"colorscale\":[[0.0,\"#0d0887\"],[0.1111111111111111,\"#46039f\"],[0.2222222222222222,\"#7201a8\"],[0.3333333333333333,\"#9c179e\"],[0.4444444444444444,\"#bd3786\"],[0.5555555555555556,\"#d8576b\"],[0.6666666666666666,\"#ed7953\"],[0.7777777777777778,\"#fb9f3a\"],[0.8888888888888888,\"#fdca26\"],[1.0,\"#f0f921\"]]}],\"mesh3d\":[{\"type\":\"mesh3d\",\"colorbar\":{\"outlinewidth\":0,\"ticks\":\"\"}}],\"scatter\":[{\"marker\":{\"line\":{\"color\":\"#283442\"}},\"type\":\"scatter\"}],\"parcoords\":[{\"type\":\"parcoords\",\"line\":{\"colorbar\":{\"outlinewidth\":0,\"ticks\":\"\"}}}],\"scatterpolargl\":[{\"type\":\"scatterpolargl\",\"marker\":{\"colorbar\":{\"outlinewidth\":0,\"ticks\":\"\"}}}],\"bar\":[{\"error_x\":{\"color\":\"#f2f5fa\"},\"error_y\":{\"color\":\"#f2f5fa\"},\"marker\":{\"line\":{\"color\":\"rgb(17,17,17)\",\"width\":0.5},\"pattern\":{\"fillmode\":\"overlay\",\"size\":10,\"solidity\":0.2}},\"type\":\"bar\"}],\"scattergeo\":[{\"type\":\"scattergeo\",\"marker\":{\"colorbar\":{\"outlinewidth\":0,\"ticks\":\"\"}}}],\"scatterpolar\":[{\"type\":\"scatterpolar\",\"marker\":{\"colorbar\":{\"outlinewidth\":0,\"ticks\":\"\"}}}],\"histogram\":[{\"marker\":{\"pattern\":{\"fillmode\":\"overlay\",\"size\":10,\"solidity\":0.2}},\"type\":\"histogram\"}],\"scattergl\":[{\"marker\":{\"line\":{\"color\":\"#283442\"}},\"type\":\"scattergl\"}],\"scatter3d\":[{\"type\":\"scatter3d\",\"line\":{\"colorbar\":{\"outlinewidth\":0,\"ticks\":\"\"}},\"marker\":{\"colorbar\":{\"outlinewidth\":0,\"ticks\":\"\"}}}],\"scattermapbox\":[{\"type\":\"scattermapbox\",\"marker\":{\"colorbar\":{\"outlinewidth\":0,\"ticks\":\"\"}}}],\"scatterternary\":[{\"type\":\"scatterternary\",\"marker\":{\"colorbar\":{\"outlinewidth\":0,\"ticks\":\"\"}}}],\"scattercarpet\":[{\"type\":\"scattercarpet\",\"marker\":{\"colorbar\":{\"outlinewidth\":0,\"ticks\":\"\"}}}],\"carpet\":[{\"aaxis\":{\"endlinecolor\":\"#A2B1C6\",\"gridcolor\":\"#506784\",\"linecolor\":\"#506784\",\"minorgridcolor\":\"#506784\",\"startlinecolor\":\"#A2B1C6\"},\"baxis\":{\"endlinecolor\":\"#A2B1C6\",\"gridcolor\":\"#506784\",\"linecolor\":\"#506784\",\"minorgridcolor\":\"#506784\",\"startlinecolor\":\"#A2B1C6\"},\"type\":\"carpet\"}],\"table\":[{\"cells\":{\"fill\":{\"color\":\"#506784\"},\"line\":{\"color\":\"rgb(17,17,17)\"}},\"header\":{\"fill\":{\"color\":\"#2a3f5f\"},\"line\":{\"color\":\"rgb(17,17,17)\"}},\"type\":\"table\"}],\"barpolar\":[{\"marker\":{\"line\":{\"color\":\"rgb(17,17,17)\",\"width\":0.5},\"pattern\":{\"fillmode\":\"overlay\",\"size\":10,\"solidity\":0.2}},\"type\":\"barpolar\"}],\"pie\":[{\"automargin\":true,\"type\":\"pie\"}]},\"layout\":{\"autotypenumbers\":\"strict\",\"colorway\":[\"#636efa\",\"#EF553B\",\"#00cc96\",\"#ab63fa\",\"#FFA15A\",\"#19d3f3\",\"#FF6692\",\"#B6E880\",\"#FF97FF\",\"#FECB52\"],\"font\":{\"color\":\"#f2f5fa\"},\"hovermode\":\"closest\",\"hoverlabel\":{\"align\":\"left\"},\"paper_bgcolor\":\"rgb(17,17,17)\",\"plot_bgcolor\":\"rgb(17,17,17)\",\"polar\":{\"bgcolor\":\"rgb(17,17,17)\",\"angularaxis\":{\"gridcolor\":\"#506784\",\"linecolor\":\"#506784\",\"ticks\":\"\"},\"radialaxis\":{\"gridcolor\":\"#506784\",\"linecolor\":\"#506784\",\"ticks\":\"\"}},\"ternary\":{\"bgcolor\":\"rgb(17,17,17)\",\"aaxis\":{\"gridcolor\":\"#506784\",\"linecolor\":\"#506784\",\"ticks\":\"\"},\"baxis\":{\"gridcolor\":\"#506784\",\"linecolor\":\"#506784\",\"ticks\":\"\"},\"caxis\":{\"gridcolor\":\"#506784\",\"linecolor\":\"#506784\",\"ticks\":\"\"}},\"coloraxis\":{\"colorbar\":{\"outlinewidth\":0,\"ticks\":\"\"}},\"colorscale\":{\"sequential\":[[0.0,\"#0d0887\"],[0.1111111111111111,\"#46039f\"],[0.2222222222222222,\"#7201a8\"],[0.3333333333333333,\"#9c179e\"],[0.4444444444444444,\"#bd3786\"],[0.5555555555555556,\"#d8576b\"],[0.6666666666666666,\"#ed7953\"],[0.7777777777777778,\"#fb9f3a\"],[0.8888888888888888,\"#fdca26\"],[1.0,\"#f0f921\"]],\"sequentialminus\":[[0.0,\"#0d0887\"],[0.1111111111111111,\"#46039f\"],[0.2222222222222222,\"#7201a8\"],[0.3333333333333333,\"#9c179e\"],[0.4444444444444444,\"#bd3786\"],[0.5555555555555556,\"#d8576b\"],[0.6666666666666666,\"#ed7953\"],[0.7777777777777778,\"#fb9f3a\"],[0.8888888888888888,\"#fdca26\"],[1.0,\"#f0f921\"]],\"diverging\":[[0,\"#8e0152\"],[0.1,\"#c51b7d\"],[0.2,\"#de77ae\"],[0.3,\"#f1b6da\"],[0.4,\"#fde0ef\"],[0.5,\"#f7f7f7\"],[0.6,\"#e6f5d0\"],[0.7,\"#b8e186\"],[0.8,\"#7fbc41\"],[0.9,\"#4d9221\"],[1,\"#276419\"]]},\"xaxis\":{\"gridcolor\":\"#283442\",\"linecolor\":\"#506784\",\"ticks\":\"\",\"title\":{\"standoff\":15},\"zerolinecolor\":\"#283442\",\"automargin\":true,\"zerolinewidth\":2},\"yaxis\":{\"gridcolor\":\"#283442\",\"linecolor\":\"#506784\",\"ticks\":\"\",\"title\":{\"standoff\":15},\"zerolinecolor\":\"#283442\",\"automargin\":true,\"zerolinewidth\":2},\"scene\":{\"xaxis\":{\"backgroundcolor\":\"rgb(17,17,17)\",\"gridcolor\":\"#506784\",\"linecolor\":\"#506784\",\"showbackground\":true,\"ticks\":\"\",\"zerolinecolor\":\"#C8D4E3\",\"gridwidth\":2},\"yaxis\":{\"backgroundcolor\":\"rgb(17,17,17)\",\"gridcolor\":\"#506784\",\"linecolor\":\"#506784\",\"showbackground\":true,\"ticks\":\"\",\"zerolinecolor\":\"#C8D4E3\",\"gridwidth\":2},\"zaxis\":{\"backgroundcolor\":\"rgb(17,17,17)\",\"gridcolor\":\"#506784\",\"linecolor\":\"#506784\",\"showbackground\":true,\"ticks\":\"\",\"zerolinecolor\":\"#C8D4E3\",\"gridwidth\":2}},\"shapedefaults\":{\"line\":{\"color\":\"#f2f5fa\"}},\"annotationdefaults\":{\"arrowcolor\":\"#f2f5fa\",\"arrowhead\":0,\"arrowwidth\":1},\"geo\":{\"bgcolor\":\"rgb(17,17,17)\",\"landcolor\":\"rgb(17,17,17)\",\"subunitcolor\":\"#506784\",\"showland\":true,\"showlakes\":true,\"lakecolor\":\"rgb(17,17,17)\"},\"title\":{\"x\":0.05},\"updatemenudefaults\":{\"bgcolor\":\"#506784\",\"borderwidth\":0},\"sliderdefaults\":{\"bgcolor\":\"#C8D4E3\",\"borderwidth\":1,\"bordercolor\":\"rgb(17,17,17)\",\"tickwidth\":0},\"mapbox\":{\"style\":\"dark\"}}},\"xaxis\":{\"anchor\":\"y\",\"domain\":[0.0,1.0],\"title\":{\"text\":\"TSNE1\"}},\"yaxis\":{\"anchor\":\"x\",\"domain\":[0.0,1.0],\"title\":{\"text\":\"TSNE2\"}},\"legend\":{\"title\":{\"text\":\"playlist\"},\"tracegroupgap\":0},\"margin\":{\"t\":60},\"height\":500,\"width\":1000},                        {\"responsive\": true}                    ).then(function(){\n                            \nvar gd = document.getElementById('6b6fb395-a35a-4a90-9704-b68f3abd89f6');\nvar x = new MutationObserver(function (mutations, observer) {{\n        var display = window.getComputedStyle(gd).display;\n        if (!display || display === 'none') {{\n            console.log([gd, 'removed!']);\n            Plotly.purge(gd);\n            observer.disconnect();\n        }}\n}});\n\n// Listen for the removal of the full notebook cells\nvar notebookContainer = gd.closest('#notebook-container');\nif (notebookContainer) {{\n    x.observe(notebookContainer, {childList: true});\n}}\n\n// Listen for the clearing of the current output cell\nvar outputEl = gd.closest('.output');\nif (outputEl) {{\n    x.observe(outputEl, {childList: true});\n}}\n\n                        })                };                });            </script>        </div>"
     },
     "metadata": {},
     "output_type": "display_data"
    }
   ],
   "source": [
    "import plotly.express as px\n",
    "px.scatter(\n",
    "    tsne_results,\n",
    "    x='TSNE1',\n",
    "    y='TSNE2',\n",
    "    template='plotly_dark',\n",
    "    hover_data=['song_name', 'artist'],\n",
    "    color='playlist',\n",
    "    height=500,\n",
    "    width=1000\n",
    ").show()"
   ],
   "metadata": {
    "collapsed": false
   }
  },
  {
   "cell_type": "code",
   "execution_count": 27,
   "outputs": [
    {
     "data": {
      "application/vnd.plotly.v1+json": {
       "data": [
        {
         "customdata": [
          [
           "Ivan Sings",
           "Aram Khachaturian"
          ],
          [
           "Prélude in E Minor, Op. 28, No. 4",
           "Frédéric Chopin"
          ],
          [
           "Above the Trees",
           "Kino"
          ],
          [
           "All",
           "Kino"
          ],
          [
           "Anew",
           "Kino"
          ],
          [
           "As a Cloud",
           "Kino"
          ],
          [
           "Away",
           "Kino"
          ],
          [
           "Bloom",
           "Kino"
          ],
          [
           "Charleston",
           "Kino"
          ],
          [
           "Donau",
           "Kino"
          ],
          [
           "Each and Every (Ambient Mix)",
           "Kino"
          ],
          [
           "Each and Every (Piano)",
           "Kino"
          ],
          [
           "Each and Every",
           "Kino"
          ],
          [
           "Erlöst  Redeemed",
           "Kino"
          ],
          [
           "Gathering",
           "Kino"
          ],
          [
           "God Bless Us, Every One",
           "Kino"
          ],
          [
           "Hearth",
           "Kino"
          ],
          [
           "Hēo",
           "Kino"
          ],
          [
           "In Earnest",
           "Kino"
          ],
          [
           "Leinwand (Piano)",
           "Kino"
          ],
          [
           "Leinwand",
           "Kino"
          ],
          [
           "Lightly Tread",
           "Kino"
          ],
          [
           "Lone",
           "Kino"
          ],
          [
           "Many Colors",
           "Kino"
          ],
          [
           "Merrily, Merrily",
           "Kino"
          ],
          [
           "O Tannenbaum",
           "Kino"
          ],
          [
           "Presidio",
           "Kino"
          ],
          [
           "Rambuteau",
           "Kino"
          ],
          [
           "Seafarer's Quartet",
           "Kino"
          ],
          [
           "Seems",
           "Kino"
          ],
          [
           "Silent Night",
           "Kino"
          ],
          [
           "Silver Lake",
           "Kino"
          ],
          [
           "St John's",
           "Kino"
          ],
          [
           "Sunshine - Original",
           "Kino"
          ],
          [
           "Swell",
           "Kino"
          ],
          [
           "The Holly and the Ivy",
           "Kino"
          ],
          [
           "The Weight Unbearable (Piano)",
           "Kino"
          ],
          [
           "The Weight Unbearable",
           "Kino"
          ],
          [
           "Till",
           "Kino"
          ],
          [
           "Trio in E-flat Minor",
           "Kino"
          ],
          [
           "Under",
           "Kino"
          ],
          [
           "Water Lilies",
           "Kino"
          ],
          [
           "Wide Awake",
           "Kino"
          ],
          [
           "Willeth",
           "Kino"
          ],
          [
           "Wolden",
           "Kino"
          ],
          [
           "Yule",
           "Kino"
          ],
          [
           "Piano Sonata No. 14 in C-Sharp Minor, Op. 27 No. 2 “Moonlight”- I. Adagio sostenuto",
           "Ludwig van Beethoven"
          ]
         ],
         "hovertemplate": "playlist=kino<br>PCA1=%{x}<br>PCA2=%{y}<br>song_name=%{customdata[0]}<br>artist=%{customdata[1]}<extra></extra>",
         "legendgroup": "kino",
         "marker": {
          "color": "#636efa",
          "symbol": "circle"
         },
         "mode": "markers",
         "name": "kino",
         "orientation": "v",
         "showlegend": true,
         "x": [
          -4.891375432468681,
          -5.449469269913736,
          -2.4392846047047065,
          -3.5588343942780596,
          -3.7140707079413815,
          -5.514578706292655,
          -3.8854395281270584,
          -2.7497404431992707,
          -3.850051948673663,
          -1.6330498465468781,
          -6.073832752298893,
          -5.038271082710989,
          -2.493796621016733,
          1.5517004643069383,
          -1.3239419628753775,
          -3.716772437762875,
          -5.168358176557408,
          -5.916675543604239,
          -3.8242303430649076,
          -5.257338824106243,
          -4.404812772809457,
          -3.931013645595605,
          -5.785147036286429,
          -1.5469715049148305,
          -2.6493646760605465,
          -4.827671181027905,
          -4.652374196134431,
          -5.6597352637624745,
          -3.2132042850769964,
          -5.7808986623949625,
          -4.98444827384167,
          -2.3926087275034376,
          -0.18342411916520604,
          1.220616776322631,
          1.7251873211134876,
          -1.6559186229570673,
          -6.693051835299503,
          -5.3626941538784525,
          -4.96924803899403,
          -2.7731153640097608,
          -6.543558030412973,
          -5.649804699922566,
          -2.6222023468802527,
          -4.8275000369391465,
          -3.130216197386979,
          -4.3611563673960445,
          -5.768776751490962
         ],
         "xaxis": "x",
         "y": [
          1.0257044040779673,
          0.5979516435654622,
          1.0176613567303028,
          0.5434835116826792,
          1.72109885045275,
          0.9146437789961614,
          0.9526360394912162,
          2.8650646619412767,
          1.2102431851982136,
          -1.6323384111974766,
          2.893353398194324,
          3.122425066917867,
          2.704306393370053,
          0.48157245602934995,
          -3.03647809399328,
          2.374598553771023,
          3.990654083212852,
          0.6914447291119541,
          0.8354915904462278,
          1.801403106533262,
          1.5369554104471777,
          3.2833475116166393,
          -0.02363974853350402,
          1.049347786357857,
          4.612911210041817,
          3.0095382568461373,
          0.863844284996609,
          3.6640391489416078,
          1.9169510463001425,
          -0.012481835663672246,
          2.6086463257756485,
          2.7635285193701113,
          1.2932912624649258,
          -2.538740726611145,
          3.099672403376969,
          4.090067266257317,
          2.498665834800453,
          2.3382550669244004,
          -1.1999098828380013,
          2.910205254940166,
          0.37487971987995033,
          3.922973102975206,
          2.5490893094455074,
          0.781348775230334,
          -1.517250558888245,
          0.28254720760199603,
          -0.36351770686448165
         ],
         "yaxis": "y",
         "type": "scatter"
        },
        {
         "customdata": [
          [
           "But it's Destiny",
           "10cm"
          ],
          [
           "나의 어깨에 기대어요",
           "10cm"
          ],
          [
           "Is You",
           "AILEE"
          ],
          [
           "How can I love the heartbreak, you're the one I love",
           "AKMU"
          ],
          [
           "How can I love the heartbreak, you`re the one I love",
           "AKMU"
          ],
          [
           "Amusement Park",
           "BAEKHYUN"
          ],
          [
           "너를 사랑하고 있어",
           "BAEKHYUN"
          ],
          [
           "Beautiful goodbye",
           "CHEN"
          ],
          [
           "Flower",
           "CHEN"
          ],
          [
           "I'll be there",
           "CHEN"
          ],
          [
           "My dear",
           "CHEN"
          ],
          [
           "Sorry not sorry",
           "CHEN"
          ],
          [
           "Everytime",
           "CHEN"
          ],
          [
           "Wish",
           "Choi Yuree"
          ],
          [
           "Beautiful",
           "Crush"
          ],
          [
           "Let Us Go",
           "Crush"
          ],
          [
           "No Words",
           "Crush"
          ],
          [
           "My Love",
           "DAVICHI"
          ],
          [
           "Please Don't Cry",
           "DAVICHI"
          ],
          [
           "Sunset",
           "DAVICHI"
          ],
          [
           "노력해볼게요 I'll try",
           "DAY6"
          ],
          [
           "I'm In Love With You",
           "Dvwn"
          ],
          [
           "No Problem",
           "Dvwn"
          ],
          [
           "긴 밤이 오면",
           "Eddy Kim"
          ],
          [
           "Rain or Shine",
           "Elaine"
          ],
          [
           "Hate Everything - Korean Version",
           "GSoul"
          ],
          [
           "기억해줘요 내 모든 날과 그때를",
           "Gummy"
          ],
          [
           "Slowly Fall",
           "Ha Hyun Sang"
          ],
          [
           "내 맘을 볼 수 있나요",
           "HEIZE"
          ],
          [
           "Deeply",
           "HEN"
          ],
          [
           "To You",
           "HEN"
          ],
          [
           "It's You",
           "HENRY"
          ],
          [
           "Untitled Love Song",
           "HENRY"
          ],
          [
           "Ending Scene",
           "IU"
          ],
          [
           "Give You My Heart",
           "IU"
          ],
          [
           "Love poem",
           "IU"
          ],
          [
           "My sea",
           "IU"
          ],
          [
           "Holiday",
           "JeHwi"
          ],
          [
           "Stardust love song",
           "JIHYO"
          ],
          [
           "What Lies Ahead",
           "Joe Layne"
          ],
          [
           "Times Like This",
           "Josh Daniel"
          ],
          [
           "Do you want to walk with me (Romance 101 X Jukjae)",
           "Jukjae"
          ],
          [
           "The Days Like Pictures",
           "Jukjae"
          ],
          [
           "나를 찾아서",
           "Jukjae"
          ],
          [
           "별 보러 가자",
           "Jukjae"
          ],
          [
           "Day & Night",
           "Jung Seung Hwan"
          ],
          [
           "Because I Miss You",
           "Jung Yong Hwa"
          ],
          [
           "For First-time Lovers (Banmal-song)",
           "Jung Yong Hwa"
          ],
          [
           "I Go",
           "Kei (Kim Ji Yeon)"
          ],
          [
           "보고싶다 (From. '드라마 천국의 계단')",
           "Kim Bum Soo"
          ],
          [
           "One Day",
           "Kim Feel"
          ],
          [
           "Someday, The Boy",
           "Kim Feel"
          ],
          [
           "Vacance in September",
           "KIM JAE HWAN"
          ],
          [
           "All of My Days",
           "KIMSEJEONG"
          ],
          [
           "If Only",
           "KIMSEJEONG"
          ],
          [
           "Lonely Night",
           "Kwon Jin Ah"
          ],
          [
           "The End",
           "Kwon Jin Ah"
          ],
          [
           "I Won't Heartbreaken",
           "Lee KwangHee"
          ],
          [
           "In My Heart",
           "LIM YEON"
          ],
          [
           "Lost",
           "LIM YEON"
          ],
          [
           "Say Yes",
           "Loco"
          ],
          [
           "Be There For You",
           "NCT DREAM"
          ],
          [
           "Rainbow - Acoustic Version",
           "O.WHEN"
          ],
          [
           "Me After You",
           "Paul Kim"
          ],
          [
           "안녕",
           "Paul Kim"
          ],
          [
           "But I'm Trying to Tell You How Much I Love You (With Moonbit)",
           "saevom"
          ],
          [
           "For You",
           "Sam Kim"
          ],
          [
           "Sunny Day Rainy Day (feat. Kassy)",
           "Sanchez"
          ],
          [
           "Your world",
           "Seol Hoseung (SURL)"
          ],
          [
           "Grown Ups",
           "Sondia"
          ],
          [
           "Hug",
           "Sondia"
          ],
          [
           "Our Souls at Night",
           "Sondia"
          ],
          [
           "우린 친구뿐일까",
           "Sondia"
          ],
          [
           "She",
           "Standing Egg"
          ],
          [
           "Miracle (Feat. Paul Kim)",
           "Stella Jang"
          ],
          [
           "One more time, One more chance",
           "Sung Si Kyung"
          ],
          [
           "君がいるよ",
           "Sung Si Kyung"
          ],
          [
           "Two People",
           "SURAN"
          ],
          [
           "Inevitable",
           "Suzy"
          ],
          [
           "Starlight",
           "TAEIL"
          ],
          [
           "그대라는 시",
           "TAEYEON"
          ],
          [
           "Two Words",
           "WENDY"
          ],
          [
           "What If Love",
           "WENDY"
          ],
          [
           "내일도 또 내일도 Tomorrow After Tomorrow",
           "WISUE"
          ],
          [
           "Your Existence",
           "Wonstein"
          ],
          [
           "Free",
           "Xydo"
          ],
          [
           "너만 너만 너만",
           "Yang Dail"
          ],
          [
           "With me",
           "Yang Dail"
          ],
          [
           "Here I Am Again",
           "Yerin Baek"
          ],
          [
           "Maze",
           "YONGZOO"
          ],
          [
           "ALWAYS",
           "Yoon Mirae"
          ],
          [
           "Flower",
           "Yoon Mirae"
          ],
          [
           "You Are My World",
           "Yoon Mirae"
          ],
          [
           "I Just Want To Stay With You",
           "Zion.T"
          ],
          [
           "Faith",
           "이준화"
          ]
         ],
         "hovertemplate": "playlist=korean-ost<br>PCA1=%{x}<br>PCA2=%{y}<br>song_name=%{customdata[0]}<br>artist=%{customdata[1]}<extra></extra>",
         "legendgroup": "korean-ost",
         "marker": {
          "color": "#EF553B",
          "symbol": "circle"
         },
         "mode": "markers",
         "name": "korean-ost",
         "orientation": "v",
         "showlegend": true,
         "x": [
          1.709568549930475,
          1.8068730655425487,
          2.1797794669726507,
          0.23834164345398093,
          0.20096418566399504,
          2.3103776944697305,
          0.28188622545663966,
          0.6617860663646591,
          1.199668274155674,
          1.585920052258977,
          0.6801621072986799,
          1.0123529535372933,
          2.3602821151131383,
          -1.5705598416342301,
          0.2567323157124242,
          1.9666802697820704,
          0.5478271820130066,
          1.7921216131838589,
          2.47644532695753,
          0.5821564827789247,
          2.5270974207590076,
          1.235956243929183,
          1.2406238595987467,
          1.3161610984246188,
          1.0668381701287324,
          0.49733101742933883,
          0.9668752795277338,
          -0.8632065709511724,
          -0.19235292794221148,
          -0.2472569421907469,
          -0.14528254239203325,
          2.05148494822111,
          3.126057075568528,
          1.8111771746977077,
          3.7471619892911483,
          0.4398458596228945,
          3.2165955089646463,
          1.4626434958722427,
          2.177050965247858,
          1.4506384148690055,
          2.581846315270873,
          -0.2344957692031363,
          -0.21003137872724997,
          2.306200194756372,
          -0.6130311887637305,
          -0.032795798585357916,
          1.3691604864143228,
          2.9737275585198275,
          3.397335421614241,
          -0.38573501211234323,
          1.6142371355800529,
          0.6455747361240991,
          3.6094259518140905,
          1.6513039343914047,
          2.9756030309722585,
          2.0918818288776233,
          3.854399029600614,
          -3.4194991087716162,
          3.4508880549327805,
          0.5576266717311117,
          5.43492787835759,
          3.0118271030719344,
          -0.44794664911661797,
          0.15314568931219227,
          0.7561974093098113,
          4.718188866329366,
          3.450682213710348,
          5.038296706979581,
          0.0355627382424391,
          -0.3103877287714781,
          0.5958874283515702,
          -0.9392112157407916,
          0.18861609348845929,
          0.3310909835052241,
          0.7252188282288855,
          1.4618682233103464,
          1.553079883390078,
          2.7451009186014055,
          0.8423329403576558,
          1.7451830509651536,
          1.381029179888954,
          0.7910031817714428,
          1.8061481541157443,
          0.6503303651699287,
          4.1753994325701385,
          2.7070428762659766,
          0.775484681094162,
          2.9554585341685446,
          0.9747959448260854,
          -0.2954190655344758,
          -0.671177323768091,
          -1.1832939615377451,
          1.0059573665779842,
          0.8721755336078634,
          2.052222013010939
         ],
         "xaxis": "x",
         "y": [
          -0.44081579265167764,
          0.792786922894911,
          2.2997864765361204,
          2.3419004098544205,
          2.3226306752967694,
          3.170398996655198,
          1.1545995228969896,
          3.7548037561995935,
          2.7501579560930205,
          0.8325548675649329,
          0.27673647790022143,
          0.9039308805984386,
          -0.24211889580020116,
          2.08155822317858,
          0.4917801288789038,
          1.8675857551586972,
          1.1422954733738309,
          1.2965409067877245,
          1.8274665480425876,
          1.5288110349435913,
          3.172246415459127,
          -1.9541983818036979,
          -0.26579371595573553,
          0.3667784915551403,
          4.7162501286823355,
          1.2044811661122734,
          0.6414681937706497,
          0.8331625871817495,
          1.239521795494506,
          3.218366956136957,
          2.720893059636971,
          -0.9033611761067764,
          0.16005773004444607,
          3.2552096458952082,
          2.479012684707538,
          0.14055860961464786,
          -0.3236140796974259,
          0.2970902355900868,
          1.1834474075059902,
          0.8220175480346856,
          3.5117487845518767,
          -2.099594905143646,
          -1.2166646451632368,
          -1.2895886113987882,
          -0.9686701172822634,
          2.1379578497360283,
          -1.6594633256554268,
          -2.1788302581868546,
          0.22019140445408025,
          -0.6536338264629457,
          -1.3733160478725175,
          1.5051565264149165,
          -1.2197670302379506,
          1.3864687199221757,
          1.7315685201873852,
          0.28102088376529616,
          3.288653778952426,
          -1.0845209438152938,
          1.6165351273910773,
          1.9675554373256963,
          1.2142509137966067,
          -0.6054868279489124,
          -1.3431856655797374,
          0.33263230903933866,
          -0.010511232468608292,
          5.225697180212867,
          4.53002695570062,
          1.4574319902657327,
          -3.2870694397249025,
          -0.5736703210767513,
          -2.5119765391691775,
          2.910218506190437,
          -0.19154041130324376,
          -1.6180662597664848,
          -1.1856643603837342,
          0.6224259638674653,
          1.4470994338734888,
          2.599228681101666,
          1.5180774640574826,
          -3.666728973769885,
          2.5445104849352176,
          0.26363783960971066,
          -1.2198039514229388,
          1.5786589111201212,
          2.941153239212907,
          -3.4281692225439344,
          -0.20420710025158728,
          -0.8363550613767863,
          0.6227052297956237,
          0.10177303875280481,
          -1.0331294763413992,
          -0.5324980266900975,
          0.1426106281330997,
          -0.6444830822978997,
          0.5056929646091195
         ],
         "yaxis": "y",
         "type": "scatter"
        },
        {
         "customdata": [
          [
           "A Speck of Light - Reimagined",
           "Lights & Motion"
          ],
          [
           "A Speck of Light",
           "Lights & Motion"
          ],
          [
           "All the Way",
           "Lights & Motion"
          ],
          [
           "Anamorphic",
           "Lights & Motion"
          ],
          [
           "Anchor",
           "Lights & Motion"
          ],
          [
           "Anomaly",
           "Lights & Motion"
          ],
          [
           "Antlers",
           "Lights & Motion"
          ],
          [
           "Arms Wide Open",
           "Lights & Motion"
          ],
          [
           "As the World Goes Away",
           "Lights & Motion"
          ],
          [
           "As They Sleep",
           "Lights & Motion"
          ],
          [
           "Aurora",
           "Lights & Motion"
          ],
          [
           "Deafening Silence",
           "Lights & Motion"
          ],
          [
           "DNA",
           "Lights & Motion"
          ],
          [
           "Equals",
           "Lights & Motion"
          ],
          [
           "Everest",
           "Lights & Motion"
          ],
          [
           "Exhale",
           "Lights & Motion"
          ],
          [
           "Feathers",
           "Lights & Motion"
          ],
          [
           "Fireflies",
           "Lights & Motion"
          ],
          [
           "From Dust",
           "Lights & Motion"
          ],
          [
           "Glistening - Reimagined",
           "Lights & Motion"
          ],
          [
           "Glistening",
           "Lights & Motion"
          ],
          [
           "Glow",
           "Lights & Motion"
          ],
          [
           "I See You (feat. Frida Sundemo)",
           "Lights & Motion"
          ],
          [
           "I See You - Reimagined (feat. Frida Sundemo)",
           "Lights & Motion"
          ],
          [
           "Lucid Dreaming",
           "Lights & Motion"
          ],
          [
           "Northern Lights",
           "Lights & Motion"
          ],
          [
           "Pandora",
           "Lights & Motion"
          ],
          [
           "Panic Attack",
           "Lights & Motion"
          ],
          [
           "Paper Wings",
           "Lights & Motion"
          ],
          [
           "Parachutes",
           "Lights & Motion"
          ],
          [
           "Particle Storm",
           "Lights & Motion"
          ],
          [
           "Perfect Symmetry",
           "Lights & Motion"
          ],
          [
           "Phoenix",
           "Lights & Motion"
          ],
          [
           "Reanimation - Revisited 10th Anniversary Edition",
           "Lights & Motion"
          ],
          [
           "Reborn",
           "Lights & Motion"
          ],
          [
           "Separated Hearts - Reimagined",
           "Lights & Motion"
          ],
          [
           "Separated Hearts",
           "Lights & Motion"
          ],
          [
           "Silver Lining",
           "Lights & Motion"
          ],
          [
           "Sleeping Giant",
           "Lights & Motion"
          ],
          [
           "Sypher",
           "Lights & Motion"
          ],
          [
           "The First Day",
           "Lights & Motion"
          ],
          [
           "The Great Wide Open - Reimagined",
           "Lights & Motion"
          ],
          [
           "The Great Wide Open",
           "Lights & Motion"
          ],
          [
           "The Moments Before",
           "Lights & Motion"
          ],
          [
           "The Spectacular Quiet",
           "Lights & Motion"
          ],
          [
           "The World I Remember",
           "Lights & Motion"
          ],
          [
           "This Explosion Within",
           "Lights & Motion"
          ],
          [
           "Touching Sky",
           "Lights & Motion"
          ],
          [
           "We Only Have Forever",
           "Lights & Motion"
          ],
          [
           "When Everything Is Falling",
           "Lights & Motion"
          ],
          [
           "Wilderness",
           "Lights & Motion"
          ],
          [
           "Winter Solstice",
           "Lights & Motion"
          ],
          [
           "Wolves (feat. Johan Hasselblom)",
           "Lights & Motion"
          ],
          [
           "Wolves - Reimagined (feat. Johan Hasselblom)",
           "Lights & Motion"
          ],
          [
           "Woven",
           "Lights & Motion"
          ],
          [
           "Year Zero",
           "Lights & Motion"
          ]
         ],
         "hovertemplate": "playlist=lights-and-motion<br>PCA1=%{x}<br>PCA2=%{y}<br>song_name=%{customdata[0]}<br>artist=%{customdata[1]}<extra></extra>",
         "legendgroup": "lights-and-motion",
         "marker": {
          "color": "#00cc96",
          "symbol": "circle"
         },
         "mode": "markers",
         "name": "lights-and-motion",
         "orientation": "v",
         "showlegend": true,
         "x": [
          -3.7163179710016108,
          0.760433948928869,
          -2.025708987897785,
          -3.179764210100787,
          -1.1516331754183933,
          -2.3456000413903193,
          -0.3978470258729189,
          0.4706753485897181,
          1.9491610973905413,
          -3.60497932930793,
          -1.8552824858680934,
          -1.1124686838390372,
          -1.5112036630341472,
          -2.7663043905761078,
          -2.501046946088132,
          -0.11011031551407599,
          -0.7177041100944694,
          0.8901169738988768,
          -0.7202028541151744,
          -1.9008309223149131,
          0.057958423142661024,
          -3.7487164398212895,
          0.3170895464183827,
          1.39553759601237,
          -2.50029399342193,
          -5.270585266318448,
          1.1611851235745911,
          -0.9791918672386616,
          -5.047128993156435,
          0.19432665204105118,
          1.7297635551809905,
          -2.802231083783683,
          -1.0704016023787326,
          0.7535612998236937,
          -0.234435075935878,
          -2.4821272276590243,
          -1.8532266408007054,
          -1.8879615054422696,
          -0.5792556591019875,
          -0.6167610656763237,
          -3.873388931178601,
          -3.684003387809224,
          -1.8178085437257037,
          -2.313505164003206,
          -2.2976987964741578,
          -1.3362308738821504,
          1.097556321859418,
          -0.12777311023672128,
          -1.2819888440013087,
          -2.5265040036164006,
          -1.9279845667668305,
          -3.4708308247998727,
          -1.4048260597034612,
          -1.001541660974172,
          -1.5806688750299254,
          -1.6813042852866373
         ],
         "xaxis": "x",
         "y": [
          -0.2947312454380219,
          0.34265295954167313,
          -1.7153906226241102,
          0.8951890312488219,
          -3.5376479069621563,
          1.76643365411616,
          -2.5285677897285193,
          -5.16317226161638,
          0.11670843670161996,
          0.34455934579885755,
          -1.3800149936627906,
          -1.0415388080924028,
          -3.528500308324281,
          -0.643284717580111,
          -1.5670005269180614,
          -1.403066523634438,
          -1.4987524121031428,
          0.5403256741085536,
          -2.967060519897203,
          1.3532552196520276,
          1.4024723458871498,
          0.2502429852461854,
          -0.21044756854354477,
          0.13464723784323995,
          0.40790230350526324,
          0.549333286877607,
          -4.394996608285573,
          -5.120627901941762,
          1.9564614253344288,
          -1.5539083321645284,
          -0.8701616814375155,
          -0.20296121687585236,
          -2.2285023639276185,
          -3.5529077830778615,
          -2.145114022469623,
          2.6147014132386364,
          0.7030317471234531,
          -1.4048232961312799,
          -1.7930013647696836,
          -4.063357828607126,
          -1.1906084982208456,
          -0.9300836757780976,
          -0.9065876986975291,
          -3.376561531086173,
          -1.1807498187866141,
          -3.9327910421324423,
          -2.9127483681463633,
          -3.3860718352328427,
          -5.645244862682787,
          -2.2685529231764527,
          -4.20445001915889,
          -0.5565736806620702,
          -4.3787683944959905,
          -0.9668298441345038,
          -2.704967549684284,
          -3.3588438917894106
         ],
         "yaxis": "y",
         "type": "scatter"
        },
        {
         "customdata": [
          [
           "Another Wave from You",
           "M83"
          ],
          [
           "Claudia Lewis",
           "M83"
          ],
          [
           "Echoes of Mine",
           "M83"
          ],
          [
           "Fountains",
           "M83"
          ],
          [
           "Intro",
           "M83"
          ],
          [
           "Klaus I Love You",
           "M83"
          ],
          [
           "Midnight City",
           "M83"
          ],
          [
           "My Tears Are Becoming a Sea",
           "M83"
          ],
          [
           "New Map",
           "M83"
          ],
          [
           "Ok Pal",
           "M83"
          ],
          [
           "Outro",
           "M83"
          ],
          [
           "Raconte-moi une histoire",
           "M83"
          ],
          [
           "Reunion",
           "M83"
          ],
          [
           "Soon, My Friend",
           "M83"
          ],
          [
           "Splendor",
           "M83"
          ],
          [
           "Steve Mcqueen",
           "M83"
          ],
          [
           "This Bright Flash",
           "M83"
          ],
          [
           "Train to Pluton",
           "M83"
          ],
          [
           "Wait",
           "M83"
          ],
          [
           "When Will You Come Home",
           "M83"
          ],
          [
           "Where the Boats Go",
           "M83"
          ],
          [
           "Year One, One Ufo",
           "M83"
          ],
          [
           "Ashes of Our Fathers",
           "M83"
          ],
          [
           "Canyon Battle",
           "M83"
          ],
          [
           "Earth 2077",
           "M83"
          ],
          [
           "Fearful Odds",
           "M83"
          ],
          [
           "I'm Sending You Away",
           "M83"
          ],
          [
           "Jack's Dream",
           "M83"
          ],
          [
           "Losing Control",
           "M83"
          ],
          [
           "Odyssey Rescue",
           "M83"
          ],
          [
           "Radiation Zone",
           "M83"
          ],
          [
           "Raven Rock",
           "M83"
          ],
          [
           "StarWaves",
           "M83"
          ],
          [
           "Tech 49",
           "M83"
          ],
          [
           "Temples of Our Gods",
           "M83"
          ],
          [
           "Undimmed by Time, Unbound by Death",
           "M83"
          ],
          [
           "Waking Up",
           "M83"
          ],
          [
           "You Can't Save Her",
           "M83"
          ],
          [
           "Oblivion",
           "M83"
          ]
         ],
         "hovertemplate": "playlist=m83<br>PCA1=%{x}<br>PCA2=%{y}<br>song_name=%{customdata[0]}<br>artist=%{customdata[1]}<extra></extra>",
         "legendgroup": "m83",
         "marker": {
          "color": "#ab63fa",
          "symbol": "circle"
         },
         "mode": "markers",
         "name": "m83",
         "orientation": "v",
         "showlegend": true,
         "x": [
          0.7633263610795396,
          4.876188773021351,
          1.2497459732785772,
          -0.8923400717100284,
          1.3744641868260923,
          0.11699328099123253,
          2.202904240981556,
          0.03759454970718055,
          1.9502288847457825,
          3.501911673331135,
          1.7171414917501544,
          0.8806081928300644,
          2.2180898388457675,
          0.3865506395795225,
          -1.7556617361618865,
          1.9097493790779794,
          2.173667193900575,
          -3.3072690240898925,
          -0.48493860859305515,
          -1.387329786705042,
          -1.9810066689194485,
          2.235174186838069,
          -3.216997644178472,
          -2.6225468710345488,
          -1.3694021609568634,
          -3.0506716953694952,
          -2.9367515612221653,
          -4.073256137975083,
          -2.5136480141785498,
          -2.65684977937093,
          -1.1467583479082837,
          -3.5712294373744093,
          -1.7916119664217083,
          -3.3825584397667727,
          -4.261281876687268,
          -2.7945982539213836,
          -3.9850852732467295,
          -3.6298563512421476,
          -0.4514141598215352
         ],
         "xaxis": "x",
         "y": [
          2.9948254844463027,
          -4.39485128843377,
          -2.7726761702666796,
          -0.8771655948734739,
          -5.345176657614249,
          -5.21781448539732,
          -4.067699972290008,
          -0.6652023248455688,
          -3.891426580695809,
          -4.572505142241657,
          -0.8640107663874382,
          -3.835517779341363,
          -5.599620031572136,
          -0.7768650104979303,
          1.1122113113581586,
          -5.620805714910291,
          -6.155494428406057,
          -1.984684578612241,
          -1.591536034042977,
          4.295205447150818,
          -1.8734820118191902,
          -5.83274030890236,
          -3.1525965805688654,
          -3.808995581606037,
          -4.295352307629544,
          -3.649704518072416,
          -1.1417803429798223,
          0.987918975909935,
          -2.472570494309872,
          -1.2482401485192662,
          -1.841446034325494,
          -0.21491162712301756,
          -0.881120926751074,
          -2.211922071593947,
          -2.1848106254320947,
          2.2019229333091617,
          -3.7043399092078353,
          -2.2020505811590922,
          -3.226645780485475
         ],
         "yaxis": "y",
         "type": "scatter"
        },
        {
         "customdata": [
          [
           "A Moment Apart",
           "ODESZA"
          ],
          [
           "Across The Room (feat. Leon Bridges)",
           "ODESZA"
          ],
          [
           "Boy",
           "ODESZA"
          ],
          [
           "Corners Of The Earth (feat. RY X)",
           "ODESZA"
          ],
          [
           "Divide (feat. Kelsey Bulkin)",
           "ODESZA"
          ],
          [
           "Everything At Your Feet (feat. The Chamanas)",
           "ODESZA"
          ],
          [
           "Falls (feat. Sasha Alex Sloan)",
           "ODESZA"
          ],
          [
           "Falls (Reprise) (feat. Sasha Alex Sloan)",
           "ODESZA"
          ],
          [
           "Falls (Reprise) - Instrumental",
           "ODESZA"
          ],
          [
           "Higher Ground (feat. Naomi Wild)",
           "ODESZA"
          ],
          [
           "Higher Ground (Reprise) (feat. Naomi Wild)",
           "ODESZA"
          ],
          [
           "Higher Ground (Reprise) - Instrumental",
           "ODESZA"
          ],
          [
           "Intro",
           "ODESZA"
          ],
          [
           "It’s Only (feat. Zyra) - ODESZA VIP Remix",
           "ODESZA"
          ],
          [
           "Just A Memory (feat. Regina Spektor)",
           "ODESZA"
          ],
          [
           "La Ciudad",
           "ODESZA"
          ],
          [
           "Late Night",
           "ODESZA"
          ],
          [
           "Line Of Sight (feat. WYNNE & Mansionair)",
           "ODESZA"
          ],
          [
           "Line Of Sight (Reprise) (feat. WYNNE & Mansionair)",
           "ODESZA"
          ],
          [
           "Line Of Sight (Reprise) - Instrumental",
           "ODESZA"
          ],
          [
           "Loyal",
           "ODESZA"
          ],
          [
           "Memories That You Call (feat. Monsoonsiren) - ODESZA & Golden Features VIP Remix",
           "ODESZA"
          ],
          [
           "Meridian",
           "ODESZA"
          ],
          [
           "Show Me",
           "ODESZA"
          ],
          [
           "Thin Floors And Tall Ceilings",
           "ODESZA"
          ]
         ],
         "hovertemplate": "playlist=odesza<br>PCA1=%{x}<br>PCA2=%{y}<br>song_name=%{customdata[0]}<br>artist=%{customdata[1]}<extra></extra>",
         "legendgroup": "odesza",
         "marker": {
          "color": "#FFA15A",
          "symbol": "circle"
         },
         "mode": "markers",
         "name": "odesza",
         "orientation": "v",
         "showlegend": true,
         "x": [
          0.8008940757435618,
          2.242361461046502,
          5.9466076299822745,
          2.8130765795906902,
          2.4704143351801098,
          3.273780723961989,
          2.1344842715337906,
          1.8849501234621886,
          -1.3930376942621066,
          2.1950292501443727,
          0.4763462262957114,
          -1.1157098561129775,
          2.019289256089054,
          2.1827190240185557,
          2.441012154799591,
          1.2110473407929876,
          2.402532253803282,
          0.9776523169670571,
          -0.34717346995169296,
          -1.7763284992377035,
          0.9506067461593959,
          3.1649533898998574,
          3.137981506658592,
          1.852332854042652,
          0.13401238841239183
         ],
         "xaxis": "x",
         "y": [
          -0.17920273330946354,
          0.3531527210309881,
          2.748353291371733,
          0.6601385035954281,
          -1.4368624380314516,
          -0.4464535983429933,
          -2.494223804010206,
          4.313497085603705,
          2.6724192754853537,
          -1.659264306158176,
          -0.11674513093940678,
          -0.5720420157031512,
          1.9230036174999905,
          -4.888389798150847,
          2.334370596753277,
          -3.7666381305483525,
          -0.8134980225179305,
          -1.0266365600124507,
          0.11168720219586557,
          0.26957867907017685,
          -4.215815098007177,
          1.5834270663894439,
          -2.6387449963702774,
          -0.2856083133978988,
          -0.9206166289782809
         ],
         "yaxis": "y",
         "type": "scatter"
        },
        {
         "customdata": [
          [
           "April 10, 2019- Powehi - Image of a Black Hole",
           "Sleeping At Last"
          ],
          [
           "August 12, 2018- Perseid Meteor Shower",
           "Sleeping At Last"
          ],
          [
           "August 21, 2017- Total Solar Eclipse",
           "Sleeping At Last"
          ],
          [
           "December 13, 2017- Geminid Meteor Shower",
           "Sleeping At Last"
          ],
          [
           "December 17, 2018- Farout",
           "Sleeping At Last"
          ],
          [
           "December 21, 2020- The Great Conjunction",
           "Sleeping At Last"
          ],
          [
           "December 25, 2021- Webb Space Telescope - Launch",
           "Sleeping At Last"
          ],
          [
           "February 1, 2023- C2022 E3 - Comet Ztf",
           "Sleeping At Last"
          ],
          [
           "February 13, 2019- Opportunity - Mission Complete",
           "Sleeping At Last"
          ],
          [
           "February 18, 2021- Perseverance - Mars Landing",
           "Sleeping At Last"
          ],
          [
           "January 30, 2020- Spitzer - Final Voyage",
           "Sleeping At Last"
          ],
          [
           "January 31, 2018- Super Blue Blood Moon",
           "Sleeping At Last"
          ],
          [
           "July 22, 2020- C  2020 F3 - Comet Neowise",
           "Sleeping At Last"
          ],
          [
           "July 27, 2018- Total Lunar Eclipse",
           "Sleeping At Last"
          ],
          [
           "July 4, 2020- Aphelion",
           "Sleeping At Last"
          ],
          [
           "June 24, 2022- Parade of Planets",
           "Sleeping At Last"
          ],
          [
           "June 30, 2018- Pds 70b (Birth of a Planet)",
           "Sleeping At Last"
          ],
          [
           "October 30, 2018- Kepler - Goodnight",
           "Sleeping At Last"
          ],
          [
           "September 15, 2017- Cassini - The Grand Finale",
           "Sleeping At Last"
          ]
         ],
         "hovertemplate": "playlist=sleeping-at-last<br>PCA1=%{x}<br>PCA2=%{y}<br>song_name=%{customdata[0]}<br>artist=%{customdata[1]}<extra></extra>",
         "legendgroup": "sleeping-at-last",
         "marker": {
          "color": "#19d3f3",
          "symbol": "circle"
         },
         "mode": "markers",
         "name": "sleeping-at-last",
         "orientation": "v",
         "showlegend": true,
         "x": [
          -2.0289993663298986,
          -1.4648554828459786,
          -1.563708116836369,
          -2.781993837487356,
          -1.7462261947037074,
          -2.592975358040137,
          -2.1500461303771177,
          -2.2251536579090754,
          -1.9397208918815714,
          -3.530715551606817,
          -1.7854442354405102,
          -2.7856372571745935,
          -3.216125968207542,
          -2.2312343862349313,
          -2.870117994382148,
          -3.139870634112257,
          2.186726062863373,
          -0.6979959262558314,
          -1.8209909820674843
         ],
         "xaxis": "x",
         "y": [
          3.7560459616643485,
          3.370511787366508,
          6.33977215926533,
          4.6723130387739875,
          3.184830118347518,
          2.0222219032615842,
          -0.26674435716663675,
          3.8550194009542866,
          0.7769199744322915,
          3.5280041716301134,
          4.510224925832253,
          0.7086972263985725,
          1.2094627624974956,
          2.30058439614525,
          3.275583734115819,
          1.8883659335140341,
          6.767685445819328,
          2.4821919118367344,
          1.819135221715549
         ],
         "yaxis": "y",
         "type": "scatter"
        },
        {
         "customdata": [
          [
           "It's Ok If You Forget Me",
           "Astrid S"
          ],
          [
           "Young & Alive",
           "Bazzi"
          ],
          [
           "Paralyze",
           "Bjørnskov"
          ],
          [
           "San Diego",
           "BRDGS"
          ],
          [
           "Ear Candy",
           "Caye"
          ],
          [
           "12 Hours",
           "Chris James"
          ],
          [
           "My Universe",
           "Coldplay"
          ],
          [
           "Overdrive",
           "Conan Gray"
          ],
          [
           "Titanic",
           "Cosmo's Midnight"
          ],
          [
           "Champagne For Two",
           "Devin Kennedy"
          ],
          [
           "Another Round",
           "Elina"
          ],
          [
           "How",
           "Elina"
          ],
          [
           "Paper Planes",
           "Elina"
          ],
          [
           "Nirvana",
           "ELLIANA"
          ],
          [
           "Lost In Space",
           "Emmit Fenn"
          ],
          [
           "12-45 - Stripped",
           "Etham"
          ],
          [
           "Purpose - Stripped",
           "Etham"
          ],
          [
           "California",
           "Ethan Dufault"
          ],
          [
           "Hurt The Ones We Love The Most",
           "Evan Blum"
          ],
          [
           "Young Love",
           "Falcon"
          ],
          [
           "I Should've Told You",
           "Fiji Blue"
          ],
          [
           "Waves",
           "Fiji Blue"
          ],
          [
           "Healing",
           "FLETCHER"
          ],
          [
           "hold on",
           "flor"
          ],
          [
           "Automatic (feat. Jake Miller)",
           "Fly By Midnight"
          ],
          [
           "Lovely",
           "Fly By Midnight"
          ],
          [
           "Lonely",
           "Gatsby"
          ],
          [
           "dear me,",
           "Gentle Bones"
          ],
          [
           "I Wouldn't Know Any Better Than You",
           "Gentle Bones"
          ],
          [
           "So Far So Good",
           "Great Good Fine Ok"
          ],
          [
           "Falling",
           "Harry Styles"
          ],
          [
           "sometimes",
           "Heather Sommer"
          ],
          [
           "you heard me",
           "Heather Sommer"
          ],
          [
           "Crying Over You ◐",
           "HONNE"
          ],
          [
           "Day Dreaming",
           "Jack & Jack"
          ],
          [
           "Ross And Rachel",
           "Jake Miller"
          ],
          [
           "Showing You Off",
           "Jake Miller"
          ],
          [
           "Like No One Does",
           "Jake Scott"
          ],
          [
           "CWJBHN",
           "Jake Scott"
          ],
          [
           "drive all night",
           "joan"
          ],
          [
           "i loved you first",
           "joan"
          ],
          [
           "love somebody like you",
           "joan"
          ],
          [
           "magnetic",
           "joan"
          ],
          [
           "6 months",
           "John K"
          ],
          [
           "ilym (feat. ROSIE)",
           "John K"
          ],
          [
           "I Believe",
           "Jonas Brothers"
          ],
          [
           "I Quit Drinking",
           "Kelsea Ballerini"
          ],
          [
           "13",
           "LANY"
          ],
          [
           "dancing in the kitchen",
           "LANY"
          ],
          [
           "dna",
           "LANY"
          ],
          [
           "get away",
           "LANY"
          ],
          [
           "I Don't Wanna Love You Anymore",
           "LANY"
          ],
          [
           "if this is the last time",
           "LANY"
          ],
          [
           "ILYSB - STRIPPED",
           "LANY"
          ],
          [
           "ILYSB",
           "LANY"
          ],
          [
           "Let Me Know",
           "LANY"
          ],
          [
           "Malibu Nights",
           "LANY"
          ],
          [
           "Super Far",
           "LANY"
          ],
          [
           "Thru These Tears",
           "LANY"
          ],
          [
           "up to me",
           "LANY"
          ],
          [
           "you!",
           "LANY"
          ],
          [
           "Tattoos Together",
           "Lauv"
          ],
          [
           "When We Were Younger",
           "Loving Caliber"
          ],
          [
           "Love You Back",
           "Madeon"
          ],
          [
           "colorblind",
           "Mokita"
          ],
          [
           "London",
           "Mokita"
          ],
          [
           "Ready Yet",
           "Mokita"
          ],
          [
           "Shut Up I Love U",
           "Neptune"
          ],
          [
           "This Is Heaven",
           "Nick Jonas"
          ],
          [
           "Plot Twist",
           "NIKI"
          ],
          [
           "Waves",
           "Paige"
          ],
          [
           "Shelter",
           "Porter Robinson"
          ],
          [
           "Outsider",
           "Rachel Grae"
          ],
          [
           "Dandelions",
           "Ruth B."
          ],
          [
           "Lie",
           "Sasha Alex Sloan"
          ],
          [
           "Day Dreaming",
           "Sopha"
          ],
          [
           "I Always Wanna Die (Sometimes)",
           "The 1975"
          ],
          [
           "I'm In Love With You",
           "The 1975"
          ],
          [
           "It's Not Living (If It's Not With You)",
           "The 1975"
          ],
          [
           "Robbers",
           "The 1975"
          ],
          [
           "She's American",
           "The 1975"
          ],
          [
           "Somebody Else",
           "The 1975"
          ],
          [
           "Going Home",
           "The Aces"
          ],
          [
           "Sunset",
           "The Midnight"
          ],
          [
           "Say So",
           "The Sam Willows"
          ],
          [
           "I Can't Stop Thinking About You",
           "The Shadowboxers"
          ],
          [
           "Strawberries & Cigarettes",
           "Troye Sivan"
          ],
          [
           "If Only for Tonight",
           "Vacation Manor"
          ],
          [
           "rocket science",
           "vaultboy"
          ],
          [
           "no excuses",
           "Virginia To Vegas"
          ],
          [
           "Got A Little Crush On You",
           "Wildflowers"
          ],
          [
           "Talking To Myself",
           "Will Jay"
          ],
          [
           "Dance Like Nobody's Watching",
           "Yuna"
          ],
          [
           "dancing in the kitchen",
           "Zachary Knowles"
          ],
          [
           "stranger to me",
           "Zachary Knowles"
          ],
          [
           "could you love me while i hate myself",
           "Zeph"
          ]
         ],
         "hovertemplate": "playlist=synth-pop<br>PCA1=%{x}<br>PCA2=%{y}<br>song_name=%{customdata[0]}<br>artist=%{customdata[1]}<extra></extra>",
         "legendgroup": "synth-pop",
         "marker": {
          "color": "#FF6692",
          "symbol": "circle"
         },
         "mode": "markers",
         "name": "synth-pop",
         "orientation": "v",
         "showlegend": true,
         "x": [
          6.394070522164683,
          4.862457343946512,
          3.96759339016261,
          3.351204091811668,
          2.2575547013259465,
          5.923929381509921,
          2.8125829020019384,
          3.238948934033206,
          5.689765146855799,
          6.938127940011222,
          0.18401610205405117,
          1.9301793894143726,
          0.29899187909987796,
          -0.4270257086458195,
          -0.020636912690166254,
          4.147826921705633,
          4.568342392059,
          4.586183711690295,
          4.513762607248654,
          4.94971790799105,
          6.167657301748308,
          3.365699374523347,
          4.059939568545383,
          2.7219775002062225,
          2.931051746049733,
          3.276287080508754,
          3.192068046357714,
          3.706913145960948,
          5.148198683059786,
          4.264765688341099,
          1.9593517965426155,
          4.434185897355905,
          5.379977427122515,
          3.2196280751958644,
          6.7942409902038845,
          2.163612724295749,
          7.0795516165599786,
          2.6041916685932014,
          2.993240809177558,
          2.0747233872590902,
          1.8879988603058842,
          2.9635871531359337,
          3.3206814809287986,
          2.711728366012868,
          0.3427938650063925,
          3.2859013625144255,
          3.80199402221823,
          4.5818124768729165,
          3.6536934444488836,
          5.370395339170822,
          2.472236489198659,
          4.269425350428406,
          1.3369867606244832,
          1.8577614210043962,
          2.1989452878891758,
          5.182713684354214,
          1.9176257294831955,
          5.398453641660876,
          3.9863483864416924,
          3.7192834014510234,
          0.4007245772446244,
          7.092100106816938,
          -0.012996571414434067,
          1.0923721463909906,
          5.554318114534306,
          2.2299879431092773,
          5.976997457280385,
          1.8168630198173457,
          4.316673338140882,
          2.968502054967932,
          3.9539777834300387,
          3.1222842826248267,
          1.72936157650845,
          4.2202214433659675,
          2.3127868280924093,
          0.4543399851870768,
          2.350925423981957,
          1.3807400544882151,
          2.7186258389405284,
          3.0242559171301573,
          4.578592513079009,
          1.8107683779184809,
          3.7050515287539114,
          5.132032436966889,
          3.5473408913549287,
          2.2846086243527544,
          3.851538842487092,
          0.5755189091992428,
          4.03187374608951,
          5.891783632446486,
          2.7446468791145304,
          4.84384867610772,
          3.723552960768841,
          5.033725658207289,
          3.800220972460792,
          0.8034414741866831
         ],
         "xaxis": "x",
         "y": [
          5.552699400044932,
          2.482890716269312,
          -1.150774657547098,
          -1.202472330364368,
          0.274118207557158,
          3.519509397553737,
          -2.899252851326412,
          -1.2052178591434197,
          -0.6173507285606082,
          3.4012141867450287,
          0.8706896573978787,
          3.428410091973727,
          -0.42109329025941067,
          -1.4474762726820927,
          2.4192433347558806,
          2.3480891793461893,
          3.1348729490464056,
          -2.209442689676359,
          2.881674857264468,
          0.3965488234362694,
          5.299422526258645,
          -0.5029609847697761,
          1.8063985452850972,
          -1.998721384675677,
          0.5170452160092746,
          -2.639410019316723,
          0.2975079704418824,
          1.2624749721635613,
          2.094561024889565,
          -1.8914737548360907,
          3.475830220669872,
          1.2858762563059802,
          3.2168693607579346,
          -1.6720335585026331,
          2.948278992386791,
          0.32167829671440523,
          0.06518518027464344,
          0.2622031423660048,
          -0.3143944900669642,
          -4.377014710303171,
          -1.3335653225240893,
          -1.422806120207954,
          -2.032484345297382,
          0.05537788396867904,
          -0.5864699961426251,
          -2.823145019161956,
          1.1945234946693895,
          1.3686495307988964,
          -1.7031417758673035,
          0.2837579003549651,
          -2.0311285126932286,
          2.110349453360761,
          -3.0819120152217727,
          1.2300884917223869,
          -0.7500074278129597,
          1.1977557311049887,
          2.6301420185523274,
          1.1743941693554556,
          -0.3021146809765608,
          -1.8592937879194436,
          -1.8717539694373448,
          -0.500941606214943,
          2.655214526038234,
          -1.4516231986119228,
          4.501405248894012,
          -0.18488914165064493,
          1.1851166956240582,
          -1.9447145734592395,
          -3.0163558915161097,
          1.733604129886174,
          0.5693816013497953,
          -2.9895984660827257,
          2.0093619323266423,
          -1.4165874358478456,
          0.6424212621792916,
          3.8636176821851658,
          -3.413169350618013,
          -3.199083902164942,
          -3.8215906725964564,
          -3.510098067037386,
          0.20662582103251761,
          -1.9602337651679305,
          -0.39223221381059425,
          -3.0132149335120677,
          1.2612382567312206,
          0.6207693455822437,
          -0.6033177118448335,
          -2.6130479142398615,
          1.8847408699910106,
          -0.6498552294925972,
          -0.21373912787422358,
          0.701522379603387,
          1.518315274596533,
          -1.3348907703226094,
          2.810919742661368,
          0.6217577224375751
         ],
         "yaxis": "y",
         "type": "scatter"
        },
        {
         "customdata": [
          [
           "Allure",
           "Tony Anderson"
          ],
          [
           "Aurora",
           "Tony Anderson"
          ],
          [
           "Chasm",
           "Tony Anderson"
          ],
          [
           "Darkest Night",
           "Tony Anderson"
          ],
          [
           "Deep Waters - Original Sketch",
           "Tony Anderson"
          ],
          [
           "Deep Waters",
           "Tony Anderson"
          ],
          [
           "Delusion",
           "Tony Anderson"
          ],
          [
           "Eyes Wide Open - Cinematic Mix",
           "Tony Anderson"
          ],
          [
           "Eyes Wide Open",
           "Tony Anderson"
          ],
          [
           "Face of the Father",
           "Tony Anderson"
          ],
          [
           "Farthest Seas",
           "Tony Anderson"
          ],
          [
           "Finding Your Heart",
           "Tony Anderson"
          ],
          [
           "Halo",
           "Tony Anderson"
          ],
          [
           "High Tide",
           "Tony Anderson"
          ],
          [
           "Immanuel",
           "Tony Anderson"
          ],
          [
           "Immersion",
           "Tony Anderson"
          ],
          [
           "In the Distance",
           "Tony Anderson"
          ],
          [
           "Incision",
           "Tony Anderson"
          ],
          [
           "Like a Child - Cinematic Mix",
           "Tony Anderson"
          ],
          [
           "Low Tide",
           "Tony Anderson"
          ],
          [
           "Lune",
           "Tony Anderson"
          ],
          [
           "Morning's Wings",
           "Tony Anderson"
          ],
          [
           "Nightingale",
           "Tony Anderson"
          ],
          [
           "No Place on Earth",
           "Tony Anderson"
          ],
          [
           "Nocturne in Paris",
           "Tony Anderson"
          ],
          [
           "Perennial",
           "Tony Anderson"
          ],
          [
           "Resurrect",
           "Tony Anderson"
          ],
          [
           "Retour",
           "Tony Anderson"
          ],
          [
           "Shalom",
           "Tony Anderson"
          ],
          [
           "Slipstream",
           "Tony Anderson"
          ],
          [
           "Something Can Grow",
           "Tony Anderson"
          ],
          [
           "Spiriteaux",
           "Tony Anderson"
          ],
          [
           "The King",
           "Tony Anderson"
          ],
          [
           "The Way Home",
           "Tony Anderson"
          ],
          [
           "Thin Place - Abbreviated",
           "Tony Anderson"
          ],
          [
           "Thin Place",
           "Tony Anderson"
          ],
          [
           "We Are One",
           "Tony Anderson"
          ],
          [
           "Wir Sind Gleich",
           "Tony Anderson"
          ],
          [
           "Younger",
           "Tony Anderson"
          ],
          [
           "Éclosion",
           "Tony Anderson"
          ],
          [
           "Éphémère",
           "Tony Anderson"
          ],
          [
           "Arpège",
           "Tony Anderson"
          ],
          [
           "Nuit",
           "Tony Anderson"
          ],
          [
           "Tenderness - Woven Remix",
           "Tony Anderson"
          ],
          [
           "Tenderness",
           "Tony Anderson"
          ],
          [
           "Cambodia - Ross Lara Remix",
           "Tony Anderson"
          ],
          [
           "Cambodia",
           "Tony Anderson"
          ],
          [
           "Oyarsa",
           "Tony Anderson"
          ]
         ],
         "hovertemplate": "playlist=tony-anderson<br>PCA1=%{x}<br>PCA2=%{y}<br>song_name=%{customdata[0]}<br>artist=%{customdata[1]}<extra></extra>",
         "legendgroup": "tony-anderson",
         "marker": {
          "color": "#B6E880",
          "symbol": "circle"
         },
         "mode": "markers",
         "name": "tony-anderson",
         "orientation": "v",
         "showlegend": true,
         "x": [
          -3.6583795240997716,
          -2.447267577410573,
          -4.536009256505507,
          -2.3478010648918137,
          -5.658127623784961,
          -5.08995750612147,
          -3.8592986494581987,
          -4.759604285961745,
          -1.8450148195373959,
          -2.531038820543919,
          -1.958678747990067,
          -3.3792225386376993,
          -4.699118342592631,
          -4.5881280206039845,
          -4.125162709193534,
          -5.575473856066921,
          -3.7466091318896146,
          -3.990692450147655,
          -4.06996970746437,
          -0.3957723110489229,
          -5.803842640047712,
          -2.698416300272228,
          -4.763855895477074,
          0.3623000017254284,
          -3.910874053741074,
          -5.649309068339041,
          -2.2348284171477073,
          -5.209506214353046,
          -2.6664237821630996,
          -2.0062636392448505,
          -2.2489273760093176,
          -4.503712380299113,
          -3.730688984615095,
          -3.015623947368064,
          -3.3402938279960024,
          -4.629389106302181,
          -5.954347996104334,
          -2.772494516024754,
          -3.6411338279052217,
          -4.5027633488455905,
          -6.091504636054006,
          -3.199158367321659,
          -2.3181252568189787,
          1.6888919106131406,
          -5.6786492898194165,
          -1.2137891819662252,
          -1.078784750961128,
          -4.8067179896477175
         ],
         "xaxis": "x",
         "y": [
          -2.2159329717932437,
          -0.12481997334655306,
          1.7860849910904606,
          -2.3535842227517922,
          0.5565156097717177,
          1.9279099103831852,
          -3.6462290919091296,
          0.09628814942629667,
          0.3717804779598219,
          -2.553975230607258,
          -0.24065848917978194,
          -1.382884490861238,
          -0.9502894599676291,
          3.222558813186525,
          0.31292428440896725,
          0.27471370804664563,
          -1.1438988914167154,
          -0.23551770479628042,
          -0.18206004742840082,
          3.882618969268427,
          -2.1570965574060232,
          -4.6750019090634405,
          1.8954529295737053,
          0.008655938219655464,
          1.3694855116905227,
          -0.28809613252096455,
          0.6011011555286015,
          -0.3950864719959131,
          -2.9822707894342013,
          2.4457665841453817,
          3.378143316551837,
          -0.1528796399831975,
          -2.492633184680505,
          -4.3012570045949,
          0.14893968183697262,
          1.0534879027986275,
          -1.2914743130247104,
          -4.865224763566027,
          2.146843045591233,
          -1.176194362808889,
          -2.398738460703492,
          0.9104802464003215,
          2.5018714405018683,
          -1.6145626541568134,
          -2.410350955103078,
          -2.02186865647018,
          -0.08852356113156015,
          1.0426981514050055
         ],
         "yaxis": "y",
         "type": "scatter"
        }
       ],
       "layout": {
        "template": {
         "data": {
          "histogram2dcontour": [
           {
            "type": "histogram2dcontour",
            "colorbar": {
             "outlinewidth": 0,
             "ticks": ""
            },
            "colorscale": [
             [
              0.0,
              "#0d0887"
             ],
             [
              0.1111111111111111,
              "#46039f"
             ],
             [
              0.2222222222222222,
              "#7201a8"
             ],
             [
              0.3333333333333333,
              "#9c179e"
             ],
             [
              0.4444444444444444,
              "#bd3786"
             ],
             [
              0.5555555555555556,
              "#d8576b"
             ],
             [
              0.6666666666666666,
              "#ed7953"
             ],
             [
              0.7777777777777778,
              "#fb9f3a"
             ],
             [
              0.8888888888888888,
              "#fdca26"
             ],
             [
              1.0,
              "#f0f921"
             ]
            ]
           }
          ],
          "choropleth": [
           {
            "type": "choropleth",
            "colorbar": {
             "outlinewidth": 0,
             "ticks": ""
            }
           }
          ],
          "histogram2d": [
           {
            "type": "histogram2d",
            "colorbar": {
             "outlinewidth": 0,
             "ticks": ""
            },
            "colorscale": [
             [
              0.0,
              "#0d0887"
             ],
             [
              0.1111111111111111,
              "#46039f"
             ],
             [
              0.2222222222222222,
              "#7201a8"
             ],
             [
              0.3333333333333333,
              "#9c179e"
             ],
             [
              0.4444444444444444,
              "#bd3786"
             ],
             [
              0.5555555555555556,
              "#d8576b"
             ],
             [
              0.6666666666666666,
              "#ed7953"
             ],
             [
              0.7777777777777778,
              "#fb9f3a"
             ],
             [
              0.8888888888888888,
              "#fdca26"
             ],
             [
              1.0,
              "#f0f921"
             ]
            ]
           }
          ],
          "heatmap": [
           {
            "type": "heatmap",
            "colorbar": {
             "outlinewidth": 0,
             "ticks": ""
            },
            "colorscale": [
             [
              0.0,
              "#0d0887"
             ],
             [
              0.1111111111111111,
              "#46039f"
             ],
             [
              0.2222222222222222,
              "#7201a8"
             ],
             [
              0.3333333333333333,
              "#9c179e"
             ],
             [
              0.4444444444444444,
              "#bd3786"
             ],
             [
              0.5555555555555556,
              "#d8576b"
             ],
             [
              0.6666666666666666,
              "#ed7953"
             ],
             [
              0.7777777777777778,
              "#fb9f3a"
             ],
             [
              0.8888888888888888,
              "#fdca26"
             ],
             [
              1.0,
              "#f0f921"
             ]
            ]
           }
          ],
          "heatmapgl": [
           {
            "type": "heatmapgl",
            "colorbar": {
             "outlinewidth": 0,
             "ticks": ""
            },
            "colorscale": [
             [
              0.0,
              "#0d0887"
             ],
             [
              0.1111111111111111,
              "#46039f"
             ],
             [
              0.2222222222222222,
              "#7201a8"
             ],
             [
              0.3333333333333333,
              "#9c179e"
             ],
             [
              0.4444444444444444,
              "#bd3786"
             ],
             [
              0.5555555555555556,
              "#d8576b"
             ],
             [
              0.6666666666666666,
              "#ed7953"
             ],
             [
              0.7777777777777778,
              "#fb9f3a"
             ],
             [
              0.8888888888888888,
              "#fdca26"
             ],
             [
              1.0,
              "#f0f921"
             ]
            ]
           }
          ],
          "contourcarpet": [
           {
            "type": "contourcarpet",
            "colorbar": {
             "outlinewidth": 0,
             "ticks": ""
            }
           }
          ],
          "contour": [
           {
            "type": "contour",
            "colorbar": {
             "outlinewidth": 0,
             "ticks": ""
            },
            "colorscale": [
             [
              0.0,
              "#0d0887"
             ],
             [
              0.1111111111111111,
              "#46039f"
             ],
             [
              0.2222222222222222,
              "#7201a8"
             ],
             [
              0.3333333333333333,
              "#9c179e"
             ],
             [
              0.4444444444444444,
              "#bd3786"
             ],
             [
              0.5555555555555556,
              "#d8576b"
             ],
             [
              0.6666666666666666,
              "#ed7953"
             ],
             [
              0.7777777777777778,
              "#fb9f3a"
             ],
             [
              0.8888888888888888,
              "#fdca26"
             ],
             [
              1.0,
              "#f0f921"
             ]
            ]
           }
          ],
          "surface": [
           {
            "type": "surface",
            "colorbar": {
             "outlinewidth": 0,
             "ticks": ""
            },
            "colorscale": [
             [
              0.0,
              "#0d0887"
             ],
             [
              0.1111111111111111,
              "#46039f"
             ],
             [
              0.2222222222222222,
              "#7201a8"
             ],
             [
              0.3333333333333333,
              "#9c179e"
             ],
             [
              0.4444444444444444,
              "#bd3786"
             ],
             [
              0.5555555555555556,
              "#d8576b"
             ],
             [
              0.6666666666666666,
              "#ed7953"
             ],
             [
              0.7777777777777778,
              "#fb9f3a"
             ],
             [
              0.8888888888888888,
              "#fdca26"
             ],
             [
              1.0,
              "#f0f921"
             ]
            ]
           }
          ],
          "mesh3d": [
           {
            "type": "mesh3d",
            "colorbar": {
             "outlinewidth": 0,
             "ticks": ""
            }
           }
          ],
          "scatter": [
           {
            "marker": {
             "line": {
              "color": "#283442"
             }
            },
            "type": "scatter"
           }
          ],
          "parcoords": [
           {
            "type": "parcoords",
            "line": {
             "colorbar": {
              "outlinewidth": 0,
              "ticks": ""
             }
            }
           }
          ],
          "scatterpolargl": [
           {
            "type": "scatterpolargl",
            "marker": {
             "colorbar": {
              "outlinewidth": 0,
              "ticks": ""
             }
            }
           }
          ],
          "bar": [
           {
            "error_x": {
             "color": "#f2f5fa"
            },
            "error_y": {
             "color": "#f2f5fa"
            },
            "marker": {
             "line": {
              "color": "rgb(17,17,17)",
              "width": 0.5
             },
             "pattern": {
              "fillmode": "overlay",
              "size": 10,
              "solidity": 0.2
             }
            },
            "type": "bar"
           }
          ],
          "scattergeo": [
           {
            "type": "scattergeo",
            "marker": {
             "colorbar": {
              "outlinewidth": 0,
              "ticks": ""
             }
            }
           }
          ],
          "scatterpolar": [
           {
            "type": "scatterpolar",
            "marker": {
             "colorbar": {
              "outlinewidth": 0,
              "ticks": ""
             }
            }
           }
          ],
          "histogram": [
           {
            "marker": {
             "pattern": {
              "fillmode": "overlay",
              "size": 10,
              "solidity": 0.2
             }
            },
            "type": "histogram"
           }
          ],
          "scattergl": [
           {
            "marker": {
             "line": {
              "color": "#283442"
             }
            },
            "type": "scattergl"
           }
          ],
          "scatter3d": [
           {
            "type": "scatter3d",
            "line": {
             "colorbar": {
              "outlinewidth": 0,
              "ticks": ""
             }
            },
            "marker": {
             "colorbar": {
              "outlinewidth": 0,
              "ticks": ""
             }
            }
           }
          ],
          "scattermapbox": [
           {
            "type": "scattermapbox",
            "marker": {
             "colorbar": {
              "outlinewidth": 0,
              "ticks": ""
             }
            }
           }
          ],
          "scatterternary": [
           {
            "type": "scatterternary",
            "marker": {
             "colorbar": {
              "outlinewidth": 0,
              "ticks": ""
             }
            }
           }
          ],
          "scattercarpet": [
           {
            "type": "scattercarpet",
            "marker": {
             "colorbar": {
              "outlinewidth": 0,
              "ticks": ""
             }
            }
           }
          ],
          "carpet": [
           {
            "aaxis": {
             "endlinecolor": "#A2B1C6",
             "gridcolor": "#506784",
             "linecolor": "#506784",
             "minorgridcolor": "#506784",
             "startlinecolor": "#A2B1C6"
            },
            "baxis": {
             "endlinecolor": "#A2B1C6",
             "gridcolor": "#506784",
             "linecolor": "#506784",
             "minorgridcolor": "#506784",
             "startlinecolor": "#A2B1C6"
            },
            "type": "carpet"
           }
          ],
          "table": [
           {
            "cells": {
             "fill": {
              "color": "#506784"
             },
             "line": {
              "color": "rgb(17,17,17)"
             }
            },
            "header": {
             "fill": {
              "color": "#2a3f5f"
             },
             "line": {
              "color": "rgb(17,17,17)"
             }
            },
            "type": "table"
           }
          ],
          "barpolar": [
           {
            "marker": {
             "line": {
              "color": "rgb(17,17,17)",
              "width": 0.5
             },
             "pattern": {
              "fillmode": "overlay",
              "size": 10,
              "solidity": 0.2
             }
            },
            "type": "barpolar"
           }
          ],
          "pie": [
           {
            "automargin": true,
            "type": "pie"
           }
          ]
         },
         "layout": {
          "autotypenumbers": "strict",
          "colorway": [
           "#636efa",
           "#EF553B",
           "#00cc96",
           "#ab63fa",
           "#FFA15A",
           "#19d3f3",
           "#FF6692",
           "#B6E880",
           "#FF97FF",
           "#FECB52"
          ],
          "font": {
           "color": "#f2f5fa"
          },
          "hovermode": "closest",
          "hoverlabel": {
           "align": "left"
          },
          "paper_bgcolor": "rgb(17,17,17)",
          "plot_bgcolor": "rgb(17,17,17)",
          "polar": {
           "bgcolor": "rgb(17,17,17)",
           "angularaxis": {
            "gridcolor": "#506784",
            "linecolor": "#506784",
            "ticks": ""
           },
           "radialaxis": {
            "gridcolor": "#506784",
            "linecolor": "#506784",
            "ticks": ""
           }
          },
          "ternary": {
           "bgcolor": "rgb(17,17,17)",
           "aaxis": {
            "gridcolor": "#506784",
            "linecolor": "#506784",
            "ticks": ""
           },
           "baxis": {
            "gridcolor": "#506784",
            "linecolor": "#506784",
            "ticks": ""
           },
           "caxis": {
            "gridcolor": "#506784",
            "linecolor": "#506784",
            "ticks": ""
           }
          },
          "coloraxis": {
           "colorbar": {
            "outlinewidth": 0,
            "ticks": ""
           }
          },
          "colorscale": {
           "sequential": [
            [
             0.0,
             "#0d0887"
            ],
            [
             0.1111111111111111,
             "#46039f"
            ],
            [
             0.2222222222222222,
             "#7201a8"
            ],
            [
             0.3333333333333333,
             "#9c179e"
            ],
            [
             0.4444444444444444,
             "#bd3786"
            ],
            [
             0.5555555555555556,
             "#d8576b"
            ],
            [
             0.6666666666666666,
             "#ed7953"
            ],
            [
             0.7777777777777778,
             "#fb9f3a"
            ],
            [
             0.8888888888888888,
             "#fdca26"
            ],
            [
             1.0,
             "#f0f921"
            ]
           ],
           "sequentialminus": [
            [
             0.0,
             "#0d0887"
            ],
            [
             0.1111111111111111,
             "#46039f"
            ],
            [
             0.2222222222222222,
             "#7201a8"
            ],
            [
             0.3333333333333333,
             "#9c179e"
            ],
            [
             0.4444444444444444,
             "#bd3786"
            ],
            [
             0.5555555555555556,
             "#d8576b"
            ],
            [
             0.6666666666666666,
             "#ed7953"
            ],
            [
             0.7777777777777778,
             "#fb9f3a"
            ],
            [
             0.8888888888888888,
             "#fdca26"
            ],
            [
             1.0,
             "#f0f921"
            ]
           ],
           "diverging": [
            [
             0,
             "#8e0152"
            ],
            [
             0.1,
             "#c51b7d"
            ],
            [
             0.2,
             "#de77ae"
            ],
            [
             0.3,
             "#f1b6da"
            ],
            [
             0.4,
             "#fde0ef"
            ],
            [
             0.5,
             "#f7f7f7"
            ],
            [
             0.6,
             "#e6f5d0"
            ],
            [
             0.7,
             "#b8e186"
            ],
            [
             0.8,
             "#7fbc41"
            ],
            [
             0.9,
             "#4d9221"
            ],
            [
             1,
             "#276419"
            ]
           ]
          },
          "xaxis": {
           "gridcolor": "#283442",
           "linecolor": "#506784",
           "ticks": "",
           "title": {
            "standoff": 15
           },
           "zerolinecolor": "#283442",
           "automargin": true,
           "zerolinewidth": 2
          },
          "yaxis": {
           "gridcolor": "#283442",
           "linecolor": "#506784",
           "ticks": "",
           "title": {
            "standoff": 15
           },
           "zerolinecolor": "#283442",
           "automargin": true,
           "zerolinewidth": 2
          },
          "scene": {
           "xaxis": {
            "backgroundcolor": "rgb(17,17,17)",
            "gridcolor": "#506784",
            "linecolor": "#506784",
            "showbackground": true,
            "ticks": "",
            "zerolinecolor": "#C8D4E3",
            "gridwidth": 2
           },
           "yaxis": {
            "backgroundcolor": "rgb(17,17,17)",
            "gridcolor": "#506784",
            "linecolor": "#506784",
            "showbackground": true,
            "ticks": "",
            "zerolinecolor": "#C8D4E3",
            "gridwidth": 2
           },
           "zaxis": {
            "backgroundcolor": "rgb(17,17,17)",
            "gridcolor": "#506784",
            "linecolor": "#506784",
            "showbackground": true,
            "ticks": "",
            "zerolinecolor": "#C8D4E3",
            "gridwidth": 2
           }
          },
          "shapedefaults": {
           "line": {
            "color": "#f2f5fa"
           }
          },
          "annotationdefaults": {
           "arrowcolor": "#f2f5fa",
           "arrowhead": 0,
           "arrowwidth": 1
          },
          "geo": {
           "bgcolor": "rgb(17,17,17)",
           "landcolor": "rgb(17,17,17)",
           "subunitcolor": "#506784",
           "showland": true,
           "showlakes": true,
           "lakecolor": "rgb(17,17,17)"
          },
          "title": {
           "x": 0.05
          },
          "updatemenudefaults": {
           "bgcolor": "#506784",
           "borderwidth": 0
          },
          "sliderdefaults": {
           "bgcolor": "#C8D4E3",
           "borderwidth": 1,
           "bordercolor": "rgb(17,17,17)",
           "tickwidth": 0
          },
          "mapbox": {
           "style": "dark"
          }
         }
        },
        "xaxis": {
         "anchor": "y",
         "domain": [
          0.0,
          1.0
         ],
         "title": {
          "text": "PCA1"
         }
        },
        "yaxis": {
         "anchor": "x",
         "domain": [
          0.0,
          1.0
         ],
         "title": {
          "text": "PCA2"
         }
        },
        "legend": {
         "title": {
          "text": "playlist"
         },
         "tracegroupgap": 0
        },
        "margin": {
         "t": 60
        },
        "height": 500,
        "width": 1000
       },
       "config": {
        "plotlyServerURL": "https://plotly.com"
       }
      },
      "text/html": "<div>                            <div id=\"367b57f1-c56c-4490-8050-21482530b700\" class=\"plotly-graph-div\" style=\"height:500px; width:1000px;\"></div>            <script type=\"text/javascript\">                require([\"plotly\"], function(Plotly) {                    window.PLOTLYENV=window.PLOTLYENV || {};                                    if (document.getElementById(\"367b57f1-c56c-4490-8050-21482530b700\")) {                    Plotly.newPlot(                        \"367b57f1-c56c-4490-8050-21482530b700\",                        [{\"customdata\":[[\"Ivan Sings\",\"Aram Khachaturian\"],[\"Pr\\u00e9lude in E Minor, Op. 28, No. 4\",\"Fr\\u00e9d\\u00e9ric Chopin\"],[\"Above the Trees\",\"Kino\"],[\"All\",\"Kino\"],[\"Anew\",\"Kino\"],[\"As a Cloud\",\"Kino\"],[\"Away\",\"Kino\"],[\"Bloom\",\"Kino\"],[\"Charleston\",\"Kino\"],[\"Donau\",\"Kino\"],[\"Each and Every (Ambient Mix)\",\"Kino\"],[\"Each and Every (Piano)\",\"Kino\"],[\"Each and Every\",\"Kino\"],[\"Erl\\u00f6st  Redeemed\",\"Kino\"],[\"Gathering\",\"Kino\"],[\"God Bless Us, Every One\",\"Kino\"],[\"Hearth\",\"Kino\"],[\"H\\u0113o\",\"Kino\"],[\"In Earnest\",\"Kino\"],[\"Leinwand (Piano)\",\"Kino\"],[\"Leinwand\",\"Kino\"],[\"Lightly Tread\",\"Kino\"],[\"Lone\",\"Kino\"],[\"Many Colors\",\"Kino\"],[\"Merrily, Merrily\",\"Kino\"],[\"O Tannenbaum\",\"Kino\"],[\"Presidio\",\"Kino\"],[\"Rambuteau\",\"Kino\"],[\"Seafarer's Quartet\",\"Kino\"],[\"Seems\",\"Kino\"],[\"Silent Night\",\"Kino\"],[\"Silver Lake\",\"Kino\"],[\"St John's\",\"Kino\"],[\"Sunshine - Original\",\"Kino\"],[\"Swell\",\"Kino\"],[\"The Holly and the Ivy\",\"Kino\"],[\"The Weight Unbearable (Piano)\",\"Kino\"],[\"The Weight Unbearable\",\"Kino\"],[\"Till\",\"Kino\"],[\"Trio in E-flat Minor\",\"Kino\"],[\"Under\",\"Kino\"],[\"Water Lilies\",\"Kino\"],[\"Wide Awake\",\"Kino\"],[\"Willeth\",\"Kino\"],[\"Wolden\",\"Kino\"],[\"Yule\",\"Kino\"],[\"Piano Sonata No. 14 in C-Sharp Minor, Op. 27 No. 2 \\u201cMoonlight\\u201d- I. Adagio sostenuto\",\"Ludwig van Beethoven\"]],\"hovertemplate\":\"playlist=kino<br>PCA1=%{x}<br>PCA2=%{y}<br>song_name=%{customdata[0]}<br>artist=%{customdata[1]}<extra></extra>\",\"legendgroup\":\"kino\",\"marker\":{\"color\":\"#636efa\",\"symbol\":\"circle\"},\"mode\":\"markers\",\"name\":\"kino\",\"orientation\":\"v\",\"showlegend\":true,\"x\":[-4.891375432468681,-5.449469269913736,-2.4392846047047065,-3.5588343942780596,-3.7140707079413815,-5.514578706292655,-3.8854395281270584,-2.7497404431992707,-3.850051948673663,-1.6330498465468781,-6.073832752298893,-5.038271082710989,-2.493796621016733,1.5517004643069383,-1.3239419628753775,-3.716772437762875,-5.168358176557408,-5.916675543604239,-3.8242303430649076,-5.257338824106243,-4.404812772809457,-3.931013645595605,-5.785147036286429,-1.5469715049148305,-2.6493646760605465,-4.827671181027905,-4.652374196134431,-5.6597352637624745,-3.2132042850769964,-5.7808986623949625,-4.98444827384167,-2.3926087275034376,-0.18342411916520604,1.220616776322631,1.7251873211134876,-1.6559186229570673,-6.693051835299503,-5.3626941538784525,-4.96924803899403,-2.7731153640097608,-6.543558030412973,-5.649804699922566,-2.6222023468802527,-4.8275000369391465,-3.130216197386979,-4.3611563673960445,-5.768776751490962],\"xaxis\":\"x\",\"y\":[1.0257044040779673,0.5979516435654622,1.0176613567303028,0.5434835116826792,1.72109885045275,0.9146437789961614,0.9526360394912162,2.8650646619412767,1.2102431851982136,-1.6323384111974766,2.893353398194324,3.122425066917867,2.704306393370053,0.48157245602934995,-3.03647809399328,2.374598553771023,3.990654083212852,0.6914447291119541,0.8354915904462278,1.801403106533262,1.5369554104471777,3.2833475116166393,-0.02363974853350402,1.049347786357857,4.612911210041817,3.0095382568461373,0.863844284996609,3.6640391489416078,1.9169510463001425,-0.012481835663672246,2.6086463257756485,2.7635285193701113,1.2932912624649258,-2.538740726611145,3.099672403376969,4.090067266257317,2.498665834800453,2.3382550669244004,-1.1999098828380013,2.910205254940166,0.37487971987995033,3.922973102975206,2.5490893094455074,0.781348775230334,-1.517250558888245,0.28254720760199603,-0.36351770686448165],\"yaxis\":\"y\",\"type\":\"scatter\"},{\"customdata\":[[\"But it's Destiny\",\"10cm\"],[\"\\ub098\\uc758 \\uc5b4\\uae68\\uc5d0 \\uae30\\ub300\\uc5b4\\uc694\",\"10cm\"],[\"Is You\",\"AILEE\"],[\"How can I love the heartbreak, you're the one I love\",\"AKMU\"],[\"How can I love the heartbreak, you`re the one I love\",\"AKMU\"],[\"Amusement Park\",\"BAEKHYUN\"],[\"\\ub108\\ub97c \\uc0ac\\ub791\\ud558\\uace0 \\uc788\\uc5b4\",\"BAEKHYUN\"],[\"Beautiful goodbye\",\"CHEN\"],[\"Flower\",\"CHEN\"],[\"I'll be there\",\"CHEN\"],[\"My dear\",\"CHEN\"],[\"Sorry not sorry\",\"CHEN\"],[\"Everytime\",\"CHEN\"],[\"Wish\",\"Choi Yuree\"],[\"Beautiful\",\"Crush\"],[\"Let Us Go\",\"Crush\"],[\"No Words\",\"Crush\"],[\"My Love\",\"DAVICHI\"],[\"Please Don't Cry\",\"DAVICHI\"],[\"Sunset\",\"DAVICHI\"],[\"\\ub178\\ub825\\ud574\\ubcfc\\uac8c\\uc694 I'll try\",\"DAY6\"],[\"I'm In Love With You\",\"Dvwn\"],[\"No Problem\",\"Dvwn\"],[\"\\uae34 \\ubc24\\uc774 \\uc624\\uba74\",\"Eddy Kim\"],[\"Rain or Shine\",\"Elaine\"],[\"Hate Everything - Korean Version\",\"GSoul\"],[\"\\uae30\\uc5b5\\ud574\\uc918\\uc694 \\ub0b4 \\ubaa8\\ub4e0 \\ub0a0\\uacfc \\uadf8\\ub54c\\ub97c\",\"Gummy\"],[\"Slowly Fall\",\"Ha Hyun Sang\"],[\"\\ub0b4 \\ub9d8\\uc744 \\ubcfc \\uc218 \\uc788\\ub098\\uc694\",\"HEIZE\"],[\"Deeply\",\"HEN\"],[\"To You\",\"HEN\"],[\"It's You\",\"HENRY\"],[\"Untitled Love Song\",\"HENRY\"],[\"Ending Scene\",\"IU\"],[\"Give You My Heart\",\"IU\"],[\"Love poem\",\"IU\"],[\"My sea\",\"IU\"],[\"Holiday\",\"JeHwi\"],[\"Stardust love song\",\"JIHYO\"],[\"What Lies Ahead\",\"Joe Layne\"],[\"Times Like This\",\"Josh Daniel\"],[\"Do you want to walk with me (Romance 101 X Jukjae)\",\"Jukjae\"],[\"The Days Like Pictures\",\"Jukjae\"],[\"\\ub098\\ub97c \\ucc3e\\uc544\\uc11c\",\"Jukjae\"],[\"\\ubcc4 \\ubcf4\\ub7ec \\uac00\\uc790\",\"Jukjae\"],[\"Day & Night\",\"Jung Seung Hwan\"],[\"Because I Miss You\",\"Jung Yong Hwa\"],[\"For First-time Lovers (Banmal-song)\",\"Jung Yong Hwa\"],[\"I Go\",\"Kei (Kim Ji Yeon)\"],[\"\\ubcf4\\uace0\\uc2f6\\ub2e4 (From. '\\ub4dc\\ub77c\\ub9c8 \\ucc9c\\uad6d\\uc758 \\uacc4\\ub2e8')\",\"Kim Bum Soo\"],[\"One Day\",\"Kim Feel\"],[\"Someday, The Boy\",\"Kim Feel\"],[\"Vacance in September\",\"KIM JAE HWAN\"],[\"All of My Days\",\"KIMSEJEONG\"],[\"If Only\",\"KIMSEJEONG\"],[\"Lonely Night\",\"Kwon Jin Ah\"],[\"The End\",\"Kwon Jin Ah\"],[\"I Won't Heartbreaken\",\"Lee KwangHee\"],[\"In My Heart\",\"LIM YEON\"],[\"Lost\",\"LIM YEON\"],[\"Say Yes\",\"Loco\"],[\"Be There For You\",\"NCT DREAM\"],[\"Rainbow - Acoustic Version\",\"O.WHEN\"],[\"Me After You\",\"Paul Kim\"],[\"\\uc548\\ub155\",\"Paul Kim\"],[\"But I'm Trying to Tell You How Much I Love You (With Moonbit)\",\"saevom\"],[\"For You\",\"Sam Kim\"],[\"Sunny Day Rainy Day (feat. Kassy)\",\"Sanchez\"],[\"Your world\",\"Seol Hoseung (SURL)\"],[\"Grown Ups\",\"Sondia\"],[\"Hug\",\"Sondia\"],[\"Our Souls at Night\",\"Sondia\"],[\"\\uc6b0\\ub9b0 \\uce5c\\uad6c\\ubfd0\\uc77c\\uae4c\",\"Sondia\"],[\"She\",\"Standing Egg\"],[\"Miracle (Feat. Paul Kim)\",\"Stella Jang\"],[\"One more time, One more chance\",\"Sung Si Kyung\"],[\"\\u541b\\u304c\\u3044\\u308b\\u3088\",\"Sung Si Kyung\"],[\"Two People\",\"SURAN\"],[\"Inevitable\",\"Suzy\"],[\"Starlight\",\"TAEIL\"],[\"\\uadf8\\ub300\\ub77c\\ub294 \\uc2dc\",\"TAEYEON\"],[\"Two Words\",\"WENDY\"],[\"What If Love\",\"WENDY\"],[\"\\ub0b4\\uc77c\\ub3c4 \\ub610 \\ub0b4\\uc77c\\ub3c4 Tomorrow After Tomorrow\",\"WISUE\"],[\"Your Existence\",\"Wonstein\"],[\"Free\",\"Xydo\"],[\"\\ub108\\ub9cc \\ub108\\ub9cc \\ub108\\ub9cc\",\"Yang Dail\"],[\"With me\",\"Yang Dail\"],[\"Here I Am Again\",\"Yerin Baek\"],[\"Maze\",\"YONGZOO\"],[\"ALWAYS\",\"Yoon Mirae\"],[\"Flower\",\"Yoon Mirae\"],[\"You Are My World\",\"Yoon Mirae\"],[\"I Just Want To Stay With You\",\"Zion.T\"],[\"Faith\",\"\\uc774\\uc900\\ud654\"]],\"hovertemplate\":\"playlist=korean-ost<br>PCA1=%{x}<br>PCA2=%{y}<br>song_name=%{customdata[0]}<br>artist=%{customdata[1]}<extra></extra>\",\"legendgroup\":\"korean-ost\",\"marker\":{\"color\":\"#EF553B\",\"symbol\":\"circle\"},\"mode\":\"markers\",\"name\":\"korean-ost\",\"orientation\":\"v\",\"showlegend\":true,\"x\":[1.709568549930475,1.8068730655425487,2.1797794669726507,0.23834164345398093,0.20096418566399504,2.3103776944697305,0.28188622545663966,0.6617860663646591,1.199668274155674,1.585920052258977,0.6801621072986799,1.0123529535372933,2.3602821151131383,-1.5705598416342301,0.2567323157124242,1.9666802697820704,0.5478271820130066,1.7921216131838589,2.47644532695753,0.5821564827789247,2.5270974207590076,1.235956243929183,1.2406238595987467,1.3161610984246188,1.0668381701287324,0.49733101742933883,0.9668752795277338,-0.8632065709511724,-0.19235292794221148,-0.2472569421907469,-0.14528254239203325,2.05148494822111,3.126057075568528,1.8111771746977077,3.7471619892911483,0.4398458596228945,3.2165955089646463,1.4626434958722427,2.177050965247858,1.4506384148690055,2.581846315270873,-0.2344957692031363,-0.21003137872724997,2.306200194756372,-0.6130311887637305,-0.032795798585357916,1.3691604864143228,2.9737275585198275,3.397335421614241,-0.38573501211234323,1.6142371355800529,0.6455747361240991,3.6094259518140905,1.6513039343914047,2.9756030309722585,2.0918818288776233,3.854399029600614,-3.4194991087716162,3.4508880549327805,0.5576266717311117,5.43492787835759,3.0118271030719344,-0.44794664911661797,0.15314568931219227,0.7561974093098113,4.718188866329366,3.450682213710348,5.038296706979581,0.0355627382424391,-0.3103877287714781,0.5958874283515702,-0.9392112157407916,0.18861609348845929,0.3310909835052241,0.7252188282288855,1.4618682233103464,1.553079883390078,2.7451009186014055,0.8423329403576558,1.7451830509651536,1.381029179888954,0.7910031817714428,1.8061481541157443,0.6503303651699287,4.1753994325701385,2.7070428762659766,0.775484681094162,2.9554585341685446,0.9747959448260854,-0.2954190655344758,-0.671177323768091,-1.1832939615377451,1.0059573665779842,0.8721755336078634,2.052222013010939],\"xaxis\":\"x\",\"y\":[-0.44081579265167764,0.792786922894911,2.2997864765361204,2.3419004098544205,2.3226306752967694,3.170398996655198,1.1545995228969896,3.7548037561995935,2.7501579560930205,0.8325548675649329,0.27673647790022143,0.9039308805984386,-0.24211889580020116,2.08155822317858,0.4917801288789038,1.8675857551586972,1.1422954733738309,1.2965409067877245,1.8274665480425876,1.5288110349435913,3.172246415459127,-1.9541983818036979,-0.26579371595573553,0.3667784915551403,4.7162501286823355,1.2044811661122734,0.6414681937706497,0.8331625871817495,1.239521795494506,3.218366956136957,2.720893059636971,-0.9033611761067764,0.16005773004444607,3.2552096458952082,2.479012684707538,0.14055860961464786,-0.3236140796974259,0.2970902355900868,1.1834474075059902,0.8220175480346856,3.5117487845518767,-2.099594905143646,-1.2166646451632368,-1.2895886113987882,-0.9686701172822634,2.1379578497360283,-1.6594633256554268,-2.1788302581868546,0.22019140445408025,-0.6536338264629457,-1.3733160478725175,1.5051565264149165,-1.2197670302379506,1.3864687199221757,1.7315685201873852,0.28102088376529616,3.288653778952426,-1.0845209438152938,1.6165351273910773,1.9675554373256963,1.2142509137966067,-0.6054868279489124,-1.3431856655797374,0.33263230903933866,-0.010511232468608292,5.225697180212867,4.53002695570062,1.4574319902657327,-3.2870694397249025,-0.5736703210767513,-2.5119765391691775,2.910218506190437,-0.19154041130324376,-1.6180662597664848,-1.1856643603837342,0.6224259638674653,1.4470994338734888,2.599228681101666,1.5180774640574826,-3.666728973769885,2.5445104849352176,0.26363783960971066,-1.2198039514229388,1.5786589111201212,2.941153239212907,-3.4281692225439344,-0.20420710025158728,-0.8363550613767863,0.6227052297956237,0.10177303875280481,-1.0331294763413992,-0.5324980266900975,0.1426106281330997,-0.6444830822978997,0.5056929646091195],\"yaxis\":\"y\",\"type\":\"scatter\"},{\"customdata\":[[\"A Speck of Light - Reimagined\",\"Lights & Motion\"],[\"A Speck of Light\",\"Lights & Motion\"],[\"All the Way\",\"Lights & Motion\"],[\"Anamorphic\",\"Lights & Motion\"],[\"Anchor\",\"Lights & Motion\"],[\"Anomaly\",\"Lights & Motion\"],[\"Antlers\",\"Lights & Motion\"],[\"Arms Wide Open\",\"Lights & Motion\"],[\"As the World Goes Away\",\"Lights & Motion\"],[\"As They Sleep\",\"Lights & Motion\"],[\"Aurora\",\"Lights & Motion\"],[\"Deafening Silence\",\"Lights & Motion\"],[\"DNA\",\"Lights & Motion\"],[\"Equals\",\"Lights & Motion\"],[\"Everest\",\"Lights & Motion\"],[\"Exhale\",\"Lights & Motion\"],[\"Feathers\",\"Lights & Motion\"],[\"Fireflies\",\"Lights & Motion\"],[\"From Dust\",\"Lights & Motion\"],[\"Glistening - Reimagined\",\"Lights & Motion\"],[\"Glistening\",\"Lights & Motion\"],[\"Glow\",\"Lights & Motion\"],[\"I See You (feat. Frida Sundemo)\",\"Lights & Motion\"],[\"I See You - Reimagined (feat. Frida Sundemo)\",\"Lights & Motion\"],[\"Lucid Dreaming\",\"Lights & Motion\"],[\"Northern Lights\",\"Lights & Motion\"],[\"Pandora\",\"Lights & Motion\"],[\"Panic Attack\",\"Lights & Motion\"],[\"Paper Wings\",\"Lights & Motion\"],[\"Parachutes\",\"Lights & Motion\"],[\"Particle Storm\",\"Lights & Motion\"],[\"Perfect Symmetry\",\"Lights & Motion\"],[\"Phoenix\",\"Lights & Motion\"],[\"Reanimation - Revisited 10th Anniversary Edition\",\"Lights & Motion\"],[\"Reborn\",\"Lights & Motion\"],[\"Separated Hearts - Reimagined\",\"Lights & Motion\"],[\"Separated Hearts\",\"Lights & Motion\"],[\"Silver Lining\",\"Lights & Motion\"],[\"Sleeping Giant\",\"Lights & Motion\"],[\"Sypher\",\"Lights & Motion\"],[\"The First Day\",\"Lights & Motion\"],[\"The Great Wide Open - Reimagined\",\"Lights & Motion\"],[\"The Great Wide Open\",\"Lights & Motion\"],[\"The Moments Before\",\"Lights & Motion\"],[\"The Spectacular Quiet\",\"Lights & Motion\"],[\"The World I Remember\",\"Lights & Motion\"],[\"This Explosion Within\",\"Lights & Motion\"],[\"Touching Sky\",\"Lights & Motion\"],[\"We Only Have Forever\",\"Lights & Motion\"],[\"When Everything Is Falling\",\"Lights & Motion\"],[\"Wilderness\",\"Lights & Motion\"],[\"Winter Solstice\",\"Lights & Motion\"],[\"Wolves (feat. Johan Hasselblom)\",\"Lights & Motion\"],[\"Wolves - Reimagined (feat. Johan Hasselblom)\",\"Lights & Motion\"],[\"Woven\",\"Lights & Motion\"],[\"Year Zero\",\"Lights & Motion\"]],\"hovertemplate\":\"playlist=lights-and-motion<br>PCA1=%{x}<br>PCA2=%{y}<br>song_name=%{customdata[0]}<br>artist=%{customdata[1]}<extra></extra>\",\"legendgroup\":\"lights-and-motion\",\"marker\":{\"color\":\"#00cc96\",\"symbol\":\"circle\"},\"mode\":\"markers\",\"name\":\"lights-and-motion\",\"orientation\":\"v\",\"showlegend\":true,\"x\":[-3.7163179710016108,0.760433948928869,-2.025708987897785,-3.179764210100787,-1.1516331754183933,-2.3456000413903193,-0.3978470258729189,0.4706753485897181,1.9491610973905413,-3.60497932930793,-1.8552824858680934,-1.1124686838390372,-1.5112036630341472,-2.7663043905761078,-2.501046946088132,-0.11011031551407599,-0.7177041100944694,0.8901169738988768,-0.7202028541151744,-1.9008309223149131,0.057958423142661024,-3.7487164398212895,0.3170895464183827,1.39553759601237,-2.50029399342193,-5.270585266318448,1.1611851235745911,-0.9791918672386616,-5.047128993156435,0.19432665204105118,1.7297635551809905,-2.802231083783683,-1.0704016023787326,0.7535612998236937,-0.234435075935878,-2.4821272276590243,-1.8532266408007054,-1.8879615054422696,-0.5792556591019875,-0.6167610656763237,-3.873388931178601,-3.684003387809224,-1.8178085437257037,-2.313505164003206,-2.2976987964741578,-1.3362308738821504,1.097556321859418,-0.12777311023672128,-1.2819888440013087,-2.5265040036164006,-1.9279845667668305,-3.4708308247998727,-1.4048260597034612,-1.001541660974172,-1.5806688750299254,-1.6813042852866373],\"xaxis\":\"x\",\"y\":[-0.2947312454380219,0.34265295954167313,-1.7153906226241102,0.8951890312488219,-3.5376479069621563,1.76643365411616,-2.5285677897285193,-5.16317226161638,0.11670843670161996,0.34455934579885755,-1.3800149936627906,-1.0415388080924028,-3.528500308324281,-0.643284717580111,-1.5670005269180614,-1.403066523634438,-1.4987524121031428,0.5403256741085536,-2.967060519897203,1.3532552196520276,1.4024723458871498,0.2502429852461854,-0.21044756854354477,0.13464723784323995,0.40790230350526324,0.549333286877607,-4.394996608285573,-5.120627901941762,1.9564614253344288,-1.5539083321645284,-0.8701616814375155,-0.20296121687585236,-2.2285023639276185,-3.5529077830778615,-2.145114022469623,2.6147014132386364,0.7030317471234531,-1.4048232961312799,-1.7930013647696836,-4.063357828607126,-1.1906084982208456,-0.9300836757780976,-0.9065876986975291,-3.376561531086173,-1.1807498187866141,-3.9327910421324423,-2.9127483681463633,-3.3860718352328427,-5.645244862682787,-2.2685529231764527,-4.20445001915889,-0.5565736806620702,-4.3787683944959905,-0.9668298441345038,-2.704967549684284,-3.3588438917894106],\"yaxis\":\"y\",\"type\":\"scatter\"},{\"customdata\":[[\"Another Wave from You\",\"M83\"],[\"Claudia Lewis\",\"M83\"],[\"Echoes of Mine\",\"M83\"],[\"Fountains\",\"M83\"],[\"Intro\",\"M83\"],[\"Klaus I Love You\",\"M83\"],[\"Midnight City\",\"M83\"],[\"My Tears Are Becoming a Sea\",\"M83\"],[\"New Map\",\"M83\"],[\"Ok Pal\",\"M83\"],[\"Outro\",\"M83\"],[\"Raconte-moi une histoire\",\"M83\"],[\"Reunion\",\"M83\"],[\"Soon, My Friend\",\"M83\"],[\"Splendor\",\"M83\"],[\"Steve Mcqueen\",\"M83\"],[\"This Bright Flash\",\"M83\"],[\"Train to Pluton\",\"M83\"],[\"Wait\",\"M83\"],[\"When Will You Come Home\",\"M83\"],[\"Where the Boats Go\",\"M83\"],[\"Year One, One Ufo\",\"M83\"],[\"Ashes of Our Fathers\",\"M83\"],[\"Canyon Battle\",\"M83\"],[\"Earth 2077\",\"M83\"],[\"Fearful Odds\",\"M83\"],[\"I'm Sending You Away\",\"M83\"],[\"Jack's Dream\",\"M83\"],[\"Losing Control\",\"M83\"],[\"Odyssey Rescue\",\"M83\"],[\"Radiation Zone\",\"M83\"],[\"Raven Rock\",\"M83\"],[\"StarWaves\",\"M83\"],[\"Tech 49\",\"M83\"],[\"Temples of Our Gods\",\"M83\"],[\"Undimmed by Time, Unbound by Death\",\"M83\"],[\"Waking Up\",\"M83\"],[\"You Can't Save Her\",\"M83\"],[\"Oblivion\",\"M83\"]],\"hovertemplate\":\"playlist=m83<br>PCA1=%{x}<br>PCA2=%{y}<br>song_name=%{customdata[0]}<br>artist=%{customdata[1]}<extra></extra>\",\"legendgroup\":\"m83\",\"marker\":{\"color\":\"#ab63fa\",\"symbol\":\"circle\"},\"mode\":\"markers\",\"name\":\"m83\",\"orientation\":\"v\",\"showlegend\":true,\"x\":[0.7633263610795396,4.876188773021351,1.2497459732785772,-0.8923400717100284,1.3744641868260923,0.11699328099123253,2.202904240981556,0.03759454970718055,1.9502288847457825,3.501911673331135,1.7171414917501544,0.8806081928300644,2.2180898388457675,0.3865506395795225,-1.7556617361618865,1.9097493790779794,2.173667193900575,-3.3072690240898925,-0.48493860859305515,-1.387329786705042,-1.9810066689194485,2.235174186838069,-3.216997644178472,-2.6225468710345488,-1.3694021609568634,-3.0506716953694952,-2.9367515612221653,-4.073256137975083,-2.5136480141785498,-2.65684977937093,-1.1467583479082837,-3.5712294373744093,-1.7916119664217083,-3.3825584397667727,-4.261281876687268,-2.7945982539213836,-3.9850852732467295,-3.6298563512421476,-0.4514141598215352],\"xaxis\":\"x\",\"y\":[2.9948254844463027,-4.39485128843377,-2.7726761702666796,-0.8771655948734739,-5.345176657614249,-5.21781448539732,-4.067699972290008,-0.6652023248455688,-3.891426580695809,-4.572505142241657,-0.8640107663874382,-3.835517779341363,-5.599620031572136,-0.7768650104979303,1.1122113113581586,-5.620805714910291,-6.155494428406057,-1.984684578612241,-1.591536034042977,4.295205447150818,-1.8734820118191902,-5.83274030890236,-3.1525965805688654,-3.808995581606037,-4.295352307629544,-3.649704518072416,-1.1417803429798223,0.987918975909935,-2.472570494309872,-1.2482401485192662,-1.841446034325494,-0.21491162712301756,-0.881120926751074,-2.211922071593947,-2.1848106254320947,2.2019229333091617,-3.7043399092078353,-2.2020505811590922,-3.226645780485475],\"yaxis\":\"y\",\"type\":\"scatter\"},{\"customdata\":[[\"A Moment Apart\",\"ODESZA\"],[\"Across The Room (feat. Leon Bridges)\",\"ODESZA\"],[\"Boy\",\"ODESZA\"],[\"Corners Of The Earth (feat. RY X)\",\"ODESZA\"],[\"Divide (feat. Kelsey Bulkin)\",\"ODESZA\"],[\"Everything At Your Feet (feat. The Chamanas)\",\"ODESZA\"],[\"Falls (feat. Sasha Alex Sloan)\",\"ODESZA\"],[\"Falls (Reprise) (feat. Sasha Alex Sloan)\",\"ODESZA\"],[\"Falls (Reprise) - Instrumental\",\"ODESZA\"],[\"Higher Ground (feat. Naomi Wild)\",\"ODESZA\"],[\"Higher Ground (Reprise) (feat. Naomi Wild)\",\"ODESZA\"],[\"Higher Ground (Reprise) - Instrumental\",\"ODESZA\"],[\"Intro\",\"ODESZA\"],[\"It\\u2019s Only (feat. Zyra) - ODESZA VIP Remix\",\"ODESZA\"],[\"Just A Memory (feat. Regina Spektor)\",\"ODESZA\"],[\"La Ciudad\",\"ODESZA\"],[\"Late Night\",\"ODESZA\"],[\"Line Of Sight (feat. WYNNE & Mansionair)\",\"ODESZA\"],[\"Line Of Sight (Reprise) (feat. WYNNE & Mansionair)\",\"ODESZA\"],[\"Line Of Sight (Reprise) - Instrumental\",\"ODESZA\"],[\"Loyal\",\"ODESZA\"],[\"Memories That You Call (feat. Monsoonsiren) - ODESZA & Golden Features VIP Remix\",\"ODESZA\"],[\"Meridian\",\"ODESZA\"],[\"Show Me\",\"ODESZA\"],[\"Thin Floors And Tall Ceilings\",\"ODESZA\"]],\"hovertemplate\":\"playlist=odesza<br>PCA1=%{x}<br>PCA2=%{y}<br>song_name=%{customdata[0]}<br>artist=%{customdata[1]}<extra></extra>\",\"legendgroup\":\"odesza\",\"marker\":{\"color\":\"#FFA15A\",\"symbol\":\"circle\"},\"mode\":\"markers\",\"name\":\"odesza\",\"orientation\":\"v\",\"showlegend\":true,\"x\":[0.8008940757435618,2.242361461046502,5.9466076299822745,2.8130765795906902,2.4704143351801098,3.273780723961989,2.1344842715337906,1.8849501234621886,-1.3930376942621066,2.1950292501443727,0.4763462262957114,-1.1157098561129775,2.019289256089054,2.1827190240185557,2.441012154799591,1.2110473407929876,2.402532253803282,0.9776523169670571,-0.34717346995169296,-1.7763284992377035,0.9506067461593959,3.1649533898998574,3.137981506658592,1.852332854042652,0.13401238841239183],\"xaxis\":\"x\",\"y\":[-0.17920273330946354,0.3531527210309881,2.748353291371733,0.6601385035954281,-1.4368624380314516,-0.4464535983429933,-2.494223804010206,4.313497085603705,2.6724192754853537,-1.659264306158176,-0.11674513093940678,-0.5720420157031512,1.9230036174999905,-4.888389798150847,2.334370596753277,-3.7666381305483525,-0.8134980225179305,-1.0266365600124507,0.11168720219586557,0.26957867907017685,-4.215815098007177,1.5834270663894439,-2.6387449963702774,-0.2856083133978988,-0.9206166289782809],\"yaxis\":\"y\",\"type\":\"scatter\"},{\"customdata\":[[\"April 10, 2019- Powehi - Image of a Black Hole\",\"Sleeping At Last\"],[\"August 12, 2018- Perseid Meteor Shower\",\"Sleeping At Last\"],[\"August 21, 2017- Total Solar Eclipse\",\"Sleeping At Last\"],[\"December 13, 2017- Geminid Meteor Shower\",\"Sleeping At Last\"],[\"December 17, 2018- Farout\",\"Sleeping At Last\"],[\"December 21, 2020- The Great Conjunction\",\"Sleeping At Last\"],[\"December 25, 2021- Webb Space Telescope - Launch\",\"Sleeping At Last\"],[\"February 1, 2023- C2022 E3 - Comet Ztf\",\"Sleeping At Last\"],[\"February 13, 2019- Opportunity - Mission Complete\",\"Sleeping At Last\"],[\"February 18, 2021- Perseverance - Mars Landing\",\"Sleeping At Last\"],[\"January 30, 2020- Spitzer - Final Voyage\",\"Sleeping At Last\"],[\"January 31, 2018- Super Blue Blood Moon\",\"Sleeping At Last\"],[\"July 22, 2020- C  2020 F3 - Comet Neowise\",\"Sleeping At Last\"],[\"July 27, 2018- Total Lunar Eclipse\",\"Sleeping At Last\"],[\"July 4, 2020- Aphelion\",\"Sleeping At Last\"],[\"June 24, 2022- Parade of Planets\",\"Sleeping At Last\"],[\"June 30, 2018- Pds 70b (Birth of a Planet)\",\"Sleeping At Last\"],[\"October 30, 2018- Kepler - Goodnight\",\"Sleeping At Last\"],[\"September 15, 2017- Cassini - The Grand Finale\",\"Sleeping At Last\"]],\"hovertemplate\":\"playlist=sleeping-at-last<br>PCA1=%{x}<br>PCA2=%{y}<br>song_name=%{customdata[0]}<br>artist=%{customdata[1]}<extra></extra>\",\"legendgroup\":\"sleeping-at-last\",\"marker\":{\"color\":\"#19d3f3\",\"symbol\":\"circle\"},\"mode\":\"markers\",\"name\":\"sleeping-at-last\",\"orientation\":\"v\",\"showlegend\":true,\"x\":[-2.0289993663298986,-1.4648554828459786,-1.563708116836369,-2.781993837487356,-1.7462261947037074,-2.592975358040137,-2.1500461303771177,-2.2251536579090754,-1.9397208918815714,-3.530715551606817,-1.7854442354405102,-2.7856372571745935,-3.216125968207542,-2.2312343862349313,-2.870117994382148,-3.139870634112257,2.186726062863373,-0.6979959262558314,-1.8209909820674843],\"xaxis\":\"x\",\"y\":[3.7560459616643485,3.370511787366508,6.33977215926533,4.6723130387739875,3.184830118347518,2.0222219032615842,-0.26674435716663675,3.8550194009542866,0.7769199744322915,3.5280041716301134,4.510224925832253,0.7086972263985725,1.2094627624974956,2.30058439614525,3.275583734115819,1.8883659335140341,6.767685445819328,2.4821919118367344,1.819135221715549],\"yaxis\":\"y\",\"type\":\"scatter\"},{\"customdata\":[[\"It's Ok If You Forget Me\",\"Astrid S\"],[\"Young & Alive\",\"Bazzi\"],[\"Paralyze\",\"Bj\\u00f8rnskov\"],[\"San Diego\",\"BRDGS\"],[\"Ear Candy\",\"Caye\"],[\"12 Hours\",\"Chris James\"],[\"My Universe\",\"Coldplay\"],[\"Overdrive\",\"Conan Gray\"],[\"Titanic\",\"Cosmo's Midnight\"],[\"Champagne For Two\",\"Devin Kennedy\"],[\"Another Round\",\"Elina\"],[\"How\",\"Elina\"],[\"Paper Planes\",\"Elina\"],[\"Nirvana\",\"ELLIANA\"],[\"Lost In Space\",\"Emmit Fenn\"],[\"12-45 - Stripped\",\"Etham\"],[\"Purpose - Stripped\",\"Etham\"],[\"California\",\"Ethan Dufault\"],[\"Hurt The Ones We Love The Most\",\"Evan Blum\"],[\"Young Love\",\"Falcon\"],[\"I Should've Told You\",\"Fiji Blue\"],[\"Waves\",\"Fiji Blue\"],[\"Healing\",\"FLETCHER\"],[\"hold on\",\"flor\"],[\"Automatic (feat. Jake Miller)\",\"Fly By Midnight\"],[\"Lovely\",\"Fly By Midnight\"],[\"Lonely\",\"Gatsby\"],[\"dear me,\",\"Gentle Bones\"],[\"I Wouldn't Know Any Better Than You\",\"Gentle Bones\"],[\"So Far So Good\",\"Great Good Fine Ok\"],[\"Falling\",\"Harry Styles\"],[\"sometimes\",\"Heather Sommer\"],[\"you heard me\",\"Heather Sommer\"],[\"Crying Over You \\u25d0\",\"HONNE\"],[\"Day Dreaming\",\"Jack & Jack\"],[\"Ross And Rachel\",\"Jake Miller\"],[\"Showing You Off\",\"Jake Miller\"],[\"Like No One Does\",\"Jake Scott\"],[\"CWJBHN\",\"Jake Scott\"],[\"drive all night\",\"joan\"],[\"i loved you first\",\"joan\"],[\"love somebody like you\",\"joan\"],[\"magnetic\",\"joan\"],[\"6 months\",\"John K\"],[\"ilym (feat. ROSIE)\",\"John K\"],[\"I Believe\",\"Jonas Brothers\"],[\"I Quit Drinking\",\"Kelsea Ballerini\"],[\"13\",\"LANY\"],[\"dancing in the kitchen\",\"LANY\"],[\"dna\",\"LANY\"],[\"get away\",\"LANY\"],[\"I Don't Wanna Love You Anymore\",\"LANY\"],[\"if this is the last time\",\"LANY\"],[\"ILYSB - STRIPPED\",\"LANY\"],[\"ILYSB\",\"LANY\"],[\"Let Me Know\",\"LANY\"],[\"Malibu Nights\",\"LANY\"],[\"Super Far\",\"LANY\"],[\"Thru These Tears\",\"LANY\"],[\"up to me\",\"LANY\"],[\"you!\",\"LANY\"],[\"Tattoos Together\",\"Lauv\"],[\"When We Were Younger\",\"Loving Caliber\"],[\"Love You Back\",\"Madeon\"],[\"colorblind\",\"Mokita\"],[\"London\",\"Mokita\"],[\"Ready Yet\",\"Mokita\"],[\"Shut Up I Love U\",\"Neptune\"],[\"This Is Heaven\",\"Nick Jonas\"],[\"Plot Twist\",\"NIKI\"],[\"Waves\",\"Paige\"],[\"Shelter\",\"Porter Robinson\"],[\"Outsider\",\"Rachel Grae\"],[\"Dandelions\",\"Ruth B.\"],[\"Lie\",\"Sasha Alex Sloan\"],[\"Day Dreaming\",\"Sopha\"],[\"I Always Wanna Die (Sometimes)\",\"The 1975\"],[\"I'm In Love With You\",\"The 1975\"],[\"It's Not Living (If It's Not With You)\",\"The 1975\"],[\"Robbers\",\"The 1975\"],[\"She's American\",\"The 1975\"],[\"Somebody Else\",\"The 1975\"],[\"Going Home\",\"The Aces\"],[\"Sunset\",\"The Midnight\"],[\"Say So\",\"The Sam Willows\"],[\"I Can't Stop Thinking About You\",\"The Shadowboxers\"],[\"Strawberries & Cigarettes\",\"Troye Sivan\"],[\"If Only for Tonight\",\"Vacation Manor\"],[\"rocket science\",\"vaultboy\"],[\"no excuses\",\"Virginia To Vegas\"],[\"Got A Little Crush On You\",\"Wildflowers\"],[\"Talking To Myself\",\"Will Jay\"],[\"Dance Like Nobody's Watching\",\"Yuna\"],[\"dancing in the kitchen\",\"Zachary Knowles\"],[\"stranger to me\",\"Zachary Knowles\"],[\"could you love me while i hate myself\",\"Zeph\"]],\"hovertemplate\":\"playlist=synth-pop<br>PCA1=%{x}<br>PCA2=%{y}<br>song_name=%{customdata[0]}<br>artist=%{customdata[1]}<extra></extra>\",\"legendgroup\":\"synth-pop\",\"marker\":{\"color\":\"#FF6692\",\"symbol\":\"circle\"},\"mode\":\"markers\",\"name\":\"synth-pop\",\"orientation\":\"v\",\"showlegend\":true,\"x\":[6.394070522164683,4.862457343946512,3.96759339016261,3.351204091811668,2.2575547013259465,5.923929381509921,2.8125829020019384,3.238948934033206,5.689765146855799,6.938127940011222,0.18401610205405117,1.9301793894143726,0.29899187909987796,-0.4270257086458195,-0.020636912690166254,4.147826921705633,4.568342392059,4.586183711690295,4.513762607248654,4.94971790799105,6.167657301748308,3.365699374523347,4.059939568545383,2.7219775002062225,2.931051746049733,3.276287080508754,3.192068046357714,3.706913145960948,5.148198683059786,4.264765688341099,1.9593517965426155,4.434185897355905,5.379977427122515,3.2196280751958644,6.7942409902038845,2.163612724295749,7.0795516165599786,2.6041916685932014,2.993240809177558,2.0747233872590902,1.8879988603058842,2.9635871531359337,3.3206814809287986,2.711728366012868,0.3427938650063925,3.2859013625144255,3.80199402221823,4.5818124768729165,3.6536934444488836,5.370395339170822,2.472236489198659,4.269425350428406,1.3369867606244832,1.8577614210043962,2.1989452878891758,5.182713684354214,1.9176257294831955,5.398453641660876,3.9863483864416924,3.7192834014510234,0.4007245772446244,7.092100106816938,-0.012996571414434067,1.0923721463909906,5.554318114534306,2.2299879431092773,5.976997457280385,1.8168630198173457,4.316673338140882,2.968502054967932,3.9539777834300387,3.1222842826248267,1.72936157650845,4.2202214433659675,2.3127868280924093,0.4543399851870768,2.350925423981957,1.3807400544882151,2.7186258389405284,3.0242559171301573,4.578592513079009,1.8107683779184809,3.7050515287539114,5.132032436966889,3.5473408913549287,2.2846086243527544,3.851538842487092,0.5755189091992428,4.03187374608951,5.891783632446486,2.7446468791145304,4.84384867610772,3.723552960768841,5.033725658207289,3.800220972460792,0.8034414741866831],\"xaxis\":\"x\",\"y\":[5.552699400044932,2.482890716269312,-1.150774657547098,-1.202472330364368,0.274118207557158,3.519509397553737,-2.899252851326412,-1.2052178591434197,-0.6173507285606082,3.4012141867450287,0.8706896573978787,3.428410091973727,-0.42109329025941067,-1.4474762726820927,2.4192433347558806,2.3480891793461893,3.1348729490464056,-2.209442689676359,2.881674857264468,0.3965488234362694,5.299422526258645,-0.5029609847697761,1.8063985452850972,-1.998721384675677,0.5170452160092746,-2.639410019316723,0.2975079704418824,1.2624749721635613,2.094561024889565,-1.8914737548360907,3.475830220669872,1.2858762563059802,3.2168693607579346,-1.6720335585026331,2.948278992386791,0.32167829671440523,0.06518518027464344,0.2622031423660048,-0.3143944900669642,-4.377014710303171,-1.3335653225240893,-1.422806120207954,-2.032484345297382,0.05537788396867904,-0.5864699961426251,-2.823145019161956,1.1945234946693895,1.3686495307988964,-1.7031417758673035,0.2837579003549651,-2.0311285126932286,2.110349453360761,-3.0819120152217727,1.2300884917223869,-0.7500074278129597,1.1977557311049887,2.6301420185523274,1.1743941693554556,-0.3021146809765608,-1.8592937879194436,-1.8717539694373448,-0.500941606214943,2.655214526038234,-1.4516231986119228,4.501405248894012,-0.18488914165064493,1.1851166956240582,-1.9447145734592395,-3.0163558915161097,1.733604129886174,0.5693816013497953,-2.9895984660827257,2.0093619323266423,-1.4165874358478456,0.6424212621792916,3.8636176821851658,-3.413169350618013,-3.199083902164942,-3.8215906725964564,-3.510098067037386,0.20662582103251761,-1.9602337651679305,-0.39223221381059425,-3.0132149335120677,1.2612382567312206,0.6207693455822437,-0.6033177118448335,-2.6130479142398615,1.8847408699910106,-0.6498552294925972,-0.21373912787422358,0.701522379603387,1.518315274596533,-1.3348907703226094,2.810919742661368,0.6217577224375751],\"yaxis\":\"y\",\"type\":\"scatter\"},{\"customdata\":[[\"Allure\",\"Tony Anderson\"],[\"Aurora\",\"Tony Anderson\"],[\"Chasm\",\"Tony Anderson\"],[\"Darkest Night\",\"Tony Anderson\"],[\"Deep Waters - Original Sketch\",\"Tony Anderson\"],[\"Deep Waters\",\"Tony Anderson\"],[\"Delusion\",\"Tony Anderson\"],[\"Eyes Wide Open - Cinematic Mix\",\"Tony Anderson\"],[\"Eyes Wide Open\",\"Tony Anderson\"],[\"Face of the Father\",\"Tony Anderson\"],[\"Farthest Seas\",\"Tony Anderson\"],[\"Finding Your Heart\",\"Tony Anderson\"],[\"Halo\",\"Tony Anderson\"],[\"High Tide\",\"Tony Anderson\"],[\"Immanuel\",\"Tony Anderson\"],[\"Immersion\",\"Tony Anderson\"],[\"In the Distance\",\"Tony Anderson\"],[\"Incision\",\"Tony Anderson\"],[\"Like a Child - Cinematic Mix\",\"Tony Anderson\"],[\"Low Tide\",\"Tony Anderson\"],[\"Lune\",\"Tony Anderson\"],[\"Morning's Wings\",\"Tony Anderson\"],[\"Nightingale\",\"Tony Anderson\"],[\"No Place on Earth\",\"Tony Anderson\"],[\"Nocturne in Paris\",\"Tony Anderson\"],[\"Perennial\",\"Tony Anderson\"],[\"Resurrect\",\"Tony Anderson\"],[\"Retour\",\"Tony Anderson\"],[\"Shalom\",\"Tony Anderson\"],[\"Slipstream\",\"Tony Anderson\"],[\"Something Can Grow\",\"Tony Anderson\"],[\"Spiriteaux\",\"Tony Anderson\"],[\"The King\",\"Tony Anderson\"],[\"The Way Home\",\"Tony Anderson\"],[\"Thin Place - Abbreviated\",\"Tony Anderson\"],[\"Thin Place\",\"Tony Anderson\"],[\"We Are One\",\"Tony Anderson\"],[\"Wir Sind Gleich\",\"Tony Anderson\"],[\"Younger\",\"Tony Anderson\"],[\"\\u00c9closion\",\"Tony Anderson\"],[\"\\u00c9ph\\u00e9m\\u00e8re\",\"Tony Anderson\"],[\"Arp\\u00e8ge\",\"Tony Anderson\"],[\"Nuit\",\"Tony Anderson\"],[\"Tenderness - Woven Remix\",\"Tony Anderson\"],[\"Tenderness\",\"Tony Anderson\"],[\"Cambodia - Ross Lara Remix\",\"Tony Anderson\"],[\"Cambodia\",\"Tony Anderson\"],[\"Oyarsa\",\"Tony Anderson\"]],\"hovertemplate\":\"playlist=tony-anderson<br>PCA1=%{x}<br>PCA2=%{y}<br>song_name=%{customdata[0]}<br>artist=%{customdata[1]}<extra></extra>\",\"legendgroup\":\"tony-anderson\",\"marker\":{\"color\":\"#B6E880\",\"symbol\":\"circle\"},\"mode\":\"markers\",\"name\":\"tony-anderson\",\"orientation\":\"v\",\"showlegend\":true,\"x\":[-3.6583795240997716,-2.447267577410573,-4.536009256505507,-2.3478010648918137,-5.658127623784961,-5.08995750612147,-3.8592986494581987,-4.759604285961745,-1.8450148195373959,-2.531038820543919,-1.958678747990067,-3.3792225386376993,-4.699118342592631,-4.5881280206039845,-4.125162709193534,-5.575473856066921,-3.7466091318896146,-3.990692450147655,-4.06996970746437,-0.3957723110489229,-5.803842640047712,-2.698416300272228,-4.763855895477074,0.3623000017254284,-3.910874053741074,-5.649309068339041,-2.2348284171477073,-5.209506214353046,-2.6664237821630996,-2.0062636392448505,-2.2489273760093176,-4.503712380299113,-3.730688984615095,-3.015623947368064,-3.3402938279960024,-4.629389106302181,-5.954347996104334,-2.772494516024754,-3.6411338279052217,-4.5027633488455905,-6.091504636054006,-3.199158367321659,-2.3181252568189787,1.6888919106131406,-5.6786492898194165,-1.2137891819662252,-1.078784750961128,-4.8067179896477175],\"xaxis\":\"x\",\"y\":[-2.2159329717932437,-0.12481997334655306,1.7860849910904606,-2.3535842227517922,0.5565156097717177,1.9279099103831852,-3.6462290919091296,0.09628814942629667,0.3717804779598219,-2.553975230607258,-0.24065848917978194,-1.382884490861238,-0.9502894599676291,3.222558813186525,0.31292428440896725,0.27471370804664563,-1.1438988914167154,-0.23551770479628042,-0.18206004742840082,3.882618969268427,-2.1570965574060232,-4.6750019090634405,1.8954529295737053,0.008655938219655464,1.3694855116905227,-0.28809613252096455,0.6011011555286015,-0.3950864719959131,-2.9822707894342013,2.4457665841453817,3.378143316551837,-0.1528796399831975,-2.492633184680505,-4.3012570045949,0.14893968183697262,1.0534879027986275,-1.2914743130247104,-4.865224763566027,2.146843045591233,-1.176194362808889,-2.398738460703492,0.9104802464003215,2.5018714405018683,-1.6145626541568134,-2.410350955103078,-2.02186865647018,-0.08852356113156015,1.0426981514050055],\"yaxis\":\"y\",\"type\":\"scatter\"}],                        {\"template\":{\"data\":{\"histogram2dcontour\":[{\"type\":\"histogram2dcontour\",\"colorbar\":{\"outlinewidth\":0,\"ticks\":\"\"},\"colorscale\":[[0.0,\"#0d0887\"],[0.1111111111111111,\"#46039f\"],[0.2222222222222222,\"#7201a8\"],[0.3333333333333333,\"#9c179e\"],[0.4444444444444444,\"#bd3786\"],[0.5555555555555556,\"#d8576b\"],[0.6666666666666666,\"#ed7953\"],[0.7777777777777778,\"#fb9f3a\"],[0.8888888888888888,\"#fdca26\"],[1.0,\"#f0f921\"]]}],\"choropleth\":[{\"type\":\"choropleth\",\"colorbar\":{\"outlinewidth\":0,\"ticks\":\"\"}}],\"histogram2d\":[{\"type\":\"histogram2d\",\"colorbar\":{\"outlinewidth\":0,\"ticks\":\"\"},\"colorscale\":[[0.0,\"#0d0887\"],[0.1111111111111111,\"#46039f\"],[0.2222222222222222,\"#7201a8\"],[0.3333333333333333,\"#9c179e\"],[0.4444444444444444,\"#bd3786\"],[0.5555555555555556,\"#d8576b\"],[0.6666666666666666,\"#ed7953\"],[0.7777777777777778,\"#fb9f3a\"],[0.8888888888888888,\"#fdca26\"],[1.0,\"#f0f921\"]]}],\"heatmap\":[{\"type\":\"heatmap\",\"colorbar\":{\"outlinewidth\":0,\"ticks\":\"\"},\"colorscale\":[[0.0,\"#0d0887\"],[0.1111111111111111,\"#46039f\"],[0.2222222222222222,\"#7201a8\"],[0.3333333333333333,\"#9c179e\"],[0.4444444444444444,\"#bd3786\"],[0.5555555555555556,\"#d8576b\"],[0.6666666666666666,\"#ed7953\"],[0.7777777777777778,\"#fb9f3a\"],[0.8888888888888888,\"#fdca26\"],[1.0,\"#f0f921\"]]}],\"heatmapgl\":[{\"type\":\"heatmapgl\",\"colorbar\":{\"outlinewidth\":0,\"ticks\":\"\"},\"colorscale\":[[0.0,\"#0d0887\"],[0.1111111111111111,\"#46039f\"],[0.2222222222222222,\"#7201a8\"],[0.3333333333333333,\"#9c179e\"],[0.4444444444444444,\"#bd3786\"],[0.5555555555555556,\"#d8576b\"],[0.6666666666666666,\"#ed7953\"],[0.7777777777777778,\"#fb9f3a\"],[0.8888888888888888,\"#fdca26\"],[1.0,\"#f0f921\"]]}],\"contourcarpet\":[{\"type\":\"contourcarpet\",\"colorbar\":{\"outlinewidth\":0,\"ticks\":\"\"}}],\"contour\":[{\"type\":\"contour\",\"colorbar\":{\"outlinewidth\":0,\"ticks\":\"\"},\"colorscale\":[[0.0,\"#0d0887\"],[0.1111111111111111,\"#46039f\"],[0.2222222222222222,\"#7201a8\"],[0.3333333333333333,\"#9c179e\"],[0.4444444444444444,\"#bd3786\"],[0.5555555555555556,\"#d8576b\"],[0.6666666666666666,\"#ed7953\"],[0.7777777777777778,\"#fb9f3a\"],[0.8888888888888888,\"#fdca26\"],[1.0,\"#f0f921\"]]}],\"surface\":[{\"type\":\"surface\",\"colorbar\":{\"outlinewidth\":0,\"ticks\":\"\"},\"colorscale\":[[0.0,\"#0d0887\"],[0.1111111111111111,\"#46039f\"],[0.2222222222222222,\"#7201a8\"],[0.3333333333333333,\"#9c179e\"],[0.4444444444444444,\"#bd3786\"],[0.5555555555555556,\"#d8576b\"],[0.6666666666666666,\"#ed7953\"],[0.7777777777777778,\"#fb9f3a\"],[0.8888888888888888,\"#fdca26\"],[1.0,\"#f0f921\"]]}],\"mesh3d\":[{\"type\":\"mesh3d\",\"colorbar\":{\"outlinewidth\":0,\"ticks\":\"\"}}],\"scatter\":[{\"marker\":{\"line\":{\"color\":\"#283442\"}},\"type\":\"scatter\"}],\"parcoords\":[{\"type\":\"parcoords\",\"line\":{\"colorbar\":{\"outlinewidth\":0,\"ticks\":\"\"}}}],\"scatterpolargl\":[{\"type\":\"scatterpolargl\",\"marker\":{\"colorbar\":{\"outlinewidth\":0,\"ticks\":\"\"}}}],\"bar\":[{\"error_x\":{\"color\":\"#f2f5fa\"},\"error_y\":{\"color\":\"#f2f5fa\"},\"marker\":{\"line\":{\"color\":\"rgb(17,17,17)\",\"width\":0.5},\"pattern\":{\"fillmode\":\"overlay\",\"size\":10,\"solidity\":0.2}},\"type\":\"bar\"}],\"scattergeo\":[{\"type\":\"scattergeo\",\"marker\":{\"colorbar\":{\"outlinewidth\":0,\"ticks\":\"\"}}}],\"scatterpolar\":[{\"type\":\"scatterpolar\",\"marker\":{\"colorbar\":{\"outlinewidth\":0,\"ticks\":\"\"}}}],\"histogram\":[{\"marker\":{\"pattern\":{\"fillmode\":\"overlay\",\"size\":10,\"solidity\":0.2}},\"type\":\"histogram\"}],\"scattergl\":[{\"marker\":{\"line\":{\"color\":\"#283442\"}},\"type\":\"scattergl\"}],\"scatter3d\":[{\"type\":\"scatter3d\",\"line\":{\"colorbar\":{\"outlinewidth\":0,\"ticks\":\"\"}},\"marker\":{\"colorbar\":{\"outlinewidth\":0,\"ticks\":\"\"}}}],\"scattermapbox\":[{\"type\":\"scattermapbox\",\"marker\":{\"colorbar\":{\"outlinewidth\":0,\"ticks\":\"\"}}}],\"scatterternary\":[{\"type\":\"scatterternary\",\"marker\":{\"colorbar\":{\"outlinewidth\":0,\"ticks\":\"\"}}}],\"scattercarpet\":[{\"type\":\"scattercarpet\",\"marker\":{\"colorbar\":{\"outlinewidth\":0,\"ticks\":\"\"}}}],\"carpet\":[{\"aaxis\":{\"endlinecolor\":\"#A2B1C6\",\"gridcolor\":\"#506784\",\"linecolor\":\"#506784\",\"minorgridcolor\":\"#506784\",\"startlinecolor\":\"#A2B1C6\"},\"baxis\":{\"endlinecolor\":\"#A2B1C6\",\"gridcolor\":\"#506784\",\"linecolor\":\"#506784\",\"minorgridcolor\":\"#506784\",\"startlinecolor\":\"#A2B1C6\"},\"type\":\"carpet\"}],\"table\":[{\"cells\":{\"fill\":{\"color\":\"#506784\"},\"line\":{\"color\":\"rgb(17,17,17)\"}},\"header\":{\"fill\":{\"color\":\"#2a3f5f\"},\"line\":{\"color\":\"rgb(17,17,17)\"}},\"type\":\"table\"}],\"barpolar\":[{\"marker\":{\"line\":{\"color\":\"rgb(17,17,17)\",\"width\":0.5},\"pattern\":{\"fillmode\":\"overlay\",\"size\":10,\"solidity\":0.2}},\"type\":\"barpolar\"}],\"pie\":[{\"automargin\":true,\"type\":\"pie\"}]},\"layout\":{\"autotypenumbers\":\"strict\",\"colorway\":[\"#636efa\",\"#EF553B\",\"#00cc96\",\"#ab63fa\",\"#FFA15A\",\"#19d3f3\",\"#FF6692\",\"#B6E880\",\"#FF97FF\",\"#FECB52\"],\"font\":{\"color\":\"#f2f5fa\"},\"hovermode\":\"closest\",\"hoverlabel\":{\"align\":\"left\"},\"paper_bgcolor\":\"rgb(17,17,17)\",\"plot_bgcolor\":\"rgb(17,17,17)\",\"polar\":{\"bgcolor\":\"rgb(17,17,17)\",\"angularaxis\":{\"gridcolor\":\"#506784\",\"linecolor\":\"#506784\",\"ticks\":\"\"},\"radialaxis\":{\"gridcolor\":\"#506784\",\"linecolor\":\"#506784\",\"ticks\":\"\"}},\"ternary\":{\"bgcolor\":\"rgb(17,17,17)\",\"aaxis\":{\"gridcolor\":\"#506784\",\"linecolor\":\"#506784\",\"ticks\":\"\"},\"baxis\":{\"gridcolor\":\"#506784\",\"linecolor\":\"#506784\",\"ticks\":\"\"},\"caxis\":{\"gridcolor\":\"#506784\",\"linecolor\":\"#506784\",\"ticks\":\"\"}},\"coloraxis\":{\"colorbar\":{\"outlinewidth\":0,\"ticks\":\"\"}},\"colorscale\":{\"sequential\":[[0.0,\"#0d0887\"],[0.1111111111111111,\"#46039f\"],[0.2222222222222222,\"#7201a8\"],[0.3333333333333333,\"#9c179e\"],[0.4444444444444444,\"#bd3786\"],[0.5555555555555556,\"#d8576b\"],[0.6666666666666666,\"#ed7953\"],[0.7777777777777778,\"#fb9f3a\"],[0.8888888888888888,\"#fdca26\"],[1.0,\"#f0f921\"]],\"sequentialminus\":[[0.0,\"#0d0887\"],[0.1111111111111111,\"#46039f\"],[0.2222222222222222,\"#7201a8\"],[0.3333333333333333,\"#9c179e\"],[0.4444444444444444,\"#bd3786\"],[0.5555555555555556,\"#d8576b\"],[0.6666666666666666,\"#ed7953\"],[0.7777777777777778,\"#fb9f3a\"],[0.8888888888888888,\"#fdca26\"],[1.0,\"#f0f921\"]],\"diverging\":[[0,\"#8e0152\"],[0.1,\"#c51b7d\"],[0.2,\"#de77ae\"],[0.3,\"#f1b6da\"],[0.4,\"#fde0ef\"],[0.5,\"#f7f7f7\"],[0.6,\"#e6f5d0\"],[0.7,\"#b8e186\"],[0.8,\"#7fbc41\"],[0.9,\"#4d9221\"],[1,\"#276419\"]]},\"xaxis\":{\"gridcolor\":\"#283442\",\"linecolor\":\"#506784\",\"ticks\":\"\",\"title\":{\"standoff\":15},\"zerolinecolor\":\"#283442\",\"automargin\":true,\"zerolinewidth\":2},\"yaxis\":{\"gridcolor\":\"#283442\",\"linecolor\":\"#506784\",\"ticks\":\"\",\"title\":{\"standoff\":15},\"zerolinecolor\":\"#283442\",\"automargin\":true,\"zerolinewidth\":2},\"scene\":{\"xaxis\":{\"backgroundcolor\":\"rgb(17,17,17)\",\"gridcolor\":\"#506784\",\"linecolor\":\"#506784\",\"showbackground\":true,\"ticks\":\"\",\"zerolinecolor\":\"#C8D4E3\",\"gridwidth\":2},\"yaxis\":{\"backgroundcolor\":\"rgb(17,17,17)\",\"gridcolor\":\"#506784\",\"linecolor\":\"#506784\",\"showbackground\":true,\"ticks\":\"\",\"zerolinecolor\":\"#C8D4E3\",\"gridwidth\":2},\"zaxis\":{\"backgroundcolor\":\"rgb(17,17,17)\",\"gridcolor\":\"#506784\",\"linecolor\":\"#506784\",\"showbackground\":true,\"ticks\":\"\",\"zerolinecolor\":\"#C8D4E3\",\"gridwidth\":2}},\"shapedefaults\":{\"line\":{\"color\":\"#f2f5fa\"}},\"annotationdefaults\":{\"arrowcolor\":\"#f2f5fa\",\"arrowhead\":0,\"arrowwidth\":1},\"geo\":{\"bgcolor\":\"rgb(17,17,17)\",\"landcolor\":\"rgb(17,17,17)\",\"subunitcolor\":\"#506784\",\"showland\":true,\"showlakes\":true,\"lakecolor\":\"rgb(17,17,17)\"},\"title\":{\"x\":0.05},\"updatemenudefaults\":{\"bgcolor\":\"#506784\",\"borderwidth\":0},\"sliderdefaults\":{\"bgcolor\":\"#C8D4E3\",\"borderwidth\":1,\"bordercolor\":\"rgb(17,17,17)\",\"tickwidth\":0},\"mapbox\":{\"style\":\"dark\"}}},\"xaxis\":{\"anchor\":\"y\",\"domain\":[0.0,1.0],\"title\":{\"text\":\"PCA1\"}},\"yaxis\":{\"anchor\":\"x\",\"domain\":[0.0,1.0],\"title\":{\"text\":\"PCA2\"}},\"legend\":{\"title\":{\"text\":\"playlist\"},\"tracegroupgap\":0},\"margin\":{\"t\":60},\"height\":500,\"width\":1000},                        {\"responsive\": true}                    ).then(function(){\n                            \nvar gd = document.getElementById('367b57f1-c56c-4490-8050-21482530b700');\nvar x = new MutationObserver(function (mutations, observer) {{\n        var display = window.getComputedStyle(gd).display;\n        if (!display || display === 'none') {{\n            console.log([gd, 'removed!']);\n            Plotly.purge(gd);\n            observer.disconnect();\n        }}\n}});\n\n// Listen for the removal of the full notebook cells\nvar notebookContainer = gd.closest('#notebook-container');\nif (notebookContainer) {{\n    x.observe(notebookContainer, {childList: true});\n}}\n\n// Listen for the clearing of the current output cell\nvar outputEl = gd.closest('.output');\nif (outputEl) {{\n    x.observe(outputEl, {childList: true});\n}}\n\n                        })                };                });            </script>        </div>"
     },
     "metadata": {},
     "output_type": "display_data"
    }
   ],
   "source": [
    "import plotly.express as px\n",
    "px.scatter(\n",
    "    pca_results,\n",
    "    x='PCA1',\n",
    "    y='PCA2',\n",
    "    template='plotly_dark',\n",
    "    hover_data=['song_name', 'artist'],\n",
    "    color='playlist',\n",
    "    height=500,\n",
    "    width=1000\n",
    ").show()"
   ],
   "metadata": {
    "collapsed": false
   }
  },
  {
   "cell_type": "code",
   "execution_count": 28,
   "outputs": [
    {
     "data": {
      "text/plain": "NearestNeighbors()",
      "text/html": "<style>#sk-container-id-3 {color: black;background-color: white;}#sk-container-id-3 pre{padding: 0;}#sk-container-id-3 div.sk-toggleable {background-color: white;}#sk-container-id-3 label.sk-toggleable__label {cursor: pointer;display: block;width: 100%;margin-bottom: 0;padding: 0.3em;box-sizing: border-box;text-align: center;}#sk-container-id-3 label.sk-toggleable__label-arrow:before {content: \"▸\";float: left;margin-right: 0.25em;color: #696969;}#sk-container-id-3 label.sk-toggleable__label-arrow:hover:before {color: black;}#sk-container-id-3 div.sk-estimator:hover label.sk-toggleable__label-arrow:before {color: black;}#sk-container-id-3 div.sk-toggleable__content {max-height: 0;max-width: 0;overflow: hidden;text-align: left;background-color: #f0f8ff;}#sk-container-id-3 div.sk-toggleable__content pre {margin: 0.2em;color: black;border-radius: 0.25em;background-color: #f0f8ff;}#sk-container-id-3 input.sk-toggleable__control:checked~div.sk-toggleable__content {max-height: 200px;max-width: 100%;overflow: auto;}#sk-container-id-3 input.sk-toggleable__control:checked~label.sk-toggleable__label-arrow:before {content: \"▾\";}#sk-container-id-3 div.sk-estimator input.sk-toggleable__control:checked~label.sk-toggleable__label {background-color: #d4ebff;}#sk-container-id-3 div.sk-label input.sk-toggleable__control:checked~label.sk-toggleable__label {background-color: #d4ebff;}#sk-container-id-3 input.sk-hidden--visually {border: 0;clip: rect(1px 1px 1px 1px);clip: rect(1px, 1px, 1px, 1px);height: 1px;margin: -1px;overflow: hidden;padding: 0;position: absolute;width: 1px;}#sk-container-id-3 div.sk-estimator {font-family: monospace;background-color: #f0f8ff;border: 1px dotted black;border-radius: 0.25em;box-sizing: border-box;margin-bottom: 0.5em;}#sk-container-id-3 div.sk-estimator:hover {background-color: #d4ebff;}#sk-container-id-3 div.sk-parallel-item::after {content: \"\";width: 100%;border-bottom: 1px solid gray;flex-grow: 1;}#sk-container-id-3 div.sk-label:hover label.sk-toggleable__label {background-color: #d4ebff;}#sk-container-id-3 div.sk-serial::before {content: \"\";position: absolute;border-left: 1px solid gray;box-sizing: border-box;top: 0;bottom: 0;left: 50%;z-index: 0;}#sk-container-id-3 div.sk-serial {display: flex;flex-direction: column;align-items: center;background-color: white;padding-right: 0.2em;padding-left: 0.2em;position: relative;}#sk-container-id-3 div.sk-item {position: relative;z-index: 1;}#sk-container-id-3 div.sk-parallel {display: flex;align-items: stretch;justify-content: center;background-color: white;position: relative;}#sk-container-id-3 div.sk-item::before, #sk-container-id-3 div.sk-parallel-item::before {content: \"\";position: absolute;border-left: 1px solid gray;box-sizing: border-box;top: 0;bottom: 0;left: 50%;z-index: -1;}#sk-container-id-3 div.sk-parallel-item {display: flex;flex-direction: column;z-index: 1;position: relative;background-color: white;}#sk-container-id-3 div.sk-parallel-item:first-child::after {align-self: flex-end;width: 50%;}#sk-container-id-3 div.sk-parallel-item:last-child::after {align-self: flex-start;width: 50%;}#sk-container-id-3 div.sk-parallel-item:only-child::after {width: 0;}#sk-container-id-3 div.sk-dashed-wrapped {border: 1px dashed gray;margin: 0 0.4em 0.5em 0.4em;box-sizing: border-box;padding-bottom: 0.4em;background-color: white;}#sk-container-id-3 div.sk-label label {font-family: monospace;font-weight: bold;display: inline-block;line-height: 1.2em;}#sk-container-id-3 div.sk-label-container {text-align: center;}#sk-container-id-3 div.sk-container {/* jupyter's `normalize.less` sets `[hidden] { display: none; }` but bootstrap.min.css set `[hidden] { display: none !important; }` so we also need the `!important` here to be able to override the default hidden behavior on the sphinx rendered scikit-learn.org. See: https://github.com/scikit-learn/scikit-learn/issues/21755 */display: inline-block !important;position: relative;}#sk-container-id-3 div.sk-text-repr-fallback {display: none;}</style><div id=\"sk-container-id-3\" class=\"sk-top-container\"><div class=\"sk-text-repr-fallback\"><pre>NearestNeighbors()</pre><b>In a Jupyter environment, please rerun this cell to show the HTML representation or trust the notebook. <br />On GitHub, the HTML representation is unable to render, please try loading this page with nbviewer.org.</b></div><div class=\"sk-container\" hidden><div class=\"sk-item\"><div class=\"sk-estimator sk-toggleable\"><input class=\"sk-toggleable__control sk-hidden--visually\" id=\"sk-estimator-id-3\" type=\"checkbox\" checked><label for=\"sk-estimator-id-3\" class=\"sk-toggleable__label sk-toggleable__label-arrow\">NearestNeighbors</label><div class=\"sk-toggleable__content\"><pre>NearestNeighbors()</pre></div></div></div></div></div>"
     },
     "execution_count": 28,
     "metadata": {},
     "output_type": "execute_result"
    }
   ],
   "source": [
    "from sklearn.neighbors import NearestNeighbors\n",
    "tsne_knn = NearestNeighbors(n_neighbors=neighbours)\n",
    "tsne_knn.fit(tsne_results[['TSNE1', 'TSNE2']])"
   ],
   "metadata": {
    "collapsed": false
   }
  },
  {
   "cell_type": "code",
   "execution_count": 29,
   "outputs": [
    {
     "data": {
      "text/plain": "NearestNeighbors()",
      "text/html": "<style>#sk-container-id-4 {color: black;background-color: white;}#sk-container-id-4 pre{padding: 0;}#sk-container-id-4 div.sk-toggleable {background-color: white;}#sk-container-id-4 label.sk-toggleable__label {cursor: pointer;display: block;width: 100%;margin-bottom: 0;padding: 0.3em;box-sizing: border-box;text-align: center;}#sk-container-id-4 label.sk-toggleable__label-arrow:before {content: \"▸\";float: left;margin-right: 0.25em;color: #696969;}#sk-container-id-4 label.sk-toggleable__label-arrow:hover:before {color: black;}#sk-container-id-4 div.sk-estimator:hover label.sk-toggleable__label-arrow:before {color: black;}#sk-container-id-4 div.sk-toggleable__content {max-height: 0;max-width: 0;overflow: hidden;text-align: left;background-color: #f0f8ff;}#sk-container-id-4 div.sk-toggleable__content pre {margin: 0.2em;color: black;border-radius: 0.25em;background-color: #f0f8ff;}#sk-container-id-4 input.sk-toggleable__control:checked~div.sk-toggleable__content {max-height: 200px;max-width: 100%;overflow: auto;}#sk-container-id-4 input.sk-toggleable__control:checked~label.sk-toggleable__label-arrow:before {content: \"▾\";}#sk-container-id-4 div.sk-estimator input.sk-toggleable__control:checked~label.sk-toggleable__label {background-color: #d4ebff;}#sk-container-id-4 div.sk-label input.sk-toggleable__control:checked~label.sk-toggleable__label {background-color: #d4ebff;}#sk-container-id-4 input.sk-hidden--visually {border: 0;clip: rect(1px 1px 1px 1px);clip: rect(1px, 1px, 1px, 1px);height: 1px;margin: -1px;overflow: hidden;padding: 0;position: absolute;width: 1px;}#sk-container-id-4 div.sk-estimator {font-family: monospace;background-color: #f0f8ff;border: 1px dotted black;border-radius: 0.25em;box-sizing: border-box;margin-bottom: 0.5em;}#sk-container-id-4 div.sk-estimator:hover {background-color: #d4ebff;}#sk-container-id-4 div.sk-parallel-item::after {content: \"\";width: 100%;border-bottom: 1px solid gray;flex-grow: 1;}#sk-container-id-4 div.sk-label:hover label.sk-toggleable__label {background-color: #d4ebff;}#sk-container-id-4 div.sk-serial::before {content: \"\";position: absolute;border-left: 1px solid gray;box-sizing: border-box;top: 0;bottom: 0;left: 50%;z-index: 0;}#sk-container-id-4 div.sk-serial {display: flex;flex-direction: column;align-items: center;background-color: white;padding-right: 0.2em;padding-left: 0.2em;position: relative;}#sk-container-id-4 div.sk-item {position: relative;z-index: 1;}#sk-container-id-4 div.sk-parallel {display: flex;align-items: stretch;justify-content: center;background-color: white;position: relative;}#sk-container-id-4 div.sk-item::before, #sk-container-id-4 div.sk-parallel-item::before {content: \"\";position: absolute;border-left: 1px solid gray;box-sizing: border-box;top: 0;bottom: 0;left: 50%;z-index: -1;}#sk-container-id-4 div.sk-parallel-item {display: flex;flex-direction: column;z-index: 1;position: relative;background-color: white;}#sk-container-id-4 div.sk-parallel-item:first-child::after {align-self: flex-end;width: 50%;}#sk-container-id-4 div.sk-parallel-item:last-child::after {align-self: flex-start;width: 50%;}#sk-container-id-4 div.sk-parallel-item:only-child::after {width: 0;}#sk-container-id-4 div.sk-dashed-wrapped {border: 1px dashed gray;margin: 0 0.4em 0.5em 0.4em;box-sizing: border-box;padding-bottom: 0.4em;background-color: white;}#sk-container-id-4 div.sk-label label {font-family: monospace;font-weight: bold;display: inline-block;line-height: 1.2em;}#sk-container-id-4 div.sk-label-container {text-align: center;}#sk-container-id-4 div.sk-container {/* jupyter's `normalize.less` sets `[hidden] { display: none; }` but bootstrap.min.css set `[hidden] { display: none !important; }` so we also need the `!important` here to be able to override the default hidden behavior on the sphinx rendered scikit-learn.org. See: https://github.com/scikit-learn/scikit-learn/issues/21755 */display: inline-block !important;position: relative;}#sk-container-id-4 div.sk-text-repr-fallback {display: none;}</style><div id=\"sk-container-id-4\" class=\"sk-top-container\"><div class=\"sk-text-repr-fallback\"><pre>NearestNeighbors()</pre><b>In a Jupyter environment, please rerun this cell to show the HTML representation or trust the notebook. <br />On GitHub, the HTML representation is unable to render, please try loading this page with nbviewer.org.</b></div><div class=\"sk-container\" hidden><div class=\"sk-item\"><div class=\"sk-estimator sk-toggleable\"><input class=\"sk-toggleable__control sk-hidden--visually\" id=\"sk-estimator-id-4\" type=\"checkbox\" checked><label for=\"sk-estimator-id-4\" class=\"sk-toggleable__label sk-toggleable__label-arrow\">NearestNeighbors</label><div class=\"sk-toggleable__content\"><pre>NearestNeighbors()</pre></div></div></div></div></div>"
     },
     "execution_count": 29,
     "metadata": {},
     "output_type": "execute_result"
    }
   ],
   "source": [
    "pca_knn = NearestNeighbors(n_neighbors=neighbours)\n",
    "pca_knn.fit(pca_results[['PCA1', 'PCA2']])"
   ],
   "metadata": {
    "collapsed": false
   }
  },
  {
   "cell_type": "code",
   "execution_count": 30,
   "outputs": [
    {
     "data": {
      "text/plain": "        song_name       artist   playlist  zero_crossings_mean  \\\n315  Day Dreaming  Jack & Jack  synth-pop             0.085827   \n\n     zero_crossings_var         bpm  spectral_centroid_mean  \\\n315            0.078461  103.359375             2385.111491   \n\n     spectral_centroid_var  spectral_rolloff_mean  spectral_rolloff_var  ...  \\\n315           1.329049e+06            5181.085849          5.356885e+06  ...   \n\n     mfcc_var_7  mfcc_mean_8  mfcc_var_8  mfcc_mean_9  mfcc_var_9  \\\n315  258.285309    -6.027006   165.28508     4.518344  168.603088   \n\n     mfcc_mean_10  mfcc_var_10      TSNE1      TSNE2  cluster  \n315      -7.50387   137.234467 -84.392181 -29.052507        2  \n\n[1 rows x 37 columns]",
      "text/html": "<div>\n<style scoped>\n    .dataframe tbody tr th:only-of-type {\n        vertical-align: middle;\n    }\n\n    .dataframe tbody tr th {\n        vertical-align: top;\n    }\n\n    .dataframe thead th {\n        text-align: right;\n    }\n</style>\n<table border=\"1\" class=\"dataframe\">\n  <thead>\n    <tr style=\"text-align: right;\">\n      <th></th>\n      <th>song_name</th>\n      <th>artist</th>\n      <th>playlist</th>\n      <th>zero_crossings_mean</th>\n      <th>zero_crossings_var</th>\n      <th>bpm</th>\n      <th>spectral_centroid_mean</th>\n      <th>spectral_centroid_var</th>\n      <th>spectral_rolloff_mean</th>\n      <th>spectral_rolloff_var</th>\n      <th>...</th>\n      <th>mfcc_var_7</th>\n      <th>mfcc_mean_8</th>\n      <th>mfcc_var_8</th>\n      <th>mfcc_mean_9</th>\n      <th>mfcc_var_9</th>\n      <th>mfcc_mean_10</th>\n      <th>mfcc_var_10</th>\n      <th>TSNE1</th>\n      <th>TSNE2</th>\n      <th>cluster</th>\n    </tr>\n  </thead>\n  <tbody>\n    <tr>\n      <th>315</th>\n      <td>Day Dreaming</td>\n      <td>Jack &amp; Jack</td>\n      <td>synth-pop</td>\n      <td>0.085827</td>\n      <td>0.078461</td>\n      <td>103.359375</td>\n      <td>2385.111491</td>\n      <td>1.329049e+06</td>\n      <td>5181.085849</td>\n      <td>5.356885e+06</td>\n      <td>...</td>\n      <td>258.285309</td>\n      <td>-6.027006</td>\n      <td>165.28508</td>\n      <td>4.518344</td>\n      <td>168.603088</td>\n      <td>-7.50387</td>\n      <td>137.234467</td>\n      <td>-84.392181</td>\n      <td>-29.052507</td>\n      <td>2</td>\n    </tr>\n  </tbody>\n</table>\n<p>1 rows × 37 columns</p>\n</div>"
     },
     "execution_count": 30,
     "metadata": {},
     "output_type": "execute_result"
    }
   ],
   "source": [
    "tsne_search = tsne_results[tsne_results['song_name'] == 'Day Dreaming']\n",
    "tsne_search = tsne_search.iloc[[0], :]\n",
    "tsne_search"
   ],
   "metadata": {
    "collapsed": false
   }
  },
  {
   "cell_type": "code",
   "execution_count": 31,
   "outputs": [
    {
     "data": {
      "text/plain": "        song_name       artist   playlist  zero_crossings_mean  \\\n315  Day Dreaming  Jack & Jack  synth-pop             0.085827   \n\n     zero_crossings_var         bpm  spectral_centroid_mean  \\\n315            0.078461  103.359375             2385.111491   \n\n     spectral_centroid_var  spectral_rolloff_mean  spectral_rolloff_var  ...  \\\n315           1.329049e+06            5181.085849          5.356885e+06  ...   \n\n     mfcc_var_9  mfcc_mean_10  mfcc_var_10    note_x     note_y    chord_x  \\\n315  168.603088      -7.50387   137.234467  40.36496  71.088229  21.220033   \n\n      chord_y      PCA1      PCA2  cluster  \n315 -1.920845  6.794241  2.948279        2  \n\n[1 rows x 41 columns]",
      "text/html": "<div>\n<style scoped>\n    .dataframe tbody tr th:only-of-type {\n        vertical-align: middle;\n    }\n\n    .dataframe tbody tr th {\n        vertical-align: top;\n    }\n\n    .dataframe thead th {\n        text-align: right;\n    }\n</style>\n<table border=\"1\" class=\"dataframe\">\n  <thead>\n    <tr style=\"text-align: right;\">\n      <th></th>\n      <th>song_name</th>\n      <th>artist</th>\n      <th>playlist</th>\n      <th>zero_crossings_mean</th>\n      <th>zero_crossings_var</th>\n      <th>bpm</th>\n      <th>spectral_centroid_mean</th>\n      <th>spectral_centroid_var</th>\n      <th>spectral_rolloff_mean</th>\n      <th>spectral_rolloff_var</th>\n      <th>...</th>\n      <th>mfcc_var_9</th>\n      <th>mfcc_mean_10</th>\n      <th>mfcc_var_10</th>\n      <th>note_x</th>\n      <th>note_y</th>\n      <th>chord_x</th>\n      <th>chord_y</th>\n      <th>PCA1</th>\n      <th>PCA2</th>\n      <th>cluster</th>\n    </tr>\n  </thead>\n  <tbody>\n    <tr>\n      <th>315</th>\n      <td>Day Dreaming</td>\n      <td>Jack &amp; Jack</td>\n      <td>synth-pop</td>\n      <td>0.085827</td>\n      <td>0.078461</td>\n      <td>103.359375</td>\n      <td>2385.111491</td>\n      <td>1.329049e+06</td>\n      <td>5181.085849</td>\n      <td>5.356885e+06</td>\n      <td>...</td>\n      <td>168.603088</td>\n      <td>-7.50387</td>\n      <td>137.234467</td>\n      <td>40.36496</td>\n      <td>71.088229</td>\n      <td>21.220033</td>\n      <td>-1.920845</td>\n      <td>6.794241</td>\n      <td>2.948279</td>\n      <td>2</td>\n    </tr>\n  </tbody>\n</table>\n<p>1 rows × 41 columns</p>\n</div>"
     },
     "execution_count": 31,
     "metadata": {},
     "output_type": "execute_result"
    }
   ],
   "source": [
    "pca_search = pca_results[pca_results['song_name'] == 'Day Dreaming']\n",
    "pca_search = pca_search.iloc[[0], :]\n",
    "pca_search"
   ],
   "metadata": {
    "collapsed": false
   }
  },
  {
   "cell_type": "code",
   "execution_count": 32,
   "outputs": [],
   "source": [
    "tsne_distances, tsne_indices = tsne_knn.kneighbors(tsne_search[['TSNE1', 'TSNE2']])\n",
    "pca_distances, pca_indices = pca_knn.kneighbors(pca_search[['PCA1', 'PCA2']])"
   ],
   "metadata": {
    "collapsed": false
   }
  },
  {
   "cell_type": "code",
   "execution_count": 33,
   "outputs": [
    {
     "data": {
      "text/plain": "array([[0.        ],\n       [2.57695712],\n       [3.20340178],\n       [4.02269283],\n       [5.07831864]])"
     },
     "execution_count": 33,
     "metadata": {},
     "output_type": "execute_result"
    }
   ],
   "source": [
    "tsne_distances.T"
   ],
   "metadata": {
    "collapsed": false
   }
  },
  {
   "cell_type": "code",
   "execution_count": 34,
   "outputs": [
    {
     "data": {
      "text/plain": "array([[0.        ],\n       [0.47524072],\n       [0.87089184],\n       [1.04103145],\n       [1.43954236]])"
     },
     "execution_count": 34,
     "metadata": {},
     "output_type": "execute_result"
    }
   ],
   "source": [
    "pca_distances.T"
   ],
   "metadata": {
    "collapsed": false
   }
  },
  {
   "cell_type": "code",
   "execution_count": 35,
   "outputs": [
    {
     "data": {
      "text/plain": "     distance_from_search_song                            song_name  \\\n315                   0.000000                         Day Dreaming   \n345                   2.576957                           colorblind   \n309                   3.203402  I Wouldn't Know Any Better Than You   \n301                   4.022693                 I Should've Told You   \n290                   5.078319                    Champagne For Two   \n\n            artist   playlist  zero_crossings_mean  zero_crossings_var  \\\n315    Jack & Jack  synth-pop             0.085827            0.078461   \n345         Mokita  synth-pop             0.079679            0.073330   \n309   Gentle Bones  synth-pop             0.074829            0.069230   \n301      Fiji Blue  synth-pop             0.091193            0.082877   \n290  Devin Kennedy  synth-pop             0.091637            0.083240   \n\n            bpm  spectral_centroid_mean  spectral_centroid_var  \\\n315  103.359375             2385.111491           1.329049e+06   \n345  143.554688             2157.998359           1.117147e+06   \n309  143.554688             2161.637375           1.047445e+06   \n301  117.453835             2293.328761           1.147397e+06   \n290  172.265625             2308.560499           1.092111e+06   \n\n     spectral_rolloff_mean  ...  mfcc_var_7  mfcc_mean_8  mfcc_var_8  \\\n315            5181.085849  ...  258.285309    -6.027006  165.285080   \n345            4868.796674  ...  220.115372    -9.921681  166.582245   \n309            4869.034596  ...  200.333664    -4.809544  113.386742   \n301            5158.341203  ...  187.057831    -6.009459  144.738113   \n290            5245.182515  ...  250.191147    -6.619391  172.258331   \n\n     mfcc_mean_9  mfcc_var_9  mfcc_mean_10  mfcc_var_10      TSNE1      TSNE2  \\\n315     4.518344  168.603088     -7.503870   137.234467 -84.392181 -29.052507   \n345    -0.168419  209.006577     -6.796790   157.773178 -86.722916 -27.953241   \n309     6.114876  115.924652     -5.089385   138.144485 -82.166473 -31.356419   \n301    -4.254957  224.911163     -1.718249   168.463852 -85.776672 -25.275572   \n290    -0.232474  190.213501      3.762859   170.724335 -89.465561 -29.276428   \n\n     cluster  \n315        2  \n345        2  \n309        2  \n301        2  \n290        2  \n\n[5 rows x 38 columns]",
      "text/html": "<div>\n<style scoped>\n    .dataframe tbody tr th:only-of-type {\n        vertical-align: middle;\n    }\n\n    .dataframe tbody tr th {\n        vertical-align: top;\n    }\n\n    .dataframe thead th {\n        text-align: right;\n    }\n</style>\n<table border=\"1\" class=\"dataframe\">\n  <thead>\n    <tr style=\"text-align: right;\">\n      <th></th>\n      <th>distance_from_search_song</th>\n      <th>song_name</th>\n      <th>artist</th>\n      <th>playlist</th>\n      <th>zero_crossings_mean</th>\n      <th>zero_crossings_var</th>\n      <th>bpm</th>\n      <th>spectral_centroid_mean</th>\n      <th>spectral_centroid_var</th>\n      <th>spectral_rolloff_mean</th>\n      <th>...</th>\n      <th>mfcc_var_7</th>\n      <th>mfcc_mean_8</th>\n      <th>mfcc_var_8</th>\n      <th>mfcc_mean_9</th>\n      <th>mfcc_var_9</th>\n      <th>mfcc_mean_10</th>\n      <th>mfcc_var_10</th>\n      <th>TSNE1</th>\n      <th>TSNE2</th>\n      <th>cluster</th>\n    </tr>\n  </thead>\n  <tbody>\n    <tr>\n      <th>315</th>\n      <td>0.000000</td>\n      <td>Day Dreaming</td>\n      <td>Jack &amp; Jack</td>\n      <td>synth-pop</td>\n      <td>0.085827</td>\n      <td>0.078461</td>\n      <td>103.359375</td>\n      <td>2385.111491</td>\n      <td>1.329049e+06</td>\n      <td>5181.085849</td>\n      <td>...</td>\n      <td>258.285309</td>\n      <td>-6.027006</td>\n      <td>165.285080</td>\n      <td>4.518344</td>\n      <td>168.603088</td>\n      <td>-7.503870</td>\n      <td>137.234467</td>\n      <td>-84.392181</td>\n      <td>-29.052507</td>\n      <td>2</td>\n    </tr>\n    <tr>\n      <th>345</th>\n      <td>2.576957</td>\n      <td>colorblind</td>\n      <td>Mokita</td>\n      <td>synth-pop</td>\n      <td>0.079679</td>\n      <td>0.073330</td>\n      <td>143.554688</td>\n      <td>2157.998359</td>\n      <td>1.117147e+06</td>\n      <td>4868.796674</td>\n      <td>...</td>\n      <td>220.115372</td>\n      <td>-9.921681</td>\n      <td>166.582245</td>\n      <td>-0.168419</td>\n      <td>209.006577</td>\n      <td>-6.796790</td>\n      <td>157.773178</td>\n      <td>-86.722916</td>\n      <td>-27.953241</td>\n      <td>2</td>\n    </tr>\n    <tr>\n      <th>309</th>\n      <td>3.203402</td>\n      <td>I Wouldn't Know Any Better Than You</td>\n      <td>Gentle Bones</td>\n      <td>synth-pop</td>\n      <td>0.074829</td>\n      <td>0.069230</td>\n      <td>143.554688</td>\n      <td>2161.637375</td>\n      <td>1.047445e+06</td>\n      <td>4869.034596</td>\n      <td>...</td>\n      <td>200.333664</td>\n      <td>-4.809544</td>\n      <td>113.386742</td>\n      <td>6.114876</td>\n      <td>115.924652</td>\n      <td>-5.089385</td>\n      <td>138.144485</td>\n      <td>-82.166473</td>\n      <td>-31.356419</td>\n      <td>2</td>\n    </tr>\n    <tr>\n      <th>301</th>\n      <td>4.022693</td>\n      <td>I Should've Told You</td>\n      <td>Fiji Blue</td>\n      <td>synth-pop</td>\n      <td>0.091193</td>\n      <td>0.082877</td>\n      <td>117.453835</td>\n      <td>2293.328761</td>\n      <td>1.147397e+06</td>\n      <td>5158.341203</td>\n      <td>...</td>\n      <td>187.057831</td>\n      <td>-6.009459</td>\n      <td>144.738113</td>\n      <td>-4.254957</td>\n      <td>224.911163</td>\n      <td>-1.718249</td>\n      <td>168.463852</td>\n      <td>-85.776672</td>\n      <td>-25.275572</td>\n      <td>2</td>\n    </tr>\n    <tr>\n      <th>290</th>\n      <td>5.078319</td>\n      <td>Champagne For Two</td>\n      <td>Devin Kennedy</td>\n      <td>synth-pop</td>\n      <td>0.091637</td>\n      <td>0.083240</td>\n      <td>172.265625</td>\n      <td>2308.560499</td>\n      <td>1.092111e+06</td>\n      <td>5245.182515</td>\n      <td>...</td>\n      <td>250.191147</td>\n      <td>-6.619391</td>\n      <td>172.258331</td>\n      <td>-0.232474</td>\n      <td>190.213501</td>\n      <td>3.762859</td>\n      <td>170.724335</td>\n      <td>-89.465561</td>\n      <td>-29.276428</td>\n      <td>2</td>\n    </tr>\n  </tbody>\n</table>\n<p>5 rows × 38 columns</p>\n</div>"
     },
     "execution_count": 35,
     "metadata": {},
     "output_type": "execute_result"
    }
   ],
   "source": [
    "tsne_neighbours = tsne_results.iloc[tsne_indices[0]]\n",
    "tsne_neighbours.insert(0, 'distance_from_search_song', tsne_distances.T)\n",
    "tsne_neighbours"
   ],
   "metadata": {
    "collapsed": false
   }
  },
  {
   "cell_type": "code",
   "execution_count": 36,
   "outputs": [
    {
     "data": {
      "text/plain": "     distance_from_search_song          song_name          artist   playlist  \\\n315                   0.000000       Day Dreaming     Jack & Jack  synth-pop   \n290                   0.475241  Champagne For Two   Devin Kennedy  synth-pop   \n239                   0.870892                Boy          ODESZA     odesza   \n286                   1.041031           12 Hours     Chris James  synth-pop   \n313                   1.439542       you heard me  Heather Sommer  synth-pop   \n\n     zero_crossings_mean  zero_crossings_var         bpm  \\\n315             0.085827            0.078461  103.359375   \n290             0.091637            0.083240  172.265625   \n239             0.097271            0.087809  143.554688   \n286             0.094184            0.085313   89.102909   \n313             0.086933            0.079375  135.999178   \n\n     spectral_centroid_mean  spectral_centroid_var  spectral_rolloff_mean  \\\n315             2385.111491           1.329049e+06            5181.085849   \n290             2308.560499           1.092111e+06            5245.182515   \n239             2249.552058           6.519137e+05            4735.845732   \n286             2196.737749           1.504920e+06            4554.591666   \n313             2359.792346           9.123750e+05            5165.162383   \n\n     ...  mfcc_var_9  mfcc_mean_10  mfcc_var_10      note_x      note_y  \\\n315  ...  168.603088     -7.503870   137.234467   40.364960   71.088229   \n290  ...  190.213501      3.762859   170.724335   62.340294  104.595343   \n239  ...   93.926514     -2.828939    73.569572  -42.122971   70.433628   \n286  ...  118.372070     -2.628573   112.488914  107.531564  -74.483410   \n313  ...  191.328629     -7.189064   122.029884  -45.117519  -46.258558   \n\n       chord_x    chord_y      PCA1      PCA2  cluster  \n315  21.220033  -1.920845  6.794241  2.948279        2  \n290   2.909540  15.146460  6.938128  3.401214        2  \n239  -2.008746  15.285898  5.946608  2.748353        2  \n286  14.430470 -10.000255  5.923929  3.519509        2  \n313 -13.173543  16.372402  5.379977  3.216869        2  \n\n[5 rows x 42 columns]",
      "text/html": "<div>\n<style scoped>\n    .dataframe tbody tr th:only-of-type {\n        vertical-align: middle;\n    }\n\n    .dataframe tbody tr th {\n        vertical-align: top;\n    }\n\n    .dataframe thead th {\n        text-align: right;\n    }\n</style>\n<table border=\"1\" class=\"dataframe\">\n  <thead>\n    <tr style=\"text-align: right;\">\n      <th></th>\n      <th>distance_from_search_song</th>\n      <th>song_name</th>\n      <th>artist</th>\n      <th>playlist</th>\n      <th>zero_crossings_mean</th>\n      <th>zero_crossings_var</th>\n      <th>bpm</th>\n      <th>spectral_centroid_mean</th>\n      <th>spectral_centroid_var</th>\n      <th>spectral_rolloff_mean</th>\n      <th>...</th>\n      <th>mfcc_var_9</th>\n      <th>mfcc_mean_10</th>\n      <th>mfcc_var_10</th>\n      <th>note_x</th>\n      <th>note_y</th>\n      <th>chord_x</th>\n      <th>chord_y</th>\n      <th>PCA1</th>\n      <th>PCA2</th>\n      <th>cluster</th>\n    </tr>\n  </thead>\n  <tbody>\n    <tr>\n      <th>315</th>\n      <td>0.000000</td>\n      <td>Day Dreaming</td>\n      <td>Jack &amp; Jack</td>\n      <td>synth-pop</td>\n      <td>0.085827</td>\n      <td>0.078461</td>\n      <td>103.359375</td>\n      <td>2385.111491</td>\n      <td>1.329049e+06</td>\n      <td>5181.085849</td>\n      <td>...</td>\n      <td>168.603088</td>\n      <td>-7.503870</td>\n      <td>137.234467</td>\n      <td>40.364960</td>\n      <td>71.088229</td>\n      <td>21.220033</td>\n      <td>-1.920845</td>\n      <td>6.794241</td>\n      <td>2.948279</td>\n      <td>2</td>\n    </tr>\n    <tr>\n      <th>290</th>\n      <td>0.475241</td>\n      <td>Champagne For Two</td>\n      <td>Devin Kennedy</td>\n      <td>synth-pop</td>\n      <td>0.091637</td>\n      <td>0.083240</td>\n      <td>172.265625</td>\n      <td>2308.560499</td>\n      <td>1.092111e+06</td>\n      <td>5245.182515</td>\n      <td>...</td>\n      <td>190.213501</td>\n      <td>3.762859</td>\n      <td>170.724335</td>\n      <td>62.340294</td>\n      <td>104.595343</td>\n      <td>2.909540</td>\n      <td>15.146460</td>\n      <td>6.938128</td>\n      <td>3.401214</td>\n      <td>2</td>\n    </tr>\n    <tr>\n      <th>239</th>\n      <td>0.870892</td>\n      <td>Boy</td>\n      <td>ODESZA</td>\n      <td>odesza</td>\n      <td>0.097271</td>\n      <td>0.087809</td>\n      <td>143.554688</td>\n      <td>2249.552058</td>\n      <td>6.519137e+05</td>\n      <td>4735.845732</td>\n      <td>...</td>\n      <td>93.926514</td>\n      <td>-2.828939</td>\n      <td>73.569572</td>\n      <td>-42.122971</td>\n      <td>70.433628</td>\n      <td>-2.008746</td>\n      <td>15.285898</td>\n      <td>5.946608</td>\n      <td>2.748353</td>\n      <td>2</td>\n    </tr>\n    <tr>\n      <th>286</th>\n      <td>1.041031</td>\n      <td>12 Hours</td>\n      <td>Chris James</td>\n      <td>synth-pop</td>\n      <td>0.094184</td>\n      <td>0.085313</td>\n      <td>89.102909</td>\n      <td>2196.737749</td>\n      <td>1.504920e+06</td>\n      <td>4554.591666</td>\n      <td>...</td>\n      <td>118.372070</td>\n      <td>-2.628573</td>\n      <td>112.488914</td>\n      <td>107.531564</td>\n      <td>-74.483410</td>\n      <td>14.430470</td>\n      <td>-10.000255</td>\n      <td>5.923929</td>\n      <td>3.519509</td>\n      <td>2</td>\n    </tr>\n    <tr>\n      <th>313</th>\n      <td>1.439542</td>\n      <td>you heard me</td>\n      <td>Heather Sommer</td>\n      <td>synth-pop</td>\n      <td>0.086933</td>\n      <td>0.079375</td>\n      <td>135.999178</td>\n      <td>2359.792346</td>\n      <td>9.123750e+05</td>\n      <td>5165.162383</td>\n      <td>...</td>\n      <td>191.328629</td>\n      <td>-7.189064</td>\n      <td>122.029884</td>\n      <td>-45.117519</td>\n      <td>-46.258558</td>\n      <td>-13.173543</td>\n      <td>16.372402</td>\n      <td>5.379977</td>\n      <td>3.216869</td>\n      <td>2</td>\n    </tr>\n  </tbody>\n</table>\n<p>5 rows × 42 columns</p>\n</div>"
     },
     "execution_count": 36,
     "metadata": {},
     "output_type": "execute_result"
    }
   ],
   "source": [
    "pca_neighbours = pca_results.iloc[pca_indices[0]]\n",
    "pca_neighbours.insert(0, 'distance_from_search_song', pca_distances.T)\n",
    "pca_neighbours"
   ],
   "metadata": {
    "collapsed": false
   }
  },
  {
   "cell_type": "code",
   "execution_count": 37,
   "outputs": [
    {
     "data": {
      "application/vnd.plotly.v1+json": {
       "data": [
        {
         "customdata": [
          [
           "Day Dreaming",
           "Jack & Jack"
          ],
          [
           "colorblind",
           "Mokita"
          ],
          [
           "I Wouldn't Know Any Better Than You",
           "Gentle Bones"
          ],
          [
           "I Should've Told You",
           "Fiji Blue"
          ],
          [
           "Champagne For Two",
           "Devin Kennedy"
          ]
         ],
         "hovertemplate": "TSNE1=%{x}<br>TSNE2=%{y}<br>song_name=%{customdata[0]}<br>artist=%{customdata[1]}<br>distance_from_search_song=%{marker.color}<extra></extra>",
         "legendgroup": "",
         "marker": {
          "color": [
           0.0,
           2.5769571225382117,
           3.2034017848978937,
           4.02269282855601,
           5.078318644400108
          ],
          "coloraxis": "coloraxis",
          "symbol": "circle"
         },
         "mode": "markers",
         "name": "",
         "orientation": "v",
         "showlegend": false,
         "x": [
          -84.39218139648438,
          -86.72291564941406,
          -82.16647338867188,
          -85.77667236328125,
          -89.46556091308594
         ],
         "xaxis": "x",
         "y": [
          -29.052507400512695,
          -27.9532413482666,
          -31.35641860961914,
          -25.275571823120117,
          -29.27642822265625
         ],
         "yaxis": "y",
         "type": "scatter"
        }
       ],
       "layout": {
        "template": {
         "data": {
          "histogram2dcontour": [
           {
            "type": "histogram2dcontour",
            "colorbar": {
             "outlinewidth": 0,
             "ticks": ""
            },
            "colorscale": [
             [
              0.0,
              "#0d0887"
             ],
             [
              0.1111111111111111,
              "#46039f"
             ],
             [
              0.2222222222222222,
              "#7201a8"
             ],
             [
              0.3333333333333333,
              "#9c179e"
             ],
             [
              0.4444444444444444,
              "#bd3786"
             ],
             [
              0.5555555555555556,
              "#d8576b"
             ],
             [
              0.6666666666666666,
              "#ed7953"
             ],
             [
              0.7777777777777778,
              "#fb9f3a"
             ],
             [
              0.8888888888888888,
              "#fdca26"
             ],
             [
              1.0,
              "#f0f921"
             ]
            ]
           }
          ],
          "choropleth": [
           {
            "type": "choropleth",
            "colorbar": {
             "outlinewidth": 0,
             "ticks": ""
            }
           }
          ],
          "histogram2d": [
           {
            "type": "histogram2d",
            "colorbar": {
             "outlinewidth": 0,
             "ticks": ""
            },
            "colorscale": [
             [
              0.0,
              "#0d0887"
             ],
             [
              0.1111111111111111,
              "#46039f"
             ],
             [
              0.2222222222222222,
              "#7201a8"
             ],
             [
              0.3333333333333333,
              "#9c179e"
             ],
             [
              0.4444444444444444,
              "#bd3786"
             ],
             [
              0.5555555555555556,
              "#d8576b"
             ],
             [
              0.6666666666666666,
              "#ed7953"
             ],
             [
              0.7777777777777778,
              "#fb9f3a"
             ],
             [
              0.8888888888888888,
              "#fdca26"
             ],
             [
              1.0,
              "#f0f921"
             ]
            ]
           }
          ],
          "heatmap": [
           {
            "type": "heatmap",
            "colorbar": {
             "outlinewidth": 0,
             "ticks": ""
            },
            "colorscale": [
             [
              0.0,
              "#0d0887"
             ],
             [
              0.1111111111111111,
              "#46039f"
             ],
             [
              0.2222222222222222,
              "#7201a8"
             ],
             [
              0.3333333333333333,
              "#9c179e"
             ],
             [
              0.4444444444444444,
              "#bd3786"
             ],
             [
              0.5555555555555556,
              "#d8576b"
             ],
             [
              0.6666666666666666,
              "#ed7953"
             ],
             [
              0.7777777777777778,
              "#fb9f3a"
             ],
             [
              0.8888888888888888,
              "#fdca26"
             ],
             [
              1.0,
              "#f0f921"
             ]
            ]
           }
          ],
          "heatmapgl": [
           {
            "type": "heatmapgl",
            "colorbar": {
             "outlinewidth": 0,
             "ticks": ""
            },
            "colorscale": [
             [
              0.0,
              "#0d0887"
             ],
             [
              0.1111111111111111,
              "#46039f"
             ],
             [
              0.2222222222222222,
              "#7201a8"
             ],
             [
              0.3333333333333333,
              "#9c179e"
             ],
             [
              0.4444444444444444,
              "#bd3786"
             ],
             [
              0.5555555555555556,
              "#d8576b"
             ],
             [
              0.6666666666666666,
              "#ed7953"
             ],
             [
              0.7777777777777778,
              "#fb9f3a"
             ],
             [
              0.8888888888888888,
              "#fdca26"
             ],
             [
              1.0,
              "#f0f921"
             ]
            ]
           }
          ],
          "contourcarpet": [
           {
            "type": "contourcarpet",
            "colorbar": {
             "outlinewidth": 0,
             "ticks": ""
            }
           }
          ],
          "contour": [
           {
            "type": "contour",
            "colorbar": {
             "outlinewidth": 0,
             "ticks": ""
            },
            "colorscale": [
             [
              0.0,
              "#0d0887"
             ],
             [
              0.1111111111111111,
              "#46039f"
             ],
             [
              0.2222222222222222,
              "#7201a8"
             ],
             [
              0.3333333333333333,
              "#9c179e"
             ],
             [
              0.4444444444444444,
              "#bd3786"
             ],
             [
              0.5555555555555556,
              "#d8576b"
             ],
             [
              0.6666666666666666,
              "#ed7953"
             ],
             [
              0.7777777777777778,
              "#fb9f3a"
             ],
             [
              0.8888888888888888,
              "#fdca26"
             ],
             [
              1.0,
              "#f0f921"
             ]
            ]
           }
          ],
          "surface": [
           {
            "type": "surface",
            "colorbar": {
             "outlinewidth": 0,
             "ticks": ""
            },
            "colorscale": [
             [
              0.0,
              "#0d0887"
             ],
             [
              0.1111111111111111,
              "#46039f"
             ],
             [
              0.2222222222222222,
              "#7201a8"
             ],
             [
              0.3333333333333333,
              "#9c179e"
             ],
             [
              0.4444444444444444,
              "#bd3786"
             ],
             [
              0.5555555555555556,
              "#d8576b"
             ],
             [
              0.6666666666666666,
              "#ed7953"
             ],
             [
              0.7777777777777778,
              "#fb9f3a"
             ],
             [
              0.8888888888888888,
              "#fdca26"
             ],
             [
              1.0,
              "#f0f921"
             ]
            ]
           }
          ],
          "mesh3d": [
           {
            "type": "mesh3d",
            "colorbar": {
             "outlinewidth": 0,
             "ticks": ""
            }
           }
          ],
          "scatter": [
           {
            "marker": {
             "line": {
              "color": "#283442"
             }
            },
            "type": "scatter"
           }
          ],
          "parcoords": [
           {
            "type": "parcoords",
            "line": {
             "colorbar": {
              "outlinewidth": 0,
              "ticks": ""
             }
            }
           }
          ],
          "scatterpolargl": [
           {
            "type": "scatterpolargl",
            "marker": {
             "colorbar": {
              "outlinewidth": 0,
              "ticks": ""
             }
            }
           }
          ],
          "bar": [
           {
            "error_x": {
             "color": "#f2f5fa"
            },
            "error_y": {
             "color": "#f2f5fa"
            },
            "marker": {
             "line": {
              "color": "rgb(17,17,17)",
              "width": 0.5
             },
             "pattern": {
              "fillmode": "overlay",
              "size": 10,
              "solidity": 0.2
             }
            },
            "type": "bar"
           }
          ],
          "scattergeo": [
           {
            "type": "scattergeo",
            "marker": {
             "colorbar": {
              "outlinewidth": 0,
              "ticks": ""
             }
            }
           }
          ],
          "scatterpolar": [
           {
            "type": "scatterpolar",
            "marker": {
             "colorbar": {
              "outlinewidth": 0,
              "ticks": ""
             }
            }
           }
          ],
          "histogram": [
           {
            "marker": {
             "pattern": {
              "fillmode": "overlay",
              "size": 10,
              "solidity": 0.2
             }
            },
            "type": "histogram"
           }
          ],
          "scattergl": [
           {
            "marker": {
             "line": {
              "color": "#283442"
             }
            },
            "type": "scattergl"
           }
          ],
          "scatter3d": [
           {
            "type": "scatter3d",
            "line": {
             "colorbar": {
              "outlinewidth": 0,
              "ticks": ""
             }
            },
            "marker": {
             "colorbar": {
              "outlinewidth": 0,
              "ticks": ""
             }
            }
           }
          ],
          "scattermapbox": [
           {
            "type": "scattermapbox",
            "marker": {
             "colorbar": {
              "outlinewidth": 0,
              "ticks": ""
             }
            }
           }
          ],
          "scatterternary": [
           {
            "type": "scatterternary",
            "marker": {
             "colorbar": {
              "outlinewidth": 0,
              "ticks": ""
             }
            }
           }
          ],
          "scattercarpet": [
           {
            "type": "scattercarpet",
            "marker": {
             "colorbar": {
              "outlinewidth": 0,
              "ticks": ""
             }
            }
           }
          ],
          "carpet": [
           {
            "aaxis": {
             "endlinecolor": "#A2B1C6",
             "gridcolor": "#506784",
             "linecolor": "#506784",
             "minorgridcolor": "#506784",
             "startlinecolor": "#A2B1C6"
            },
            "baxis": {
             "endlinecolor": "#A2B1C6",
             "gridcolor": "#506784",
             "linecolor": "#506784",
             "minorgridcolor": "#506784",
             "startlinecolor": "#A2B1C6"
            },
            "type": "carpet"
           }
          ],
          "table": [
           {
            "cells": {
             "fill": {
              "color": "#506784"
             },
             "line": {
              "color": "rgb(17,17,17)"
             }
            },
            "header": {
             "fill": {
              "color": "#2a3f5f"
             },
             "line": {
              "color": "rgb(17,17,17)"
             }
            },
            "type": "table"
           }
          ],
          "barpolar": [
           {
            "marker": {
             "line": {
              "color": "rgb(17,17,17)",
              "width": 0.5
             },
             "pattern": {
              "fillmode": "overlay",
              "size": 10,
              "solidity": 0.2
             }
            },
            "type": "barpolar"
           }
          ],
          "pie": [
           {
            "automargin": true,
            "type": "pie"
           }
          ]
         },
         "layout": {
          "autotypenumbers": "strict",
          "colorway": [
           "#636efa",
           "#EF553B",
           "#00cc96",
           "#ab63fa",
           "#FFA15A",
           "#19d3f3",
           "#FF6692",
           "#B6E880",
           "#FF97FF",
           "#FECB52"
          ],
          "font": {
           "color": "#f2f5fa"
          },
          "hovermode": "closest",
          "hoverlabel": {
           "align": "left"
          },
          "paper_bgcolor": "rgb(17,17,17)",
          "plot_bgcolor": "rgb(17,17,17)",
          "polar": {
           "bgcolor": "rgb(17,17,17)",
           "angularaxis": {
            "gridcolor": "#506784",
            "linecolor": "#506784",
            "ticks": ""
           },
           "radialaxis": {
            "gridcolor": "#506784",
            "linecolor": "#506784",
            "ticks": ""
           }
          },
          "ternary": {
           "bgcolor": "rgb(17,17,17)",
           "aaxis": {
            "gridcolor": "#506784",
            "linecolor": "#506784",
            "ticks": ""
           },
           "baxis": {
            "gridcolor": "#506784",
            "linecolor": "#506784",
            "ticks": ""
           },
           "caxis": {
            "gridcolor": "#506784",
            "linecolor": "#506784",
            "ticks": ""
           }
          },
          "coloraxis": {
           "colorbar": {
            "outlinewidth": 0,
            "ticks": ""
           }
          },
          "colorscale": {
           "sequential": [
            [
             0.0,
             "#0d0887"
            ],
            [
             0.1111111111111111,
             "#46039f"
            ],
            [
             0.2222222222222222,
             "#7201a8"
            ],
            [
             0.3333333333333333,
             "#9c179e"
            ],
            [
             0.4444444444444444,
             "#bd3786"
            ],
            [
             0.5555555555555556,
             "#d8576b"
            ],
            [
             0.6666666666666666,
             "#ed7953"
            ],
            [
             0.7777777777777778,
             "#fb9f3a"
            ],
            [
             0.8888888888888888,
             "#fdca26"
            ],
            [
             1.0,
             "#f0f921"
            ]
           ],
           "sequentialminus": [
            [
             0.0,
             "#0d0887"
            ],
            [
             0.1111111111111111,
             "#46039f"
            ],
            [
             0.2222222222222222,
             "#7201a8"
            ],
            [
             0.3333333333333333,
             "#9c179e"
            ],
            [
             0.4444444444444444,
             "#bd3786"
            ],
            [
             0.5555555555555556,
             "#d8576b"
            ],
            [
             0.6666666666666666,
             "#ed7953"
            ],
            [
             0.7777777777777778,
             "#fb9f3a"
            ],
            [
             0.8888888888888888,
             "#fdca26"
            ],
            [
             1.0,
             "#f0f921"
            ]
           ],
           "diverging": [
            [
             0,
             "#8e0152"
            ],
            [
             0.1,
             "#c51b7d"
            ],
            [
             0.2,
             "#de77ae"
            ],
            [
             0.3,
             "#f1b6da"
            ],
            [
             0.4,
             "#fde0ef"
            ],
            [
             0.5,
             "#f7f7f7"
            ],
            [
             0.6,
             "#e6f5d0"
            ],
            [
             0.7,
             "#b8e186"
            ],
            [
             0.8,
             "#7fbc41"
            ],
            [
             0.9,
             "#4d9221"
            ],
            [
             1,
             "#276419"
            ]
           ]
          },
          "xaxis": {
           "gridcolor": "#283442",
           "linecolor": "#506784",
           "ticks": "",
           "title": {
            "standoff": 15
           },
           "zerolinecolor": "#283442",
           "automargin": true,
           "zerolinewidth": 2
          },
          "yaxis": {
           "gridcolor": "#283442",
           "linecolor": "#506784",
           "ticks": "",
           "title": {
            "standoff": 15
           },
           "zerolinecolor": "#283442",
           "automargin": true,
           "zerolinewidth": 2
          },
          "scene": {
           "xaxis": {
            "backgroundcolor": "rgb(17,17,17)",
            "gridcolor": "#506784",
            "linecolor": "#506784",
            "showbackground": true,
            "ticks": "",
            "zerolinecolor": "#C8D4E3",
            "gridwidth": 2
           },
           "yaxis": {
            "backgroundcolor": "rgb(17,17,17)",
            "gridcolor": "#506784",
            "linecolor": "#506784",
            "showbackground": true,
            "ticks": "",
            "zerolinecolor": "#C8D4E3",
            "gridwidth": 2
           },
           "zaxis": {
            "backgroundcolor": "rgb(17,17,17)",
            "gridcolor": "#506784",
            "linecolor": "#506784",
            "showbackground": true,
            "ticks": "",
            "zerolinecolor": "#C8D4E3",
            "gridwidth": 2
           }
          },
          "shapedefaults": {
           "line": {
            "color": "#f2f5fa"
           }
          },
          "annotationdefaults": {
           "arrowcolor": "#f2f5fa",
           "arrowhead": 0,
           "arrowwidth": 1
          },
          "geo": {
           "bgcolor": "rgb(17,17,17)",
           "landcolor": "rgb(17,17,17)",
           "subunitcolor": "#506784",
           "showland": true,
           "showlakes": true,
           "lakecolor": "rgb(17,17,17)"
          },
          "title": {
           "x": 0.05
          },
          "updatemenudefaults": {
           "bgcolor": "#506784",
           "borderwidth": 0
          },
          "sliderdefaults": {
           "bgcolor": "#C8D4E3",
           "borderwidth": 1,
           "bordercolor": "rgb(17,17,17)",
           "tickwidth": 0
          },
          "mapbox": {
           "style": "dark"
          }
         }
        },
        "xaxis": {
         "anchor": "y",
         "domain": [
          0.0,
          1.0
         ],
         "title": {
          "text": "TSNE1"
         }
        },
        "yaxis": {
         "anchor": "x",
         "domain": [
          0.0,
          1.0
         ],
         "title": {
          "text": "TSNE2"
         }
        },
        "coloraxis": {
         "colorbar": {
          "title": {
           "text": "distance_from_search_song"
          }
         },
         "colorscale": [
          [
           0.0,
           "#0d0887"
          ],
          [
           0.1111111111111111,
           "#46039f"
          ],
          [
           0.2222222222222222,
           "#7201a8"
          ],
          [
           0.3333333333333333,
           "#9c179e"
          ],
          [
           0.4444444444444444,
           "#bd3786"
          ],
          [
           0.5555555555555556,
           "#d8576b"
          ],
          [
           0.6666666666666666,
           "#ed7953"
          ],
          [
           0.7777777777777778,
           "#fb9f3a"
          ],
          [
           0.8888888888888888,
           "#fdca26"
          ],
          [
           1.0,
           "#f0f921"
          ]
         ]
        },
        "legend": {
         "tracegroupgap": 0
        },
        "margin": {
         "t": 60
        },
        "height": 500,
        "width": 1000
       },
       "config": {
        "plotlyServerURL": "https://plotly.com"
       }
      },
      "text/html": "<div>                            <div id=\"8b59398c-d8d4-4c8b-9491-c2c9558638a5\" class=\"plotly-graph-div\" style=\"height:500px; width:1000px;\"></div>            <script type=\"text/javascript\">                require([\"plotly\"], function(Plotly) {                    window.PLOTLYENV=window.PLOTLYENV || {};                                    if (document.getElementById(\"8b59398c-d8d4-4c8b-9491-c2c9558638a5\")) {                    Plotly.newPlot(                        \"8b59398c-d8d4-4c8b-9491-c2c9558638a5\",                        [{\"customdata\":[[\"Day Dreaming\",\"Jack & Jack\"],[\"colorblind\",\"Mokita\"],[\"I Wouldn't Know Any Better Than You\",\"Gentle Bones\"],[\"I Should've Told You\",\"Fiji Blue\"],[\"Champagne For Two\",\"Devin Kennedy\"]],\"hovertemplate\":\"TSNE1=%{x}<br>TSNE2=%{y}<br>song_name=%{customdata[0]}<br>artist=%{customdata[1]}<br>distance_from_search_song=%{marker.color}<extra></extra>\",\"legendgroup\":\"\",\"marker\":{\"color\":[0.0,2.5769571225382117,3.2034017848978937,4.02269282855601,5.078318644400108],\"coloraxis\":\"coloraxis\",\"symbol\":\"circle\"},\"mode\":\"markers\",\"name\":\"\",\"orientation\":\"v\",\"showlegend\":false,\"x\":[-84.39218139648438,-86.72291564941406,-82.16647338867188,-85.77667236328125,-89.46556091308594],\"xaxis\":\"x\",\"y\":[-29.052507400512695,-27.9532413482666,-31.35641860961914,-25.275571823120117,-29.27642822265625],\"yaxis\":\"y\",\"type\":\"scatter\"}],                        {\"template\":{\"data\":{\"histogram2dcontour\":[{\"type\":\"histogram2dcontour\",\"colorbar\":{\"outlinewidth\":0,\"ticks\":\"\"},\"colorscale\":[[0.0,\"#0d0887\"],[0.1111111111111111,\"#46039f\"],[0.2222222222222222,\"#7201a8\"],[0.3333333333333333,\"#9c179e\"],[0.4444444444444444,\"#bd3786\"],[0.5555555555555556,\"#d8576b\"],[0.6666666666666666,\"#ed7953\"],[0.7777777777777778,\"#fb9f3a\"],[0.8888888888888888,\"#fdca26\"],[1.0,\"#f0f921\"]]}],\"choropleth\":[{\"type\":\"choropleth\",\"colorbar\":{\"outlinewidth\":0,\"ticks\":\"\"}}],\"histogram2d\":[{\"type\":\"histogram2d\",\"colorbar\":{\"outlinewidth\":0,\"ticks\":\"\"},\"colorscale\":[[0.0,\"#0d0887\"],[0.1111111111111111,\"#46039f\"],[0.2222222222222222,\"#7201a8\"],[0.3333333333333333,\"#9c179e\"],[0.4444444444444444,\"#bd3786\"],[0.5555555555555556,\"#d8576b\"],[0.6666666666666666,\"#ed7953\"],[0.7777777777777778,\"#fb9f3a\"],[0.8888888888888888,\"#fdca26\"],[1.0,\"#f0f921\"]]}],\"heatmap\":[{\"type\":\"heatmap\",\"colorbar\":{\"outlinewidth\":0,\"ticks\":\"\"},\"colorscale\":[[0.0,\"#0d0887\"],[0.1111111111111111,\"#46039f\"],[0.2222222222222222,\"#7201a8\"],[0.3333333333333333,\"#9c179e\"],[0.4444444444444444,\"#bd3786\"],[0.5555555555555556,\"#d8576b\"],[0.6666666666666666,\"#ed7953\"],[0.7777777777777778,\"#fb9f3a\"],[0.8888888888888888,\"#fdca26\"],[1.0,\"#f0f921\"]]}],\"heatmapgl\":[{\"type\":\"heatmapgl\",\"colorbar\":{\"outlinewidth\":0,\"ticks\":\"\"},\"colorscale\":[[0.0,\"#0d0887\"],[0.1111111111111111,\"#46039f\"],[0.2222222222222222,\"#7201a8\"],[0.3333333333333333,\"#9c179e\"],[0.4444444444444444,\"#bd3786\"],[0.5555555555555556,\"#d8576b\"],[0.6666666666666666,\"#ed7953\"],[0.7777777777777778,\"#fb9f3a\"],[0.8888888888888888,\"#fdca26\"],[1.0,\"#f0f921\"]]}],\"contourcarpet\":[{\"type\":\"contourcarpet\",\"colorbar\":{\"outlinewidth\":0,\"ticks\":\"\"}}],\"contour\":[{\"type\":\"contour\",\"colorbar\":{\"outlinewidth\":0,\"ticks\":\"\"},\"colorscale\":[[0.0,\"#0d0887\"],[0.1111111111111111,\"#46039f\"],[0.2222222222222222,\"#7201a8\"],[0.3333333333333333,\"#9c179e\"],[0.4444444444444444,\"#bd3786\"],[0.5555555555555556,\"#d8576b\"],[0.6666666666666666,\"#ed7953\"],[0.7777777777777778,\"#fb9f3a\"],[0.8888888888888888,\"#fdca26\"],[1.0,\"#f0f921\"]]}],\"surface\":[{\"type\":\"surface\",\"colorbar\":{\"outlinewidth\":0,\"ticks\":\"\"},\"colorscale\":[[0.0,\"#0d0887\"],[0.1111111111111111,\"#46039f\"],[0.2222222222222222,\"#7201a8\"],[0.3333333333333333,\"#9c179e\"],[0.4444444444444444,\"#bd3786\"],[0.5555555555555556,\"#d8576b\"],[0.6666666666666666,\"#ed7953\"],[0.7777777777777778,\"#fb9f3a\"],[0.8888888888888888,\"#fdca26\"],[1.0,\"#f0f921\"]]}],\"mesh3d\":[{\"type\":\"mesh3d\",\"colorbar\":{\"outlinewidth\":0,\"ticks\":\"\"}}],\"scatter\":[{\"marker\":{\"line\":{\"color\":\"#283442\"}},\"type\":\"scatter\"}],\"parcoords\":[{\"type\":\"parcoords\",\"line\":{\"colorbar\":{\"outlinewidth\":0,\"ticks\":\"\"}}}],\"scatterpolargl\":[{\"type\":\"scatterpolargl\",\"marker\":{\"colorbar\":{\"outlinewidth\":0,\"ticks\":\"\"}}}],\"bar\":[{\"error_x\":{\"color\":\"#f2f5fa\"},\"error_y\":{\"color\":\"#f2f5fa\"},\"marker\":{\"line\":{\"color\":\"rgb(17,17,17)\",\"width\":0.5},\"pattern\":{\"fillmode\":\"overlay\",\"size\":10,\"solidity\":0.2}},\"type\":\"bar\"}],\"scattergeo\":[{\"type\":\"scattergeo\",\"marker\":{\"colorbar\":{\"outlinewidth\":0,\"ticks\":\"\"}}}],\"scatterpolar\":[{\"type\":\"scatterpolar\",\"marker\":{\"colorbar\":{\"outlinewidth\":0,\"ticks\":\"\"}}}],\"histogram\":[{\"marker\":{\"pattern\":{\"fillmode\":\"overlay\",\"size\":10,\"solidity\":0.2}},\"type\":\"histogram\"}],\"scattergl\":[{\"marker\":{\"line\":{\"color\":\"#283442\"}},\"type\":\"scattergl\"}],\"scatter3d\":[{\"type\":\"scatter3d\",\"line\":{\"colorbar\":{\"outlinewidth\":0,\"ticks\":\"\"}},\"marker\":{\"colorbar\":{\"outlinewidth\":0,\"ticks\":\"\"}}}],\"scattermapbox\":[{\"type\":\"scattermapbox\",\"marker\":{\"colorbar\":{\"outlinewidth\":0,\"ticks\":\"\"}}}],\"scatterternary\":[{\"type\":\"scatterternary\",\"marker\":{\"colorbar\":{\"outlinewidth\":0,\"ticks\":\"\"}}}],\"scattercarpet\":[{\"type\":\"scattercarpet\",\"marker\":{\"colorbar\":{\"outlinewidth\":0,\"ticks\":\"\"}}}],\"carpet\":[{\"aaxis\":{\"endlinecolor\":\"#A2B1C6\",\"gridcolor\":\"#506784\",\"linecolor\":\"#506784\",\"minorgridcolor\":\"#506784\",\"startlinecolor\":\"#A2B1C6\"},\"baxis\":{\"endlinecolor\":\"#A2B1C6\",\"gridcolor\":\"#506784\",\"linecolor\":\"#506784\",\"minorgridcolor\":\"#506784\",\"startlinecolor\":\"#A2B1C6\"},\"type\":\"carpet\"}],\"table\":[{\"cells\":{\"fill\":{\"color\":\"#506784\"},\"line\":{\"color\":\"rgb(17,17,17)\"}},\"header\":{\"fill\":{\"color\":\"#2a3f5f\"},\"line\":{\"color\":\"rgb(17,17,17)\"}},\"type\":\"table\"}],\"barpolar\":[{\"marker\":{\"line\":{\"color\":\"rgb(17,17,17)\",\"width\":0.5},\"pattern\":{\"fillmode\":\"overlay\",\"size\":10,\"solidity\":0.2}},\"type\":\"barpolar\"}],\"pie\":[{\"automargin\":true,\"type\":\"pie\"}]},\"layout\":{\"autotypenumbers\":\"strict\",\"colorway\":[\"#636efa\",\"#EF553B\",\"#00cc96\",\"#ab63fa\",\"#FFA15A\",\"#19d3f3\",\"#FF6692\",\"#B6E880\",\"#FF97FF\",\"#FECB52\"],\"font\":{\"color\":\"#f2f5fa\"},\"hovermode\":\"closest\",\"hoverlabel\":{\"align\":\"left\"},\"paper_bgcolor\":\"rgb(17,17,17)\",\"plot_bgcolor\":\"rgb(17,17,17)\",\"polar\":{\"bgcolor\":\"rgb(17,17,17)\",\"angularaxis\":{\"gridcolor\":\"#506784\",\"linecolor\":\"#506784\",\"ticks\":\"\"},\"radialaxis\":{\"gridcolor\":\"#506784\",\"linecolor\":\"#506784\",\"ticks\":\"\"}},\"ternary\":{\"bgcolor\":\"rgb(17,17,17)\",\"aaxis\":{\"gridcolor\":\"#506784\",\"linecolor\":\"#506784\",\"ticks\":\"\"},\"baxis\":{\"gridcolor\":\"#506784\",\"linecolor\":\"#506784\",\"ticks\":\"\"},\"caxis\":{\"gridcolor\":\"#506784\",\"linecolor\":\"#506784\",\"ticks\":\"\"}},\"coloraxis\":{\"colorbar\":{\"outlinewidth\":0,\"ticks\":\"\"}},\"colorscale\":{\"sequential\":[[0.0,\"#0d0887\"],[0.1111111111111111,\"#46039f\"],[0.2222222222222222,\"#7201a8\"],[0.3333333333333333,\"#9c179e\"],[0.4444444444444444,\"#bd3786\"],[0.5555555555555556,\"#d8576b\"],[0.6666666666666666,\"#ed7953\"],[0.7777777777777778,\"#fb9f3a\"],[0.8888888888888888,\"#fdca26\"],[1.0,\"#f0f921\"]],\"sequentialminus\":[[0.0,\"#0d0887\"],[0.1111111111111111,\"#46039f\"],[0.2222222222222222,\"#7201a8\"],[0.3333333333333333,\"#9c179e\"],[0.4444444444444444,\"#bd3786\"],[0.5555555555555556,\"#d8576b\"],[0.6666666666666666,\"#ed7953\"],[0.7777777777777778,\"#fb9f3a\"],[0.8888888888888888,\"#fdca26\"],[1.0,\"#f0f921\"]],\"diverging\":[[0,\"#8e0152\"],[0.1,\"#c51b7d\"],[0.2,\"#de77ae\"],[0.3,\"#f1b6da\"],[0.4,\"#fde0ef\"],[0.5,\"#f7f7f7\"],[0.6,\"#e6f5d0\"],[0.7,\"#b8e186\"],[0.8,\"#7fbc41\"],[0.9,\"#4d9221\"],[1,\"#276419\"]]},\"xaxis\":{\"gridcolor\":\"#283442\",\"linecolor\":\"#506784\",\"ticks\":\"\",\"title\":{\"standoff\":15},\"zerolinecolor\":\"#283442\",\"automargin\":true,\"zerolinewidth\":2},\"yaxis\":{\"gridcolor\":\"#283442\",\"linecolor\":\"#506784\",\"ticks\":\"\",\"title\":{\"standoff\":15},\"zerolinecolor\":\"#283442\",\"automargin\":true,\"zerolinewidth\":2},\"scene\":{\"xaxis\":{\"backgroundcolor\":\"rgb(17,17,17)\",\"gridcolor\":\"#506784\",\"linecolor\":\"#506784\",\"showbackground\":true,\"ticks\":\"\",\"zerolinecolor\":\"#C8D4E3\",\"gridwidth\":2},\"yaxis\":{\"backgroundcolor\":\"rgb(17,17,17)\",\"gridcolor\":\"#506784\",\"linecolor\":\"#506784\",\"showbackground\":true,\"ticks\":\"\",\"zerolinecolor\":\"#C8D4E3\",\"gridwidth\":2},\"zaxis\":{\"backgroundcolor\":\"rgb(17,17,17)\",\"gridcolor\":\"#506784\",\"linecolor\":\"#506784\",\"showbackground\":true,\"ticks\":\"\",\"zerolinecolor\":\"#C8D4E3\",\"gridwidth\":2}},\"shapedefaults\":{\"line\":{\"color\":\"#f2f5fa\"}},\"annotationdefaults\":{\"arrowcolor\":\"#f2f5fa\",\"arrowhead\":0,\"arrowwidth\":1},\"geo\":{\"bgcolor\":\"rgb(17,17,17)\",\"landcolor\":\"rgb(17,17,17)\",\"subunitcolor\":\"#506784\",\"showland\":true,\"showlakes\":true,\"lakecolor\":\"rgb(17,17,17)\"},\"title\":{\"x\":0.05},\"updatemenudefaults\":{\"bgcolor\":\"#506784\",\"borderwidth\":0},\"sliderdefaults\":{\"bgcolor\":\"#C8D4E3\",\"borderwidth\":1,\"bordercolor\":\"rgb(17,17,17)\",\"tickwidth\":0},\"mapbox\":{\"style\":\"dark\"}}},\"xaxis\":{\"anchor\":\"y\",\"domain\":[0.0,1.0],\"title\":{\"text\":\"TSNE1\"}},\"yaxis\":{\"anchor\":\"x\",\"domain\":[0.0,1.0],\"title\":{\"text\":\"TSNE2\"}},\"coloraxis\":{\"colorbar\":{\"title\":{\"text\":\"distance_from_search_song\"}},\"colorscale\":[[0.0,\"#0d0887\"],[0.1111111111111111,\"#46039f\"],[0.2222222222222222,\"#7201a8\"],[0.3333333333333333,\"#9c179e\"],[0.4444444444444444,\"#bd3786\"],[0.5555555555555556,\"#d8576b\"],[0.6666666666666666,\"#ed7953\"],[0.7777777777777778,\"#fb9f3a\"],[0.8888888888888888,\"#fdca26\"],[1.0,\"#f0f921\"]]},\"legend\":{\"tracegroupgap\":0},\"margin\":{\"t\":60},\"height\":500,\"width\":1000},                        {\"responsive\": true}                    ).then(function(){\n                            \nvar gd = document.getElementById('8b59398c-d8d4-4c8b-9491-c2c9558638a5');\nvar x = new MutationObserver(function (mutations, observer) {{\n        var display = window.getComputedStyle(gd).display;\n        if (!display || display === 'none') {{\n            console.log([gd, 'removed!']);\n            Plotly.purge(gd);\n            observer.disconnect();\n        }}\n}});\n\n// Listen for the removal of the full notebook cells\nvar notebookContainer = gd.closest('#notebook-container');\nif (notebookContainer) {{\n    x.observe(notebookContainer, {childList: true});\n}}\n\n// Listen for the clearing of the current output cell\nvar outputEl = gd.closest('.output');\nif (outputEl) {{\n    x.observe(outputEl, {childList: true});\n}}\n\n                        })                };                });            </script>        </div>"
     },
     "metadata": {},
     "output_type": "display_data"
    }
   ],
   "source": [
    "px.scatter(\n",
    "    tsne_neighbours,\n",
    "    x='TSNE1',\n",
    "    y='TSNE2',\n",
    "    template='plotly_dark',\n",
    "    hover_data=['song_name', 'artist'],\n",
    "    color='distance_from_search_song',\n",
    "    height=500,\n",
    "    width=1000\n",
    ").show()"
   ],
   "metadata": {
    "collapsed": false
   }
  },
  {
   "cell_type": "code",
   "execution_count": 38,
   "outputs": [
    {
     "data": {
      "application/vnd.plotly.v1+json": {
       "data": [
        {
         "customdata": [
          [
           "Day Dreaming",
           "Jack & Jack"
          ],
          [
           "Champagne For Two",
           "Devin Kennedy"
          ],
          [
           "Boy",
           "ODESZA"
          ],
          [
           "12 Hours",
           "Chris James"
          ],
          [
           "you heard me",
           "Heather Sommer"
          ]
         ],
         "hovertemplate": "PCA1=%{x}<br>PCA2=%{y}<br>song_name=%{customdata[0]}<br>artist=%{customdata[1]}<br>distance_from_search_song=%{marker.color}<extra></extra>",
         "legendgroup": "",
         "marker": {
          "color": [
           0.0,
           0.47524072280602575,
           0.870891841325282,
           1.041031446217965,
           1.4395423619474894
          ],
          "coloraxis": "coloraxis",
          "symbol": "circle"
         },
         "mode": "markers",
         "name": "",
         "orientation": "v",
         "showlegend": false,
         "x": [
          6.7942409902038845,
          6.938127940011222,
          5.9466076299822745,
          5.923929381509921,
          5.379977427122515
         ],
         "xaxis": "x",
         "y": [
          2.948278992386791,
          3.4012141867450287,
          2.748353291371733,
          3.519509397553737,
          3.2168693607579346
         ],
         "yaxis": "y",
         "type": "scatter"
        }
       ],
       "layout": {
        "template": {
         "data": {
          "histogram2dcontour": [
           {
            "type": "histogram2dcontour",
            "colorbar": {
             "outlinewidth": 0,
             "ticks": ""
            },
            "colorscale": [
             [
              0.0,
              "#0d0887"
             ],
             [
              0.1111111111111111,
              "#46039f"
             ],
             [
              0.2222222222222222,
              "#7201a8"
             ],
             [
              0.3333333333333333,
              "#9c179e"
             ],
             [
              0.4444444444444444,
              "#bd3786"
             ],
             [
              0.5555555555555556,
              "#d8576b"
             ],
             [
              0.6666666666666666,
              "#ed7953"
             ],
             [
              0.7777777777777778,
              "#fb9f3a"
             ],
             [
              0.8888888888888888,
              "#fdca26"
             ],
             [
              1.0,
              "#f0f921"
             ]
            ]
           }
          ],
          "choropleth": [
           {
            "type": "choropleth",
            "colorbar": {
             "outlinewidth": 0,
             "ticks": ""
            }
           }
          ],
          "histogram2d": [
           {
            "type": "histogram2d",
            "colorbar": {
             "outlinewidth": 0,
             "ticks": ""
            },
            "colorscale": [
             [
              0.0,
              "#0d0887"
             ],
             [
              0.1111111111111111,
              "#46039f"
             ],
             [
              0.2222222222222222,
              "#7201a8"
             ],
             [
              0.3333333333333333,
              "#9c179e"
             ],
             [
              0.4444444444444444,
              "#bd3786"
             ],
             [
              0.5555555555555556,
              "#d8576b"
             ],
             [
              0.6666666666666666,
              "#ed7953"
             ],
             [
              0.7777777777777778,
              "#fb9f3a"
             ],
             [
              0.8888888888888888,
              "#fdca26"
             ],
             [
              1.0,
              "#f0f921"
             ]
            ]
           }
          ],
          "heatmap": [
           {
            "type": "heatmap",
            "colorbar": {
             "outlinewidth": 0,
             "ticks": ""
            },
            "colorscale": [
             [
              0.0,
              "#0d0887"
             ],
             [
              0.1111111111111111,
              "#46039f"
             ],
             [
              0.2222222222222222,
              "#7201a8"
             ],
             [
              0.3333333333333333,
              "#9c179e"
             ],
             [
              0.4444444444444444,
              "#bd3786"
             ],
             [
              0.5555555555555556,
              "#d8576b"
             ],
             [
              0.6666666666666666,
              "#ed7953"
             ],
             [
              0.7777777777777778,
              "#fb9f3a"
             ],
             [
              0.8888888888888888,
              "#fdca26"
             ],
             [
              1.0,
              "#f0f921"
             ]
            ]
           }
          ],
          "heatmapgl": [
           {
            "type": "heatmapgl",
            "colorbar": {
             "outlinewidth": 0,
             "ticks": ""
            },
            "colorscale": [
             [
              0.0,
              "#0d0887"
             ],
             [
              0.1111111111111111,
              "#46039f"
             ],
             [
              0.2222222222222222,
              "#7201a8"
             ],
             [
              0.3333333333333333,
              "#9c179e"
             ],
             [
              0.4444444444444444,
              "#bd3786"
             ],
             [
              0.5555555555555556,
              "#d8576b"
             ],
             [
              0.6666666666666666,
              "#ed7953"
             ],
             [
              0.7777777777777778,
              "#fb9f3a"
             ],
             [
              0.8888888888888888,
              "#fdca26"
             ],
             [
              1.0,
              "#f0f921"
             ]
            ]
           }
          ],
          "contourcarpet": [
           {
            "type": "contourcarpet",
            "colorbar": {
             "outlinewidth": 0,
             "ticks": ""
            }
           }
          ],
          "contour": [
           {
            "type": "contour",
            "colorbar": {
             "outlinewidth": 0,
             "ticks": ""
            },
            "colorscale": [
             [
              0.0,
              "#0d0887"
             ],
             [
              0.1111111111111111,
              "#46039f"
             ],
             [
              0.2222222222222222,
              "#7201a8"
             ],
             [
              0.3333333333333333,
              "#9c179e"
             ],
             [
              0.4444444444444444,
              "#bd3786"
             ],
             [
              0.5555555555555556,
              "#d8576b"
             ],
             [
              0.6666666666666666,
              "#ed7953"
             ],
             [
              0.7777777777777778,
              "#fb9f3a"
             ],
             [
              0.8888888888888888,
              "#fdca26"
             ],
             [
              1.0,
              "#f0f921"
             ]
            ]
           }
          ],
          "surface": [
           {
            "type": "surface",
            "colorbar": {
             "outlinewidth": 0,
             "ticks": ""
            },
            "colorscale": [
             [
              0.0,
              "#0d0887"
             ],
             [
              0.1111111111111111,
              "#46039f"
             ],
             [
              0.2222222222222222,
              "#7201a8"
             ],
             [
              0.3333333333333333,
              "#9c179e"
             ],
             [
              0.4444444444444444,
              "#bd3786"
             ],
             [
              0.5555555555555556,
              "#d8576b"
             ],
             [
              0.6666666666666666,
              "#ed7953"
             ],
             [
              0.7777777777777778,
              "#fb9f3a"
             ],
             [
              0.8888888888888888,
              "#fdca26"
             ],
             [
              1.0,
              "#f0f921"
             ]
            ]
           }
          ],
          "mesh3d": [
           {
            "type": "mesh3d",
            "colorbar": {
             "outlinewidth": 0,
             "ticks": ""
            }
           }
          ],
          "scatter": [
           {
            "marker": {
             "line": {
              "color": "#283442"
             }
            },
            "type": "scatter"
           }
          ],
          "parcoords": [
           {
            "type": "parcoords",
            "line": {
             "colorbar": {
              "outlinewidth": 0,
              "ticks": ""
             }
            }
           }
          ],
          "scatterpolargl": [
           {
            "type": "scatterpolargl",
            "marker": {
             "colorbar": {
              "outlinewidth": 0,
              "ticks": ""
             }
            }
           }
          ],
          "bar": [
           {
            "error_x": {
             "color": "#f2f5fa"
            },
            "error_y": {
             "color": "#f2f5fa"
            },
            "marker": {
             "line": {
              "color": "rgb(17,17,17)",
              "width": 0.5
             },
             "pattern": {
              "fillmode": "overlay",
              "size": 10,
              "solidity": 0.2
             }
            },
            "type": "bar"
           }
          ],
          "scattergeo": [
           {
            "type": "scattergeo",
            "marker": {
             "colorbar": {
              "outlinewidth": 0,
              "ticks": ""
             }
            }
           }
          ],
          "scatterpolar": [
           {
            "type": "scatterpolar",
            "marker": {
             "colorbar": {
              "outlinewidth": 0,
              "ticks": ""
             }
            }
           }
          ],
          "histogram": [
           {
            "marker": {
             "pattern": {
              "fillmode": "overlay",
              "size": 10,
              "solidity": 0.2
             }
            },
            "type": "histogram"
           }
          ],
          "scattergl": [
           {
            "marker": {
             "line": {
              "color": "#283442"
             }
            },
            "type": "scattergl"
           }
          ],
          "scatter3d": [
           {
            "type": "scatter3d",
            "line": {
             "colorbar": {
              "outlinewidth": 0,
              "ticks": ""
             }
            },
            "marker": {
             "colorbar": {
              "outlinewidth": 0,
              "ticks": ""
             }
            }
           }
          ],
          "scattermapbox": [
           {
            "type": "scattermapbox",
            "marker": {
             "colorbar": {
              "outlinewidth": 0,
              "ticks": ""
             }
            }
           }
          ],
          "scatterternary": [
           {
            "type": "scatterternary",
            "marker": {
             "colorbar": {
              "outlinewidth": 0,
              "ticks": ""
             }
            }
           }
          ],
          "scattercarpet": [
           {
            "type": "scattercarpet",
            "marker": {
             "colorbar": {
              "outlinewidth": 0,
              "ticks": ""
             }
            }
           }
          ],
          "carpet": [
           {
            "aaxis": {
             "endlinecolor": "#A2B1C6",
             "gridcolor": "#506784",
             "linecolor": "#506784",
             "minorgridcolor": "#506784",
             "startlinecolor": "#A2B1C6"
            },
            "baxis": {
             "endlinecolor": "#A2B1C6",
             "gridcolor": "#506784",
             "linecolor": "#506784",
             "minorgridcolor": "#506784",
             "startlinecolor": "#A2B1C6"
            },
            "type": "carpet"
           }
          ],
          "table": [
           {
            "cells": {
             "fill": {
              "color": "#506784"
             },
             "line": {
              "color": "rgb(17,17,17)"
             }
            },
            "header": {
             "fill": {
              "color": "#2a3f5f"
             },
             "line": {
              "color": "rgb(17,17,17)"
             }
            },
            "type": "table"
           }
          ],
          "barpolar": [
           {
            "marker": {
             "line": {
              "color": "rgb(17,17,17)",
              "width": 0.5
             },
             "pattern": {
              "fillmode": "overlay",
              "size": 10,
              "solidity": 0.2
             }
            },
            "type": "barpolar"
           }
          ],
          "pie": [
           {
            "automargin": true,
            "type": "pie"
           }
          ]
         },
         "layout": {
          "autotypenumbers": "strict",
          "colorway": [
           "#636efa",
           "#EF553B",
           "#00cc96",
           "#ab63fa",
           "#FFA15A",
           "#19d3f3",
           "#FF6692",
           "#B6E880",
           "#FF97FF",
           "#FECB52"
          ],
          "font": {
           "color": "#f2f5fa"
          },
          "hovermode": "closest",
          "hoverlabel": {
           "align": "left"
          },
          "paper_bgcolor": "rgb(17,17,17)",
          "plot_bgcolor": "rgb(17,17,17)",
          "polar": {
           "bgcolor": "rgb(17,17,17)",
           "angularaxis": {
            "gridcolor": "#506784",
            "linecolor": "#506784",
            "ticks": ""
           },
           "radialaxis": {
            "gridcolor": "#506784",
            "linecolor": "#506784",
            "ticks": ""
           }
          },
          "ternary": {
           "bgcolor": "rgb(17,17,17)",
           "aaxis": {
            "gridcolor": "#506784",
            "linecolor": "#506784",
            "ticks": ""
           },
           "baxis": {
            "gridcolor": "#506784",
            "linecolor": "#506784",
            "ticks": ""
           },
           "caxis": {
            "gridcolor": "#506784",
            "linecolor": "#506784",
            "ticks": ""
           }
          },
          "coloraxis": {
           "colorbar": {
            "outlinewidth": 0,
            "ticks": ""
           }
          },
          "colorscale": {
           "sequential": [
            [
             0.0,
             "#0d0887"
            ],
            [
             0.1111111111111111,
             "#46039f"
            ],
            [
             0.2222222222222222,
             "#7201a8"
            ],
            [
             0.3333333333333333,
             "#9c179e"
            ],
            [
             0.4444444444444444,
             "#bd3786"
            ],
            [
             0.5555555555555556,
             "#d8576b"
            ],
            [
             0.6666666666666666,
             "#ed7953"
            ],
            [
             0.7777777777777778,
             "#fb9f3a"
            ],
            [
             0.8888888888888888,
             "#fdca26"
            ],
            [
             1.0,
             "#f0f921"
            ]
           ],
           "sequentialminus": [
            [
             0.0,
             "#0d0887"
            ],
            [
             0.1111111111111111,
             "#46039f"
            ],
            [
             0.2222222222222222,
             "#7201a8"
            ],
            [
             0.3333333333333333,
             "#9c179e"
            ],
            [
             0.4444444444444444,
             "#bd3786"
            ],
            [
             0.5555555555555556,
             "#d8576b"
            ],
            [
             0.6666666666666666,
             "#ed7953"
            ],
            [
             0.7777777777777778,
             "#fb9f3a"
            ],
            [
             0.8888888888888888,
             "#fdca26"
            ],
            [
             1.0,
             "#f0f921"
            ]
           ],
           "diverging": [
            [
             0,
             "#8e0152"
            ],
            [
             0.1,
             "#c51b7d"
            ],
            [
             0.2,
             "#de77ae"
            ],
            [
             0.3,
             "#f1b6da"
            ],
            [
             0.4,
             "#fde0ef"
            ],
            [
             0.5,
             "#f7f7f7"
            ],
            [
             0.6,
             "#e6f5d0"
            ],
            [
             0.7,
             "#b8e186"
            ],
            [
             0.8,
             "#7fbc41"
            ],
            [
             0.9,
             "#4d9221"
            ],
            [
             1,
             "#276419"
            ]
           ]
          },
          "xaxis": {
           "gridcolor": "#283442",
           "linecolor": "#506784",
           "ticks": "",
           "title": {
            "standoff": 15
           },
           "zerolinecolor": "#283442",
           "automargin": true,
           "zerolinewidth": 2
          },
          "yaxis": {
           "gridcolor": "#283442",
           "linecolor": "#506784",
           "ticks": "",
           "title": {
            "standoff": 15
           },
           "zerolinecolor": "#283442",
           "automargin": true,
           "zerolinewidth": 2
          },
          "scene": {
           "xaxis": {
            "backgroundcolor": "rgb(17,17,17)",
            "gridcolor": "#506784",
            "linecolor": "#506784",
            "showbackground": true,
            "ticks": "",
            "zerolinecolor": "#C8D4E3",
            "gridwidth": 2
           },
           "yaxis": {
            "backgroundcolor": "rgb(17,17,17)",
            "gridcolor": "#506784",
            "linecolor": "#506784",
            "showbackground": true,
            "ticks": "",
            "zerolinecolor": "#C8D4E3",
            "gridwidth": 2
           },
           "zaxis": {
            "backgroundcolor": "rgb(17,17,17)",
            "gridcolor": "#506784",
            "linecolor": "#506784",
            "showbackground": true,
            "ticks": "",
            "zerolinecolor": "#C8D4E3",
            "gridwidth": 2
           }
          },
          "shapedefaults": {
           "line": {
            "color": "#f2f5fa"
           }
          },
          "annotationdefaults": {
           "arrowcolor": "#f2f5fa",
           "arrowhead": 0,
           "arrowwidth": 1
          },
          "geo": {
           "bgcolor": "rgb(17,17,17)",
           "landcolor": "rgb(17,17,17)",
           "subunitcolor": "#506784",
           "showland": true,
           "showlakes": true,
           "lakecolor": "rgb(17,17,17)"
          },
          "title": {
           "x": 0.05
          },
          "updatemenudefaults": {
           "bgcolor": "#506784",
           "borderwidth": 0
          },
          "sliderdefaults": {
           "bgcolor": "#C8D4E3",
           "borderwidth": 1,
           "bordercolor": "rgb(17,17,17)",
           "tickwidth": 0
          },
          "mapbox": {
           "style": "dark"
          }
         }
        },
        "xaxis": {
         "anchor": "y",
         "domain": [
          0.0,
          1.0
         ],
         "title": {
          "text": "PCA1"
         }
        },
        "yaxis": {
         "anchor": "x",
         "domain": [
          0.0,
          1.0
         ],
         "title": {
          "text": "PCA2"
         }
        },
        "coloraxis": {
         "colorbar": {
          "title": {
           "text": "distance_from_search_song"
          }
         },
         "colorscale": [
          [
           0.0,
           "#0d0887"
          ],
          [
           0.1111111111111111,
           "#46039f"
          ],
          [
           0.2222222222222222,
           "#7201a8"
          ],
          [
           0.3333333333333333,
           "#9c179e"
          ],
          [
           0.4444444444444444,
           "#bd3786"
          ],
          [
           0.5555555555555556,
           "#d8576b"
          ],
          [
           0.6666666666666666,
           "#ed7953"
          ],
          [
           0.7777777777777778,
           "#fb9f3a"
          ],
          [
           0.8888888888888888,
           "#fdca26"
          ],
          [
           1.0,
           "#f0f921"
          ]
         ]
        },
        "legend": {
         "tracegroupgap": 0
        },
        "margin": {
         "t": 60
        },
        "height": 500,
        "width": 1000
       },
       "config": {
        "plotlyServerURL": "https://plotly.com"
       }
      },
      "text/html": "<div>                            <div id=\"ec9a544a-a695-4ec0-876c-db1e3d996818\" class=\"plotly-graph-div\" style=\"height:500px; width:1000px;\"></div>            <script type=\"text/javascript\">                require([\"plotly\"], function(Plotly) {                    window.PLOTLYENV=window.PLOTLYENV || {};                                    if (document.getElementById(\"ec9a544a-a695-4ec0-876c-db1e3d996818\")) {                    Plotly.newPlot(                        \"ec9a544a-a695-4ec0-876c-db1e3d996818\",                        [{\"customdata\":[[\"Day Dreaming\",\"Jack & Jack\"],[\"Champagne For Two\",\"Devin Kennedy\"],[\"Boy\",\"ODESZA\"],[\"12 Hours\",\"Chris James\"],[\"you heard me\",\"Heather Sommer\"]],\"hovertemplate\":\"PCA1=%{x}<br>PCA2=%{y}<br>song_name=%{customdata[0]}<br>artist=%{customdata[1]}<br>distance_from_search_song=%{marker.color}<extra></extra>\",\"legendgroup\":\"\",\"marker\":{\"color\":[0.0,0.47524072280602575,0.870891841325282,1.041031446217965,1.4395423619474894],\"coloraxis\":\"coloraxis\",\"symbol\":\"circle\"},\"mode\":\"markers\",\"name\":\"\",\"orientation\":\"v\",\"showlegend\":false,\"x\":[6.7942409902038845,6.938127940011222,5.9466076299822745,5.923929381509921,5.379977427122515],\"xaxis\":\"x\",\"y\":[2.948278992386791,3.4012141867450287,2.748353291371733,3.519509397553737,3.2168693607579346],\"yaxis\":\"y\",\"type\":\"scatter\"}],                        {\"template\":{\"data\":{\"histogram2dcontour\":[{\"type\":\"histogram2dcontour\",\"colorbar\":{\"outlinewidth\":0,\"ticks\":\"\"},\"colorscale\":[[0.0,\"#0d0887\"],[0.1111111111111111,\"#46039f\"],[0.2222222222222222,\"#7201a8\"],[0.3333333333333333,\"#9c179e\"],[0.4444444444444444,\"#bd3786\"],[0.5555555555555556,\"#d8576b\"],[0.6666666666666666,\"#ed7953\"],[0.7777777777777778,\"#fb9f3a\"],[0.8888888888888888,\"#fdca26\"],[1.0,\"#f0f921\"]]}],\"choropleth\":[{\"type\":\"choropleth\",\"colorbar\":{\"outlinewidth\":0,\"ticks\":\"\"}}],\"histogram2d\":[{\"type\":\"histogram2d\",\"colorbar\":{\"outlinewidth\":0,\"ticks\":\"\"},\"colorscale\":[[0.0,\"#0d0887\"],[0.1111111111111111,\"#46039f\"],[0.2222222222222222,\"#7201a8\"],[0.3333333333333333,\"#9c179e\"],[0.4444444444444444,\"#bd3786\"],[0.5555555555555556,\"#d8576b\"],[0.6666666666666666,\"#ed7953\"],[0.7777777777777778,\"#fb9f3a\"],[0.8888888888888888,\"#fdca26\"],[1.0,\"#f0f921\"]]}],\"heatmap\":[{\"type\":\"heatmap\",\"colorbar\":{\"outlinewidth\":0,\"ticks\":\"\"},\"colorscale\":[[0.0,\"#0d0887\"],[0.1111111111111111,\"#46039f\"],[0.2222222222222222,\"#7201a8\"],[0.3333333333333333,\"#9c179e\"],[0.4444444444444444,\"#bd3786\"],[0.5555555555555556,\"#d8576b\"],[0.6666666666666666,\"#ed7953\"],[0.7777777777777778,\"#fb9f3a\"],[0.8888888888888888,\"#fdca26\"],[1.0,\"#f0f921\"]]}],\"heatmapgl\":[{\"type\":\"heatmapgl\",\"colorbar\":{\"outlinewidth\":0,\"ticks\":\"\"},\"colorscale\":[[0.0,\"#0d0887\"],[0.1111111111111111,\"#46039f\"],[0.2222222222222222,\"#7201a8\"],[0.3333333333333333,\"#9c179e\"],[0.4444444444444444,\"#bd3786\"],[0.5555555555555556,\"#d8576b\"],[0.6666666666666666,\"#ed7953\"],[0.7777777777777778,\"#fb9f3a\"],[0.8888888888888888,\"#fdca26\"],[1.0,\"#f0f921\"]]}],\"contourcarpet\":[{\"type\":\"contourcarpet\",\"colorbar\":{\"outlinewidth\":0,\"ticks\":\"\"}}],\"contour\":[{\"type\":\"contour\",\"colorbar\":{\"outlinewidth\":0,\"ticks\":\"\"},\"colorscale\":[[0.0,\"#0d0887\"],[0.1111111111111111,\"#46039f\"],[0.2222222222222222,\"#7201a8\"],[0.3333333333333333,\"#9c179e\"],[0.4444444444444444,\"#bd3786\"],[0.5555555555555556,\"#d8576b\"],[0.6666666666666666,\"#ed7953\"],[0.7777777777777778,\"#fb9f3a\"],[0.8888888888888888,\"#fdca26\"],[1.0,\"#f0f921\"]]}],\"surface\":[{\"type\":\"surface\",\"colorbar\":{\"outlinewidth\":0,\"ticks\":\"\"},\"colorscale\":[[0.0,\"#0d0887\"],[0.1111111111111111,\"#46039f\"],[0.2222222222222222,\"#7201a8\"],[0.3333333333333333,\"#9c179e\"],[0.4444444444444444,\"#bd3786\"],[0.5555555555555556,\"#d8576b\"],[0.6666666666666666,\"#ed7953\"],[0.7777777777777778,\"#fb9f3a\"],[0.8888888888888888,\"#fdca26\"],[1.0,\"#f0f921\"]]}],\"mesh3d\":[{\"type\":\"mesh3d\",\"colorbar\":{\"outlinewidth\":0,\"ticks\":\"\"}}],\"scatter\":[{\"marker\":{\"line\":{\"color\":\"#283442\"}},\"type\":\"scatter\"}],\"parcoords\":[{\"type\":\"parcoords\",\"line\":{\"colorbar\":{\"outlinewidth\":0,\"ticks\":\"\"}}}],\"scatterpolargl\":[{\"type\":\"scatterpolargl\",\"marker\":{\"colorbar\":{\"outlinewidth\":0,\"ticks\":\"\"}}}],\"bar\":[{\"error_x\":{\"color\":\"#f2f5fa\"},\"error_y\":{\"color\":\"#f2f5fa\"},\"marker\":{\"line\":{\"color\":\"rgb(17,17,17)\",\"width\":0.5},\"pattern\":{\"fillmode\":\"overlay\",\"size\":10,\"solidity\":0.2}},\"type\":\"bar\"}],\"scattergeo\":[{\"type\":\"scattergeo\",\"marker\":{\"colorbar\":{\"outlinewidth\":0,\"ticks\":\"\"}}}],\"scatterpolar\":[{\"type\":\"scatterpolar\",\"marker\":{\"colorbar\":{\"outlinewidth\":0,\"ticks\":\"\"}}}],\"histogram\":[{\"marker\":{\"pattern\":{\"fillmode\":\"overlay\",\"size\":10,\"solidity\":0.2}},\"type\":\"histogram\"}],\"scattergl\":[{\"marker\":{\"line\":{\"color\":\"#283442\"}},\"type\":\"scattergl\"}],\"scatter3d\":[{\"type\":\"scatter3d\",\"line\":{\"colorbar\":{\"outlinewidth\":0,\"ticks\":\"\"}},\"marker\":{\"colorbar\":{\"outlinewidth\":0,\"ticks\":\"\"}}}],\"scattermapbox\":[{\"type\":\"scattermapbox\",\"marker\":{\"colorbar\":{\"outlinewidth\":0,\"ticks\":\"\"}}}],\"scatterternary\":[{\"type\":\"scatterternary\",\"marker\":{\"colorbar\":{\"outlinewidth\":0,\"ticks\":\"\"}}}],\"scattercarpet\":[{\"type\":\"scattercarpet\",\"marker\":{\"colorbar\":{\"outlinewidth\":0,\"ticks\":\"\"}}}],\"carpet\":[{\"aaxis\":{\"endlinecolor\":\"#A2B1C6\",\"gridcolor\":\"#506784\",\"linecolor\":\"#506784\",\"minorgridcolor\":\"#506784\",\"startlinecolor\":\"#A2B1C6\"},\"baxis\":{\"endlinecolor\":\"#A2B1C6\",\"gridcolor\":\"#506784\",\"linecolor\":\"#506784\",\"minorgridcolor\":\"#506784\",\"startlinecolor\":\"#A2B1C6\"},\"type\":\"carpet\"}],\"table\":[{\"cells\":{\"fill\":{\"color\":\"#506784\"},\"line\":{\"color\":\"rgb(17,17,17)\"}},\"header\":{\"fill\":{\"color\":\"#2a3f5f\"},\"line\":{\"color\":\"rgb(17,17,17)\"}},\"type\":\"table\"}],\"barpolar\":[{\"marker\":{\"line\":{\"color\":\"rgb(17,17,17)\",\"width\":0.5},\"pattern\":{\"fillmode\":\"overlay\",\"size\":10,\"solidity\":0.2}},\"type\":\"barpolar\"}],\"pie\":[{\"automargin\":true,\"type\":\"pie\"}]},\"layout\":{\"autotypenumbers\":\"strict\",\"colorway\":[\"#636efa\",\"#EF553B\",\"#00cc96\",\"#ab63fa\",\"#FFA15A\",\"#19d3f3\",\"#FF6692\",\"#B6E880\",\"#FF97FF\",\"#FECB52\"],\"font\":{\"color\":\"#f2f5fa\"},\"hovermode\":\"closest\",\"hoverlabel\":{\"align\":\"left\"},\"paper_bgcolor\":\"rgb(17,17,17)\",\"plot_bgcolor\":\"rgb(17,17,17)\",\"polar\":{\"bgcolor\":\"rgb(17,17,17)\",\"angularaxis\":{\"gridcolor\":\"#506784\",\"linecolor\":\"#506784\",\"ticks\":\"\"},\"radialaxis\":{\"gridcolor\":\"#506784\",\"linecolor\":\"#506784\",\"ticks\":\"\"}},\"ternary\":{\"bgcolor\":\"rgb(17,17,17)\",\"aaxis\":{\"gridcolor\":\"#506784\",\"linecolor\":\"#506784\",\"ticks\":\"\"},\"baxis\":{\"gridcolor\":\"#506784\",\"linecolor\":\"#506784\",\"ticks\":\"\"},\"caxis\":{\"gridcolor\":\"#506784\",\"linecolor\":\"#506784\",\"ticks\":\"\"}},\"coloraxis\":{\"colorbar\":{\"outlinewidth\":0,\"ticks\":\"\"}},\"colorscale\":{\"sequential\":[[0.0,\"#0d0887\"],[0.1111111111111111,\"#46039f\"],[0.2222222222222222,\"#7201a8\"],[0.3333333333333333,\"#9c179e\"],[0.4444444444444444,\"#bd3786\"],[0.5555555555555556,\"#d8576b\"],[0.6666666666666666,\"#ed7953\"],[0.7777777777777778,\"#fb9f3a\"],[0.8888888888888888,\"#fdca26\"],[1.0,\"#f0f921\"]],\"sequentialminus\":[[0.0,\"#0d0887\"],[0.1111111111111111,\"#46039f\"],[0.2222222222222222,\"#7201a8\"],[0.3333333333333333,\"#9c179e\"],[0.4444444444444444,\"#bd3786\"],[0.5555555555555556,\"#d8576b\"],[0.6666666666666666,\"#ed7953\"],[0.7777777777777778,\"#fb9f3a\"],[0.8888888888888888,\"#fdca26\"],[1.0,\"#f0f921\"]],\"diverging\":[[0,\"#8e0152\"],[0.1,\"#c51b7d\"],[0.2,\"#de77ae\"],[0.3,\"#f1b6da\"],[0.4,\"#fde0ef\"],[0.5,\"#f7f7f7\"],[0.6,\"#e6f5d0\"],[0.7,\"#b8e186\"],[0.8,\"#7fbc41\"],[0.9,\"#4d9221\"],[1,\"#276419\"]]},\"xaxis\":{\"gridcolor\":\"#283442\",\"linecolor\":\"#506784\",\"ticks\":\"\",\"title\":{\"standoff\":15},\"zerolinecolor\":\"#283442\",\"automargin\":true,\"zerolinewidth\":2},\"yaxis\":{\"gridcolor\":\"#283442\",\"linecolor\":\"#506784\",\"ticks\":\"\",\"title\":{\"standoff\":15},\"zerolinecolor\":\"#283442\",\"automargin\":true,\"zerolinewidth\":2},\"scene\":{\"xaxis\":{\"backgroundcolor\":\"rgb(17,17,17)\",\"gridcolor\":\"#506784\",\"linecolor\":\"#506784\",\"showbackground\":true,\"ticks\":\"\",\"zerolinecolor\":\"#C8D4E3\",\"gridwidth\":2},\"yaxis\":{\"backgroundcolor\":\"rgb(17,17,17)\",\"gridcolor\":\"#506784\",\"linecolor\":\"#506784\",\"showbackground\":true,\"ticks\":\"\",\"zerolinecolor\":\"#C8D4E3\",\"gridwidth\":2},\"zaxis\":{\"backgroundcolor\":\"rgb(17,17,17)\",\"gridcolor\":\"#506784\",\"linecolor\":\"#506784\",\"showbackground\":true,\"ticks\":\"\",\"zerolinecolor\":\"#C8D4E3\",\"gridwidth\":2}},\"shapedefaults\":{\"line\":{\"color\":\"#f2f5fa\"}},\"annotationdefaults\":{\"arrowcolor\":\"#f2f5fa\",\"arrowhead\":0,\"arrowwidth\":1},\"geo\":{\"bgcolor\":\"rgb(17,17,17)\",\"landcolor\":\"rgb(17,17,17)\",\"subunitcolor\":\"#506784\",\"showland\":true,\"showlakes\":true,\"lakecolor\":\"rgb(17,17,17)\"},\"title\":{\"x\":0.05},\"updatemenudefaults\":{\"bgcolor\":\"#506784\",\"borderwidth\":0},\"sliderdefaults\":{\"bgcolor\":\"#C8D4E3\",\"borderwidth\":1,\"bordercolor\":\"rgb(17,17,17)\",\"tickwidth\":0},\"mapbox\":{\"style\":\"dark\"}}},\"xaxis\":{\"anchor\":\"y\",\"domain\":[0.0,1.0],\"title\":{\"text\":\"PCA1\"}},\"yaxis\":{\"anchor\":\"x\",\"domain\":[0.0,1.0],\"title\":{\"text\":\"PCA2\"}},\"coloraxis\":{\"colorbar\":{\"title\":{\"text\":\"distance_from_search_song\"}},\"colorscale\":[[0.0,\"#0d0887\"],[0.1111111111111111,\"#46039f\"],[0.2222222222222222,\"#7201a8\"],[0.3333333333333333,\"#9c179e\"],[0.4444444444444444,\"#bd3786\"],[0.5555555555555556,\"#d8576b\"],[0.6666666666666666,\"#ed7953\"],[0.7777777777777778,\"#fb9f3a\"],[0.8888888888888888,\"#fdca26\"],[1.0,\"#f0f921\"]]},\"legend\":{\"tracegroupgap\":0},\"margin\":{\"t\":60},\"height\":500,\"width\":1000},                        {\"responsive\": true}                    ).then(function(){\n                            \nvar gd = document.getElementById('ec9a544a-a695-4ec0-876c-db1e3d996818');\nvar x = new MutationObserver(function (mutations, observer) {{\n        var display = window.getComputedStyle(gd).display;\n        if (!display || display === 'none') {{\n            console.log([gd, 'removed!']);\n            Plotly.purge(gd);\n            observer.disconnect();\n        }}\n}});\n\n// Listen for the removal of the full notebook cells\nvar notebookContainer = gd.closest('#notebook-container');\nif (notebookContainer) {{\n    x.observe(notebookContainer, {childList: true});\n}}\n\n// Listen for the clearing of the current output cell\nvar outputEl = gd.closest('.output');\nif (outputEl) {{\n    x.observe(outputEl, {childList: true});\n}}\n\n                        })                };                });            </script>        </div>"
     },
     "metadata": {},
     "output_type": "display_data"
    }
   ],
   "source": [
    "px.scatter(\n",
    "    pca_neighbours,\n",
    "    x='PCA1',\n",
    "    y='PCA2',\n",
    "    template='plotly_dark',\n",
    "    hover_data=['song_name', 'artist'],\n",
    "    color='distance_from_search_song',\n",
    "    height=500,\n",
    "    width=1000\n",
    ").show()"
   ],
   "metadata": {
    "collapsed": false
   }
  }
 ],
 "metadata": {
  "kernelspec": {
   "display_name": "Python 3",
   "language": "python",
   "name": "python3"
  },
  "language_info": {
   "codemirror_mode": {
    "name": "ipython",
    "version": 2
   },
   "file_extension": ".py",
   "mimetype": "text/x-python",
   "name": "python",
   "nbconvert_exporter": "python",
   "pygments_lexer": "ipython2",
   "version": "2.7.6"
  }
 },
 "nbformat": 4,
 "nbformat_minor": 0
}
