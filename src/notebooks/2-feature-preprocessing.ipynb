{
 "cells": [
  {
   "cell_type": "markdown",
   "metadata": {},
   "source": [
    "# Music Clustering\n",
    "\n",
    "### Table of Contents\n",
    "\n",
    "1. Read in the pre-processed audio as a Pandas DataFrame.\n",
    "2. Distance computation and low-dimensional embedding of multidimensional features.\n",
    "3. Dataset normalisation\n",
    "4. PCA to project data onto 2D plane\n",
    "5. Analysis of PCA components\n",
    "6. Perform GaussianMixture clustering on projected data\n",
    "7. Analysis of number of clusters with BIC and AIC"
   ]
  },
  {
   "cell_type": "code",
   "execution_count": 1,
   "metadata": {},
   "outputs": [],
   "source": [
    "import math\n",
    "\n",
    "import numpy as np\n",
    "import pandas as pd\n",
    "\n",
    "from sklearn.cluster import KMeans\n",
    "from sklearn.mixture import GaussianMixture\n",
    "from sklearn.decomposition import PCA\n",
    "from sklearn.manifold import MDS, TSNE\n",
    "from scipy.spatial.distance import pdist, squareform\n",
    "\n",
    "import plotly.express as px\n",
    "from plotly.subplots import make_subplots\n",
    "import plotly.graph_objects as go\n",
    "import seaborn as sns"
   ]
  },
  {
   "cell_type": "markdown",
   "metadata": {},
   "source": [
    "### Storage Variables\n",
    "\n",
    "These point the program to the directory containing the pre-processed audio data, and saves the current dataframes as temporary files so that consecutive runs can pick up where the previous run left off."
   ]
  },
  {
   "cell_type": "code",
   "execution_count": 2,
   "metadata": {},
   "outputs": [],
   "source": [
    "import config"
   ]
  },
  {
   "cell_type": "markdown",
   "metadata": {},
   "source": [
    "### Universal Variables\n",
    "\n",
    "These would be used to perform many repeated computations e.g. normalisation."
   ]
  },
  {
   "cell_type": "code",
   "execution_count": 3,
   "metadata": {},
   "outputs": [],
   "source": [
    "from sklearn.preprocessing import StandardScaler, MinMaxScaler\n",
    "scaler = StandardScaler()\n",
    "minmax_scaler = MinMaxScaler()"
   ]
  },
  {
   "cell_type": "markdown",
   "metadata": {},
   "source": [
    "## Loading in the Dataset\n",
    "\n",
    "Data is loaded from the `./features.pkl.pbz2` files located in their respective `data/extracted/playlist-name` directories. All data is concatenated into a single DataFrame, with the `playlist` column indicating which folder they came from.\n",
    "\n",
    "Setting `read_temp` means the program will read from the `data/temp` folder and recover previous progress."
   ]
  },
  {
   "cell_type": "code",
   "execution_count": 4,
   "metadata": {},
   "outputs": [
    {
     "data": {
      "text/plain": "                             song_name             artist       playlist  \\\n0                           Ivan Sings  Aram Khachaturian           kino   \n1    Prélude in E Minor, Op. 28, No. 4    Frédéric Chopin           kino   \n2                      Above the Trees               Kino           kino   \n3                                  All               Kino           kino   \n4                                 Anew               Kino           kino   \n..                                 ...                ...            ...   \n420           Tenderness - Woven Remix      Tony Anderson  tony-anderson   \n421                         Tenderness      Tony Anderson  tony-anderson   \n422         Cambodia - Ross Lara Remix      Tony Anderson  tony-anderson   \n423                           Cambodia      Tony Anderson  tony-anderson   \n424                             Oyarsa      Tony Anderson  tony-anderson   \n\n     zero_crossings_mean  zero_crossings_var         bpm  \\\n0               0.030815            0.029865  143.554688   \n1               0.028196            0.027401  103.359375   \n2               0.052121            0.049405  143.554688   \n3               0.044240            0.042283  161.499023   \n4               0.048969            0.046571  161.499023   \n..                   ...                 ...         ...   \n420             0.050498            0.047948   99.384014   \n421             0.019365            0.018990  151.999081   \n422             0.053039            0.050226  129.199219   \n423             0.042857            0.041020  129.199219   \n424             0.035910            0.034620  112.347147   \n\n     spectral_centroid_mean  spectral_centroid_var  spectral_rolloff_mean  \\\n0                728.505121          164591.144472            1044.706810   \n1                615.425486           95544.686241             892.440162   \n2               1053.924804          248527.612506            1937.848230   \n3                619.260455           49458.448746             981.976649   \n4                677.808914           72961.813450            1098.534181   \n..                      ...                    ...                    ...   \n420             1690.752815          996877.763828            3788.666509   \n421              500.969118          144860.433188             764.697603   \n422             1618.810406          687875.800819            3493.059627   \n423             1234.479968          276949.182834            2474.291523   \n424              625.735642           51465.968656            1004.456635   \n\n     spectral_rolloff_var  ...  mfcc_var_7  mfcc_mean_8  mfcc_var_8  \\\n0            1.492931e+06  ...   59.754135    -7.222707   53.279484   \n1            8.328338e+05  ...   66.532372    -7.709404   67.271782   \n2            1.480721e+06  ...  113.514336    -4.448510   74.239128   \n3            2.497879e+05  ...  109.742783     3.967615   61.414219   \n4            4.831254e+05  ...   75.191750    -0.318088   72.683647   \n..                    ...  ...         ...          ...         ...   \n420          6.661065e+06  ...   85.660057    -0.473025   55.165321   \n421          1.021311e+06  ...   42.235184     1.522114   30.496746   \n422          5.250681e+06  ...   62.413822    -2.939895   52.945293   \n423          1.718215e+06  ...  118.341034    -1.348665   86.386292   \n424          1.778121e+05  ...   73.260193     0.496677   49.557613   \n\n     mfcc_mean_9  mfcc_var_9  mfcc_mean_10  mfcc_var_10  \\\n0      -6.638159   63.120949     -7.461281    58.827705   \n1      -8.138650   51.361748     -8.201083    51.866173   \n2      -2.306997   76.906097     -2.640234    74.699959   \n3       4.160887   66.464058     -0.379875    82.376328   \n4      -0.499459   70.440079     -3.557541    71.182747   \n..           ...         ...           ...          ...   \n420     1.394155   64.965172     -3.817915    56.059143   \n421    -3.054044   27.486416     -6.413583    28.495449   \n422     2.519716   61.408394     -2.011139    51.967083   \n423     1.038753   90.882286     -4.584059    92.075935   \n424    -4.770782   65.222755     -8.970942    67.012970   \n\n                                      chord_trajectory  \\\n0    [0.0, 0.0, 0.0, 0.0, 0.0, 0.0, 0.0, 0.0, 0.0, ...   \n1    [12.0, 0.0, 0.0, 2.0, 0.0, 0.0, 0.0, 0.0, 2.0,...   \n2    [17.0, 0.0, 0.0, 1.0, 0.0, 0.0, 0.0, 0.0, 0.0,...   \n3    [3.0, 0.0, 0.0, 0.0, 0.0, 0.0, 0.0, 2.0, 0.0, ...   \n4    [105.0, 0.0, 2.0, 0.0, 0.0, 0.0, 0.0, 5.0, 0.0...   \n..                                                 ...   \n420  [49.0, 0.0, 0.0, 6.0, 0.0, 3.0, 0.0, 0.0, 17.0...   \n421  [46.0, 0.0, 0.0, 2.0, 0.0, 1.0, 0.0, 0.0, 8.0,...   \n422  [246.0, 1.0, 0.0, 5.0, 0.0, 0.0, 0.0, 0.0, 2.0...   \n423  [295.0, 0.0, 0.0, 5.0, 0.0, 2.0, 0.0, 0.0, 0.0...   \n424  [0.0, 0.0, 0.0, 0.0, 0.0, 0.0, 0.0, 0.0, 0.0, ...   \n\n                                       note_trajectory  \\\n0    [0.0, 0.0, 0.0, 0.0, 0.0, 0.0, 0.0, 0.0, 0.0, ...   \n1    [0.0, 0.0, 0.0, 0.0, 0.0, 0.0, 0.0, 0.0, 0.0, ...   \n2    [0.0, 0.0, 0.0, 0.0, 0.0, 0.0, 0.0, 0.0, 0.0, ...   \n3    [0.0, 0.0, 0.0, 0.0, 0.0, 0.0, 0.0, 0.0, 0.0, ...   \n4    [0.0, 0.0, 0.0, 0.0, 0.0, 0.0, 0.0, 0.0, 0.0, ...   \n..                                                 ...   \n420  [0.0, 0.0, 0.0, 0.0, 0.0, 0.0, 0.0, 0.0, 0.0, ...   \n421  [0.0, 0.0, 0.0, 0.0, 0.0, 0.0, 0.0, 0.0, 0.0, ...   \n422  [0.0, 0.0, 0.0, 0.0, 0.0, 0.0, 0.0, 0.0, 0.0, ...   \n423  [0.0, 0.0, 0.0, 0.0, 0.0, 0.0, 0.0, 0.0, 0.0, ...   \n424  [0.0, 0.0, 0.0, 0.0, 0.0, 0.0, 0.0, 0.0, 0.0, ...   \n\n                                               tonnetz  \n0    [-0.013063414466682632, -0.1234544114431008, -...  \n1    [0.04845747056013336, 0.02526867983571359, 0.0...  \n2    [-0.05386779890017199, -0.027705138076340542, ...  \n3    [0.007021180094766433, 0.0103778882764489, 0.2...  \n4    [0.047920894082682464, 0.024257793432034533, 0...  \n..                                                 ...  \n420  [0.03940684682031146, 0.1047418567047819, 0.03...  \n421  [-0.0033105168498387544, 0.024618212288380806,...  \n422  [0.0015526135778904798, 0.1095253043758808, 0....  \n423  [-0.18101009841973742, -0.004248825583113958, ...  \n424  [-0.03287254962763754, -0.21352748213600076, -...  \n\n[425 rows x 37 columns]",
      "text/html": "<div>\n<style scoped>\n    .dataframe tbody tr th:only-of-type {\n        vertical-align: middle;\n    }\n\n    .dataframe tbody tr th {\n        vertical-align: top;\n    }\n\n    .dataframe thead th {\n        text-align: right;\n    }\n</style>\n<table border=\"1\" class=\"dataframe\">\n  <thead>\n    <tr style=\"text-align: right;\">\n      <th></th>\n      <th>song_name</th>\n      <th>artist</th>\n      <th>playlist</th>\n      <th>zero_crossings_mean</th>\n      <th>zero_crossings_var</th>\n      <th>bpm</th>\n      <th>spectral_centroid_mean</th>\n      <th>spectral_centroid_var</th>\n      <th>spectral_rolloff_mean</th>\n      <th>spectral_rolloff_var</th>\n      <th>...</th>\n      <th>mfcc_var_7</th>\n      <th>mfcc_mean_8</th>\n      <th>mfcc_var_8</th>\n      <th>mfcc_mean_9</th>\n      <th>mfcc_var_9</th>\n      <th>mfcc_mean_10</th>\n      <th>mfcc_var_10</th>\n      <th>chord_trajectory</th>\n      <th>note_trajectory</th>\n      <th>tonnetz</th>\n    </tr>\n  </thead>\n  <tbody>\n    <tr>\n      <th>0</th>\n      <td>Ivan Sings</td>\n      <td>Aram Khachaturian</td>\n      <td>kino</td>\n      <td>0.030815</td>\n      <td>0.029865</td>\n      <td>143.554688</td>\n      <td>728.505121</td>\n      <td>164591.144472</td>\n      <td>1044.706810</td>\n      <td>1.492931e+06</td>\n      <td>...</td>\n      <td>59.754135</td>\n      <td>-7.222707</td>\n      <td>53.279484</td>\n      <td>-6.638159</td>\n      <td>63.120949</td>\n      <td>-7.461281</td>\n      <td>58.827705</td>\n      <td>[0.0, 0.0, 0.0, 0.0, 0.0, 0.0, 0.0, 0.0, 0.0, ...</td>\n      <td>[0.0, 0.0, 0.0, 0.0, 0.0, 0.0, 0.0, 0.0, 0.0, ...</td>\n      <td>[-0.013063414466682632, -0.1234544114431008, -...</td>\n    </tr>\n    <tr>\n      <th>1</th>\n      <td>Prélude in E Minor, Op. 28, No. 4</td>\n      <td>Frédéric Chopin</td>\n      <td>kino</td>\n      <td>0.028196</td>\n      <td>0.027401</td>\n      <td>103.359375</td>\n      <td>615.425486</td>\n      <td>95544.686241</td>\n      <td>892.440162</td>\n      <td>8.328338e+05</td>\n      <td>...</td>\n      <td>66.532372</td>\n      <td>-7.709404</td>\n      <td>67.271782</td>\n      <td>-8.138650</td>\n      <td>51.361748</td>\n      <td>-8.201083</td>\n      <td>51.866173</td>\n      <td>[12.0, 0.0, 0.0, 2.0, 0.0, 0.0, 0.0, 0.0, 2.0,...</td>\n      <td>[0.0, 0.0, 0.0, 0.0, 0.0, 0.0, 0.0, 0.0, 0.0, ...</td>\n      <td>[0.04845747056013336, 0.02526867983571359, 0.0...</td>\n    </tr>\n    <tr>\n      <th>2</th>\n      <td>Above the Trees</td>\n      <td>Kino</td>\n      <td>kino</td>\n      <td>0.052121</td>\n      <td>0.049405</td>\n      <td>143.554688</td>\n      <td>1053.924804</td>\n      <td>248527.612506</td>\n      <td>1937.848230</td>\n      <td>1.480721e+06</td>\n      <td>...</td>\n      <td>113.514336</td>\n      <td>-4.448510</td>\n      <td>74.239128</td>\n      <td>-2.306997</td>\n      <td>76.906097</td>\n      <td>-2.640234</td>\n      <td>74.699959</td>\n      <td>[17.0, 0.0, 0.0, 1.0, 0.0, 0.0, 0.0, 0.0, 0.0,...</td>\n      <td>[0.0, 0.0, 0.0, 0.0, 0.0, 0.0, 0.0, 0.0, 0.0, ...</td>\n      <td>[-0.05386779890017199, -0.027705138076340542, ...</td>\n    </tr>\n    <tr>\n      <th>3</th>\n      <td>All</td>\n      <td>Kino</td>\n      <td>kino</td>\n      <td>0.044240</td>\n      <td>0.042283</td>\n      <td>161.499023</td>\n      <td>619.260455</td>\n      <td>49458.448746</td>\n      <td>981.976649</td>\n      <td>2.497879e+05</td>\n      <td>...</td>\n      <td>109.742783</td>\n      <td>3.967615</td>\n      <td>61.414219</td>\n      <td>4.160887</td>\n      <td>66.464058</td>\n      <td>-0.379875</td>\n      <td>82.376328</td>\n      <td>[3.0, 0.0, 0.0, 0.0, 0.0, 0.0, 0.0, 2.0, 0.0, ...</td>\n      <td>[0.0, 0.0, 0.0, 0.0, 0.0, 0.0, 0.0, 0.0, 0.0, ...</td>\n      <td>[0.007021180094766433, 0.0103778882764489, 0.2...</td>\n    </tr>\n    <tr>\n      <th>4</th>\n      <td>Anew</td>\n      <td>Kino</td>\n      <td>kino</td>\n      <td>0.048969</td>\n      <td>0.046571</td>\n      <td>161.499023</td>\n      <td>677.808914</td>\n      <td>72961.813450</td>\n      <td>1098.534181</td>\n      <td>4.831254e+05</td>\n      <td>...</td>\n      <td>75.191750</td>\n      <td>-0.318088</td>\n      <td>72.683647</td>\n      <td>-0.499459</td>\n      <td>70.440079</td>\n      <td>-3.557541</td>\n      <td>71.182747</td>\n      <td>[105.0, 0.0, 2.0, 0.0, 0.0, 0.0, 0.0, 5.0, 0.0...</td>\n      <td>[0.0, 0.0, 0.0, 0.0, 0.0, 0.0, 0.0, 0.0, 0.0, ...</td>\n      <td>[0.047920894082682464, 0.024257793432034533, 0...</td>\n    </tr>\n    <tr>\n      <th>...</th>\n      <td>...</td>\n      <td>...</td>\n      <td>...</td>\n      <td>...</td>\n      <td>...</td>\n      <td>...</td>\n      <td>...</td>\n      <td>...</td>\n      <td>...</td>\n      <td>...</td>\n      <td>...</td>\n      <td>...</td>\n      <td>...</td>\n      <td>...</td>\n      <td>...</td>\n      <td>...</td>\n      <td>...</td>\n      <td>...</td>\n      <td>...</td>\n      <td>...</td>\n      <td>...</td>\n    </tr>\n    <tr>\n      <th>420</th>\n      <td>Tenderness - Woven Remix</td>\n      <td>Tony Anderson</td>\n      <td>tony-anderson</td>\n      <td>0.050498</td>\n      <td>0.047948</td>\n      <td>99.384014</td>\n      <td>1690.752815</td>\n      <td>996877.763828</td>\n      <td>3788.666509</td>\n      <td>6.661065e+06</td>\n      <td>...</td>\n      <td>85.660057</td>\n      <td>-0.473025</td>\n      <td>55.165321</td>\n      <td>1.394155</td>\n      <td>64.965172</td>\n      <td>-3.817915</td>\n      <td>56.059143</td>\n      <td>[49.0, 0.0, 0.0, 6.0, 0.0, 3.0, 0.0, 0.0, 17.0...</td>\n      <td>[0.0, 0.0, 0.0, 0.0, 0.0, 0.0, 0.0, 0.0, 0.0, ...</td>\n      <td>[0.03940684682031146, 0.1047418567047819, 0.03...</td>\n    </tr>\n    <tr>\n      <th>421</th>\n      <td>Tenderness</td>\n      <td>Tony Anderson</td>\n      <td>tony-anderson</td>\n      <td>0.019365</td>\n      <td>0.018990</td>\n      <td>151.999081</td>\n      <td>500.969118</td>\n      <td>144860.433188</td>\n      <td>764.697603</td>\n      <td>1.021311e+06</td>\n      <td>...</td>\n      <td>42.235184</td>\n      <td>1.522114</td>\n      <td>30.496746</td>\n      <td>-3.054044</td>\n      <td>27.486416</td>\n      <td>-6.413583</td>\n      <td>28.495449</td>\n      <td>[46.0, 0.0, 0.0, 2.0, 0.0, 1.0, 0.0, 0.0, 8.0,...</td>\n      <td>[0.0, 0.0, 0.0, 0.0, 0.0, 0.0, 0.0, 0.0, 0.0, ...</td>\n      <td>[-0.0033105168498387544, 0.024618212288380806,...</td>\n    </tr>\n    <tr>\n      <th>422</th>\n      <td>Cambodia - Ross Lara Remix</td>\n      <td>Tony Anderson</td>\n      <td>tony-anderson</td>\n      <td>0.053039</td>\n      <td>0.050226</td>\n      <td>129.199219</td>\n      <td>1618.810406</td>\n      <td>687875.800819</td>\n      <td>3493.059627</td>\n      <td>5.250681e+06</td>\n      <td>...</td>\n      <td>62.413822</td>\n      <td>-2.939895</td>\n      <td>52.945293</td>\n      <td>2.519716</td>\n      <td>61.408394</td>\n      <td>-2.011139</td>\n      <td>51.967083</td>\n      <td>[246.0, 1.0, 0.0, 5.0, 0.0, 0.0, 0.0, 0.0, 2.0...</td>\n      <td>[0.0, 0.0, 0.0, 0.0, 0.0, 0.0, 0.0, 0.0, 0.0, ...</td>\n      <td>[0.0015526135778904798, 0.1095253043758808, 0....</td>\n    </tr>\n    <tr>\n      <th>423</th>\n      <td>Cambodia</td>\n      <td>Tony Anderson</td>\n      <td>tony-anderson</td>\n      <td>0.042857</td>\n      <td>0.041020</td>\n      <td>129.199219</td>\n      <td>1234.479968</td>\n      <td>276949.182834</td>\n      <td>2474.291523</td>\n      <td>1.718215e+06</td>\n      <td>...</td>\n      <td>118.341034</td>\n      <td>-1.348665</td>\n      <td>86.386292</td>\n      <td>1.038753</td>\n      <td>90.882286</td>\n      <td>-4.584059</td>\n      <td>92.075935</td>\n      <td>[295.0, 0.0, 0.0, 5.0, 0.0, 2.0, 0.0, 0.0, 0.0...</td>\n      <td>[0.0, 0.0, 0.0, 0.0, 0.0, 0.0, 0.0, 0.0, 0.0, ...</td>\n      <td>[-0.18101009841973742, -0.004248825583113958, ...</td>\n    </tr>\n    <tr>\n      <th>424</th>\n      <td>Oyarsa</td>\n      <td>Tony Anderson</td>\n      <td>tony-anderson</td>\n      <td>0.035910</td>\n      <td>0.034620</td>\n      <td>112.347147</td>\n      <td>625.735642</td>\n      <td>51465.968656</td>\n      <td>1004.456635</td>\n      <td>1.778121e+05</td>\n      <td>...</td>\n      <td>73.260193</td>\n      <td>0.496677</td>\n      <td>49.557613</td>\n      <td>-4.770782</td>\n      <td>65.222755</td>\n      <td>-8.970942</td>\n      <td>67.012970</td>\n      <td>[0.0, 0.0, 0.0, 0.0, 0.0, 0.0, 0.0, 0.0, 0.0, ...</td>\n      <td>[0.0, 0.0, 0.0, 0.0, 0.0, 0.0, 0.0, 0.0, 0.0, ...</td>\n      <td>[-0.03287254962763754, -0.21352748213600076, -...</td>\n    </tr>\n  </tbody>\n</table>\n<p>425 rows × 37 columns</p>\n</div>"
     },
     "execution_count": 4,
     "metadata": {},
     "output_type": "execute_result"
    }
   ],
   "source": [
    "from src.helpers import PandasAudioRepository\n",
    "\n",
    "read_temp = False\n",
    "if read_temp:\n",
    "    dataset = pd.read_pickle(config.fresh_load_dataset_dir)\n",
    "else:\n",
    "    dataset = PandasAudioRepository.load_all_feature_datasets(config.extracted_dir)\n",
    "\n",
    "dataset.to_pickle(config.fresh_load_dataset_dir, compression='bz2')\n",
    "dataset"
   ]
  },
  {
   "cell_type": "markdown",
   "metadata": {},
   "source": [
    "## Low-Dimensional Embedding of High-Dimensional Features\n",
    "\n",
    "Features that are high-dimensional include:\n",
    "1. Note Trajectory (16384 dimensions)\n",
    "2. Chord Trajectory (625 dimensions)\n",
    "3. Tonnetz (2048 dimensions)\n",
    "\n",
    "The methodology for each high-dimensional feature is as follows:\n",
    "1. Calculate pairwise distances\n",
    "2. Embed points in 2D while preserving their distances between each other\n",
    "3. Introduce the 2D coordinates as additional features/columns in the dataset"
   ]
  },
  {
   "cell_type": "code",
   "execution_count": 5,
   "metadata": {},
   "outputs": [],
   "source": [
    "from src.helpers import standardize_tonnetz\n",
    "\n",
    "note_trajectories = dataset.pop('note_trajectory').apply(pd.Series)\n",
    "chord_trajectories = dataset.pop('chord_trajectory').apply(pd.Series)\n",
    "tonnetz = dataset.pop('tonnetz').apply(standardize_tonnetz).apply(pd.Series)"
   ]
  },
  {
   "cell_type": "markdown",
   "metadata": {},
   "source": [
    "### Calculate Pairwise Distances\n",
    "\n",
    "First, trajectory matrices are normalised. This is important because longer music tend to stay on the same notes/chords longer. We want music that have similar harmonic transitions to be close together, no matter how long or short they are.\n",
    "\n",
    "Then, Euclidean distance is used to calculate the distance between each point or 'row' in the dataset."
   ]
  },
  {
   "cell_type": "code",
   "execution_count": 6,
   "metadata": {},
   "outputs": [],
   "source": [
    "note_distances = pdist(minmax_scaler.fit_transform(note_trajectories.T).T, 'euclidean')\n",
    "chord_distances = pdist(minmax_scaler.fit_transform(chord_trajectories.T).T, 'euclidean')\n",
    "tonnetz_distances = pdist(tonnetz, 'euclidean') # skipping normalisation because tonnetz has its own scale that represents melodic movement"
   ]
  },
  {
   "cell_type": "markdown",
   "metadata": {},
   "source": [
    "The MDS algorithm will attempt to plot each point on a 2D plane while preserving the calculated distances as much as possible."
   ]
  },
  {
   "cell_type": "code",
   "execution_count": 7,
   "metadata": {},
   "outputs": [],
   "source": [
    "note_mds = MDS(n_components=2, dissimilarity='precomputed', normalized_stress=False)\n",
    "chord_mds = MDS(n_components=2, dissimilarity='precomputed', normalized_stress=False)\n",
    "tonnetz_mds = MDS(n_components=2, dissimilarity='precomputed', normalized_stress=False)\n",
    "\n",
    "note_coordinates = note_mds.fit_transform(squareform(note_distances))\n",
    "chord_coordinates = chord_mds.fit_transform(squareform(chord_distances))\n",
    "tonnetz_coordinates = tonnetz_mds.fit_transform(squareform(tonnetz_distances))"
   ]
  },
  {
   "cell_type": "markdown",
   "metadata": {},
   "source": [
    "The obtained 2D coordinates for each feature is then added to the main dataset as additional columns."
   ]
  },
  {
   "cell_type": "code",
   "execution_count": 8,
   "metadata": {},
   "outputs": [
    {
     "data": {
      "text/plain": "                             song_name             artist       playlist  \\\n0                           Ivan Sings  Aram Khachaturian           kino   \n1    Prélude in E Minor, Op. 28, No. 4    Frédéric Chopin           kino   \n2                      Above the Trees               Kino           kino   \n3                                  All               Kino           kino   \n4                                 Anew               Kino           kino   \n..                                 ...                ...            ...   \n420           Tenderness - Woven Remix      Tony Anderson  tony-anderson   \n421                         Tenderness      Tony Anderson  tony-anderson   \n422         Cambodia - Ross Lara Remix      Tony Anderson  tony-anderson   \n423                           Cambodia      Tony Anderson  tony-anderson   \n424                             Oyarsa      Tony Anderson  tony-anderson   \n\n     zero_crossings_mean  zero_crossings_var         bpm  \\\n0               0.030815            0.029865  143.554688   \n1               0.028196            0.027401  103.359375   \n2               0.052121            0.049405  143.554688   \n3               0.044240            0.042283  161.499023   \n4               0.048969            0.046571  161.499023   \n..                   ...                 ...         ...   \n420             0.050498            0.047948   99.384014   \n421             0.019365            0.018990  151.999081   \n422             0.053039            0.050226  129.199219   \n423             0.042857            0.041020  129.199219   \n424             0.035910            0.034620  112.347147   \n\n     spectral_centroid_mean  spectral_centroid_var  spectral_rolloff_mean  \\\n0                728.505121          164591.144472            1044.706810   \n1                615.425486           95544.686241             892.440162   \n2               1053.924804          248527.612506            1937.848230   \n3                619.260455           49458.448746             981.976649   \n4                677.808914           72961.813450            1098.534181   \n..                      ...                    ...                    ...   \n420             1690.752815          996877.763828            3788.666509   \n421              500.969118          144860.433188             764.697603   \n422             1618.810406          687875.800819            3493.059627   \n423             1234.479968          276949.182834            2474.291523   \n424              625.735642           51465.968656            1004.456635   \n\n     spectral_rolloff_var  ...  mfcc_mean_9  mfcc_var_9  mfcc_mean_10  \\\n0            1.492931e+06  ...    -6.638159   63.120949     -7.461281   \n1            8.328338e+05  ...    -8.138650   51.361748     -8.201083   \n2            1.480721e+06  ...    -2.306997   76.906097     -2.640234   \n3            2.497879e+05  ...     4.160887   66.464058     -0.379875   \n4            4.831254e+05  ...    -0.499459   70.440079     -3.557541   \n..                    ...  ...          ...         ...           ...   \n420          6.661065e+06  ...     1.394155   64.965172     -3.817915   \n421          1.021311e+06  ...    -3.054044   27.486416     -6.413583   \n422          5.250681e+06  ...     2.519716   61.408394     -2.011139   \n423          1.718215e+06  ...     1.038753   90.882286     -4.584059   \n424          1.778121e+05  ...    -4.770782   65.222755     -8.970942   \n\n     mfcc_var_10    note_x    note_y   chord_x   chord_y  tonnetz_x  tonnetz_y  \n0      58.827705 -2.734850 -2.391100  0.355409 -1.385659  -5.217868   0.639658  \n1      51.866173  0.645407 -2.584327 -1.300806 -0.535847   3.778130   1.075258  \n2      74.699959  0.640059  2.990306  1.334453  0.097345  -3.622262  -5.931397  \n3      82.376328  2.680270 -2.280966 -1.090596 -0.187411   7.525536   4.263240  \n4      71.182747 -3.557114 -0.148699  0.235442  1.084642   5.148219  -6.983374  \n..           ...       ...       ...       ...       ...        ...        ...  \n420    56.059143 -0.208783 -0.246062 -1.102564  0.012477  -0.364212   0.165032  \n421    28.495449  0.466951 -1.327135  0.099290 -0.529944  -1.773970   4.449489  \n422    51.967083 -0.248014 -0.089996  0.001711  0.158012   1.289300   3.632961  \n423    92.075935 -1.467439 -0.836703 -0.040569  0.378061   4.867373   6.972623  \n424    67.012970  1.126020  0.234874  0.987878 -0.925575  -7.695741  -0.352946  \n\n[425 rows x 40 columns]",
      "text/html": "<div>\n<style scoped>\n    .dataframe tbody tr th:only-of-type {\n        vertical-align: middle;\n    }\n\n    .dataframe tbody tr th {\n        vertical-align: top;\n    }\n\n    .dataframe thead th {\n        text-align: right;\n    }\n</style>\n<table border=\"1\" class=\"dataframe\">\n  <thead>\n    <tr style=\"text-align: right;\">\n      <th></th>\n      <th>song_name</th>\n      <th>artist</th>\n      <th>playlist</th>\n      <th>zero_crossings_mean</th>\n      <th>zero_crossings_var</th>\n      <th>bpm</th>\n      <th>spectral_centroid_mean</th>\n      <th>spectral_centroid_var</th>\n      <th>spectral_rolloff_mean</th>\n      <th>spectral_rolloff_var</th>\n      <th>...</th>\n      <th>mfcc_mean_9</th>\n      <th>mfcc_var_9</th>\n      <th>mfcc_mean_10</th>\n      <th>mfcc_var_10</th>\n      <th>note_x</th>\n      <th>note_y</th>\n      <th>chord_x</th>\n      <th>chord_y</th>\n      <th>tonnetz_x</th>\n      <th>tonnetz_y</th>\n    </tr>\n  </thead>\n  <tbody>\n    <tr>\n      <th>0</th>\n      <td>Ivan Sings</td>\n      <td>Aram Khachaturian</td>\n      <td>kino</td>\n      <td>0.030815</td>\n      <td>0.029865</td>\n      <td>143.554688</td>\n      <td>728.505121</td>\n      <td>164591.144472</td>\n      <td>1044.706810</td>\n      <td>1.492931e+06</td>\n      <td>...</td>\n      <td>-6.638159</td>\n      <td>63.120949</td>\n      <td>-7.461281</td>\n      <td>58.827705</td>\n      <td>-2.734850</td>\n      <td>-2.391100</td>\n      <td>0.355409</td>\n      <td>-1.385659</td>\n      <td>-5.217868</td>\n      <td>0.639658</td>\n    </tr>\n    <tr>\n      <th>1</th>\n      <td>Prélude in E Minor, Op. 28, No. 4</td>\n      <td>Frédéric Chopin</td>\n      <td>kino</td>\n      <td>0.028196</td>\n      <td>0.027401</td>\n      <td>103.359375</td>\n      <td>615.425486</td>\n      <td>95544.686241</td>\n      <td>892.440162</td>\n      <td>8.328338e+05</td>\n      <td>...</td>\n      <td>-8.138650</td>\n      <td>51.361748</td>\n      <td>-8.201083</td>\n      <td>51.866173</td>\n      <td>0.645407</td>\n      <td>-2.584327</td>\n      <td>-1.300806</td>\n      <td>-0.535847</td>\n      <td>3.778130</td>\n      <td>1.075258</td>\n    </tr>\n    <tr>\n      <th>2</th>\n      <td>Above the Trees</td>\n      <td>Kino</td>\n      <td>kino</td>\n      <td>0.052121</td>\n      <td>0.049405</td>\n      <td>143.554688</td>\n      <td>1053.924804</td>\n      <td>248527.612506</td>\n      <td>1937.848230</td>\n      <td>1.480721e+06</td>\n      <td>...</td>\n      <td>-2.306997</td>\n      <td>76.906097</td>\n      <td>-2.640234</td>\n      <td>74.699959</td>\n      <td>0.640059</td>\n      <td>2.990306</td>\n      <td>1.334453</td>\n      <td>0.097345</td>\n      <td>-3.622262</td>\n      <td>-5.931397</td>\n    </tr>\n    <tr>\n      <th>3</th>\n      <td>All</td>\n      <td>Kino</td>\n      <td>kino</td>\n      <td>0.044240</td>\n      <td>0.042283</td>\n      <td>161.499023</td>\n      <td>619.260455</td>\n      <td>49458.448746</td>\n      <td>981.976649</td>\n      <td>2.497879e+05</td>\n      <td>...</td>\n      <td>4.160887</td>\n      <td>66.464058</td>\n      <td>-0.379875</td>\n      <td>82.376328</td>\n      <td>2.680270</td>\n      <td>-2.280966</td>\n      <td>-1.090596</td>\n      <td>-0.187411</td>\n      <td>7.525536</td>\n      <td>4.263240</td>\n    </tr>\n    <tr>\n      <th>4</th>\n      <td>Anew</td>\n      <td>Kino</td>\n      <td>kino</td>\n      <td>0.048969</td>\n      <td>0.046571</td>\n      <td>161.499023</td>\n      <td>677.808914</td>\n      <td>72961.813450</td>\n      <td>1098.534181</td>\n      <td>4.831254e+05</td>\n      <td>...</td>\n      <td>-0.499459</td>\n      <td>70.440079</td>\n      <td>-3.557541</td>\n      <td>71.182747</td>\n      <td>-3.557114</td>\n      <td>-0.148699</td>\n      <td>0.235442</td>\n      <td>1.084642</td>\n      <td>5.148219</td>\n      <td>-6.983374</td>\n    </tr>\n    <tr>\n      <th>...</th>\n      <td>...</td>\n      <td>...</td>\n      <td>...</td>\n      <td>...</td>\n      <td>...</td>\n      <td>...</td>\n      <td>...</td>\n      <td>...</td>\n      <td>...</td>\n      <td>...</td>\n      <td>...</td>\n      <td>...</td>\n      <td>...</td>\n      <td>...</td>\n      <td>...</td>\n      <td>...</td>\n      <td>...</td>\n      <td>...</td>\n      <td>...</td>\n      <td>...</td>\n      <td>...</td>\n    </tr>\n    <tr>\n      <th>420</th>\n      <td>Tenderness - Woven Remix</td>\n      <td>Tony Anderson</td>\n      <td>tony-anderson</td>\n      <td>0.050498</td>\n      <td>0.047948</td>\n      <td>99.384014</td>\n      <td>1690.752815</td>\n      <td>996877.763828</td>\n      <td>3788.666509</td>\n      <td>6.661065e+06</td>\n      <td>...</td>\n      <td>1.394155</td>\n      <td>64.965172</td>\n      <td>-3.817915</td>\n      <td>56.059143</td>\n      <td>-0.208783</td>\n      <td>-0.246062</td>\n      <td>-1.102564</td>\n      <td>0.012477</td>\n      <td>-0.364212</td>\n      <td>0.165032</td>\n    </tr>\n    <tr>\n      <th>421</th>\n      <td>Tenderness</td>\n      <td>Tony Anderson</td>\n      <td>tony-anderson</td>\n      <td>0.019365</td>\n      <td>0.018990</td>\n      <td>151.999081</td>\n      <td>500.969118</td>\n      <td>144860.433188</td>\n      <td>764.697603</td>\n      <td>1.021311e+06</td>\n      <td>...</td>\n      <td>-3.054044</td>\n      <td>27.486416</td>\n      <td>-6.413583</td>\n      <td>28.495449</td>\n      <td>0.466951</td>\n      <td>-1.327135</td>\n      <td>0.099290</td>\n      <td>-0.529944</td>\n      <td>-1.773970</td>\n      <td>4.449489</td>\n    </tr>\n    <tr>\n      <th>422</th>\n      <td>Cambodia - Ross Lara Remix</td>\n      <td>Tony Anderson</td>\n      <td>tony-anderson</td>\n      <td>0.053039</td>\n      <td>0.050226</td>\n      <td>129.199219</td>\n      <td>1618.810406</td>\n      <td>687875.800819</td>\n      <td>3493.059627</td>\n      <td>5.250681e+06</td>\n      <td>...</td>\n      <td>2.519716</td>\n      <td>61.408394</td>\n      <td>-2.011139</td>\n      <td>51.967083</td>\n      <td>-0.248014</td>\n      <td>-0.089996</td>\n      <td>0.001711</td>\n      <td>0.158012</td>\n      <td>1.289300</td>\n      <td>3.632961</td>\n    </tr>\n    <tr>\n      <th>423</th>\n      <td>Cambodia</td>\n      <td>Tony Anderson</td>\n      <td>tony-anderson</td>\n      <td>0.042857</td>\n      <td>0.041020</td>\n      <td>129.199219</td>\n      <td>1234.479968</td>\n      <td>276949.182834</td>\n      <td>2474.291523</td>\n      <td>1.718215e+06</td>\n      <td>...</td>\n      <td>1.038753</td>\n      <td>90.882286</td>\n      <td>-4.584059</td>\n      <td>92.075935</td>\n      <td>-1.467439</td>\n      <td>-0.836703</td>\n      <td>-0.040569</td>\n      <td>0.378061</td>\n      <td>4.867373</td>\n      <td>6.972623</td>\n    </tr>\n    <tr>\n      <th>424</th>\n      <td>Oyarsa</td>\n      <td>Tony Anderson</td>\n      <td>tony-anderson</td>\n      <td>0.035910</td>\n      <td>0.034620</td>\n      <td>112.347147</td>\n      <td>625.735642</td>\n      <td>51465.968656</td>\n      <td>1004.456635</td>\n      <td>1.778121e+05</td>\n      <td>...</td>\n      <td>-4.770782</td>\n      <td>65.222755</td>\n      <td>-8.970942</td>\n      <td>67.012970</td>\n      <td>1.126020</td>\n      <td>0.234874</td>\n      <td>0.987878</td>\n      <td>-0.925575</td>\n      <td>-7.695741</td>\n      <td>-0.352946</td>\n    </tr>\n  </tbody>\n</table>\n<p>425 rows × 40 columns</p>\n</div>"
     },
     "execution_count": 8,
     "metadata": {},
     "output_type": "execute_result"
    }
   ],
   "source": [
    "note_coordinates_df = pd.DataFrame(note_coordinates, columns=['x', 'y'])\n",
    "chord_coordinates_df = pd.DataFrame(chord_coordinates, columns=['x', 'y'])\n",
    "tonnetz_coordinates_df = pd.DataFrame(tonnetz_coordinates, columns=['x', 'y'])\n",
    "\n",
    "dataset['note_x'] = note_coordinates_df['x']\n",
    "dataset['note_y'] = note_coordinates_df['y']\n",
    "\n",
    "dataset['chord_x'] = chord_coordinates_df['x']\n",
    "dataset['chord_y'] = chord_coordinates_df['y']\n",
    "\n",
    "dataset['tonnetz_x'] = tonnetz_coordinates_df['x']\n",
    "dataset['tonnetz_y'] = tonnetz_coordinates_df['y']\n",
    "\n",
    "dataset"
   ]
  },
  {
   "cell_type": "markdown",
   "metadata": {},
   "source": [
    "## Save Progress"
   ]
  },
  {
   "cell_type": "code",
   "execution_count": 9,
   "metadata": {},
   "outputs": [],
   "source": [
    "dataset.to_pickle(config.dim_reduction_result_dir, compression='bz2')"
   ]
  },
  {
   "cell_type": "markdown",
   "metadata": {},
   "source": [
    "## Visualisation of Reduced Dimensions\n",
    "\n",
    "### Note Trajectory\n",
    "\n",
    "We can see that points form a ball around the centre. This is a sign that they are all more or less equidistant from each other.\n",
    "\n",
    "This can be due to there being too many potential notes, so even similar sounding songs might not play the same notes. This is the consequence of the curse of dimensionality.\n",
    "\n",
    "However, small clusters do form."
   ]
  },
  {
   "cell_type": "code",
   "execution_count": 13,
   "metadata": {},
   "outputs": [
    {
     "data": {
      "application/vnd.plotly.v1+json": {
       "data": [
        {
         "customdata": [
          [
           "Ivan Sings",
           "Aram Khachaturian",
           "kino"
          ],
          [
           "Prélude in E Minor, Op. 28, No. 4",
           "Frédéric Chopin",
           "kino"
          ],
          [
           "Above the Trees",
           "Kino",
           "kino"
          ],
          [
           "All",
           "Kino",
           "kino"
          ],
          [
           "Anew",
           "Kino",
           "kino"
          ],
          [
           "As a Cloud",
           "Kino",
           "kino"
          ],
          [
           "Away",
           "Kino",
           "kino"
          ],
          [
           "Bloom",
           "Kino",
           "kino"
          ],
          [
           "Charleston",
           "Kino",
           "kino"
          ],
          [
           "Donau",
           "Kino",
           "kino"
          ],
          [
           "Each and Every (Ambient Mix)",
           "Kino",
           "kino"
          ],
          [
           "Each and Every (Piano)",
           "Kino",
           "kino"
          ],
          [
           "Each and Every",
           "Kino",
           "kino"
          ],
          [
           "Erlöst  Redeemed",
           "Kino",
           "kino"
          ],
          [
           "Gathering",
           "Kino",
           "kino"
          ],
          [
           "God Bless Us, Every One",
           "Kino",
           "kino"
          ],
          [
           "Hearth",
           "Kino",
           "kino"
          ],
          [
           "Hēo",
           "Kino",
           "kino"
          ],
          [
           "In Earnest",
           "Kino",
           "kino"
          ],
          [
           "Leinwand (Piano)",
           "Kino",
           "kino"
          ],
          [
           "Leinwand",
           "Kino",
           "kino"
          ],
          [
           "Lightly Tread",
           "Kino",
           "kino"
          ],
          [
           "Lone",
           "Kino",
           "kino"
          ],
          [
           "Many Colors",
           "Kino",
           "kino"
          ],
          [
           "Merrily, Merrily",
           "Kino",
           "kino"
          ],
          [
           "O Tannenbaum",
           "Kino",
           "kino"
          ],
          [
           "Presidio",
           "Kino",
           "kino"
          ],
          [
           "Rambuteau",
           "Kino",
           "kino"
          ],
          [
           "Seafarer's Quartet",
           "Kino",
           "kino"
          ],
          [
           "Seems",
           "Kino",
           "kino"
          ],
          [
           "Silent Night",
           "Kino",
           "kino"
          ],
          [
           "Silver Lake",
           "Kino",
           "kino"
          ],
          [
           "St John's",
           "Kino",
           "kino"
          ],
          [
           "Sunshine - Original",
           "Kino",
           "kino"
          ],
          [
           "Swell",
           "Kino",
           "kino"
          ],
          [
           "The Holly and the Ivy",
           "Kino",
           "kino"
          ],
          [
           "The Weight Unbearable (Piano)",
           "Kino",
           "kino"
          ],
          [
           "The Weight Unbearable",
           "Kino",
           "kino"
          ],
          [
           "Till",
           "Kino",
           "kino"
          ],
          [
           "Trio in E-flat Minor",
           "Kino",
           "kino"
          ],
          [
           "Under",
           "Kino",
           "kino"
          ],
          [
           "Water Lilies",
           "Kino",
           "kino"
          ],
          [
           "Wide Awake",
           "Kino",
           "kino"
          ],
          [
           "Willeth",
           "Kino",
           "kino"
          ],
          [
           "Wolden",
           "Kino",
           "kino"
          ],
          [
           "Yule",
           "Kino",
           "kino"
          ],
          [
           "Piano Sonata No. 14 in C-Sharp Minor, Op. 27 No. 2 “Moonlight”- I. Adagio sostenuto",
           "Ludwig van Beethoven",
           "kino"
          ]
         ],
         "hovertemplate": "playlist=%{customdata[2]}<br>note_x=%{x}<br>note_y=%{y}<br>song_name=%{customdata[0]}<br>artist=%{customdata[1]}<extra></extra>",
         "legendgroup": "kino",
         "marker": {
          "color": "#636efa",
          "symbol": "circle"
         },
         "mode": "markers",
         "name": "kino",
         "orientation": "v",
         "showlegend": true,
         "x": [
          -2.734850187315789,
          0.6454069953125551,
          0.6400592671026222,
          2.6802699480751477,
          -3.557114011442789,
          1.0241156934375364,
          0.9070598608940187,
          1.3523821979464548,
          0.24596659993989908,
          -0.7251872514639663,
          1.3927585452971993,
          1.4009143405439373,
          0.8684283827852699,
          -0.2564805558331365,
          -0.23335466422762557,
          -0.9674302546993504,
          0.42347232628042725,
          1.305895025147373,
          -0.721904591950146,
          1.105792528427904,
          1.780871517671619,
          1.568661889733129,
          1.2309650000177719,
          -0.9914762821368832,
          0.6964361820792505,
          1.1845003605121798,
          2.8253500867817474,
          0.671867459060432,
          -1.3669527123021812,
          0.6115717314386669,
          1.5643640921807955,
          -0.12434426537232673,
          0.8455670620262823,
          -0.8878214358776126,
          0.4140524305890629,
          0.6417248193102594,
          2.022541189697452,
          1.9082237040232972,
          2.1784170166164296,
          0.7166683454748496,
          0.3134226641118305,
          1.745002773319913,
          0.6258609564846584,
          0.5984620763660446,
          0.565023635871527,
          2.0821572263508523,
          2.687672996545726
         ],
         "xaxis": "x",
         "y": [
          -2.391100491258349,
          -2.584326754826134,
          2.990306247732163,
          -2.280966476000092,
          -0.1486994667482186,
          0.4552618743307837,
          -0.011630240186053308,
          1.9019484168403937,
          2.535186424030359,
          -1.222225949669697,
          1.543239935159658,
          1.384096980088736,
          0.5198393995518469,
          -0.04622442465616779,
          -0.2167106785881072,
          -2.625453072517384,
          1.3792310303529383,
          -1.1041658205392137,
          1.5431370684187105,
          -1.5631741894562659,
          -0.17205565166086614,
          0.5900758867347449,
          -1.171155629692874,
          0.7252752467872925,
          0.7108229299285028,
          -1.5031701269271212,
          0.3293456321051756,
          1.9507978365359067,
          -2.3083826283388778,
          -0.9361295404460204,
          -2.371197663719971,
          1.4512557428609802,
          1.037113832372305,
          1.479800256091357,
          -2.145312886205718,
          2.584640166483479,
          0.14947967327959374,
          0.7562945908442948,
          -0.8839047093360136,
          -1.6475086521077569,
          -1.3831897231600585,
          1.3702325925359689,
          0.831910651541919,
          -0.31797948352225186,
          0.05624910112458764,
          2.341891258456068,
          2.003658731331323
         ],
         "yaxis": "y",
         "type": "scatter"
        },
        {
         "customdata": [
          [
           "But it's Destiny",
           "10cm",
           "korean-ost"
          ],
          [
           "나의 어깨에 기대어요",
           "10cm",
           "korean-ost"
          ],
          [
           "Is You",
           "AILEE",
           "korean-ost"
          ],
          [
           "How can I love the heartbreak, you're the one I love",
           "AKMU",
           "korean-ost"
          ],
          [
           "How can I love the heartbreak, you`re the one I love",
           "AKMU",
           "korean-ost"
          ],
          [
           "Amusement Park",
           "BAEKHYUN",
           "korean-ost"
          ],
          [
           "너를 사랑하고 있어",
           "BAEKHYUN",
           "korean-ost"
          ],
          [
           "Beautiful goodbye",
           "CHEN",
           "korean-ost"
          ],
          [
           "Flower",
           "CHEN",
           "korean-ost"
          ],
          [
           "I'll be there",
           "CHEN",
           "korean-ost"
          ],
          [
           "My dear",
           "CHEN",
           "korean-ost"
          ],
          [
           "Sorry not sorry",
           "CHEN",
           "korean-ost"
          ],
          [
           "Everytime",
           "CHEN",
           "korean-ost"
          ],
          [
           "Wish",
           "Choi Yuree",
           "korean-ost"
          ],
          [
           "Beautiful",
           "Crush",
           "korean-ost"
          ],
          [
           "Let Us Go",
           "Crush",
           "korean-ost"
          ],
          [
           "No Words",
           "Crush",
           "korean-ost"
          ],
          [
           "My Love",
           "DAVICHI",
           "korean-ost"
          ],
          [
           "Please Don't Cry",
           "DAVICHI",
           "korean-ost"
          ],
          [
           "Sunset",
           "DAVICHI",
           "korean-ost"
          ],
          [
           "노력해볼게요 I'll try",
           "DAY6",
           "korean-ost"
          ],
          [
           "I'm In Love With You",
           "Dvwn",
           "korean-ost"
          ],
          [
           "No Problem",
           "Dvwn",
           "korean-ost"
          ],
          [
           "긴 밤이 오면",
           "Eddy Kim",
           "korean-ost"
          ],
          [
           "Rain or Shine",
           "Elaine",
           "korean-ost"
          ],
          [
           "Hate Everything - Korean Version",
           "GSoul",
           "korean-ost"
          ],
          [
           "기억해줘요 내 모든 날과 그때를",
           "Gummy",
           "korean-ost"
          ],
          [
           "Slowly Fall",
           "Ha Hyun Sang",
           "korean-ost"
          ],
          [
           "내 맘을 볼 수 있나요",
           "HEIZE",
           "korean-ost"
          ],
          [
           "Deeply",
           "HEN",
           "korean-ost"
          ],
          [
           "To You",
           "HEN",
           "korean-ost"
          ],
          [
           "It's You",
           "HENRY",
           "korean-ost"
          ],
          [
           "Untitled Love Song",
           "HENRY",
           "korean-ost"
          ],
          [
           "Ending Scene",
           "IU",
           "korean-ost"
          ],
          [
           "Give You My Heart",
           "IU",
           "korean-ost"
          ],
          [
           "Love poem",
           "IU",
           "korean-ost"
          ],
          [
           "My sea",
           "IU",
           "korean-ost"
          ],
          [
           "Holiday",
           "JeHwi",
           "korean-ost"
          ],
          [
           "Stardust love song",
           "JIHYO",
           "korean-ost"
          ],
          [
           "What Lies Ahead",
           "Joe Layne",
           "korean-ost"
          ],
          [
           "Times Like This",
           "Josh Daniel",
           "korean-ost"
          ],
          [
           "Do you want to walk with me (Romance 101 X Jukjae)",
           "Jukjae",
           "korean-ost"
          ],
          [
           "The Days Like Pictures",
           "Jukjae",
           "korean-ost"
          ],
          [
           "나를 찾아서",
           "Jukjae",
           "korean-ost"
          ],
          [
           "별 보러 가자",
           "Jukjae",
           "korean-ost"
          ],
          [
           "Day & Night",
           "Jung Seung Hwan",
           "korean-ost"
          ],
          [
           "Because I Miss You",
           "Jung Yong Hwa",
           "korean-ost"
          ],
          [
           "For First-time Lovers (Banmal-song)",
           "Jung Yong Hwa",
           "korean-ost"
          ],
          [
           "I Go",
           "Kei (Kim Ji Yeon)",
           "korean-ost"
          ],
          [
           "보고싶다 (From. '드라마 천국의 계단')",
           "Kim Bum Soo",
           "korean-ost"
          ],
          [
           "One Day",
           "Kim Feel",
           "korean-ost"
          ],
          [
           "Someday, The Boy",
           "Kim Feel",
           "korean-ost"
          ],
          [
           "Vacance in September",
           "KIM JAE HWAN",
           "korean-ost"
          ],
          [
           "All of My Days",
           "KIMSEJEONG",
           "korean-ost"
          ],
          [
           "If Only",
           "KIMSEJEONG",
           "korean-ost"
          ],
          [
           "Lonely Night",
           "Kwon Jin Ah",
           "korean-ost"
          ],
          [
           "The End",
           "Kwon Jin Ah",
           "korean-ost"
          ],
          [
           "I Won't Heartbreaken",
           "Lee KwangHee",
           "korean-ost"
          ],
          [
           "In My Heart",
           "LIM YEON",
           "korean-ost"
          ],
          [
           "Lost",
           "LIM YEON",
           "korean-ost"
          ],
          [
           "Say Yes",
           "Loco",
           "korean-ost"
          ],
          [
           "Be There For You",
           "NCT DREAM",
           "korean-ost"
          ],
          [
           "Rainbow - Acoustic Version",
           "O.WHEN",
           "korean-ost"
          ],
          [
           "Me After You",
           "Paul Kim",
           "korean-ost"
          ],
          [
           "안녕",
           "Paul Kim",
           "korean-ost"
          ],
          [
           "But I'm Trying to Tell You How Much I Love You (With Moonbit)",
           "saevom",
           "korean-ost"
          ],
          [
           "For You",
           "Sam Kim",
           "korean-ost"
          ],
          [
           "Sunny Day Rainy Day (feat. Kassy)",
           "Sanchez",
           "korean-ost"
          ],
          [
           "Your world",
           "Seol Hoseung (SURL)",
           "korean-ost"
          ],
          [
           "Grown Ups",
           "Sondia",
           "korean-ost"
          ],
          [
           "Hug",
           "Sondia",
           "korean-ost"
          ],
          [
           "Our Souls at Night",
           "Sondia",
           "korean-ost"
          ],
          [
           "우린 친구뿐일까",
           "Sondia",
           "korean-ost"
          ],
          [
           "She",
           "Standing Egg",
           "korean-ost"
          ],
          [
           "Miracle (Feat. Paul Kim)",
           "Stella Jang",
           "korean-ost"
          ],
          [
           "One more time, One more chance",
           "Sung Si Kyung",
           "korean-ost"
          ],
          [
           "君がいるよ",
           "Sung Si Kyung",
           "korean-ost"
          ],
          [
           "Two People",
           "SURAN",
           "korean-ost"
          ],
          [
           "Inevitable",
           "Suzy",
           "korean-ost"
          ],
          [
           "Starlight",
           "TAEIL",
           "korean-ost"
          ],
          [
           "그대라는 시",
           "TAEYEON",
           "korean-ost"
          ],
          [
           "Two Words",
           "WENDY",
           "korean-ost"
          ],
          [
           "What If Love",
           "WENDY",
           "korean-ost"
          ],
          [
           "내일도 또 내일도 Tomorrow After Tomorrow",
           "WISUE",
           "korean-ost"
          ],
          [
           "Your Existence",
           "Wonstein",
           "korean-ost"
          ],
          [
           "Free",
           "Xydo",
           "korean-ost"
          ],
          [
           "너만 너만 너만",
           "Yang Dail",
           "korean-ost"
          ],
          [
           "With me",
           "Yang Dail",
           "korean-ost"
          ],
          [
           "Here I Am Again",
           "Yerin Baek",
           "korean-ost"
          ],
          [
           "Maze",
           "YONGZOO",
           "korean-ost"
          ],
          [
           "ALWAYS",
           "Yoon Mirae",
           "korean-ost"
          ],
          [
           "Flower",
           "Yoon Mirae",
           "korean-ost"
          ],
          [
           "You Are My World",
           "Yoon Mirae",
           "korean-ost"
          ],
          [
           "I Just Want To Stay With You",
           "Zion.T",
           "korean-ost"
          ],
          [
           "Faith",
           "이준화",
           "korean-ost"
          ]
         ],
         "hovertemplate": "playlist=%{customdata[2]}<br>note_x=%{x}<br>note_y=%{y}<br>song_name=%{customdata[0]}<br>artist=%{customdata[1]}<extra></extra>",
         "legendgroup": "korean-ost",
         "marker": {
          "color": "#EF553B",
          "symbol": "circle"
         },
         "mode": "markers",
         "name": "korean-ost",
         "orientation": "v",
         "showlegend": true,
         "x": [
          -0.5096338463417519,
          0.1846226922010786,
          -3.315883400755189,
          -2.0701707096993105,
          -3.1693428513682527,
          -2.6317840079243107,
          2.3238868060300986,
          0.8957664606180731,
          0.7451380764020145,
          0.14224099480983707,
          -2.657220406529984,
          0.8930238689749624,
          2.210100241253755,
          2.403490100914992,
          1.3724253217084417,
          -0.5761414302925142,
          1.5528188403101695,
          -0.7455328290737958,
          1.9116422116344245,
          2.8857842772920037,
          -4.656407466401366,
          -2.0858573553963886,
          -1.890116665536768,
          0.9700416772123548,
          -0.21335782848022042,
          1.868639470438589,
          1.0500315730077843,
          -1.538265724220243,
          -1.158747970941762,
          1.7200884648819166,
          -2.195577634429162,
          -1.9355896941922541,
          -0.487237542784335,
          2.0721245192023496,
          2.124482438252767,
          -0.4974243544383498,
          -1.7927155001024122,
          -1.2761848272167582,
          4.938672789981662,
          -1.4781211520258324,
          0.3822761781794203,
          0.2675448509811583,
          -0.4635732894839031,
          -1.121517634378673,
          -1.243850846035079,
          0.2098569547266386,
          0.11653748752416296,
          -1.463369162752382,
          0.04230081919135413,
          2.6834117614526316,
          -0.672190558007384,
          -0.21161316772307287,
          -0.7211073867792968,
          1.0195985030088686,
          1.2680237053526715,
          4.435229845959626,
          0.9677757656040304,
          0.749517327105625,
          0.4216762806069568,
          -0.6058822613885434,
          -1.7365177301845325,
          0.11349474370238766,
          -1.6961833820559926,
          0.5090638623324246,
          -3.129470621622458,
          -1.1396046320071194,
          0.9597300683081644,
          1.790513389999585,
          -0.8910923061360183,
          2.080814562693644,
          -2.564388375674239,
          -0.7522850342970113,
          0.0911333096200461,
          -1.050794688828812,
          -2.8351925652858845,
          -1.0776845403514177,
          -1.27280204076943,
          -0.4670664804229918,
          3.9675243232760478,
          -1.3454256978368357,
          -3.223414528375548,
          -0.4343868782447832,
          1.1326988267870337,
          0.03792057906057405,
          1.9593198110822878,
          -1.559424859200755,
          -2.5240690966397508,
          0.08965339791381227,
          -1.2404353116079405,
          1.8606903728904254,
          0.24748696505947132,
          0.7636745180101426,
          -0.7329023161036973,
          -0.6759113960981818,
          0.5878696124341369
         ],
         "xaxis": "x",
         "y": [
          0.10914188278733662,
          5.018690343785681,
          -2.4090945139065845,
          -3.275820671035335,
          -2.1761764006441053,
          0.6461213709846971,
          -1.1453511746894445,
          2.025904511672105,
          -3.5799921445822336,
          0.8515233657132006,
          0.11124571315912771,
          -1.138329166674804,
          1.1503688656120266,
          -1.4239977845789684,
          0.5348194545982511,
          -4.193791655293603,
          1.021398745571643,
          2.8912011361254653,
          -0.15251597838139533,
          0.36043675596242536,
          -1.1027543689055153,
          0.30785550085134705,
          -2.7850594717785895,
          1.4966150109342737,
          2.1068642221707257,
          1.7024126316563086,
          2.428413392361451,
          2.222279120988189,
          1.03423709104278,
          -3.201980600068186,
          2.841886031969353,
          -1.1350274612506843,
          -0.23653487348763735,
          2.9933156061286974,
          1.1985318151761106,
          0.8673058043322668,
          1.4166103363745937,
          -2.5638972705923617,
          1.0678059715706563,
          -1.7620275201235591,
          3.8187053721967135,
          -0.6490650237651301,
          -1.8640638558932212,
          -0.4550994670030385,
          1.8027338056676927,
          2.9854124851261283,
          0.5309681787501803,
          -0.12949113540216248,
          1.9391406662571802,
          -3.390728562999811,
          1.0624995129062804,
          -2.3006372676501567,
          0.1642248353041266,
          1.044532208209259,
          0.8146537555908168,
          -2.036698953755867,
          0.9956213568683475,
          1.6197028352384102,
          1.1315643357427492,
          2.272067045668684,
          0.2273824829272757,
          -0.8892073663326439,
          1.5111067155231201,
          -4.599658590001881,
          0.4108421473357474,
          -3.2994381948678035,
          1.1780348050569034,
          -0.47797652986326433,
          -0.08119120401460844,
          -1.948135862260467,
          -1.0467985960785748,
          2.2913581151608176,
          3.010598183369114,
          -1.3397025715364383,
          1.745725750135662,
          -1.5177481654869471,
          -2.040575603796825,
          -1.695642096331428,
          0.37383035027418043,
          -0.9120439261318523,
          -1.1912042820212996,
          1.230820801851783,
          0.5867590342717345,
          -3.1119918494045566,
          -2.508527666071757,
          0.013825619882322924,
          0.12506212397427505,
          1.522894548992874,
          -1.844582692404958,
          -2.6964042028165816,
          0.8573657469934747,
          0.6893043524221438,
          1.6198845403492264,
          -1.5174974643860384,
          -1.8057949505493986
         ],
         "yaxis": "y",
         "type": "scatter"
        },
        {
         "customdata": [
          [
           "A Speck of Light - Reimagined",
           "Lights & Motion",
           "lights-and-motion"
          ],
          [
           "A Speck of Light",
           "Lights & Motion",
           "lights-and-motion"
          ],
          [
           "All the Way",
           "Lights & Motion",
           "lights-and-motion"
          ],
          [
           "Anamorphic",
           "Lights & Motion",
           "lights-and-motion"
          ],
          [
           "Anchor",
           "Lights & Motion",
           "lights-and-motion"
          ],
          [
           "Anomaly",
           "Lights & Motion",
           "lights-and-motion"
          ],
          [
           "Antlers",
           "Lights & Motion",
           "lights-and-motion"
          ],
          [
           "Arms Wide Open",
           "Lights & Motion",
           "lights-and-motion"
          ],
          [
           "As the World Goes Away",
           "Lights & Motion",
           "lights-and-motion"
          ],
          [
           "As They Sleep",
           "Lights & Motion",
           "lights-and-motion"
          ],
          [
           "Aurora",
           "Lights & Motion",
           "lights-and-motion"
          ],
          [
           "Deafening Silence",
           "Lights & Motion",
           "lights-and-motion"
          ],
          [
           "DNA",
           "Lights & Motion",
           "lights-and-motion"
          ],
          [
           "Equals",
           "Lights & Motion",
           "lights-and-motion"
          ],
          [
           "Everest",
           "Lights & Motion",
           "lights-and-motion"
          ],
          [
           "Exhale",
           "Lights & Motion",
           "lights-and-motion"
          ],
          [
           "Feathers",
           "Lights & Motion",
           "lights-and-motion"
          ],
          [
           "Fireflies",
           "Lights & Motion",
           "lights-and-motion"
          ],
          [
           "From Dust",
           "Lights & Motion",
           "lights-and-motion"
          ],
          [
           "Glistening - Reimagined",
           "Lights & Motion",
           "lights-and-motion"
          ],
          [
           "Glistening",
           "Lights & Motion",
           "lights-and-motion"
          ],
          [
           "Glow",
           "Lights & Motion",
           "lights-and-motion"
          ],
          [
           "I See You (feat. Frida Sundemo)",
           "Lights & Motion",
           "lights-and-motion"
          ],
          [
           "I See You - Reimagined (feat. Frida Sundemo)",
           "Lights & Motion",
           "lights-and-motion"
          ],
          [
           "Lucid Dreaming",
           "Lights & Motion",
           "lights-and-motion"
          ],
          [
           "Northern Lights",
           "Lights & Motion",
           "lights-and-motion"
          ],
          [
           "Pandora",
           "Lights & Motion",
           "lights-and-motion"
          ],
          [
           "Panic Attack",
           "Lights & Motion",
           "lights-and-motion"
          ],
          [
           "Paper Wings",
           "Lights & Motion",
           "lights-and-motion"
          ],
          [
           "Parachutes",
           "Lights & Motion",
           "lights-and-motion"
          ],
          [
           "Particle Storm",
           "Lights & Motion",
           "lights-and-motion"
          ],
          [
           "Perfect Symmetry",
           "Lights & Motion",
           "lights-and-motion"
          ],
          [
           "Phoenix",
           "Lights & Motion",
           "lights-and-motion"
          ],
          [
           "Reanimation - Revisited 10th Anniversary Edition",
           "Lights & Motion",
           "lights-and-motion"
          ],
          [
           "Reborn",
           "Lights & Motion",
           "lights-and-motion"
          ],
          [
           "Separated Hearts - Reimagined",
           "Lights & Motion",
           "lights-and-motion"
          ],
          [
           "Separated Hearts",
           "Lights & Motion",
           "lights-and-motion"
          ],
          [
           "Silver Lining",
           "Lights & Motion",
           "lights-and-motion"
          ],
          [
           "Sleeping Giant",
           "Lights & Motion",
           "lights-and-motion"
          ],
          [
           "Sypher",
           "Lights & Motion",
           "lights-and-motion"
          ],
          [
           "The First Day",
           "Lights & Motion",
           "lights-and-motion"
          ],
          [
           "The Great Wide Open - Reimagined",
           "Lights & Motion",
           "lights-and-motion"
          ],
          [
           "The Great Wide Open",
           "Lights & Motion",
           "lights-and-motion"
          ],
          [
           "The Moments Before",
           "Lights & Motion",
           "lights-and-motion"
          ],
          [
           "The Spectacular Quiet",
           "Lights & Motion",
           "lights-and-motion"
          ],
          [
           "The World I Remember",
           "Lights & Motion",
           "lights-and-motion"
          ],
          [
           "This Explosion Within",
           "Lights & Motion",
           "lights-and-motion"
          ],
          [
           "Touching Sky",
           "Lights & Motion",
           "lights-and-motion"
          ],
          [
           "We Only Have Forever",
           "Lights & Motion",
           "lights-and-motion"
          ],
          [
           "When Everything Is Falling",
           "Lights & Motion",
           "lights-and-motion"
          ],
          [
           "Wilderness",
           "Lights & Motion",
           "lights-and-motion"
          ],
          [
           "Winter Solstice",
           "Lights & Motion",
           "lights-and-motion"
          ],
          [
           "Wolves (feat. Johan Hasselblom)",
           "Lights & Motion",
           "lights-and-motion"
          ],
          [
           "Wolves - Reimagined (feat. Johan Hasselblom)",
           "Lights & Motion",
           "lights-and-motion"
          ],
          [
           "Woven",
           "Lights & Motion",
           "lights-and-motion"
          ],
          [
           "Year Zero",
           "Lights & Motion",
           "lights-and-motion"
          ]
         ],
         "hovertemplate": "playlist=%{customdata[2]}<br>note_x=%{x}<br>note_y=%{y}<br>song_name=%{customdata[0]}<br>artist=%{customdata[1]}<extra></extra>",
         "legendgroup": "lights-and-motion",
         "marker": {
          "color": "#00cc96",
          "symbol": "circle"
         },
         "mode": "markers",
         "name": "lights-and-motion",
         "orientation": "v",
         "showlegend": true,
         "x": [
          0.506947124369351,
          -0.11842859057126437,
          0.08224958535898304,
          0.05871357055855209,
          -1.3119911998692178,
          -2.139724484103448,
          -1.7066995331899166,
          -0.6055920694846046,
          2.6903516570514285,
          0.2250031680138929,
          -0.42472230079155365,
          -0.3603753972426491,
          -0.20949136892430797,
          0.05622224597250991,
          -0.8874476877182669,
          -0.18226687166275468,
          -0.3751734646109886,
          1.354361094149268,
          1.2776769030467425,
          0.7623951711314194,
          -1.7492452813783523,
          1.2157741242819209,
          -1.4181043028978482,
          0.12715147042272792,
          1.7893529412832732,
          -0.8989684373323579,
          -0.26195387904483325,
          -0.3574966236703193,
          0.6191540907896719,
          -0.18688017530191914,
          0.4591202000237977,
          -1.146662316839241,
          1.0241005907812228,
          1.6337706473461624,
          0.7417750532676366,
          0.587704102401623,
          -0.19516276217185996,
          -0.13715567596238434,
          -0.6329893466607484,
          -1.7797075400398683,
          -0.16874589590762018,
          3.4771263035217097,
          -1.118535210253925,
          1.3233662197306415,
          -0.4403716957200464,
          -0.9669594041709154,
          -0.18688017530191914,
          -0.2557102009410239,
          -0.1868801753019193,
          0.0025203209045576236,
          -1.1666149800360475,
          0.9139568527438664,
          -0.1868801753019192,
          -1.3382901208324232,
          -1.6073646565433544,
          -1.2261339271165839
         ],
         "xaxis": "x",
         "y": [
          -0.02989225167261575,
          -0.20195657335525266,
          -1.8130819778755767,
          2.3155431455934314,
          -0.7193453103672193,
          1.5226431032251937,
          -0.6621089179358188,
          -0.1646170141509298,
          -1.5074033971466123,
          0.05414764341056392,
          -0.6134631527436812,
          -0.08937097476841348,
          -0.0948837464917504,
          -1.9846107702272417,
          -0.9034160776199254,
          -0.1056984005522431,
          -0.24199410511405753,
          -1.6356429476921996,
          2.139929204489875,
          2.404325399364118,
          -2.226106267519519,
          -1.3695337975381965,
          -0.9018351822417878,
          1.2024627298652597,
          2.393640629390563,
          2.8373775877862353,
          -0.08408858297274587,
          0.010172516601195888,
          -1.4751761151654403,
          -0.08798809976849394,
          -0.11269142791639518,
          1.4079954795988492,
          -0.3936155462888261,
          -1.8421685925031481,
          -0.8185968658152363,
          -0.5868519030405893,
          0.8694651086950956,
          -0.34730746317102423,
          3.0855409357337504,
          0.612254985473116,
          -0.3243828945122307,
          -1.5631623334043783,
          -0.7591315621887235,
          -0.7729926881350004,
          -2.041462814086688,
          0.30171610017990214,
          -0.08798809976849385,
          -0.09876783180615205,
          -0.08798809976849387,
          0.49408674700576716,
          0.6966943797324006,
          -0.5389321917711511,
          -0.0879880997684939,
          1.5784034391886514,
          -0.2226967581939053,
          2.08584413369372
         ],
         "yaxis": "y",
         "type": "scatter"
        },
        {
         "customdata": [
          [
           "Another Wave from You",
           "M83",
           "m83"
          ],
          [
           "Claudia Lewis",
           "M83",
           "m83"
          ],
          [
           "Echoes of Mine",
           "M83",
           "m83"
          ],
          [
           "Fountains",
           "M83",
           "m83"
          ],
          [
           "Intro",
           "M83",
           "m83"
          ],
          [
           "Klaus I Love You",
           "M83",
           "m83"
          ],
          [
           "Midnight City",
           "M83",
           "m83"
          ],
          [
           "My Tears Are Becoming a Sea",
           "M83",
           "m83"
          ],
          [
           "New Map",
           "M83",
           "m83"
          ],
          [
           "Ok Pal",
           "M83",
           "m83"
          ],
          [
           "Outro",
           "M83",
           "m83"
          ],
          [
           "Raconte-moi une histoire",
           "M83",
           "m83"
          ],
          [
           "Reunion",
           "M83",
           "m83"
          ],
          [
           "Soon, My Friend",
           "M83",
           "m83"
          ],
          [
           "Splendor",
           "M83",
           "m83"
          ],
          [
           "Steve Mcqueen",
           "M83",
           "m83"
          ],
          [
           "This Bright Flash",
           "M83",
           "m83"
          ],
          [
           "Train to Pluton",
           "M83",
           "m83"
          ],
          [
           "Wait",
           "M83",
           "m83"
          ],
          [
           "When Will You Come Home",
           "M83",
           "m83"
          ],
          [
           "Where the Boats Go",
           "M83",
           "m83"
          ],
          [
           "Year One, One Ufo",
           "M83",
           "m83"
          ],
          [
           "Ashes of Our Fathers",
           "M83",
           "m83"
          ],
          [
           "Canyon Battle",
           "M83",
           "m83"
          ],
          [
           "Earth 2077",
           "M83",
           "m83"
          ],
          [
           "Fearful Odds",
           "M83",
           "m83"
          ],
          [
           "I'm Sending You Away",
           "M83",
           "m83"
          ],
          [
           "Jack's Dream",
           "M83",
           "m83"
          ],
          [
           "Losing Control",
           "M83",
           "m83"
          ],
          [
           "Odyssey Rescue",
           "M83",
           "m83"
          ],
          [
           "Radiation Zone",
           "M83",
           "m83"
          ],
          [
           "Raven Rock",
           "M83",
           "m83"
          ],
          [
           "StarWaves",
           "M83",
           "m83"
          ],
          [
           "Tech 49",
           "M83",
           "m83"
          ],
          [
           "Temples of Our Gods",
           "M83",
           "m83"
          ],
          [
           "Undimmed by Time, Unbound by Death",
           "M83",
           "m83"
          ],
          [
           "Waking Up",
           "M83",
           "m83"
          ],
          [
           "You Can't Save Her",
           "M83",
           "m83"
          ],
          [
           "Oblivion",
           "M83",
           "m83"
          ]
         ],
         "hovertemplate": "playlist=%{customdata[2]}<br>note_x=%{x}<br>note_y=%{y}<br>song_name=%{customdata[0]}<br>artist=%{customdata[1]}<extra></extra>",
         "legendgroup": "m83",
         "marker": {
          "color": "#ab63fa",
          "symbol": "circle"
         },
         "mode": "markers",
         "name": "m83",
         "orientation": "v",
         "showlegend": true,
         "x": [
          0.2620264815863585,
          -0.44188545235233817,
          -1.2637484560338728,
          0.6991594196066127,
          -0.4104998377198122,
          0.2250031680138929,
          3.2871780652152145,
          0.022687709970693692,
          -0.1694888775844535,
          0.42145397138232554,
          -2.6651629199444558,
          0.8727357724438538,
          -0.31126116913445406,
          -0.7787711295598987,
          -3.5141396568524454,
          -1.362676272261575,
          2.107117644202029,
          0.22500316801389292,
          0.5986498712545085,
          0.22500316801389275,
          1.1547639856066894,
          -0.20116615882520955,
          -0.27391878661228475,
          -0.21648223310610445,
          -0.34683251263466447,
          -0.47983094474033294,
          -0.9033475862613031,
          1.0716200971896883,
          -1.4385308972228,
          -0.19980856624175958,
          -0.27408006455471023,
          -1.917345773716743,
          -0.17756468262431707,
          -1.1959193804823574,
          0.22500316801389295,
          -1.7830658984315548,
          -0.1662150751716282,
          -0.4880666437703795,
          -0.5343359831151286
         ],
         "xaxis": "x",
         "y": [
          0.4289569671234702,
          0.01896893876039037,
          0.6570253834505548,
          0.5168069943766059,
          0.05998239581994637,
          0.054147643410563925,
          -0.43984698657176347,
          -1.3445849021736749,
          -0.09742909484580697,
          0.04119702783817634,
          -0.8177727032309049,
          -0.3264895950775103,
          0.04793594141688725,
          -0.1630482969229232,
          0.3664511449180103,
          -2.3281190685604485,
          -0.2843687057922332,
          0.05414764341056388,
          -0.1576596104573637,
          0.05414764341056396,
          -0.8604566610103824,
          -0.05864490888658623,
          -0.05822977984067256,
          -0.09708351143222343,
          -0.08983667026372938,
          -0.10215703935989558,
          -1.0516136007093395,
          2.624638850262599,
          -0.5229945119346512,
          -0.07140298867467636,
          -0.7655393980352417,
          1.037851072157835,
          -0.08299286194539238,
          -0.18166332942713276,
          0.05414764341056389,
          0.030703194564673884,
          -0.16697737839815244,
          -0.30474844850529886,
          -0.42806297064514737
         ],
         "yaxis": "y",
         "type": "scatter"
        },
        {
         "customdata": [
          [
           "A Moment Apart",
           "ODESZA",
           "odesza"
          ],
          [
           "Across The Room (feat. Leon Bridges)",
           "ODESZA",
           "odesza"
          ],
          [
           "Boy",
           "ODESZA",
           "odesza"
          ],
          [
           "Corners Of The Earth (feat. RY X)",
           "ODESZA",
           "odesza"
          ],
          [
           "Divide (feat. Kelsey Bulkin)",
           "ODESZA",
           "odesza"
          ],
          [
           "Everything At Your Feet (feat. The Chamanas)",
           "ODESZA",
           "odesza"
          ],
          [
           "Falls (feat. Sasha Alex Sloan)",
           "ODESZA",
           "odesza"
          ],
          [
           "Falls (Reprise) (feat. Sasha Alex Sloan)",
           "ODESZA",
           "odesza"
          ],
          [
           "Falls (Reprise) - Instrumental",
           "ODESZA",
           "odesza"
          ],
          [
           "Higher Ground (feat. Naomi Wild)",
           "ODESZA",
           "odesza"
          ],
          [
           "Higher Ground (Reprise) (feat. Naomi Wild)",
           "ODESZA",
           "odesza"
          ],
          [
           "Higher Ground (Reprise) - Instrumental",
           "ODESZA",
           "odesza"
          ],
          [
           "Intro",
           "ODESZA",
           "odesza"
          ],
          [
           "It’s Only (feat. Zyra) - ODESZA VIP Remix",
           "ODESZA",
           "odesza"
          ],
          [
           "Just A Memory (feat. Regina Spektor)",
           "ODESZA",
           "odesza"
          ],
          [
           "La Ciudad",
           "ODESZA",
           "odesza"
          ],
          [
           "Late Night",
           "ODESZA",
           "odesza"
          ],
          [
           "Line Of Sight (feat. WYNNE & Mansionair)",
           "ODESZA",
           "odesza"
          ],
          [
           "Line Of Sight (Reprise) (feat. WYNNE & Mansionair)",
           "ODESZA",
           "odesza"
          ],
          [
           "Line Of Sight (Reprise) - Instrumental",
           "ODESZA",
           "odesza"
          ],
          [
           "Loyal",
           "ODESZA",
           "odesza"
          ],
          [
           "Memories That You Call (feat. Monsoonsiren) - ODESZA & Golden Features VIP Remix",
           "ODESZA",
           "odesza"
          ],
          [
           "Meridian",
           "ODESZA",
           "odesza"
          ],
          [
           "Show Me",
           "ODESZA",
           "odesza"
          ],
          [
           "Thin Floors And Tall Ceilings",
           "ODESZA",
           "odesza"
          ]
         ],
         "hovertemplate": "playlist=%{customdata[2]}<br>note_x=%{x}<br>note_y=%{y}<br>song_name=%{customdata[0]}<br>artist=%{customdata[1]}<extra></extra>",
         "legendgroup": "odesza",
         "marker": {
          "color": "#FFA15A",
          "symbol": "circle"
         },
         "mode": "markers",
         "name": "odesza",
         "orientation": "v",
         "showlegend": true,
         "x": [
          0.1853649023688521,
          0.9970819868238363,
          -0.32805707487933744,
          -1.893998285530211,
          -2.785965199598991,
          -0.1772743247172591,
          -0.2132139933326432,
          -0.43942994136704305,
          -0.46045140156120506,
          -0.6548109626689107,
          1.6344210369425636,
          -1.1941360014665736,
          1.4413328682314046,
          -0.9956820414921579,
          2.307900820498761,
          -1.0037408184432104,
          -0.2737949177504841,
          1.0807961390566112,
          -0.19388173645737566,
          -0.17586022636626603,
          -0.05657398135876832,
          1.3347679758650652,
          -0.27891903315946925,
          0.22039603744113284,
          -0.504230324423194
         ],
         "xaxis": "x",
         "y": [
          0.40552190115760783,
          0.8487509873235163,
          -0.3273307177785471,
          0.1739827684692785,
          -0.5592778354930403,
          -0.10445100171036235,
          -0.13520425677861633,
          1.9381930669401983,
          -2.7798901968135845,
          0.691929441340866,
          -0.7795327327808568,
          -1.2307620507869224,
          1.6756255644435716,
          0.2197454449358497,
          -0.6178583076953952,
          0.088123705026923,
          -0.1189655445871336,
          1.3521604763884856,
          0.11029651281736726,
          0.07369036943273226,
          -0.33177758932954987,
          -0.11247999594264793,
          0.09365277620664572,
          0.4445995421120714,
          0.2937198099165016
         ],
         "yaxis": "y",
         "type": "scatter"
        },
        {
         "customdata": [
          [
           "April 10, 2019- Powehi - Image of a Black Hole",
           "Sleeping At Last",
           "sleeping-at-last"
          ],
          [
           "August 12, 2018- Perseid Meteor Shower",
           "Sleeping At Last",
           "sleeping-at-last"
          ],
          [
           "August 21, 2017- Total Solar Eclipse",
           "Sleeping At Last",
           "sleeping-at-last"
          ],
          [
           "December 13, 2017- Geminid Meteor Shower",
           "Sleeping At Last",
           "sleeping-at-last"
          ],
          [
           "December 17, 2018- Farout",
           "Sleeping At Last",
           "sleeping-at-last"
          ],
          [
           "December 21, 2020- The Great Conjunction",
           "Sleeping At Last",
           "sleeping-at-last"
          ],
          [
           "December 25, 2021- Webb Space Telescope - Launch",
           "Sleeping At Last",
           "sleeping-at-last"
          ],
          [
           "February 1, 2023- C2022 E3 - Comet Ztf",
           "Sleeping At Last",
           "sleeping-at-last"
          ],
          [
           "February 13, 2019- Opportunity - Mission Complete",
           "Sleeping At Last",
           "sleeping-at-last"
          ],
          [
           "February 18, 2021- Perseverance - Mars Landing",
           "Sleeping At Last",
           "sleeping-at-last"
          ],
          [
           "January 30, 2020- Spitzer - Final Voyage",
           "Sleeping At Last",
           "sleeping-at-last"
          ],
          [
           "January 31, 2018- Super Blue Blood Moon",
           "Sleeping At Last",
           "sleeping-at-last"
          ],
          [
           "July 22, 2020- C  2020 F3 - Comet Neowise",
           "Sleeping At Last",
           "sleeping-at-last"
          ],
          [
           "July 27, 2018- Total Lunar Eclipse",
           "Sleeping At Last",
           "sleeping-at-last"
          ],
          [
           "July 4, 2020- Aphelion",
           "Sleeping At Last",
           "sleeping-at-last"
          ],
          [
           "June 24, 2022- Parade of Planets",
           "Sleeping At Last",
           "sleeping-at-last"
          ],
          [
           "June 30, 2018- Pds 70b (Birth of a Planet)",
           "Sleeping At Last",
           "sleeping-at-last"
          ],
          [
           "October 30, 2018- Kepler - Goodnight",
           "Sleeping At Last",
           "sleeping-at-last"
          ],
          [
           "September 15, 2017- Cassini - The Grand Finale",
           "Sleeping At Last",
           "sleeping-at-last"
          ]
         ],
         "hovertemplate": "playlist=%{customdata[2]}<br>note_x=%{x}<br>note_y=%{y}<br>song_name=%{customdata[0]}<br>artist=%{customdata[1]}<extra></extra>",
         "legendgroup": "sleeping-at-last",
         "marker": {
          "color": "#19d3f3",
          "symbol": "circle"
         },
         "mode": "markers",
         "name": "sleeping-at-last",
         "orientation": "v",
         "showlegend": true,
         "x": [
          0.3003352964466268,
          0.4908706190616833,
          0.04211427156788802,
          0.08938878760304954,
          -2.3542843065786743,
          -1.4530154513804594,
          0.5473936993942223,
          -1.1509567022689406,
          -2.229288743238186,
          1.2395238115252,
          1.229460437249469,
          0.24034921702096518,
          2.9309305267225914,
          0.9532929019225475,
          0.44682068541638853,
          -2.207261792603086,
          0.42700269694552223,
          1.2187456309868623,
          0.14709412706960134
         ],
         "xaxis": "x",
         "y": [
          -0.856897457337958,
          1.2856424769869945,
          0.7296345719493396,
          -1.5046862640760563,
          1.25955169446551,
          -1.4244980184051417,
          -0.6650073940712348,
          2.3793801913415815,
          0.45798622020437424,
          3.035286422267135,
          -2.363011311449091,
          1.7961734389649162,
          1.0490370711958317,
          0.19162454907072363,
          -1.959956501771817,
          -0.5217857909999413,
          0.38416842617121705,
          -0.7493009677975803,
          -2.2696372885082297
         ],
         "yaxis": "y",
         "type": "scatter"
        },
        {
         "customdata": [
          [
           "It's Ok If You Forget Me",
           "Astrid S",
           "synth-pop"
          ],
          [
           "Young & Alive",
           "Bazzi",
           "synth-pop"
          ],
          [
           "Paralyze",
           "Bjørnskov",
           "synth-pop"
          ],
          [
           "San Diego",
           "BRDGS",
           "synth-pop"
          ],
          [
           "Ear Candy",
           "Caye",
           "synth-pop"
          ],
          [
           "12 Hours",
           "Chris James",
           "synth-pop"
          ],
          [
           "My Universe",
           "Coldplay",
           "synth-pop"
          ],
          [
           "Overdrive",
           "Conan Gray",
           "synth-pop"
          ],
          [
           "Titanic",
           "Cosmo's Midnight",
           "synth-pop"
          ],
          [
           "Champagne For Two",
           "Devin Kennedy",
           "synth-pop"
          ],
          [
           "Another Round",
           "Elina",
           "synth-pop"
          ],
          [
           "How",
           "Elina",
           "synth-pop"
          ],
          [
           "Paper Planes",
           "Elina",
           "synth-pop"
          ],
          [
           "Nirvana",
           "ELLIANA",
           "synth-pop"
          ],
          [
           "Lost In Space",
           "Emmit Fenn",
           "synth-pop"
          ],
          [
           "12-45 - Stripped",
           "Etham",
           "synth-pop"
          ],
          [
           "Purpose - Stripped",
           "Etham",
           "synth-pop"
          ],
          [
           "California",
           "Ethan Dufault",
           "synth-pop"
          ],
          [
           "Hurt The Ones We Love The Most",
           "Evan Blum",
           "synth-pop"
          ],
          [
           "Young Love",
           "Falcon",
           "synth-pop"
          ],
          [
           "I Should've Told You",
           "Fiji Blue",
           "synth-pop"
          ],
          [
           "Waves",
           "Fiji Blue",
           "synth-pop"
          ],
          [
           "Healing",
           "FLETCHER",
           "synth-pop"
          ],
          [
           "hold on",
           "flor",
           "synth-pop"
          ],
          [
           "Automatic (feat. Jake Miller)",
           "Fly By Midnight",
           "synth-pop"
          ],
          [
           "Lovely",
           "Fly By Midnight",
           "synth-pop"
          ],
          [
           "Lonely",
           "Gatsby",
           "synth-pop"
          ],
          [
           "dear me,",
           "Gentle Bones",
           "synth-pop"
          ],
          [
           "I Wouldn't Know Any Better Than You",
           "Gentle Bones",
           "synth-pop"
          ],
          [
           "So Far So Good",
           "Great Good Fine Ok",
           "synth-pop"
          ],
          [
           "Falling",
           "Harry Styles",
           "synth-pop"
          ],
          [
           "sometimes",
           "Heather Sommer",
           "synth-pop"
          ],
          [
           "you heard me",
           "Heather Sommer",
           "synth-pop"
          ],
          [
           "Crying Over You ◐",
           "HONNE",
           "synth-pop"
          ],
          [
           "Day Dreaming",
           "Jack & Jack",
           "synth-pop"
          ],
          [
           "Ross And Rachel",
           "Jake Miller",
           "synth-pop"
          ],
          [
           "Showing You Off",
           "Jake Miller",
           "synth-pop"
          ],
          [
           "Like No One Does",
           "Jake Scott",
           "synth-pop"
          ],
          [
           "CWJBHN",
           "Jake Scott",
           "synth-pop"
          ],
          [
           "drive all night",
           "joan",
           "synth-pop"
          ],
          [
           "i loved you first",
           "joan",
           "synth-pop"
          ],
          [
           "love somebody like you",
           "joan",
           "synth-pop"
          ],
          [
           "magnetic",
           "joan",
           "synth-pop"
          ],
          [
           "6 months",
           "John K",
           "synth-pop"
          ],
          [
           "ilym (feat. ROSIE)",
           "John K",
           "synth-pop"
          ],
          [
           "I Believe",
           "Jonas Brothers",
           "synth-pop"
          ],
          [
           "I Quit Drinking",
           "Kelsea Ballerini",
           "synth-pop"
          ],
          [
           "13",
           "LANY",
           "synth-pop"
          ],
          [
           "dancing in the kitchen",
           "LANY",
           "synth-pop"
          ],
          [
           "dna",
           "LANY",
           "synth-pop"
          ],
          [
           "get away",
           "LANY",
           "synth-pop"
          ],
          [
           "I Don't Wanna Love You Anymore",
           "LANY",
           "synth-pop"
          ],
          [
           "if this is the last time",
           "LANY",
           "synth-pop"
          ],
          [
           "ILYSB - STRIPPED",
           "LANY",
           "synth-pop"
          ],
          [
           "ILYSB",
           "LANY",
           "synth-pop"
          ],
          [
           "Let Me Know",
           "LANY",
           "synth-pop"
          ],
          [
           "Malibu Nights",
           "LANY",
           "synth-pop"
          ],
          [
           "Super Far",
           "LANY",
           "synth-pop"
          ],
          [
           "Thru These Tears",
           "LANY",
           "synth-pop"
          ],
          [
           "up to me",
           "LANY",
           "synth-pop"
          ],
          [
           "you!",
           "LANY",
           "synth-pop"
          ],
          [
           "Tattoos Together",
           "Lauv",
           "synth-pop"
          ],
          [
           "When We Were Younger",
           "Loving Caliber",
           "synth-pop"
          ],
          [
           "Love You Back",
           "Madeon",
           "synth-pop"
          ],
          [
           "colorblind",
           "Mokita",
           "synth-pop"
          ],
          [
           "London",
           "Mokita",
           "synth-pop"
          ],
          [
           "Ready Yet",
           "Mokita",
           "synth-pop"
          ],
          [
           "Shut Up I Love U",
           "Neptune",
           "synth-pop"
          ],
          [
           "This Is Heaven",
           "Nick Jonas",
           "synth-pop"
          ],
          [
           "Plot Twist",
           "NIKI",
           "synth-pop"
          ],
          [
           "Waves",
           "Paige",
           "synth-pop"
          ],
          [
           "Shelter",
           "Porter Robinson",
           "synth-pop"
          ],
          [
           "Outsider",
           "Rachel Grae",
           "synth-pop"
          ],
          [
           "Dandelions",
           "Ruth B.",
           "synth-pop"
          ],
          [
           "Lie",
           "Sasha Alex Sloan",
           "synth-pop"
          ],
          [
           "Day Dreaming",
           "Sopha",
           "synth-pop"
          ],
          [
           "I Always Wanna Die (Sometimes)",
           "The 1975",
           "synth-pop"
          ],
          [
           "I'm In Love With You",
           "The 1975",
           "synth-pop"
          ],
          [
           "It's Not Living (If It's Not With You)",
           "The 1975",
           "synth-pop"
          ],
          [
           "Robbers",
           "The 1975",
           "synth-pop"
          ],
          [
           "She's American",
           "The 1975",
           "synth-pop"
          ],
          [
           "Somebody Else",
           "The 1975",
           "synth-pop"
          ],
          [
           "Going Home",
           "The Aces",
           "synth-pop"
          ],
          [
           "Sunset",
           "The Midnight",
           "synth-pop"
          ],
          [
           "Say So",
           "The Sam Willows",
           "synth-pop"
          ],
          [
           "I Can't Stop Thinking About You",
           "The Shadowboxers",
           "synth-pop"
          ],
          [
           "Strawberries & Cigarettes",
           "Troye Sivan",
           "synth-pop"
          ],
          [
           "If Only for Tonight",
           "Vacation Manor",
           "synth-pop"
          ],
          [
           "rocket science",
           "vaultboy",
           "synth-pop"
          ],
          [
           "no excuses",
           "Virginia To Vegas",
           "synth-pop"
          ],
          [
           "Got A Little Crush On You",
           "Wildflowers",
           "synth-pop"
          ],
          [
           "Talking To Myself",
           "Will Jay",
           "synth-pop"
          ],
          [
           "Dance Like Nobody's Watching",
           "Yuna",
           "synth-pop"
          ],
          [
           "dancing in the kitchen",
           "Zachary Knowles",
           "synth-pop"
          ],
          [
           "stranger to me",
           "Zachary Knowles",
           "synth-pop"
          ],
          [
           "could you love me while i hate myself",
           "Zeph",
           "synth-pop"
          ]
         ],
         "hovertemplate": "playlist=%{customdata[2]}<br>note_x=%{x}<br>note_y=%{y}<br>song_name=%{customdata[0]}<br>artist=%{customdata[1]}<extra></extra>",
         "legendgroup": "synth-pop",
         "marker": {
          "color": "#FF6692",
          "symbol": "circle"
         },
         "mode": "markers",
         "name": "synth-pop",
         "orientation": "v",
         "showlegend": true,
         "x": [
          -0.9085190373917366,
          0.11092302408790948,
          -0.7299931208688382,
          -1.0897227953416502,
          -0.39569514574230313,
          0.7968928766600804,
          -0.6333880869862488,
          -0.5810771103570213,
          0.4587544415515485,
          0.09054761976218731,
          0.5890657854903835,
          2.9301294978918637,
          2.0819169883893203,
          0.4052115671689669,
          -0.12921159532442128,
          2.9541026505158543,
          -1.2012222198468332,
          2.767026700287116,
          1.2326626512489356,
          1.5948115939004675,
          2.0483310299632076,
          0.7189379584087089,
          -1.744319879115696,
          -0.6835884637593765,
          0.044824948064147704,
          -0.5013881904429384,
          2.391942492379577,
          -0.8390181255340569,
          1.5215498637619151,
          2.2903789938231247,
          -0.18422823771934288,
          2.8473597769612145,
          1.3293303634953,
          -0.29460218459235327,
          0.9245429469175709,
          -0.45427196411299864,
          0.8296494415439817,
          -2.4003342446001086,
          -1.5033092581376577,
          1.3385612126234896,
          -3.1064113798344395,
          -1.495156863361361,
          1.1937109141059685,
          -2.6416268182174325,
          -2.0776814122173177,
          -1.7254451862794116,
          2.255641167427389,
          1.2511199575891894,
          1.8198548474102298,
          -3.9780935305878136,
          1.319498366854579,
          -0.146916744113594,
          -0.14481170338439886,
          3.083476746366886,
          -0.39051134103383633,
          -0.1920126827614219,
          -0.811172275284796,
          -1.3639155995651586,
          -0.3869897640568768,
          0.342373766413268,
          -0.21657780753721229,
          -2.760822536695585,
          0.47980179773151577,
          0.41567715881700856,
          -2.126907504658776,
          -0.7557076855814447,
          -0.5231348997181396,
          -1.1030389940095529,
          -2.3259314980853176,
          1.8703704015750569,
          0.3375342999763508,
          -0.4168316207198802,
          -2.1547588499382795,
          1.9717272362069496,
          -0.22229290572421584,
          1.9073112942468124,
          -0.6439326228643547,
          -0.10295937880397722,
          -0.2181249247507014,
          -0.9446196248290343,
          -0.3885585233500978,
          -0.2273308185069912,
          -0.3499415808192274,
          0.3333524243757955,
          -1.7760108350238903,
          -0.5327062830755135,
          -0.5714698681811937,
          -2.088625893932867,
          -0.15923392385063645,
          -2.3301830195297524,
          -1.8572554650834543,
          -0.46527391653814054,
          -0.3318483600239783,
          -1.7457147304983243,
          0.35586295805802587,
          -2.7857928961521914
         ],
         "xaxis": "x",
         "y": [
          1.2356477024586228,
          0.635002269584857,
          -0.43005612455235026,
          1.2184124449951241,
          -0.14968525980760994,
          0.11463139286946429,
          1.1375469551437687,
          1.3045800259017457,
          -0.36561926397020134,
          -1.0302710147068543,
          -1.0918675142507162,
          0.6667297612508488,
          1.5271785021118214,
          0.2847797942428341,
          2.360186791934302,
          1.277916019199979,
          3.7273868327453687,
          -0.8646569426709969,
          -0.4146791893098982,
          -0.016534058942877013,
          0.6905481278376288,
          0.21390176229229832,
          2.2129522923375813,
          -1.1686042342981076,
          1.3561095140453265,
          0.2141266578541281,
          -0.1786971981232673,
          -0.587097101441669,
          -0.7722426437890818,
          -0.049704186954235424,
          1.1161272024104267,
          0.827339456414231,
          -1.9959073456016345,
          0.16893707444279002,
          -2.103402959935907,
          -0.811315180085478,
          -0.6038557559292248,
          3.405896893148173,
          0.46616465963414266,
          0.2981257235300676,
          -0.29627393721216544,
          0.803216534223321,
          -0.038436115642312495,
          0.9909161990459993,
          -1.2106649789693162,
          0.4174237602501748,
          0.6266547662422124,
          0.9292130871476734,
          -0.8234178589489438,
          1.5062804646759083,
          -0.42729114387045286,
          -0.26742856705356877,
          -1.3970266651256606,
          1.7888586333132412,
          -0.46302040301853287,
          -1.4153120677876752,
          -0.2677913707122688,
          0.2992964419484327,
          -0.38486133557178115,
          0.7148998820427778,
          -0.031177207164936247,
          1.8619744836789516,
          0.6855814523867318,
          -2.5246341413157207,
          -1.517372242032935,
          0.07073136171003172,
          3.4648647941564668,
          -0.10153867971995123,
          0.7923785736285681,
          1.3969030321680274,
          -3.460257427390739,
          0.2480069049151561,
          3.122150080252724,
          -1.2788389763490262,
          1.8246355447665554,
          0.49565091176286635,
          0.249329423560524,
          0.851155598520171,
          -0.3982522151823584,
          0.46649594834207586,
          1.514906366429972,
          -0.11785037836280055,
          -0.2957552342766138,
          -0.2712578898174744,
          1.210382498634623,
          -0.13485767876805704,
          0.00910952087670964,
          -0.41660264594238455,
          1.5118273352621336,
          -0.6956945905664907,
          -0.09473895195566602,
          1.4046331305018476,
          -1.0861307885305123,
          -0.41569131156219424,
          1.655278866520464,
          0.39678692335338156
         ],
         "yaxis": "y",
         "type": "scatter"
        },
        {
         "customdata": [
          [
           "Allure",
           "Tony Anderson",
           "tony-anderson"
          ],
          [
           "Aurora",
           "Tony Anderson",
           "tony-anderson"
          ],
          [
           "Chasm",
           "Tony Anderson",
           "tony-anderson"
          ],
          [
           "Darkest Night",
           "Tony Anderson",
           "tony-anderson"
          ],
          [
           "Deep Waters - Original Sketch",
           "Tony Anderson",
           "tony-anderson"
          ],
          [
           "Deep Waters",
           "Tony Anderson",
           "tony-anderson"
          ],
          [
           "Delusion",
           "Tony Anderson",
           "tony-anderson"
          ],
          [
           "Eyes Wide Open - Cinematic Mix",
           "Tony Anderson",
           "tony-anderson"
          ],
          [
           "Eyes Wide Open",
           "Tony Anderson",
           "tony-anderson"
          ],
          [
           "Face of the Father",
           "Tony Anderson",
           "tony-anderson"
          ],
          [
           "Farthest Seas",
           "Tony Anderson",
           "tony-anderson"
          ],
          [
           "Finding Your Heart",
           "Tony Anderson",
           "tony-anderson"
          ],
          [
           "Halo",
           "Tony Anderson",
           "tony-anderson"
          ],
          [
           "High Tide",
           "Tony Anderson",
           "tony-anderson"
          ],
          [
           "Immanuel",
           "Tony Anderson",
           "tony-anderson"
          ],
          [
           "Immersion",
           "Tony Anderson",
           "tony-anderson"
          ],
          [
           "In the Distance",
           "Tony Anderson",
           "tony-anderson"
          ],
          [
           "Incision",
           "Tony Anderson",
           "tony-anderson"
          ],
          [
           "Like a Child - Cinematic Mix",
           "Tony Anderson",
           "tony-anderson"
          ],
          [
           "Low Tide",
           "Tony Anderson",
           "tony-anderson"
          ],
          [
           "Lune",
           "Tony Anderson",
           "tony-anderson"
          ],
          [
           "Morning's Wings",
           "Tony Anderson",
           "tony-anderson"
          ],
          [
           "Nightingale",
           "Tony Anderson",
           "tony-anderson"
          ],
          [
           "No Place on Earth",
           "Tony Anderson",
           "tony-anderson"
          ],
          [
           "Nocturne in Paris",
           "Tony Anderson",
           "tony-anderson"
          ],
          [
           "Perennial",
           "Tony Anderson",
           "tony-anderson"
          ],
          [
           "Resurrect",
           "Tony Anderson",
           "tony-anderson"
          ],
          [
           "Retour",
           "Tony Anderson",
           "tony-anderson"
          ],
          [
           "Shalom",
           "Tony Anderson",
           "tony-anderson"
          ],
          [
           "Slipstream",
           "Tony Anderson",
           "tony-anderson"
          ],
          [
           "Something Can Grow",
           "Tony Anderson",
           "tony-anderson"
          ],
          [
           "Spiriteaux",
           "Tony Anderson",
           "tony-anderson"
          ],
          [
           "The King",
           "Tony Anderson",
           "tony-anderson"
          ],
          [
           "The Way Home",
           "Tony Anderson",
           "tony-anderson"
          ],
          [
           "Thin Place - Abbreviated",
           "Tony Anderson",
           "tony-anderson"
          ],
          [
           "Thin Place",
           "Tony Anderson",
           "tony-anderson"
          ],
          [
           "We Are One",
           "Tony Anderson",
           "tony-anderson"
          ],
          [
           "Wir Sind Gleich",
           "Tony Anderson",
           "tony-anderson"
          ],
          [
           "Younger",
           "Tony Anderson",
           "tony-anderson"
          ],
          [
           "Éclosion",
           "Tony Anderson",
           "tony-anderson"
          ],
          [
           "Éphémère",
           "Tony Anderson",
           "tony-anderson"
          ],
          [
           "Arpège",
           "Tony Anderson",
           "tony-anderson"
          ],
          [
           "Nuit",
           "Tony Anderson",
           "tony-anderson"
          ],
          [
           "Tenderness - Woven Remix",
           "Tony Anderson",
           "tony-anderson"
          ],
          [
           "Tenderness",
           "Tony Anderson",
           "tony-anderson"
          ],
          [
           "Cambodia - Ross Lara Remix",
           "Tony Anderson",
           "tony-anderson"
          ],
          [
           "Cambodia",
           "Tony Anderson",
           "tony-anderson"
          ],
          [
           "Oyarsa",
           "Tony Anderson",
           "tony-anderson"
          ]
         ],
         "hovertemplate": "playlist=%{customdata[2]}<br>note_x=%{x}<br>note_y=%{y}<br>song_name=%{customdata[0]}<br>artist=%{customdata[1]}<extra></extra>",
         "legendgroup": "tony-anderson",
         "marker": {
          "color": "#B6E880",
          "symbol": "circle"
         },
         "mode": "markers",
         "name": "tony-anderson",
         "orientation": "v",
         "showlegend": true,
         "x": [
          0.875505868244507,
          -1.0226505212402346,
          0.05461939684703729,
          -0.13792899970778413,
          -0.4224920238488778,
          0.9006983607578073,
          0.2250031680138928,
          1.7028712914817907,
          2.814421334516836,
          -0.6035916337062085,
          -4.831119167238366,
          -0.6004585814802522,
          -2.2583266910807533,
          -0.06981694065731452,
          0.7696040565227611,
          0.2173173877536611,
          0.46980655778655156,
          -1.2428752132766157,
          1.0618477727270201,
          -2.072060683301301,
          0.7384130427897768,
          -0.4092744580243765,
          2.3174875537904813,
          -0.7097275553324839,
          0.40456890385113276,
          1.029510359501617,
          -0.33678369400536723,
          1.8140178673859546,
          -1.4415663251596016,
          0.6303248842607143,
          0.7194350101182887,
          1.913621584376422,
          1.6603774392740984,
          -0.17030992146109014,
          1.5224918172636654,
          2.7177147564785837,
          0.6319469703778653,
          -1.9985854667768541,
          -0.39823784156295755,
          0.6559044513173563,
          0.006336329217987541,
          2.613195188738647,
          0.6665988703637877,
          -0.20878349140026395,
          0.4669506490795438,
          -0.24801361329203422,
          -1.4674389162604846,
          1.1260201992655323
         ],
         "xaxis": "x",
         "y": [
          -0.1895760095015944,
          -0.4613812765433285,
          1.2479426499587556,
          -0.15117743892102078,
          -2.3825809864752654,
          -1.605161583648427,
          0.05414764341056396,
          2.3695780369136443,
          -1.1204064338357111,
          -0.6287683731221458,
          -3.4823397370813356,
          -0.916472377458465,
          1.3555014408180135,
          1.6911933596694582,
          1.1966957626414254,
          -2.60562328594933,
          0.5241512566971648,
          -1.05801903244208,
          -0.01578920529922733,
          -1.7281546210934433,
          -2.357068188976349,
          -0.0864092578480617,
          0.6095637917769573,
          -3.0181021410551256,
          -0.7925968979599608,
          -2.5974723318331905,
          -0.6639014383530786,
          -1.2819443863058442,
          1.584893675192479,
          1.0324835011376383,
          -0.3684841418716994,
          -0.5653170913826064,
          0.08687462179678325,
          -0.5544827340583836,
          -1.111205898249994,
          -0.5174224912682829,
          1.184696548270536,
          1.3316565282345183,
          -2.8790172798125018,
          -1.3467780777152103,
          -1.769318891366404,
          2.155214733696091,
          1.6313670116887657,
          -0.2460615921931395,
          -1.327135140793556,
          -0.08999556377602443,
          -0.8367027874206056,
          0.2348739288991019
         ],
         "yaxis": "y",
         "type": "scatter"
        }
       ],
       "layout": {
        "template": {
         "data": {
          "histogram2dcontour": [
           {
            "type": "histogram2dcontour",
            "colorbar": {
             "outlinewidth": 0,
             "ticks": ""
            },
            "colorscale": [
             [
              0.0,
              "#0d0887"
             ],
             [
              0.1111111111111111,
              "#46039f"
             ],
             [
              0.2222222222222222,
              "#7201a8"
             ],
             [
              0.3333333333333333,
              "#9c179e"
             ],
             [
              0.4444444444444444,
              "#bd3786"
             ],
             [
              0.5555555555555556,
              "#d8576b"
             ],
             [
              0.6666666666666666,
              "#ed7953"
             ],
             [
              0.7777777777777778,
              "#fb9f3a"
             ],
             [
              0.8888888888888888,
              "#fdca26"
             ],
             [
              1.0,
              "#f0f921"
             ]
            ]
           }
          ],
          "choropleth": [
           {
            "type": "choropleth",
            "colorbar": {
             "outlinewidth": 0,
             "ticks": ""
            }
           }
          ],
          "histogram2d": [
           {
            "type": "histogram2d",
            "colorbar": {
             "outlinewidth": 0,
             "ticks": ""
            },
            "colorscale": [
             [
              0.0,
              "#0d0887"
             ],
             [
              0.1111111111111111,
              "#46039f"
             ],
             [
              0.2222222222222222,
              "#7201a8"
             ],
             [
              0.3333333333333333,
              "#9c179e"
             ],
             [
              0.4444444444444444,
              "#bd3786"
             ],
             [
              0.5555555555555556,
              "#d8576b"
             ],
             [
              0.6666666666666666,
              "#ed7953"
             ],
             [
              0.7777777777777778,
              "#fb9f3a"
             ],
             [
              0.8888888888888888,
              "#fdca26"
             ],
             [
              1.0,
              "#f0f921"
             ]
            ]
           }
          ],
          "heatmap": [
           {
            "type": "heatmap",
            "colorbar": {
             "outlinewidth": 0,
             "ticks": ""
            },
            "colorscale": [
             [
              0.0,
              "#0d0887"
             ],
             [
              0.1111111111111111,
              "#46039f"
             ],
             [
              0.2222222222222222,
              "#7201a8"
             ],
             [
              0.3333333333333333,
              "#9c179e"
             ],
             [
              0.4444444444444444,
              "#bd3786"
             ],
             [
              0.5555555555555556,
              "#d8576b"
             ],
             [
              0.6666666666666666,
              "#ed7953"
             ],
             [
              0.7777777777777778,
              "#fb9f3a"
             ],
             [
              0.8888888888888888,
              "#fdca26"
             ],
             [
              1.0,
              "#f0f921"
             ]
            ]
           }
          ],
          "heatmapgl": [
           {
            "type": "heatmapgl",
            "colorbar": {
             "outlinewidth": 0,
             "ticks": ""
            },
            "colorscale": [
             [
              0.0,
              "#0d0887"
             ],
             [
              0.1111111111111111,
              "#46039f"
             ],
             [
              0.2222222222222222,
              "#7201a8"
             ],
             [
              0.3333333333333333,
              "#9c179e"
             ],
             [
              0.4444444444444444,
              "#bd3786"
             ],
             [
              0.5555555555555556,
              "#d8576b"
             ],
             [
              0.6666666666666666,
              "#ed7953"
             ],
             [
              0.7777777777777778,
              "#fb9f3a"
             ],
             [
              0.8888888888888888,
              "#fdca26"
             ],
             [
              1.0,
              "#f0f921"
             ]
            ]
           }
          ],
          "contourcarpet": [
           {
            "type": "contourcarpet",
            "colorbar": {
             "outlinewidth": 0,
             "ticks": ""
            }
           }
          ],
          "contour": [
           {
            "type": "contour",
            "colorbar": {
             "outlinewidth": 0,
             "ticks": ""
            },
            "colorscale": [
             [
              0.0,
              "#0d0887"
             ],
             [
              0.1111111111111111,
              "#46039f"
             ],
             [
              0.2222222222222222,
              "#7201a8"
             ],
             [
              0.3333333333333333,
              "#9c179e"
             ],
             [
              0.4444444444444444,
              "#bd3786"
             ],
             [
              0.5555555555555556,
              "#d8576b"
             ],
             [
              0.6666666666666666,
              "#ed7953"
             ],
             [
              0.7777777777777778,
              "#fb9f3a"
             ],
             [
              0.8888888888888888,
              "#fdca26"
             ],
             [
              1.0,
              "#f0f921"
             ]
            ]
           }
          ],
          "surface": [
           {
            "type": "surface",
            "colorbar": {
             "outlinewidth": 0,
             "ticks": ""
            },
            "colorscale": [
             [
              0.0,
              "#0d0887"
             ],
             [
              0.1111111111111111,
              "#46039f"
             ],
             [
              0.2222222222222222,
              "#7201a8"
             ],
             [
              0.3333333333333333,
              "#9c179e"
             ],
             [
              0.4444444444444444,
              "#bd3786"
             ],
             [
              0.5555555555555556,
              "#d8576b"
             ],
             [
              0.6666666666666666,
              "#ed7953"
             ],
             [
              0.7777777777777778,
              "#fb9f3a"
             ],
             [
              0.8888888888888888,
              "#fdca26"
             ],
             [
              1.0,
              "#f0f921"
             ]
            ]
           }
          ],
          "mesh3d": [
           {
            "type": "mesh3d",
            "colorbar": {
             "outlinewidth": 0,
             "ticks": ""
            }
           }
          ],
          "scatter": [
           {
            "marker": {
             "line": {
              "color": "#283442"
             }
            },
            "type": "scatter"
           }
          ],
          "parcoords": [
           {
            "type": "parcoords",
            "line": {
             "colorbar": {
              "outlinewidth": 0,
              "ticks": ""
             }
            }
           }
          ],
          "scatterpolargl": [
           {
            "type": "scatterpolargl",
            "marker": {
             "colorbar": {
              "outlinewidth": 0,
              "ticks": ""
             }
            }
           }
          ],
          "bar": [
           {
            "error_x": {
             "color": "#f2f5fa"
            },
            "error_y": {
             "color": "#f2f5fa"
            },
            "marker": {
             "line": {
              "color": "rgb(17,17,17)",
              "width": 0.5
             },
             "pattern": {
              "fillmode": "overlay",
              "size": 10,
              "solidity": 0.2
             }
            },
            "type": "bar"
           }
          ],
          "scattergeo": [
           {
            "type": "scattergeo",
            "marker": {
             "colorbar": {
              "outlinewidth": 0,
              "ticks": ""
             }
            }
           }
          ],
          "scatterpolar": [
           {
            "type": "scatterpolar",
            "marker": {
             "colorbar": {
              "outlinewidth": 0,
              "ticks": ""
             }
            }
           }
          ],
          "histogram": [
           {
            "marker": {
             "pattern": {
              "fillmode": "overlay",
              "size": 10,
              "solidity": 0.2
             }
            },
            "type": "histogram"
           }
          ],
          "scattergl": [
           {
            "marker": {
             "line": {
              "color": "#283442"
             }
            },
            "type": "scattergl"
           }
          ],
          "scatter3d": [
           {
            "type": "scatter3d",
            "line": {
             "colorbar": {
              "outlinewidth": 0,
              "ticks": ""
             }
            },
            "marker": {
             "colorbar": {
              "outlinewidth": 0,
              "ticks": ""
             }
            }
           }
          ],
          "scattermapbox": [
           {
            "type": "scattermapbox",
            "marker": {
             "colorbar": {
              "outlinewidth": 0,
              "ticks": ""
             }
            }
           }
          ],
          "scatterternary": [
           {
            "type": "scatterternary",
            "marker": {
             "colorbar": {
              "outlinewidth": 0,
              "ticks": ""
             }
            }
           }
          ],
          "scattercarpet": [
           {
            "type": "scattercarpet",
            "marker": {
             "colorbar": {
              "outlinewidth": 0,
              "ticks": ""
             }
            }
           }
          ],
          "carpet": [
           {
            "aaxis": {
             "endlinecolor": "#A2B1C6",
             "gridcolor": "#506784",
             "linecolor": "#506784",
             "minorgridcolor": "#506784",
             "startlinecolor": "#A2B1C6"
            },
            "baxis": {
             "endlinecolor": "#A2B1C6",
             "gridcolor": "#506784",
             "linecolor": "#506784",
             "minorgridcolor": "#506784",
             "startlinecolor": "#A2B1C6"
            },
            "type": "carpet"
           }
          ],
          "table": [
           {
            "cells": {
             "fill": {
              "color": "#506784"
             },
             "line": {
              "color": "rgb(17,17,17)"
             }
            },
            "header": {
             "fill": {
              "color": "#2a3f5f"
             },
             "line": {
              "color": "rgb(17,17,17)"
             }
            },
            "type": "table"
           }
          ],
          "barpolar": [
           {
            "marker": {
             "line": {
              "color": "rgb(17,17,17)",
              "width": 0.5
             },
             "pattern": {
              "fillmode": "overlay",
              "size": 10,
              "solidity": 0.2
             }
            },
            "type": "barpolar"
           }
          ],
          "pie": [
           {
            "automargin": true,
            "type": "pie"
           }
          ]
         },
         "layout": {
          "autotypenumbers": "strict",
          "colorway": [
           "#636efa",
           "#EF553B",
           "#00cc96",
           "#ab63fa",
           "#FFA15A",
           "#19d3f3",
           "#FF6692",
           "#B6E880",
           "#FF97FF",
           "#FECB52"
          ],
          "font": {
           "color": "#f2f5fa"
          },
          "hovermode": "closest",
          "hoverlabel": {
           "align": "left"
          },
          "paper_bgcolor": "rgb(17,17,17)",
          "plot_bgcolor": "rgb(17,17,17)",
          "polar": {
           "bgcolor": "rgb(17,17,17)",
           "angularaxis": {
            "gridcolor": "#506784",
            "linecolor": "#506784",
            "ticks": ""
           },
           "radialaxis": {
            "gridcolor": "#506784",
            "linecolor": "#506784",
            "ticks": ""
           }
          },
          "ternary": {
           "bgcolor": "rgb(17,17,17)",
           "aaxis": {
            "gridcolor": "#506784",
            "linecolor": "#506784",
            "ticks": ""
           },
           "baxis": {
            "gridcolor": "#506784",
            "linecolor": "#506784",
            "ticks": ""
           },
           "caxis": {
            "gridcolor": "#506784",
            "linecolor": "#506784",
            "ticks": ""
           }
          },
          "coloraxis": {
           "colorbar": {
            "outlinewidth": 0,
            "ticks": ""
           }
          },
          "colorscale": {
           "sequential": [
            [
             0.0,
             "#0d0887"
            ],
            [
             0.1111111111111111,
             "#46039f"
            ],
            [
             0.2222222222222222,
             "#7201a8"
            ],
            [
             0.3333333333333333,
             "#9c179e"
            ],
            [
             0.4444444444444444,
             "#bd3786"
            ],
            [
             0.5555555555555556,
             "#d8576b"
            ],
            [
             0.6666666666666666,
             "#ed7953"
            ],
            [
             0.7777777777777778,
             "#fb9f3a"
            ],
            [
             0.8888888888888888,
             "#fdca26"
            ],
            [
             1.0,
             "#f0f921"
            ]
           ],
           "sequentialminus": [
            [
             0.0,
             "#0d0887"
            ],
            [
             0.1111111111111111,
             "#46039f"
            ],
            [
             0.2222222222222222,
             "#7201a8"
            ],
            [
             0.3333333333333333,
             "#9c179e"
            ],
            [
             0.4444444444444444,
             "#bd3786"
            ],
            [
             0.5555555555555556,
             "#d8576b"
            ],
            [
             0.6666666666666666,
             "#ed7953"
            ],
            [
             0.7777777777777778,
             "#fb9f3a"
            ],
            [
             0.8888888888888888,
             "#fdca26"
            ],
            [
             1.0,
             "#f0f921"
            ]
           ],
           "diverging": [
            [
             0,
             "#8e0152"
            ],
            [
             0.1,
             "#c51b7d"
            ],
            [
             0.2,
             "#de77ae"
            ],
            [
             0.3,
             "#f1b6da"
            ],
            [
             0.4,
             "#fde0ef"
            ],
            [
             0.5,
             "#f7f7f7"
            ],
            [
             0.6,
             "#e6f5d0"
            ],
            [
             0.7,
             "#b8e186"
            ],
            [
             0.8,
             "#7fbc41"
            ],
            [
             0.9,
             "#4d9221"
            ],
            [
             1,
             "#276419"
            ]
           ]
          },
          "xaxis": {
           "gridcolor": "#283442",
           "linecolor": "#506784",
           "ticks": "",
           "title": {
            "standoff": 15
           },
           "zerolinecolor": "#283442",
           "automargin": true,
           "zerolinewidth": 2
          },
          "yaxis": {
           "gridcolor": "#283442",
           "linecolor": "#506784",
           "ticks": "",
           "title": {
            "standoff": 15
           },
           "zerolinecolor": "#283442",
           "automargin": true,
           "zerolinewidth": 2
          },
          "scene": {
           "xaxis": {
            "backgroundcolor": "rgb(17,17,17)",
            "gridcolor": "#506784",
            "linecolor": "#506784",
            "showbackground": true,
            "ticks": "",
            "zerolinecolor": "#C8D4E3",
            "gridwidth": 2
           },
           "yaxis": {
            "backgroundcolor": "rgb(17,17,17)",
            "gridcolor": "#506784",
            "linecolor": "#506784",
            "showbackground": true,
            "ticks": "",
            "zerolinecolor": "#C8D4E3",
            "gridwidth": 2
           },
           "zaxis": {
            "backgroundcolor": "rgb(17,17,17)",
            "gridcolor": "#506784",
            "linecolor": "#506784",
            "showbackground": true,
            "ticks": "",
            "zerolinecolor": "#C8D4E3",
            "gridwidth": 2
           }
          },
          "shapedefaults": {
           "line": {
            "color": "#f2f5fa"
           }
          },
          "annotationdefaults": {
           "arrowcolor": "#f2f5fa",
           "arrowhead": 0,
           "arrowwidth": 1
          },
          "geo": {
           "bgcolor": "rgb(17,17,17)",
           "landcolor": "rgb(17,17,17)",
           "subunitcolor": "#506784",
           "showland": true,
           "showlakes": true,
           "lakecolor": "rgb(17,17,17)"
          },
          "title": {
           "x": 0.05
          },
          "updatemenudefaults": {
           "bgcolor": "#506784",
           "borderwidth": 0
          },
          "sliderdefaults": {
           "bgcolor": "#C8D4E3",
           "borderwidth": 1,
           "bordercolor": "rgb(17,17,17)",
           "tickwidth": 0
          },
          "mapbox": {
           "style": "dark"
          }
         }
        },
        "xaxis": {
         "anchor": "y",
         "domain": [
          0.0,
          1.0
         ],
         "title": {
          "text": "note_x"
         }
        },
        "yaxis": {
         "anchor": "x",
         "domain": [
          0.0,
          1.0
         ],
         "title": {
          "text": "note_y"
         }
        },
        "legend": {
         "title": {
          "text": "playlist"
         },
         "tracegroupgap": 0
        },
        "margin": {
         "t": 60
        }
       },
       "config": {
        "plotlyServerURL": "https://plotly.com"
       }
      },
      "text/html": "<div>                            <div id=\"f5ed6ecb-3d05-4666-91c9-4f2d2f295a3b\" class=\"plotly-graph-div\" style=\"height:525px; width:100%;\"></div>            <script type=\"text/javascript\">                require([\"plotly\"], function(Plotly) {                    window.PLOTLYENV=window.PLOTLYENV || {};                                    if (document.getElementById(\"f5ed6ecb-3d05-4666-91c9-4f2d2f295a3b\")) {                    Plotly.newPlot(                        \"f5ed6ecb-3d05-4666-91c9-4f2d2f295a3b\",                        [{\"customdata\":[[\"Ivan Sings\",\"Aram Khachaturian\",\"kino\"],[\"Pr\\u00e9lude in E Minor, Op. 28, No. 4\",\"Fr\\u00e9d\\u00e9ric Chopin\",\"kino\"],[\"Above the Trees\",\"Kino\",\"kino\"],[\"All\",\"Kino\",\"kino\"],[\"Anew\",\"Kino\",\"kino\"],[\"As a Cloud\",\"Kino\",\"kino\"],[\"Away\",\"Kino\",\"kino\"],[\"Bloom\",\"Kino\",\"kino\"],[\"Charleston\",\"Kino\",\"kino\"],[\"Donau\",\"Kino\",\"kino\"],[\"Each and Every (Ambient Mix)\",\"Kino\",\"kino\"],[\"Each and Every (Piano)\",\"Kino\",\"kino\"],[\"Each and Every\",\"Kino\",\"kino\"],[\"Erl\\u00f6st  Redeemed\",\"Kino\",\"kino\"],[\"Gathering\",\"Kino\",\"kino\"],[\"God Bless Us, Every One\",\"Kino\",\"kino\"],[\"Hearth\",\"Kino\",\"kino\"],[\"H\\u0113o\",\"Kino\",\"kino\"],[\"In Earnest\",\"Kino\",\"kino\"],[\"Leinwand (Piano)\",\"Kino\",\"kino\"],[\"Leinwand\",\"Kino\",\"kino\"],[\"Lightly Tread\",\"Kino\",\"kino\"],[\"Lone\",\"Kino\",\"kino\"],[\"Many Colors\",\"Kino\",\"kino\"],[\"Merrily, Merrily\",\"Kino\",\"kino\"],[\"O Tannenbaum\",\"Kino\",\"kino\"],[\"Presidio\",\"Kino\",\"kino\"],[\"Rambuteau\",\"Kino\",\"kino\"],[\"Seafarer's Quartet\",\"Kino\",\"kino\"],[\"Seems\",\"Kino\",\"kino\"],[\"Silent Night\",\"Kino\",\"kino\"],[\"Silver Lake\",\"Kino\",\"kino\"],[\"St John's\",\"Kino\",\"kino\"],[\"Sunshine - Original\",\"Kino\",\"kino\"],[\"Swell\",\"Kino\",\"kino\"],[\"The Holly and the Ivy\",\"Kino\",\"kino\"],[\"The Weight Unbearable (Piano)\",\"Kino\",\"kino\"],[\"The Weight Unbearable\",\"Kino\",\"kino\"],[\"Till\",\"Kino\",\"kino\"],[\"Trio in E-flat Minor\",\"Kino\",\"kino\"],[\"Under\",\"Kino\",\"kino\"],[\"Water Lilies\",\"Kino\",\"kino\"],[\"Wide Awake\",\"Kino\",\"kino\"],[\"Willeth\",\"Kino\",\"kino\"],[\"Wolden\",\"Kino\",\"kino\"],[\"Yule\",\"Kino\",\"kino\"],[\"Piano Sonata No. 14 in C-Sharp Minor, Op. 27 No. 2 \\u201cMoonlight\\u201d- I. Adagio sostenuto\",\"Ludwig van Beethoven\",\"kino\"]],\"hovertemplate\":\"playlist=%{customdata[2]}<br>note_x=%{x}<br>note_y=%{y}<br>song_name=%{customdata[0]}<br>artist=%{customdata[1]}<extra></extra>\",\"legendgroup\":\"kino\",\"marker\":{\"color\":\"#636efa\",\"symbol\":\"circle\"},\"mode\":\"markers\",\"name\":\"kino\",\"orientation\":\"v\",\"showlegend\":true,\"x\":[-2.734850187315789,0.6454069953125551,0.6400592671026222,2.6802699480751477,-3.557114011442789,1.0241156934375364,0.9070598608940187,1.3523821979464548,0.24596659993989908,-0.7251872514639663,1.3927585452971993,1.4009143405439373,0.8684283827852699,-0.2564805558331365,-0.23335466422762557,-0.9674302546993504,0.42347232628042725,1.305895025147373,-0.721904591950146,1.105792528427904,1.780871517671619,1.568661889733129,1.2309650000177719,-0.9914762821368832,0.6964361820792505,1.1845003605121798,2.8253500867817474,0.671867459060432,-1.3669527123021812,0.6115717314386669,1.5643640921807955,-0.12434426537232673,0.8455670620262823,-0.8878214358776126,0.4140524305890629,0.6417248193102594,2.022541189697452,1.9082237040232972,2.1784170166164296,0.7166683454748496,0.3134226641118305,1.745002773319913,0.6258609564846584,0.5984620763660446,0.565023635871527,2.0821572263508523,2.687672996545726],\"xaxis\":\"x\",\"y\":[-2.391100491258349,-2.584326754826134,2.990306247732163,-2.280966476000092,-0.1486994667482186,0.4552618743307837,-0.011630240186053308,1.9019484168403937,2.535186424030359,-1.222225949669697,1.543239935159658,1.384096980088736,0.5198393995518469,-0.04622442465616779,-0.2167106785881072,-2.625453072517384,1.3792310303529383,-1.1041658205392137,1.5431370684187105,-1.5631741894562659,-0.17205565166086614,0.5900758867347449,-1.171155629692874,0.7252752467872925,0.7108229299285028,-1.5031701269271212,0.3293456321051756,1.9507978365359067,-2.3083826283388778,-0.9361295404460204,-2.371197663719971,1.4512557428609802,1.037113832372305,1.479800256091357,-2.145312886205718,2.584640166483479,0.14947967327959374,0.7562945908442948,-0.8839047093360136,-1.6475086521077569,-1.3831897231600585,1.3702325925359689,0.831910651541919,-0.31797948352225186,0.05624910112458764,2.341891258456068,2.003658731331323],\"yaxis\":\"y\",\"type\":\"scatter\"},{\"customdata\":[[\"But it's Destiny\",\"10cm\",\"korean-ost\"],[\"\\ub098\\uc758 \\uc5b4\\uae68\\uc5d0 \\uae30\\ub300\\uc5b4\\uc694\",\"10cm\",\"korean-ost\"],[\"Is You\",\"AILEE\",\"korean-ost\"],[\"How can I love the heartbreak, you're the one I love\",\"AKMU\",\"korean-ost\"],[\"How can I love the heartbreak, you`re the one I love\",\"AKMU\",\"korean-ost\"],[\"Amusement Park\",\"BAEKHYUN\",\"korean-ost\"],[\"\\ub108\\ub97c \\uc0ac\\ub791\\ud558\\uace0 \\uc788\\uc5b4\",\"BAEKHYUN\",\"korean-ost\"],[\"Beautiful goodbye\",\"CHEN\",\"korean-ost\"],[\"Flower\",\"CHEN\",\"korean-ost\"],[\"I'll be there\",\"CHEN\",\"korean-ost\"],[\"My dear\",\"CHEN\",\"korean-ost\"],[\"Sorry not sorry\",\"CHEN\",\"korean-ost\"],[\"Everytime\",\"CHEN\",\"korean-ost\"],[\"Wish\",\"Choi Yuree\",\"korean-ost\"],[\"Beautiful\",\"Crush\",\"korean-ost\"],[\"Let Us Go\",\"Crush\",\"korean-ost\"],[\"No Words\",\"Crush\",\"korean-ost\"],[\"My Love\",\"DAVICHI\",\"korean-ost\"],[\"Please Don't Cry\",\"DAVICHI\",\"korean-ost\"],[\"Sunset\",\"DAVICHI\",\"korean-ost\"],[\"\\ub178\\ub825\\ud574\\ubcfc\\uac8c\\uc694 I'll try\",\"DAY6\",\"korean-ost\"],[\"I'm In Love With You\",\"Dvwn\",\"korean-ost\"],[\"No Problem\",\"Dvwn\",\"korean-ost\"],[\"\\uae34 \\ubc24\\uc774 \\uc624\\uba74\",\"Eddy Kim\",\"korean-ost\"],[\"Rain or Shine\",\"Elaine\",\"korean-ost\"],[\"Hate Everything - Korean Version\",\"GSoul\",\"korean-ost\"],[\"\\uae30\\uc5b5\\ud574\\uc918\\uc694 \\ub0b4 \\ubaa8\\ub4e0 \\ub0a0\\uacfc \\uadf8\\ub54c\\ub97c\",\"Gummy\",\"korean-ost\"],[\"Slowly Fall\",\"Ha Hyun Sang\",\"korean-ost\"],[\"\\ub0b4 \\ub9d8\\uc744 \\ubcfc \\uc218 \\uc788\\ub098\\uc694\",\"HEIZE\",\"korean-ost\"],[\"Deeply\",\"HEN\",\"korean-ost\"],[\"To You\",\"HEN\",\"korean-ost\"],[\"It's You\",\"HENRY\",\"korean-ost\"],[\"Untitled Love Song\",\"HENRY\",\"korean-ost\"],[\"Ending Scene\",\"IU\",\"korean-ost\"],[\"Give You My Heart\",\"IU\",\"korean-ost\"],[\"Love poem\",\"IU\",\"korean-ost\"],[\"My sea\",\"IU\",\"korean-ost\"],[\"Holiday\",\"JeHwi\",\"korean-ost\"],[\"Stardust love song\",\"JIHYO\",\"korean-ost\"],[\"What Lies Ahead\",\"Joe Layne\",\"korean-ost\"],[\"Times Like This\",\"Josh Daniel\",\"korean-ost\"],[\"Do you want to walk with me (Romance 101 X Jukjae)\",\"Jukjae\",\"korean-ost\"],[\"The Days Like Pictures\",\"Jukjae\",\"korean-ost\"],[\"\\ub098\\ub97c \\ucc3e\\uc544\\uc11c\",\"Jukjae\",\"korean-ost\"],[\"\\ubcc4 \\ubcf4\\ub7ec \\uac00\\uc790\",\"Jukjae\",\"korean-ost\"],[\"Day & Night\",\"Jung Seung Hwan\",\"korean-ost\"],[\"Because I Miss You\",\"Jung Yong Hwa\",\"korean-ost\"],[\"For First-time Lovers (Banmal-song)\",\"Jung Yong Hwa\",\"korean-ost\"],[\"I Go\",\"Kei (Kim Ji Yeon)\",\"korean-ost\"],[\"\\ubcf4\\uace0\\uc2f6\\ub2e4 (From. '\\ub4dc\\ub77c\\ub9c8 \\ucc9c\\uad6d\\uc758 \\uacc4\\ub2e8')\",\"Kim Bum Soo\",\"korean-ost\"],[\"One Day\",\"Kim Feel\",\"korean-ost\"],[\"Someday, The Boy\",\"Kim Feel\",\"korean-ost\"],[\"Vacance in September\",\"KIM JAE HWAN\",\"korean-ost\"],[\"All of My Days\",\"KIMSEJEONG\",\"korean-ost\"],[\"If Only\",\"KIMSEJEONG\",\"korean-ost\"],[\"Lonely Night\",\"Kwon Jin Ah\",\"korean-ost\"],[\"The End\",\"Kwon Jin Ah\",\"korean-ost\"],[\"I Won't Heartbreaken\",\"Lee KwangHee\",\"korean-ost\"],[\"In My Heart\",\"LIM YEON\",\"korean-ost\"],[\"Lost\",\"LIM YEON\",\"korean-ost\"],[\"Say Yes\",\"Loco\",\"korean-ost\"],[\"Be There For You\",\"NCT DREAM\",\"korean-ost\"],[\"Rainbow - Acoustic Version\",\"O.WHEN\",\"korean-ost\"],[\"Me After You\",\"Paul Kim\",\"korean-ost\"],[\"\\uc548\\ub155\",\"Paul Kim\",\"korean-ost\"],[\"But I'm Trying to Tell You How Much I Love You (With Moonbit)\",\"saevom\",\"korean-ost\"],[\"For You\",\"Sam Kim\",\"korean-ost\"],[\"Sunny Day Rainy Day (feat. Kassy)\",\"Sanchez\",\"korean-ost\"],[\"Your world\",\"Seol Hoseung (SURL)\",\"korean-ost\"],[\"Grown Ups\",\"Sondia\",\"korean-ost\"],[\"Hug\",\"Sondia\",\"korean-ost\"],[\"Our Souls at Night\",\"Sondia\",\"korean-ost\"],[\"\\uc6b0\\ub9b0 \\uce5c\\uad6c\\ubfd0\\uc77c\\uae4c\",\"Sondia\",\"korean-ost\"],[\"She\",\"Standing Egg\",\"korean-ost\"],[\"Miracle (Feat. Paul Kim)\",\"Stella Jang\",\"korean-ost\"],[\"One more time, One more chance\",\"Sung Si Kyung\",\"korean-ost\"],[\"\\u541b\\u304c\\u3044\\u308b\\u3088\",\"Sung Si Kyung\",\"korean-ost\"],[\"Two People\",\"SURAN\",\"korean-ost\"],[\"Inevitable\",\"Suzy\",\"korean-ost\"],[\"Starlight\",\"TAEIL\",\"korean-ost\"],[\"\\uadf8\\ub300\\ub77c\\ub294 \\uc2dc\",\"TAEYEON\",\"korean-ost\"],[\"Two Words\",\"WENDY\",\"korean-ost\"],[\"What If Love\",\"WENDY\",\"korean-ost\"],[\"\\ub0b4\\uc77c\\ub3c4 \\ub610 \\ub0b4\\uc77c\\ub3c4 Tomorrow After Tomorrow\",\"WISUE\",\"korean-ost\"],[\"Your Existence\",\"Wonstein\",\"korean-ost\"],[\"Free\",\"Xydo\",\"korean-ost\"],[\"\\ub108\\ub9cc \\ub108\\ub9cc \\ub108\\ub9cc\",\"Yang Dail\",\"korean-ost\"],[\"With me\",\"Yang Dail\",\"korean-ost\"],[\"Here I Am Again\",\"Yerin Baek\",\"korean-ost\"],[\"Maze\",\"YONGZOO\",\"korean-ost\"],[\"ALWAYS\",\"Yoon Mirae\",\"korean-ost\"],[\"Flower\",\"Yoon Mirae\",\"korean-ost\"],[\"You Are My World\",\"Yoon Mirae\",\"korean-ost\"],[\"I Just Want To Stay With You\",\"Zion.T\",\"korean-ost\"],[\"Faith\",\"\\uc774\\uc900\\ud654\",\"korean-ost\"]],\"hovertemplate\":\"playlist=%{customdata[2]}<br>note_x=%{x}<br>note_y=%{y}<br>song_name=%{customdata[0]}<br>artist=%{customdata[1]}<extra></extra>\",\"legendgroup\":\"korean-ost\",\"marker\":{\"color\":\"#EF553B\",\"symbol\":\"circle\"},\"mode\":\"markers\",\"name\":\"korean-ost\",\"orientation\":\"v\",\"showlegend\":true,\"x\":[-0.5096338463417519,0.1846226922010786,-3.315883400755189,-2.0701707096993105,-3.1693428513682527,-2.6317840079243107,2.3238868060300986,0.8957664606180731,0.7451380764020145,0.14224099480983707,-2.657220406529984,0.8930238689749624,2.210100241253755,2.403490100914992,1.3724253217084417,-0.5761414302925142,1.5528188403101695,-0.7455328290737958,1.9116422116344245,2.8857842772920037,-4.656407466401366,-2.0858573553963886,-1.890116665536768,0.9700416772123548,-0.21335782848022042,1.868639470438589,1.0500315730077843,-1.538265724220243,-1.158747970941762,1.7200884648819166,-2.195577634429162,-1.9355896941922541,-0.487237542784335,2.0721245192023496,2.124482438252767,-0.4974243544383498,-1.7927155001024122,-1.2761848272167582,4.938672789981662,-1.4781211520258324,0.3822761781794203,0.2675448509811583,-0.4635732894839031,-1.121517634378673,-1.243850846035079,0.2098569547266386,0.11653748752416296,-1.463369162752382,0.04230081919135413,2.6834117614526316,-0.672190558007384,-0.21161316772307287,-0.7211073867792968,1.0195985030088686,1.2680237053526715,4.435229845959626,0.9677757656040304,0.749517327105625,0.4216762806069568,-0.6058822613885434,-1.7365177301845325,0.11349474370238766,-1.6961833820559926,0.5090638623324246,-3.129470621622458,-1.1396046320071194,0.9597300683081644,1.790513389999585,-0.8910923061360183,2.080814562693644,-2.564388375674239,-0.7522850342970113,0.0911333096200461,-1.050794688828812,-2.8351925652858845,-1.0776845403514177,-1.27280204076943,-0.4670664804229918,3.9675243232760478,-1.3454256978368357,-3.223414528375548,-0.4343868782447832,1.1326988267870337,0.03792057906057405,1.9593198110822878,-1.559424859200755,-2.5240690966397508,0.08965339791381227,-1.2404353116079405,1.8606903728904254,0.24748696505947132,0.7636745180101426,-0.7329023161036973,-0.6759113960981818,0.5878696124341369],\"xaxis\":\"x\",\"y\":[0.10914188278733662,5.018690343785681,-2.4090945139065845,-3.275820671035335,-2.1761764006441053,0.6461213709846971,-1.1453511746894445,2.025904511672105,-3.5799921445822336,0.8515233657132006,0.11124571315912771,-1.138329166674804,1.1503688656120266,-1.4239977845789684,0.5348194545982511,-4.193791655293603,1.021398745571643,2.8912011361254653,-0.15251597838139533,0.36043675596242536,-1.1027543689055153,0.30785550085134705,-2.7850594717785895,1.4966150109342737,2.1068642221707257,1.7024126316563086,2.428413392361451,2.222279120988189,1.03423709104278,-3.201980600068186,2.841886031969353,-1.1350274612506843,-0.23653487348763735,2.9933156061286974,1.1985318151761106,0.8673058043322668,1.4166103363745937,-2.5638972705923617,1.0678059715706563,-1.7620275201235591,3.8187053721967135,-0.6490650237651301,-1.8640638558932212,-0.4550994670030385,1.8027338056676927,2.9854124851261283,0.5309681787501803,-0.12949113540216248,1.9391406662571802,-3.390728562999811,1.0624995129062804,-2.3006372676501567,0.1642248353041266,1.044532208209259,0.8146537555908168,-2.036698953755867,0.9956213568683475,1.6197028352384102,1.1315643357427492,2.272067045668684,0.2273824829272757,-0.8892073663326439,1.5111067155231201,-4.599658590001881,0.4108421473357474,-3.2994381948678035,1.1780348050569034,-0.47797652986326433,-0.08119120401460844,-1.948135862260467,-1.0467985960785748,2.2913581151608176,3.010598183369114,-1.3397025715364383,1.745725750135662,-1.5177481654869471,-2.040575603796825,-1.695642096331428,0.37383035027418043,-0.9120439261318523,-1.1912042820212996,1.230820801851783,0.5867590342717345,-3.1119918494045566,-2.508527666071757,0.013825619882322924,0.12506212397427505,1.522894548992874,-1.844582692404958,-2.6964042028165816,0.8573657469934747,0.6893043524221438,1.6198845403492264,-1.5174974643860384,-1.8057949505493986],\"yaxis\":\"y\",\"type\":\"scatter\"},{\"customdata\":[[\"A Speck of Light - Reimagined\",\"Lights & Motion\",\"lights-and-motion\"],[\"A Speck of Light\",\"Lights & Motion\",\"lights-and-motion\"],[\"All the Way\",\"Lights & Motion\",\"lights-and-motion\"],[\"Anamorphic\",\"Lights & Motion\",\"lights-and-motion\"],[\"Anchor\",\"Lights & Motion\",\"lights-and-motion\"],[\"Anomaly\",\"Lights & Motion\",\"lights-and-motion\"],[\"Antlers\",\"Lights & Motion\",\"lights-and-motion\"],[\"Arms Wide Open\",\"Lights & Motion\",\"lights-and-motion\"],[\"As the World Goes Away\",\"Lights & Motion\",\"lights-and-motion\"],[\"As They Sleep\",\"Lights & Motion\",\"lights-and-motion\"],[\"Aurora\",\"Lights & Motion\",\"lights-and-motion\"],[\"Deafening Silence\",\"Lights & Motion\",\"lights-and-motion\"],[\"DNA\",\"Lights & Motion\",\"lights-and-motion\"],[\"Equals\",\"Lights & Motion\",\"lights-and-motion\"],[\"Everest\",\"Lights & Motion\",\"lights-and-motion\"],[\"Exhale\",\"Lights & Motion\",\"lights-and-motion\"],[\"Feathers\",\"Lights & Motion\",\"lights-and-motion\"],[\"Fireflies\",\"Lights & Motion\",\"lights-and-motion\"],[\"From Dust\",\"Lights & Motion\",\"lights-and-motion\"],[\"Glistening - Reimagined\",\"Lights & Motion\",\"lights-and-motion\"],[\"Glistening\",\"Lights & Motion\",\"lights-and-motion\"],[\"Glow\",\"Lights & Motion\",\"lights-and-motion\"],[\"I See You (feat. Frida Sundemo)\",\"Lights & Motion\",\"lights-and-motion\"],[\"I See You - Reimagined (feat. Frida Sundemo)\",\"Lights & Motion\",\"lights-and-motion\"],[\"Lucid Dreaming\",\"Lights & Motion\",\"lights-and-motion\"],[\"Northern Lights\",\"Lights & Motion\",\"lights-and-motion\"],[\"Pandora\",\"Lights & Motion\",\"lights-and-motion\"],[\"Panic Attack\",\"Lights & Motion\",\"lights-and-motion\"],[\"Paper Wings\",\"Lights & Motion\",\"lights-and-motion\"],[\"Parachutes\",\"Lights & Motion\",\"lights-and-motion\"],[\"Particle Storm\",\"Lights & Motion\",\"lights-and-motion\"],[\"Perfect Symmetry\",\"Lights & Motion\",\"lights-and-motion\"],[\"Phoenix\",\"Lights & Motion\",\"lights-and-motion\"],[\"Reanimation - Revisited 10th Anniversary Edition\",\"Lights & Motion\",\"lights-and-motion\"],[\"Reborn\",\"Lights & Motion\",\"lights-and-motion\"],[\"Separated Hearts - Reimagined\",\"Lights & Motion\",\"lights-and-motion\"],[\"Separated Hearts\",\"Lights & Motion\",\"lights-and-motion\"],[\"Silver Lining\",\"Lights & Motion\",\"lights-and-motion\"],[\"Sleeping Giant\",\"Lights & Motion\",\"lights-and-motion\"],[\"Sypher\",\"Lights & Motion\",\"lights-and-motion\"],[\"The First Day\",\"Lights & Motion\",\"lights-and-motion\"],[\"The Great Wide Open - Reimagined\",\"Lights & Motion\",\"lights-and-motion\"],[\"The Great Wide Open\",\"Lights & Motion\",\"lights-and-motion\"],[\"The Moments Before\",\"Lights & Motion\",\"lights-and-motion\"],[\"The Spectacular Quiet\",\"Lights & Motion\",\"lights-and-motion\"],[\"The World I Remember\",\"Lights & Motion\",\"lights-and-motion\"],[\"This Explosion Within\",\"Lights & Motion\",\"lights-and-motion\"],[\"Touching Sky\",\"Lights & Motion\",\"lights-and-motion\"],[\"We Only Have Forever\",\"Lights & Motion\",\"lights-and-motion\"],[\"When Everything Is Falling\",\"Lights & Motion\",\"lights-and-motion\"],[\"Wilderness\",\"Lights & Motion\",\"lights-and-motion\"],[\"Winter Solstice\",\"Lights & Motion\",\"lights-and-motion\"],[\"Wolves (feat. Johan Hasselblom)\",\"Lights & Motion\",\"lights-and-motion\"],[\"Wolves - Reimagined (feat. Johan Hasselblom)\",\"Lights & Motion\",\"lights-and-motion\"],[\"Woven\",\"Lights & Motion\",\"lights-and-motion\"],[\"Year Zero\",\"Lights & Motion\",\"lights-and-motion\"]],\"hovertemplate\":\"playlist=%{customdata[2]}<br>note_x=%{x}<br>note_y=%{y}<br>song_name=%{customdata[0]}<br>artist=%{customdata[1]}<extra></extra>\",\"legendgroup\":\"lights-and-motion\",\"marker\":{\"color\":\"#00cc96\",\"symbol\":\"circle\"},\"mode\":\"markers\",\"name\":\"lights-and-motion\",\"orientation\":\"v\",\"showlegend\":true,\"x\":[0.506947124369351,-0.11842859057126437,0.08224958535898304,0.05871357055855209,-1.3119911998692178,-2.139724484103448,-1.7066995331899166,-0.6055920694846046,2.6903516570514285,0.2250031680138929,-0.42472230079155365,-0.3603753972426491,-0.20949136892430797,0.05622224597250991,-0.8874476877182669,-0.18226687166275468,-0.3751734646109886,1.354361094149268,1.2776769030467425,0.7623951711314194,-1.7492452813783523,1.2157741242819209,-1.4181043028978482,0.12715147042272792,1.7893529412832732,-0.8989684373323579,-0.26195387904483325,-0.3574966236703193,0.6191540907896719,-0.18688017530191914,0.4591202000237977,-1.146662316839241,1.0241005907812228,1.6337706473461624,0.7417750532676366,0.587704102401623,-0.19516276217185996,-0.13715567596238434,-0.6329893466607484,-1.7797075400398683,-0.16874589590762018,3.4771263035217097,-1.118535210253925,1.3233662197306415,-0.4403716957200464,-0.9669594041709154,-0.18688017530191914,-0.2557102009410239,-0.1868801753019193,0.0025203209045576236,-1.1666149800360475,0.9139568527438664,-0.1868801753019192,-1.3382901208324232,-1.6073646565433544,-1.2261339271165839],\"xaxis\":\"x\",\"y\":[-0.02989225167261575,-0.20195657335525266,-1.8130819778755767,2.3155431455934314,-0.7193453103672193,1.5226431032251937,-0.6621089179358188,-0.1646170141509298,-1.5074033971466123,0.05414764341056392,-0.6134631527436812,-0.08937097476841348,-0.0948837464917504,-1.9846107702272417,-0.9034160776199254,-0.1056984005522431,-0.24199410511405753,-1.6356429476921996,2.139929204489875,2.404325399364118,-2.226106267519519,-1.3695337975381965,-0.9018351822417878,1.2024627298652597,2.393640629390563,2.8373775877862353,-0.08408858297274587,0.010172516601195888,-1.4751761151654403,-0.08798809976849394,-0.11269142791639518,1.4079954795988492,-0.3936155462888261,-1.8421685925031481,-0.8185968658152363,-0.5868519030405893,0.8694651086950956,-0.34730746317102423,3.0855409357337504,0.612254985473116,-0.3243828945122307,-1.5631623334043783,-0.7591315621887235,-0.7729926881350004,-2.041462814086688,0.30171610017990214,-0.08798809976849385,-0.09876783180615205,-0.08798809976849387,0.49408674700576716,0.6966943797324006,-0.5389321917711511,-0.0879880997684939,1.5784034391886514,-0.2226967581939053,2.08584413369372],\"yaxis\":\"y\",\"type\":\"scatter\"},{\"customdata\":[[\"Another Wave from You\",\"M83\",\"m83\"],[\"Claudia Lewis\",\"M83\",\"m83\"],[\"Echoes of Mine\",\"M83\",\"m83\"],[\"Fountains\",\"M83\",\"m83\"],[\"Intro\",\"M83\",\"m83\"],[\"Klaus I Love You\",\"M83\",\"m83\"],[\"Midnight City\",\"M83\",\"m83\"],[\"My Tears Are Becoming a Sea\",\"M83\",\"m83\"],[\"New Map\",\"M83\",\"m83\"],[\"Ok Pal\",\"M83\",\"m83\"],[\"Outro\",\"M83\",\"m83\"],[\"Raconte-moi une histoire\",\"M83\",\"m83\"],[\"Reunion\",\"M83\",\"m83\"],[\"Soon, My Friend\",\"M83\",\"m83\"],[\"Splendor\",\"M83\",\"m83\"],[\"Steve Mcqueen\",\"M83\",\"m83\"],[\"This Bright Flash\",\"M83\",\"m83\"],[\"Train to Pluton\",\"M83\",\"m83\"],[\"Wait\",\"M83\",\"m83\"],[\"When Will You Come Home\",\"M83\",\"m83\"],[\"Where the Boats Go\",\"M83\",\"m83\"],[\"Year One, One Ufo\",\"M83\",\"m83\"],[\"Ashes of Our Fathers\",\"M83\",\"m83\"],[\"Canyon Battle\",\"M83\",\"m83\"],[\"Earth 2077\",\"M83\",\"m83\"],[\"Fearful Odds\",\"M83\",\"m83\"],[\"I'm Sending You Away\",\"M83\",\"m83\"],[\"Jack's Dream\",\"M83\",\"m83\"],[\"Losing Control\",\"M83\",\"m83\"],[\"Odyssey Rescue\",\"M83\",\"m83\"],[\"Radiation Zone\",\"M83\",\"m83\"],[\"Raven Rock\",\"M83\",\"m83\"],[\"StarWaves\",\"M83\",\"m83\"],[\"Tech 49\",\"M83\",\"m83\"],[\"Temples of Our Gods\",\"M83\",\"m83\"],[\"Undimmed by Time, Unbound by Death\",\"M83\",\"m83\"],[\"Waking Up\",\"M83\",\"m83\"],[\"You Can't Save Her\",\"M83\",\"m83\"],[\"Oblivion\",\"M83\",\"m83\"]],\"hovertemplate\":\"playlist=%{customdata[2]}<br>note_x=%{x}<br>note_y=%{y}<br>song_name=%{customdata[0]}<br>artist=%{customdata[1]}<extra></extra>\",\"legendgroup\":\"m83\",\"marker\":{\"color\":\"#ab63fa\",\"symbol\":\"circle\"},\"mode\":\"markers\",\"name\":\"m83\",\"orientation\":\"v\",\"showlegend\":true,\"x\":[0.2620264815863585,-0.44188545235233817,-1.2637484560338728,0.6991594196066127,-0.4104998377198122,0.2250031680138929,3.2871780652152145,0.022687709970693692,-0.1694888775844535,0.42145397138232554,-2.6651629199444558,0.8727357724438538,-0.31126116913445406,-0.7787711295598987,-3.5141396568524454,-1.362676272261575,2.107117644202029,0.22500316801389292,0.5986498712545085,0.22500316801389275,1.1547639856066894,-0.20116615882520955,-0.27391878661228475,-0.21648223310610445,-0.34683251263466447,-0.47983094474033294,-0.9033475862613031,1.0716200971896883,-1.4385308972228,-0.19980856624175958,-0.27408006455471023,-1.917345773716743,-0.17756468262431707,-1.1959193804823574,0.22500316801389295,-1.7830658984315548,-0.1662150751716282,-0.4880666437703795,-0.5343359831151286],\"xaxis\":\"x\",\"y\":[0.4289569671234702,0.01896893876039037,0.6570253834505548,0.5168069943766059,0.05998239581994637,0.054147643410563925,-0.43984698657176347,-1.3445849021736749,-0.09742909484580697,0.04119702783817634,-0.8177727032309049,-0.3264895950775103,0.04793594141688725,-0.1630482969229232,0.3664511449180103,-2.3281190685604485,-0.2843687057922332,0.05414764341056388,-0.1576596104573637,0.05414764341056396,-0.8604566610103824,-0.05864490888658623,-0.05822977984067256,-0.09708351143222343,-0.08983667026372938,-0.10215703935989558,-1.0516136007093395,2.624638850262599,-0.5229945119346512,-0.07140298867467636,-0.7655393980352417,1.037851072157835,-0.08299286194539238,-0.18166332942713276,0.05414764341056389,0.030703194564673884,-0.16697737839815244,-0.30474844850529886,-0.42806297064514737],\"yaxis\":\"y\",\"type\":\"scatter\"},{\"customdata\":[[\"A Moment Apart\",\"ODESZA\",\"odesza\"],[\"Across The Room (feat. Leon Bridges)\",\"ODESZA\",\"odesza\"],[\"Boy\",\"ODESZA\",\"odesza\"],[\"Corners Of The Earth (feat. RY X)\",\"ODESZA\",\"odesza\"],[\"Divide (feat. Kelsey Bulkin)\",\"ODESZA\",\"odesza\"],[\"Everything At Your Feet (feat. The Chamanas)\",\"ODESZA\",\"odesza\"],[\"Falls (feat. Sasha Alex Sloan)\",\"ODESZA\",\"odesza\"],[\"Falls (Reprise) (feat. Sasha Alex Sloan)\",\"ODESZA\",\"odesza\"],[\"Falls (Reprise) - Instrumental\",\"ODESZA\",\"odesza\"],[\"Higher Ground (feat. Naomi Wild)\",\"ODESZA\",\"odesza\"],[\"Higher Ground (Reprise) (feat. Naomi Wild)\",\"ODESZA\",\"odesza\"],[\"Higher Ground (Reprise) - Instrumental\",\"ODESZA\",\"odesza\"],[\"Intro\",\"ODESZA\",\"odesza\"],[\"It\\u2019s Only (feat. Zyra) - ODESZA VIP Remix\",\"ODESZA\",\"odesza\"],[\"Just A Memory (feat. Regina Spektor)\",\"ODESZA\",\"odesza\"],[\"La Ciudad\",\"ODESZA\",\"odesza\"],[\"Late Night\",\"ODESZA\",\"odesza\"],[\"Line Of Sight (feat. WYNNE & Mansionair)\",\"ODESZA\",\"odesza\"],[\"Line Of Sight (Reprise) (feat. WYNNE & Mansionair)\",\"ODESZA\",\"odesza\"],[\"Line Of Sight (Reprise) - Instrumental\",\"ODESZA\",\"odesza\"],[\"Loyal\",\"ODESZA\",\"odesza\"],[\"Memories That You Call (feat. Monsoonsiren) - ODESZA & Golden Features VIP Remix\",\"ODESZA\",\"odesza\"],[\"Meridian\",\"ODESZA\",\"odesza\"],[\"Show Me\",\"ODESZA\",\"odesza\"],[\"Thin Floors And Tall Ceilings\",\"ODESZA\",\"odesza\"]],\"hovertemplate\":\"playlist=%{customdata[2]}<br>note_x=%{x}<br>note_y=%{y}<br>song_name=%{customdata[0]}<br>artist=%{customdata[1]}<extra></extra>\",\"legendgroup\":\"odesza\",\"marker\":{\"color\":\"#FFA15A\",\"symbol\":\"circle\"},\"mode\":\"markers\",\"name\":\"odesza\",\"orientation\":\"v\",\"showlegend\":true,\"x\":[0.1853649023688521,0.9970819868238363,-0.32805707487933744,-1.893998285530211,-2.785965199598991,-0.1772743247172591,-0.2132139933326432,-0.43942994136704305,-0.46045140156120506,-0.6548109626689107,1.6344210369425636,-1.1941360014665736,1.4413328682314046,-0.9956820414921579,2.307900820498761,-1.0037408184432104,-0.2737949177504841,1.0807961390566112,-0.19388173645737566,-0.17586022636626603,-0.05657398135876832,1.3347679758650652,-0.27891903315946925,0.22039603744113284,-0.504230324423194],\"xaxis\":\"x\",\"y\":[0.40552190115760783,0.8487509873235163,-0.3273307177785471,0.1739827684692785,-0.5592778354930403,-0.10445100171036235,-0.13520425677861633,1.9381930669401983,-2.7798901968135845,0.691929441340866,-0.7795327327808568,-1.2307620507869224,1.6756255644435716,0.2197454449358497,-0.6178583076953952,0.088123705026923,-0.1189655445871336,1.3521604763884856,0.11029651281736726,0.07369036943273226,-0.33177758932954987,-0.11247999594264793,0.09365277620664572,0.4445995421120714,0.2937198099165016],\"yaxis\":\"y\",\"type\":\"scatter\"},{\"customdata\":[[\"April 10, 2019- Powehi - Image of a Black Hole\",\"Sleeping At Last\",\"sleeping-at-last\"],[\"August 12, 2018- Perseid Meteor Shower\",\"Sleeping At Last\",\"sleeping-at-last\"],[\"August 21, 2017- Total Solar Eclipse\",\"Sleeping At Last\",\"sleeping-at-last\"],[\"December 13, 2017- Geminid Meteor Shower\",\"Sleeping At Last\",\"sleeping-at-last\"],[\"December 17, 2018- Farout\",\"Sleeping At Last\",\"sleeping-at-last\"],[\"December 21, 2020- The Great Conjunction\",\"Sleeping At Last\",\"sleeping-at-last\"],[\"December 25, 2021- Webb Space Telescope - Launch\",\"Sleeping At Last\",\"sleeping-at-last\"],[\"February 1, 2023- C2022 E3 - Comet Ztf\",\"Sleeping At Last\",\"sleeping-at-last\"],[\"February 13, 2019- Opportunity - Mission Complete\",\"Sleeping At Last\",\"sleeping-at-last\"],[\"February 18, 2021- Perseverance - Mars Landing\",\"Sleeping At Last\",\"sleeping-at-last\"],[\"January 30, 2020- Spitzer - Final Voyage\",\"Sleeping At Last\",\"sleeping-at-last\"],[\"January 31, 2018- Super Blue Blood Moon\",\"Sleeping At Last\",\"sleeping-at-last\"],[\"July 22, 2020- C  2020 F3 - Comet Neowise\",\"Sleeping At Last\",\"sleeping-at-last\"],[\"July 27, 2018- Total Lunar Eclipse\",\"Sleeping At Last\",\"sleeping-at-last\"],[\"July 4, 2020- Aphelion\",\"Sleeping At Last\",\"sleeping-at-last\"],[\"June 24, 2022- Parade of Planets\",\"Sleeping At Last\",\"sleeping-at-last\"],[\"June 30, 2018- Pds 70b (Birth of a Planet)\",\"Sleeping At Last\",\"sleeping-at-last\"],[\"October 30, 2018- Kepler - Goodnight\",\"Sleeping At Last\",\"sleeping-at-last\"],[\"September 15, 2017- Cassini - The Grand Finale\",\"Sleeping At Last\",\"sleeping-at-last\"]],\"hovertemplate\":\"playlist=%{customdata[2]}<br>note_x=%{x}<br>note_y=%{y}<br>song_name=%{customdata[0]}<br>artist=%{customdata[1]}<extra></extra>\",\"legendgroup\":\"sleeping-at-last\",\"marker\":{\"color\":\"#19d3f3\",\"symbol\":\"circle\"},\"mode\":\"markers\",\"name\":\"sleeping-at-last\",\"orientation\":\"v\",\"showlegend\":true,\"x\":[0.3003352964466268,0.4908706190616833,0.04211427156788802,0.08938878760304954,-2.3542843065786743,-1.4530154513804594,0.5473936993942223,-1.1509567022689406,-2.229288743238186,1.2395238115252,1.229460437249469,0.24034921702096518,2.9309305267225914,0.9532929019225475,0.44682068541638853,-2.207261792603086,0.42700269694552223,1.2187456309868623,0.14709412706960134],\"xaxis\":\"x\",\"y\":[-0.856897457337958,1.2856424769869945,0.7296345719493396,-1.5046862640760563,1.25955169446551,-1.4244980184051417,-0.6650073940712348,2.3793801913415815,0.45798622020437424,3.035286422267135,-2.363011311449091,1.7961734389649162,1.0490370711958317,0.19162454907072363,-1.959956501771817,-0.5217857909999413,0.38416842617121705,-0.7493009677975803,-2.2696372885082297],\"yaxis\":\"y\",\"type\":\"scatter\"},{\"customdata\":[[\"It's Ok If You Forget Me\",\"Astrid S\",\"synth-pop\"],[\"Young & Alive\",\"Bazzi\",\"synth-pop\"],[\"Paralyze\",\"Bj\\u00f8rnskov\",\"synth-pop\"],[\"San Diego\",\"BRDGS\",\"synth-pop\"],[\"Ear Candy\",\"Caye\",\"synth-pop\"],[\"12 Hours\",\"Chris James\",\"synth-pop\"],[\"My Universe\",\"Coldplay\",\"synth-pop\"],[\"Overdrive\",\"Conan Gray\",\"synth-pop\"],[\"Titanic\",\"Cosmo's Midnight\",\"synth-pop\"],[\"Champagne For Two\",\"Devin Kennedy\",\"synth-pop\"],[\"Another Round\",\"Elina\",\"synth-pop\"],[\"How\",\"Elina\",\"synth-pop\"],[\"Paper Planes\",\"Elina\",\"synth-pop\"],[\"Nirvana\",\"ELLIANA\",\"synth-pop\"],[\"Lost In Space\",\"Emmit Fenn\",\"synth-pop\"],[\"12-45 - Stripped\",\"Etham\",\"synth-pop\"],[\"Purpose - Stripped\",\"Etham\",\"synth-pop\"],[\"California\",\"Ethan Dufault\",\"synth-pop\"],[\"Hurt The Ones We Love The Most\",\"Evan Blum\",\"synth-pop\"],[\"Young Love\",\"Falcon\",\"synth-pop\"],[\"I Should've Told You\",\"Fiji Blue\",\"synth-pop\"],[\"Waves\",\"Fiji Blue\",\"synth-pop\"],[\"Healing\",\"FLETCHER\",\"synth-pop\"],[\"hold on\",\"flor\",\"synth-pop\"],[\"Automatic (feat. Jake Miller)\",\"Fly By Midnight\",\"synth-pop\"],[\"Lovely\",\"Fly By Midnight\",\"synth-pop\"],[\"Lonely\",\"Gatsby\",\"synth-pop\"],[\"dear me,\",\"Gentle Bones\",\"synth-pop\"],[\"I Wouldn't Know Any Better Than You\",\"Gentle Bones\",\"synth-pop\"],[\"So Far So Good\",\"Great Good Fine Ok\",\"synth-pop\"],[\"Falling\",\"Harry Styles\",\"synth-pop\"],[\"sometimes\",\"Heather Sommer\",\"synth-pop\"],[\"you heard me\",\"Heather Sommer\",\"synth-pop\"],[\"Crying Over You \\u25d0\",\"HONNE\",\"synth-pop\"],[\"Day Dreaming\",\"Jack & Jack\",\"synth-pop\"],[\"Ross And Rachel\",\"Jake Miller\",\"synth-pop\"],[\"Showing You Off\",\"Jake Miller\",\"synth-pop\"],[\"Like No One Does\",\"Jake Scott\",\"synth-pop\"],[\"CWJBHN\",\"Jake Scott\",\"synth-pop\"],[\"drive all night\",\"joan\",\"synth-pop\"],[\"i loved you first\",\"joan\",\"synth-pop\"],[\"love somebody like you\",\"joan\",\"synth-pop\"],[\"magnetic\",\"joan\",\"synth-pop\"],[\"6 months\",\"John K\",\"synth-pop\"],[\"ilym (feat. ROSIE)\",\"John K\",\"synth-pop\"],[\"I Believe\",\"Jonas Brothers\",\"synth-pop\"],[\"I Quit Drinking\",\"Kelsea Ballerini\",\"synth-pop\"],[\"13\",\"LANY\",\"synth-pop\"],[\"dancing in the kitchen\",\"LANY\",\"synth-pop\"],[\"dna\",\"LANY\",\"synth-pop\"],[\"get away\",\"LANY\",\"synth-pop\"],[\"I Don't Wanna Love You Anymore\",\"LANY\",\"synth-pop\"],[\"if this is the last time\",\"LANY\",\"synth-pop\"],[\"ILYSB - STRIPPED\",\"LANY\",\"synth-pop\"],[\"ILYSB\",\"LANY\",\"synth-pop\"],[\"Let Me Know\",\"LANY\",\"synth-pop\"],[\"Malibu Nights\",\"LANY\",\"synth-pop\"],[\"Super Far\",\"LANY\",\"synth-pop\"],[\"Thru These Tears\",\"LANY\",\"synth-pop\"],[\"up to me\",\"LANY\",\"synth-pop\"],[\"you!\",\"LANY\",\"synth-pop\"],[\"Tattoos Together\",\"Lauv\",\"synth-pop\"],[\"When We Were Younger\",\"Loving Caliber\",\"synth-pop\"],[\"Love You Back\",\"Madeon\",\"synth-pop\"],[\"colorblind\",\"Mokita\",\"synth-pop\"],[\"London\",\"Mokita\",\"synth-pop\"],[\"Ready Yet\",\"Mokita\",\"synth-pop\"],[\"Shut Up I Love U\",\"Neptune\",\"synth-pop\"],[\"This Is Heaven\",\"Nick Jonas\",\"synth-pop\"],[\"Plot Twist\",\"NIKI\",\"synth-pop\"],[\"Waves\",\"Paige\",\"synth-pop\"],[\"Shelter\",\"Porter Robinson\",\"synth-pop\"],[\"Outsider\",\"Rachel Grae\",\"synth-pop\"],[\"Dandelions\",\"Ruth B.\",\"synth-pop\"],[\"Lie\",\"Sasha Alex Sloan\",\"synth-pop\"],[\"Day Dreaming\",\"Sopha\",\"synth-pop\"],[\"I Always Wanna Die (Sometimes)\",\"The 1975\",\"synth-pop\"],[\"I'm In Love With You\",\"The 1975\",\"synth-pop\"],[\"It's Not Living (If It's Not With You)\",\"The 1975\",\"synth-pop\"],[\"Robbers\",\"The 1975\",\"synth-pop\"],[\"She's American\",\"The 1975\",\"synth-pop\"],[\"Somebody Else\",\"The 1975\",\"synth-pop\"],[\"Going Home\",\"The Aces\",\"synth-pop\"],[\"Sunset\",\"The Midnight\",\"synth-pop\"],[\"Say So\",\"The Sam Willows\",\"synth-pop\"],[\"I Can't Stop Thinking About You\",\"The Shadowboxers\",\"synth-pop\"],[\"Strawberries & Cigarettes\",\"Troye Sivan\",\"synth-pop\"],[\"If Only for Tonight\",\"Vacation Manor\",\"synth-pop\"],[\"rocket science\",\"vaultboy\",\"synth-pop\"],[\"no excuses\",\"Virginia To Vegas\",\"synth-pop\"],[\"Got A Little Crush On You\",\"Wildflowers\",\"synth-pop\"],[\"Talking To Myself\",\"Will Jay\",\"synth-pop\"],[\"Dance Like Nobody's Watching\",\"Yuna\",\"synth-pop\"],[\"dancing in the kitchen\",\"Zachary Knowles\",\"synth-pop\"],[\"stranger to me\",\"Zachary Knowles\",\"synth-pop\"],[\"could you love me while i hate myself\",\"Zeph\",\"synth-pop\"]],\"hovertemplate\":\"playlist=%{customdata[2]}<br>note_x=%{x}<br>note_y=%{y}<br>song_name=%{customdata[0]}<br>artist=%{customdata[1]}<extra></extra>\",\"legendgroup\":\"synth-pop\",\"marker\":{\"color\":\"#FF6692\",\"symbol\":\"circle\"},\"mode\":\"markers\",\"name\":\"synth-pop\",\"orientation\":\"v\",\"showlegend\":true,\"x\":[-0.9085190373917366,0.11092302408790948,-0.7299931208688382,-1.0897227953416502,-0.39569514574230313,0.7968928766600804,-0.6333880869862488,-0.5810771103570213,0.4587544415515485,0.09054761976218731,0.5890657854903835,2.9301294978918637,2.0819169883893203,0.4052115671689669,-0.12921159532442128,2.9541026505158543,-1.2012222198468332,2.767026700287116,1.2326626512489356,1.5948115939004675,2.0483310299632076,0.7189379584087089,-1.744319879115696,-0.6835884637593765,0.044824948064147704,-0.5013881904429384,2.391942492379577,-0.8390181255340569,1.5215498637619151,2.2903789938231247,-0.18422823771934288,2.8473597769612145,1.3293303634953,-0.29460218459235327,0.9245429469175709,-0.45427196411299864,0.8296494415439817,-2.4003342446001086,-1.5033092581376577,1.3385612126234896,-3.1064113798344395,-1.495156863361361,1.1937109141059685,-2.6416268182174325,-2.0776814122173177,-1.7254451862794116,2.255641167427389,1.2511199575891894,1.8198548474102298,-3.9780935305878136,1.319498366854579,-0.146916744113594,-0.14481170338439886,3.083476746366886,-0.39051134103383633,-0.1920126827614219,-0.811172275284796,-1.3639155995651586,-0.3869897640568768,0.342373766413268,-0.21657780753721229,-2.760822536695585,0.47980179773151577,0.41567715881700856,-2.126907504658776,-0.7557076855814447,-0.5231348997181396,-1.1030389940095529,-2.3259314980853176,1.8703704015750569,0.3375342999763508,-0.4168316207198802,-2.1547588499382795,1.9717272362069496,-0.22229290572421584,1.9073112942468124,-0.6439326228643547,-0.10295937880397722,-0.2181249247507014,-0.9446196248290343,-0.3885585233500978,-0.2273308185069912,-0.3499415808192274,0.3333524243757955,-1.7760108350238903,-0.5327062830755135,-0.5714698681811937,-2.088625893932867,-0.15923392385063645,-2.3301830195297524,-1.8572554650834543,-0.46527391653814054,-0.3318483600239783,-1.7457147304983243,0.35586295805802587,-2.7857928961521914],\"xaxis\":\"x\",\"y\":[1.2356477024586228,0.635002269584857,-0.43005612455235026,1.2184124449951241,-0.14968525980760994,0.11463139286946429,1.1375469551437687,1.3045800259017457,-0.36561926397020134,-1.0302710147068543,-1.0918675142507162,0.6667297612508488,1.5271785021118214,0.2847797942428341,2.360186791934302,1.277916019199979,3.7273868327453687,-0.8646569426709969,-0.4146791893098982,-0.016534058942877013,0.6905481278376288,0.21390176229229832,2.2129522923375813,-1.1686042342981076,1.3561095140453265,0.2141266578541281,-0.1786971981232673,-0.587097101441669,-0.7722426437890818,-0.049704186954235424,1.1161272024104267,0.827339456414231,-1.9959073456016345,0.16893707444279002,-2.103402959935907,-0.811315180085478,-0.6038557559292248,3.405896893148173,0.46616465963414266,0.2981257235300676,-0.29627393721216544,0.803216534223321,-0.038436115642312495,0.9909161990459993,-1.2106649789693162,0.4174237602501748,0.6266547662422124,0.9292130871476734,-0.8234178589489438,1.5062804646759083,-0.42729114387045286,-0.26742856705356877,-1.3970266651256606,1.7888586333132412,-0.46302040301853287,-1.4153120677876752,-0.2677913707122688,0.2992964419484327,-0.38486133557178115,0.7148998820427778,-0.031177207164936247,1.8619744836789516,0.6855814523867318,-2.5246341413157207,-1.517372242032935,0.07073136171003172,3.4648647941564668,-0.10153867971995123,0.7923785736285681,1.3969030321680274,-3.460257427390739,0.2480069049151561,3.122150080252724,-1.2788389763490262,1.8246355447665554,0.49565091176286635,0.249329423560524,0.851155598520171,-0.3982522151823584,0.46649594834207586,1.514906366429972,-0.11785037836280055,-0.2957552342766138,-0.2712578898174744,1.210382498634623,-0.13485767876805704,0.00910952087670964,-0.41660264594238455,1.5118273352621336,-0.6956945905664907,-0.09473895195566602,1.4046331305018476,-1.0861307885305123,-0.41569131156219424,1.655278866520464,0.39678692335338156],\"yaxis\":\"y\",\"type\":\"scatter\"},{\"customdata\":[[\"Allure\",\"Tony Anderson\",\"tony-anderson\"],[\"Aurora\",\"Tony Anderson\",\"tony-anderson\"],[\"Chasm\",\"Tony Anderson\",\"tony-anderson\"],[\"Darkest Night\",\"Tony Anderson\",\"tony-anderson\"],[\"Deep Waters - Original Sketch\",\"Tony Anderson\",\"tony-anderson\"],[\"Deep Waters\",\"Tony Anderson\",\"tony-anderson\"],[\"Delusion\",\"Tony Anderson\",\"tony-anderson\"],[\"Eyes Wide Open - Cinematic Mix\",\"Tony Anderson\",\"tony-anderson\"],[\"Eyes Wide Open\",\"Tony Anderson\",\"tony-anderson\"],[\"Face of the Father\",\"Tony Anderson\",\"tony-anderson\"],[\"Farthest Seas\",\"Tony Anderson\",\"tony-anderson\"],[\"Finding Your Heart\",\"Tony Anderson\",\"tony-anderson\"],[\"Halo\",\"Tony Anderson\",\"tony-anderson\"],[\"High Tide\",\"Tony Anderson\",\"tony-anderson\"],[\"Immanuel\",\"Tony Anderson\",\"tony-anderson\"],[\"Immersion\",\"Tony Anderson\",\"tony-anderson\"],[\"In the Distance\",\"Tony Anderson\",\"tony-anderson\"],[\"Incision\",\"Tony Anderson\",\"tony-anderson\"],[\"Like a Child - Cinematic Mix\",\"Tony Anderson\",\"tony-anderson\"],[\"Low Tide\",\"Tony Anderson\",\"tony-anderson\"],[\"Lune\",\"Tony Anderson\",\"tony-anderson\"],[\"Morning's Wings\",\"Tony Anderson\",\"tony-anderson\"],[\"Nightingale\",\"Tony Anderson\",\"tony-anderson\"],[\"No Place on Earth\",\"Tony Anderson\",\"tony-anderson\"],[\"Nocturne in Paris\",\"Tony Anderson\",\"tony-anderson\"],[\"Perennial\",\"Tony Anderson\",\"tony-anderson\"],[\"Resurrect\",\"Tony Anderson\",\"tony-anderson\"],[\"Retour\",\"Tony Anderson\",\"tony-anderson\"],[\"Shalom\",\"Tony Anderson\",\"tony-anderson\"],[\"Slipstream\",\"Tony Anderson\",\"tony-anderson\"],[\"Something Can Grow\",\"Tony Anderson\",\"tony-anderson\"],[\"Spiriteaux\",\"Tony Anderson\",\"tony-anderson\"],[\"The King\",\"Tony Anderson\",\"tony-anderson\"],[\"The Way Home\",\"Tony Anderson\",\"tony-anderson\"],[\"Thin Place - Abbreviated\",\"Tony Anderson\",\"tony-anderson\"],[\"Thin Place\",\"Tony Anderson\",\"tony-anderson\"],[\"We Are One\",\"Tony Anderson\",\"tony-anderson\"],[\"Wir Sind Gleich\",\"Tony Anderson\",\"tony-anderson\"],[\"Younger\",\"Tony Anderson\",\"tony-anderson\"],[\"\\u00c9closion\",\"Tony Anderson\",\"tony-anderson\"],[\"\\u00c9ph\\u00e9m\\u00e8re\",\"Tony Anderson\",\"tony-anderson\"],[\"Arp\\u00e8ge\",\"Tony Anderson\",\"tony-anderson\"],[\"Nuit\",\"Tony Anderson\",\"tony-anderson\"],[\"Tenderness - Woven Remix\",\"Tony Anderson\",\"tony-anderson\"],[\"Tenderness\",\"Tony Anderson\",\"tony-anderson\"],[\"Cambodia - Ross Lara Remix\",\"Tony Anderson\",\"tony-anderson\"],[\"Cambodia\",\"Tony Anderson\",\"tony-anderson\"],[\"Oyarsa\",\"Tony Anderson\",\"tony-anderson\"]],\"hovertemplate\":\"playlist=%{customdata[2]}<br>note_x=%{x}<br>note_y=%{y}<br>song_name=%{customdata[0]}<br>artist=%{customdata[1]}<extra></extra>\",\"legendgroup\":\"tony-anderson\",\"marker\":{\"color\":\"#B6E880\",\"symbol\":\"circle\"},\"mode\":\"markers\",\"name\":\"tony-anderson\",\"orientation\":\"v\",\"showlegend\":true,\"x\":[0.875505868244507,-1.0226505212402346,0.05461939684703729,-0.13792899970778413,-0.4224920238488778,0.9006983607578073,0.2250031680138928,1.7028712914817907,2.814421334516836,-0.6035916337062085,-4.831119167238366,-0.6004585814802522,-2.2583266910807533,-0.06981694065731452,0.7696040565227611,0.2173173877536611,0.46980655778655156,-1.2428752132766157,1.0618477727270201,-2.072060683301301,0.7384130427897768,-0.4092744580243765,2.3174875537904813,-0.7097275553324839,0.40456890385113276,1.029510359501617,-0.33678369400536723,1.8140178673859546,-1.4415663251596016,0.6303248842607143,0.7194350101182887,1.913621584376422,1.6603774392740984,-0.17030992146109014,1.5224918172636654,2.7177147564785837,0.6319469703778653,-1.9985854667768541,-0.39823784156295755,0.6559044513173563,0.006336329217987541,2.613195188738647,0.6665988703637877,-0.20878349140026395,0.4669506490795438,-0.24801361329203422,-1.4674389162604846,1.1260201992655323],\"xaxis\":\"x\",\"y\":[-0.1895760095015944,-0.4613812765433285,1.2479426499587556,-0.15117743892102078,-2.3825809864752654,-1.605161583648427,0.05414764341056396,2.3695780369136443,-1.1204064338357111,-0.6287683731221458,-3.4823397370813356,-0.916472377458465,1.3555014408180135,1.6911933596694582,1.1966957626414254,-2.60562328594933,0.5241512566971648,-1.05801903244208,-0.01578920529922733,-1.7281546210934433,-2.357068188976349,-0.0864092578480617,0.6095637917769573,-3.0181021410551256,-0.7925968979599608,-2.5974723318331905,-0.6639014383530786,-1.2819443863058442,1.584893675192479,1.0324835011376383,-0.3684841418716994,-0.5653170913826064,0.08687462179678325,-0.5544827340583836,-1.111205898249994,-0.5174224912682829,1.184696548270536,1.3316565282345183,-2.8790172798125018,-1.3467780777152103,-1.769318891366404,2.155214733696091,1.6313670116887657,-0.2460615921931395,-1.327135140793556,-0.08999556377602443,-0.8367027874206056,0.2348739288991019],\"yaxis\":\"y\",\"type\":\"scatter\"}],                        {\"template\":{\"data\":{\"histogram2dcontour\":[{\"type\":\"histogram2dcontour\",\"colorbar\":{\"outlinewidth\":0,\"ticks\":\"\"},\"colorscale\":[[0.0,\"#0d0887\"],[0.1111111111111111,\"#46039f\"],[0.2222222222222222,\"#7201a8\"],[0.3333333333333333,\"#9c179e\"],[0.4444444444444444,\"#bd3786\"],[0.5555555555555556,\"#d8576b\"],[0.6666666666666666,\"#ed7953\"],[0.7777777777777778,\"#fb9f3a\"],[0.8888888888888888,\"#fdca26\"],[1.0,\"#f0f921\"]]}],\"choropleth\":[{\"type\":\"choropleth\",\"colorbar\":{\"outlinewidth\":0,\"ticks\":\"\"}}],\"histogram2d\":[{\"type\":\"histogram2d\",\"colorbar\":{\"outlinewidth\":0,\"ticks\":\"\"},\"colorscale\":[[0.0,\"#0d0887\"],[0.1111111111111111,\"#46039f\"],[0.2222222222222222,\"#7201a8\"],[0.3333333333333333,\"#9c179e\"],[0.4444444444444444,\"#bd3786\"],[0.5555555555555556,\"#d8576b\"],[0.6666666666666666,\"#ed7953\"],[0.7777777777777778,\"#fb9f3a\"],[0.8888888888888888,\"#fdca26\"],[1.0,\"#f0f921\"]]}],\"heatmap\":[{\"type\":\"heatmap\",\"colorbar\":{\"outlinewidth\":0,\"ticks\":\"\"},\"colorscale\":[[0.0,\"#0d0887\"],[0.1111111111111111,\"#46039f\"],[0.2222222222222222,\"#7201a8\"],[0.3333333333333333,\"#9c179e\"],[0.4444444444444444,\"#bd3786\"],[0.5555555555555556,\"#d8576b\"],[0.6666666666666666,\"#ed7953\"],[0.7777777777777778,\"#fb9f3a\"],[0.8888888888888888,\"#fdca26\"],[1.0,\"#f0f921\"]]}],\"heatmapgl\":[{\"type\":\"heatmapgl\",\"colorbar\":{\"outlinewidth\":0,\"ticks\":\"\"},\"colorscale\":[[0.0,\"#0d0887\"],[0.1111111111111111,\"#46039f\"],[0.2222222222222222,\"#7201a8\"],[0.3333333333333333,\"#9c179e\"],[0.4444444444444444,\"#bd3786\"],[0.5555555555555556,\"#d8576b\"],[0.6666666666666666,\"#ed7953\"],[0.7777777777777778,\"#fb9f3a\"],[0.8888888888888888,\"#fdca26\"],[1.0,\"#f0f921\"]]}],\"contourcarpet\":[{\"type\":\"contourcarpet\",\"colorbar\":{\"outlinewidth\":0,\"ticks\":\"\"}}],\"contour\":[{\"type\":\"contour\",\"colorbar\":{\"outlinewidth\":0,\"ticks\":\"\"},\"colorscale\":[[0.0,\"#0d0887\"],[0.1111111111111111,\"#46039f\"],[0.2222222222222222,\"#7201a8\"],[0.3333333333333333,\"#9c179e\"],[0.4444444444444444,\"#bd3786\"],[0.5555555555555556,\"#d8576b\"],[0.6666666666666666,\"#ed7953\"],[0.7777777777777778,\"#fb9f3a\"],[0.8888888888888888,\"#fdca26\"],[1.0,\"#f0f921\"]]}],\"surface\":[{\"type\":\"surface\",\"colorbar\":{\"outlinewidth\":0,\"ticks\":\"\"},\"colorscale\":[[0.0,\"#0d0887\"],[0.1111111111111111,\"#46039f\"],[0.2222222222222222,\"#7201a8\"],[0.3333333333333333,\"#9c179e\"],[0.4444444444444444,\"#bd3786\"],[0.5555555555555556,\"#d8576b\"],[0.6666666666666666,\"#ed7953\"],[0.7777777777777778,\"#fb9f3a\"],[0.8888888888888888,\"#fdca26\"],[1.0,\"#f0f921\"]]}],\"mesh3d\":[{\"type\":\"mesh3d\",\"colorbar\":{\"outlinewidth\":0,\"ticks\":\"\"}}],\"scatter\":[{\"marker\":{\"line\":{\"color\":\"#283442\"}},\"type\":\"scatter\"}],\"parcoords\":[{\"type\":\"parcoords\",\"line\":{\"colorbar\":{\"outlinewidth\":0,\"ticks\":\"\"}}}],\"scatterpolargl\":[{\"type\":\"scatterpolargl\",\"marker\":{\"colorbar\":{\"outlinewidth\":0,\"ticks\":\"\"}}}],\"bar\":[{\"error_x\":{\"color\":\"#f2f5fa\"},\"error_y\":{\"color\":\"#f2f5fa\"},\"marker\":{\"line\":{\"color\":\"rgb(17,17,17)\",\"width\":0.5},\"pattern\":{\"fillmode\":\"overlay\",\"size\":10,\"solidity\":0.2}},\"type\":\"bar\"}],\"scattergeo\":[{\"type\":\"scattergeo\",\"marker\":{\"colorbar\":{\"outlinewidth\":0,\"ticks\":\"\"}}}],\"scatterpolar\":[{\"type\":\"scatterpolar\",\"marker\":{\"colorbar\":{\"outlinewidth\":0,\"ticks\":\"\"}}}],\"histogram\":[{\"marker\":{\"pattern\":{\"fillmode\":\"overlay\",\"size\":10,\"solidity\":0.2}},\"type\":\"histogram\"}],\"scattergl\":[{\"marker\":{\"line\":{\"color\":\"#283442\"}},\"type\":\"scattergl\"}],\"scatter3d\":[{\"type\":\"scatter3d\",\"line\":{\"colorbar\":{\"outlinewidth\":0,\"ticks\":\"\"}},\"marker\":{\"colorbar\":{\"outlinewidth\":0,\"ticks\":\"\"}}}],\"scattermapbox\":[{\"type\":\"scattermapbox\",\"marker\":{\"colorbar\":{\"outlinewidth\":0,\"ticks\":\"\"}}}],\"scatterternary\":[{\"type\":\"scatterternary\",\"marker\":{\"colorbar\":{\"outlinewidth\":0,\"ticks\":\"\"}}}],\"scattercarpet\":[{\"type\":\"scattercarpet\",\"marker\":{\"colorbar\":{\"outlinewidth\":0,\"ticks\":\"\"}}}],\"carpet\":[{\"aaxis\":{\"endlinecolor\":\"#A2B1C6\",\"gridcolor\":\"#506784\",\"linecolor\":\"#506784\",\"minorgridcolor\":\"#506784\",\"startlinecolor\":\"#A2B1C6\"},\"baxis\":{\"endlinecolor\":\"#A2B1C6\",\"gridcolor\":\"#506784\",\"linecolor\":\"#506784\",\"minorgridcolor\":\"#506784\",\"startlinecolor\":\"#A2B1C6\"},\"type\":\"carpet\"}],\"table\":[{\"cells\":{\"fill\":{\"color\":\"#506784\"},\"line\":{\"color\":\"rgb(17,17,17)\"}},\"header\":{\"fill\":{\"color\":\"#2a3f5f\"},\"line\":{\"color\":\"rgb(17,17,17)\"}},\"type\":\"table\"}],\"barpolar\":[{\"marker\":{\"line\":{\"color\":\"rgb(17,17,17)\",\"width\":0.5},\"pattern\":{\"fillmode\":\"overlay\",\"size\":10,\"solidity\":0.2}},\"type\":\"barpolar\"}],\"pie\":[{\"automargin\":true,\"type\":\"pie\"}]},\"layout\":{\"autotypenumbers\":\"strict\",\"colorway\":[\"#636efa\",\"#EF553B\",\"#00cc96\",\"#ab63fa\",\"#FFA15A\",\"#19d3f3\",\"#FF6692\",\"#B6E880\",\"#FF97FF\",\"#FECB52\"],\"font\":{\"color\":\"#f2f5fa\"},\"hovermode\":\"closest\",\"hoverlabel\":{\"align\":\"left\"},\"paper_bgcolor\":\"rgb(17,17,17)\",\"plot_bgcolor\":\"rgb(17,17,17)\",\"polar\":{\"bgcolor\":\"rgb(17,17,17)\",\"angularaxis\":{\"gridcolor\":\"#506784\",\"linecolor\":\"#506784\",\"ticks\":\"\"},\"radialaxis\":{\"gridcolor\":\"#506784\",\"linecolor\":\"#506784\",\"ticks\":\"\"}},\"ternary\":{\"bgcolor\":\"rgb(17,17,17)\",\"aaxis\":{\"gridcolor\":\"#506784\",\"linecolor\":\"#506784\",\"ticks\":\"\"},\"baxis\":{\"gridcolor\":\"#506784\",\"linecolor\":\"#506784\",\"ticks\":\"\"},\"caxis\":{\"gridcolor\":\"#506784\",\"linecolor\":\"#506784\",\"ticks\":\"\"}},\"coloraxis\":{\"colorbar\":{\"outlinewidth\":0,\"ticks\":\"\"}},\"colorscale\":{\"sequential\":[[0.0,\"#0d0887\"],[0.1111111111111111,\"#46039f\"],[0.2222222222222222,\"#7201a8\"],[0.3333333333333333,\"#9c179e\"],[0.4444444444444444,\"#bd3786\"],[0.5555555555555556,\"#d8576b\"],[0.6666666666666666,\"#ed7953\"],[0.7777777777777778,\"#fb9f3a\"],[0.8888888888888888,\"#fdca26\"],[1.0,\"#f0f921\"]],\"sequentialminus\":[[0.0,\"#0d0887\"],[0.1111111111111111,\"#46039f\"],[0.2222222222222222,\"#7201a8\"],[0.3333333333333333,\"#9c179e\"],[0.4444444444444444,\"#bd3786\"],[0.5555555555555556,\"#d8576b\"],[0.6666666666666666,\"#ed7953\"],[0.7777777777777778,\"#fb9f3a\"],[0.8888888888888888,\"#fdca26\"],[1.0,\"#f0f921\"]],\"diverging\":[[0,\"#8e0152\"],[0.1,\"#c51b7d\"],[0.2,\"#de77ae\"],[0.3,\"#f1b6da\"],[0.4,\"#fde0ef\"],[0.5,\"#f7f7f7\"],[0.6,\"#e6f5d0\"],[0.7,\"#b8e186\"],[0.8,\"#7fbc41\"],[0.9,\"#4d9221\"],[1,\"#276419\"]]},\"xaxis\":{\"gridcolor\":\"#283442\",\"linecolor\":\"#506784\",\"ticks\":\"\",\"title\":{\"standoff\":15},\"zerolinecolor\":\"#283442\",\"automargin\":true,\"zerolinewidth\":2},\"yaxis\":{\"gridcolor\":\"#283442\",\"linecolor\":\"#506784\",\"ticks\":\"\",\"title\":{\"standoff\":15},\"zerolinecolor\":\"#283442\",\"automargin\":true,\"zerolinewidth\":2},\"scene\":{\"xaxis\":{\"backgroundcolor\":\"rgb(17,17,17)\",\"gridcolor\":\"#506784\",\"linecolor\":\"#506784\",\"showbackground\":true,\"ticks\":\"\",\"zerolinecolor\":\"#C8D4E3\",\"gridwidth\":2},\"yaxis\":{\"backgroundcolor\":\"rgb(17,17,17)\",\"gridcolor\":\"#506784\",\"linecolor\":\"#506784\",\"showbackground\":true,\"ticks\":\"\",\"zerolinecolor\":\"#C8D4E3\",\"gridwidth\":2},\"zaxis\":{\"backgroundcolor\":\"rgb(17,17,17)\",\"gridcolor\":\"#506784\",\"linecolor\":\"#506784\",\"showbackground\":true,\"ticks\":\"\",\"zerolinecolor\":\"#C8D4E3\",\"gridwidth\":2}},\"shapedefaults\":{\"line\":{\"color\":\"#f2f5fa\"}},\"annotationdefaults\":{\"arrowcolor\":\"#f2f5fa\",\"arrowhead\":0,\"arrowwidth\":1},\"geo\":{\"bgcolor\":\"rgb(17,17,17)\",\"landcolor\":\"rgb(17,17,17)\",\"subunitcolor\":\"#506784\",\"showland\":true,\"showlakes\":true,\"lakecolor\":\"rgb(17,17,17)\"},\"title\":{\"x\":0.05},\"updatemenudefaults\":{\"bgcolor\":\"#506784\",\"borderwidth\":0},\"sliderdefaults\":{\"bgcolor\":\"#C8D4E3\",\"borderwidth\":1,\"bordercolor\":\"rgb(17,17,17)\",\"tickwidth\":0},\"mapbox\":{\"style\":\"dark\"}}},\"xaxis\":{\"anchor\":\"y\",\"domain\":[0.0,1.0],\"title\":{\"text\":\"note_x\"}},\"yaxis\":{\"anchor\":\"x\",\"domain\":[0.0,1.0],\"title\":{\"text\":\"note_y\"}},\"legend\":{\"title\":{\"text\":\"playlist\"},\"tracegroupgap\":0},\"margin\":{\"t\":60}},                        {\"responsive\": true}                    ).then(function(){\n                            \nvar gd = document.getElementById('f5ed6ecb-3d05-4666-91c9-4f2d2f295a3b');\nvar x = new MutationObserver(function (mutations, observer) {{\n        var display = window.getComputedStyle(gd).display;\n        if (!display || display === 'none') {{\n            console.log([gd, 'removed!']);\n            Plotly.purge(gd);\n            observer.disconnect();\n        }}\n}});\n\n// Listen for the removal of the full notebook cells\nvar notebookContainer = gd.closest('#notebook-container');\nif (notebookContainer) {{\n    x.observe(notebookContainer, {childList: true});\n}}\n\n// Listen for the clearing of the current output cell\nvar outputEl = gd.closest('.output');\nif (outputEl) {{\n    x.observe(outputEl, {childList: true});\n}}\n\n                        })                };                });            </script>        </div>"
     },
     "metadata": {},
     "output_type": "display_data"
    }
   ],
   "source": [
    "note_trajectory_fig = px.scatter(dataset, x='note_x', y='note_y', color='playlist', hover_data=config.metadata_columns)\n",
    "note_trajectory_fig.write_image(config.image_dir + '/note-trajectory-mds.png', width=1000, scale=2)\n",
    "note_trajectory_fig"
   ]
  },
  {
   "cell_type": "markdown",
   "metadata": {},
   "source": [
    "### Chord Trajectory\n",
    "\n",
    "Here, clustering is much stronger. There are much lesser chords to choose from in this implementation of the chord trajectory."
   ]
  },
  {
   "cell_type": "code",
   "execution_count": 14,
   "metadata": {},
   "outputs": [
    {
     "data": {
      "application/vnd.plotly.v1+json": {
       "data": [
        {
         "customdata": [
          [
           "Ivan Sings",
           "Aram Khachaturian",
           "kino"
          ],
          [
           "Prélude in E Minor, Op. 28, No. 4",
           "Frédéric Chopin",
           "kino"
          ],
          [
           "Above the Trees",
           "Kino",
           "kino"
          ],
          [
           "All",
           "Kino",
           "kino"
          ],
          [
           "Anew",
           "Kino",
           "kino"
          ],
          [
           "As a Cloud",
           "Kino",
           "kino"
          ],
          [
           "Away",
           "Kino",
           "kino"
          ],
          [
           "Bloom",
           "Kino",
           "kino"
          ],
          [
           "Charleston",
           "Kino",
           "kino"
          ],
          [
           "Donau",
           "Kino",
           "kino"
          ],
          [
           "Each and Every (Ambient Mix)",
           "Kino",
           "kino"
          ],
          [
           "Each and Every (Piano)",
           "Kino",
           "kino"
          ],
          [
           "Each and Every",
           "Kino",
           "kino"
          ],
          [
           "Erlöst  Redeemed",
           "Kino",
           "kino"
          ],
          [
           "Gathering",
           "Kino",
           "kino"
          ],
          [
           "God Bless Us, Every One",
           "Kino",
           "kino"
          ],
          [
           "Hearth",
           "Kino",
           "kino"
          ],
          [
           "Hēo",
           "Kino",
           "kino"
          ],
          [
           "In Earnest",
           "Kino",
           "kino"
          ],
          [
           "Leinwand (Piano)",
           "Kino",
           "kino"
          ],
          [
           "Leinwand",
           "Kino",
           "kino"
          ],
          [
           "Lightly Tread",
           "Kino",
           "kino"
          ],
          [
           "Lone",
           "Kino",
           "kino"
          ],
          [
           "Many Colors",
           "Kino",
           "kino"
          ],
          [
           "Merrily, Merrily",
           "Kino",
           "kino"
          ],
          [
           "O Tannenbaum",
           "Kino",
           "kino"
          ],
          [
           "Presidio",
           "Kino",
           "kino"
          ],
          [
           "Rambuteau",
           "Kino",
           "kino"
          ],
          [
           "Seafarer's Quartet",
           "Kino",
           "kino"
          ],
          [
           "Seems",
           "Kino",
           "kino"
          ],
          [
           "Silent Night",
           "Kino",
           "kino"
          ],
          [
           "Silver Lake",
           "Kino",
           "kino"
          ],
          [
           "St John's",
           "Kino",
           "kino"
          ],
          [
           "Sunshine - Original",
           "Kino",
           "kino"
          ],
          [
           "Swell",
           "Kino",
           "kino"
          ],
          [
           "The Holly and the Ivy",
           "Kino",
           "kino"
          ],
          [
           "The Weight Unbearable (Piano)",
           "Kino",
           "kino"
          ],
          [
           "The Weight Unbearable",
           "Kino",
           "kino"
          ],
          [
           "Till",
           "Kino",
           "kino"
          ],
          [
           "Trio in E-flat Minor",
           "Kino",
           "kino"
          ],
          [
           "Under",
           "Kino",
           "kino"
          ],
          [
           "Water Lilies",
           "Kino",
           "kino"
          ],
          [
           "Wide Awake",
           "Kino",
           "kino"
          ],
          [
           "Willeth",
           "Kino",
           "kino"
          ],
          [
           "Wolden",
           "Kino",
           "kino"
          ],
          [
           "Yule",
           "Kino",
           "kino"
          ],
          [
           "Piano Sonata No. 14 in C-Sharp Minor, Op. 27 No. 2 “Moonlight”- I. Adagio sostenuto",
           "Ludwig van Beethoven",
           "kino"
          ]
         ],
         "hovertemplate": "playlist=%{customdata[2]}<br>chord_x=%{x}<br>chord_y=%{y}<br>song_name=%{customdata[0]}<br>artist=%{customdata[1]}<extra></extra>",
         "legendgroup": "kino",
         "marker": {
          "color": "#636efa",
          "symbol": "circle"
         },
         "mode": "markers",
         "name": "kino",
         "orientation": "v",
         "showlegend": true,
         "x": [
          0.3554091108169678,
          -1.3008057390782413,
          1.33445281355213,
          -1.0905956151882445,
          0.23544245778400133,
          1.2822681743529036,
          1.038370140428141,
          1.5172728375276239,
          0.04139380970258596,
          0.20566869230006,
          1.483451394974172,
          1.2108480555451504,
          1.0974546439401947,
          -1.0307218114814283,
          -0.7019731309358136,
          0.923121131117833,
          1.7596664502556651,
          0.24085422346472363,
          -0.04405892870362938,
          -1.0512687533567668,
          -1.139337375256146,
          0.9530790716513178,
          0.8918278233481595,
          -0.6002075457244245,
          0.9010506208265964,
          -1.4821519634639262,
          1.3199649164971918,
          1.3913760778602016,
          -0.38698220755412244,
          -0.9422915496034301,
          -0.7422857435186235,
          -0.9333594089953957,
          0.5538223988506379,
          0.0016702862668718556,
          0.5919357804981442,
          0.7246969623880891,
          0.8957750689550544,
          0.22601898961063988,
          0.04592456526623441,
          1.8205226397928622,
          -0.5416856246135381,
          1.338373864856977,
          1.1147373221062293,
          -0.05758245469530552,
          -0.4025657805516578,
          1.0868700363652661,
          0.7156784316315631
         ],
         "xaxis": "x",
         "y": [
          -1.3856591764885289,
          -0.5358466058188311,
          0.09734463506164327,
          -0.1874111734548161,
          1.0846423541423948,
          -0.8657726097027899,
          0.6103212187571291,
          -0.21115364674323986,
          0.6906188800969139,
          -0.9616268598507794,
          -0.16804826882658763,
          -0.2006933148774603,
          -0.26338037904374473,
          -0.17904612220076851,
          -0.5292091719185607,
          -0.15442836882430036,
          -0.3892526355148026,
          -0.7052156863168025,
          0.5080786728413001,
          -0.5544790971588494,
          -0.6339881917257058,
          0.37492685396554676,
          -0.8238987579938096,
          -0.1796586050504635,
          -0.14636707384343173,
          0.23850163487916742,
          -0.02627909026169213,
          0.1327476141381815,
          -0.6892479435677346,
          -0.9672019803296867,
          0.8042570795797265,
          -0.40485507988300895,
          -0.8565327202074945,
          1.2343378111060015,
          0.844316088912336,
          -0.6770613771408741,
          -0.158311204460239,
          -1.4648930908017346,
          0.5139841965896755,
          -0.34691272996079103,
          -0.7502838346087479,
          -0.8293765578971876,
          -0.3876750289392998,
          -1.836753957384061,
          -0.74512624375054,
          -0.21294001452019892,
          1.1286343306208317
         ],
         "yaxis": "y",
         "type": "scatter"
        },
        {
         "customdata": [
          [
           "But it's Destiny",
           "10cm",
           "korean-ost"
          ],
          [
           "나의 어깨에 기대어요",
           "10cm",
           "korean-ost"
          ],
          [
           "Is You",
           "AILEE",
           "korean-ost"
          ],
          [
           "How can I love the heartbreak, you're the one I love",
           "AKMU",
           "korean-ost"
          ],
          [
           "How can I love the heartbreak, you`re the one I love",
           "AKMU",
           "korean-ost"
          ],
          [
           "Amusement Park",
           "BAEKHYUN",
           "korean-ost"
          ],
          [
           "너를 사랑하고 있어",
           "BAEKHYUN",
           "korean-ost"
          ],
          [
           "Beautiful goodbye",
           "CHEN",
           "korean-ost"
          ],
          [
           "Flower",
           "CHEN",
           "korean-ost"
          ],
          [
           "I'll be there",
           "CHEN",
           "korean-ost"
          ],
          [
           "My dear",
           "CHEN",
           "korean-ost"
          ],
          [
           "Sorry not sorry",
           "CHEN",
           "korean-ost"
          ],
          [
           "Everytime",
           "CHEN",
           "korean-ost"
          ],
          [
           "Wish",
           "Choi Yuree",
           "korean-ost"
          ],
          [
           "Beautiful",
           "Crush",
           "korean-ost"
          ],
          [
           "Let Us Go",
           "Crush",
           "korean-ost"
          ],
          [
           "No Words",
           "Crush",
           "korean-ost"
          ],
          [
           "My Love",
           "DAVICHI",
           "korean-ost"
          ],
          [
           "Please Don't Cry",
           "DAVICHI",
           "korean-ost"
          ],
          [
           "Sunset",
           "DAVICHI",
           "korean-ost"
          ],
          [
           "노력해볼게요 I'll try",
           "DAY6",
           "korean-ost"
          ],
          [
           "I'm In Love With You",
           "Dvwn",
           "korean-ost"
          ],
          [
           "No Problem",
           "Dvwn",
           "korean-ost"
          ],
          [
           "긴 밤이 오면",
           "Eddy Kim",
           "korean-ost"
          ],
          [
           "Rain or Shine",
           "Elaine",
           "korean-ost"
          ],
          [
           "Hate Everything - Korean Version",
           "GSoul",
           "korean-ost"
          ],
          [
           "기억해줘요 내 모든 날과 그때를",
           "Gummy",
           "korean-ost"
          ],
          [
           "Slowly Fall",
           "Ha Hyun Sang",
           "korean-ost"
          ],
          [
           "내 맘을 볼 수 있나요",
           "HEIZE",
           "korean-ost"
          ],
          [
           "Deeply",
           "HEN",
           "korean-ost"
          ],
          [
           "To You",
           "HEN",
           "korean-ost"
          ],
          [
           "It's You",
           "HENRY",
           "korean-ost"
          ],
          [
           "Untitled Love Song",
           "HENRY",
           "korean-ost"
          ],
          [
           "Ending Scene",
           "IU",
           "korean-ost"
          ],
          [
           "Give You My Heart",
           "IU",
           "korean-ost"
          ],
          [
           "Love poem",
           "IU",
           "korean-ost"
          ],
          [
           "My sea",
           "IU",
           "korean-ost"
          ],
          [
           "Holiday",
           "JeHwi",
           "korean-ost"
          ],
          [
           "Stardust love song",
           "JIHYO",
           "korean-ost"
          ],
          [
           "What Lies Ahead",
           "Joe Layne",
           "korean-ost"
          ],
          [
           "Times Like This",
           "Josh Daniel",
           "korean-ost"
          ],
          [
           "Do you want to walk with me (Romance 101 X Jukjae)",
           "Jukjae",
           "korean-ost"
          ],
          [
           "The Days Like Pictures",
           "Jukjae",
           "korean-ost"
          ],
          [
           "나를 찾아서",
           "Jukjae",
           "korean-ost"
          ],
          [
           "별 보러 가자",
           "Jukjae",
           "korean-ost"
          ],
          [
           "Day & Night",
           "Jung Seung Hwan",
           "korean-ost"
          ],
          [
           "Because I Miss You",
           "Jung Yong Hwa",
           "korean-ost"
          ],
          [
           "For First-time Lovers (Banmal-song)",
           "Jung Yong Hwa",
           "korean-ost"
          ],
          [
           "I Go",
           "Kei (Kim Ji Yeon)",
           "korean-ost"
          ],
          [
           "보고싶다 (From. '드라마 천국의 계단')",
           "Kim Bum Soo",
           "korean-ost"
          ],
          [
           "One Day",
           "Kim Feel",
           "korean-ost"
          ],
          [
           "Someday, The Boy",
           "Kim Feel",
           "korean-ost"
          ],
          [
           "Vacance in September",
           "KIM JAE HWAN",
           "korean-ost"
          ],
          [
           "All of My Days",
           "KIMSEJEONG",
           "korean-ost"
          ],
          [
           "If Only",
           "KIMSEJEONG",
           "korean-ost"
          ],
          [
           "Lonely Night",
           "Kwon Jin Ah",
           "korean-ost"
          ],
          [
           "The End",
           "Kwon Jin Ah",
           "korean-ost"
          ],
          [
           "I Won't Heartbreaken",
           "Lee KwangHee",
           "korean-ost"
          ],
          [
           "In My Heart",
           "LIM YEON",
           "korean-ost"
          ],
          [
           "Lost",
           "LIM YEON",
           "korean-ost"
          ],
          [
           "Say Yes",
           "Loco",
           "korean-ost"
          ],
          [
           "Be There For You",
           "NCT DREAM",
           "korean-ost"
          ],
          [
           "Rainbow - Acoustic Version",
           "O.WHEN",
           "korean-ost"
          ],
          [
           "Me After You",
           "Paul Kim",
           "korean-ost"
          ],
          [
           "안녕",
           "Paul Kim",
           "korean-ost"
          ],
          [
           "But I'm Trying to Tell You How Much I Love You (With Moonbit)",
           "saevom",
           "korean-ost"
          ],
          [
           "For You",
           "Sam Kim",
           "korean-ost"
          ],
          [
           "Sunny Day Rainy Day (feat. Kassy)",
           "Sanchez",
           "korean-ost"
          ],
          [
           "Your world",
           "Seol Hoseung (SURL)",
           "korean-ost"
          ],
          [
           "Grown Ups",
           "Sondia",
           "korean-ost"
          ],
          [
           "Hug",
           "Sondia",
           "korean-ost"
          ],
          [
           "Our Souls at Night",
           "Sondia",
           "korean-ost"
          ],
          [
           "우린 친구뿐일까",
           "Sondia",
           "korean-ost"
          ],
          [
           "She",
           "Standing Egg",
           "korean-ost"
          ],
          [
           "Miracle (Feat. Paul Kim)",
           "Stella Jang",
           "korean-ost"
          ],
          [
           "One more time, One more chance",
           "Sung Si Kyung",
           "korean-ost"
          ],
          [
           "君がいるよ",
           "Sung Si Kyung",
           "korean-ost"
          ],
          [
           "Two People",
           "SURAN",
           "korean-ost"
          ],
          [
           "Inevitable",
           "Suzy",
           "korean-ost"
          ],
          [
           "Starlight",
           "TAEIL",
           "korean-ost"
          ],
          [
           "그대라는 시",
           "TAEYEON",
           "korean-ost"
          ],
          [
           "Two Words",
           "WENDY",
           "korean-ost"
          ],
          [
           "What If Love",
           "WENDY",
           "korean-ost"
          ],
          [
           "내일도 또 내일도 Tomorrow After Tomorrow",
           "WISUE",
           "korean-ost"
          ],
          [
           "Your Existence",
           "Wonstein",
           "korean-ost"
          ],
          [
           "Free",
           "Xydo",
           "korean-ost"
          ],
          [
           "너만 너만 너만",
           "Yang Dail",
           "korean-ost"
          ],
          [
           "With me",
           "Yang Dail",
           "korean-ost"
          ],
          [
           "Here I Am Again",
           "Yerin Baek",
           "korean-ost"
          ],
          [
           "Maze",
           "YONGZOO",
           "korean-ost"
          ],
          [
           "ALWAYS",
           "Yoon Mirae",
           "korean-ost"
          ],
          [
           "Flower",
           "Yoon Mirae",
           "korean-ost"
          ],
          [
           "You Are My World",
           "Yoon Mirae",
           "korean-ost"
          ],
          [
           "I Just Want To Stay With You",
           "Zion.T",
           "korean-ost"
          ],
          [
           "Faith",
           "이준화",
           "korean-ost"
          ]
         ],
         "hovertemplate": "playlist=%{customdata[2]}<br>chord_x=%{x}<br>chord_y=%{y}<br>song_name=%{customdata[0]}<br>artist=%{customdata[1]}<extra></extra>",
         "legendgroup": "korean-ost",
         "marker": {
          "color": "#EF553B",
          "symbol": "circle"
         },
         "mode": "markers",
         "name": "korean-ost",
         "orientation": "v",
         "showlegend": true,
         "x": [
          0.1610429888526763,
          1.5516050001574115,
          -0.020661764175303597,
          -0.28913116237331354,
          -0.28913116237345615,
          -0.48663146994205886,
          0.08046647316621001,
          0.821322407168861,
          -0.5077717681352164,
          0.7112177464397593,
          -0.15527054599967008,
          0.49400859430804955,
          0.6844268809041809,
          1.4027425160075793,
          0.44649785977986906,
          -0.058340190923809127,
          0.7221522232760328,
          1.1412048460169837,
          -0.17298138859275516,
          1.4210563415554895,
          -0.12515485527482126,
          -0.3834307631826496,
          -0.45195331899512386,
          -0.46749019642192335,
          1.1629746755994703,
          0.29134625637656036,
          0.3130983221420856,
          1.2218549329618937,
          -0.02116121439502801,
          -0.2849647290041357,
          0.7179496224757346,
          -0.9388905121417084,
          -0.4948129768139649,
          -0.22726511279841202,
          1.1800741383448954,
          0.7711775768634361,
          -0.10345347218536426,
          -0.4638643770629814,
          -0.6745219298899721,
          -0.8201975055869475,
          -0.2517978252865927,
          -0.27422680041924513,
          -0.49729836845202213,
          -1.0227270612769237,
          1.0935143855889902,
          0.5532634621960437,
          -0.7702091751558761,
          -0.7669131612866598,
          -1.6670989838418324,
          -0.07677071669568629,
          0.822957623880089,
          -0.5516642150168908,
          -0.6946464110453037,
          0.09301031175764975,
          1.4178624977555407,
          -0.007177931258586511,
          1.136348702712004,
          0.14680528724696315,
          1.1290134575254762,
          -0.04113417062190361,
          -0.14855851441414547,
          0.17082933621801907,
          1.1283367436155076,
          -0.6901340624520375,
          -0.6972205762167516,
          -1.0489440357636362,
          1.6471769715167999,
          -0.4335244905196751,
          -0.4086953193905692,
          -0.13890498219695382,
          -0.7815160007640779,
          1.3353486344857033,
          0.6166642184431974,
          0.06910375016960295,
          -1.2682424284612763,
          0.0037689278914124465,
          -0.7460275362626151,
          0.6158632660789144,
          0.7956319125030885,
          -0.8177719029856547,
          0.02014719835332425,
          1.5574592725303937,
          0.14313808557628074,
          0.9004749605993694,
          -0.47639289396981965,
          -0.2246890340791494,
          0.9284928175486352,
          -0.017667161021479503,
          -0.12454470961119282,
          0.4079983094290447,
          0.6486148317402455,
          1.3298224033242747,
          0.5332728196917794,
          -0.7072633254507937,
          -1.1408637027001942
         ],
         "xaxis": "x",
         "y": [
          -1.016616037018101,
          0.6254051165652292,
          0.5610427951132428,
          -0.9616562590201078,
          -0.9616562590201353,
          -0.8117354522330151,
          0.8875608878651475,
          -0.7530972811366438,
          0.9998820016032643,
          0.3967814843619073,
          0.6339911004275498,
          -1.028130339455101,
          -0.7033958741927553,
          -0.04735775436097906,
          -1.143018431285949,
          -1.3434092490200693,
          0.5656337342655852,
          -0.5951779613799221,
          -1.4462931260259384,
          -0.44560164748753905,
          0.427220434797552,
          -1.2024483181008971,
          0.6930351183902529,
          -1.1132067065876547,
          0.9277254089774908,
          -0.8380292422634538,
          0.6687496359389158,
          0.22175802128877964,
          0.5526739638043576,
          -0.6639889154882233,
          -0.17805009242126718,
          -0.2523819770678094,
          -0.4097383660507127,
          -1.2084665474239722,
          -0.5252048356626651,
          0.9147195181005648,
          0.21877475621294196,
          0.8434956855716986,
          1.1289514827102243,
          0.24897343522300752,
          0.9367643552125431,
          0.24003469057553073,
          -0.6996845259471539,
          -0.2808468319306422,
          -0.6153404942198961,
          -0.6236166582499529,
          -0.540307067139391,
          0.5566407873970703,
          -0.04475926685369806,
          -0.8588736173432049,
          0.84625202911532,
          -1.2086962462158741,
          -0.37677178402736733,
          1.2543345297083535,
          0.32607273028515615,
          -1.192527651542454,
          -0.4964083413971376,
          1.1135043263106184,
          1.0982574823734983,
          0.8941232603955763,
          0.9472063482343633,
          0.8482394862616939,
          0.9000094540442977,
          -0.7328169987282079,
          -0.6320405402453289,
          0.0790652638480571,
          0.3221035259119434,
          -0.8271822226932147,
          -0.39816177237747025,
          0.6045519053203532,
          0.6072921231229124,
          0.6400405083032997,
          -1.2778501338792616,
          1.3768431858203358,
          -0.30644744233737514,
          0.30487732497317765,
          0.9074032095146128,
          -0.6602072851909878,
          -0.8207391899392527,
          0.4340728418226946,
          0.5476458810664352,
          -0.14732827464102358,
          0.34479546794514104,
          0.13834069044969716,
          -0.5938139255875384,
          0.7813320348403013,
          0.054307499377296814,
          0.6816456716677944,
          0.7200615821796007,
          -1.1495096218900678,
          -1.2664932621597662,
          0.03466544398643739,
          -1.1481002236423947,
          0.9386974813322387,
          0.7704863472403104
         ],
         "yaxis": "y",
         "type": "scatter"
        },
        {
         "customdata": [
          [
           "A Speck of Light - Reimagined",
           "Lights & Motion",
           "lights-and-motion"
          ],
          [
           "A Speck of Light",
           "Lights & Motion",
           "lights-and-motion"
          ],
          [
           "All the Way",
           "Lights & Motion",
           "lights-and-motion"
          ],
          [
           "Anamorphic",
           "Lights & Motion",
           "lights-and-motion"
          ],
          [
           "Anchor",
           "Lights & Motion",
           "lights-and-motion"
          ],
          [
           "Anomaly",
           "Lights & Motion",
           "lights-and-motion"
          ],
          [
           "Antlers",
           "Lights & Motion",
           "lights-and-motion"
          ],
          [
           "Arms Wide Open",
           "Lights & Motion",
           "lights-and-motion"
          ],
          [
           "As the World Goes Away",
           "Lights & Motion",
           "lights-and-motion"
          ],
          [
           "As They Sleep",
           "Lights & Motion",
           "lights-and-motion"
          ],
          [
           "Aurora",
           "Lights & Motion",
           "lights-and-motion"
          ],
          [
           "Deafening Silence",
           "Lights & Motion",
           "lights-and-motion"
          ],
          [
           "DNA",
           "Lights & Motion",
           "lights-and-motion"
          ],
          [
           "Equals",
           "Lights & Motion",
           "lights-and-motion"
          ],
          [
           "Everest",
           "Lights & Motion",
           "lights-and-motion"
          ],
          [
           "Exhale",
           "Lights & Motion",
           "lights-and-motion"
          ],
          [
           "Feathers",
           "Lights & Motion",
           "lights-and-motion"
          ],
          [
           "Fireflies",
           "Lights & Motion",
           "lights-and-motion"
          ],
          [
           "From Dust",
           "Lights & Motion",
           "lights-and-motion"
          ],
          [
           "Glistening - Reimagined",
           "Lights & Motion",
           "lights-and-motion"
          ],
          [
           "Glistening",
           "Lights & Motion",
           "lights-and-motion"
          ],
          [
           "Glow",
           "Lights & Motion",
           "lights-and-motion"
          ],
          [
           "I See You (feat. Frida Sundemo)",
           "Lights & Motion",
           "lights-and-motion"
          ],
          [
           "I See You - Reimagined (feat. Frida Sundemo)",
           "Lights & Motion",
           "lights-and-motion"
          ],
          [
           "Lucid Dreaming",
           "Lights & Motion",
           "lights-and-motion"
          ],
          [
           "Northern Lights",
           "Lights & Motion",
           "lights-and-motion"
          ],
          [
           "Pandora",
           "Lights & Motion",
           "lights-and-motion"
          ],
          [
           "Panic Attack",
           "Lights & Motion",
           "lights-and-motion"
          ],
          [
           "Paper Wings",
           "Lights & Motion",
           "lights-and-motion"
          ],
          [
           "Parachutes",
           "Lights & Motion",
           "lights-and-motion"
          ],
          [
           "Particle Storm",
           "Lights & Motion",
           "lights-and-motion"
          ],
          [
           "Perfect Symmetry",
           "Lights & Motion",
           "lights-and-motion"
          ],
          [
           "Phoenix",
           "Lights & Motion",
           "lights-and-motion"
          ],
          [
           "Reanimation - Revisited 10th Anniversary Edition",
           "Lights & Motion",
           "lights-and-motion"
          ],
          [
           "Reborn",
           "Lights & Motion",
           "lights-and-motion"
          ],
          [
           "Separated Hearts - Reimagined",
           "Lights & Motion",
           "lights-and-motion"
          ],
          [
           "Separated Hearts",
           "Lights & Motion",
           "lights-and-motion"
          ],
          [
           "Silver Lining",
           "Lights & Motion",
           "lights-and-motion"
          ],
          [
           "Sleeping Giant",
           "Lights & Motion",
           "lights-and-motion"
          ],
          [
           "Sypher",
           "Lights & Motion",
           "lights-and-motion"
          ],
          [
           "The First Day",
           "Lights & Motion",
           "lights-and-motion"
          ],
          [
           "The Great Wide Open - Reimagined",
           "Lights & Motion",
           "lights-and-motion"
          ],
          [
           "The Great Wide Open",
           "Lights & Motion",
           "lights-and-motion"
          ],
          [
           "The Moments Before",
           "Lights & Motion",
           "lights-and-motion"
          ],
          [
           "The Spectacular Quiet",
           "Lights & Motion",
           "lights-and-motion"
          ],
          [
           "The World I Remember",
           "Lights & Motion",
           "lights-and-motion"
          ],
          [
           "This Explosion Within",
           "Lights & Motion",
           "lights-and-motion"
          ],
          [
           "Touching Sky",
           "Lights & Motion",
           "lights-and-motion"
          ],
          [
           "We Only Have Forever",
           "Lights & Motion",
           "lights-and-motion"
          ],
          [
           "When Everything Is Falling",
           "Lights & Motion",
           "lights-and-motion"
          ],
          [
           "Wilderness",
           "Lights & Motion",
           "lights-and-motion"
          ],
          [
           "Winter Solstice",
           "Lights & Motion",
           "lights-and-motion"
          ],
          [
           "Wolves (feat. Johan Hasselblom)",
           "Lights & Motion",
           "lights-and-motion"
          ],
          [
           "Wolves - Reimagined (feat. Johan Hasselblom)",
           "Lights & Motion",
           "lights-and-motion"
          ],
          [
           "Woven",
           "Lights & Motion",
           "lights-and-motion"
          ],
          [
           "Year Zero",
           "Lights & Motion",
           "lights-and-motion"
          ]
         ],
         "hovertemplate": "playlist=%{customdata[2]}<br>chord_x=%{x}<br>chord_y=%{y}<br>song_name=%{customdata[0]}<br>artist=%{customdata[1]}<extra></extra>",
         "legendgroup": "lights-and-motion",
         "marker": {
          "color": "#00cc96",
          "symbol": "circle"
         },
         "mode": "markers",
         "name": "lights-and-motion",
         "orientation": "v",
         "showlegend": true,
         "x": [
          -0.6092694823889145,
          -0.4393132973409615,
          -0.7260646498843852,
          -0.5680735872205911,
          -1.3054425583134992,
          -1.2331867071370448,
          0.12993074141231684,
          -0.7175740780021292,
          -0.11151993408563166,
          -0.8347608606272601,
          -0.4906528355441238,
          -0.377268172577149,
          0.04522014321803299,
          -0.41909024856117316,
          -0.437593570720174,
          -0.714629762595913,
          -0.3826245870014237,
          -1.0566759676190083,
          -0.7350904952923103,
          -0.8512486677874733,
          -0.9693883167194328,
          -0.4176954645330226,
          -0.5232238002425388,
          -0.45972522620860934,
          0.09659187482716836,
          1.4879173534655534,
          0.27562390466294534,
          -0.9676737751736904,
          -0.387912710992779,
          -0.35775598810441067,
          -1.050627938837098,
          0.08543018979388343,
          0.4902040076236102,
          -0.5214270290221028,
          -1.1938417871685205,
          -0.004078723832535342,
          -0.11888009947497466,
          -0.38555648521531194,
          -0.7042653122257534,
          0.0056613870675897,
          -0.42074134046739253,
          -1.3163834816071769,
          -0.9325137620173464,
          -0.847119238505883,
          -0.37879267894436963,
          -0.5381897396842507,
          -0.3641882429102009,
          -0.804147417328622,
          0.03565564431993337,
          -0.21186031358076135,
          -0.8026080456292303,
          -0.3561529846723696,
          -0.08438833198797048,
          0.4976034245845791,
          -0.7072323723325217,
          -0.5594086924126791
         ],
         "xaxis": "x",
         "y": [
          -0.6844566897509067,
          -0.6365853741130155,
          0.7704428911028978,
          -0.8358846359648218,
          -0.15847128663678342,
          -0.7892910300053692,
          1.0051701043801247,
          0.5793376302216372,
          0.9201299340180533,
          -0.9204755220734839,
          -0.9081305420880511,
          -0.31471057024153026,
          0.4988896109121575,
          -0.6900182938354468,
          -0.3615714362053456,
          0.8600543238410401,
          -0.5969929548987514,
          0.24086913909386462,
          0.5654776039183935,
          0.7439770239283063,
          0.9325089442151299,
          -0.6636591553631881,
          -0.5534580407977507,
          -0.5522086874575187,
          1.0107416893862733,
          0.19088597708150998,
          0.7285126924576429,
          1.321420181006976,
          -0.644383743868709,
          -0.6709281549209659,
          -0.498283517299393,
          0.8073215221870308,
          0.7697825439653817,
          -0.4044622976559021,
          0.4814259668719428,
          0.8035389205954538,
          0.6039493926745142,
          -0.5817174157856276,
          0.6522145102120966,
          0.7783312617839803,
          -0.4894979206144754,
          0.15074973272584247,
          0.2372756585367869,
          0.35827708767417654,
          -0.7217810025923579,
          -0.4872162791149483,
          -0.42975065653384564,
          -0.8370912970115066,
          0.9706783561581537,
          0.8762509312663915,
          0.538149010475462,
          -0.6626200916344415,
          -0.8982401100685131,
          -1.0379759794365988,
          0.6141202582505104,
          1.5302045581787371
         ],
         "yaxis": "y",
         "type": "scatter"
        },
        {
         "customdata": [
          [
           "Another Wave from You",
           "M83",
           "m83"
          ],
          [
           "Claudia Lewis",
           "M83",
           "m83"
          ],
          [
           "Echoes of Mine",
           "M83",
           "m83"
          ],
          [
           "Fountains",
           "M83",
           "m83"
          ],
          [
           "Intro",
           "M83",
           "m83"
          ],
          [
           "Klaus I Love You",
           "M83",
           "m83"
          ],
          [
           "Midnight City",
           "M83",
           "m83"
          ],
          [
           "My Tears Are Becoming a Sea",
           "M83",
           "m83"
          ],
          [
           "New Map",
           "M83",
           "m83"
          ],
          [
           "Ok Pal",
           "M83",
           "m83"
          ],
          [
           "Outro",
           "M83",
           "m83"
          ],
          [
           "Raconte-moi une histoire",
           "M83",
           "m83"
          ],
          [
           "Reunion",
           "M83",
           "m83"
          ],
          [
           "Soon, My Friend",
           "M83",
           "m83"
          ],
          [
           "Splendor",
           "M83",
           "m83"
          ],
          [
           "Steve Mcqueen",
           "M83",
           "m83"
          ],
          [
           "This Bright Flash",
           "M83",
           "m83"
          ],
          [
           "Train to Pluton",
           "M83",
           "m83"
          ],
          [
           "Wait",
           "M83",
           "m83"
          ],
          [
           "When Will You Come Home",
           "M83",
           "m83"
          ],
          [
           "Where the Boats Go",
           "M83",
           "m83"
          ],
          [
           "Year One, One Ufo",
           "M83",
           "m83"
          ],
          [
           "Ashes of Our Fathers",
           "M83",
           "m83"
          ],
          [
           "Canyon Battle",
           "M83",
           "m83"
          ],
          [
           "Earth 2077",
           "M83",
           "m83"
          ],
          [
           "Fearful Odds",
           "M83",
           "m83"
          ],
          [
           "I'm Sending You Away",
           "M83",
           "m83"
          ],
          [
           "Jack's Dream",
           "M83",
           "m83"
          ],
          [
           "Losing Control",
           "M83",
           "m83"
          ],
          [
           "Odyssey Rescue",
           "M83",
           "m83"
          ],
          [
           "Radiation Zone",
           "M83",
           "m83"
          ],
          [
           "Raven Rock",
           "M83",
           "m83"
          ],
          [
           "StarWaves",
           "M83",
           "m83"
          ],
          [
           "Tech 49",
           "M83",
           "m83"
          ],
          [
           "Temples of Our Gods",
           "M83",
           "m83"
          ],
          [
           "Undimmed by Time, Unbound by Death",
           "M83",
           "m83"
          ],
          [
           "Waking Up",
           "M83",
           "m83"
          ],
          [
           "You Can't Save Her",
           "M83",
           "m83"
          ],
          [
           "Oblivion",
           "M83",
           "m83"
          ]
         ],
         "hovertemplate": "playlist=%{customdata[2]}<br>chord_x=%{x}<br>chord_y=%{y}<br>song_name=%{customdata[0]}<br>artist=%{customdata[1]}<extra></extra>",
         "legendgroup": "m83",
         "marker": {
          "color": "#ab63fa",
          "symbol": "circle"
         },
         "mode": "markers",
         "name": "m83",
         "orientation": "v",
         "showlegend": true,
         "x": [
          1.5781116999501903,
          -0.9120038617032483,
          -1.040013355791613,
          1.02220544414604,
          0.6401035416167489,
          0.06458601100704423,
          -0.1988169560262313,
          0.12280151991946309,
          -0.13396708162299764,
          0.13192558993124523,
          -0.7408239038072169,
          0.5131343736456409,
          -0.7210246631465324,
          -0.34423553027540477,
          -0.43108230407482295,
          -0.36544777643558246,
          -1.004634729590314,
          -0.35494486347891674,
          -0.9008419418439021,
          1.0620380936238467,
          0.8755039303358149,
          0.01986584076239986,
          0.10854332842832277,
          -0.8349948757743371,
          -0.1293138929040948,
          0.8744048197153582,
          -1.117262915390841,
          1.0301066350295882,
          0.013722902679970526,
          -1.2015556020891245,
          -1.2392613421576375,
          1.1632129701063578,
          0.18970416373486146,
          -0.31515368403524247,
          -0.19138322966371454,
          1.1159144939135108,
          -0.3268342749225702,
          1.121108281917548,
          -0.4625899930412762
         ],
         "xaxis": "x",
         "y": [
          0.01419997752345342,
          -0.34707373832789723,
          -0.5985153678578436,
          1.0453169724504703,
          1.0949411775270799,
          0.6451322688532748,
          0.5934150360153957,
          1.1727041626555834,
          0.5377048684731589,
          0.5625573346152677,
          0.5156131316111598,
          -0.5932657804495306,
          -0.0569030882088753,
          -0.6378608342354715,
          0.7503204251348121,
          0.6434844412968245,
          -0.3672296978652442,
          -0.5522547508451472,
          0.5283855337424863,
          0.07363736016389466,
          0.457161443805669,
          0.9675794435324893,
          0.45413372514844896,
          -0.06331104354455744,
          0.26698795272817144,
          -0.8484002820772264,
          0.1265423473858592,
          -0.011919637169119238,
          0.4288841749192179,
          -0.15598891099813209,
          0.36236070664402736,
          -0.8637142248919817,
          -1.180049308439303,
          0.33733035909428705,
          -1.0373311061355066,
          -0.07422697443798797,
          -1.0810606567867493,
          0.4078563640179679,
          0.2608876138555878
         ],
         "yaxis": "y",
         "type": "scatter"
        },
        {
         "customdata": [
          [
           "A Moment Apart",
           "ODESZA",
           "odesza"
          ],
          [
           "Across The Room (feat. Leon Bridges)",
           "ODESZA",
           "odesza"
          ],
          [
           "Boy",
           "ODESZA",
           "odesza"
          ],
          [
           "Corners Of The Earth (feat. RY X)",
           "ODESZA",
           "odesza"
          ],
          [
           "Divide (feat. Kelsey Bulkin)",
           "ODESZA",
           "odesza"
          ],
          [
           "Everything At Your Feet (feat. The Chamanas)",
           "ODESZA",
           "odesza"
          ],
          [
           "Falls (feat. Sasha Alex Sloan)",
           "ODESZA",
           "odesza"
          ],
          [
           "Falls (Reprise) (feat. Sasha Alex Sloan)",
           "ODESZA",
           "odesza"
          ],
          [
           "Falls (Reprise) - Instrumental",
           "ODESZA",
           "odesza"
          ],
          [
           "Higher Ground (feat. Naomi Wild)",
           "ODESZA",
           "odesza"
          ],
          [
           "Higher Ground (Reprise) (feat. Naomi Wild)",
           "ODESZA",
           "odesza"
          ],
          [
           "Higher Ground (Reprise) - Instrumental",
           "ODESZA",
           "odesza"
          ],
          [
           "Intro",
           "ODESZA",
           "odesza"
          ],
          [
           "It’s Only (feat. Zyra) - ODESZA VIP Remix",
           "ODESZA",
           "odesza"
          ],
          [
           "Just A Memory (feat. Regina Spektor)",
           "ODESZA",
           "odesza"
          ],
          [
           "La Ciudad",
           "ODESZA",
           "odesza"
          ],
          [
           "Late Night",
           "ODESZA",
           "odesza"
          ],
          [
           "Line Of Sight (feat. WYNNE & Mansionair)",
           "ODESZA",
           "odesza"
          ],
          [
           "Line Of Sight (Reprise) (feat. WYNNE & Mansionair)",
           "ODESZA",
           "odesza"
          ],
          [
           "Line Of Sight (Reprise) - Instrumental",
           "ODESZA",
           "odesza"
          ],
          [
           "Loyal",
           "ODESZA",
           "odesza"
          ],
          [
           "Memories That You Call (feat. Monsoonsiren) - ODESZA & Golden Features VIP Remix",
           "ODESZA",
           "odesza"
          ],
          [
           "Meridian",
           "ODESZA",
           "odesza"
          ],
          [
           "Show Me",
           "ODESZA",
           "odesza"
          ],
          [
           "Thin Floors And Tall Ceilings",
           "ODESZA",
           "odesza"
          ]
         ],
         "hovertemplate": "playlist=%{customdata[2]}<br>chord_x=%{x}<br>chord_y=%{y}<br>song_name=%{customdata[0]}<br>artist=%{customdata[1]}<extra></extra>",
         "legendgroup": "odesza",
         "marker": {
          "color": "#FFA15A",
          "symbol": "circle"
         },
         "mode": "markers",
         "name": "odesza",
         "orientation": "v",
         "showlegend": true,
         "x": [
          -0.1571083990414778,
          1.302620860321955,
          -0.9682482107281919,
          -0.3979641919071229,
          -0.5776631573296936,
          -0.8129467216634673,
          -1.751828125477915,
          1.0663439442897418,
          1.2819429102408133,
          0.20042792496993292,
          1.3625427115554782,
          1.4715435399181953,
          -0.15440507284776508,
          -0.2566734834615813,
          -0.9116857639617585,
          -0.7008756564600872,
          -0.5681812245120813,
          -0.23625306112015632,
          0.9918070590895469,
          0.9695382798971883,
          -0.2971691289320894,
          -1.1938795538648554,
          0.052589408770480434,
          -0.27083112868545967,
          0.11576950775368426
         ],
         "xaxis": "x",
         "y": [
          -1.2086171083651014,
          0.6905800769820519,
          0.28451045639528816,
          1.1899640197451595,
          -0.4345738103291267,
          0.31794236789713304,
          -0.17822565208306193,
          0.784999763491828,
          0.9374225125000116,
          0.6168691156676486,
          0.9299697284176844,
          1.0147386496792767,
          0.5474838364584966,
          0.428662602192465,
          -0.6783457719106148,
          0.8118577869452642,
          0.4231981063737,
          -1.0681281746505071,
          -0.2635662719723997,
          -0.18463978990685379,
          0.7655969412163,
          0.43524748499567767,
          0.398540832476802,
          0.6575325851628891,
          -1.0539801377000009
         ],
         "yaxis": "y",
         "type": "scatter"
        },
        {
         "customdata": [
          [
           "April 10, 2019- Powehi - Image of a Black Hole",
           "Sleeping At Last",
           "sleeping-at-last"
          ],
          [
           "August 12, 2018- Perseid Meteor Shower",
           "Sleeping At Last",
           "sleeping-at-last"
          ],
          [
           "August 21, 2017- Total Solar Eclipse",
           "Sleeping At Last",
           "sleeping-at-last"
          ],
          [
           "December 13, 2017- Geminid Meteor Shower",
           "Sleeping At Last",
           "sleeping-at-last"
          ],
          [
           "December 17, 2018- Farout",
           "Sleeping At Last",
           "sleeping-at-last"
          ],
          [
           "December 21, 2020- The Great Conjunction",
           "Sleeping At Last",
           "sleeping-at-last"
          ],
          [
           "December 25, 2021- Webb Space Telescope - Launch",
           "Sleeping At Last",
           "sleeping-at-last"
          ],
          [
           "February 1, 2023- C2022 E3 - Comet Ztf",
           "Sleeping At Last",
           "sleeping-at-last"
          ],
          [
           "February 13, 2019- Opportunity - Mission Complete",
           "Sleeping At Last",
           "sleeping-at-last"
          ],
          [
           "February 18, 2021- Perseverance - Mars Landing",
           "Sleeping At Last",
           "sleeping-at-last"
          ],
          [
           "January 30, 2020- Spitzer - Final Voyage",
           "Sleeping At Last",
           "sleeping-at-last"
          ],
          [
           "January 31, 2018- Super Blue Blood Moon",
           "Sleeping At Last",
           "sleeping-at-last"
          ],
          [
           "July 22, 2020- C  2020 F3 - Comet Neowise",
           "Sleeping At Last",
           "sleeping-at-last"
          ],
          [
           "July 27, 2018- Total Lunar Eclipse",
           "Sleeping At Last",
           "sleeping-at-last"
          ],
          [
           "July 4, 2020- Aphelion",
           "Sleeping At Last",
           "sleeping-at-last"
          ],
          [
           "June 24, 2022- Parade of Planets",
           "Sleeping At Last",
           "sleeping-at-last"
          ],
          [
           "June 30, 2018- Pds 70b (Birth of a Planet)",
           "Sleeping At Last",
           "sleeping-at-last"
          ],
          [
           "October 30, 2018- Kepler - Goodnight",
           "Sleeping At Last",
           "sleeping-at-last"
          ],
          [
           "September 15, 2017- Cassini - The Grand Finale",
           "Sleeping At Last",
           "sleeping-at-last"
          ]
         ],
         "hovertemplate": "playlist=%{customdata[2]}<br>chord_x=%{x}<br>chord_y=%{y}<br>song_name=%{customdata[0]}<br>artist=%{customdata[1]}<extra></extra>",
         "legendgroup": "sleeping-at-last",
         "marker": {
          "color": "#19d3f3",
          "symbol": "circle"
         },
         "mode": "markers",
         "name": "sleeping-at-last",
         "orientation": "v",
         "showlegend": true,
         "x": [
          -0.9297680175899828,
          -0.15114132026352775,
          1.24630292920683,
          0.9489201686935502,
          -0.5368074557310129,
          0.7359658687253504,
          -0.8439118858203021,
          0.8425340906190335,
          -1.124093722445518,
          0.9647883298161373,
          -0.6429458851646614,
          -0.5562366933488727,
          0.13657386593740733,
          1.3855802429037547,
          -0.0954818273950453,
          0.7690164043544874,
          0.45563305972262363,
          0.8306545383581849,
          0.7037717036655355
         ],
         "xaxis": "x",
         "y": [
          -0.2083607810519861,
          1.2175850233622953,
          0.47875839677947446,
          0.1194084685000088,
          -0.7059214517138909,
          -0.6080305043809161,
          0.7205896197731491,
          -0.515645952160576,
          0.577250466472746,
          0.1820146022719128,
          -0.6970428907902727,
          -0.6676979147991134,
          1.2045993883726724,
          -0.540049969945297,
          -0.4848094449245784,
          0.9956679292271451,
          0.5768452967773929,
          -0.5883941666860051,
          -1.1987156060403585
         ],
         "yaxis": "y",
         "type": "scatter"
        },
        {
         "customdata": [
          [
           "It's Ok If You Forget Me",
           "Astrid S",
           "synth-pop"
          ],
          [
           "Young & Alive",
           "Bazzi",
           "synth-pop"
          ],
          [
           "Paralyze",
           "Bjørnskov",
           "synth-pop"
          ],
          [
           "San Diego",
           "BRDGS",
           "synth-pop"
          ],
          [
           "Ear Candy",
           "Caye",
           "synth-pop"
          ],
          [
           "12 Hours",
           "Chris James",
           "synth-pop"
          ],
          [
           "My Universe",
           "Coldplay",
           "synth-pop"
          ],
          [
           "Overdrive",
           "Conan Gray",
           "synth-pop"
          ],
          [
           "Titanic",
           "Cosmo's Midnight",
           "synth-pop"
          ],
          [
           "Champagne For Two",
           "Devin Kennedy",
           "synth-pop"
          ],
          [
           "Another Round",
           "Elina",
           "synth-pop"
          ],
          [
           "How",
           "Elina",
           "synth-pop"
          ],
          [
           "Paper Planes",
           "Elina",
           "synth-pop"
          ],
          [
           "Nirvana",
           "ELLIANA",
           "synth-pop"
          ],
          [
           "Lost In Space",
           "Emmit Fenn",
           "synth-pop"
          ],
          [
           "12-45 - Stripped",
           "Etham",
           "synth-pop"
          ],
          [
           "Purpose - Stripped",
           "Etham",
           "synth-pop"
          ],
          [
           "California",
           "Ethan Dufault",
           "synth-pop"
          ],
          [
           "Hurt The Ones We Love The Most",
           "Evan Blum",
           "synth-pop"
          ],
          [
           "Young Love",
           "Falcon",
           "synth-pop"
          ],
          [
           "I Should've Told You",
           "Fiji Blue",
           "synth-pop"
          ],
          [
           "Waves",
           "Fiji Blue",
           "synth-pop"
          ],
          [
           "Healing",
           "FLETCHER",
           "synth-pop"
          ],
          [
           "hold on",
           "flor",
           "synth-pop"
          ],
          [
           "Automatic (feat. Jake Miller)",
           "Fly By Midnight",
           "synth-pop"
          ],
          [
           "Lovely",
           "Fly By Midnight",
           "synth-pop"
          ],
          [
           "Lonely",
           "Gatsby",
           "synth-pop"
          ],
          [
           "dear me,",
           "Gentle Bones",
           "synth-pop"
          ],
          [
           "I Wouldn't Know Any Better Than You",
           "Gentle Bones",
           "synth-pop"
          ],
          [
           "So Far So Good",
           "Great Good Fine Ok",
           "synth-pop"
          ],
          [
           "Falling",
           "Harry Styles",
           "synth-pop"
          ],
          [
           "sometimes",
           "Heather Sommer",
           "synth-pop"
          ],
          [
           "you heard me",
           "Heather Sommer",
           "synth-pop"
          ],
          [
           "Crying Over You ◐",
           "HONNE",
           "synth-pop"
          ],
          [
           "Day Dreaming",
           "Jack & Jack",
           "synth-pop"
          ],
          [
           "Ross And Rachel",
           "Jake Miller",
           "synth-pop"
          ],
          [
           "Showing You Off",
           "Jake Miller",
           "synth-pop"
          ],
          [
           "Like No One Does",
           "Jake Scott",
           "synth-pop"
          ],
          [
           "CWJBHN",
           "Jake Scott",
           "synth-pop"
          ],
          [
           "drive all night",
           "joan",
           "synth-pop"
          ],
          [
           "i loved you first",
           "joan",
           "synth-pop"
          ],
          [
           "love somebody like you",
           "joan",
           "synth-pop"
          ],
          [
           "magnetic",
           "joan",
           "synth-pop"
          ],
          [
           "6 months",
           "John K",
           "synth-pop"
          ],
          [
           "ilym (feat. ROSIE)",
           "John K",
           "synth-pop"
          ],
          [
           "I Believe",
           "Jonas Brothers",
           "synth-pop"
          ],
          [
           "I Quit Drinking",
           "Kelsea Ballerini",
           "synth-pop"
          ],
          [
           "13",
           "LANY",
           "synth-pop"
          ],
          [
           "dancing in the kitchen",
           "LANY",
           "synth-pop"
          ],
          [
           "dna",
           "LANY",
           "synth-pop"
          ],
          [
           "get away",
           "LANY",
           "synth-pop"
          ],
          [
           "I Don't Wanna Love You Anymore",
           "LANY",
           "synth-pop"
          ],
          [
           "if this is the last time",
           "LANY",
           "synth-pop"
          ],
          [
           "ILYSB - STRIPPED",
           "LANY",
           "synth-pop"
          ],
          [
           "ILYSB",
           "LANY",
           "synth-pop"
          ],
          [
           "Let Me Know",
           "LANY",
           "synth-pop"
          ],
          [
           "Malibu Nights",
           "LANY",
           "synth-pop"
          ],
          [
           "Super Far",
           "LANY",
           "synth-pop"
          ],
          [
           "Thru These Tears",
           "LANY",
           "synth-pop"
          ],
          [
           "up to me",
           "LANY",
           "synth-pop"
          ],
          [
           "you!",
           "LANY",
           "synth-pop"
          ],
          [
           "Tattoos Together",
           "Lauv",
           "synth-pop"
          ],
          [
           "When We Were Younger",
           "Loving Caliber",
           "synth-pop"
          ],
          [
           "Love You Back",
           "Madeon",
           "synth-pop"
          ],
          [
           "colorblind",
           "Mokita",
           "synth-pop"
          ],
          [
           "London",
           "Mokita",
           "synth-pop"
          ],
          [
           "Ready Yet",
           "Mokita",
           "synth-pop"
          ],
          [
           "Shut Up I Love U",
           "Neptune",
           "synth-pop"
          ],
          [
           "This Is Heaven",
           "Nick Jonas",
           "synth-pop"
          ],
          [
           "Plot Twist",
           "NIKI",
           "synth-pop"
          ],
          [
           "Waves",
           "Paige",
           "synth-pop"
          ],
          [
           "Shelter",
           "Porter Robinson",
           "synth-pop"
          ],
          [
           "Outsider",
           "Rachel Grae",
           "synth-pop"
          ],
          [
           "Dandelions",
           "Ruth B.",
           "synth-pop"
          ],
          [
           "Lie",
           "Sasha Alex Sloan",
           "synth-pop"
          ],
          [
           "Day Dreaming",
           "Sopha",
           "synth-pop"
          ],
          [
           "I Always Wanna Die (Sometimes)",
           "The 1975",
           "synth-pop"
          ],
          [
           "I'm In Love With You",
           "The 1975",
           "synth-pop"
          ],
          [
           "It's Not Living (If It's Not With You)",
           "The 1975",
           "synth-pop"
          ],
          [
           "Robbers",
           "The 1975",
           "synth-pop"
          ],
          [
           "She's American",
           "The 1975",
           "synth-pop"
          ],
          [
           "Somebody Else",
           "The 1975",
           "synth-pop"
          ],
          [
           "Going Home",
           "The Aces",
           "synth-pop"
          ],
          [
           "Sunset",
           "The Midnight",
           "synth-pop"
          ],
          [
           "Say So",
           "The Sam Willows",
           "synth-pop"
          ],
          [
           "I Can't Stop Thinking About You",
           "The Shadowboxers",
           "synth-pop"
          ],
          [
           "Strawberries & Cigarettes",
           "Troye Sivan",
           "synth-pop"
          ],
          [
           "If Only for Tonight",
           "Vacation Manor",
           "synth-pop"
          ],
          [
           "rocket science",
           "vaultboy",
           "synth-pop"
          ],
          [
           "no excuses",
           "Virginia To Vegas",
           "synth-pop"
          ],
          [
           "Got A Little Crush On You",
           "Wildflowers",
           "synth-pop"
          ],
          [
           "Talking To Myself",
           "Will Jay",
           "synth-pop"
          ],
          [
           "Dance Like Nobody's Watching",
           "Yuna",
           "synth-pop"
          ],
          [
           "dancing in the kitchen",
           "Zachary Knowles",
           "synth-pop"
          ],
          [
           "stranger to me",
           "Zachary Knowles",
           "synth-pop"
          ],
          [
           "could you love me while i hate myself",
           "Zeph",
           "synth-pop"
          ]
         ],
         "hovertemplate": "playlist=%{customdata[2]}<br>chord_x=%{x}<br>chord_y=%{y}<br>song_name=%{customdata[0]}<br>artist=%{customdata[1]}<extra></extra>",
         "legendgroup": "synth-pop",
         "marker": {
          "color": "#FF6692",
          "symbol": "circle"
         },
         "mode": "markers",
         "name": "synth-pop",
         "orientation": "v",
         "showlegend": true,
         "x": [
          0.6222559696883824,
          1.0826863099339807,
          -1.2499198808319916,
          0.042065225653333135,
          -0.7384010852539057,
          0.4099543906970919,
          0.09188732310920726,
          -0.9378120301510021,
          -0.8622316803950786,
          -1.0213968083263711,
          -0.6943464262025875,
          1.0399899480284558,
          0.9070181016529091,
          0.29561139068990816,
          0.7211786794635472,
          -0.36223458029715566,
          1.2567404794211172,
          -0.05662184745567392,
          -0.03842104103921811,
          0.376804551896914,
          0.8919416018781547,
          -0.19725648001648285,
          -0.860860058095681,
          -0.29649826165083515,
          0.876581195249218,
          -0.4072610301861028,
          0.6352765655102831,
          0.5744837350442499,
          -0.507983302231907,
          -0.3374062844071849,
          0.1681878965770952,
          -0.04901754408143528,
          -0.6085371609284823,
          -0.6464777190316623,
          -0.36423098360329387,
          -0.277972114265568,
          0.32238811580427856,
          0.7582561778450444,
          0.592935547581169,
          -0.0787130225271685,
          -1.068858602529862,
          -1.0186331774980586,
          0.3347830534695937,
          0.7849463850702201,
          0.11237169367406914,
          0.022432748011147377,
          1.0294742196008908,
          0.19882799727281064,
          0.3629910163658535,
          0.16340022194191814,
          0.8793643442159822,
          -0.43035959530567536,
          0.5651813531640928,
          -0.36264484652718515,
          0.10100417050789855,
          -0.09613374556467978,
          0.3283160913214816,
          0.31253092112466746,
          0.3187725627315631,
          -0.9008431666831048,
          -0.24411788215670216,
          -0.8157074903801483,
          0.7227806001133209,
          0.1263530313530148,
          1.2036200099591567,
          0.6562215834767855,
          -0.6719830145325734,
          0.0583068866186848,
          -0.6629215740547498,
          0.5921795225221513,
          0.011935876860816508,
          -0.8952886356205061,
          0.8121740716304591,
          0.7644267972275957,
          0.353850991142746,
          0.536487215545411,
          -0.03787411693257501,
          -0.6678098732877249,
          0.023235262814748147,
          0.014989726064871376,
          1.2036718445886068,
          -0.5775865816947984,
          -0.6247228955860615,
          -0.9746599674984171,
          -0.8615398278277381,
          -0.6605721918599741,
          -0.06365812995452264,
          0.8808413960132753,
          0.5032175420164869,
          -0.003624216186084647,
          -0.6461134480165334,
          -0.27535143303886017,
          0.15953634497273408,
          -0.734351191294883,
          0.5796905843705505,
          -0.15679236522706513
         ],
         "xaxis": "x",
         "y": [
          1.2366112732493504,
          -0.888407614691927,
          0.31279139096279157,
          0.5373422592397253,
          -0.15730603379023125,
          -0.9371926557773673,
          0.591881463322612,
          -0.654237659566025,
          0.1277053074073737,
          -0.008508841400354763,
          0.939582093144747,
          0.44546276440078786,
          0.22489800200018098,
          0.9412233085005434,
          -0.4760787020178857,
          -1.272302315051157,
          -0.6646731742298272,
          0.7200722178612095,
          0.6223196555377922,
          -0.4696584405883571,
          -0.54223289781439,
          0.8019780828108892,
          0.5110835265970067,
          1.2122347157016118,
          0.3124057419035238,
          -0.43043539728887764,
          -0.5702405014540219,
          0.9197900318822482,
          1.113285465010408,
          -0.869322975511489,
          1.1697254226623963,
          0.6788469015422142,
          0.7925886982186757,
          0.6675659946584147,
          -1.730373940353167,
          0.6504515865047439,
          1.3951736598694007,
          -0.9576430112373482,
          -1.0851322696221744,
          0.5349575197859745,
          -0.7606329935280961,
          -0.09175158464869652,
          -1.1305008627419513,
          -1.0294353376881893,
          1.0440115732303308,
          0.5337982014006378,
          0.17206456828044714,
          1.3552036768727294,
          1.0091174022752416,
          0.7062160712622874,
          -1.1392088194420453,
          -0.5820515238620346,
          1.013498789649271,
          -0.6345013916153359,
          -1.202674511716768,
          0.5539905846612174,
          1.1450592022978818,
          0.328467001295384,
          1.2456879520829933,
          0.6401746727094747,
          -1.3645156640483738,
          0.5137346174319013,
          -0.7135219490921505,
          0.8333047785546644,
          0.35575743485209804,
          0.899810711785893,
          0.4516716720566198,
          0.5755193423102841,
          -0.8175271051167039,
          0.9865705915452937,
          0.7143974907306547,
          -0.35759079458132265,
          -0.3952734093692103,
          0.6142635914658495,
          0.2822241947512721,
          0.559609996471882,
          1.1129056850032104,
          0.8735391615381761,
          0.4040414034624638,
          0.5186630464785763,
          0.23637507229455954,
          -0.6985171444155752,
          0.7765475180475553,
          -0.10095662039078686,
          0.7306611493244957,
          0.6644663265450405,
          0.5389942659599603,
          0.707477568829386,
          -1.244520496697624,
          0.5020738198189841,
          0.8749323355114216,
          -0.46694920090846953,
          -0.23074063386661275,
          0.49351220976537136,
          1.1310595397393834,
          0.608077867909319
         ],
         "yaxis": "y",
         "type": "scatter"
        },
        {
         "customdata": [
          [
           "Allure",
           "Tony Anderson",
           "tony-anderson"
          ],
          [
           "Aurora",
           "Tony Anderson",
           "tony-anderson"
          ],
          [
           "Chasm",
           "Tony Anderson",
           "tony-anderson"
          ],
          [
           "Darkest Night",
           "Tony Anderson",
           "tony-anderson"
          ],
          [
           "Deep Waters - Original Sketch",
           "Tony Anderson",
           "tony-anderson"
          ],
          [
           "Deep Waters",
           "Tony Anderson",
           "tony-anderson"
          ],
          [
           "Delusion",
           "Tony Anderson",
           "tony-anderson"
          ],
          [
           "Eyes Wide Open - Cinematic Mix",
           "Tony Anderson",
           "tony-anderson"
          ],
          [
           "Eyes Wide Open",
           "Tony Anderson",
           "tony-anderson"
          ],
          [
           "Face of the Father",
           "Tony Anderson",
           "tony-anderson"
          ],
          [
           "Farthest Seas",
           "Tony Anderson",
           "tony-anderson"
          ],
          [
           "Finding Your Heart",
           "Tony Anderson",
           "tony-anderson"
          ],
          [
           "Halo",
           "Tony Anderson",
           "tony-anderson"
          ],
          [
           "High Tide",
           "Tony Anderson",
           "tony-anderson"
          ],
          [
           "Immanuel",
           "Tony Anderson",
           "tony-anderson"
          ],
          [
           "Immersion",
           "Tony Anderson",
           "tony-anderson"
          ],
          [
           "In the Distance",
           "Tony Anderson",
           "tony-anderson"
          ],
          [
           "Incision",
           "Tony Anderson",
           "tony-anderson"
          ],
          [
           "Like a Child - Cinematic Mix",
           "Tony Anderson",
           "tony-anderson"
          ],
          [
           "Low Tide",
           "Tony Anderson",
           "tony-anderson"
          ],
          [
           "Lune",
           "Tony Anderson",
           "tony-anderson"
          ],
          [
           "Morning's Wings",
           "Tony Anderson",
           "tony-anderson"
          ],
          [
           "Nightingale",
           "Tony Anderson",
           "tony-anderson"
          ],
          [
           "No Place on Earth",
           "Tony Anderson",
           "tony-anderson"
          ],
          [
           "Nocturne in Paris",
           "Tony Anderson",
           "tony-anderson"
          ],
          [
           "Perennial",
           "Tony Anderson",
           "tony-anderson"
          ],
          [
           "Resurrect",
           "Tony Anderson",
           "tony-anderson"
          ],
          [
           "Retour",
           "Tony Anderson",
           "tony-anderson"
          ],
          [
           "Shalom",
           "Tony Anderson",
           "tony-anderson"
          ],
          [
           "Slipstream",
           "Tony Anderson",
           "tony-anderson"
          ],
          [
           "Something Can Grow",
           "Tony Anderson",
           "tony-anderson"
          ],
          [
           "Spiriteaux",
           "Tony Anderson",
           "tony-anderson"
          ],
          [
           "The King",
           "Tony Anderson",
           "tony-anderson"
          ],
          [
           "The Way Home",
           "Tony Anderson",
           "tony-anderson"
          ],
          [
           "Thin Place - Abbreviated",
           "Tony Anderson",
           "tony-anderson"
          ],
          [
           "Thin Place",
           "Tony Anderson",
           "tony-anderson"
          ],
          [
           "We Are One",
           "Tony Anderson",
           "tony-anderson"
          ],
          [
           "Wir Sind Gleich",
           "Tony Anderson",
           "tony-anderson"
          ],
          [
           "Younger",
           "Tony Anderson",
           "tony-anderson"
          ],
          [
           "Éclosion",
           "Tony Anderson",
           "tony-anderson"
          ],
          [
           "Éphémère",
           "Tony Anderson",
           "tony-anderson"
          ],
          [
           "Arpège",
           "Tony Anderson",
           "tony-anderson"
          ],
          [
           "Nuit",
           "Tony Anderson",
           "tony-anderson"
          ],
          [
           "Tenderness - Woven Remix",
           "Tony Anderson",
           "tony-anderson"
          ],
          [
           "Tenderness",
           "Tony Anderson",
           "tony-anderson"
          ],
          [
           "Cambodia - Ross Lara Remix",
           "Tony Anderson",
           "tony-anderson"
          ],
          [
           "Cambodia",
           "Tony Anderson",
           "tony-anderson"
          ],
          [
           "Oyarsa",
           "Tony Anderson",
           "tony-anderson"
          ]
         ],
         "hovertemplate": "playlist=%{customdata[2]}<br>chord_x=%{x}<br>chord_y=%{y}<br>song_name=%{customdata[0]}<br>artist=%{customdata[1]}<extra></extra>",
         "legendgroup": "tony-anderson",
         "marker": {
          "color": "#B6E880",
          "symbol": "circle"
         },
         "mode": "markers",
         "name": "tony-anderson",
         "orientation": "v",
         "showlegend": true,
         "x": [
          -0.3240299118171773,
          -0.505837899619625,
          0.785596562162051,
          -0.03393240000024754,
          -1.1632878899555283,
          -1.1354096429547305,
          -0.1841887195953536,
          0.8094467091417784,
          0.4993471231399282,
          -1.1858130729759104,
          0.7389930916814199,
          -0.39340092298312734,
          -0.026009181269109016,
          0.5928699350735492,
          -0.4573402441668383,
          -0.37012314531838203,
          0.6412567242025633,
          -0.2839992173665606,
          0.8301658023048331,
          -1.0929822698660787,
          -0.6943109408180839,
          0.02575597497059536,
          0.751824207798189,
          -0.0031890146485412845,
          -0.3059226516002361,
          -0.6698294395433435,
          -0.6691881400698558,
          0.040403889968560425,
          -0.42080318352222085,
          0.4498402344841673,
          -0.841721202086113,
          -0.9344229051139911,
          0.4752738673612266,
          0.6272683343105065,
          0.5639318476009983,
          0.6668951718260921,
          0.5712388583309186,
          -0.5387956425677093,
          -0.7197612705176899,
          -0.38137042092185447,
          -0.5322593230836109,
          0.026243107724999205,
          -0.10869395928984185,
          -1.1025636677206996,
          0.09929017806675199,
          0.0017110444758674168,
          -0.04056925780999967,
          0.9878776414334317
         ],
         "xaxis": "x",
         "y": [
          -0.7376128655317331,
          -0.12115296932890053,
          -0.3838455992062241,
          -0.9138545615414676,
          -0.2550559100215647,
          -0.045188118492186034,
          -0.7433468402728745,
          -0.7478253755768092,
          -0.8662830919540842,
          0.25400428934453223,
          -0.6994273730267785,
          -0.6084912545116568,
          0.41861438019575414,
          -0.8420045020093108,
          -0.457062058728453,
          -0.509480185564036,
          -0.48648369951641157,
          -1.1773431228845075,
          -0.962783962360845,
          -0.3777248265409198,
          -0.5626941776193817,
          0.4372838629978256,
          -0.4031495674579452,
          0.41328951285486343,
          0.35853124974215356,
          -0.48711390487788014,
          -0.5604565695965585,
          0.33216794814866607,
          -0.6735098158619884,
          0.8192211986193492,
          -1.188949768092616,
          -0.8640706265603096,
          -1.047916932553215,
          -0.46909741005809047,
          -0.5624949711443361,
          -0.4617907857897031,
          -0.7573519640989715,
          -0.27161503440563645,
          -0.6085916599749798,
          0.2215255842515113,
          -0.9164704857766409,
          0.2660050603954996,
          -0.7012050127456736,
          0.012476774530032653,
          -0.529943687017512,
          0.1580121057636483,
          0.3780606412033045,
          -0.9255752335943326
         ],
         "yaxis": "y",
         "type": "scatter"
        }
       ],
       "layout": {
        "template": {
         "data": {
          "histogram2dcontour": [
           {
            "type": "histogram2dcontour",
            "colorbar": {
             "outlinewidth": 0,
             "ticks": ""
            },
            "colorscale": [
             [
              0.0,
              "#0d0887"
             ],
             [
              0.1111111111111111,
              "#46039f"
             ],
             [
              0.2222222222222222,
              "#7201a8"
             ],
             [
              0.3333333333333333,
              "#9c179e"
             ],
             [
              0.4444444444444444,
              "#bd3786"
             ],
             [
              0.5555555555555556,
              "#d8576b"
             ],
             [
              0.6666666666666666,
              "#ed7953"
             ],
             [
              0.7777777777777778,
              "#fb9f3a"
             ],
             [
              0.8888888888888888,
              "#fdca26"
             ],
             [
              1.0,
              "#f0f921"
             ]
            ]
           }
          ],
          "choropleth": [
           {
            "type": "choropleth",
            "colorbar": {
             "outlinewidth": 0,
             "ticks": ""
            }
           }
          ],
          "histogram2d": [
           {
            "type": "histogram2d",
            "colorbar": {
             "outlinewidth": 0,
             "ticks": ""
            },
            "colorscale": [
             [
              0.0,
              "#0d0887"
             ],
             [
              0.1111111111111111,
              "#46039f"
             ],
             [
              0.2222222222222222,
              "#7201a8"
             ],
             [
              0.3333333333333333,
              "#9c179e"
             ],
             [
              0.4444444444444444,
              "#bd3786"
             ],
             [
              0.5555555555555556,
              "#d8576b"
             ],
             [
              0.6666666666666666,
              "#ed7953"
             ],
             [
              0.7777777777777778,
              "#fb9f3a"
             ],
             [
              0.8888888888888888,
              "#fdca26"
             ],
             [
              1.0,
              "#f0f921"
             ]
            ]
           }
          ],
          "heatmap": [
           {
            "type": "heatmap",
            "colorbar": {
             "outlinewidth": 0,
             "ticks": ""
            },
            "colorscale": [
             [
              0.0,
              "#0d0887"
             ],
             [
              0.1111111111111111,
              "#46039f"
             ],
             [
              0.2222222222222222,
              "#7201a8"
             ],
             [
              0.3333333333333333,
              "#9c179e"
             ],
             [
              0.4444444444444444,
              "#bd3786"
             ],
             [
              0.5555555555555556,
              "#d8576b"
             ],
             [
              0.6666666666666666,
              "#ed7953"
             ],
             [
              0.7777777777777778,
              "#fb9f3a"
             ],
             [
              0.8888888888888888,
              "#fdca26"
             ],
             [
              1.0,
              "#f0f921"
             ]
            ]
           }
          ],
          "heatmapgl": [
           {
            "type": "heatmapgl",
            "colorbar": {
             "outlinewidth": 0,
             "ticks": ""
            },
            "colorscale": [
             [
              0.0,
              "#0d0887"
             ],
             [
              0.1111111111111111,
              "#46039f"
             ],
             [
              0.2222222222222222,
              "#7201a8"
             ],
             [
              0.3333333333333333,
              "#9c179e"
             ],
             [
              0.4444444444444444,
              "#bd3786"
             ],
             [
              0.5555555555555556,
              "#d8576b"
             ],
             [
              0.6666666666666666,
              "#ed7953"
             ],
             [
              0.7777777777777778,
              "#fb9f3a"
             ],
             [
              0.8888888888888888,
              "#fdca26"
             ],
             [
              1.0,
              "#f0f921"
             ]
            ]
           }
          ],
          "contourcarpet": [
           {
            "type": "contourcarpet",
            "colorbar": {
             "outlinewidth": 0,
             "ticks": ""
            }
           }
          ],
          "contour": [
           {
            "type": "contour",
            "colorbar": {
             "outlinewidth": 0,
             "ticks": ""
            },
            "colorscale": [
             [
              0.0,
              "#0d0887"
             ],
             [
              0.1111111111111111,
              "#46039f"
             ],
             [
              0.2222222222222222,
              "#7201a8"
             ],
             [
              0.3333333333333333,
              "#9c179e"
             ],
             [
              0.4444444444444444,
              "#bd3786"
             ],
             [
              0.5555555555555556,
              "#d8576b"
             ],
             [
              0.6666666666666666,
              "#ed7953"
             ],
             [
              0.7777777777777778,
              "#fb9f3a"
             ],
             [
              0.8888888888888888,
              "#fdca26"
             ],
             [
              1.0,
              "#f0f921"
             ]
            ]
           }
          ],
          "surface": [
           {
            "type": "surface",
            "colorbar": {
             "outlinewidth": 0,
             "ticks": ""
            },
            "colorscale": [
             [
              0.0,
              "#0d0887"
             ],
             [
              0.1111111111111111,
              "#46039f"
             ],
             [
              0.2222222222222222,
              "#7201a8"
             ],
             [
              0.3333333333333333,
              "#9c179e"
             ],
             [
              0.4444444444444444,
              "#bd3786"
             ],
             [
              0.5555555555555556,
              "#d8576b"
             ],
             [
              0.6666666666666666,
              "#ed7953"
             ],
             [
              0.7777777777777778,
              "#fb9f3a"
             ],
             [
              0.8888888888888888,
              "#fdca26"
             ],
             [
              1.0,
              "#f0f921"
             ]
            ]
           }
          ],
          "mesh3d": [
           {
            "type": "mesh3d",
            "colorbar": {
             "outlinewidth": 0,
             "ticks": ""
            }
           }
          ],
          "scatter": [
           {
            "marker": {
             "line": {
              "color": "#283442"
             }
            },
            "type": "scatter"
           }
          ],
          "parcoords": [
           {
            "type": "parcoords",
            "line": {
             "colorbar": {
              "outlinewidth": 0,
              "ticks": ""
             }
            }
           }
          ],
          "scatterpolargl": [
           {
            "type": "scatterpolargl",
            "marker": {
             "colorbar": {
              "outlinewidth": 0,
              "ticks": ""
             }
            }
           }
          ],
          "bar": [
           {
            "error_x": {
             "color": "#f2f5fa"
            },
            "error_y": {
             "color": "#f2f5fa"
            },
            "marker": {
             "line": {
              "color": "rgb(17,17,17)",
              "width": 0.5
             },
             "pattern": {
              "fillmode": "overlay",
              "size": 10,
              "solidity": 0.2
             }
            },
            "type": "bar"
           }
          ],
          "scattergeo": [
           {
            "type": "scattergeo",
            "marker": {
             "colorbar": {
              "outlinewidth": 0,
              "ticks": ""
             }
            }
           }
          ],
          "scatterpolar": [
           {
            "type": "scatterpolar",
            "marker": {
             "colorbar": {
              "outlinewidth": 0,
              "ticks": ""
             }
            }
           }
          ],
          "histogram": [
           {
            "marker": {
             "pattern": {
              "fillmode": "overlay",
              "size": 10,
              "solidity": 0.2
             }
            },
            "type": "histogram"
           }
          ],
          "scattergl": [
           {
            "marker": {
             "line": {
              "color": "#283442"
             }
            },
            "type": "scattergl"
           }
          ],
          "scatter3d": [
           {
            "type": "scatter3d",
            "line": {
             "colorbar": {
              "outlinewidth": 0,
              "ticks": ""
             }
            },
            "marker": {
             "colorbar": {
              "outlinewidth": 0,
              "ticks": ""
             }
            }
           }
          ],
          "scattermapbox": [
           {
            "type": "scattermapbox",
            "marker": {
             "colorbar": {
              "outlinewidth": 0,
              "ticks": ""
             }
            }
           }
          ],
          "scatterternary": [
           {
            "type": "scatterternary",
            "marker": {
             "colorbar": {
              "outlinewidth": 0,
              "ticks": ""
             }
            }
           }
          ],
          "scattercarpet": [
           {
            "type": "scattercarpet",
            "marker": {
             "colorbar": {
              "outlinewidth": 0,
              "ticks": ""
             }
            }
           }
          ],
          "carpet": [
           {
            "aaxis": {
             "endlinecolor": "#A2B1C6",
             "gridcolor": "#506784",
             "linecolor": "#506784",
             "minorgridcolor": "#506784",
             "startlinecolor": "#A2B1C6"
            },
            "baxis": {
             "endlinecolor": "#A2B1C6",
             "gridcolor": "#506784",
             "linecolor": "#506784",
             "minorgridcolor": "#506784",
             "startlinecolor": "#A2B1C6"
            },
            "type": "carpet"
           }
          ],
          "table": [
           {
            "cells": {
             "fill": {
              "color": "#506784"
             },
             "line": {
              "color": "rgb(17,17,17)"
             }
            },
            "header": {
             "fill": {
              "color": "#2a3f5f"
             },
             "line": {
              "color": "rgb(17,17,17)"
             }
            },
            "type": "table"
           }
          ],
          "barpolar": [
           {
            "marker": {
             "line": {
              "color": "rgb(17,17,17)",
              "width": 0.5
             },
             "pattern": {
              "fillmode": "overlay",
              "size": 10,
              "solidity": 0.2
             }
            },
            "type": "barpolar"
           }
          ],
          "pie": [
           {
            "automargin": true,
            "type": "pie"
           }
          ]
         },
         "layout": {
          "autotypenumbers": "strict",
          "colorway": [
           "#636efa",
           "#EF553B",
           "#00cc96",
           "#ab63fa",
           "#FFA15A",
           "#19d3f3",
           "#FF6692",
           "#B6E880",
           "#FF97FF",
           "#FECB52"
          ],
          "font": {
           "color": "#f2f5fa"
          },
          "hovermode": "closest",
          "hoverlabel": {
           "align": "left"
          },
          "paper_bgcolor": "rgb(17,17,17)",
          "plot_bgcolor": "rgb(17,17,17)",
          "polar": {
           "bgcolor": "rgb(17,17,17)",
           "angularaxis": {
            "gridcolor": "#506784",
            "linecolor": "#506784",
            "ticks": ""
           },
           "radialaxis": {
            "gridcolor": "#506784",
            "linecolor": "#506784",
            "ticks": ""
           }
          },
          "ternary": {
           "bgcolor": "rgb(17,17,17)",
           "aaxis": {
            "gridcolor": "#506784",
            "linecolor": "#506784",
            "ticks": ""
           },
           "baxis": {
            "gridcolor": "#506784",
            "linecolor": "#506784",
            "ticks": ""
           },
           "caxis": {
            "gridcolor": "#506784",
            "linecolor": "#506784",
            "ticks": ""
           }
          },
          "coloraxis": {
           "colorbar": {
            "outlinewidth": 0,
            "ticks": ""
           }
          },
          "colorscale": {
           "sequential": [
            [
             0.0,
             "#0d0887"
            ],
            [
             0.1111111111111111,
             "#46039f"
            ],
            [
             0.2222222222222222,
             "#7201a8"
            ],
            [
             0.3333333333333333,
             "#9c179e"
            ],
            [
             0.4444444444444444,
             "#bd3786"
            ],
            [
             0.5555555555555556,
             "#d8576b"
            ],
            [
             0.6666666666666666,
             "#ed7953"
            ],
            [
             0.7777777777777778,
             "#fb9f3a"
            ],
            [
             0.8888888888888888,
             "#fdca26"
            ],
            [
             1.0,
             "#f0f921"
            ]
           ],
           "sequentialminus": [
            [
             0.0,
             "#0d0887"
            ],
            [
             0.1111111111111111,
             "#46039f"
            ],
            [
             0.2222222222222222,
             "#7201a8"
            ],
            [
             0.3333333333333333,
             "#9c179e"
            ],
            [
             0.4444444444444444,
             "#bd3786"
            ],
            [
             0.5555555555555556,
             "#d8576b"
            ],
            [
             0.6666666666666666,
             "#ed7953"
            ],
            [
             0.7777777777777778,
             "#fb9f3a"
            ],
            [
             0.8888888888888888,
             "#fdca26"
            ],
            [
             1.0,
             "#f0f921"
            ]
           ],
           "diverging": [
            [
             0,
             "#8e0152"
            ],
            [
             0.1,
             "#c51b7d"
            ],
            [
             0.2,
             "#de77ae"
            ],
            [
             0.3,
             "#f1b6da"
            ],
            [
             0.4,
             "#fde0ef"
            ],
            [
             0.5,
             "#f7f7f7"
            ],
            [
             0.6,
             "#e6f5d0"
            ],
            [
             0.7,
             "#b8e186"
            ],
            [
             0.8,
             "#7fbc41"
            ],
            [
             0.9,
             "#4d9221"
            ],
            [
             1,
             "#276419"
            ]
           ]
          },
          "xaxis": {
           "gridcolor": "#283442",
           "linecolor": "#506784",
           "ticks": "",
           "title": {
            "standoff": 15
           },
           "zerolinecolor": "#283442",
           "automargin": true,
           "zerolinewidth": 2
          },
          "yaxis": {
           "gridcolor": "#283442",
           "linecolor": "#506784",
           "ticks": "",
           "title": {
            "standoff": 15
           },
           "zerolinecolor": "#283442",
           "automargin": true,
           "zerolinewidth": 2
          },
          "scene": {
           "xaxis": {
            "backgroundcolor": "rgb(17,17,17)",
            "gridcolor": "#506784",
            "linecolor": "#506784",
            "showbackground": true,
            "ticks": "",
            "zerolinecolor": "#C8D4E3",
            "gridwidth": 2
           },
           "yaxis": {
            "backgroundcolor": "rgb(17,17,17)",
            "gridcolor": "#506784",
            "linecolor": "#506784",
            "showbackground": true,
            "ticks": "",
            "zerolinecolor": "#C8D4E3",
            "gridwidth": 2
           },
           "zaxis": {
            "backgroundcolor": "rgb(17,17,17)",
            "gridcolor": "#506784",
            "linecolor": "#506784",
            "showbackground": true,
            "ticks": "",
            "zerolinecolor": "#C8D4E3",
            "gridwidth": 2
           }
          },
          "shapedefaults": {
           "line": {
            "color": "#f2f5fa"
           }
          },
          "annotationdefaults": {
           "arrowcolor": "#f2f5fa",
           "arrowhead": 0,
           "arrowwidth": 1
          },
          "geo": {
           "bgcolor": "rgb(17,17,17)",
           "landcolor": "rgb(17,17,17)",
           "subunitcolor": "#506784",
           "showland": true,
           "showlakes": true,
           "lakecolor": "rgb(17,17,17)"
          },
          "title": {
           "x": 0.05
          },
          "updatemenudefaults": {
           "bgcolor": "#506784",
           "borderwidth": 0
          },
          "sliderdefaults": {
           "bgcolor": "#C8D4E3",
           "borderwidth": 1,
           "bordercolor": "rgb(17,17,17)",
           "tickwidth": 0
          },
          "mapbox": {
           "style": "dark"
          }
         }
        },
        "xaxis": {
         "anchor": "y",
         "domain": [
          0.0,
          1.0
         ],
         "title": {
          "text": "chord_x"
         }
        },
        "yaxis": {
         "anchor": "x",
         "domain": [
          0.0,
          1.0
         ],
         "title": {
          "text": "chord_y"
         }
        },
        "legend": {
         "title": {
          "text": "playlist"
         },
         "tracegroupgap": 0
        },
        "margin": {
         "t": 60
        }
       },
       "config": {
        "plotlyServerURL": "https://plotly.com"
       }
      },
      "text/html": "<div>                            <div id=\"78d77a13-086a-4d90-9a17-82a73ca7c011\" class=\"plotly-graph-div\" style=\"height:525px; width:100%;\"></div>            <script type=\"text/javascript\">                require([\"plotly\"], function(Plotly) {                    window.PLOTLYENV=window.PLOTLYENV || {};                                    if (document.getElementById(\"78d77a13-086a-4d90-9a17-82a73ca7c011\")) {                    Plotly.newPlot(                        \"78d77a13-086a-4d90-9a17-82a73ca7c011\",                        [{\"customdata\":[[\"Ivan Sings\",\"Aram Khachaturian\",\"kino\"],[\"Pr\\u00e9lude in E Minor, Op. 28, No. 4\",\"Fr\\u00e9d\\u00e9ric Chopin\",\"kino\"],[\"Above the Trees\",\"Kino\",\"kino\"],[\"All\",\"Kino\",\"kino\"],[\"Anew\",\"Kino\",\"kino\"],[\"As a Cloud\",\"Kino\",\"kino\"],[\"Away\",\"Kino\",\"kino\"],[\"Bloom\",\"Kino\",\"kino\"],[\"Charleston\",\"Kino\",\"kino\"],[\"Donau\",\"Kino\",\"kino\"],[\"Each and Every (Ambient Mix)\",\"Kino\",\"kino\"],[\"Each and Every (Piano)\",\"Kino\",\"kino\"],[\"Each and Every\",\"Kino\",\"kino\"],[\"Erl\\u00f6st  Redeemed\",\"Kino\",\"kino\"],[\"Gathering\",\"Kino\",\"kino\"],[\"God Bless Us, Every One\",\"Kino\",\"kino\"],[\"Hearth\",\"Kino\",\"kino\"],[\"H\\u0113o\",\"Kino\",\"kino\"],[\"In Earnest\",\"Kino\",\"kino\"],[\"Leinwand (Piano)\",\"Kino\",\"kino\"],[\"Leinwand\",\"Kino\",\"kino\"],[\"Lightly Tread\",\"Kino\",\"kino\"],[\"Lone\",\"Kino\",\"kino\"],[\"Many Colors\",\"Kino\",\"kino\"],[\"Merrily, Merrily\",\"Kino\",\"kino\"],[\"O Tannenbaum\",\"Kino\",\"kino\"],[\"Presidio\",\"Kino\",\"kino\"],[\"Rambuteau\",\"Kino\",\"kino\"],[\"Seafarer's Quartet\",\"Kino\",\"kino\"],[\"Seems\",\"Kino\",\"kino\"],[\"Silent Night\",\"Kino\",\"kino\"],[\"Silver Lake\",\"Kino\",\"kino\"],[\"St John's\",\"Kino\",\"kino\"],[\"Sunshine - Original\",\"Kino\",\"kino\"],[\"Swell\",\"Kino\",\"kino\"],[\"The Holly and the Ivy\",\"Kino\",\"kino\"],[\"The Weight Unbearable (Piano)\",\"Kino\",\"kino\"],[\"The Weight Unbearable\",\"Kino\",\"kino\"],[\"Till\",\"Kino\",\"kino\"],[\"Trio in E-flat Minor\",\"Kino\",\"kino\"],[\"Under\",\"Kino\",\"kino\"],[\"Water Lilies\",\"Kino\",\"kino\"],[\"Wide Awake\",\"Kino\",\"kino\"],[\"Willeth\",\"Kino\",\"kino\"],[\"Wolden\",\"Kino\",\"kino\"],[\"Yule\",\"Kino\",\"kino\"],[\"Piano Sonata No. 14 in C-Sharp Minor, Op. 27 No. 2 \\u201cMoonlight\\u201d- I. Adagio sostenuto\",\"Ludwig van Beethoven\",\"kino\"]],\"hovertemplate\":\"playlist=%{customdata[2]}<br>chord_x=%{x}<br>chord_y=%{y}<br>song_name=%{customdata[0]}<br>artist=%{customdata[1]}<extra></extra>\",\"legendgroup\":\"kino\",\"marker\":{\"color\":\"#636efa\",\"symbol\":\"circle\"},\"mode\":\"markers\",\"name\":\"kino\",\"orientation\":\"v\",\"showlegend\":true,\"x\":[0.3554091108169678,-1.3008057390782413,1.33445281355213,-1.0905956151882445,0.23544245778400133,1.2822681743529036,1.038370140428141,1.5172728375276239,0.04139380970258596,0.20566869230006,1.483451394974172,1.2108480555451504,1.0974546439401947,-1.0307218114814283,-0.7019731309358136,0.923121131117833,1.7596664502556651,0.24085422346472363,-0.04405892870362938,-1.0512687533567668,-1.139337375256146,0.9530790716513178,0.8918278233481595,-0.6002075457244245,0.9010506208265964,-1.4821519634639262,1.3199649164971918,1.3913760778602016,-0.38698220755412244,-0.9422915496034301,-0.7422857435186235,-0.9333594089953957,0.5538223988506379,0.0016702862668718556,0.5919357804981442,0.7246969623880891,0.8957750689550544,0.22601898961063988,0.04592456526623441,1.8205226397928622,-0.5416856246135381,1.338373864856977,1.1147373221062293,-0.05758245469530552,-0.4025657805516578,1.0868700363652661,0.7156784316315631],\"xaxis\":\"x\",\"y\":[-1.3856591764885289,-0.5358466058188311,0.09734463506164327,-0.1874111734548161,1.0846423541423948,-0.8657726097027899,0.6103212187571291,-0.21115364674323986,0.6906188800969139,-0.9616268598507794,-0.16804826882658763,-0.2006933148774603,-0.26338037904374473,-0.17904612220076851,-0.5292091719185607,-0.15442836882430036,-0.3892526355148026,-0.7052156863168025,0.5080786728413001,-0.5544790971588494,-0.6339881917257058,0.37492685396554676,-0.8238987579938096,-0.1796586050504635,-0.14636707384343173,0.23850163487916742,-0.02627909026169213,0.1327476141381815,-0.6892479435677346,-0.9672019803296867,0.8042570795797265,-0.40485507988300895,-0.8565327202074945,1.2343378111060015,0.844316088912336,-0.6770613771408741,-0.158311204460239,-1.4648930908017346,0.5139841965896755,-0.34691272996079103,-0.7502838346087479,-0.8293765578971876,-0.3876750289392998,-1.836753957384061,-0.74512624375054,-0.21294001452019892,1.1286343306208317],\"yaxis\":\"y\",\"type\":\"scatter\"},{\"customdata\":[[\"But it's Destiny\",\"10cm\",\"korean-ost\"],[\"\\ub098\\uc758 \\uc5b4\\uae68\\uc5d0 \\uae30\\ub300\\uc5b4\\uc694\",\"10cm\",\"korean-ost\"],[\"Is You\",\"AILEE\",\"korean-ost\"],[\"How can I love the heartbreak, you're the one I love\",\"AKMU\",\"korean-ost\"],[\"How can I love the heartbreak, you`re the one I love\",\"AKMU\",\"korean-ost\"],[\"Amusement Park\",\"BAEKHYUN\",\"korean-ost\"],[\"\\ub108\\ub97c \\uc0ac\\ub791\\ud558\\uace0 \\uc788\\uc5b4\",\"BAEKHYUN\",\"korean-ost\"],[\"Beautiful goodbye\",\"CHEN\",\"korean-ost\"],[\"Flower\",\"CHEN\",\"korean-ost\"],[\"I'll be there\",\"CHEN\",\"korean-ost\"],[\"My dear\",\"CHEN\",\"korean-ost\"],[\"Sorry not sorry\",\"CHEN\",\"korean-ost\"],[\"Everytime\",\"CHEN\",\"korean-ost\"],[\"Wish\",\"Choi Yuree\",\"korean-ost\"],[\"Beautiful\",\"Crush\",\"korean-ost\"],[\"Let Us Go\",\"Crush\",\"korean-ost\"],[\"No Words\",\"Crush\",\"korean-ost\"],[\"My Love\",\"DAVICHI\",\"korean-ost\"],[\"Please Don't Cry\",\"DAVICHI\",\"korean-ost\"],[\"Sunset\",\"DAVICHI\",\"korean-ost\"],[\"\\ub178\\ub825\\ud574\\ubcfc\\uac8c\\uc694 I'll try\",\"DAY6\",\"korean-ost\"],[\"I'm In Love With You\",\"Dvwn\",\"korean-ost\"],[\"No Problem\",\"Dvwn\",\"korean-ost\"],[\"\\uae34 \\ubc24\\uc774 \\uc624\\uba74\",\"Eddy Kim\",\"korean-ost\"],[\"Rain or Shine\",\"Elaine\",\"korean-ost\"],[\"Hate Everything - Korean Version\",\"GSoul\",\"korean-ost\"],[\"\\uae30\\uc5b5\\ud574\\uc918\\uc694 \\ub0b4 \\ubaa8\\ub4e0 \\ub0a0\\uacfc \\uadf8\\ub54c\\ub97c\",\"Gummy\",\"korean-ost\"],[\"Slowly Fall\",\"Ha Hyun Sang\",\"korean-ost\"],[\"\\ub0b4 \\ub9d8\\uc744 \\ubcfc \\uc218 \\uc788\\ub098\\uc694\",\"HEIZE\",\"korean-ost\"],[\"Deeply\",\"HEN\",\"korean-ost\"],[\"To You\",\"HEN\",\"korean-ost\"],[\"It's You\",\"HENRY\",\"korean-ost\"],[\"Untitled Love Song\",\"HENRY\",\"korean-ost\"],[\"Ending Scene\",\"IU\",\"korean-ost\"],[\"Give You My Heart\",\"IU\",\"korean-ost\"],[\"Love poem\",\"IU\",\"korean-ost\"],[\"My sea\",\"IU\",\"korean-ost\"],[\"Holiday\",\"JeHwi\",\"korean-ost\"],[\"Stardust love song\",\"JIHYO\",\"korean-ost\"],[\"What Lies Ahead\",\"Joe Layne\",\"korean-ost\"],[\"Times Like This\",\"Josh Daniel\",\"korean-ost\"],[\"Do you want to walk with me (Romance 101 X Jukjae)\",\"Jukjae\",\"korean-ost\"],[\"The Days Like Pictures\",\"Jukjae\",\"korean-ost\"],[\"\\ub098\\ub97c \\ucc3e\\uc544\\uc11c\",\"Jukjae\",\"korean-ost\"],[\"\\ubcc4 \\ubcf4\\ub7ec \\uac00\\uc790\",\"Jukjae\",\"korean-ost\"],[\"Day & Night\",\"Jung Seung Hwan\",\"korean-ost\"],[\"Because I Miss You\",\"Jung Yong Hwa\",\"korean-ost\"],[\"For First-time Lovers (Banmal-song)\",\"Jung Yong Hwa\",\"korean-ost\"],[\"I Go\",\"Kei (Kim Ji Yeon)\",\"korean-ost\"],[\"\\ubcf4\\uace0\\uc2f6\\ub2e4 (From. '\\ub4dc\\ub77c\\ub9c8 \\ucc9c\\uad6d\\uc758 \\uacc4\\ub2e8')\",\"Kim Bum Soo\",\"korean-ost\"],[\"One Day\",\"Kim Feel\",\"korean-ost\"],[\"Someday, The Boy\",\"Kim Feel\",\"korean-ost\"],[\"Vacance in September\",\"KIM JAE HWAN\",\"korean-ost\"],[\"All of My Days\",\"KIMSEJEONG\",\"korean-ost\"],[\"If Only\",\"KIMSEJEONG\",\"korean-ost\"],[\"Lonely Night\",\"Kwon Jin Ah\",\"korean-ost\"],[\"The End\",\"Kwon Jin Ah\",\"korean-ost\"],[\"I Won't Heartbreaken\",\"Lee KwangHee\",\"korean-ost\"],[\"In My Heart\",\"LIM YEON\",\"korean-ost\"],[\"Lost\",\"LIM YEON\",\"korean-ost\"],[\"Say Yes\",\"Loco\",\"korean-ost\"],[\"Be There For You\",\"NCT DREAM\",\"korean-ost\"],[\"Rainbow - Acoustic Version\",\"O.WHEN\",\"korean-ost\"],[\"Me After You\",\"Paul Kim\",\"korean-ost\"],[\"\\uc548\\ub155\",\"Paul Kim\",\"korean-ost\"],[\"But I'm Trying to Tell You How Much I Love You (With Moonbit)\",\"saevom\",\"korean-ost\"],[\"For You\",\"Sam Kim\",\"korean-ost\"],[\"Sunny Day Rainy Day (feat. Kassy)\",\"Sanchez\",\"korean-ost\"],[\"Your world\",\"Seol Hoseung (SURL)\",\"korean-ost\"],[\"Grown Ups\",\"Sondia\",\"korean-ost\"],[\"Hug\",\"Sondia\",\"korean-ost\"],[\"Our Souls at Night\",\"Sondia\",\"korean-ost\"],[\"\\uc6b0\\ub9b0 \\uce5c\\uad6c\\ubfd0\\uc77c\\uae4c\",\"Sondia\",\"korean-ost\"],[\"She\",\"Standing Egg\",\"korean-ost\"],[\"Miracle (Feat. Paul Kim)\",\"Stella Jang\",\"korean-ost\"],[\"One more time, One more chance\",\"Sung Si Kyung\",\"korean-ost\"],[\"\\u541b\\u304c\\u3044\\u308b\\u3088\",\"Sung Si Kyung\",\"korean-ost\"],[\"Two People\",\"SURAN\",\"korean-ost\"],[\"Inevitable\",\"Suzy\",\"korean-ost\"],[\"Starlight\",\"TAEIL\",\"korean-ost\"],[\"\\uadf8\\ub300\\ub77c\\ub294 \\uc2dc\",\"TAEYEON\",\"korean-ost\"],[\"Two Words\",\"WENDY\",\"korean-ost\"],[\"What If Love\",\"WENDY\",\"korean-ost\"],[\"\\ub0b4\\uc77c\\ub3c4 \\ub610 \\ub0b4\\uc77c\\ub3c4 Tomorrow After Tomorrow\",\"WISUE\",\"korean-ost\"],[\"Your Existence\",\"Wonstein\",\"korean-ost\"],[\"Free\",\"Xydo\",\"korean-ost\"],[\"\\ub108\\ub9cc \\ub108\\ub9cc \\ub108\\ub9cc\",\"Yang Dail\",\"korean-ost\"],[\"With me\",\"Yang Dail\",\"korean-ost\"],[\"Here I Am Again\",\"Yerin Baek\",\"korean-ost\"],[\"Maze\",\"YONGZOO\",\"korean-ost\"],[\"ALWAYS\",\"Yoon Mirae\",\"korean-ost\"],[\"Flower\",\"Yoon Mirae\",\"korean-ost\"],[\"You Are My World\",\"Yoon Mirae\",\"korean-ost\"],[\"I Just Want To Stay With You\",\"Zion.T\",\"korean-ost\"],[\"Faith\",\"\\uc774\\uc900\\ud654\",\"korean-ost\"]],\"hovertemplate\":\"playlist=%{customdata[2]}<br>chord_x=%{x}<br>chord_y=%{y}<br>song_name=%{customdata[0]}<br>artist=%{customdata[1]}<extra></extra>\",\"legendgroup\":\"korean-ost\",\"marker\":{\"color\":\"#EF553B\",\"symbol\":\"circle\"},\"mode\":\"markers\",\"name\":\"korean-ost\",\"orientation\":\"v\",\"showlegend\":true,\"x\":[0.1610429888526763,1.5516050001574115,-0.020661764175303597,-0.28913116237331354,-0.28913116237345615,-0.48663146994205886,0.08046647316621001,0.821322407168861,-0.5077717681352164,0.7112177464397593,-0.15527054599967008,0.49400859430804955,0.6844268809041809,1.4027425160075793,0.44649785977986906,-0.058340190923809127,0.7221522232760328,1.1412048460169837,-0.17298138859275516,1.4210563415554895,-0.12515485527482126,-0.3834307631826496,-0.45195331899512386,-0.46749019642192335,1.1629746755994703,0.29134625637656036,0.3130983221420856,1.2218549329618937,-0.02116121439502801,-0.2849647290041357,0.7179496224757346,-0.9388905121417084,-0.4948129768139649,-0.22726511279841202,1.1800741383448954,0.7711775768634361,-0.10345347218536426,-0.4638643770629814,-0.6745219298899721,-0.8201975055869475,-0.2517978252865927,-0.27422680041924513,-0.49729836845202213,-1.0227270612769237,1.0935143855889902,0.5532634621960437,-0.7702091751558761,-0.7669131612866598,-1.6670989838418324,-0.07677071669568629,0.822957623880089,-0.5516642150168908,-0.6946464110453037,0.09301031175764975,1.4178624977555407,-0.007177931258586511,1.136348702712004,0.14680528724696315,1.1290134575254762,-0.04113417062190361,-0.14855851441414547,0.17082933621801907,1.1283367436155076,-0.6901340624520375,-0.6972205762167516,-1.0489440357636362,1.6471769715167999,-0.4335244905196751,-0.4086953193905692,-0.13890498219695382,-0.7815160007640779,1.3353486344857033,0.6166642184431974,0.06910375016960295,-1.2682424284612763,0.0037689278914124465,-0.7460275362626151,0.6158632660789144,0.7956319125030885,-0.8177719029856547,0.02014719835332425,1.5574592725303937,0.14313808557628074,0.9004749605993694,-0.47639289396981965,-0.2246890340791494,0.9284928175486352,-0.017667161021479503,-0.12454470961119282,0.4079983094290447,0.6486148317402455,1.3298224033242747,0.5332728196917794,-0.7072633254507937,-1.1408637027001942],\"xaxis\":\"x\",\"y\":[-1.016616037018101,0.6254051165652292,0.5610427951132428,-0.9616562590201078,-0.9616562590201353,-0.8117354522330151,0.8875608878651475,-0.7530972811366438,0.9998820016032643,0.3967814843619073,0.6339911004275498,-1.028130339455101,-0.7033958741927553,-0.04735775436097906,-1.143018431285949,-1.3434092490200693,0.5656337342655852,-0.5951779613799221,-1.4462931260259384,-0.44560164748753905,0.427220434797552,-1.2024483181008971,0.6930351183902529,-1.1132067065876547,0.9277254089774908,-0.8380292422634538,0.6687496359389158,0.22175802128877964,0.5526739638043576,-0.6639889154882233,-0.17805009242126718,-0.2523819770678094,-0.4097383660507127,-1.2084665474239722,-0.5252048356626651,0.9147195181005648,0.21877475621294196,0.8434956855716986,1.1289514827102243,0.24897343522300752,0.9367643552125431,0.24003469057553073,-0.6996845259471539,-0.2808468319306422,-0.6153404942198961,-0.6236166582499529,-0.540307067139391,0.5566407873970703,-0.04475926685369806,-0.8588736173432049,0.84625202911532,-1.2086962462158741,-0.37677178402736733,1.2543345297083535,0.32607273028515615,-1.192527651542454,-0.4964083413971376,1.1135043263106184,1.0982574823734983,0.8941232603955763,0.9472063482343633,0.8482394862616939,0.9000094540442977,-0.7328169987282079,-0.6320405402453289,0.0790652638480571,0.3221035259119434,-0.8271822226932147,-0.39816177237747025,0.6045519053203532,0.6072921231229124,0.6400405083032997,-1.2778501338792616,1.3768431858203358,-0.30644744233737514,0.30487732497317765,0.9074032095146128,-0.6602072851909878,-0.8207391899392527,0.4340728418226946,0.5476458810664352,-0.14732827464102358,0.34479546794514104,0.13834069044969716,-0.5938139255875384,0.7813320348403013,0.054307499377296814,0.6816456716677944,0.7200615821796007,-1.1495096218900678,-1.2664932621597662,0.03466544398643739,-1.1481002236423947,0.9386974813322387,0.7704863472403104],\"yaxis\":\"y\",\"type\":\"scatter\"},{\"customdata\":[[\"A Speck of Light - Reimagined\",\"Lights & Motion\",\"lights-and-motion\"],[\"A Speck of Light\",\"Lights & Motion\",\"lights-and-motion\"],[\"All the Way\",\"Lights & Motion\",\"lights-and-motion\"],[\"Anamorphic\",\"Lights & Motion\",\"lights-and-motion\"],[\"Anchor\",\"Lights & Motion\",\"lights-and-motion\"],[\"Anomaly\",\"Lights & Motion\",\"lights-and-motion\"],[\"Antlers\",\"Lights & Motion\",\"lights-and-motion\"],[\"Arms Wide Open\",\"Lights & Motion\",\"lights-and-motion\"],[\"As the World Goes Away\",\"Lights & Motion\",\"lights-and-motion\"],[\"As They Sleep\",\"Lights & Motion\",\"lights-and-motion\"],[\"Aurora\",\"Lights & Motion\",\"lights-and-motion\"],[\"Deafening Silence\",\"Lights & Motion\",\"lights-and-motion\"],[\"DNA\",\"Lights & Motion\",\"lights-and-motion\"],[\"Equals\",\"Lights & Motion\",\"lights-and-motion\"],[\"Everest\",\"Lights & Motion\",\"lights-and-motion\"],[\"Exhale\",\"Lights & Motion\",\"lights-and-motion\"],[\"Feathers\",\"Lights & Motion\",\"lights-and-motion\"],[\"Fireflies\",\"Lights & Motion\",\"lights-and-motion\"],[\"From Dust\",\"Lights & Motion\",\"lights-and-motion\"],[\"Glistening - Reimagined\",\"Lights & Motion\",\"lights-and-motion\"],[\"Glistening\",\"Lights & Motion\",\"lights-and-motion\"],[\"Glow\",\"Lights & Motion\",\"lights-and-motion\"],[\"I See You (feat. Frida Sundemo)\",\"Lights & Motion\",\"lights-and-motion\"],[\"I See You - Reimagined (feat. Frida Sundemo)\",\"Lights & Motion\",\"lights-and-motion\"],[\"Lucid Dreaming\",\"Lights & Motion\",\"lights-and-motion\"],[\"Northern Lights\",\"Lights & Motion\",\"lights-and-motion\"],[\"Pandora\",\"Lights & Motion\",\"lights-and-motion\"],[\"Panic Attack\",\"Lights & Motion\",\"lights-and-motion\"],[\"Paper Wings\",\"Lights & Motion\",\"lights-and-motion\"],[\"Parachutes\",\"Lights & Motion\",\"lights-and-motion\"],[\"Particle Storm\",\"Lights & Motion\",\"lights-and-motion\"],[\"Perfect Symmetry\",\"Lights & Motion\",\"lights-and-motion\"],[\"Phoenix\",\"Lights & Motion\",\"lights-and-motion\"],[\"Reanimation - Revisited 10th Anniversary Edition\",\"Lights & Motion\",\"lights-and-motion\"],[\"Reborn\",\"Lights & Motion\",\"lights-and-motion\"],[\"Separated Hearts - Reimagined\",\"Lights & Motion\",\"lights-and-motion\"],[\"Separated Hearts\",\"Lights & Motion\",\"lights-and-motion\"],[\"Silver Lining\",\"Lights & Motion\",\"lights-and-motion\"],[\"Sleeping Giant\",\"Lights & Motion\",\"lights-and-motion\"],[\"Sypher\",\"Lights & Motion\",\"lights-and-motion\"],[\"The First Day\",\"Lights & Motion\",\"lights-and-motion\"],[\"The Great Wide Open - Reimagined\",\"Lights & Motion\",\"lights-and-motion\"],[\"The Great Wide Open\",\"Lights & Motion\",\"lights-and-motion\"],[\"The Moments Before\",\"Lights & Motion\",\"lights-and-motion\"],[\"The Spectacular Quiet\",\"Lights & Motion\",\"lights-and-motion\"],[\"The World I Remember\",\"Lights & Motion\",\"lights-and-motion\"],[\"This Explosion Within\",\"Lights & Motion\",\"lights-and-motion\"],[\"Touching Sky\",\"Lights & Motion\",\"lights-and-motion\"],[\"We Only Have Forever\",\"Lights & Motion\",\"lights-and-motion\"],[\"When Everything Is Falling\",\"Lights & Motion\",\"lights-and-motion\"],[\"Wilderness\",\"Lights & Motion\",\"lights-and-motion\"],[\"Winter Solstice\",\"Lights & Motion\",\"lights-and-motion\"],[\"Wolves (feat. Johan Hasselblom)\",\"Lights & Motion\",\"lights-and-motion\"],[\"Wolves - Reimagined (feat. Johan Hasselblom)\",\"Lights & Motion\",\"lights-and-motion\"],[\"Woven\",\"Lights & Motion\",\"lights-and-motion\"],[\"Year Zero\",\"Lights & Motion\",\"lights-and-motion\"]],\"hovertemplate\":\"playlist=%{customdata[2]}<br>chord_x=%{x}<br>chord_y=%{y}<br>song_name=%{customdata[0]}<br>artist=%{customdata[1]}<extra></extra>\",\"legendgroup\":\"lights-and-motion\",\"marker\":{\"color\":\"#00cc96\",\"symbol\":\"circle\"},\"mode\":\"markers\",\"name\":\"lights-and-motion\",\"orientation\":\"v\",\"showlegend\":true,\"x\":[-0.6092694823889145,-0.4393132973409615,-0.7260646498843852,-0.5680735872205911,-1.3054425583134992,-1.2331867071370448,0.12993074141231684,-0.7175740780021292,-0.11151993408563166,-0.8347608606272601,-0.4906528355441238,-0.377268172577149,0.04522014321803299,-0.41909024856117316,-0.437593570720174,-0.714629762595913,-0.3826245870014237,-1.0566759676190083,-0.7350904952923103,-0.8512486677874733,-0.9693883167194328,-0.4176954645330226,-0.5232238002425388,-0.45972522620860934,0.09659187482716836,1.4879173534655534,0.27562390466294534,-0.9676737751736904,-0.387912710992779,-0.35775598810441067,-1.050627938837098,0.08543018979388343,0.4902040076236102,-0.5214270290221028,-1.1938417871685205,-0.004078723832535342,-0.11888009947497466,-0.38555648521531194,-0.7042653122257534,0.0056613870675897,-0.42074134046739253,-1.3163834816071769,-0.9325137620173464,-0.847119238505883,-0.37879267894436963,-0.5381897396842507,-0.3641882429102009,-0.804147417328622,0.03565564431993337,-0.21186031358076135,-0.8026080456292303,-0.3561529846723696,-0.08438833198797048,0.4976034245845791,-0.7072323723325217,-0.5594086924126791],\"xaxis\":\"x\",\"y\":[-0.6844566897509067,-0.6365853741130155,0.7704428911028978,-0.8358846359648218,-0.15847128663678342,-0.7892910300053692,1.0051701043801247,0.5793376302216372,0.9201299340180533,-0.9204755220734839,-0.9081305420880511,-0.31471057024153026,0.4988896109121575,-0.6900182938354468,-0.3615714362053456,0.8600543238410401,-0.5969929548987514,0.24086913909386462,0.5654776039183935,0.7439770239283063,0.9325089442151299,-0.6636591553631881,-0.5534580407977507,-0.5522086874575187,1.0107416893862733,0.19088597708150998,0.7285126924576429,1.321420181006976,-0.644383743868709,-0.6709281549209659,-0.498283517299393,0.8073215221870308,0.7697825439653817,-0.4044622976559021,0.4814259668719428,0.8035389205954538,0.6039493926745142,-0.5817174157856276,0.6522145102120966,0.7783312617839803,-0.4894979206144754,0.15074973272584247,0.2372756585367869,0.35827708767417654,-0.7217810025923579,-0.4872162791149483,-0.42975065653384564,-0.8370912970115066,0.9706783561581537,0.8762509312663915,0.538149010475462,-0.6626200916344415,-0.8982401100685131,-1.0379759794365988,0.6141202582505104,1.5302045581787371],\"yaxis\":\"y\",\"type\":\"scatter\"},{\"customdata\":[[\"Another Wave from You\",\"M83\",\"m83\"],[\"Claudia Lewis\",\"M83\",\"m83\"],[\"Echoes of Mine\",\"M83\",\"m83\"],[\"Fountains\",\"M83\",\"m83\"],[\"Intro\",\"M83\",\"m83\"],[\"Klaus I Love You\",\"M83\",\"m83\"],[\"Midnight City\",\"M83\",\"m83\"],[\"My Tears Are Becoming a Sea\",\"M83\",\"m83\"],[\"New Map\",\"M83\",\"m83\"],[\"Ok Pal\",\"M83\",\"m83\"],[\"Outro\",\"M83\",\"m83\"],[\"Raconte-moi une histoire\",\"M83\",\"m83\"],[\"Reunion\",\"M83\",\"m83\"],[\"Soon, My Friend\",\"M83\",\"m83\"],[\"Splendor\",\"M83\",\"m83\"],[\"Steve Mcqueen\",\"M83\",\"m83\"],[\"This Bright Flash\",\"M83\",\"m83\"],[\"Train to Pluton\",\"M83\",\"m83\"],[\"Wait\",\"M83\",\"m83\"],[\"When Will You Come Home\",\"M83\",\"m83\"],[\"Where the Boats Go\",\"M83\",\"m83\"],[\"Year One, One Ufo\",\"M83\",\"m83\"],[\"Ashes of Our Fathers\",\"M83\",\"m83\"],[\"Canyon Battle\",\"M83\",\"m83\"],[\"Earth 2077\",\"M83\",\"m83\"],[\"Fearful Odds\",\"M83\",\"m83\"],[\"I'm Sending You Away\",\"M83\",\"m83\"],[\"Jack's Dream\",\"M83\",\"m83\"],[\"Losing Control\",\"M83\",\"m83\"],[\"Odyssey Rescue\",\"M83\",\"m83\"],[\"Radiation Zone\",\"M83\",\"m83\"],[\"Raven Rock\",\"M83\",\"m83\"],[\"StarWaves\",\"M83\",\"m83\"],[\"Tech 49\",\"M83\",\"m83\"],[\"Temples of Our Gods\",\"M83\",\"m83\"],[\"Undimmed by Time, Unbound by Death\",\"M83\",\"m83\"],[\"Waking Up\",\"M83\",\"m83\"],[\"You Can't Save Her\",\"M83\",\"m83\"],[\"Oblivion\",\"M83\",\"m83\"]],\"hovertemplate\":\"playlist=%{customdata[2]}<br>chord_x=%{x}<br>chord_y=%{y}<br>song_name=%{customdata[0]}<br>artist=%{customdata[1]}<extra></extra>\",\"legendgroup\":\"m83\",\"marker\":{\"color\":\"#ab63fa\",\"symbol\":\"circle\"},\"mode\":\"markers\",\"name\":\"m83\",\"orientation\":\"v\",\"showlegend\":true,\"x\":[1.5781116999501903,-0.9120038617032483,-1.040013355791613,1.02220544414604,0.6401035416167489,0.06458601100704423,-0.1988169560262313,0.12280151991946309,-0.13396708162299764,0.13192558993124523,-0.7408239038072169,0.5131343736456409,-0.7210246631465324,-0.34423553027540477,-0.43108230407482295,-0.36544777643558246,-1.004634729590314,-0.35494486347891674,-0.9008419418439021,1.0620380936238467,0.8755039303358149,0.01986584076239986,0.10854332842832277,-0.8349948757743371,-0.1293138929040948,0.8744048197153582,-1.117262915390841,1.0301066350295882,0.013722902679970526,-1.2015556020891245,-1.2392613421576375,1.1632129701063578,0.18970416373486146,-0.31515368403524247,-0.19138322966371454,1.1159144939135108,-0.3268342749225702,1.121108281917548,-0.4625899930412762],\"xaxis\":\"x\",\"y\":[0.01419997752345342,-0.34707373832789723,-0.5985153678578436,1.0453169724504703,1.0949411775270799,0.6451322688532748,0.5934150360153957,1.1727041626555834,0.5377048684731589,0.5625573346152677,0.5156131316111598,-0.5932657804495306,-0.0569030882088753,-0.6378608342354715,0.7503204251348121,0.6434844412968245,-0.3672296978652442,-0.5522547508451472,0.5283855337424863,0.07363736016389466,0.457161443805669,0.9675794435324893,0.45413372514844896,-0.06331104354455744,0.26698795272817144,-0.8484002820772264,0.1265423473858592,-0.011919637169119238,0.4288841749192179,-0.15598891099813209,0.36236070664402736,-0.8637142248919817,-1.180049308439303,0.33733035909428705,-1.0373311061355066,-0.07422697443798797,-1.0810606567867493,0.4078563640179679,0.2608876138555878],\"yaxis\":\"y\",\"type\":\"scatter\"},{\"customdata\":[[\"A Moment Apart\",\"ODESZA\",\"odesza\"],[\"Across The Room (feat. Leon Bridges)\",\"ODESZA\",\"odesza\"],[\"Boy\",\"ODESZA\",\"odesza\"],[\"Corners Of The Earth (feat. RY X)\",\"ODESZA\",\"odesza\"],[\"Divide (feat. Kelsey Bulkin)\",\"ODESZA\",\"odesza\"],[\"Everything At Your Feet (feat. The Chamanas)\",\"ODESZA\",\"odesza\"],[\"Falls (feat. Sasha Alex Sloan)\",\"ODESZA\",\"odesza\"],[\"Falls (Reprise) (feat. Sasha Alex Sloan)\",\"ODESZA\",\"odesza\"],[\"Falls (Reprise) - Instrumental\",\"ODESZA\",\"odesza\"],[\"Higher Ground (feat. Naomi Wild)\",\"ODESZA\",\"odesza\"],[\"Higher Ground (Reprise) (feat. Naomi Wild)\",\"ODESZA\",\"odesza\"],[\"Higher Ground (Reprise) - Instrumental\",\"ODESZA\",\"odesza\"],[\"Intro\",\"ODESZA\",\"odesza\"],[\"It\\u2019s Only (feat. Zyra) - ODESZA VIP Remix\",\"ODESZA\",\"odesza\"],[\"Just A Memory (feat. Regina Spektor)\",\"ODESZA\",\"odesza\"],[\"La Ciudad\",\"ODESZA\",\"odesza\"],[\"Late Night\",\"ODESZA\",\"odesza\"],[\"Line Of Sight (feat. WYNNE & Mansionair)\",\"ODESZA\",\"odesza\"],[\"Line Of Sight (Reprise) (feat. WYNNE & Mansionair)\",\"ODESZA\",\"odesza\"],[\"Line Of Sight (Reprise) - Instrumental\",\"ODESZA\",\"odesza\"],[\"Loyal\",\"ODESZA\",\"odesza\"],[\"Memories That You Call (feat. Monsoonsiren) - ODESZA & Golden Features VIP Remix\",\"ODESZA\",\"odesza\"],[\"Meridian\",\"ODESZA\",\"odesza\"],[\"Show Me\",\"ODESZA\",\"odesza\"],[\"Thin Floors And Tall Ceilings\",\"ODESZA\",\"odesza\"]],\"hovertemplate\":\"playlist=%{customdata[2]}<br>chord_x=%{x}<br>chord_y=%{y}<br>song_name=%{customdata[0]}<br>artist=%{customdata[1]}<extra></extra>\",\"legendgroup\":\"odesza\",\"marker\":{\"color\":\"#FFA15A\",\"symbol\":\"circle\"},\"mode\":\"markers\",\"name\":\"odesza\",\"orientation\":\"v\",\"showlegend\":true,\"x\":[-0.1571083990414778,1.302620860321955,-0.9682482107281919,-0.3979641919071229,-0.5776631573296936,-0.8129467216634673,-1.751828125477915,1.0663439442897418,1.2819429102408133,0.20042792496993292,1.3625427115554782,1.4715435399181953,-0.15440507284776508,-0.2566734834615813,-0.9116857639617585,-0.7008756564600872,-0.5681812245120813,-0.23625306112015632,0.9918070590895469,0.9695382798971883,-0.2971691289320894,-1.1938795538648554,0.052589408770480434,-0.27083112868545967,0.11576950775368426],\"xaxis\":\"x\",\"y\":[-1.2086171083651014,0.6905800769820519,0.28451045639528816,1.1899640197451595,-0.4345738103291267,0.31794236789713304,-0.17822565208306193,0.784999763491828,0.9374225125000116,0.6168691156676486,0.9299697284176844,1.0147386496792767,0.5474838364584966,0.428662602192465,-0.6783457719106148,0.8118577869452642,0.4231981063737,-1.0681281746505071,-0.2635662719723997,-0.18463978990685379,0.7655969412163,0.43524748499567767,0.398540832476802,0.6575325851628891,-1.0539801377000009],\"yaxis\":\"y\",\"type\":\"scatter\"},{\"customdata\":[[\"April 10, 2019- Powehi - Image of a Black Hole\",\"Sleeping At Last\",\"sleeping-at-last\"],[\"August 12, 2018- Perseid Meteor Shower\",\"Sleeping At Last\",\"sleeping-at-last\"],[\"August 21, 2017- Total Solar Eclipse\",\"Sleeping At Last\",\"sleeping-at-last\"],[\"December 13, 2017- Geminid Meteor Shower\",\"Sleeping At Last\",\"sleeping-at-last\"],[\"December 17, 2018- Farout\",\"Sleeping At Last\",\"sleeping-at-last\"],[\"December 21, 2020- The Great Conjunction\",\"Sleeping At Last\",\"sleeping-at-last\"],[\"December 25, 2021- Webb Space Telescope - Launch\",\"Sleeping At Last\",\"sleeping-at-last\"],[\"February 1, 2023- C2022 E3 - Comet Ztf\",\"Sleeping At Last\",\"sleeping-at-last\"],[\"February 13, 2019- Opportunity - Mission Complete\",\"Sleeping At Last\",\"sleeping-at-last\"],[\"February 18, 2021- Perseverance - Mars Landing\",\"Sleeping At Last\",\"sleeping-at-last\"],[\"January 30, 2020- Spitzer - Final Voyage\",\"Sleeping At Last\",\"sleeping-at-last\"],[\"January 31, 2018- Super Blue Blood Moon\",\"Sleeping At Last\",\"sleeping-at-last\"],[\"July 22, 2020- C  2020 F3 - Comet Neowise\",\"Sleeping At Last\",\"sleeping-at-last\"],[\"July 27, 2018- Total Lunar Eclipse\",\"Sleeping At Last\",\"sleeping-at-last\"],[\"July 4, 2020- Aphelion\",\"Sleeping At Last\",\"sleeping-at-last\"],[\"June 24, 2022- Parade of Planets\",\"Sleeping At Last\",\"sleeping-at-last\"],[\"June 30, 2018- Pds 70b (Birth of a Planet)\",\"Sleeping At Last\",\"sleeping-at-last\"],[\"October 30, 2018- Kepler - Goodnight\",\"Sleeping At Last\",\"sleeping-at-last\"],[\"September 15, 2017- Cassini - The Grand Finale\",\"Sleeping At Last\",\"sleeping-at-last\"]],\"hovertemplate\":\"playlist=%{customdata[2]}<br>chord_x=%{x}<br>chord_y=%{y}<br>song_name=%{customdata[0]}<br>artist=%{customdata[1]}<extra></extra>\",\"legendgroup\":\"sleeping-at-last\",\"marker\":{\"color\":\"#19d3f3\",\"symbol\":\"circle\"},\"mode\":\"markers\",\"name\":\"sleeping-at-last\",\"orientation\":\"v\",\"showlegend\":true,\"x\":[-0.9297680175899828,-0.15114132026352775,1.24630292920683,0.9489201686935502,-0.5368074557310129,0.7359658687253504,-0.8439118858203021,0.8425340906190335,-1.124093722445518,0.9647883298161373,-0.6429458851646614,-0.5562366933488727,0.13657386593740733,1.3855802429037547,-0.0954818273950453,0.7690164043544874,0.45563305972262363,0.8306545383581849,0.7037717036655355],\"xaxis\":\"x\",\"y\":[-0.2083607810519861,1.2175850233622953,0.47875839677947446,0.1194084685000088,-0.7059214517138909,-0.6080305043809161,0.7205896197731491,-0.515645952160576,0.577250466472746,0.1820146022719128,-0.6970428907902727,-0.6676979147991134,1.2045993883726724,-0.540049969945297,-0.4848094449245784,0.9956679292271451,0.5768452967773929,-0.5883941666860051,-1.1987156060403585],\"yaxis\":\"y\",\"type\":\"scatter\"},{\"customdata\":[[\"It's Ok If You Forget Me\",\"Astrid S\",\"synth-pop\"],[\"Young & Alive\",\"Bazzi\",\"synth-pop\"],[\"Paralyze\",\"Bj\\u00f8rnskov\",\"synth-pop\"],[\"San Diego\",\"BRDGS\",\"synth-pop\"],[\"Ear Candy\",\"Caye\",\"synth-pop\"],[\"12 Hours\",\"Chris James\",\"synth-pop\"],[\"My Universe\",\"Coldplay\",\"synth-pop\"],[\"Overdrive\",\"Conan Gray\",\"synth-pop\"],[\"Titanic\",\"Cosmo's Midnight\",\"synth-pop\"],[\"Champagne For Two\",\"Devin Kennedy\",\"synth-pop\"],[\"Another Round\",\"Elina\",\"synth-pop\"],[\"How\",\"Elina\",\"synth-pop\"],[\"Paper Planes\",\"Elina\",\"synth-pop\"],[\"Nirvana\",\"ELLIANA\",\"synth-pop\"],[\"Lost In Space\",\"Emmit Fenn\",\"synth-pop\"],[\"12-45 - Stripped\",\"Etham\",\"synth-pop\"],[\"Purpose - Stripped\",\"Etham\",\"synth-pop\"],[\"California\",\"Ethan Dufault\",\"synth-pop\"],[\"Hurt The Ones We Love The Most\",\"Evan Blum\",\"synth-pop\"],[\"Young Love\",\"Falcon\",\"synth-pop\"],[\"I Should've Told You\",\"Fiji Blue\",\"synth-pop\"],[\"Waves\",\"Fiji Blue\",\"synth-pop\"],[\"Healing\",\"FLETCHER\",\"synth-pop\"],[\"hold on\",\"flor\",\"synth-pop\"],[\"Automatic (feat. Jake Miller)\",\"Fly By Midnight\",\"synth-pop\"],[\"Lovely\",\"Fly By Midnight\",\"synth-pop\"],[\"Lonely\",\"Gatsby\",\"synth-pop\"],[\"dear me,\",\"Gentle Bones\",\"synth-pop\"],[\"I Wouldn't Know Any Better Than You\",\"Gentle Bones\",\"synth-pop\"],[\"So Far So Good\",\"Great Good Fine Ok\",\"synth-pop\"],[\"Falling\",\"Harry Styles\",\"synth-pop\"],[\"sometimes\",\"Heather Sommer\",\"synth-pop\"],[\"you heard me\",\"Heather Sommer\",\"synth-pop\"],[\"Crying Over You \\u25d0\",\"HONNE\",\"synth-pop\"],[\"Day Dreaming\",\"Jack & Jack\",\"synth-pop\"],[\"Ross And Rachel\",\"Jake Miller\",\"synth-pop\"],[\"Showing You Off\",\"Jake Miller\",\"synth-pop\"],[\"Like No One Does\",\"Jake Scott\",\"synth-pop\"],[\"CWJBHN\",\"Jake Scott\",\"synth-pop\"],[\"drive all night\",\"joan\",\"synth-pop\"],[\"i loved you first\",\"joan\",\"synth-pop\"],[\"love somebody like you\",\"joan\",\"synth-pop\"],[\"magnetic\",\"joan\",\"synth-pop\"],[\"6 months\",\"John K\",\"synth-pop\"],[\"ilym (feat. ROSIE)\",\"John K\",\"synth-pop\"],[\"I Believe\",\"Jonas Brothers\",\"synth-pop\"],[\"I Quit Drinking\",\"Kelsea Ballerini\",\"synth-pop\"],[\"13\",\"LANY\",\"synth-pop\"],[\"dancing in the kitchen\",\"LANY\",\"synth-pop\"],[\"dna\",\"LANY\",\"synth-pop\"],[\"get away\",\"LANY\",\"synth-pop\"],[\"I Don't Wanna Love You Anymore\",\"LANY\",\"synth-pop\"],[\"if this is the last time\",\"LANY\",\"synth-pop\"],[\"ILYSB - STRIPPED\",\"LANY\",\"synth-pop\"],[\"ILYSB\",\"LANY\",\"synth-pop\"],[\"Let Me Know\",\"LANY\",\"synth-pop\"],[\"Malibu Nights\",\"LANY\",\"synth-pop\"],[\"Super Far\",\"LANY\",\"synth-pop\"],[\"Thru These Tears\",\"LANY\",\"synth-pop\"],[\"up to me\",\"LANY\",\"synth-pop\"],[\"you!\",\"LANY\",\"synth-pop\"],[\"Tattoos Together\",\"Lauv\",\"synth-pop\"],[\"When We Were Younger\",\"Loving Caliber\",\"synth-pop\"],[\"Love You Back\",\"Madeon\",\"synth-pop\"],[\"colorblind\",\"Mokita\",\"synth-pop\"],[\"London\",\"Mokita\",\"synth-pop\"],[\"Ready Yet\",\"Mokita\",\"synth-pop\"],[\"Shut Up I Love U\",\"Neptune\",\"synth-pop\"],[\"This Is Heaven\",\"Nick Jonas\",\"synth-pop\"],[\"Plot Twist\",\"NIKI\",\"synth-pop\"],[\"Waves\",\"Paige\",\"synth-pop\"],[\"Shelter\",\"Porter Robinson\",\"synth-pop\"],[\"Outsider\",\"Rachel Grae\",\"synth-pop\"],[\"Dandelions\",\"Ruth B.\",\"synth-pop\"],[\"Lie\",\"Sasha Alex Sloan\",\"synth-pop\"],[\"Day Dreaming\",\"Sopha\",\"synth-pop\"],[\"I Always Wanna Die (Sometimes)\",\"The 1975\",\"synth-pop\"],[\"I'm In Love With You\",\"The 1975\",\"synth-pop\"],[\"It's Not Living (If It's Not With You)\",\"The 1975\",\"synth-pop\"],[\"Robbers\",\"The 1975\",\"synth-pop\"],[\"She's American\",\"The 1975\",\"synth-pop\"],[\"Somebody Else\",\"The 1975\",\"synth-pop\"],[\"Going Home\",\"The Aces\",\"synth-pop\"],[\"Sunset\",\"The Midnight\",\"synth-pop\"],[\"Say So\",\"The Sam Willows\",\"synth-pop\"],[\"I Can't Stop Thinking About You\",\"The Shadowboxers\",\"synth-pop\"],[\"Strawberries & Cigarettes\",\"Troye Sivan\",\"synth-pop\"],[\"If Only for Tonight\",\"Vacation Manor\",\"synth-pop\"],[\"rocket science\",\"vaultboy\",\"synth-pop\"],[\"no excuses\",\"Virginia To Vegas\",\"synth-pop\"],[\"Got A Little Crush On You\",\"Wildflowers\",\"synth-pop\"],[\"Talking To Myself\",\"Will Jay\",\"synth-pop\"],[\"Dance Like Nobody's Watching\",\"Yuna\",\"synth-pop\"],[\"dancing in the kitchen\",\"Zachary Knowles\",\"synth-pop\"],[\"stranger to me\",\"Zachary Knowles\",\"synth-pop\"],[\"could you love me while i hate myself\",\"Zeph\",\"synth-pop\"]],\"hovertemplate\":\"playlist=%{customdata[2]}<br>chord_x=%{x}<br>chord_y=%{y}<br>song_name=%{customdata[0]}<br>artist=%{customdata[1]}<extra></extra>\",\"legendgroup\":\"synth-pop\",\"marker\":{\"color\":\"#FF6692\",\"symbol\":\"circle\"},\"mode\":\"markers\",\"name\":\"synth-pop\",\"orientation\":\"v\",\"showlegend\":true,\"x\":[0.6222559696883824,1.0826863099339807,-1.2499198808319916,0.042065225653333135,-0.7384010852539057,0.4099543906970919,0.09188732310920726,-0.9378120301510021,-0.8622316803950786,-1.0213968083263711,-0.6943464262025875,1.0399899480284558,0.9070181016529091,0.29561139068990816,0.7211786794635472,-0.36223458029715566,1.2567404794211172,-0.05662184745567392,-0.03842104103921811,0.376804551896914,0.8919416018781547,-0.19725648001648285,-0.860860058095681,-0.29649826165083515,0.876581195249218,-0.4072610301861028,0.6352765655102831,0.5744837350442499,-0.507983302231907,-0.3374062844071849,0.1681878965770952,-0.04901754408143528,-0.6085371609284823,-0.6464777190316623,-0.36423098360329387,-0.277972114265568,0.32238811580427856,0.7582561778450444,0.592935547581169,-0.0787130225271685,-1.068858602529862,-1.0186331774980586,0.3347830534695937,0.7849463850702201,0.11237169367406914,0.022432748011147377,1.0294742196008908,0.19882799727281064,0.3629910163658535,0.16340022194191814,0.8793643442159822,-0.43035959530567536,0.5651813531640928,-0.36264484652718515,0.10100417050789855,-0.09613374556467978,0.3283160913214816,0.31253092112466746,0.3187725627315631,-0.9008431666831048,-0.24411788215670216,-0.8157074903801483,0.7227806001133209,0.1263530313530148,1.2036200099591567,0.6562215834767855,-0.6719830145325734,0.0583068866186848,-0.6629215740547498,0.5921795225221513,0.011935876860816508,-0.8952886356205061,0.8121740716304591,0.7644267972275957,0.353850991142746,0.536487215545411,-0.03787411693257501,-0.6678098732877249,0.023235262814748147,0.014989726064871376,1.2036718445886068,-0.5775865816947984,-0.6247228955860615,-0.9746599674984171,-0.8615398278277381,-0.6605721918599741,-0.06365812995452264,0.8808413960132753,0.5032175420164869,-0.003624216186084647,-0.6461134480165334,-0.27535143303886017,0.15953634497273408,-0.734351191294883,0.5796905843705505,-0.15679236522706513],\"xaxis\":\"x\",\"y\":[1.2366112732493504,-0.888407614691927,0.31279139096279157,0.5373422592397253,-0.15730603379023125,-0.9371926557773673,0.591881463322612,-0.654237659566025,0.1277053074073737,-0.008508841400354763,0.939582093144747,0.44546276440078786,0.22489800200018098,0.9412233085005434,-0.4760787020178857,-1.272302315051157,-0.6646731742298272,0.7200722178612095,0.6223196555377922,-0.4696584405883571,-0.54223289781439,0.8019780828108892,0.5110835265970067,1.2122347157016118,0.3124057419035238,-0.43043539728887764,-0.5702405014540219,0.9197900318822482,1.113285465010408,-0.869322975511489,1.1697254226623963,0.6788469015422142,0.7925886982186757,0.6675659946584147,-1.730373940353167,0.6504515865047439,1.3951736598694007,-0.9576430112373482,-1.0851322696221744,0.5349575197859745,-0.7606329935280961,-0.09175158464869652,-1.1305008627419513,-1.0294353376881893,1.0440115732303308,0.5337982014006378,0.17206456828044714,1.3552036768727294,1.0091174022752416,0.7062160712622874,-1.1392088194420453,-0.5820515238620346,1.013498789649271,-0.6345013916153359,-1.202674511716768,0.5539905846612174,1.1450592022978818,0.328467001295384,1.2456879520829933,0.6401746727094747,-1.3645156640483738,0.5137346174319013,-0.7135219490921505,0.8333047785546644,0.35575743485209804,0.899810711785893,0.4516716720566198,0.5755193423102841,-0.8175271051167039,0.9865705915452937,0.7143974907306547,-0.35759079458132265,-0.3952734093692103,0.6142635914658495,0.2822241947512721,0.559609996471882,1.1129056850032104,0.8735391615381761,0.4040414034624638,0.5186630464785763,0.23637507229455954,-0.6985171444155752,0.7765475180475553,-0.10095662039078686,0.7306611493244957,0.6644663265450405,0.5389942659599603,0.707477568829386,-1.244520496697624,0.5020738198189841,0.8749323355114216,-0.46694920090846953,-0.23074063386661275,0.49351220976537136,1.1310595397393834,0.608077867909319],\"yaxis\":\"y\",\"type\":\"scatter\"},{\"customdata\":[[\"Allure\",\"Tony Anderson\",\"tony-anderson\"],[\"Aurora\",\"Tony Anderson\",\"tony-anderson\"],[\"Chasm\",\"Tony Anderson\",\"tony-anderson\"],[\"Darkest Night\",\"Tony Anderson\",\"tony-anderson\"],[\"Deep Waters - Original Sketch\",\"Tony Anderson\",\"tony-anderson\"],[\"Deep Waters\",\"Tony Anderson\",\"tony-anderson\"],[\"Delusion\",\"Tony Anderson\",\"tony-anderson\"],[\"Eyes Wide Open - Cinematic Mix\",\"Tony Anderson\",\"tony-anderson\"],[\"Eyes Wide Open\",\"Tony Anderson\",\"tony-anderson\"],[\"Face of the Father\",\"Tony Anderson\",\"tony-anderson\"],[\"Farthest Seas\",\"Tony Anderson\",\"tony-anderson\"],[\"Finding Your Heart\",\"Tony Anderson\",\"tony-anderson\"],[\"Halo\",\"Tony Anderson\",\"tony-anderson\"],[\"High Tide\",\"Tony Anderson\",\"tony-anderson\"],[\"Immanuel\",\"Tony Anderson\",\"tony-anderson\"],[\"Immersion\",\"Tony Anderson\",\"tony-anderson\"],[\"In the Distance\",\"Tony Anderson\",\"tony-anderson\"],[\"Incision\",\"Tony Anderson\",\"tony-anderson\"],[\"Like a Child - Cinematic Mix\",\"Tony Anderson\",\"tony-anderson\"],[\"Low Tide\",\"Tony Anderson\",\"tony-anderson\"],[\"Lune\",\"Tony Anderson\",\"tony-anderson\"],[\"Morning's Wings\",\"Tony Anderson\",\"tony-anderson\"],[\"Nightingale\",\"Tony Anderson\",\"tony-anderson\"],[\"No Place on Earth\",\"Tony Anderson\",\"tony-anderson\"],[\"Nocturne in Paris\",\"Tony Anderson\",\"tony-anderson\"],[\"Perennial\",\"Tony Anderson\",\"tony-anderson\"],[\"Resurrect\",\"Tony Anderson\",\"tony-anderson\"],[\"Retour\",\"Tony Anderson\",\"tony-anderson\"],[\"Shalom\",\"Tony Anderson\",\"tony-anderson\"],[\"Slipstream\",\"Tony Anderson\",\"tony-anderson\"],[\"Something Can Grow\",\"Tony Anderson\",\"tony-anderson\"],[\"Spiriteaux\",\"Tony Anderson\",\"tony-anderson\"],[\"The King\",\"Tony Anderson\",\"tony-anderson\"],[\"The Way Home\",\"Tony Anderson\",\"tony-anderson\"],[\"Thin Place - Abbreviated\",\"Tony Anderson\",\"tony-anderson\"],[\"Thin Place\",\"Tony Anderson\",\"tony-anderson\"],[\"We Are One\",\"Tony Anderson\",\"tony-anderson\"],[\"Wir Sind Gleich\",\"Tony Anderson\",\"tony-anderson\"],[\"Younger\",\"Tony Anderson\",\"tony-anderson\"],[\"\\u00c9closion\",\"Tony Anderson\",\"tony-anderson\"],[\"\\u00c9ph\\u00e9m\\u00e8re\",\"Tony Anderson\",\"tony-anderson\"],[\"Arp\\u00e8ge\",\"Tony Anderson\",\"tony-anderson\"],[\"Nuit\",\"Tony Anderson\",\"tony-anderson\"],[\"Tenderness - Woven Remix\",\"Tony Anderson\",\"tony-anderson\"],[\"Tenderness\",\"Tony Anderson\",\"tony-anderson\"],[\"Cambodia - Ross Lara Remix\",\"Tony Anderson\",\"tony-anderson\"],[\"Cambodia\",\"Tony Anderson\",\"tony-anderson\"],[\"Oyarsa\",\"Tony Anderson\",\"tony-anderson\"]],\"hovertemplate\":\"playlist=%{customdata[2]}<br>chord_x=%{x}<br>chord_y=%{y}<br>song_name=%{customdata[0]}<br>artist=%{customdata[1]}<extra></extra>\",\"legendgroup\":\"tony-anderson\",\"marker\":{\"color\":\"#B6E880\",\"symbol\":\"circle\"},\"mode\":\"markers\",\"name\":\"tony-anderson\",\"orientation\":\"v\",\"showlegend\":true,\"x\":[-0.3240299118171773,-0.505837899619625,0.785596562162051,-0.03393240000024754,-1.1632878899555283,-1.1354096429547305,-0.1841887195953536,0.8094467091417784,0.4993471231399282,-1.1858130729759104,0.7389930916814199,-0.39340092298312734,-0.026009181269109016,0.5928699350735492,-0.4573402441668383,-0.37012314531838203,0.6412567242025633,-0.2839992173665606,0.8301658023048331,-1.0929822698660787,-0.6943109408180839,0.02575597497059536,0.751824207798189,-0.0031890146485412845,-0.3059226516002361,-0.6698294395433435,-0.6691881400698558,0.040403889968560425,-0.42080318352222085,0.4498402344841673,-0.841721202086113,-0.9344229051139911,0.4752738673612266,0.6272683343105065,0.5639318476009983,0.6668951718260921,0.5712388583309186,-0.5387956425677093,-0.7197612705176899,-0.38137042092185447,-0.5322593230836109,0.026243107724999205,-0.10869395928984185,-1.1025636677206996,0.09929017806675199,0.0017110444758674168,-0.04056925780999967,0.9878776414334317],\"xaxis\":\"x\",\"y\":[-0.7376128655317331,-0.12115296932890053,-0.3838455992062241,-0.9138545615414676,-0.2550559100215647,-0.045188118492186034,-0.7433468402728745,-0.7478253755768092,-0.8662830919540842,0.25400428934453223,-0.6994273730267785,-0.6084912545116568,0.41861438019575414,-0.8420045020093108,-0.457062058728453,-0.509480185564036,-0.48648369951641157,-1.1773431228845075,-0.962783962360845,-0.3777248265409198,-0.5626941776193817,0.4372838629978256,-0.4031495674579452,0.41328951285486343,0.35853124974215356,-0.48711390487788014,-0.5604565695965585,0.33216794814866607,-0.6735098158619884,0.8192211986193492,-1.188949768092616,-0.8640706265603096,-1.047916932553215,-0.46909741005809047,-0.5624949711443361,-0.4617907857897031,-0.7573519640989715,-0.27161503440563645,-0.6085916599749798,0.2215255842515113,-0.9164704857766409,0.2660050603954996,-0.7012050127456736,0.012476774530032653,-0.529943687017512,0.1580121057636483,0.3780606412033045,-0.9255752335943326],\"yaxis\":\"y\",\"type\":\"scatter\"}],                        {\"template\":{\"data\":{\"histogram2dcontour\":[{\"type\":\"histogram2dcontour\",\"colorbar\":{\"outlinewidth\":0,\"ticks\":\"\"},\"colorscale\":[[0.0,\"#0d0887\"],[0.1111111111111111,\"#46039f\"],[0.2222222222222222,\"#7201a8\"],[0.3333333333333333,\"#9c179e\"],[0.4444444444444444,\"#bd3786\"],[0.5555555555555556,\"#d8576b\"],[0.6666666666666666,\"#ed7953\"],[0.7777777777777778,\"#fb9f3a\"],[0.8888888888888888,\"#fdca26\"],[1.0,\"#f0f921\"]]}],\"choropleth\":[{\"type\":\"choropleth\",\"colorbar\":{\"outlinewidth\":0,\"ticks\":\"\"}}],\"histogram2d\":[{\"type\":\"histogram2d\",\"colorbar\":{\"outlinewidth\":0,\"ticks\":\"\"},\"colorscale\":[[0.0,\"#0d0887\"],[0.1111111111111111,\"#46039f\"],[0.2222222222222222,\"#7201a8\"],[0.3333333333333333,\"#9c179e\"],[0.4444444444444444,\"#bd3786\"],[0.5555555555555556,\"#d8576b\"],[0.6666666666666666,\"#ed7953\"],[0.7777777777777778,\"#fb9f3a\"],[0.8888888888888888,\"#fdca26\"],[1.0,\"#f0f921\"]]}],\"heatmap\":[{\"type\":\"heatmap\",\"colorbar\":{\"outlinewidth\":0,\"ticks\":\"\"},\"colorscale\":[[0.0,\"#0d0887\"],[0.1111111111111111,\"#46039f\"],[0.2222222222222222,\"#7201a8\"],[0.3333333333333333,\"#9c179e\"],[0.4444444444444444,\"#bd3786\"],[0.5555555555555556,\"#d8576b\"],[0.6666666666666666,\"#ed7953\"],[0.7777777777777778,\"#fb9f3a\"],[0.8888888888888888,\"#fdca26\"],[1.0,\"#f0f921\"]]}],\"heatmapgl\":[{\"type\":\"heatmapgl\",\"colorbar\":{\"outlinewidth\":0,\"ticks\":\"\"},\"colorscale\":[[0.0,\"#0d0887\"],[0.1111111111111111,\"#46039f\"],[0.2222222222222222,\"#7201a8\"],[0.3333333333333333,\"#9c179e\"],[0.4444444444444444,\"#bd3786\"],[0.5555555555555556,\"#d8576b\"],[0.6666666666666666,\"#ed7953\"],[0.7777777777777778,\"#fb9f3a\"],[0.8888888888888888,\"#fdca26\"],[1.0,\"#f0f921\"]]}],\"contourcarpet\":[{\"type\":\"contourcarpet\",\"colorbar\":{\"outlinewidth\":0,\"ticks\":\"\"}}],\"contour\":[{\"type\":\"contour\",\"colorbar\":{\"outlinewidth\":0,\"ticks\":\"\"},\"colorscale\":[[0.0,\"#0d0887\"],[0.1111111111111111,\"#46039f\"],[0.2222222222222222,\"#7201a8\"],[0.3333333333333333,\"#9c179e\"],[0.4444444444444444,\"#bd3786\"],[0.5555555555555556,\"#d8576b\"],[0.6666666666666666,\"#ed7953\"],[0.7777777777777778,\"#fb9f3a\"],[0.8888888888888888,\"#fdca26\"],[1.0,\"#f0f921\"]]}],\"surface\":[{\"type\":\"surface\",\"colorbar\":{\"outlinewidth\":0,\"ticks\":\"\"},\"colorscale\":[[0.0,\"#0d0887\"],[0.1111111111111111,\"#46039f\"],[0.2222222222222222,\"#7201a8\"],[0.3333333333333333,\"#9c179e\"],[0.4444444444444444,\"#bd3786\"],[0.5555555555555556,\"#d8576b\"],[0.6666666666666666,\"#ed7953\"],[0.7777777777777778,\"#fb9f3a\"],[0.8888888888888888,\"#fdca26\"],[1.0,\"#f0f921\"]]}],\"mesh3d\":[{\"type\":\"mesh3d\",\"colorbar\":{\"outlinewidth\":0,\"ticks\":\"\"}}],\"scatter\":[{\"marker\":{\"line\":{\"color\":\"#283442\"}},\"type\":\"scatter\"}],\"parcoords\":[{\"type\":\"parcoords\",\"line\":{\"colorbar\":{\"outlinewidth\":0,\"ticks\":\"\"}}}],\"scatterpolargl\":[{\"type\":\"scatterpolargl\",\"marker\":{\"colorbar\":{\"outlinewidth\":0,\"ticks\":\"\"}}}],\"bar\":[{\"error_x\":{\"color\":\"#f2f5fa\"},\"error_y\":{\"color\":\"#f2f5fa\"},\"marker\":{\"line\":{\"color\":\"rgb(17,17,17)\",\"width\":0.5},\"pattern\":{\"fillmode\":\"overlay\",\"size\":10,\"solidity\":0.2}},\"type\":\"bar\"}],\"scattergeo\":[{\"type\":\"scattergeo\",\"marker\":{\"colorbar\":{\"outlinewidth\":0,\"ticks\":\"\"}}}],\"scatterpolar\":[{\"type\":\"scatterpolar\",\"marker\":{\"colorbar\":{\"outlinewidth\":0,\"ticks\":\"\"}}}],\"histogram\":[{\"marker\":{\"pattern\":{\"fillmode\":\"overlay\",\"size\":10,\"solidity\":0.2}},\"type\":\"histogram\"}],\"scattergl\":[{\"marker\":{\"line\":{\"color\":\"#283442\"}},\"type\":\"scattergl\"}],\"scatter3d\":[{\"type\":\"scatter3d\",\"line\":{\"colorbar\":{\"outlinewidth\":0,\"ticks\":\"\"}},\"marker\":{\"colorbar\":{\"outlinewidth\":0,\"ticks\":\"\"}}}],\"scattermapbox\":[{\"type\":\"scattermapbox\",\"marker\":{\"colorbar\":{\"outlinewidth\":0,\"ticks\":\"\"}}}],\"scatterternary\":[{\"type\":\"scatterternary\",\"marker\":{\"colorbar\":{\"outlinewidth\":0,\"ticks\":\"\"}}}],\"scattercarpet\":[{\"type\":\"scattercarpet\",\"marker\":{\"colorbar\":{\"outlinewidth\":0,\"ticks\":\"\"}}}],\"carpet\":[{\"aaxis\":{\"endlinecolor\":\"#A2B1C6\",\"gridcolor\":\"#506784\",\"linecolor\":\"#506784\",\"minorgridcolor\":\"#506784\",\"startlinecolor\":\"#A2B1C6\"},\"baxis\":{\"endlinecolor\":\"#A2B1C6\",\"gridcolor\":\"#506784\",\"linecolor\":\"#506784\",\"minorgridcolor\":\"#506784\",\"startlinecolor\":\"#A2B1C6\"},\"type\":\"carpet\"}],\"table\":[{\"cells\":{\"fill\":{\"color\":\"#506784\"},\"line\":{\"color\":\"rgb(17,17,17)\"}},\"header\":{\"fill\":{\"color\":\"#2a3f5f\"},\"line\":{\"color\":\"rgb(17,17,17)\"}},\"type\":\"table\"}],\"barpolar\":[{\"marker\":{\"line\":{\"color\":\"rgb(17,17,17)\",\"width\":0.5},\"pattern\":{\"fillmode\":\"overlay\",\"size\":10,\"solidity\":0.2}},\"type\":\"barpolar\"}],\"pie\":[{\"automargin\":true,\"type\":\"pie\"}]},\"layout\":{\"autotypenumbers\":\"strict\",\"colorway\":[\"#636efa\",\"#EF553B\",\"#00cc96\",\"#ab63fa\",\"#FFA15A\",\"#19d3f3\",\"#FF6692\",\"#B6E880\",\"#FF97FF\",\"#FECB52\"],\"font\":{\"color\":\"#f2f5fa\"},\"hovermode\":\"closest\",\"hoverlabel\":{\"align\":\"left\"},\"paper_bgcolor\":\"rgb(17,17,17)\",\"plot_bgcolor\":\"rgb(17,17,17)\",\"polar\":{\"bgcolor\":\"rgb(17,17,17)\",\"angularaxis\":{\"gridcolor\":\"#506784\",\"linecolor\":\"#506784\",\"ticks\":\"\"},\"radialaxis\":{\"gridcolor\":\"#506784\",\"linecolor\":\"#506784\",\"ticks\":\"\"}},\"ternary\":{\"bgcolor\":\"rgb(17,17,17)\",\"aaxis\":{\"gridcolor\":\"#506784\",\"linecolor\":\"#506784\",\"ticks\":\"\"},\"baxis\":{\"gridcolor\":\"#506784\",\"linecolor\":\"#506784\",\"ticks\":\"\"},\"caxis\":{\"gridcolor\":\"#506784\",\"linecolor\":\"#506784\",\"ticks\":\"\"}},\"coloraxis\":{\"colorbar\":{\"outlinewidth\":0,\"ticks\":\"\"}},\"colorscale\":{\"sequential\":[[0.0,\"#0d0887\"],[0.1111111111111111,\"#46039f\"],[0.2222222222222222,\"#7201a8\"],[0.3333333333333333,\"#9c179e\"],[0.4444444444444444,\"#bd3786\"],[0.5555555555555556,\"#d8576b\"],[0.6666666666666666,\"#ed7953\"],[0.7777777777777778,\"#fb9f3a\"],[0.8888888888888888,\"#fdca26\"],[1.0,\"#f0f921\"]],\"sequentialminus\":[[0.0,\"#0d0887\"],[0.1111111111111111,\"#46039f\"],[0.2222222222222222,\"#7201a8\"],[0.3333333333333333,\"#9c179e\"],[0.4444444444444444,\"#bd3786\"],[0.5555555555555556,\"#d8576b\"],[0.6666666666666666,\"#ed7953\"],[0.7777777777777778,\"#fb9f3a\"],[0.8888888888888888,\"#fdca26\"],[1.0,\"#f0f921\"]],\"diverging\":[[0,\"#8e0152\"],[0.1,\"#c51b7d\"],[0.2,\"#de77ae\"],[0.3,\"#f1b6da\"],[0.4,\"#fde0ef\"],[0.5,\"#f7f7f7\"],[0.6,\"#e6f5d0\"],[0.7,\"#b8e186\"],[0.8,\"#7fbc41\"],[0.9,\"#4d9221\"],[1,\"#276419\"]]},\"xaxis\":{\"gridcolor\":\"#283442\",\"linecolor\":\"#506784\",\"ticks\":\"\",\"title\":{\"standoff\":15},\"zerolinecolor\":\"#283442\",\"automargin\":true,\"zerolinewidth\":2},\"yaxis\":{\"gridcolor\":\"#283442\",\"linecolor\":\"#506784\",\"ticks\":\"\",\"title\":{\"standoff\":15},\"zerolinecolor\":\"#283442\",\"automargin\":true,\"zerolinewidth\":2},\"scene\":{\"xaxis\":{\"backgroundcolor\":\"rgb(17,17,17)\",\"gridcolor\":\"#506784\",\"linecolor\":\"#506784\",\"showbackground\":true,\"ticks\":\"\",\"zerolinecolor\":\"#C8D4E3\",\"gridwidth\":2},\"yaxis\":{\"backgroundcolor\":\"rgb(17,17,17)\",\"gridcolor\":\"#506784\",\"linecolor\":\"#506784\",\"showbackground\":true,\"ticks\":\"\",\"zerolinecolor\":\"#C8D4E3\",\"gridwidth\":2},\"zaxis\":{\"backgroundcolor\":\"rgb(17,17,17)\",\"gridcolor\":\"#506784\",\"linecolor\":\"#506784\",\"showbackground\":true,\"ticks\":\"\",\"zerolinecolor\":\"#C8D4E3\",\"gridwidth\":2}},\"shapedefaults\":{\"line\":{\"color\":\"#f2f5fa\"}},\"annotationdefaults\":{\"arrowcolor\":\"#f2f5fa\",\"arrowhead\":0,\"arrowwidth\":1},\"geo\":{\"bgcolor\":\"rgb(17,17,17)\",\"landcolor\":\"rgb(17,17,17)\",\"subunitcolor\":\"#506784\",\"showland\":true,\"showlakes\":true,\"lakecolor\":\"rgb(17,17,17)\"},\"title\":{\"x\":0.05},\"updatemenudefaults\":{\"bgcolor\":\"#506784\",\"borderwidth\":0},\"sliderdefaults\":{\"bgcolor\":\"#C8D4E3\",\"borderwidth\":1,\"bordercolor\":\"rgb(17,17,17)\",\"tickwidth\":0},\"mapbox\":{\"style\":\"dark\"}}},\"xaxis\":{\"anchor\":\"y\",\"domain\":[0.0,1.0],\"title\":{\"text\":\"chord_x\"}},\"yaxis\":{\"anchor\":\"x\",\"domain\":[0.0,1.0],\"title\":{\"text\":\"chord_y\"}},\"legend\":{\"title\":{\"text\":\"playlist\"},\"tracegroupgap\":0},\"margin\":{\"t\":60}},                        {\"responsive\": true}                    ).then(function(){\n                            \nvar gd = document.getElementById('78d77a13-086a-4d90-9a17-82a73ca7c011');\nvar x = new MutationObserver(function (mutations, observer) {{\n        var display = window.getComputedStyle(gd).display;\n        if (!display || display === 'none') {{\n            console.log([gd, 'removed!']);\n            Plotly.purge(gd);\n            observer.disconnect();\n        }}\n}});\n\n// Listen for the removal of the full notebook cells\nvar notebookContainer = gd.closest('#notebook-container');\nif (notebookContainer) {{\n    x.observe(notebookContainer, {childList: true});\n}}\n\n// Listen for the clearing of the current output cell\nvar outputEl = gd.closest('.output');\nif (outputEl) {{\n    x.observe(outputEl, {childList: true});\n}}\n\n                        })                };                });            </script>        </div>"
     },
     "metadata": {},
     "output_type": "display_data"
    }
   ],
   "source": [
    "chord_trajectory = px.scatter(dataset, x='chord_x', y='chord_y', color='playlist', hover_data=config.metadata_columns)\n",
    "chord_trajectory.write_image(config.image_dir + '/chord-trajectory-mds.png', width=1000, scale=2)\n",
    "chord_trajectory"
   ]
  },
  {
   "cell_type": "markdown",
   "metadata": {},
   "source": [
    "### Tonnetz Distances\n",
    "\n",
    "The values of each song's tonnetz is not normalised as the tonnetz has its own scale and each value represents a movement in melody. Songs clustered together tend to have similar key signatures and chord progressions, which is impressive.\n",
    "\n",
    "However, it is still important to note that even though chord progressions and key match on some level, they could happen in different contexts such as having completely different energy levels. One might be classified as cafe & chill, and another one might be classified as pop synth. It is important to incorporate this feature together with other spectral features."
   ]
  },
  {
   "cell_type": "code",
   "execution_count": 15,
   "metadata": {},
   "outputs": [
    {
     "data": {
      "application/vnd.plotly.v1+json": {
       "data": [
        {
         "customdata": [
          [
           "Ivan Sings",
           "Aram Khachaturian",
           "kino"
          ],
          [
           "Prélude in E Minor, Op. 28, No. 4",
           "Frédéric Chopin",
           "kino"
          ],
          [
           "Above the Trees",
           "Kino",
           "kino"
          ],
          [
           "All",
           "Kino",
           "kino"
          ],
          [
           "Anew",
           "Kino",
           "kino"
          ],
          [
           "As a Cloud",
           "Kino",
           "kino"
          ],
          [
           "Away",
           "Kino",
           "kino"
          ],
          [
           "Bloom",
           "Kino",
           "kino"
          ],
          [
           "Charleston",
           "Kino",
           "kino"
          ],
          [
           "Donau",
           "Kino",
           "kino"
          ],
          [
           "Each and Every (Ambient Mix)",
           "Kino",
           "kino"
          ],
          [
           "Each and Every (Piano)",
           "Kino",
           "kino"
          ],
          [
           "Each and Every",
           "Kino",
           "kino"
          ],
          [
           "Erlöst  Redeemed",
           "Kino",
           "kino"
          ],
          [
           "Gathering",
           "Kino",
           "kino"
          ],
          [
           "God Bless Us, Every One",
           "Kino",
           "kino"
          ],
          [
           "Hearth",
           "Kino",
           "kino"
          ],
          [
           "Hēo",
           "Kino",
           "kino"
          ],
          [
           "In Earnest",
           "Kino",
           "kino"
          ],
          [
           "Leinwand (Piano)",
           "Kino",
           "kino"
          ],
          [
           "Leinwand",
           "Kino",
           "kino"
          ],
          [
           "Lightly Tread",
           "Kino",
           "kino"
          ],
          [
           "Lone",
           "Kino",
           "kino"
          ],
          [
           "Many Colors",
           "Kino",
           "kino"
          ],
          [
           "Merrily, Merrily",
           "Kino",
           "kino"
          ],
          [
           "O Tannenbaum",
           "Kino",
           "kino"
          ],
          [
           "Presidio",
           "Kino",
           "kino"
          ],
          [
           "Rambuteau",
           "Kino",
           "kino"
          ],
          [
           "Seafarer's Quartet",
           "Kino",
           "kino"
          ],
          [
           "Seems",
           "Kino",
           "kino"
          ],
          [
           "Silent Night",
           "Kino",
           "kino"
          ],
          [
           "Silver Lake",
           "Kino",
           "kino"
          ],
          [
           "St John's",
           "Kino",
           "kino"
          ],
          [
           "Sunshine - Original",
           "Kino",
           "kino"
          ],
          [
           "Swell",
           "Kino",
           "kino"
          ],
          [
           "The Holly and the Ivy",
           "Kino",
           "kino"
          ],
          [
           "The Weight Unbearable (Piano)",
           "Kino",
           "kino"
          ],
          [
           "The Weight Unbearable",
           "Kino",
           "kino"
          ],
          [
           "Till",
           "Kino",
           "kino"
          ],
          [
           "Trio in E-flat Minor",
           "Kino",
           "kino"
          ],
          [
           "Under",
           "Kino",
           "kino"
          ],
          [
           "Water Lilies",
           "Kino",
           "kino"
          ],
          [
           "Wide Awake",
           "Kino",
           "kino"
          ],
          [
           "Willeth",
           "Kino",
           "kino"
          ],
          [
           "Wolden",
           "Kino",
           "kino"
          ],
          [
           "Yule",
           "Kino",
           "kino"
          ],
          [
           "Piano Sonata No. 14 in C-Sharp Minor, Op. 27 No. 2 “Moonlight”- I. Adagio sostenuto",
           "Ludwig van Beethoven",
           "kino"
          ]
         ],
         "hovertemplate": "playlist=%{customdata[2]}<br>tonnetz_x=%{x}<br>tonnetz_y=%{y}<br>song_name=%{customdata[0]}<br>artist=%{customdata[1]}<extra></extra>",
         "legendgroup": "kino",
         "marker": {
          "color": "#636efa",
          "symbol": "circle"
         },
         "mode": "markers",
         "name": "kino",
         "orientation": "v",
         "showlegend": true,
         "x": [
          -5.217868099839412,
          3.7781300613911757,
          -3.6222623435747896,
          7.525535820979194,
          5.148219097072954,
          -12.012700159006004,
          2.4226375619850673,
          -6.43141927282142,
          4.848477748956792,
          -3.9110116799238726,
          -7.233029805929281,
          -6.754916670411732,
          -5.7291918980284215,
          -0.5833849695470041,
          -1.1726727415484028,
          -7.536828339545915,
          -5.825571765706731,
          -5.092510862094002,
          9.85846941238384,
          4.69998079044275,
          5.269234700979444,
          -2.114332255068663,
          -7.351376757052331,
          1.2846635486331603,
          -4.970255749560931,
          5.307118388834234,
          -2.652230095817702,
          -4.599742072141527,
          1.0486387357840652,
          -1.0293705322222801,
          5.226185977817789,
          3.7670167490566913,
          -3.061131704307252,
          2.2523082914660146,
          2.7057662635091826,
          -6.022402739118989,
          -5.691635461794441,
          -5.965179490063242,
          11.153879040340883,
          -3.4868235720188347,
          1.664254581700973,
          -7.2577331287008695,
          -6.032624941718117,
          -4.988890963795497,
          -2.5224378501872615,
          -2.8531489185997927,
          0.5323254966536869
         ],
         "xaxis": "x",
         "y": [
          0.6396578408743459,
          1.0752576681305142,
          -5.931397184523812,
          4.263240459726451,
          -6.983374224360758,
          -4.005175434319425,
          -10.070119102737818,
          -6.3638910732041225,
          -3.797182182740465,
          6.247583577207998,
          -3.728955995429833,
          -3.076021800236422,
          -2.710090755747243,
          5.675505610574179,
          5.958610644649102,
          -3.1005867686123114,
          -4.761579430557084,
          4.167914141203355,
          -0.06433010343586894,
          3.8552096981539794,
          3.533535146645313,
          -5.234590921441289,
          1.1282957995525997,
          4.846094835292717,
          -3.330406016929778,
          1.528933880105761,
          -8.260041949981067,
          -7.387396664738678,
          8.455582081415994,
          5.508678230152162,
          0.006614405501382008,
          3.985400388550602,
          0.6411383316072604,
          -2.927026835205092,
          -6.47958789369389,
          -1.1517747244276746,
          1.2883844326500993,
          3.669808654995982,
          -1.887510176640028,
          -6.367172413459807,
          6.66046636264335,
          -3.9119010569021744,
          -3.457436606009169,
          7.935894090315896,
          8.232464909068398,
          -1.9784782594616586,
          -6.70148457253168
         ],
         "yaxis": "y",
         "type": "scatter"
        },
        {
         "customdata": [
          [
           "But it's Destiny",
           "10cm",
           "korean-ost"
          ],
          [
           "나의 어깨에 기대어요",
           "10cm",
           "korean-ost"
          ],
          [
           "Is You",
           "AILEE",
           "korean-ost"
          ],
          [
           "How can I love the heartbreak, you're the one I love",
           "AKMU",
           "korean-ost"
          ],
          [
           "How can I love the heartbreak, you`re the one I love",
           "AKMU",
           "korean-ost"
          ],
          [
           "Amusement Park",
           "BAEKHYUN",
           "korean-ost"
          ],
          [
           "너를 사랑하고 있어",
           "BAEKHYUN",
           "korean-ost"
          ],
          [
           "Beautiful goodbye",
           "CHEN",
           "korean-ost"
          ],
          [
           "Flower",
           "CHEN",
           "korean-ost"
          ],
          [
           "I'll be there",
           "CHEN",
           "korean-ost"
          ],
          [
           "My dear",
           "CHEN",
           "korean-ost"
          ],
          [
           "Sorry not sorry",
           "CHEN",
           "korean-ost"
          ],
          [
           "Everytime",
           "CHEN",
           "korean-ost"
          ],
          [
           "Wish",
           "Choi Yuree",
           "korean-ost"
          ],
          [
           "Beautiful",
           "Crush",
           "korean-ost"
          ],
          [
           "Let Us Go",
           "Crush",
           "korean-ost"
          ],
          [
           "No Words",
           "Crush",
           "korean-ost"
          ],
          [
           "My Love",
           "DAVICHI",
           "korean-ost"
          ],
          [
           "Please Don't Cry",
           "DAVICHI",
           "korean-ost"
          ],
          [
           "Sunset",
           "DAVICHI",
           "korean-ost"
          ],
          [
           "노력해볼게요 I'll try",
           "DAY6",
           "korean-ost"
          ],
          [
           "I'm In Love With You",
           "Dvwn",
           "korean-ost"
          ],
          [
           "No Problem",
           "Dvwn",
           "korean-ost"
          ],
          [
           "긴 밤이 오면",
           "Eddy Kim",
           "korean-ost"
          ],
          [
           "Rain or Shine",
           "Elaine",
           "korean-ost"
          ],
          [
           "Hate Everything - Korean Version",
           "GSoul",
           "korean-ost"
          ],
          [
           "기억해줘요 내 모든 날과 그때를",
           "Gummy",
           "korean-ost"
          ],
          [
           "Slowly Fall",
           "Ha Hyun Sang",
           "korean-ost"
          ],
          [
           "내 맘을 볼 수 있나요",
           "HEIZE",
           "korean-ost"
          ],
          [
           "Deeply",
           "HEN",
           "korean-ost"
          ],
          [
           "To You",
           "HEN",
           "korean-ost"
          ],
          [
           "It's You",
           "HENRY",
           "korean-ost"
          ],
          [
           "Untitled Love Song",
           "HENRY",
           "korean-ost"
          ],
          [
           "Ending Scene",
           "IU",
           "korean-ost"
          ],
          [
           "Give You My Heart",
           "IU",
           "korean-ost"
          ],
          [
           "Love poem",
           "IU",
           "korean-ost"
          ],
          [
           "My sea",
           "IU",
           "korean-ost"
          ],
          [
           "Holiday",
           "JeHwi",
           "korean-ost"
          ],
          [
           "Stardust love song",
           "JIHYO",
           "korean-ost"
          ],
          [
           "What Lies Ahead",
           "Joe Layne",
           "korean-ost"
          ],
          [
           "Times Like This",
           "Josh Daniel",
           "korean-ost"
          ],
          [
           "Do you want to walk with me (Romance 101 X Jukjae)",
           "Jukjae",
           "korean-ost"
          ],
          [
           "The Days Like Pictures",
           "Jukjae",
           "korean-ost"
          ],
          [
           "나를 찾아서",
           "Jukjae",
           "korean-ost"
          ],
          [
           "별 보러 가자",
           "Jukjae",
           "korean-ost"
          ],
          [
           "Day & Night",
           "Jung Seung Hwan",
           "korean-ost"
          ],
          [
           "Because I Miss You",
           "Jung Yong Hwa",
           "korean-ost"
          ],
          [
           "For First-time Lovers (Banmal-song)",
           "Jung Yong Hwa",
           "korean-ost"
          ],
          [
           "I Go",
           "Kei (Kim Ji Yeon)",
           "korean-ost"
          ],
          [
           "보고싶다 (From. '드라마 천국의 계단')",
           "Kim Bum Soo",
           "korean-ost"
          ],
          [
           "One Day",
           "Kim Feel",
           "korean-ost"
          ],
          [
           "Someday, The Boy",
           "Kim Feel",
           "korean-ost"
          ],
          [
           "Vacance in September",
           "KIM JAE HWAN",
           "korean-ost"
          ],
          [
           "All of My Days",
           "KIMSEJEONG",
           "korean-ost"
          ],
          [
           "If Only",
           "KIMSEJEONG",
           "korean-ost"
          ],
          [
           "Lonely Night",
           "Kwon Jin Ah",
           "korean-ost"
          ],
          [
           "The End",
           "Kwon Jin Ah",
           "korean-ost"
          ],
          [
           "I Won't Heartbreaken",
           "Lee KwangHee",
           "korean-ost"
          ],
          [
           "In My Heart",
           "LIM YEON",
           "korean-ost"
          ],
          [
           "Lost",
           "LIM YEON",
           "korean-ost"
          ],
          [
           "Say Yes",
           "Loco",
           "korean-ost"
          ],
          [
           "Be There For You",
           "NCT DREAM",
           "korean-ost"
          ],
          [
           "Rainbow - Acoustic Version",
           "O.WHEN",
           "korean-ost"
          ],
          [
           "Me After You",
           "Paul Kim",
           "korean-ost"
          ],
          [
           "안녕",
           "Paul Kim",
           "korean-ost"
          ],
          [
           "But I'm Trying to Tell You How Much I Love You (With Moonbit)",
           "saevom",
           "korean-ost"
          ],
          [
           "For You",
           "Sam Kim",
           "korean-ost"
          ],
          [
           "Sunny Day Rainy Day (feat. Kassy)",
           "Sanchez",
           "korean-ost"
          ],
          [
           "Your world",
           "Seol Hoseung (SURL)",
           "korean-ost"
          ],
          [
           "Grown Ups",
           "Sondia",
           "korean-ost"
          ],
          [
           "Hug",
           "Sondia",
           "korean-ost"
          ],
          [
           "Our Souls at Night",
           "Sondia",
           "korean-ost"
          ],
          [
           "우린 친구뿐일까",
           "Sondia",
           "korean-ost"
          ],
          [
           "She",
           "Standing Egg",
           "korean-ost"
          ],
          [
           "Miracle (Feat. Paul Kim)",
           "Stella Jang",
           "korean-ost"
          ],
          [
           "One more time, One more chance",
           "Sung Si Kyung",
           "korean-ost"
          ],
          [
           "君がいるよ",
           "Sung Si Kyung",
           "korean-ost"
          ],
          [
           "Two People",
           "SURAN",
           "korean-ost"
          ],
          [
           "Inevitable",
           "Suzy",
           "korean-ost"
          ],
          [
           "Starlight",
           "TAEIL",
           "korean-ost"
          ],
          [
           "그대라는 시",
           "TAEYEON",
           "korean-ost"
          ],
          [
           "Two Words",
           "WENDY",
           "korean-ost"
          ],
          [
           "What If Love",
           "WENDY",
           "korean-ost"
          ],
          [
           "내일도 또 내일도 Tomorrow After Tomorrow",
           "WISUE",
           "korean-ost"
          ],
          [
           "Your Existence",
           "Wonstein",
           "korean-ost"
          ],
          [
           "Free",
           "Xydo",
           "korean-ost"
          ],
          [
           "너만 너만 너만",
           "Yang Dail",
           "korean-ost"
          ],
          [
           "With me",
           "Yang Dail",
           "korean-ost"
          ],
          [
           "Here I Am Again",
           "Yerin Baek",
           "korean-ost"
          ],
          [
           "Maze",
           "YONGZOO",
           "korean-ost"
          ],
          [
           "ALWAYS",
           "Yoon Mirae",
           "korean-ost"
          ],
          [
           "Flower",
           "Yoon Mirae",
           "korean-ost"
          ],
          [
           "You Are My World",
           "Yoon Mirae",
           "korean-ost"
          ],
          [
           "I Just Want To Stay With You",
           "Zion.T",
           "korean-ost"
          ],
          [
           "Faith",
           "이준화",
           "korean-ost"
          ]
         ],
         "hovertemplate": "playlist=%{customdata[2]}<br>tonnetz_x=%{x}<br>tonnetz_y=%{y}<br>song_name=%{customdata[0]}<br>artist=%{customdata[1]}<extra></extra>",
         "legendgroup": "korean-ost",
         "marker": {
          "color": "#EF553B",
          "symbol": "circle"
         },
         "mode": "markers",
         "name": "korean-ost",
         "orientation": "v",
         "showlegend": true,
         "x": [
          -2.471525722482261,
          -0.949619488955367,
          4.666806646834276,
          -2.5364524552161045,
          -2.536452455216099,
          -0.5755712550747671,
          2.5887971949524076,
          -5.9263448419856095,
          4.627233134283507,
          -2.1274752428926273,
          3.5714824885714767,
          -4.59348855540618,
          -1.3901188436268557,
          -3.1592736583976584,
          -3.8965797021771795,
          -4.081662031141005,
          -0.4758737870161797,
          -4.633141769862269,
          -3.4894634099332333,
          -4.0588381060402705,
          1.8591758156786797,
          -1.6118794496150843,
          5.628195271381437,
          -1.8734046981734622,
          1.805882544076197,
          -3.9947979075557956,
          0.5090426076375522,
          -3.781987846382617,
          5.767927263635393,
          -0.9470503226580512,
          1.063550003899961,
          3.1700547342857415,
          -0.5704378459135776,
          -3.514635218013734,
          -4.622252288656758,
          1.763512992007902,
          5.004816780743781,
          3.0586694247591892,
          6.484161069132467,
          4.905219812507883,
          5.061982654949383,
          2.223387007557646,
          -0.3657895312095821,
          1.0737218802677615,
          -2.298439525575167,
          -5.181367981726401,
          1.9289977382859986,
          2.44404083408758,
          -1.8744035609879568,
          -2.282292819471866,
          1.6709496694736088,
          -2.402422530893695,
          0.9598006948858963,
          2.857024424376418,
          -4.528069011005352,
          -4.806856567205806,
          -3.83222261243077,
          5.440714049427349,
          -0.5179170027752821,
          5.758443764771061,
          0.619106882194986,
          2.383977682230082,
          1.7102305842941636,
          0.535275640454434,
          0.2994244373488065,
          3.8950452018956137,
          -2.597706700608267,
          -0.4581057895786806,
          -0.8076396531458022,
          4.0536056072561255,
          5.164788630106881,
          -0.300995071724377,
          -6.033903730317775,
          0.5997587683750873,
          0.6939170548810598,
          4.145172762713724,
          5.276955790919408,
          -4.440689576242483,
          -9.007442438548557,
          1.1434645939781187,
          4.15529162550629,
          -2.481224776804856,
          -1.7226773556336854,
          -2.3351172443651462,
          0.3830449675736719,
          0.7251513245900149,
          -2.078450540357818,
          1.600397709750048,
          5.444605440540954,
          -3.2872825063090505,
          -4.113526798674723,
          -2.975250426269143,
          -4.236581886552692,
          1.7329719675669706,
          7.115023148496162
         ],
         "xaxis": "x",
         "y": [
          0.19490281616949395,
          -5.190812763073493,
          -2.4157812376723165,
          3.7701659840750312,
          3.7701659840750383,
          0.6639321583234257,
          -3.2779727757671187,
          -0.8663785179610122,
          -2.0806180113002215,
          -2.997647828853984,
          -2.824384656965829,
          1.552533771745844,
          0.18887147923430336,
          -6.006007197981624,
          2.7267267872959056,
          4.457439596554739,
          -5.1370004976847135,
          -2.2297696903836357,
          2.7239483221875003,
          -2.8981059142926857,
          1.0198564103260923,
          1.5924351222534663,
          2.705631409107334,
          3.9211929784142012,
          -7.5946900867550635,
          1.9201683263698983,
          -3.717868020635179,
          -4.932555144592759,
          -3.2736991536853752,
          2.7080613202416934,
          -7.206992730228452,
          2.1289665920438394,
          1.2549691662282376,
          3.052017364059309,
          -2.593093155314337,
          -5.3820373195153985,
          0.19824394785515587,
          -0.9239903325932428,
          -0.24406290418442075,
          1.6480707715203535,
          -1.97670275837455,
          -0.39315908380113845,
          5.717609207135561,
          0.7863483212042844,
          -2.3392187296041254,
          -0.458887843335581,
          3.5341145373359844,
          1.0315777688829586,
          0.6892904956028716,
          2.8267185829105754,
          -5.697519724580653,
          6.878960720117465,
          2.7362009971744956,
          -4.027529269266973,
          -3.8581770172899805,
          4.648146710086116,
          -2.3958055623438024,
          -4.698486646388332,
          -3.452297592236753,
          -2.7254001297334876,
          -1.7619044795959624,
          -2.7426811948167957,
          -6.300276154276422,
          2.788445735189471,
          3.755456325290962,
          2.7502650022393285,
          -5.529626026930184,
          1.2164348315449915,
          2.0358089304366005,
          -0.773446899595976,
          2.03376796208717,
          -5.889279083395934,
          0.8280272879676788,
          -2.339798670185466,
          1.7127426171804243,
          -0.2876265921594866,
          -0.39671100245079705,
          0.07013316132908201,
          -0.24490720956135528,
          -0.08104575964322469,
          -2.3939222009239822,
          -3.5066919340350142,
          -2.450037050595966,
          -6.044059211067598,
          0.2743128378390282,
          -1.4966224871370135,
          -3.3011538773717692,
          -1.8714346477524764,
          -1.810203415812852,
          4.4014215407546855,
          0.8571740528906892,
          -4.9431056224015295,
          1.468808609453225,
          -0.4118638418477332,
          2.2833126156245007
         ],
         "yaxis": "y",
         "type": "scatter"
        },
        {
         "customdata": [
          [
           "A Speck of Light - Reimagined",
           "Lights & Motion",
           "lights-and-motion"
          ],
          [
           "A Speck of Light",
           "Lights & Motion",
           "lights-and-motion"
          ],
          [
           "All the Way",
           "Lights & Motion",
           "lights-and-motion"
          ],
          [
           "Anamorphic",
           "Lights & Motion",
           "lights-and-motion"
          ],
          [
           "Anchor",
           "Lights & Motion",
           "lights-and-motion"
          ],
          [
           "Anomaly",
           "Lights & Motion",
           "lights-and-motion"
          ],
          [
           "Antlers",
           "Lights & Motion",
           "lights-and-motion"
          ],
          [
           "Arms Wide Open",
           "Lights & Motion",
           "lights-and-motion"
          ],
          [
           "As the World Goes Away",
           "Lights & Motion",
           "lights-and-motion"
          ],
          [
           "As They Sleep",
           "Lights & Motion",
           "lights-and-motion"
          ],
          [
           "Aurora",
           "Lights & Motion",
           "lights-and-motion"
          ],
          [
           "Deafening Silence",
           "Lights & Motion",
           "lights-and-motion"
          ],
          [
           "DNA",
           "Lights & Motion",
           "lights-and-motion"
          ],
          [
           "Equals",
           "Lights & Motion",
           "lights-and-motion"
          ],
          [
           "Everest",
           "Lights & Motion",
           "lights-and-motion"
          ],
          [
           "Exhale",
           "Lights & Motion",
           "lights-and-motion"
          ],
          [
           "Feathers",
           "Lights & Motion",
           "lights-and-motion"
          ],
          [
           "Fireflies",
           "Lights & Motion",
           "lights-and-motion"
          ],
          [
           "From Dust",
           "Lights & Motion",
           "lights-and-motion"
          ],
          [
           "Glistening - Reimagined",
           "Lights & Motion",
           "lights-and-motion"
          ],
          [
           "Glistening",
           "Lights & Motion",
           "lights-and-motion"
          ],
          [
           "Glow",
           "Lights & Motion",
           "lights-and-motion"
          ],
          [
           "I See You (feat. Frida Sundemo)",
           "Lights & Motion",
           "lights-and-motion"
          ],
          [
           "I See You - Reimagined (feat. Frida Sundemo)",
           "Lights & Motion",
           "lights-and-motion"
          ],
          [
           "Lucid Dreaming",
           "Lights & Motion",
           "lights-and-motion"
          ],
          [
           "Northern Lights",
           "Lights & Motion",
           "lights-and-motion"
          ],
          [
           "Pandora",
           "Lights & Motion",
           "lights-and-motion"
          ],
          [
           "Panic Attack",
           "Lights & Motion",
           "lights-and-motion"
          ],
          [
           "Paper Wings",
           "Lights & Motion",
           "lights-and-motion"
          ],
          [
           "Parachutes",
           "Lights & Motion",
           "lights-and-motion"
          ],
          [
           "Particle Storm",
           "Lights & Motion",
           "lights-and-motion"
          ],
          [
           "Perfect Symmetry",
           "Lights & Motion",
           "lights-and-motion"
          ],
          [
           "Phoenix",
           "Lights & Motion",
           "lights-and-motion"
          ],
          [
           "Reanimation - Revisited 10th Anniversary Edition",
           "Lights & Motion",
           "lights-and-motion"
          ],
          [
           "Reborn",
           "Lights & Motion",
           "lights-and-motion"
          ],
          [
           "Separated Hearts - Reimagined",
           "Lights & Motion",
           "lights-and-motion"
          ],
          [
           "Separated Hearts",
           "Lights & Motion",
           "lights-and-motion"
          ],
          [
           "Silver Lining",
           "Lights & Motion",
           "lights-and-motion"
          ],
          [
           "Sleeping Giant",
           "Lights & Motion",
           "lights-and-motion"
          ],
          [
           "Sypher",
           "Lights & Motion",
           "lights-and-motion"
          ],
          [
           "The First Day",
           "Lights & Motion",
           "lights-and-motion"
          ],
          [
           "The Great Wide Open - Reimagined",
           "Lights & Motion",
           "lights-and-motion"
          ],
          [
           "The Great Wide Open",
           "Lights & Motion",
           "lights-and-motion"
          ],
          [
           "The Moments Before",
           "Lights & Motion",
           "lights-and-motion"
          ],
          [
           "The Spectacular Quiet",
           "Lights & Motion",
           "lights-and-motion"
          ],
          [
           "The World I Remember",
           "Lights & Motion",
           "lights-and-motion"
          ],
          [
           "This Explosion Within",
           "Lights & Motion",
           "lights-and-motion"
          ],
          [
           "Touching Sky",
           "Lights & Motion",
           "lights-and-motion"
          ],
          [
           "We Only Have Forever",
           "Lights & Motion",
           "lights-and-motion"
          ],
          [
           "When Everything Is Falling",
           "Lights & Motion",
           "lights-and-motion"
          ],
          [
           "Wilderness",
           "Lights & Motion",
           "lights-and-motion"
          ],
          [
           "Winter Solstice",
           "Lights & Motion",
           "lights-and-motion"
          ],
          [
           "Wolves (feat. Johan Hasselblom)",
           "Lights & Motion",
           "lights-and-motion"
          ],
          [
           "Wolves - Reimagined (feat. Johan Hasselblom)",
           "Lights & Motion",
           "lights-and-motion"
          ],
          [
           "Woven",
           "Lights & Motion",
           "lights-and-motion"
          ],
          [
           "Year Zero",
           "Lights & Motion",
           "lights-and-motion"
          ]
         ],
         "hovertemplate": "playlist=%{customdata[2]}<br>tonnetz_x=%{x}<br>tonnetz_y=%{y}<br>song_name=%{customdata[0]}<br>artist=%{customdata[1]}<extra></extra>",
         "legendgroup": "lights-and-motion",
         "marker": {
          "color": "#00cc96",
          "symbol": "circle"
         },
         "mode": "markers",
         "name": "lights-and-motion",
         "orientation": "v",
         "showlegend": true,
         "x": [
          -0.9450355578881204,
          -2.702614634168716,
          3.5797131371703244,
          -3.169684824389108,
          1.1376667443845176,
          3.3922682616514677,
          4.898025585676618,
          2.9149757191409575,
          3.6847737308594217,
          -0.7691913662639517,
          3.9598381692471385,
          0.9455353785007956,
          3.1244105119589642,
          0.2843961554868119,
          0.02083684291824394,
          3.5345781602297044,
          -0.6291698211189531,
          2.757807083714435,
          3.39086693239622,
          9.488779510830733,
          6.363317516159175,
          0.8947835393427944,
          1.0215815594892155,
          2.288923805742576,
          8.16639463610512,
          -3.523136884116543,
          1.0259836518456396,
          1.8653031592827876,
          0.7903034704411107,
          -0.45357745694943136,
          2.206606311211353,
          9.050096577754617,
          5.509013872471424,
          -0.8579429799558155,
          3.2454101620581994,
          10.41553701911627,
          4.014264062059221,
          -2.153612329991751,
          4.177009263713646,
          3.5300818581102926,
          -0.23844300991641407,
          4.599354455433444,
          3.4813079673910994,
          6.471584698029428,
          -0.4607146446094404,
          0.508733088282869,
          -1.001694483660323,
          0.8104067753558842,
          0.8152697912478598,
          7.763941231941601,
          4.336121750827666,
          -0.6521013021848273,
          -1.9882185209630756,
          -5.590234674115175,
          6.818187684198622,
          6.352040929189647
         ],
         "xaxis": "x",
         "y": [
          8.036478014470482,
          8.088024949825225,
          0.741175666706772,
          10.325642385182407,
          1.0783674803825922,
          7.153212256507793,
          -4.886699472121107,
          0.29121118056194767,
          -4.351868723373658,
          10.651364765060539,
          9.414946383830005,
          2.1209690158168883,
          -3.4270615876403,
          7.206797823964973,
          4.30383825796186,
          0.13939103028662347,
          2.4682549556415934,
          2.407864898019433,
          -0.32021673657696875,
          2.760455834143348,
          1.0747115456735494,
          7.560893167703316,
          6.653591902993201,
          7.522199890264691,
          -5.800195926972812,
          -8.50836122082568,
          -4.075038427254321,
          -1.422083136207003,
          5.622391400234427,
          3.572059885655622,
          4.100585990631646,
          -5.901887319764953,
          -2.75968295530938,
          3.157931408713645,
          4.332572092681359,
          -2.450389595420938,
          -1.390736093134289,
          3.016250415990316,
          0.09799803160910811,
          -2.0283713028180097,
          3.375174021733627,
          2.445047245899925,
          2.5967961490158458,
          2.900089800926098,
          8.90776722504879,
          4.680402588758315,
          4.237193996425367,
          3.2586379343822776,
          -1.608931950756968,
          3.4937513962098037,
          0.2453474665232999,
          7.604306559614028,
          -0.22090826360045904,
          2.73829301768597,
          -0.7221071957613198,
          -4.211716539674701
         ],
         "yaxis": "y",
         "type": "scatter"
        },
        {
         "customdata": [
          [
           "Another Wave from You",
           "M83",
           "m83"
          ],
          [
           "Claudia Lewis",
           "M83",
           "m83"
          ],
          [
           "Echoes of Mine",
           "M83",
           "m83"
          ],
          [
           "Fountains",
           "M83",
           "m83"
          ],
          [
           "Intro",
           "M83",
           "m83"
          ],
          [
           "Klaus I Love You",
           "M83",
           "m83"
          ],
          [
           "Midnight City",
           "M83",
           "m83"
          ],
          [
           "My Tears Are Becoming a Sea",
           "M83",
           "m83"
          ],
          [
           "New Map",
           "M83",
           "m83"
          ],
          [
           "Ok Pal",
           "M83",
           "m83"
          ],
          [
           "Outro",
           "M83",
           "m83"
          ],
          [
           "Raconte-moi une histoire",
           "M83",
           "m83"
          ],
          [
           "Reunion",
           "M83",
           "m83"
          ],
          [
           "Soon, My Friend",
           "M83",
           "m83"
          ],
          [
           "Splendor",
           "M83",
           "m83"
          ],
          [
           "Steve Mcqueen",
           "M83",
           "m83"
          ],
          [
           "This Bright Flash",
           "M83",
           "m83"
          ],
          [
           "Train to Pluton",
           "M83",
           "m83"
          ],
          [
           "Wait",
           "M83",
           "m83"
          ],
          [
           "When Will You Come Home",
           "M83",
           "m83"
          ],
          [
           "Where the Boats Go",
           "M83",
           "m83"
          ],
          [
           "Year One, One Ufo",
           "M83",
           "m83"
          ],
          [
           "Ashes of Our Fathers",
           "M83",
           "m83"
          ],
          [
           "Canyon Battle",
           "M83",
           "m83"
          ],
          [
           "Earth 2077",
           "M83",
           "m83"
          ],
          [
           "Fearful Odds",
           "M83",
           "m83"
          ],
          [
           "I'm Sending You Away",
           "M83",
           "m83"
          ],
          [
           "Jack's Dream",
           "M83",
           "m83"
          ],
          [
           "Losing Control",
           "M83",
           "m83"
          ],
          [
           "Odyssey Rescue",
           "M83",
           "m83"
          ],
          [
           "Radiation Zone",
           "M83",
           "m83"
          ],
          [
           "Raven Rock",
           "M83",
           "m83"
          ],
          [
           "StarWaves",
           "M83",
           "m83"
          ],
          [
           "Tech 49",
           "M83",
           "m83"
          ],
          [
           "Temples of Our Gods",
           "M83",
           "m83"
          ],
          [
           "Undimmed by Time, Unbound by Death",
           "M83",
           "m83"
          ],
          [
           "Waking Up",
           "M83",
           "m83"
          ],
          [
           "You Can't Save Her",
           "M83",
           "m83"
          ],
          [
           "Oblivion",
           "M83",
           "m83"
          ]
         ],
         "hovertemplate": "playlist=%{customdata[2]}<br>tonnetz_x=%{x}<br>tonnetz_y=%{y}<br>song_name=%{customdata[0]}<br>artist=%{customdata[1]}<extra></extra>",
         "legendgroup": "m83",
         "marker": {
          "color": "#ab63fa",
          "symbol": "circle"
         },
         "mode": "markers",
         "name": "m83",
         "orientation": "v",
         "showlegend": true,
         "x": [
          -3.3821290610147563,
          -0.36333013575393686,
          0.6776937640686406,
          1.558565887617331,
          -0.8727506971488733,
          9.884123054836131,
          1.4542167903377243,
          3.6040266743930216,
          2.028603622627818,
          -0.061520984720485006,
          6.489445932888698,
          -1.7222215905734994,
          1.1533861255923716,
          -1.1375254087799722,
          5.707038686903082,
          3.001151020171649,
          3.7064295278710047,
          -0.1222710259863674,
          5.97225516055933,
          -4.935475154745683,
          -1.245773903511556,
          2.881289910802463,
          -0.025452656054449557,
          -0.3506242937208937,
          0.5418397217338706,
          -3.6770416482260964,
          6.6194240653142735,
          -7.736420107146229,
          2.345508275069975,
          -0.19391650268931676,
          -1.6304404675203046,
          -9.41626397184945,
          -6.753844166788199,
          3.6521004430273294,
          -4.501878028534811,
          -7.175360578634336,
          -2.7968046673567106,
          -0.6757927871324799,
          5.115202092891533
         ],
         "xaxis": "x",
         "y": [
          -10.267323632443073,
          1.0399981459109222,
          0.8580644960314266,
          -8.778693056785547,
          -4.713188165633412,
          -2.86064375101127,
          -0.4371602231269427,
          -7.911179410365311,
          -1.462402162737132,
          -2.336942956411695,
          2.124664096159122,
          -0.4000804772239714,
          0.27195360222341863,
          5.060450876295779,
          -0.7717893272062075,
          -0.26344245511563197,
          1.974241370471693,
          1.5289552967779105,
          1.1276261196387793,
          -11.4549797050851,
          -10.161324407412494,
          -2.482362601904619,
          -2.057228207698535,
          -0.3562158294511088,
          1.3574173885387646,
          -1.4451848473232531,
          5.14984851488987,
          -6.7705141789862315,
          2.3327363574828053,
          -1.1246775454868883,
          -1.1059667320529325,
          -2.2282758418700923,
          2.173216675540819,
          4.254007909696483,
          2.810267839229314,
          -7.42907917981125,
          1.2552062718306858,
          -6.8768559661712825,
          2.8961125412946553
         ],
         "yaxis": "y",
         "type": "scatter"
        },
        {
         "customdata": [
          [
           "A Moment Apart",
           "ODESZA",
           "odesza"
          ],
          [
           "Across The Room (feat. Leon Bridges)",
           "ODESZA",
           "odesza"
          ],
          [
           "Boy",
           "ODESZA",
           "odesza"
          ],
          [
           "Corners Of The Earth (feat. RY X)",
           "ODESZA",
           "odesza"
          ],
          [
           "Divide (feat. Kelsey Bulkin)",
           "ODESZA",
           "odesza"
          ],
          [
           "Everything At Your Feet (feat. The Chamanas)",
           "ODESZA",
           "odesza"
          ],
          [
           "Falls (feat. Sasha Alex Sloan)",
           "ODESZA",
           "odesza"
          ],
          [
           "Falls (Reprise) (feat. Sasha Alex Sloan)",
           "ODESZA",
           "odesza"
          ],
          [
           "Falls (Reprise) - Instrumental",
           "ODESZA",
           "odesza"
          ],
          [
           "Higher Ground (feat. Naomi Wild)",
           "ODESZA",
           "odesza"
          ],
          [
           "Higher Ground (Reprise) (feat. Naomi Wild)",
           "ODESZA",
           "odesza"
          ],
          [
           "Higher Ground (Reprise) - Instrumental",
           "ODESZA",
           "odesza"
          ],
          [
           "Intro",
           "ODESZA",
           "odesza"
          ],
          [
           "It’s Only (feat. Zyra) - ODESZA VIP Remix",
           "ODESZA",
           "odesza"
          ],
          [
           "Just A Memory (feat. Regina Spektor)",
           "ODESZA",
           "odesza"
          ],
          [
           "La Ciudad",
           "ODESZA",
           "odesza"
          ],
          [
           "Late Night",
           "ODESZA",
           "odesza"
          ],
          [
           "Line Of Sight (feat. WYNNE & Mansionair)",
           "ODESZA",
           "odesza"
          ],
          [
           "Line Of Sight (Reprise) (feat. WYNNE & Mansionair)",
           "ODESZA",
           "odesza"
          ],
          [
           "Line Of Sight (Reprise) - Instrumental",
           "ODESZA",
           "odesza"
          ],
          [
           "Loyal",
           "ODESZA",
           "odesza"
          ],
          [
           "Memories That You Call (feat. Monsoonsiren) - ODESZA & Golden Features VIP Remix",
           "ODESZA",
           "odesza"
          ],
          [
           "Meridian",
           "ODESZA",
           "odesza"
          ],
          [
           "Show Me",
           "ODESZA",
           "odesza"
          ],
          [
           "Thin Floors And Tall Ceilings",
           "ODESZA",
           "odesza"
          ]
         ],
         "hovertemplate": "playlist=%{customdata[2]}<br>tonnetz_x=%{x}<br>tonnetz_y=%{y}<br>song_name=%{customdata[0]}<br>artist=%{customdata[1]}<extra></extra>",
         "legendgroup": "odesza",
         "marker": {
          "color": "#FFA15A",
          "symbol": "circle"
         },
         "mode": "markers",
         "name": "odesza",
         "orientation": "v",
         "showlegend": true,
         "x": [
          -3.830306135460405,
          -0.5329490619601696,
          0.3090547334874652,
          7.723684169422443,
          0.2960802819363691,
          0.2923331011907624,
          -0.00963311383634721,
          -0.022338806771169402,
          -0.13642570622017694,
          -0.22641544265102712,
          0.24260070313433324,
          1.0883683079427409,
          1.5342208900270426,
          2.758437403130256,
          2.7208474696259324,
          2.46644584606775,
          2.282992276925728,
          -2.5722739432907185,
          -6.787994071967651,
          -9.357190881145286,
          2.254984981942198,
          -1.649546546794054,
          -1.826640905084897,
          6.96743766062313,
          -5.263804977677131
         ],
         "xaxis": "x",
         "y": [
          2.2073572111855984,
          -4.720357841293784,
          1.5543216966861408,
          -3.3789702348431496,
          2.2326668694906675,
          0.7484971190627384,
          -3.9171442396270066,
          -5.322925514832475,
          -8.151241941047168,
          -2.8693317550542554,
          -9.140831647176217,
          -10.958780958809974,
          -1.0111800991937119,
          2.8594879933530715,
          8.917633349394835,
          3.952625063189151,
          0.45731085779423336,
          -1.1897821769196641,
          -2.1675776133960922,
          -3.760791372894045,
          -3.6777991025161847,
          1.8948559419664222,
          -0.8200468729930814,
          0.14990596630126174,
          3.7272177145001533
         ],
         "yaxis": "y",
         "type": "scatter"
        },
        {
         "customdata": [
          [
           "April 10, 2019- Powehi - Image of a Black Hole",
           "Sleeping At Last",
           "sleeping-at-last"
          ],
          [
           "August 12, 2018- Perseid Meteor Shower",
           "Sleeping At Last",
           "sleeping-at-last"
          ],
          [
           "August 21, 2017- Total Solar Eclipse",
           "Sleeping At Last",
           "sleeping-at-last"
          ],
          [
           "December 13, 2017- Geminid Meteor Shower",
           "Sleeping At Last",
           "sleeping-at-last"
          ],
          [
           "December 17, 2018- Farout",
           "Sleeping At Last",
           "sleeping-at-last"
          ],
          [
           "December 21, 2020- The Great Conjunction",
           "Sleeping At Last",
           "sleeping-at-last"
          ],
          [
           "December 25, 2021- Webb Space Telescope - Launch",
           "Sleeping At Last",
           "sleeping-at-last"
          ],
          [
           "February 1, 2023- C2022 E3 - Comet Ztf",
           "Sleeping At Last",
           "sleeping-at-last"
          ],
          [
           "February 13, 2019- Opportunity - Mission Complete",
           "Sleeping At Last",
           "sleeping-at-last"
          ],
          [
           "February 18, 2021- Perseverance - Mars Landing",
           "Sleeping At Last",
           "sleeping-at-last"
          ],
          [
           "January 30, 2020- Spitzer - Final Voyage",
           "Sleeping At Last",
           "sleeping-at-last"
          ],
          [
           "January 31, 2018- Super Blue Blood Moon",
           "Sleeping At Last",
           "sleeping-at-last"
          ],
          [
           "July 22, 2020- C  2020 F3 - Comet Neowise",
           "Sleeping At Last",
           "sleeping-at-last"
          ],
          [
           "July 27, 2018- Total Lunar Eclipse",
           "Sleeping At Last",
           "sleeping-at-last"
          ],
          [
           "July 4, 2020- Aphelion",
           "Sleeping At Last",
           "sleeping-at-last"
          ],
          [
           "June 24, 2022- Parade of Planets",
           "Sleeping At Last",
           "sleeping-at-last"
          ],
          [
           "June 30, 2018- Pds 70b (Birth of a Planet)",
           "Sleeping At Last",
           "sleeping-at-last"
          ],
          [
           "October 30, 2018- Kepler - Goodnight",
           "Sleeping At Last",
           "sleeping-at-last"
          ],
          [
           "September 15, 2017- Cassini - The Grand Finale",
           "Sleeping At Last",
           "sleeping-at-last"
          ]
         ],
         "hovertemplate": "playlist=%{customdata[2]}<br>tonnetz_x=%{x}<br>tonnetz_y=%{y}<br>song_name=%{customdata[0]}<br>artist=%{customdata[1]}<extra></extra>",
         "legendgroup": "sleeping-at-last",
         "marker": {
          "color": "#19d3f3",
          "symbol": "circle"
         },
         "mode": "markers",
         "name": "sleeping-at-last",
         "orientation": "v",
         "showlegend": true,
         "x": [
          4.593601555670286,
          5.144891252142072,
          -2.435302173223679,
          -3.3692474293617014,
          -0.3815885903561922,
          -5.481176893072803,
          7.860821949066856,
          -8.06638507035448,
          6.554710653423918,
          -4.198867951587209,
          2.1116209909122254,
          0.2811820850098273,
          5.853110682965666,
          -7.283154699180887,
          -0.14706779667576425,
          0.8855085844445004,
          -1.4715284032120985,
          -3.4495044874524696,
          -4.971980418942096
         ],
         "xaxis": "x",
         "y": [
          2.965776111161488,
          -6.509753946935958,
          -7.217220694967947,
          -4.163500185807111,
          4.2475438706716595,
          -0.11014698634679122,
          0.7678331467297008,
          0.603524815528762,
          -1.2968511194969676,
          -6.025496656064987,
          5.507686976098469,
          8.357859129574866,
          -6.686265224092863,
          -1.597270355547463,
          6.063225512194506,
          -7.202606085065522,
          -3.5306689155126056,
          -0.5438057888239799,
          2.5146490116892046
         ],
         "yaxis": "y",
         "type": "scatter"
        },
        {
         "customdata": [
          [
           "It's Ok If You Forget Me",
           "Astrid S",
           "synth-pop"
          ],
          [
           "Young & Alive",
           "Bazzi",
           "synth-pop"
          ],
          [
           "Paralyze",
           "Bjørnskov",
           "synth-pop"
          ],
          [
           "San Diego",
           "BRDGS",
           "synth-pop"
          ],
          [
           "Ear Candy",
           "Caye",
           "synth-pop"
          ],
          [
           "12 Hours",
           "Chris James",
           "synth-pop"
          ],
          [
           "My Universe",
           "Coldplay",
           "synth-pop"
          ],
          [
           "Overdrive",
           "Conan Gray",
           "synth-pop"
          ],
          [
           "Titanic",
           "Cosmo's Midnight",
           "synth-pop"
          ],
          [
           "Champagne For Two",
           "Devin Kennedy",
           "synth-pop"
          ],
          [
           "Another Round",
           "Elina",
           "synth-pop"
          ],
          [
           "How",
           "Elina",
           "synth-pop"
          ],
          [
           "Paper Planes",
           "Elina",
           "synth-pop"
          ],
          [
           "Nirvana",
           "ELLIANA",
           "synth-pop"
          ],
          [
           "Lost In Space",
           "Emmit Fenn",
           "synth-pop"
          ],
          [
           "12-45 - Stripped",
           "Etham",
           "synth-pop"
          ],
          [
           "Purpose - Stripped",
           "Etham",
           "synth-pop"
          ],
          [
           "California",
           "Ethan Dufault",
           "synth-pop"
          ],
          [
           "Hurt The Ones We Love The Most",
           "Evan Blum",
           "synth-pop"
          ],
          [
           "Young Love",
           "Falcon",
           "synth-pop"
          ],
          [
           "I Should've Told You",
           "Fiji Blue",
           "synth-pop"
          ],
          [
           "Waves",
           "Fiji Blue",
           "synth-pop"
          ],
          [
           "Healing",
           "FLETCHER",
           "synth-pop"
          ],
          [
           "hold on",
           "flor",
           "synth-pop"
          ],
          [
           "Automatic (feat. Jake Miller)",
           "Fly By Midnight",
           "synth-pop"
          ],
          [
           "Lovely",
           "Fly By Midnight",
           "synth-pop"
          ],
          [
           "Lonely",
           "Gatsby",
           "synth-pop"
          ],
          [
           "dear me,",
           "Gentle Bones",
           "synth-pop"
          ],
          [
           "I Wouldn't Know Any Better Than You",
           "Gentle Bones",
           "synth-pop"
          ],
          [
           "So Far So Good",
           "Great Good Fine Ok",
           "synth-pop"
          ],
          [
           "Falling",
           "Harry Styles",
           "synth-pop"
          ],
          [
           "sometimes",
           "Heather Sommer",
           "synth-pop"
          ],
          [
           "you heard me",
           "Heather Sommer",
           "synth-pop"
          ],
          [
           "Crying Over You ◐",
           "HONNE",
           "synth-pop"
          ],
          [
           "Day Dreaming",
           "Jack & Jack",
           "synth-pop"
          ],
          [
           "Ross And Rachel",
           "Jake Miller",
           "synth-pop"
          ],
          [
           "Showing You Off",
           "Jake Miller",
           "synth-pop"
          ],
          [
           "Like No One Does",
           "Jake Scott",
           "synth-pop"
          ],
          [
           "CWJBHN",
           "Jake Scott",
           "synth-pop"
          ],
          [
           "drive all night",
           "joan",
           "synth-pop"
          ],
          [
           "i loved you first",
           "joan",
           "synth-pop"
          ],
          [
           "love somebody like you",
           "joan",
           "synth-pop"
          ],
          [
           "magnetic",
           "joan",
           "synth-pop"
          ],
          [
           "6 months",
           "John K",
           "synth-pop"
          ],
          [
           "ilym (feat. ROSIE)",
           "John K",
           "synth-pop"
          ],
          [
           "I Believe",
           "Jonas Brothers",
           "synth-pop"
          ],
          [
           "I Quit Drinking",
           "Kelsea Ballerini",
           "synth-pop"
          ],
          [
           "13",
           "LANY",
           "synth-pop"
          ],
          [
           "dancing in the kitchen",
           "LANY",
           "synth-pop"
          ],
          [
           "dna",
           "LANY",
           "synth-pop"
          ],
          [
           "get away",
           "LANY",
           "synth-pop"
          ],
          [
           "I Don't Wanna Love You Anymore",
           "LANY",
           "synth-pop"
          ],
          [
           "if this is the last time",
           "LANY",
           "synth-pop"
          ],
          [
           "ILYSB - STRIPPED",
           "LANY",
           "synth-pop"
          ],
          [
           "ILYSB",
           "LANY",
           "synth-pop"
          ],
          [
           "Let Me Know",
           "LANY",
           "synth-pop"
          ],
          [
           "Malibu Nights",
           "LANY",
           "synth-pop"
          ],
          [
           "Super Far",
           "LANY",
           "synth-pop"
          ],
          [
           "Thru These Tears",
           "LANY",
           "synth-pop"
          ],
          [
           "up to me",
           "LANY",
           "synth-pop"
          ],
          [
           "you!",
           "LANY",
           "synth-pop"
          ],
          [
           "Tattoos Together",
           "Lauv",
           "synth-pop"
          ],
          [
           "When We Were Younger",
           "Loving Caliber",
           "synth-pop"
          ],
          [
           "Love You Back",
           "Madeon",
           "synth-pop"
          ],
          [
           "colorblind",
           "Mokita",
           "synth-pop"
          ],
          [
           "London",
           "Mokita",
           "synth-pop"
          ],
          [
           "Ready Yet",
           "Mokita",
           "synth-pop"
          ],
          [
           "Shut Up I Love U",
           "Neptune",
           "synth-pop"
          ],
          [
           "This Is Heaven",
           "Nick Jonas",
           "synth-pop"
          ],
          [
           "Plot Twist",
           "NIKI",
           "synth-pop"
          ],
          [
           "Waves",
           "Paige",
           "synth-pop"
          ],
          [
           "Shelter",
           "Porter Robinson",
           "synth-pop"
          ],
          [
           "Outsider",
           "Rachel Grae",
           "synth-pop"
          ],
          [
           "Dandelions",
           "Ruth B.",
           "synth-pop"
          ],
          [
           "Lie",
           "Sasha Alex Sloan",
           "synth-pop"
          ],
          [
           "Day Dreaming",
           "Sopha",
           "synth-pop"
          ],
          [
           "I Always Wanna Die (Sometimes)",
           "The 1975",
           "synth-pop"
          ],
          [
           "I'm In Love With You",
           "The 1975",
           "synth-pop"
          ],
          [
           "It's Not Living (If It's Not With You)",
           "The 1975",
           "synth-pop"
          ],
          [
           "Robbers",
           "The 1975",
           "synth-pop"
          ],
          [
           "She's American",
           "The 1975",
           "synth-pop"
          ],
          [
           "Somebody Else",
           "The 1975",
           "synth-pop"
          ],
          [
           "Going Home",
           "The Aces",
           "synth-pop"
          ],
          [
           "Sunset",
           "The Midnight",
           "synth-pop"
          ],
          [
           "Say So",
           "The Sam Willows",
           "synth-pop"
          ],
          [
           "I Can't Stop Thinking About You",
           "The Shadowboxers",
           "synth-pop"
          ],
          [
           "Strawberries & Cigarettes",
           "Troye Sivan",
           "synth-pop"
          ],
          [
           "If Only for Tonight",
           "Vacation Manor",
           "synth-pop"
          ],
          [
           "rocket science",
           "vaultboy",
           "synth-pop"
          ],
          [
           "no excuses",
           "Virginia To Vegas",
           "synth-pop"
          ],
          [
           "Got A Little Crush On You",
           "Wildflowers",
           "synth-pop"
          ],
          [
           "Talking To Myself",
           "Will Jay",
           "synth-pop"
          ],
          [
           "Dance Like Nobody's Watching",
           "Yuna",
           "synth-pop"
          ],
          [
           "dancing in the kitchen",
           "Zachary Knowles",
           "synth-pop"
          ],
          [
           "stranger to me",
           "Zachary Knowles",
           "synth-pop"
          ],
          [
           "could you love me while i hate myself",
           "Zeph",
           "synth-pop"
          ]
         ],
         "hovertemplate": "playlist=%{customdata[2]}<br>tonnetz_x=%{x}<br>tonnetz_y=%{y}<br>song_name=%{customdata[0]}<br>artist=%{customdata[1]}<extra></extra>",
         "legendgroup": "synth-pop",
         "marker": {
          "color": "#FF6692",
          "symbol": "circle"
         },
         "mode": "markers",
         "name": "synth-pop",
         "orientation": "v",
         "showlegend": true,
         "x": [
          0.2878441156540234,
          -2.435776420501669,
          0.7879451147136619,
          2.713734874151803,
          0.20125893893449734,
          -1.0484318264778925,
          0.9917213241397469,
          -0.23004069973024482,
          -0.45417973820662166,
          0.5946058787626962,
          6.059627970151361,
          -1.5298643470438091,
          -1.7056403591168356,
          7.902571555652823,
          -2.515945970247025,
          -2.8421282955116762,
          -2.9508425717092246,
          3.2126063846154675,
          1.692092621054196,
          -5.672951252350991,
          -2.0440514816882387,
          -0.31421357009953316,
          3.2200156075058466,
          -0.9367001166052586,
          -3.988317644962557,
          -0.005487776423777044,
          -5.088076575731573,
          1.4710731238955406,
          4.66353030959716,
          -0.7070335176265015,
          5.6805621464053395,
          1.0921526694662653,
          3.616609600610453,
          0.5067904328960703,
          -1.7042212453215446,
          3.8436736289477875,
          1.1128856463013077,
          -2.063253544437271,
          -3.6167649019593315,
          2.035467755074388,
          0.22957530314201594,
          1.6828837281854925,
          -1.141594018042682,
          -3.5535978660887904,
          5.947343656756424,
          1.7551256996887876,
          -2.296153897129834,
          -0.17419760176992288,
          0.6329462838776782,
          1.0789263985728226,
          -3.2497662391983226,
          -0.22160696197032087,
          2.666489867267806,
          -2.995079358862984,
          -1.2827835855384404,
          1.11795745537393,
          1.6812432147083758,
          -1.3601385413195646,
          2.1534487068368846,
          -1.1925381447884045,
          -3.5831989781008695,
          1.0636510395140397,
          -6.091215324606203,
          1.3967208001567533,
          -3.123445416703912,
          1.2614441622725638,
          -0.9050436284387552,
          0.8241990830521077,
          -0.006558483385644888,
          -0.3801255492516685,
          0.9663873973916497,
          -0.053471178443702014,
          -6.066751930055356,
          -1.16169874455159,
          -1.2638801101032995,
          -1.4978896904329133,
          4.481296779900062,
          0.9041026924134657,
          -0.4654393319722191,
          0.8493730777201921,
          -1.2048064763361763,
          0.7017632948785758,
          1.4338280799388528,
          -0.27974620430264935,
          5.141672613501205,
          1.7907364004056172,
          1.3035316572268845,
          -0.9980032319748384,
          -1.7561179873002122,
          0.6820254670688388,
          1.7267840062849749,
          -1.1199062291273028,
          0.3660028006068835,
          0.6862708776998451,
          -0.672009389458681,
          2.8066068044102703
         ],
         "xaxis": "x",
         "y": [
          -4.2891645364264255,
          -0.5732543966669202,
          1.1396855630136584,
          -2.104504623327991,
          0.10899757489651356,
          -0.5022976090483079,
          -1.5191064131040684,
          0.5297963417021866,
          0.33938753981262565,
          0.6141064882259348,
          1.7303745470090155,
          -6.114877802894174,
          -4.206039454155794,
          -2.658803474170582,
          -0.8359259556435611,
          3.5353441797734377,
          -1.7538263438624473,
          -1.8169558340458716,
          -2.284304563192821,
          -2.1457366205893056,
          -1.3709963847317403,
          -1.3114537949617584,
          1.09101925431844,
          -0.9466970548450705,
          -3.438663329936718,
          1.943721482714966,
          -0.9539376810666372,
          -4.97576356985128,
          -1.058179281785158,
          -0.5574174869549602,
          -5.626357089103387,
          -1.6749516383822836,
          -1.5465051952638758,
          -1.411097953119429,
          0.7890241588912892,
          -1.2128953951632648,
          -2.759024783634724,
          -0.5777698953494693,
          0.4350194984844589,
          -0.6179715633879987,
          5.948485941043168,
          1.9044275874746441,
          0.14141665985534924,
          -0.4208707469405371,
          -5.4510406286007305,
          -1.1209183050060667,
          -4.45856745156539,
          -1.9800595870131776,
          -3.258471289349586,
          -2.554859861343004,
          -0.5442454868470733,
          2.125752608606492,
          -5.084623316374633,
          2.5268918951577555,
          0.9314833863841748,
          -0.4234618524394318,
          -3.67820943156651,
          -1.3482166590653963,
          -4.678776360868214,
          -2.1170715254443797,
          1.9885058380685967,
          -1.1240568228848524,
          1.5113493777445468,
          -3.4913915505570357,
          -3.048415065199889,
          -3.707792280913811,
          -0.8652124855656196,
          -1.3235117381409935,
          0.5882193372206119,
          -2.7572568293108075,
          -2.0053092579033174,
          2.4163444628389037,
          -5.464679820084883,
          -2.3244714765329313,
          -1.8610654946532856,
          -2.384300439696746,
          -3.306580003310662,
          -0.31182507808191556,
          -1.5545018837978057,
          -0.9746979928199108,
          -3.3044619359645506,
          2.2511821115985216,
          -0.5603606004777185,
          0.2469339118620561,
          0.9480029342103271,
          0.05755693608797158,
          -0.7949212615474854,
          -2.4990248343960646,
          -0.033792666855439586,
          -0.6747037287465716,
          0.428365376537405,
          -0.11492186642505743,
          0.9888180820240976,
          -0.23587941387313566,
          -1.8924973089534611,
          -1.4880055947182849
         ],
         "yaxis": "y",
         "type": "scatter"
        },
        {
         "customdata": [
          [
           "Allure",
           "Tony Anderson",
           "tony-anderson"
          ],
          [
           "Aurora",
           "Tony Anderson",
           "tony-anderson"
          ],
          [
           "Chasm",
           "Tony Anderson",
           "tony-anderson"
          ],
          [
           "Darkest Night",
           "Tony Anderson",
           "tony-anderson"
          ],
          [
           "Deep Waters - Original Sketch",
           "Tony Anderson",
           "tony-anderson"
          ],
          [
           "Deep Waters",
           "Tony Anderson",
           "tony-anderson"
          ],
          [
           "Delusion",
           "Tony Anderson",
           "tony-anderson"
          ],
          [
           "Eyes Wide Open - Cinematic Mix",
           "Tony Anderson",
           "tony-anderson"
          ],
          [
           "Eyes Wide Open",
           "Tony Anderson",
           "tony-anderson"
          ],
          [
           "Face of the Father",
           "Tony Anderson",
           "tony-anderson"
          ],
          [
           "Farthest Seas",
           "Tony Anderson",
           "tony-anderson"
          ],
          [
           "Finding Your Heart",
           "Tony Anderson",
           "tony-anderson"
          ],
          [
           "Halo",
           "Tony Anderson",
           "tony-anderson"
          ],
          [
           "High Tide",
           "Tony Anderson",
           "tony-anderson"
          ],
          [
           "Immanuel",
           "Tony Anderson",
           "tony-anderson"
          ],
          [
           "Immersion",
           "Tony Anderson",
           "tony-anderson"
          ],
          [
           "In the Distance",
           "Tony Anderson",
           "tony-anderson"
          ],
          [
           "Incision",
           "Tony Anderson",
           "tony-anderson"
          ],
          [
           "Like a Child - Cinematic Mix",
           "Tony Anderson",
           "tony-anderson"
          ],
          [
           "Low Tide",
           "Tony Anderson",
           "tony-anderson"
          ],
          [
           "Lune",
           "Tony Anderson",
           "tony-anderson"
          ],
          [
           "Morning's Wings",
           "Tony Anderson",
           "tony-anderson"
          ],
          [
           "Nightingale",
           "Tony Anderson",
           "tony-anderson"
          ],
          [
           "No Place on Earth",
           "Tony Anderson",
           "tony-anderson"
          ],
          [
           "Nocturne in Paris",
           "Tony Anderson",
           "tony-anderson"
          ],
          [
           "Perennial",
           "Tony Anderson",
           "tony-anderson"
          ],
          [
           "Resurrect",
           "Tony Anderson",
           "tony-anderson"
          ],
          [
           "Retour",
           "Tony Anderson",
           "tony-anderson"
          ],
          [
           "Shalom",
           "Tony Anderson",
           "tony-anderson"
          ],
          [
           "Slipstream",
           "Tony Anderson",
           "tony-anderson"
          ],
          [
           "Something Can Grow",
           "Tony Anderson",
           "tony-anderson"
          ],
          [
           "Spiriteaux",
           "Tony Anderson",
           "tony-anderson"
          ],
          [
           "The King",
           "Tony Anderson",
           "tony-anderson"
          ],
          [
           "The Way Home",
           "Tony Anderson",
           "tony-anderson"
          ],
          [
           "Thin Place - Abbreviated",
           "Tony Anderson",
           "tony-anderson"
          ],
          [
           "Thin Place",
           "Tony Anderson",
           "tony-anderson"
          ],
          [
           "We Are One",
           "Tony Anderson",
           "tony-anderson"
          ],
          [
           "Wir Sind Gleich",
           "Tony Anderson",
           "tony-anderson"
          ],
          [
           "Younger",
           "Tony Anderson",
           "tony-anderson"
          ],
          [
           "Éclosion",
           "Tony Anderson",
           "tony-anderson"
          ],
          [
           "Éphémère",
           "Tony Anderson",
           "tony-anderson"
          ],
          [
           "Arpège",
           "Tony Anderson",
           "tony-anderson"
          ],
          [
           "Nuit",
           "Tony Anderson",
           "tony-anderson"
          ],
          [
           "Tenderness - Woven Remix",
           "Tony Anderson",
           "tony-anderson"
          ],
          [
           "Tenderness",
           "Tony Anderson",
           "tony-anderson"
          ],
          [
           "Cambodia - Ross Lara Remix",
           "Tony Anderson",
           "tony-anderson"
          ],
          [
           "Cambodia",
           "Tony Anderson",
           "tony-anderson"
          ],
          [
           "Oyarsa",
           "Tony Anderson",
           "tony-anderson"
          ]
         ],
         "hovertemplate": "playlist=%{customdata[2]}<br>tonnetz_x=%{x}<br>tonnetz_y=%{y}<br>song_name=%{customdata[0]}<br>artist=%{customdata[1]}<extra></extra>",
         "legendgroup": "tony-anderson",
         "marker": {
          "color": "#B6E880",
          "symbol": "circle"
         },
         "mode": "markers",
         "name": "tony-anderson",
         "orientation": "v",
         "showlegend": true,
         "x": [
          -5.979583047338463,
          2.082969302222155,
          -5.565943239612423,
          -4.319206039690983,
          3.5341611126485475,
          4.373079964230545,
          -4.816378564904741,
          -8.447810619806267,
          -6.782313202970813,
          7.638948204511796,
          -9.895585411904941,
          -2.101358438024754,
          6.106598826217163,
          -5.661933168383098,
          2.0745085599936965,
          2.3268850521129334,
          -10.545863708131247,
          -3.626780578994412,
          -7.9629321182444075,
          5.056810843883353,
          0.09280262225037308,
          5.964489924370038,
          -3.831496913964931,
          3.6218104870108863,
          6.116630861571606,
          -2.574948900520867,
          0.9315166887311774,
          3.440331085654823,
          -1.451567865649864,
          2.706231176480641,
          -5.543888998769525,
          -3.854652700186058,
          -7.001503921156348,
          -3.022497454115777,
          -6.9167623807223455,
          -8.43938347263374,
          -8.538479336450848,
          -0.4217844402691468,
          4.330279404174654,
          2.7264841564101716,
          -1.9899335544740773,
          1.1117918981341512,
          1.241098860867104,
          -0.36421219227940216,
          -1.7739700160081242,
          1.2893000296809054,
          4.86737310733985,
          -7.6957414481514475
         ],
         "xaxis": "x",
         "y": [
          6.624253320039501,
          1.9569471789706194,
          -6.7198427208800355,
          3.988765089474389,
          3.5273685406799777,
          4.428351798888048,
          2.2076801058693847,
          1.0465222792513824,
          2.805587812375111,
          1.4411632363142148,
          1.8935417693546461,
          7.087502008282044,
          4.652579037724553,
          1.7744343517826695,
          6.2184364529036955,
          4.535343044688457,
          3.3104776546033703,
          5.286581719574757,
          1.5444361758594911,
          4.791320838377112,
          5.328735680316052,
          7.627487178093375,
          -4.626328522028056,
          9.587146711571066,
          6.214796257403689,
          6.0587623284647405,
          4.116918299234401,
          6.108317681613216,
          8.142841233227708,
          -5.422120275458748,
          7.09394094239539,
          7.7580550627649885,
          3.711036933344174,
          -0.03536316689172577,
          6.228500894680101,
          5.854144114299702,
          3.9730004934671466,
          -0.02190144831304264,
          6.258083817181561,
          5.224537114484523,
          5.01425272188344,
          4.179739459175054,
          5.8223970454973974,
          0.16503191382067378,
          4.449489005754708,
          3.6329605985849462,
          6.972622684474694,
          -0.35294586586105703
         ],
         "yaxis": "y",
         "type": "scatter"
        }
       ],
       "layout": {
        "template": {
         "data": {
          "histogram2dcontour": [
           {
            "type": "histogram2dcontour",
            "colorbar": {
             "outlinewidth": 0,
             "ticks": ""
            },
            "colorscale": [
             [
              0.0,
              "#0d0887"
             ],
             [
              0.1111111111111111,
              "#46039f"
             ],
             [
              0.2222222222222222,
              "#7201a8"
             ],
             [
              0.3333333333333333,
              "#9c179e"
             ],
             [
              0.4444444444444444,
              "#bd3786"
             ],
             [
              0.5555555555555556,
              "#d8576b"
             ],
             [
              0.6666666666666666,
              "#ed7953"
             ],
             [
              0.7777777777777778,
              "#fb9f3a"
             ],
             [
              0.8888888888888888,
              "#fdca26"
             ],
             [
              1.0,
              "#f0f921"
             ]
            ]
           }
          ],
          "choropleth": [
           {
            "type": "choropleth",
            "colorbar": {
             "outlinewidth": 0,
             "ticks": ""
            }
           }
          ],
          "histogram2d": [
           {
            "type": "histogram2d",
            "colorbar": {
             "outlinewidth": 0,
             "ticks": ""
            },
            "colorscale": [
             [
              0.0,
              "#0d0887"
             ],
             [
              0.1111111111111111,
              "#46039f"
             ],
             [
              0.2222222222222222,
              "#7201a8"
             ],
             [
              0.3333333333333333,
              "#9c179e"
             ],
             [
              0.4444444444444444,
              "#bd3786"
             ],
             [
              0.5555555555555556,
              "#d8576b"
             ],
             [
              0.6666666666666666,
              "#ed7953"
             ],
             [
              0.7777777777777778,
              "#fb9f3a"
             ],
             [
              0.8888888888888888,
              "#fdca26"
             ],
             [
              1.0,
              "#f0f921"
             ]
            ]
           }
          ],
          "heatmap": [
           {
            "type": "heatmap",
            "colorbar": {
             "outlinewidth": 0,
             "ticks": ""
            },
            "colorscale": [
             [
              0.0,
              "#0d0887"
             ],
             [
              0.1111111111111111,
              "#46039f"
             ],
             [
              0.2222222222222222,
              "#7201a8"
             ],
             [
              0.3333333333333333,
              "#9c179e"
             ],
             [
              0.4444444444444444,
              "#bd3786"
             ],
             [
              0.5555555555555556,
              "#d8576b"
             ],
             [
              0.6666666666666666,
              "#ed7953"
             ],
             [
              0.7777777777777778,
              "#fb9f3a"
             ],
             [
              0.8888888888888888,
              "#fdca26"
             ],
             [
              1.0,
              "#f0f921"
             ]
            ]
           }
          ],
          "heatmapgl": [
           {
            "type": "heatmapgl",
            "colorbar": {
             "outlinewidth": 0,
             "ticks": ""
            },
            "colorscale": [
             [
              0.0,
              "#0d0887"
             ],
             [
              0.1111111111111111,
              "#46039f"
             ],
             [
              0.2222222222222222,
              "#7201a8"
             ],
             [
              0.3333333333333333,
              "#9c179e"
             ],
             [
              0.4444444444444444,
              "#bd3786"
             ],
             [
              0.5555555555555556,
              "#d8576b"
             ],
             [
              0.6666666666666666,
              "#ed7953"
             ],
             [
              0.7777777777777778,
              "#fb9f3a"
             ],
             [
              0.8888888888888888,
              "#fdca26"
             ],
             [
              1.0,
              "#f0f921"
             ]
            ]
           }
          ],
          "contourcarpet": [
           {
            "type": "contourcarpet",
            "colorbar": {
             "outlinewidth": 0,
             "ticks": ""
            }
           }
          ],
          "contour": [
           {
            "type": "contour",
            "colorbar": {
             "outlinewidth": 0,
             "ticks": ""
            },
            "colorscale": [
             [
              0.0,
              "#0d0887"
             ],
             [
              0.1111111111111111,
              "#46039f"
             ],
             [
              0.2222222222222222,
              "#7201a8"
             ],
             [
              0.3333333333333333,
              "#9c179e"
             ],
             [
              0.4444444444444444,
              "#bd3786"
             ],
             [
              0.5555555555555556,
              "#d8576b"
             ],
             [
              0.6666666666666666,
              "#ed7953"
             ],
             [
              0.7777777777777778,
              "#fb9f3a"
             ],
             [
              0.8888888888888888,
              "#fdca26"
             ],
             [
              1.0,
              "#f0f921"
             ]
            ]
           }
          ],
          "surface": [
           {
            "type": "surface",
            "colorbar": {
             "outlinewidth": 0,
             "ticks": ""
            },
            "colorscale": [
             [
              0.0,
              "#0d0887"
             ],
             [
              0.1111111111111111,
              "#46039f"
             ],
             [
              0.2222222222222222,
              "#7201a8"
             ],
             [
              0.3333333333333333,
              "#9c179e"
             ],
             [
              0.4444444444444444,
              "#bd3786"
             ],
             [
              0.5555555555555556,
              "#d8576b"
             ],
             [
              0.6666666666666666,
              "#ed7953"
             ],
             [
              0.7777777777777778,
              "#fb9f3a"
             ],
             [
              0.8888888888888888,
              "#fdca26"
             ],
             [
              1.0,
              "#f0f921"
             ]
            ]
           }
          ],
          "mesh3d": [
           {
            "type": "mesh3d",
            "colorbar": {
             "outlinewidth": 0,
             "ticks": ""
            }
           }
          ],
          "scatter": [
           {
            "marker": {
             "line": {
              "color": "#283442"
             }
            },
            "type": "scatter"
           }
          ],
          "parcoords": [
           {
            "type": "parcoords",
            "line": {
             "colorbar": {
              "outlinewidth": 0,
              "ticks": ""
             }
            }
           }
          ],
          "scatterpolargl": [
           {
            "type": "scatterpolargl",
            "marker": {
             "colorbar": {
              "outlinewidth": 0,
              "ticks": ""
             }
            }
           }
          ],
          "bar": [
           {
            "error_x": {
             "color": "#f2f5fa"
            },
            "error_y": {
             "color": "#f2f5fa"
            },
            "marker": {
             "line": {
              "color": "rgb(17,17,17)",
              "width": 0.5
             },
             "pattern": {
              "fillmode": "overlay",
              "size": 10,
              "solidity": 0.2
             }
            },
            "type": "bar"
           }
          ],
          "scattergeo": [
           {
            "type": "scattergeo",
            "marker": {
             "colorbar": {
              "outlinewidth": 0,
              "ticks": ""
             }
            }
           }
          ],
          "scatterpolar": [
           {
            "type": "scatterpolar",
            "marker": {
             "colorbar": {
              "outlinewidth": 0,
              "ticks": ""
             }
            }
           }
          ],
          "histogram": [
           {
            "marker": {
             "pattern": {
              "fillmode": "overlay",
              "size": 10,
              "solidity": 0.2
             }
            },
            "type": "histogram"
           }
          ],
          "scattergl": [
           {
            "marker": {
             "line": {
              "color": "#283442"
             }
            },
            "type": "scattergl"
           }
          ],
          "scatter3d": [
           {
            "type": "scatter3d",
            "line": {
             "colorbar": {
              "outlinewidth": 0,
              "ticks": ""
             }
            },
            "marker": {
             "colorbar": {
              "outlinewidth": 0,
              "ticks": ""
             }
            }
           }
          ],
          "scattermapbox": [
           {
            "type": "scattermapbox",
            "marker": {
             "colorbar": {
              "outlinewidth": 0,
              "ticks": ""
             }
            }
           }
          ],
          "scatterternary": [
           {
            "type": "scatterternary",
            "marker": {
             "colorbar": {
              "outlinewidth": 0,
              "ticks": ""
             }
            }
           }
          ],
          "scattercarpet": [
           {
            "type": "scattercarpet",
            "marker": {
             "colorbar": {
              "outlinewidth": 0,
              "ticks": ""
             }
            }
           }
          ],
          "carpet": [
           {
            "aaxis": {
             "endlinecolor": "#A2B1C6",
             "gridcolor": "#506784",
             "linecolor": "#506784",
             "minorgridcolor": "#506784",
             "startlinecolor": "#A2B1C6"
            },
            "baxis": {
             "endlinecolor": "#A2B1C6",
             "gridcolor": "#506784",
             "linecolor": "#506784",
             "minorgridcolor": "#506784",
             "startlinecolor": "#A2B1C6"
            },
            "type": "carpet"
           }
          ],
          "table": [
           {
            "cells": {
             "fill": {
              "color": "#506784"
             },
             "line": {
              "color": "rgb(17,17,17)"
             }
            },
            "header": {
             "fill": {
              "color": "#2a3f5f"
             },
             "line": {
              "color": "rgb(17,17,17)"
             }
            },
            "type": "table"
           }
          ],
          "barpolar": [
           {
            "marker": {
             "line": {
              "color": "rgb(17,17,17)",
              "width": 0.5
             },
             "pattern": {
              "fillmode": "overlay",
              "size": 10,
              "solidity": 0.2
             }
            },
            "type": "barpolar"
           }
          ],
          "pie": [
           {
            "automargin": true,
            "type": "pie"
           }
          ]
         },
         "layout": {
          "autotypenumbers": "strict",
          "colorway": [
           "#636efa",
           "#EF553B",
           "#00cc96",
           "#ab63fa",
           "#FFA15A",
           "#19d3f3",
           "#FF6692",
           "#B6E880",
           "#FF97FF",
           "#FECB52"
          ],
          "font": {
           "color": "#f2f5fa"
          },
          "hovermode": "closest",
          "hoverlabel": {
           "align": "left"
          },
          "paper_bgcolor": "rgb(17,17,17)",
          "plot_bgcolor": "rgb(17,17,17)",
          "polar": {
           "bgcolor": "rgb(17,17,17)",
           "angularaxis": {
            "gridcolor": "#506784",
            "linecolor": "#506784",
            "ticks": ""
           },
           "radialaxis": {
            "gridcolor": "#506784",
            "linecolor": "#506784",
            "ticks": ""
           }
          },
          "ternary": {
           "bgcolor": "rgb(17,17,17)",
           "aaxis": {
            "gridcolor": "#506784",
            "linecolor": "#506784",
            "ticks": ""
           },
           "baxis": {
            "gridcolor": "#506784",
            "linecolor": "#506784",
            "ticks": ""
           },
           "caxis": {
            "gridcolor": "#506784",
            "linecolor": "#506784",
            "ticks": ""
           }
          },
          "coloraxis": {
           "colorbar": {
            "outlinewidth": 0,
            "ticks": ""
           }
          },
          "colorscale": {
           "sequential": [
            [
             0.0,
             "#0d0887"
            ],
            [
             0.1111111111111111,
             "#46039f"
            ],
            [
             0.2222222222222222,
             "#7201a8"
            ],
            [
             0.3333333333333333,
             "#9c179e"
            ],
            [
             0.4444444444444444,
             "#bd3786"
            ],
            [
             0.5555555555555556,
             "#d8576b"
            ],
            [
             0.6666666666666666,
             "#ed7953"
            ],
            [
             0.7777777777777778,
             "#fb9f3a"
            ],
            [
             0.8888888888888888,
             "#fdca26"
            ],
            [
             1.0,
             "#f0f921"
            ]
           ],
           "sequentialminus": [
            [
             0.0,
             "#0d0887"
            ],
            [
             0.1111111111111111,
             "#46039f"
            ],
            [
             0.2222222222222222,
             "#7201a8"
            ],
            [
             0.3333333333333333,
             "#9c179e"
            ],
            [
             0.4444444444444444,
             "#bd3786"
            ],
            [
             0.5555555555555556,
             "#d8576b"
            ],
            [
             0.6666666666666666,
             "#ed7953"
            ],
            [
             0.7777777777777778,
             "#fb9f3a"
            ],
            [
             0.8888888888888888,
             "#fdca26"
            ],
            [
             1.0,
             "#f0f921"
            ]
           ],
           "diverging": [
            [
             0,
             "#8e0152"
            ],
            [
             0.1,
             "#c51b7d"
            ],
            [
             0.2,
             "#de77ae"
            ],
            [
             0.3,
             "#f1b6da"
            ],
            [
             0.4,
             "#fde0ef"
            ],
            [
             0.5,
             "#f7f7f7"
            ],
            [
             0.6,
             "#e6f5d0"
            ],
            [
             0.7,
             "#b8e186"
            ],
            [
             0.8,
             "#7fbc41"
            ],
            [
             0.9,
             "#4d9221"
            ],
            [
             1,
             "#276419"
            ]
           ]
          },
          "xaxis": {
           "gridcolor": "#283442",
           "linecolor": "#506784",
           "ticks": "",
           "title": {
            "standoff": 15
           },
           "zerolinecolor": "#283442",
           "automargin": true,
           "zerolinewidth": 2
          },
          "yaxis": {
           "gridcolor": "#283442",
           "linecolor": "#506784",
           "ticks": "",
           "title": {
            "standoff": 15
           },
           "zerolinecolor": "#283442",
           "automargin": true,
           "zerolinewidth": 2
          },
          "scene": {
           "xaxis": {
            "backgroundcolor": "rgb(17,17,17)",
            "gridcolor": "#506784",
            "linecolor": "#506784",
            "showbackground": true,
            "ticks": "",
            "zerolinecolor": "#C8D4E3",
            "gridwidth": 2
           },
           "yaxis": {
            "backgroundcolor": "rgb(17,17,17)",
            "gridcolor": "#506784",
            "linecolor": "#506784",
            "showbackground": true,
            "ticks": "",
            "zerolinecolor": "#C8D4E3",
            "gridwidth": 2
           },
           "zaxis": {
            "backgroundcolor": "rgb(17,17,17)",
            "gridcolor": "#506784",
            "linecolor": "#506784",
            "showbackground": true,
            "ticks": "",
            "zerolinecolor": "#C8D4E3",
            "gridwidth": 2
           }
          },
          "shapedefaults": {
           "line": {
            "color": "#f2f5fa"
           }
          },
          "annotationdefaults": {
           "arrowcolor": "#f2f5fa",
           "arrowhead": 0,
           "arrowwidth": 1
          },
          "geo": {
           "bgcolor": "rgb(17,17,17)",
           "landcolor": "rgb(17,17,17)",
           "subunitcolor": "#506784",
           "showland": true,
           "showlakes": true,
           "lakecolor": "rgb(17,17,17)"
          },
          "title": {
           "x": 0.05
          },
          "updatemenudefaults": {
           "bgcolor": "#506784",
           "borderwidth": 0
          },
          "sliderdefaults": {
           "bgcolor": "#C8D4E3",
           "borderwidth": 1,
           "bordercolor": "rgb(17,17,17)",
           "tickwidth": 0
          },
          "mapbox": {
           "style": "dark"
          }
         }
        },
        "xaxis": {
         "anchor": "y",
         "domain": [
          0.0,
          1.0
         ],
         "title": {
          "text": "tonnetz_x"
         }
        },
        "yaxis": {
         "anchor": "x",
         "domain": [
          0.0,
          1.0
         ],
         "title": {
          "text": "tonnetz_y"
         }
        },
        "legend": {
         "title": {
          "text": "playlist"
         },
         "tracegroupgap": 0
        },
        "margin": {
         "t": 60
        }
       },
       "config": {
        "plotlyServerURL": "https://plotly.com"
       }
      },
      "text/html": "<div>                            <div id=\"909f8f73-1eed-438a-8302-8144edffd7c5\" class=\"plotly-graph-div\" style=\"height:525px; width:100%;\"></div>            <script type=\"text/javascript\">                require([\"plotly\"], function(Plotly) {                    window.PLOTLYENV=window.PLOTLYENV || {};                                    if (document.getElementById(\"909f8f73-1eed-438a-8302-8144edffd7c5\")) {                    Plotly.newPlot(                        \"909f8f73-1eed-438a-8302-8144edffd7c5\",                        [{\"customdata\":[[\"Ivan Sings\",\"Aram Khachaturian\",\"kino\"],[\"Pr\\u00e9lude in E Minor, Op. 28, No. 4\",\"Fr\\u00e9d\\u00e9ric Chopin\",\"kino\"],[\"Above the Trees\",\"Kino\",\"kino\"],[\"All\",\"Kino\",\"kino\"],[\"Anew\",\"Kino\",\"kino\"],[\"As a Cloud\",\"Kino\",\"kino\"],[\"Away\",\"Kino\",\"kino\"],[\"Bloom\",\"Kino\",\"kino\"],[\"Charleston\",\"Kino\",\"kino\"],[\"Donau\",\"Kino\",\"kino\"],[\"Each and Every (Ambient Mix)\",\"Kino\",\"kino\"],[\"Each and Every (Piano)\",\"Kino\",\"kino\"],[\"Each and Every\",\"Kino\",\"kino\"],[\"Erl\\u00f6st  Redeemed\",\"Kino\",\"kino\"],[\"Gathering\",\"Kino\",\"kino\"],[\"God Bless Us, Every One\",\"Kino\",\"kino\"],[\"Hearth\",\"Kino\",\"kino\"],[\"H\\u0113o\",\"Kino\",\"kino\"],[\"In Earnest\",\"Kino\",\"kino\"],[\"Leinwand (Piano)\",\"Kino\",\"kino\"],[\"Leinwand\",\"Kino\",\"kino\"],[\"Lightly Tread\",\"Kino\",\"kino\"],[\"Lone\",\"Kino\",\"kino\"],[\"Many Colors\",\"Kino\",\"kino\"],[\"Merrily, Merrily\",\"Kino\",\"kino\"],[\"O Tannenbaum\",\"Kino\",\"kino\"],[\"Presidio\",\"Kino\",\"kino\"],[\"Rambuteau\",\"Kino\",\"kino\"],[\"Seafarer's Quartet\",\"Kino\",\"kino\"],[\"Seems\",\"Kino\",\"kino\"],[\"Silent Night\",\"Kino\",\"kino\"],[\"Silver Lake\",\"Kino\",\"kino\"],[\"St John's\",\"Kino\",\"kino\"],[\"Sunshine - Original\",\"Kino\",\"kino\"],[\"Swell\",\"Kino\",\"kino\"],[\"The Holly and the Ivy\",\"Kino\",\"kino\"],[\"The Weight Unbearable (Piano)\",\"Kino\",\"kino\"],[\"The Weight Unbearable\",\"Kino\",\"kino\"],[\"Till\",\"Kino\",\"kino\"],[\"Trio in E-flat Minor\",\"Kino\",\"kino\"],[\"Under\",\"Kino\",\"kino\"],[\"Water Lilies\",\"Kino\",\"kino\"],[\"Wide Awake\",\"Kino\",\"kino\"],[\"Willeth\",\"Kino\",\"kino\"],[\"Wolden\",\"Kino\",\"kino\"],[\"Yule\",\"Kino\",\"kino\"],[\"Piano Sonata No. 14 in C-Sharp Minor, Op. 27 No. 2 \\u201cMoonlight\\u201d- I. Adagio sostenuto\",\"Ludwig van Beethoven\",\"kino\"]],\"hovertemplate\":\"playlist=%{customdata[2]}<br>tonnetz_x=%{x}<br>tonnetz_y=%{y}<br>song_name=%{customdata[0]}<br>artist=%{customdata[1]}<extra></extra>\",\"legendgroup\":\"kino\",\"marker\":{\"color\":\"#636efa\",\"symbol\":\"circle\"},\"mode\":\"markers\",\"name\":\"kino\",\"orientation\":\"v\",\"showlegend\":true,\"x\":[-5.217868099839412,3.7781300613911757,-3.6222623435747896,7.525535820979194,5.148219097072954,-12.012700159006004,2.4226375619850673,-6.43141927282142,4.848477748956792,-3.9110116799238726,-7.233029805929281,-6.754916670411732,-5.7291918980284215,-0.5833849695470041,-1.1726727415484028,-7.536828339545915,-5.825571765706731,-5.092510862094002,9.85846941238384,4.69998079044275,5.269234700979444,-2.114332255068663,-7.351376757052331,1.2846635486331603,-4.970255749560931,5.307118388834234,-2.652230095817702,-4.599742072141527,1.0486387357840652,-1.0293705322222801,5.226185977817789,3.7670167490566913,-3.061131704307252,2.2523082914660146,2.7057662635091826,-6.022402739118989,-5.691635461794441,-5.965179490063242,11.153879040340883,-3.4868235720188347,1.664254581700973,-7.2577331287008695,-6.032624941718117,-4.988890963795497,-2.5224378501872615,-2.8531489185997927,0.5323254966536869],\"xaxis\":\"x\",\"y\":[0.6396578408743459,1.0752576681305142,-5.931397184523812,4.263240459726451,-6.983374224360758,-4.005175434319425,-10.070119102737818,-6.3638910732041225,-3.797182182740465,6.247583577207998,-3.728955995429833,-3.076021800236422,-2.710090755747243,5.675505610574179,5.958610644649102,-3.1005867686123114,-4.761579430557084,4.167914141203355,-0.06433010343586894,3.8552096981539794,3.533535146645313,-5.234590921441289,1.1282957995525997,4.846094835292717,-3.330406016929778,1.528933880105761,-8.260041949981067,-7.387396664738678,8.455582081415994,5.508678230152162,0.006614405501382008,3.985400388550602,0.6411383316072604,-2.927026835205092,-6.47958789369389,-1.1517747244276746,1.2883844326500993,3.669808654995982,-1.887510176640028,-6.367172413459807,6.66046636264335,-3.9119010569021744,-3.457436606009169,7.935894090315896,8.232464909068398,-1.9784782594616586,-6.70148457253168],\"yaxis\":\"y\",\"type\":\"scatter\"},{\"customdata\":[[\"But it's Destiny\",\"10cm\",\"korean-ost\"],[\"\\ub098\\uc758 \\uc5b4\\uae68\\uc5d0 \\uae30\\ub300\\uc5b4\\uc694\",\"10cm\",\"korean-ost\"],[\"Is You\",\"AILEE\",\"korean-ost\"],[\"How can I love the heartbreak, you're the one I love\",\"AKMU\",\"korean-ost\"],[\"How can I love the heartbreak, you`re the one I love\",\"AKMU\",\"korean-ost\"],[\"Amusement Park\",\"BAEKHYUN\",\"korean-ost\"],[\"\\ub108\\ub97c \\uc0ac\\ub791\\ud558\\uace0 \\uc788\\uc5b4\",\"BAEKHYUN\",\"korean-ost\"],[\"Beautiful goodbye\",\"CHEN\",\"korean-ost\"],[\"Flower\",\"CHEN\",\"korean-ost\"],[\"I'll be there\",\"CHEN\",\"korean-ost\"],[\"My dear\",\"CHEN\",\"korean-ost\"],[\"Sorry not sorry\",\"CHEN\",\"korean-ost\"],[\"Everytime\",\"CHEN\",\"korean-ost\"],[\"Wish\",\"Choi Yuree\",\"korean-ost\"],[\"Beautiful\",\"Crush\",\"korean-ost\"],[\"Let Us Go\",\"Crush\",\"korean-ost\"],[\"No Words\",\"Crush\",\"korean-ost\"],[\"My Love\",\"DAVICHI\",\"korean-ost\"],[\"Please Don't Cry\",\"DAVICHI\",\"korean-ost\"],[\"Sunset\",\"DAVICHI\",\"korean-ost\"],[\"\\ub178\\ub825\\ud574\\ubcfc\\uac8c\\uc694 I'll try\",\"DAY6\",\"korean-ost\"],[\"I'm In Love With You\",\"Dvwn\",\"korean-ost\"],[\"No Problem\",\"Dvwn\",\"korean-ost\"],[\"\\uae34 \\ubc24\\uc774 \\uc624\\uba74\",\"Eddy Kim\",\"korean-ost\"],[\"Rain or Shine\",\"Elaine\",\"korean-ost\"],[\"Hate Everything - Korean Version\",\"GSoul\",\"korean-ost\"],[\"\\uae30\\uc5b5\\ud574\\uc918\\uc694 \\ub0b4 \\ubaa8\\ub4e0 \\ub0a0\\uacfc \\uadf8\\ub54c\\ub97c\",\"Gummy\",\"korean-ost\"],[\"Slowly Fall\",\"Ha Hyun Sang\",\"korean-ost\"],[\"\\ub0b4 \\ub9d8\\uc744 \\ubcfc \\uc218 \\uc788\\ub098\\uc694\",\"HEIZE\",\"korean-ost\"],[\"Deeply\",\"HEN\",\"korean-ost\"],[\"To You\",\"HEN\",\"korean-ost\"],[\"It's You\",\"HENRY\",\"korean-ost\"],[\"Untitled Love Song\",\"HENRY\",\"korean-ost\"],[\"Ending Scene\",\"IU\",\"korean-ost\"],[\"Give You My Heart\",\"IU\",\"korean-ost\"],[\"Love poem\",\"IU\",\"korean-ost\"],[\"My sea\",\"IU\",\"korean-ost\"],[\"Holiday\",\"JeHwi\",\"korean-ost\"],[\"Stardust love song\",\"JIHYO\",\"korean-ost\"],[\"What Lies Ahead\",\"Joe Layne\",\"korean-ost\"],[\"Times Like This\",\"Josh Daniel\",\"korean-ost\"],[\"Do you want to walk with me (Romance 101 X Jukjae)\",\"Jukjae\",\"korean-ost\"],[\"The Days Like Pictures\",\"Jukjae\",\"korean-ost\"],[\"\\ub098\\ub97c \\ucc3e\\uc544\\uc11c\",\"Jukjae\",\"korean-ost\"],[\"\\ubcc4 \\ubcf4\\ub7ec \\uac00\\uc790\",\"Jukjae\",\"korean-ost\"],[\"Day & Night\",\"Jung Seung Hwan\",\"korean-ost\"],[\"Because I Miss You\",\"Jung Yong Hwa\",\"korean-ost\"],[\"For First-time Lovers (Banmal-song)\",\"Jung Yong Hwa\",\"korean-ost\"],[\"I Go\",\"Kei (Kim Ji Yeon)\",\"korean-ost\"],[\"\\ubcf4\\uace0\\uc2f6\\ub2e4 (From. '\\ub4dc\\ub77c\\ub9c8 \\ucc9c\\uad6d\\uc758 \\uacc4\\ub2e8')\",\"Kim Bum Soo\",\"korean-ost\"],[\"One Day\",\"Kim Feel\",\"korean-ost\"],[\"Someday, The Boy\",\"Kim Feel\",\"korean-ost\"],[\"Vacance in September\",\"KIM JAE HWAN\",\"korean-ost\"],[\"All of My Days\",\"KIMSEJEONG\",\"korean-ost\"],[\"If Only\",\"KIMSEJEONG\",\"korean-ost\"],[\"Lonely Night\",\"Kwon Jin Ah\",\"korean-ost\"],[\"The End\",\"Kwon Jin Ah\",\"korean-ost\"],[\"I Won't Heartbreaken\",\"Lee KwangHee\",\"korean-ost\"],[\"In My Heart\",\"LIM YEON\",\"korean-ost\"],[\"Lost\",\"LIM YEON\",\"korean-ost\"],[\"Say Yes\",\"Loco\",\"korean-ost\"],[\"Be There For You\",\"NCT DREAM\",\"korean-ost\"],[\"Rainbow - Acoustic Version\",\"O.WHEN\",\"korean-ost\"],[\"Me After You\",\"Paul Kim\",\"korean-ost\"],[\"\\uc548\\ub155\",\"Paul Kim\",\"korean-ost\"],[\"But I'm Trying to Tell You How Much I Love You (With Moonbit)\",\"saevom\",\"korean-ost\"],[\"For You\",\"Sam Kim\",\"korean-ost\"],[\"Sunny Day Rainy Day (feat. Kassy)\",\"Sanchez\",\"korean-ost\"],[\"Your world\",\"Seol Hoseung (SURL)\",\"korean-ost\"],[\"Grown Ups\",\"Sondia\",\"korean-ost\"],[\"Hug\",\"Sondia\",\"korean-ost\"],[\"Our Souls at Night\",\"Sondia\",\"korean-ost\"],[\"\\uc6b0\\ub9b0 \\uce5c\\uad6c\\ubfd0\\uc77c\\uae4c\",\"Sondia\",\"korean-ost\"],[\"She\",\"Standing Egg\",\"korean-ost\"],[\"Miracle (Feat. Paul Kim)\",\"Stella Jang\",\"korean-ost\"],[\"One more time, One more chance\",\"Sung Si Kyung\",\"korean-ost\"],[\"\\u541b\\u304c\\u3044\\u308b\\u3088\",\"Sung Si Kyung\",\"korean-ost\"],[\"Two People\",\"SURAN\",\"korean-ost\"],[\"Inevitable\",\"Suzy\",\"korean-ost\"],[\"Starlight\",\"TAEIL\",\"korean-ost\"],[\"\\uadf8\\ub300\\ub77c\\ub294 \\uc2dc\",\"TAEYEON\",\"korean-ost\"],[\"Two Words\",\"WENDY\",\"korean-ost\"],[\"What If Love\",\"WENDY\",\"korean-ost\"],[\"\\ub0b4\\uc77c\\ub3c4 \\ub610 \\ub0b4\\uc77c\\ub3c4 Tomorrow After Tomorrow\",\"WISUE\",\"korean-ost\"],[\"Your Existence\",\"Wonstein\",\"korean-ost\"],[\"Free\",\"Xydo\",\"korean-ost\"],[\"\\ub108\\ub9cc \\ub108\\ub9cc \\ub108\\ub9cc\",\"Yang Dail\",\"korean-ost\"],[\"With me\",\"Yang Dail\",\"korean-ost\"],[\"Here I Am Again\",\"Yerin Baek\",\"korean-ost\"],[\"Maze\",\"YONGZOO\",\"korean-ost\"],[\"ALWAYS\",\"Yoon Mirae\",\"korean-ost\"],[\"Flower\",\"Yoon Mirae\",\"korean-ost\"],[\"You Are My World\",\"Yoon Mirae\",\"korean-ost\"],[\"I Just Want To Stay With You\",\"Zion.T\",\"korean-ost\"],[\"Faith\",\"\\uc774\\uc900\\ud654\",\"korean-ost\"]],\"hovertemplate\":\"playlist=%{customdata[2]}<br>tonnetz_x=%{x}<br>tonnetz_y=%{y}<br>song_name=%{customdata[0]}<br>artist=%{customdata[1]}<extra></extra>\",\"legendgroup\":\"korean-ost\",\"marker\":{\"color\":\"#EF553B\",\"symbol\":\"circle\"},\"mode\":\"markers\",\"name\":\"korean-ost\",\"orientation\":\"v\",\"showlegend\":true,\"x\":[-2.471525722482261,-0.949619488955367,4.666806646834276,-2.5364524552161045,-2.536452455216099,-0.5755712550747671,2.5887971949524076,-5.9263448419856095,4.627233134283507,-2.1274752428926273,3.5714824885714767,-4.59348855540618,-1.3901188436268557,-3.1592736583976584,-3.8965797021771795,-4.081662031141005,-0.4758737870161797,-4.633141769862269,-3.4894634099332333,-4.0588381060402705,1.8591758156786797,-1.6118794496150843,5.628195271381437,-1.8734046981734622,1.805882544076197,-3.9947979075557956,0.5090426076375522,-3.781987846382617,5.767927263635393,-0.9470503226580512,1.063550003899961,3.1700547342857415,-0.5704378459135776,-3.514635218013734,-4.622252288656758,1.763512992007902,5.004816780743781,3.0586694247591892,6.484161069132467,4.905219812507883,5.061982654949383,2.223387007557646,-0.3657895312095821,1.0737218802677615,-2.298439525575167,-5.181367981726401,1.9289977382859986,2.44404083408758,-1.8744035609879568,-2.282292819471866,1.6709496694736088,-2.402422530893695,0.9598006948858963,2.857024424376418,-4.528069011005352,-4.806856567205806,-3.83222261243077,5.440714049427349,-0.5179170027752821,5.758443764771061,0.619106882194986,2.383977682230082,1.7102305842941636,0.535275640454434,0.2994244373488065,3.8950452018956137,-2.597706700608267,-0.4581057895786806,-0.8076396531458022,4.0536056072561255,5.164788630106881,-0.300995071724377,-6.033903730317775,0.5997587683750873,0.6939170548810598,4.145172762713724,5.276955790919408,-4.440689576242483,-9.007442438548557,1.1434645939781187,4.15529162550629,-2.481224776804856,-1.7226773556336854,-2.3351172443651462,0.3830449675736719,0.7251513245900149,-2.078450540357818,1.600397709750048,5.444605440540954,-3.2872825063090505,-4.113526798674723,-2.975250426269143,-4.236581886552692,1.7329719675669706,7.115023148496162],\"xaxis\":\"x\",\"y\":[0.19490281616949395,-5.190812763073493,-2.4157812376723165,3.7701659840750312,3.7701659840750383,0.6639321583234257,-3.2779727757671187,-0.8663785179610122,-2.0806180113002215,-2.997647828853984,-2.824384656965829,1.552533771745844,0.18887147923430336,-6.006007197981624,2.7267267872959056,4.457439596554739,-5.1370004976847135,-2.2297696903836357,2.7239483221875003,-2.8981059142926857,1.0198564103260923,1.5924351222534663,2.705631409107334,3.9211929784142012,-7.5946900867550635,1.9201683263698983,-3.717868020635179,-4.932555144592759,-3.2736991536853752,2.7080613202416934,-7.206992730228452,2.1289665920438394,1.2549691662282376,3.052017364059309,-2.593093155314337,-5.3820373195153985,0.19824394785515587,-0.9239903325932428,-0.24406290418442075,1.6480707715203535,-1.97670275837455,-0.39315908380113845,5.717609207135561,0.7863483212042844,-2.3392187296041254,-0.458887843335581,3.5341145373359844,1.0315777688829586,0.6892904956028716,2.8267185829105754,-5.697519724580653,6.878960720117465,2.7362009971744956,-4.027529269266973,-3.8581770172899805,4.648146710086116,-2.3958055623438024,-4.698486646388332,-3.452297592236753,-2.7254001297334876,-1.7619044795959624,-2.7426811948167957,-6.300276154276422,2.788445735189471,3.755456325290962,2.7502650022393285,-5.529626026930184,1.2164348315449915,2.0358089304366005,-0.773446899595976,2.03376796208717,-5.889279083395934,0.8280272879676788,-2.339798670185466,1.7127426171804243,-0.2876265921594866,-0.39671100245079705,0.07013316132908201,-0.24490720956135528,-0.08104575964322469,-2.3939222009239822,-3.5066919340350142,-2.450037050595966,-6.044059211067598,0.2743128378390282,-1.4966224871370135,-3.3011538773717692,-1.8714346477524764,-1.810203415812852,4.4014215407546855,0.8571740528906892,-4.9431056224015295,1.468808609453225,-0.4118638418477332,2.2833126156245007],\"yaxis\":\"y\",\"type\":\"scatter\"},{\"customdata\":[[\"A Speck of Light - Reimagined\",\"Lights & Motion\",\"lights-and-motion\"],[\"A Speck of Light\",\"Lights & Motion\",\"lights-and-motion\"],[\"All the Way\",\"Lights & Motion\",\"lights-and-motion\"],[\"Anamorphic\",\"Lights & Motion\",\"lights-and-motion\"],[\"Anchor\",\"Lights & Motion\",\"lights-and-motion\"],[\"Anomaly\",\"Lights & Motion\",\"lights-and-motion\"],[\"Antlers\",\"Lights & Motion\",\"lights-and-motion\"],[\"Arms Wide Open\",\"Lights & Motion\",\"lights-and-motion\"],[\"As the World Goes Away\",\"Lights & Motion\",\"lights-and-motion\"],[\"As They Sleep\",\"Lights & Motion\",\"lights-and-motion\"],[\"Aurora\",\"Lights & Motion\",\"lights-and-motion\"],[\"Deafening Silence\",\"Lights & Motion\",\"lights-and-motion\"],[\"DNA\",\"Lights & Motion\",\"lights-and-motion\"],[\"Equals\",\"Lights & Motion\",\"lights-and-motion\"],[\"Everest\",\"Lights & Motion\",\"lights-and-motion\"],[\"Exhale\",\"Lights & Motion\",\"lights-and-motion\"],[\"Feathers\",\"Lights & Motion\",\"lights-and-motion\"],[\"Fireflies\",\"Lights & Motion\",\"lights-and-motion\"],[\"From Dust\",\"Lights & Motion\",\"lights-and-motion\"],[\"Glistening - Reimagined\",\"Lights & Motion\",\"lights-and-motion\"],[\"Glistening\",\"Lights & Motion\",\"lights-and-motion\"],[\"Glow\",\"Lights & Motion\",\"lights-and-motion\"],[\"I See You (feat. Frida Sundemo)\",\"Lights & Motion\",\"lights-and-motion\"],[\"I See You - Reimagined (feat. Frida Sundemo)\",\"Lights & Motion\",\"lights-and-motion\"],[\"Lucid Dreaming\",\"Lights & Motion\",\"lights-and-motion\"],[\"Northern Lights\",\"Lights & Motion\",\"lights-and-motion\"],[\"Pandora\",\"Lights & Motion\",\"lights-and-motion\"],[\"Panic Attack\",\"Lights & Motion\",\"lights-and-motion\"],[\"Paper Wings\",\"Lights & Motion\",\"lights-and-motion\"],[\"Parachutes\",\"Lights & Motion\",\"lights-and-motion\"],[\"Particle Storm\",\"Lights & Motion\",\"lights-and-motion\"],[\"Perfect Symmetry\",\"Lights & Motion\",\"lights-and-motion\"],[\"Phoenix\",\"Lights & Motion\",\"lights-and-motion\"],[\"Reanimation - Revisited 10th Anniversary Edition\",\"Lights & Motion\",\"lights-and-motion\"],[\"Reborn\",\"Lights & Motion\",\"lights-and-motion\"],[\"Separated Hearts - Reimagined\",\"Lights & Motion\",\"lights-and-motion\"],[\"Separated Hearts\",\"Lights & Motion\",\"lights-and-motion\"],[\"Silver Lining\",\"Lights & Motion\",\"lights-and-motion\"],[\"Sleeping Giant\",\"Lights & Motion\",\"lights-and-motion\"],[\"Sypher\",\"Lights & Motion\",\"lights-and-motion\"],[\"The First Day\",\"Lights & Motion\",\"lights-and-motion\"],[\"The Great Wide Open - Reimagined\",\"Lights & Motion\",\"lights-and-motion\"],[\"The Great Wide Open\",\"Lights & Motion\",\"lights-and-motion\"],[\"The Moments Before\",\"Lights & Motion\",\"lights-and-motion\"],[\"The Spectacular Quiet\",\"Lights & Motion\",\"lights-and-motion\"],[\"The World I Remember\",\"Lights & Motion\",\"lights-and-motion\"],[\"This Explosion Within\",\"Lights & Motion\",\"lights-and-motion\"],[\"Touching Sky\",\"Lights & Motion\",\"lights-and-motion\"],[\"We Only Have Forever\",\"Lights & Motion\",\"lights-and-motion\"],[\"When Everything Is Falling\",\"Lights & Motion\",\"lights-and-motion\"],[\"Wilderness\",\"Lights & Motion\",\"lights-and-motion\"],[\"Winter Solstice\",\"Lights & Motion\",\"lights-and-motion\"],[\"Wolves (feat. Johan Hasselblom)\",\"Lights & Motion\",\"lights-and-motion\"],[\"Wolves - Reimagined (feat. Johan Hasselblom)\",\"Lights & Motion\",\"lights-and-motion\"],[\"Woven\",\"Lights & Motion\",\"lights-and-motion\"],[\"Year Zero\",\"Lights & Motion\",\"lights-and-motion\"]],\"hovertemplate\":\"playlist=%{customdata[2]}<br>tonnetz_x=%{x}<br>tonnetz_y=%{y}<br>song_name=%{customdata[0]}<br>artist=%{customdata[1]}<extra></extra>\",\"legendgroup\":\"lights-and-motion\",\"marker\":{\"color\":\"#00cc96\",\"symbol\":\"circle\"},\"mode\":\"markers\",\"name\":\"lights-and-motion\",\"orientation\":\"v\",\"showlegend\":true,\"x\":[-0.9450355578881204,-2.702614634168716,3.5797131371703244,-3.169684824389108,1.1376667443845176,3.3922682616514677,4.898025585676618,2.9149757191409575,3.6847737308594217,-0.7691913662639517,3.9598381692471385,0.9455353785007956,3.1244105119589642,0.2843961554868119,0.02083684291824394,3.5345781602297044,-0.6291698211189531,2.757807083714435,3.39086693239622,9.488779510830733,6.363317516159175,0.8947835393427944,1.0215815594892155,2.288923805742576,8.16639463610512,-3.523136884116543,1.0259836518456396,1.8653031592827876,0.7903034704411107,-0.45357745694943136,2.206606311211353,9.050096577754617,5.509013872471424,-0.8579429799558155,3.2454101620581994,10.41553701911627,4.014264062059221,-2.153612329991751,4.177009263713646,3.5300818581102926,-0.23844300991641407,4.599354455433444,3.4813079673910994,6.471584698029428,-0.4607146446094404,0.508733088282869,-1.001694483660323,0.8104067753558842,0.8152697912478598,7.763941231941601,4.336121750827666,-0.6521013021848273,-1.9882185209630756,-5.590234674115175,6.818187684198622,6.352040929189647],\"xaxis\":\"x\",\"y\":[8.036478014470482,8.088024949825225,0.741175666706772,10.325642385182407,1.0783674803825922,7.153212256507793,-4.886699472121107,0.29121118056194767,-4.351868723373658,10.651364765060539,9.414946383830005,2.1209690158168883,-3.4270615876403,7.206797823964973,4.30383825796186,0.13939103028662347,2.4682549556415934,2.407864898019433,-0.32021673657696875,2.760455834143348,1.0747115456735494,7.560893167703316,6.653591902993201,7.522199890264691,-5.800195926972812,-8.50836122082568,-4.075038427254321,-1.422083136207003,5.622391400234427,3.572059885655622,4.100585990631646,-5.901887319764953,-2.75968295530938,3.157931408713645,4.332572092681359,-2.450389595420938,-1.390736093134289,3.016250415990316,0.09799803160910811,-2.0283713028180097,3.375174021733627,2.445047245899925,2.5967961490158458,2.900089800926098,8.90776722504879,4.680402588758315,4.237193996425367,3.2586379343822776,-1.608931950756968,3.4937513962098037,0.2453474665232999,7.604306559614028,-0.22090826360045904,2.73829301768597,-0.7221071957613198,-4.211716539674701],\"yaxis\":\"y\",\"type\":\"scatter\"},{\"customdata\":[[\"Another Wave from You\",\"M83\",\"m83\"],[\"Claudia Lewis\",\"M83\",\"m83\"],[\"Echoes of Mine\",\"M83\",\"m83\"],[\"Fountains\",\"M83\",\"m83\"],[\"Intro\",\"M83\",\"m83\"],[\"Klaus I Love You\",\"M83\",\"m83\"],[\"Midnight City\",\"M83\",\"m83\"],[\"My Tears Are Becoming a Sea\",\"M83\",\"m83\"],[\"New Map\",\"M83\",\"m83\"],[\"Ok Pal\",\"M83\",\"m83\"],[\"Outro\",\"M83\",\"m83\"],[\"Raconte-moi une histoire\",\"M83\",\"m83\"],[\"Reunion\",\"M83\",\"m83\"],[\"Soon, My Friend\",\"M83\",\"m83\"],[\"Splendor\",\"M83\",\"m83\"],[\"Steve Mcqueen\",\"M83\",\"m83\"],[\"This Bright Flash\",\"M83\",\"m83\"],[\"Train to Pluton\",\"M83\",\"m83\"],[\"Wait\",\"M83\",\"m83\"],[\"When Will You Come Home\",\"M83\",\"m83\"],[\"Where the Boats Go\",\"M83\",\"m83\"],[\"Year One, One Ufo\",\"M83\",\"m83\"],[\"Ashes of Our Fathers\",\"M83\",\"m83\"],[\"Canyon Battle\",\"M83\",\"m83\"],[\"Earth 2077\",\"M83\",\"m83\"],[\"Fearful Odds\",\"M83\",\"m83\"],[\"I'm Sending You Away\",\"M83\",\"m83\"],[\"Jack's Dream\",\"M83\",\"m83\"],[\"Losing Control\",\"M83\",\"m83\"],[\"Odyssey Rescue\",\"M83\",\"m83\"],[\"Radiation Zone\",\"M83\",\"m83\"],[\"Raven Rock\",\"M83\",\"m83\"],[\"StarWaves\",\"M83\",\"m83\"],[\"Tech 49\",\"M83\",\"m83\"],[\"Temples of Our Gods\",\"M83\",\"m83\"],[\"Undimmed by Time, Unbound by Death\",\"M83\",\"m83\"],[\"Waking Up\",\"M83\",\"m83\"],[\"You Can't Save Her\",\"M83\",\"m83\"],[\"Oblivion\",\"M83\",\"m83\"]],\"hovertemplate\":\"playlist=%{customdata[2]}<br>tonnetz_x=%{x}<br>tonnetz_y=%{y}<br>song_name=%{customdata[0]}<br>artist=%{customdata[1]}<extra></extra>\",\"legendgroup\":\"m83\",\"marker\":{\"color\":\"#ab63fa\",\"symbol\":\"circle\"},\"mode\":\"markers\",\"name\":\"m83\",\"orientation\":\"v\",\"showlegend\":true,\"x\":[-3.3821290610147563,-0.36333013575393686,0.6776937640686406,1.558565887617331,-0.8727506971488733,9.884123054836131,1.4542167903377243,3.6040266743930216,2.028603622627818,-0.061520984720485006,6.489445932888698,-1.7222215905734994,1.1533861255923716,-1.1375254087799722,5.707038686903082,3.001151020171649,3.7064295278710047,-0.1222710259863674,5.97225516055933,-4.935475154745683,-1.245773903511556,2.881289910802463,-0.025452656054449557,-0.3506242937208937,0.5418397217338706,-3.6770416482260964,6.6194240653142735,-7.736420107146229,2.345508275069975,-0.19391650268931676,-1.6304404675203046,-9.41626397184945,-6.753844166788199,3.6521004430273294,-4.501878028534811,-7.175360578634336,-2.7968046673567106,-0.6757927871324799,5.115202092891533],\"xaxis\":\"x\",\"y\":[-10.267323632443073,1.0399981459109222,0.8580644960314266,-8.778693056785547,-4.713188165633412,-2.86064375101127,-0.4371602231269427,-7.911179410365311,-1.462402162737132,-2.336942956411695,2.124664096159122,-0.4000804772239714,0.27195360222341863,5.060450876295779,-0.7717893272062075,-0.26344245511563197,1.974241370471693,1.5289552967779105,1.1276261196387793,-11.4549797050851,-10.161324407412494,-2.482362601904619,-2.057228207698535,-0.3562158294511088,1.3574173885387646,-1.4451848473232531,5.14984851488987,-6.7705141789862315,2.3327363574828053,-1.1246775454868883,-1.1059667320529325,-2.2282758418700923,2.173216675540819,4.254007909696483,2.810267839229314,-7.42907917981125,1.2552062718306858,-6.8768559661712825,2.8961125412946553],\"yaxis\":\"y\",\"type\":\"scatter\"},{\"customdata\":[[\"A Moment Apart\",\"ODESZA\",\"odesza\"],[\"Across The Room (feat. Leon Bridges)\",\"ODESZA\",\"odesza\"],[\"Boy\",\"ODESZA\",\"odesza\"],[\"Corners Of The Earth (feat. RY X)\",\"ODESZA\",\"odesza\"],[\"Divide (feat. Kelsey Bulkin)\",\"ODESZA\",\"odesza\"],[\"Everything At Your Feet (feat. The Chamanas)\",\"ODESZA\",\"odesza\"],[\"Falls (feat. Sasha Alex Sloan)\",\"ODESZA\",\"odesza\"],[\"Falls (Reprise) (feat. Sasha Alex Sloan)\",\"ODESZA\",\"odesza\"],[\"Falls (Reprise) - Instrumental\",\"ODESZA\",\"odesza\"],[\"Higher Ground (feat. Naomi Wild)\",\"ODESZA\",\"odesza\"],[\"Higher Ground (Reprise) (feat. Naomi Wild)\",\"ODESZA\",\"odesza\"],[\"Higher Ground (Reprise) - Instrumental\",\"ODESZA\",\"odesza\"],[\"Intro\",\"ODESZA\",\"odesza\"],[\"It\\u2019s Only (feat. Zyra) - ODESZA VIP Remix\",\"ODESZA\",\"odesza\"],[\"Just A Memory (feat. Regina Spektor)\",\"ODESZA\",\"odesza\"],[\"La Ciudad\",\"ODESZA\",\"odesza\"],[\"Late Night\",\"ODESZA\",\"odesza\"],[\"Line Of Sight (feat. WYNNE & Mansionair)\",\"ODESZA\",\"odesza\"],[\"Line Of Sight (Reprise) (feat. WYNNE & Mansionair)\",\"ODESZA\",\"odesza\"],[\"Line Of Sight (Reprise) - Instrumental\",\"ODESZA\",\"odesza\"],[\"Loyal\",\"ODESZA\",\"odesza\"],[\"Memories That You Call (feat. Monsoonsiren) - ODESZA & Golden Features VIP Remix\",\"ODESZA\",\"odesza\"],[\"Meridian\",\"ODESZA\",\"odesza\"],[\"Show Me\",\"ODESZA\",\"odesza\"],[\"Thin Floors And Tall Ceilings\",\"ODESZA\",\"odesza\"]],\"hovertemplate\":\"playlist=%{customdata[2]}<br>tonnetz_x=%{x}<br>tonnetz_y=%{y}<br>song_name=%{customdata[0]}<br>artist=%{customdata[1]}<extra></extra>\",\"legendgroup\":\"odesza\",\"marker\":{\"color\":\"#FFA15A\",\"symbol\":\"circle\"},\"mode\":\"markers\",\"name\":\"odesza\",\"orientation\":\"v\",\"showlegend\":true,\"x\":[-3.830306135460405,-0.5329490619601696,0.3090547334874652,7.723684169422443,0.2960802819363691,0.2923331011907624,-0.00963311383634721,-0.022338806771169402,-0.13642570622017694,-0.22641544265102712,0.24260070313433324,1.0883683079427409,1.5342208900270426,2.758437403130256,2.7208474696259324,2.46644584606775,2.282992276925728,-2.5722739432907185,-6.787994071967651,-9.357190881145286,2.254984981942198,-1.649546546794054,-1.826640905084897,6.96743766062313,-5.263804977677131],\"xaxis\":\"x\",\"y\":[2.2073572111855984,-4.720357841293784,1.5543216966861408,-3.3789702348431496,2.2326668694906675,0.7484971190627384,-3.9171442396270066,-5.322925514832475,-8.151241941047168,-2.8693317550542554,-9.140831647176217,-10.958780958809974,-1.0111800991937119,2.8594879933530715,8.917633349394835,3.952625063189151,0.45731085779423336,-1.1897821769196641,-2.1675776133960922,-3.760791372894045,-3.6777991025161847,1.8948559419664222,-0.8200468729930814,0.14990596630126174,3.7272177145001533],\"yaxis\":\"y\",\"type\":\"scatter\"},{\"customdata\":[[\"April 10, 2019- Powehi - Image of a Black Hole\",\"Sleeping At Last\",\"sleeping-at-last\"],[\"August 12, 2018- Perseid Meteor Shower\",\"Sleeping At Last\",\"sleeping-at-last\"],[\"August 21, 2017- Total Solar Eclipse\",\"Sleeping At Last\",\"sleeping-at-last\"],[\"December 13, 2017- Geminid Meteor Shower\",\"Sleeping At Last\",\"sleeping-at-last\"],[\"December 17, 2018- Farout\",\"Sleeping At Last\",\"sleeping-at-last\"],[\"December 21, 2020- The Great Conjunction\",\"Sleeping At Last\",\"sleeping-at-last\"],[\"December 25, 2021- Webb Space Telescope - Launch\",\"Sleeping At Last\",\"sleeping-at-last\"],[\"February 1, 2023- C2022 E3 - Comet Ztf\",\"Sleeping At Last\",\"sleeping-at-last\"],[\"February 13, 2019- Opportunity - Mission Complete\",\"Sleeping At Last\",\"sleeping-at-last\"],[\"February 18, 2021- Perseverance - Mars Landing\",\"Sleeping At Last\",\"sleeping-at-last\"],[\"January 30, 2020- Spitzer - Final Voyage\",\"Sleeping At Last\",\"sleeping-at-last\"],[\"January 31, 2018- Super Blue Blood Moon\",\"Sleeping At Last\",\"sleeping-at-last\"],[\"July 22, 2020- C  2020 F3 - Comet Neowise\",\"Sleeping At Last\",\"sleeping-at-last\"],[\"July 27, 2018- Total Lunar Eclipse\",\"Sleeping At Last\",\"sleeping-at-last\"],[\"July 4, 2020- Aphelion\",\"Sleeping At Last\",\"sleeping-at-last\"],[\"June 24, 2022- Parade of Planets\",\"Sleeping At Last\",\"sleeping-at-last\"],[\"June 30, 2018- Pds 70b (Birth of a Planet)\",\"Sleeping At Last\",\"sleeping-at-last\"],[\"October 30, 2018- Kepler - Goodnight\",\"Sleeping At Last\",\"sleeping-at-last\"],[\"September 15, 2017- Cassini - The Grand Finale\",\"Sleeping At Last\",\"sleeping-at-last\"]],\"hovertemplate\":\"playlist=%{customdata[2]}<br>tonnetz_x=%{x}<br>tonnetz_y=%{y}<br>song_name=%{customdata[0]}<br>artist=%{customdata[1]}<extra></extra>\",\"legendgroup\":\"sleeping-at-last\",\"marker\":{\"color\":\"#19d3f3\",\"symbol\":\"circle\"},\"mode\":\"markers\",\"name\":\"sleeping-at-last\",\"orientation\":\"v\",\"showlegend\":true,\"x\":[4.593601555670286,5.144891252142072,-2.435302173223679,-3.3692474293617014,-0.3815885903561922,-5.481176893072803,7.860821949066856,-8.06638507035448,6.554710653423918,-4.198867951587209,2.1116209909122254,0.2811820850098273,5.853110682965666,-7.283154699180887,-0.14706779667576425,0.8855085844445004,-1.4715284032120985,-3.4495044874524696,-4.971980418942096],\"xaxis\":\"x\",\"y\":[2.965776111161488,-6.509753946935958,-7.217220694967947,-4.163500185807111,4.2475438706716595,-0.11014698634679122,0.7678331467297008,0.603524815528762,-1.2968511194969676,-6.025496656064987,5.507686976098469,8.357859129574866,-6.686265224092863,-1.597270355547463,6.063225512194506,-7.202606085065522,-3.5306689155126056,-0.5438057888239799,2.5146490116892046],\"yaxis\":\"y\",\"type\":\"scatter\"},{\"customdata\":[[\"It's Ok If You Forget Me\",\"Astrid S\",\"synth-pop\"],[\"Young & Alive\",\"Bazzi\",\"synth-pop\"],[\"Paralyze\",\"Bj\\u00f8rnskov\",\"synth-pop\"],[\"San Diego\",\"BRDGS\",\"synth-pop\"],[\"Ear Candy\",\"Caye\",\"synth-pop\"],[\"12 Hours\",\"Chris James\",\"synth-pop\"],[\"My Universe\",\"Coldplay\",\"synth-pop\"],[\"Overdrive\",\"Conan Gray\",\"synth-pop\"],[\"Titanic\",\"Cosmo's Midnight\",\"synth-pop\"],[\"Champagne For Two\",\"Devin Kennedy\",\"synth-pop\"],[\"Another Round\",\"Elina\",\"synth-pop\"],[\"How\",\"Elina\",\"synth-pop\"],[\"Paper Planes\",\"Elina\",\"synth-pop\"],[\"Nirvana\",\"ELLIANA\",\"synth-pop\"],[\"Lost In Space\",\"Emmit Fenn\",\"synth-pop\"],[\"12-45 - Stripped\",\"Etham\",\"synth-pop\"],[\"Purpose - Stripped\",\"Etham\",\"synth-pop\"],[\"California\",\"Ethan Dufault\",\"synth-pop\"],[\"Hurt The Ones We Love The Most\",\"Evan Blum\",\"synth-pop\"],[\"Young Love\",\"Falcon\",\"synth-pop\"],[\"I Should've Told You\",\"Fiji Blue\",\"synth-pop\"],[\"Waves\",\"Fiji Blue\",\"synth-pop\"],[\"Healing\",\"FLETCHER\",\"synth-pop\"],[\"hold on\",\"flor\",\"synth-pop\"],[\"Automatic (feat. Jake Miller)\",\"Fly By Midnight\",\"synth-pop\"],[\"Lovely\",\"Fly By Midnight\",\"synth-pop\"],[\"Lonely\",\"Gatsby\",\"synth-pop\"],[\"dear me,\",\"Gentle Bones\",\"synth-pop\"],[\"I Wouldn't Know Any Better Than You\",\"Gentle Bones\",\"synth-pop\"],[\"So Far So Good\",\"Great Good Fine Ok\",\"synth-pop\"],[\"Falling\",\"Harry Styles\",\"synth-pop\"],[\"sometimes\",\"Heather Sommer\",\"synth-pop\"],[\"you heard me\",\"Heather Sommer\",\"synth-pop\"],[\"Crying Over You \\u25d0\",\"HONNE\",\"synth-pop\"],[\"Day Dreaming\",\"Jack & Jack\",\"synth-pop\"],[\"Ross And Rachel\",\"Jake Miller\",\"synth-pop\"],[\"Showing You Off\",\"Jake Miller\",\"synth-pop\"],[\"Like No One Does\",\"Jake Scott\",\"synth-pop\"],[\"CWJBHN\",\"Jake Scott\",\"synth-pop\"],[\"drive all night\",\"joan\",\"synth-pop\"],[\"i loved you first\",\"joan\",\"synth-pop\"],[\"love somebody like you\",\"joan\",\"synth-pop\"],[\"magnetic\",\"joan\",\"synth-pop\"],[\"6 months\",\"John K\",\"synth-pop\"],[\"ilym (feat. ROSIE)\",\"John K\",\"synth-pop\"],[\"I Believe\",\"Jonas Brothers\",\"synth-pop\"],[\"I Quit Drinking\",\"Kelsea Ballerini\",\"synth-pop\"],[\"13\",\"LANY\",\"synth-pop\"],[\"dancing in the kitchen\",\"LANY\",\"synth-pop\"],[\"dna\",\"LANY\",\"synth-pop\"],[\"get away\",\"LANY\",\"synth-pop\"],[\"I Don't Wanna Love You Anymore\",\"LANY\",\"synth-pop\"],[\"if this is the last time\",\"LANY\",\"synth-pop\"],[\"ILYSB - STRIPPED\",\"LANY\",\"synth-pop\"],[\"ILYSB\",\"LANY\",\"synth-pop\"],[\"Let Me Know\",\"LANY\",\"synth-pop\"],[\"Malibu Nights\",\"LANY\",\"synth-pop\"],[\"Super Far\",\"LANY\",\"synth-pop\"],[\"Thru These Tears\",\"LANY\",\"synth-pop\"],[\"up to me\",\"LANY\",\"synth-pop\"],[\"you!\",\"LANY\",\"synth-pop\"],[\"Tattoos Together\",\"Lauv\",\"synth-pop\"],[\"When We Were Younger\",\"Loving Caliber\",\"synth-pop\"],[\"Love You Back\",\"Madeon\",\"synth-pop\"],[\"colorblind\",\"Mokita\",\"synth-pop\"],[\"London\",\"Mokita\",\"synth-pop\"],[\"Ready Yet\",\"Mokita\",\"synth-pop\"],[\"Shut Up I Love U\",\"Neptune\",\"synth-pop\"],[\"This Is Heaven\",\"Nick Jonas\",\"synth-pop\"],[\"Plot Twist\",\"NIKI\",\"synth-pop\"],[\"Waves\",\"Paige\",\"synth-pop\"],[\"Shelter\",\"Porter Robinson\",\"synth-pop\"],[\"Outsider\",\"Rachel Grae\",\"synth-pop\"],[\"Dandelions\",\"Ruth B.\",\"synth-pop\"],[\"Lie\",\"Sasha Alex Sloan\",\"synth-pop\"],[\"Day Dreaming\",\"Sopha\",\"synth-pop\"],[\"I Always Wanna Die (Sometimes)\",\"The 1975\",\"synth-pop\"],[\"I'm In Love With You\",\"The 1975\",\"synth-pop\"],[\"It's Not Living (If It's Not With You)\",\"The 1975\",\"synth-pop\"],[\"Robbers\",\"The 1975\",\"synth-pop\"],[\"She's American\",\"The 1975\",\"synth-pop\"],[\"Somebody Else\",\"The 1975\",\"synth-pop\"],[\"Going Home\",\"The Aces\",\"synth-pop\"],[\"Sunset\",\"The Midnight\",\"synth-pop\"],[\"Say So\",\"The Sam Willows\",\"synth-pop\"],[\"I Can't Stop Thinking About You\",\"The Shadowboxers\",\"synth-pop\"],[\"Strawberries & Cigarettes\",\"Troye Sivan\",\"synth-pop\"],[\"If Only for Tonight\",\"Vacation Manor\",\"synth-pop\"],[\"rocket science\",\"vaultboy\",\"synth-pop\"],[\"no excuses\",\"Virginia To Vegas\",\"synth-pop\"],[\"Got A Little Crush On You\",\"Wildflowers\",\"synth-pop\"],[\"Talking To Myself\",\"Will Jay\",\"synth-pop\"],[\"Dance Like Nobody's Watching\",\"Yuna\",\"synth-pop\"],[\"dancing in the kitchen\",\"Zachary Knowles\",\"synth-pop\"],[\"stranger to me\",\"Zachary Knowles\",\"synth-pop\"],[\"could you love me while i hate myself\",\"Zeph\",\"synth-pop\"]],\"hovertemplate\":\"playlist=%{customdata[2]}<br>tonnetz_x=%{x}<br>tonnetz_y=%{y}<br>song_name=%{customdata[0]}<br>artist=%{customdata[1]}<extra></extra>\",\"legendgroup\":\"synth-pop\",\"marker\":{\"color\":\"#FF6692\",\"symbol\":\"circle\"},\"mode\":\"markers\",\"name\":\"synth-pop\",\"orientation\":\"v\",\"showlegend\":true,\"x\":[0.2878441156540234,-2.435776420501669,0.7879451147136619,2.713734874151803,0.20125893893449734,-1.0484318264778925,0.9917213241397469,-0.23004069973024482,-0.45417973820662166,0.5946058787626962,6.059627970151361,-1.5298643470438091,-1.7056403591168356,7.902571555652823,-2.515945970247025,-2.8421282955116762,-2.9508425717092246,3.2126063846154675,1.692092621054196,-5.672951252350991,-2.0440514816882387,-0.31421357009953316,3.2200156075058466,-0.9367001166052586,-3.988317644962557,-0.005487776423777044,-5.088076575731573,1.4710731238955406,4.66353030959716,-0.7070335176265015,5.6805621464053395,1.0921526694662653,3.616609600610453,0.5067904328960703,-1.7042212453215446,3.8436736289477875,1.1128856463013077,-2.063253544437271,-3.6167649019593315,2.035467755074388,0.22957530314201594,1.6828837281854925,-1.141594018042682,-3.5535978660887904,5.947343656756424,1.7551256996887876,-2.296153897129834,-0.17419760176992288,0.6329462838776782,1.0789263985728226,-3.2497662391983226,-0.22160696197032087,2.666489867267806,-2.995079358862984,-1.2827835855384404,1.11795745537393,1.6812432147083758,-1.3601385413195646,2.1534487068368846,-1.1925381447884045,-3.5831989781008695,1.0636510395140397,-6.091215324606203,1.3967208001567533,-3.123445416703912,1.2614441622725638,-0.9050436284387552,0.8241990830521077,-0.006558483385644888,-0.3801255492516685,0.9663873973916497,-0.053471178443702014,-6.066751930055356,-1.16169874455159,-1.2638801101032995,-1.4978896904329133,4.481296779900062,0.9041026924134657,-0.4654393319722191,0.8493730777201921,-1.2048064763361763,0.7017632948785758,1.4338280799388528,-0.27974620430264935,5.141672613501205,1.7907364004056172,1.3035316572268845,-0.9980032319748384,-1.7561179873002122,0.6820254670688388,1.7267840062849749,-1.1199062291273028,0.3660028006068835,0.6862708776998451,-0.672009389458681,2.8066068044102703],\"xaxis\":\"x\",\"y\":[-4.2891645364264255,-0.5732543966669202,1.1396855630136584,-2.104504623327991,0.10899757489651356,-0.5022976090483079,-1.5191064131040684,0.5297963417021866,0.33938753981262565,0.6141064882259348,1.7303745470090155,-6.114877802894174,-4.206039454155794,-2.658803474170582,-0.8359259556435611,3.5353441797734377,-1.7538263438624473,-1.8169558340458716,-2.284304563192821,-2.1457366205893056,-1.3709963847317403,-1.3114537949617584,1.09101925431844,-0.9466970548450705,-3.438663329936718,1.943721482714966,-0.9539376810666372,-4.97576356985128,-1.058179281785158,-0.5574174869549602,-5.626357089103387,-1.6749516383822836,-1.5465051952638758,-1.411097953119429,0.7890241588912892,-1.2128953951632648,-2.759024783634724,-0.5777698953494693,0.4350194984844589,-0.6179715633879987,5.948485941043168,1.9044275874746441,0.14141665985534924,-0.4208707469405371,-5.4510406286007305,-1.1209183050060667,-4.45856745156539,-1.9800595870131776,-3.258471289349586,-2.554859861343004,-0.5442454868470733,2.125752608606492,-5.084623316374633,2.5268918951577555,0.9314833863841748,-0.4234618524394318,-3.67820943156651,-1.3482166590653963,-4.678776360868214,-2.1170715254443797,1.9885058380685967,-1.1240568228848524,1.5113493777445468,-3.4913915505570357,-3.048415065199889,-3.707792280913811,-0.8652124855656196,-1.3235117381409935,0.5882193372206119,-2.7572568293108075,-2.0053092579033174,2.4163444628389037,-5.464679820084883,-2.3244714765329313,-1.8610654946532856,-2.384300439696746,-3.306580003310662,-0.31182507808191556,-1.5545018837978057,-0.9746979928199108,-3.3044619359645506,2.2511821115985216,-0.5603606004777185,0.2469339118620561,0.9480029342103271,0.05755693608797158,-0.7949212615474854,-2.4990248343960646,-0.033792666855439586,-0.6747037287465716,0.428365376537405,-0.11492186642505743,0.9888180820240976,-0.23587941387313566,-1.8924973089534611,-1.4880055947182849],\"yaxis\":\"y\",\"type\":\"scatter\"},{\"customdata\":[[\"Allure\",\"Tony Anderson\",\"tony-anderson\"],[\"Aurora\",\"Tony Anderson\",\"tony-anderson\"],[\"Chasm\",\"Tony Anderson\",\"tony-anderson\"],[\"Darkest Night\",\"Tony Anderson\",\"tony-anderson\"],[\"Deep Waters - Original Sketch\",\"Tony Anderson\",\"tony-anderson\"],[\"Deep Waters\",\"Tony Anderson\",\"tony-anderson\"],[\"Delusion\",\"Tony Anderson\",\"tony-anderson\"],[\"Eyes Wide Open - Cinematic Mix\",\"Tony Anderson\",\"tony-anderson\"],[\"Eyes Wide Open\",\"Tony Anderson\",\"tony-anderson\"],[\"Face of the Father\",\"Tony Anderson\",\"tony-anderson\"],[\"Farthest Seas\",\"Tony Anderson\",\"tony-anderson\"],[\"Finding Your Heart\",\"Tony Anderson\",\"tony-anderson\"],[\"Halo\",\"Tony Anderson\",\"tony-anderson\"],[\"High Tide\",\"Tony Anderson\",\"tony-anderson\"],[\"Immanuel\",\"Tony Anderson\",\"tony-anderson\"],[\"Immersion\",\"Tony Anderson\",\"tony-anderson\"],[\"In the Distance\",\"Tony Anderson\",\"tony-anderson\"],[\"Incision\",\"Tony Anderson\",\"tony-anderson\"],[\"Like a Child - Cinematic Mix\",\"Tony Anderson\",\"tony-anderson\"],[\"Low Tide\",\"Tony Anderson\",\"tony-anderson\"],[\"Lune\",\"Tony Anderson\",\"tony-anderson\"],[\"Morning's Wings\",\"Tony Anderson\",\"tony-anderson\"],[\"Nightingale\",\"Tony Anderson\",\"tony-anderson\"],[\"No Place on Earth\",\"Tony Anderson\",\"tony-anderson\"],[\"Nocturne in Paris\",\"Tony Anderson\",\"tony-anderson\"],[\"Perennial\",\"Tony Anderson\",\"tony-anderson\"],[\"Resurrect\",\"Tony Anderson\",\"tony-anderson\"],[\"Retour\",\"Tony Anderson\",\"tony-anderson\"],[\"Shalom\",\"Tony Anderson\",\"tony-anderson\"],[\"Slipstream\",\"Tony Anderson\",\"tony-anderson\"],[\"Something Can Grow\",\"Tony Anderson\",\"tony-anderson\"],[\"Spiriteaux\",\"Tony Anderson\",\"tony-anderson\"],[\"The King\",\"Tony Anderson\",\"tony-anderson\"],[\"The Way Home\",\"Tony Anderson\",\"tony-anderson\"],[\"Thin Place - Abbreviated\",\"Tony Anderson\",\"tony-anderson\"],[\"Thin Place\",\"Tony Anderson\",\"tony-anderson\"],[\"We Are One\",\"Tony Anderson\",\"tony-anderson\"],[\"Wir Sind Gleich\",\"Tony Anderson\",\"tony-anderson\"],[\"Younger\",\"Tony Anderson\",\"tony-anderson\"],[\"\\u00c9closion\",\"Tony Anderson\",\"tony-anderson\"],[\"\\u00c9ph\\u00e9m\\u00e8re\",\"Tony Anderson\",\"tony-anderson\"],[\"Arp\\u00e8ge\",\"Tony Anderson\",\"tony-anderson\"],[\"Nuit\",\"Tony Anderson\",\"tony-anderson\"],[\"Tenderness - Woven Remix\",\"Tony Anderson\",\"tony-anderson\"],[\"Tenderness\",\"Tony Anderson\",\"tony-anderson\"],[\"Cambodia - Ross Lara Remix\",\"Tony Anderson\",\"tony-anderson\"],[\"Cambodia\",\"Tony Anderson\",\"tony-anderson\"],[\"Oyarsa\",\"Tony Anderson\",\"tony-anderson\"]],\"hovertemplate\":\"playlist=%{customdata[2]}<br>tonnetz_x=%{x}<br>tonnetz_y=%{y}<br>song_name=%{customdata[0]}<br>artist=%{customdata[1]}<extra></extra>\",\"legendgroup\":\"tony-anderson\",\"marker\":{\"color\":\"#B6E880\",\"symbol\":\"circle\"},\"mode\":\"markers\",\"name\":\"tony-anderson\",\"orientation\":\"v\",\"showlegend\":true,\"x\":[-5.979583047338463,2.082969302222155,-5.565943239612423,-4.319206039690983,3.5341611126485475,4.373079964230545,-4.816378564904741,-8.447810619806267,-6.782313202970813,7.638948204511796,-9.895585411904941,-2.101358438024754,6.106598826217163,-5.661933168383098,2.0745085599936965,2.3268850521129334,-10.545863708131247,-3.626780578994412,-7.9629321182444075,5.056810843883353,0.09280262225037308,5.964489924370038,-3.831496913964931,3.6218104870108863,6.116630861571606,-2.574948900520867,0.9315166887311774,3.440331085654823,-1.451567865649864,2.706231176480641,-5.543888998769525,-3.854652700186058,-7.001503921156348,-3.022497454115777,-6.9167623807223455,-8.43938347263374,-8.538479336450848,-0.4217844402691468,4.330279404174654,2.7264841564101716,-1.9899335544740773,1.1117918981341512,1.241098860867104,-0.36421219227940216,-1.7739700160081242,1.2893000296809054,4.86737310733985,-7.6957414481514475],\"xaxis\":\"x\",\"y\":[6.624253320039501,1.9569471789706194,-6.7198427208800355,3.988765089474389,3.5273685406799777,4.428351798888048,2.2076801058693847,1.0465222792513824,2.805587812375111,1.4411632363142148,1.8935417693546461,7.087502008282044,4.652579037724553,1.7744343517826695,6.2184364529036955,4.535343044688457,3.3104776546033703,5.286581719574757,1.5444361758594911,4.791320838377112,5.328735680316052,7.627487178093375,-4.626328522028056,9.587146711571066,6.214796257403689,6.0587623284647405,4.116918299234401,6.108317681613216,8.142841233227708,-5.422120275458748,7.09394094239539,7.7580550627649885,3.711036933344174,-0.03536316689172577,6.228500894680101,5.854144114299702,3.9730004934671466,-0.02190144831304264,6.258083817181561,5.224537114484523,5.01425272188344,4.179739459175054,5.8223970454973974,0.16503191382067378,4.449489005754708,3.6329605985849462,6.972622684474694,-0.35294586586105703],\"yaxis\":\"y\",\"type\":\"scatter\"}],                        {\"template\":{\"data\":{\"histogram2dcontour\":[{\"type\":\"histogram2dcontour\",\"colorbar\":{\"outlinewidth\":0,\"ticks\":\"\"},\"colorscale\":[[0.0,\"#0d0887\"],[0.1111111111111111,\"#46039f\"],[0.2222222222222222,\"#7201a8\"],[0.3333333333333333,\"#9c179e\"],[0.4444444444444444,\"#bd3786\"],[0.5555555555555556,\"#d8576b\"],[0.6666666666666666,\"#ed7953\"],[0.7777777777777778,\"#fb9f3a\"],[0.8888888888888888,\"#fdca26\"],[1.0,\"#f0f921\"]]}],\"choropleth\":[{\"type\":\"choropleth\",\"colorbar\":{\"outlinewidth\":0,\"ticks\":\"\"}}],\"histogram2d\":[{\"type\":\"histogram2d\",\"colorbar\":{\"outlinewidth\":0,\"ticks\":\"\"},\"colorscale\":[[0.0,\"#0d0887\"],[0.1111111111111111,\"#46039f\"],[0.2222222222222222,\"#7201a8\"],[0.3333333333333333,\"#9c179e\"],[0.4444444444444444,\"#bd3786\"],[0.5555555555555556,\"#d8576b\"],[0.6666666666666666,\"#ed7953\"],[0.7777777777777778,\"#fb9f3a\"],[0.8888888888888888,\"#fdca26\"],[1.0,\"#f0f921\"]]}],\"heatmap\":[{\"type\":\"heatmap\",\"colorbar\":{\"outlinewidth\":0,\"ticks\":\"\"},\"colorscale\":[[0.0,\"#0d0887\"],[0.1111111111111111,\"#46039f\"],[0.2222222222222222,\"#7201a8\"],[0.3333333333333333,\"#9c179e\"],[0.4444444444444444,\"#bd3786\"],[0.5555555555555556,\"#d8576b\"],[0.6666666666666666,\"#ed7953\"],[0.7777777777777778,\"#fb9f3a\"],[0.8888888888888888,\"#fdca26\"],[1.0,\"#f0f921\"]]}],\"heatmapgl\":[{\"type\":\"heatmapgl\",\"colorbar\":{\"outlinewidth\":0,\"ticks\":\"\"},\"colorscale\":[[0.0,\"#0d0887\"],[0.1111111111111111,\"#46039f\"],[0.2222222222222222,\"#7201a8\"],[0.3333333333333333,\"#9c179e\"],[0.4444444444444444,\"#bd3786\"],[0.5555555555555556,\"#d8576b\"],[0.6666666666666666,\"#ed7953\"],[0.7777777777777778,\"#fb9f3a\"],[0.8888888888888888,\"#fdca26\"],[1.0,\"#f0f921\"]]}],\"contourcarpet\":[{\"type\":\"contourcarpet\",\"colorbar\":{\"outlinewidth\":0,\"ticks\":\"\"}}],\"contour\":[{\"type\":\"contour\",\"colorbar\":{\"outlinewidth\":0,\"ticks\":\"\"},\"colorscale\":[[0.0,\"#0d0887\"],[0.1111111111111111,\"#46039f\"],[0.2222222222222222,\"#7201a8\"],[0.3333333333333333,\"#9c179e\"],[0.4444444444444444,\"#bd3786\"],[0.5555555555555556,\"#d8576b\"],[0.6666666666666666,\"#ed7953\"],[0.7777777777777778,\"#fb9f3a\"],[0.8888888888888888,\"#fdca26\"],[1.0,\"#f0f921\"]]}],\"surface\":[{\"type\":\"surface\",\"colorbar\":{\"outlinewidth\":0,\"ticks\":\"\"},\"colorscale\":[[0.0,\"#0d0887\"],[0.1111111111111111,\"#46039f\"],[0.2222222222222222,\"#7201a8\"],[0.3333333333333333,\"#9c179e\"],[0.4444444444444444,\"#bd3786\"],[0.5555555555555556,\"#d8576b\"],[0.6666666666666666,\"#ed7953\"],[0.7777777777777778,\"#fb9f3a\"],[0.8888888888888888,\"#fdca26\"],[1.0,\"#f0f921\"]]}],\"mesh3d\":[{\"type\":\"mesh3d\",\"colorbar\":{\"outlinewidth\":0,\"ticks\":\"\"}}],\"scatter\":[{\"marker\":{\"line\":{\"color\":\"#283442\"}},\"type\":\"scatter\"}],\"parcoords\":[{\"type\":\"parcoords\",\"line\":{\"colorbar\":{\"outlinewidth\":0,\"ticks\":\"\"}}}],\"scatterpolargl\":[{\"type\":\"scatterpolargl\",\"marker\":{\"colorbar\":{\"outlinewidth\":0,\"ticks\":\"\"}}}],\"bar\":[{\"error_x\":{\"color\":\"#f2f5fa\"},\"error_y\":{\"color\":\"#f2f5fa\"},\"marker\":{\"line\":{\"color\":\"rgb(17,17,17)\",\"width\":0.5},\"pattern\":{\"fillmode\":\"overlay\",\"size\":10,\"solidity\":0.2}},\"type\":\"bar\"}],\"scattergeo\":[{\"type\":\"scattergeo\",\"marker\":{\"colorbar\":{\"outlinewidth\":0,\"ticks\":\"\"}}}],\"scatterpolar\":[{\"type\":\"scatterpolar\",\"marker\":{\"colorbar\":{\"outlinewidth\":0,\"ticks\":\"\"}}}],\"histogram\":[{\"marker\":{\"pattern\":{\"fillmode\":\"overlay\",\"size\":10,\"solidity\":0.2}},\"type\":\"histogram\"}],\"scattergl\":[{\"marker\":{\"line\":{\"color\":\"#283442\"}},\"type\":\"scattergl\"}],\"scatter3d\":[{\"type\":\"scatter3d\",\"line\":{\"colorbar\":{\"outlinewidth\":0,\"ticks\":\"\"}},\"marker\":{\"colorbar\":{\"outlinewidth\":0,\"ticks\":\"\"}}}],\"scattermapbox\":[{\"type\":\"scattermapbox\",\"marker\":{\"colorbar\":{\"outlinewidth\":0,\"ticks\":\"\"}}}],\"scatterternary\":[{\"type\":\"scatterternary\",\"marker\":{\"colorbar\":{\"outlinewidth\":0,\"ticks\":\"\"}}}],\"scattercarpet\":[{\"type\":\"scattercarpet\",\"marker\":{\"colorbar\":{\"outlinewidth\":0,\"ticks\":\"\"}}}],\"carpet\":[{\"aaxis\":{\"endlinecolor\":\"#A2B1C6\",\"gridcolor\":\"#506784\",\"linecolor\":\"#506784\",\"minorgridcolor\":\"#506784\",\"startlinecolor\":\"#A2B1C6\"},\"baxis\":{\"endlinecolor\":\"#A2B1C6\",\"gridcolor\":\"#506784\",\"linecolor\":\"#506784\",\"minorgridcolor\":\"#506784\",\"startlinecolor\":\"#A2B1C6\"},\"type\":\"carpet\"}],\"table\":[{\"cells\":{\"fill\":{\"color\":\"#506784\"},\"line\":{\"color\":\"rgb(17,17,17)\"}},\"header\":{\"fill\":{\"color\":\"#2a3f5f\"},\"line\":{\"color\":\"rgb(17,17,17)\"}},\"type\":\"table\"}],\"barpolar\":[{\"marker\":{\"line\":{\"color\":\"rgb(17,17,17)\",\"width\":0.5},\"pattern\":{\"fillmode\":\"overlay\",\"size\":10,\"solidity\":0.2}},\"type\":\"barpolar\"}],\"pie\":[{\"automargin\":true,\"type\":\"pie\"}]},\"layout\":{\"autotypenumbers\":\"strict\",\"colorway\":[\"#636efa\",\"#EF553B\",\"#00cc96\",\"#ab63fa\",\"#FFA15A\",\"#19d3f3\",\"#FF6692\",\"#B6E880\",\"#FF97FF\",\"#FECB52\"],\"font\":{\"color\":\"#f2f5fa\"},\"hovermode\":\"closest\",\"hoverlabel\":{\"align\":\"left\"},\"paper_bgcolor\":\"rgb(17,17,17)\",\"plot_bgcolor\":\"rgb(17,17,17)\",\"polar\":{\"bgcolor\":\"rgb(17,17,17)\",\"angularaxis\":{\"gridcolor\":\"#506784\",\"linecolor\":\"#506784\",\"ticks\":\"\"},\"radialaxis\":{\"gridcolor\":\"#506784\",\"linecolor\":\"#506784\",\"ticks\":\"\"}},\"ternary\":{\"bgcolor\":\"rgb(17,17,17)\",\"aaxis\":{\"gridcolor\":\"#506784\",\"linecolor\":\"#506784\",\"ticks\":\"\"},\"baxis\":{\"gridcolor\":\"#506784\",\"linecolor\":\"#506784\",\"ticks\":\"\"},\"caxis\":{\"gridcolor\":\"#506784\",\"linecolor\":\"#506784\",\"ticks\":\"\"}},\"coloraxis\":{\"colorbar\":{\"outlinewidth\":0,\"ticks\":\"\"}},\"colorscale\":{\"sequential\":[[0.0,\"#0d0887\"],[0.1111111111111111,\"#46039f\"],[0.2222222222222222,\"#7201a8\"],[0.3333333333333333,\"#9c179e\"],[0.4444444444444444,\"#bd3786\"],[0.5555555555555556,\"#d8576b\"],[0.6666666666666666,\"#ed7953\"],[0.7777777777777778,\"#fb9f3a\"],[0.8888888888888888,\"#fdca26\"],[1.0,\"#f0f921\"]],\"sequentialminus\":[[0.0,\"#0d0887\"],[0.1111111111111111,\"#46039f\"],[0.2222222222222222,\"#7201a8\"],[0.3333333333333333,\"#9c179e\"],[0.4444444444444444,\"#bd3786\"],[0.5555555555555556,\"#d8576b\"],[0.6666666666666666,\"#ed7953\"],[0.7777777777777778,\"#fb9f3a\"],[0.8888888888888888,\"#fdca26\"],[1.0,\"#f0f921\"]],\"diverging\":[[0,\"#8e0152\"],[0.1,\"#c51b7d\"],[0.2,\"#de77ae\"],[0.3,\"#f1b6da\"],[0.4,\"#fde0ef\"],[0.5,\"#f7f7f7\"],[0.6,\"#e6f5d0\"],[0.7,\"#b8e186\"],[0.8,\"#7fbc41\"],[0.9,\"#4d9221\"],[1,\"#276419\"]]},\"xaxis\":{\"gridcolor\":\"#283442\",\"linecolor\":\"#506784\",\"ticks\":\"\",\"title\":{\"standoff\":15},\"zerolinecolor\":\"#283442\",\"automargin\":true,\"zerolinewidth\":2},\"yaxis\":{\"gridcolor\":\"#283442\",\"linecolor\":\"#506784\",\"ticks\":\"\",\"title\":{\"standoff\":15},\"zerolinecolor\":\"#283442\",\"automargin\":true,\"zerolinewidth\":2},\"scene\":{\"xaxis\":{\"backgroundcolor\":\"rgb(17,17,17)\",\"gridcolor\":\"#506784\",\"linecolor\":\"#506784\",\"showbackground\":true,\"ticks\":\"\",\"zerolinecolor\":\"#C8D4E3\",\"gridwidth\":2},\"yaxis\":{\"backgroundcolor\":\"rgb(17,17,17)\",\"gridcolor\":\"#506784\",\"linecolor\":\"#506784\",\"showbackground\":true,\"ticks\":\"\",\"zerolinecolor\":\"#C8D4E3\",\"gridwidth\":2},\"zaxis\":{\"backgroundcolor\":\"rgb(17,17,17)\",\"gridcolor\":\"#506784\",\"linecolor\":\"#506784\",\"showbackground\":true,\"ticks\":\"\",\"zerolinecolor\":\"#C8D4E3\",\"gridwidth\":2}},\"shapedefaults\":{\"line\":{\"color\":\"#f2f5fa\"}},\"annotationdefaults\":{\"arrowcolor\":\"#f2f5fa\",\"arrowhead\":0,\"arrowwidth\":1},\"geo\":{\"bgcolor\":\"rgb(17,17,17)\",\"landcolor\":\"rgb(17,17,17)\",\"subunitcolor\":\"#506784\",\"showland\":true,\"showlakes\":true,\"lakecolor\":\"rgb(17,17,17)\"},\"title\":{\"x\":0.05},\"updatemenudefaults\":{\"bgcolor\":\"#506784\",\"borderwidth\":0},\"sliderdefaults\":{\"bgcolor\":\"#C8D4E3\",\"borderwidth\":1,\"bordercolor\":\"rgb(17,17,17)\",\"tickwidth\":0},\"mapbox\":{\"style\":\"dark\"}}},\"xaxis\":{\"anchor\":\"y\",\"domain\":[0.0,1.0],\"title\":{\"text\":\"tonnetz_x\"}},\"yaxis\":{\"anchor\":\"x\",\"domain\":[0.0,1.0],\"title\":{\"text\":\"tonnetz_y\"}},\"legend\":{\"title\":{\"text\":\"playlist\"},\"tracegroupgap\":0},\"margin\":{\"t\":60}},                        {\"responsive\": true}                    ).then(function(){\n                            \nvar gd = document.getElementById('909f8f73-1eed-438a-8302-8144edffd7c5');\nvar x = new MutationObserver(function (mutations, observer) {{\n        var display = window.getComputedStyle(gd).display;\n        if (!display || display === 'none') {{\n            console.log([gd, 'removed!']);\n            Plotly.purge(gd);\n            observer.disconnect();\n        }}\n}});\n\n// Listen for the removal of the full notebook cells\nvar notebookContainer = gd.closest('#notebook-container');\nif (notebookContainer) {{\n    x.observe(notebookContainer, {childList: true});\n}}\n\n// Listen for the clearing of the current output cell\nvar outputEl = gd.closest('.output');\nif (outputEl) {{\n    x.observe(outputEl, {childList: true});\n}}\n\n                        })                };                });            </script>        </div>"
     },
     "metadata": {},
     "output_type": "display_data"
    }
   ],
   "source": [
    "tonnetz_fig = px.scatter(dataset, x='tonnetz_x', y='tonnetz_y', color='playlist', hover_data=config.metadata_columns)\n",
    "tonnetz_fig.write_image(config.image_dir + '/tonnetz-mds.png', width=1000, scale=2)\n",
    "tonnetz_fig"
   ]
  }
 ],
 "metadata": {
  "kernelspec": {
   "display_name": "Python 3 (ipykernel)",
   "language": "python",
   "name": "python3"
  },
  "language_info": {
   "codemirror_mode": {
    "name": "ipython",
    "version": 3
   },
   "file_extension": ".py",
   "mimetype": "text/x-python",
   "name": "python",
   "nbconvert_exporter": "python",
   "pygments_lexer": "ipython3",
   "version": "3.10.9"
  }
 },
 "nbformat": 4,
 "nbformat_minor": 1
}
