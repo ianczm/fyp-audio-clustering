{
 "cells": [
  {
   "cell_type": "markdown",
   "source": [
    "# Music Clustering\n",
    "\n",
    "### Table of Contents\n",
    "\n",
    "1. Read in the pre-processed audio as a Pandas DataFrame.\n",
    "2. Distance computation and low-dimensional embedding of multidimensional features.\n",
    "3. Dataset normalisation\n",
    "4. PCA to project data onto 2D plane\n",
    "5. Analysis of PCA components\n",
    "6. Perform GaussianMixture clustering on projected data\n",
    "7. Analysis of number of clusters with BIC and AIC"
   ],
   "metadata": {
    "collapsed": false
   }
  },
  {
   "cell_type": "code",
   "execution_count": 1,
   "outputs": [],
   "source": [
    "import math\n",
    "\n",
    "import numpy as np\n",
    "import pandas as pd\n",
    "\n",
    "from sklearn.cluster import KMeans\n",
    "from sklearn.mixture import GaussianMixture\n",
    "from sklearn.decomposition import PCA\n",
    "from sklearn.manifold import MDS, TSNE\n",
    "from scipy.spatial.distance import pdist, squareform\n",
    "\n",
    "import plotly.express as px\n",
    "from plotly.subplots import make_subplots\n",
    "import plotly.graph_objects as go\n",
    "import seaborn as sns"
   ],
   "metadata": {
    "collapsed": false
   }
  },
  {
   "cell_type": "markdown",
   "source": [
    "### Storage Variables\n",
    "\n",
    "These point the program to the directory containing the pre-processed audio data, and saves the current dataframes as temporary files so that consecutive runs can pick up where the previous run left off."
   ],
   "metadata": {
    "collapsed": false
   }
  },
  {
   "cell_type": "code",
   "execution_count": 2,
   "outputs": [],
   "source": [
    "import config"
   ],
   "metadata": {
    "collapsed": false
   }
  },
  {
   "cell_type": "markdown",
   "source": [
    "### Universal Variables\n",
    "\n",
    "These would be used to perform many repeated computations e.g. normalisation."
   ],
   "metadata": {
    "collapsed": false
   }
  },
  {
   "cell_type": "code",
   "execution_count": 3,
   "outputs": [],
   "source": [
    "from sklearn.preprocessing import StandardScaler\n",
    "scaler = StandardScaler()"
   ],
   "metadata": {
    "collapsed": false
   }
  },
  {
   "cell_type": "markdown",
   "source": [
    "## Loading in the Dataset\n",
    "\n",
    "Data is loaded from the `./features.pkl.pbz2` files located in their respective `data/extracted/playlist-name` directories. All data is concatenated into a single DataFrame, with the `playlist` column indicating which folder they came from.\n",
    "\n",
    "Setting `read_temp` means the program will read from the `data/temp` folder and recover previous progress."
   ],
   "metadata": {
    "collapsed": false
   }
  },
  {
   "cell_type": "code",
   "execution_count": 4,
   "outputs": [
    {
     "data": {
      "text/plain": "                             song_name             artist       playlist  \\\n0                           Ivan Sings  Aram Khachaturian           kino   \n1    Prélude in E Minor, Op. 28, No. 4    Frédéric Chopin           kino   \n2                      Above the Trees               Kino           kino   \n3                                  All               Kino           kino   \n4                                 Anew               Kino           kino   \n..                                 ...                ...            ...   \n420           Tenderness - Woven Remix      Tony Anderson  tony-anderson   \n421                         Tenderness      Tony Anderson  tony-anderson   \n422         Cambodia - Ross Lara Remix      Tony Anderson  tony-anderson   \n423                           Cambodia      Tony Anderson  tony-anderson   \n424                             Oyarsa      Tony Anderson  tony-anderson   \n\n     zero_crossings_mean  zero_crossings_var         bpm  \\\n0               0.030815            0.029865  143.554688   \n1               0.028196            0.027401  103.359375   \n2               0.052121            0.049405  143.554688   \n3               0.044240            0.042283  161.499023   \n4               0.048969            0.046571  161.499023   \n..                   ...                 ...         ...   \n420             0.050498            0.047948   99.384014   \n421             0.019365            0.018990  151.999081   \n422             0.053039            0.050226  129.199219   \n423             0.042857            0.041020  129.199219   \n424             0.035910            0.034620  112.347147   \n\n     spectral_centroid_mean  spectral_centroid_var  spectral_rolloff_mean  \\\n0                728.505121          164591.144472            1044.706810   \n1                615.425486           95544.686241             892.440162   \n2               1053.924804          248527.612506            1937.848230   \n3                619.260455           49458.448746             981.976649   \n4                677.808914           72961.813450            1098.534181   \n..                      ...                    ...                    ...   \n420             1690.752815          996877.763828            3788.666509   \n421              500.969118          144860.433188             764.697603   \n422             1618.810406          687875.800819            3493.059627   \n423             1234.479968          276949.182834            2474.291523   \n424              625.735642           51465.968656            1004.456635   \n\n     spectral_rolloff_var  ...  mfcc_mean_7  mfcc_var_7  mfcc_mean_8  \\\n0            1.492931e+06  ...    -5.985138   59.754135    -7.222707   \n1            8.328338e+05  ...    -3.295691   66.532372    -7.709404   \n2            1.480721e+06  ...     0.252557  113.514336    -4.448510   \n3            2.497879e+05  ...     0.971603  109.742783     3.967615   \n4            4.831254e+05  ...    -0.958290   75.191750    -0.318088   \n..                    ...  ...          ...         ...          ...   \n420          6.661065e+06  ...     6.266844   85.660057    -0.473025   \n421          1.021311e+06  ...     7.092884   42.235184     1.522114   \n422          5.250681e+06  ...     2.368633   62.413822    -2.939895   \n423          1.718215e+06  ...     1.199921  118.341034    -1.348665   \n424          1.778121e+05  ...     9.851865   73.260193     0.496677   \n\n     mfcc_var_8  mfcc_mean_9  mfcc_var_9  mfcc_mean_10  mfcc_var_10  \\\n0     53.279484    -6.638159   63.120949     -7.461281    58.827705   \n1     67.271782    -8.138650   51.361748     -8.201083    51.866173   \n2     74.239128    -2.306997   76.906097     -2.640234    74.699959   \n3     61.414219     4.160887   66.464058     -0.379875    82.376328   \n4     72.683647    -0.499459   70.440079     -3.557541    71.182747   \n..          ...          ...         ...           ...          ...   \n420   55.165321     1.394155   64.965172     -3.817915    56.059143   \n421   30.496746    -3.054044   27.486416     -6.413583    28.495449   \n422   52.945293     2.519716   61.408394     -2.011139    51.967083   \n423   86.386292     1.038753   90.882286     -4.584059    92.075935   \n424   49.557613    -4.770782   65.222755     -8.970942    67.012970   \n\n                                      chord_trajectory  \\\n0    [0.0, 0.0, 0.0, 0.0, 0.0, 0.0, 0.0, 0.0, 0.0, ...   \n1    [12.0, 0.0, 0.0, 2.0, 0.0, 0.0, 0.0, 0.0, 2.0,...   \n2    [17.0, 0.0, 0.0, 1.0, 0.0, 0.0, 0.0, 0.0, 0.0,...   \n3    [3.0, 0.0, 0.0, 0.0, 0.0, 0.0, 0.0, 2.0, 0.0, ...   \n4    [105.0, 0.0, 2.0, 0.0, 0.0, 0.0, 0.0, 5.0, 0.0...   \n..                                                 ...   \n420  [49.0, 0.0, 0.0, 6.0, 0.0, 3.0, 0.0, 0.0, 17.0...   \n421  [46.0, 0.0, 0.0, 2.0, 0.0, 1.0, 0.0, 0.0, 8.0,...   \n422  [246.0, 1.0, 0.0, 5.0, 0.0, 0.0, 0.0, 0.0, 2.0...   \n423  [295.0, 0.0, 0.0, 5.0, 0.0, 2.0, 0.0, 0.0, 0.0...   \n424  [0.0, 0.0, 0.0, 0.0, 0.0, 0.0, 0.0, 0.0, 0.0, ...   \n\n                                       note_trajectory  \n0    [0.0, 0.0, 0.0, 0.0, 0.0, 0.0, 0.0, 0.0, 0.0, ...  \n1    [0.0, 0.0, 0.0, 0.0, 0.0, 0.0, 0.0, 0.0, 0.0, ...  \n2    [0.0, 0.0, 0.0, 0.0, 0.0, 0.0, 0.0, 0.0, 0.0, ...  \n3    [0.0, 0.0, 0.0, 0.0, 0.0, 0.0, 0.0, 0.0, 0.0, ...  \n4    [0.0, 0.0, 0.0, 0.0, 0.0, 0.0, 0.0, 0.0, 0.0, ...  \n..                                                 ...  \n420  [0.0, 0.0, 0.0, 0.0, 0.0, 0.0, 0.0, 0.0, 0.0, ...  \n421  [0.0, 0.0, 0.0, 0.0, 0.0, 0.0, 0.0, 0.0, 0.0, ...  \n422  [0.0, 0.0, 0.0, 0.0, 0.0, 0.0, 0.0, 0.0, 0.0, ...  \n423  [0.0, 0.0, 0.0, 0.0, 0.0, 0.0, 0.0, 0.0, 0.0, ...  \n424  [0.0, 0.0, 0.0, 0.0, 0.0, 0.0, 0.0, 0.0, 0.0, ...  \n\n[425 rows x 36 columns]",
      "text/html": "<div>\n<style scoped>\n    .dataframe tbody tr th:only-of-type {\n        vertical-align: middle;\n    }\n\n    .dataframe tbody tr th {\n        vertical-align: top;\n    }\n\n    .dataframe thead th {\n        text-align: right;\n    }\n</style>\n<table border=\"1\" class=\"dataframe\">\n  <thead>\n    <tr style=\"text-align: right;\">\n      <th></th>\n      <th>song_name</th>\n      <th>artist</th>\n      <th>playlist</th>\n      <th>zero_crossings_mean</th>\n      <th>zero_crossings_var</th>\n      <th>bpm</th>\n      <th>spectral_centroid_mean</th>\n      <th>spectral_centroid_var</th>\n      <th>spectral_rolloff_mean</th>\n      <th>spectral_rolloff_var</th>\n      <th>...</th>\n      <th>mfcc_mean_7</th>\n      <th>mfcc_var_7</th>\n      <th>mfcc_mean_8</th>\n      <th>mfcc_var_8</th>\n      <th>mfcc_mean_9</th>\n      <th>mfcc_var_9</th>\n      <th>mfcc_mean_10</th>\n      <th>mfcc_var_10</th>\n      <th>chord_trajectory</th>\n      <th>note_trajectory</th>\n    </tr>\n  </thead>\n  <tbody>\n    <tr>\n      <th>0</th>\n      <td>Ivan Sings</td>\n      <td>Aram Khachaturian</td>\n      <td>kino</td>\n      <td>0.030815</td>\n      <td>0.029865</td>\n      <td>143.554688</td>\n      <td>728.505121</td>\n      <td>164591.144472</td>\n      <td>1044.706810</td>\n      <td>1.492931e+06</td>\n      <td>...</td>\n      <td>-5.985138</td>\n      <td>59.754135</td>\n      <td>-7.222707</td>\n      <td>53.279484</td>\n      <td>-6.638159</td>\n      <td>63.120949</td>\n      <td>-7.461281</td>\n      <td>58.827705</td>\n      <td>[0.0, 0.0, 0.0, 0.0, 0.0, 0.0, 0.0, 0.0, 0.0, ...</td>\n      <td>[0.0, 0.0, 0.0, 0.0, 0.0, 0.0, 0.0, 0.0, 0.0, ...</td>\n    </tr>\n    <tr>\n      <th>1</th>\n      <td>Prélude in E Minor, Op. 28, No. 4</td>\n      <td>Frédéric Chopin</td>\n      <td>kino</td>\n      <td>0.028196</td>\n      <td>0.027401</td>\n      <td>103.359375</td>\n      <td>615.425486</td>\n      <td>95544.686241</td>\n      <td>892.440162</td>\n      <td>8.328338e+05</td>\n      <td>...</td>\n      <td>-3.295691</td>\n      <td>66.532372</td>\n      <td>-7.709404</td>\n      <td>67.271782</td>\n      <td>-8.138650</td>\n      <td>51.361748</td>\n      <td>-8.201083</td>\n      <td>51.866173</td>\n      <td>[12.0, 0.0, 0.0, 2.0, 0.0, 0.0, 0.0, 0.0, 2.0,...</td>\n      <td>[0.0, 0.0, 0.0, 0.0, 0.0, 0.0, 0.0, 0.0, 0.0, ...</td>\n    </tr>\n    <tr>\n      <th>2</th>\n      <td>Above the Trees</td>\n      <td>Kino</td>\n      <td>kino</td>\n      <td>0.052121</td>\n      <td>0.049405</td>\n      <td>143.554688</td>\n      <td>1053.924804</td>\n      <td>248527.612506</td>\n      <td>1937.848230</td>\n      <td>1.480721e+06</td>\n      <td>...</td>\n      <td>0.252557</td>\n      <td>113.514336</td>\n      <td>-4.448510</td>\n      <td>74.239128</td>\n      <td>-2.306997</td>\n      <td>76.906097</td>\n      <td>-2.640234</td>\n      <td>74.699959</td>\n      <td>[17.0, 0.0, 0.0, 1.0, 0.0, 0.0, 0.0, 0.0, 0.0,...</td>\n      <td>[0.0, 0.0, 0.0, 0.0, 0.0, 0.0, 0.0, 0.0, 0.0, ...</td>\n    </tr>\n    <tr>\n      <th>3</th>\n      <td>All</td>\n      <td>Kino</td>\n      <td>kino</td>\n      <td>0.044240</td>\n      <td>0.042283</td>\n      <td>161.499023</td>\n      <td>619.260455</td>\n      <td>49458.448746</td>\n      <td>981.976649</td>\n      <td>2.497879e+05</td>\n      <td>...</td>\n      <td>0.971603</td>\n      <td>109.742783</td>\n      <td>3.967615</td>\n      <td>61.414219</td>\n      <td>4.160887</td>\n      <td>66.464058</td>\n      <td>-0.379875</td>\n      <td>82.376328</td>\n      <td>[3.0, 0.0, 0.0, 0.0, 0.0, 0.0, 0.0, 2.0, 0.0, ...</td>\n      <td>[0.0, 0.0, 0.0, 0.0, 0.0, 0.0, 0.0, 0.0, 0.0, ...</td>\n    </tr>\n    <tr>\n      <th>4</th>\n      <td>Anew</td>\n      <td>Kino</td>\n      <td>kino</td>\n      <td>0.048969</td>\n      <td>0.046571</td>\n      <td>161.499023</td>\n      <td>677.808914</td>\n      <td>72961.813450</td>\n      <td>1098.534181</td>\n      <td>4.831254e+05</td>\n      <td>...</td>\n      <td>-0.958290</td>\n      <td>75.191750</td>\n      <td>-0.318088</td>\n      <td>72.683647</td>\n      <td>-0.499459</td>\n      <td>70.440079</td>\n      <td>-3.557541</td>\n      <td>71.182747</td>\n      <td>[105.0, 0.0, 2.0, 0.0, 0.0, 0.0, 0.0, 5.0, 0.0...</td>\n      <td>[0.0, 0.0, 0.0, 0.0, 0.0, 0.0, 0.0, 0.0, 0.0, ...</td>\n    </tr>\n    <tr>\n      <th>...</th>\n      <td>...</td>\n      <td>...</td>\n      <td>...</td>\n      <td>...</td>\n      <td>...</td>\n      <td>...</td>\n      <td>...</td>\n      <td>...</td>\n      <td>...</td>\n      <td>...</td>\n      <td>...</td>\n      <td>...</td>\n      <td>...</td>\n      <td>...</td>\n      <td>...</td>\n      <td>...</td>\n      <td>...</td>\n      <td>...</td>\n      <td>...</td>\n      <td>...</td>\n      <td>...</td>\n    </tr>\n    <tr>\n      <th>420</th>\n      <td>Tenderness - Woven Remix</td>\n      <td>Tony Anderson</td>\n      <td>tony-anderson</td>\n      <td>0.050498</td>\n      <td>0.047948</td>\n      <td>99.384014</td>\n      <td>1690.752815</td>\n      <td>996877.763828</td>\n      <td>3788.666509</td>\n      <td>6.661065e+06</td>\n      <td>...</td>\n      <td>6.266844</td>\n      <td>85.660057</td>\n      <td>-0.473025</td>\n      <td>55.165321</td>\n      <td>1.394155</td>\n      <td>64.965172</td>\n      <td>-3.817915</td>\n      <td>56.059143</td>\n      <td>[49.0, 0.0, 0.0, 6.0, 0.0, 3.0, 0.0, 0.0, 17.0...</td>\n      <td>[0.0, 0.0, 0.0, 0.0, 0.0, 0.0, 0.0, 0.0, 0.0, ...</td>\n    </tr>\n    <tr>\n      <th>421</th>\n      <td>Tenderness</td>\n      <td>Tony Anderson</td>\n      <td>tony-anderson</td>\n      <td>0.019365</td>\n      <td>0.018990</td>\n      <td>151.999081</td>\n      <td>500.969118</td>\n      <td>144860.433188</td>\n      <td>764.697603</td>\n      <td>1.021311e+06</td>\n      <td>...</td>\n      <td>7.092884</td>\n      <td>42.235184</td>\n      <td>1.522114</td>\n      <td>30.496746</td>\n      <td>-3.054044</td>\n      <td>27.486416</td>\n      <td>-6.413583</td>\n      <td>28.495449</td>\n      <td>[46.0, 0.0, 0.0, 2.0, 0.0, 1.0, 0.0, 0.0, 8.0,...</td>\n      <td>[0.0, 0.0, 0.0, 0.0, 0.0, 0.0, 0.0, 0.0, 0.0, ...</td>\n    </tr>\n    <tr>\n      <th>422</th>\n      <td>Cambodia - Ross Lara Remix</td>\n      <td>Tony Anderson</td>\n      <td>tony-anderson</td>\n      <td>0.053039</td>\n      <td>0.050226</td>\n      <td>129.199219</td>\n      <td>1618.810406</td>\n      <td>687875.800819</td>\n      <td>3493.059627</td>\n      <td>5.250681e+06</td>\n      <td>...</td>\n      <td>2.368633</td>\n      <td>62.413822</td>\n      <td>-2.939895</td>\n      <td>52.945293</td>\n      <td>2.519716</td>\n      <td>61.408394</td>\n      <td>-2.011139</td>\n      <td>51.967083</td>\n      <td>[246.0, 1.0, 0.0, 5.0, 0.0, 0.0, 0.0, 0.0, 2.0...</td>\n      <td>[0.0, 0.0, 0.0, 0.0, 0.0, 0.0, 0.0, 0.0, 0.0, ...</td>\n    </tr>\n    <tr>\n      <th>423</th>\n      <td>Cambodia</td>\n      <td>Tony Anderson</td>\n      <td>tony-anderson</td>\n      <td>0.042857</td>\n      <td>0.041020</td>\n      <td>129.199219</td>\n      <td>1234.479968</td>\n      <td>276949.182834</td>\n      <td>2474.291523</td>\n      <td>1.718215e+06</td>\n      <td>...</td>\n      <td>1.199921</td>\n      <td>118.341034</td>\n      <td>-1.348665</td>\n      <td>86.386292</td>\n      <td>1.038753</td>\n      <td>90.882286</td>\n      <td>-4.584059</td>\n      <td>92.075935</td>\n      <td>[295.0, 0.0, 0.0, 5.0, 0.0, 2.0, 0.0, 0.0, 0.0...</td>\n      <td>[0.0, 0.0, 0.0, 0.0, 0.0, 0.0, 0.0, 0.0, 0.0, ...</td>\n    </tr>\n    <tr>\n      <th>424</th>\n      <td>Oyarsa</td>\n      <td>Tony Anderson</td>\n      <td>tony-anderson</td>\n      <td>0.035910</td>\n      <td>0.034620</td>\n      <td>112.347147</td>\n      <td>625.735642</td>\n      <td>51465.968656</td>\n      <td>1004.456635</td>\n      <td>1.778121e+05</td>\n      <td>...</td>\n      <td>9.851865</td>\n      <td>73.260193</td>\n      <td>0.496677</td>\n      <td>49.557613</td>\n      <td>-4.770782</td>\n      <td>65.222755</td>\n      <td>-8.970942</td>\n      <td>67.012970</td>\n      <td>[0.0, 0.0, 0.0, 0.0, 0.0, 0.0, 0.0, 0.0, 0.0, ...</td>\n      <td>[0.0, 0.0, 0.0, 0.0, 0.0, 0.0, 0.0, 0.0, 0.0, ...</td>\n    </tr>\n  </tbody>\n</table>\n<p>425 rows × 36 columns</p>\n</div>"
     },
     "execution_count": 4,
     "metadata": {},
     "output_type": "execute_result"
    }
   ],
   "source": [
    "from src.helpers import PandasAudioRepository\n",
    "\n",
    "read_temp = False\n",
    "if read_temp:\n",
    "    dataset = pd.read_pickle(config.fresh_load_dataset_dir)\n",
    "else:\n",
    "    dataset = PandasAudioRepository.load_all_feature_datasets(config.extracted_dir)\n",
    "\n",
    "dataset.to_pickle(config.fresh_load_dataset_dir, compression='bz2')\n",
    "dataset"
   ],
   "metadata": {
    "collapsed": false
   }
  },
  {
   "cell_type": "markdown",
   "source": [
    "## Low-Dimensional Embedding of High-Dimensional Features\n",
    "\n",
    "Features that are high-dimensional include:\n",
    "1. Note Trajectory (16384 dimensions)\n",
    "2. Chord Trajectory (625 dimensions)\n",
    "\n",
    "The methodology for each high-dimensional feature is as follows:\n",
    "1. Calculate pairwise distances\n",
    "2. Embed points in 2D while preserving their distances between each other\n",
    "3. Introduce the 2D coordinates as additional features/columns in the dataset\n",
    "\n",
    "**[Todo]** Might consider adding the Tonnetz in as well for better harmonic representation."
   ],
   "metadata": {
    "collapsed": false
   }
  },
  {
   "cell_type": "code",
   "execution_count": 5,
   "outputs": [],
   "source": [
    "note_trajectories = dataset.pop('note_trajectory').apply(pd.Series)\n",
    "chord_trajectories = dataset.pop('chord_trajectory').apply(pd.Series)"
   ],
   "metadata": {
    "collapsed": false
   }
  },
  {
   "cell_type": "markdown",
   "source": [
    "### Calculate Pairwise Distances\n",
    "\n",
    "First, trajectory matrices are normalised. This is important because longer music tend to stay on the same notes/chords longer. We want music that have similar harmonic transitions to be close together, no matter how long or short they are.\n",
    "\n",
    "Then, Euclidean distance is used to calculate the distance between each point or 'row' in the dataset."
   ],
   "metadata": {
    "collapsed": false
   }
  },
  {
   "cell_type": "code",
   "execution_count": 6,
   "outputs": [],
   "source": [
    "note_distances = pdist(scaler.fit_transform(note_trajectories.T).T, 'euclidean')\n",
    "chord_distances = pdist(scaler.fit_transform(chord_trajectories.T).T, 'euclidean')"
   ],
   "metadata": {
    "collapsed": false
   }
  },
  {
   "cell_type": "markdown",
   "source": [
    "The MDS algorithm will attempt to plot each point on a 2D plane while preserving the calculated distances as much as possible."
   ],
   "metadata": {
    "collapsed": false
   }
  },
  {
   "cell_type": "code",
   "execution_count": 7,
   "outputs": [],
   "source": [
    "note_mds = MDS(n_components=2, dissimilarity='precomputed', normalized_stress=False)\n",
    "chord_mds = MDS(n_components=2, dissimilarity='precomputed', normalized_stress=False)\n",
    "note_coordinates = note_mds.fit_transform(squareform(note_distances))\n",
    "chord_coordinates = chord_mds.fit_transform(squareform(chord_distances))"
   ],
   "metadata": {
    "collapsed": false
   }
  },
  {
   "cell_type": "markdown",
   "source": [
    "The obtained 2D coordinates for each feature is then added to the main dataset as additional columns."
   ],
   "metadata": {
    "collapsed": false
   }
  },
  {
   "cell_type": "code",
   "execution_count": 8,
   "outputs": [
    {
     "data": {
      "text/plain": "                             song_name             artist       playlist  \\\n0                           Ivan Sings  Aram Khachaturian           kino   \n1    Prélude in E Minor, Op. 28, No. 4    Frédéric Chopin           kino   \n2                      Above the Trees               Kino           kino   \n3                                  All               Kino           kino   \n4                                 Anew               Kino           kino   \n..                                 ...                ...            ...   \n420           Tenderness - Woven Remix      Tony Anderson  tony-anderson   \n421                         Tenderness      Tony Anderson  tony-anderson   \n422         Cambodia - Ross Lara Remix      Tony Anderson  tony-anderson   \n423                           Cambodia      Tony Anderson  tony-anderson   \n424                             Oyarsa      Tony Anderson  tony-anderson   \n\n     zero_crossings_mean  zero_crossings_var         bpm  \\\n0               0.030815            0.029865  143.554688   \n1               0.028196            0.027401  103.359375   \n2               0.052121            0.049405  143.554688   \n3               0.044240            0.042283  161.499023   \n4               0.048969            0.046571  161.499023   \n..                   ...                 ...         ...   \n420             0.050498            0.047948   99.384014   \n421             0.019365            0.018990  151.999081   \n422             0.053039            0.050226  129.199219   \n423             0.042857            0.041020  129.199219   \n424             0.035910            0.034620  112.347147   \n\n     spectral_centroid_mean  spectral_centroid_var  spectral_rolloff_mean  \\\n0                728.505121          164591.144472            1044.706810   \n1                615.425486           95544.686241             892.440162   \n2               1053.924804          248527.612506            1937.848230   \n3                619.260455           49458.448746             981.976649   \n4                677.808914           72961.813450            1098.534181   \n..                      ...                    ...                    ...   \n420             1690.752815          996877.763828            3788.666509   \n421              500.969118          144860.433188             764.697603   \n422             1618.810406          687875.800819            3493.059627   \n423             1234.479968          276949.182834            2474.291523   \n424              625.735642           51465.968656            1004.456635   \n\n     spectral_rolloff_var  ...  mfcc_mean_8  mfcc_var_8  mfcc_mean_9  \\\n0            1.492931e+06  ...    -7.222707   53.279484    -6.638159   \n1            8.328338e+05  ...    -7.709404   67.271782    -8.138650   \n2            1.480721e+06  ...    -4.448510   74.239128    -2.306997   \n3            2.497879e+05  ...     3.967615   61.414219     4.160887   \n4            4.831254e+05  ...    -0.318088   72.683647    -0.499459   \n..                    ...  ...          ...         ...          ...   \n420          6.661065e+06  ...    -0.473025   55.165321     1.394155   \n421          1.021311e+06  ...     1.522114   30.496746    -3.054044   \n422          5.250681e+06  ...    -2.939895   52.945293     2.519716   \n423          1.718215e+06  ...    -1.348665   86.386292     1.038753   \n424          1.778121e+05  ...     0.496677   49.557613    -4.770782   \n\n     mfcc_var_9  mfcc_mean_10  mfcc_var_10      note_x      note_y    chord_x  \\\n0     63.120949     -7.461281    58.827705  110.102500   -5.322379  -4.920797   \n1     51.361748     -8.201083    51.866173  133.164914    4.224942   4.520679   \n2     76.906097     -2.640234    74.699959  -92.460326  -68.216353 -23.964487   \n3     66.464058     -0.379875    82.376328  121.217223   17.995782  23.637863   \n4     70.440079     -3.557541    71.182747   29.310332 -117.832834  -9.299643   \n..          ...           ...          ...         ...         ...        ...   \n420   64.965172     -3.817915    56.059143  -40.997760  112.874541   4.188124   \n421   27.486416     -6.413583    28.495449  104.580117  -44.029025   1.351486   \n422   61.408394     -2.011139    51.967083  -22.038616  106.755551  -0.711246   \n423   90.882286     -4.584059    92.075935   41.915089   86.528233   1.036106   \n424   65.222755     -8.970942    67.012970   88.654384   76.803009 -16.400971   \n\n       chord_y  \n0   -17.838344  \n1    -5.460191  \n2    -0.090125  \n3    -2.059168  \n4    22.483854  \n..         ...  \n420  -0.704095  \n421 -21.144250  \n422   5.914692  \n423  13.289298  \n424 -14.765747  \n\n[425 rows x 38 columns]",
      "text/html": "<div>\n<style scoped>\n    .dataframe tbody tr th:only-of-type {\n        vertical-align: middle;\n    }\n\n    .dataframe tbody tr th {\n        vertical-align: top;\n    }\n\n    .dataframe thead th {\n        text-align: right;\n    }\n</style>\n<table border=\"1\" class=\"dataframe\">\n  <thead>\n    <tr style=\"text-align: right;\">\n      <th></th>\n      <th>song_name</th>\n      <th>artist</th>\n      <th>playlist</th>\n      <th>zero_crossings_mean</th>\n      <th>zero_crossings_var</th>\n      <th>bpm</th>\n      <th>spectral_centroid_mean</th>\n      <th>spectral_centroid_var</th>\n      <th>spectral_rolloff_mean</th>\n      <th>spectral_rolloff_var</th>\n      <th>...</th>\n      <th>mfcc_mean_8</th>\n      <th>mfcc_var_8</th>\n      <th>mfcc_mean_9</th>\n      <th>mfcc_var_9</th>\n      <th>mfcc_mean_10</th>\n      <th>mfcc_var_10</th>\n      <th>note_x</th>\n      <th>note_y</th>\n      <th>chord_x</th>\n      <th>chord_y</th>\n    </tr>\n  </thead>\n  <tbody>\n    <tr>\n      <th>0</th>\n      <td>Ivan Sings</td>\n      <td>Aram Khachaturian</td>\n      <td>kino</td>\n      <td>0.030815</td>\n      <td>0.029865</td>\n      <td>143.554688</td>\n      <td>728.505121</td>\n      <td>164591.144472</td>\n      <td>1044.706810</td>\n      <td>1.492931e+06</td>\n      <td>...</td>\n      <td>-7.222707</td>\n      <td>53.279484</td>\n      <td>-6.638159</td>\n      <td>63.120949</td>\n      <td>-7.461281</td>\n      <td>58.827705</td>\n      <td>110.102500</td>\n      <td>-5.322379</td>\n      <td>-4.920797</td>\n      <td>-17.838344</td>\n    </tr>\n    <tr>\n      <th>1</th>\n      <td>Prélude in E Minor, Op. 28, No. 4</td>\n      <td>Frédéric Chopin</td>\n      <td>kino</td>\n      <td>0.028196</td>\n      <td>0.027401</td>\n      <td>103.359375</td>\n      <td>615.425486</td>\n      <td>95544.686241</td>\n      <td>892.440162</td>\n      <td>8.328338e+05</td>\n      <td>...</td>\n      <td>-7.709404</td>\n      <td>67.271782</td>\n      <td>-8.138650</td>\n      <td>51.361748</td>\n      <td>-8.201083</td>\n      <td>51.866173</td>\n      <td>133.164914</td>\n      <td>4.224942</td>\n      <td>4.520679</td>\n      <td>-5.460191</td>\n    </tr>\n    <tr>\n      <th>2</th>\n      <td>Above the Trees</td>\n      <td>Kino</td>\n      <td>kino</td>\n      <td>0.052121</td>\n      <td>0.049405</td>\n      <td>143.554688</td>\n      <td>1053.924804</td>\n      <td>248527.612506</td>\n      <td>1937.848230</td>\n      <td>1.480721e+06</td>\n      <td>...</td>\n      <td>-4.448510</td>\n      <td>74.239128</td>\n      <td>-2.306997</td>\n      <td>76.906097</td>\n      <td>-2.640234</td>\n      <td>74.699959</td>\n      <td>-92.460326</td>\n      <td>-68.216353</td>\n      <td>-23.964487</td>\n      <td>-0.090125</td>\n    </tr>\n    <tr>\n      <th>3</th>\n      <td>All</td>\n      <td>Kino</td>\n      <td>kino</td>\n      <td>0.044240</td>\n      <td>0.042283</td>\n      <td>161.499023</td>\n      <td>619.260455</td>\n      <td>49458.448746</td>\n      <td>981.976649</td>\n      <td>2.497879e+05</td>\n      <td>...</td>\n      <td>3.967615</td>\n      <td>61.414219</td>\n      <td>4.160887</td>\n      <td>66.464058</td>\n      <td>-0.379875</td>\n      <td>82.376328</td>\n      <td>121.217223</td>\n      <td>17.995782</td>\n      <td>23.637863</td>\n      <td>-2.059168</td>\n    </tr>\n    <tr>\n      <th>4</th>\n      <td>Anew</td>\n      <td>Kino</td>\n      <td>kino</td>\n      <td>0.048969</td>\n      <td>0.046571</td>\n      <td>161.499023</td>\n      <td>677.808914</td>\n      <td>72961.813450</td>\n      <td>1098.534181</td>\n      <td>4.831254e+05</td>\n      <td>...</td>\n      <td>-0.318088</td>\n      <td>72.683647</td>\n      <td>-0.499459</td>\n      <td>70.440079</td>\n      <td>-3.557541</td>\n      <td>71.182747</td>\n      <td>29.310332</td>\n      <td>-117.832834</td>\n      <td>-9.299643</td>\n      <td>22.483854</td>\n    </tr>\n    <tr>\n      <th>...</th>\n      <td>...</td>\n      <td>...</td>\n      <td>...</td>\n      <td>...</td>\n      <td>...</td>\n      <td>...</td>\n      <td>...</td>\n      <td>...</td>\n      <td>...</td>\n      <td>...</td>\n      <td>...</td>\n      <td>...</td>\n      <td>...</td>\n      <td>...</td>\n      <td>...</td>\n      <td>...</td>\n      <td>...</td>\n      <td>...</td>\n      <td>...</td>\n      <td>...</td>\n      <td>...</td>\n    </tr>\n    <tr>\n      <th>420</th>\n      <td>Tenderness - Woven Remix</td>\n      <td>Tony Anderson</td>\n      <td>tony-anderson</td>\n      <td>0.050498</td>\n      <td>0.047948</td>\n      <td>99.384014</td>\n      <td>1690.752815</td>\n      <td>996877.763828</td>\n      <td>3788.666509</td>\n      <td>6.661065e+06</td>\n      <td>...</td>\n      <td>-0.473025</td>\n      <td>55.165321</td>\n      <td>1.394155</td>\n      <td>64.965172</td>\n      <td>-3.817915</td>\n      <td>56.059143</td>\n      <td>-40.997760</td>\n      <td>112.874541</td>\n      <td>4.188124</td>\n      <td>-0.704095</td>\n    </tr>\n    <tr>\n      <th>421</th>\n      <td>Tenderness</td>\n      <td>Tony Anderson</td>\n      <td>tony-anderson</td>\n      <td>0.019365</td>\n      <td>0.018990</td>\n      <td>151.999081</td>\n      <td>500.969118</td>\n      <td>144860.433188</td>\n      <td>764.697603</td>\n      <td>1.021311e+06</td>\n      <td>...</td>\n      <td>1.522114</td>\n      <td>30.496746</td>\n      <td>-3.054044</td>\n      <td>27.486416</td>\n      <td>-6.413583</td>\n      <td>28.495449</td>\n      <td>104.580117</td>\n      <td>-44.029025</td>\n      <td>1.351486</td>\n      <td>-21.144250</td>\n    </tr>\n    <tr>\n      <th>422</th>\n      <td>Cambodia - Ross Lara Remix</td>\n      <td>Tony Anderson</td>\n      <td>tony-anderson</td>\n      <td>0.053039</td>\n      <td>0.050226</td>\n      <td>129.199219</td>\n      <td>1618.810406</td>\n      <td>687875.800819</td>\n      <td>3493.059627</td>\n      <td>5.250681e+06</td>\n      <td>...</td>\n      <td>-2.939895</td>\n      <td>52.945293</td>\n      <td>2.519716</td>\n      <td>61.408394</td>\n      <td>-2.011139</td>\n      <td>51.967083</td>\n      <td>-22.038616</td>\n      <td>106.755551</td>\n      <td>-0.711246</td>\n      <td>5.914692</td>\n    </tr>\n    <tr>\n      <th>423</th>\n      <td>Cambodia</td>\n      <td>Tony Anderson</td>\n      <td>tony-anderson</td>\n      <td>0.042857</td>\n      <td>0.041020</td>\n      <td>129.199219</td>\n      <td>1234.479968</td>\n      <td>276949.182834</td>\n      <td>2474.291523</td>\n      <td>1.718215e+06</td>\n      <td>...</td>\n      <td>-1.348665</td>\n      <td>86.386292</td>\n      <td>1.038753</td>\n      <td>90.882286</td>\n      <td>-4.584059</td>\n      <td>92.075935</td>\n      <td>41.915089</td>\n      <td>86.528233</td>\n      <td>1.036106</td>\n      <td>13.289298</td>\n    </tr>\n    <tr>\n      <th>424</th>\n      <td>Oyarsa</td>\n      <td>Tony Anderson</td>\n      <td>tony-anderson</td>\n      <td>0.035910</td>\n      <td>0.034620</td>\n      <td>112.347147</td>\n      <td>625.735642</td>\n      <td>51465.968656</td>\n      <td>1004.456635</td>\n      <td>1.778121e+05</td>\n      <td>...</td>\n      <td>0.496677</td>\n      <td>49.557613</td>\n      <td>-4.770782</td>\n      <td>65.222755</td>\n      <td>-8.970942</td>\n      <td>67.012970</td>\n      <td>88.654384</td>\n      <td>76.803009</td>\n      <td>-16.400971</td>\n      <td>-14.765747</td>\n    </tr>\n  </tbody>\n</table>\n<p>425 rows × 38 columns</p>\n</div>"
     },
     "execution_count": 8,
     "metadata": {},
     "output_type": "execute_result"
    }
   ],
   "source": [
    "note_coordinates_df = pd.DataFrame(note_coordinates, columns=['x', 'y'])\n",
    "chord_coordinates_df = pd.DataFrame(chord_coordinates, columns=['x', 'y'])\n",
    "\n",
    "dataset['note_x'] = note_coordinates_df['x']\n",
    "dataset['note_y'] = note_coordinates_df['y']\n",
    "\n",
    "dataset['chord_x'] = chord_coordinates_df['x']\n",
    "dataset['chord_y'] = chord_coordinates_df['y']\n",
    "\n",
    "dataset"
   ],
   "metadata": {
    "collapsed": false
   }
  },
  {
   "cell_type": "markdown",
   "source": [
    "## Save Progress"
   ],
   "metadata": {
    "collapsed": false
   }
  },
  {
   "cell_type": "code",
   "execution_count": 9,
   "outputs": [],
   "source": [
    "dataset.to_pickle(config.dim_reduction_result_dir, compression='bz2')"
   ],
   "metadata": {
    "collapsed": false
   }
  },
  {
   "cell_type": "markdown",
   "source": [
    "## Visualisation of Reduced Dimensions\n",
    "\n",
    "### Note Trajectory\n",
    "\n",
    "We can see that points form a ball around the centre. This is a sign that they are all more or less equidistant from each other.\n",
    "\n",
    "This can be due to there being too many potential notes, so even similar sounding songs might not play the same notes. This is the consequence of the curse of dimensionality.\n",
    "\n",
    "However, small clusters do form."
   ],
   "metadata": {
    "collapsed": false
   }
  },
  {
   "cell_type": "code",
   "execution_count": 13,
   "outputs": [
    {
     "data": {
      "application/vnd.plotly.v1+json": {
       "data": [
        {
         "customdata": [
          [
           "Ivan Sings",
           "Aram Khachaturian",
           "kino"
          ],
          [
           "Prélude in E Minor, Op. 28, No. 4",
           "Frédéric Chopin",
           "kino"
          ],
          [
           "Above the Trees",
           "Kino",
           "kino"
          ],
          [
           "All",
           "Kino",
           "kino"
          ],
          [
           "Anew",
           "Kino",
           "kino"
          ],
          [
           "As a Cloud",
           "Kino",
           "kino"
          ],
          [
           "Away",
           "Kino",
           "kino"
          ],
          [
           "Bloom",
           "Kino",
           "kino"
          ],
          [
           "Charleston",
           "Kino",
           "kino"
          ],
          [
           "Donau",
           "Kino",
           "kino"
          ],
          [
           "Each and Every (Ambient Mix)",
           "Kino",
           "kino"
          ],
          [
           "Each and Every (Piano)",
           "Kino",
           "kino"
          ],
          [
           "Each and Every",
           "Kino",
           "kino"
          ],
          [
           "Erlöst  Redeemed",
           "Kino",
           "kino"
          ],
          [
           "Gathering",
           "Kino",
           "kino"
          ],
          [
           "God Bless Us, Every One",
           "Kino",
           "kino"
          ],
          [
           "Hearth",
           "Kino",
           "kino"
          ],
          [
           "Hēo",
           "Kino",
           "kino"
          ],
          [
           "In Earnest",
           "Kino",
           "kino"
          ],
          [
           "Leinwand (Piano)",
           "Kino",
           "kino"
          ],
          [
           "Leinwand",
           "Kino",
           "kino"
          ],
          [
           "Lightly Tread",
           "Kino",
           "kino"
          ],
          [
           "Lone",
           "Kino",
           "kino"
          ],
          [
           "Many Colors",
           "Kino",
           "kino"
          ],
          [
           "Merrily, Merrily",
           "Kino",
           "kino"
          ],
          [
           "O Tannenbaum",
           "Kino",
           "kino"
          ],
          [
           "Presidio",
           "Kino",
           "kino"
          ],
          [
           "Rambuteau",
           "Kino",
           "kino"
          ],
          [
           "Seafarer's Quartet",
           "Kino",
           "kino"
          ],
          [
           "Seems",
           "Kino",
           "kino"
          ],
          [
           "Silent Night",
           "Kino",
           "kino"
          ],
          [
           "Silver Lake",
           "Kino",
           "kino"
          ],
          [
           "St John's",
           "Kino",
           "kino"
          ],
          [
           "Sunshine - Original",
           "Kino",
           "kino"
          ],
          [
           "Swell",
           "Kino",
           "kino"
          ],
          [
           "The Holly and the Ivy",
           "Kino",
           "kino"
          ],
          [
           "The Weight Unbearable (Piano)",
           "Kino",
           "kino"
          ],
          [
           "The Weight Unbearable",
           "Kino",
           "kino"
          ],
          [
           "Till",
           "Kino",
           "kino"
          ],
          [
           "Trio in E-flat Minor",
           "Kino",
           "kino"
          ],
          [
           "Under",
           "Kino",
           "kino"
          ],
          [
           "Water Lilies",
           "Kino",
           "kino"
          ],
          [
           "Wide Awake",
           "Kino",
           "kino"
          ],
          [
           "Willeth",
           "Kino",
           "kino"
          ],
          [
           "Wolden",
           "Kino",
           "kino"
          ],
          [
           "Yule",
           "Kino",
           "kino"
          ],
          [
           "Piano Sonata No. 14 in C-Sharp Minor, Op. 27 No. 2 “Moonlight”- I. Adagio sostenuto",
           "Ludwig van Beethoven",
           "kino"
          ]
         ],
         "hovertemplate": "playlist=%{customdata[2]}<br>note_x=%{x}<br>note_y=%{y}<br>song_name=%{customdata[0]}<br>artist=%{customdata[1]}<extra></extra>",
         "legendgroup": "kino",
         "marker": {
          "color": "#636efa",
          "symbol": "circle"
         },
         "mode": "markers",
         "name": "kino",
         "orientation": "v",
         "showlegend": true,
         "x": [
          110.10249982491247,
          133.16491366255576,
          -92.46032641630602,
          121.21722333660705,
          29.3103323777039,
          -13.046351197979678,
          55.50733834977315,
          -27.956365872024012,
          15.364389299599866,
          29.68532309791063,
          -15.663699233592988,
          -17.843659263355363,
          -43.15812320513169,
          -24.399354201450517,
          -12.268835694415388,
          122.08844692538236,
          70.23828984355995,
          -24.853516116524585,
          83.76431338444631,
          -101.20175216400101,
          -98.99068575696863,
          121.08489406596807,
          112.05242623977816,
          64.31534119397979,
          -36.40754284434469,
          -7.069007605799421,
          94.58653422142174,
          94.16058424533148,
          122.78953258367085,
          124.6854782438714,
          -32.667327483949244,
          117.79711028811678,
          102.28640630402876,
          -63.68610472417026,
          118.04475185783147,
          133.38372203629018,
          -28.417088748571622,
          128.11467067296036,
          -2.9326962686462115,
          100.22314361602672,
          102.90461990868769,
          37.21561857003381,
          -35.828725280742994,
          133.45615555688772,
          74.28722161523498,
          110.61861040692746,
          53.461968977979005
         ],
         "xaxis": "x",
         "y": [
          -5.322378956950027,
          4.224942451228167,
          -68.2163528360019,
          17.9957819077411,
          -117.8328340784494,
          -127.01292303462293,
          -127.85556255184613,
          -108.90318600886053,
          -120.10839443120292,
          113.71866854002528,
          -111.42497076005537,
          -113.25440475807622,
          -121.07734320564099,
          100.68063014476854,
          103.84309480187487,
          -3.684366159327438,
          -54.048927625970244,
          -140.11051363602908,
          -114.4618074519803,
          -101.57295962285149,
          -102.9365728557702,
          36.55372748666986,
          14.851058788524169,
          -18.236160374084335,
          -102.02288280351547,
          -136.38844617971176,
          33.76348517590388,
          -2.5358965459293414,
          -48.77134699420785,
          -17.528058485570376,
          -134.55348967860584,
          83.03058762910209,
          51.905552557701256,
          -1.170848473961398,
          59.32359411756815,
          -28.94427603814562,
          -133.2482934171934,
          -5.441921282280633,
          -143.16521888764822,
          -28.41510854561397,
          -79.52626520982407,
          -49.88515188379576,
          -75.12332514308207,
          33.929741572134134,
          -125.81874172626694,
          36.95857820834815,
          -78.54447517834532
         ],
         "yaxis": "y",
         "type": "scatter"
        },
        {
         "customdata": [
          [
           "But it's Destiny",
           "10cm",
           "korean-ost"
          ],
          [
           "나의 어깨에 기대어요",
           "10cm",
           "korean-ost"
          ],
          [
           "Is You",
           "AILEE",
           "korean-ost"
          ],
          [
           "How can I love the heartbreak, you're the one I love",
           "AKMU",
           "korean-ost"
          ],
          [
           "How can I love the heartbreak, you`re the one I love",
           "AKMU",
           "korean-ost"
          ],
          [
           "Amusement Park",
           "BAEKHYUN",
           "korean-ost"
          ],
          [
           "너를 사랑하고 있어",
           "BAEKHYUN",
           "korean-ost"
          ],
          [
           "Beautiful goodbye",
           "CHEN",
           "korean-ost"
          ],
          [
           "Flower",
           "CHEN",
           "korean-ost"
          ],
          [
           "I'll be there",
           "CHEN",
           "korean-ost"
          ],
          [
           "My dear",
           "CHEN",
           "korean-ost"
          ],
          [
           "Sorry not sorry",
           "CHEN",
           "korean-ost"
          ],
          [
           "Everytime",
           "CHEN",
           "korean-ost"
          ],
          [
           "Wish",
           "Choi Yuree",
           "korean-ost"
          ],
          [
           "Beautiful",
           "Crush",
           "korean-ost"
          ],
          [
           "Let Us Go",
           "Crush",
           "korean-ost"
          ],
          [
           "No Words",
           "Crush",
           "korean-ost"
          ],
          [
           "My Love",
           "DAVICHI",
           "korean-ost"
          ],
          [
           "Please Don't Cry",
           "DAVICHI",
           "korean-ost"
          ],
          [
           "Sunset",
           "DAVICHI",
           "korean-ost"
          ],
          [
           "노력해볼게요 I'll try",
           "DAY6",
           "korean-ost"
          ],
          [
           "I'm In Love With You",
           "Dvwn",
           "korean-ost"
          ],
          [
           "No Problem",
           "Dvwn",
           "korean-ost"
          ],
          [
           "긴 밤이 오면",
           "Eddy Kim",
           "korean-ost"
          ],
          [
           "Rain or Shine",
           "Elaine",
           "korean-ost"
          ],
          [
           "Hate Everything - Korean Version",
           "GSoul",
           "korean-ost"
          ],
          [
           "기억해줘요 내 모든 날과 그때를",
           "Gummy",
           "korean-ost"
          ],
          [
           "Slowly Fall",
           "Ha Hyun Sang",
           "korean-ost"
          ],
          [
           "내 맘을 볼 수 있나요",
           "HEIZE",
           "korean-ost"
          ],
          [
           "Deeply",
           "HEN",
           "korean-ost"
          ],
          [
           "To You",
           "HEN",
           "korean-ost"
          ],
          [
           "It's You",
           "HENRY",
           "korean-ost"
          ],
          [
           "Untitled Love Song",
           "HENRY",
           "korean-ost"
          ],
          [
           "Ending Scene",
           "IU",
           "korean-ost"
          ],
          [
           "Give You My Heart",
           "IU",
           "korean-ost"
          ],
          [
           "Love poem",
           "IU",
           "korean-ost"
          ],
          [
           "My sea",
           "IU",
           "korean-ost"
          ],
          [
           "Holiday",
           "JeHwi",
           "korean-ost"
          ],
          [
           "Stardust love song",
           "JIHYO",
           "korean-ost"
          ],
          [
           "What Lies Ahead",
           "Joe Layne",
           "korean-ost"
          ],
          [
           "Times Like This",
           "Josh Daniel",
           "korean-ost"
          ],
          [
           "Do you want to walk with me (Romance 101 X Jukjae)",
           "Jukjae",
           "korean-ost"
          ],
          [
           "The Days Like Pictures",
           "Jukjae",
           "korean-ost"
          ],
          [
           "나를 찾아서",
           "Jukjae",
           "korean-ost"
          ],
          [
           "별 보러 가자",
           "Jukjae",
           "korean-ost"
          ],
          [
           "Day & Night",
           "Jung Seung Hwan",
           "korean-ost"
          ],
          [
           "Because I Miss You",
           "Jung Yong Hwa",
           "korean-ost"
          ],
          [
           "For First-time Lovers (Banmal-song)",
           "Jung Yong Hwa",
           "korean-ost"
          ],
          [
           "I Go",
           "Kei (Kim Ji Yeon)",
           "korean-ost"
          ],
          [
           "보고싶다 (From. '드라마 천국의 계단')",
           "Kim Bum Soo",
           "korean-ost"
          ],
          [
           "One Day",
           "Kim Feel",
           "korean-ost"
          ],
          [
           "Someday, The Boy",
           "Kim Feel",
           "korean-ost"
          ],
          [
           "Vacance in September",
           "KIM JAE HWAN",
           "korean-ost"
          ],
          [
           "All of My Days",
           "KIMSEJEONG",
           "korean-ost"
          ],
          [
           "If Only",
           "KIMSEJEONG",
           "korean-ost"
          ],
          [
           "Lonely Night",
           "Kwon Jin Ah",
           "korean-ost"
          ],
          [
           "The End",
           "Kwon Jin Ah",
           "korean-ost"
          ],
          [
           "I Won't Heartbreaken",
           "Lee KwangHee",
           "korean-ost"
          ],
          [
           "In My Heart",
           "LIM YEON",
           "korean-ost"
          ],
          [
           "Lost",
           "LIM YEON",
           "korean-ost"
          ],
          [
           "Say Yes",
           "Loco",
           "korean-ost"
          ],
          [
           "Be There For You",
           "NCT DREAM",
           "korean-ost"
          ],
          [
           "Rainbow - Acoustic Version",
           "O.WHEN",
           "korean-ost"
          ],
          [
           "Me After You",
           "Paul Kim",
           "korean-ost"
          ],
          [
           "안녕",
           "Paul Kim",
           "korean-ost"
          ],
          [
           "But I'm Trying to Tell You How Much I Love You (With Moonbit)",
           "saevom",
           "korean-ost"
          ],
          [
           "For You",
           "Sam Kim",
           "korean-ost"
          ],
          [
           "Sunny Day Rainy Day (feat. Kassy)",
           "Sanchez",
           "korean-ost"
          ],
          [
           "Your world",
           "Seol Hoseung (SURL)",
           "korean-ost"
          ],
          [
           "Grown Ups",
           "Sondia",
           "korean-ost"
          ],
          [
           "Hug",
           "Sondia",
           "korean-ost"
          ],
          [
           "Our Souls at Night",
           "Sondia",
           "korean-ost"
          ],
          [
           "우린 친구뿐일까",
           "Sondia",
           "korean-ost"
          ],
          [
           "She",
           "Standing Egg",
           "korean-ost"
          ],
          [
           "Miracle (Feat. Paul Kim)",
           "Stella Jang",
           "korean-ost"
          ],
          [
           "One more time, One more chance",
           "Sung Si Kyung",
           "korean-ost"
          ],
          [
           "君がいるよ",
           "Sung Si Kyung",
           "korean-ost"
          ],
          [
           "Two People",
           "SURAN",
           "korean-ost"
          ],
          [
           "Inevitable",
           "Suzy",
           "korean-ost"
          ],
          [
           "Starlight",
           "TAEIL",
           "korean-ost"
          ],
          [
           "그대라는 시",
           "TAEYEON",
           "korean-ost"
          ],
          [
           "Two Words",
           "WENDY",
           "korean-ost"
          ],
          [
           "What If Love",
           "WENDY",
           "korean-ost"
          ],
          [
           "내일도 또 내일도 Tomorrow After Tomorrow",
           "WISUE",
           "korean-ost"
          ],
          [
           "Your Existence",
           "Wonstein",
           "korean-ost"
          ],
          [
           "Free",
           "Xydo",
           "korean-ost"
          ],
          [
           "너만 너만 너만",
           "Yang Dail",
           "korean-ost"
          ],
          [
           "With me",
           "Yang Dail",
           "korean-ost"
          ],
          [
           "Here I Am Again",
           "Yerin Baek",
           "korean-ost"
          ],
          [
           "Maze",
           "YONGZOO",
           "korean-ost"
          ],
          [
           "ALWAYS",
           "Yoon Mirae",
           "korean-ost"
          ],
          [
           "Flower",
           "Yoon Mirae",
           "korean-ost"
          ],
          [
           "You Are My World",
           "Yoon Mirae",
           "korean-ost"
          ],
          [
           "I Just Want To Stay With You",
           "Zion.T",
           "korean-ost"
          ],
          [
           "Faith",
           "이준화",
           "korean-ost"
          ]
         ],
         "hovertemplate": "playlist=%{customdata[2]}<br>note_x=%{x}<br>note_y=%{y}<br>song_name=%{customdata[0]}<br>artist=%{customdata[1]}<extra></extra>",
         "legendgroup": "korean-ost",
         "marker": {
          "color": "#EF553B",
          "symbol": "circle"
         },
         "mode": "markers",
         "name": "korean-ost",
         "orientation": "v",
         "showlegend": true,
         "x": [
          -36.260510148240805,
          112.68423394566803,
          -23.095349722643768,
          9.686951863140038,
          9.686814285310732,
          -28.248009350699117,
          18.475892543211778,
          -58.36709627137447,
          50.004524836050955,
          -99.58762112868368,
          -31.598003588371153,
          101.94179874095865,
          -105.13341957047305,
          120.94485963692256,
          -111.23092594453102,
          -9.420570106457884,
          -69.84243717203478,
          -72.58255330587976,
          -109.8171443298533,
          -32.271677026947515,
          81.89052525522193,
          15.315689375980073,
          114.51591578391604,
          -22.69083043432551,
          -9.876725718160785,
          -99.67129714911034,
          -36.9489715981356,
          -115.77485265069785,
          42.11536817579249,
          -60.988514058318145,
          55.455305729894846,
          -1.211833318168692,
          -16.616322363021755,
          48.69717728840613,
          77.1182566603257,
          50.33202201520825,
          -19.22124134200669,
          8.325599131701184,
          70.93396365462021,
          -73.41862626009335,
          47.070691680535376,
          28.595032032160773,
          83.87957529497419,
          35.588447193100805,
          55.024665957334264,
          -91.17328600488287,
          -102.66521323037173,
          -69.1713167870509,
          -59.508341762807824,
          39.75901288866843,
          -86.89029607019931,
          73.68086463668402,
          -53.48586792412455,
          -62.31945260914273,
          -56.498960189660586,
          -118.67527422030068,
          -57.88225515336502,
          35.7758681084957,
          -42.899895724578116,
          63.77218480259584,
          -84.05157192655459,
          20.56090448913757,
          -69.1547841772033,
          -12.970897430310325,
          36.516463408669686,
          73.0776614854643,
          -23.138694481248095,
          -125.5812557210267,
          8.417206745163435,
          18.00910046718948,
          -27.418292996973555,
          -8.342662399859533,
          -61.48453077589998,
          29.11647054275457,
          -118.41390180932348,
          31.04209647561111,
          31.425597454578895,
          16.33388809129615,
          5.249367175980545,
          -91.89832184381774,
          23.0197923932302,
          -90.33422949825999,
          -114.32207837373171,
          -61.96540754016137,
          -94.891248081919,
          -46.146741299043896,
          -101.97635809370466,
          -34.456900309589365,
          -15.980739820059059,
          -72.42825980034885,
          -103.3929676690697,
          -52.30149683879706,
          -127.40856343682678,
          48.9360712269784,
          58.75265979441022
         ],
         "xaxis": "x",
         "y": [
          68.10124903334261,
          57.86588766837824,
          -26.117127573512494,
          -66.22482950795472,
          -66.22489426048827,
          16.470477315720515,
          2.651783328287178,
          -103.11617961464644,
          -23.490179656265934,
          -37.379797414748985,
          -8.919181873550441,
          19.595364431299906,
          -68.66897160787119,
          28.80881208525876,
          -40.08457741985199,
          -59.030632470181466,
          -24.971792840971087,
          -41.28237899310531,
          14.249295676551178,
          -59.2690529683872,
          -48.84970190552139,
          40.19021149843948,
          -37.9140238084785,
          -76.1647923781131,
          -120.94196420151772,
          -74.8313405706742,
          -84.41569287697861,
          -74.39032658009371,
          -88.04603166991222,
          -71.09230608086807,
          -67.76921425376612,
          16.192089737449955,
          80.53008115408656,
          -93.52390938675524,
          30.120542001891852,
          9.817972359923653,
          25.079473131848587,
          -45.05620783082039,
          -32.80740655355133,
          -112.51478294150255,
          -57.527410647355474,
          -25.08319552979723,
          -3.990771850721588,
          46.23314795801485,
          47.21465174809717,
          -54.03124157605294,
          -19.41428569313433,
          28.3952639946579,
          -45.700824606287696,
          -8.262786471038671,
          -21.162099484515316,
          -89.54477467385234,
          64.77937435499724,
          -58.300076332849585,
          -83.90267241233269,
          8.922895248572035,
          -71.92394560809609,
          -100.07019835880035,
          -94.02133970136379,
          -79.23016080036722,
          49.623478198144184,
          -24.313465526260266,
          39.71985669031991,
          -14.51916902781622,
          52.76095649980722,
          -58.59009797211766,
          -95.99604457566201,
          32.32126962584595,
          93.59811744071729,
          -79.17665715799386,
          25.29876021312173,
          -91.3229284676274,
          -108.19081133928026,
          -57.21265890028258,
          -50.73148467305733,
          25.410475978782994,
          1.5731914044041397,
          -98.43548439886077,
          -61.38393854246247,
          15.821350401077067,
          -86.49190126653012,
          -10.937565060394885,
          17.726539950986492,
          -79.38240213596444,
          56.92830889269624,
          35.15975938581752,
          21.676029334627632,
          -49.20932749508307,
          -0.9467943693764543,
          -64.88391976816985,
          -45.91706103731944,
          -92.33539891691963,
          -13.554825257227318,
          -8.952273908505452,
          -45.61564171946961
         ],
         "yaxis": "y",
         "type": "scatter"
        },
        {
         "customdata": [
          [
           "A Speck of Light - Reimagined",
           "Lights & Motion",
           "lights-and-motion"
          ],
          [
           "A Speck of Light",
           "Lights & Motion",
           "lights-and-motion"
          ],
          [
           "All the Way",
           "Lights & Motion",
           "lights-and-motion"
          ],
          [
           "Anamorphic",
           "Lights & Motion",
           "lights-and-motion"
          ],
          [
           "Anchor",
           "Lights & Motion",
           "lights-and-motion"
          ],
          [
           "Anomaly",
           "Lights & Motion",
           "lights-and-motion"
          ],
          [
           "Antlers",
           "Lights & Motion",
           "lights-and-motion"
          ],
          [
           "Arms Wide Open",
           "Lights & Motion",
           "lights-and-motion"
          ],
          [
           "As the World Goes Away",
           "Lights & Motion",
           "lights-and-motion"
          ],
          [
           "As They Sleep",
           "Lights & Motion",
           "lights-and-motion"
          ],
          [
           "Aurora",
           "Lights & Motion",
           "lights-and-motion"
          ],
          [
           "Deafening Silence",
           "Lights & Motion",
           "lights-and-motion"
          ],
          [
           "DNA",
           "Lights & Motion",
           "lights-and-motion"
          ],
          [
           "Equals",
           "Lights & Motion",
           "lights-and-motion"
          ],
          [
           "Everest",
           "Lights & Motion",
           "lights-and-motion"
          ],
          [
           "Exhale",
           "Lights & Motion",
           "lights-and-motion"
          ],
          [
           "Feathers",
           "Lights & Motion",
           "lights-and-motion"
          ],
          [
           "Fireflies",
           "Lights & Motion",
           "lights-and-motion"
          ],
          [
           "From Dust",
           "Lights & Motion",
           "lights-and-motion"
          ],
          [
           "Glistening - Reimagined",
           "Lights & Motion",
           "lights-and-motion"
          ],
          [
           "Glistening",
           "Lights & Motion",
           "lights-and-motion"
          ],
          [
           "Glow",
           "Lights & Motion",
           "lights-and-motion"
          ],
          [
           "I See You (feat. Frida Sundemo)",
           "Lights & Motion",
           "lights-and-motion"
          ],
          [
           "I See You - Reimagined (feat. Frida Sundemo)",
           "Lights & Motion",
           "lights-and-motion"
          ],
          [
           "Lucid Dreaming",
           "Lights & Motion",
           "lights-and-motion"
          ],
          [
           "Northern Lights",
           "Lights & Motion",
           "lights-and-motion"
          ],
          [
           "Pandora",
           "Lights & Motion",
           "lights-and-motion"
          ],
          [
           "Panic Attack",
           "Lights & Motion",
           "lights-and-motion"
          ],
          [
           "Paper Wings",
           "Lights & Motion",
           "lights-and-motion"
          ],
          [
           "Parachutes",
           "Lights & Motion",
           "lights-and-motion"
          ],
          [
           "Particle Storm",
           "Lights & Motion",
           "lights-and-motion"
          ],
          [
           "Perfect Symmetry",
           "Lights & Motion",
           "lights-and-motion"
          ],
          [
           "Phoenix",
           "Lights & Motion",
           "lights-and-motion"
          ],
          [
           "Reanimation - Revisited 10th Anniversary Edition",
           "Lights & Motion",
           "lights-and-motion"
          ],
          [
           "Reborn",
           "Lights & Motion",
           "lights-and-motion"
          ],
          [
           "Separated Hearts - Reimagined",
           "Lights & Motion",
           "lights-and-motion"
          ],
          [
           "Separated Hearts",
           "Lights & Motion",
           "lights-and-motion"
          ],
          [
           "Silver Lining",
           "Lights & Motion",
           "lights-and-motion"
          ],
          [
           "Sleeping Giant",
           "Lights & Motion",
           "lights-and-motion"
          ],
          [
           "Sypher",
           "Lights & Motion",
           "lights-and-motion"
          ],
          [
           "The First Day",
           "Lights & Motion",
           "lights-and-motion"
          ],
          [
           "The Great Wide Open - Reimagined",
           "Lights & Motion",
           "lights-and-motion"
          ],
          [
           "The Great Wide Open",
           "Lights & Motion",
           "lights-and-motion"
          ],
          [
           "The Moments Before",
           "Lights & Motion",
           "lights-and-motion"
          ],
          [
           "The Spectacular Quiet",
           "Lights & Motion",
           "lights-and-motion"
          ],
          [
           "The World I Remember",
           "Lights & Motion",
           "lights-and-motion"
          ],
          [
           "This Explosion Within",
           "Lights & Motion",
           "lights-and-motion"
          ],
          [
           "Touching Sky",
           "Lights & Motion",
           "lights-and-motion"
          ],
          [
           "We Only Have Forever",
           "Lights & Motion",
           "lights-and-motion"
          ],
          [
           "When Everything Is Falling",
           "Lights & Motion",
           "lights-and-motion"
          ],
          [
           "Wilderness",
           "Lights & Motion",
           "lights-and-motion"
          ],
          [
           "Winter Solstice",
           "Lights & Motion",
           "lights-and-motion"
          ],
          [
           "Wolves (feat. Johan Hasselblom)",
           "Lights & Motion",
           "lights-and-motion"
          ],
          [
           "Wolves - Reimagined (feat. Johan Hasselblom)",
           "Lights & Motion",
           "lights-and-motion"
          ],
          [
           "Woven",
           "Lights & Motion",
           "lights-and-motion"
          ],
          [
           "Year Zero",
           "Lights & Motion",
           "lights-and-motion"
          ]
         ],
         "hovertemplate": "playlist=%{customdata[2]}<br>note_x=%{x}<br>note_y=%{y}<br>song_name=%{customdata[0]}<br>artist=%{customdata[1]}<extra></extra>",
         "legendgroup": "lights-and-motion",
         "marker": {
          "color": "#00cc96",
          "symbol": "circle"
         },
         "mode": "markers",
         "name": "lights-and-motion",
         "orientation": "v",
         "showlegend": true,
         "x": [
          145.74790513708047,
          -29.626800229839336,
          98.91795884957716,
          95.23475877116354,
          -73.87821702227149,
          -118.02941098378145,
          57.0139807656266,
          -7.392598474861653,
          -65.95373881428677,
          6.021564428550646,
          4.853499977682223,
          -13.885536060231852,
          -24.06531727761261,
          137.9707642804306,
          -66.64420688834244,
          -28.13479249657621,
          -2.6362574875798934,
          95.0410614532193,
          41.36027727406203,
          101.5377851284215,
          119.10514227947647,
          112.78637062532623,
          41.71569033797628,
          71.0911761230685,
          46.547711923512345,
          -85.53600725195463,
          -20.749768290867422,
          -49.73589493292964,
          112.81066778869939,
          -28.38872591236282,
          78.11796989978474,
          125.47889328632667,
          93.43721773856537,
          99.50561020621907,
          108.44311559564518,
          133.58509002617748,
          -12.694852490631172,
          -17.280211212202424,
          -144.65657933739735,
          31.96792687013231,
          -2.7931647636945205,
          86.43599773023494,
          34.14195415922651,
          71.13701369070974,
          139.61790183266936,
          43.078743676833774,
          -28.38872591236278,
          -22.943202068525302,
          -28.388725912362823,
          73.43042897080893,
          80.82974455542406,
          140.00736048231985,
          -28.388725912362794,
          -127.67905730043232,
          -81.55319669937303,
          117.7453280192079
         ],
         "xaxis": "x",
         "y": [
          -18.278872759543514,
          120.16672186455759,
          87.07507722577175,
          -90.42993842232718,
          109.1575667490354,
          76.28472053940331,
          118.26605503853351,
          125.62477633673446,
          -121.26412519793533,
          -7.099847866597825,
          126.3686665140296,
          109.6440003905133,
          104.4967746802673,
          -21.03246303684887,
          117.95558294807647,
          110.36899947539928,
          107.59570989500062,
          -97.45340500694503,
          -139.0849349397353,
          -91.004000939902,
          -54.11153500131492,
          -69.02996401804957,
          105.2181761954531,
          -116.86981817944437,
          -109.26159951060959,
          -105.97497398159899,
          106.78489135477639,
          99.47931109258067,
          -79.25343996389144,
          108.58029688331722,
          -102.8748650421241,
          -68.1408419130682,
          109.16598730304501,
          -60.34927215727217,
          70.09901875790916,
          -48.682810348395066,
          -144.1097625950308,
          123.35463786479076,
          -14.115589459086063,
          127.04837532546159,
          99.54385840000661,
          -70.00673970134444,
          98.80483027372702,
          119.55150486512927,
          31.39575244847145,
          110.0569736011329,
          108.58029688331729,
          106.31480952111613,
          108.58029688331726,
          -14.592797482947509,
          108.37920106681659,
          23.203408110257556,
          108.58029688331733,
          -59.86331540848052,
          98.80062035218928,
          70.4626788963406
         ],
         "yaxis": "y",
         "type": "scatter"
        },
        {
         "customdata": [
          [
           "Another Wave from You",
           "M83",
           "m83"
          ],
          [
           "Claudia Lewis",
           "M83",
           "m83"
          ],
          [
           "Echoes of Mine",
           "M83",
           "m83"
          ],
          [
           "Fountains",
           "M83",
           "m83"
          ],
          [
           "Intro",
           "M83",
           "m83"
          ],
          [
           "Klaus I Love You",
           "M83",
           "m83"
          ],
          [
           "Midnight City",
           "M83",
           "m83"
          ],
          [
           "My Tears Are Becoming a Sea",
           "M83",
           "m83"
          ],
          [
           "New Map",
           "M83",
           "m83"
          ],
          [
           "Ok Pal",
           "M83",
           "m83"
          ],
          [
           "Outro",
           "M83",
           "m83"
          ],
          [
           "Raconte-moi une histoire",
           "M83",
           "m83"
          ],
          [
           "Reunion",
           "M83",
           "m83"
          ],
          [
           "Soon, My Friend",
           "M83",
           "m83"
          ],
          [
           "Splendor",
           "M83",
           "m83"
          ],
          [
           "Steve Mcqueen",
           "M83",
           "m83"
          ],
          [
           "This Bright Flash",
           "M83",
           "m83"
          ],
          [
           "Train to Pluton",
           "M83",
           "m83"
          ],
          [
           "Wait",
           "M83",
           "m83"
          ],
          [
           "When Will You Come Home",
           "M83",
           "m83"
          ],
          [
           "Where the Boats Go",
           "M83",
           "m83"
          ],
          [
           "Year One, One Ufo",
           "M83",
           "m83"
          ],
          [
           "Ashes of Our Fathers",
           "M83",
           "m83"
          ],
          [
           "Canyon Battle",
           "M83",
           "m83"
          ],
          [
           "Earth 2077",
           "M83",
           "m83"
          ],
          [
           "Fearful Odds",
           "M83",
           "m83"
          ],
          [
           "I'm Sending You Away",
           "M83",
           "m83"
          ],
          [
           "Jack's Dream",
           "M83",
           "m83"
          ],
          [
           "Losing Control",
           "M83",
           "m83"
          ],
          [
           "Odyssey Rescue",
           "M83",
           "m83"
          ],
          [
           "Radiation Zone",
           "M83",
           "m83"
          ],
          [
           "Raven Rock",
           "M83",
           "m83"
          ],
          [
           "StarWaves",
           "M83",
           "m83"
          ],
          [
           "Tech 49",
           "M83",
           "m83"
          ],
          [
           "Temples of Our Gods",
           "M83",
           "m83"
          ],
          [
           "Undimmed by Time, Unbound by Death",
           "M83",
           "m83"
          ],
          [
           "Waking Up",
           "M83",
           "m83"
          ],
          [
           "You Can't Save Her",
           "M83",
           "m83"
          ],
          [
           "Oblivion",
           "M83",
           "m83"
          ]
         ],
         "hovertemplate": "playlist=%{customdata[2]}<br>note_x=%{x}<br>note_y=%{y}<br>song_name=%{customdata[0]}<br>artist=%{customdata[1]}<extra></extra>",
         "legendgroup": "m83",
         "marker": {
          "color": "#ab63fa",
          "symbol": "circle"
         },
         "mode": "markers",
         "name": "m83",
         "orientation": "v",
         "showlegend": true,
         "x": [
          -124.67209839189827,
          -46.08939257560912,
          78.23781456921627,
          -39.21713854944578,
          -50.432655002415004,
          6.021564428550643,
          74.67485389078854,
          51.36036982138402,
          -29.815933653548047,
          -144.46985257491585,
          76.6983281343713,
          19.679032985748286,
          -45.555096760908484,
          11.557965814565327,
          123.88743737701795,
          112.18557350611444,
          104.84285342358683,
          6.021564428550643,
          31.61128856355121,
          6.021564428550643,
          37.495508354479675,
          -30.235069609451855,
          -24.64732352868145,
          -25.61904744035001,
          -14.853918210558177,
          -6.49506255840179,
          24.70135640846662,
          88.23421962750115,
          -78.65679510192838,
          -25.816801626352806,
          -74.53986705018364,
          145.3547944696218,
          -29.34282367760318,
          19.291963420932678,
          6.021564428550644,
          -73.79298402847067,
          -30.505590398125364,
          -49.82891094901636,
          -47.2320350721716
         ],
         "xaxis": "x",
         "y": [
          -43.40156071234731,
          99.71133835551107,
          101.62124622767475,
          -122.51356568153713,
          93.64155726271616,
          -7.099847866597822,
          116.01969000828097,
          -122.75208471760762,
          110.48851826530061,
          -19.01920695867343,
          -111.34849577162521,
          -138.85788288205927,
          90.41081910072428,
          111.28310413285044,
          43.90117628837488,
          94.87448118575765,
          90.56619917503478,
          -7.09984786659782,
          -137.88524326762123,
          -7.099847866597819,
          -133.31514091688413,
          103.26976036855056,
          113.48696468026907,
          106.1525664823662,
          108.83869106381074,
          116.34637202047377,
          128.2941589644558,
          -108.52054685523515,
          104.0408442527454,
          108.73998397255914,
          92.95759395674678,
          22.85159928644288,
          109.23030606501598,
          120.31136853476733,
          -7.09984786659782,
          -125.09598531646692,
          114.61657524097971,
          114.71840220341387,
          80.3917234232555
         ],
         "yaxis": "y",
         "type": "scatter"
        },
        {
         "customdata": [
          [
           "A Moment Apart",
           "ODESZA",
           "odesza"
          ],
          [
           "Across The Room (feat. Leon Bridges)",
           "ODESZA",
           "odesza"
          ],
          [
           "Boy",
           "ODESZA",
           "odesza"
          ],
          [
           "Corners Of The Earth (feat. RY X)",
           "ODESZA",
           "odesza"
          ],
          [
           "Divide (feat. Kelsey Bulkin)",
           "ODESZA",
           "odesza"
          ],
          [
           "Everything At Your Feet (feat. The Chamanas)",
           "ODESZA",
           "odesza"
          ],
          [
           "Falls (feat. Sasha Alex Sloan)",
           "ODESZA",
           "odesza"
          ],
          [
           "Falls (Reprise) (feat. Sasha Alex Sloan)",
           "ODESZA",
           "odesza"
          ],
          [
           "Falls (Reprise) - Instrumental",
           "ODESZA",
           "odesza"
          ],
          [
           "Higher Ground (feat. Naomi Wild)",
           "ODESZA",
           "odesza"
          ],
          [
           "Higher Ground (Reprise) (feat. Naomi Wild)",
           "ODESZA",
           "odesza"
          ],
          [
           "Higher Ground (Reprise) - Instrumental",
           "ODESZA",
           "odesza"
          ],
          [
           "Intro",
           "ODESZA",
           "odesza"
          ],
          [
           "It’s Only (feat. Zyra) - ODESZA VIP Remix",
           "ODESZA",
           "odesza"
          ],
          [
           "Just A Memory (feat. Regina Spektor)",
           "ODESZA",
           "odesza"
          ],
          [
           "La Ciudad",
           "ODESZA",
           "odesza"
          ],
          [
           "Late Night",
           "ODESZA",
           "odesza"
          ],
          [
           "Line Of Sight (feat. WYNNE & Mansionair)",
           "ODESZA",
           "odesza"
          ],
          [
           "Line Of Sight (Reprise) (feat. WYNNE & Mansionair)",
           "ODESZA",
           "odesza"
          ],
          [
           "Line Of Sight (Reprise) - Instrumental",
           "ODESZA",
           "odesza"
          ],
          [
           "Loyal",
           "ODESZA",
           "odesza"
          ],
          [
           "Memories That You Call (feat. Monsoonsiren) - ODESZA & Golden Features VIP Remix",
           "ODESZA",
           "odesza"
          ],
          [
           "Meridian",
           "ODESZA",
           "odesza"
          ],
          [
           "Show Me",
           "ODESZA",
           "odesza"
          ],
          [
           "Thin Floors And Tall Ceilings",
           "ODESZA",
           "odesza"
          ]
         ],
         "hovertemplate": "playlist=%{customdata[2]}<br>note_x=%{x}<br>note_y=%{y}<br>song_name=%{customdata[0]}<br>artist=%{customdata[1]}<extra></extra>",
         "legendgroup": "odesza",
         "marker": {
          "color": "#FFA15A",
          "symbol": "circle"
         },
         "mode": "markers",
         "name": "odesza",
         "orientation": "v",
         "showlegend": true,
         "x": [
          -118.68323340832423,
          -72.20141140114447,
          -43.0479141186059,
          -91.7041437956126,
          -29.4489198260292,
          -29.31355162603759,
          -33.060938296810704,
          -12.932761220686206,
          -88.18916534148222,
          -94.94922933062722,
          -58.744140528064904,
          35.665867840536,
          10.443030604114597,
          -24.35020653735732,
          66.84973578958775,
          -70.23298090463354,
          -21.447302710230034,
          -104.18810366008306,
          -32.57021788938079,
          -43.047758499390696,
          -43.428858650775936,
          -137.58539239946026,
          -38.637447011930426,
          -121.4229030075807,
          -57.77345348922979
         ],
         "xaxis": "x",
         "y": [
          -25.82036767698552,
          -60.947763429377446,
          82.7185986966387,
          69.60406035112518,
          15.142571327215705,
          105.36277214487717,
          99.48235545020242,
          -84.18654568509085,
          -115.00204937564422,
          27.012332394851338,
          11.723492315808723,
          121.96786471090358,
          -145.35927899702236,
          50.778365540274294,
          101.32531205736353,
          65.06800303752667,
          111.38145045881738,
          -64.86919203106483,
          84.5678111462325,
          105.84219527745181,
          78.21639263594908,
          27.80284743441795,
          90.19449239812641,
          -37.80023692234139,
          112.53021370401075
         ],
         "yaxis": "y",
         "type": "scatter"
        },
        {
         "customdata": [
          [
           "April 10, 2019- Powehi - Image of a Black Hole",
           "Sleeping At Last",
           "sleeping-at-last"
          ],
          [
           "August 12, 2018- Perseid Meteor Shower",
           "Sleeping At Last",
           "sleeping-at-last"
          ],
          [
           "August 21, 2017- Total Solar Eclipse",
           "Sleeping At Last",
           "sleeping-at-last"
          ],
          [
           "December 13, 2017- Geminid Meteor Shower",
           "Sleeping At Last",
           "sleeping-at-last"
          ],
          [
           "December 17, 2018- Farout",
           "Sleeping At Last",
           "sleeping-at-last"
          ],
          [
           "December 21, 2020- The Great Conjunction",
           "Sleeping At Last",
           "sleeping-at-last"
          ],
          [
           "December 25, 2021- Webb Space Telescope - Launch",
           "Sleeping At Last",
           "sleeping-at-last"
          ],
          [
           "February 1, 2023- C2022 E3 - Comet Ztf",
           "Sleeping At Last",
           "sleeping-at-last"
          ],
          [
           "February 13, 2019- Opportunity - Mission Complete",
           "Sleeping At Last",
           "sleeping-at-last"
          ],
          [
           "February 18, 2021- Perseverance - Mars Landing",
           "Sleeping At Last",
           "sleeping-at-last"
          ],
          [
           "January 30, 2020- Spitzer - Final Voyage",
           "Sleeping At Last",
           "sleeping-at-last"
          ],
          [
           "January 31, 2018- Super Blue Blood Moon",
           "Sleeping At Last",
           "sleeping-at-last"
          ],
          [
           "July 22, 2020- C  2020 F3 - Comet Neowise",
           "Sleeping At Last",
           "sleeping-at-last"
          ],
          [
           "July 27, 2018- Total Lunar Eclipse",
           "Sleeping At Last",
           "sleeping-at-last"
          ],
          [
           "July 4, 2020- Aphelion",
           "Sleeping At Last",
           "sleeping-at-last"
          ],
          [
           "June 24, 2022- Parade of Planets",
           "Sleeping At Last",
           "sleeping-at-last"
          ],
          [
           "June 30, 2018- Pds 70b (Birth of a Planet)",
           "Sleeping At Last",
           "sleeping-at-last"
          ],
          [
           "October 30, 2018- Kepler - Goodnight",
           "Sleeping At Last",
           "sleeping-at-last"
          ],
          [
           "September 15, 2017- Cassini - The Grand Finale",
           "Sleeping At Last",
           "sleeping-at-last"
          ]
         ],
         "hovertemplate": "playlist=%{customdata[2]}<br>note_x=%{x}<br>note_y=%{y}<br>song_name=%{customdata[0]}<br>artist=%{customdata[1]}<extra></extra>",
         "legendgroup": "sleeping-at-last",
         "marker": {
          "color": "#19d3f3",
          "symbol": "circle"
         },
         "mode": "markers",
         "name": "sleeping-at-last",
         "orientation": "v",
         "showlegend": true,
         "x": [
          88.59986625625056,
          -0.4427677424936671,
          -94.65444980417942,
          -33.05181622383822,
          108.7908990261013,
          142.02337237370756,
          -74.02496781004422,
          119.12200044016822,
          61.72533055677897,
          -71.48387931757328,
          130.8033359268443,
          128.1815744734359,
          16.5334205216553,
          93.53356120924074,
          97.86435401818018,
          6.136311041619129,
          -33.22531739883898,
          122.30608193245953,
          124.13991620138587
         ],
         "xaxis": "x",
         "y": [
          -19.4340135331642,
          -111.29328547692073,
          -107.71675927480877,
          -119.50463325534258,
          -92.77151520317435,
          -2.103462537930084,
          -110.56438698391744,
          75.2020570176524,
          78.91881629430404,
          -121.77694103461921,
          -17.913849499407217,
          67.88920246235168,
          -136.04161155739035,
          -104.72881647893738,
          -30.77624190303544,
          -112.83860684262898,
          -95.3501085712873,
          -28.129882463244797,
          7.236034190167826
         ],
         "yaxis": "y",
         "type": "scatter"
        },
        {
         "customdata": [
          [
           "It's Ok If You Forget Me",
           "Astrid S",
           "synth-pop"
          ],
          [
           "Young & Alive",
           "Bazzi",
           "synth-pop"
          ],
          [
           "Paralyze",
           "Bjørnskov",
           "synth-pop"
          ],
          [
           "San Diego",
           "BRDGS",
           "synth-pop"
          ],
          [
           "Ear Candy",
           "Caye",
           "synth-pop"
          ],
          [
           "12 Hours",
           "Chris James",
           "synth-pop"
          ],
          [
           "My Universe",
           "Coldplay",
           "synth-pop"
          ],
          [
           "Overdrive",
           "Conan Gray",
           "synth-pop"
          ],
          [
           "Titanic",
           "Cosmo's Midnight",
           "synth-pop"
          ],
          [
           "Champagne For Two",
           "Devin Kennedy",
           "synth-pop"
          ],
          [
           "Another Round",
           "Elina",
           "synth-pop"
          ],
          [
           "How",
           "Elina",
           "synth-pop"
          ],
          [
           "Paper Planes",
           "Elina",
           "synth-pop"
          ],
          [
           "Nirvana",
           "ELLIANA",
           "synth-pop"
          ],
          [
           "Lost In Space",
           "Emmit Fenn",
           "synth-pop"
          ],
          [
           "12-45 - Stripped",
           "Etham",
           "synth-pop"
          ],
          [
           "Purpose - Stripped",
           "Etham",
           "synth-pop"
          ],
          [
           "California",
           "Ethan Dufault",
           "synth-pop"
          ],
          [
           "Hurt The Ones We Love The Most",
           "Evan Blum",
           "synth-pop"
          ],
          [
           "Young Love",
           "Falcon",
           "synth-pop"
          ],
          [
           "I Should've Told You",
           "Fiji Blue",
           "synth-pop"
          ],
          [
           "Waves",
           "Fiji Blue",
           "synth-pop"
          ],
          [
           "Healing",
           "FLETCHER",
           "synth-pop"
          ],
          [
           "hold on",
           "flor",
           "synth-pop"
          ],
          [
           "Automatic (feat. Jake Miller)",
           "Fly By Midnight",
           "synth-pop"
          ],
          [
           "Lovely",
           "Fly By Midnight",
           "synth-pop"
          ],
          [
           "Lonely",
           "Gatsby",
           "synth-pop"
          ],
          [
           "dear me,",
           "Gentle Bones",
           "synth-pop"
          ],
          [
           "I Wouldn't Know Any Better Than You",
           "Gentle Bones",
           "synth-pop"
          ],
          [
           "So Far So Good",
           "Great Good Fine Ok",
           "synth-pop"
          ],
          [
           "Falling",
           "Harry Styles",
           "synth-pop"
          ],
          [
           "sometimes",
           "Heather Sommer",
           "synth-pop"
          ],
          [
           "you heard me",
           "Heather Sommer",
           "synth-pop"
          ],
          [
           "Crying Over You ◐",
           "HONNE",
           "synth-pop"
          ],
          [
           "Day Dreaming",
           "Jack & Jack",
           "synth-pop"
          ],
          [
           "Ross And Rachel",
           "Jake Miller",
           "synth-pop"
          ],
          [
           "Showing You Off",
           "Jake Miller",
           "synth-pop"
          ],
          [
           "Like No One Does",
           "Jake Scott",
           "synth-pop"
          ],
          [
           "CWJBHN",
           "Jake Scott",
           "synth-pop"
          ],
          [
           "drive all night",
           "joan",
           "synth-pop"
          ],
          [
           "i loved you first",
           "joan",
           "synth-pop"
          ],
          [
           "love somebody like you",
           "joan",
           "synth-pop"
          ],
          [
           "magnetic",
           "joan",
           "synth-pop"
          ],
          [
           "6 months",
           "John K",
           "synth-pop"
          ],
          [
           "ilym (feat. ROSIE)",
           "John K",
           "synth-pop"
          ],
          [
           "I Believe",
           "Jonas Brothers",
           "synth-pop"
          ],
          [
           "I Quit Drinking",
           "Kelsea Ballerini",
           "synth-pop"
          ],
          [
           "13",
           "LANY",
           "synth-pop"
          ],
          [
           "dancing in the kitchen",
           "LANY",
           "synth-pop"
          ],
          [
           "dna",
           "LANY",
           "synth-pop"
          ],
          [
           "get away",
           "LANY",
           "synth-pop"
          ],
          [
           "I Don't Wanna Love You Anymore",
           "LANY",
           "synth-pop"
          ],
          [
           "if this is the last time",
           "LANY",
           "synth-pop"
          ],
          [
           "ILYSB - STRIPPED",
           "LANY",
           "synth-pop"
          ],
          [
           "ILYSB",
           "LANY",
           "synth-pop"
          ],
          [
           "Let Me Know",
           "LANY",
           "synth-pop"
          ],
          [
           "Malibu Nights",
           "LANY",
           "synth-pop"
          ],
          [
           "Super Far",
           "LANY",
           "synth-pop"
          ],
          [
           "Thru These Tears",
           "LANY",
           "synth-pop"
          ],
          [
           "up to me",
           "LANY",
           "synth-pop"
          ],
          [
           "you!",
           "LANY",
           "synth-pop"
          ],
          [
           "Tattoos Together",
           "Lauv",
           "synth-pop"
          ],
          [
           "When We Were Younger",
           "Loving Caliber",
           "synth-pop"
          ],
          [
           "Love You Back",
           "Madeon",
           "synth-pop"
          ],
          [
           "colorblind",
           "Mokita",
           "synth-pop"
          ],
          [
           "London",
           "Mokita",
           "synth-pop"
          ],
          [
           "Ready Yet",
           "Mokita",
           "synth-pop"
          ],
          [
           "Shut Up I Love U",
           "Neptune",
           "synth-pop"
          ],
          [
           "This Is Heaven",
           "Nick Jonas",
           "synth-pop"
          ],
          [
           "Plot Twist",
           "NIKI",
           "synth-pop"
          ],
          [
           "Waves",
           "Paige",
           "synth-pop"
          ],
          [
           "Shelter",
           "Porter Robinson",
           "synth-pop"
          ],
          [
           "Outsider",
           "Rachel Grae",
           "synth-pop"
          ],
          [
           "Dandelions",
           "Ruth B.",
           "synth-pop"
          ],
          [
           "Lie",
           "Sasha Alex Sloan",
           "synth-pop"
          ],
          [
           "Day Dreaming",
           "Sopha",
           "synth-pop"
          ],
          [
           "I Always Wanna Die (Sometimes)",
           "The 1975",
           "synth-pop"
          ],
          [
           "I'm In Love With You",
           "The 1975",
           "synth-pop"
          ],
          [
           "It's Not Living (If It's Not With You)",
           "The 1975",
           "synth-pop"
          ],
          [
           "Robbers",
           "The 1975",
           "synth-pop"
          ],
          [
           "She's American",
           "The 1975",
           "synth-pop"
          ],
          [
           "Somebody Else",
           "The 1975",
           "synth-pop"
          ],
          [
           "Going Home",
           "The Aces",
           "synth-pop"
          ],
          [
           "Sunset",
           "The Midnight",
           "synth-pop"
          ],
          [
           "Say So",
           "The Sam Willows",
           "synth-pop"
          ],
          [
           "I Can't Stop Thinking About You",
           "The Shadowboxers",
           "synth-pop"
          ],
          [
           "Strawberries & Cigarettes",
           "Troye Sivan",
           "synth-pop"
          ],
          [
           "If Only for Tonight",
           "Vacation Manor",
           "synth-pop"
          ],
          [
           "rocket science",
           "vaultboy",
           "synth-pop"
          ],
          [
           "no excuses",
           "Virginia To Vegas",
           "synth-pop"
          ],
          [
           "Got A Little Crush On You",
           "Wildflowers",
           "synth-pop"
          ],
          [
           "Talking To Myself",
           "Will Jay",
           "synth-pop"
          ],
          [
           "Dance Like Nobody's Watching",
           "Yuna",
           "synth-pop"
          ],
          [
           "dancing in the kitchen",
           "Zachary Knowles",
           "synth-pop"
          ],
          [
           "stranger to me",
           "Zachary Knowles",
           "synth-pop"
          ],
          [
           "could you love me while i hate myself",
           "Zeph",
           "synth-pop"
          ]
         ],
         "hovertemplate": "playlist=%{customdata[2]}<br>note_x=%{x}<br>note_y=%{y}<br>song_name=%{customdata[0]}<br>artist=%{customdata[1]}<extra></extra>",
         "legendgroup": "synth-pop",
         "marker": {
          "color": "#FF6692",
          "symbol": "circle"
         },
         "mode": "markers",
         "name": "synth-pop",
         "orientation": "v",
         "showlegend": true,
         "x": [
          -47.33732132415542,
          -110.85768761979148,
          3.984252469278178,
          -131.97121508219726,
          -8.96990907720456,
          -142.60384128246054,
          -46.06004937152405,
          -43.41997492863236,
          -126.95176428000947,
          66.60960338261407,
          116.65122056833239,
          91.77095015760949,
          -25.70751071858592,
          76.82937213992959,
          100.54832806512549,
          62.15432937744884,
          -95.38636219390737,
          38.42391501231696,
          83.17537853973222,
          -116.06056458335165,
          -125.1410621865083,
          -140.5574119645478,
          -108.1548339925564,
          -87.29489665772552,
          -60.775210763127376,
          -46.79378820519967,
          -87.78048393004097,
          7.036333590500156,
          44.13715331832748,
          -120.33975412619839,
          22.93100140844527,
          -37.468330830836756,
          -1.3672683158796761,
          -26.40153197305121,
          -102.96220827270919,
          10.71671111787241,
          -133.50674595704933,
          -129.78005177111228,
          -67.22439853755793,
          -102.95610293083148,
          -96.27785790314095,
          -90.9734299731009,
          -117.61829231491978,
          -105.5192868114045,
          51.294385253932745,
          -32.58207436333397,
          -94.52646933894398,
          -72.5130300188272,
          52.94223440528446,
          -109.24421595978808,
          -105.46880742493929,
          -11.233388872919557,
          58.943342691285764,
          -105.35860686232314,
          -60.09586682722475,
          76.3351687686431,
          16.093148399536833,
          26.483064214283537,
          -7.174105965821884,
          -122.73046137402477,
          -33.989310911712984,
          -109.07472709051814,
          -104.48870362222448,
          101.47526167236768,
          -76.36615362107094,
          -7.127445374929832,
          67.57059450818389,
          17.208809791520615,
          -117.66500422699741,
          -85.0439991016063,
          79.53975361356848,
          -54.18013325704399,
          -74.56576096697182,
          -111.39847070757457,
          -66.43658390591929,
          99.42268878433478,
          -59.338716606247054,
          -100.01271911786343,
          -62.831132740379566,
          56.213428733091376,
          -93.29382411468768,
          -28.537377944424353,
          -32.118896953012424,
          -116.47221558013345,
          -135.97483054939613,
          -19.71576479913276,
          -4.0619305893181785,
          -93.19230696372833,
          -113.21326584888433,
          -78.83397074111605,
          -41.43629606645606,
          -114.26066159962319,
          -101.0059069918188,
          -58.38585530204323,
          -130.6299897669819,
          12.83854379172061
         ],
         "xaxis": "x",
         "y": [
          -107.49988083948219,
          -27.977374702717267,
          73.0724659579151,
          -3.2621826347202503,
          108.03868981392358,
          0.8578728514482732,
          -21.78979585263696,
          -33.450898966028035,
          48.471299675897825,
          6.423351553123437,
          45.64923903837764,
          9.18255606345361,
          -124.91509276972302,
          53.0631905476524,
          65.1003738884407,
          -90.4169525873821,
          -84.83128514007662,
          13.034771132165611,
          -86.14469784167078,
          48.40572619907025,
          -17.003371313443886,
          7.353027581097088,
          -8.526340143618556,
          66.6724967195925,
          -20.1208769698757,
          61.025247001726456,
          40.92389282688824,
          60.47531349225353,
          -80.5977751187757,
          43.63640005235525,
          -129.65019326566107,
          10.889911566532568,
          -40.08847400802443,
          78.01310188849894,
          41.92285586665502,
          47.36606535348298,
          29.21032662628291,
          18.96529702954163,
          35.55680758744929,
          1.5858655201186678,
          80.5339709515609,
          9.721949655241678,
          30.62775705136842,
          49.278554411707255,
          77.28928912176032,
          0.2824569874125732,
          93.45784288139308,
          -89.20349881216774,
          31.232905560548136,
          55.564005887288666,
          37.64775339936356,
          97.17931341487285,
          90.74050018933741,
          -79.40242153743213,
          94.54053439026613,
          68.6993551051854,
          96.37527077246992,
          114.19597307233225,
          89.0157725519647,
          -32.234122555462264,
          103.03560954476178,
          72.0287421842016,
          -56.43833346036983,
          97.46193968669097,
          -26.89375912068521,
          67.80457680935058,
          23.12450919534946,
          78.82696182199071,
          37.69971916174282,
          -62.334044568639065,
          12.570460422483038,
          79.37913133298667,
          -97.30852875723278,
          3.239581968432059,
          -40.09392541354779,
          40.33196926916082,
          64.21632133386146,
          -25.53520913355118,
          82.53927879572649,
          106.4625387968596,
          -27.20314753986454,
          100.06869796967538,
          80.27597255569636,
          60.51229575077076,
          -36.31143137866392,
          75.30451942663032,
          81.10083079251906,
          85.64346213412264,
          -56.53606041730073,
          44.90607085622486,
          19.07785608754536,
          -21.004572514027423,
          72.64580913986612,
          39.610468694977264,
          -53.05389850439559,
          -120.0723745409409
         ],
         "yaxis": "y",
         "type": "scatter"
        },
        {
         "customdata": [
          [
           "Allure",
           "Tony Anderson",
           "tony-anderson"
          ],
          [
           "Aurora",
           "Tony Anderson",
           "tony-anderson"
          ],
          [
           "Chasm",
           "Tony Anderson",
           "tony-anderson"
          ],
          [
           "Darkest Night",
           "Tony Anderson",
           "tony-anderson"
          ],
          [
           "Deep Waters - Original Sketch",
           "Tony Anderson",
           "tony-anderson"
          ],
          [
           "Deep Waters",
           "Tony Anderson",
           "tony-anderson"
          ],
          [
           "Delusion",
           "Tony Anderson",
           "tony-anderson"
          ],
          [
           "Eyes Wide Open - Cinematic Mix",
           "Tony Anderson",
           "tony-anderson"
          ],
          [
           "Eyes Wide Open",
           "Tony Anderson",
           "tony-anderson"
          ],
          [
           "Face of the Father",
           "Tony Anderson",
           "tony-anderson"
          ],
          [
           "Farthest Seas",
           "Tony Anderson",
           "tony-anderson"
          ],
          [
           "Finding Your Heart",
           "Tony Anderson",
           "tony-anderson"
          ],
          [
           "Halo",
           "Tony Anderson",
           "tony-anderson"
          ],
          [
           "High Tide",
           "Tony Anderson",
           "tony-anderson"
          ],
          [
           "Immanuel",
           "Tony Anderson",
           "tony-anderson"
          ],
          [
           "Immersion",
           "Tony Anderson",
           "tony-anderson"
          ],
          [
           "In the Distance",
           "Tony Anderson",
           "tony-anderson"
          ],
          [
           "Incision",
           "Tony Anderson",
           "tony-anderson"
          ],
          [
           "Like a Child - Cinematic Mix",
           "Tony Anderson",
           "tony-anderson"
          ],
          [
           "Low Tide",
           "Tony Anderson",
           "tony-anderson"
          ],
          [
           "Lune",
           "Tony Anderson",
           "tony-anderson"
          ],
          [
           "Morning's Wings",
           "Tony Anderson",
           "tony-anderson"
          ],
          [
           "Nightingale",
           "Tony Anderson",
           "tony-anderson"
          ],
          [
           "No Place on Earth",
           "Tony Anderson",
           "tony-anderson"
          ],
          [
           "Nocturne in Paris",
           "Tony Anderson",
           "tony-anderson"
          ],
          [
           "Perennial",
           "Tony Anderson",
           "tony-anderson"
          ],
          [
           "Resurrect",
           "Tony Anderson",
           "tony-anderson"
          ],
          [
           "Retour",
           "Tony Anderson",
           "tony-anderson"
          ],
          [
           "Shalom",
           "Tony Anderson",
           "tony-anderson"
          ],
          [
           "Slipstream",
           "Tony Anderson",
           "tony-anderson"
          ],
          [
           "Something Can Grow",
           "Tony Anderson",
           "tony-anderson"
          ],
          [
           "Spiriteaux",
           "Tony Anderson",
           "tony-anderson"
          ],
          [
           "The King",
           "Tony Anderson",
           "tony-anderson"
          ],
          [
           "The Way Home",
           "Tony Anderson",
           "tony-anderson"
          ],
          [
           "Thin Place - Abbreviated",
           "Tony Anderson",
           "tony-anderson"
          ],
          [
           "Thin Place",
           "Tony Anderson",
           "tony-anderson"
          ],
          [
           "We Are One",
           "Tony Anderson",
           "tony-anderson"
          ],
          [
           "Wir Sind Gleich",
           "Tony Anderson",
           "tony-anderson"
          ],
          [
           "Younger",
           "Tony Anderson",
           "tony-anderson"
          ],
          [
           "Éclosion",
           "Tony Anderson",
           "tony-anderson"
          ],
          [
           "Éphémère",
           "Tony Anderson",
           "tony-anderson"
          ],
          [
           "Arpège",
           "Tony Anderson",
           "tony-anderson"
          ],
          [
           "Nuit",
           "Tony Anderson",
           "tony-anderson"
          ],
          [
           "Tenderness - Woven Remix",
           "Tony Anderson",
           "tony-anderson"
          ],
          [
           "Tenderness",
           "Tony Anderson",
           "tony-anderson"
          ],
          [
           "Cambodia - Ross Lara Remix",
           "Tony Anderson",
           "tony-anderson"
          ],
          [
           "Cambodia",
           "Tony Anderson",
           "tony-anderson"
          ],
          [
           "Oyarsa",
           "Tony Anderson",
           "tony-anderson"
          ]
         ],
         "hovertemplate": "playlist=%{customdata[2]}<br>note_x=%{x}<br>note_y=%{y}<br>song_name=%{customdata[0]}<br>artist=%{customdata[1]}<extra></extra>",
         "legendgroup": "tony-anderson",
         "marker": {
          "color": "#B6E880",
          "symbol": "circle"
         },
         "mode": "markers",
         "name": "tony-anderson",
         "orientation": "v",
         "showlegend": true,
         "x": [
          2.5420114054255456,
          26.514401180646107,
          24.670205327440833,
          -36.49743988420332,
          67.57497223907433,
          105.30797556259004,
          6.021564428550643,
          -49.43262590686239,
          82.02966084304768,
          11.372764183084596,
          131.40727727434427,
          28.59433756857233,
          128.07839471720555,
          134.06426744493587,
          89.93201941611952,
          60.26383399033218,
          -77.66785535304916,
          41.5020872882194,
          144.95145410276834,
          68.95698378286062,
          103.4676879899316,
          -11.290640514328132,
          -111.69823742923057,
          57.922910386617225,
          108.59523708595907,
          115.21283999386495,
          7.184257227912821,
          120.06475675495747,
          94.16609031336364,
          33.907333242630706,
          112.81839813147288,
          36.32520764050657,
          138.94884030366222,
          -0.5223729968050747,
          105.65764936244717,
          88.16690945754422,
          -56.60651626676719,
          -104.74271118460136,
          71.53772810542223,
          109.60704737345483,
          124.38181596967746,
          99.27715069599468,
          130.85410242048775,
          -40.99775996404842,
          104.58011698316024,
          -22.038615868097764,
          41.91508850643599,
          88.6543837684148
         ],
         "xaxis": "x",
         "y": [
          -142.99625459757053,
          93.85851886936078,
          -111.71053226552583,
          110.44863626193067,
          -100.99794000188459,
          -38.97328326049855,
          -7.099847866597809,
          -124.41054146436245,
          86.03621070506337,
          124.05399965644658,
          21.86875974487523,
          79.50150710541566,
          -42.75129743878093,
          47.54412037977714,
          70.017932729261,
          -120.35126193091358,
          -54.21928159456047,
          119.18494406277493,
          8.12788397653984,
          -122.89245663932319,
          1.4274521157378683,
          113.39395274528839,
          -81.46049028042763,
          -129.7580941957905,
          -50.03365026836315,
          -74.13153099296046,
          79.97616772659917,
          -69.64769073612584,
          101.28781228559846,
          -63.209856788510415,
          -13.026671161569363,
          -121.85277724153319,
          -33.994009094581536,
          124.8832725556833,
          -18.150991370484636,
          -60.287859384990405,
          -133.32221113199012,
          94.78027292183536,
          62.65382599436913,
          -59.666839441062535,
          -58.87821340553096,
          -71.54744893513953,
          52.238935505716015,
          112.87454134684701,
          -44.0290253330604,
          106.7555511949347,
          86.5282329382549,
          76.8030086661363
         ],
         "yaxis": "y",
         "type": "scatter"
        }
       ],
       "layout": {
        "template": {
         "data": {
          "histogram2dcontour": [
           {
            "type": "histogram2dcontour",
            "colorbar": {
             "outlinewidth": 0,
             "ticks": ""
            },
            "colorscale": [
             [
              0.0,
              "#0d0887"
             ],
             [
              0.1111111111111111,
              "#46039f"
             ],
             [
              0.2222222222222222,
              "#7201a8"
             ],
             [
              0.3333333333333333,
              "#9c179e"
             ],
             [
              0.4444444444444444,
              "#bd3786"
             ],
             [
              0.5555555555555556,
              "#d8576b"
             ],
             [
              0.6666666666666666,
              "#ed7953"
             ],
             [
              0.7777777777777778,
              "#fb9f3a"
             ],
             [
              0.8888888888888888,
              "#fdca26"
             ],
             [
              1.0,
              "#f0f921"
             ]
            ]
           }
          ],
          "choropleth": [
           {
            "type": "choropleth",
            "colorbar": {
             "outlinewidth": 0,
             "ticks": ""
            }
           }
          ],
          "histogram2d": [
           {
            "type": "histogram2d",
            "colorbar": {
             "outlinewidth": 0,
             "ticks": ""
            },
            "colorscale": [
             [
              0.0,
              "#0d0887"
             ],
             [
              0.1111111111111111,
              "#46039f"
             ],
             [
              0.2222222222222222,
              "#7201a8"
             ],
             [
              0.3333333333333333,
              "#9c179e"
             ],
             [
              0.4444444444444444,
              "#bd3786"
             ],
             [
              0.5555555555555556,
              "#d8576b"
             ],
             [
              0.6666666666666666,
              "#ed7953"
             ],
             [
              0.7777777777777778,
              "#fb9f3a"
             ],
             [
              0.8888888888888888,
              "#fdca26"
             ],
             [
              1.0,
              "#f0f921"
             ]
            ]
           }
          ],
          "heatmap": [
           {
            "type": "heatmap",
            "colorbar": {
             "outlinewidth": 0,
             "ticks": ""
            },
            "colorscale": [
             [
              0.0,
              "#0d0887"
             ],
             [
              0.1111111111111111,
              "#46039f"
             ],
             [
              0.2222222222222222,
              "#7201a8"
             ],
             [
              0.3333333333333333,
              "#9c179e"
             ],
             [
              0.4444444444444444,
              "#bd3786"
             ],
             [
              0.5555555555555556,
              "#d8576b"
             ],
             [
              0.6666666666666666,
              "#ed7953"
             ],
             [
              0.7777777777777778,
              "#fb9f3a"
             ],
             [
              0.8888888888888888,
              "#fdca26"
             ],
             [
              1.0,
              "#f0f921"
             ]
            ]
           }
          ],
          "heatmapgl": [
           {
            "type": "heatmapgl",
            "colorbar": {
             "outlinewidth": 0,
             "ticks": ""
            },
            "colorscale": [
             [
              0.0,
              "#0d0887"
             ],
             [
              0.1111111111111111,
              "#46039f"
             ],
             [
              0.2222222222222222,
              "#7201a8"
             ],
             [
              0.3333333333333333,
              "#9c179e"
             ],
             [
              0.4444444444444444,
              "#bd3786"
             ],
             [
              0.5555555555555556,
              "#d8576b"
             ],
             [
              0.6666666666666666,
              "#ed7953"
             ],
             [
              0.7777777777777778,
              "#fb9f3a"
             ],
             [
              0.8888888888888888,
              "#fdca26"
             ],
             [
              1.0,
              "#f0f921"
             ]
            ]
           }
          ],
          "contourcarpet": [
           {
            "type": "contourcarpet",
            "colorbar": {
             "outlinewidth": 0,
             "ticks": ""
            }
           }
          ],
          "contour": [
           {
            "type": "contour",
            "colorbar": {
             "outlinewidth": 0,
             "ticks": ""
            },
            "colorscale": [
             [
              0.0,
              "#0d0887"
             ],
             [
              0.1111111111111111,
              "#46039f"
             ],
             [
              0.2222222222222222,
              "#7201a8"
             ],
             [
              0.3333333333333333,
              "#9c179e"
             ],
             [
              0.4444444444444444,
              "#bd3786"
             ],
             [
              0.5555555555555556,
              "#d8576b"
             ],
             [
              0.6666666666666666,
              "#ed7953"
             ],
             [
              0.7777777777777778,
              "#fb9f3a"
             ],
             [
              0.8888888888888888,
              "#fdca26"
             ],
             [
              1.0,
              "#f0f921"
             ]
            ]
           }
          ],
          "surface": [
           {
            "type": "surface",
            "colorbar": {
             "outlinewidth": 0,
             "ticks": ""
            },
            "colorscale": [
             [
              0.0,
              "#0d0887"
             ],
             [
              0.1111111111111111,
              "#46039f"
             ],
             [
              0.2222222222222222,
              "#7201a8"
             ],
             [
              0.3333333333333333,
              "#9c179e"
             ],
             [
              0.4444444444444444,
              "#bd3786"
             ],
             [
              0.5555555555555556,
              "#d8576b"
             ],
             [
              0.6666666666666666,
              "#ed7953"
             ],
             [
              0.7777777777777778,
              "#fb9f3a"
             ],
             [
              0.8888888888888888,
              "#fdca26"
             ],
             [
              1.0,
              "#f0f921"
             ]
            ]
           }
          ],
          "mesh3d": [
           {
            "type": "mesh3d",
            "colorbar": {
             "outlinewidth": 0,
             "ticks": ""
            }
           }
          ],
          "scatter": [
           {
            "marker": {
             "line": {
              "color": "#283442"
             }
            },
            "type": "scatter"
           }
          ],
          "parcoords": [
           {
            "type": "parcoords",
            "line": {
             "colorbar": {
              "outlinewidth": 0,
              "ticks": ""
             }
            }
           }
          ],
          "scatterpolargl": [
           {
            "type": "scatterpolargl",
            "marker": {
             "colorbar": {
              "outlinewidth": 0,
              "ticks": ""
             }
            }
           }
          ],
          "bar": [
           {
            "error_x": {
             "color": "#f2f5fa"
            },
            "error_y": {
             "color": "#f2f5fa"
            },
            "marker": {
             "line": {
              "color": "rgb(17,17,17)",
              "width": 0.5
             },
             "pattern": {
              "fillmode": "overlay",
              "size": 10,
              "solidity": 0.2
             }
            },
            "type": "bar"
           }
          ],
          "scattergeo": [
           {
            "type": "scattergeo",
            "marker": {
             "colorbar": {
              "outlinewidth": 0,
              "ticks": ""
             }
            }
           }
          ],
          "scatterpolar": [
           {
            "type": "scatterpolar",
            "marker": {
             "colorbar": {
              "outlinewidth": 0,
              "ticks": ""
             }
            }
           }
          ],
          "histogram": [
           {
            "marker": {
             "pattern": {
              "fillmode": "overlay",
              "size": 10,
              "solidity": 0.2
             }
            },
            "type": "histogram"
           }
          ],
          "scattergl": [
           {
            "marker": {
             "line": {
              "color": "#283442"
             }
            },
            "type": "scattergl"
           }
          ],
          "scatter3d": [
           {
            "type": "scatter3d",
            "line": {
             "colorbar": {
              "outlinewidth": 0,
              "ticks": ""
             }
            },
            "marker": {
             "colorbar": {
              "outlinewidth": 0,
              "ticks": ""
             }
            }
           }
          ],
          "scattermapbox": [
           {
            "type": "scattermapbox",
            "marker": {
             "colorbar": {
              "outlinewidth": 0,
              "ticks": ""
             }
            }
           }
          ],
          "scatterternary": [
           {
            "type": "scatterternary",
            "marker": {
             "colorbar": {
              "outlinewidth": 0,
              "ticks": ""
             }
            }
           }
          ],
          "scattercarpet": [
           {
            "type": "scattercarpet",
            "marker": {
             "colorbar": {
              "outlinewidth": 0,
              "ticks": ""
             }
            }
           }
          ],
          "carpet": [
           {
            "aaxis": {
             "endlinecolor": "#A2B1C6",
             "gridcolor": "#506784",
             "linecolor": "#506784",
             "minorgridcolor": "#506784",
             "startlinecolor": "#A2B1C6"
            },
            "baxis": {
             "endlinecolor": "#A2B1C6",
             "gridcolor": "#506784",
             "linecolor": "#506784",
             "minorgridcolor": "#506784",
             "startlinecolor": "#A2B1C6"
            },
            "type": "carpet"
           }
          ],
          "table": [
           {
            "cells": {
             "fill": {
              "color": "#506784"
             },
             "line": {
              "color": "rgb(17,17,17)"
             }
            },
            "header": {
             "fill": {
              "color": "#2a3f5f"
             },
             "line": {
              "color": "rgb(17,17,17)"
             }
            },
            "type": "table"
           }
          ],
          "barpolar": [
           {
            "marker": {
             "line": {
              "color": "rgb(17,17,17)",
              "width": 0.5
             },
             "pattern": {
              "fillmode": "overlay",
              "size": 10,
              "solidity": 0.2
             }
            },
            "type": "barpolar"
           }
          ],
          "pie": [
           {
            "automargin": true,
            "type": "pie"
           }
          ]
         },
         "layout": {
          "autotypenumbers": "strict",
          "colorway": [
           "#636efa",
           "#EF553B",
           "#00cc96",
           "#ab63fa",
           "#FFA15A",
           "#19d3f3",
           "#FF6692",
           "#B6E880",
           "#FF97FF",
           "#FECB52"
          ],
          "font": {
           "color": "#f2f5fa"
          },
          "hovermode": "closest",
          "hoverlabel": {
           "align": "left"
          },
          "paper_bgcolor": "rgb(17,17,17)",
          "plot_bgcolor": "rgb(17,17,17)",
          "polar": {
           "bgcolor": "rgb(17,17,17)",
           "angularaxis": {
            "gridcolor": "#506784",
            "linecolor": "#506784",
            "ticks": ""
           },
           "radialaxis": {
            "gridcolor": "#506784",
            "linecolor": "#506784",
            "ticks": ""
           }
          },
          "ternary": {
           "bgcolor": "rgb(17,17,17)",
           "aaxis": {
            "gridcolor": "#506784",
            "linecolor": "#506784",
            "ticks": ""
           },
           "baxis": {
            "gridcolor": "#506784",
            "linecolor": "#506784",
            "ticks": ""
           },
           "caxis": {
            "gridcolor": "#506784",
            "linecolor": "#506784",
            "ticks": ""
           }
          },
          "coloraxis": {
           "colorbar": {
            "outlinewidth": 0,
            "ticks": ""
           }
          },
          "colorscale": {
           "sequential": [
            [
             0.0,
             "#0d0887"
            ],
            [
             0.1111111111111111,
             "#46039f"
            ],
            [
             0.2222222222222222,
             "#7201a8"
            ],
            [
             0.3333333333333333,
             "#9c179e"
            ],
            [
             0.4444444444444444,
             "#bd3786"
            ],
            [
             0.5555555555555556,
             "#d8576b"
            ],
            [
             0.6666666666666666,
             "#ed7953"
            ],
            [
             0.7777777777777778,
             "#fb9f3a"
            ],
            [
             0.8888888888888888,
             "#fdca26"
            ],
            [
             1.0,
             "#f0f921"
            ]
           ],
           "sequentialminus": [
            [
             0.0,
             "#0d0887"
            ],
            [
             0.1111111111111111,
             "#46039f"
            ],
            [
             0.2222222222222222,
             "#7201a8"
            ],
            [
             0.3333333333333333,
             "#9c179e"
            ],
            [
             0.4444444444444444,
             "#bd3786"
            ],
            [
             0.5555555555555556,
             "#d8576b"
            ],
            [
             0.6666666666666666,
             "#ed7953"
            ],
            [
             0.7777777777777778,
             "#fb9f3a"
            ],
            [
             0.8888888888888888,
             "#fdca26"
            ],
            [
             1.0,
             "#f0f921"
            ]
           ],
           "diverging": [
            [
             0,
             "#8e0152"
            ],
            [
             0.1,
             "#c51b7d"
            ],
            [
             0.2,
             "#de77ae"
            ],
            [
             0.3,
             "#f1b6da"
            ],
            [
             0.4,
             "#fde0ef"
            ],
            [
             0.5,
             "#f7f7f7"
            ],
            [
             0.6,
             "#e6f5d0"
            ],
            [
             0.7,
             "#b8e186"
            ],
            [
             0.8,
             "#7fbc41"
            ],
            [
             0.9,
             "#4d9221"
            ],
            [
             1,
             "#276419"
            ]
           ]
          },
          "xaxis": {
           "gridcolor": "#283442",
           "linecolor": "#506784",
           "ticks": "",
           "title": {
            "standoff": 15
           },
           "zerolinecolor": "#283442",
           "automargin": true,
           "zerolinewidth": 2
          },
          "yaxis": {
           "gridcolor": "#283442",
           "linecolor": "#506784",
           "ticks": "",
           "title": {
            "standoff": 15
           },
           "zerolinecolor": "#283442",
           "automargin": true,
           "zerolinewidth": 2
          },
          "scene": {
           "xaxis": {
            "backgroundcolor": "rgb(17,17,17)",
            "gridcolor": "#506784",
            "linecolor": "#506784",
            "showbackground": true,
            "ticks": "",
            "zerolinecolor": "#C8D4E3",
            "gridwidth": 2
           },
           "yaxis": {
            "backgroundcolor": "rgb(17,17,17)",
            "gridcolor": "#506784",
            "linecolor": "#506784",
            "showbackground": true,
            "ticks": "",
            "zerolinecolor": "#C8D4E3",
            "gridwidth": 2
           },
           "zaxis": {
            "backgroundcolor": "rgb(17,17,17)",
            "gridcolor": "#506784",
            "linecolor": "#506784",
            "showbackground": true,
            "ticks": "",
            "zerolinecolor": "#C8D4E3",
            "gridwidth": 2
           }
          },
          "shapedefaults": {
           "line": {
            "color": "#f2f5fa"
           }
          },
          "annotationdefaults": {
           "arrowcolor": "#f2f5fa",
           "arrowhead": 0,
           "arrowwidth": 1
          },
          "geo": {
           "bgcolor": "rgb(17,17,17)",
           "landcolor": "rgb(17,17,17)",
           "subunitcolor": "#506784",
           "showland": true,
           "showlakes": true,
           "lakecolor": "rgb(17,17,17)"
          },
          "title": {
           "x": 0.05
          },
          "updatemenudefaults": {
           "bgcolor": "#506784",
           "borderwidth": 0
          },
          "sliderdefaults": {
           "bgcolor": "#C8D4E3",
           "borderwidth": 1,
           "bordercolor": "rgb(17,17,17)",
           "tickwidth": 0
          },
          "mapbox": {
           "style": "dark"
          }
         }
        },
        "xaxis": {
         "anchor": "y",
         "domain": [
          0.0,
          1.0
         ],
         "title": {
          "text": "note_x"
         }
        },
        "yaxis": {
         "anchor": "x",
         "domain": [
          0.0,
          1.0
         ],
         "title": {
          "text": "note_y"
         }
        },
        "legend": {
         "title": {
          "text": "playlist"
         },
         "tracegroupgap": 0
        },
        "margin": {
         "t": 60
        }
       },
       "config": {
        "plotlyServerURL": "https://plotly.com"
       }
      },
      "text/html": "<div>                            <div id=\"ea4ec5a7-4128-4647-a6ee-e3f2dd64823c\" class=\"plotly-graph-div\" style=\"height:525px; width:100%;\"></div>            <script type=\"text/javascript\">                require([\"plotly\"], function(Plotly) {                    window.PLOTLYENV=window.PLOTLYENV || {};                                    if (document.getElementById(\"ea4ec5a7-4128-4647-a6ee-e3f2dd64823c\")) {                    Plotly.newPlot(                        \"ea4ec5a7-4128-4647-a6ee-e3f2dd64823c\",                        [{\"customdata\":[[\"Ivan Sings\",\"Aram Khachaturian\",\"kino\"],[\"Pr\\u00e9lude in E Minor, Op. 28, No. 4\",\"Fr\\u00e9d\\u00e9ric Chopin\",\"kino\"],[\"Above the Trees\",\"Kino\",\"kino\"],[\"All\",\"Kino\",\"kino\"],[\"Anew\",\"Kino\",\"kino\"],[\"As a Cloud\",\"Kino\",\"kino\"],[\"Away\",\"Kino\",\"kino\"],[\"Bloom\",\"Kino\",\"kino\"],[\"Charleston\",\"Kino\",\"kino\"],[\"Donau\",\"Kino\",\"kino\"],[\"Each and Every (Ambient Mix)\",\"Kino\",\"kino\"],[\"Each and Every (Piano)\",\"Kino\",\"kino\"],[\"Each and Every\",\"Kino\",\"kino\"],[\"Erl\\u00f6st  Redeemed\",\"Kino\",\"kino\"],[\"Gathering\",\"Kino\",\"kino\"],[\"God Bless Us, Every One\",\"Kino\",\"kino\"],[\"Hearth\",\"Kino\",\"kino\"],[\"H\\u0113o\",\"Kino\",\"kino\"],[\"In Earnest\",\"Kino\",\"kino\"],[\"Leinwand (Piano)\",\"Kino\",\"kino\"],[\"Leinwand\",\"Kino\",\"kino\"],[\"Lightly Tread\",\"Kino\",\"kino\"],[\"Lone\",\"Kino\",\"kino\"],[\"Many Colors\",\"Kino\",\"kino\"],[\"Merrily, Merrily\",\"Kino\",\"kino\"],[\"O Tannenbaum\",\"Kino\",\"kino\"],[\"Presidio\",\"Kino\",\"kino\"],[\"Rambuteau\",\"Kino\",\"kino\"],[\"Seafarer's Quartet\",\"Kino\",\"kino\"],[\"Seems\",\"Kino\",\"kino\"],[\"Silent Night\",\"Kino\",\"kino\"],[\"Silver Lake\",\"Kino\",\"kino\"],[\"St John's\",\"Kino\",\"kino\"],[\"Sunshine - Original\",\"Kino\",\"kino\"],[\"Swell\",\"Kino\",\"kino\"],[\"The Holly and the Ivy\",\"Kino\",\"kino\"],[\"The Weight Unbearable (Piano)\",\"Kino\",\"kino\"],[\"The Weight Unbearable\",\"Kino\",\"kino\"],[\"Till\",\"Kino\",\"kino\"],[\"Trio in E-flat Minor\",\"Kino\",\"kino\"],[\"Under\",\"Kino\",\"kino\"],[\"Water Lilies\",\"Kino\",\"kino\"],[\"Wide Awake\",\"Kino\",\"kino\"],[\"Willeth\",\"Kino\",\"kino\"],[\"Wolden\",\"Kino\",\"kino\"],[\"Yule\",\"Kino\",\"kino\"],[\"Piano Sonata No. 14 in C-Sharp Minor, Op. 27 No. 2 \\u201cMoonlight\\u201d- I. Adagio sostenuto\",\"Ludwig van Beethoven\",\"kino\"]],\"hovertemplate\":\"playlist=%{customdata[2]}<br>note_x=%{x}<br>note_y=%{y}<br>song_name=%{customdata[0]}<br>artist=%{customdata[1]}<extra></extra>\",\"legendgroup\":\"kino\",\"marker\":{\"color\":\"#636efa\",\"symbol\":\"circle\"},\"mode\":\"markers\",\"name\":\"kino\",\"orientation\":\"v\",\"showlegend\":true,\"x\":[110.10249982491247,133.16491366255576,-92.46032641630602,121.21722333660705,29.3103323777039,-13.046351197979678,55.50733834977315,-27.956365872024012,15.364389299599866,29.68532309791063,-15.663699233592988,-17.843659263355363,-43.15812320513169,-24.399354201450517,-12.268835694415388,122.08844692538236,70.23828984355995,-24.853516116524585,83.76431338444631,-101.20175216400101,-98.99068575696863,121.08489406596807,112.05242623977816,64.31534119397979,-36.40754284434469,-7.069007605799421,94.58653422142174,94.16058424533148,122.78953258367085,124.6854782438714,-32.667327483949244,117.79711028811678,102.28640630402876,-63.68610472417026,118.04475185783147,133.38372203629018,-28.417088748571622,128.11467067296036,-2.9326962686462115,100.22314361602672,102.90461990868769,37.21561857003381,-35.828725280742994,133.45615555688772,74.28722161523498,110.61861040692746,53.461968977979005],\"xaxis\":\"x\",\"y\":[-5.322378956950027,4.224942451228167,-68.2163528360019,17.9957819077411,-117.8328340784494,-127.01292303462293,-127.85556255184613,-108.90318600886053,-120.10839443120292,113.71866854002528,-111.42497076005537,-113.25440475807622,-121.07734320564099,100.68063014476854,103.84309480187487,-3.684366159327438,-54.048927625970244,-140.11051363602908,-114.4618074519803,-101.57295962285149,-102.9365728557702,36.55372748666986,14.851058788524169,-18.236160374084335,-102.02288280351547,-136.38844617971176,33.76348517590388,-2.5358965459293414,-48.77134699420785,-17.528058485570376,-134.55348967860584,83.03058762910209,51.905552557701256,-1.170848473961398,59.32359411756815,-28.94427603814562,-133.2482934171934,-5.441921282280633,-143.16521888764822,-28.41510854561397,-79.52626520982407,-49.88515188379576,-75.12332514308207,33.929741572134134,-125.81874172626694,36.95857820834815,-78.54447517834532],\"yaxis\":\"y\",\"type\":\"scatter\"},{\"customdata\":[[\"But it's Destiny\",\"10cm\",\"korean-ost\"],[\"\\ub098\\uc758 \\uc5b4\\uae68\\uc5d0 \\uae30\\ub300\\uc5b4\\uc694\",\"10cm\",\"korean-ost\"],[\"Is You\",\"AILEE\",\"korean-ost\"],[\"How can I love the heartbreak, you're the one I love\",\"AKMU\",\"korean-ost\"],[\"How can I love the heartbreak, you`re the one I love\",\"AKMU\",\"korean-ost\"],[\"Amusement Park\",\"BAEKHYUN\",\"korean-ost\"],[\"\\ub108\\ub97c \\uc0ac\\ub791\\ud558\\uace0 \\uc788\\uc5b4\",\"BAEKHYUN\",\"korean-ost\"],[\"Beautiful goodbye\",\"CHEN\",\"korean-ost\"],[\"Flower\",\"CHEN\",\"korean-ost\"],[\"I'll be there\",\"CHEN\",\"korean-ost\"],[\"My dear\",\"CHEN\",\"korean-ost\"],[\"Sorry not sorry\",\"CHEN\",\"korean-ost\"],[\"Everytime\",\"CHEN\",\"korean-ost\"],[\"Wish\",\"Choi Yuree\",\"korean-ost\"],[\"Beautiful\",\"Crush\",\"korean-ost\"],[\"Let Us Go\",\"Crush\",\"korean-ost\"],[\"No Words\",\"Crush\",\"korean-ost\"],[\"My Love\",\"DAVICHI\",\"korean-ost\"],[\"Please Don't Cry\",\"DAVICHI\",\"korean-ost\"],[\"Sunset\",\"DAVICHI\",\"korean-ost\"],[\"\\ub178\\ub825\\ud574\\ubcfc\\uac8c\\uc694 I'll try\",\"DAY6\",\"korean-ost\"],[\"I'm In Love With You\",\"Dvwn\",\"korean-ost\"],[\"No Problem\",\"Dvwn\",\"korean-ost\"],[\"\\uae34 \\ubc24\\uc774 \\uc624\\uba74\",\"Eddy Kim\",\"korean-ost\"],[\"Rain or Shine\",\"Elaine\",\"korean-ost\"],[\"Hate Everything - Korean Version\",\"GSoul\",\"korean-ost\"],[\"\\uae30\\uc5b5\\ud574\\uc918\\uc694 \\ub0b4 \\ubaa8\\ub4e0 \\ub0a0\\uacfc \\uadf8\\ub54c\\ub97c\",\"Gummy\",\"korean-ost\"],[\"Slowly Fall\",\"Ha Hyun Sang\",\"korean-ost\"],[\"\\ub0b4 \\ub9d8\\uc744 \\ubcfc \\uc218 \\uc788\\ub098\\uc694\",\"HEIZE\",\"korean-ost\"],[\"Deeply\",\"HEN\",\"korean-ost\"],[\"To You\",\"HEN\",\"korean-ost\"],[\"It's You\",\"HENRY\",\"korean-ost\"],[\"Untitled Love Song\",\"HENRY\",\"korean-ost\"],[\"Ending Scene\",\"IU\",\"korean-ost\"],[\"Give You My Heart\",\"IU\",\"korean-ost\"],[\"Love poem\",\"IU\",\"korean-ost\"],[\"My sea\",\"IU\",\"korean-ost\"],[\"Holiday\",\"JeHwi\",\"korean-ost\"],[\"Stardust love song\",\"JIHYO\",\"korean-ost\"],[\"What Lies Ahead\",\"Joe Layne\",\"korean-ost\"],[\"Times Like This\",\"Josh Daniel\",\"korean-ost\"],[\"Do you want to walk with me (Romance 101 X Jukjae)\",\"Jukjae\",\"korean-ost\"],[\"The Days Like Pictures\",\"Jukjae\",\"korean-ost\"],[\"\\ub098\\ub97c \\ucc3e\\uc544\\uc11c\",\"Jukjae\",\"korean-ost\"],[\"\\ubcc4 \\ubcf4\\ub7ec \\uac00\\uc790\",\"Jukjae\",\"korean-ost\"],[\"Day & Night\",\"Jung Seung Hwan\",\"korean-ost\"],[\"Because I Miss You\",\"Jung Yong Hwa\",\"korean-ost\"],[\"For First-time Lovers (Banmal-song)\",\"Jung Yong Hwa\",\"korean-ost\"],[\"I Go\",\"Kei (Kim Ji Yeon)\",\"korean-ost\"],[\"\\ubcf4\\uace0\\uc2f6\\ub2e4 (From. '\\ub4dc\\ub77c\\ub9c8 \\ucc9c\\uad6d\\uc758 \\uacc4\\ub2e8')\",\"Kim Bum Soo\",\"korean-ost\"],[\"One Day\",\"Kim Feel\",\"korean-ost\"],[\"Someday, The Boy\",\"Kim Feel\",\"korean-ost\"],[\"Vacance in September\",\"KIM JAE HWAN\",\"korean-ost\"],[\"All of My Days\",\"KIMSEJEONG\",\"korean-ost\"],[\"If Only\",\"KIMSEJEONG\",\"korean-ost\"],[\"Lonely Night\",\"Kwon Jin Ah\",\"korean-ost\"],[\"The End\",\"Kwon Jin Ah\",\"korean-ost\"],[\"I Won't Heartbreaken\",\"Lee KwangHee\",\"korean-ost\"],[\"In My Heart\",\"LIM YEON\",\"korean-ost\"],[\"Lost\",\"LIM YEON\",\"korean-ost\"],[\"Say Yes\",\"Loco\",\"korean-ost\"],[\"Be There For You\",\"NCT DREAM\",\"korean-ost\"],[\"Rainbow - Acoustic Version\",\"O.WHEN\",\"korean-ost\"],[\"Me After You\",\"Paul Kim\",\"korean-ost\"],[\"\\uc548\\ub155\",\"Paul Kim\",\"korean-ost\"],[\"But I'm Trying to Tell You How Much I Love You (With Moonbit)\",\"saevom\",\"korean-ost\"],[\"For You\",\"Sam Kim\",\"korean-ost\"],[\"Sunny Day Rainy Day (feat. Kassy)\",\"Sanchez\",\"korean-ost\"],[\"Your world\",\"Seol Hoseung (SURL)\",\"korean-ost\"],[\"Grown Ups\",\"Sondia\",\"korean-ost\"],[\"Hug\",\"Sondia\",\"korean-ost\"],[\"Our Souls at Night\",\"Sondia\",\"korean-ost\"],[\"\\uc6b0\\ub9b0 \\uce5c\\uad6c\\ubfd0\\uc77c\\uae4c\",\"Sondia\",\"korean-ost\"],[\"She\",\"Standing Egg\",\"korean-ost\"],[\"Miracle (Feat. Paul Kim)\",\"Stella Jang\",\"korean-ost\"],[\"One more time, One more chance\",\"Sung Si Kyung\",\"korean-ost\"],[\"\\u541b\\u304c\\u3044\\u308b\\u3088\",\"Sung Si Kyung\",\"korean-ost\"],[\"Two People\",\"SURAN\",\"korean-ost\"],[\"Inevitable\",\"Suzy\",\"korean-ost\"],[\"Starlight\",\"TAEIL\",\"korean-ost\"],[\"\\uadf8\\ub300\\ub77c\\ub294 \\uc2dc\",\"TAEYEON\",\"korean-ost\"],[\"Two Words\",\"WENDY\",\"korean-ost\"],[\"What If Love\",\"WENDY\",\"korean-ost\"],[\"\\ub0b4\\uc77c\\ub3c4 \\ub610 \\ub0b4\\uc77c\\ub3c4 Tomorrow After Tomorrow\",\"WISUE\",\"korean-ost\"],[\"Your Existence\",\"Wonstein\",\"korean-ost\"],[\"Free\",\"Xydo\",\"korean-ost\"],[\"\\ub108\\ub9cc \\ub108\\ub9cc \\ub108\\ub9cc\",\"Yang Dail\",\"korean-ost\"],[\"With me\",\"Yang Dail\",\"korean-ost\"],[\"Here I Am Again\",\"Yerin Baek\",\"korean-ost\"],[\"Maze\",\"YONGZOO\",\"korean-ost\"],[\"ALWAYS\",\"Yoon Mirae\",\"korean-ost\"],[\"Flower\",\"Yoon Mirae\",\"korean-ost\"],[\"You Are My World\",\"Yoon Mirae\",\"korean-ost\"],[\"I Just Want To Stay With You\",\"Zion.T\",\"korean-ost\"],[\"Faith\",\"\\uc774\\uc900\\ud654\",\"korean-ost\"]],\"hovertemplate\":\"playlist=%{customdata[2]}<br>note_x=%{x}<br>note_y=%{y}<br>song_name=%{customdata[0]}<br>artist=%{customdata[1]}<extra></extra>\",\"legendgroup\":\"korean-ost\",\"marker\":{\"color\":\"#EF553B\",\"symbol\":\"circle\"},\"mode\":\"markers\",\"name\":\"korean-ost\",\"orientation\":\"v\",\"showlegend\":true,\"x\":[-36.260510148240805,112.68423394566803,-23.095349722643768,9.686951863140038,9.686814285310732,-28.248009350699117,18.475892543211778,-58.36709627137447,50.004524836050955,-99.58762112868368,-31.598003588371153,101.94179874095865,-105.13341957047305,120.94485963692256,-111.23092594453102,-9.420570106457884,-69.84243717203478,-72.58255330587976,-109.8171443298533,-32.271677026947515,81.89052525522193,15.315689375980073,114.51591578391604,-22.69083043432551,-9.876725718160785,-99.67129714911034,-36.9489715981356,-115.77485265069785,42.11536817579249,-60.988514058318145,55.455305729894846,-1.211833318168692,-16.616322363021755,48.69717728840613,77.1182566603257,50.33202201520825,-19.22124134200669,8.325599131701184,70.93396365462021,-73.41862626009335,47.070691680535376,28.595032032160773,83.87957529497419,35.588447193100805,55.024665957334264,-91.17328600488287,-102.66521323037173,-69.1713167870509,-59.508341762807824,39.75901288866843,-86.89029607019931,73.68086463668402,-53.48586792412455,-62.31945260914273,-56.498960189660586,-118.67527422030068,-57.88225515336502,35.7758681084957,-42.899895724578116,63.77218480259584,-84.05157192655459,20.56090448913757,-69.1547841772033,-12.970897430310325,36.516463408669686,73.0776614854643,-23.138694481248095,-125.5812557210267,8.417206745163435,18.00910046718948,-27.418292996973555,-8.342662399859533,-61.48453077589998,29.11647054275457,-118.41390180932348,31.04209647561111,31.425597454578895,16.33388809129615,5.249367175980545,-91.89832184381774,23.0197923932302,-90.33422949825999,-114.32207837373171,-61.96540754016137,-94.891248081919,-46.146741299043896,-101.97635809370466,-34.456900309589365,-15.980739820059059,-72.42825980034885,-103.3929676690697,-52.30149683879706,-127.40856343682678,48.9360712269784,58.75265979441022],\"xaxis\":\"x\",\"y\":[68.10124903334261,57.86588766837824,-26.117127573512494,-66.22482950795472,-66.22489426048827,16.470477315720515,2.651783328287178,-103.11617961464644,-23.490179656265934,-37.379797414748985,-8.919181873550441,19.595364431299906,-68.66897160787119,28.80881208525876,-40.08457741985199,-59.030632470181466,-24.971792840971087,-41.28237899310531,14.249295676551178,-59.2690529683872,-48.84970190552139,40.19021149843948,-37.9140238084785,-76.1647923781131,-120.94196420151772,-74.8313405706742,-84.41569287697861,-74.39032658009371,-88.04603166991222,-71.09230608086807,-67.76921425376612,16.192089737449955,80.53008115408656,-93.52390938675524,30.120542001891852,9.817972359923653,25.079473131848587,-45.05620783082039,-32.80740655355133,-112.51478294150255,-57.527410647355474,-25.08319552979723,-3.990771850721588,46.23314795801485,47.21465174809717,-54.03124157605294,-19.41428569313433,28.3952639946579,-45.700824606287696,-8.262786471038671,-21.162099484515316,-89.54477467385234,64.77937435499724,-58.300076332849585,-83.90267241233269,8.922895248572035,-71.92394560809609,-100.07019835880035,-94.02133970136379,-79.23016080036722,49.623478198144184,-24.313465526260266,39.71985669031991,-14.51916902781622,52.76095649980722,-58.59009797211766,-95.99604457566201,32.32126962584595,93.59811744071729,-79.17665715799386,25.29876021312173,-91.3229284676274,-108.19081133928026,-57.21265890028258,-50.73148467305733,25.410475978782994,1.5731914044041397,-98.43548439886077,-61.38393854246247,15.821350401077067,-86.49190126653012,-10.937565060394885,17.726539950986492,-79.38240213596444,56.92830889269624,35.15975938581752,21.676029334627632,-49.20932749508307,-0.9467943693764543,-64.88391976816985,-45.91706103731944,-92.33539891691963,-13.554825257227318,-8.952273908505452,-45.61564171946961],\"yaxis\":\"y\",\"type\":\"scatter\"},{\"customdata\":[[\"A Speck of Light - Reimagined\",\"Lights & Motion\",\"lights-and-motion\"],[\"A Speck of Light\",\"Lights & Motion\",\"lights-and-motion\"],[\"All the Way\",\"Lights & Motion\",\"lights-and-motion\"],[\"Anamorphic\",\"Lights & Motion\",\"lights-and-motion\"],[\"Anchor\",\"Lights & Motion\",\"lights-and-motion\"],[\"Anomaly\",\"Lights & Motion\",\"lights-and-motion\"],[\"Antlers\",\"Lights & Motion\",\"lights-and-motion\"],[\"Arms Wide Open\",\"Lights & Motion\",\"lights-and-motion\"],[\"As the World Goes Away\",\"Lights & Motion\",\"lights-and-motion\"],[\"As They Sleep\",\"Lights & Motion\",\"lights-and-motion\"],[\"Aurora\",\"Lights & Motion\",\"lights-and-motion\"],[\"Deafening Silence\",\"Lights & Motion\",\"lights-and-motion\"],[\"DNA\",\"Lights & Motion\",\"lights-and-motion\"],[\"Equals\",\"Lights & Motion\",\"lights-and-motion\"],[\"Everest\",\"Lights & Motion\",\"lights-and-motion\"],[\"Exhale\",\"Lights & Motion\",\"lights-and-motion\"],[\"Feathers\",\"Lights & Motion\",\"lights-and-motion\"],[\"Fireflies\",\"Lights & Motion\",\"lights-and-motion\"],[\"From Dust\",\"Lights & Motion\",\"lights-and-motion\"],[\"Glistening - Reimagined\",\"Lights & Motion\",\"lights-and-motion\"],[\"Glistening\",\"Lights & Motion\",\"lights-and-motion\"],[\"Glow\",\"Lights & Motion\",\"lights-and-motion\"],[\"I See You (feat. Frida Sundemo)\",\"Lights & Motion\",\"lights-and-motion\"],[\"I See You - Reimagined (feat. Frida Sundemo)\",\"Lights & Motion\",\"lights-and-motion\"],[\"Lucid Dreaming\",\"Lights & Motion\",\"lights-and-motion\"],[\"Northern Lights\",\"Lights & Motion\",\"lights-and-motion\"],[\"Pandora\",\"Lights & Motion\",\"lights-and-motion\"],[\"Panic Attack\",\"Lights & Motion\",\"lights-and-motion\"],[\"Paper Wings\",\"Lights & Motion\",\"lights-and-motion\"],[\"Parachutes\",\"Lights & Motion\",\"lights-and-motion\"],[\"Particle Storm\",\"Lights & Motion\",\"lights-and-motion\"],[\"Perfect Symmetry\",\"Lights & Motion\",\"lights-and-motion\"],[\"Phoenix\",\"Lights & Motion\",\"lights-and-motion\"],[\"Reanimation - Revisited 10th Anniversary Edition\",\"Lights & Motion\",\"lights-and-motion\"],[\"Reborn\",\"Lights & Motion\",\"lights-and-motion\"],[\"Separated Hearts - Reimagined\",\"Lights & Motion\",\"lights-and-motion\"],[\"Separated Hearts\",\"Lights & Motion\",\"lights-and-motion\"],[\"Silver Lining\",\"Lights & Motion\",\"lights-and-motion\"],[\"Sleeping Giant\",\"Lights & Motion\",\"lights-and-motion\"],[\"Sypher\",\"Lights & Motion\",\"lights-and-motion\"],[\"The First Day\",\"Lights & Motion\",\"lights-and-motion\"],[\"The Great Wide Open - Reimagined\",\"Lights & Motion\",\"lights-and-motion\"],[\"The Great Wide Open\",\"Lights & Motion\",\"lights-and-motion\"],[\"The Moments Before\",\"Lights & Motion\",\"lights-and-motion\"],[\"The Spectacular Quiet\",\"Lights & Motion\",\"lights-and-motion\"],[\"The World I Remember\",\"Lights & Motion\",\"lights-and-motion\"],[\"This Explosion Within\",\"Lights & Motion\",\"lights-and-motion\"],[\"Touching Sky\",\"Lights & Motion\",\"lights-and-motion\"],[\"We Only Have Forever\",\"Lights & Motion\",\"lights-and-motion\"],[\"When Everything Is Falling\",\"Lights & Motion\",\"lights-and-motion\"],[\"Wilderness\",\"Lights & Motion\",\"lights-and-motion\"],[\"Winter Solstice\",\"Lights & Motion\",\"lights-and-motion\"],[\"Wolves (feat. Johan Hasselblom)\",\"Lights & Motion\",\"lights-and-motion\"],[\"Wolves - Reimagined (feat. Johan Hasselblom)\",\"Lights & Motion\",\"lights-and-motion\"],[\"Woven\",\"Lights & Motion\",\"lights-and-motion\"],[\"Year Zero\",\"Lights & Motion\",\"lights-and-motion\"]],\"hovertemplate\":\"playlist=%{customdata[2]}<br>note_x=%{x}<br>note_y=%{y}<br>song_name=%{customdata[0]}<br>artist=%{customdata[1]}<extra></extra>\",\"legendgroup\":\"lights-and-motion\",\"marker\":{\"color\":\"#00cc96\",\"symbol\":\"circle\"},\"mode\":\"markers\",\"name\":\"lights-and-motion\",\"orientation\":\"v\",\"showlegend\":true,\"x\":[145.74790513708047,-29.626800229839336,98.91795884957716,95.23475877116354,-73.87821702227149,-118.02941098378145,57.0139807656266,-7.392598474861653,-65.95373881428677,6.021564428550646,4.853499977682223,-13.885536060231852,-24.06531727761261,137.9707642804306,-66.64420688834244,-28.13479249657621,-2.6362574875798934,95.0410614532193,41.36027727406203,101.5377851284215,119.10514227947647,112.78637062532623,41.71569033797628,71.0911761230685,46.547711923512345,-85.53600725195463,-20.749768290867422,-49.73589493292964,112.81066778869939,-28.38872591236282,78.11796989978474,125.47889328632667,93.43721773856537,99.50561020621907,108.44311559564518,133.58509002617748,-12.694852490631172,-17.280211212202424,-144.65657933739735,31.96792687013231,-2.7931647636945205,86.43599773023494,34.14195415922651,71.13701369070974,139.61790183266936,43.078743676833774,-28.38872591236278,-22.943202068525302,-28.388725912362823,73.43042897080893,80.82974455542406,140.00736048231985,-28.388725912362794,-127.67905730043232,-81.55319669937303,117.7453280192079],\"xaxis\":\"x\",\"y\":[-18.278872759543514,120.16672186455759,87.07507722577175,-90.42993842232718,109.1575667490354,76.28472053940331,118.26605503853351,125.62477633673446,-121.26412519793533,-7.099847866597825,126.3686665140296,109.6440003905133,104.4967746802673,-21.03246303684887,117.95558294807647,110.36899947539928,107.59570989500062,-97.45340500694503,-139.0849349397353,-91.004000939902,-54.11153500131492,-69.02996401804957,105.2181761954531,-116.86981817944437,-109.26159951060959,-105.97497398159899,106.78489135477639,99.47931109258067,-79.25343996389144,108.58029688331722,-102.8748650421241,-68.1408419130682,109.16598730304501,-60.34927215727217,70.09901875790916,-48.682810348395066,-144.1097625950308,123.35463786479076,-14.115589459086063,127.04837532546159,99.54385840000661,-70.00673970134444,98.80483027372702,119.55150486512927,31.39575244847145,110.0569736011329,108.58029688331729,106.31480952111613,108.58029688331726,-14.592797482947509,108.37920106681659,23.203408110257556,108.58029688331733,-59.86331540848052,98.80062035218928,70.4626788963406],\"yaxis\":\"y\",\"type\":\"scatter\"},{\"customdata\":[[\"Another Wave from You\",\"M83\",\"m83\"],[\"Claudia Lewis\",\"M83\",\"m83\"],[\"Echoes of Mine\",\"M83\",\"m83\"],[\"Fountains\",\"M83\",\"m83\"],[\"Intro\",\"M83\",\"m83\"],[\"Klaus I Love You\",\"M83\",\"m83\"],[\"Midnight City\",\"M83\",\"m83\"],[\"My Tears Are Becoming a Sea\",\"M83\",\"m83\"],[\"New Map\",\"M83\",\"m83\"],[\"Ok Pal\",\"M83\",\"m83\"],[\"Outro\",\"M83\",\"m83\"],[\"Raconte-moi une histoire\",\"M83\",\"m83\"],[\"Reunion\",\"M83\",\"m83\"],[\"Soon, My Friend\",\"M83\",\"m83\"],[\"Splendor\",\"M83\",\"m83\"],[\"Steve Mcqueen\",\"M83\",\"m83\"],[\"This Bright Flash\",\"M83\",\"m83\"],[\"Train to Pluton\",\"M83\",\"m83\"],[\"Wait\",\"M83\",\"m83\"],[\"When Will You Come Home\",\"M83\",\"m83\"],[\"Where the Boats Go\",\"M83\",\"m83\"],[\"Year One, One Ufo\",\"M83\",\"m83\"],[\"Ashes of Our Fathers\",\"M83\",\"m83\"],[\"Canyon Battle\",\"M83\",\"m83\"],[\"Earth 2077\",\"M83\",\"m83\"],[\"Fearful Odds\",\"M83\",\"m83\"],[\"I'm Sending You Away\",\"M83\",\"m83\"],[\"Jack's Dream\",\"M83\",\"m83\"],[\"Losing Control\",\"M83\",\"m83\"],[\"Odyssey Rescue\",\"M83\",\"m83\"],[\"Radiation Zone\",\"M83\",\"m83\"],[\"Raven Rock\",\"M83\",\"m83\"],[\"StarWaves\",\"M83\",\"m83\"],[\"Tech 49\",\"M83\",\"m83\"],[\"Temples of Our Gods\",\"M83\",\"m83\"],[\"Undimmed by Time, Unbound by Death\",\"M83\",\"m83\"],[\"Waking Up\",\"M83\",\"m83\"],[\"You Can't Save Her\",\"M83\",\"m83\"],[\"Oblivion\",\"M83\",\"m83\"]],\"hovertemplate\":\"playlist=%{customdata[2]}<br>note_x=%{x}<br>note_y=%{y}<br>song_name=%{customdata[0]}<br>artist=%{customdata[1]}<extra></extra>\",\"legendgroup\":\"m83\",\"marker\":{\"color\":\"#ab63fa\",\"symbol\":\"circle\"},\"mode\":\"markers\",\"name\":\"m83\",\"orientation\":\"v\",\"showlegend\":true,\"x\":[-124.67209839189827,-46.08939257560912,78.23781456921627,-39.21713854944578,-50.432655002415004,6.021564428550643,74.67485389078854,51.36036982138402,-29.815933653548047,-144.46985257491585,76.6983281343713,19.679032985748286,-45.555096760908484,11.557965814565327,123.88743737701795,112.18557350611444,104.84285342358683,6.021564428550643,31.61128856355121,6.021564428550643,37.495508354479675,-30.235069609451855,-24.64732352868145,-25.61904744035001,-14.853918210558177,-6.49506255840179,24.70135640846662,88.23421962750115,-78.65679510192838,-25.816801626352806,-74.53986705018364,145.3547944696218,-29.34282367760318,19.291963420932678,6.021564428550644,-73.79298402847067,-30.505590398125364,-49.82891094901636,-47.2320350721716],\"xaxis\":\"x\",\"y\":[-43.40156071234731,99.71133835551107,101.62124622767475,-122.51356568153713,93.64155726271616,-7.099847866597822,116.01969000828097,-122.75208471760762,110.48851826530061,-19.01920695867343,-111.34849577162521,-138.85788288205927,90.41081910072428,111.28310413285044,43.90117628837488,94.87448118575765,90.56619917503478,-7.09984786659782,-137.88524326762123,-7.099847866597819,-133.31514091688413,103.26976036855056,113.48696468026907,106.1525664823662,108.83869106381074,116.34637202047377,128.2941589644558,-108.52054685523515,104.0408442527454,108.73998397255914,92.95759395674678,22.85159928644288,109.23030606501598,120.31136853476733,-7.09984786659782,-125.09598531646692,114.61657524097971,114.71840220341387,80.3917234232555],\"yaxis\":\"y\",\"type\":\"scatter\"},{\"customdata\":[[\"A Moment Apart\",\"ODESZA\",\"odesza\"],[\"Across The Room (feat. Leon Bridges)\",\"ODESZA\",\"odesza\"],[\"Boy\",\"ODESZA\",\"odesza\"],[\"Corners Of The Earth (feat. RY X)\",\"ODESZA\",\"odesza\"],[\"Divide (feat. Kelsey Bulkin)\",\"ODESZA\",\"odesza\"],[\"Everything At Your Feet (feat. The Chamanas)\",\"ODESZA\",\"odesza\"],[\"Falls (feat. Sasha Alex Sloan)\",\"ODESZA\",\"odesza\"],[\"Falls (Reprise) (feat. Sasha Alex Sloan)\",\"ODESZA\",\"odesza\"],[\"Falls (Reprise) - Instrumental\",\"ODESZA\",\"odesza\"],[\"Higher Ground (feat. Naomi Wild)\",\"ODESZA\",\"odesza\"],[\"Higher Ground (Reprise) (feat. Naomi Wild)\",\"ODESZA\",\"odesza\"],[\"Higher Ground (Reprise) - Instrumental\",\"ODESZA\",\"odesza\"],[\"Intro\",\"ODESZA\",\"odesza\"],[\"It\\u2019s Only (feat. Zyra) - ODESZA VIP Remix\",\"ODESZA\",\"odesza\"],[\"Just A Memory (feat. Regina Spektor)\",\"ODESZA\",\"odesza\"],[\"La Ciudad\",\"ODESZA\",\"odesza\"],[\"Late Night\",\"ODESZA\",\"odesza\"],[\"Line Of Sight (feat. WYNNE & Mansionair)\",\"ODESZA\",\"odesza\"],[\"Line Of Sight (Reprise) (feat. WYNNE & Mansionair)\",\"ODESZA\",\"odesza\"],[\"Line Of Sight (Reprise) - Instrumental\",\"ODESZA\",\"odesza\"],[\"Loyal\",\"ODESZA\",\"odesza\"],[\"Memories That You Call (feat. Monsoonsiren) - ODESZA & Golden Features VIP Remix\",\"ODESZA\",\"odesza\"],[\"Meridian\",\"ODESZA\",\"odesza\"],[\"Show Me\",\"ODESZA\",\"odesza\"],[\"Thin Floors And Tall Ceilings\",\"ODESZA\",\"odesza\"]],\"hovertemplate\":\"playlist=%{customdata[2]}<br>note_x=%{x}<br>note_y=%{y}<br>song_name=%{customdata[0]}<br>artist=%{customdata[1]}<extra></extra>\",\"legendgroup\":\"odesza\",\"marker\":{\"color\":\"#FFA15A\",\"symbol\":\"circle\"},\"mode\":\"markers\",\"name\":\"odesza\",\"orientation\":\"v\",\"showlegend\":true,\"x\":[-118.68323340832423,-72.20141140114447,-43.0479141186059,-91.7041437956126,-29.4489198260292,-29.31355162603759,-33.060938296810704,-12.932761220686206,-88.18916534148222,-94.94922933062722,-58.744140528064904,35.665867840536,10.443030604114597,-24.35020653735732,66.84973578958775,-70.23298090463354,-21.447302710230034,-104.18810366008306,-32.57021788938079,-43.047758499390696,-43.428858650775936,-137.58539239946026,-38.637447011930426,-121.4229030075807,-57.77345348922979],\"xaxis\":\"x\",\"y\":[-25.82036767698552,-60.947763429377446,82.7185986966387,69.60406035112518,15.142571327215705,105.36277214487717,99.48235545020242,-84.18654568509085,-115.00204937564422,27.012332394851338,11.723492315808723,121.96786471090358,-145.35927899702236,50.778365540274294,101.32531205736353,65.06800303752667,111.38145045881738,-64.86919203106483,84.5678111462325,105.84219527745181,78.21639263594908,27.80284743441795,90.19449239812641,-37.80023692234139,112.53021370401075],\"yaxis\":\"y\",\"type\":\"scatter\"},{\"customdata\":[[\"April 10, 2019- Powehi - Image of a Black Hole\",\"Sleeping At Last\",\"sleeping-at-last\"],[\"August 12, 2018- Perseid Meteor Shower\",\"Sleeping At Last\",\"sleeping-at-last\"],[\"August 21, 2017- Total Solar Eclipse\",\"Sleeping At Last\",\"sleeping-at-last\"],[\"December 13, 2017- Geminid Meteor Shower\",\"Sleeping At Last\",\"sleeping-at-last\"],[\"December 17, 2018- Farout\",\"Sleeping At Last\",\"sleeping-at-last\"],[\"December 21, 2020- The Great Conjunction\",\"Sleeping At Last\",\"sleeping-at-last\"],[\"December 25, 2021- Webb Space Telescope - Launch\",\"Sleeping At Last\",\"sleeping-at-last\"],[\"February 1, 2023- C2022 E3 - Comet Ztf\",\"Sleeping At Last\",\"sleeping-at-last\"],[\"February 13, 2019- Opportunity - Mission Complete\",\"Sleeping At Last\",\"sleeping-at-last\"],[\"February 18, 2021- Perseverance - Mars Landing\",\"Sleeping At Last\",\"sleeping-at-last\"],[\"January 30, 2020- Spitzer - Final Voyage\",\"Sleeping At Last\",\"sleeping-at-last\"],[\"January 31, 2018- Super Blue Blood Moon\",\"Sleeping At Last\",\"sleeping-at-last\"],[\"July 22, 2020- C  2020 F3 - Comet Neowise\",\"Sleeping At Last\",\"sleeping-at-last\"],[\"July 27, 2018- Total Lunar Eclipse\",\"Sleeping At Last\",\"sleeping-at-last\"],[\"July 4, 2020- Aphelion\",\"Sleeping At Last\",\"sleeping-at-last\"],[\"June 24, 2022- Parade of Planets\",\"Sleeping At Last\",\"sleeping-at-last\"],[\"June 30, 2018- Pds 70b (Birth of a Planet)\",\"Sleeping At Last\",\"sleeping-at-last\"],[\"October 30, 2018- Kepler - Goodnight\",\"Sleeping At Last\",\"sleeping-at-last\"],[\"September 15, 2017- Cassini - The Grand Finale\",\"Sleeping At Last\",\"sleeping-at-last\"]],\"hovertemplate\":\"playlist=%{customdata[2]}<br>note_x=%{x}<br>note_y=%{y}<br>song_name=%{customdata[0]}<br>artist=%{customdata[1]}<extra></extra>\",\"legendgroup\":\"sleeping-at-last\",\"marker\":{\"color\":\"#19d3f3\",\"symbol\":\"circle\"},\"mode\":\"markers\",\"name\":\"sleeping-at-last\",\"orientation\":\"v\",\"showlegend\":true,\"x\":[88.59986625625056,-0.4427677424936671,-94.65444980417942,-33.05181622383822,108.7908990261013,142.02337237370756,-74.02496781004422,119.12200044016822,61.72533055677897,-71.48387931757328,130.8033359268443,128.1815744734359,16.5334205216553,93.53356120924074,97.86435401818018,6.136311041619129,-33.22531739883898,122.30608193245953,124.13991620138587],\"xaxis\":\"x\",\"y\":[-19.4340135331642,-111.29328547692073,-107.71675927480877,-119.50463325534258,-92.77151520317435,-2.103462537930084,-110.56438698391744,75.2020570176524,78.91881629430404,-121.77694103461921,-17.913849499407217,67.88920246235168,-136.04161155739035,-104.72881647893738,-30.77624190303544,-112.83860684262898,-95.3501085712873,-28.129882463244797,7.236034190167826],\"yaxis\":\"y\",\"type\":\"scatter\"},{\"customdata\":[[\"It's Ok If You Forget Me\",\"Astrid S\",\"synth-pop\"],[\"Young & Alive\",\"Bazzi\",\"synth-pop\"],[\"Paralyze\",\"Bj\\u00f8rnskov\",\"synth-pop\"],[\"San Diego\",\"BRDGS\",\"synth-pop\"],[\"Ear Candy\",\"Caye\",\"synth-pop\"],[\"12 Hours\",\"Chris James\",\"synth-pop\"],[\"My Universe\",\"Coldplay\",\"synth-pop\"],[\"Overdrive\",\"Conan Gray\",\"synth-pop\"],[\"Titanic\",\"Cosmo's Midnight\",\"synth-pop\"],[\"Champagne For Two\",\"Devin Kennedy\",\"synth-pop\"],[\"Another Round\",\"Elina\",\"synth-pop\"],[\"How\",\"Elina\",\"synth-pop\"],[\"Paper Planes\",\"Elina\",\"synth-pop\"],[\"Nirvana\",\"ELLIANA\",\"synth-pop\"],[\"Lost In Space\",\"Emmit Fenn\",\"synth-pop\"],[\"12-45 - Stripped\",\"Etham\",\"synth-pop\"],[\"Purpose - Stripped\",\"Etham\",\"synth-pop\"],[\"California\",\"Ethan Dufault\",\"synth-pop\"],[\"Hurt The Ones We Love The Most\",\"Evan Blum\",\"synth-pop\"],[\"Young Love\",\"Falcon\",\"synth-pop\"],[\"I Should've Told You\",\"Fiji Blue\",\"synth-pop\"],[\"Waves\",\"Fiji Blue\",\"synth-pop\"],[\"Healing\",\"FLETCHER\",\"synth-pop\"],[\"hold on\",\"flor\",\"synth-pop\"],[\"Automatic (feat. Jake Miller)\",\"Fly By Midnight\",\"synth-pop\"],[\"Lovely\",\"Fly By Midnight\",\"synth-pop\"],[\"Lonely\",\"Gatsby\",\"synth-pop\"],[\"dear me,\",\"Gentle Bones\",\"synth-pop\"],[\"I Wouldn't Know Any Better Than You\",\"Gentle Bones\",\"synth-pop\"],[\"So Far So Good\",\"Great Good Fine Ok\",\"synth-pop\"],[\"Falling\",\"Harry Styles\",\"synth-pop\"],[\"sometimes\",\"Heather Sommer\",\"synth-pop\"],[\"you heard me\",\"Heather Sommer\",\"synth-pop\"],[\"Crying Over You \\u25d0\",\"HONNE\",\"synth-pop\"],[\"Day Dreaming\",\"Jack & Jack\",\"synth-pop\"],[\"Ross And Rachel\",\"Jake Miller\",\"synth-pop\"],[\"Showing You Off\",\"Jake Miller\",\"synth-pop\"],[\"Like No One Does\",\"Jake Scott\",\"synth-pop\"],[\"CWJBHN\",\"Jake Scott\",\"synth-pop\"],[\"drive all night\",\"joan\",\"synth-pop\"],[\"i loved you first\",\"joan\",\"synth-pop\"],[\"love somebody like you\",\"joan\",\"synth-pop\"],[\"magnetic\",\"joan\",\"synth-pop\"],[\"6 months\",\"John K\",\"synth-pop\"],[\"ilym (feat. ROSIE)\",\"John K\",\"synth-pop\"],[\"I Believe\",\"Jonas Brothers\",\"synth-pop\"],[\"I Quit Drinking\",\"Kelsea Ballerini\",\"synth-pop\"],[\"13\",\"LANY\",\"synth-pop\"],[\"dancing in the kitchen\",\"LANY\",\"synth-pop\"],[\"dna\",\"LANY\",\"synth-pop\"],[\"get away\",\"LANY\",\"synth-pop\"],[\"I Don't Wanna Love You Anymore\",\"LANY\",\"synth-pop\"],[\"if this is the last time\",\"LANY\",\"synth-pop\"],[\"ILYSB - STRIPPED\",\"LANY\",\"synth-pop\"],[\"ILYSB\",\"LANY\",\"synth-pop\"],[\"Let Me Know\",\"LANY\",\"synth-pop\"],[\"Malibu Nights\",\"LANY\",\"synth-pop\"],[\"Super Far\",\"LANY\",\"synth-pop\"],[\"Thru These Tears\",\"LANY\",\"synth-pop\"],[\"up to me\",\"LANY\",\"synth-pop\"],[\"you!\",\"LANY\",\"synth-pop\"],[\"Tattoos Together\",\"Lauv\",\"synth-pop\"],[\"When We Were Younger\",\"Loving Caliber\",\"synth-pop\"],[\"Love You Back\",\"Madeon\",\"synth-pop\"],[\"colorblind\",\"Mokita\",\"synth-pop\"],[\"London\",\"Mokita\",\"synth-pop\"],[\"Ready Yet\",\"Mokita\",\"synth-pop\"],[\"Shut Up I Love U\",\"Neptune\",\"synth-pop\"],[\"This Is Heaven\",\"Nick Jonas\",\"synth-pop\"],[\"Plot Twist\",\"NIKI\",\"synth-pop\"],[\"Waves\",\"Paige\",\"synth-pop\"],[\"Shelter\",\"Porter Robinson\",\"synth-pop\"],[\"Outsider\",\"Rachel Grae\",\"synth-pop\"],[\"Dandelions\",\"Ruth B.\",\"synth-pop\"],[\"Lie\",\"Sasha Alex Sloan\",\"synth-pop\"],[\"Day Dreaming\",\"Sopha\",\"synth-pop\"],[\"I Always Wanna Die (Sometimes)\",\"The 1975\",\"synth-pop\"],[\"I'm In Love With You\",\"The 1975\",\"synth-pop\"],[\"It's Not Living (If It's Not With You)\",\"The 1975\",\"synth-pop\"],[\"Robbers\",\"The 1975\",\"synth-pop\"],[\"She's American\",\"The 1975\",\"synth-pop\"],[\"Somebody Else\",\"The 1975\",\"synth-pop\"],[\"Going Home\",\"The Aces\",\"synth-pop\"],[\"Sunset\",\"The Midnight\",\"synth-pop\"],[\"Say So\",\"The Sam Willows\",\"synth-pop\"],[\"I Can't Stop Thinking About You\",\"The Shadowboxers\",\"synth-pop\"],[\"Strawberries & Cigarettes\",\"Troye Sivan\",\"synth-pop\"],[\"If Only for Tonight\",\"Vacation Manor\",\"synth-pop\"],[\"rocket science\",\"vaultboy\",\"synth-pop\"],[\"no excuses\",\"Virginia To Vegas\",\"synth-pop\"],[\"Got A Little Crush On You\",\"Wildflowers\",\"synth-pop\"],[\"Talking To Myself\",\"Will Jay\",\"synth-pop\"],[\"Dance Like Nobody's Watching\",\"Yuna\",\"synth-pop\"],[\"dancing in the kitchen\",\"Zachary Knowles\",\"synth-pop\"],[\"stranger to me\",\"Zachary Knowles\",\"synth-pop\"],[\"could you love me while i hate myself\",\"Zeph\",\"synth-pop\"]],\"hovertemplate\":\"playlist=%{customdata[2]}<br>note_x=%{x}<br>note_y=%{y}<br>song_name=%{customdata[0]}<br>artist=%{customdata[1]}<extra></extra>\",\"legendgroup\":\"synth-pop\",\"marker\":{\"color\":\"#FF6692\",\"symbol\":\"circle\"},\"mode\":\"markers\",\"name\":\"synth-pop\",\"orientation\":\"v\",\"showlegend\":true,\"x\":[-47.33732132415542,-110.85768761979148,3.984252469278178,-131.97121508219726,-8.96990907720456,-142.60384128246054,-46.06004937152405,-43.41997492863236,-126.95176428000947,66.60960338261407,116.65122056833239,91.77095015760949,-25.70751071858592,76.82937213992959,100.54832806512549,62.15432937744884,-95.38636219390737,38.42391501231696,83.17537853973222,-116.06056458335165,-125.1410621865083,-140.5574119645478,-108.1548339925564,-87.29489665772552,-60.775210763127376,-46.79378820519967,-87.78048393004097,7.036333590500156,44.13715331832748,-120.33975412619839,22.93100140844527,-37.468330830836756,-1.3672683158796761,-26.40153197305121,-102.96220827270919,10.71671111787241,-133.50674595704933,-129.78005177111228,-67.22439853755793,-102.95610293083148,-96.27785790314095,-90.9734299731009,-117.61829231491978,-105.5192868114045,51.294385253932745,-32.58207436333397,-94.52646933894398,-72.5130300188272,52.94223440528446,-109.24421595978808,-105.46880742493929,-11.233388872919557,58.943342691285764,-105.35860686232314,-60.09586682722475,76.3351687686431,16.093148399536833,26.483064214283537,-7.174105965821884,-122.73046137402477,-33.989310911712984,-109.07472709051814,-104.48870362222448,101.47526167236768,-76.36615362107094,-7.127445374929832,67.57059450818389,17.208809791520615,-117.66500422699741,-85.0439991016063,79.53975361356848,-54.18013325704399,-74.56576096697182,-111.39847070757457,-66.43658390591929,99.42268878433478,-59.338716606247054,-100.01271911786343,-62.831132740379566,56.213428733091376,-93.29382411468768,-28.537377944424353,-32.118896953012424,-116.47221558013345,-135.97483054939613,-19.71576479913276,-4.0619305893181785,-93.19230696372833,-113.21326584888433,-78.83397074111605,-41.43629606645606,-114.26066159962319,-101.0059069918188,-58.38585530204323,-130.6299897669819,12.83854379172061],\"xaxis\":\"x\",\"y\":[-107.49988083948219,-27.977374702717267,73.0724659579151,-3.2621826347202503,108.03868981392358,0.8578728514482732,-21.78979585263696,-33.450898966028035,48.471299675897825,6.423351553123437,45.64923903837764,9.18255606345361,-124.91509276972302,53.0631905476524,65.1003738884407,-90.4169525873821,-84.83128514007662,13.034771132165611,-86.14469784167078,48.40572619907025,-17.003371313443886,7.353027581097088,-8.526340143618556,66.6724967195925,-20.1208769698757,61.025247001726456,40.92389282688824,60.47531349225353,-80.5977751187757,43.63640005235525,-129.65019326566107,10.889911566532568,-40.08847400802443,78.01310188849894,41.92285586665502,47.36606535348298,29.21032662628291,18.96529702954163,35.55680758744929,1.5858655201186678,80.5339709515609,9.721949655241678,30.62775705136842,49.278554411707255,77.28928912176032,0.2824569874125732,93.45784288139308,-89.20349881216774,31.232905560548136,55.564005887288666,37.64775339936356,97.17931341487285,90.74050018933741,-79.40242153743213,94.54053439026613,68.6993551051854,96.37527077246992,114.19597307233225,89.0157725519647,-32.234122555462264,103.03560954476178,72.0287421842016,-56.43833346036983,97.46193968669097,-26.89375912068521,67.80457680935058,23.12450919534946,78.82696182199071,37.69971916174282,-62.334044568639065,12.570460422483038,79.37913133298667,-97.30852875723278,3.239581968432059,-40.09392541354779,40.33196926916082,64.21632133386146,-25.53520913355118,82.53927879572649,106.4625387968596,-27.20314753986454,100.06869796967538,80.27597255569636,60.51229575077076,-36.31143137866392,75.30451942663032,81.10083079251906,85.64346213412264,-56.53606041730073,44.90607085622486,19.07785608754536,-21.004572514027423,72.64580913986612,39.610468694977264,-53.05389850439559,-120.0723745409409],\"yaxis\":\"y\",\"type\":\"scatter\"},{\"customdata\":[[\"Allure\",\"Tony Anderson\",\"tony-anderson\"],[\"Aurora\",\"Tony Anderson\",\"tony-anderson\"],[\"Chasm\",\"Tony Anderson\",\"tony-anderson\"],[\"Darkest Night\",\"Tony Anderson\",\"tony-anderson\"],[\"Deep Waters - Original Sketch\",\"Tony Anderson\",\"tony-anderson\"],[\"Deep Waters\",\"Tony Anderson\",\"tony-anderson\"],[\"Delusion\",\"Tony Anderson\",\"tony-anderson\"],[\"Eyes Wide Open - Cinematic Mix\",\"Tony Anderson\",\"tony-anderson\"],[\"Eyes Wide Open\",\"Tony Anderson\",\"tony-anderson\"],[\"Face of the Father\",\"Tony Anderson\",\"tony-anderson\"],[\"Farthest Seas\",\"Tony Anderson\",\"tony-anderson\"],[\"Finding Your Heart\",\"Tony Anderson\",\"tony-anderson\"],[\"Halo\",\"Tony Anderson\",\"tony-anderson\"],[\"High Tide\",\"Tony Anderson\",\"tony-anderson\"],[\"Immanuel\",\"Tony Anderson\",\"tony-anderson\"],[\"Immersion\",\"Tony Anderson\",\"tony-anderson\"],[\"In the Distance\",\"Tony Anderson\",\"tony-anderson\"],[\"Incision\",\"Tony Anderson\",\"tony-anderson\"],[\"Like a Child - Cinematic Mix\",\"Tony Anderson\",\"tony-anderson\"],[\"Low Tide\",\"Tony Anderson\",\"tony-anderson\"],[\"Lune\",\"Tony Anderson\",\"tony-anderson\"],[\"Morning's Wings\",\"Tony Anderson\",\"tony-anderson\"],[\"Nightingale\",\"Tony Anderson\",\"tony-anderson\"],[\"No Place on Earth\",\"Tony Anderson\",\"tony-anderson\"],[\"Nocturne in Paris\",\"Tony Anderson\",\"tony-anderson\"],[\"Perennial\",\"Tony Anderson\",\"tony-anderson\"],[\"Resurrect\",\"Tony Anderson\",\"tony-anderson\"],[\"Retour\",\"Tony Anderson\",\"tony-anderson\"],[\"Shalom\",\"Tony Anderson\",\"tony-anderson\"],[\"Slipstream\",\"Tony Anderson\",\"tony-anderson\"],[\"Something Can Grow\",\"Tony Anderson\",\"tony-anderson\"],[\"Spiriteaux\",\"Tony Anderson\",\"tony-anderson\"],[\"The King\",\"Tony Anderson\",\"tony-anderson\"],[\"The Way Home\",\"Tony Anderson\",\"tony-anderson\"],[\"Thin Place - Abbreviated\",\"Tony Anderson\",\"tony-anderson\"],[\"Thin Place\",\"Tony Anderson\",\"tony-anderson\"],[\"We Are One\",\"Tony Anderson\",\"tony-anderson\"],[\"Wir Sind Gleich\",\"Tony Anderson\",\"tony-anderson\"],[\"Younger\",\"Tony Anderson\",\"tony-anderson\"],[\"\\u00c9closion\",\"Tony Anderson\",\"tony-anderson\"],[\"\\u00c9ph\\u00e9m\\u00e8re\",\"Tony Anderson\",\"tony-anderson\"],[\"Arp\\u00e8ge\",\"Tony Anderson\",\"tony-anderson\"],[\"Nuit\",\"Tony Anderson\",\"tony-anderson\"],[\"Tenderness - Woven Remix\",\"Tony Anderson\",\"tony-anderson\"],[\"Tenderness\",\"Tony Anderson\",\"tony-anderson\"],[\"Cambodia - Ross Lara Remix\",\"Tony Anderson\",\"tony-anderson\"],[\"Cambodia\",\"Tony Anderson\",\"tony-anderson\"],[\"Oyarsa\",\"Tony Anderson\",\"tony-anderson\"]],\"hovertemplate\":\"playlist=%{customdata[2]}<br>note_x=%{x}<br>note_y=%{y}<br>song_name=%{customdata[0]}<br>artist=%{customdata[1]}<extra></extra>\",\"legendgroup\":\"tony-anderson\",\"marker\":{\"color\":\"#B6E880\",\"symbol\":\"circle\"},\"mode\":\"markers\",\"name\":\"tony-anderson\",\"orientation\":\"v\",\"showlegend\":true,\"x\":[2.5420114054255456,26.514401180646107,24.670205327440833,-36.49743988420332,67.57497223907433,105.30797556259004,6.021564428550643,-49.43262590686239,82.02966084304768,11.372764183084596,131.40727727434427,28.59433756857233,128.07839471720555,134.06426744493587,89.93201941611952,60.26383399033218,-77.66785535304916,41.5020872882194,144.95145410276834,68.95698378286062,103.4676879899316,-11.290640514328132,-111.69823742923057,57.922910386617225,108.59523708595907,115.21283999386495,7.184257227912821,120.06475675495747,94.16609031336364,33.907333242630706,112.81839813147288,36.32520764050657,138.94884030366222,-0.5223729968050747,105.65764936244717,88.16690945754422,-56.60651626676719,-104.74271118460136,71.53772810542223,109.60704737345483,124.38181596967746,99.27715069599468,130.85410242048775,-40.99775996404842,104.58011698316024,-22.038615868097764,41.91508850643599,88.6543837684148],\"xaxis\":\"x\",\"y\":[-142.99625459757053,93.85851886936078,-111.71053226552583,110.44863626193067,-100.99794000188459,-38.97328326049855,-7.099847866597809,-124.41054146436245,86.03621070506337,124.05399965644658,21.86875974487523,79.50150710541566,-42.75129743878093,47.54412037977714,70.017932729261,-120.35126193091358,-54.21928159456047,119.18494406277493,8.12788397653984,-122.89245663932319,1.4274521157378683,113.39395274528839,-81.46049028042763,-129.7580941957905,-50.03365026836315,-74.13153099296046,79.97616772659917,-69.64769073612584,101.28781228559846,-63.209856788510415,-13.026671161569363,-121.85277724153319,-33.994009094581536,124.8832725556833,-18.150991370484636,-60.287859384990405,-133.32221113199012,94.78027292183536,62.65382599436913,-59.666839441062535,-58.87821340553096,-71.54744893513953,52.238935505716015,112.87454134684701,-44.0290253330604,106.7555511949347,86.5282329382549,76.8030086661363],\"yaxis\":\"y\",\"type\":\"scatter\"}],                        {\"template\":{\"data\":{\"histogram2dcontour\":[{\"type\":\"histogram2dcontour\",\"colorbar\":{\"outlinewidth\":0,\"ticks\":\"\"},\"colorscale\":[[0.0,\"#0d0887\"],[0.1111111111111111,\"#46039f\"],[0.2222222222222222,\"#7201a8\"],[0.3333333333333333,\"#9c179e\"],[0.4444444444444444,\"#bd3786\"],[0.5555555555555556,\"#d8576b\"],[0.6666666666666666,\"#ed7953\"],[0.7777777777777778,\"#fb9f3a\"],[0.8888888888888888,\"#fdca26\"],[1.0,\"#f0f921\"]]}],\"choropleth\":[{\"type\":\"choropleth\",\"colorbar\":{\"outlinewidth\":0,\"ticks\":\"\"}}],\"histogram2d\":[{\"type\":\"histogram2d\",\"colorbar\":{\"outlinewidth\":0,\"ticks\":\"\"},\"colorscale\":[[0.0,\"#0d0887\"],[0.1111111111111111,\"#46039f\"],[0.2222222222222222,\"#7201a8\"],[0.3333333333333333,\"#9c179e\"],[0.4444444444444444,\"#bd3786\"],[0.5555555555555556,\"#d8576b\"],[0.6666666666666666,\"#ed7953\"],[0.7777777777777778,\"#fb9f3a\"],[0.8888888888888888,\"#fdca26\"],[1.0,\"#f0f921\"]]}],\"heatmap\":[{\"type\":\"heatmap\",\"colorbar\":{\"outlinewidth\":0,\"ticks\":\"\"},\"colorscale\":[[0.0,\"#0d0887\"],[0.1111111111111111,\"#46039f\"],[0.2222222222222222,\"#7201a8\"],[0.3333333333333333,\"#9c179e\"],[0.4444444444444444,\"#bd3786\"],[0.5555555555555556,\"#d8576b\"],[0.6666666666666666,\"#ed7953\"],[0.7777777777777778,\"#fb9f3a\"],[0.8888888888888888,\"#fdca26\"],[1.0,\"#f0f921\"]]}],\"heatmapgl\":[{\"type\":\"heatmapgl\",\"colorbar\":{\"outlinewidth\":0,\"ticks\":\"\"},\"colorscale\":[[0.0,\"#0d0887\"],[0.1111111111111111,\"#46039f\"],[0.2222222222222222,\"#7201a8\"],[0.3333333333333333,\"#9c179e\"],[0.4444444444444444,\"#bd3786\"],[0.5555555555555556,\"#d8576b\"],[0.6666666666666666,\"#ed7953\"],[0.7777777777777778,\"#fb9f3a\"],[0.8888888888888888,\"#fdca26\"],[1.0,\"#f0f921\"]]}],\"contourcarpet\":[{\"type\":\"contourcarpet\",\"colorbar\":{\"outlinewidth\":0,\"ticks\":\"\"}}],\"contour\":[{\"type\":\"contour\",\"colorbar\":{\"outlinewidth\":0,\"ticks\":\"\"},\"colorscale\":[[0.0,\"#0d0887\"],[0.1111111111111111,\"#46039f\"],[0.2222222222222222,\"#7201a8\"],[0.3333333333333333,\"#9c179e\"],[0.4444444444444444,\"#bd3786\"],[0.5555555555555556,\"#d8576b\"],[0.6666666666666666,\"#ed7953\"],[0.7777777777777778,\"#fb9f3a\"],[0.8888888888888888,\"#fdca26\"],[1.0,\"#f0f921\"]]}],\"surface\":[{\"type\":\"surface\",\"colorbar\":{\"outlinewidth\":0,\"ticks\":\"\"},\"colorscale\":[[0.0,\"#0d0887\"],[0.1111111111111111,\"#46039f\"],[0.2222222222222222,\"#7201a8\"],[0.3333333333333333,\"#9c179e\"],[0.4444444444444444,\"#bd3786\"],[0.5555555555555556,\"#d8576b\"],[0.6666666666666666,\"#ed7953\"],[0.7777777777777778,\"#fb9f3a\"],[0.8888888888888888,\"#fdca26\"],[1.0,\"#f0f921\"]]}],\"mesh3d\":[{\"type\":\"mesh3d\",\"colorbar\":{\"outlinewidth\":0,\"ticks\":\"\"}}],\"scatter\":[{\"marker\":{\"line\":{\"color\":\"#283442\"}},\"type\":\"scatter\"}],\"parcoords\":[{\"type\":\"parcoords\",\"line\":{\"colorbar\":{\"outlinewidth\":0,\"ticks\":\"\"}}}],\"scatterpolargl\":[{\"type\":\"scatterpolargl\",\"marker\":{\"colorbar\":{\"outlinewidth\":0,\"ticks\":\"\"}}}],\"bar\":[{\"error_x\":{\"color\":\"#f2f5fa\"},\"error_y\":{\"color\":\"#f2f5fa\"},\"marker\":{\"line\":{\"color\":\"rgb(17,17,17)\",\"width\":0.5},\"pattern\":{\"fillmode\":\"overlay\",\"size\":10,\"solidity\":0.2}},\"type\":\"bar\"}],\"scattergeo\":[{\"type\":\"scattergeo\",\"marker\":{\"colorbar\":{\"outlinewidth\":0,\"ticks\":\"\"}}}],\"scatterpolar\":[{\"type\":\"scatterpolar\",\"marker\":{\"colorbar\":{\"outlinewidth\":0,\"ticks\":\"\"}}}],\"histogram\":[{\"marker\":{\"pattern\":{\"fillmode\":\"overlay\",\"size\":10,\"solidity\":0.2}},\"type\":\"histogram\"}],\"scattergl\":[{\"marker\":{\"line\":{\"color\":\"#283442\"}},\"type\":\"scattergl\"}],\"scatter3d\":[{\"type\":\"scatter3d\",\"line\":{\"colorbar\":{\"outlinewidth\":0,\"ticks\":\"\"}},\"marker\":{\"colorbar\":{\"outlinewidth\":0,\"ticks\":\"\"}}}],\"scattermapbox\":[{\"type\":\"scattermapbox\",\"marker\":{\"colorbar\":{\"outlinewidth\":0,\"ticks\":\"\"}}}],\"scatterternary\":[{\"type\":\"scatterternary\",\"marker\":{\"colorbar\":{\"outlinewidth\":0,\"ticks\":\"\"}}}],\"scattercarpet\":[{\"type\":\"scattercarpet\",\"marker\":{\"colorbar\":{\"outlinewidth\":0,\"ticks\":\"\"}}}],\"carpet\":[{\"aaxis\":{\"endlinecolor\":\"#A2B1C6\",\"gridcolor\":\"#506784\",\"linecolor\":\"#506784\",\"minorgridcolor\":\"#506784\",\"startlinecolor\":\"#A2B1C6\"},\"baxis\":{\"endlinecolor\":\"#A2B1C6\",\"gridcolor\":\"#506784\",\"linecolor\":\"#506784\",\"minorgridcolor\":\"#506784\",\"startlinecolor\":\"#A2B1C6\"},\"type\":\"carpet\"}],\"table\":[{\"cells\":{\"fill\":{\"color\":\"#506784\"},\"line\":{\"color\":\"rgb(17,17,17)\"}},\"header\":{\"fill\":{\"color\":\"#2a3f5f\"},\"line\":{\"color\":\"rgb(17,17,17)\"}},\"type\":\"table\"}],\"barpolar\":[{\"marker\":{\"line\":{\"color\":\"rgb(17,17,17)\",\"width\":0.5},\"pattern\":{\"fillmode\":\"overlay\",\"size\":10,\"solidity\":0.2}},\"type\":\"barpolar\"}],\"pie\":[{\"automargin\":true,\"type\":\"pie\"}]},\"layout\":{\"autotypenumbers\":\"strict\",\"colorway\":[\"#636efa\",\"#EF553B\",\"#00cc96\",\"#ab63fa\",\"#FFA15A\",\"#19d3f3\",\"#FF6692\",\"#B6E880\",\"#FF97FF\",\"#FECB52\"],\"font\":{\"color\":\"#f2f5fa\"},\"hovermode\":\"closest\",\"hoverlabel\":{\"align\":\"left\"},\"paper_bgcolor\":\"rgb(17,17,17)\",\"plot_bgcolor\":\"rgb(17,17,17)\",\"polar\":{\"bgcolor\":\"rgb(17,17,17)\",\"angularaxis\":{\"gridcolor\":\"#506784\",\"linecolor\":\"#506784\",\"ticks\":\"\"},\"radialaxis\":{\"gridcolor\":\"#506784\",\"linecolor\":\"#506784\",\"ticks\":\"\"}},\"ternary\":{\"bgcolor\":\"rgb(17,17,17)\",\"aaxis\":{\"gridcolor\":\"#506784\",\"linecolor\":\"#506784\",\"ticks\":\"\"},\"baxis\":{\"gridcolor\":\"#506784\",\"linecolor\":\"#506784\",\"ticks\":\"\"},\"caxis\":{\"gridcolor\":\"#506784\",\"linecolor\":\"#506784\",\"ticks\":\"\"}},\"coloraxis\":{\"colorbar\":{\"outlinewidth\":0,\"ticks\":\"\"}},\"colorscale\":{\"sequential\":[[0.0,\"#0d0887\"],[0.1111111111111111,\"#46039f\"],[0.2222222222222222,\"#7201a8\"],[0.3333333333333333,\"#9c179e\"],[0.4444444444444444,\"#bd3786\"],[0.5555555555555556,\"#d8576b\"],[0.6666666666666666,\"#ed7953\"],[0.7777777777777778,\"#fb9f3a\"],[0.8888888888888888,\"#fdca26\"],[1.0,\"#f0f921\"]],\"sequentialminus\":[[0.0,\"#0d0887\"],[0.1111111111111111,\"#46039f\"],[0.2222222222222222,\"#7201a8\"],[0.3333333333333333,\"#9c179e\"],[0.4444444444444444,\"#bd3786\"],[0.5555555555555556,\"#d8576b\"],[0.6666666666666666,\"#ed7953\"],[0.7777777777777778,\"#fb9f3a\"],[0.8888888888888888,\"#fdca26\"],[1.0,\"#f0f921\"]],\"diverging\":[[0,\"#8e0152\"],[0.1,\"#c51b7d\"],[0.2,\"#de77ae\"],[0.3,\"#f1b6da\"],[0.4,\"#fde0ef\"],[0.5,\"#f7f7f7\"],[0.6,\"#e6f5d0\"],[0.7,\"#b8e186\"],[0.8,\"#7fbc41\"],[0.9,\"#4d9221\"],[1,\"#276419\"]]},\"xaxis\":{\"gridcolor\":\"#283442\",\"linecolor\":\"#506784\",\"ticks\":\"\",\"title\":{\"standoff\":15},\"zerolinecolor\":\"#283442\",\"automargin\":true,\"zerolinewidth\":2},\"yaxis\":{\"gridcolor\":\"#283442\",\"linecolor\":\"#506784\",\"ticks\":\"\",\"title\":{\"standoff\":15},\"zerolinecolor\":\"#283442\",\"automargin\":true,\"zerolinewidth\":2},\"scene\":{\"xaxis\":{\"backgroundcolor\":\"rgb(17,17,17)\",\"gridcolor\":\"#506784\",\"linecolor\":\"#506784\",\"showbackground\":true,\"ticks\":\"\",\"zerolinecolor\":\"#C8D4E3\",\"gridwidth\":2},\"yaxis\":{\"backgroundcolor\":\"rgb(17,17,17)\",\"gridcolor\":\"#506784\",\"linecolor\":\"#506784\",\"showbackground\":true,\"ticks\":\"\",\"zerolinecolor\":\"#C8D4E3\",\"gridwidth\":2},\"zaxis\":{\"backgroundcolor\":\"rgb(17,17,17)\",\"gridcolor\":\"#506784\",\"linecolor\":\"#506784\",\"showbackground\":true,\"ticks\":\"\",\"zerolinecolor\":\"#C8D4E3\",\"gridwidth\":2}},\"shapedefaults\":{\"line\":{\"color\":\"#f2f5fa\"}},\"annotationdefaults\":{\"arrowcolor\":\"#f2f5fa\",\"arrowhead\":0,\"arrowwidth\":1},\"geo\":{\"bgcolor\":\"rgb(17,17,17)\",\"landcolor\":\"rgb(17,17,17)\",\"subunitcolor\":\"#506784\",\"showland\":true,\"showlakes\":true,\"lakecolor\":\"rgb(17,17,17)\"},\"title\":{\"x\":0.05},\"updatemenudefaults\":{\"bgcolor\":\"#506784\",\"borderwidth\":0},\"sliderdefaults\":{\"bgcolor\":\"#C8D4E3\",\"borderwidth\":1,\"bordercolor\":\"rgb(17,17,17)\",\"tickwidth\":0},\"mapbox\":{\"style\":\"dark\"}}},\"xaxis\":{\"anchor\":\"y\",\"domain\":[0.0,1.0],\"title\":{\"text\":\"note_x\"}},\"yaxis\":{\"anchor\":\"x\",\"domain\":[0.0,1.0],\"title\":{\"text\":\"note_y\"}},\"legend\":{\"title\":{\"text\":\"playlist\"},\"tracegroupgap\":0},\"margin\":{\"t\":60}},                        {\"responsive\": true}                    ).then(function(){\n                            \nvar gd = document.getElementById('ea4ec5a7-4128-4647-a6ee-e3f2dd64823c');\nvar x = new MutationObserver(function (mutations, observer) {{\n        var display = window.getComputedStyle(gd).display;\n        if (!display || display === 'none') {{\n            console.log([gd, 'removed!']);\n            Plotly.purge(gd);\n            observer.disconnect();\n        }}\n}});\n\n// Listen for the removal of the full notebook cells\nvar notebookContainer = gd.closest('#notebook-container');\nif (notebookContainer) {{\n    x.observe(notebookContainer, {childList: true});\n}}\n\n// Listen for the clearing of the current output cell\nvar outputEl = gd.closest('.output');\nif (outputEl) {{\n    x.observe(outputEl, {childList: true});\n}}\n\n                        })                };                });            </script>        </div>"
     },
     "metadata": {},
     "output_type": "display_data"
    }
   ],
   "source": [
    "px.scatter(dataset, x='note_x', y='note_y', color='playlist', hover_data=config.metadata_columns)"
   ],
   "metadata": {
    "collapsed": false
   }
  },
  {
   "cell_type": "markdown",
   "source": [
    "## Chord Trajectory\n",
    "\n",
    "Here, clustering is much stronger. There are much lesser chords to choose from in this implementation of the chord trajectory."
   ],
   "metadata": {
    "collapsed": false
   }
  },
  {
   "cell_type": "code",
   "execution_count": 14,
   "outputs": [
    {
     "data": {
      "application/vnd.plotly.v1+json": {
       "data": [
        {
         "customdata": [
          [
           "Ivan Sings",
           "Aram Khachaturian",
           "kino"
          ],
          [
           "Prélude in E Minor, Op. 28, No. 4",
           "Frédéric Chopin",
           "kino"
          ],
          [
           "Above the Trees",
           "Kino",
           "kino"
          ],
          [
           "All",
           "Kino",
           "kino"
          ],
          [
           "Anew",
           "Kino",
           "kino"
          ],
          [
           "As a Cloud",
           "Kino",
           "kino"
          ],
          [
           "Away",
           "Kino",
           "kino"
          ],
          [
           "Bloom",
           "Kino",
           "kino"
          ],
          [
           "Charleston",
           "Kino",
           "kino"
          ],
          [
           "Donau",
           "Kino",
           "kino"
          ],
          [
           "Each and Every (Ambient Mix)",
           "Kino",
           "kino"
          ],
          [
           "Each and Every (Piano)",
           "Kino",
           "kino"
          ],
          [
           "Each and Every",
           "Kino",
           "kino"
          ],
          [
           "Erlöst  Redeemed",
           "Kino",
           "kino"
          ],
          [
           "Gathering",
           "Kino",
           "kino"
          ],
          [
           "God Bless Us, Every One",
           "Kino",
           "kino"
          ],
          [
           "Hearth",
           "Kino",
           "kino"
          ],
          [
           "Hēo",
           "Kino",
           "kino"
          ],
          [
           "In Earnest",
           "Kino",
           "kino"
          ],
          [
           "Leinwand (Piano)",
           "Kino",
           "kino"
          ],
          [
           "Leinwand",
           "Kino",
           "kino"
          ],
          [
           "Lightly Tread",
           "Kino",
           "kino"
          ],
          [
           "Lone",
           "Kino",
           "kino"
          ],
          [
           "Many Colors",
           "Kino",
           "kino"
          ],
          [
           "Merrily, Merrily",
           "Kino",
           "kino"
          ],
          [
           "O Tannenbaum",
           "Kino",
           "kino"
          ],
          [
           "Presidio",
           "Kino",
           "kino"
          ],
          [
           "Rambuteau",
           "Kino",
           "kino"
          ],
          [
           "Seafarer's Quartet",
           "Kino",
           "kino"
          ],
          [
           "Seems",
           "Kino",
           "kino"
          ],
          [
           "Silent Night",
           "Kino",
           "kino"
          ],
          [
           "Silver Lake",
           "Kino",
           "kino"
          ],
          [
           "St John's",
           "Kino",
           "kino"
          ],
          [
           "Sunshine - Original",
           "Kino",
           "kino"
          ],
          [
           "Swell",
           "Kino",
           "kino"
          ],
          [
           "The Holly and the Ivy",
           "Kino",
           "kino"
          ],
          [
           "The Weight Unbearable (Piano)",
           "Kino",
           "kino"
          ],
          [
           "The Weight Unbearable",
           "Kino",
           "kino"
          ],
          [
           "Till",
           "Kino",
           "kino"
          ],
          [
           "Trio in E-flat Minor",
           "Kino",
           "kino"
          ],
          [
           "Under",
           "Kino",
           "kino"
          ],
          [
           "Water Lilies",
           "Kino",
           "kino"
          ],
          [
           "Wide Awake",
           "Kino",
           "kino"
          ],
          [
           "Willeth",
           "Kino",
           "kino"
          ],
          [
           "Wolden",
           "Kino",
           "kino"
          ],
          [
           "Yule",
           "Kino",
           "kino"
          ],
          [
           "Piano Sonata No. 14 in C-Sharp Minor, Op. 27 No. 2 “Moonlight”- I. Adagio sostenuto",
           "Ludwig van Beethoven",
           "kino"
          ]
         ],
         "hovertemplate": "playlist=%{customdata[2]}<br>chord_x=%{x}<br>chord_y=%{y}<br>song_name=%{customdata[0]}<br>artist=%{customdata[1]}<extra></extra>",
         "legendgroup": "kino",
         "marker": {
          "color": "#636efa",
          "symbol": "circle"
         },
         "mode": "markers",
         "name": "kino",
         "orientation": "v",
         "showlegend": true,
         "x": [
          -4.920797373229952,
          4.520678774387971,
          -23.964486762041343,
          23.637862985451402,
          -9.29964335647383,
          -22.056675077349123,
          -23.922123459060114,
          -24.029356146447206,
          -0.23700000787717831,
          -3.8673766133016403,
          -25.559396540973545,
          -25.434308226715633,
          -20.28467418320038,
          10.398686138989444,
          15.451707307603073,
          -25.993967009724507,
          -23.273744945902337,
          -1.4838801022473935,
          1.8793176022476084,
          22.051451103761426,
          21.625935456912963,
          -19.666810187119165,
          -16.86257038191238,
          11.258029702389004,
          -26.432086445637115,
          11.817760560563395,
          -25.318282958681017,
          -18.409520913004563,
          12.926028890818689,
          16.122733885739954,
          13.623185498237811,
          23.566398842669294,
          -10.729269036588434,
          -5.694329971628506,
          -17.181259154596276,
          -15.205645493820168,
          -26.541185815112097,
          -0.8104152857166653,
          1.1002019973419734,
          -23.429057164913818,
          14.406753512463014,
          -20.802026725315038,
          -19.765466009736137,
          -0.3123750018401889,
          12.12500813281233,
          -22.283280498024414,
          -12.038109492895366
         ],
         "xaxis": "x",
         "y": [
          -17.838343565298253,
          -5.460191221434287,
          -0.09012532872158902,
          -2.059168236085199,
          22.48385416572074,
          -12.890090080785923,
          9.760643544038134,
          -4.3431901696237,
          20.322577396165762,
          -8.994089864541438,
          -4.559547121784305,
          -6.268458999378446,
          -6.3179915629096985,
          -0.64363533799661,
          -9.5034318586321,
          -7.294277524975867,
          -2.467005057766357,
          -26.70937891438537,
          17.325535356672344,
          -7.082726342001245,
          -7.611444613657942,
          5.654596328214549,
          -19.26411940354694,
          -3.0969102483961124,
          -7.377733003236249,
          2.2421958392882853,
          -2.322142692321876,
          -0.7245387147520322,
          -16.862115426446753,
          -8.006749728696333,
          14.596029101021527,
          -5.246983139131169,
          -25.614915134264344,
          22.399024895904645,
          19.344412850769974,
          -18.08145545788567,
          -7.885834297664506,
          -25.83475438201328,
          18.981686599778698,
          -5.935624428084734,
          -16.149816484974803,
          -13.007501449169396,
          -8.825227627635694,
          -23.128864002961066,
          -17.54478525871279,
          -6.597783457621604,
          10.632284500478725
         ],
         "yaxis": "y",
         "type": "scatter"
        },
        {
         "customdata": [
          [
           "But it's Destiny",
           "10cm",
           "korean-ost"
          ],
          [
           "나의 어깨에 기대어요",
           "10cm",
           "korean-ost"
          ],
          [
           "Is You",
           "AILEE",
           "korean-ost"
          ],
          [
           "How can I love the heartbreak, you're the one I love",
           "AKMU",
           "korean-ost"
          ],
          [
           "How can I love the heartbreak, you`re the one I love",
           "AKMU",
           "korean-ost"
          ],
          [
           "Amusement Park",
           "BAEKHYUN",
           "korean-ost"
          ],
          [
           "너를 사랑하고 있어",
           "BAEKHYUN",
           "korean-ost"
          ],
          [
           "Beautiful goodbye",
           "CHEN",
           "korean-ost"
          ],
          [
           "Flower",
           "CHEN",
           "korean-ost"
          ],
          [
           "I'll be there",
           "CHEN",
           "korean-ost"
          ],
          [
           "My dear",
           "CHEN",
           "korean-ost"
          ],
          [
           "Sorry not sorry",
           "CHEN",
           "korean-ost"
          ],
          [
           "Everytime",
           "CHEN",
           "korean-ost"
          ],
          [
           "Wish",
           "Choi Yuree",
           "korean-ost"
          ],
          [
           "Beautiful",
           "Crush",
           "korean-ost"
          ],
          [
           "Let Us Go",
           "Crush",
           "korean-ost"
          ],
          [
           "No Words",
           "Crush",
           "korean-ost"
          ],
          [
           "My Love",
           "DAVICHI",
           "korean-ost"
          ],
          [
           "Please Don't Cry",
           "DAVICHI",
           "korean-ost"
          ],
          [
           "Sunset",
           "DAVICHI",
           "korean-ost"
          ],
          [
           "노력해볼게요 I'll try",
           "DAY6",
           "korean-ost"
          ],
          [
           "I'm In Love With You",
           "Dvwn",
           "korean-ost"
          ],
          [
           "No Problem",
           "Dvwn",
           "korean-ost"
          ],
          [
           "긴 밤이 오면",
           "Eddy Kim",
           "korean-ost"
          ],
          [
           "Rain or Shine",
           "Elaine",
           "korean-ost"
          ],
          [
           "Hate Everything - Korean Version",
           "GSoul",
           "korean-ost"
          ],
          [
           "기억해줘요 내 모든 날과 그때를",
           "Gummy",
           "korean-ost"
          ],
          [
           "Slowly Fall",
           "Ha Hyun Sang",
           "korean-ost"
          ],
          [
           "내 맘을 볼 수 있나요",
           "HEIZE",
           "korean-ost"
          ],
          [
           "Deeply",
           "HEN",
           "korean-ost"
          ],
          [
           "To You",
           "HEN",
           "korean-ost"
          ],
          [
           "It's You",
           "HENRY",
           "korean-ost"
          ],
          [
           "Untitled Love Song",
           "HENRY",
           "korean-ost"
          ],
          [
           "Ending Scene",
           "IU",
           "korean-ost"
          ],
          [
           "Give You My Heart",
           "IU",
           "korean-ost"
          ],
          [
           "Love poem",
           "IU",
           "korean-ost"
          ],
          [
           "My sea",
           "IU",
           "korean-ost"
          ],
          [
           "Holiday",
           "JeHwi",
           "korean-ost"
          ],
          [
           "Stardust love song",
           "JIHYO",
           "korean-ost"
          ],
          [
           "What Lies Ahead",
           "Joe Layne",
           "korean-ost"
          ],
          [
           "Times Like This",
           "Josh Daniel",
           "korean-ost"
          ],
          [
           "Do you want to walk with me (Romance 101 X Jukjae)",
           "Jukjae",
           "korean-ost"
          ],
          [
           "The Days Like Pictures",
           "Jukjae",
           "korean-ost"
          ],
          [
           "나를 찾아서",
           "Jukjae",
           "korean-ost"
          ],
          [
           "별 보러 가자",
           "Jukjae",
           "korean-ost"
          ],
          [
           "Day & Night",
           "Jung Seung Hwan",
           "korean-ost"
          ],
          [
           "Because I Miss You",
           "Jung Yong Hwa",
           "korean-ost"
          ],
          [
           "For First-time Lovers (Banmal-song)",
           "Jung Yong Hwa",
           "korean-ost"
          ],
          [
           "I Go",
           "Kei (Kim Ji Yeon)",
           "korean-ost"
          ],
          [
           "보고싶다 (From. '드라마 천국의 계단')",
           "Kim Bum Soo",
           "korean-ost"
          ],
          [
           "One Day",
           "Kim Feel",
           "korean-ost"
          ],
          [
           "Someday, The Boy",
           "Kim Feel",
           "korean-ost"
          ],
          [
           "Vacance in September",
           "KIM JAE HWAN",
           "korean-ost"
          ],
          [
           "All of My Days",
           "KIMSEJEONG",
           "korean-ost"
          ],
          [
           "If Only",
           "KIMSEJEONG",
           "korean-ost"
          ],
          [
           "Lonely Night",
           "Kwon Jin Ah",
           "korean-ost"
          ],
          [
           "The End",
           "Kwon Jin Ah",
           "korean-ost"
          ],
          [
           "I Won't Heartbreaken",
           "Lee KwangHee",
           "korean-ost"
          ],
          [
           "In My Heart",
           "LIM YEON",
           "korean-ost"
          ],
          [
           "Lost",
           "LIM YEON",
           "korean-ost"
          ],
          [
           "Say Yes",
           "Loco",
           "korean-ost"
          ],
          [
           "Be There For You",
           "NCT DREAM",
           "korean-ost"
          ],
          [
           "Rainbow - Acoustic Version",
           "O.WHEN",
           "korean-ost"
          ],
          [
           "Me After You",
           "Paul Kim",
           "korean-ost"
          ],
          [
           "안녕",
           "Paul Kim",
           "korean-ost"
          ],
          [
           "But I'm Trying to Tell You How Much I Love You (With Moonbit)",
           "saevom",
           "korean-ost"
          ],
          [
           "For You",
           "Sam Kim",
           "korean-ost"
          ],
          [
           "Sunny Day Rainy Day (feat. Kassy)",
           "Sanchez",
           "korean-ost"
          ],
          [
           "Your world",
           "Seol Hoseung (SURL)",
           "korean-ost"
          ],
          [
           "Grown Ups",
           "Sondia",
           "korean-ost"
          ],
          [
           "Hug",
           "Sondia",
           "korean-ost"
          ],
          [
           "Our Souls at Night",
           "Sondia",
           "korean-ost"
          ],
          [
           "우린 친구뿐일까",
           "Sondia",
           "korean-ost"
          ],
          [
           "She",
           "Standing Egg",
           "korean-ost"
          ],
          [
           "Miracle (Feat. Paul Kim)",
           "Stella Jang",
           "korean-ost"
          ],
          [
           "One more time, One more chance",
           "Sung Si Kyung",
           "korean-ost"
          ],
          [
           "君がいるよ",
           "Sung Si Kyung",
           "korean-ost"
          ],
          [
           "Two People",
           "SURAN",
           "korean-ost"
          ],
          [
           "Inevitable",
           "Suzy",
           "korean-ost"
          ],
          [
           "Starlight",
           "TAEIL",
           "korean-ost"
          ],
          [
           "그대라는 시",
           "TAEYEON",
           "korean-ost"
          ],
          [
           "Two Words",
           "WENDY",
           "korean-ost"
          ],
          [
           "What If Love",
           "WENDY",
           "korean-ost"
          ],
          [
           "내일도 또 내일도 Tomorrow After Tomorrow",
           "WISUE",
           "korean-ost"
          ],
          [
           "Your Existence",
           "Wonstein",
           "korean-ost"
          ],
          [
           "Free",
           "Xydo",
           "korean-ost"
          ],
          [
           "너만 너만 너만",
           "Yang Dail",
           "korean-ost"
          ],
          [
           "With me",
           "Yang Dail",
           "korean-ost"
          ],
          [
           "Here I Am Again",
           "Yerin Baek",
           "korean-ost"
          ],
          [
           "Maze",
           "YONGZOO",
           "korean-ost"
          ],
          [
           "ALWAYS",
           "Yoon Mirae",
           "korean-ost"
          ],
          [
           "Flower",
           "Yoon Mirae",
           "korean-ost"
          ],
          [
           "You Are My World",
           "Yoon Mirae",
           "korean-ost"
          ],
          [
           "I Just Want To Stay With You",
           "Zion.T",
           "korean-ost"
          ],
          [
           "Faith",
           "이준화",
           "korean-ost"
          ]
         ],
         "hovertemplate": "playlist=%{customdata[2]}<br>chord_x=%{x}<br>chord_y=%{y}<br>song_name=%{customdata[0]}<br>artist=%{customdata[1]}<extra></extra>",
         "legendgroup": "korean-ost",
         "marker": {
          "color": "#EF553B",
          "symbol": "circle"
         },
         "mode": "markers",
         "name": "korean-ost",
         "orientation": "v",
         "showlegend": true,
         "x": [
          -1.9659873888998811,
          -24.069169730805253,
          0.5022861412983503,
          7.669989803187197,
          7.669989803187197,
          9.65661886279957,
          -4.2312580195531115,
          -15.425220800819845,
          8.213124738105721,
          -9.621154785749056,
          3.226832340367677,
          -7.7527605334442455,
          -11.93844149093497,
          -23.88477554724384,
          -6.412053460040162,
          0.8533736235105405,
          -16.3766120732481,
          -17.257503300042853,
          1.5237446507099084,
          -10.159291911362967,
          2.454864993518191,
          6.462392210076053,
          8.665343322294927,
          7.213838172842621,
          -20.875764062749294,
          -4.7336308359994375,
          -7.237789889939578,
          -22.77497916868224,
          0.987796409929543,
          11.796301948689957,
          -10.727197538765228,
          17.272251973306876,
          10.063700636462695,
          4.168617780282413,
          -18.55145098113313,
          -19.860957184351008,
          0.32013309606595797,
          8.703454246300446,
          8.646625468968328,
          6.538209399416478,
          4.685608496821122,
          4.039199559820268,
          14.77957713278972,
          18.03877930028512,
          -11.784851632964296,
          -11.335132216698474,
          14.092847752988298,
          13.600136808103231,
          0.6180147501809278,
          3.0030587751533155,
          -16.407333733707603,
          2.7652082116051178,
          8.602966490467109,
          -8.111678271053767,
          -12.259426369934985,
          0.34148063005476464,
          -17.337152509140747,
          -7.5910955082033205,
          -18.736219161376287,
          -1.2171905288470448,
          1.7166949770780215,
          -5.717854056726339,
          -23.45486143815015,
          14.858955786711052,
          15.509400720647196,
          13.607896330180067,
          -17.254825768842597,
          10.880012223032164,
          12.15713521609725,
          3.317552877366467,
          19.094828671295446,
          -24.316881316157396,
          -8.441992294065367,
          -7.928440209310103,
          6.28576984351663,
          -0.3083572795492425,
          12.324996453833368,
          -13.112510462869023,
          -14.160436247014045,
          22.67810972326871,
          -0.28194417657202303,
          -19.961566586038384,
          -3.2053192362793177,
          26.2668733628252,
          17.077529664607027,
          3.1518657851352576,
          -17.80527597685292,
          -1.057321203802209,
          2.7153116358399885,
          -6.092130376480288,
          -8.978097435436212,
          -23.064160396155447,
          -7.749995459208637,
          8.6361982681555,
          15.404762202048818
         ],
         "xaxis": "x",
         "y": [
          -18.512433894954967,
          6.254928813802927,
          16.775980630677633,
          -18.816553358665978,
          -18.816553358665978,
          -14.653772083226512,
          19.352539090883162,
          -17.14267709180492,
          14.914071886363166,
          3.9922077640182794,
          16.345918445049104,
          -20.64138079676233,
          -12.411362888556939,
          -2.581232454518972,
          -21.46013171854763,
          -20.15641053176309,
          10.357044709064889,
          -10.47285044014934,
          -19.114888890931606,
          -3.7519571573846995,
          12.805666822226579,
          -20.61149463746186,
          14.489550106936921,
          -18.47743042780264,
          10.230287623786309,
          -16.79340164340068,
          13.531814030541502,
          2.1177376236556626,
          16.352578325248096,
          -17.854909767768294,
          -5.846471912564474,
          -3.7126846387890855,
          -8.942854052965018,
          -19.86871193734938,
          -10.00252429007386,
          17.04491943136512,
          6.314343427844256,
          16.439359640673363,
          12.231660305274614,
          4.418986571983927,
          17.57134470015994,
          6.7594441793053575,
          -15.99281092104929,
          -3.9055477930194846,
          -7.826434171003471,
          -15.518499470957076,
          -8.335775805786902,
          9.878917403875084,
          -1.8915738134103328,
          -16.887555067856038,
          11.55462735859584,
          -10.072841421556221,
          -5.796101177683773,
          17.786509727231813,
          0.1675456305528093,
          -18.297125579762373,
          -8.507937410208433,
          22.183395858673563,
          10.559457224982939,
          20.274964425701956,
          19.604165018943004,
          16.42858033644114,
          12.616798759543546,
          -12.5208084359229,
          -10.682186223189634,
          2.354136826306075,
          0.3616388677181875,
          -17.700705580801735,
          -9.996904552576712,
          17.02497926257843,
          13.68300579791224,
          7.646875474162332,
          -21.379296724329134,
          19.951710588682,
          -2.2155618530483223,
          9.763012840038298,
          14.697508290607786,
          -17.26053484761521,
          -16.117387520976536,
          10.457481088547361,
          17.446490738456987,
          -3.382044386001712,
          10.625782940509268,
          5.553915726173033,
          -15.00304697899688,
          14.180210019944598,
          -1.3509900950662364,
          17.498053702942364,
          19.021741804458593,
          -20.034070237683967,
          -20.863260100652628,
          -1.0087888565629095,
          -21.326432279183987,
          10.233943570586701,
          9.645738019683735
         ],
         "yaxis": "y",
         "type": "scatter"
        },
        {
         "customdata": [
          [
           "A Speck of Light - Reimagined",
           "Lights & Motion",
           "lights-and-motion"
          ],
          [
           "A Speck of Light",
           "Lights & Motion",
           "lights-and-motion"
          ],
          [
           "All the Way",
           "Lights & Motion",
           "lights-and-motion"
          ],
          [
           "Anamorphic",
           "Lights & Motion",
           "lights-and-motion"
          ],
          [
           "Anchor",
           "Lights & Motion",
           "lights-and-motion"
          ],
          [
           "Anomaly",
           "Lights & Motion",
           "lights-and-motion"
          ],
          [
           "Antlers",
           "Lights & Motion",
           "lights-and-motion"
          ],
          [
           "Arms Wide Open",
           "Lights & Motion",
           "lights-and-motion"
          ],
          [
           "As the World Goes Away",
           "Lights & Motion",
           "lights-and-motion"
          ],
          [
           "As They Sleep",
           "Lights & Motion",
           "lights-and-motion"
          ],
          [
           "Aurora",
           "Lights & Motion",
           "lights-and-motion"
          ],
          [
           "Deafening Silence",
           "Lights & Motion",
           "lights-and-motion"
          ],
          [
           "DNA",
           "Lights & Motion",
           "lights-and-motion"
          ],
          [
           "Equals",
           "Lights & Motion",
           "lights-and-motion"
          ],
          [
           "Everest",
           "Lights & Motion",
           "lights-and-motion"
          ],
          [
           "Exhale",
           "Lights & Motion",
           "lights-and-motion"
          ],
          [
           "Feathers",
           "Lights & Motion",
           "lights-and-motion"
          ],
          [
           "Fireflies",
           "Lights & Motion",
           "lights-and-motion"
          ],
          [
           "From Dust",
           "Lights & Motion",
           "lights-and-motion"
          ],
          [
           "Glistening - Reimagined",
           "Lights & Motion",
           "lights-and-motion"
          ],
          [
           "Glistening",
           "Lights & Motion",
           "lights-and-motion"
          ],
          [
           "Glow",
           "Lights & Motion",
           "lights-and-motion"
          ],
          [
           "I See You (feat. Frida Sundemo)",
           "Lights & Motion",
           "lights-and-motion"
          ],
          [
           "I See You - Reimagined (feat. Frida Sundemo)",
           "Lights & Motion",
           "lights-and-motion"
          ],
          [
           "Lucid Dreaming",
           "Lights & Motion",
           "lights-and-motion"
          ],
          [
           "Northern Lights",
           "Lights & Motion",
           "lights-and-motion"
          ],
          [
           "Pandora",
           "Lights & Motion",
           "lights-and-motion"
          ],
          [
           "Panic Attack",
           "Lights & Motion",
           "lights-and-motion"
          ],
          [
           "Paper Wings",
           "Lights & Motion",
           "lights-and-motion"
          ],
          [
           "Parachutes",
           "Lights & Motion",
           "lights-and-motion"
          ],
          [
           "Particle Storm",
           "Lights & Motion",
           "lights-and-motion"
          ],
          [
           "Perfect Symmetry",
           "Lights & Motion",
           "lights-and-motion"
          ],
          [
           "Phoenix",
           "Lights & Motion",
           "lights-and-motion"
          ],
          [
           "Reanimation - Revisited 10th Anniversary Edition",
           "Lights & Motion",
           "lights-and-motion"
          ],
          [
           "Reborn",
           "Lights & Motion",
           "lights-and-motion"
          ],
          [
           "Separated Hearts - Reimagined",
           "Lights & Motion",
           "lights-and-motion"
          ],
          [
           "Separated Hearts",
           "Lights & Motion",
           "lights-and-motion"
          ],
          [
           "Silver Lining",
           "Lights & Motion",
           "lights-and-motion"
          ],
          [
           "Sleeping Giant",
           "Lights & Motion",
           "lights-and-motion"
          ],
          [
           "Sypher",
           "Lights & Motion",
           "lights-and-motion"
          ],
          [
           "The First Day",
           "Lights & Motion",
           "lights-and-motion"
          ],
          [
           "The Great Wide Open - Reimagined",
           "Lights & Motion",
           "lights-and-motion"
          ],
          [
           "The Great Wide Open",
           "Lights & Motion",
           "lights-and-motion"
          ],
          [
           "The Moments Before",
           "Lights & Motion",
           "lights-and-motion"
          ],
          [
           "The Spectacular Quiet",
           "Lights & Motion",
           "lights-and-motion"
          ],
          [
           "The World I Remember",
           "Lights & Motion",
           "lights-and-motion"
          ],
          [
           "This Explosion Within",
           "Lights & Motion",
           "lights-and-motion"
          ],
          [
           "Touching Sky",
           "Lights & Motion",
           "lights-and-motion"
          ],
          [
           "We Only Have Forever",
           "Lights & Motion",
           "lights-and-motion"
          ],
          [
           "When Everything Is Falling",
           "Lights & Motion",
           "lights-and-motion"
          ],
          [
           "Wilderness",
           "Lights & Motion",
           "lights-and-motion"
          ],
          [
           "Winter Solstice",
           "Lights & Motion",
           "lights-and-motion"
          ],
          [
           "Wolves (feat. Johan Hasselblom)",
           "Lights & Motion",
           "lights-and-motion"
          ],
          [
           "Wolves - Reimagined (feat. Johan Hasselblom)",
           "Lights & Motion",
           "lights-and-motion"
          ],
          [
           "Woven",
           "Lights & Motion",
           "lights-and-motion"
          ],
          [
           "Year Zero",
           "Lights & Motion",
           "lights-and-motion"
          ]
         ],
         "hovertemplate": "playlist=%{customdata[2]}<br>chord_x=%{x}<br>chord_y=%{y}<br>song_name=%{customdata[0]}<br>artist=%{customdata[1]}<extra></extra>",
         "legendgroup": "lights-and-motion",
         "marker": {
          "color": "#00cc96",
          "symbol": "circle"
         },
         "mode": "markers",
         "name": "lights-and-motion",
         "orientation": "v",
         "showlegend": true,
         "x": [
          16.548343848701066,
          16.06520112662314,
          14.460744314527695,
          12.754398647715707,
          15.015209560797762,
          7.866561882106257,
          -6.248132484625886,
          16.345675377224484,
          0.2584569884139792,
          18.663681430277354,
          9.77644204850613,
          12.670827269780869,
          -0.2887279253858267,
          12.524829431832332,
          11.245467910398826,
          13.861233466652255,
          14.036914101577013,
          20.41312368384591,
          19.460839120070723,
          17.049775465675484,
          12.689558344484723,
          14.774185784933778,
          11.545158168680713,
          12.584903385636185,
          -5.435344834352143,
          -25.904364044906398,
          -7.060202614155455,
          10.961496557800332,
          15.660085079650123,
          15.011994979377718,
          10.814838697093336,
          -3.7859103786091914,
          -14.290571602553646,
          11.946534133095907,
          13.897389988075908,
          0.8185909671687361,
          2.878775830267532,
          14.98576092368873,
          16.16102631556328,
          -2.074036891229538,
          13.257358838065253,
          21.3000357091448,
          17.42301790737462,
          21.770545203449934,
          13.182703870325437,
          12.914178746343191,
          12.274685382164533,
          18.517280267168164,
          -4.082797163349602,
          3.8302093516973432,
          21.563860698634603,
          15.556283199671284,
          2.748775843409527,
          -7.575882885914624,
          17.26642064935683,
          11.793608177629489
         ],
         "xaxis": "x",
         "y": [
          -13.63984361725899,
          -16.29934154471651,
          15.073511352379894,
          -17.271266358323114,
          -1.1266118055266676,
          -5.610189372444541,
          18.961171107420448,
          12.190212401213795,
          19.961948476991502,
          -13.813562104819344,
          -16.939586391104957,
          -7.9053084229702915,
          17.279643701509578,
          -16.25072515298933,
          -8.355983228291295,
          16.09994518853317,
          -15.97243166267567,
          4.1871771182421975,
          14.163000390028737,
          13.820343272425369,
          12.512728673911537,
          -16.980972910284773,
          -11.726985990009208,
          -13.091722611090464,
          19.732664569328975,
          1.444522275085037,
          15.572806751957454,
          13.194542299876254,
          -17.31806308502232,
          -18.251364638665585,
          -4.688428090879716,
          18.863113737350165,
          18.030310358338674,
          -8.590498085909587,
          4.991035338641402,
          21.629046315647756,
          17.22244270308735,
          -15.775374828239569,
          14.460202476620303,
          18.89059473091394,
          -12.20532739976293,
          2.625105442568858,
          5.416047998178483,
          7.927720108147641,
          -18.236502203001287,
          -10.482923000430887,
          -11.417944904528037,
          -13.219310932393794,
          19.60109266479202,
          19.656549263190886,
          13.514878145234091,
          -18.19024874934687,
          -14.77608249988881,
          -20.999442418149503,
          14.304301007386368,
          22.554589000696296
         ],
         "yaxis": "y",
         "type": "scatter"
        },
        {
         "customdata": [
          [
           "Another Wave from You",
           "M83",
           "m83"
          ],
          [
           "Claudia Lewis",
           "M83",
           "m83"
          ],
          [
           "Echoes of Mine",
           "M83",
           "m83"
          ],
          [
           "Fountains",
           "M83",
           "m83"
          ],
          [
           "Intro",
           "M83",
           "m83"
          ],
          [
           "Klaus I Love You",
           "M83",
           "m83"
          ],
          [
           "Midnight City",
           "M83",
           "m83"
          ],
          [
           "My Tears Are Becoming a Sea",
           "M83",
           "m83"
          ],
          [
           "New Map",
           "M83",
           "m83"
          ],
          [
           "Ok Pal",
           "M83",
           "m83"
          ],
          [
           "Outro",
           "M83",
           "m83"
          ],
          [
           "Raconte-moi une histoire",
           "M83",
           "m83"
          ],
          [
           "Reunion",
           "M83",
           "m83"
          ],
          [
           "Soon, My Friend",
           "M83",
           "m83"
          ],
          [
           "Splendor",
           "M83",
           "m83"
          ],
          [
           "Steve Mcqueen",
           "M83",
           "m83"
          ],
          [
           "This Bright Flash",
           "M83",
           "m83"
          ],
          [
           "Train to Pluton",
           "M83",
           "m83"
          ],
          [
           "Wait",
           "M83",
           "m83"
          ],
          [
           "When Will You Come Home",
           "M83",
           "m83"
          ],
          [
           "Where the Boats Go",
           "M83",
           "m83"
          ],
          [
           "Year One, One Ufo",
           "M83",
           "m83"
          ],
          [
           "Ashes of Our Fathers",
           "M83",
           "m83"
          ],
          [
           "Canyon Battle",
           "M83",
           "m83"
          ],
          [
           "Earth 2077",
           "M83",
           "m83"
          ],
          [
           "Fearful Odds",
           "M83",
           "m83"
          ],
          [
           "I'm Sending You Away",
           "M83",
           "m83"
          ],
          [
           "Jack's Dream",
           "M83",
           "m83"
          ],
          [
           "Losing Control",
           "M83",
           "m83"
          ],
          [
           "Odyssey Rescue",
           "M83",
           "m83"
          ],
          [
           "Radiation Zone",
           "M83",
           "m83"
          ],
          [
           "Raven Rock",
           "M83",
           "m83"
          ],
          [
           "StarWaves",
           "M83",
           "m83"
          ],
          [
           "Tech 49",
           "M83",
           "m83"
          ],
          [
           "Temples of Our Gods",
           "M83",
           "m83"
          ],
          [
           "Undimmed by Time, Unbound by Death",
           "M83",
           "m83"
          ],
          [
           "Waking Up",
           "M83",
           "m83"
          ],
          [
           "You Can't Save Her",
           "M83",
           "m83"
          ],
          [
           "Oblivion",
           "M83",
           "m83"
          ]
         ],
         "hovertemplate": "playlist=%{customdata[2]}<br>chord_x=%{x}<br>chord_y=%{y}<br>song_name=%{customdata[0]}<br>artist=%{customdata[1]}<extra></extra>",
         "legendgroup": "m83",
         "marker": {
          "color": "#ab63fa",
          "symbol": "circle"
         },
         "mode": "markers",
         "name": "m83",
         "orientation": "v",
         "showlegend": true,
         "x": [
          -25.294454348827564,
          8.531339910626407,
          19.898594585613154,
          -23.28731526300648,
          -11.640668257069134,
          -2.1865865581393527,
          3.9318794028000323,
          -7.054991020323697,
          3.6177072743650656,
          -3.143317187357844,
          19.436304943333212,
          -12.029646169105394,
          13.144937869374475,
          14.584997266369328,
          8.214937571262814,
          7.080276142421879,
          25.845980056066047,
          15.523373388501378,
          21.901381020738103,
          -27.460305997628005,
          -22.792717554543866,
          -3.106551134127495,
          -2.6928969097230233,
          5.463796213905914,
          2.17117490916317,
          -14.821374460758829,
          14.466602461516194,
          -27.517420576420598,
          -0.07610440607820002,
          0.8537064009072505,
          7.01494950030585,
          -17.546485702103723,
          -2.2317562809211355,
          4.792700887713975,
          5.593915795304801,
          -26.735533051041003,
          6.7513813077303,
          -21.043596606733377,
          7.249029219546954
         ],
         "xaxis": "x",
         "y": [
          -1.3268969524255885,
          -3.1743189810397703,
          -7.27849972783449,
          14.09849107510065,
          11.369434074135683,
          18.112942369438226,
          15.237672277874843,
          19.15198628564889,
          16.60110315441036,
          16.03538219159452,
          12.647780262859593,
          -22.713231294704258,
          -0.8720077862326802,
          -17.716302085146584,
          15.527967485209857,
          14.735821597186307,
          -4.539628559549506,
          -15.721646852002616,
          11.050573287004191,
          1.8878324552982366,
          9.782934377728997,
          21.26293102515147,
          12.186311013362133,
          -1.1138152805931025,
          8.685206233870034,
          -14.842828029985695,
          1.5141501822114272,
          -1.1182166029665732,
          14.457779368630582,
          -3.5997265480461653,
          2.60764333206204,
          -13.60965455176624,
          -20.214957418377733,
          8.202809953998326,
          -22.06425461466514,
          -3.672534125702894,
          -19.880185404711913,
          3.9255012015303703,
          6.312892120170854
         ],
         "yaxis": "y",
         "type": "scatter"
        },
        {
         "customdata": [
          [
           "A Moment Apart",
           "ODESZA",
           "odesza"
          ],
          [
           "Across The Room (feat. Leon Bridges)",
           "ODESZA",
           "odesza"
          ],
          [
           "Boy",
           "ODESZA",
           "odesza"
          ],
          [
           "Corners Of The Earth (feat. RY X)",
           "ODESZA",
           "odesza"
          ],
          [
           "Divide (feat. Kelsey Bulkin)",
           "ODESZA",
           "odesza"
          ],
          [
           "Everything At Your Feet (feat. The Chamanas)",
           "ODESZA",
           "odesza"
          ],
          [
           "Falls (feat. Sasha Alex Sloan)",
           "ODESZA",
           "odesza"
          ],
          [
           "Falls (Reprise) (feat. Sasha Alex Sloan)",
           "ODESZA",
           "odesza"
          ],
          [
           "Falls (Reprise) - Instrumental",
           "ODESZA",
           "odesza"
          ],
          [
           "Higher Ground (feat. Naomi Wild)",
           "ODESZA",
           "odesza"
          ],
          [
           "Higher Ground (Reprise) (feat. Naomi Wild)",
           "ODESZA",
           "odesza"
          ],
          [
           "Higher Ground (Reprise) - Instrumental",
           "ODESZA",
           "odesza"
          ],
          [
           "Intro",
           "ODESZA",
           "odesza"
          ],
          [
           "It’s Only (feat. Zyra) - ODESZA VIP Remix",
           "ODESZA",
           "odesza"
          ],
          [
           "Just A Memory (feat. Regina Spektor)",
           "ODESZA",
           "odesza"
          ],
          [
           "La Ciudad",
           "ODESZA",
           "odesza"
          ],
          [
           "Late Night",
           "ODESZA",
           "odesza"
          ],
          [
           "Line Of Sight (feat. WYNNE & Mansionair)",
           "ODESZA",
           "odesza"
          ],
          [
           "Line Of Sight (Reprise) (feat. WYNNE & Mansionair)",
           "ODESZA",
           "odesza"
          ],
          [
           "Line Of Sight (Reprise) - Instrumental",
           "ODESZA",
           "odesza"
          ],
          [
           "Loyal",
           "ODESZA",
           "odesza"
          ],
          [
           "Memories That You Call (feat. Monsoonsiren) - ODESZA & Golden Features VIP Remix",
           "ODESZA",
           "odesza"
          ],
          [
           "Meridian",
           "ODESZA",
           "odesza"
          ],
          [
           "Show Me",
           "ODESZA",
           "odesza"
          ],
          [
           "Thin Floors And Tall Ceilings",
           "ODESZA",
           "odesza"
          ]
         ],
         "hovertemplate": "playlist=%{customdata[2]}<br>chord_x=%{x}<br>chord_y=%{y}<br>song_name=%{customdata[0]}<br>artist=%{customdata[1]}<extra></extra>",
         "legendgroup": "odesza",
         "marker": {
          "color": "#FFA15A",
          "symbol": "circle"
         },
         "mode": "markers",
         "name": "odesza",
         "orientation": "v",
         "showlegend": true,
         "x": [
          2.9699439580282547,
          -18.068151569584273,
          14.412521969696819,
          6.8082837307271165,
          17.12692223784307,
          22.93675309068643,
          -2.410835452755264,
          -20.62096798425282,
          -20.871693316321412,
          -5.038094595597016,
          -17.582806622054004,
          -17.08608518163525,
          4.077285268240781,
          5.06971160294128,
          20.417319070224863,
          9.99912681852947,
          9.891564794658331,
          7.027102540328423,
          -23.53662037434228,
          -23.522563731358527,
          6.328725014119492,
          1.3619355502302435,
          -0.901538021634533,
          5.849603009599438,
          -1.668281393186687
         ],
         "xaxis": "x",
         "y": [
          -18.60442119558892,
          5.074187089691944,
          4.689414524114671,
          20.534343546040805,
          -10.038852525035823,
          7.69162290531704,
          -2.8129885362060576,
          10.971757314184249,
          9.220740340253652,
          15.663790759259964,
          7.035676149175991,
          6.390961958426352,
          16.835358743420926,
          11.751856218247637,
          -8.048643007879367,
          11.414426727775735,
          8.938906854459399,
          -20.333828498331584,
          -8.403285388881027,
          -6.971688716858338,
          18.09008795398635,
          0.9039443776082222,
          13.798260850166711,
          16.65572592692356,
          -16.099647784897762
         ],
         "yaxis": "y",
         "type": "scatter"
        },
        {
         "customdata": [
          [
           "April 10, 2019- Powehi - Image of a Black Hole",
           "Sleeping At Last",
           "sleeping-at-last"
          ],
          [
           "August 12, 2018- Perseid Meteor Shower",
           "Sleeping At Last",
           "sleeping-at-last"
          ],
          [
           "August 21, 2017- Total Solar Eclipse",
           "Sleeping At Last",
           "sleeping-at-last"
          ],
          [
           "December 13, 2017- Geminid Meteor Shower",
           "Sleeping At Last",
           "sleeping-at-last"
          ],
          [
           "December 17, 2018- Farout",
           "Sleeping At Last",
           "sleeping-at-last"
          ],
          [
           "December 21, 2020- The Great Conjunction",
           "Sleeping At Last",
           "sleeping-at-last"
          ],
          [
           "December 25, 2021- Webb Space Telescope - Launch",
           "Sleeping At Last",
           "sleeping-at-last"
          ],
          [
           "February 1, 2023- C2022 E3 - Comet Ztf",
           "Sleeping At Last",
           "sleeping-at-last"
          ],
          [
           "February 13, 2019- Opportunity - Mission Complete",
           "Sleeping At Last",
           "sleeping-at-last"
          ],
          [
           "February 18, 2021- Perseverance - Mars Landing",
           "Sleeping At Last",
           "sleeping-at-last"
          ],
          [
           "January 30, 2020- Spitzer - Final Voyage",
           "Sleeping At Last",
           "sleeping-at-last"
          ],
          [
           "January 31, 2018- Super Blue Blood Moon",
           "Sleeping At Last",
           "sleeping-at-last"
          ],
          [
           "July 22, 2020- C  2020 F3 - Comet Neowise",
           "Sleeping At Last",
           "sleeping-at-last"
          ],
          [
           "July 27, 2018- Total Lunar Eclipse",
           "Sleeping At Last",
           "sleeping-at-last"
          ],
          [
           "July 4, 2020- Aphelion",
           "Sleeping At Last",
           "sleeping-at-last"
          ],
          [
           "June 24, 2022- Parade of Planets",
           "Sleeping At Last",
           "sleeping-at-last"
          ],
          [
           "June 30, 2018- Pds 70b (Birth of a Planet)",
           "Sleeping At Last",
           "sleeping-at-last"
          ],
          [
           "October 30, 2018- Kepler - Goodnight",
           "Sleeping At Last",
           "sleeping-at-last"
          ],
          [
           "September 15, 2017- Cassini - The Grand Finale",
           "Sleeping At Last",
           "sleeping-at-last"
          ]
         ],
         "hovertemplate": "playlist=%{customdata[2]}<br>chord_x=%{x}<br>chord_y=%{y}<br>song_name=%{customdata[0]}<br>artist=%{customdata[1]}<extra></extra>",
         "legendgroup": "sleeping-at-last",
         "marker": {
          "color": "#19d3f3",
          "symbol": "circle"
         },
         "mode": "markers",
         "name": "sleeping-at-last",
         "orientation": "v",
         "showlegend": true,
         "x": [
          22.50309889855237,
          -0.17086543134380902,
          -25.532003205036673,
          -25.489184495343483,
          15.089679155088179,
          -16.348282198383245,
          16.322469284393335,
          -19.368628081691938,
          19.119270653350046,
          -25.608527690832283,
          16.505898624694435,
          15.862892030994171,
          -7.902792610899341,
          -21.48484205635356,
          3.622977951485655,
          -18.29071640002493,
          -9.077135230144899,
          -12.568654524845446,
          -10.22071706860882
         ],
         "xaxis": "x",
         "y": [
          -2.8500239150024167,
          26.798018229576158,
          6.329471671275112,
          2.3893191010513735,
          -15.15979434062994,
          -17.09581950070931,
          13.111987939918988,
          -15.25011400456414,
          16.487284736377042,
          3.9947966521719365,
          -13.122955865967123,
          -14.12542329048491,
          18.776065606209755,
          -8.555798551808602,
          -9.99174036787715,
          15.940517219089909,
          10.94269386469863,
          -9.756920670005362,
          -20.72530429060907
         ],
         "yaxis": "y",
         "type": "scatter"
        },
        {
         "customdata": [
          [
           "It's Ok If You Forget Me",
           "Astrid S",
           "synth-pop"
          ],
          [
           "Young & Alive",
           "Bazzi",
           "synth-pop"
          ],
          [
           "Paralyze",
           "Bjørnskov",
           "synth-pop"
          ],
          [
           "San Diego",
           "BRDGS",
           "synth-pop"
          ],
          [
           "Ear Candy",
           "Caye",
           "synth-pop"
          ],
          [
           "12 Hours",
           "Chris James",
           "synth-pop"
          ],
          [
           "My Universe",
           "Coldplay",
           "synth-pop"
          ],
          [
           "Overdrive",
           "Conan Gray",
           "synth-pop"
          ],
          [
           "Titanic",
           "Cosmo's Midnight",
           "synth-pop"
          ],
          [
           "Champagne For Two",
           "Devin Kennedy",
           "synth-pop"
          ],
          [
           "Another Round",
           "Elina",
           "synth-pop"
          ],
          [
           "How",
           "Elina",
           "synth-pop"
          ],
          [
           "Paper Planes",
           "Elina",
           "synth-pop"
          ],
          [
           "Nirvana",
           "ELLIANA",
           "synth-pop"
          ],
          [
           "Lost In Space",
           "Emmit Fenn",
           "synth-pop"
          ],
          [
           "12-45 - Stripped",
           "Etham",
           "synth-pop"
          ],
          [
           "Purpose - Stripped",
           "Etham",
           "synth-pop"
          ],
          [
           "California",
           "Ethan Dufault",
           "synth-pop"
          ],
          [
           "Hurt The Ones We Love The Most",
           "Evan Blum",
           "synth-pop"
          ],
          [
           "Young Love",
           "Falcon",
           "synth-pop"
          ],
          [
           "I Should've Told You",
           "Fiji Blue",
           "synth-pop"
          ],
          [
           "Waves",
           "Fiji Blue",
           "synth-pop"
          ],
          [
           "Healing",
           "FLETCHER",
           "synth-pop"
          ],
          [
           "hold on",
           "flor",
           "synth-pop"
          ],
          [
           "Automatic (feat. Jake Miller)",
           "Fly By Midnight",
           "synth-pop"
          ],
          [
           "Lovely",
           "Fly By Midnight",
           "synth-pop"
          ],
          [
           "Lonely",
           "Gatsby",
           "synth-pop"
          ],
          [
           "dear me,",
           "Gentle Bones",
           "synth-pop"
          ],
          [
           "I Wouldn't Know Any Better Than You",
           "Gentle Bones",
           "synth-pop"
          ],
          [
           "So Far So Good",
           "Great Good Fine Ok",
           "synth-pop"
          ],
          [
           "Falling",
           "Harry Styles",
           "synth-pop"
          ],
          [
           "sometimes",
           "Heather Sommer",
           "synth-pop"
          ],
          [
           "you heard me",
           "Heather Sommer",
           "synth-pop"
          ],
          [
           "Crying Over You ◐",
           "HONNE",
           "synth-pop"
          ],
          [
           "Day Dreaming",
           "Jack & Jack",
           "synth-pop"
          ],
          [
           "Ross And Rachel",
           "Jake Miller",
           "synth-pop"
          ],
          [
           "Showing You Off",
           "Jake Miller",
           "synth-pop"
          ],
          [
           "Like No One Does",
           "Jake Scott",
           "synth-pop"
          ],
          [
           "CWJBHN",
           "Jake Scott",
           "synth-pop"
          ],
          [
           "drive all night",
           "joan",
           "synth-pop"
          ],
          [
           "i loved you first",
           "joan",
           "synth-pop"
          ],
          [
           "love somebody like you",
           "joan",
           "synth-pop"
          ],
          [
           "magnetic",
           "joan",
           "synth-pop"
          ],
          [
           "6 months",
           "John K",
           "synth-pop"
          ],
          [
           "ilym (feat. ROSIE)",
           "John K",
           "synth-pop"
          ],
          [
           "I Believe",
           "Jonas Brothers",
           "synth-pop"
          ],
          [
           "I Quit Drinking",
           "Kelsea Ballerini",
           "synth-pop"
          ],
          [
           "13",
           "LANY",
           "synth-pop"
          ],
          [
           "dancing in the kitchen",
           "LANY",
           "synth-pop"
          ],
          [
           "dna",
           "LANY",
           "synth-pop"
          ],
          [
           "get away",
           "LANY",
           "synth-pop"
          ],
          [
           "I Don't Wanna Love You Anymore",
           "LANY",
           "synth-pop"
          ],
          [
           "if this is the last time",
           "LANY",
           "synth-pop"
          ],
          [
           "ILYSB - STRIPPED",
           "LANY",
           "synth-pop"
          ],
          [
           "ILYSB",
           "LANY",
           "synth-pop"
          ],
          [
           "Let Me Know",
           "LANY",
           "synth-pop"
          ],
          [
           "Malibu Nights",
           "LANY",
           "synth-pop"
          ],
          [
           "Super Far",
           "LANY",
           "synth-pop"
          ],
          [
           "Thru These Tears",
           "LANY",
           "synth-pop"
          ],
          [
           "up to me",
           "LANY",
           "synth-pop"
          ],
          [
           "you!",
           "LANY",
           "synth-pop"
          ],
          [
           "Tattoos Together",
           "Lauv",
           "synth-pop"
          ],
          [
           "When We Were Younger",
           "Loving Caliber",
           "synth-pop"
          ],
          [
           "Love You Back",
           "Madeon",
           "synth-pop"
          ],
          [
           "colorblind",
           "Mokita",
           "synth-pop"
          ],
          [
           "London",
           "Mokita",
           "synth-pop"
          ],
          [
           "Ready Yet",
           "Mokita",
           "synth-pop"
          ],
          [
           "Shut Up I Love U",
           "Neptune",
           "synth-pop"
          ],
          [
           "This Is Heaven",
           "Nick Jonas",
           "synth-pop"
          ],
          [
           "Plot Twist",
           "NIKI",
           "synth-pop"
          ],
          [
           "Waves",
           "Paige",
           "synth-pop"
          ],
          [
           "Shelter",
           "Porter Robinson",
           "synth-pop"
          ],
          [
           "Outsider",
           "Rachel Grae",
           "synth-pop"
          ],
          [
           "Dandelions",
           "Ruth B.",
           "synth-pop"
          ],
          [
           "Lie",
           "Sasha Alex Sloan",
           "synth-pop"
          ],
          [
           "Day Dreaming",
           "Sopha",
           "synth-pop"
          ],
          [
           "I Always Wanna Die (Sometimes)",
           "The 1975",
           "synth-pop"
          ],
          [
           "I'm In Love With You",
           "The 1975",
           "synth-pop"
          ],
          [
           "It's Not Living (If It's Not With You)",
           "The 1975",
           "synth-pop"
          ],
          [
           "Robbers",
           "The 1975",
           "synth-pop"
          ],
          [
           "She's American",
           "The 1975",
           "synth-pop"
          ],
          [
           "Somebody Else",
           "The 1975",
           "synth-pop"
          ],
          [
           "Going Home",
           "The Aces",
           "synth-pop"
          ],
          [
           "Sunset",
           "The Midnight",
           "synth-pop"
          ],
          [
           "Say So",
           "The Sam Willows",
           "synth-pop"
          ],
          [
           "I Can't Stop Thinking About You",
           "The Shadowboxers",
           "synth-pop"
          ],
          [
           "Strawberries & Cigarettes",
           "Troye Sivan",
           "synth-pop"
          ],
          [
           "If Only for Tonight",
           "Vacation Manor",
           "synth-pop"
          ],
          [
           "rocket science",
           "vaultboy",
           "synth-pop"
          ],
          [
           "no excuses",
           "Virginia To Vegas",
           "synth-pop"
          ],
          [
           "Got A Little Crush On You",
           "Wildflowers",
           "synth-pop"
          ],
          [
           "Talking To Myself",
           "Will Jay",
           "synth-pop"
          ],
          [
           "Dance Like Nobody's Watching",
           "Yuna",
           "synth-pop"
          ],
          [
           "dancing in the kitchen",
           "Zachary Knowles",
           "synth-pop"
          ],
          [
           "stranger to me",
           "Zachary Knowles",
           "synth-pop"
          ],
          [
           "could you love me while i hate myself",
           "Zeph",
           "synth-pop"
          ]
         ],
         "hovertemplate": "playlist=%{customdata[2]}<br>chord_x=%{x}<br>chord_y=%{y}<br>song_name=%{customdata[0]}<br>artist=%{customdata[1]}<extra></extra>",
         "legendgroup": "synth-pop",
         "marker": {
          "color": "#FF6692",
          "symbol": "circle"
         },
         "mode": "markers",
         "name": "synth-pop",
         "orientation": "v",
         "showlegend": true,
         "x": [
          -12.656396188128104,
          -18.37560110380112,
          12.335256901829817,
          -0.3485597783076138,
          2.2726226180890796,
          -7.183891641751487,
          -2.1813369414743455,
          6.026136906360782,
          22.597447383287097,
          15.315463509835338,
          12.081371701913568,
          -21.914139155931732,
          18.625942885088946,
          -9.95032219243284,
          -18.9026708455715,
          4.67004996795143,
          -20.345153961915646,
          0.5722629330626832,
          0.8545473674772146,
          -7.766991019644177,
          -18.886116523005057,
          -0.165036729827853,
          23.382027590475765,
          -5.805178504139799,
          -11.648884603471613,
          14.717928328621953,
          -14.803575820973627,
          -14.238970490625402,
          8.445203673355078,
          8.27913969356629,
          -8.425782413007187,
          0.5304846444408132,
          13.136569081885302,
          16.16879201590866,
          2.1566825120334245,
          6.158337233096802,
          -13.521683976389717,
          -13.546411178156673,
          -9.076973417747073,
          2.4413639094943265,
          14.80318654684208,
          20.46064753494798,
          -4.844165611035351,
          -12.49496083247143,
          -6.100632650285637,
          0.1058529135933116,
          -21.967380025784713,
          -16.026436653082456,
          -11.77150316417603,
          -4.640931367892934,
          -12.003569081273513,
          15.783021349259732,
          -16.20973987155267,
          13.50940422716233,
          -0.90568349411566,
          2.1708815368655605,
          -11.650753476544375,
          -5.178023722549657,
          -9.132128995382216,
          22.95309788789832,
          2.9542635647628823,
          21.691235817847563,
          -15.1747780688635,
          -4.758022063526199,
          -15.187515011374215,
          -17.17655083935676,
          18.735742726878815,
          -1.3479714462665833,
          13.473671808805157,
          -9.31502805907649,
          -2.082586571114941,
          10.606999008724074,
          -20.448871222289014,
          -10.649703516239782,
          -6.962292062273612,
          -9.434526632891014,
          -3.429420966513562,
          13.256872916553343,
          -0.31397216634759584,
          -0.11934293810632861,
          -22.982335801301023,
          14.712554500428121,
          13.398108114452166,
          20.075572104379212,
          15.90182992265789,
          15.180351846798672,
          2.145785905480875,
          -13.179116936304496,
          -6.812614000989605,
          0.9929204782754903,
          12.438569003060715,
          8.9997509239902,
          -3.9969069741745553,
          19.727723662839555,
          -12.712020551106065,
          3.766662948600442
         ],
         "xaxis": "x",
         "y": [
          14.597058807756463,
          -14.337889126407477,
          3.751202449334849,
          18.27254172172647,
          -2.0356057093640456,
          -16.086520687759165,
          17.332257389503553,
          -6.623685384077826,
          3.121880341562227,
          -0.11603061038826373,
          16.15970248500852,
          6.871828438990399,
          8.920797801379548,
          23.264766889983875,
          -17.03694819343418,
          -18.31289171769958,
          -9.896206078746694,
          19.448629292843243,
          18.40714824260513,
          -11.643859487937217,
          -14.181800404718116,
          11.270575834125482,
          12.356502428819006,
          0.923430673446149,
          1.6408008876436517,
          -11.407692823395463,
          -17.252784795360586,
          13.758184608357015,
          17.705263028738745,
          -17.08629485535292,
          21.550912989944134,
          18.992901369954847,
          16.20377691719112,
          16.041268891092546,
          -21.23456299431542,
          16.962299902502266,
          20.682582084777856,
          -21.76907644564199,
          -20.09991092354402,
          17.25005775162615,
          -7.029804066193499,
          -0.4163100036548517,
          -23.71243220005183,
          -19.594919042374386,
          19.2197551743559,
          18.05925860158867,
          1.400706845632056,
          14.470050726256376,
          20.69499507504297,
          17.12172323744357,
          -15.150975204874916,
          -15.108797664878248,
          18.133962028781323,
          -16.570823048455168,
          -22.474827786238297,
          16.3157121496144,
          21.212576203513354,
          7.395696990007771,
          14.920316860794612,
          11.815602395692448,
          -19.371648492392087,
          12.577761230523159,
          -18.538640488355444,
          18.284451000359358,
          2.16824165041341,
          17.2841740873032,
          11.481068552769703,
          17.893701835856508,
          -14.202201103633497,
          8.739571740209387,
          16.47368323863481,
          -3.790573874835907,
          -13.799393904966083,
          6.3752507512598005,
          7.287830725773024,
          9.932137745996318,
          21.249429252143234,
          16.976970441318958,
          14.147440935914956,
          16.808609967233124,
          2.6537157679352816,
          -14.163984154536282,
          16.535450679836845,
          -1.5634176864606517,
          12.94501616505163,
          14.889167361284661,
          17.541935184984307,
          6.44293770628109,
          -14.737948097971246,
          17.457105686027614,
          16.62652496143609,
          -11.414358202306985,
          -5.885387926205966,
          12.479766124321769,
          11.513931051160476,
          17.599489499726456
         ],
         "yaxis": "y",
         "type": "scatter"
        },
        {
         "customdata": [
          [
           "Allure",
           "Tony Anderson",
           "tony-anderson"
          ],
          [
           "Aurora",
           "Tony Anderson",
           "tony-anderson"
          ],
          [
           "Chasm",
           "Tony Anderson",
           "tony-anderson"
          ],
          [
           "Darkest Night",
           "Tony Anderson",
           "tony-anderson"
          ],
          [
           "Deep Waters - Original Sketch",
           "Tony Anderson",
           "tony-anderson"
          ],
          [
           "Deep Waters",
           "Tony Anderson",
           "tony-anderson"
          ],
          [
           "Delusion",
           "Tony Anderson",
           "tony-anderson"
          ],
          [
           "Eyes Wide Open - Cinematic Mix",
           "Tony Anderson",
           "tony-anderson"
          ],
          [
           "Eyes Wide Open",
           "Tony Anderson",
           "tony-anderson"
          ],
          [
           "Face of the Father",
           "Tony Anderson",
           "tony-anderson"
          ],
          [
           "Farthest Seas",
           "Tony Anderson",
           "tony-anderson"
          ],
          [
           "Finding Your Heart",
           "Tony Anderson",
           "tony-anderson"
          ],
          [
           "Halo",
           "Tony Anderson",
           "tony-anderson"
          ],
          [
           "High Tide",
           "Tony Anderson",
           "tony-anderson"
          ],
          [
           "Immanuel",
           "Tony Anderson",
           "tony-anderson"
          ],
          [
           "Immersion",
           "Tony Anderson",
           "tony-anderson"
          ],
          [
           "In the Distance",
           "Tony Anderson",
           "tony-anderson"
          ],
          [
           "Incision",
           "Tony Anderson",
           "tony-anderson"
          ],
          [
           "Like a Child - Cinematic Mix",
           "Tony Anderson",
           "tony-anderson"
          ],
          [
           "Low Tide",
           "Tony Anderson",
           "tony-anderson"
          ],
          [
           "Lune",
           "Tony Anderson",
           "tony-anderson"
          ],
          [
           "Morning's Wings",
           "Tony Anderson",
           "tony-anderson"
          ],
          [
           "Nightingale",
           "Tony Anderson",
           "tony-anderson"
          ],
          [
           "No Place on Earth",
           "Tony Anderson",
           "tony-anderson"
          ],
          [
           "Nocturne in Paris",
           "Tony Anderson",
           "tony-anderson"
          ],
          [
           "Perennial",
           "Tony Anderson",
           "tony-anderson"
          ],
          [
           "Resurrect",
           "Tony Anderson",
           "tony-anderson"
          ],
          [
           "Retour",
           "Tony Anderson",
           "tony-anderson"
          ],
          [
           "Shalom",
           "Tony Anderson",
           "tony-anderson"
          ],
          [
           "Slipstream",
           "Tony Anderson",
           "tony-anderson"
          ],
          [
           "Something Can Grow",
           "Tony Anderson",
           "tony-anderson"
          ],
          [
           "Spiriteaux",
           "Tony Anderson",
           "tony-anderson"
          ],
          [
           "The King",
           "Tony Anderson",
           "tony-anderson"
          ],
          [
           "The Way Home",
           "Tony Anderson",
           "tony-anderson"
          ],
          [
           "Thin Place - Abbreviated",
           "Tony Anderson",
           "tony-anderson"
          ],
          [
           "Thin Place",
           "Tony Anderson",
           "tony-anderson"
          ],
          [
           "We Are One",
           "Tony Anderson",
           "tony-anderson"
          ],
          [
           "Wir Sind Gleich",
           "Tony Anderson",
           "tony-anderson"
          ],
          [
           "Younger",
           "Tony Anderson",
           "tony-anderson"
          ],
          [
           "Éclosion",
           "Tony Anderson",
           "tony-anderson"
          ],
          [
           "Éphémère",
           "Tony Anderson",
           "tony-anderson"
          ],
          [
           "Arpège",
           "Tony Anderson",
           "tony-anderson"
          ],
          [
           "Nuit",
           "Tony Anderson",
           "tony-anderson"
          ],
          [
           "Tenderness - Woven Remix",
           "Tony Anderson",
           "tony-anderson"
          ],
          [
           "Tenderness",
           "Tony Anderson",
           "tony-anderson"
          ],
          [
           "Cambodia - Ross Lara Remix",
           "Tony Anderson",
           "tony-anderson"
          ],
          [
           "Cambodia",
           "Tony Anderson",
           "tony-anderson"
          ],
          [
           "Oyarsa",
           "Tony Anderson",
           "tony-anderson"
          ]
         ],
         "hovertemplate": "playlist=%{customdata[2]}<br>chord_x=%{x}<br>chord_y=%{y}<br>song_name=%{customdata[0]}<br>artist=%{customdata[1]}<extra></extra>",
         "legendgroup": "tony-anderson",
         "marker": {
          "color": "#B6E880",
          "symbol": "circle"
         },
         "mode": "markers",
         "name": "tony-anderson",
         "orientation": "v",
         "showlegend": true,
         "x": [
          14.068153942557425,
          10.575593701450043,
          -20.93725988807564,
          0.7785228127164056,
          18.01554280787766,
          17.161946809336392,
          8.830946177954807,
          -16.299159069113553,
          -9.450538394944592,
          24.151053604802243,
          -15.759056672215733,
          14.968817205296514,
          0.9256780215247145,
          -11.835793014125958,
          13.219886063865586,
          15.178957280164118,
          -17.43436341237435,
          4.9024596995888325,
          -14.589218992351293,
          22.660071428596158,
          5.1464721874188815,
          -0.10158295707107766,
          -20.42355227586582,
          0.36183819628898656,
          5.706346122196725,
          9.269725758868725,
          8.74094446393603,
          -1.0414075700257885,
          15.13770336723786,
          -12.71976205258535,
          21.37926455019088,
          20.010106246739245,
          -7.445186768783631,
          -16.391187514556908,
          -13.4767389324262,
          -18.268656370347806,
          -11.470951568001613,
          14.11538783227837,
          18.577931775000003,
          5.955114749996842,
          7.653953752333213,
          -0.9117383239645999,
          3.964864603340543,
          4.188124305811221,
          1.3514863819804173,
          -0.7112455374355474,
          1.0361059460311473,
          -16.400970608196246
         ],
         "xaxis": "x",
         "y": [
          -19.494941425195886,
          -1.9074214296777334,
          -14.654462858970708,
          -11.06519214628016,
          -2.7059926714348492,
          0.3758588802644415,
          -17.042579216164516,
          -18.92019065674734,
          -22.96741928612368,
          3.4749961390506368,
          -18.35038014365635,
          -16.296837470993943,
          14.763247162064332,
          -23.524572739426088,
          -10.873948347137476,
          -14.100210502011869,
          -17.467872624825862,
          -20.261068122756253,
          -20.89103442665139,
          -4.053498611766977,
          -8.95912805548525,
          15.394714279333055,
          -15.684948557273465,
          14.408446673552886,
          9.59744458468205,
          -8.213157542783744,
          -8.93394472745703,
          11.642891914652317,
          -17.228462942823313,
          21.61587119456032,
          -11.165650044208544,
          -12.045051627443991,
          -19.25913398282015,
          -15.921319309939461,
          -18.569596069163005,
          -17.24569753909962,
          -17.993833564046927,
          -5.704533695953726,
          -11.435771948430764,
          6.008606693484546,
          -13.595497205582369,
          9.234941473364877,
          -12.789620270350222,
          -0.7040951913267434,
          -21.144249925882338,
          5.914692239634962,
          13.289298327577052,
          -14.76574712923962
         ],
         "yaxis": "y",
         "type": "scatter"
        }
       ],
       "layout": {
        "template": {
         "data": {
          "histogram2dcontour": [
           {
            "type": "histogram2dcontour",
            "colorbar": {
             "outlinewidth": 0,
             "ticks": ""
            },
            "colorscale": [
             [
              0.0,
              "#0d0887"
             ],
             [
              0.1111111111111111,
              "#46039f"
             ],
             [
              0.2222222222222222,
              "#7201a8"
             ],
             [
              0.3333333333333333,
              "#9c179e"
             ],
             [
              0.4444444444444444,
              "#bd3786"
             ],
             [
              0.5555555555555556,
              "#d8576b"
             ],
             [
              0.6666666666666666,
              "#ed7953"
             ],
             [
              0.7777777777777778,
              "#fb9f3a"
             ],
             [
              0.8888888888888888,
              "#fdca26"
             ],
             [
              1.0,
              "#f0f921"
             ]
            ]
           }
          ],
          "choropleth": [
           {
            "type": "choropleth",
            "colorbar": {
             "outlinewidth": 0,
             "ticks": ""
            }
           }
          ],
          "histogram2d": [
           {
            "type": "histogram2d",
            "colorbar": {
             "outlinewidth": 0,
             "ticks": ""
            },
            "colorscale": [
             [
              0.0,
              "#0d0887"
             ],
             [
              0.1111111111111111,
              "#46039f"
             ],
             [
              0.2222222222222222,
              "#7201a8"
             ],
             [
              0.3333333333333333,
              "#9c179e"
             ],
             [
              0.4444444444444444,
              "#bd3786"
             ],
             [
              0.5555555555555556,
              "#d8576b"
             ],
             [
              0.6666666666666666,
              "#ed7953"
             ],
             [
              0.7777777777777778,
              "#fb9f3a"
             ],
             [
              0.8888888888888888,
              "#fdca26"
             ],
             [
              1.0,
              "#f0f921"
             ]
            ]
           }
          ],
          "heatmap": [
           {
            "type": "heatmap",
            "colorbar": {
             "outlinewidth": 0,
             "ticks": ""
            },
            "colorscale": [
             [
              0.0,
              "#0d0887"
             ],
             [
              0.1111111111111111,
              "#46039f"
             ],
             [
              0.2222222222222222,
              "#7201a8"
             ],
             [
              0.3333333333333333,
              "#9c179e"
             ],
             [
              0.4444444444444444,
              "#bd3786"
             ],
             [
              0.5555555555555556,
              "#d8576b"
             ],
             [
              0.6666666666666666,
              "#ed7953"
             ],
             [
              0.7777777777777778,
              "#fb9f3a"
             ],
             [
              0.8888888888888888,
              "#fdca26"
             ],
             [
              1.0,
              "#f0f921"
             ]
            ]
           }
          ],
          "heatmapgl": [
           {
            "type": "heatmapgl",
            "colorbar": {
             "outlinewidth": 0,
             "ticks": ""
            },
            "colorscale": [
             [
              0.0,
              "#0d0887"
             ],
             [
              0.1111111111111111,
              "#46039f"
             ],
             [
              0.2222222222222222,
              "#7201a8"
             ],
             [
              0.3333333333333333,
              "#9c179e"
             ],
             [
              0.4444444444444444,
              "#bd3786"
             ],
             [
              0.5555555555555556,
              "#d8576b"
             ],
             [
              0.6666666666666666,
              "#ed7953"
             ],
             [
              0.7777777777777778,
              "#fb9f3a"
             ],
             [
              0.8888888888888888,
              "#fdca26"
             ],
             [
              1.0,
              "#f0f921"
             ]
            ]
           }
          ],
          "contourcarpet": [
           {
            "type": "contourcarpet",
            "colorbar": {
             "outlinewidth": 0,
             "ticks": ""
            }
           }
          ],
          "contour": [
           {
            "type": "contour",
            "colorbar": {
             "outlinewidth": 0,
             "ticks": ""
            },
            "colorscale": [
             [
              0.0,
              "#0d0887"
             ],
             [
              0.1111111111111111,
              "#46039f"
             ],
             [
              0.2222222222222222,
              "#7201a8"
             ],
             [
              0.3333333333333333,
              "#9c179e"
             ],
             [
              0.4444444444444444,
              "#bd3786"
             ],
             [
              0.5555555555555556,
              "#d8576b"
             ],
             [
              0.6666666666666666,
              "#ed7953"
             ],
             [
              0.7777777777777778,
              "#fb9f3a"
             ],
             [
              0.8888888888888888,
              "#fdca26"
             ],
             [
              1.0,
              "#f0f921"
             ]
            ]
           }
          ],
          "surface": [
           {
            "type": "surface",
            "colorbar": {
             "outlinewidth": 0,
             "ticks": ""
            },
            "colorscale": [
             [
              0.0,
              "#0d0887"
             ],
             [
              0.1111111111111111,
              "#46039f"
             ],
             [
              0.2222222222222222,
              "#7201a8"
             ],
             [
              0.3333333333333333,
              "#9c179e"
             ],
             [
              0.4444444444444444,
              "#bd3786"
             ],
             [
              0.5555555555555556,
              "#d8576b"
             ],
             [
              0.6666666666666666,
              "#ed7953"
             ],
             [
              0.7777777777777778,
              "#fb9f3a"
             ],
             [
              0.8888888888888888,
              "#fdca26"
             ],
             [
              1.0,
              "#f0f921"
             ]
            ]
           }
          ],
          "mesh3d": [
           {
            "type": "mesh3d",
            "colorbar": {
             "outlinewidth": 0,
             "ticks": ""
            }
           }
          ],
          "scatter": [
           {
            "marker": {
             "line": {
              "color": "#283442"
             }
            },
            "type": "scatter"
           }
          ],
          "parcoords": [
           {
            "type": "parcoords",
            "line": {
             "colorbar": {
              "outlinewidth": 0,
              "ticks": ""
             }
            }
           }
          ],
          "scatterpolargl": [
           {
            "type": "scatterpolargl",
            "marker": {
             "colorbar": {
              "outlinewidth": 0,
              "ticks": ""
             }
            }
           }
          ],
          "bar": [
           {
            "error_x": {
             "color": "#f2f5fa"
            },
            "error_y": {
             "color": "#f2f5fa"
            },
            "marker": {
             "line": {
              "color": "rgb(17,17,17)",
              "width": 0.5
             },
             "pattern": {
              "fillmode": "overlay",
              "size": 10,
              "solidity": 0.2
             }
            },
            "type": "bar"
           }
          ],
          "scattergeo": [
           {
            "type": "scattergeo",
            "marker": {
             "colorbar": {
              "outlinewidth": 0,
              "ticks": ""
             }
            }
           }
          ],
          "scatterpolar": [
           {
            "type": "scatterpolar",
            "marker": {
             "colorbar": {
              "outlinewidth": 0,
              "ticks": ""
             }
            }
           }
          ],
          "histogram": [
           {
            "marker": {
             "pattern": {
              "fillmode": "overlay",
              "size": 10,
              "solidity": 0.2
             }
            },
            "type": "histogram"
           }
          ],
          "scattergl": [
           {
            "marker": {
             "line": {
              "color": "#283442"
             }
            },
            "type": "scattergl"
           }
          ],
          "scatter3d": [
           {
            "type": "scatter3d",
            "line": {
             "colorbar": {
              "outlinewidth": 0,
              "ticks": ""
             }
            },
            "marker": {
             "colorbar": {
              "outlinewidth": 0,
              "ticks": ""
             }
            }
           }
          ],
          "scattermapbox": [
           {
            "type": "scattermapbox",
            "marker": {
             "colorbar": {
              "outlinewidth": 0,
              "ticks": ""
             }
            }
           }
          ],
          "scatterternary": [
           {
            "type": "scatterternary",
            "marker": {
             "colorbar": {
              "outlinewidth": 0,
              "ticks": ""
             }
            }
           }
          ],
          "scattercarpet": [
           {
            "type": "scattercarpet",
            "marker": {
             "colorbar": {
              "outlinewidth": 0,
              "ticks": ""
             }
            }
           }
          ],
          "carpet": [
           {
            "aaxis": {
             "endlinecolor": "#A2B1C6",
             "gridcolor": "#506784",
             "linecolor": "#506784",
             "minorgridcolor": "#506784",
             "startlinecolor": "#A2B1C6"
            },
            "baxis": {
             "endlinecolor": "#A2B1C6",
             "gridcolor": "#506784",
             "linecolor": "#506784",
             "minorgridcolor": "#506784",
             "startlinecolor": "#A2B1C6"
            },
            "type": "carpet"
           }
          ],
          "table": [
           {
            "cells": {
             "fill": {
              "color": "#506784"
             },
             "line": {
              "color": "rgb(17,17,17)"
             }
            },
            "header": {
             "fill": {
              "color": "#2a3f5f"
             },
             "line": {
              "color": "rgb(17,17,17)"
             }
            },
            "type": "table"
           }
          ],
          "barpolar": [
           {
            "marker": {
             "line": {
              "color": "rgb(17,17,17)",
              "width": 0.5
             },
             "pattern": {
              "fillmode": "overlay",
              "size": 10,
              "solidity": 0.2
             }
            },
            "type": "barpolar"
           }
          ],
          "pie": [
           {
            "automargin": true,
            "type": "pie"
           }
          ]
         },
         "layout": {
          "autotypenumbers": "strict",
          "colorway": [
           "#636efa",
           "#EF553B",
           "#00cc96",
           "#ab63fa",
           "#FFA15A",
           "#19d3f3",
           "#FF6692",
           "#B6E880",
           "#FF97FF",
           "#FECB52"
          ],
          "font": {
           "color": "#f2f5fa"
          },
          "hovermode": "closest",
          "hoverlabel": {
           "align": "left"
          },
          "paper_bgcolor": "rgb(17,17,17)",
          "plot_bgcolor": "rgb(17,17,17)",
          "polar": {
           "bgcolor": "rgb(17,17,17)",
           "angularaxis": {
            "gridcolor": "#506784",
            "linecolor": "#506784",
            "ticks": ""
           },
           "radialaxis": {
            "gridcolor": "#506784",
            "linecolor": "#506784",
            "ticks": ""
           }
          },
          "ternary": {
           "bgcolor": "rgb(17,17,17)",
           "aaxis": {
            "gridcolor": "#506784",
            "linecolor": "#506784",
            "ticks": ""
           },
           "baxis": {
            "gridcolor": "#506784",
            "linecolor": "#506784",
            "ticks": ""
           },
           "caxis": {
            "gridcolor": "#506784",
            "linecolor": "#506784",
            "ticks": ""
           }
          },
          "coloraxis": {
           "colorbar": {
            "outlinewidth": 0,
            "ticks": ""
           }
          },
          "colorscale": {
           "sequential": [
            [
             0.0,
             "#0d0887"
            ],
            [
             0.1111111111111111,
             "#46039f"
            ],
            [
             0.2222222222222222,
             "#7201a8"
            ],
            [
             0.3333333333333333,
             "#9c179e"
            ],
            [
             0.4444444444444444,
             "#bd3786"
            ],
            [
             0.5555555555555556,
             "#d8576b"
            ],
            [
             0.6666666666666666,
             "#ed7953"
            ],
            [
             0.7777777777777778,
             "#fb9f3a"
            ],
            [
             0.8888888888888888,
             "#fdca26"
            ],
            [
             1.0,
             "#f0f921"
            ]
           ],
           "sequentialminus": [
            [
             0.0,
             "#0d0887"
            ],
            [
             0.1111111111111111,
             "#46039f"
            ],
            [
             0.2222222222222222,
             "#7201a8"
            ],
            [
             0.3333333333333333,
             "#9c179e"
            ],
            [
             0.4444444444444444,
             "#bd3786"
            ],
            [
             0.5555555555555556,
             "#d8576b"
            ],
            [
             0.6666666666666666,
             "#ed7953"
            ],
            [
             0.7777777777777778,
             "#fb9f3a"
            ],
            [
             0.8888888888888888,
             "#fdca26"
            ],
            [
             1.0,
             "#f0f921"
            ]
           ],
           "diverging": [
            [
             0,
             "#8e0152"
            ],
            [
             0.1,
             "#c51b7d"
            ],
            [
             0.2,
             "#de77ae"
            ],
            [
             0.3,
             "#f1b6da"
            ],
            [
             0.4,
             "#fde0ef"
            ],
            [
             0.5,
             "#f7f7f7"
            ],
            [
             0.6,
             "#e6f5d0"
            ],
            [
             0.7,
             "#b8e186"
            ],
            [
             0.8,
             "#7fbc41"
            ],
            [
             0.9,
             "#4d9221"
            ],
            [
             1,
             "#276419"
            ]
           ]
          },
          "xaxis": {
           "gridcolor": "#283442",
           "linecolor": "#506784",
           "ticks": "",
           "title": {
            "standoff": 15
           },
           "zerolinecolor": "#283442",
           "automargin": true,
           "zerolinewidth": 2
          },
          "yaxis": {
           "gridcolor": "#283442",
           "linecolor": "#506784",
           "ticks": "",
           "title": {
            "standoff": 15
           },
           "zerolinecolor": "#283442",
           "automargin": true,
           "zerolinewidth": 2
          },
          "scene": {
           "xaxis": {
            "backgroundcolor": "rgb(17,17,17)",
            "gridcolor": "#506784",
            "linecolor": "#506784",
            "showbackground": true,
            "ticks": "",
            "zerolinecolor": "#C8D4E3",
            "gridwidth": 2
           },
           "yaxis": {
            "backgroundcolor": "rgb(17,17,17)",
            "gridcolor": "#506784",
            "linecolor": "#506784",
            "showbackground": true,
            "ticks": "",
            "zerolinecolor": "#C8D4E3",
            "gridwidth": 2
           },
           "zaxis": {
            "backgroundcolor": "rgb(17,17,17)",
            "gridcolor": "#506784",
            "linecolor": "#506784",
            "showbackground": true,
            "ticks": "",
            "zerolinecolor": "#C8D4E3",
            "gridwidth": 2
           }
          },
          "shapedefaults": {
           "line": {
            "color": "#f2f5fa"
           }
          },
          "annotationdefaults": {
           "arrowcolor": "#f2f5fa",
           "arrowhead": 0,
           "arrowwidth": 1
          },
          "geo": {
           "bgcolor": "rgb(17,17,17)",
           "landcolor": "rgb(17,17,17)",
           "subunitcolor": "#506784",
           "showland": true,
           "showlakes": true,
           "lakecolor": "rgb(17,17,17)"
          },
          "title": {
           "x": 0.05
          },
          "updatemenudefaults": {
           "bgcolor": "#506784",
           "borderwidth": 0
          },
          "sliderdefaults": {
           "bgcolor": "#C8D4E3",
           "borderwidth": 1,
           "bordercolor": "rgb(17,17,17)",
           "tickwidth": 0
          },
          "mapbox": {
           "style": "dark"
          }
         }
        },
        "xaxis": {
         "anchor": "y",
         "domain": [
          0.0,
          1.0
         ],
         "title": {
          "text": "chord_x"
         }
        },
        "yaxis": {
         "anchor": "x",
         "domain": [
          0.0,
          1.0
         ],
         "title": {
          "text": "chord_y"
         }
        },
        "legend": {
         "title": {
          "text": "playlist"
         },
         "tracegroupgap": 0
        },
        "margin": {
         "t": 60
        }
       },
       "config": {
        "plotlyServerURL": "https://plotly.com"
       }
      },
      "text/html": "<div>                            <div id=\"13de1d95-6283-4419-9051-ad51c7d7f552\" class=\"plotly-graph-div\" style=\"height:525px; width:100%;\"></div>            <script type=\"text/javascript\">                require([\"plotly\"], function(Plotly) {                    window.PLOTLYENV=window.PLOTLYENV || {};                                    if (document.getElementById(\"13de1d95-6283-4419-9051-ad51c7d7f552\")) {                    Plotly.newPlot(                        \"13de1d95-6283-4419-9051-ad51c7d7f552\",                        [{\"customdata\":[[\"Ivan Sings\",\"Aram Khachaturian\",\"kino\"],[\"Pr\\u00e9lude in E Minor, Op. 28, No. 4\",\"Fr\\u00e9d\\u00e9ric Chopin\",\"kino\"],[\"Above the Trees\",\"Kino\",\"kino\"],[\"All\",\"Kino\",\"kino\"],[\"Anew\",\"Kino\",\"kino\"],[\"As a Cloud\",\"Kino\",\"kino\"],[\"Away\",\"Kino\",\"kino\"],[\"Bloom\",\"Kino\",\"kino\"],[\"Charleston\",\"Kino\",\"kino\"],[\"Donau\",\"Kino\",\"kino\"],[\"Each and Every (Ambient Mix)\",\"Kino\",\"kino\"],[\"Each and Every (Piano)\",\"Kino\",\"kino\"],[\"Each and Every\",\"Kino\",\"kino\"],[\"Erl\\u00f6st  Redeemed\",\"Kino\",\"kino\"],[\"Gathering\",\"Kino\",\"kino\"],[\"God Bless Us, Every One\",\"Kino\",\"kino\"],[\"Hearth\",\"Kino\",\"kino\"],[\"H\\u0113o\",\"Kino\",\"kino\"],[\"In Earnest\",\"Kino\",\"kino\"],[\"Leinwand (Piano)\",\"Kino\",\"kino\"],[\"Leinwand\",\"Kino\",\"kino\"],[\"Lightly Tread\",\"Kino\",\"kino\"],[\"Lone\",\"Kino\",\"kino\"],[\"Many Colors\",\"Kino\",\"kino\"],[\"Merrily, Merrily\",\"Kino\",\"kino\"],[\"O Tannenbaum\",\"Kino\",\"kino\"],[\"Presidio\",\"Kino\",\"kino\"],[\"Rambuteau\",\"Kino\",\"kino\"],[\"Seafarer's Quartet\",\"Kino\",\"kino\"],[\"Seems\",\"Kino\",\"kino\"],[\"Silent Night\",\"Kino\",\"kino\"],[\"Silver Lake\",\"Kino\",\"kino\"],[\"St John's\",\"Kino\",\"kino\"],[\"Sunshine - Original\",\"Kino\",\"kino\"],[\"Swell\",\"Kino\",\"kino\"],[\"The Holly and the Ivy\",\"Kino\",\"kino\"],[\"The Weight Unbearable (Piano)\",\"Kino\",\"kino\"],[\"The Weight Unbearable\",\"Kino\",\"kino\"],[\"Till\",\"Kino\",\"kino\"],[\"Trio in E-flat Minor\",\"Kino\",\"kino\"],[\"Under\",\"Kino\",\"kino\"],[\"Water Lilies\",\"Kino\",\"kino\"],[\"Wide Awake\",\"Kino\",\"kino\"],[\"Willeth\",\"Kino\",\"kino\"],[\"Wolden\",\"Kino\",\"kino\"],[\"Yule\",\"Kino\",\"kino\"],[\"Piano Sonata No. 14 in C-Sharp Minor, Op. 27 No. 2 \\u201cMoonlight\\u201d- I. Adagio sostenuto\",\"Ludwig van Beethoven\",\"kino\"]],\"hovertemplate\":\"playlist=%{customdata[2]}<br>chord_x=%{x}<br>chord_y=%{y}<br>song_name=%{customdata[0]}<br>artist=%{customdata[1]}<extra></extra>\",\"legendgroup\":\"kino\",\"marker\":{\"color\":\"#636efa\",\"symbol\":\"circle\"},\"mode\":\"markers\",\"name\":\"kino\",\"orientation\":\"v\",\"showlegend\":true,\"x\":[-4.920797373229952,4.520678774387971,-23.964486762041343,23.637862985451402,-9.29964335647383,-22.056675077349123,-23.922123459060114,-24.029356146447206,-0.23700000787717831,-3.8673766133016403,-25.559396540973545,-25.434308226715633,-20.28467418320038,10.398686138989444,15.451707307603073,-25.993967009724507,-23.273744945902337,-1.4838801022473935,1.8793176022476084,22.051451103761426,21.625935456912963,-19.666810187119165,-16.86257038191238,11.258029702389004,-26.432086445637115,11.817760560563395,-25.318282958681017,-18.409520913004563,12.926028890818689,16.122733885739954,13.623185498237811,23.566398842669294,-10.729269036588434,-5.694329971628506,-17.181259154596276,-15.205645493820168,-26.541185815112097,-0.8104152857166653,1.1002019973419734,-23.429057164913818,14.406753512463014,-20.802026725315038,-19.765466009736137,-0.3123750018401889,12.12500813281233,-22.283280498024414,-12.038109492895366],\"xaxis\":\"x\",\"y\":[-17.838343565298253,-5.460191221434287,-0.09012532872158902,-2.059168236085199,22.48385416572074,-12.890090080785923,9.760643544038134,-4.3431901696237,20.322577396165762,-8.994089864541438,-4.559547121784305,-6.268458999378446,-6.3179915629096985,-0.64363533799661,-9.5034318586321,-7.294277524975867,-2.467005057766357,-26.70937891438537,17.325535356672344,-7.082726342001245,-7.611444613657942,5.654596328214549,-19.26411940354694,-3.0969102483961124,-7.377733003236249,2.2421958392882853,-2.322142692321876,-0.7245387147520322,-16.862115426446753,-8.006749728696333,14.596029101021527,-5.246983139131169,-25.614915134264344,22.399024895904645,19.344412850769974,-18.08145545788567,-7.885834297664506,-25.83475438201328,18.981686599778698,-5.935624428084734,-16.149816484974803,-13.007501449169396,-8.825227627635694,-23.128864002961066,-17.54478525871279,-6.597783457621604,10.632284500478725],\"yaxis\":\"y\",\"type\":\"scatter\"},{\"customdata\":[[\"But it's Destiny\",\"10cm\",\"korean-ost\"],[\"\\ub098\\uc758 \\uc5b4\\uae68\\uc5d0 \\uae30\\ub300\\uc5b4\\uc694\",\"10cm\",\"korean-ost\"],[\"Is You\",\"AILEE\",\"korean-ost\"],[\"How can I love the heartbreak, you're the one I love\",\"AKMU\",\"korean-ost\"],[\"How can I love the heartbreak, you`re the one I love\",\"AKMU\",\"korean-ost\"],[\"Amusement Park\",\"BAEKHYUN\",\"korean-ost\"],[\"\\ub108\\ub97c \\uc0ac\\ub791\\ud558\\uace0 \\uc788\\uc5b4\",\"BAEKHYUN\",\"korean-ost\"],[\"Beautiful goodbye\",\"CHEN\",\"korean-ost\"],[\"Flower\",\"CHEN\",\"korean-ost\"],[\"I'll be there\",\"CHEN\",\"korean-ost\"],[\"My dear\",\"CHEN\",\"korean-ost\"],[\"Sorry not sorry\",\"CHEN\",\"korean-ost\"],[\"Everytime\",\"CHEN\",\"korean-ost\"],[\"Wish\",\"Choi Yuree\",\"korean-ost\"],[\"Beautiful\",\"Crush\",\"korean-ost\"],[\"Let Us Go\",\"Crush\",\"korean-ost\"],[\"No Words\",\"Crush\",\"korean-ost\"],[\"My Love\",\"DAVICHI\",\"korean-ost\"],[\"Please Don't Cry\",\"DAVICHI\",\"korean-ost\"],[\"Sunset\",\"DAVICHI\",\"korean-ost\"],[\"\\ub178\\ub825\\ud574\\ubcfc\\uac8c\\uc694 I'll try\",\"DAY6\",\"korean-ost\"],[\"I'm In Love With You\",\"Dvwn\",\"korean-ost\"],[\"No Problem\",\"Dvwn\",\"korean-ost\"],[\"\\uae34 \\ubc24\\uc774 \\uc624\\uba74\",\"Eddy Kim\",\"korean-ost\"],[\"Rain or Shine\",\"Elaine\",\"korean-ost\"],[\"Hate Everything - Korean Version\",\"GSoul\",\"korean-ost\"],[\"\\uae30\\uc5b5\\ud574\\uc918\\uc694 \\ub0b4 \\ubaa8\\ub4e0 \\ub0a0\\uacfc \\uadf8\\ub54c\\ub97c\",\"Gummy\",\"korean-ost\"],[\"Slowly Fall\",\"Ha Hyun Sang\",\"korean-ost\"],[\"\\ub0b4 \\ub9d8\\uc744 \\ubcfc \\uc218 \\uc788\\ub098\\uc694\",\"HEIZE\",\"korean-ost\"],[\"Deeply\",\"HEN\",\"korean-ost\"],[\"To You\",\"HEN\",\"korean-ost\"],[\"It's You\",\"HENRY\",\"korean-ost\"],[\"Untitled Love Song\",\"HENRY\",\"korean-ost\"],[\"Ending Scene\",\"IU\",\"korean-ost\"],[\"Give You My Heart\",\"IU\",\"korean-ost\"],[\"Love poem\",\"IU\",\"korean-ost\"],[\"My sea\",\"IU\",\"korean-ost\"],[\"Holiday\",\"JeHwi\",\"korean-ost\"],[\"Stardust love song\",\"JIHYO\",\"korean-ost\"],[\"What Lies Ahead\",\"Joe Layne\",\"korean-ost\"],[\"Times Like This\",\"Josh Daniel\",\"korean-ost\"],[\"Do you want to walk with me (Romance 101 X Jukjae)\",\"Jukjae\",\"korean-ost\"],[\"The Days Like Pictures\",\"Jukjae\",\"korean-ost\"],[\"\\ub098\\ub97c \\ucc3e\\uc544\\uc11c\",\"Jukjae\",\"korean-ost\"],[\"\\ubcc4 \\ubcf4\\ub7ec \\uac00\\uc790\",\"Jukjae\",\"korean-ost\"],[\"Day & Night\",\"Jung Seung Hwan\",\"korean-ost\"],[\"Because I Miss You\",\"Jung Yong Hwa\",\"korean-ost\"],[\"For First-time Lovers (Banmal-song)\",\"Jung Yong Hwa\",\"korean-ost\"],[\"I Go\",\"Kei (Kim Ji Yeon)\",\"korean-ost\"],[\"\\ubcf4\\uace0\\uc2f6\\ub2e4 (From. '\\ub4dc\\ub77c\\ub9c8 \\ucc9c\\uad6d\\uc758 \\uacc4\\ub2e8')\",\"Kim Bum Soo\",\"korean-ost\"],[\"One Day\",\"Kim Feel\",\"korean-ost\"],[\"Someday, The Boy\",\"Kim Feel\",\"korean-ost\"],[\"Vacance in September\",\"KIM JAE HWAN\",\"korean-ost\"],[\"All of My Days\",\"KIMSEJEONG\",\"korean-ost\"],[\"If Only\",\"KIMSEJEONG\",\"korean-ost\"],[\"Lonely Night\",\"Kwon Jin Ah\",\"korean-ost\"],[\"The End\",\"Kwon Jin Ah\",\"korean-ost\"],[\"I Won't Heartbreaken\",\"Lee KwangHee\",\"korean-ost\"],[\"In My Heart\",\"LIM YEON\",\"korean-ost\"],[\"Lost\",\"LIM YEON\",\"korean-ost\"],[\"Say Yes\",\"Loco\",\"korean-ost\"],[\"Be There For You\",\"NCT DREAM\",\"korean-ost\"],[\"Rainbow - Acoustic Version\",\"O.WHEN\",\"korean-ost\"],[\"Me After You\",\"Paul Kim\",\"korean-ost\"],[\"\\uc548\\ub155\",\"Paul Kim\",\"korean-ost\"],[\"But I'm Trying to Tell You How Much I Love You (With Moonbit)\",\"saevom\",\"korean-ost\"],[\"For You\",\"Sam Kim\",\"korean-ost\"],[\"Sunny Day Rainy Day (feat. Kassy)\",\"Sanchez\",\"korean-ost\"],[\"Your world\",\"Seol Hoseung (SURL)\",\"korean-ost\"],[\"Grown Ups\",\"Sondia\",\"korean-ost\"],[\"Hug\",\"Sondia\",\"korean-ost\"],[\"Our Souls at Night\",\"Sondia\",\"korean-ost\"],[\"\\uc6b0\\ub9b0 \\uce5c\\uad6c\\ubfd0\\uc77c\\uae4c\",\"Sondia\",\"korean-ost\"],[\"She\",\"Standing Egg\",\"korean-ost\"],[\"Miracle (Feat. Paul Kim)\",\"Stella Jang\",\"korean-ost\"],[\"One more time, One more chance\",\"Sung Si Kyung\",\"korean-ost\"],[\"\\u541b\\u304c\\u3044\\u308b\\u3088\",\"Sung Si Kyung\",\"korean-ost\"],[\"Two People\",\"SURAN\",\"korean-ost\"],[\"Inevitable\",\"Suzy\",\"korean-ost\"],[\"Starlight\",\"TAEIL\",\"korean-ost\"],[\"\\uadf8\\ub300\\ub77c\\ub294 \\uc2dc\",\"TAEYEON\",\"korean-ost\"],[\"Two Words\",\"WENDY\",\"korean-ost\"],[\"What If Love\",\"WENDY\",\"korean-ost\"],[\"\\ub0b4\\uc77c\\ub3c4 \\ub610 \\ub0b4\\uc77c\\ub3c4 Tomorrow After Tomorrow\",\"WISUE\",\"korean-ost\"],[\"Your Existence\",\"Wonstein\",\"korean-ost\"],[\"Free\",\"Xydo\",\"korean-ost\"],[\"\\ub108\\ub9cc \\ub108\\ub9cc \\ub108\\ub9cc\",\"Yang Dail\",\"korean-ost\"],[\"With me\",\"Yang Dail\",\"korean-ost\"],[\"Here I Am Again\",\"Yerin Baek\",\"korean-ost\"],[\"Maze\",\"YONGZOO\",\"korean-ost\"],[\"ALWAYS\",\"Yoon Mirae\",\"korean-ost\"],[\"Flower\",\"Yoon Mirae\",\"korean-ost\"],[\"You Are My World\",\"Yoon Mirae\",\"korean-ost\"],[\"I Just Want To Stay With You\",\"Zion.T\",\"korean-ost\"],[\"Faith\",\"\\uc774\\uc900\\ud654\",\"korean-ost\"]],\"hovertemplate\":\"playlist=%{customdata[2]}<br>chord_x=%{x}<br>chord_y=%{y}<br>song_name=%{customdata[0]}<br>artist=%{customdata[1]}<extra></extra>\",\"legendgroup\":\"korean-ost\",\"marker\":{\"color\":\"#EF553B\",\"symbol\":\"circle\"},\"mode\":\"markers\",\"name\":\"korean-ost\",\"orientation\":\"v\",\"showlegend\":true,\"x\":[-1.9659873888998811,-24.069169730805253,0.5022861412983503,7.669989803187197,7.669989803187197,9.65661886279957,-4.2312580195531115,-15.425220800819845,8.213124738105721,-9.621154785749056,3.226832340367677,-7.7527605334442455,-11.93844149093497,-23.88477554724384,-6.412053460040162,0.8533736235105405,-16.3766120732481,-17.257503300042853,1.5237446507099084,-10.159291911362967,2.454864993518191,6.462392210076053,8.665343322294927,7.213838172842621,-20.875764062749294,-4.7336308359994375,-7.237789889939578,-22.77497916868224,0.987796409929543,11.796301948689957,-10.727197538765228,17.272251973306876,10.063700636462695,4.168617780282413,-18.55145098113313,-19.860957184351008,0.32013309606595797,8.703454246300446,8.646625468968328,6.538209399416478,4.685608496821122,4.039199559820268,14.77957713278972,18.03877930028512,-11.784851632964296,-11.335132216698474,14.092847752988298,13.600136808103231,0.6180147501809278,3.0030587751533155,-16.407333733707603,2.7652082116051178,8.602966490467109,-8.111678271053767,-12.259426369934985,0.34148063005476464,-17.337152509140747,-7.5910955082033205,-18.736219161376287,-1.2171905288470448,1.7166949770780215,-5.717854056726339,-23.45486143815015,14.858955786711052,15.509400720647196,13.607896330180067,-17.254825768842597,10.880012223032164,12.15713521609725,3.317552877366467,19.094828671295446,-24.316881316157396,-8.441992294065367,-7.928440209310103,6.28576984351663,-0.3083572795492425,12.324996453833368,-13.112510462869023,-14.160436247014045,22.67810972326871,-0.28194417657202303,-19.961566586038384,-3.2053192362793177,26.2668733628252,17.077529664607027,3.1518657851352576,-17.80527597685292,-1.057321203802209,2.7153116358399885,-6.092130376480288,-8.978097435436212,-23.064160396155447,-7.749995459208637,8.6361982681555,15.404762202048818],\"xaxis\":\"x\",\"y\":[-18.512433894954967,6.254928813802927,16.775980630677633,-18.816553358665978,-18.816553358665978,-14.653772083226512,19.352539090883162,-17.14267709180492,14.914071886363166,3.9922077640182794,16.345918445049104,-20.64138079676233,-12.411362888556939,-2.581232454518972,-21.46013171854763,-20.15641053176309,10.357044709064889,-10.47285044014934,-19.114888890931606,-3.7519571573846995,12.805666822226579,-20.61149463746186,14.489550106936921,-18.47743042780264,10.230287623786309,-16.79340164340068,13.531814030541502,2.1177376236556626,16.352578325248096,-17.854909767768294,-5.846471912564474,-3.7126846387890855,-8.942854052965018,-19.86871193734938,-10.00252429007386,17.04491943136512,6.314343427844256,16.439359640673363,12.231660305274614,4.418986571983927,17.57134470015994,6.7594441793053575,-15.99281092104929,-3.9055477930194846,-7.826434171003471,-15.518499470957076,-8.335775805786902,9.878917403875084,-1.8915738134103328,-16.887555067856038,11.55462735859584,-10.072841421556221,-5.796101177683773,17.786509727231813,0.1675456305528093,-18.297125579762373,-8.507937410208433,22.183395858673563,10.559457224982939,20.274964425701956,19.604165018943004,16.42858033644114,12.616798759543546,-12.5208084359229,-10.682186223189634,2.354136826306075,0.3616388677181875,-17.700705580801735,-9.996904552576712,17.02497926257843,13.68300579791224,7.646875474162332,-21.379296724329134,19.951710588682,-2.2155618530483223,9.763012840038298,14.697508290607786,-17.26053484761521,-16.117387520976536,10.457481088547361,17.446490738456987,-3.382044386001712,10.625782940509268,5.553915726173033,-15.00304697899688,14.180210019944598,-1.3509900950662364,17.498053702942364,19.021741804458593,-20.034070237683967,-20.863260100652628,-1.0087888565629095,-21.326432279183987,10.233943570586701,9.645738019683735],\"yaxis\":\"y\",\"type\":\"scatter\"},{\"customdata\":[[\"A Speck of Light - Reimagined\",\"Lights & Motion\",\"lights-and-motion\"],[\"A Speck of Light\",\"Lights & Motion\",\"lights-and-motion\"],[\"All the Way\",\"Lights & Motion\",\"lights-and-motion\"],[\"Anamorphic\",\"Lights & Motion\",\"lights-and-motion\"],[\"Anchor\",\"Lights & Motion\",\"lights-and-motion\"],[\"Anomaly\",\"Lights & Motion\",\"lights-and-motion\"],[\"Antlers\",\"Lights & Motion\",\"lights-and-motion\"],[\"Arms Wide Open\",\"Lights & Motion\",\"lights-and-motion\"],[\"As the World Goes Away\",\"Lights & Motion\",\"lights-and-motion\"],[\"As They Sleep\",\"Lights & Motion\",\"lights-and-motion\"],[\"Aurora\",\"Lights & Motion\",\"lights-and-motion\"],[\"Deafening Silence\",\"Lights & Motion\",\"lights-and-motion\"],[\"DNA\",\"Lights & Motion\",\"lights-and-motion\"],[\"Equals\",\"Lights & Motion\",\"lights-and-motion\"],[\"Everest\",\"Lights & Motion\",\"lights-and-motion\"],[\"Exhale\",\"Lights & Motion\",\"lights-and-motion\"],[\"Feathers\",\"Lights & Motion\",\"lights-and-motion\"],[\"Fireflies\",\"Lights & Motion\",\"lights-and-motion\"],[\"From Dust\",\"Lights & Motion\",\"lights-and-motion\"],[\"Glistening - Reimagined\",\"Lights & Motion\",\"lights-and-motion\"],[\"Glistening\",\"Lights & Motion\",\"lights-and-motion\"],[\"Glow\",\"Lights & Motion\",\"lights-and-motion\"],[\"I See You (feat. Frida Sundemo)\",\"Lights & Motion\",\"lights-and-motion\"],[\"I See You - Reimagined (feat. Frida Sundemo)\",\"Lights & Motion\",\"lights-and-motion\"],[\"Lucid Dreaming\",\"Lights & Motion\",\"lights-and-motion\"],[\"Northern Lights\",\"Lights & Motion\",\"lights-and-motion\"],[\"Pandora\",\"Lights & Motion\",\"lights-and-motion\"],[\"Panic Attack\",\"Lights & Motion\",\"lights-and-motion\"],[\"Paper Wings\",\"Lights & Motion\",\"lights-and-motion\"],[\"Parachutes\",\"Lights & Motion\",\"lights-and-motion\"],[\"Particle Storm\",\"Lights & Motion\",\"lights-and-motion\"],[\"Perfect Symmetry\",\"Lights & Motion\",\"lights-and-motion\"],[\"Phoenix\",\"Lights & Motion\",\"lights-and-motion\"],[\"Reanimation - Revisited 10th Anniversary Edition\",\"Lights & Motion\",\"lights-and-motion\"],[\"Reborn\",\"Lights & Motion\",\"lights-and-motion\"],[\"Separated Hearts - Reimagined\",\"Lights & Motion\",\"lights-and-motion\"],[\"Separated Hearts\",\"Lights & Motion\",\"lights-and-motion\"],[\"Silver Lining\",\"Lights & Motion\",\"lights-and-motion\"],[\"Sleeping Giant\",\"Lights & Motion\",\"lights-and-motion\"],[\"Sypher\",\"Lights & Motion\",\"lights-and-motion\"],[\"The First Day\",\"Lights & Motion\",\"lights-and-motion\"],[\"The Great Wide Open - Reimagined\",\"Lights & Motion\",\"lights-and-motion\"],[\"The Great Wide Open\",\"Lights & Motion\",\"lights-and-motion\"],[\"The Moments Before\",\"Lights & Motion\",\"lights-and-motion\"],[\"The Spectacular Quiet\",\"Lights & Motion\",\"lights-and-motion\"],[\"The World I Remember\",\"Lights & Motion\",\"lights-and-motion\"],[\"This Explosion Within\",\"Lights & Motion\",\"lights-and-motion\"],[\"Touching Sky\",\"Lights & Motion\",\"lights-and-motion\"],[\"We Only Have Forever\",\"Lights & Motion\",\"lights-and-motion\"],[\"When Everything Is Falling\",\"Lights & Motion\",\"lights-and-motion\"],[\"Wilderness\",\"Lights & Motion\",\"lights-and-motion\"],[\"Winter Solstice\",\"Lights & Motion\",\"lights-and-motion\"],[\"Wolves (feat. Johan Hasselblom)\",\"Lights & Motion\",\"lights-and-motion\"],[\"Wolves - Reimagined (feat. Johan Hasselblom)\",\"Lights & Motion\",\"lights-and-motion\"],[\"Woven\",\"Lights & Motion\",\"lights-and-motion\"],[\"Year Zero\",\"Lights & Motion\",\"lights-and-motion\"]],\"hovertemplate\":\"playlist=%{customdata[2]}<br>chord_x=%{x}<br>chord_y=%{y}<br>song_name=%{customdata[0]}<br>artist=%{customdata[1]}<extra></extra>\",\"legendgroup\":\"lights-and-motion\",\"marker\":{\"color\":\"#00cc96\",\"symbol\":\"circle\"},\"mode\":\"markers\",\"name\":\"lights-and-motion\",\"orientation\":\"v\",\"showlegend\":true,\"x\":[16.548343848701066,16.06520112662314,14.460744314527695,12.754398647715707,15.015209560797762,7.866561882106257,-6.248132484625886,16.345675377224484,0.2584569884139792,18.663681430277354,9.77644204850613,12.670827269780869,-0.2887279253858267,12.524829431832332,11.245467910398826,13.861233466652255,14.036914101577013,20.41312368384591,19.460839120070723,17.049775465675484,12.689558344484723,14.774185784933778,11.545158168680713,12.584903385636185,-5.435344834352143,-25.904364044906398,-7.060202614155455,10.961496557800332,15.660085079650123,15.011994979377718,10.814838697093336,-3.7859103786091914,-14.290571602553646,11.946534133095907,13.897389988075908,0.8185909671687361,2.878775830267532,14.98576092368873,16.16102631556328,-2.074036891229538,13.257358838065253,21.3000357091448,17.42301790737462,21.770545203449934,13.182703870325437,12.914178746343191,12.274685382164533,18.517280267168164,-4.082797163349602,3.8302093516973432,21.563860698634603,15.556283199671284,2.748775843409527,-7.575882885914624,17.26642064935683,11.793608177629489],\"xaxis\":\"x\",\"y\":[-13.63984361725899,-16.29934154471651,15.073511352379894,-17.271266358323114,-1.1266118055266676,-5.610189372444541,18.961171107420448,12.190212401213795,19.961948476991502,-13.813562104819344,-16.939586391104957,-7.9053084229702915,17.279643701509578,-16.25072515298933,-8.355983228291295,16.09994518853317,-15.97243166267567,4.1871771182421975,14.163000390028737,13.820343272425369,12.512728673911537,-16.980972910284773,-11.726985990009208,-13.091722611090464,19.732664569328975,1.444522275085037,15.572806751957454,13.194542299876254,-17.31806308502232,-18.251364638665585,-4.688428090879716,18.863113737350165,18.030310358338674,-8.590498085909587,4.991035338641402,21.629046315647756,17.22244270308735,-15.775374828239569,14.460202476620303,18.89059473091394,-12.20532739976293,2.625105442568858,5.416047998178483,7.927720108147641,-18.236502203001287,-10.482923000430887,-11.417944904528037,-13.219310932393794,19.60109266479202,19.656549263190886,13.514878145234091,-18.19024874934687,-14.77608249988881,-20.999442418149503,14.304301007386368,22.554589000696296],\"yaxis\":\"y\",\"type\":\"scatter\"},{\"customdata\":[[\"Another Wave from You\",\"M83\",\"m83\"],[\"Claudia Lewis\",\"M83\",\"m83\"],[\"Echoes of Mine\",\"M83\",\"m83\"],[\"Fountains\",\"M83\",\"m83\"],[\"Intro\",\"M83\",\"m83\"],[\"Klaus I Love You\",\"M83\",\"m83\"],[\"Midnight City\",\"M83\",\"m83\"],[\"My Tears Are Becoming a Sea\",\"M83\",\"m83\"],[\"New Map\",\"M83\",\"m83\"],[\"Ok Pal\",\"M83\",\"m83\"],[\"Outro\",\"M83\",\"m83\"],[\"Raconte-moi une histoire\",\"M83\",\"m83\"],[\"Reunion\",\"M83\",\"m83\"],[\"Soon, My Friend\",\"M83\",\"m83\"],[\"Splendor\",\"M83\",\"m83\"],[\"Steve Mcqueen\",\"M83\",\"m83\"],[\"This Bright Flash\",\"M83\",\"m83\"],[\"Train to Pluton\",\"M83\",\"m83\"],[\"Wait\",\"M83\",\"m83\"],[\"When Will You Come Home\",\"M83\",\"m83\"],[\"Where the Boats Go\",\"M83\",\"m83\"],[\"Year One, One Ufo\",\"M83\",\"m83\"],[\"Ashes of Our Fathers\",\"M83\",\"m83\"],[\"Canyon Battle\",\"M83\",\"m83\"],[\"Earth 2077\",\"M83\",\"m83\"],[\"Fearful Odds\",\"M83\",\"m83\"],[\"I'm Sending You Away\",\"M83\",\"m83\"],[\"Jack's Dream\",\"M83\",\"m83\"],[\"Losing Control\",\"M83\",\"m83\"],[\"Odyssey Rescue\",\"M83\",\"m83\"],[\"Radiation Zone\",\"M83\",\"m83\"],[\"Raven Rock\",\"M83\",\"m83\"],[\"StarWaves\",\"M83\",\"m83\"],[\"Tech 49\",\"M83\",\"m83\"],[\"Temples of Our Gods\",\"M83\",\"m83\"],[\"Undimmed by Time, Unbound by Death\",\"M83\",\"m83\"],[\"Waking Up\",\"M83\",\"m83\"],[\"You Can't Save Her\",\"M83\",\"m83\"],[\"Oblivion\",\"M83\",\"m83\"]],\"hovertemplate\":\"playlist=%{customdata[2]}<br>chord_x=%{x}<br>chord_y=%{y}<br>song_name=%{customdata[0]}<br>artist=%{customdata[1]}<extra></extra>\",\"legendgroup\":\"m83\",\"marker\":{\"color\":\"#ab63fa\",\"symbol\":\"circle\"},\"mode\":\"markers\",\"name\":\"m83\",\"orientation\":\"v\",\"showlegend\":true,\"x\":[-25.294454348827564,8.531339910626407,19.898594585613154,-23.28731526300648,-11.640668257069134,-2.1865865581393527,3.9318794028000323,-7.054991020323697,3.6177072743650656,-3.143317187357844,19.436304943333212,-12.029646169105394,13.144937869374475,14.584997266369328,8.214937571262814,7.080276142421879,25.845980056066047,15.523373388501378,21.901381020738103,-27.460305997628005,-22.792717554543866,-3.106551134127495,-2.6928969097230233,5.463796213905914,2.17117490916317,-14.821374460758829,14.466602461516194,-27.517420576420598,-0.07610440607820002,0.8537064009072505,7.01494950030585,-17.546485702103723,-2.2317562809211355,4.792700887713975,5.593915795304801,-26.735533051041003,6.7513813077303,-21.043596606733377,7.249029219546954],\"xaxis\":\"x\",\"y\":[-1.3268969524255885,-3.1743189810397703,-7.27849972783449,14.09849107510065,11.369434074135683,18.112942369438226,15.237672277874843,19.15198628564889,16.60110315441036,16.03538219159452,12.647780262859593,-22.713231294704258,-0.8720077862326802,-17.716302085146584,15.527967485209857,14.735821597186307,-4.539628559549506,-15.721646852002616,11.050573287004191,1.8878324552982366,9.782934377728997,21.26293102515147,12.186311013362133,-1.1138152805931025,8.685206233870034,-14.842828029985695,1.5141501822114272,-1.1182166029665732,14.457779368630582,-3.5997265480461653,2.60764333206204,-13.60965455176624,-20.214957418377733,8.202809953998326,-22.06425461466514,-3.672534125702894,-19.880185404711913,3.9255012015303703,6.312892120170854],\"yaxis\":\"y\",\"type\":\"scatter\"},{\"customdata\":[[\"A Moment Apart\",\"ODESZA\",\"odesza\"],[\"Across The Room (feat. Leon Bridges)\",\"ODESZA\",\"odesza\"],[\"Boy\",\"ODESZA\",\"odesza\"],[\"Corners Of The Earth (feat. RY X)\",\"ODESZA\",\"odesza\"],[\"Divide (feat. Kelsey Bulkin)\",\"ODESZA\",\"odesza\"],[\"Everything At Your Feet (feat. The Chamanas)\",\"ODESZA\",\"odesza\"],[\"Falls (feat. Sasha Alex Sloan)\",\"ODESZA\",\"odesza\"],[\"Falls (Reprise) (feat. Sasha Alex Sloan)\",\"ODESZA\",\"odesza\"],[\"Falls (Reprise) - Instrumental\",\"ODESZA\",\"odesza\"],[\"Higher Ground (feat. Naomi Wild)\",\"ODESZA\",\"odesza\"],[\"Higher Ground (Reprise) (feat. Naomi Wild)\",\"ODESZA\",\"odesza\"],[\"Higher Ground (Reprise) - Instrumental\",\"ODESZA\",\"odesza\"],[\"Intro\",\"ODESZA\",\"odesza\"],[\"It\\u2019s Only (feat. Zyra) - ODESZA VIP Remix\",\"ODESZA\",\"odesza\"],[\"Just A Memory (feat. Regina Spektor)\",\"ODESZA\",\"odesza\"],[\"La Ciudad\",\"ODESZA\",\"odesza\"],[\"Late Night\",\"ODESZA\",\"odesza\"],[\"Line Of Sight (feat. WYNNE & Mansionair)\",\"ODESZA\",\"odesza\"],[\"Line Of Sight (Reprise) (feat. WYNNE & Mansionair)\",\"ODESZA\",\"odesza\"],[\"Line Of Sight (Reprise) - Instrumental\",\"ODESZA\",\"odesza\"],[\"Loyal\",\"ODESZA\",\"odesza\"],[\"Memories That You Call (feat. Monsoonsiren) - ODESZA & Golden Features VIP Remix\",\"ODESZA\",\"odesza\"],[\"Meridian\",\"ODESZA\",\"odesza\"],[\"Show Me\",\"ODESZA\",\"odesza\"],[\"Thin Floors And Tall Ceilings\",\"ODESZA\",\"odesza\"]],\"hovertemplate\":\"playlist=%{customdata[2]}<br>chord_x=%{x}<br>chord_y=%{y}<br>song_name=%{customdata[0]}<br>artist=%{customdata[1]}<extra></extra>\",\"legendgroup\":\"odesza\",\"marker\":{\"color\":\"#FFA15A\",\"symbol\":\"circle\"},\"mode\":\"markers\",\"name\":\"odesza\",\"orientation\":\"v\",\"showlegend\":true,\"x\":[2.9699439580282547,-18.068151569584273,14.412521969696819,6.8082837307271165,17.12692223784307,22.93675309068643,-2.410835452755264,-20.62096798425282,-20.871693316321412,-5.038094595597016,-17.582806622054004,-17.08608518163525,4.077285268240781,5.06971160294128,20.417319070224863,9.99912681852947,9.891564794658331,7.027102540328423,-23.53662037434228,-23.522563731358527,6.328725014119492,1.3619355502302435,-0.901538021634533,5.849603009599438,-1.668281393186687],\"xaxis\":\"x\",\"y\":[-18.60442119558892,5.074187089691944,4.689414524114671,20.534343546040805,-10.038852525035823,7.69162290531704,-2.8129885362060576,10.971757314184249,9.220740340253652,15.663790759259964,7.035676149175991,6.390961958426352,16.835358743420926,11.751856218247637,-8.048643007879367,11.414426727775735,8.938906854459399,-20.333828498331584,-8.403285388881027,-6.971688716858338,18.09008795398635,0.9039443776082222,13.798260850166711,16.65572592692356,-16.099647784897762],\"yaxis\":\"y\",\"type\":\"scatter\"},{\"customdata\":[[\"April 10, 2019- Powehi - Image of a Black Hole\",\"Sleeping At Last\",\"sleeping-at-last\"],[\"August 12, 2018- Perseid Meteor Shower\",\"Sleeping At Last\",\"sleeping-at-last\"],[\"August 21, 2017- Total Solar Eclipse\",\"Sleeping At Last\",\"sleeping-at-last\"],[\"December 13, 2017- Geminid Meteor Shower\",\"Sleeping At Last\",\"sleeping-at-last\"],[\"December 17, 2018- Farout\",\"Sleeping At Last\",\"sleeping-at-last\"],[\"December 21, 2020- The Great Conjunction\",\"Sleeping At Last\",\"sleeping-at-last\"],[\"December 25, 2021- Webb Space Telescope - Launch\",\"Sleeping At Last\",\"sleeping-at-last\"],[\"February 1, 2023- C2022 E3 - Comet Ztf\",\"Sleeping At Last\",\"sleeping-at-last\"],[\"February 13, 2019- Opportunity - Mission Complete\",\"Sleeping At Last\",\"sleeping-at-last\"],[\"February 18, 2021- Perseverance - Mars Landing\",\"Sleeping At Last\",\"sleeping-at-last\"],[\"January 30, 2020- Spitzer - Final Voyage\",\"Sleeping At Last\",\"sleeping-at-last\"],[\"January 31, 2018- Super Blue Blood Moon\",\"Sleeping At Last\",\"sleeping-at-last\"],[\"July 22, 2020- C  2020 F3 - Comet Neowise\",\"Sleeping At Last\",\"sleeping-at-last\"],[\"July 27, 2018- Total Lunar Eclipse\",\"Sleeping At Last\",\"sleeping-at-last\"],[\"July 4, 2020- Aphelion\",\"Sleeping At Last\",\"sleeping-at-last\"],[\"June 24, 2022- Parade of Planets\",\"Sleeping At Last\",\"sleeping-at-last\"],[\"June 30, 2018- Pds 70b (Birth of a Planet)\",\"Sleeping At Last\",\"sleeping-at-last\"],[\"October 30, 2018- Kepler - Goodnight\",\"Sleeping At Last\",\"sleeping-at-last\"],[\"September 15, 2017- Cassini - The Grand Finale\",\"Sleeping At Last\",\"sleeping-at-last\"]],\"hovertemplate\":\"playlist=%{customdata[2]}<br>chord_x=%{x}<br>chord_y=%{y}<br>song_name=%{customdata[0]}<br>artist=%{customdata[1]}<extra></extra>\",\"legendgroup\":\"sleeping-at-last\",\"marker\":{\"color\":\"#19d3f3\",\"symbol\":\"circle\"},\"mode\":\"markers\",\"name\":\"sleeping-at-last\",\"orientation\":\"v\",\"showlegend\":true,\"x\":[22.50309889855237,-0.17086543134380902,-25.532003205036673,-25.489184495343483,15.089679155088179,-16.348282198383245,16.322469284393335,-19.368628081691938,19.119270653350046,-25.608527690832283,16.505898624694435,15.862892030994171,-7.902792610899341,-21.48484205635356,3.622977951485655,-18.29071640002493,-9.077135230144899,-12.568654524845446,-10.22071706860882],\"xaxis\":\"x\",\"y\":[-2.8500239150024167,26.798018229576158,6.329471671275112,2.3893191010513735,-15.15979434062994,-17.09581950070931,13.111987939918988,-15.25011400456414,16.487284736377042,3.9947966521719365,-13.122955865967123,-14.12542329048491,18.776065606209755,-8.555798551808602,-9.99174036787715,15.940517219089909,10.94269386469863,-9.756920670005362,-20.72530429060907],\"yaxis\":\"y\",\"type\":\"scatter\"},{\"customdata\":[[\"It's Ok If You Forget Me\",\"Astrid S\",\"synth-pop\"],[\"Young & Alive\",\"Bazzi\",\"synth-pop\"],[\"Paralyze\",\"Bj\\u00f8rnskov\",\"synth-pop\"],[\"San Diego\",\"BRDGS\",\"synth-pop\"],[\"Ear Candy\",\"Caye\",\"synth-pop\"],[\"12 Hours\",\"Chris James\",\"synth-pop\"],[\"My Universe\",\"Coldplay\",\"synth-pop\"],[\"Overdrive\",\"Conan Gray\",\"synth-pop\"],[\"Titanic\",\"Cosmo's Midnight\",\"synth-pop\"],[\"Champagne For Two\",\"Devin Kennedy\",\"synth-pop\"],[\"Another Round\",\"Elina\",\"synth-pop\"],[\"How\",\"Elina\",\"synth-pop\"],[\"Paper Planes\",\"Elina\",\"synth-pop\"],[\"Nirvana\",\"ELLIANA\",\"synth-pop\"],[\"Lost In Space\",\"Emmit Fenn\",\"synth-pop\"],[\"12-45 - Stripped\",\"Etham\",\"synth-pop\"],[\"Purpose - Stripped\",\"Etham\",\"synth-pop\"],[\"California\",\"Ethan Dufault\",\"synth-pop\"],[\"Hurt The Ones We Love The Most\",\"Evan Blum\",\"synth-pop\"],[\"Young Love\",\"Falcon\",\"synth-pop\"],[\"I Should've Told You\",\"Fiji Blue\",\"synth-pop\"],[\"Waves\",\"Fiji Blue\",\"synth-pop\"],[\"Healing\",\"FLETCHER\",\"synth-pop\"],[\"hold on\",\"flor\",\"synth-pop\"],[\"Automatic (feat. Jake Miller)\",\"Fly By Midnight\",\"synth-pop\"],[\"Lovely\",\"Fly By Midnight\",\"synth-pop\"],[\"Lonely\",\"Gatsby\",\"synth-pop\"],[\"dear me,\",\"Gentle Bones\",\"synth-pop\"],[\"I Wouldn't Know Any Better Than You\",\"Gentle Bones\",\"synth-pop\"],[\"So Far So Good\",\"Great Good Fine Ok\",\"synth-pop\"],[\"Falling\",\"Harry Styles\",\"synth-pop\"],[\"sometimes\",\"Heather Sommer\",\"synth-pop\"],[\"you heard me\",\"Heather Sommer\",\"synth-pop\"],[\"Crying Over You \\u25d0\",\"HONNE\",\"synth-pop\"],[\"Day Dreaming\",\"Jack & Jack\",\"synth-pop\"],[\"Ross And Rachel\",\"Jake Miller\",\"synth-pop\"],[\"Showing You Off\",\"Jake Miller\",\"synth-pop\"],[\"Like No One Does\",\"Jake Scott\",\"synth-pop\"],[\"CWJBHN\",\"Jake Scott\",\"synth-pop\"],[\"drive all night\",\"joan\",\"synth-pop\"],[\"i loved you first\",\"joan\",\"synth-pop\"],[\"love somebody like you\",\"joan\",\"synth-pop\"],[\"magnetic\",\"joan\",\"synth-pop\"],[\"6 months\",\"John K\",\"synth-pop\"],[\"ilym (feat. ROSIE)\",\"John K\",\"synth-pop\"],[\"I Believe\",\"Jonas Brothers\",\"synth-pop\"],[\"I Quit Drinking\",\"Kelsea Ballerini\",\"synth-pop\"],[\"13\",\"LANY\",\"synth-pop\"],[\"dancing in the kitchen\",\"LANY\",\"synth-pop\"],[\"dna\",\"LANY\",\"synth-pop\"],[\"get away\",\"LANY\",\"synth-pop\"],[\"I Don't Wanna Love You Anymore\",\"LANY\",\"synth-pop\"],[\"if this is the last time\",\"LANY\",\"synth-pop\"],[\"ILYSB - STRIPPED\",\"LANY\",\"synth-pop\"],[\"ILYSB\",\"LANY\",\"synth-pop\"],[\"Let Me Know\",\"LANY\",\"synth-pop\"],[\"Malibu Nights\",\"LANY\",\"synth-pop\"],[\"Super Far\",\"LANY\",\"synth-pop\"],[\"Thru These Tears\",\"LANY\",\"synth-pop\"],[\"up to me\",\"LANY\",\"synth-pop\"],[\"you!\",\"LANY\",\"synth-pop\"],[\"Tattoos Together\",\"Lauv\",\"synth-pop\"],[\"When We Were Younger\",\"Loving Caliber\",\"synth-pop\"],[\"Love You Back\",\"Madeon\",\"synth-pop\"],[\"colorblind\",\"Mokita\",\"synth-pop\"],[\"London\",\"Mokita\",\"synth-pop\"],[\"Ready Yet\",\"Mokita\",\"synth-pop\"],[\"Shut Up I Love U\",\"Neptune\",\"synth-pop\"],[\"This Is Heaven\",\"Nick Jonas\",\"synth-pop\"],[\"Plot Twist\",\"NIKI\",\"synth-pop\"],[\"Waves\",\"Paige\",\"synth-pop\"],[\"Shelter\",\"Porter Robinson\",\"synth-pop\"],[\"Outsider\",\"Rachel Grae\",\"synth-pop\"],[\"Dandelions\",\"Ruth B.\",\"synth-pop\"],[\"Lie\",\"Sasha Alex Sloan\",\"synth-pop\"],[\"Day Dreaming\",\"Sopha\",\"synth-pop\"],[\"I Always Wanna Die (Sometimes)\",\"The 1975\",\"synth-pop\"],[\"I'm In Love With You\",\"The 1975\",\"synth-pop\"],[\"It's Not Living (If It's Not With You)\",\"The 1975\",\"synth-pop\"],[\"Robbers\",\"The 1975\",\"synth-pop\"],[\"She's American\",\"The 1975\",\"synth-pop\"],[\"Somebody Else\",\"The 1975\",\"synth-pop\"],[\"Going Home\",\"The Aces\",\"synth-pop\"],[\"Sunset\",\"The Midnight\",\"synth-pop\"],[\"Say So\",\"The Sam Willows\",\"synth-pop\"],[\"I Can't Stop Thinking About You\",\"The Shadowboxers\",\"synth-pop\"],[\"Strawberries & Cigarettes\",\"Troye Sivan\",\"synth-pop\"],[\"If Only for Tonight\",\"Vacation Manor\",\"synth-pop\"],[\"rocket science\",\"vaultboy\",\"synth-pop\"],[\"no excuses\",\"Virginia To Vegas\",\"synth-pop\"],[\"Got A Little Crush On You\",\"Wildflowers\",\"synth-pop\"],[\"Talking To Myself\",\"Will Jay\",\"synth-pop\"],[\"Dance Like Nobody's Watching\",\"Yuna\",\"synth-pop\"],[\"dancing in the kitchen\",\"Zachary Knowles\",\"synth-pop\"],[\"stranger to me\",\"Zachary Knowles\",\"synth-pop\"],[\"could you love me while i hate myself\",\"Zeph\",\"synth-pop\"]],\"hovertemplate\":\"playlist=%{customdata[2]}<br>chord_x=%{x}<br>chord_y=%{y}<br>song_name=%{customdata[0]}<br>artist=%{customdata[1]}<extra></extra>\",\"legendgroup\":\"synth-pop\",\"marker\":{\"color\":\"#FF6692\",\"symbol\":\"circle\"},\"mode\":\"markers\",\"name\":\"synth-pop\",\"orientation\":\"v\",\"showlegend\":true,\"x\":[-12.656396188128104,-18.37560110380112,12.335256901829817,-0.3485597783076138,2.2726226180890796,-7.183891641751487,-2.1813369414743455,6.026136906360782,22.597447383287097,15.315463509835338,12.081371701913568,-21.914139155931732,18.625942885088946,-9.95032219243284,-18.9026708455715,4.67004996795143,-20.345153961915646,0.5722629330626832,0.8545473674772146,-7.766991019644177,-18.886116523005057,-0.165036729827853,23.382027590475765,-5.805178504139799,-11.648884603471613,14.717928328621953,-14.803575820973627,-14.238970490625402,8.445203673355078,8.27913969356629,-8.425782413007187,0.5304846444408132,13.136569081885302,16.16879201590866,2.1566825120334245,6.158337233096802,-13.521683976389717,-13.546411178156673,-9.076973417747073,2.4413639094943265,14.80318654684208,20.46064753494798,-4.844165611035351,-12.49496083247143,-6.100632650285637,0.1058529135933116,-21.967380025784713,-16.026436653082456,-11.77150316417603,-4.640931367892934,-12.003569081273513,15.783021349259732,-16.20973987155267,13.50940422716233,-0.90568349411566,2.1708815368655605,-11.650753476544375,-5.178023722549657,-9.132128995382216,22.95309788789832,2.9542635647628823,21.691235817847563,-15.1747780688635,-4.758022063526199,-15.187515011374215,-17.17655083935676,18.735742726878815,-1.3479714462665833,13.473671808805157,-9.31502805907649,-2.082586571114941,10.606999008724074,-20.448871222289014,-10.649703516239782,-6.962292062273612,-9.434526632891014,-3.429420966513562,13.256872916553343,-0.31397216634759584,-0.11934293810632861,-22.982335801301023,14.712554500428121,13.398108114452166,20.075572104379212,15.90182992265789,15.180351846798672,2.145785905480875,-13.179116936304496,-6.812614000989605,0.9929204782754903,12.438569003060715,8.9997509239902,-3.9969069741745553,19.727723662839555,-12.712020551106065,3.766662948600442],\"xaxis\":\"x\",\"y\":[14.597058807756463,-14.337889126407477,3.751202449334849,18.27254172172647,-2.0356057093640456,-16.086520687759165,17.332257389503553,-6.623685384077826,3.121880341562227,-0.11603061038826373,16.15970248500852,6.871828438990399,8.920797801379548,23.264766889983875,-17.03694819343418,-18.31289171769958,-9.896206078746694,19.448629292843243,18.40714824260513,-11.643859487937217,-14.181800404718116,11.270575834125482,12.356502428819006,0.923430673446149,1.6408008876436517,-11.407692823395463,-17.252784795360586,13.758184608357015,17.705263028738745,-17.08629485535292,21.550912989944134,18.992901369954847,16.20377691719112,16.041268891092546,-21.23456299431542,16.962299902502266,20.682582084777856,-21.76907644564199,-20.09991092354402,17.25005775162615,-7.029804066193499,-0.4163100036548517,-23.71243220005183,-19.594919042374386,19.2197551743559,18.05925860158867,1.400706845632056,14.470050726256376,20.69499507504297,17.12172323744357,-15.150975204874916,-15.108797664878248,18.133962028781323,-16.570823048455168,-22.474827786238297,16.3157121496144,21.212576203513354,7.395696990007771,14.920316860794612,11.815602395692448,-19.371648492392087,12.577761230523159,-18.538640488355444,18.284451000359358,2.16824165041341,17.2841740873032,11.481068552769703,17.893701835856508,-14.202201103633497,8.739571740209387,16.47368323863481,-3.790573874835907,-13.799393904966083,6.3752507512598005,7.287830725773024,9.932137745996318,21.249429252143234,16.976970441318958,14.147440935914956,16.808609967233124,2.6537157679352816,-14.163984154536282,16.535450679836845,-1.5634176864606517,12.94501616505163,14.889167361284661,17.541935184984307,6.44293770628109,-14.737948097971246,17.457105686027614,16.62652496143609,-11.414358202306985,-5.885387926205966,12.479766124321769,11.513931051160476,17.599489499726456],\"yaxis\":\"y\",\"type\":\"scatter\"},{\"customdata\":[[\"Allure\",\"Tony Anderson\",\"tony-anderson\"],[\"Aurora\",\"Tony Anderson\",\"tony-anderson\"],[\"Chasm\",\"Tony Anderson\",\"tony-anderson\"],[\"Darkest Night\",\"Tony Anderson\",\"tony-anderson\"],[\"Deep Waters - Original Sketch\",\"Tony Anderson\",\"tony-anderson\"],[\"Deep Waters\",\"Tony Anderson\",\"tony-anderson\"],[\"Delusion\",\"Tony Anderson\",\"tony-anderson\"],[\"Eyes Wide Open - Cinematic Mix\",\"Tony Anderson\",\"tony-anderson\"],[\"Eyes Wide Open\",\"Tony Anderson\",\"tony-anderson\"],[\"Face of the Father\",\"Tony Anderson\",\"tony-anderson\"],[\"Farthest Seas\",\"Tony Anderson\",\"tony-anderson\"],[\"Finding Your Heart\",\"Tony Anderson\",\"tony-anderson\"],[\"Halo\",\"Tony Anderson\",\"tony-anderson\"],[\"High Tide\",\"Tony Anderson\",\"tony-anderson\"],[\"Immanuel\",\"Tony Anderson\",\"tony-anderson\"],[\"Immersion\",\"Tony Anderson\",\"tony-anderson\"],[\"In the Distance\",\"Tony Anderson\",\"tony-anderson\"],[\"Incision\",\"Tony Anderson\",\"tony-anderson\"],[\"Like a Child - Cinematic Mix\",\"Tony Anderson\",\"tony-anderson\"],[\"Low Tide\",\"Tony Anderson\",\"tony-anderson\"],[\"Lune\",\"Tony Anderson\",\"tony-anderson\"],[\"Morning's Wings\",\"Tony Anderson\",\"tony-anderson\"],[\"Nightingale\",\"Tony Anderson\",\"tony-anderson\"],[\"No Place on Earth\",\"Tony Anderson\",\"tony-anderson\"],[\"Nocturne in Paris\",\"Tony Anderson\",\"tony-anderson\"],[\"Perennial\",\"Tony Anderson\",\"tony-anderson\"],[\"Resurrect\",\"Tony Anderson\",\"tony-anderson\"],[\"Retour\",\"Tony Anderson\",\"tony-anderson\"],[\"Shalom\",\"Tony Anderson\",\"tony-anderson\"],[\"Slipstream\",\"Tony Anderson\",\"tony-anderson\"],[\"Something Can Grow\",\"Tony Anderson\",\"tony-anderson\"],[\"Spiriteaux\",\"Tony Anderson\",\"tony-anderson\"],[\"The King\",\"Tony Anderson\",\"tony-anderson\"],[\"The Way Home\",\"Tony Anderson\",\"tony-anderson\"],[\"Thin Place - Abbreviated\",\"Tony Anderson\",\"tony-anderson\"],[\"Thin Place\",\"Tony Anderson\",\"tony-anderson\"],[\"We Are One\",\"Tony Anderson\",\"tony-anderson\"],[\"Wir Sind Gleich\",\"Tony Anderson\",\"tony-anderson\"],[\"Younger\",\"Tony Anderson\",\"tony-anderson\"],[\"\\u00c9closion\",\"Tony Anderson\",\"tony-anderson\"],[\"\\u00c9ph\\u00e9m\\u00e8re\",\"Tony Anderson\",\"tony-anderson\"],[\"Arp\\u00e8ge\",\"Tony Anderson\",\"tony-anderson\"],[\"Nuit\",\"Tony Anderson\",\"tony-anderson\"],[\"Tenderness - Woven Remix\",\"Tony Anderson\",\"tony-anderson\"],[\"Tenderness\",\"Tony Anderson\",\"tony-anderson\"],[\"Cambodia - Ross Lara Remix\",\"Tony Anderson\",\"tony-anderson\"],[\"Cambodia\",\"Tony Anderson\",\"tony-anderson\"],[\"Oyarsa\",\"Tony Anderson\",\"tony-anderson\"]],\"hovertemplate\":\"playlist=%{customdata[2]}<br>chord_x=%{x}<br>chord_y=%{y}<br>song_name=%{customdata[0]}<br>artist=%{customdata[1]}<extra></extra>\",\"legendgroup\":\"tony-anderson\",\"marker\":{\"color\":\"#B6E880\",\"symbol\":\"circle\"},\"mode\":\"markers\",\"name\":\"tony-anderson\",\"orientation\":\"v\",\"showlegend\":true,\"x\":[14.068153942557425,10.575593701450043,-20.93725988807564,0.7785228127164056,18.01554280787766,17.161946809336392,8.830946177954807,-16.299159069113553,-9.450538394944592,24.151053604802243,-15.759056672215733,14.968817205296514,0.9256780215247145,-11.835793014125958,13.219886063865586,15.178957280164118,-17.43436341237435,4.9024596995888325,-14.589218992351293,22.660071428596158,5.1464721874188815,-0.10158295707107766,-20.42355227586582,0.36183819628898656,5.706346122196725,9.269725758868725,8.74094446393603,-1.0414075700257885,15.13770336723786,-12.71976205258535,21.37926455019088,20.010106246739245,-7.445186768783631,-16.391187514556908,-13.4767389324262,-18.268656370347806,-11.470951568001613,14.11538783227837,18.577931775000003,5.955114749996842,7.653953752333213,-0.9117383239645999,3.964864603340543,4.188124305811221,1.3514863819804173,-0.7112455374355474,1.0361059460311473,-16.400970608196246],\"xaxis\":\"x\",\"y\":[-19.494941425195886,-1.9074214296777334,-14.654462858970708,-11.06519214628016,-2.7059926714348492,0.3758588802644415,-17.042579216164516,-18.92019065674734,-22.96741928612368,3.4749961390506368,-18.35038014365635,-16.296837470993943,14.763247162064332,-23.524572739426088,-10.873948347137476,-14.100210502011869,-17.467872624825862,-20.261068122756253,-20.89103442665139,-4.053498611766977,-8.95912805548525,15.394714279333055,-15.684948557273465,14.408446673552886,9.59744458468205,-8.213157542783744,-8.93394472745703,11.642891914652317,-17.228462942823313,21.61587119456032,-11.165650044208544,-12.045051627443991,-19.25913398282015,-15.921319309939461,-18.569596069163005,-17.24569753909962,-17.993833564046927,-5.704533695953726,-11.435771948430764,6.008606693484546,-13.595497205582369,9.234941473364877,-12.789620270350222,-0.7040951913267434,-21.144249925882338,5.914692239634962,13.289298327577052,-14.76574712923962],\"yaxis\":\"y\",\"type\":\"scatter\"}],                        {\"template\":{\"data\":{\"histogram2dcontour\":[{\"type\":\"histogram2dcontour\",\"colorbar\":{\"outlinewidth\":0,\"ticks\":\"\"},\"colorscale\":[[0.0,\"#0d0887\"],[0.1111111111111111,\"#46039f\"],[0.2222222222222222,\"#7201a8\"],[0.3333333333333333,\"#9c179e\"],[0.4444444444444444,\"#bd3786\"],[0.5555555555555556,\"#d8576b\"],[0.6666666666666666,\"#ed7953\"],[0.7777777777777778,\"#fb9f3a\"],[0.8888888888888888,\"#fdca26\"],[1.0,\"#f0f921\"]]}],\"choropleth\":[{\"type\":\"choropleth\",\"colorbar\":{\"outlinewidth\":0,\"ticks\":\"\"}}],\"histogram2d\":[{\"type\":\"histogram2d\",\"colorbar\":{\"outlinewidth\":0,\"ticks\":\"\"},\"colorscale\":[[0.0,\"#0d0887\"],[0.1111111111111111,\"#46039f\"],[0.2222222222222222,\"#7201a8\"],[0.3333333333333333,\"#9c179e\"],[0.4444444444444444,\"#bd3786\"],[0.5555555555555556,\"#d8576b\"],[0.6666666666666666,\"#ed7953\"],[0.7777777777777778,\"#fb9f3a\"],[0.8888888888888888,\"#fdca26\"],[1.0,\"#f0f921\"]]}],\"heatmap\":[{\"type\":\"heatmap\",\"colorbar\":{\"outlinewidth\":0,\"ticks\":\"\"},\"colorscale\":[[0.0,\"#0d0887\"],[0.1111111111111111,\"#46039f\"],[0.2222222222222222,\"#7201a8\"],[0.3333333333333333,\"#9c179e\"],[0.4444444444444444,\"#bd3786\"],[0.5555555555555556,\"#d8576b\"],[0.6666666666666666,\"#ed7953\"],[0.7777777777777778,\"#fb9f3a\"],[0.8888888888888888,\"#fdca26\"],[1.0,\"#f0f921\"]]}],\"heatmapgl\":[{\"type\":\"heatmapgl\",\"colorbar\":{\"outlinewidth\":0,\"ticks\":\"\"},\"colorscale\":[[0.0,\"#0d0887\"],[0.1111111111111111,\"#46039f\"],[0.2222222222222222,\"#7201a8\"],[0.3333333333333333,\"#9c179e\"],[0.4444444444444444,\"#bd3786\"],[0.5555555555555556,\"#d8576b\"],[0.6666666666666666,\"#ed7953\"],[0.7777777777777778,\"#fb9f3a\"],[0.8888888888888888,\"#fdca26\"],[1.0,\"#f0f921\"]]}],\"contourcarpet\":[{\"type\":\"contourcarpet\",\"colorbar\":{\"outlinewidth\":0,\"ticks\":\"\"}}],\"contour\":[{\"type\":\"contour\",\"colorbar\":{\"outlinewidth\":0,\"ticks\":\"\"},\"colorscale\":[[0.0,\"#0d0887\"],[0.1111111111111111,\"#46039f\"],[0.2222222222222222,\"#7201a8\"],[0.3333333333333333,\"#9c179e\"],[0.4444444444444444,\"#bd3786\"],[0.5555555555555556,\"#d8576b\"],[0.6666666666666666,\"#ed7953\"],[0.7777777777777778,\"#fb9f3a\"],[0.8888888888888888,\"#fdca26\"],[1.0,\"#f0f921\"]]}],\"surface\":[{\"type\":\"surface\",\"colorbar\":{\"outlinewidth\":0,\"ticks\":\"\"},\"colorscale\":[[0.0,\"#0d0887\"],[0.1111111111111111,\"#46039f\"],[0.2222222222222222,\"#7201a8\"],[0.3333333333333333,\"#9c179e\"],[0.4444444444444444,\"#bd3786\"],[0.5555555555555556,\"#d8576b\"],[0.6666666666666666,\"#ed7953\"],[0.7777777777777778,\"#fb9f3a\"],[0.8888888888888888,\"#fdca26\"],[1.0,\"#f0f921\"]]}],\"mesh3d\":[{\"type\":\"mesh3d\",\"colorbar\":{\"outlinewidth\":0,\"ticks\":\"\"}}],\"scatter\":[{\"marker\":{\"line\":{\"color\":\"#283442\"}},\"type\":\"scatter\"}],\"parcoords\":[{\"type\":\"parcoords\",\"line\":{\"colorbar\":{\"outlinewidth\":0,\"ticks\":\"\"}}}],\"scatterpolargl\":[{\"type\":\"scatterpolargl\",\"marker\":{\"colorbar\":{\"outlinewidth\":0,\"ticks\":\"\"}}}],\"bar\":[{\"error_x\":{\"color\":\"#f2f5fa\"},\"error_y\":{\"color\":\"#f2f5fa\"},\"marker\":{\"line\":{\"color\":\"rgb(17,17,17)\",\"width\":0.5},\"pattern\":{\"fillmode\":\"overlay\",\"size\":10,\"solidity\":0.2}},\"type\":\"bar\"}],\"scattergeo\":[{\"type\":\"scattergeo\",\"marker\":{\"colorbar\":{\"outlinewidth\":0,\"ticks\":\"\"}}}],\"scatterpolar\":[{\"type\":\"scatterpolar\",\"marker\":{\"colorbar\":{\"outlinewidth\":0,\"ticks\":\"\"}}}],\"histogram\":[{\"marker\":{\"pattern\":{\"fillmode\":\"overlay\",\"size\":10,\"solidity\":0.2}},\"type\":\"histogram\"}],\"scattergl\":[{\"marker\":{\"line\":{\"color\":\"#283442\"}},\"type\":\"scattergl\"}],\"scatter3d\":[{\"type\":\"scatter3d\",\"line\":{\"colorbar\":{\"outlinewidth\":0,\"ticks\":\"\"}},\"marker\":{\"colorbar\":{\"outlinewidth\":0,\"ticks\":\"\"}}}],\"scattermapbox\":[{\"type\":\"scattermapbox\",\"marker\":{\"colorbar\":{\"outlinewidth\":0,\"ticks\":\"\"}}}],\"scatterternary\":[{\"type\":\"scatterternary\",\"marker\":{\"colorbar\":{\"outlinewidth\":0,\"ticks\":\"\"}}}],\"scattercarpet\":[{\"type\":\"scattercarpet\",\"marker\":{\"colorbar\":{\"outlinewidth\":0,\"ticks\":\"\"}}}],\"carpet\":[{\"aaxis\":{\"endlinecolor\":\"#A2B1C6\",\"gridcolor\":\"#506784\",\"linecolor\":\"#506784\",\"minorgridcolor\":\"#506784\",\"startlinecolor\":\"#A2B1C6\"},\"baxis\":{\"endlinecolor\":\"#A2B1C6\",\"gridcolor\":\"#506784\",\"linecolor\":\"#506784\",\"minorgridcolor\":\"#506784\",\"startlinecolor\":\"#A2B1C6\"},\"type\":\"carpet\"}],\"table\":[{\"cells\":{\"fill\":{\"color\":\"#506784\"},\"line\":{\"color\":\"rgb(17,17,17)\"}},\"header\":{\"fill\":{\"color\":\"#2a3f5f\"},\"line\":{\"color\":\"rgb(17,17,17)\"}},\"type\":\"table\"}],\"barpolar\":[{\"marker\":{\"line\":{\"color\":\"rgb(17,17,17)\",\"width\":0.5},\"pattern\":{\"fillmode\":\"overlay\",\"size\":10,\"solidity\":0.2}},\"type\":\"barpolar\"}],\"pie\":[{\"automargin\":true,\"type\":\"pie\"}]},\"layout\":{\"autotypenumbers\":\"strict\",\"colorway\":[\"#636efa\",\"#EF553B\",\"#00cc96\",\"#ab63fa\",\"#FFA15A\",\"#19d3f3\",\"#FF6692\",\"#B6E880\",\"#FF97FF\",\"#FECB52\"],\"font\":{\"color\":\"#f2f5fa\"},\"hovermode\":\"closest\",\"hoverlabel\":{\"align\":\"left\"},\"paper_bgcolor\":\"rgb(17,17,17)\",\"plot_bgcolor\":\"rgb(17,17,17)\",\"polar\":{\"bgcolor\":\"rgb(17,17,17)\",\"angularaxis\":{\"gridcolor\":\"#506784\",\"linecolor\":\"#506784\",\"ticks\":\"\"},\"radialaxis\":{\"gridcolor\":\"#506784\",\"linecolor\":\"#506784\",\"ticks\":\"\"}},\"ternary\":{\"bgcolor\":\"rgb(17,17,17)\",\"aaxis\":{\"gridcolor\":\"#506784\",\"linecolor\":\"#506784\",\"ticks\":\"\"},\"baxis\":{\"gridcolor\":\"#506784\",\"linecolor\":\"#506784\",\"ticks\":\"\"},\"caxis\":{\"gridcolor\":\"#506784\",\"linecolor\":\"#506784\",\"ticks\":\"\"}},\"coloraxis\":{\"colorbar\":{\"outlinewidth\":0,\"ticks\":\"\"}},\"colorscale\":{\"sequential\":[[0.0,\"#0d0887\"],[0.1111111111111111,\"#46039f\"],[0.2222222222222222,\"#7201a8\"],[0.3333333333333333,\"#9c179e\"],[0.4444444444444444,\"#bd3786\"],[0.5555555555555556,\"#d8576b\"],[0.6666666666666666,\"#ed7953\"],[0.7777777777777778,\"#fb9f3a\"],[0.8888888888888888,\"#fdca26\"],[1.0,\"#f0f921\"]],\"sequentialminus\":[[0.0,\"#0d0887\"],[0.1111111111111111,\"#46039f\"],[0.2222222222222222,\"#7201a8\"],[0.3333333333333333,\"#9c179e\"],[0.4444444444444444,\"#bd3786\"],[0.5555555555555556,\"#d8576b\"],[0.6666666666666666,\"#ed7953\"],[0.7777777777777778,\"#fb9f3a\"],[0.8888888888888888,\"#fdca26\"],[1.0,\"#f0f921\"]],\"diverging\":[[0,\"#8e0152\"],[0.1,\"#c51b7d\"],[0.2,\"#de77ae\"],[0.3,\"#f1b6da\"],[0.4,\"#fde0ef\"],[0.5,\"#f7f7f7\"],[0.6,\"#e6f5d0\"],[0.7,\"#b8e186\"],[0.8,\"#7fbc41\"],[0.9,\"#4d9221\"],[1,\"#276419\"]]},\"xaxis\":{\"gridcolor\":\"#283442\",\"linecolor\":\"#506784\",\"ticks\":\"\",\"title\":{\"standoff\":15},\"zerolinecolor\":\"#283442\",\"automargin\":true,\"zerolinewidth\":2},\"yaxis\":{\"gridcolor\":\"#283442\",\"linecolor\":\"#506784\",\"ticks\":\"\",\"title\":{\"standoff\":15},\"zerolinecolor\":\"#283442\",\"automargin\":true,\"zerolinewidth\":2},\"scene\":{\"xaxis\":{\"backgroundcolor\":\"rgb(17,17,17)\",\"gridcolor\":\"#506784\",\"linecolor\":\"#506784\",\"showbackground\":true,\"ticks\":\"\",\"zerolinecolor\":\"#C8D4E3\",\"gridwidth\":2},\"yaxis\":{\"backgroundcolor\":\"rgb(17,17,17)\",\"gridcolor\":\"#506784\",\"linecolor\":\"#506784\",\"showbackground\":true,\"ticks\":\"\",\"zerolinecolor\":\"#C8D4E3\",\"gridwidth\":2},\"zaxis\":{\"backgroundcolor\":\"rgb(17,17,17)\",\"gridcolor\":\"#506784\",\"linecolor\":\"#506784\",\"showbackground\":true,\"ticks\":\"\",\"zerolinecolor\":\"#C8D4E3\",\"gridwidth\":2}},\"shapedefaults\":{\"line\":{\"color\":\"#f2f5fa\"}},\"annotationdefaults\":{\"arrowcolor\":\"#f2f5fa\",\"arrowhead\":0,\"arrowwidth\":1},\"geo\":{\"bgcolor\":\"rgb(17,17,17)\",\"landcolor\":\"rgb(17,17,17)\",\"subunitcolor\":\"#506784\",\"showland\":true,\"showlakes\":true,\"lakecolor\":\"rgb(17,17,17)\"},\"title\":{\"x\":0.05},\"updatemenudefaults\":{\"bgcolor\":\"#506784\",\"borderwidth\":0},\"sliderdefaults\":{\"bgcolor\":\"#C8D4E3\",\"borderwidth\":1,\"bordercolor\":\"rgb(17,17,17)\",\"tickwidth\":0},\"mapbox\":{\"style\":\"dark\"}}},\"xaxis\":{\"anchor\":\"y\",\"domain\":[0.0,1.0],\"title\":{\"text\":\"chord_x\"}},\"yaxis\":{\"anchor\":\"x\",\"domain\":[0.0,1.0],\"title\":{\"text\":\"chord_y\"}},\"legend\":{\"title\":{\"text\":\"playlist\"},\"tracegroupgap\":0},\"margin\":{\"t\":60}},                        {\"responsive\": true}                    ).then(function(){\n                            \nvar gd = document.getElementById('13de1d95-6283-4419-9051-ad51c7d7f552');\nvar x = new MutationObserver(function (mutations, observer) {{\n        var display = window.getComputedStyle(gd).display;\n        if (!display || display === 'none') {{\n            console.log([gd, 'removed!']);\n            Plotly.purge(gd);\n            observer.disconnect();\n        }}\n}});\n\n// Listen for the removal of the full notebook cells\nvar notebookContainer = gd.closest('#notebook-container');\nif (notebookContainer) {{\n    x.observe(notebookContainer, {childList: true});\n}}\n\n// Listen for the clearing of the current output cell\nvar outputEl = gd.closest('.output');\nif (outputEl) {{\n    x.observe(outputEl, {childList: true});\n}}\n\n                        })                };                });            </script>        </div>"
     },
     "metadata": {},
     "output_type": "display_data"
    }
   ],
   "source": [
    "px.scatter(dataset, x='chord_x', y='chord_y', color='playlist', hover_data=config.metadata_columns)"
   ],
   "metadata": {
    "collapsed": false
   }
  }
 ],
 "metadata": {
  "kernelspec": {
   "display_name": "Python 3",
   "language": "python",
   "name": "python3"
  },
  "language_info": {
   "codemirror_mode": {
    "name": "ipython",
    "version": 2
   },
   "file_extension": ".py",
   "mimetype": "text/x-python",
   "name": "python",
   "nbconvert_exporter": "python",
   "pygments_lexer": "ipython2",
   "version": "2.7.6"
  }
 },
 "nbformat": 4,
 "nbformat_minor": 0
}
