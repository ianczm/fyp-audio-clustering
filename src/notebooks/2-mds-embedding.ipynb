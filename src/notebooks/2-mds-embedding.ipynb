{
 "cells": [
  {
   "cell_type": "markdown",
   "metadata": {},
   "source": [
    "# MDS Embedding"
   ]
  },
  {
   "cell_type": "code",
   "execution_count": 13,
   "metadata": {},
   "outputs": [],
   "source": [
    "# For dataframe operations\n",
    "import numpy as np\n",
    "import pandas as pd\n",
    "\n",
    "# For machine learning\n",
    "from sklearn.manifold import MDS\n",
    "from scipy.spatial.distance import pdist, squareform\n",
    "\n",
    "# For visualisation\n",
    "import plotly.express as px"
   ]
  },
  {
   "cell_type": "markdown",
   "metadata": {},
   "source": [
    "### Storage Variables\n",
    "\n",
    "These point the program to the directory containing the pre-processed audio data, and saves the current dataframes as temporary files so that consecutive runs can pick up where the previous run left off."
   ]
  },
  {
   "cell_type": "code",
   "execution_count": 14,
   "metadata": {},
   "outputs": [],
   "source": [
    "import config"
   ]
  },
  {
   "cell_type": "markdown",
   "metadata": {},
   "source": [
    "### Universal Variables\n",
    "\n",
    "These would be used to perform many repeated computations e.g. normalisation."
   ]
  },
  {
   "cell_type": "code",
   "execution_count": 15,
   "metadata": {},
   "outputs": [],
   "source": [
    "from sklearn.preprocessing import StandardScaler, MinMaxScaler\n",
    "scaler = StandardScaler()\n",
    "minmax_scaler = MinMaxScaler()"
   ]
  },
  {
   "cell_type": "markdown",
   "metadata": {},
   "source": [
    "## Loading in the Dataset\n",
    "\n",
    "Data is loaded from the `./features.pkl.pbz2` files located in their respective `data/extracted/playlist-name` directories. All data is concatenated into a single DataFrame, with the `playlist` column indicating which folder they came from.\n",
    "\n",
    "Setting `read_temp` means the program will read from the `data/temp` folder and recover previous progress."
   ]
  },
  {
   "cell_type": "code",
   "execution_count": 16,
   "metadata": {},
   "outputs": [
    {
     "data": {
      "text/plain": "                             song_name             artist       playlist  \\\n0                           Ivan Sings  Aram Khachaturian           kino   \n1    Prélude in E Minor, Op. 28, No. 4    Frédéric Chopin           kino   \n2                      Above the Trees               Kino           kino   \n3                                  All               Kino           kino   \n4                                 Anew               Kino           kino   \n..                                 ...                ...            ...   \n420           Tenderness - Woven Remix      Tony Anderson  tony-anderson   \n421                         Tenderness      Tony Anderson  tony-anderson   \n422         Cambodia - Ross Lara Remix      Tony Anderson  tony-anderson   \n423                           Cambodia      Tony Anderson  tony-anderson   \n424                             Oyarsa      Tony Anderson  tony-anderson   \n\n     zero_crossings_mean  zero_crossings_var         bpm  \\\n0               0.030815            0.029865  143.554688   \n1               0.028196            0.027401  103.359375   \n2               0.052121            0.049405  143.554688   \n3               0.044240            0.042283  161.499023   \n4               0.048969            0.046571  161.499023   \n..                   ...                 ...         ...   \n420             0.050498            0.047948   99.384014   \n421             0.019365            0.018990  151.999081   \n422             0.053039            0.050226  129.199219   \n423             0.042857            0.041020  129.199219   \n424             0.035910            0.034620  112.347147   \n\n     spectral_centroid_mean  spectral_centroid_var  spectral_rolloff_mean  \\\n0                728.505121          164591.144472            1044.706810   \n1                615.425486           95544.686241             892.440162   \n2               1053.924804          248527.612506            1937.848230   \n3                619.260455           49458.448746             981.976649   \n4                677.808914           72961.813450            1098.534181   \n..                      ...                    ...                    ...   \n420             1690.752815          996877.763828            3788.666509   \n421              500.969118          144860.433188             764.697603   \n422             1618.810406          687875.800819            3493.059627   \n423             1234.479968          276949.182834            2474.291523   \n424              625.735642           51465.968656            1004.456635   \n\n     spectral_rolloff_var  ...  mfcc_var_7  mfcc_mean_8  mfcc_var_8  \\\n0            1.492931e+06  ...   59.754135    -7.222707   53.279484   \n1            8.328338e+05  ...   66.532372    -7.709404   67.271782   \n2            1.480721e+06  ...  113.514336    -4.448510   74.239128   \n3            2.497879e+05  ...  109.742783     3.967615   61.414219   \n4            4.831254e+05  ...   75.191750    -0.318088   72.683647   \n..                    ...  ...         ...          ...         ...   \n420          6.661065e+06  ...   85.660057    -0.473025   55.165321   \n421          1.021311e+06  ...   42.235184     1.522114   30.496746   \n422          5.250681e+06  ...   62.413822    -2.939895   52.945293   \n423          1.718215e+06  ...  118.341034    -1.348665   86.386292   \n424          1.778121e+05  ...   73.260193     0.496677   49.557613   \n\n     mfcc_mean_9  mfcc_var_9  mfcc_mean_10  mfcc_var_10  \\\n0      -6.638159   63.120949     -7.461281    58.827705   \n1      -8.138650   51.361748     -8.201083    51.866173   \n2      -2.306997   76.906097     -2.640234    74.699959   \n3       4.160887   66.464058     -0.379875    82.376328   \n4      -0.499459   70.440079     -3.557541    71.182747   \n..           ...         ...           ...          ...   \n420     1.394155   64.965172     -3.817915    56.059143   \n421    -3.054044   27.486416     -6.413583    28.495449   \n422     2.519716   61.408394     -2.011139    51.967083   \n423     1.038753   90.882286     -4.584059    92.075935   \n424    -4.770782   65.222755     -8.970942    67.012970   \n\n                                      chord_trajectory  \\\n0    [0.0, 0.0, 0.0, 0.0, 0.0, 0.0, 0.0, 0.0, 0.0, ...   \n1    [12.0, 0.0, 0.0, 2.0, 0.0, 0.0, 0.0, 0.0, 2.0,...   \n2    [17.0, 0.0, 0.0, 1.0, 0.0, 0.0, 0.0, 0.0, 0.0,...   \n3    [3.0, 0.0, 0.0, 0.0, 0.0, 0.0, 0.0, 2.0, 0.0, ...   \n4    [105.0, 0.0, 2.0, 0.0, 0.0, 0.0, 0.0, 5.0, 0.0...   \n..                                                 ...   \n420  [49.0, 0.0, 0.0, 6.0, 0.0, 3.0, 0.0, 0.0, 17.0...   \n421  [46.0, 0.0, 0.0, 2.0, 0.0, 1.0, 0.0, 0.0, 8.0,...   \n422  [246.0, 1.0, 0.0, 5.0, 0.0, 0.0, 0.0, 0.0, 2.0...   \n423  [295.0, 0.0, 0.0, 5.0, 0.0, 2.0, 0.0, 0.0, 0.0...   \n424  [0.0, 0.0, 0.0, 0.0, 0.0, 0.0, 0.0, 0.0, 0.0, ...   \n\n                                       note_trajectory  \\\n0    [0.0, 0.0, 0.0, 0.0, 0.0, 0.0, 0.0, 0.0, 0.0, ...   \n1    [0.0, 0.0, 0.0, 0.0, 0.0, 0.0, 0.0, 0.0, 0.0, ...   \n2    [0.0, 0.0, 0.0, 0.0, 0.0, 0.0, 0.0, 0.0, 0.0, ...   \n3    [0.0, 0.0, 0.0, 0.0, 0.0, 0.0, 0.0, 0.0, 0.0, ...   \n4    [0.0, 0.0, 0.0, 0.0, 0.0, 0.0, 0.0, 0.0, 0.0, ...   \n..                                                 ...   \n420  [0.0, 0.0, 0.0, 0.0, 0.0, 0.0, 0.0, 0.0, 0.0, ...   \n421  [0.0, 0.0, 0.0, 0.0, 0.0, 0.0, 0.0, 0.0, 0.0, ...   \n422  [0.0, 0.0, 0.0, 0.0, 0.0, 0.0, 0.0, 0.0, 0.0, ...   \n423  [0.0, 0.0, 0.0, 0.0, 0.0, 0.0, 0.0, 0.0, 0.0, ...   \n424  [0.0, 0.0, 0.0, 0.0, 0.0, 0.0, 0.0, 0.0, 0.0, ...   \n\n                                               tonnetz  \n0    [-0.013063414466682632, -0.1234544114431008, -...  \n1    [0.04845747056013336, 0.02526867983571359, 0.0...  \n2    [-0.05386779890017199, -0.027705138076340542, ...  \n3    [0.007021180094766433, 0.0103778882764489, 0.2...  \n4    [0.047920894082682464, 0.024257793432034533, 0...  \n..                                                 ...  \n420  [0.03940684682031146, 0.1047418567047819, 0.03...  \n421  [-0.0033105168498387544, 0.024618212288380806,...  \n422  [0.0015526135778904798, 0.1095253043758808, 0....  \n423  [-0.18101009841973742, -0.004248825583113958, ...  \n424  [-0.03287254962763754, -0.21352748213600076, -...  \n\n[425 rows x 37 columns]",
      "text/html": "<div>\n<style scoped>\n    .dataframe tbody tr th:only-of-type {\n        vertical-align: middle;\n    }\n\n    .dataframe tbody tr th {\n        vertical-align: top;\n    }\n\n    .dataframe thead th {\n        text-align: right;\n    }\n</style>\n<table border=\"1\" class=\"dataframe\">\n  <thead>\n    <tr style=\"text-align: right;\">\n      <th></th>\n      <th>song_name</th>\n      <th>artist</th>\n      <th>playlist</th>\n      <th>zero_crossings_mean</th>\n      <th>zero_crossings_var</th>\n      <th>bpm</th>\n      <th>spectral_centroid_mean</th>\n      <th>spectral_centroid_var</th>\n      <th>spectral_rolloff_mean</th>\n      <th>spectral_rolloff_var</th>\n      <th>...</th>\n      <th>mfcc_var_7</th>\n      <th>mfcc_mean_8</th>\n      <th>mfcc_var_8</th>\n      <th>mfcc_mean_9</th>\n      <th>mfcc_var_9</th>\n      <th>mfcc_mean_10</th>\n      <th>mfcc_var_10</th>\n      <th>chord_trajectory</th>\n      <th>note_trajectory</th>\n      <th>tonnetz</th>\n    </tr>\n  </thead>\n  <tbody>\n    <tr>\n      <th>0</th>\n      <td>Ivan Sings</td>\n      <td>Aram Khachaturian</td>\n      <td>kino</td>\n      <td>0.030815</td>\n      <td>0.029865</td>\n      <td>143.554688</td>\n      <td>728.505121</td>\n      <td>164591.144472</td>\n      <td>1044.706810</td>\n      <td>1.492931e+06</td>\n      <td>...</td>\n      <td>59.754135</td>\n      <td>-7.222707</td>\n      <td>53.279484</td>\n      <td>-6.638159</td>\n      <td>63.120949</td>\n      <td>-7.461281</td>\n      <td>58.827705</td>\n      <td>[0.0, 0.0, 0.0, 0.0, 0.0, 0.0, 0.0, 0.0, 0.0, ...</td>\n      <td>[0.0, 0.0, 0.0, 0.0, 0.0, 0.0, 0.0, 0.0, 0.0, ...</td>\n      <td>[-0.013063414466682632, -0.1234544114431008, -...</td>\n    </tr>\n    <tr>\n      <th>1</th>\n      <td>Prélude in E Minor, Op. 28, No. 4</td>\n      <td>Frédéric Chopin</td>\n      <td>kino</td>\n      <td>0.028196</td>\n      <td>0.027401</td>\n      <td>103.359375</td>\n      <td>615.425486</td>\n      <td>95544.686241</td>\n      <td>892.440162</td>\n      <td>8.328338e+05</td>\n      <td>...</td>\n      <td>66.532372</td>\n      <td>-7.709404</td>\n      <td>67.271782</td>\n      <td>-8.138650</td>\n      <td>51.361748</td>\n      <td>-8.201083</td>\n      <td>51.866173</td>\n      <td>[12.0, 0.0, 0.0, 2.0, 0.0, 0.0, 0.0, 0.0, 2.0,...</td>\n      <td>[0.0, 0.0, 0.0, 0.0, 0.0, 0.0, 0.0, 0.0, 0.0, ...</td>\n      <td>[0.04845747056013336, 0.02526867983571359, 0.0...</td>\n    </tr>\n    <tr>\n      <th>2</th>\n      <td>Above the Trees</td>\n      <td>Kino</td>\n      <td>kino</td>\n      <td>0.052121</td>\n      <td>0.049405</td>\n      <td>143.554688</td>\n      <td>1053.924804</td>\n      <td>248527.612506</td>\n      <td>1937.848230</td>\n      <td>1.480721e+06</td>\n      <td>...</td>\n      <td>113.514336</td>\n      <td>-4.448510</td>\n      <td>74.239128</td>\n      <td>-2.306997</td>\n      <td>76.906097</td>\n      <td>-2.640234</td>\n      <td>74.699959</td>\n      <td>[17.0, 0.0, 0.0, 1.0, 0.0, 0.0, 0.0, 0.0, 0.0,...</td>\n      <td>[0.0, 0.0, 0.0, 0.0, 0.0, 0.0, 0.0, 0.0, 0.0, ...</td>\n      <td>[-0.05386779890017199, -0.027705138076340542, ...</td>\n    </tr>\n    <tr>\n      <th>3</th>\n      <td>All</td>\n      <td>Kino</td>\n      <td>kino</td>\n      <td>0.044240</td>\n      <td>0.042283</td>\n      <td>161.499023</td>\n      <td>619.260455</td>\n      <td>49458.448746</td>\n      <td>981.976649</td>\n      <td>2.497879e+05</td>\n      <td>...</td>\n      <td>109.742783</td>\n      <td>3.967615</td>\n      <td>61.414219</td>\n      <td>4.160887</td>\n      <td>66.464058</td>\n      <td>-0.379875</td>\n      <td>82.376328</td>\n      <td>[3.0, 0.0, 0.0, 0.0, 0.0, 0.0, 0.0, 2.0, 0.0, ...</td>\n      <td>[0.0, 0.0, 0.0, 0.0, 0.0, 0.0, 0.0, 0.0, 0.0, ...</td>\n      <td>[0.007021180094766433, 0.0103778882764489, 0.2...</td>\n    </tr>\n    <tr>\n      <th>4</th>\n      <td>Anew</td>\n      <td>Kino</td>\n      <td>kino</td>\n      <td>0.048969</td>\n      <td>0.046571</td>\n      <td>161.499023</td>\n      <td>677.808914</td>\n      <td>72961.813450</td>\n      <td>1098.534181</td>\n      <td>4.831254e+05</td>\n      <td>...</td>\n      <td>75.191750</td>\n      <td>-0.318088</td>\n      <td>72.683647</td>\n      <td>-0.499459</td>\n      <td>70.440079</td>\n      <td>-3.557541</td>\n      <td>71.182747</td>\n      <td>[105.0, 0.0, 2.0, 0.0, 0.0, 0.0, 0.0, 5.0, 0.0...</td>\n      <td>[0.0, 0.0, 0.0, 0.0, 0.0, 0.0, 0.0, 0.0, 0.0, ...</td>\n      <td>[0.047920894082682464, 0.024257793432034533, 0...</td>\n    </tr>\n    <tr>\n      <th>...</th>\n      <td>...</td>\n      <td>...</td>\n      <td>...</td>\n      <td>...</td>\n      <td>...</td>\n      <td>...</td>\n      <td>...</td>\n      <td>...</td>\n      <td>...</td>\n      <td>...</td>\n      <td>...</td>\n      <td>...</td>\n      <td>...</td>\n      <td>...</td>\n      <td>...</td>\n      <td>...</td>\n      <td>...</td>\n      <td>...</td>\n      <td>...</td>\n      <td>...</td>\n      <td>...</td>\n    </tr>\n    <tr>\n      <th>420</th>\n      <td>Tenderness - Woven Remix</td>\n      <td>Tony Anderson</td>\n      <td>tony-anderson</td>\n      <td>0.050498</td>\n      <td>0.047948</td>\n      <td>99.384014</td>\n      <td>1690.752815</td>\n      <td>996877.763828</td>\n      <td>3788.666509</td>\n      <td>6.661065e+06</td>\n      <td>...</td>\n      <td>85.660057</td>\n      <td>-0.473025</td>\n      <td>55.165321</td>\n      <td>1.394155</td>\n      <td>64.965172</td>\n      <td>-3.817915</td>\n      <td>56.059143</td>\n      <td>[49.0, 0.0, 0.0, 6.0, 0.0, 3.0, 0.0, 0.0, 17.0...</td>\n      <td>[0.0, 0.0, 0.0, 0.0, 0.0, 0.0, 0.0, 0.0, 0.0, ...</td>\n      <td>[0.03940684682031146, 0.1047418567047819, 0.03...</td>\n    </tr>\n    <tr>\n      <th>421</th>\n      <td>Tenderness</td>\n      <td>Tony Anderson</td>\n      <td>tony-anderson</td>\n      <td>0.019365</td>\n      <td>0.018990</td>\n      <td>151.999081</td>\n      <td>500.969118</td>\n      <td>144860.433188</td>\n      <td>764.697603</td>\n      <td>1.021311e+06</td>\n      <td>...</td>\n      <td>42.235184</td>\n      <td>1.522114</td>\n      <td>30.496746</td>\n      <td>-3.054044</td>\n      <td>27.486416</td>\n      <td>-6.413583</td>\n      <td>28.495449</td>\n      <td>[46.0, 0.0, 0.0, 2.0, 0.0, 1.0, 0.0, 0.0, 8.0,...</td>\n      <td>[0.0, 0.0, 0.0, 0.0, 0.0, 0.0, 0.0, 0.0, 0.0, ...</td>\n      <td>[-0.0033105168498387544, 0.024618212288380806,...</td>\n    </tr>\n    <tr>\n      <th>422</th>\n      <td>Cambodia - Ross Lara Remix</td>\n      <td>Tony Anderson</td>\n      <td>tony-anderson</td>\n      <td>0.053039</td>\n      <td>0.050226</td>\n      <td>129.199219</td>\n      <td>1618.810406</td>\n      <td>687875.800819</td>\n      <td>3493.059627</td>\n      <td>5.250681e+06</td>\n      <td>...</td>\n      <td>62.413822</td>\n      <td>-2.939895</td>\n      <td>52.945293</td>\n      <td>2.519716</td>\n      <td>61.408394</td>\n      <td>-2.011139</td>\n      <td>51.967083</td>\n      <td>[246.0, 1.0, 0.0, 5.0, 0.0, 0.0, 0.0, 0.0, 2.0...</td>\n      <td>[0.0, 0.0, 0.0, 0.0, 0.0, 0.0, 0.0, 0.0, 0.0, ...</td>\n      <td>[0.0015526135778904798, 0.1095253043758808, 0....</td>\n    </tr>\n    <tr>\n      <th>423</th>\n      <td>Cambodia</td>\n      <td>Tony Anderson</td>\n      <td>tony-anderson</td>\n      <td>0.042857</td>\n      <td>0.041020</td>\n      <td>129.199219</td>\n      <td>1234.479968</td>\n      <td>276949.182834</td>\n      <td>2474.291523</td>\n      <td>1.718215e+06</td>\n      <td>...</td>\n      <td>118.341034</td>\n      <td>-1.348665</td>\n      <td>86.386292</td>\n      <td>1.038753</td>\n      <td>90.882286</td>\n      <td>-4.584059</td>\n      <td>92.075935</td>\n      <td>[295.0, 0.0, 0.0, 5.0, 0.0, 2.0, 0.0, 0.0, 0.0...</td>\n      <td>[0.0, 0.0, 0.0, 0.0, 0.0, 0.0, 0.0, 0.0, 0.0, ...</td>\n      <td>[-0.18101009841973742, -0.004248825583113958, ...</td>\n    </tr>\n    <tr>\n      <th>424</th>\n      <td>Oyarsa</td>\n      <td>Tony Anderson</td>\n      <td>tony-anderson</td>\n      <td>0.035910</td>\n      <td>0.034620</td>\n      <td>112.347147</td>\n      <td>625.735642</td>\n      <td>51465.968656</td>\n      <td>1004.456635</td>\n      <td>1.778121e+05</td>\n      <td>...</td>\n      <td>73.260193</td>\n      <td>0.496677</td>\n      <td>49.557613</td>\n      <td>-4.770782</td>\n      <td>65.222755</td>\n      <td>-8.970942</td>\n      <td>67.012970</td>\n      <td>[0.0, 0.0, 0.0, 0.0, 0.0, 0.0, 0.0, 0.0, 0.0, ...</td>\n      <td>[0.0, 0.0, 0.0, 0.0, 0.0, 0.0, 0.0, 0.0, 0.0, ...</td>\n      <td>[-0.03287254962763754, -0.21352748213600076, -...</td>\n    </tr>\n  </tbody>\n</table>\n<p>425 rows × 37 columns</p>\n</div>"
     },
     "execution_count": 16,
     "metadata": {},
     "output_type": "execute_result"
    }
   ],
   "source": [
    "from src.helpers import PandasAudioRepository\n",
    "\n",
    "dataset = PandasAudioRepository.load_all_feature_datasets(config.extracted_dir)\n",
    "dataset.to_pickle(config.fresh_load_dataset_dir, compression='bz2')\n",
    "dataset"
   ]
  },
  {
   "cell_type": "markdown",
   "metadata": {},
   "source": [
    "## Low-Dimensional Embedding of High-Dimensional Features\n",
    "\n",
    "Features that are high-dimensional include:\n",
    "1. Note Trajectory (16384 dimensions)\n",
    "2. Chord Trajectory (625 dimensions)\n",
    "3. Tonnetz (2048 dimensions)\n",
    "\n",
    "The methodology for each high-dimensional feature is as follows:\n",
    "1. Calculate pairwise distances\n",
    "2. Embed points in 2D while preserving their distances between each other\n",
    "3. Introduce the 2D coordinates as additional features/columns in the dataset"
   ]
  },
  {
   "cell_type": "code",
   "execution_count": 17,
   "metadata": {},
   "outputs": [],
   "source": [
    "from src.helpers import standardize_tonnetz\n",
    "\n",
    "note_trajectories = dataset.pop('note_trajectory').apply(pd.Series)\n",
    "chord_trajectories = dataset.pop('chord_trajectory').apply(pd.Series)\n",
    "tonnetz = dataset.pop('tonnetz').apply(standardize_tonnetz).apply(pd.Series)"
   ]
  },
  {
   "cell_type": "markdown",
   "metadata": {},
   "source": [
    "### Calculate Pairwise Distances\n",
    "\n",
    "First, trajectory matrices are normalised. This is important because longer music tend to stay on the same notes/chords longer. We want music that have similar harmonic transitions to be close together, no matter how long or short they are.\n",
    "\n",
    "Then, Euclidean distance is used to calculate the distance between each point or 'row' in the dataset."
   ]
  },
  {
   "cell_type": "code",
   "execution_count": 18,
   "metadata": {},
   "outputs": [],
   "source": [
    "note_distances = pdist(minmax_scaler.fit_transform(note_trajectories.T).T, 'euclidean')\n",
    "chord_distances = pdist(minmax_scaler.fit_transform(chord_trajectories.T).T, 'euclidean')\n",
    "tonnetz_distances = pdist(tonnetz, 'euclidean') # skipping normalisation because tonnetz has its own scale that represents melodic movement"
   ]
  },
  {
   "cell_type": "markdown",
   "metadata": {},
   "source": [
    "The MDS algorithm will attempt to plot each point on a 2D plane while preserving the calculated distances as much as possible."
   ]
  },
  {
   "cell_type": "code",
   "execution_count": 19,
   "metadata": {},
   "outputs": [],
   "source": [
    "note_mds = MDS(n_components=2, dissimilarity='precomputed', normalized_stress=False, random_state=0)\n",
    "chord_mds = MDS(n_components=2, dissimilarity='precomputed', normalized_stress=False, random_state=0)\n",
    "tonnetz_mds = MDS(n_components=2, dissimilarity='precomputed', normalized_stress=False, random_state=0)\n",
    "\n",
    "note_coordinates = note_mds.fit_transform(squareform(note_distances))\n",
    "chord_coordinates = chord_mds.fit_transform(squareform(chord_distances))\n",
    "tonnetz_coordinates = tonnetz_mds.fit_transform(squareform(tonnetz_distances))"
   ]
  },
  {
   "cell_type": "markdown",
   "metadata": {},
   "source": [
    "The obtained 2D coordinates for each feature is then added to the main dataset as additional columns."
   ]
  },
  {
   "cell_type": "code",
   "execution_count": 20,
   "metadata": {},
   "outputs": [
    {
     "data": {
      "text/plain": "                             song_name             artist       playlist  \\\n0                           Ivan Sings  Aram Khachaturian           kino   \n1    Prélude in E Minor, Op. 28, No. 4    Frédéric Chopin           kino   \n2                      Above the Trees               Kino           kino   \n3                                  All               Kino           kino   \n4                                 Anew               Kino           kino   \n..                                 ...                ...            ...   \n420           Tenderness - Woven Remix      Tony Anderson  tony-anderson   \n421                         Tenderness      Tony Anderson  tony-anderson   \n422         Cambodia - Ross Lara Remix      Tony Anderson  tony-anderson   \n423                           Cambodia      Tony Anderson  tony-anderson   \n424                             Oyarsa      Tony Anderson  tony-anderson   \n\n     zero_crossings_mean  zero_crossings_var         bpm  \\\n0               0.030815            0.029865  143.554688   \n1               0.028196            0.027401  103.359375   \n2               0.052121            0.049405  143.554688   \n3               0.044240            0.042283  161.499023   \n4               0.048969            0.046571  161.499023   \n..                   ...                 ...         ...   \n420             0.050498            0.047948   99.384014   \n421             0.019365            0.018990  151.999081   \n422             0.053039            0.050226  129.199219   \n423             0.042857            0.041020  129.199219   \n424             0.035910            0.034620  112.347147   \n\n     spectral_centroid_mean  spectral_centroid_var  spectral_rolloff_mean  \\\n0                728.505121          164591.144472            1044.706810   \n1                615.425486           95544.686241             892.440162   \n2               1053.924804          248527.612506            1937.848230   \n3                619.260455           49458.448746             981.976649   \n4                677.808914           72961.813450            1098.534181   \n..                      ...                    ...                    ...   \n420             1690.752815          996877.763828            3788.666509   \n421              500.969118          144860.433188             764.697603   \n422             1618.810406          687875.800819            3493.059627   \n423             1234.479968          276949.182834            2474.291523   \n424              625.735642           51465.968656            1004.456635   \n\n     spectral_rolloff_var  ...  mfcc_mean_9  mfcc_var_9  mfcc_mean_10  \\\n0            1.492931e+06  ...    -6.638159   63.120949     -7.461281   \n1            8.328338e+05  ...    -8.138650   51.361748     -8.201083   \n2            1.480721e+06  ...    -2.306997   76.906097     -2.640234   \n3            2.497879e+05  ...     4.160887   66.464058     -0.379875   \n4            4.831254e+05  ...    -0.499459   70.440079     -3.557541   \n..                    ...  ...          ...         ...           ...   \n420          6.661065e+06  ...     1.394155   64.965172     -3.817915   \n421          1.021311e+06  ...    -3.054044   27.486416     -6.413583   \n422          5.250681e+06  ...     2.519716   61.408394     -2.011139   \n423          1.718215e+06  ...     1.038753   90.882286     -4.584059   \n424          1.778121e+05  ...    -4.770782   65.222755     -8.970942   \n\n     mfcc_var_10    note_x    note_y   chord_x   chord_y  tonnetz_x  tonnetz_y  \n0      58.827705  2.361876  2.795904 -0.955176 -1.065456  -2.717811  -4.500332  \n1      51.866173  1.978581 -1.761288  0.920565 -1.069353   3.190415   2.314202  \n2      74.699959 -2.861458  1.027565 -1.137433  0.706568  -6.844608   1.312670  \n3      82.376328 -0.177983 -3.531575  0.872209 -0.688921   8.009786   3.262977  \n4      71.182747 -1.171500  3.365584  0.311606  1.073794  -2.299285   8.367366  \n..           ...       ...       ...       ...       ...        ...        ...  \n420    56.059143  0.021364 -0.385496  0.980069 -0.501309  -0.094128  -0.390167  \n421    28.495449  1.417974 -0.157861 -0.334780 -0.432253   2.392926  -4.154974  \n422    51.967083 -0.076355 -0.297715  0.076252  0.138757   3.653407  -1.242072  \n423    92.075935  0.720915 -1.493222  0.216220  0.316590   8.486876  -0.512056  \n424    67.012970 -0.873254  0.596994 -1.304895 -0.364650  -5.031220  -5.831117  \n\n[425 rows x 40 columns]",
      "text/html": "<div>\n<style scoped>\n    .dataframe tbody tr th:only-of-type {\n        vertical-align: middle;\n    }\n\n    .dataframe tbody tr th {\n        vertical-align: top;\n    }\n\n    .dataframe thead th {\n        text-align: right;\n    }\n</style>\n<table border=\"1\" class=\"dataframe\">\n  <thead>\n    <tr style=\"text-align: right;\">\n      <th></th>\n      <th>song_name</th>\n      <th>artist</th>\n      <th>playlist</th>\n      <th>zero_crossings_mean</th>\n      <th>zero_crossings_var</th>\n      <th>bpm</th>\n      <th>spectral_centroid_mean</th>\n      <th>spectral_centroid_var</th>\n      <th>spectral_rolloff_mean</th>\n      <th>spectral_rolloff_var</th>\n      <th>...</th>\n      <th>mfcc_mean_9</th>\n      <th>mfcc_var_9</th>\n      <th>mfcc_mean_10</th>\n      <th>mfcc_var_10</th>\n      <th>note_x</th>\n      <th>note_y</th>\n      <th>chord_x</th>\n      <th>chord_y</th>\n      <th>tonnetz_x</th>\n      <th>tonnetz_y</th>\n    </tr>\n  </thead>\n  <tbody>\n    <tr>\n      <th>0</th>\n      <td>Ivan Sings</td>\n      <td>Aram Khachaturian</td>\n      <td>kino</td>\n      <td>0.030815</td>\n      <td>0.029865</td>\n      <td>143.554688</td>\n      <td>728.505121</td>\n      <td>164591.144472</td>\n      <td>1044.706810</td>\n      <td>1.492931e+06</td>\n      <td>...</td>\n      <td>-6.638159</td>\n      <td>63.120949</td>\n      <td>-7.461281</td>\n      <td>58.827705</td>\n      <td>2.361876</td>\n      <td>2.795904</td>\n      <td>-0.955176</td>\n      <td>-1.065456</td>\n      <td>-2.717811</td>\n      <td>-4.500332</td>\n    </tr>\n    <tr>\n      <th>1</th>\n      <td>Prélude in E Minor, Op. 28, No. 4</td>\n      <td>Frédéric Chopin</td>\n      <td>kino</td>\n      <td>0.028196</td>\n      <td>0.027401</td>\n      <td>103.359375</td>\n      <td>615.425486</td>\n      <td>95544.686241</td>\n      <td>892.440162</td>\n      <td>8.328338e+05</td>\n      <td>...</td>\n      <td>-8.138650</td>\n      <td>51.361748</td>\n      <td>-8.201083</td>\n      <td>51.866173</td>\n      <td>1.978581</td>\n      <td>-1.761288</td>\n      <td>0.920565</td>\n      <td>-1.069353</td>\n      <td>3.190415</td>\n      <td>2.314202</td>\n    </tr>\n    <tr>\n      <th>2</th>\n      <td>Above the Trees</td>\n      <td>Kino</td>\n      <td>kino</td>\n      <td>0.052121</td>\n      <td>0.049405</td>\n      <td>143.554688</td>\n      <td>1053.924804</td>\n      <td>248527.612506</td>\n      <td>1937.848230</td>\n      <td>1.480721e+06</td>\n      <td>...</td>\n      <td>-2.306997</td>\n      <td>76.906097</td>\n      <td>-2.640234</td>\n      <td>74.699959</td>\n      <td>-2.861458</td>\n      <td>1.027565</td>\n      <td>-1.137433</td>\n      <td>0.706568</td>\n      <td>-6.844608</td>\n      <td>1.312670</td>\n    </tr>\n    <tr>\n      <th>3</th>\n      <td>All</td>\n      <td>Kino</td>\n      <td>kino</td>\n      <td>0.044240</td>\n      <td>0.042283</td>\n      <td>161.499023</td>\n      <td>619.260455</td>\n      <td>49458.448746</td>\n      <td>981.976649</td>\n      <td>2.497879e+05</td>\n      <td>...</td>\n      <td>4.160887</td>\n      <td>66.464058</td>\n      <td>-0.379875</td>\n      <td>82.376328</td>\n      <td>-0.177983</td>\n      <td>-3.531575</td>\n      <td>0.872209</td>\n      <td>-0.688921</td>\n      <td>8.009786</td>\n      <td>3.262977</td>\n    </tr>\n    <tr>\n      <th>4</th>\n      <td>Anew</td>\n      <td>Kino</td>\n      <td>kino</td>\n      <td>0.048969</td>\n      <td>0.046571</td>\n      <td>161.499023</td>\n      <td>677.808914</td>\n      <td>72961.813450</td>\n      <td>1098.534181</td>\n      <td>4.831254e+05</td>\n      <td>...</td>\n      <td>-0.499459</td>\n      <td>70.440079</td>\n      <td>-3.557541</td>\n      <td>71.182747</td>\n      <td>-1.171500</td>\n      <td>3.365584</td>\n      <td>0.311606</td>\n      <td>1.073794</td>\n      <td>-2.299285</td>\n      <td>8.367366</td>\n    </tr>\n    <tr>\n      <th>...</th>\n      <td>...</td>\n      <td>...</td>\n      <td>...</td>\n      <td>...</td>\n      <td>...</td>\n      <td>...</td>\n      <td>...</td>\n      <td>...</td>\n      <td>...</td>\n      <td>...</td>\n      <td>...</td>\n      <td>...</td>\n      <td>...</td>\n      <td>...</td>\n      <td>...</td>\n      <td>...</td>\n      <td>...</td>\n      <td>...</td>\n      <td>...</td>\n      <td>...</td>\n      <td>...</td>\n    </tr>\n    <tr>\n      <th>420</th>\n      <td>Tenderness - Woven Remix</td>\n      <td>Tony Anderson</td>\n      <td>tony-anderson</td>\n      <td>0.050498</td>\n      <td>0.047948</td>\n      <td>99.384014</td>\n      <td>1690.752815</td>\n      <td>996877.763828</td>\n      <td>3788.666509</td>\n      <td>6.661065e+06</td>\n      <td>...</td>\n      <td>1.394155</td>\n      <td>64.965172</td>\n      <td>-3.817915</td>\n      <td>56.059143</td>\n      <td>0.021364</td>\n      <td>-0.385496</td>\n      <td>0.980069</td>\n      <td>-0.501309</td>\n      <td>-0.094128</td>\n      <td>-0.390167</td>\n    </tr>\n    <tr>\n      <th>421</th>\n      <td>Tenderness</td>\n      <td>Tony Anderson</td>\n      <td>tony-anderson</td>\n      <td>0.019365</td>\n      <td>0.018990</td>\n      <td>151.999081</td>\n      <td>500.969118</td>\n      <td>144860.433188</td>\n      <td>764.697603</td>\n      <td>1.021311e+06</td>\n      <td>...</td>\n      <td>-3.054044</td>\n      <td>27.486416</td>\n      <td>-6.413583</td>\n      <td>28.495449</td>\n      <td>1.417974</td>\n      <td>-0.157861</td>\n      <td>-0.334780</td>\n      <td>-0.432253</td>\n      <td>2.392926</td>\n      <td>-4.154974</td>\n    </tr>\n    <tr>\n      <th>422</th>\n      <td>Cambodia - Ross Lara Remix</td>\n      <td>Tony Anderson</td>\n      <td>tony-anderson</td>\n      <td>0.053039</td>\n      <td>0.050226</td>\n      <td>129.199219</td>\n      <td>1618.810406</td>\n      <td>687875.800819</td>\n      <td>3493.059627</td>\n      <td>5.250681e+06</td>\n      <td>...</td>\n      <td>2.519716</td>\n      <td>61.408394</td>\n      <td>-2.011139</td>\n      <td>51.967083</td>\n      <td>-0.076355</td>\n      <td>-0.297715</td>\n      <td>0.076252</td>\n      <td>0.138757</td>\n      <td>3.653407</td>\n      <td>-1.242072</td>\n    </tr>\n    <tr>\n      <th>423</th>\n      <td>Cambodia</td>\n      <td>Tony Anderson</td>\n      <td>tony-anderson</td>\n      <td>0.042857</td>\n      <td>0.041020</td>\n      <td>129.199219</td>\n      <td>1234.479968</td>\n      <td>276949.182834</td>\n      <td>2474.291523</td>\n      <td>1.718215e+06</td>\n      <td>...</td>\n      <td>1.038753</td>\n      <td>90.882286</td>\n      <td>-4.584059</td>\n      <td>92.075935</td>\n      <td>0.720915</td>\n      <td>-1.493222</td>\n      <td>0.216220</td>\n      <td>0.316590</td>\n      <td>8.486876</td>\n      <td>-0.512056</td>\n    </tr>\n    <tr>\n      <th>424</th>\n      <td>Oyarsa</td>\n      <td>Tony Anderson</td>\n      <td>tony-anderson</td>\n      <td>0.035910</td>\n      <td>0.034620</td>\n      <td>112.347147</td>\n      <td>625.735642</td>\n      <td>51465.968656</td>\n      <td>1004.456635</td>\n      <td>1.778121e+05</td>\n      <td>...</td>\n      <td>-4.770782</td>\n      <td>65.222755</td>\n      <td>-8.970942</td>\n      <td>67.012970</td>\n      <td>-0.873254</td>\n      <td>0.596994</td>\n      <td>-1.304895</td>\n      <td>-0.364650</td>\n      <td>-5.031220</td>\n      <td>-5.831117</td>\n    </tr>\n  </tbody>\n</table>\n<p>425 rows × 40 columns</p>\n</div>"
     },
     "execution_count": 20,
     "metadata": {},
     "output_type": "execute_result"
    }
   ],
   "source": [
    "note_coordinates_df = pd.DataFrame(note_coordinates, columns=['x', 'y'])\n",
    "chord_coordinates_df = pd.DataFrame(chord_coordinates, columns=['x', 'y'])\n",
    "tonnetz_coordinates_df = pd.DataFrame(tonnetz_coordinates, columns=['x', 'y'])\n",
    "\n",
    "dataset['note_x'] = note_coordinates_df['x']\n",
    "dataset['note_y'] = note_coordinates_df['y']\n",
    "\n",
    "dataset['chord_x'] = chord_coordinates_df['x']\n",
    "dataset['chord_y'] = chord_coordinates_df['y']\n",
    "\n",
    "dataset['tonnetz_x'] = tonnetz_coordinates_df['x']\n",
    "dataset['tonnetz_y'] = tonnetz_coordinates_df['y']\n",
    "\n",
    "dataset"
   ]
  },
  {
   "cell_type": "markdown",
   "metadata": {},
   "source": [
    "## Save Progress\n",
    "\n",
    "The dataset is saved to the `temp` folder."
   ]
  },
  {
   "cell_type": "code",
   "execution_count": 21,
   "metadata": {},
   "outputs": [],
   "source": [
    "dataset.to_pickle(config.dim_reduction_result_dir, compression='bz2')"
   ]
  },
  {
   "cell_type": "markdown",
   "metadata": {},
   "source": [
    "## Visualisation of Reduced Dimensions\n",
    "\n",
    "### Note Trajectory\n",
    "\n",
    "We can see that points seem to be normally distributed from the center with little sign of clustering. This can be caused by there being too many potential dimensions i.e. notes. In other words, even similar songs that sound similar to us might not play the same notes and thus appear more distant to the machine than it really is. This is the consequence of the curse of dimensionality.\n",
    "\n",
    "However, a weak cluster can be seen in the middle which could be the result of using more similar patterns of notes, but it could also be considered statistically insignificant due to potential error in the note recognition neural network."
   ]
  },
  {
   "cell_type": "code",
   "execution_count": 22,
   "metadata": {},
   "outputs": [
    {
     "data": {
      "application/vnd.plotly.v1+json": {
       "data": [
        {
         "customdata": [
          [
           "Ivan Sings",
           "Aram Khachaturian",
           "kino"
          ],
          [
           "Prélude in E Minor, Op. 28, No. 4",
           "Frédéric Chopin",
           "kino"
          ],
          [
           "Above the Trees",
           "Kino",
           "kino"
          ],
          [
           "All",
           "Kino",
           "kino"
          ],
          [
           "Anew",
           "Kino",
           "kino"
          ],
          [
           "As a Cloud",
           "Kino",
           "kino"
          ],
          [
           "Away",
           "Kino",
           "kino"
          ],
          [
           "Bloom",
           "Kino",
           "kino"
          ],
          [
           "Charleston",
           "Kino",
           "kino"
          ],
          [
           "Donau",
           "Kino",
           "kino"
          ],
          [
           "Each and Every (Ambient Mix)",
           "Kino",
           "kino"
          ],
          [
           "Each and Every (Piano)",
           "Kino",
           "kino"
          ],
          [
           "Each and Every",
           "Kino",
           "kino"
          ],
          [
           "Erlöst  Redeemed",
           "Kino",
           "kino"
          ],
          [
           "Gathering",
           "Kino",
           "kino"
          ],
          [
           "God Bless Us, Every One",
           "Kino",
           "kino"
          ],
          [
           "Hearth",
           "Kino",
           "kino"
          ],
          [
           "Hēo",
           "Kino",
           "kino"
          ],
          [
           "In Earnest",
           "Kino",
           "kino"
          ],
          [
           "Leinwand (Piano)",
           "Kino",
           "kino"
          ],
          [
           "Leinwand",
           "Kino",
           "kino"
          ],
          [
           "Lightly Tread",
           "Kino",
           "kino"
          ],
          [
           "Lone",
           "Kino",
           "kino"
          ],
          [
           "Many Colors",
           "Kino",
           "kino"
          ],
          [
           "Merrily, Merrily",
           "Kino",
           "kino"
          ],
          [
           "O Tannenbaum",
           "Kino",
           "kino"
          ],
          [
           "Presidio",
           "Kino",
           "kino"
          ],
          [
           "Rambuteau",
           "Kino",
           "kino"
          ],
          [
           "Seafarer's Quartet",
           "Kino",
           "kino"
          ],
          [
           "Seems",
           "Kino",
           "kino"
          ],
          [
           "Silent Night",
           "Kino",
           "kino"
          ],
          [
           "Silver Lake",
           "Kino",
           "kino"
          ],
          [
           "St John's",
           "Kino",
           "kino"
          ],
          [
           "Sunshine - Original",
           "Kino",
           "kino"
          ],
          [
           "Swell",
           "Kino",
           "kino"
          ],
          [
           "The Holly and the Ivy",
           "Kino",
           "kino"
          ],
          [
           "The Weight Unbearable (Piano)",
           "Kino",
           "kino"
          ],
          [
           "The Weight Unbearable",
           "Kino",
           "kino"
          ],
          [
           "Till",
           "Kino",
           "kino"
          ],
          [
           "Trio in E-flat Minor",
           "Kino",
           "kino"
          ],
          [
           "Under",
           "Kino",
           "kino"
          ],
          [
           "Water Lilies",
           "Kino",
           "kino"
          ],
          [
           "Wide Awake",
           "Kino",
           "kino"
          ],
          [
           "Willeth",
           "Kino",
           "kino"
          ],
          [
           "Wolden",
           "Kino",
           "kino"
          ],
          [
           "Yule",
           "Kino",
           "kino"
          ],
          [
           "Piano Sonata No. 14 in C-Sharp Minor, Op. 27 No. 2 “Moonlight”- I. Adagio sostenuto",
           "Ludwig van Beethoven",
           "kino"
          ]
         ],
         "hovertemplate": "playlist=%{customdata[2]}<br>note_x=%{x}<br>note_y=%{y}<br>song_name=%{customdata[0]}<br>artist=%{customdata[1]}<extra></extra>",
         "legendgroup": "kino",
         "marker": {
          "color": "#636efa",
          "symbol": "circle"
         },
         "mode": "markers",
         "name": "kino",
         "orientation": "v",
         "showlegend": true,
         "x": [
          2.3618759871600243,
          1.9785807538647773,
          -2.8614578817748955,
          -0.17798320537480916,
          -1.1714996331279,
          0.09055529741637121,
          -0.37740935001831355,
          -0.9762454587016912,
          -1.1186809444369203,
          -0.10447656325183513,
          -0.5778757543564024,
          -0.6870229545495747,
          0.21194405044732126,
          -0.12076306510487785,
          0.03838386239935663,
          -2.665826867677763,
          -0.663072056625499,
          1.4506529650603468,
          -1.4770810796339124,
          1.8905527754833582,
          1.5252894896793254,
          -0.9253570238333565,
          1.398276348287958,
          -1.1990350014033389,
          -0.26081607309587895,
          1.8310186512449806,
          2.486948136170117,
          -1.1594386446889902,
          2.656190565389686,
          1.0523083239205144,
          -1.0005437074387022,
          -1.469204104381083,
          1.3012663885967835,
          -1.4352437590674239,
          1.2558724819339755,
          1.1806933751230448,
          1.0746469362337674,
          -2.0226998002458307,
          0.8198247740282905,
          -1.4760279835482844,
          1.3278555689508802,
          1.3452991469628526,
          -0.4911449730764037,
          0.6060343957735032,
          0.38642916104641234,
          0.9757432754886557,
          -1.6945430971416857
         ],
         "xaxis": "x",
         "y": [
          2.7959038778958485,
          -1.7612884326663503,
          1.0275651309960963,
          -3.531574846990274,
          3.365584045245331,
          1.0913878229475686,
          0.7363574875152823,
          2.099651359452059,
          2.3032030339171023,
          -1.5071110318496819,
          1.9859257489528293,
          1.8423828205849795,
          0.9795121240091265,
          -0.299250542269252,
          -0.333807646356252,
          1.0124207945503985,
          1.2049658560436007,
          -0.9050815162100138,
          0.7980533846221224,
          0.39904938880070884,
          0.9333586955801064,
          1.3736268682561747,
          0.9290857917145025,
          -0.1936838197274687,
          0.9675880788712004,
          0.5529733202809888,
          -1.337248254742839,
          1.6534663666832692,
          0.20792485455451926,
          0.32906956718140007,
          2.6800778949474466,
          0.20780286916204938,
          0.41258215771681533,
          0.9013137904958602,
          1.8021539996348879,
          2.320627506933109,
          1.6529380908983078,
          0.33818368360160084,
          -2.2335362325000108,
          1.1576681408257392,
          -0.4340614327598497,
          1.7059403843863317,
          0.924845219009778,
          0.2781210581988328,
          0.39696673461726983,
          2.93198088594697,
          2.886891814485047
         ],
         "yaxis": "y",
         "type": "scatter"
        },
        {
         "customdata": [
          [
           "But it's Destiny",
           "10cm",
           "korean-ost"
          ],
          [
           "나의 어깨에 기대어요",
           "10cm",
           "korean-ost"
          ],
          [
           "Is You",
           "AILEE",
           "korean-ost"
          ],
          [
           "How can I love the heartbreak, you're the one I love",
           "AKMU",
           "korean-ost"
          ],
          [
           "How can I love the heartbreak, you`re the one I love",
           "AKMU",
           "korean-ost"
          ],
          [
           "Amusement Park",
           "BAEKHYUN",
           "korean-ost"
          ],
          [
           "너를 사랑하고 있어",
           "BAEKHYUN",
           "korean-ost"
          ],
          [
           "Beautiful goodbye",
           "CHEN",
           "korean-ost"
          ],
          [
           "Flower",
           "CHEN",
           "korean-ost"
          ],
          [
           "I'll be there",
           "CHEN",
           "korean-ost"
          ],
          [
           "My dear",
           "CHEN",
           "korean-ost"
          ],
          [
           "Sorry not sorry",
           "CHEN",
           "korean-ost"
          ],
          [
           "Everytime",
           "CHEN",
           "korean-ost"
          ],
          [
           "Wish",
           "Choi Yuree",
           "korean-ost"
          ],
          [
           "Beautiful",
           "Crush",
           "korean-ost"
          ],
          [
           "Let Us Go",
           "Crush",
           "korean-ost"
          ],
          [
           "No Words",
           "Crush",
           "korean-ost"
          ],
          [
           "My Love",
           "DAVICHI",
           "korean-ost"
          ],
          [
           "Please Don't Cry",
           "DAVICHI",
           "korean-ost"
          ],
          [
           "Sunset",
           "DAVICHI",
           "korean-ost"
          ],
          [
           "노력해볼게요 I'll try",
           "DAY6",
           "korean-ost"
          ],
          [
           "I'm In Love With You",
           "Dvwn",
           "korean-ost"
          ],
          [
           "No Problem",
           "Dvwn",
           "korean-ost"
          ],
          [
           "긴 밤이 오면",
           "Eddy Kim",
           "korean-ost"
          ],
          [
           "Rain or Shine",
           "Elaine",
           "korean-ost"
          ],
          [
           "Hate Everything - Korean Version",
           "GSoul",
           "korean-ost"
          ],
          [
           "기억해줘요 내 모든 날과 그때를",
           "Gummy",
           "korean-ost"
          ],
          [
           "Slowly Fall",
           "Ha Hyun Sang",
           "korean-ost"
          ],
          [
           "내 맘을 볼 수 있나요",
           "HEIZE",
           "korean-ost"
          ],
          [
           "Deeply",
           "HEN",
           "korean-ost"
          ],
          [
           "To You",
           "HEN",
           "korean-ost"
          ],
          [
           "It's You",
           "HENRY",
           "korean-ost"
          ],
          [
           "Untitled Love Song",
           "HENRY",
           "korean-ost"
          ],
          [
           "Ending Scene",
           "IU",
           "korean-ost"
          ],
          [
           "Give You My Heart",
           "IU",
           "korean-ost"
          ],
          [
           "Love poem",
           "IU",
           "korean-ost"
          ],
          [
           "My sea",
           "IU",
           "korean-ost"
          ],
          [
           "Holiday",
           "JeHwi",
           "korean-ost"
          ],
          [
           "Stardust love song",
           "JIHYO",
           "korean-ost"
          ],
          [
           "What Lies Ahead",
           "Joe Layne",
           "korean-ost"
          ],
          [
           "Times Like This",
           "Josh Daniel",
           "korean-ost"
          ],
          [
           "Do you want to walk with me (Romance 101 X Jukjae)",
           "Jukjae",
           "korean-ost"
          ],
          [
           "The Days Like Pictures",
           "Jukjae",
           "korean-ost"
          ],
          [
           "나를 찾아서",
           "Jukjae",
           "korean-ost"
          ],
          [
           "별 보러 가자",
           "Jukjae",
           "korean-ost"
          ],
          [
           "Day & Night",
           "Jung Seung Hwan",
           "korean-ost"
          ],
          [
           "Because I Miss You",
           "Jung Yong Hwa",
           "korean-ost"
          ],
          [
           "For First-time Lovers (Banmal-song)",
           "Jung Yong Hwa",
           "korean-ost"
          ],
          [
           "I Go",
           "Kei (Kim Ji Yeon)",
           "korean-ost"
          ],
          [
           "보고싶다 (From. '드라마 천국의 계단')",
           "Kim Bum Soo",
           "korean-ost"
          ],
          [
           "One Day",
           "Kim Feel",
           "korean-ost"
          ],
          [
           "Someday, The Boy",
           "Kim Feel",
           "korean-ost"
          ],
          [
           "Vacance in September",
           "KIM JAE HWAN",
           "korean-ost"
          ],
          [
           "All of My Days",
           "KIMSEJEONG",
           "korean-ost"
          ],
          [
           "If Only",
           "KIMSEJEONG",
           "korean-ost"
          ],
          [
           "Lonely Night",
           "Kwon Jin Ah",
           "korean-ost"
          ],
          [
           "The End",
           "Kwon Jin Ah",
           "korean-ost"
          ],
          [
           "I Won't Heartbreaken",
           "Lee KwangHee",
           "korean-ost"
          ],
          [
           "In My Heart",
           "LIM YEON",
           "korean-ost"
          ],
          [
           "Lost",
           "LIM YEON",
           "korean-ost"
          ],
          [
           "Say Yes",
           "Loco",
           "korean-ost"
          ],
          [
           "Be There For You",
           "NCT DREAM",
           "korean-ost"
          ],
          [
           "Rainbow - Acoustic Version",
           "O.WHEN",
           "korean-ost"
          ],
          [
           "Me After You",
           "Paul Kim",
           "korean-ost"
          ],
          [
           "안녕",
           "Paul Kim",
           "korean-ost"
          ],
          [
           "But I'm Trying to Tell You How Much I Love You (With Moonbit)",
           "saevom",
           "korean-ost"
          ],
          [
           "For You",
           "Sam Kim",
           "korean-ost"
          ],
          [
           "Sunny Day Rainy Day (feat. Kassy)",
           "Sanchez",
           "korean-ost"
          ],
          [
           "Your world",
           "Seol Hoseung (SURL)",
           "korean-ost"
          ],
          [
           "Grown Ups",
           "Sondia",
           "korean-ost"
          ],
          [
           "Hug",
           "Sondia",
           "korean-ost"
          ],
          [
           "Our Souls at Night",
           "Sondia",
           "korean-ost"
          ],
          [
           "우린 친구뿐일까",
           "Sondia",
           "korean-ost"
          ],
          [
           "She",
           "Standing Egg",
           "korean-ost"
          ],
          [
           "Miracle (Feat. Paul Kim)",
           "Stella Jang",
           "korean-ost"
          ],
          [
           "One more time, One more chance",
           "Sung Si Kyung",
           "korean-ost"
          ],
          [
           "君がいるよ",
           "Sung Si Kyung",
           "korean-ost"
          ],
          [
           "Two People",
           "SURAN",
           "korean-ost"
          ],
          [
           "Inevitable",
           "Suzy",
           "korean-ost"
          ],
          [
           "Starlight",
           "TAEIL",
           "korean-ost"
          ],
          [
           "그대라는 시",
           "TAEYEON",
           "korean-ost"
          ],
          [
           "Two Words",
           "WENDY",
           "korean-ost"
          ],
          [
           "What If Love",
           "WENDY",
           "korean-ost"
          ],
          [
           "내일도 또 내일도 Tomorrow After Tomorrow",
           "WISUE",
           "korean-ost"
          ],
          [
           "Your Existence",
           "Wonstein",
           "korean-ost"
          ],
          [
           "Free",
           "Xydo",
           "korean-ost"
          ],
          [
           "너만 너만 너만",
           "Yang Dail",
           "korean-ost"
          ],
          [
           "With me",
           "Yang Dail",
           "korean-ost"
          ],
          [
           "Here I Am Again",
           "Yerin Baek",
           "korean-ost"
          ],
          [
           "Maze",
           "YONGZOO",
           "korean-ost"
          ],
          [
           "ALWAYS",
           "Yoon Mirae",
           "korean-ost"
          ],
          [
           "Flower",
           "Yoon Mirae",
           "korean-ost"
          ],
          [
           "You Are My World",
           "Yoon Mirae",
           "korean-ost"
          ],
          [
           "I Just Want To Stay With You",
           "Zion.T",
           "korean-ost"
          ],
          [
           "Faith",
           "이준화",
           "korean-ost"
          ]
         ],
         "hovertemplate": "playlist=%{customdata[2]}<br>note_x=%{x}<br>note_y=%{y}<br>song_name=%{customdata[0]}<br>artist=%{customdata[1]}<extra></extra>",
         "legendgroup": "korean-ost",
         "marker": {
          "color": "#EF553B",
          "symbol": "circle"
         },
         "mode": "markers",
         "name": "korean-ost",
         "orientation": "v",
         "showlegend": true,
         "x": [
          -0.40569907740116606,
          4.992619662920162,
          1.1933536534990499,
          2.679903600408176,
          3.1368873267792474,
          -2.329438115195698,
          -2.363826270728012,
          0.6896780648596444,
          3.40216315758819,
          -0.30566945491757397,
          2.5229899165228575,
          1.3089304674866238,
          0.35829538980710873,
          2.609127966803628,
          -1.2435585899732802,
          1.1940708044577935,
          0.2802534199864209,
          -2.969678701563409,
          -1.7816259217962374,
          0.09156529200429613,
          3.8438733071154636,
          -0.638981629788679,
          3.0793736996698757,
          0.1279715176931088,
          -1.4431190887570338,
          1.613710981375823,
          -0.9466873972582396,
          -2.257061655600808,
          -1.4774997599010622,
          -3.086488752112838,
          3.5295358867346796,
          -1.7934203150037253,
          -0.24557123742790227,
          3.037769199265943,
          -2.092107943958332,
          -0.8991256409978596,
          -2.2094186267578113,
          2.611805969810522,
          4.435921108350602,
          0.32935146649145064,
          -2.9768711077651484,
          -0.5378848820092916,
          1.7254897755654037,
          0.6467839016622123,
          -1.6642640383040441,
          1.4464627183580605,
          -0.07561498671537185,
          -0.7740899740459741,
          -0.33189541387956367,
          3.3920111950793417,
          -1.108817935886108,
          2.150168300732256,
          -0.5088716237703352,
          0.2849400223926038,
          -0.21978320757504596,
          0.10675669705943648,
          -0.17134466487837713,
          1.0774798271208528,
          -0.12108608159044305,
          -1.9161567785208264,
          -0.9604979594631211,
          0.3231510617070716,
          -1.0088160206934769,
          -3.596517243034306,
          -1.0631169734440258,
          3.441606029039717,
          -0.5779420453243204,
          0.8953928039885845,
          -0.41405925595744847,
          1.5271797431805638,
          -2.727314235144184,
          -1.723379002366431,
          1.9727037156291845,
          -1.6510380067099117,
          -2.586970852124798,
          0.29900633834534057,
          -1.3070708893929048,
          0.7124340393750144,
          1.7326825977270695,
          -1.3651350443274683,
          -1.4960898823399786,
          0.14280089052828293,
          -1.3104838892522708,
          -1.999548171295149,
          1.1161716893143123,
          -0.9597017581646938,
          -1.8612225807245935,
          -0.994563890140239,
          0.22091435195518724,
          -0.7953634151690209,
          0.04584392333771509,
          -0.27589447797076033,
          1.0856814953956475,
          1.1386609909570455,
          -1.8614178401189163
         ],
         "xaxis": "x",
         "y": [
          -0.3991548157315399,
          0.2927946904055875,
          -3.9514858743174077,
          -2.802913540553253,
          -2.2798042469938817,
          -1.4221114196490354,
          -1.1401151671101961,
          2.037864709669777,
          1.300602205282946,
          0.7003322821826405,
          -0.4950771951293252,
          -0.6272111093785108,
          2.383190456209323,
          -0.9173263945845682,
          0.660514207679152,
          4.05573636811876,
          1.8066223966367103,
          0.5248481328278405,
          -0.8781348575395773,
          2.869041347319822,
          -2.875309542762665,
          -2.050347765872865,
          -1.3830181651714262,
          1.7371050990082502,
          1.4761052695237344,
          1.8836370709005819,
          2.454331245156598,
          1.4734823182852628,
          0.4424900545729238,
          -1.96204730381998,
          -0.6864258257264818,
          -1.3650549193749064,
          -0.5406509939748879,
          -1.8957451498648552,
          1.2247684070376164,
          0.3716282432479381,
          -0.5956437716663648,
          1.1501882595348238,
          2.3838909782692155,
          -2.332451739568395,
          2.4160977961211003,
          0.305731780841331,
          -0.8145650629349538,
          -0.921035080141747,
          -1.4344131658108805,
          -2.5966729002549527,
          0.4335145546778118,
          -1.333901865079601,
          1.8477386985255237,
          2.6378908301270543,
          0.4183111364973658,
          0.8853760121157598,
          -0.6809262859185121,
          1.3636850003969907,
          1.4568677884140868,
          4.87825163110442,
          1.3465877184702848,
          1.303100204755515,
          1.2156728438271434,
          1.3175922387576087,
          -1.5944740905566253,
          0.6153731825351706,
          -2.0638825604386093,
          -2.933181622721536,
          -2.993643291619311,
          0.5305321619783333,
          1.3719375846048025,
          -1.7361584504420413,
          -0.8512580459382781,
          2.409426931094412,
          -0.550549440910184,
          1.6594149379586158,
          -2.244458211030284,
          0.21067981696123583,
          2.0648734292842374,
          -1.8744814416827256,
          -2.1296077667634714,
          1.6132641214956003,
          3.5695329589600924,
          -0.9578835018505956,
          3.123588425865075,
          1.1975426146064363,
          0.13817462610119588,
          2.4411349775555067,
          -3.0026416429141047,
          -1.3140987304893035,
          -1.7870480504437283,
          1.143972224835122,
          -2.27612069878932,
          -3.2142843583866805,
          0.8184718204711943,
          0.9916550692964919,
          -1.3291201738051108,
          -1.1258667048708468,
          0.5019886211394597
         ],
         "yaxis": "y",
         "type": "scatter"
        },
        {
         "customdata": [
          [
           "A Speck of Light - Reimagined",
           "Lights & Motion",
           "lights-and-motion"
          ],
          [
           "A Speck of Light",
           "Lights & Motion",
           "lights-and-motion"
          ],
          [
           "All the Way",
           "Lights & Motion",
           "lights-and-motion"
          ],
          [
           "Anamorphic",
           "Lights & Motion",
           "lights-and-motion"
          ],
          [
           "Anchor",
           "Lights & Motion",
           "lights-and-motion"
          ],
          [
           "Anomaly",
           "Lights & Motion",
           "lights-and-motion"
          ],
          [
           "Antlers",
           "Lights & Motion",
           "lights-and-motion"
          ],
          [
           "Arms Wide Open",
           "Lights & Motion",
           "lights-and-motion"
          ],
          [
           "As the World Goes Away",
           "Lights & Motion",
           "lights-and-motion"
          ],
          [
           "As They Sleep",
           "Lights & Motion",
           "lights-and-motion"
          ],
          [
           "Aurora",
           "Lights & Motion",
           "lights-and-motion"
          ],
          [
           "Deafening Silence",
           "Lights & Motion",
           "lights-and-motion"
          ],
          [
           "DNA",
           "Lights & Motion",
           "lights-and-motion"
          ],
          [
           "Equals",
           "Lights & Motion",
           "lights-and-motion"
          ],
          [
           "Everest",
           "Lights & Motion",
           "lights-and-motion"
          ],
          [
           "Exhale",
           "Lights & Motion",
           "lights-and-motion"
          ],
          [
           "Feathers",
           "Lights & Motion",
           "lights-and-motion"
          ],
          [
           "Fireflies",
           "Lights & Motion",
           "lights-and-motion"
          ],
          [
           "From Dust",
           "Lights & Motion",
           "lights-and-motion"
          ],
          [
           "Glistening - Reimagined",
           "Lights & Motion",
           "lights-and-motion"
          ],
          [
           "Glistening",
           "Lights & Motion",
           "lights-and-motion"
          ],
          [
           "Glow",
           "Lights & Motion",
           "lights-and-motion"
          ],
          [
           "I See You (feat. Frida Sundemo)",
           "Lights & Motion",
           "lights-and-motion"
          ],
          [
           "I See You - Reimagined (feat. Frida Sundemo)",
           "Lights & Motion",
           "lights-and-motion"
          ],
          [
           "Lucid Dreaming",
           "Lights & Motion",
           "lights-and-motion"
          ],
          [
           "Northern Lights",
           "Lights & Motion",
           "lights-and-motion"
          ],
          [
           "Pandora",
           "Lights & Motion",
           "lights-and-motion"
          ],
          [
           "Panic Attack",
           "Lights & Motion",
           "lights-and-motion"
          ],
          [
           "Paper Wings",
           "Lights & Motion",
           "lights-and-motion"
          ],
          [
           "Parachutes",
           "Lights & Motion",
           "lights-and-motion"
          ],
          [
           "Particle Storm",
           "Lights & Motion",
           "lights-and-motion"
          ],
          [
           "Perfect Symmetry",
           "Lights & Motion",
           "lights-and-motion"
          ],
          [
           "Phoenix",
           "Lights & Motion",
           "lights-and-motion"
          ],
          [
           "Reanimation - Revisited 10th Anniversary Edition",
           "Lights & Motion",
           "lights-and-motion"
          ],
          [
           "Reborn",
           "Lights & Motion",
           "lights-and-motion"
          ],
          [
           "Separated Hearts - Reimagined",
           "Lights & Motion",
           "lights-and-motion"
          ],
          [
           "Separated Hearts",
           "Lights & Motion",
           "lights-and-motion"
          ],
          [
           "Silver Lining",
           "Lights & Motion",
           "lights-and-motion"
          ],
          [
           "Sleeping Giant",
           "Lights & Motion",
           "lights-and-motion"
          ],
          [
           "Sypher",
           "Lights & Motion",
           "lights-and-motion"
          ],
          [
           "The First Day",
           "Lights & Motion",
           "lights-and-motion"
          ],
          [
           "The Great Wide Open - Reimagined",
           "Lights & Motion",
           "lights-and-motion"
          ],
          [
           "The Great Wide Open",
           "Lights & Motion",
           "lights-and-motion"
          ],
          [
           "The Moments Before",
           "Lights & Motion",
           "lights-and-motion"
          ],
          [
           "The Spectacular Quiet",
           "Lights & Motion",
           "lights-and-motion"
          ],
          [
           "The World I Remember",
           "Lights & Motion",
           "lights-and-motion"
          ],
          [
           "This Explosion Within",
           "Lights & Motion",
           "lights-and-motion"
          ],
          [
           "Touching Sky",
           "Lights & Motion",
           "lights-and-motion"
          ],
          [
           "We Only Have Forever",
           "Lights & Motion",
           "lights-and-motion"
          ],
          [
           "When Everything Is Falling",
           "Lights & Motion",
           "lights-and-motion"
          ],
          [
           "Wilderness",
           "Lights & Motion",
           "lights-and-motion"
          ],
          [
           "Winter Solstice",
           "Lights & Motion",
           "lights-and-motion"
          ],
          [
           "Wolves (feat. Johan Hasselblom)",
           "Lights & Motion",
           "lights-and-motion"
          ],
          [
           "Wolves - Reimagined (feat. Johan Hasselblom)",
           "Lights & Motion",
           "lights-and-motion"
          ],
          [
           "Woven",
           "Lights & Motion",
           "lights-and-motion"
          ],
          [
           "Year Zero",
           "Lights & Motion",
           "lights-and-motion"
          ]
         ],
         "hovertemplate": "playlist=%{customdata[2]}<br>note_x=%{x}<br>note_y=%{y}<br>song_name=%{customdata[0]}<br>artist=%{customdata[1]}<extra></extra>",
         "legendgroup": "lights-and-motion",
         "marker": {
          "color": "#00cc96",
          "symbol": "circle"
         },
         "mode": "markers",
         "name": "lights-and-motion",
         "orientation": "v",
         "showlegend": true,
         "x": [
          0.34488244779168686,
          -0.14170919255553976,
          1.3979654815549112,
          -1.3623671418105634,
          -0.49975832767503914,
          0.5411601696957772,
          0.6542500389445642,
          0.04426894081320074,
          2.5316971869212117,
          0.13229249220459466,
          0.30797810045721064,
          -0.12083004717508918,
          -0.08626140818012784,
          1.684362607956806,
          0.14188629151791055,
          -0.05103488231565079,
          0.07837220705186808,
          1.5769466508128296,
          -2.4801077559023406,
          -2.290686258936448,
          2.801033272345813,
          1.8328006528080718,
          0.2494255178837134,
          0.7569814484187048,
          -2.9827407165158824,
          0.5575562828059704,
          -0.09933400258439912,
          -0.11926738937431874,
          1.57782065841647,
          -0.06379227140799987,
          0.4278497452759462,
          1.7887734091620138,
          1.0417562571381782,
          1.9743171573344143,
          1.1176656660147637,
          0.7772724817874167,
          0.631123685255671,
          0.1502615481796304,
          -3.091048016796282,
          0.7780393683581402,
          0.14683682030494058,
          0.8954059198095199,
          0.4069682021461293,
          -1.5941940371006147,
          1.5934436023247434,
          -0.7925769583276878,
          -0.06379227140799987,
          -0.08192571210303826,
          -0.0637922714079999,
          0.5569161369700637,
          0.9199205611968296,
          1.0351873034890373,
          -0.0637922714079999,
          -0.08593729298813706,
          -1.1837476454784548,
          -1.1972215822398626
         ],
         "xaxis": "x",
         "y": [
          0.3273720103761356,
          -0.1774744879160073,
          1.1080242810255019,
          1.8358242901786028,
          -1.4857729741980708,
          2.495389922945215,
          -1.6799910654596788,
          -0.6234301917142049,
          1.7287836696741739,
          0.15794622915112388,
          -0.6728114556656908,
          -0.38501447080516565,
          -0.22992545281123755,
          -1.084035968124078,
          -1.2751332750777031,
          -0.24136603237892196,
          -0.45164580369707813,
          1.3352263939540676,
          -0.052286212097292735,
          1.0176742265476089,
          0.2615618849630837,
          -0.37154029382426185,
          -1.6468545299984179,
          0.9863458793792532,
          4.132917451059746E-4,
          2.917189555837726,
          -0.30012229740840685,
          -0.4841923606617253,
          -0.4578996485192911,
          -0.24569275341187852,
          0.1814134708829887,
          0.05868046847247981,
          -0.3714585598259452,
          -1.4696163089661343,
          0.015981560971069772,
          0.27066862817718057,
          0.6358375488513818,
          -0.38818461955346584,
          -0.7333375626946734,
          1.492460077692017,
          -0.3426143482225033,
          -3.7109919309751804,
          -1.2804433648298983,
          -0.46257111491077796,
          -1.3921472929867924,
          -0.6939367895815187,
          -0.24569275341187863,
          -0.31436414677195823,
          -0.24569275341187852,
          0.056939837261839515,
          -0.9448247708309405,
          0.1512503667287289,
          -0.24569275341187852,
          -2.106061484705637,
          -1.1180780210332828,
          -2.1569844955450925
         ],
         "yaxis": "y",
         "type": "scatter"
        },
        {
         "customdata": [
          [
           "Another Wave from You",
           "M83",
           "m83"
          ],
          [
           "Claudia Lewis",
           "M83",
           "m83"
          ],
          [
           "Echoes of Mine",
           "M83",
           "m83"
          ],
          [
           "Fountains",
           "M83",
           "m83"
          ],
          [
           "Intro",
           "M83",
           "m83"
          ],
          [
           "Klaus I Love You",
           "M83",
           "m83"
          ],
          [
           "Midnight City",
           "M83",
           "m83"
          ],
          [
           "My Tears Are Becoming a Sea",
           "M83",
           "m83"
          ],
          [
           "New Map",
           "M83",
           "m83"
          ],
          [
           "Ok Pal",
           "M83",
           "m83"
          ],
          [
           "Outro",
           "M83",
           "m83"
          ],
          [
           "Raconte-moi une histoire",
           "M83",
           "m83"
          ],
          [
           "Reunion",
           "M83",
           "m83"
          ],
          [
           "Soon, My Friend",
           "M83",
           "m83"
          ],
          [
           "Splendor",
           "M83",
           "m83"
          ],
          [
           "Steve Mcqueen",
           "M83",
           "m83"
          ],
          [
           "This Bright Flash",
           "M83",
           "m83"
          ],
          [
           "Train to Pluton",
           "M83",
           "m83"
          ],
          [
           "Wait",
           "M83",
           "m83"
          ],
          [
           "When Will You Come Home",
           "M83",
           "m83"
          ],
          [
           "Where the Boats Go",
           "M83",
           "m83"
          ],
          [
           "Year One, One Ufo",
           "M83",
           "m83"
          ],
          [
           "Ashes of Our Fathers",
           "M83",
           "m83"
          ],
          [
           "Canyon Battle",
           "M83",
           "m83"
          ],
          [
           "Earth 2077",
           "M83",
           "m83"
          ],
          [
           "Fearful Odds",
           "M83",
           "m83"
          ],
          [
           "I'm Sending You Away",
           "M83",
           "m83"
          ],
          [
           "Jack's Dream",
           "M83",
           "m83"
          ],
          [
           "Losing Control",
           "M83",
           "m83"
          ],
          [
           "Odyssey Rescue",
           "M83",
           "m83"
          ],
          [
           "Radiation Zone",
           "M83",
           "m83"
          ],
          [
           "Raven Rock",
           "M83",
           "m83"
          ],
          [
           "StarWaves",
           "M83",
           "m83"
          ],
          [
           "Tech 49",
           "M83",
           "m83"
          ],
          [
           "Temples of Our Gods",
           "M83",
           "m83"
          ],
          [
           "Undimmed by Time, Unbound by Death",
           "M83",
           "m83"
          ],
          [
           "Waking Up",
           "M83",
           "m83"
          ],
          [
           "You Can't Save Her",
           "M83",
           "m83"
          ],
          [
           "Oblivion",
           "M83",
           "m83"
          ]
         ],
         "hovertemplate": "playlist=%{customdata[2]}<br>note_x=%{x}<br>note_y=%{y}<br>song_name=%{customdata[0]}<br>artist=%{customdata[1]}<extra></extra>",
         "legendgroup": "m83",
         "marker": {
          "color": "#ab63fa",
          "symbol": "circle"
         },
         "mode": "markers",
         "name": "m83",
         "orientation": "v",
         "showlegend": true,
         "x": [
          0.05565478033379067,
          -0.2731870186744301,
          -1.3095229660062624,
          -0.12111568414979627,
          -0.3000329456913907,
          0.1322924922045947,
          -1.7801656414609848,
          -1.3881987396000144,
          -0.041936539929651316,
          0.3190869104888929,
          2.0754417042414013,
          -0.6534446220112698,
          -0.21685783517212473,
          -0.6311449882530873,
          3.505042139625087,
          1.1314188740148803,
          1.9837607170796587,
          0.1322924922045947,
          0.5100249292719401,
          0.1322924922045947,
          1.3909315102858244,
          -0.1018906087221897,
          -0.04747496662833593,
          -0.058532810167951144,
          -0.10442014716626102,
          -0.01704317710784363,
          0.25311437196100156,
          1.6481444359227926,
          -1.2126926524182142,
          -0.08021479822182453,
          0.026401616718149803,
          -2.193006930004397,
          -0.04802686772043476,
          -0.7574871363386304,
          0.1322924922045947,
          -1.6021178993858975,
          0.009040794640510146,
          -0.3720212167673957,
          0.020085657221161714
         ],
         "xaxis": "x",
         "y": [
          0.43742913175376164,
          -0.4123420322903541,
          -0.6015426114231481,
          0.8849317621733022,
          -0.3695942649875037,
          0.15794622915112388,
          -2.8370476907690043,
          0.04678755190992216,
          -0.2457199335748994,
          0.25064159379736156,
          1.815662543055563,
          0.5416542799127819,
          -0.3708808192559528,
          -0.5099980615276164,
          -0.18672976479618722,
          2.458812271364479,
          -0.7098283738008916,
          0.1579462291511238,
          0.31108504632011047,
          0.1579462291511238,
          0.4398151087484623,
          -0.2493711526192158,
          -0.32262269971622315,
          -0.2776020152862255,
          -0.37743730995734887,
          -0.5093803288965265,
          -1.3960917305229328,
          2.2481771416571132,
          -0.9074695643643408,
          -0.2505964010581597,
          -0.9768575209562953,
          -0.020577270748197672,
          -0.2540490779142702,
          -0.9800061736921583,
          0.1579462291511238,
          0.7939484817461105,
          -0.2884878141239998,
          -0.4712580168468747,
          -0.7190124163404022
         ],
         "yaxis": "y",
         "type": "scatter"
        },
        {
         "customdata": [
          [
           "A Moment Apart",
           "ODESZA",
           "odesza"
          ],
          [
           "Across The Room (feat. Leon Bridges)",
           "ODESZA",
           "odesza"
          ],
          [
           "Boy",
           "ODESZA",
           "odesza"
          ],
          [
           "Corners Of The Earth (feat. RY X)",
           "ODESZA",
           "odesza"
          ],
          [
           "Divide (feat. Kelsey Bulkin)",
           "ODESZA",
           "odesza"
          ],
          [
           "Everything At Your Feet (feat. The Chamanas)",
           "ODESZA",
           "odesza"
          ],
          [
           "Falls (feat. Sasha Alex Sloan)",
           "ODESZA",
           "odesza"
          ],
          [
           "Falls (Reprise) (feat. Sasha Alex Sloan)",
           "ODESZA",
           "odesza"
          ],
          [
           "Falls (Reprise) - Instrumental",
           "ODESZA",
           "odesza"
          ],
          [
           "Higher Ground (feat. Naomi Wild)",
           "ODESZA",
           "odesza"
          ],
          [
           "Higher Ground (Reprise) (feat. Naomi Wild)",
           "ODESZA",
           "odesza"
          ],
          [
           "Higher Ground (Reprise) - Instrumental",
           "ODESZA",
           "odesza"
          ],
          [
           "Intro",
           "ODESZA",
           "odesza"
          ],
          [
           "It’s Only (feat. Zyra) - ODESZA VIP Remix",
           "ODESZA",
           "odesza"
          ],
          [
           "Just A Memory (feat. Regina Spektor)",
           "ODESZA",
           "odesza"
          ],
          [
           "La Ciudad",
           "ODESZA",
           "odesza"
          ],
          [
           "Late Night",
           "ODESZA",
           "odesza"
          ],
          [
           "Line Of Sight (feat. WYNNE & Mansionair)",
           "ODESZA",
           "odesza"
          ],
          [
           "Line Of Sight (Reprise) (feat. WYNNE & Mansionair)",
           "ODESZA",
           "odesza"
          ],
          [
           "Line Of Sight (Reprise) - Instrumental",
           "ODESZA",
           "odesza"
          ],
          [
           "Loyal",
           "ODESZA",
           "odesza"
          ],
          [
           "Memories That You Call (feat. Monsoonsiren) - ODESZA & Golden Features VIP Remix",
           "ODESZA",
           "odesza"
          ],
          [
           "Meridian",
           "ODESZA",
           "odesza"
          ],
          [
           "Show Me",
           "ODESZA",
           "odesza"
          ],
          [
           "Thin Floors And Tall Ceilings",
           "ODESZA",
           "odesza"
          ]
         ],
         "hovertemplate": "playlist=%{customdata[2]}<br>note_x=%{x}<br>note_y=%{y}<br>song_name=%{customdata[0]}<br>artist=%{customdata[1]}<extra></extra>",
         "legendgroup": "odesza",
         "marker": {
          "color": "#FFA15A",
          "symbol": "circle"
         },
         "mode": "markers",
         "name": "odesza",
         "orientation": "v",
         "showlegend": true,
         "x": [
          -0.025894600769745937,
          -0.4758861456946073,
          -0.34779209535095584,
          -0.6842702512754751,
          -0.3546795854498711,
          -0.06520751764676413,
          -0.14463142486801756,
          -0.9533509421555875,
          2.2882256222381474,
          -0.9885739335215495,
          -0.5698274293829113,
          -1.5870085408821135,
          -2.136319264468836,
          -0.9243804051768192,
          -2.2321982584560582,
          -0.515575505458986,
          -0.13944380580907867,
          -0.03946815562829381,
          -0.2020334364119102,
          -0.23440401903169178,
          -0.47177576325624865,
          0.8559078846431029,
          -0.28395016796676037,
          0.0013652973140660834,
          -0.558088105971247
         ],
         "xaxis": "x",
         "y": [
          0.3598242683864689,
          1.169246811729006,
          -0.4304572800107887,
          -1.825109932185933,
          -2.8706515721172736,
          -0.2576750895808361,
          -0.2819517224736958,
          1.7024640853896296,
          1.6729922690530823,
          -0.19226853607971392,
          1.7176451701802589,
          -0.7114412110440103,
          0.4898498231134738,
          -0.4281151864155867,
          -0.855815494859706,
          -1.0085536432603226,
          -0.2365400034779974,
          1.6889722271043452,
          -0.11758493465107547,
          -0.13064461679071637,
          -0.12772012578796912,
          -1.1416213727146403,
          -0.22102699106804996,
          0.41594286828873106,
          -0.2475425036347702
         ],
         "yaxis": "y",
         "type": "scatter"
        },
        {
         "customdata": [
          [
           "April 10, 2019- Powehi - Image of a Black Hole",
           "Sleeping At Last",
           "sleeping-at-last"
          ],
          [
           "August 12, 2018- Perseid Meteor Shower",
           "Sleeping At Last",
           "sleeping-at-last"
          ],
          [
           "August 21, 2017- Total Solar Eclipse",
           "Sleeping At Last",
           "sleeping-at-last"
          ],
          [
           "December 13, 2017- Geminid Meteor Shower",
           "Sleeping At Last",
           "sleeping-at-last"
          ],
          [
           "December 17, 2018- Farout",
           "Sleeping At Last",
           "sleeping-at-last"
          ],
          [
           "December 21, 2020- The Great Conjunction",
           "Sleeping At Last",
           "sleeping-at-last"
          ],
          [
           "December 25, 2021- Webb Space Telescope - Launch",
           "Sleeping At Last",
           "sleeping-at-last"
          ],
          [
           "February 1, 2023- C2022 E3 - Comet Ztf",
           "Sleeping At Last",
           "sleeping-at-last"
          ],
          [
           "February 13, 2019- Opportunity - Mission Complete",
           "Sleeping At Last",
           "sleeping-at-last"
          ],
          [
           "February 18, 2021- Perseverance - Mars Landing",
           "Sleeping At Last",
           "sleeping-at-last"
          ],
          [
           "January 30, 2020- Spitzer - Final Voyage",
           "Sleeping At Last",
           "sleeping-at-last"
          ],
          [
           "January 31, 2018- Super Blue Blood Moon",
           "Sleeping At Last",
           "sleeping-at-last"
          ],
          [
           "July 22, 2020- C  2020 F3 - Comet Neowise",
           "Sleeping At Last",
           "sleeping-at-last"
          ],
          [
           "July 27, 2018- Total Lunar Eclipse",
           "Sleeping At Last",
           "sleeping-at-last"
          ],
          [
           "July 4, 2020- Aphelion",
           "Sleeping At Last",
           "sleeping-at-last"
          ],
          [
           "June 24, 2022- Parade of Planets",
           "Sleeping At Last",
           "sleeping-at-last"
          ],
          [
           "June 30, 2018- Pds 70b (Birth of a Planet)",
           "Sleeping At Last",
           "sleeping-at-last"
          ],
          [
           "October 30, 2018- Kepler - Goodnight",
           "Sleeping At Last",
           "sleeping-at-last"
          ],
          [
           "September 15, 2017- Cassini - The Grand Finale",
           "Sleeping At Last",
           "sleeping-at-last"
          ]
         ],
         "hovertemplate": "playlist=%{customdata[2]}<br>note_x=%{x}<br>note_y=%{y}<br>song_name=%{customdata[0]}<br>artist=%{customdata[1]}<extra></extra>",
         "legendgroup": "sleeping-at-last",
         "marker": {
          "color": "#19d3f3",
          "symbol": "circle"
         },
         "mode": "markers",
         "name": "sleeping-at-last",
         "orientation": "v",
         "showlegend": true,
         "x": [
          0.818243581499002,
          -0.32034980226472615,
          0.48114266113746434,
          0.27211907415070746,
          0.05381298330534158,
          1.4117901844452259,
          0.787328539075959,
          -2.62861151849689,
          1.0728761580135844,
          -3.0233749104797703,
          -2.4871354681055493,
          1.0088797697097471,
          0.13226419929165095,
          0.5711345614544323,
          1.8415847594291144,
          -0.3508905237016364,
          -0.1305277818390063,
          1.3148346245918718,
          1.9644706888695949
         ],
         "xaxis": "x",
         "y": [
          -0.063028390977262,
          1.3100763429347855,
          0.5904787489697276,
          1.5694907433630547,
          2.606228406632546,
          -1.4236224359849747,
          0.3601140393188313,
          0.2101337455040438,
          -2.0135487418824978,
          -1.2395238156665838,
          -0.9671603436041107,
          1.383338101772854,
          3.0998872410691987,
          0.7853957737835523,
          -0.9190622692587409,
          2.2221773645326364,
          0.58514460530687,
          0.601868485776467,
          1.1853146319296826
         ],
         "yaxis": "y",
         "type": "scatter"
        },
        {
         "customdata": [
          [
           "It's Ok If You Forget Me",
           "Astrid S",
           "synth-pop"
          ],
          [
           "Young & Alive",
           "Bazzi",
           "synth-pop"
          ],
          [
           "Paralyze",
           "Bjørnskov",
           "synth-pop"
          ],
          [
           "San Diego",
           "BRDGS",
           "synth-pop"
          ],
          [
           "Ear Candy",
           "Caye",
           "synth-pop"
          ],
          [
           "12 Hours",
           "Chris James",
           "synth-pop"
          ],
          [
           "My Universe",
           "Coldplay",
           "synth-pop"
          ],
          [
           "Overdrive",
           "Conan Gray",
           "synth-pop"
          ],
          [
           "Titanic",
           "Cosmo's Midnight",
           "synth-pop"
          ],
          [
           "Champagne For Two",
           "Devin Kennedy",
           "synth-pop"
          ],
          [
           "Another Round",
           "Elina",
           "synth-pop"
          ],
          [
           "How",
           "Elina",
           "synth-pop"
          ],
          [
           "Paper Planes",
           "Elina",
           "synth-pop"
          ],
          [
           "Nirvana",
           "ELLIANA",
           "synth-pop"
          ],
          [
           "Lost In Space",
           "Emmit Fenn",
           "synth-pop"
          ],
          [
           "12-45 - Stripped",
           "Etham",
           "synth-pop"
          ],
          [
           "Purpose - Stripped",
           "Etham",
           "synth-pop"
          ],
          [
           "California",
           "Ethan Dufault",
           "synth-pop"
          ],
          [
           "Hurt The Ones We Love The Most",
           "Evan Blum",
           "synth-pop"
          ],
          [
           "Young Love",
           "Falcon",
           "synth-pop"
          ],
          [
           "I Should've Told You",
           "Fiji Blue",
           "synth-pop"
          ],
          [
           "Waves",
           "Fiji Blue",
           "synth-pop"
          ],
          [
           "Healing",
           "FLETCHER",
           "synth-pop"
          ],
          [
           "hold on",
           "flor",
           "synth-pop"
          ],
          [
           "Automatic (feat. Jake Miller)",
           "Fly By Midnight",
           "synth-pop"
          ],
          [
           "Lovely",
           "Fly By Midnight",
           "synth-pop"
          ],
          [
           "Lonely",
           "Gatsby",
           "synth-pop"
          ],
          [
           "dear me,",
           "Gentle Bones",
           "synth-pop"
          ],
          [
           "I Wouldn't Know Any Better Than You",
           "Gentle Bones",
           "synth-pop"
          ],
          [
           "So Far So Good",
           "Great Good Fine Ok",
           "synth-pop"
          ],
          [
           "Falling",
           "Harry Styles",
           "synth-pop"
          ],
          [
           "sometimes",
           "Heather Sommer",
           "synth-pop"
          ],
          [
           "you heard me",
           "Heather Sommer",
           "synth-pop"
          ],
          [
           "Crying Over You ◐",
           "HONNE",
           "synth-pop"
          ],
          [
           "Day Dreaming",
           "Jack & Jack",
           "synth-pop"
          ],
          [
           "Ross And Rachel",
           "Jake Miller",
           "synth-pop"
          ],
          [
           "Showing You Off",
           "Jake Miller",
           "synth-pop"
          ],
          [
           "Like No One Does",
           "Jake Scott",
           "synth-pop"
          ],
          [
           "CWJBHN",
           "Jake Scott",
           "synth-pop"
          ],
          [
           "drive all night",
           "joan",
           "synth-pop"
          ],
          [
           "i loved you first",
           "joan",
           "synth-pop"
          ],
          [
           "love somebody like you",
           "joan",
           "synth-pop"
          ],
          [
           "magnetic",
           "joan",
           "synth-pop"
          ],
          [
           "6 months",
           "John K",
           "synth-pop"
          ],
          [
           "ilym (feat. ROSIE)",
           "John K",
           "synth-pop"
          ],
          [
           "I Believe",
           "Jonas Brothers",
           "synth-pop"
          ],
          [
           "I Quit Drinking",
           "Kelsea Ballerini",
           "synth-pop"
          ],
          [
           "13",
           "LANY",
           "synth-pop"
          ],
          [
           "dancing in the kitchen",
           "LANY",
           "synth-pop"
          ],
          [
           "dna",
           "LANY",
           "synth-pop"
          ],
          [
           "get away",
           "LANY",
           "synth-pop"
          ],
          [
           "I Don't Wanna Love You Anymore",
           "LANY",
           "synth-pop"
          ],
          [
           "if this is the last time",
           "LANY",
           "synth-pop"
          ],
          [
           "ILYSB - STRIPPED",
           "LANY",
           "synth-pop"
          ],
          [
           "ILYSB",
           "LANY",
           "synth-pop"
          ],
          [
           "Let Me Know",
           "LANY",
           "synth-pop"
          ],
          [
           "Malibu Nights",
           "LANY",
           "synth-pop"
          ],
          [
           "Super Far",
           "LANY",
           "synth-pop"
          ],
          [
           "Thru These Tears",
           "LANY",
           "synth-pop"
          ],
          [
           "up to me",
           "LANY",
           "synth-pop"
          ],
          [
           "you!",
           "LANY",
           "synth-pop"
          ],
          [
           "Tattoos Together",
           "Lauv",
           "synth-pop"
          ],
          [
           "When We Were Younger",
           "Loving Caliber",
           "synth-pop"
          ],
          [
           "Love You Back",
           "Madeon",
           "synth-pop"
          ],
          [
           "colorblind",
           "Mokita",
           "synth-pop"
          ],
          [
           "London",
           "Mokita",
           "synth-pop"
          ],
          [
           "Ready Yet",
           "Mokita",
           "synth-pop"
          ],
          [
           "Shut Up I Love U",
           "Neptune",
           "synth-pop"
          ],
          [
           "This Is Heaven",
           "Nick Jonas",
           "synth-pop"
          ],
          [
           "Plot Twist",
           "NIKI",
           "synth-pop"
          ],
          [
           "Waves",
           "Paige",
           "synth-pop"
          ],
          [
           "Shelter",
           "Porter Robinson",
           "synth-pop"
          ],
          [
           "Outsider",
           "Rachel Grae",
           "synth-pop"
          ],
          [
           "Dandelions",
           "Ruth B.",
           "synth-pop"
          ],
          [
           "Lie",
           "Sasha Alex Sloan",
           "synth-pop"
          ],
          [
           "Day Dreaming",
           "Sopha",
           "synth-pop"
          ],
          [
           "I Always Wanna Die (Sometimes)",
           "The 1975",
           "synth-pop"
          ],
          [
           "I'm In Love With You",
           "The 1975",
           "synth-pop"
          ],
          [
           "It's Not Living (If It's Not With You)",
           "The 1975",
           "synth-pop"
          ],
          [
           "Robbers",
           "The 1975",
           "synth-pop"
          ],
          [
           "She's American",
           "The 1975",
           "synth-pop"
          ],
          [
           "Somebody Else",
           "The 1975",
           "synth-pop"
          ],
          [
           "Going Home",
           "The Aces",
           "synth-pop"
          ],
          [
           "Sunset",
           "The Midnight",
           "synth-pop"
          ],
          [
           "Say So",
           "The Sam Willows",
           "synth-pop"
          ],
          [
           "I Can't Stop Thinking About You",
           "The Shadowboxers",
           "synth-pop"
          ],
          [
           "Strawberries & Cigarettes",
           "Troye Sivan",
           "synth-pop"
          ],
          [
           "If Only for Tonight",
           "Vacation Manor",
           "synth-pop"
          ],
          [
           "rocket science",
           "vaultboy",
           "synth-pop"
          ],
          [
           "no excuses",
           "Virginia To Vegas",
           "synth-pop"
          ],
          [
           "Got A Little Crush On You",
           "Wildflowers",
           "synth-pop"
          ],
          [
           "Talking To Myself",
           "Will Jay",
           "synth-pop"
          ],
          [
           "Dance Like Nobody's Watching",
           "Yuna",
           "synth-pop"
          ],
          [
           "dancing in the kitchen",
           "Zachary Knowles",
           "synth-pop"
          ],
          [
           "stranger to me",
           "Zachary Knowles",
           "synth-pop"
          ],
          [
           "could you love me while i hate myself",
           "Zeph",
           "synth-pop"
          ]
         ],
         "hovertemplate": "playlist=%{customdata[2]}<br>note_x=%{x}<br>note_y=%{y}<br>song_name=%{customdata[0]}<br>artist=%{customdata[1]}<extra></extra>",
         "legendgroup": "synth-pop",
         "marker": {
          "color": "#FF6692",
          "symbol": "circle"
         },
         "mode": "markers",
         "name": "synth-pop",
         "orientation": "v",
         "showlegend": true,
         "x": [
          0.165745799260421,
          -0.22058768100294043,
          -0.18319191389583783,
          -1.6574134694225071,
          -0.10990567689162062,
          0.7529403956603542,
          -1.2403583032184402,
          -1.1069629601551205,
          0.5925580516872654,
          0.8717575799288076,
          1.0836760973562822,
          -2.0915214559832442,
          0.5348083425962249,
          -0.438383816129196,
          1.4755739630284967,
          -0.10924715584849495,
          -0.4806708688527483,
          -2.2356877997890545,
          0.9329409539887344,
          0.48308707078831065,
          1.6396926351979877,
          -0.24359402552181506,
          2.622243893885281,
          -0.22626150772524076,
          -1.009303021888555,
          -0.4914458484813806,
          -0.664273258816341,
          -0.38813002689431214,
          1.497129898205006,
          -0.18480172207691167,
          0.5689031701370145,
          -2.087957394476384,
          -2.370852754193422,
          -0.33798883287817605,
          -0.38665938525401966,
          -0.8382434957552818,
          0.8523398207976141,
          -0.13592086166291745,
          -1.1835454705817783,
          -1.3998640699608267,
          3.0403840042518846,
          0.08997030346091778,
          -0.030594758143565624,
          0.6334712803928643,
          -1.9761119383278487,
          -0.8310123504737819,
          0.6077956332787661,
          -0.1320104618856401,
          -2.0390398166624353,
          -4.2226231966937116,
          -0.41270838808149984,
          0.09082228865919977,
          0.6946356520520627,
          -1.4862834304719943,
          -0.0521486779204547,
          1.330175733378383,
          -0.7132187042777816,
          -0.44966890021065564,
          0.09306781558851328,
          0.033917511276032715,
          -0.15273797417176288,
          -2.225646698947539,
          0.3429043379909101,
          -2.5765502089814403,
          -0.5727922952432547,
          -0.45568888910689087,
          0.3191468757211424,
          -0.7600286453221784,
          -0.018516109294167728,
          -0.06906196960429088,
          -3.194802995495626,
          -0.48766520150737974,
          -3.3713901652613205,
          -0.9826993908656375,
          -0.6783152726518514,
          1.9400651097989166,
          -0.5333907843834927,
          -0.5344600177718806,
          -0.19933199889772735,
          -0.9831987378004219,
          -0.665162316367777,
          -0.09796390657961265,
          -0.18160411544564456,
          0.4666085798666101,
          1.7938993188037107,
          -0.11609773904233293,
          -0.4333568271699299,
          -1.3638179901921135,
          -1.0621586363175244,
          -1.454469082739,
          1.036727615905479,
          -1.3027756332100586,
          0.20113974023266,
          -1.0988452816527667,
          1.5601720229150027,
          2.6476914448068674
         ],
         "xaxis": "x",
         "y": [
          1.5218381810654753,
          0.4604767175385659,
          -0.8630710648040723,
          -0.20835961730438002,
          -0.44698832460021465,
          -0.08634159482464934,
          0.35197711346260263,
          0.8306359374945678,
          -0.4007917915588131,
          -0.49700059760525256,
          0.5515025405967352,
          2.147453526517487,
          2.444153401075726,
          0.373047788915274,
          -1.8041110204712856,
          3.1960624820025756,
          3.8736589624320117,
          -1.9130437814082595,
          0.8801931803080656,
          -1.6926351161187736,
          1.356264851139983,
          0.5532176770229984,
          0.8347934011199417,
          -1.5581970167142747,
          0.8737555404701022,
          -0.3736551893547213,
          -2.3999117765813396,
          -0.9849438643181239,
          -0.827758259365252,
          -2.3810698548507148,
          1.0187991832404089,
          -2.177970176379676,
          0.5751808878708139,
          -0.13601116934865093,
          -2.4077074192636485,
          -0.23114733800245094,
          -0.7089765914107625,
          -4.167652840817701,
          -1.1854362441388022,
          -0.4104947852102577,
          0.4903822374426283,
          -1.7779927238280901,
          -1.434661205770217,
          -2.7526243259177914,
          -1.4049258650084835,
          -1.6370027216077663,
          -2.325066124222288,
          1.5222614793049496,
          -0.2234526542799052,
          -0.531959323065071,
          -1.5984883362178002,
          -0.30897836226550823,
          -1.3340701698238828,
          -3.2488474228521267,
          -0.7129112782345906,
          0.180489631034501,
          -0.41209619864105657,
          -1.3894483254592158,
          -0.5611855361302848,
          0.6933571723276241,
          -0.25913958767835754,
          -2.507568234136645,
          0.7829806755217744,
          0.31938536006652685,
          2.584056104810643,
          -0.6573138352290522,
          -3.4663319510912283,
          -0.8466241144960284,
          -2.5144303918671485,
          2.2752131335315595,
          1.4257479597750335,
          -0.21063161711952136,
          1.7602365559840691,
          -2.2277717208818797,
          1.6260405723470215,
          0.27203993253341985,
          -0.5746576372354593,
          0.5426454151923908,
          -0.6583340474822766,
          -0.48213784937320575,
          1.3070685388889878,
          -0.2838893947427208,
          -0.5313493389170788,
          -0.28628058917311466,
          -1.2070562030178926,
          -0.5844151494688369,
          -0.22568865047105832,
          -1.700273799727878,
          1.0019742939313012,
          -2.0366069528180337,
          1.1659149490071488,
          0.5608161775141075,
          -1.2693804163562505,
          -1.472555202982771,
          -0.3218809298975268,
          -0.7952397595506334
         ],
         "yaxis": "y",
         "type": "scatter"
        },
        {
         "customdata": [
          [
           "Allure",
           "Tony Anderson",
           "tony-anderson"
          ],
          [
           "Aurora",
           "Tony Anderson",
           "tony-anderson"
          ],
          [
           "Chasm",
           "Tony Anderson",
           "tony-anderson"
          ],
          [
           "Darkest Night",
           "Tony Anderson",
           "tony-anderson"
          ],
          [
           "Deep Waters - Original Sketch",
           "Tony Anderson",
           "tony-anderson"
          ],
          [
           "Deep Waters",
           "Tony Anderson",
           "tony-anderson"
          ],
          [
           "Delusion",
           "Tony Anderson",
           "tony-anderson"
          ],
          [
           "Eyes Wide Open - Cinematic Mix",
           "Tony Anderson",
           "tony-anderson"
          ],
          [
           "Eyes Wide Open",
           "Tony Anderson",
           "tony-anderson"
          ],
          [
           "Face of the Father",
           "Tony Anderson",
           "tony-anderson"
          ],
          [
           "Farthest Seas",
           "Tony Anderson",
           "tony-anderson"
          ],
          [
           "Finding Your Heart",
           "Tony Anderson",
           "tony-anderson"
          ],
          [
           "Halo",
           "Tony Anderson",
           "tony-anderson"
          ],
          [
           "High Tide",
           "Tony Anderson",
           "tony-anderson"
          ],
          [
           "Immanuel",
           "Tony Anderson",
           "tony-anderson"
          ],
          [
           "Immersion",
           "Tony Anderson",
           "tony-anderson"
          ],
          [
           "In the Distance",
           "Tony Anderson",
           "tony-anderson"
          ],
          [
           "Incision",
           "Tony Anderson",
           "tony-anderson"
          ],
          [
           "Like a Child - Cinematic Mix",
           "Tony Anderson",
           "tony-anderson"
          ],
          [
           "Low Tide",
           "Tony Anderson",
           "tony-anderson"
          ],
          [
           "Lune",
           "Tony Anderson",
           "tony-anderson"
          ],
          [
           "Morning's Wings",
           "Tony Anderson",
           "tony-anderson"
          ],
          [
           "Nightingale",
           "Tony Anderson",
           "tony-anderson"
          ],
          [
           "No Place on Earth",
           "Tony Anderson",
           "tony-anderson"
          ],
          [
           "Nocturne in Paris",
           "Tony Anderson",
           "tony-anderson"
          ],
          [
           "Perennial",
           "Tony Anderson",
           "tony-anderson"
          ],
          [
           "Resurrect",
           "Tony Anderson",
           "tony-anderson"
          ],
          [
           "Retour",
           "Tony Anderson",
           "tony-anderson"
          ],
          [
           "Shalom",
           "Tony Anderson",
           "tony-anderson"
          ],
          [
           "Slipstream",
           "Tony Anderson",
           "tony-anderson"
          ],
          [
           "Something Can Grow",
           "Tony Anderson",
           "tony-anderson"
          ],
          [
           "Spiriteaux",
           "Tony Anderson",
           "tony-anderson"
          ],
          [
           "The King",
           "Tony Anderson",
           "tony-anderson"
          ],
          [
           "The Way Home",
           "Tony Anderson",
           "tony-anderson"
          ],
          [
           "Thin Place - Abbreviated",
           "Tony Anderson",
           "tony-anderson"
          ],
          [
           "Thin Place",
           "Tony Anderson",
           "tony-anderson"
          ],
          [
           "We Are One",
           "Tony Anderson",
           "tony-anderson"
          ],
          [
           "Wir Sind Gleich",
           "Tony Anderson",
           "tony-anderson"
          ],
          [
           "Younger",
           "Tony Anderson",
           "tony-anderson"
          ],
          [
           "Éclosion",
           "Tony Anderson",
           "tony-anderson"
          ],
          [
           "Éphémère",
           "Tony Anderson",
           "tony-anderson"
          ],
          [
           "Arpège",
           "Tony Anderson",
           "tony-anderson"
          ],
          [
           "Nuit",
           "Tony Anderson",
           "tony-anderson"
          ],
          [
           "Tenderness - Woven Remix",
           "Tony Anderson",
           "tony-anderson"
          ],
          [
           "Tenderness",
           "Tony Anderson",
           "tony-anderson"
          ],
          [
           "Cambodia - Ross Lara Remix",
           "Tony Anderson",
           "tony-anderson"
          ],
          [
           "Cambodia",
           "Tony Anderson",
           "tony-anderson"
          ],
          [
           "Oyarsa",
           "Tony Anderson",
           "tony-anderson"
          ]
         ],
         "hovertemplate": "playlist=%{customdata[2]}<br>note_x=%{x}<br>note_y=%{y}<br>song_name=%{customdata[0]}<br>artist=%{customdata[1]}<extra></extra>",
         "legendgroup": "tony-anderson",
         "marker": {
          "color": "#B6E880",
          "symbol": "circle"
         },
         "mode": "markers",
         "name": "tony-anderson",
         "orientation": "v",
         "showlegend": true,
         "x": [
          0.910894219837919,
          -0.18881378517210257,
          -0.7484394604454383,
          -0.17530904350045617,
          -0.34776534378722,
          1.7750663921753298,
          0.1322924922045949,
          2.189958947616903,
          -2.9752340998449642,
          0.19015881586407163,
          -5.6519858704802255,
          0.455044725130951,
          -2.0102011268545095,
          -1.6766266056376407,
          1.3567348615761132,
          -1.5347903137492143,
          0.24835126075963734,
          -1.0483825454819484,
          1.0279578977948691,
          2.651642256560208,
          2.2780888256356917,
          -0.10890970218138878,
          -1.5829472848809638,
          2.3259198017911613,
          0.8511642184885538,
          2.7264774570721673,
          0.2419053071820807,
          1.3647009069579028,
          2.0474697831871067,
          -0.8549834045280357,
          0.7281055229509624,
          1.810527525741205,
          -1.6952506350225467,
          0.27114703333375456,
          1.66914754993187,
          1.6766843192232694,
          1.139851272571674,
          1.01188429618098,
          -2.6662331948729916,
          1.5079591123985334,
          1.8098557021634212,
          3.3228009638823437,
          1.7390864868298817,
          0.02136386206307827,
          1.417973803973533,
          -0.07635491313508079,
          0.7209154233441744,
          -0.8732540682979006
         ],
         "xaxis": "x",
         "y": [
          -0.17452399538271046,
          -1.1207835408819617,
          0.9222713974929728,
          -0.23490259562402582,
          2.396995342420352,
          0.392081027868221,
          0.157946229151124,
          1.8930132588468036,
          -0.600299466438226,
          -0.858963361470323,
          1.8848294951097304,
          -0.9920976289713462,
          1.6543091338994544,
          0.19154804055984592,
          -0.5376727597590715,
          2.1305816592858045,
          0.635655783183133,
          -1.2498798561069189,
          -0.016619918522830065,
          -0.1487992544584064,
          -0.943764889965169,
          -0.42932178433092005,
          1.7771814813942515,
          -2.052542383237178,
          0.050798466572311234,
          -0.4930092423821933,
          -0.762858087510407,
          1.7219860524705854,
          0.5131526545705498,
          0.9218148754336953,
          0.44756084224999204,
          0.8070890158431657,
          -0.02821016114551757,
          -0.5532686852412848,
          0.7964471147233093,
          -2.1851416896459153,
          0.6990373511195315,
          -2.206744482634309,
          -1.2575335323388093,
          0.04835217847321813,
          -0.09085812985739439,
          -0.19525856275157,
          -0.215982575957951,
          -0.38549551967838974,
          -0.15786142715493098,
          -0.2977154531001692,
          -1.4932215914518283,
          0.5969939896677354
         ],
         "yaxis": "y",
         "type": "scatter"
        }
       ],
       "layout": {
        "template": {
         "data": {
          "histogram2dcontour": [
           {
            "type": "histogram2dcontour",
            "colorbar": {
             "outlinewidth": 0,
             "ticks": ""
            },
            "colorscale": [
             [
              0.0,
              "#0d0887"
             ],
             [
              0.1111111111111111,
              "#46039f"
             ],
             [
              0.2222222222222222,
              "#7201a8"
             ],
             [
              0.3333333333333333,
              "#9c179e"
             ],
             [
              0.4444444444444444,
              "#bd3786"
             ],
             [
              0.5555555555555556,
              "#d8576b"
             ],
             [
              0.6666666666666666,
              "#ed7953"
             ],
             [
              0.7777777777777778,
              "#fb9f3a"
             ],
             [
              0.8888888888888888,
              "#fdca26"
             ],
             [
              1.0,
              "#f0f921"
             ]
            ]
           }
          ],
          "choropleth": [
           {
            "type": "choropleth",
            "colorbar": {
             "outlinewidth": 0,
             "ticks": ""
            }
           }
          ],
          "histogram2d": [
           {
            "type": "histogram2d",
            "colorbar": {
             "outlinewidth": 0,
             "ticks": ""
            },
            "colorscale": [
             [
              0.0,
              "#0d0887"
             ],
             [
              0.1111111111111111,
              "#46039f"
             ],
             [
              0.2222222222222222,
              "#7201a8"
             ],
             [
              0.3333333333333333,
              "#9c179e"
             ],
             [
              0.4444444444444444,
              "#bd3786"
             ],
             [
              0.5555555555555556,
              "#d8576b"
             ],
             [
              0.6666666666666666,
              "#ed7953"
             ],
             [
              0.7777777777777778,
              "#fb9f3a"
             ],
             [
              0.8888888888888888,
              "#fdca26"
             ],
             [
              1.0,
              "#f0f921"
             ]
            ]
           }
          ],
          "heatmap": [
           {
            "type": "heatmap",
            "colorbar": {
             "outlinewidth": 0,
             "ticks": ""
            },
            "colorscale": [
             [
              0.0,
              "#0d0887"
             ],
             [
              0.1111111111111111,
              "#46039f"
             ],
             [
              0.2222222222222222,
              "#7201a8"
             ],
             [
              0.3333333333333333,
              "#9c179e"
             ],
             [
              0.4444444444444444,
              "#bd3786"
             ],
             [
              0.5555555555555556,
              "#d8576b"
             ],
             [
              0.6666666666666666,
              "#ed7953"
             ],
             [
              0.7777777777777778,
              "#fb9f3a"
             ],
             [
              0.8888888888888888,
              "#fdca26"
             ],
             [
              1.0,
              "#f0f921"
             ]
            ]
           }
          ],
          "heatmapgl": [
           {
            "type": "heatmapgl",
            "colorbar": {
             "outlinewidth": 0,
             "ticks": ""
            },
            "colorscale": [
             [
              0.0,
              "#0d0887"
             ],
             [
              0.1111111111111111,
              "#46039f"
             ],
             [
              0.2222222222222222,
              "#7201a8"
             ],
             [
              0.3333333333333333,
              "#9c179e"
             ],
             [
              0.4444444444444444,
              "#bd3786"
             ],
             [
              0.5555555555555556,
              "#d8576b"
             ],
             [
              0.6666666666666666,
              "#ed7953"
             ],
             [
              0.7777777777777778,
              "#fb9f3a"
             ],
             [
              0.8888888888888888,
              "#fdca26"
             ],
             [
              1.0,
              "#f0f921"
             ]
            ]
           }
          ],
          "contourcarpet": [
           {
            "type": "contourcarpet",
            "colorbar": {
             "outlinewidth": 0,
             "ticks": ""
            }
           }
          ],
          "contour": [
           {
            "type": "contour",
            "colorbar": {
             "outlinewidth": 0,
             "ticks": ""
            },
            "colorscale": [
             [
              0.0,
              "#0d0887"
             ],
             [
              0.1111111111111111,
              "#46039f"
             ],
             [
              0.2222222222222222,
              "#7201a8"
             ],
             [
              0.3333333333333333,
              "#9c179e"
             ],
             [
              0.4444444444444444,
              "#bd3786"
             ],
             [
              0.5555555555555556,
              "#d8576b"
             ],
             [
              0.6666666666666666,
              "#ed7953"
             ],
             [
              0.7777777777777778,
              "#fb9f3a"
             ],
             [
              0.8888888888888888,
              "#fdca26"
             ],
             [
              1.0,
              "#f0f921"
             ]
            ]
           }
          ],
          "surface": [
           {
            "type": "surface",
            "colorbar": {
             "outlinewidth": 0,
             "ticks": ""
            },
            "colorscale": [
             [
              0.0,
              "#0d0887"
             ],
             [
              0.1111111111111111,
              "#46039f"
             ],
             [
              0.2222222222222222,
              "#7201a8"
             ],
             [
              0.3333333333333333,
              "#9c179e"
             ],
             [
              0.4444444444444444,
              "#bd3786"
             ],
             [
              0.5555555555555556,
              "#d8576b"
             ],
             [
              0.6666666666666666,
              "#ed7953"
             ],
             [
              0.7777777777777778,
              "#fb9f3a"
             ],
             [
              0.8888888888888888,
              "#fdca26"
             ],
             [
              1.0,
              "#f0f921"
             ]
            ]
           }
          ],
          "mesh3d": [
           {
            "type": "mesh3d",
            "colorbar": {
             "outlinewidth": 0,
             "ticks": ""
            }
           }
          ],
          "scatter": [
           {
            "marker": {
             "line": {
              "color": "#283442"
             }
            },
            "type": "scatter"
           }
          ],
          "parcoords": [
           {
            "type": "parcoords",
            "line": {
             "colorbar": {
              "outlinewidth": 0,
              "ticks": ""
             }
            }
           }
          ],
          "scatterpolargl": [
           {
            "type": "scatterpolargl",
            "marker": {
             "colorbar": {
              "outlinewidth": 0,
              "ticks": ""
             }
            }
           }
          ],
          "bar": [
           {
            "error_x": {
             "color": "#f2f5fa"
            },
            "error_y": {
             "color": "#f2f5fa"
            },
            "marker": {
             "line": {
              "color": "rgb(17,17,17)",
              "width": 0.5
             },
             "pattern": {
              "fillmode": "overlay",
              "size": 10,
              "solidity": 0.2
             }
            },
            "type": "bar"
           }
          ],
          "scattergeo": [
           {
            "type": "scattergeo",
            "marker": {
             "colorbar": {
              "outlinewidth": 0,
              "ticks": ""
             }
            }
           }
          ],
          "scatterpolar": [
           {
            "type": "scatterpolar",
            "marker": {
             "colorbar": {
              "outlinewidth": 0,
              "ticks": ""
             }
            }
           }
          ],
          "histogram": [
           {
            "marker": {
             "pattern": {
              "fillmode": "overlay",
              "size": 10,
              "solidity": 0.2
             }
            },
            "type": "histogram"
           }
          ],
          "scattergl": [
           {
            "marker": {
             "line": {
              "color": "#283442"
             }
            },
            "type": "scattergl"
           }
          ],
          "scatter3d": [
           {
            "type": "scatter3d",
            "line": {
             "colorbar": {
              "outlinewidth": 0,
              "ticks": ""
             }
            },
            "marker": {
             "colorbar": {
              "outlinewidth": 0,
              "ticks": ""
             }
            }
           }
          ],
          "scattermapbox": [
           {
            "type": "scattermapbox",
            "marker": {
             "colorbar": {
              "outlinewidth": 0,
              "ticks": ""
             }
            }
           }
          ],
          "scatterternary": [
           {
            "type": "scatterternary",
            "marker": {
             "colorbar": {
              "outlinewidth": 0,
              "ticks": ""
             }
            }
           }
          ],
          "scattercarpet": [
           {
            "type": "scattercarpet",
            "marker": {
             "colorbar": {
              "outlinewidth": 0,
              "ticks": ""
             }
            }
           }
          ],
          "carpet": [
           {
            "aaxis": {
             "endlinecolor": "#A2B1C6",
             "gridcolor": "#506784",
             "linecolor": "#506784",
             "minorgridcolor": "#506784",
             "startlinecolor": "#A2B1C6"
            },
            "baxis": {
             "endlinecolor": "#A2B1C6",
             "gridcolor": "#506784",
             "linecolor": "#506784",
             "minorgridcolor": "#506784",
             "startlinecolor": "#A2B1C6"
            },
            "type": "carpet"
           }
          ],
          "table": [
           {
            "cells": {
             "fill": {
              "color": "#506784"
             },
             "line": {
              "color": "rgb(17,17,17)"
             }
            },
            "header": {
             "fill": {
              "color": "#2a3f5f"
             },
             "line": {
              "color": "rgb(17,17,17)"
             }
            },
            "type": "table"
           }
          ],
          "barpolar": [
           {
            "marker": {
             "line": {
              "color": "rgb(17,17,17)",
              "width": 0.5
             },
             "pattern": {
              "fillmode": "overlay",
              "size": 10,
              "solidity": 0.2
             }
            },
            "type": "barpolar"
           }
          ],
          "pie": [
           {
            "automargin": true,
            "type": "pie"
           }
          ]
         },
         "layout": {
          "autotypenumbers": "strict",
          "colorway": [
           "#636efa",
           "#EF553B",
           "#00cc96",
           "#ab63fa",
           "#FFA15A",
           "#19d3f3",
           "#FF6692",
           "#B6E880",
           "#FF97FF",
           "#FECB52"
          ],
          "font": {
           "color": "#f2f5fa"
          },
          "hovermode": "closest",
          "hoverlabel": {
           "align": "left"
          },
          "paper_bgcolor": "rgb(17,17,17)",
          "plot_bgcolor": "rgb(17,17,17)",
          "polar": {
           "bgcolor": "rgb(17,17,17)",
           "angularaxis": {
            "gridcolor": "#506784",
            "linecolor": "#506784",
            "ticks": ""
           },
           "radialaxis": {
            "gridcolor": "#506784",
            "linecolor": "#506784",
            "ticks": ""
           }
          },
          "ternary": {
           "bgcolor": "rgb(17,17,17)",
           "aaxis": {
            "gridcolor": "#506784",
            "linecolor": "#506784",
            "ticks": ""
           },
           "baxis": {
            "gridcolor": "#506784",
            "linecolor": "#506784",
            "ticks": ""
           },
           "caxis": {
            "gridcolor": "#506784",
            "linecolor": "#506784",
            "ticks": ""
           }
          },
          "coloraxis": {
           "colorbar": {
            "outlinewidth": 0,
            "ticks": ""
           }
          },
          "colorscale": {
           "sequential": [
            [
             0.0,
             "#0d0887"
            ],
            [
             0.1111111111111111,
             "#46039f"
            ],
            [
             0.2222222222222222,
             "#7201a8"
            ],
            [
             0.3333333333333333,
             "#9c179e"
            ],
            [
             0.4444444444444444,
             "#bd3786"
            ],
            [
             0.5555555555555556,
             "#d8576b"
            ],
            [
             0.6666666666666666,
             "#ed7953"
            ],
            [
             0.7777777777777778,
             "#fb9f3a"
            ],
            [
             0.8888888888888888,
             "#fdca26"
            ],
            [
             1.0,
             "#f0f921"
            ]
           ],
           "sequentialminus": [
            [
             0.0,
             "#0d0887"
            ],
            [
             0.1111111111111111,
             "#46039f"
            ],
            [
             0.2222222222222222,
             "#7201a8"
            ],
            [
             0.3333333333333333,
             "#9c179e"
            ],
            [
             0.4444444444444444,
             "#bd3786"
            ],
            [
             0.5555555555555556,
             "#d8576b"
            ],
            [
             0.6666666666666666,
             "#ed7953"
            ],
            [
             0.7777777777777778,
             "#fb9f3a"
            ],
            [
             0.8888888888888888,
             "#fdca26"
            ],
            [
             1.0,
             "#f0f921"
            ]
           ],
           "diverging": [
            [
             0,
             "#8e0152"
            ],
            [
             0.1,
             "#c51b7d"
            ],
            [
             0.2,
             "#de77ae"
            ],
            [
             0.3,
             "#f1b6da"
            ],
            [
             0.4,
             "#fde0ef"
            ],
            [
             0.5,
             "#f7f7f7"
            ],
            [
             0.6,
             "#e6f5d0"
            ],
            [
             0.7,
             "#b8e186"
            ],
            [
             0.8,
             "#7fbc41"
            ],
            [
             0.9,
             "#4d9221"
            ],
            [
             1,
             "#276419"
            ]
           ]
          },
          "xaxis": {
           "gridcolor": "#283442",
           "linecolor": "#506784",
           "ticks": "",
           "title": {
            "standoff": 15
           },
           "zerolinecolor": "#283442",
           "automargin": true,
           "zerolinewidth": 2
          },
          "yaxis": {
           "gridcolor": "#283442",
           "linecolor": "#506784",
           "ticks": "",
           "title": {
            "standoff": 15
           },
           "zerolinecolor": "#283442",
           "automargin": true,
           "zerolinewidth": 2
          },
          "scene": {
           "xaxis": {
            "backgroundcolor": "rgb(17,17,17)",
            "gridcolor": "#506784",
            "linecolor": "#506784",
            "showbackground": true,
            "ticks": "",
            "zerolinecolor": "#C8D4E3",
            "gridwidth": 2
           },
           "yaxis": {
            "backgroundcolor": "rgb(17,17,17)",
            "gridcolor": "#506784",
            "linecolor": "#506784",
            "showbackground": true,
            "ticks": "",
            "zerolinecolor": "#C8D4E3",
            "gridwidth": 2
           },
           "zaxis": {
            "backgroundcolor": "rgb(17,17,17)",
            "gridcolor": "#506784",
            "linecolor": "#506784",
            "showbackground": true,
            "ticks": "",
            "zerolinecolor": "#C8D4E3",
            "gridwidth": 2
           }
          },
          "shapedefaults": {
           "line": {
            "color": "#f2f5fa"
           }
          },
          "annotationdefaults": {
           "arrowcolor": "#f2f5fa",
           "arrowhead": 0,
           "arrowwidth": 1
          },
          "geo": {
           "bgcolor": "rgb(17,17,17)",
           "landcolor": "rgb(17,17,17)",
           "subunitcolor": "#506784",
           "showland": true,
           "showlakes": true,
           "lakecolor": "rgb(17,17,17)"
          },
          "title": {
           "x": 0.05
          },
          "updatemenudefaults": {
           "bgcolor": "#506784",
           "borderwidth": 0
          },
          "sliderdefaults": {
           "bgcolor": "#C8D4E3",
           "borderwidth": 1,
           "bordercolor": "rgb(17,17,17)",
           "tickwidth": 0
          },
          "mapbox": {
           "style": "dark"
          }
         }
        },
        "xaxis": {
         "anchor": "y",
         "domain": [
          0.0,
          1.0
         ],
         "title": {
          "text": "note_x"
         }
        },
        "yaxis": {
         "anchor": "x",
         "domain": [
          0.0,
          1.0
         ],
         "title": {
          "text": "note_y"
         }
        },
        "legend": {
         "title": {
          "text": "playlist"
         },
         "tracegroupgap": 0
        },
        "margin": {
         "t": 60
        }
       },
       "config": {
        "plotlyServerURL": "https://plotly.com"
       }
      },
      "text/html": "<div>                            <div id=\"f42579a1-8b48-49b3-8286-e3a82142ec29\" class=\"plotly-graph-div\" style=\"height:525px; width:100%;\"></div>            <script type=\"text/javascript\">                require([\"plotly\"], function(Plotly) {                    window.PLOTLYENV=window.PLOTLYENV || {};                                    if (document.getElementById(\"f42579a1-8b48-49b3-8286-e3a82142ec29\")) {                    Plotly.newPlot(                        \"f42579a1-8b48-49b3-8286-e3a82142ec29\",                        [{\"customdata\":[[\"Ivan Sings\",\"Aram Khachaturian\",\"kino\"],[\"Pr\\u00e9lude in E Minor, Op. 28, No. 4\",\"Fr\\u00e9d\\u00e9ric Chopin\",\"kino\"],[\"Above the Trees\",\"Kino\",\"kino\"],[\"All\",\"Kino\",\"kino\"],[\"Anew\",\"Kino\",\"kino\"],[\"As a Cloud\",\"Kino\",\"kino\"],[\"Away\",\"Kino\",\"kino\"],[\"Bloom\",\"Kino\",\"kino\"],[\"Charleston\",\"Kino\",\"kino\"],[\"Donau\",\"Kino\",\"kino\"],[\"Each and Every (Ambient Mix)\",\"Kino\",\"kino\"],[\"Each and Every (Piano)\",\"Kino\",\"kino\"],[\"Each and Every\",\"Kino\",\"kino\"],[\"Erl\\u00f6st  Redeemed\",\"Kino\",\"kino\"],[\"Gathering\",\"Kino\",\"kino\"],[\"God Bless Us, Every One\",\"Kino\",\"kino\"],[\"Hearth\",\"Kino\",\"kino\"],[\"H\\u0113o\",\"Kino\",\"kino\"],[\"In Earnest\",\"Kino\",\"kino\"],[\"Leinwand (Piano)\",\"Kino\",\"kino\"],[\"Leinwand\",\"Kino\",\"kino\"],[\"Lightly Tread\",\"Kino\",\"kino\"],[\"Lone\",\"Kino\",\"kino\"],[\"Many Colors\",\"Kino\",\"kino\"],[\"Merrily, Merrily\",\"Kino\",\"kino\"],[\"O Tannenbaum\",\"Kino\",\"kino\"],[\"Presidio\",\"Kino\",\"kino\"],[\"Rambuteau\",\"Kino\",\"kino\"],[\"Seafarer's Quartet\",\"Kino\",\"kino\"],[\"Seems\",\"Kino\",\"kino\"],[\"Silent Night\",\"Kino\",\"kino\"],[\"Silver Lake\",\"Kino\",\"kino\"],[\"St John's\",\"Kino\",\"kino\"],[\"Sunshine - Original\",\"Kino\",\"kino\"],[\"Swell\",\"Kino\",\"kino\"],[\"The Holly and the Ivy\",\"Kino\",\"kino\"],[\"The Weight Unbearable (Piano)\",\"Kino\",\"kino\"],[\"The Weight Unbearable\",\"Kino\",\"kino\"],[\"Till\",\"Kino\",\"kino\"],[\"Trio in E-flat Minor\",\"Kino\",\"kino\"],[\"Under\",\"Kino\",\"kino\"],[\"Water Lilies\",\"Kino\",\"kino\"],[\"Wide Awake\",\"Kino\",\"kino\"],[\"Willeth\",\"Kino\",\"kino\"],[\"Wolden\",\"Kino\",\"kino\"],[\"Yule\",\"Kino\",\"kino\"],[\"Piano Sonata No. 14 in C-Sharp Minor, Op. 27 No. 2 \\u201cMoonlight\\u201d- I. Adagio sostenuto\",\"Ludwig van Beethoven\",\"kino\"]],\"hovertemplate\":\"playlist=%{customdata[2]}<br>note_x=%{x}<br>note_y=%{y}<br>song_name=%{customdata[0]}<br>artist=%{customdata[1]}<extra></extra>\",\"legendgroup\":\"kino\",\"marker\":{\"color\":\"#636efa\",\"symbol\":\"circle\"},\"mode\":\"markers\",\"name\":\"kino\",\"orientation\":\"v\",\"showlegend\":true,\"x\":[2.3618759871600243,1.9785807538647773,-2.8614578817748955,-0.17798320537480916,-1.1714996331279,0.09055529741637121,-0.37740935001831355,-0.9762454587016912,-1.1186809444369203,-0.10447656325183513,-0.5778757543564024,-0.6870229545495747,0.21194405044732126,-0.12076306510487785,0.03838386239935663,-2.665826867677763,-0.663072056625499,1.4506529650603468,-1.4770810796339124,1.8905527754833582,1.5252894896793254,-0.9253570238333565,1.398276348287958,-1.1990350014033389,-0.26081607309587895,1.8310186512449806,2.486948136170117,-1.1594386446889902,2.656190565389686,1.0523083239205144,-1.0005437074387022,-1.469204104381083,1.3012663885967835,-1.4352437590674239,1.2558724819339755,1.1806933751230448,1.0746469362337674,-2.0226998002458307,0.8198247740282905,-1.4760279835482844,1.3278555689508802,1.3452991469628526,-0.4911449730764037,0.6060343957735032,0.38642916104641234,0.9757432754886557,-1.6945430971416857],\"xaxis\":\"x\",\"y\":[2.7959038778958485,-1.7612884326663503,1.0275651309960963,-3.531574846990274,3.365584045245331,1.0913878229475686,0.7363574875152823,2.099651359452059,2.3032030339171023,-1.5071110318496819,1.9859257489528293,1.8423828205849795,0.9795121240091265,-0.299250542269252,-0.333807646356252,1.0124207945503985,1.2049658560436007,-0.9050815162100138,0.7980533846221224,0.39904938880070884,0.9333586955801064,1.3736268682561747,0.9290857917145025,-0.1936838197274687,0.9675880788712004,0.5529733202809888,-1.337248254742839,1.6534663666832692,0.20792485455451926,0.32906956718140007,2.6800778949474466,0.20780286916204938,0.41258215771681533,0.9013137904958602,1.8021539996348879,2.320627506933109,1.6529380908983078,0.33818368360160084,-2.2335362325000108,1.1576681408257392,-0.4340614327598497,1.7059403843863317,0.924845219009778,0.2781210581988328,0.39696673461726983,2.93198088594697,2.886891814485047],\"yaxis\":\"y\",\"type\":\"scatter\"},{\"customdata\":[[\"But it's Destiny\",\"10cm\",\"korean-ost\"],[\"\\ub098\\uc758 \\uc5b4\\uae68\\uc5d0 \\uae30\\ub300\\uc5b4\\uc694\",\"10cm\",\"korean-ost\"],[\"Is You\",\"AILEE\",\"korean-ost\"],[\"How can I love the heartbreak, you're the one I love\",\"AKMU\",\"korean-ost\"],[\"How can I love the heartbreak, you`re the one I love\",\"AKMU\",\"korean-ost\"],[\"Amusement Park\",\"BAEKHYUN\",\"korean-ost\"],[\"\\ub108\\ub97c \\uc0ac\\ub791\\ud558\\uace0 \\uc788\\uc5b4\",\"BAEKHYUN\",\"korean-ost\"],[\"Beautiful goodbye\",\"CHEN\",\"korean-ost\"],[\"Flower\",\"CHEN\",\"korean-ost\"],[\"I'll be there\",\"CHEN\",\"korean-ost\"],[\"My dear\",\"CHEN\",\"korean-ost\"],[\"Sorry not sorry\",\"CHEN\",\"korean-ost\"],[\"Everytime\",\"CHEN\",\"korean-ost\"],[\"Wish\",\"Choi Yuree\",\"korean-ost\"],[\"Beautiful\",\"Crush\",\"korean-ost\"],[\"Let Us Go\",\"Crush\",\"korean-ost\"],[\"No Words\",\"Crush\",\"korean-ost\"],[\"My Love\",\"DAVICHI\",\"korean-ost\"],[\"Please Don't Cry\",\"DAVICHI\",\"korean-ost\"],[\"Sunset\",\"DAVICHI\",\"korean-ost\"],[\"\\ub178\\ub825\\ud574\\ubcfc\\uac8c\\uc694 I'll try\",\"DAY6\",\"korean-ost\"],[\"I'm In Love With You\",\"Dvwn\",\"korean-ost\"],[\"No Problem\",\"Dvwn\",\"korean-ost\"],[\"\\uae34 \\ubc24\\uc774 \\uc624\\uba74\",\"Eddy Kim\",\"korean-ost\"],[\"Rain or Shine\",\"Elaine\",\"korean-ost\"],[\"Hate Everything - Korean Version\",\"GSoul\",\"korean-ost\"],[\"\\uae30\\uc5b5\\ud574\\uc918\\uc694 \\ub0b4 \\ubaa8\\ub4e0 \\ub0a0\\uacfc \\uadf8\\ub54c\\ub97c\",\"Gummy\",\"korean-ost\"],[\"Slowly Fall\",\"Ha Hyun Sang\",\"korean-ost\"],[\"\\ub0b4 \\ub9d8\\uc744 \\ubcfc \\uc218 \\uc788\\ub098\\uc694\",\"HEIZE\",\"korean-ost\"],[\"Deeply\",\"HEN\",\"korean-ost\"],[\"To You\",\"HEN\",\"korean-ost\"],[\"It's You\",\"HENRY\",\"korean-ost\"],[\"Untitled Love Song\",\"HENRY\",\"korean-ost\"],[\"Ending Scene\",\"IU\",\"korean-ost\"],[\"Give You My Heart\",\"IU\",\"korean-ost\"],[\"Love poem\",\"IU\",\"korean-ost\"],[\"My sea\",\"IU\",\"korean-ost\"],[\"Holiday\",\"JeHwi\",\"korean-ost\"],[\"Stardust love song\",\"JIHYO\",\"korean-ost\"],[\"What Lies Ahead\",\"Joe Layne\",\"korean-ost\"],[\"Times Like This\",\"Josh Daniel\",\"korean-ost\"],[\"Do you want to walk with me (Romance 101 X Jukjae)\",\"Jukjae\",\"korean-ost\"],[\"The Days Like Pictures\",\"Jukjae\",\"korean-ost\"],[\"\\ub098\\ub97c \\ucc3e\\uc544\\uc11c\",\"Jukjae\",\"korean-ost\"],[\"\\ubcc4 \\ubcf4\\ub7ec \\uac00\\uc790\",\"Jukjae\",\"korean-ost\"],[\"Day & Night\",\"Jung Seung Hwan\",\"korean-ost\"],[\"Because I Miss You\",\"Jung Yong Hwa\",\"korean-ost\"],[\"For First-time Lovers (Banmal-song)\",\"Jung Yong Hwa\",\"korean-ost\"],[\"I Go\",\"Kei (Kim Ji Yeon)\",\"korean-ost\"],[\"\\ubcf4\\uace0\\uc2f6\\ub2e4 (From. '\\ub4dc\\ub77c\\ub9c8 \\ucc9c\\uad6d\\uc758 \\uacc4\\ub2e8')\",\"Kim Bum Soo\",\"korean-ost\"],[\"One Day\",\"Kim Feel\",\"korean-ost\"],[\"Someday, The Boy\",\"Kim Feel\",\"korean-ost\"],[\"Vacance in September\",\"KIM JAE HWAN\",\"korean-ost\"],[\"All of My Days\",\"KIMSEJEONG\",\"korean-ost\"],[\"If Only\",\"KIMSEJEONG\",\"korean-ost\"],[\"Lonely Night\",\"Kwon Jin Ah\",\"korean-ost\"],[\"The End\",\"Kwon Jin Ah\",\"korean-ost\"],[\"I Won't Heartbreaken\",\"Lee KwangHee\",\"korean-ost\"],[\"In My Heart\",\"LIM YEON\",\"korean-ost\"],[\"Lost\",\"LIM YEON\",\"korean-ost\"],[\"Say Yes\",\"Loco\",\"korean-ost\"],[\"Be There For You\",\"NCT DREAM\",\"korean-ost\"],[\"Rainbow - Acoustic Version\",\"O.WHEN\",\"korean-ost\"],[\"Me After You\",\"Paul Kim\",\"korean-ost\"],[\"\\uc548\\ub155\",\"Paul Kim\",\"korean-ost\"],[\"But I'm Trying to Tell You How Much I Love You (With Moonbit)\",\"saevom\",\"korean-ost\"],[\"For You\",\"Sam Kim\",\"korean-ost\"],[\"Sunny Day Rainy Day (feat. Kassy)\",\"Sanchez\",\"korean-ost\"],[\"Your world\",\"Seol Hoseung (SURL)\",\"korean-ost\"],[\"Grown Ups\",\"Sondia\",\"korean-ost\"],[\"Hug\",\"Sondia\",\"korean-ost\"],[\"Our Souls at Night\",\"Sondia\",\"korean-ost\"],[\"\\uc6b0\\ub9b0 \\uce5c\\uad6c\\ubfd0\\uc77c\\uae4c\",\"Sondia\",\"korean-ost\"],[\"She\",\"Standing Egg\",\"korean-ost\"],[\"Miracle (Feat. Paul Kim)\",\"Stella Jang\",\"korean-ost\"],[\"One more time, One more chance\",\"Sung Si Kyung\",\"korean-ost\"],[\"\\u541b\\u304c\\u3044\\u308b\\u3088\",\"Sung Si Kyung\",\"korean-ost\"],[\"Two People\",\"SURAN\",\"korean-ost\"],[\"Inevitable\",\"Suzy\",\"korean-ost\"],[\"Starlight\",\"TAEIL\",\"korean-ost\"],[\"\\uadf8\\ub300\\ub77c\\ub294 \\uc2dc\",\"TAEYEON\",\"korean-ost\"],[\"Two Words\",\"WENDY\",\"korean-ost\"],[\"What If Love\",\"WENDY\",\"korean-ost\"],[\"\\ub0b4\\uc77c\\ub3c4 \\ub610 \\ub0b4\\uc77c\\ub3c4 Tomorrow After Tomorrow\",\"WISUE\",\"korean-ost\"],[\"Your Existence\",\"Wonstein\",\"korean-ost\"],[\"Free\",\"Xydo\",\"korean-ost\"],[\"\\ub108\\ub9cc \\ub108\\ub9cc \\ub108\\ub9cc\",\"Yang Dail\",\"korean-ost\"],[\"With me\",\"Yang Dail\",\"korean-ost\"],[\"Here I Am Again\",\"Yerin Baek\",\"korean-ost\"],[\"Maze\",\"YONGZOO\",\"korean-ost\"],[\"ALWAYS\",\"Yoon Mirae\",\"korean-ost\"],[\"Flower\",\"Yoon Mirae\",\"korean-ost\"],[\"You Are My World\",\"Yoon Mirae\",\"korean-ost\"],[\"I Just Want To Stay With You\",\"Zion.T\",\"korean-ost\"],[\"Faith\",\"\\uc774\\uc900\\ud654\",\"korean-ost\"]],\"hovertemplate\":\"playlist=%{customdata[2]}<br>note_x=%{x}<br>note_y=%{y}<br>song_name=%{customdata[0]}<br>artist=%{customdata[1]}<extra></extra>\",\"legendgroup\":\"korean-ost\",\"marker\":{\"color\":\"#EF553B\",\"symbol\":\"circle\"},\"mode\":\"markers\",\"name\":\"korean-ost\",\"orientation\":\"v\",\"showlegend\":true,\"x\":[-0.40569907740116606,4.992619662920162,1.1933536534990499,2.679903600408176,3.1368873267792474,-2.329438115195698,-2.363826270728012,0.6896780648596444,3.40216315758819,-0.30566945491757397,2.5229899165228575,1.3089304674866238,0.35829538980710873,2.609127966803628,-1.2435585899732802,1.1940708044577935,0.2802534199864209,-2.969678701563409,-1.7816259217962374,0.09156529200429613,3.8438733071154636,-0.638981629788679,3.0793736996698757,0.1279715176931088,-1.4431190887570338,1.613710981375823,-0.9466873972582396,-2.257061655600808,-1.4774997599010622,-3.086488752112838,3.5295358867346796,-1.7934203150037253,-0.24557123742790227,3.037769199265943,-2.092107943958332,-0.8991256409978596,-2.2094186267578113,2.611805969810522,4.435921108350602,0.32935146649145064,-2.9768711077651484,-0.5378848820092916,1.7254897755654037,0.6467839016622123,-1.6642640383040441,1.4464627183580605,-0.07561498671537185,-0.7740899740459741,-0.33189541387956367,3.3920111950793417,-1.108817935886108,2.150168300732256,-0.5088716237703352,0.2849400223926038,-0.21978320757504596,0.10675669705943648,-0.17134466487837713,1.0774798271208528,-0.12108608159044305,-1.9161567785208264,-0.9604979594631211,0.3231510617070716,-1.0088160206934769,-3.596517243034306,-1.0631169734440258,3.441606029039717,-0.5779420453243204,0.8953928039885845,-0.41405925595744847,1.5271797431805638,-2.727314235144184,-1.723379002366431,1.9727037156291845,-1.6510380067099117,-2.586970852124798,0.29900633834534057,-1.3070708893929048,0.7124340393750144,1.7326825977270695,-1.3651350443274683,-1.4960898823399786,0.14280089052828293,-1.3104838892522708,-1.999548171295149,1.1161716893143123,-0.9597017581646938,-1.8612225807245935,-0.994563890140239,0.22091435195518724,-0.7953634151690209,0.04584392333771509,-0.27589447797076033,1.0856814953956475,1.1386609909570455,-1.8614178401189163],\"xaxis\":\"x\",\"y\":[-0.3991548157315399,0.2927946904055875,-3.9514858743174077,-2.802913540553253,-2.2798042469938817,-1.4221114196490354,-1.1401151671101961,2.037864709669777,1.300602205282946,0.7003322821826405,-0.4950771951293252,-0.6272111093785108,2.383190456209323,-0.9173263945845682,0.660514207679152,4.05573636811876,1.8066223966367103,0.5248481328278405,-0.8781348575395773,2.869041347319822,-2.875309542762665,-2.050347765872865,-1.3830181651714262,1.7371050990082502,1.4761052695237344,1.8836370709005819,2.454331245156598,1.4734823182852628,0.4424900545729238,-1.96204730381998,-0.6864258257264818,-1.3650549193749064,-0.5406509939748879,-1.8957451498648552,1.2247684070376164,0.3716282432479381,-0.5956437716663648,1.1501882595348238,2.3838909782692155,-2.332451739568395,2.4160977961211003,0.305731780841331,-0.8145650629349538,-0.921035080141747,-1.4344131658108805,-2.5966729002549527,0.4335145546778118,-1.333901865079601,1.8477386985255237,2.6378908301270543,0.4183111364973658,0.8853760121157598,-0.6809262859185121,1.3636850003969907,1.4568677884140868,4.87825163110442,1.3465877184702848,1.303100204755515,1.2156728438271434,1.3175922387576087,-1.5944740905566253,0.6153731825351706,-2.0638825604386093,-2.933181622721536,-2.993643291619311,0.5305321619783333,1.3719375846048025,-1.7361584504420413,-0.8512580459382781,2.409426931094412,-0.550549440910184,1.6594149379586158,-2.244458211030284,0.21067981696123583,2.0648734292842374,-1.8744814416827256,-2.1296077667634714,1.6132641214956003,3.5695329589600924,-0.9578835018505956,3.123588425865075,1.1975426146064363,0.13817462610119588,2.4411349775555067,-3.0026416429141047,-1.3140987304893035,-1.7870480504437283,1.143972224835122,-2.27612069878932,-3.2142843583866805,0.8184718204711943,0.9916550692964919,-1.3291201738051108,-1.1258667048708468,0.5019886211394597],\"yaxis\":\"y\",\"type\":\"scatter\"},{\"customdata\":[[\"A Speck of Light - Reimagined\",\"Lights & Motion\",\"lights-and-motion\"],[\"A Speck of Light\",\"Lights & Motion\",\"lights-and-motion\"],[\"All the Way\",\"Lights & Motion\",\"lights-and-motion\"],[\"Anamorphic\",\"Lights & Motion\",\"lights-and-motion\"],[\"Anchor\",\"Lights & Motion\",\"lights-and-motion\"],[\"Anomaly\",\"Lights & Motion\",\"lights-and-motion\"],[\"Antlers\",\"Lights & Motion\",\"lights-and-motion\"],[\"Arms Wide Open\",\"Lights & Motion\",\"lights-and-motion\"],[\"As the World Goes Away\",\"Lights & Motion\",\"lights-and-motion\"],[\"As They Sleep\",\"Lights & Motion\",\"lights-and-motion\"],[\"Aurora\",\"Lights & Motion\",\"lights-and-motion\"],[\"Deafening Silence\",\"Lights & Motion\",\"lights-and-motion\"],[\"DNA\",\"Lights & Motion\",\"lights-and-motion\"],[\"Equals\",\"Lights & Motion\",\"lights-and-motion\"],[\"Everest\",\"Lights & Motion\",\"lights-and-motion\"],[\"Exhale\",\"Lights & Motion\",\"lights-and-motion\"],[\"Feathers\",\"Lights & Motion\",\"lights-and-motion\"],[\"Fireflies\",\"Lights & Motion\",\"lights-and-motion\"],[\"From Dust\",\"Lights & Motion\",\"lights-and-motion\"],[\"Glistening - Reimagined\",\"Lights & Motion\",\"lights-and-motion\"],[\"Glistening\",\"Lights & Motion\",\"lights-and-motion\"],[\"Glow\",\"Lights & Motion\",\"lights-and-motion\"],[\"I See You (feat. Frida Sundemo)\",\"Lights & Motion\",\"lights-and-motion\"],[\"I See You - Reimagined (feat. Frida Sundemo)\",\"Lights & Motion\",\"lights-and-motion\"],[\"Lucid Dreaming\",\"Lights & Motion\",\"lights-and-motion\"],[\"Northern Lights\",\"Lights & Motion\",\"lights-and-motion\"],[\"Pandora\",\"Lights & Motion\",\"lights-and-motion\"],[\"Panic Attack\",\"Lights & Motion\",\"lights-and-motion\"],[\"Paper Wings\",\"Lights & Motion\",\"lights-and-motion\"],[\"Parachutes\",\"Lights & Motion\",\"lights-and-motion\"],[\"Particle Storm\",\"Lights & Motion\",\"lights-and-motion\"],[\"Perfect Symmetry\",\"Lights & Motion\",\"lights-and-motion\"],[\"Phoenix\",\"Lights & Motion\",\"lights-and-motion\"],[\"Reanimation - Revisited 10th Anniversary Edition\",\"Lights & Motion\",\"lights-and-motion\"],[\"Reborn\",\"Lights & Motion\",\"lights-and-motion\"],[\"Separated Hearts - Reimagined\",\"Lights & Motion\",\"lights-and-motion\"],[\"Separated Hearts\",\"Lights & Motion\",\"lights-and-motion\"],[\"Silver Lining\",\"Lights & Motion\",\"lights-and-motion\"],[\"Sleeping Giant\",\"Lights & Motion\",\"lights-and-motion\"],[\"Sypher\",\"Lights & Motion\",\"lights-and-motion\"],[\"The First Day\",\"Lights & Motion\",\"lights-and-motion\"],[\"The Great Wide Open - Reimagined\",\"Lights & Motion\",\"lights-and-motion\"],[\"The Great Wide Open\",\"Lights & Motion\",\"lights-and-motion\"],[\"The Moments Before\",\"Lights & Motion\",\"lights-and-motion\"],[\"The Spectacular Quiet\",\"Lights & Motion\",\"lights-and-motion\"],[\"The World I Remember\",\"Lights & Motion\",\"lights-and-motion\"],[\"This Explosion Within\",\"Lights & Motion\",\"lights-and-motion\"],[\"Touching Sky\",\"Lights & Motion\",\"lights-and-motion\"],[\"We Only Have Forever\",\"Lights & Motion\",\"lights-and-motion\"],[\"When Everything Is Falling\",\"Lights & Motion\",\"lights-and-motion\"],[\"Wilderness\",\"Lights & Motion\",\"lights-and-motion\"],[\"Winter Solstice\",\"Lights & Motion\",\"lights-and-motion\"],[\"Wolves (feat. Johan Hasselblom)\",\"Lights & Motion\",\"lights-and-motion\"],[\"Wolves - Reimagined (feat. Johan Hasselblom)\",\"Lights & Motion\",\"lights-and-motion\"],[\"Woven\",\"Lights & Motion\",\"lights-and-motion\"],[\"Year Zero\",\"Lights & Motion\",\"lights-and-motion\"]],\"hovertemplate\":\"playlist=%{customdata[2]}<br>note_x=%{x}<br>note_y=%{y}<br>song_name=%{customdata[0]}<br>artist=%{customdata[1]}<extra></extra>\",\"legendgroup\":\"lights-and-motion\",\"marker\":{\"color\":\"#00cc96\",\"symbol\":\"circle\"},\"mode\":\"markers\",\"name\":\"lights-and-motion\",\"orientation\":\"v\",\"showlegend\":true,\"x\":[0.34488244779168686,-0.14170919255553976,1.3979654815549112,-1.3623671418105634,-0.49975832767503914,0.5411601696957772,0.6542500389445642,0.04426894081320074,2.5316971869212117,0.13229249220459466,0.30797810045721064,-0.12083004717508918,-0.08626140818012784,1.684362607956806,0.14188629151791055,-0.05103488231565079,0.07837220705186808,1.5769466508128296,-2.4801077559023406,-2.290686258936448,2.801033272345813,1.8328006528080718,0.2494255178837134,0.7569814484187048,-2.9827407165158824,0.5575562828059704,-0.09933400258439912,-0.11926738937431874,1.57782065841647,-0.06379227140799987,0.4278497452759462,1.7887734091620138,1.0417562571381782,1.9743171573344143,1.1176656660147637,0.7772724817874167,0.631123685255671,0.1502615481796304,-3.091048016796282,0.7780393683581402,0.14683682030494058,0.8954059198095199,0.4069682021461293,-1.5941940371006147,1.5934436023247434,-0.7925769583276878,-0.06379227140799987,-0.08192571210303826,-0.0637922714079999,0.5569161369700637,0.9199205611968296,1.0351873034890373,-0.0637922714079999,-0.08593729298813706,-1.1837476454784548,-1.1972215822398626],\"xaxis\":\"x\",\"y\":[0.3273720103761356,-0.1774744879160073,1.1080242810255019,1.8358242901786028,-1.4857729741980708,2.495389922945215,-1.6799910654596788,-0.6234301917142049,1.7287836696741739,0.15794622915112388,-0.6728114556656908,-0.38501447080516565,-0.22992545281123755,-1.084035968124078,-1.2751332750777031,-0.24136603237892196,-0.45164580369707813,1.3352263939540676,-0.052286212097292735,1.0176742265476089,0.2615618849630837,-0.37154029382426185,-1.6468545299984179,0.9863458793792532,0.0004132917451059746,2.917189555837726,-0.30012229740840685,-0.4841923606617253,-0.4578996485192911,-0.24569275341187852,0.1814134708829887,0.05868046847247981,-0.3714585598259452,-1.4696163089661343,0.015981560971069772,0.27066862817718057,0.6358375488513818,-0.38818461955346584,-0.7333375626946734,1.492460077692017,-0.3426143482225033,-3.7109919309751804,-1.2804433648298983,-0.46257111491077796,-1.3921472929867924,-0.6939367895815187,-0.24569275341187863,-0.31436414677195823,-0.24569275341187852,0.056939837261839515,-0.9448247708309405,0.1512503667287289,-0.24569275341187852,-2.106061484705637,-1.1180780210332828,-2.1569844955450925],\"yaxis\":\"y\",\"type\":\"scatter\"},{\"customdata\":[[\"Another Wave from You\",\"M83\",\"m83\"],[\"Claudia Lewis\",\"M83\",\"m83\"],[\"Echoes of Mine\",\"M83\",\"m83\"],[\"Fountains\",\"M83\",\"m83\"],[\"Intro\",\"M83\",\"m83\"],[\"Klaus I Love You\",\"M83\",\"m83\"],[\"Midnight City\",\"M83\",\"m83\"],[\"My Tears Are Becoming a Sea\",\"M83\",\"m83\"],[\"New Map\",\"M83\",\"m83\"],[\"Ok Pal\",\"M83\",\"m83\"],[\"Outro\",\"M83\",\"m83\"],[\"Raconte-moi une histoire\",\"M83\",\"m83\"],[\"Reunion\",\"M83\",\"m83\"],[\"Soon, My Friend\",\"M83\",\"m83\"],[\"Splendor\",\"M83\",\"m83\"],[\"Steve Mcqueen\",\"M83\",\"m83\"],[\"This Bright Flash\",\"M83\",\"m83\"],[\"Train to Pluton\",\"M83\",\"m83\"],[\"Wait\",\"M83\",\"m83\"],[\"When Will You Come Home\",\"M83\",\"m83\"],[\"Where the Boats Go\",\"M83\",\"m83\"],[\"Year One, One Ufo\",\"M83\",\"m83\"],[\"Ashes of Our Fathers\",\"M83\",\"m83\"],[\"Canyon Battle\",\"M83\",\"m83\"],[\"Earth 2077\",\"M83\",\"m83\"],[\"Fearful Odds\",\"M83\",\"m83\"],[\"I'm Sending You Away\",\"M83\",\"m83\"],[\"Jack's Dream\",\"M83\",\"m83\"],[\"Losing Control\",\"M83\",\"m83\"],[\"Odyssey Rescue\",\"M83\",\"m83\"],[\"Radiation Zone\",\"M83\",\"m83\"],[\"Raven Rock\",\"M83\",\"m83\"],[\"StarWaves\",\"M83\",\"m83\"],[\"Tech 49\",\"M83\",\"m83\"],[\"Temples of Our Gods\",\"M83\",\"m83\"],[\"Undimmed by Time, Unbound by Death\",\"M83\",\"m83\"],[\"Waking Up\",\"M83\",\"m83\"],[\"You Can't Save Her\",\"M83\",\"m83\"],[\"Oblivion\",\"M83\",\"m83\"]],\"hovertemplate\":\"playlist=%{customdata[2]}<br>note_x=%{x}<br>note_y=%{y}<br>song_name=%{customdata[0]}<br>artist=%{customdata[1]}<extra></extra>\",\"legendgroup\":\"m83\",\"marker\":{\"color\":\"#ab63fa\",\"symbol\":\"circle\"},\"mode\":\"markers\",\"name\":\"m83\",\"orientation\":\"v\",\"showlegend\":true,\"x\":[0.05565478033379067,-0.2731870186744301,-1.3095229660062624,-0.12111568414979627,-0.3000329456913907,0.1322924922045947,-1.7801656414609848,-1.3881987396000144,-0.041936539929651316,0.3190869104888929,2.0754417042414013,-0.6534446220112698,-0.21685783517212473,-0.6311449882530873,3.505042139625087,1.1314188740148803,1.9837607170796587,0.1322924922045947,0.5100249292719401,0.1322924922045947,1.3909315102858244,-0.1018906087221897,-0.04747496662833593,-0.058532810167951144,-0.10442014716626102,-0.01704317710784363,0.25311437196100156,1.6481444359227926,-1.2126926524182142,-0.08021479822182453,0.026401616718149803,-2.193006930004397,-0.04802686772043476,-0.7574871363386304,0.1322924922045947,-1.6021178993858975,0.009040794640510146,-0.3720212167673957,0.020085657221161714],\"xaxis\":\"x\",\"y\":[0.43742913175376164,-0.4123420322903541,-0.6015426114231481,0.8849317621733022,-0.3695942649875037,0.15794622915112388,-2.8370476907690043,0.04678755190992216,-0.2457199335748994,0.25064159379736156,1.815662543055563,0.5416542799127819,-0.3708808192559528,-0.5099980615276164,-0.18672976479618722,2.458812271364479,-0.7098283738008916,0.1579462291511238,0.31108504632011047,0.1579462291511238,0.4398151087484623,-0.2493711526192158,-0.32262269971622315,-0.2776020152862255,-0.37743730995734887,-0.5093803288965265,-1.3960917305229328,2.2481771416571132,-0.9074695643643408,-0.2505964010581597,-0.9768575209562953,-0.020577270748197672,-0.2540490779142702,-0.9800061736921583,0.1579462291511238,0.7939484817461105,-0.2884878141239998,-0.4712580168468747,-0.7190124163404022],\"yaxis\":\"y\",\"type\":\"scatter\"},{\"customdata\":[[\"A Moment Apart\",\"ODESZA\",\"odesza\"],[\"Across The Room (feat. Leon Bridges)\",\"ODESZA\",\"odesza\"],[\"Boy\",\"ODESZA\",\"odesza\"],[\"Corners Of The Earth (feat. RY X)\",\"ODESZA\",\"odesza\"],[\"Divide (feat. Kelsey Bulkin)\",\"ODESZA\",\"odesza\"],[\"Everything At Your Feet (feat. The Chamanas)\",\"ODESZA\",\"odesza\"],[\"Falls (feat. Sasha Alex Sloan)\",\"ODESZA\",\"odesza\"],[\"Falls (Reprise) (feat. Sasha Alex Sloan)\",\"ODESZA\",\"odesza\"],[\"Falls (Reprise) - Instrumental\",\"ODESZA\",\"odesza\"],[\"Higher Ground (feat. Naomi Wild)\",\"ODESZA\",\"odesza\"],[\"Higher Ground (Reprise) (feat. Naomi Wild)\",\"ODESZA\",\"odesza\"],[\"Higher Ground (Reprise) - Instrumental\",\"ODESZA\",\"odesza\"],[\"Intro\",\"ODESZA\",\"odesza\"],[\"It\\u2019s Only (feat. Zyra) - ODESZA VIP Remix\",\"ODESZA\",\"odesza\"],[\"Just A Memory (feat. Regina Spektor)\",\"ODESZA\",\"odesza\"],[\"La Ciudad\",\"ODESZA\",\"odesza\"],[\"Late Night\",\"ODESZA\",\"odesza\"],[\"Line Of Sight (feat. WYNNE & Mansionair)\",\"ODESZA\",\"odesza\"],[\"Line Of Sight (Reprise) (feat. WYNNE & Mansionair)\",\"ODESZA\",\"odesza\"],[\"Line Of Sight (Reprise) - Instrumental\",\"ODESZA\",\"odesza\"],[\"Loyal\",\"ODESZA\",\"odesza\"],[\"Memories That You Call (feat. Monsoonsiren) - ODESZA & Golden Features VIP Remix\",\"ODESZA\",\"odesza\"],[\"Meridian\",\"ODESZA\",\"odesza\"],[\"Show Me\",\"ODESZA\",\"odesza\"],[\"Thin Floors And Tall Ceilings\",\"ODESZA\",\"odesza\"]],\"hovertemplate\":\"playlist=%{customdata[2]}<br>note_x=%{x}<br>note_y=%{y}<br>song_name=%{customdata[0]}<br>artist=%{customdata[1]}<extra></extra>\",\"legendgroup\":\"odesza\",\"marker\":{\"color\":\"#FFA15A\",\"symbol\":\"circle\"},\"mode\":\"markers\",\"name\":\"odesza\",\"orientation\":\"v\",\"showlegend\":true,\"x\":[-0.025894600769745937,-0.4758861456946073,-0.34779209535095584,-0.6842702512754751,-0.3546795854498711,-0.06520751764676413,-0.14463142486801756,-0.9533509421555875,2.2882256222381474,-0.9885739335215495,-0.5698274293829113,-1.5870085408821135,-2.136319264468836,-0.9243804051768192,-2.2321982584560582,-0.515575505458986,-0.13944380580907867,-0.03946815562829381,-0.2020334364119102,-0.23440401903169178,-0.47177576325624865,0.8559078846431029,-0.28395016796676037,0.0013652973140660834,-0.558088105971247],\"xaxis\":\"x\",\"y\":[0.3598242683864689,1.169246811729006,-0.4304572800107887,-1.825109932185933,-2.8706515721172736,-0.2576750895808361,-0.2819517224736958,1.7024640853896296,1.6729922690530823,-0.19226853607971392,1.7176451701802589,-0.7114412110440103,0.4898498231134738,-0.4281151864155867,-0.855815494859706,-1.0085536432603226,-0.2365400034779974,1.6889722271043452,-0.11758493465107547,-0.13064461679071637,-0.12772012578796912,-1.1416213727146403,-0.22102699106804996,0.41594286828873106,-0.2475425036347702],\"yaxis\":\"y\",\"type\":\"scatter\"},{\"customdata\":[[\"April 10, 2019- Powehi - Image of a Black Hole\",\"Sleeping At Last\",\"sleeping-at-last\"],[\"August 12, 2018- Perseid Meteor Shower\",\"Sleeping At Last\",\"sleeping-at-last\"],[\"August 21, 2017- Total Solar Eclipse\",\"Sleeping At Last\",\"sleeping-at-last\"],[\"December 13, 2017- Geminid Meteor Shower\",\"Sleeping At Last\",\"sleeping-at-last\"],[\"December 17, 2018- Farout\",\"Sleeping At Last\",\"sleeping-at-last\"],[\"December 21, 2020- The Great Conjunction\",\"Sleeping At Last\",\"sleeping-at-last\"],[\"December 25, 2021- Webb Space Telescope - Launch\",\"Sleeping At Last\",\"sleeping-at-last\"],[\"February 1, 2023- C2022 E3 - Comet Ztf\",\"Sleeping At Last\",\"sleeping-at-last\"],[\"February 13, 2019- Opportunity - Mission Complete\",\"Sleeping At Last\",\"sleeping-at-last\"],[\"February 18, 2021- Perseverance - Mars Landing\",\"Sleeping At Last\",\"sleeping-at-last\"],[\"January 30, 2020- Spitzer - Final Voyage\",\"Sleeping At Last\",\"sleeping-at-last\"],[\"January 31, 2018- Super Blue Blood Moon\",\"Sleeping At Last\",\"sleeping-at-last\"],[\"July 22, 2020- C  2020 F3 - Comet Neowise\",\"Sleeping At Last\",\"sleeping-at-last\"],[\"July 27, 2018- Total Lunar Eclipse\",\"Sleeping At Last\",\"sleeping-at-last\"],[\"July 4, 2020- Aphelion\",\"Sleeping At Last\",\"sleeping-at-last\"],[\"June 24, 2022- Parade of Planets\",\"Sleeping At Last\",\"sleeping-at-last\"],[\"June 30, 2018- Pds 70b (Birth of a Planet)\",\"Sleeping At Last\",\"sleeping-at-last\"],[\"October 30, 2018- Kepler - Goodnight\",\"Sleeping At Last\",\"sleeping-at-last\"],[\"September 15, 2017- Cassini - The Grand Finale\",\"Sleeping At Last\",\"sleeping-at-last\"]],\"hovertemplate\":\"playlist=%{customdata[2]}<br>note_x=%{x}<br>note_y=%{y}<br>song_name=%{customdata[0]}<br>artist=%{customdata[1]}<extra></extra>\",\"legendgroup\":\"sleeping-at-last\",\"marker\":{\"color\":\"#19d3f3\",\"symbol\":\"circle\"},\"mode\":\"markers\",\"name\":\"sleeping-at-last\",\"orientation\":\"v\",\"showlegend\":true,\"x\":[0.818243581499002,-0.32034980226472615,0.48114266113746434,0.27211907415070746,0.05381298330534158,1.4117901844452259,0.787328539075959,-2.62861151849689,1.0728761580135844,-3.0233749104797703,-2.4871354681055493,1.0088797697097471,0.13226419929165095,0.5711345614544323,1.8415847594291144,-0.3508905237016364,-0.1305277818390063,1.3148346245918718,1.9644706888695949],\"xaxis\":\"x\",\"y\":[-0.063028390977262,1.3100763429347855,0.5904787489697276,1.5694907433630547,2.606228406632546,-1.4236224359849747,0.3601140393188313,0.2101337455040438,-2.0135487418824978,-1.2395238156665838,-0.9671603436041107,1.383338101772854,3.0998872410691987,0.7853957737835523,-0.9190622692587409,2.2221773645326364,0.58514460530687,0.601868485776467,1.1853146319296826],\"yaxis\":\"y\",\"type\":\"scatter\"},{\"customdata\":[[\"It's Ok If You Forget Me\",\"Astrid S\",\"synth-pop\"],[\"Young & Alive\",\"Bazzi\",\"synth-pop\"],[\"Paralyze\",\"Bj\\u00f8rnskov\",\"synth-pop\"],[\"San Diego\",\"BRDGS\",\"synth-pop\"],[\"Ear Candy\",\"Caye\",\"synth-pop\"],[\"12 Hours\",\"Chris James\",\"synth-pop\"],[\"My Universe\",\"Coldplay\",\"synth-pop\"],[\"Overdrive\",\"Conan Gray\",\"synth-pop\"],[\"Titanic\",\"Cosmo's Midnight\",\"synth-pop\"],[\"Champagne For Two\",\"Devin Kennedy\",\"synth-pop\"],[\"Another Round\",\"Elina\",\"synth-pop\"],[\"How\",\"Elina\",\"synth-pop\"],[\"Paper Planes\",\"Elina\",\"synth-pop\"],[\"Nirvana\",\"ELLIANA\",\"synth-pop\"],[\"Lost In Space\",\"Emmit Fenn\",\"synth-pop\"],[\"12-45 - Stripped\",\"Etham\",\"synth-pop\"],[\"Purpose - Stripped\",\"Etham\",\"synth-pop\"],[\"California\",\"Ethan Dufault\",\"synth-pop\"],[\"Hurt The Ones We Love The Most\",\"Evan Blum\",\"synth-pop\"],[\"Young Love\",\"Falcon\",\"synth-pop\"],[\"I Should've Told You\",\"Fiji Blue\",\"synth-pop\"],[\"Waves\",\"Fiji Blue\",\"synth-pop\"],[\"Healing\",\"FLETCHER\",\"synth-pop\"],[\"hold on\",\"flor\",\"synth-pop\"],[\"Automatic (feat. Jake Miller)\",\"Fly By Midnight\",\"synth-pop\"],[\"Lovely\",\"Fly By Midnight\",\"synth-pop\"],[\"Lonely\",\"Gatsby\",\"synth-pop\"],[\"dear me,\",\"Gentle Bones\",\"synth-pop\"],[\"I Wouldn't Know Any Better Than You\",\"Gentle Bones\",\"synth-pop\"],[\"So Far So Good\",\"Great Good Fine Ok\",\"synth-pop\"],[\"Falling\",\"Harry Styles\",\"synth-pop\"],[\"sometimes\",\"Heather Sommer\",\"synth-pop\"],[\"you heard me\",\"Heather Sommer\",\"synth-pop\"],[\"Crying Over You \\u25d0\",\"HONNE\",\"synth-pop\"],[\"Day Dreaming\",\"Jack & Jack\",\"synth-pop\"],[\"Ross And Rachel\",\"Jake Miller\",\"synth-pop\"],[\"Showing You Off\",\"Jake Miller\",\"synth-pop\"],[\"Like No One Does\",\"Jake Scott\",\"synth-pop\"],[\"CWJBHN\",\"Jake Scott\",\"synth-pop\"],[\"drive all night\",\"joan\",\"synth-pop\"],[\"i loved you first\",\"joan\",\"synth-pop\"],[\"love somebody like you\",\"joan\",\"synth-pop\"],[\"magnetic\",\"joan\",\"synth-pop\"],[\"6 months\",\"John K\",\"synth-pop\"],[\"ilym (feat. ROSIE)\",\"John K\",\"synth-pop\"],[\"I Believe\",\"Jonas Brothers\",\"synth-pop\"],[\"I Quit Drinking\",\"Kelsea Ballerini\",\"synth-pop\"],[\"13\",\"LANY\",\"synth-pop\"],[\"dancing in the kitchen\",\"LANY\",\"synth-pop\"],[\"dna\",\"LANY\",\"synth-pop\"],[\"get away\",\"LANY\",\"synth-pop\"],[\"I Don't Wanna Love You Anymore\",\"LANY\",\"synth-pop\"],[\"if this is the last time\",\"LANY\",\"synth-pop\"],[\"ILYSB - STRIPPED\",\"LANY\",\"synth-pop\"],[\"ILYSB\",\"LANY\",\"synth-pop\"],[\"Let Me Know\",\"LANY\",\"synth-pop\"],[\"Malibu Nights\",\"LANY\",\"synth-pop\"],[\"Super Far\",\"LANY\",\"synth-pop\"],[\"Thru These Tears\",\"LANY\",\"synth-pop\"],[\"up to me\",\"LANY\",\"synth-pop\"],[\"you!\",\"LANY\",\"synth-pop\"],[\"Tattoos Together\",\"Lauv\",\"synth-pop\"],[\"When We Were Younger\",\"Loving Caliber\",\"synth-pop\"],[\"Love You Back\",\"Madeon\",\"synth-pop\"],[\"colorblind\",\"Mokita\",\"synth-pop\"],[\"London\",\"Mokita\",\"synth-pop\"],[\"Ready Yet\",\"Mokita\",\"synth-pop\"],[\"Shut Up I Love U\",\"Neptune\",\"synth-pop\"],[\"This Is Heaven\",\"Nick Jonas\",\"synth-pop\"],[\"Plot Twist\",\"NIKI\",\"synth-pop\"],[\"Waves\",\"Paige\",\"synth-pop\"],[\"Shelter\",\"Porter Robinson\",\"synth-pop\"],[\"Outsider\",\"Rachel Grae\",\"synth-pop\"],[\"Dandelions\",\"Ruth B.\",\"synth-pop\"],[\"Lie\",\"Sasha Alex Sloan\",\"synth-pop\"],[\"Day Dreaming\",\"Sopha\",\"synth-pop\"],[\"I Always Wanna Die (Sometimes)\",\"The 1975\",\"synth-pop\"],[\"I'm In Love With You\",\"The 1975\",\"synth-pop\"],[\"It's Not Living (If It's Not With You)\",\"The 1975\",\"synth-pop\"],[\"Robbers\",\"The 1975\",\"synth-pop\"],[\"She's American\",\"The 1975\",\"synth-pop\"],[\"Somebody Else\",\"The 1975\",\"synth-pop\"],[\"Going Home\",\"The Aces\",\"synth-pop\"],[\"Sunset\",\"The Midnight\",\"synth-pop\"],[\"Say So\",\"The Sam Willows\",\"synth-pop\"],[\"I Can't Stop Thinking About You\",\"The Shadowboxers\",\"synth-pop\"],[\"Strawberries & Cigarettes\",\"Troye Sivan\",\"synth-pop\"],[\"If Only for Tonight\",\"Vacation Manor\",\"synth-pop\"],[\"rocket science\",\"vaultboy\",\"synth-pop\"],[\"no excuses\",\"Virginia To Vegas\",\"synth-pop\"],[\"Got A Little Crush On You\",\"Wildflowers\",\"synth-pop\"],[\"Talking To Myself\",\"Will Jay\",\"synth-pop\"],[\"Dance Like Nobody's Watching\",\"Yuna\",\"synth-pop\"],[\"dancing in the kitchen\",\"Zachary Knowles\",\"synth-pop\"],[\"stranger to me\",\"Zachary Knowles\",\"synth-pop\"],[\"could you love me while i hate myself\",\"Zeph\",\"synth-pop\"]],\"hovertemplate\":\"playlist=%{customdata[2]}<br>note_x=%{x}<br>note_y=%{y}<br>song_name=%{customdata[0]}<br>artist=%{customdata[1]}<extra></extra>\",\"legendgroup\":\"synth-pop\",\"marker\":{\"color\":\"#FF6692\",\"symbol\":\"circle\"},\"mode\":\"markers\",\"name\":\"synth-pop\",\"orientation\":\"v\",\"showlegend\":true,\"x\":[0.165745799260421,-0.22058768100294043,-0.18319191389583783,-1.6574134694225071,-0.10990567689162062,0.7529403956603542,-1.2403583032184402,-1.1069629601551205,0.5925580516872654,0.8717575799288076,1.0836760973562822,-2.0915214559832442,0.5348083425962249,-0.438383816129196,1.4755739630284967,-0.10924715584849495,-0.4806708688527483,-2.2356877997890545,0.9329409539887344,0.48308707078831065,1.6396926351979877,-0.24359402552181506,2.622243893885281,-0.22626150772524076,-1.009303021888555,-0.4914458484813806,-0.664273258816341,-0.38813002689431214,1.497129898205006,-0.18480172207691167,0.5689031701370145,-2.087957394476384,-2.370852754193422,-0.33798883287817605,-0.38665938525401966,-0.8382434957552818,0.8523398207976141,-0.13592086166291745,-1.1835454705817783,-1.3998640699608267,3.0403840042518846,0.08997030346091778,-0.030594758143565624,0.6334712803928643,-1.9761119383278487,-0.8310123504737819,0.6077956332787661,-0.1320104618856401,-2.0390398166624353,-4.2226231966937116,-0.41270838808149984,0.09082228865919977,0.6946356520520627,-1.4862834304719943,-0.0521486779204547,1.330175733378383,-0.7132187042777816,-0.44966890021065564,0.09306781558851328,0.033917511276032715,-0.15273797417176288,-2.225646698947539,0.3429043379909101,-2.5765502089814403,-0.5727922952432547,-0.45568888910689087,0.3191468757211424,-0.7600286453221784,-0.018516109294167728,-0.06906196960429088,-3.194802995495626,-0.48766520150737974,-3.3713901652613205,-0.9826993908656375,-0.6783152726518514,1.9400651097989166,-0.5333907843834927,-0.5344600177718806,-0.19933199889772735,-0.9831987378004219,-0.665162316367777,-0.09796390657961265,-0.18160411544564456,0.4666085798666101,1.7938993188037107,-0.11609773904233293,-0.4333568271699299,-1.3638179901921135,-1.0621586363175244,-1.454469082739,1.036727615905479,-1.3027756332100586,0.20113974023266,-1.0988452816527667,1.5601720229150027,2.6476914448068674],\"xaxis\":\"x\",\"y\":[1.5218381810654753,0.4604767175385659,-0.8630710648040723,-0.20835961730438002,-0.44698832460021465,-0.08634159482464934,0.35197711346260263,0.8306359374945678,-0.4007917915588131,-0.49700059760525256,0.5515025405967352,2.147453526517487,2.444153401075726,0.373047788915274,-1.8041110204712856,3.1960624820025756,3.8736589624320117,-1.9130437814082595,0.8801931803080656,-1.6926351161187736,1.356264851139983,0.5532176770229984,0.8347934011199417,-1.5581970167142747,0.8737555404701022,-0.3736551893547213,-2.3999117765813396,-0.9849438643181239,-0.827758259365252,-2.3810698548507148,1.0187991832404089,-2.177970176379676,0.5751808878708139,-0.13601116934865093,-2.4077074192636485,-0.23114733800245094,-0.7089765914107625,-4.167652840817701,-1.1854362441388022,-0.4104947852102577,0.4903822374426283,-1.7779927238280901,-1.434661205770217,-2.7526243259177914,-1.4049258650084835,-1.6370027216077663,-2.325066124222288,1.5222614793049496,-0.2234526542799052,-0.531959323065071,-1.5984883362178002,-0.30897836226550823,-1.3340701698238828,-3.2488474228521267,-0.7129112782345906,0.180489631034501,-0.41209619864105657,-1.3894483254592158,-0.5611855361302848,0.6933571723276241,-0.25913958767835754,-2.507568234136645,0.7829806755217744,0.31938536006652685,2.584056104810643,-0.6573138352290522,-3.4663319510912283,-0.8466241144960284,-2.5144303918671485,2.2752131335315595,1.4257479597750335,-0.21063161711952136,1.7602365559840691,-2.2277717208818797,1.6260405723470215,0.27203993253341985,-0.5746576372354593,0.5426454151923908,-0.6583340474822766,-0.48213784937320575,1.3070685388889878,-0.2838893947427208,-0.5313493389170788,-0.28628058917311466,-1.2070562030178926,-0.5844151494688369,-0.22568865047105832,-1.700273799727878,1.0019742939313012,-2.0366069528180337,1.1659149490071488,0.5608161775141075,-1.2693804163562505,-1.472555202982771,-0.3218809298975268,-0.7952397595506334],\"yaxis\":\"y\",\"type\":\"scatter\"},{\"customdata\":[[\"Allure\",\"Tony Anderson\",\"tony-anderson\"],[\"Aurora\",\"Tony Anderson\",\"tony-anderson\"],[\"Chasm\",\"Tony Anderson\",\"tony-anderson\"],[\"Darkest Night\",\"Tony Anderson\",\"tony-anderson\"],[\"Deep Waters - Original Sketch\",\"Tony Anderson\",\"tony-anderson\"],[\"Deep Waters\",\"Tony Anderson\",\"tony-anderson\"],[\"Delusion\",\"Tony Anderson\",\"tony-anderson\"],[\"Eyes Wide Open - Cinematic Mix\",\"Tony Anderson\",\"tony-anderson\"],[\"Eyes Wide Open\",\"Tony Anderson\",\"tony-anderson\"],[\"Face of the Father\",\"Tony Anderson\",\"tony-anderson\"],[\"Farthest Seas\",\"Tony Anderson\",\"tony-anderson\"],[\"Finding Your Heart\",\"Tony Anderson\",\"tony-anderson\"],[\"Halo\",\"Tony Anderson\",\"tony-anderson\"],[\"High Tide\",\"Tony Anderson\",\"tony-anderson\"],[\"Immanuel\",\"Tony Anderson\",\"tony-anderson\"],[\"Immersion\",\"Tony Anderson\",\"tony-anderson\"],[\"In the Distance\",\"Tony Anderson\",\"tony-anderson\"],[\"Incision\",\"Tony Anderson\",\"tony-anderson\"],[\"Like a Child - Cinematic Mix\",\"Tony Anderson\",\"tony-anderson\"],[\"Low Tide\",\"Tony Anderson\",\"tony-anderson\"],[\"Lune\",\"Tony Anderson\",\"tony-anderson\"],[\"Morning's Wings\",\"Tony Anderson\",\"tony-anderson\"],[\"Nightingale\",\"Tony Anderson\",\"tony-anderson\"],[\"No Place on Earth\",\"Tony Anderson\",\"tony-anderson\"],[\"Nocturne in Paris\",\"Tony Anderson\",\"tony-anderson\"],[\"Perennial\",\"Tony Anderson\",\"tony-anderson\"],[\"Resurrect\",\"Tony Anderson\",\"tony-anderson\"],[\"Retour\",\"Tony Anderson\",\"tony-anderson\"],[\"Shalom\",\"Tony Anderson\",\"tony-anderson\"],[\"Slipstream\",\"Tony Anderson\",\"tony-anderson\"],[\"Something Can Grow\",\"Tony Anderson\",\"tony-anderson\"],[\"Spiriteaux\",\"Tony Anderson\",\"tony-anderson\"],[\"The King\",\"Tony Anderson\",\"tony-anderson\"],[\"The Way Home\",\"Tony Anderson\",\"tony-anderson\"],[\"Thin Place - Abbreviated\",\"Tony Anderson\",\"tony-anderson\"],[\"Thin Place\",\"Tony Anderson\",\"tony-anderson\"],[\"We Are One\",\"Tony Anderson\",\"tony-anderson\"],[\"Wir Sind Gleich\",\"Tony Anderson\",\"tony-anderson\"],[\"Younger\",\"Tony Anderson\",\"tony-anderson\"],[\"\\u00c9closion\",\"Tony Anderson\",\"tony-anderson\"],[\"\\u00c9ph\\u00e9m\\u00e8re\",\"Tony Anderson\",\"tony-anderson\"],[\"Arp\\u00e8ge\",\"Tony Anderson\",\"tony-anderson\"],[\"Nuit\",\"Tony Anderson\",\"tony-anderson\"],[\"Tenderness - Woven Remix\",\"Tony Anderson\",\"tony-anderson\"],[\"Tenderness\",\"Tony Anderson\",\"tony-anderson\"],[\"Cambodia - Ross Lara Remix\",\"Tony Anderson\",\"tony-anderson\"],[\"Cambodia\",\"Tony Anderson\",\"tony-anderson\"],[\"Oyarsa\",\"Tony Anderson\",\"tony-anderson\"]],\"hovertemplate\":\"playlist=%{customdata[2]}<br>note_x=%{x}<br>note_y=%{y}<br>song_name=%{customdata[0]}<br>artist=%{customdata[1]}<extra></extra>\",\"legendgroup\":\"tony-anderson\",\"marker\":{\"color\":\"#B6E880\",\"symbol\":\"circle\"},\"mode\":\"markers\",\"name\":\"tony-anderson\",\"orientation\":\"v\",\"showlegend\":true,\"x\":[0.910894219837919,-0.18881378517210257,-0.7484394604454383,-0.17530904350045617,-0.34776534378722,1.7750663921753298,0.1322924922045949,2.189958947616903,-2.9752340998449642,0.19015881586407163,-5.6519858704802255,0.455044725130951,-2.0102011268545095,-1.6766266056376407,1.3567348615761132,-1.5347903137492143,0.24835126075963734,-1.0483825454819484,1.0279578977948691,2.651642256560208,2.2780888256356917,-0.10890970218138878,-1.5829472848809638,2.3259198017911613,0.8511642184885538,2.7264774570721673,0.2419053071820807,1.3647009069579028,2.0474697831871067,-0.8549834045280357,0.7281055229509624,1.810527525741205,-1.6952506350225467,0.27114703333375456,1.66914754993187,1.6766843192232694,1.139851272571674,1.01188429618098,-2.6662331948729916,1.5079591123985334,1.8098557021634212,3.3228009638823437,1.7390864868298817,0.02136386206307827,1.417973803973533,-0.07635491313508079,0.7209154233441744,-0.8732540682979006],\"xaxis\":\"x\",\"y\":[-0.17452399538271046,-1.1207835408819617,0.9222713974929728,-0.23490259562402582,2.396995342420352,0.392081027868221,0.157946229151124,1.8930132588468036,-0.600299466438226,-0.858963361470323,1.8848294951097304,-0.9920976289713462,1.6543091338994544,0.19154804055984592,-0.5376727597590715,2.1305816592858045,0.635655783183133,-1.2498798561069189,-0.016619918522830065,-0.1487992544584064,-0.943764889965169,-0.42932178433092005,1.7771814813942515,-2.052542383237178,0.050798466572311234,-0.4930092423821933,-0.762858087510407,1.7219860524705854,0.5131526545705498,0.9218148754336953,0.44756084224999204,0.8070890158431657,-0.02821016114551757,-0.5532686852412848,0.7964471147233093,-2.1851416896459153,0.6990373511195315,-2.206744482634309,-1.2575335323388093,0.04835217847321813,-0.09085812985739439,-0.19525856275157,-0.215982575957951,-0.38549551967838974,-0.15786142715493098,-0.2977154531001692,-1.4932215914518283,0.5969939896677354],\"yaxis\":\"y\",\"type\":\"scatter\"}],                        {\"template\":{\"data\":{\"histogram2dcontour\":[{\"type\":\"histogram2dcontour\",\"colorbar\":{\"outlinewidth\":0,\"ticks\":\"\"},\"colorscale\":[[0.0,\"#0d0887\"],[0.1111111111111111,\"#46039f\"],[0.2222222222222222,\"#7201a8\"],[0.3333333333333333,\"#9c179e\"],[0.4444444444444444,\"#bd3786\"],[0.5555555555555556,\"#d8576b\"],[0.6666666666666666,\"#ed7953\"],[0.7777777777777778,\"#fb9f3a\"],[0.8888888888888888,\"#fdca26\"],[1.0,\"#f0f921\"]]}],\"choropleth\":[{\"type\":\"choropleth\",\"colorbar\":{\"outlinewidth\":0,\"ticks\":\"\"}}],\"histogram2d\":[{\"type\":\"histogram2d\",\"colorbar\":{\"outlinewidth\":0,\"ticks\":\"\"},\"colorscale\":[[0.0,\"#0d0887\"],[0.1111111111111111,\"#46039f\"],[0.2222222222222222,\"#7201a8\"],[0.3333333333333333,\"#9c179e\"],[0.4444444444444444,\"#bd3786\"],[0.5555555555555556,\"#d8576b\"],[0.6666666666666666,\"#ed7953\"],[0.7777777777777778,\"#fb9f3a\"],[0.8888888888888888,\"#fdca26\"],[1.0,\"#f0f921\"]]}],\"heatmap\":[{\"type\":\"heatmap\",\"colorbar\":{\"outlinewidth\":0,\"ticks\":\"\"},\"colorscale\":[[0.0,\"#0d0887\"],[0.1111111111111111,\"#46039f\"],[0.2222222222222222,\"#7201a8\"],[0.3333333333333333,\"#9c179e\"],[0.4444444444444444,\"#bd3786\"],[0.5555555555555556,\"#d8576b\"],[0.6666666666666666,\"#ed7953\"],[0.7777777777777778,\"#fb9f3a\"],[0.8888888888888888,\"#fdca26\"],[1.0,\"#f0f921\"]]}],\"heatmapgl\":[{\"type\":\"heatmapgl\",\"colorbar\":{\"outlinewidth\":0,\"ticks\":\"\"},\"colorscale\":[[0.0,\"#0d0887\"],[0.1111111111111111,\"#46039f\"],[0.2222222222222222,\"#7201a8\"],[0.3333333333333333,\"#9c179e\"],[0.4444444444444444,\"#bd3786\"],[0.5555555555555556,\"#d8576b\"],[0.6666666666666666,\"#ed7953\"],[0.7777777777777778,\"#fb9f3a\"],[0.8888888888888888,\"#fdca26\"],[1.0,\"#f0f921\"]]}],\"contourcarpet\":[{\"type\":\"contourcarpet\",\"colorbar\":{\"outlinewidth\":0,\"ticks\":\"\"}}],\"contour\":[{\"type\":\"contour\",\"colorbar\":{\"outlinewidth\":0,\"ticks\":\"\"},\"colorscale\":[[0.0,\"#0d0887\"],[0.1111111111111111,\"#46039f\"],[0.2222222222222222,\"#7201a8\"],[0.3333333333333333,\"#9c179e\"],[0.4444444444444444,\"#bd3786\"],[0.5555555555555556,\"#d8576b\"],[0.6666666666666666,\"#ed7953\"],[0.7777777777777778,\"#fb9f3a\"],[0.8888888888888888,\"#fdca26\"],[1.0,\"#f0f921\"]]}],\"surface\":[{\"type\":\"surface\",\"colorbar\":{\"outlinewidth\":0,\"ticks\":\"\"},\"colorscale\":[[0.0,\"#0d0887\"],[0.1111111111111111,\"#46039f\"],[0.2222222222222222,\"#7201a8\"],[0.3333333333333333,\"#9c179e\"],[0.4444444444444444,\"#bd3786\"],[0.5555555555555556,\"#d8576b\"],[0.6666666666666666,\"#ed7953\"],[0.7777777777777778,\"#fb9f3a\"],[0.8888888888888888,\"#fdca26\"],[1.0,\"#f0f921\"]]}],\"mesh3d\":[{\"type\":\"mesh3d\",\"colorbar\":{\"outlinewidth\":0,\"ticks\":\"\"}}],\"scatter\":[{\"marker\":{\"line\":{\"color\":\"#283442\"}},\"type\":\"scatter\"}],\"parcoords\":[{\"type\":\"parcoords\",\"line\":{\"colorbar\":{\"outlinewidth\":0,\"ticks\":\"\"}}}],\"scatterpolargl\":[{\"type\":\"scatterpolargl\",\"marker\":{\"colorbar\":{\"outlinewidth\":0,\"ticks\":\"\"}}}],\"bar\":[{\"error_x\":{\"color\":\"#f2f5fa\"},\"error_y\":{\"color\":\"#f2f5fa\"},\"marker\":{\"line\":{\"color\":\"rgb(17,17,17)\",\"width\":0.5},\"pattern\":{\"fillmode\":\"overlay\",\"size\":10,\"solidity\":0.2}},\"type\":\"bar\"}],\"scattergeo\":[{\"type\":\"scattergeo\",\"marker\":{\"colorbar\":{\"outlinewidth\":0,\"ticks\":\"\"}}}],\"scatterpolar\":[{\"type\":\"scatterpolar\",\"marker\":{\"colorbar\":{\"outlinewidth\":0,\"ticks\":\"\"}}}],\"histogram\":[{\"marker\":{\"pattern\":{\"fillmode\":\"overlay\",\"size\":10,\"solidity\":0.2}},\"type\":\"histogram\"}],\"scattergl\":[{\"marker\":{\"line\":{\"color\":\"#283442\"}},\"type\":\"scattergl\"}],\"scatter3d\":[{\"type\":\"scatter3d\",\"line\":{\"colorbar\":{\"outlinewidth\":0,\"ticks\":\"\"}},\"marker\":{\"colorbar\":{\"outlinewidth\":0,\"ticks\":\"\"}}}],\"scattermapbox\":[{\"type\":\"scattermapbox\",\"marker\":{\"colorbar\":{\"outlinewidth\":0,\"ticks\":\"\"}}}],\"scatterternary\":[{\"type\":\"scatterternary\",\"marker\":{\"colorbar\":{\"outlinewidth\":0,\"ticks\":\"\"}}}],\"scattercarpet\":[{\"type\":\"scattercarpet\",\"marker\":{\"colorbar\":{\"outlinewidth\":0,\"ticks\":\"\"}}}],\"carpet\":[{\"aaxis\":{\"endlinecolor\":\"#A2B1C6\",\"gridcolor\":\"#506784\",\"linecolor\":\"#506784\",\"minorgridcolor\":\"#506784\",\"startlinecolor\":\"#A2B1C6\"},\"baxis\":{\"endlinecolor\":\"#A2B1C6\",\"gridcolor\":\"#506784\",\"linecolor\":\"#506784\",\"minorgridcolor\":\"#506784\",\"startlinecolor\":\"#A2B1C6\"},\"type\":\"carpet\"}],\"table\":[{\"cells\":{\"fill\":{\"color\":\"#506784\"},\"line\":{\"color\":\"rgb(17,17,17)\"}},\"header\":{\"fill\":{\"color\":\"#2a3f5f\"},\"line\":{\"color\":\"rgb(17,17,17)\"}},\"type\":\"table\"}],\"barpolar\":[{\"marker\":{\"line\":{\"color\":\"rgb(17,17,17)\",\"width\":0.5},\"pattern\":{\"fillmode\":\"overlay\",\"size\":10,\"solidity\":0.2}},\"type\":\"barpolar\"}],\"pie\":[{\"automargin\":true,\"type\":\"pie\"}]},\"layout\":{\"autotypenumbers\":\"strict\",\"colorway\":[\"#636efa\",\"#EF553B\",\"#00cc96\",\"#ab63fa\",\"#FFA15A\",\"#19d3f3\",\"#FF6692\",\"#B6E880\",\"#FF97FF\",\"#FECB52\"],\"font\":{\"color\":\"#f2f5fa\"},\"hovermode\":\"closest\",\"hoverlabel\":{\"align\":\"left\"},\"paper_bgcolor\":\"rgb(17,17,17)\",\"plot_bgcolor\":\"rgb(17,17,17)\",\"polar\":{\"bgcolor\":\"rgb(17,17,17)\",\"angularaxis\":{\"gridcolor\":\"#506784\",\"linecolor\":\"#506784\",\"ticks\":\"\"},\"radialaxis\":{\"gridcolor\":\"#506784\",\"linecolor\":\"#506784\",\"ticks\":\"\"}},\"ternary\":{\"bgcolor\":\"rgb(17,17,17)\",\"aaxis\":{\"gridcolor\":\"#506784\",\"linecolor\":\"#506784\",\"ticks\":\"\"},\"baxis\":{\"gridcolor\":\"#506784\",\"linecolor\":\"#506784\",\"ticks\":\"\"},\"caxis\":{\"gridcolor\":\"#506784\",\"linecolor\":\"#506784\",\"ticks\":\"\"}},\"coloraxis\":{\"colorbar\":{\"outlinewidth\":0,\"ticks\":\"\"}},\"colorscale\":{\"sequential\":[[0.0,\"#0d0887\"],[0.1111111111111111,\"#46039f\"],[0.2222222222222222,\"#7201a8\"],[0.3333333333333333,\"#9c179e\"],[0.4444444444444444,\"#bd3786\"],[0.5555555555555556,\"#d8576b\"],[0.6666666666666666,\"#ed7953\"],[0.7777777777777778,\"#fb9f3a\"],[0.8888888888888888,\"#fdca26\"],[1.0,\"#f0f921\"]],\"sequentialminus\":[[0.0,\"#0d0887\"],[0.1111111111111111,\"#46039f\"],[0.2222222222222222,\"#7201a8\"],[0.3333333333333333,\"#9c179e\"],[0.4444444444444444,\"#bd3786\"],[0.5555555555555556,\"#d8576b\"],[0.6666666666666666,\"#ed7953\"],[0.7777777777777778,\"#fb9f3a\"],[0.8888888888888888,\"#fdca26\"],[1.0,\"#f0f921\"]],\"diverging\":[[0,\"#8e0152\"],[0.1,\"#c51b7d\"],[0.2,\"#de77ae\"],[0.3,\"#f1b6da\"],[0.4,\"#fde0ef\"],[0.5,\"#f7f7f7\"],[0.6,\"#e6f5d0\"],[0.7,\"#b8e186\"],[0.8,\"#7fbc41\"],[0.9,\"#4d9221\"],[1,\"#276419\"]]},\"xaxis\":{\"gridcolor\":\"#283442\",\"linecolor\":\"#506784\",\"ticks\":\"\",\"title\":{\"standoff\":15},\"zerolinecolor\":\"#283442\",\"automargin\":true,\"zerolinewidth\":2},\"yaxis\":{\"gridcolor\":\"#283442\",\"linecolor\":\"#506784\",\"ticks\":\"\",\"title\":{\"standoff\":15},\"zerolinecolor\":\"#283442\",\"automargin\":true,\"zerolinewidth\":2},\"scene\":{\"xaxis\":{\"backgroundcolor\":\"rgb(17,17,17)\",\"gridcolor\":\"#506784\",\"linecolor\":\"#506784\",\"showbackground\":true,\"ticks\":\"\",\"zerolinecolor\":\"#C8D4E3\",\"gridwidth\":2},\"yaxis\":{\"backgroundcolor\":\"rgb(17,17,17)\",\"gridcolor\":\"#506784\",\"linecolor\":\"#506784\",\"showbackground\":true,\"ticks\":\"\",\"zerolinecolor\":\"#C8D4E3\",\"gridwidth\":2},\"zaxis\":{\"backgroundcolor\":\"rgb(17,17,17)\",\"gridcolor\":\"#506784\",\"linecolor\":\"#506784\",\"showbackground\":true,\"ticks\":\"\",\"zerolinecolor\":\"#C8D4E3\",\"gridwidth\":2}},\"shapedefaults\":{\"line\":{\"color\":\"#f2f5fa\"}},\"annotationdefaults\":{\"arrowcolor\":\"#f2f5fa\",\"arrowhead\":0,\"arrowwidth\":1},\"geo\":{\"bgcolor\":\"rgb(17,17,17)\",\"landcolor\":\"rgb(17,17,17)\",\"subunitcolor\":\"#506784\",\"showland\":true,\"showlakes\":true,\"lakecolor\":\"rgb(17,17,17)\"},\"title\":{\"x\":0.05},\"updatemenudefaults\":{\"bgcolor\":\"#506784\",\"borderwidth\":0},\"sliderdefaults\":{\"bgcolor\":\"#C8D4E3\",\"borderwidth\":1,\"bordercolor\":\"rgb(17,17,17)\",\"tickwidth\":0},\"mapbox\":{\"style\":\"dark\"}}},\"xaxis\":{\"anchor\":\"y\",\"domain\":[0.0,1.0],\"title\":{\"text\":\"note_x\"}},\"yaxis\":{\"anchor\":\"x\",\"domain\":[0.0,1.0],\"title\":{\"text\":\"note_y\"}},\"legend\":{\"title\":{\"text\":\"playlist\"},\"tracegroupgap\":0},\"margin\":{\"t\":60}},                        {\"responsive\": true}                    ).then(function(){\n                            \nvar gd = document.getElementById('f42579a1-8b48-49b3-8286-e3a82142ec29');\nvar x = new MutationObserver(function (mutations, observer) {{\n        var display = window.getComputedStyle(gd).display;\n        if (!display || display === 'none') {{\n            console.log([gd, 'removed!']);\n            Plotly.purge(gd);\n            observer.disconnect();\n        }}\n}});\n\n// Listen for the removal of the full notebook cells\nvar notebookContainer = gd.closest('#notebook-container');\nif (notebookContainer) {{\n    x.observe(notebookContainer, {childList: true});\n}}\n\n// Listen for the clearing of the current output cell\nvar outputEl = gd.closest('.output');\nif (outputEl) {{\n    x.observe(outputEl, {childList: true});\n}}\n\n                        })                };                });            </script>        </div>"
     },
     "metadata": {},
     "output_type": "display_data"
    }
   ],
   "source": [
    "note_trajectory_fig = px.scatter(dataset, x='note_x', y='note_y', color='playlist', hover_data=config.metadata_columns)\n",
    "note_trajectory_fig.write_image(config.image_dir + '/note-trajectory-mds.png', width=1000, scale=2)\n",
    "note_trajectory_fig"
   ]
  },
  {
   "cell_type": "markdown",
   "metadata": {},
   "source": [
    "### Chord Trajectory\n",
    "\n",
    "Here, clustering is stronger. There are fewer chords to choose from in this implementation of the Chord Trajectory, leaving less room for variation due to very nuanced differences in expression and composition compared to the Note Trajectory."
   ]
  },
  {
   "cell_type": "code",
   "execution_count": 23,
   "metadata": {},
   "outputs": [
    {
     "data": {
      "application/vnd.plotly.v1+json": {
       "data": [
        {
         "customdata": [
          [
           "Ivan Sings",
           "Aram Khachaturian",
           "kino"
          ],
          [
           "Prélude in E Minor, Op. 28, No. 4",
           "Frédéric Chopin",
           "kino"
          ],
          [
           "Above the Trees",
           "Kino",
           "kino"
          ],
          [
           "All",
           "Kino",
           "kino"
          ],
          [
           "Anew",
           "Kino",
           "kino"
          ],
          [
           "As a Cloud",
           "Kino",
           "kino"
          ],
          [
           "Away",
           "Kino",
           "kino"
          ],
          [
           "Bloom",
           "Kino",
           "kino"
          ],
          [
           "Charleston",
           "Kino",
           "kino"
          ],
          [
           "Donau",
           "Kino",
           "kino"
          ],
          [
           "Each and Every (Ambient Mix)",
           "Kino",
           "kino"
          ],
          [
           "Each and Every (Piano)",
           "Kino",
           "kino"
          ],
          [
           "Each and Every",
           "Kino",
           "kino"
          ],
          [
           "Erlöst  Redeemed",
           "Kino",
           "kino"
          ],
          [
           "Gathering",
           "Kino",
           "kino"
          ],
          [
           "God Bless Us, Every One",
           "Kino",
           "kino"
          ],
          [
           "Hearth",
           "Kino",
           "kino"
          ],
          [
           "Hēo",
           "Kino",
           "kino"
          ],
          [
           "In Earnest",
           "Kino",
           "kino"
          ],
          [
           "Leinwand (Piano)",
           "Kino",
           "kino"
          ],
          [
           "Leinwand",
           "Kino",
           "kino"
          ],
          [
           "Lightly Tread",
           "Kino",
           "kino"
          ],
          [
           "Lone",
           "Kino",
           "kino"
          ],
          [
           "Many Colors",
           "Kino",
           "kino"
          ],
          [
           "Merrily, Merrily",
           "Kino",
           "kino"
          ],
          [
           "O Tannenbaum",
           "Kino",
           "kino"
          ],
          [
           "Presidio",
           "Kino",
           "kino"
          ],
          [
           "Rambuteau",
           "Kino",
           "kino"
          ],
          [
           "Seafarer's Quartet",
           "Kino",
           "kino"
          ],
          [
           "Seems",
           "Kino",
           "kino"
          ],
          [
           "Silent Night",
           "Kino",
           "kino"
          ],
          [
           "Silver Lake",
           "Kino",
           "kino"
          ],
          [
           "St John's",
           "Kino",
           "kino"
          ],
          [
           "Sunshine - Original",
           "Kino",
           "kino"
          ],
          [
           "Swell",
           "Kino",
           "kino"
          ],
          [
           "The Holly and the Ivy",
           "Kino",
           "kino"
          ],
          [
           "The Weight Unbearable (Piano)",
           "Kino",
           "kino"
          ],
          [
           "The Weight Unbearable",
           "Kino",
           "kino"
          ],
          [
           "Till",
           "Kino",
           "kino"
          ],
          [
           "Trio in E-flat Minor",
           "Kino",
           "kino"
          ],
          [
           "Under",
           "Kino",
           "kino"
          ],
          [
           "Water Lilies",
           "Kino",
           "kino"
          ],
          [
           "Wide Awake",
           "Kino",
           "kino"
          ],
          [
           "Willeth",
           "Kino",
           "kino"
          ],
          [
           "Wolden",
           "Kino",
           "kino"
          ],
          [
           "Yule",
           "Kino",
           "kino"
          ],
          [
           "Piano Sonata No. 14 in C-Sharp Minor, Op. 27 No. 2 “Moonlight”- I. Adagio sostenuto",
           "Ludwig van Beethoven",
           "kino"
          ]
         ],
         "hovertemplate": "playlist=%{customdata[2]}<br>chord_x=%{x}<br>chord_y=%{y}<br>song_name=%{customdata[0]}<br>artist=%{customdata[1]}<extra></extra>",
         "legendgroup": "kino",
         "marker": {
          "color": "#636efa",
          "symbol": "circle"
         },
         "mode": "markers",
         "name": "kino",
         "orientation": "v",
         "showlegend": true,
         "x": [
          -0.9551755295295349,
          0.9205646431936134,
          -1.1374328664567268,
          0.8722088936118796,
          0.3116063854079065,
          -1.5382771671766708,
          -0.6306531977859138,
          -1.4422380562786103,
          0.28893745404741517,
          -0.6254354487424987,
          -1.3928450249990494,
          -1.1680922364031017,
          -1.097214955166842,
          0.8412411173317617,
          0.3869983345979647,
          -0.8943782609985484,
          -1.7291637121930419,
          -0.5410076359913067,
          0.2780368204413728,
          0.6852431831332343,
          0.7322493171349372,
          -0.6706616981242413,
          -1.1727851240634461,
          0.46142524368042126,
          -0.8718006704043562,
          1.415999997812641,
          -1.1826316315467313,
          -1.1695887395088833,
          0.02894953782011433,
          0.3988418314059201,
          1.0305907029548889,
          0.6480771648432299,
          -0.8878402277235399,
          0.5795775827595422,
          -0.10399005037723774,
          -0.9564447919702279,
          -0.8727463122265182,
          -0.8765980245871545,
          0.19966573996713652,
          -1.7736237220276132,
          0.13902770046539137,
          -1.5711134799957773,
          -1.1695971767054307,
          -0.7907512349067084,
          0.015675593094883988,
          -1.0641675311013443,
          -0.10204466563597091
         ],
         "xaxis": "x",
         "y": [
          -1.06545571034583,
          -1.0693527159368943,
          0.7065684060665628,
          -0.6889206583557567,
          1.0737941832663134,
          -0.1720314317148376,
          1.0275726207201057,
          0.5169635108405863,
          0.632420167939147,
          -0.7601026494041091,
          0.5390793228831201,
          0.3825531396138201,
          0.2739253336924477,
          -0.6332289893901392,
          -0.796742752639607,
          0.2893934320063081,
          0.5029213767348981,
          -0.5216370119305331,
          0.4302684396773232,
          -0.9743563439940877,
          -1.081828222866732,
          0.7773490793360994,
          -0.319766501218559,
          -0.4438823727974287,
          0.2860774855827438,
          -0.48791335048623163,
          0.5889932174958947,
          0.7672810662115865,
          -0.794954552758844,
          -1.292549901318775,
          0.35767253380160247,
          -0.7882561336260167,
          -0.5067563698195525,
          1.0948761696709992,
          1.0345336882292715,
          -0.2684561434506997,
          0.2727985215912404,
          -1.1959351881044067,
          0.4793035218914849,
          0.5417424706124222,
          -0.9195909333655735,
          -0.11444724594766523,
          0.1712713609160175,
          -1.6594073050936733,
          -0.8509792481645668,
          0.31447091023292123,
          1.3352122523489858
         ],
         "yaxis": "y",
         "type": "scatter"
        },
        {
         "customdata": [
          [
           "But it's Destiny",
           "10cm",
           "korean-ost"
          ],
          [
           "나의 어깨에 기대어요",
           "10cm",
           "korean-ost"
          ],
          [
           "Is You",
           "AILEE",
           "korean-ost"
          ],
          [
           "How can I love the heartbreak, you're the one I love",
           "AKMU",
           "korean-ost"
          ],
          [
           "How can I love the heartbreak, you`re the one I love",
           "AKMU",
           "korean-ost"
          ],
          [
           "Amusement Park",
           "BAEKHYUN",
           "korean-ost"
          ],
          [
           "너를 사랑하고 있어",
           "BAEKHYUN",
           "korean-ost"
          ],
          [
           "Beautiful goodbye",
           "CHEN",
           "korean-ost"
          ],
          [
           "Flower",
           "CHEN",
           "korean-ost"
          ],
          [
           "I'll be there",
           "CHEN",
           "korean-ost"
          ],
          [
           "My dear",
           "CHEN",
           "korean-ost"
          ],
          [
           "Sorry not sorry",
           "CHEN",
           "korean-ost"
          ],
          [
           "Everytime",
           "CHEN",
           "korean-ost"
          ],
          [
           "Wish",
           "Choi Yuree",
           "korean-ost"
          ],
          [
           "Beautiful",
           "Crush",
           "korean-ost"
          ],
          [
           "Let Us Go",
           "Crush",
           "korean-ost"
          ],
          [
           "No Words",
           "Crush",
           "korean-ost"
          ],
          [
           "My Love",
           "DAVICHI",
           "korean-ost"
          ],
          [
           "Please Don't Cry",
           "DAVICHI",
           "korean-ost"
          ],
          [
           "Sunset",
           "DAVICHI",
           "korean-ost"
          ],
          [
           "노력해볼게요 I'll try",
           "DAY6",
           "korean-ost"
          ],
          [
           "I'm In Love With You",
           "Dvwn",
           "korean-ost"
          ],
          [
           "No Problem",
           "Dvwn",
           "korean-ost"
          ],
          [
           "긴 밤이 오면",
           "Eddy Kim",
           "korean-ost"
          ],
          [
           "Rain or Shine",
           "Elaine",
           "korean-ost"
          ],
          [
           "Hate Everything - Korean Version",
           "GSoul",
           "korean-ost"
          ],
          [
           "기억해줘요 내 모든 날과 그때를",
           "Gummy",
           "korean-ost"
          ],
          [
           "Slowly Fall",
           "Ha Hyun Sang",
           "korean-ost"
          ],
          [
           "내 맘을 볼 수 있나요",
           "HEIZE",
           "korean-ost"
          ],
          [
           "Deeply",
           "HEN",
           "korean-ost"
          ],
          [
           "To You",
           "HEN",
           "korean-ost"
          ],
          [
           "It's You",
           "HENRY",
           "korean-ost"
          ],
          [
           "Untitled Love Song",
           "HENRY",
           "korean-ost"
          ],
          [
           "Ending Scene",
           "IU",
           "korean-ost"
          ],
          [
           "Give You My Heart",
           "IU",
           "korean-ost"
          ],
          [
           "Love poem",
           "IU",
           "korean-ost"
          ],
          [
           "My sea",
           "IU",
           "korean-ost"
          ],
          [
           "Holiday",
           "JeHwi",
           "korean-ost"
          ],
          [
           "Stardust love song",
           "JIHYO",
           "korean-ost"
          ],
          [
           "What Lies Ahead",
           "Joe Layne",
           "korean-ost"
          ],
          [
           "Times Like This",
           "Josh Daniel",
           "korean-ost"
          ],
          [
           "Do you want to walk with me (Romance 101 X Jukjae)",
           "Jukjae",
           "korean-ost"
          ],
          [
           "The Days Like Pictures",
           "Jukjae",
           "korean-ost"
          ],
          [
           "나를 찾아서",
           "Jukjae",
           "korean-ost"
          ],
          [
           "별 보러 가자",
           "Jukjae",
           "korean-ost"
          ],
          [
           "Day & Night",
           "Jung Seung Hwan",
           "korean-ost"
          ],
          [
           "Because I Miss You",
           "Jung Yong Hwa",
           "korean-ost"
          ],
          [
           "For First-time Lovers (Banmal-song)",
           "Jung Yong Hwa",
           "korean-ost"
          ],
          [
           "I Go",
           "Kei (Kim Ji Yeon)",
           "korean-ost"
          ],
          [
           "보고싶다 (From. '드라마 천국의 계단')",
           "Kim Bum Soo",
           "korean-ost"
          ],
          [
           "One Day",
           "Kim Feel",
           "korean-ost"
          ],
          [
           "Someday, The Boy",
           "Kim Feel",
           "korean-ost"
          ],
          [
           "Vacance in September",
           "KIM JAE HWAN",
           "korean-ost"
          ],
          [
           "All of My Days",
           "KIMSEJEONG",
           "korean-ost"
          ],
          [
           "If Only",
           "KIMSEJEONG",
           "korean-ost"
          ],
          [
           "Lonely Night",
           "Kwon Jin Ah",
           "korean-ost"
          ],
          [
           "The End",
           "Kwon Jin Ah",
           "korean-ost"
          ],
          [
           "I Won't Heartbreaken",
           "Lee KwangHee",
           "korean-ost"
          ],
          [
           "In My Heart",
           "LIM YEON",
           "korean-ost"
          ],
          [
           "Lost",
           "LIM YEON",
           "korean-ost"
          ],
          [
           "Say Yes",
           "Loco",
           "korean-ost"
          ],
          [
           "Be There For You",
           "NCT DREAM",
           "korean-ost"
          ],
          [
           "Rainbow - Acoustic Version",
           "O.WHEN",
           "korean-ost"
          ],
          [
           "Me After You",
           "Paul Kim",
           "korean-ost"
          ],
          [
           "안녕",
           "Paul Kim",
           "korean-ost"
          ],
          [
           "But I'm Trying to Tell You How Much I Love You (With Moonbit)",
           "saevom",
           "korean-ost"
          ],
          [
           "For You",
           "Sam Kim",
           "korean-ost"
          ],
          [
           "Sunny Day Rainy Day (feat. Kassy)",
           "Sanchez",
           "korean-ost"
          ],
          [
           "Your world",
           "Seol Hoseung (SURL)",
           "korean-ost"
          ],
          [
           "Grown Ups",
           "Sondia",
           "korean-ost"
          ],
          [
           "Hug",
           "Sondia",
           "korean-ost"
          ],
          [
           "Our Souls at Night",
           "Sondia",
           "korean-ost"
          ],
          [
           "우린 친구뿐일까",
           "Sondia",
           "korean-ost"
          ],
          [
           "She",
           "Standing Egg",
           "korean-ost"
          ],
          [
           "Miracle (Feat. Paul Kim)",
           "Stella Jang",
           "korean-ost"
          ],
          [
           "One more time, One more chance",
           "Sung Si Kyung",
           "korean-ost"
          ],
          [
           "君がいるよ",
           "Sung Si Kyung",
           "korean-ost"
          ],
          [
           "Two People",
           "SURAN",
           "korean-ost"
          ],
          [
           "Inevitable",
           "Suzy",
           "korean-ost"
          ],
          [
           "Starlight",
           "TAEIL",
           "korean-ost"
          ],
          [
           "그대라는 시",
           "TAEYEON",
           "korean-ost"
          ],
          [
           "Two Words",
           "WENDY",
           "korean-ost"
          ],
          [
           "What If Love",
           "WENDY",
           "korean-ost"
          ],
          [
           "내일도 또 내일도 Tomorrow After Tomorrow",
           "WISUE",
           "korean-ost"
          ],
          [
           "Your Existence",
           "Wonstein",
           "korean-ost"
          ],
          [
           "Free",
           "Xydo",
           "korean-ost"
          ],
          [
           "너만 너만 너만",
           "Yang Dail",
           "korean-ost"
          ],
          [
           "With me",
           "Yang Dail",
           "korean-ost"
          ],
          [
           "Here I Am Again",
           "Yerin Baek",
           "korean-ost"
          ],
          [
           "Maze",
           "YONGZOO",
           "korean-ost"
          ],
          [
           "ALWAYS",
           "Yoon Mirae",
           "korean-ost"
          ],
          [
           "Flower",
           "Yoon Mirae",
           "korean-ost"
          ],
          [
           "You Are My World",
           "Yoon Mirae",
           "korean-ost"
          ],
          [
           "I Just Want To Stay With You",
           "Zion.T",
           "korean-ost"
          ],
          [
           "Faith",
           "이준화",
           "korean-ost"
          ]
         ],
         "hovertemplate": "playlist=%{customdata[2]}<br>chord_x=%{x}<br>chord_y=%{y}<br>song_name=%{customdata[0]}<br>artist=%{customdata[1]}<extra></extra>",
         "legendgroup": "korean-ost",
         "marker": {
          "color": "#EF553B",
          "symbol": "circle"
         },
         "mode": "markers",
         "name": "korean-ost",
         "orientation": "v",
         "showlegend": true,
         "x": [
          -0.6111632913966004,
          -1.055906809145254,
          0.28372215440299986,
          -0.18503836002177929,
          -0.18503836001729962,
          0.05743213421853603,
          0.35580771058857363,
          -1.077529090526058,
          0.9152572228369851,
          -0.44521504136871737,
          0.43574722358144974,
          -0.913321774487461,
          -0.9349579077347965,
          -1.2643971630240214,
          -0.9237940772200854,
          -0.5681684944449372,
          -0.3736988807952383,
          -1.2885470664532979,
          -0.5139995447457387,
          -1.467086522641101,
          0.31404095302300417,
          -0.21337440661581697,
          0.7249470100211048,
          -0.09836236130053101,
          -0.6413790829987208,
          -0.6453411031674551,
          0.041937684414977326,
          -0.9728433132043072,
          0.2770900004282917,
          -0.05039831419866541,
          -0.7219950228183418,
          0.7151853653832845,
          0.2559940137652418,
          -0.3559667971388561,
          -1.290518943115855,
          -0.25119676792431134,
          0.20183730031404773,
          0.8025359033516338,
          1.1282324274395112,
          0.861607274748416,
          0.6607874560946893,
          0.3631915823761234,
          0.12315150102053078,
          0.778111122994085,
          -1.2548290917841542,
          -0.7770635090806921,
          0.4409279709172323,
          0.9441215474949273,
          1.4504914752109705,
          -0.32903632778744574,
          -0.32824710522358697,
          -0.06628333277266661,
          0.4471250647233012,
          0.5125281380274196,
          -1.1006147096814785,
          -0.5433092396691872,
          -1.238605831346744,
          0.3985477778597141,
          -0.47783395784624516,
          0.45365853931825656,
          0.5766327461238817,
          0.2593077898481868,
          -0.6235034899961057,
          0.27990085724840713,
          0.33798251559078357,
          0.9666695439951388,
          -1.3132183073060408,
          0.004538056172754683,
          0.18390464652133673,
          0.40600158831458816,
          0.9707960023093831,
          -0.8829753616005797,
          -1.1374388279376157,
          0.5781205843416165,
          0.9881689394171851,
          0.14291012283503543,
          1.0826969267205229,
          -0.8520986185480673,
          -1.085877993694052,
          0.9160221235161394,
          0.24088762173712783,
          -1.4469628009965492,
          0.03861865322550759,
          -0.7377602380716185,
          0.154330438496316,
          0.5692549537718548,
          -0.8006649402658346,
          0.3386948867310167,
          0.4460466884237628,
          -0.8927672320033808,
          -1.1604583483139423,
          -1.1621784779360371,
          -1.003416353886256,
          1.0663547647768403,
          1.363041415278439
         ],
         "xaxis": "x",
         "y": [
          -0.8297541957292661,
          1.2988463637747716,
          0.48803466720585736,
          -0.9895248885045853,
          -0.9895248885081088,
          -0.9477551241636513,
          0.8257331690952681,
          -0.2898127838312166,
          0.6436543332500302,
          0.6896044347325945,
          0.48938379577878705,
          -0.6851124135271573,
          -0.31635286539010005,
          0.6111781657655511,
          -0.8090130630515965,
          -1.21948255174924,
          0.8405207959345165,
          -3.4342845535325744E-4,
          -1.3635089460579202,
          0.2636189956383912,
          0.3206030892079505,
          -1.245318809686397,
          0.4004366764604777,
          -1.2049603123808073,
          1.3374342869617017,
          -0.6111941823008852,
          0.7421349183120464,
          0.7758751931410806,
          0.48137655697618126,
          -0.7264326746872191,
          0.16859560393829384,
          -0.6562555520088814,
          -0.5982938809247876,
          -1.1777347060199304,
          0.08035247524260992,
          1.1726110908796488,
          0.14494287305707246,
          0.5269659262522557,
          0.6719911988061734,
          -0.16422411501234657,
          0.7124166294639778,
          0.08506011531901254,
          -0.8547147480819477,
          -0.7204312787653878,
          -0.039094472956882925,
          -0.306137105264289,
          -0.8344009365048191,
          0.13535301521147083,
          -0.8283555023916389,
          -0.7973589036187494,
          1.1369156532973328,
          -1.328315718983907,
          -0.6568392130142585,
          1.1561297285387147,
          0.953963875943174,
          -1.062546705484463,
          0.08539834004759192,
          1.0585663812056834,
          1.5006524862397377,
          0.7745946184928068,
          0.7709781741351236,
          0.8338994516524423,
          1.2961235604570673,
          -0.9710057414232227,
          -0.8847467703001386,
          -0.4187113997406095,
          1.0460439760826432,
          -0.9373159641955019,
          -0.5492720387659955,
          0.47069645294559564,
          0.16841305338823723,
          1.1898817064825413,
          -0.8492091456092316,
          1.253437451838229,
          -0.8584099945204916,
          0.271785174784366,
          0.44567543265602416,
          -0.30493482411270234,
          -0.3622017499663367,
          -0.0013402626774660115,
          0.49563437905496416,
          0.5950518788051358,
          0.37312924915101503,
          0.5426054358810104,
          -0.7524959012615273,
          0.5889927538589135,
          0.4799071519312719,
          0.5965723664828669,
          0.5801750564394356,
          -0.8319916027499397,
          -0.824521239588968,
          0.6490105784318367,
          -0.7731431830232693,
          0.48867521026395805,
          0.15167890251578758
         ],
         "yaxis": "y",
         "type": "scatter"
        },
        {
         "customdata": [
          [
           "A Speck of Light - Reimagined",
           "Lights & Motion",
           "lights-and-motion"
          ],
          [
           "A Speck of Light",
           "Lights & Motion",
           "lights-and-motion"
          ],
          [
           "All the Way",
           "Lights & Motion",
           "lights-and-motion"
          ],
          [
           "Anamorphic",
           "Lights & Motion",
           "lights-and-motion"
          ],
          [
           "Anchor",
           "Lights & Motion",
           "lights-and-motion"
          ],
          [
           "Anomaly",
           "Lights & Motion",
           "lights-and-motion"
          ],
          [
           "Antlers",
           "Lights & Motion",
           "lights-and-motion"
          ],
          [
           "Arms Wide Open",
           "Lights & Motion",
           "lights-and-motion"
          ],
          [
           "As the World Goes Away",
           "Lights & Motion",
           "lights-and-motion"
          ],
          [
           "As They Sleep",
           "Lights & Motion",
           "lights-and-motion"
          ],
          [
           "Aurora",
           "Lights & Motion",
           "lights-and-motion"
          ],
          [
           "Deafening Silence",
           "Lights & Motion",
           "lights-and-motion"
          ],
          [
           "DNA",
           "Lights & Motion",
           "lights-and-motion"
          ],
          [
           "Equals",
           "Lights & Motion",
           "lights-and-motion"
          ],
          [
           "Everest",
           "Lights & Motion",
           "lights-and-motion"
          ],
          [
           "Exhale",
           "Lights & Motion",
           "lights-and-motion"
          ],
          [
           "Feathers",
           "Lights & Motion",
           "lights-and-motion"
          ],
          [
           "Fireflies",
           "Lights & Motion",
           "lights-and-motion"
          ],
          [
           "From Dust",
           "Lights & Motion",
           "lights-and-motion"
          ],
          [
           "Glistening - Reimagined",
           "Lights & Motion",
           "lights-and-motion"
          ],
          [
           "Glistening",
           "Lights & Motion",
           "lights-and-motion"
          ],
          [
           "Glow",
           "Lights & Motion",
           "lights-and-motion"
          ],
          [
           "I See You (feat. Frida Sundemo)",
           "Lights & Motion",
           "lights-and-motion"
          ],
          [
           "I See You - Reimagined (feat. Frida Sundemo)",
           "Lights & Motion",
           "lights-and-motion"
          ],
          [
           "Lucid Dreaming",
           "Lights & Motion",
           "lights-and-motion"
          ],
          [
           "Northern Lights",
           "Lights & Motion",
           "lights-and-motion"
          ],
          [
           "Pandora",
           "Lights & Motion",
           "lights-and-motion"
          ],
          [
           "Panic Attack",
           "Lights & Motion",
           "lights-and-motion"
          ],
          [
           "Paper Wings",
           "Lights & Motion",
           "lights-and-motion"
          ],
          [
           "Parachutes",
           "Lights & Motion",
           "lights-and-motion"
          ],
          [
           "Particle Storm",
           "Lights & Motion",
           "lights-and-motion"
          ],
          [
           "Perfect Symmetry",
           "Lights & Motion",
           "lights-and-motion"
          ],
          [
           "Phoenix",
           "Lights & Motion",
           "lights-and-motion"
          ],
          [
           "Reanimation - Revisited 10th Anniversary Edition",
           "Lights & Motion",
           "lights-and-motion"
          ],
          [
           "Reborn",
           "Lights & Motion",
           "lights-and-motion"
          ],
          [
           "Separated Hearts - Reimagined",
           "Lights & Motion",
           "lights-and-motion"
          ],
          [
           "Separated Hearts",
           "Lights & Motion",
           "lights-and-motion"
          ],
          [
           "Silver Lining",
           "Lights & Motion",
           "lights-and-motion"
          ],
          [
           "Sleeping Giant",
           "Lights & Motion",
           "lights-and-motion"
          ],
          [
           "Sypher",
           "Lights & Motion",
           "lights-and-motion"
          ],
          [
           "The First Day",
           "Lights & Motion",
           "lights-and-motion"
          ],
          [
           "The Great Wide Open - Reimagined",
           "Lights & Motion",
           "lights-and-motion"
          ],
          [
           "The Great Wide Open",
           "Lights & Motion",
           "lights-and-motion"
          ],
          [
           "The Moments Before",
           "Lights & Motion",
           "lights-and-motion"
          ],
          [
           "The Spectacular Quiet",
           "Lights & Motion",
           "lights-and-motion"
          ],
          [
           "The World I Remember",
           "Lights & Motion",
           "lights-and-motion"
          ],
          [
           "This Explosion Within",
           "Lights & Motion",
           "lights-and-motion"
          ],
          [
           "Touching Sky",
           "Lights & Motion",
           "lights-and-motion"
          ],
          [
           "We Only Have Forever",
           "Lights & Motion",
           "lights-and-motion"
          ],
          [
           "When Everything Is Falling",
           "Lights & Motion",
           "lights-and-motion"
          ],
          [
           "Wilderness",
           "Lights & Motion",
           "lights-and-motion"
          ],
          [
           "Winter Solstice",
           "Lights & Motion",
           "lights-and-motion"
          ],
          [
           "Wolves (feat. Johan Hasselblom)",
           "Lights & Motion",
           "lights-and-motion"
          ],
          [
           "Wolves - Reimagined (feat. Johan Hasselblom)",
           "Lights & Motion",
           "lights-and-motion"
          ],
          [
           "Woven",
           "Lights & Motion",
           "lights-and-motion"
          ],
          [
           "Year Zero",
           "Lights & Motion",
           "lights-and-motion"
          ]
         ],
         "hovertemplate": "playlist=%{customdata[2]}<br>chord_x=%{x}<br>chord_y=%{y}<br>song_name=%{customdata[0]}<br>artist=%{customdata[1]}<extra></extra>",
         "legendgroup": "lights-and-motion",
         "marker": {
          "color": "#00cc96",
          "symbol": "circle"
         },
         "mode": "markers",
         "name": "lights-and-motion",
         "orientation": "v",
         "showlegend": true,
         "x": [
          0.23031759716653416,
          0.10136493408892198,
          0.999940785184167,
          0.12233241338049662,
          1.081252112431905,
          0.7402211328326527,
          0.38013072267141523,
          0.9049183543606857,
          0.5304780058892087,
          0.32398698023213834,
          0.01802553634064697,
          0.19917858424646864,
          0.1970961327622592,
          0.056264161840196454,
          0.22853692133219866,
          1.0313166415539017,
          0.06746699513821226,
          1.0425890061813705,
          0.9069741029391192,
          1.096631737983826,
          1.290543138646953,
          0.06876206641113913,
          0.21351633125347838,
          0.15666765104380176,
          0.40102667509155393,
          -1.2274834203672609,
          0.0992705166287322,
          1.4740243986429336,
          0.051791704951976124,
          0.011841151048823776,
          0.7076524665568269,
          0.31284140334510296,
          0.027215367845275,
          0.28349973754345914,
          1.2747027344782946,
          0.3280950487644903,
          0.38939600066093166,
          0.07790577106934356,
          0.9248516064518802,
          0.3731634402075039,
          0.15298453283155855,
          1.2288390893478738,
          0.9368959217439905,
          0.9081450481909902,
          0.005975596586456086,
          0.25836085040466344,
          0.12937712762065814,
          0.33507773038096567,
          0.4390890843636315,
          0.5973413879344204,
          0.9519851470888544,
          0.01475005010445972,
          -0.33766999977807305,
          -0.9204989244222768,
          0.9085977191311311,
          1.2012840971232228
         ],
         "xaxis": "x",
         "y": [
          -0.8918500323914305,
          -0.7734243787265127,
          0.3362664933321802,
          -1.0069826360530463,
          -0.7552665257297583,
          -1.2663077289130666,
          0.9533679587811598,
          0.17492734603756993,
          0.7642254374094373,
          -1.2026508664624507,
          -1.0348161262890918,
          -0.46422670099010027,
          0.46416246688458257,
          -0.8099704322064016,
          -0.5304668507717318,
          0.42126546033159634,
          -0.7122468878682804,
          -0.28293209488225507,
          0.1523649884399947,
          0.2510343213511771,
          0.36252352331443405,
          -0.7870198538918394,
          -0.7361105192017847,
          -0.7068443328105559,
          0.9420663243838312,
          0.8629393332315751,
          0.7737606019157957,
          0.7117034470640242,
          -0.7571714439028724,
          -0.7665824100507563,
          -0.9268929195980126,
          0.7587572106803894,
          0.9704015754752157,
          -0.6053327754370766,
          -0.1255507069639975,
          0.71068037409539,
          0.48003798359809596,
          -0.7004981103511096,
          0.24437322010578044,
          0.6946653701982362,
          -0.6350123828523835,
          -0.48998122014486956,
          -0.2261374642168067,
          -0.08173586747330418,
          -0.8199158504420496,
          -0.6851122109569164,
          -0.5570190278133577,
          -1.1147328589003587,
          0.8776942452324431,
          0.6783417666417739,
          0.09737718970055396,
          -0.7589505809623847,
          -0.8383676684891446,
          -0.6928556139383654,
          0.20970896051604623,
          1.1010386681852817
         ],
         "yaxis": "y",
         "type": "scatter"
        },
        {
         "customdata": [
          [
           "Another Wave from You",
           "M83",
           "m83"
          ],
          [
           "Claudia Lewis",
           "M83",
           "m83"
          ],
          [
           "Echoes of Mine",
           "M83",
           "m83"
          ],
          [
           "Fountains",
           "M83",
           "m83"
          ],
          [
           "Intro",
           "M83",
           "m83"
          ],
          [
           "Klaus I Love You",
           "M83",
           "m83"
          ],
          [
           "Midnight City",
           "M83",
           "m83"
          ],
          [
           "My Tears Are Becoming a Sea",
           "M83",
           "m83"
          ],
          [
           "New Map",
           "M83",
           "m83"
          ],
          [
           "Ok Pal",
           "M83",
           "m83"
          ],
          [
           "Outro",
           "M83",
           "m83"
          ],
          [
           "Raconte-moi une histoire",
           "M83",
           "m83"
          ],
          [
           "Reunion",
           "M83",
           "m83"
          ],
          [
           "Soon, My Friend",
           "M83",
           "m83"
          ],
          [
           "Splendor",
           "M83",
           "m83"
          ],
          [
           "Steve Mcqueen",
           "M83",
           "m83"
          ],
          [
           "This Bright Flash",
           "M83",
           "m83"
          ],
          [
           "Train to Pluton",
           "M83",
           "m83"
          ],
          [
           "Wait",
           "M83",
           "m83"
          ],
          [
           "When Will You Come Home",
           "M83",
           "m83"
          ],
          [
           "Where the Boats Go",
           "M83",
           "m83"
          ],
          [
           "Year One, One Ufo",
           "M83",
           "m83"
          ],
          [
           "Ashes of Our Fathers",
           "M83",
           "m83"
          ],
          [
           "Canyon Battle",
           "M83",
           "m83"
          ],
          [
           "Earth 2077",
           "M83",
           "m83"
          ],
          [
           "Fearful Odds",
           "M83",
           "m83"
          ],
          [
           "I'm Sending You Away",
           "M83",
           "m83"
          ],
          [
           "Jack's Dream",
           "M83",
           "m83"
          ],
          [
           "Losing Control",
           "M83",
           "m83"
          ],
          [
           "Odyssey Rescue",
           "M83",
           "m83"
          ],
          [
           "Radiation Zone",
           "M83",
           "m83"
          ],
          [
           "Raven Rock",
           "M83",
           "m83"
          ],
          [
           "StarWaves",
           "M83",
           "m83"
          ],
          [
           "Tech 49",
           "M83",
           "m83"
          ],
          [
           "Temples of Our Gods",
           "M83",
           "m83"
          ],
          [
           "Undimmed by Time, Unbound by Death",
           "M83",
           "m83"
          ],
          [
           "Waking Up",
           "M83",
           "m83"
          ],
          [
           "You Can't Save Her",
           "M83",
           "m83"
          ],
          [
           "Oblivion",
           "M83",
           "m83"
          ]
         ],
         "hovertemplate": "playlist=%{customdata[2]}<br>chord_x=%{x}<br>chord_y=%{y}<br>song_name=%{customdata[0]}<br>artist=%{customdata[1]}<extra></extra>",
         "legendgroup": "m83",
         "marker": {
          "color": "#ab63fa",
          "symbol": "circle"
         },
         "mode": "markers",
         "name": "m83",
         "orientation": "v",
         "showlegend": true,
         "x": [
          -1.3902091519071733,
          0.6518414736549525,
          0.6557047036484146,
          -0.3966689725283814,
          -0.09346680260003809,
          0.25007252089213017,
          0.45645050012319366,
          0.45073288147736507,
          0.3707690760634046,
          0.15188735586226768,
          0.8912565864912855,
          -0.7201784074050622,
          0.6167798972240547,
          0.014843375895524275,
          0.7326811015604123,
          0.62592312126222,
          0.729890283844186,
          0.06484666553989492,
          1.0387235640304806,
          -0.9091319805469015,
          -0.5589381551379694,
          0.4335914236341191,
          0.12213139212700126,
          0.7166428784621189,
          0.24107786540154338,
          -1.1691293510581169,
          1.0465741020975776,
          -0.9227157742997437,
          0.1908967147382705,
          1.010809298415331,
          1.2679867606781856,
          -1.4317315633441503,
          -0.7124136824203159,
          0.4386495815220483,
          -0.30960615009695414,
          -1.026282383306647,
          -0.20822684607767863,
          -0.8069065630846617,
          0.537344258347131
         ],
         "xaxis": "x",
         "y": [
          0.7472533730552948,
          -0.7308369454885073,
          -1.0081820601438631,
          1.4117307749383103,
          1.2577104946763686,
          0.6031286251000282,
          0.43376728686695665,
          1.098727379585184,
          0.4140073306877854,
          0.5621653760166583,
          0.10802514084084912,
          -0.2550098909680943,
          -0.3937991706859178,
          -0.7312341051436291,
          0.46030233317481833,
          0.3988230415144275,
          -0.7856102823891402,
          -0.6611234686023103,
          0.04822523189745002,
          0.5556654396827492,
          0.8221645141142233,
          0.8676239425601707,
          0.4544872669379105,
          -0.44454550163921464,
          0.17622229966199474,
          -0.34700872103287805,
          -0.40798256690873347,
          0.4653961120409625,
          0.38703118438562484,
          -0.6743476170124916,
          -0.2402506741245224,
          -0.22629855599856086,
          -0.9608209702088608,
          0.1518461934038252,
          -1.0092406169572061,
          0.4503185838605534,
          -1.1116409900724444,
          0.880795721514883,
          0.014780865338872375
         ],
         "yaxis": "y",
         "type": "scatter"
        },
        {
         "customdata": [
          [
           "A Moment Apart",
           "ODESZA",
           "odesza"
          ],
          [
           "Across The Room (feat. Leon Bridges)",
           "ODESZA",
           "odesza"
          ],
          [
           "Boy",
           "ODESZA",
           "odesza"
          ],
          [
           "Corners Of The Earth (feat. RY X)",
           "ODESZA",
           "odesza"
          ],
          [
           "Divide (feat. Kelsey Bulkin)",
           "ODESZA",
           "odesza"
          ],
          [
           "Everything At Your Feet (feat. The Chamanas)",
           "ODESZA",
           "odesza"
          ],
          [
           "Falls (feat. Sasha Alex Sloan)",
           "ODESZA",
           "odesza"
          ],
          [
           "Falls (Reprise) (feat. Sasha Alex Sloan)",
           "ODESZA",
           "odesza"
          ],
          [
           "Falls (Reprise) - Instrumental",
           "ODESZA",
           "odesza"
          ],
          [
           "Higher Ground (feat. Naomi Wild)",
           "ODESZA",
           "odesza"
          ],
          [
           "Higher Ground (Reprise) (feat. Naomi Wild)",
           "ODESZA",
           "odesza"
          ],
          [
           "Higher Ground (Reprise) - Instrumental",
           "ODESZA",
           "odesza"
          ],
          [
           "Intro",
           "ODESZA",
           "odesza"
          ],
          [
           "It’s Only (feat. Zyra) - ODESZA VIP Remix",
           "ODESZA",
           "odesza"
          ],
          [
           "Just A Memory (feat. Regina Spektor)",
           "ODESZA",
           "odesza"
          ],
          [
           "La Ciudad",
           "ODESZA",
           "odesza"
          ],
          [
           "Late Night",
           "ODESZA",
           "odesza"
          ],
          [
           "Line Of Sight (feat. WYNNE & Mansionair)",
           "ODESZA",
           "odesza"
          ],
          [
           "Line Of Sight (Reprise) (feat. WYNNE & Mansionair)",
           "ODESZA",
           "odesza"
          ],
          [
           "Line Of Sight (Reprise) - Instrumental",
           "ODESZA",
           "odesza"
          ],
          [
           "Loyal",
           "ODESZA",
           "odesza"
          ],
          [
           "Memories That You Call (feat. Monsoonsiren) - ODESZA & Golden Features VIP Remix",
           "ODESZA",
           "odesza"
          ],
          [
           "Meridian",
           "ODESZA",
           "odesza"
          ],
          [
           "Show Me",
           "ODESZA",
           "odesza"
          ],
          [
           "Thin Floors And Tall Ceilings",
           "ODESZA",
           "odesza"
          ]
         ],
         "hovertemplate": "playlist=%{customdata[2]}<br>chord_x=%{x}<br>chord_y=%{y}<br>song_name=%{customdata[0]}<br>artist=%{customdata[1]}<extra></extra>",
         "legendgroup": "odesza",
         "marker": {
          "color": "#FFA15A",
          "symbol": "circle"
         },
         "mode": "markers",
         "name": "odesza",
         "orientation": "v",
         "showlegend": true,
         "x": [
          -0.4175507565878647,
          -0.8336329742753675,
          0.9885877313839811,
          0.8913006432346949,
          0.32164500626949605,
          0.8501472136285885,
          1.707089021742641,
          -0.5605640456860048,
          -0.6444273712143948,
          0.11777717710815624,
          -0.7457451405889731,
          -0.8118821934209068,
          0.393369695062802,
          0.4296056839056127,
          0.5286104957728699,
          0.9996018992031919,
          0.7039477812564943,
          -0.28205414799413775,
          -1.004974307859135,
          -0.9491324986837517,
          0.6184566133546543,
          1.2506888090871624,
          0.14300228468882514,
          0.547351373775399,
          -0.588149306085093
         ],
         "xaxis": "x",
         "y": [
          -1.1459691737364461,
          1.2165455293751481,
          -0.19785219305266286,
          0.8756395957169918,
          -0.657205296855806,
          -0.10440293622665078,
          -0.4378031731829661,
          1.201593834235373,
          1.4563799057781812,
          0.6428003539745948,
          1.4740173401168999,
          1.5936792594795766,
          0.41299603503282495,
          0.2601233907795671,
          -1.0043334344961863,
          0.3819096785650671,
          0.10970387184644813,
          -1.0584893359247896,
          0.223721721460589,
          0.28380559688988116,
          0.5375760978657376,
          -0.167536201965794,
          0.37840350565603503,
          0.45557730646201333,
          -0.8834407634564286
         ],
         "yaxis": "y",
         "type": "scatter"
        },
        {
         "customdata": [
          [
           "April 10, 2019- Powehi - Image of a Black Hole",
           "Sleeping At Last",
           "sleeping-at-last"
          ],
          [
           "August 12, 2018- Perseid Meteor Shower",
           "Sleeping At Last",
           "sleeping-at-last"
          ],
          [
           "August 21, 2017- Total Solar Eclipse",
           "Sleeping At Last",
           "sleeping-at-last"
          ],
          [
           "December 13, 2017- Geminid Meteor Shower",
           "Sleeping At Last",
           "sleeping-at-last"
          ],
          [
           "December 17, 2018- Farout",
           "Sleeping At Last",
           "sleeping-at-last"
          ],
          [
           "December 21, 2020- The Great Conjunction",
           "Sleeping At Last",
           "sleeping-at-last"
          ],
          [
           "December 25, 2021- Webb Space Telescope - Launch",
           "Sleeping At Last",
           "sleeping-at-last"
          ],
          [
           "February 1, 2023- C2022 E3 - Comet Ztf",
           "Sleeping At Last",
           "sleeping-at-last"
          ],
          [
           "February 13, 2019- Opportunity - Mission Complete",
           "Sleeping At Last",
           "sleeping-at-last"
          ],
          [
           "February 18, 2021- Perseverance - Mars Landing",
           "Sleeping At Last",
           "sleeping-at-last"
          ],
          [
           "January 30, 2020- Spitzer - Final Voyage",
           "Sleeping At Last",
           "sleeping-at-last"
          ],
          [
           "January 31, 2018- Super Blue Blood Moon",
           "Sleeping At Last",
           "sleeping-at-last"
          ],
          [
           "July 22, 2020- C  2020 F3 - Comet Neowise",
           "Sleeping At Last",
           "sleeping-at-last"
          ],
          [
           "July 27, 2018- Total Lunar Eclipse",
           "Sleeping At Last",
           "sleeping-at-last"
          ],
          [
           "July 4, 2020- Aphelion",
           "Sleeping At Last",
           "sleeping-at-last"
          ],
          [
           "June 24, 2022- Parade of Planets",
           "Sleeping At Last",
           "sleeping-at-last"
          ],
          [
           "June 30, 2018- Pds 70b (Birth of a Planet)",
           "Sleeping At Last",
           "sleeping-at-last"
          ],
          [
           "October 30, 2018- Kepler - Goodnight",
           "Sleeping At Last",
           "sleeping-at-last"
          ],
          [
           "September 15, 2017- Cassini - The Grand Finale",
           "Sleeping At Last",
           "sleeping-at-last"
          ]
         ],
         "hovertemplate": "playlist=%{customdata[2]}<br>chord_x=%{x}<br>chord_y=%{y}<br>song_name=%{customdata[0]}<br>artist=%{customdata[1]}<extra></extra>",
         "legendgroup": "sleeping-at-last",
         "marker": {
          "color": "#19d3f3",
          "symbol": "circle"
         },
         "mode": "markers",
         "name": "sleeping-at-last",
         "orientation": "v",
         "showlegend": true,
         "x": [
          0.7283024730225568,
          0.18398429798833635,
          -0.8793094044303997,
          -0.7886129983205578,
          0.15548157225296533,
          -0.9356138663041901,
          1.0801606869244227,
          -0.9880808237130886,
          1.2580087112288505,
          -0.773049201217028,
          0.25520368897040374,
          0.19118374142850122,
          0.4612324693645674,
          -1.4791841911562174,
          -0.14203005730380017,
          -0.21590938473523483,
          -0.1266845991648814,
          -1.0104334116669378,
          -1.1782321234875333
         ],
         "xaxis": "x",
         "y": [
          -0.6154920618336788,
          1.128539564140038,
          1.005009858005452,
          0.5470293901043759,
          -0.8780419632096356,
          -0.2024778583759986,
          0.23327275250153945,
          -0.07047737627815877,
          -0.0060285920814941015,
          0.6101037451268042,
          -0.9182334487909873,
          -0.8529178712759438,
          1.131328492385211,
          0.16344569223354946,
          -0.48260017272628225,
          1.2412899628411274,
          0.7301108438725172,
          -0.14081475212648842,
          -0.7388858827751398
         ],
         "yaxis": "y",
         "type": "scatter"
        },
        {
         "customdata": [
          [
           "It's Ok If You Forget Me",
           "Astrid S",
           "synth-pop"
          ],
          [
           "Young & Alive",
           "Bazzi",
           "synth-pop"
          ],
          [
           "Paralyze",
           "Bjørnskov",
           "synth-pop"
          ],
          [
           "San Diego",
           "BRDGS",
           "synth-pop"
          ],
          [
           "Ear Candy",
           "Caye",
           "synth-pop"
          ],
          [
           "12 Hours",
           "Chris James",
           "synth-pop"
          ],
          [
           "My Universe",
           "Coldplay",
           "synth-pop"
          ],
          [
           "Overdrive",
           "Conan Gray",
           "synth-pop"
          ],
          [
           "Titanic",
           "Cosmo's Midnight",
           "synth-pop"
          ],
          [
           "Champagne For Two",
           "Devin Kennedy",
           "synth-pop"
          ],
          [
           "Another Round",
           "Elina",
           "synth-pop"
          ],
          [
           "How",
           "Elina",
           "synth-pop"
          ],
          [
           "Paper Planes",
           "Elina",
           "synth-pop"
          ],
          [
           "Nirvana",
           "ELLIANA",
           "synth-pop"
          ],
          [
           "Lost In Space",
           "Emmit Fenn",
           "synth-pop"
          ],
          [
           "12-45 - Stripped",
           "Etham",
           "synth-pop"
          ],
          [
           "Purpose - Stripped",
           "Etham",
           "synth-pop"
          ],
          [
           "California",
           "Ethan Dufault",
           "synth-pop"
          ],
          [
           "Hurt The Ones We Love The Most",
           "Evan Blum",
           "synth-pop"
          ],
          [
           "Young Love",
           "Falcon",
           "synth-pop"
          ],
          [
           "I Should've Told You",
           "Fiji Blue",
           "synth-pop"
          ],
          [
           "Waves",
           "Fiji Blue",
           "synth-pop"
          ],
          [
           "Healing",
           "FLETCHER",
           "synth-pop"
          ],
          [
           "hold on",
           "flor",
           "synth-pop"
          ],
          [
           "Automatic (feat. Jake Miller)",
           "Fly By Midnight",
           "synth-pop"
          ],
          [
           "Lovely",
           "Fly By Midnight",
           "synth-pop"
          ],
          [
           "Lonely",
           "Gatsby",
           "synth-pop"
          ],
          [
           "dear me,",
           "Gentle Bones",
           "synth-pop"
          ],
          [
           "I Wouldn't Know Any Better Than You",
           "Gentle Bones",
           "synth-pop"
          ],
          [
           "So Far So Good",
           "Great Good Fine Ok",
           "synth-pop"
          ],
          [
           "Falling",
           "Harry Styles",
           "synth-pop"
          ],
          [
           "sometimes",
           "Heather Sommer",
           "synth-pop"
          ],
          [
           "you heard me",
           "Heather Sommer",
           "synth-pop"
          ],
          [
           "Crying Over You ◐",
           "HONNE",
           "synth-pop"
          ],
          [
           "Day Dreaming",
           "Jack & Jack",
           "synth-pop"
          ],
          [
           "Ross And Rachel",
           "Jake Miller",
           "synth-pop"
          ],
          [
           "Showing You Off",
           "Jake Miller",
           "synth-pop"
          ],
          [
           "Like No One Does",
           "Jake Scott",
           "synth-pop"
          ],
          [
           "CWJBHN",
           "Jake Scott",
           "synth-pop"
          ],
          [
           "drive all night",
           "joan",
           "synth-pop"
          ],
          [
           "i loved you first",
           "joan",
           "synth-pop"
          ],
          [
           "love somebody like you",
           "joan",
           "synth-pop"
          ],
          [
           "magnetic",
           "joan",
           "synth-pop"
          ],
          [
           "6 months",
           "John K",
           "synth-pop"
          ],
          [
           "ilym (feat. ROSIE)",
           "John K",
           "synth-pop"
          ],
          [
           "I Believe",
           "Jonas Brothers",
           "synth-pop"
          ],
          [
           "I Quit Drinking",
           "Kelsea Ballerini",
           "synth-pop"
          ],
          [
           "13",
           "LANY",
           "synth-pop"
          ],
          [
           "dancing in the kitchen",
           "LANY",
           "synth-pop"
          ],
          [
           "dna",
           "LANY",
           "synth-pop"
          ],
          [
           "get away",
           "LANY",
           "synth-pop"
          ],
          [
           "I Don't Wanna Love You Anymore",
           "LANY",
           "synth-pop"
          ],
          [
           "if this is the last time",
           "LANY",
           "synth-pop"
          ],
          [
           "ILYSB - STRIPPED",
           "LANY",
           "synth-pop"
          ],
          [
           "ILYSB",
           "LANY",
           "synth-pop"
          ],
          [
           "Let Me Know",
           "LANY",
           "synth-pop"
          ],
          [
           "Malibu Nights",
           "LANY",
           "synth-pop"
          ],
          [
           "Super Far",
           "LANY",
           "synth-pop"
          ],
          [
           "Thru These Tears",
           "LANY",
           "synth-pop"
          ],
          [
           "up to me",
           "LANY",
           "synth-pop"
          ],
          [
           "you!",
           "LANY",
           "synth-pop"
          ],
          [
           "Tattoos Together",
           "Lauv",
           "synth-pop"
          ],
          [
           "When We Were Younger",
           "Loving Caliber",
           "synth-pop"
          ],
          [
           "Love You Back",
           "Madeon",
           "synth-pop"
          ],
          [
           "colorblind",
           "Mokita",
           "synth-pop"
          ],
          [
           "London",
           "Mokita",
           "synth-pop"
          ],
          [
           "Ready Yet",
           "Mokita",
           "synth-pop"
          ],
          [
           "Shut Up I Love U",
           "Neptune",
           "synth-pop"
          ],
          [
           "This Is Heaven",
           "Nick Jonas",
           "synth-pop"
          ],
          [
           "Plot Twist",
           "NIKI",
           "synth-pop"
          ],
          [
           "Waves",
           "Paige",
           "synth-pop"
          ],
          [
           "Shelter",
           "Porter Robinson",
           "synth-pop"
          ],
          [
           "Outsider",
           "Rachel Grae",
           "synth-pop"
          ],
          [
           "Dandelions",
           "Ruth B.",
           "synth-pop"
          ],
          [
           "Lie",
           "Sasha Alex Sloan",
           "synth-pop"
          ],
          [
           "Day Dreaming",
           "Sopha",
           "synth-pop"
          ],
          [
           "I Always Wanna Die (Sometimes)",
           "The 1975",
           "synth-pop"
          ],
          [
           "I'm In Love With You",
           "The 1975",
           "synth-pop"
          ],
          [
           "It's Not Living (If It's Not With You)",
           "The 1975",
           "synth-pop"
          ],
          [
           "Robbers",
           "The 1975",
           "synth-pop"
          ],
          [
           "She's American",
           "The 1975",
           "synth-pop"
          ],
          [
           "Somebody Else",
           "The 1975",
           "synth-pop"
          ],
          [
           "Going Home",
           "The Aces",
           "synth-pop"
          ],
          [
           "Sunset",
           "The Midnight",
           "synth-pop"
          ],
          [
           "Say So",
           "The Sam Willows",
           "synth-pop"
          ],
          [
           "I Can't Stop Thinking About You",
           "The Shadowboxers",
           "synth-pop"
          ],
          [
           "Strawberries & Cigarettes",
           "Troye Sivan",
           "synth-pop"
          ],
          [
           "If Only for Tonight",
           "Vacation Manor",
           "synth-pop"
          ],
          [
           "rocket science",
           "vaultboy",
           "synth-pop"
          ],
          [
           "no excuses",
           "Virginia To Vegas",
           "synth-pop"
          ],
          [
           "Got A Little Crush On You",
           "Wildflowers",
           "synth-pop"
          ],
          [
           "Talking To Myself",
           "Will Jay",
           "synth-pop"
          ],
          [
           "Dance Like Nobody's Watching",
           "Yuna",
           "synth-pop"
          ],
          [
           "dancing in the kitchen",
           "Zachary Knowles",
           "synth-pop"
          ],
          [
           "stranger to me",
           "Zachary Knowles",
           "synth-pop"
          ],
          [
           "could you love me while i hate myself",
           "Zeph",
           "synth-pop"
          ]
         ],
         "hovertemplate": "playlist=%{customdata[2]}<br>chord_x=%{x}<br>chord_y=%{y}<br>song_name=%{customdata[0]}<br>artist=%{customdata[1]}<extra></extra>",
         "legendgroup": "synth-pop",
         "marker": {
          "color": "#FF6692",
          "symbol": "circle"
         },
         "mode": "markers",
         "name": "synth-pop",
         "orientation": "v",
         "showlegend": true,
         "x": [
          0.04311020131083447,
          -1.3718916304567976,
          1.24954728508469,
          0.21650170565282903,
          0.2124010165610426,
          -0.7964124542332732,
          0.2024533988029429,
          0.5045444052011328,
          0.810015018178466,
          0.8983089922144029,
          1.0515210934835202,
          -0.716006459940534,
          -0.7016505702852031,
          0.16528737805046692,
          -0.8631052423132973,
          -0.26532370873114525,
          -1.422586196830183,
          0.3892789832478437,
          0.3266761367226217,
          -0.5523266715547067,
          -1.0437428594630564,
          0.5519328404262752,
          0.990460151094239,
          0.8036026896430833,
          -0.6351499105748503,
          0.16853879217884282,
          -0.8296643728207652,
          -0.04365353230505049,
          0.9654923046618517,
          -0.1013081555582743,
          0.4117549971604634,
          0.36219152114155534,
          0.9062837517042421,
          0.8794223781099318,
          -0.46934757590144616,
          0.5493772255773534,
          0.3832058847676078,
          -1.1158743313766961,
          -1.027221957589167,
          0.3213110498604076,
          0.6095254410760919,
          0.8581702398638693,
          -0.8187248281479343,
          -1.1723871971851645,
          0.40666374760462654,
          0.23184590793155452,
          -0.8343315284680574,
          1.0514160861505757,
          0.16242376336168066,
          0.19188479765299588,
          -1.3067313411320767,
          0.11751249964248,
          -0.01038433722353084,
          0.03188990830426182,
          -0.6442756157177796,
          0.3465361842831612,
          0.27362741091749226,
          -0.12004781925526872,
          0.3399032589741455,
          -0.3874000692628168,
          -0.4106254399190519,
          0.9536745616592703,
          -0.9716631344050213,
          0.2867482618296847,
          -0.9022625464070402,
          -0.11955685982400441,
          0.7978037591370565,
          0.22200752492735196,
          0.21744855083354994,
          -0.11885645868624072,
          0.3454399394511029,
          0.6330431152871047,
          -0.9062606229794331,
          -0.3894108686290495,
          -0.17438544192377142,
          -0.21316881320017309,
          0.5592462635731155,
          0.9960139858858419,
          0.17171175276522865,
          0.23306908475494317,
          -0.96648486511028,
          0.19381695601997098,
          0.9125452681037626,
          0.806064586107018,
          1.1000122745598806,
          0.8917379892222597,
          0.3096882761797813,
          -0.4484991231988349,
          -1.0206457651418965,
          0.2403448111551878,
          0.977858005992926,
          0.029764417176421327,
          -0.24927163124979454,
          0.8738257001771238,
          0.027256915780004613,
          0.4236435549397679
         ],
         "xaxis": "x",
         "y": [
          1.3878529837993367,
          -0.28743914757895356,
          -0.30016379360009704,
          0.4968718007495096,
          -0.29275374907759655,
          -0.6436874731549164,
          0.5695176252328785,
          -1.0370005881156947,
          -0.2947120955554678,
          -0.4838613669964616,
          0.5001924139376303,
          0.8781810674845653,
          0.6229075866558615,
          0.962521459752628,
          -0.09249476451118332,
          -1.2969319199241818,
          -0.004470893494226912,
          0.6119107699270455,
          0.5340695639000053,
          -0.24881671967737604,
          -0.0705120700522972,
          0.6180015549103968,
          0.04652474626165201,
          0.950932197241948,
          0.6916103440210496,
          -0.5778545839154557,
          -0.21705941081648825,
          1.097481573546008,
          0.7442920335676135,
          -0.9291387133631803,
          1.1181474385396064,
          0.5785653562912401,
          0.4131091652393753,
          0.285491596941498,
          -1.7055446580195877,
          0.4455701351534192,
          1.3812726661687456,
          -0.5001687857782688,
          -0.6900611298766026,
          0.43772574304019557,
          -1.1649093176924281,
          -0.5577062772419534,
          -0.8494070272448543,
          -0.5513402115817575,
          0.9791356257981932,
          0.4844916058446685,
          0.6309332738536781,
          0.8687199487525334,
          1.0630002995483896,
          0.7040296839513172,
          -0.6045936755024118,
          -0.7210421211928001,
          1.1699857146184405,
          -0.735583447708651,
          -1.021588687952459,
          0.4464490891545123,
          1.1733492088338546,
          0.439214414210078,
          1.251521887218642,
          0.35528846858675267,
          -1.3251272625832908,
          0.07072437177149044,
          -0.30065745557897977,
          0.7994373965585402,
          0.8751506835427377,
          1.1155115055603666,
          0.08181770866635137,
          0.5386084703075279,
          -1.033743666161941,
          1.1312987191549198,
          0.6386512740206323,
          -0.730860260358285,
          0.022647128708439775,
          0.9030659402718686,
          0.4196252737795016,
          0.749792888990368,
          0.9704356372785585,
          0.45592253615505846,
          0.3694748505498746,
          0.46760935634060813,
          0.7535628130523763,
          -0.8900177242862918,
          0.39161788917975265,
          -0.5461046887377204,
          0.2344091164658849,
          0.2760175667577534,
          0.44839445583130977,
          1.036751910923423,
          -0.8728254405398566,
          0.44404989716987686,
          0.46735087925389424,
          -0.5486748581640043,
          -0.13883295760479014,
          0.09104883268506755,
          1.2779851119217194,
          0.465405580923326
         ],
         "yaxis": "y",
         "type": "scatter"
        },
        {
         "customdata": [
          [
           "Allure",
           "Tony Anderson",
           "tony-anderson"
          ],
          [
           "Aurora",
           "Tony Anderson",
           "tony-anderson"
          ],
          [
           "Chasm",
           "Tony Anderson",
           "tony-anderson"
          ],
          [
           "Darkest Night",
           "Tony Anderson",
           "tony-anderson"
          ],
          [
           "Deep Waters - Original Sketch",
           "Tony Anderson",
           "tony-anderson"
          ],
          [
           "Deep Waters",
           "Tony Anderson",
           "tony-anderson"
          ],
          [
           "Delusion",
           "Tony Anderson",
           "tony-anderson"
          ],
          [
           "Eyes Wide Open - Cinematic Mix",
           "Tony Anderson",
           "tony-anderson"
          ],
          [
           "Eyes Wide Open",
           "Tony Anderson",
           "tony-anderson"
          ],
          [
           "Face of the Father",
           "Tony Anderson",
           "tony-anderson"
          ],
          [
           "Farthest Seas",
           "Tony Anderson",
           "tony-anderson"
          ],
          [
           "Finding Your Heart",
           "Tony Anderson",
           "tony-anderson"
          ],
          [
           "Halo",
           "Tony Anderson",
           "tony-anderson"
          ],
          [
           "High Tide",
           "Tony Anderson",
           "tony-anderson"
          ],
          [
           "Immanuel",
           "Tony Anderson",
           "tony-anderson"
          ],
          [
           "Immersion",
           "Tony Anderson",
           "tony-anderson"
          ],
          [
           "In the Distance",
           "Tony Anderson",
           "tony-anderson"
          ],
          [
           "Incision",
           "Tony Anderson",
           "tony-anderson"
          ],
          [
           "Like a Child - Cinematic Mix",
           "Tony Anderson",
           "tony-anderson"
          ],
          [
           "Low Tide",
           "Tony Anderson",
           "tony-anderson"
          ],
          [
           "Lune",
           "Tony Anderson",
           "tony-anderson"
          ],
          [
           "Morning's Wings",
           "Tony Anderson",
           "tony-anderson"
          ],
          [
           "Nightingale",
           "Tony Anderson",
           "tony-anderson"
          ],
          [
           "No Place on Earth",
           "Tony Anderson",
           "tony-anderson"
          ],
          [
           "Nocturne in Paris",
           "Tony Anderson",
           "tony-anderson"
          ],
          [
           "Perennial",
           "Tony Anderson",
           "tony-anderson"
          ],
          [
           "Resurrect",
           "Tony Anderson",
           "tony-anderson"
          ],
          [
           "Retour",
           "Tony Anderson",
           "tony-anderson"
          ],
          [
           "Shalom",
           "Tony Anderson",
           "tony-anderson"
          ],
          [
           "Slipstream",
           "Tony Anderson",
           "tony-anderson"
          ],
          [
           "Something Can Grow",
           "Tony Anderson",
           "tony-anderson"
          ],
          [
           "Spiriteaux",
           "Tony Anderson",
           "tony-anderson"
          ],
          [
           "The King",
           "Tony Anderson",
           "tony-anderson"
          ],
          [
           "The Way Home",
           "Tony Anderson",
           "tony-anderson"
          ],
          [
           "Thin Place - Abbreviated",
           "Tony Anderson",
           "tony-anderson"
          ],
          [
           "Thin Place",
           "Tony Anderson",
           "tony-anderson"
          ],
          [
           "We Are One",
           "Tony Anderson",
           "tony-anderson"
          ],
          [
           "Wir Sind Gleich",
           "Tony Anderson",
           "tony-anderson"
          ],
          [
           "Younger",
           "Tony Anderson",
           "tony-anderson"
          ],
          [
           "Éclosion",
           "Tony Anderson",
           "tony-anderson"
          ],
          [
           "Éphémère",
           "Tony Anderson",
           "tony-anderson"
          ],
          [
           "Arpège",
           "Tony Anderson",
           "tony-anderson"
          ],
          [
           "Nuit",
           "Tony Anderson",
           "tony-anderson"
          ],
          [
           "Tenderness - Woven Remix",
           "Tony Anderson",
           "tony-anderson"
          ],
          [
           "Tenderness",
           "Tony Anderson",
           "tony-anderson"
          ],
          [
           "Cambodia - Ross Lara Remix",
           "Tony Anderson",
           "tony-anderson"
          ],
          [
           "Cambodia",
           "Tony Anderson",
           "tony-anderson"
          ],
          [
           "Oyarsa",
           "Tony Anderson",
           "tony-anderson"
          ]
         ],
         "hovertemplate": "playlist=%{customdata[2]}<br>chord_x=%{x}<br>chord_y=%{y}<br>song_name=%{customdata[0]}<br>artist=%{customdata[1]}<extra></extra>",
         "legendgroup": "tony-anderson",
         "marker": {
          "color": "#B6E880",
          "symbol": "circle"
         },
         "mode": "markers",
         "name": "tony-anderson",
         "orientation": "v",
         "showlegend": true,
         "x": [
          -0.04901053326610844,
          0.4088416306964372,
          -0.87753864062944,
          -0.38969763931776114,
          0.9171205575444576,
          0.9830555075657164,
          -0.17696902978019227,
          -1.064605191848282,
          -0.8432758379221976,
          1.1618286307844803,
          -0.9796289810459039,
          0.07249142874987852,
          0.22220293341123484,
          -0.9156275139810696,
          0.2011187446797951,
          0.09850643917728444,
          -0.7974341450509903,
          -0.29149187311960684,
          -1.182050022917847,
          0.8003894024046702,
          0.33436141010270576,
          0.18483315382326487,
          -0.8568297986213022,
          0.198905187579718,
          0.4398540929826955,
          0.37174256433197905,
          0.3402781644775472,
          0.12299166612424149,
          0.06750256380932662,
          -0.08435578100678001,
          0.21384291520362436,
          0.44184090709803964,
          -0.9052148132323437,
          -0.7769666253851627,
          -0.7660788322714838,
          -0.8087277426225988,
          -0.8564296382681112,
          0.36629621572323295,
          0.37498629333364264,
          0.4432680417658181,
          0.04992530898372867,
          0.10477057058418529,
          -0.22659351664488414,
          0.9800685143001051,
          -0.33478023105134014,
          0.07625173461116494,
          0.21621966844723994,
          -1.3048947976269956
         ],
         "xaxis": "x",
         "y": [
          -0.8100817509373042,
          -0.35007318445589125,
          0.019935892280583463,
          -0.8288724269603945,
          -0.7642577675271971,
          -0.5703971904172861,
          -0.7495043681235481,
          -0.2912335798144401,
          -0.5399896811105088,
          -0.33600862361804223,
          -0.2816716282530007,
          -0.7274888790015573,
          0.3594988425331274,
          -0.47526189170345795,
          -0.6229315662685712,
          -0.6304141643115665,
          -0.13921256607512933,
          -1.1764790863537786,
          -0.4711175281501749,
          -0.8399388965980598,
          -0.839883854688773,
          0.400248188137799,
          -0.01335484526631575,
          0.3652603564355726,
          0.1748887921911358,
          -0.7445721801762184,
          -0.8074752235371764,
          0.31307735160235955,
          -0.7975038130001634,
          0.8947043892875388,
          -1.4428072685184332,
          -1.1968864547570839,
          -0.7117854218889543,
          -0.13011154820033877,
          -0.2542312875765119,
          -0.10523189206109457,
          -0.41102228092206716,
          -0.49818784215326,
          -0.8682777895913331,
          0.018098472739805575,
          -1.061009161462758,
          0.24707039894830934,
          -0.6764875756602825,
          -0.5013089213035729,
          -0.43225285593076335,
          0.13875697161029255,
          0.3165897691652059,
          -0.36465026629812697
         ],
         "yaxis": "y",
         "type": "scatter"
        }
       ],
       "layout": {
        "template": {
         "data": {
          "histogram2dcontour": [
           {
            "type": "histogram2dcontour",
            "colorbar": {
             "outlinewidth": 0,
             "ticks": ""
            },
            "colorscale": [
             [
              0.0,
              "#0d0887"
             ],
             [
              0.1111111111111111,
              "#46039f"
             ],
             [
              0.2222222222222222,
              "#7201a8"
             ],
             [
              0.3333333333333333,
              "#9c179e"
             ],
             [
              0.4444444444444444,
              "#bd3786"
             ],
             [
              0.5555555555555556,
              "#d8576b"
             ],
             [
              0.6666666666666666,
              "#ed7953"
             ],
             [
              0.7777777777777778,
              "#fb9f3a"
             ],
             [
              0.8888888888888888,
              "#fdca26"
             ],
             [
              1.0,
              "#f0f921"
             ]
            ]
           }
          ],
          "choropleth": [
           {
            "type": "choropleth",
            "colorbar": {
             "outlinewidth": 0,
             "ticks": ""
            }
           }
          ],
          "histogram2d": [
           {
            "type": "histogram2d",
            "colorbar": {
             "outlinewidth": 0,
             "ticks": ""
            },
            "colorscale": [
             [
              0.0,
              "#0d0887"
             ],
             [
              0.1111111111111111,
              "#46039f"
             ],
             [
              0.2222222222222222,
              "#7201a8"
             ],
             [
              0.3333333333333333,
              "#9c179e"
             ],
             [
              0.4444444444444444,
              "#bd3786"
             ],
             [
              0.5555555555555556,
              "#d8576b"
             ],
             [
              0.6666666666666666,
              "#ed7953"
             ],
             [
              0.7777777777777778,
              "#fb9f3a"
             ],
             [
              0.8888888888888888,
              "#fdca26"
             ],
             [
              1.0,
              "#f0f921"
             ]
            ]
           }
          ],
          "heatmap": [
           {
            "type": "heatmap",
            "colorbar": {
             "outlinewidth": 0,
             "ticks": ""
            },
            "colorscale": [
             [
              0.0,
              "#0d0887"
             ],
             [
              0.1111111111111111,
              "#46039f"
             ],
             [
              0.2222222222222222,
              "#7201a8"
             ],
             [
              0.3333333333333333,
              "#9c179e"
             ],
             [
              0.4444444444444444,
              "#bd3786"
             ],
             [
              0.5555555555555556,
              "#d8576b"
             ],
             [
              0.6666666666666666,
              "#ed7953"
             ],
             [
              0.7777777777777778,
              "#fb9f3a"
             ],
             [
              0.8888888888888888,
              "#fdca26"
             ],
             [
              1.0,
              "#f0f921"
             ]
            ]
           }
          ],
          "heatmapgl": [
           {
            "type": "heatmapgl",
            "colorbar": {
             "outlinewidth": 0,
             "ticks": ""
            },
            "colorscale": [
             [
              0.0,
              "#0d0887"
             ],
             [
              0.1111111111111111,
              "#46039f"
             ],
             [
              0.2222222222222222,
              "#7201a8"
             ],
             [
              0.3333333333333333,
              "#9c179e"
             ],
             [
              0.4444444444444444,
              "#bd3786"
             ],
             [
              0.5555555555555556,
              "#d8576b"
             ],
             [
              0.6666666666666666,
              "#ed7953"
             ],
             [
              0.7777777777777778,
              "#fb9f3a"
             ],
             [
              0.8888888888888888,
              "#fdca26"
             ],
             [
              1.0,
              "#f0f921"
             ]
            ]
           }
          ],
          "contourcarpet": [
           {
            "type": "contourcarpet",
            "colorbar": {
             "outlinewidth": 0,
             "ticks": ""
            }
           }
          ],
          "contour": [
           {
            "type": "contour",
            "colorbar": {
             "outlinewidth": 0,
             "ticks": ""
            },
            "colorscale": [
             [
              0.0,
              "#0d0887"
             ],
             [
              0.1111111111111111,
              "#46039f"
             ],
             [
              0.2222222222222222,
              "#7201a8"
             ],
             [
              0.3333333333333333,
              "#9c179e"
             ],
             [
              0.4444444444444444,
              "#bd3786"
             ],
             [
              0.5555555555555556,
              "#d8576b"
             ],
             [
              0.6666666666666666,
              "#ed7953"
             ],
             [
              0.7777777777777778,
              "#fb9f3a"
             ],
             [
              0.8888888888888888,
              "#fdca26"
             ],
             [
              1.0,
              "#f0f921"
             ]
            ]
           }
          ],
          "surface": [
           {
            "type": "surface",
            "colorbar": {
             "outlinewidth": 0,
             "ticks": ""
            },
            "colorscale": [
             [
              0.0,
              "#0d0887"
             ],
             [
              0.1111111111111111,
              "#46039f"
             ],
             [
              0.2222222222222222,
              "#7201a8"
             ],
             [
              0.3333333333333333,
              "#9c179e"
             ],
             [
              0.4444444444444444,
              "#bd3786"
             ],
             [
              0.5555555555555556,
              "#d8576b"
             ],
             [
              0.6666666666666666,
              "#ed7953"
             ],
             [
              0.7777777777777778,
              "#fb9f3a"
             ],
             [
              0.8888888888888888,
              "#fdca26"
             ],
             [
              1.0,
              "#f0f921"
             ]
            ]
           }
          ],
          "mesh3d": [
           {
            "type": "mesh3d",
            "colorbar": {
             "outlinewidth": 0,
             "ticks": ""
            }
           }
          ],
          "scatter": [
           {
            "marker": {
             "line": {
              "color": "#283442"
             }
            },
            "type": "scatter"
           }
          ],
          "parcoords": [
           {
            "type": "parcoords",
            "line": {
             "colorbar": {
              "outlinewidth": 0,
              "ticks": ""
             }
            }
           }
          ],
          "scatterpolargl": [
           {
            "type": "scatterpolargl",
            "marker": {
             "colorbar": {
              "outlinewidth": 0,
              "ticks": ""
             }
            }
           }
          ],
          "bar": [
           {
            "error_x": {
             "color": "#f2f5fa"
            },
            "error_y": {
             "color": "#f2f5fa"
            },
            "marker": {
             "line": {
              "color": "rgb(17,17,17)",
              "width": 0.5
             },
             "pattern": {
              "fillmode": "overlay",
              "size": 10,
              "solidity": 0.2
             }
            },
            "type": "bar"
           }
          ],
          "scattergeo": [
           {
            "type": "scattergeo",
            "marker": {
             "colorbar": {
              "outlinewidth": 0,
              "ticks": ""
             }
            }
           }
          ],
          "scatterpolar": [
           {
            "type": "scatterpolar",
            "marker": {
             "colorbar": {
              "outlinewidth": 0,
              "ticks": ""
             }
            }
           }
          ],
          "histogram": [
           {
            "marker": {
             "pattern": {
              "fillmode": "overlay",
              "size": 10,
              "solidity": 0.2
             }
            },
            "type": "histogram"
           }
          ],
          "scattergl": [
           {
            "marker": {
             "line": {
              "color": "#283442"
             }
            },
            "type": "scattergl"
           }
          ],
          "scatter3d": [
           {
            "type": "scatter3d",
            "line": {
             "colorbar": {
              "outlinewidth": 0,
              "ticks": ""
             }
            },
            "marker": {
             "colorbar": {
              "outlinewidth": 0,
              "ticks": ""
             }
            }
           }
          ],
          "scattermapbox": [
           {
            "type": "scattermapbox",
            "marker": {
             "colorbar": {
              "outlinewidth": 0,
              "ticks": ""
             }
            }
           }
          ],
          "scatterternary": [
           {
            "type": "scatterternary",
            "marker": {
             "colorbar": {
              "outlinewidth": 0,
              "ticks": ""
             }
            }
           }
          ],
          "scattercarpet": [
           {
            "type": "scattercarpet",
            "marker": {
             "colorbar": {
              "outlinewidth": 0,
              "ticks": ""
             }
            }
           }
          ],
          "carpet": [
           {
            "aaxis": {
             "endlinecolor": "#A2B1C6",
             "gridcolor": "#506784",
             "linecolor": "#506784",
             "minorgridcolor": "#506784",
             "startlinecolor": "#A2B1C6"
            },
            "baxis": {
             "endlinecolor": "#A2B1C6",
             "gridcolor": "#506784",
             "linecolor": "#506784",
             "minorgridcolor": "#506784",
             "startlinecolor": "#A2B1C6"
            },
            "type": "carpet"
           }
          ],
          "table": [
           {
            "cells": {
             "fill": {
              "color": "#506784"
             },
             "line": {
              "color": "rgb(17,17,17)"
             }
            },
            "header": {
             "fill": {
              "color": "#2a3f5f"
             },
             "line": {
              "color": "rgb(17,17,17)"
             }
            },
            "type": "table"
           }
          ],
          "barpolar": [
           {
            "marker": {
             "line": {
              "color": "rgb(17,17,17)",
              "width": 0.5
             },
             "pattern": {
              "fillmode": "overlay",
              "size": 10,
              "solidity": 0.2
             }
            },
            "type": "barpolar"
           }
          ],
          "pie": [
           {
            "automargin": true,
            "type": "pie"
           }
          ]
         },
         "layout": {
          "autotypenumbers": "strict",
          "colorway": [
           "#636efa",
           "#EF553B",
           "#00cc96",
           "#ab63fa",
           "#FFA15A",
           "#19d3f3",
           "#FF6692",
           "#B6E880",
           "#FF97FF",
           "#FECB52"
          ],
          "font": {
           "color": "#f2f5fa"
          },
          "hovermode": "closest",
          "hoverlabel": {
           "align": "left"
          },
          "paper_bgcolor": "rgb(17,17,17)",
          "plot_bgcolor": "rgb(17,17,17)",
          "polar": {
           "bgcolor": "rgb(17,17,17)",
           "angularaxis": {
            "gridcolor": "#506784",
            "linecolor": "#506784",
            "ticks": ""
           },
           "radialaxis": {
            "gridcolor": "#506784",
            "linecolor": "#506784",
            "ticks": ""
           }
          },
          "ternary": {
           "bgcolor": "rgb(17,17,17)",
           "aaxis": {
            "gridcolor": "#506784",
            "linecolor": "#506784",
            "ticks": ""
           },
           "baxis": {
            "gridcolor": "#506784",
            "linecolor": "#506784",
            "ticks": ""
           },
           "caxis": {
            "gridcolor": "#506784",
            "linecolor": "#506784",
            "ticks": ""
           }
          },
          "coloraxis": {
           "colorbar": {
            "outlinewidth": 0,
            "ticks": ""
           }
          },
          "colorscale": {
           "sequential": [
            [
             0.0,
             "#0d0887"
            ],
            [
             0.1111111111111111,
             "#46039f"
            ],
            [
             0.2222222222222222,
             "#7201a8"
            ],
            [
             0.3333333333333333,
             "#9c179e"
            ],
            [
             0.4444444444444444,
             "#bd3786"
            ],
            [
             0.5555555555555556,
             "#d8576b"
            ],
            [
             0.6666666666666666,
             "#ed7953"
            ],
            [
             0.7777777777777778,
             "#fb9f3a"
            ],
            [
             0.8888888888888888,
             "#fdca26"
            ],
            [
             1.0,
             "#f0f921"
            ]
           ],
           "sequentialminus": [
            [
             0.0,
             "#0d0887"
            ],
            [
             0.1111111111111111,
             "#46039f"
            ],
            [
             0.2222222222222222,
             "#7201a8"
            ],
            [
             0.3333333333333333,
             "#9c179e"
            ],
            [
             0.4444444444444444,
             "#bd3786"
            ],
            [
             0.5555555555555556,
             "#d8576b"
            ],
            [
             0.6666666666666666,
             "#ed7953"
            ],
            [
             0.7777777777777778,
             "#fb9f3a"
            ],
            [
             0.8888888888888888,
             "#fdca26"
            ],
            [
             1.0,
             "#f0f921"
            ]
           ],
           "diverging": [
            [
             0,
             "#8e0152"
            ],
            [
             0.1,
             "#c51b7d"
            ],
            [
             0.2,
             "#de77ae"
            ],
            [
             0.3,
             "#f1b6da"
            ],
            [
             0.4,
             "#fde0ef"
            ],
            [
             0.5,
             "#f7f7f7"
            ],
            [
             0.6,
             "#e6f5d0"
            ],
            [
             0.7,
             "#b8e186"
            ],
            [
             0.8,
             "#7fbc41"
            ],
            [
             0.9,
             "#4d9221"
            ],
            [
             1,
             "#276419"
            ]
           ]
          },
          "xaxis": {
           "gridcolor": "#283442",
           "linecolor": "#506784",
           "ticks": "",
           "title": {
            "standoff": 15
           },
           "zerolinecolor": "#283442",
           "automargin": true,
           "zerolinewidth": 2
          },
          "yaxis": {
           "gridcolor": "#283442",
           "linecolor": "#506784",
           "ticks": "",
           "title": {
            "standoff": 15
           },
           "zerolinecolor": "#283442",
           "automargin": true,
           "zerolinewidth": 2
          },
          "scene": {
           "xaxis": {
            "backgroundcolor": "rgb(17,17,17)",
            "gridcolor": "#506784",
            "linecolor": "#506784",
            "showbackground": true,
            "ticks": "",
            "zerolinecolor": "#C8D4E3",
            "gridwidth": 2
           },
           "yaxis": {
            "backgroundcolor": "rgb(17,17,17)",
            "gridcolor": "#506784",
            "linecolor": "#506784",
            "showbackground": true,
            "ticks": "",
            "zerolinecolor": "#C8D4E3",
            "gridwidth": 2
           },
           "zaxis": {
            "backgroundcolor": "rgb(17,17,17)",
            "gridcolor": "#506784",
            "linecolor": "#506784",
            "showbackground": true,
            "ticks": "",
            "zerolinecolor": "#C8D4E3",
            "gridwidth": 2
           }
          },
          "shapedefaults": {
           "line": {
            "color": "#f2f5fa"
           }
          },
          "annotationdefaults": {
           "arrowcolor": "#f2f5fa",
           "arrowhead": 0,
           "arrowwidth": 1
          },
          "geo": {
           "bgcolor": "rgb(17,17,17)",
           "landcolor": "rgb(17,17,17)",
           "subunitcolor": "#506784",
           "showland": true,
           "showlakes": true,
           "lakecolor": "rgb(17,17,17)"
          },
          "title": {
           "x": 0.05
          },
          "updatemenudefaults": {
           "bgcolor": "#506784",
           "borderwidth": 0
          },
          "sliderdefaults": {
           "bgcolor": "#C8D4E3",
           "borderwidth": 1,
           "bordercolor": "rgb(17,17,17)",
           "tickwidth": 0
          },
          "mapbox": {
           "style": "dark"
          }
         }
        },
        "xaxis": {
         "anchor": "y",
         "domain": [
          0.0,
          1.0
         ],
         "title": {
          "text": "chord_x"
         }
        },
        "yaxis": {
         "anchor": "x",
         "domain": [
          0.0,
          1.0
         ],
         "title": {
          "text": "chord_y"
         }
        },
        "legend": {
         "title": {
          "text": "playlist"
         },
         "tracegroupgap": 0
        },
        "margin": {
         "t": 60
        }
       },
       "config": {
        "plotlyServerURL": "https://plotly.com"
       }
      },
      "text/html": "<div>                            <div id=\"6baa7663-ba77-44aa-b8bb-0fe754fc875f\" class=\"plotly-graph-div\" style=\"height:525px; width:100%;\"></div>            <script type=\"text/javascript\">                require([\"plotly\"], function(Plotly) {                    window.PLOTLYENV=window.PLOTLYENV || {};                                    if (document.getElementById(\"6baa7663-ba77-44aa-b8bb-0fe754fc875f\")) {                    Plotly.newPlot(                        \"6baa7663-ba77-44aa-b8bb-0fe754fc875f\",                        [{\"customdata\":[[\"Ivan Sings\",\"Aram Khachaturian\",\"kino\"],[\"Pr\\u00e9lude in E Minor, Op. 28, No. 4\",\"Fr\\u00e9d\\u00e9ric Chopin\",\"kino\"],[\"Above the Trees\",\"Kino\",\"kino\"],[\"All\",\"Kino\",\"kino\"],[\"Anew\",\"Kino\",\"kino\"],[\"As a Cloud\",\"Kino\",\"kino\"],[\"Away\",\"Kino\",\"kino\"],[\"Bloom\",\"Kino\",\"kino\"],[\"Charleston\",\"Kino\",\"kino\"],[\"Donau\",\"Kino\",\"kino\"],[\"Each and Every (Ambient Mix)\",\"Kino\",\"kino\"],[\"Each and Every (Piano)\",\"Kino\",\"kino\"],[\"Each and Every\",\"Kino\",\"kino\"],[\"Erl\\u00f6st  Redeemed\",\"Kino\",\"kino\"],[\"Gathering\",\"Kino\",\"kino\"],[\"God Bless Us, Every One\",\"Kino\",\"kino\"],[\"Hearth\",\"Kino\",\"kino\"],[\"H\\u0113o\",\"Kino\",\"kino\"],[\"In Earnest\",\"Kino\",\"kino\"],[\"Leinwand (Piano)\",\"Kino\",\"kino\"],[\"Leinwand\",\"Kino\",\"kino\"],[\"Lightly Tread\",\"Kino\",\"kino\"],[\"Lone\",\"Kino\",\"kino\"],[\"Many Colors\",\"Kino\",\"kino\"],[\"Merrily, Merrily\",\"Kino\",\"kino\"],[\"O Tannenbaum\",\"Kino\",\"kino\"],[\"Presidio\",\"Kino\",\"kino\"],[\"Rambuteau\",\"Kino\",\"kino\"],[\"Seafarer's Quartet\",\"Kino\",\"kino\"],[\"Seems\",\"Kino\",\"kino\"],[\"Silent Night\",\"Kino\",\"kino\"],[\"Silver Lake\",\"Kino\",\"kino\"],[\"St John's\",\"Kino\",\"kino\"],[\"Sunshine - Original\",\"Kino\",\"kino\"],[\"Swell\",\"Kino\",\"kino\"],[\"The Holly and the Ivy\",\"Kino\",\"kino\"],[\"The Weight Unbearable (Piano)\",\"Kino\",\"kino\"],[\"The Weight Unbearable\",\"Kino\",\"kino\"],[\"Till\",\"Kino\",\"kino\"],[\"Trio in E-flat Minor\",\"Kino\",\"kino\"],[\"Under\",\"Kino\",\"kino\"],[\"Water Lilies\",\"Kino\",\"kino\"],[\"Wide Awake\",\"Kino\",\"kino\"],[\"Willeth\",\"Kino\",\"kino\"],[\"Wolden\",\"Kino\",\"kino\"],[\"Yule\",\"Kino\",\"kino\"],[\"Piano Sonata No. 14 in C-Sharp Minor, Op. 27 No. 2 \\u201cMoonlight\\u201d- I. Adagio sostenuto\",\"Ludwig van Beethoven\",\"kino\"]],\"hovertemplate\":\"playlist=%{customdata[2]}<br>chord_x=%{x}<br>chord_y=%{y}<br>song_name=%{customdata[0]}<br>artist=%{customdata[1]}<extra></extra>\",\"legendgroup\":\"kino\",\"marker\":{\"color\":\"#636efa\",\"symbol\":\"circle\"},\"mode\":\"markers\",\"name\":\"kino\",\"orientation\":\"v\",\"showlegend\":true,\"x\":[-0.9551755295295349,0.9205646431936134,-1.1374328664567268,0.8722088936118796,0.3116063854079065,-1.5382771671766708,-0.6306531977859138,-1.4422380562786103,0.28893745404741517,-0.6254354487424987,-1.3928450249990494,-1.1680922364031017,-1.097214955166842,0.8412411173317617,0.3869983345979647,-0.8943782609985484,-1.7291637121930419,-0.5410076359913067,0.2780368204413728,0.6852431831332343,0.7322493171349372,-0.6706616981242413,-1.1727851240634461,0.46142524368042126,-0.8718006704043562,1.415999997812641,-1.1826316315467313,-1.1695887395088833,0.02894953782011433,0.3988418314059201,1.0305907029548889,0.6480771648432299,-0.8878402277235399,0.5795775827595422,-0.10399005037723774,-0.9564447919702279,-0.8727463122265182,-0.8765980245871545,0.19966573996713652,-1.7736237220276132,0.13902770046539137,-1.5711134799957773,-1.1695971767054307,-0.7907512349067084,0.015675593094883988,-1.0641675311013443,-0.10204466563597091],\"xaxis\":\"x\",\"y\":[-1.06545571034583,-1.0693527159368943,0.7065684060665628,-0.6889206583557567,1.0737941832663134,-0.1720314317148376,1.0275726207201057,0.5169635108405863,0.632420167939147,-0.7601026494041091,0.5390793228831201,0.3825531396138201,0.2739253336924477,-0.6332289893901392,-0.796742752639607,0.2893934320063081,0.5029213767348981,-0.5216370119305331,0.4302684396773232,-0.9743563439940877,-1.081828222866732,0.7773490793360994,-0.319766501218559,-0.4438823727974287,0.2860774855827438,-0.48791335048623163,0.5889932174958947,0.7672810662115865,-0.794954552758844,-1.292549901318775,0.35767253380160247,-0.7882561336260167,-0.5067563698195525,1.0948761696709992,1.0345336882292715,-0.2684561434506997,0.2727985215912404,-1.1959351881044067,0.4793035218914849,0.5417424706124222,-0.9195909333655735,-0.11444724594766523,0.1712713609160175,-1.6594073050936733,-0.8509792481645668,0.31447091023292123,1.3352122523489858],\"yaxis\":\"y\",\"type\":\"scatter\"},{\"customdata\":[[\"But it's Destiny\",\"10cm\",\"korean-ost\"],[\"\\ub098\\uc758 \\uc5b4\\uae68\\uc5d0 \\uae30\\ub300\\uc5b4\\uc694\",\"10cm\",\"korean-ost\"],[\"Is You\",\"AILEE\",\"korean-ost\"],[\"How can I love the heartbreak, you're the one I love\",\"AKMU\",\"korean-ost\"],[\"How can I love the heartbreak, you`re the one I love\",\"AKMU\",\"korean-ost\"],[\"Amusement Park\",\"BAEKHYUN\",\"korean-ost\"],[\"\\ub108\\ub97c \\uc0ac\\ub791\\ud558\\uace0 \\uc788\\uc5b4\",\"BAEKHYUN\",\"korean-ost\"],[\"Beautiful goodbye\",\"CHEN\",\"korean-ost\"],[\"Flower\",\"CHEN\",\"korean-ost\"],[\"I'll be there\",\"CHEN\",\"korean-ost\"],[\"My dear\",\"CHEN\",\"korean-ost\"],[\"Sorry not sorry\",\"CHEN\",\"korean-ost\"],[\"Everytime\",\"CHEN\",\"korean-ost\"],[\"Wish\",\"Choi Yuree\",\"korean-ost\"],[\"Beautiful\",\"Crush\",\"korean-ost\"],[\"Let Us Go\",\"Crush\",\"korean-ost\"],[\"No Words\",\"Crush\",\"korean-ost\"],[\"My Love\",\"DAVICHI\",\"korean-ost\"],[\"Please Don't Cry\",\"DAVICHI\",\"korean-ost\"],[\"Sunset\",\"DAVICHI\",\"korean-ost\"],[\"\\ub178\\ub825\\ud574\\ubcfc\\uac8c\\uc694 I'll try\",\"DAY6\",\"korean-ost\"],[\"I'm In Love With You\",\"Dvwn\",\"korean-ost\"],[\"No Problem\",\"Dvwn\",\"korean-ost\"],[\"\\uae34 \\ubc24\\uc774 \\uc624\\uba74\",\"Eddy Kim\",\"korean-ost\"],[\"Rain or Shine\",\"Elaine\",\"korean-ost\"],[\"Hate Everything - Korean Version\",\"GSoul\",\"korean-ost\"],[\"\\uae30\\uc5b5\\ud574\\uc918\\uc694 \\ub0b4 \\ubaa8\\ub4e0 \\ub0a0\\uacfc \\uadf8\\ub54c\\ub97c\",\"Gummy\",\"korean-ost\"],[\"Slowly Fall\",\"Ha Hyun Sang\",\"korean-ost\"],[\"\\ub0b4 \\ub9d8\\uc744 \\ubcfc \\uc218 \\uc788\\ub098\\uc694\",\"HEIZE\",\"korean-ost\"],[\"Deeply\",\"HEN\",\"korean-ost\"],[\"To You\",\"HEN\",\"korean-ost\"],[\"It's You\",\"HENRY\",\"korean-ost\"],[\"Untitled Love Song\",\"HENRY\",\"korean-ost\"],[\"Ending Scene\",\"IU\",\"korean-ost\"],[\"Give You My Heart\",\"IU\",\"korean-ost\"],[\"Love poem\",\"IU\",\"korean-ost\"],[\"My sea\",\"IU\",\"korean-ost\"],[\"Holiday\",\"JeHwi\",\"korean-ost\"],[\"Stardust love song\",\"JIHYO\",\"korean-ost\"],[\"What Lies Ahead\",\"Joe Layne\",\"korean-ost\"],[\"Times Like This\",\"Josh Daniel\",\"korean-ost\"],[\"Do you want to walk with me (Romance 101 X Jukjae)\",\"Jukjae\",\"korean-ost\"],[\"The Days Like Pictures\",\"Jukjae\",\"korean-ost\"],[\"\\ub098\\ub97c \\ucc3e\\uc544\\uc11c\",\"Jukjae\",\"korean-ost\"],[\"\\ubcc4 \\ubcf4\\ub7ec \\uac00\\uc790\",\"Jukjae\",\"korean-ost\"],[\"Day & Night\",\"Jung Seung Hwan\",\"korean-ost\"],[\"Because I Miss You\",\"Jung Yong Hwa\",\"korean-ost\"],[\"For First-time Lovers (Banmal-song)\",\"Jung Yong Hwa\",\"korean-ost\"],[\"I Go\",\"Kei (Kim Ji Yeon)\",\"korean-ost\"],[\"\\ubcf4\\uace0\\uc2f6\\ub2e4 (From. '\\ub4dc\\ub77c\\ub9c8 \\ucc9c\\uad6d\\uc758 \\uacc4\\ub2e8')\",\"Kim Bum Soo\",\"korean-ost\"],[\"One Day\",\"Kim Feel\",\"korean-ost\"],[\"Someday, The Boy\",\"Kim Feel\",\"korean-ost\"],[\"Vacance in September\",\"KIM JAE HWAN\",\"korean-ost\"],[\"All of My Days\",\"KIMSEJEONG\",\"korean-ost\"],[\"If Only\",\"KIMSEJEONG\",\"korean-ost\"],[\"Lonely Night\",\"Kwon Jin Ah\",\"korean-ost\"],[\"The End\",\"Kwon Jin Ah\",\"korean-ost\"],[\"I Won't Heartbreaken\",\"Lee KwangHee\",\"korean-ost\"],[\"In My Heart\",\"LIM YEON\",\"korean-ost\"],[\"Lost\",\"LIM YEON\",\"korean-ost\"],[\"Say Yes\",\"Loco\",\"korean-ost\"],[\"Be There For You\",\"NCT DREAM\",\"korean-ost\"],[\"Rainbow - Acoustic Version\",\"O.WHEN\",\"korean-ost\"],[\"Me After You\",\"Paul Kim\",\"korean-ost\"],[\"\\uc548\\ub155\",\"Paul Kim\",\"korean-ost\"],[\"But I'm Trying to Tell You How Much I Love You (With Moonbit)\",\"saevom\",\"korean-ost\"],[\"For You\",\"Sam Kim\",\"korean-ost\"],[\"Sunny Day Rainy Day (feat. Kassy)\",\"Sanchez\",\"korean-ost\"],[\"Your world\",\"Seol Hoseung (SURL)\",\"korean-ost\"],[\"Grown Ups\",\"Sondia\",\"korean-ost\"],[\"Hug\",\"Sondia\",\"korean-ost\"],[\"Our Souls at Night\",\"Sondia\",\"korean-ost\"],[\"\\uc6b0\\ub9b0 \\uce5c\\uad6c\\ubfd0\\uc77c\\uae4c\",\"Sondia\",\"korean-ost\"],[\"She\",\"Standing Egg\",\"korean-ost\"],[\"Miracle (Feat. Paul Kim)\",\"Stella Jang\",\"korean-ost\"],[\"One more time, One more chance\",\"Sung Si Kyung\",\"korean-ost\"],[\"\\u541b\\u304c\\u3044\\u308b\\u3088\",\"Sung Si Kyung\",\"korean-ost\"],[\"Two People\",\"SURAN\",\"korean-ost\"],[\"Inevitable\",\"Suzy\",\"korean-ost\"],[\"Starlight\",\"TAEIL\",\"korean-ost\"],[\"\\uadf8\\ub300\\ub77c\\ub294 \\uc2dc\",\"TAEYEON\",\"korean-ost\"],[\"Two Words\",\"WENDY\",\"korean-ost\"],[\"What If Love\",\"WENDY\",\"korean-ost\"],[\"\\ub0b4\\uc77c\\ub3c4 \\ub610 \\ub0b4\\uc77c\\ub3c4 Tomorrow After Tomorrow\",\"WISUE\",\"korean-ost\"],[\"Your Existence\",\"Wonstein\",\"korean-ost\"],[\"Free\",\"Xydo\",\"korean-ost\"],[\"\\ub108\\ub9cc \\ub108\\ub9cc \\ub108\\ub9cc\",\"Yang Dail\",\"korean-ost\"],[\"With me\",\"Yang Dail\",\"korean-ost\"],[\"Here I Am Again\",\"Yerin Baek\",\"korean-ost\"],[\"Maze\",\"YONGZOO\",\"korean-ost\"],[\"ALWAYS\",\"Yoon Mirae\",\"korean-ost\"],[\"Flower\",\"Yoon Mirae\",\"korean-ost\"],[\"You Are My World\",\"Yoon Mirae\",\"korean-ost\"],[\"I Just Want To Stay With You\",\"Zion.T\",\"korean-ost\"],[\"Faith\",\"\\uc774\\uc900\\ud654\",\"korean-ost\"]],\"hovertemplate\":\"playlist=%{customdata[2]}<br>chord_x=%{x}<br>chord_y=%{y}<br>song_name=%{customdata[0]}<br>artist=%{customdata[1]}<extra></extra>\",\"legendgroup\":\"korean-ost\",\"marker\":{\"color\":\"#EF553B\",\"symbol\":\"circle\"},\"mode\":\"markers\",\"name\":\"korean-ost\",\"orientation\":\"v\",\"showlegend\":true,\"x\":[-0.6111632913966004,-1.055906809145254,0.28372215440299986,-0.18503836002177929,-0.18503836001729962,0.05743213421853603,0.35580771058857363,-1.077529090526058,0.9152572228369851,-0.44521504136871737,0.43574722358144974,-0.913321774487461,-0.9349579077347965,-1.2643971630240214,-0.9237940772200854,-0.5681684944449372,-0.3736988807952383,-1.2885470664532979,-0.5139995447457387,-1.467086522641101,0.31404095302300417,-0.21337440661581697,0.7249470100211048,-0.09836236130053101,-0.6413790829987208,-0.6453411031674551,0.041937684414977326,-0.9728433132043072,0.2770900004282917,-0.05039831419866541,-0.7219950228183418,0.7151853653832845,0.2559940137652418,-0.3559667971388561,-1.290518943115855,-0.25119676792431134,0.20183730031404773,0.8025359033516338,1.1282324274395112,0.861607274748416,0.6607874560946893,0.3631915823761234,0.12315150102053078,0.778111122994085,-1.2548290917841542,-0.7770635090806921,0.4409279709172323,0.9441215474949273,1.4504914752109705,-0.32903632778744574,-0.32824710522358697,-0.06628333277266661,0.4471250647233012,0.5125281380274196,-1.1006147096814785,-0.5433092396691872,-1.238605831346744,0.3985477778597141,-0.47783395784624516,0.45365853931825656,0.5766327461238817,0.2593077898481868,-0.6235034899961057,0.27990085724840713,0.33798251559078357,0.9666695439951388,-1.3132183073060408,0.004538056172754683,0.18390464652133673,0.40600158831458816,0.9707960023093831,-0.8829753616005797,-1.1374388279376157,0.5781205843416165,0.9881689394171851,0.14291012283503543,1.0826969267205229,-0.8520986185480673,-1.085877993694052,0.9160221235161394,0.24088762173712783,-1.4469628009965492,0.03861865322550759,-0.7377602380716185,0.154330438496316,0.5692549537718548,-0.8006649402658346,0.3386948867310167,0.4460466884237628,-0.8927672320033808,-1.1604583483139423,-1.1621784779360371,-1.003416353886256,1.0663547647768403,1.363041415278439],\"xaxis\":\"x\",\"y\":[-0.8297541957292661,1.2988463637747716,0.48803466720585736,-0.9895248885045853,-0.9895248885081088,-0.9477551241636513,0.8257331690952681,-0.2898127838312166,0.6436543332500302,0.6896044347325945,0.48938379577878705,-0.6851124135271573,-0.31635286539010005,0.6111781657655511,-0.8090130630515965,-1.21948255174924,0.8405207959345165,-0.00034342845535325744,-1.3635089460579202,0.2636189956383912,0.3206030892079505,-1.245318809686397,0.4004366764604777,-1.2049603123808073,1.3374342869617017,-0.6111941823008852,0.7421349183120464,0.7758751931410806,0.48137655697618126,-0.7264326746872191,0.16859560393829384,-0.6562555520088814,-0.5982938809247876,-1.1777347060199304,0.08035247524260992,1.1726110908796488,0.14494287305707246,0.5269659262522557,0.6719911988061734,-0.16422411501234657,0.7124166294639778,0.08506011531901254,-0.8547147480819477,-0.7204312787653878,-0.039094472956882925,-0.306137105264289,-0.8344009365048191,0.13535301521147083,-0.8283555023916389,-0.7973589036187494,1.1369156532973328,-1.328315718983907,-0.6568392130142585,1.1561297285387147,0.953963875943174,-1.062546705484463,0.08539834004759192,1.0585663812056834,1.5006524862397377,0.7745946184928068,0.7709781741351236,0.8338994516524423,1.2961235604570673,-0.9710057414232227,-0.8847467703001386,-0.4187113997406095,1.0460439760826432,-0.9373159641955019,-0.5492720387659955,0.47069645294559564,0.16841305338823723,1.1898817064825413,-0.8492091456092316,1.253437451838229,-0.8584099945204916,0.271785174784366,0.44567543265602416,-0.30493482411270234,-0.3622017499663367,-0.0013402626774660115,0.49563437905496416,0.5950518788051358,0.37312924915101503,0.5426054358810104,-0.7524959012615273,0.5889927538589135,0.4799071519312719,0.5965723664828669,0.5801750564394356,-0.8319916027499397,-0.824521239588968,0.6490105784318367,-0.7731431830232693,0.48867521026395805,0.15167890251578758],\"yaxis\":\"y\",\"type\":\"scatter\"},{\"customdata\":[[\"A Speck of Light - Reimagined\",\"Lights & Motion\",\"lights-and-motion\"],[\"A Speck of Light\",\"Lights & Motion\",\"lights-and-motion\"],[\"All the Way\",\"Lights & Motion\",\"lights-and-motion\"],[\"Anamorphic\",\"Lights & Motion\",\"lights-and-motion\"],[\"Anchor\",\"Lights & Motion\",\"lights-and-motion\"],[\"Anomaly\",\"Lights & Motion\",\"lights-and-motion\"],[\"Antlers\",\"Lights & Motion\",\"lights-and-motion\"],[\"Arms Wide Open\",\"Lights & Motion\",\"lights-and-motion\"],[\"As the World Goes Away\",\"Lights & Motion\",\"lights-and-motion\"],[\"As They Sleep\",\"Lights & Motion\",\"lights-and-motion\"],[\"Aurora\",\"Lights & Motion\",\"lights-and-motion\"],[\"Deafening Silence\",\"Lights & Motion\",\"lights-and-motion\"],[\"DNA\",\"Lights & Motion\",\"lights-and-motion\"],[\"Equals\",\"Lights & Motion\",\"lights-and-motion\"],[\"Everest\",\"Lights & Motion\",\"lights-and-motion\"],[\"Exhale\",\"Lights & Motion\",\"lights-and-motion\"],[\"Feathers\",\"Lights & Motion\",\"lights-and-motion\"],[\"Fireflies\",\"Lights & Motion\",\"lights-and-motion\"],[\"From Dust\",\"Lights & Motion\",\"lights-and-motion\"],[\"Glistening - Reimagined\",\"Lights & Motion\",\"lights-and-motion\"],[\"Glistening\",\"Lights & Motion\",\"lights-and-motion\"],[\"Glow\",\"Lights & Motion\",\"lights-and-motion\"],[\"I See You (feat. Frida Sundemo)\",\"Lights & Motion\",\"lights-and-motion\"],[\"I See You - Reimagined (feat. Frida Sundemo)\",\"Lights & Motion\",\"lights-and-motion\"],[\"Lucid Dreaming\",\"Lights & Motion\",\"lights-and-motion\"],[\"Northern Lights\",\"Lights & Motion\",\"lights-and-motion\"],[\"Pandora\",\"Lights & Motion\",\"lights-and-motion\"],[\"Panic Attack\",\"Lights & Motion\",\"lights-and-motion\"],[\"Paper Wings\",\"Lights & Motion\",\"lights-and-motion\"],[\"Parachutes\",\"Lights & Motion\",\"lights-and-motion\"],[\"Particle Storm\",\"Lights & Motion\",\"lights-and-motion\"],[\"Perfect Symmetry\",\"Lights & Motion\",\"lights-and-motion\"],[\"Phoenix\",\"Lights & Motion\",\"lights-and-motion\"],[\"Reanimation - Revisited 10th Anniversary Edition\",\"Lights & Motion\",\"lights-and-motion\"],[\"Reborn\",\"Lights & Motion\",\"lights-and-motion\"],[\"Separated Hearts - Reimagined\",\"Lights & Motion\",\"lights-and-motion\"],[\"Separated Hearts\",\"Lights & Motion\",\"lights-and-motion\"],[\"Silver Lining\",\"Lights & Motion\",\"lights-and-motion\"],[\"Sleeping Giant\",\"Lights & Motion\",\"lights-and-motion\"],[\"Sypher\",\"Lights & Motion\",\"lights-and-motion\"],[\"The First Day\",\"Lights & Motion\",\"lights-and-motion\"],[\"The Great Wide Open - Reimagined\",\"Lights & Motion\",\"lights-and-motion\"],[\"The Great Wide Open\",\"Lights & Motion\",\"lights-and-motion\"],[\"The Moments Before\",\"Lights & Motion\",\"lights-and-motion\"],[\"The Spectacular Quiet\",\"Lights & Motion\",\"lights-and-motion\"],[\"The World I Remember\",\"Lights & Motion\",\"lights-and-motion\"],[\"This Explosion Within\",\"Lights & Motion\",\"lights-and-motion\"],[\"Touching Sky\",\"Lights & Motion\",\"lights-and-motion\"],[\"We Only Have Forever\",\"Lights & Motion\",\"lights-and-motion\"],[\"When Everything Is Falling\",\"Lights & Motion\",\"lights-and-motion\"],[\"Wilderness\",\"Lights & Motion\",\"lights-and-motion\"],[\"Winter Solstice\",\"Lights & Motion\",\"lights-and-motion\"],[\"Wolves (feat. Johan Hasselblom)\",\"Lights & Motion\",\"lights-and-motion\"],[\"Wolves - Reimagined (feat. Johan Hasselblom)\",\"Lights & Motion\",\"lights-and-motion\"],[\"Woven\",\"Lights & Motion\",\"lights-and-motion\"],[\"Year Zero\",\"Lights & Motion\",\"lights-and-motion\"]],\"hovertemplate\":\"playlist=%{customdata[2]}<br>chord_x=%{x}<br>chord_y=%{y}<br>song_name=%{customdata[0]}<br>artist=%{customdata[1]}<extra></extra>\",\"legendgroup\":\"lights-and-motion\",\"marker\":{\"color\":\"#00cc96\",\"symbol\":\"circle\"},\"mode\":\"markers\",\"name\":\"lights-and-motion\",\"orientation\":\"v\",\"showlegend\":true,\"x\":[0.23031759716653416,0.10136493408892198,0.999940785184167,0.12233241338049662,1.081252112431905,0.7402211328326527,0.38013072267141523,0.9049183543606857,0.5304780058892087,0.32398698023213834,0.01802553634064697,0.19917858424646864,0.1970961327622592,0.056264161840196454,0.22853692133219866,1.0313166415539017,0.06746699513821226,1.0425890061813705,0.9069741029391192,1.096631737983826,1.290543138646953,0.06876206641113913,0.21351633125347838,0.15666765104380176,0.40102667509155393,-1.2274834203672609,0.0992705166287322,1.4740243986429336,0.051791704951976124,0.011841151048823776,0.7076524665568269,0.31284140334510296,0.027215367845275,0.28349973754345914,1.2747027344782946,0.3280950487644903,0.38939600066093166,0.07790577106934356,0.9248516064518802,0.3731634402075039,0.15298453283155855,1.2288390893478738,0.9368959217439905,0.9081450481909902,0.005975596586456086,0.25836085040466344,0.12937712762065814,0.33507773038096567,0.4390890843636315,0.5973413879344204,0.9519851470888544,0.01475005010445972,-0.33766999977807305,-0.9204989244222768,0.9085977191311311,1.2012840971232228],\"xaxis\":\"x\",\"y\":[-0.8918500323914305,-0.7734243787265127,0.3362664933321802,-1.0069826360530463,-0.7552665257297583,-1.2663077289130666,0.9533679587811598,0.17492734603756993,0.7642254374094373,-1.2026508664624507,-1.0348161262890918,-0.46422670099010027,0.46416246688458257,-0.8099704322064016,-0.5304668507717318,0.42126546033159634,-0.7122468878682804,-0.28293209488225507,0.1523649884399947,0.2510343213511771,0.36252352331443405,-0.7870198538918394,-0.7361105192017847,-0.7068443328105559,0.9420663243838312,0.8629393332315751,0.7737606019157957,0.7117034470640242,-0.7571714439028724,-0.7665824100507563,-0.9268929195980126,0.7587572106803894,0.9704015754752157,-0.6053327754370766,-0.1255507069639975,0.71068037409539,0.48003798359809596,-0.7004981103511096,0.24437322010578044,0.6946653701982362,-0.6350123828523835,-0.48998122014486956,-0.2261374642168067,-0.08173586747330418,-0.8199158504420496,-0.6851122109569164,-0.5570190278133577,-1.1147328589003587,0.8776942452324431,0.6783417666417739,0.09737718970055396,-0.7589505809623847,-0.8383676684891446,-0.6928556139383654,0.20970896051604623,1.1010386681852817],\"yaxis\":\"y\",\"type\":\"scatter\"},{\"customdata\":[[\"Another Wave from You\",\"M83\",\"m83\"],[\"Claudia Lewis\",\"M83\",\"m83\"],[\"Echoes of Mine\",\"M83\",\"m83\"],[\"Fountains\",\"M83\",\"m83\"],[\"Intro\",\"M83\",\"m83\"],[\"Klaus I Love You\",\"M83\",\"m83\"],[\"Midnight City\",\"M83\",\"m83\"],[\"My Tears Are Becoming a Sea\",\"M83\",\"m83\"],[\"New Map\",\"M83\",\"m83\"],[\"Ok Pal\",\"M83\",\"m83\"],[\"Outro\",\"M83\",\"m83\"],[\"Raconte-moi une histoire\",\"M83\",\"m83\"],[\"Reunion\",\"M83\",\"m83\"],[\"Soon, My Friend\",\"M83\",\"m83\"],[\"Splendor\",\"M83\",\"m83\"],[\"Steve Mcqueen\",\"M83\",\"m83\"],[\"This Bright Flash\",\"M83\",\"m83\"],[\"Train to Pluton\",\"M83\",\"m83\"],[\"Wait\",\"M83\",\"m83\"],[\"When Will You Come Home\",\"M83\",\"m83\"],[\"Where the Boats Go\",\"M83\",\"m83\"],[\"Year One, One Ufo\",\"M83\",\"m83\"],[\"Ashes of Our Fathers\",\"M83\",\"m83\"],[\"Canyon Battle\",\"M83\",\"m83\"],[\"Earth 2077\",\"M83\",\"m83\"],[\"Fearful Odds\",\"M83\",\"m83\"],[\"I'm Sending You Away\",\"M83\",\"m83\"],[\"Jack's Dream\",\"M83\",\"m83\"],[\"Losing Control\",\"M83\",\"m83\"],[\"Odyssey Rescue\",\"M83\",\"m83\"],[\"Radiation Zone\",\"M83\",\"m83\"],[\"Raven Rock\",\"M83\",\"m83\"],[\"StarWaves\",\"M83\",\"m83\"],[\"Tech 49\",\"M83\",\"m83\"],[\"Temples of Our Gods\",\"M83\",\"m83\"],[\"Undimmed by Time, Unbound by Death\",\"M83\",\"m83\"],[\"Waking Up\",\"M83\",\"m83\"],[\"You Can't Save Her\",\"M83\",\"m83\"],[\"Oblivion\",\"M83\",\"m83\"]],\"hovertemplate\":\"playlist=%{customdata[2]}<br>chord_x=%{x}<br>chord_y=%{y}<br>song_name=%{customdata[0]}<br>artist=%{customdata[1]}<extra></extra>\",\"legendgroup\":\"m83\",\"marker\":{\"color\":\"#ab63fa\",\"symbol\":\"circle\"},\"mode\":\"markers\",\"name\":\"m83\",\"orientation\":\"v\",\"showlegend\":true,\"x\":[-1.3902091519071733,0.6518414736549525,0.6557047036484146,-0.3966689725283814,-0.09346680260003809,0.25007252089213017,0.45645050012319366,0.45073288147736507,0.3707690760634046,0.15188735586226768,0.8912565864912855,-0.7201784074050622,0.6167798972240547,0.014843375895524275,0.7326811015604123,0.62592312126222,0.729890283844186,0.06484666553989492,1.0387235640304806,-0.9091319805469015,-0.5589381551379694,0.4335914236341191,0.12213139212700126,0.7166428784621189,0.24107786540154338,-1.1691293510581169,1.0465741020975776,-0.9227157742997437,0.1908967147382705,1.010809298415331,1.2679867606781856,-1.4317315633441503,-0.7124136824203159,0.4386495815220483,-0.30960615009695414,-1.026282383306647,-0.20822684607767863,-0.8069065630846617,0.537344258347131],\"xaxis\":\"x\",\"y\":[0.7472533730552948,-0.7308369454885073,-1.0081820601438631,1.4117307749383103,1.2577104946763686,0.6031286251000282,0.43376728686695665,1.098727379585184,0.4140073306877854,0.5621653760166583,0.10802514084084912,-0.2550098909680943,-0.3937991706859178,-0.7312341051436291,0.46030233317481833,0.3988230415144275,-0.7856102823891402,-0.6611234686023103,0.04822523189745002,0.5556654396827492,0.8221645141142233,0.8676239425601707,0.4544872669379105,-0.44454550163921464,0.17622229966199474,-0.34700872103287805,-0.40798256690873347,0.4653961120409625,0.38703118438562484,-0.6743476170124916,-0.2402506741245224,-0.22629855599856086,-0.9608209702088608,0.1518461934038252,-1.0092406169572061,0.4503185838605534,-1.1116409900724444,0.880795721514883,0.014780865338872375],\"yaxis\":\"y\",\"type\":\"scatter\"},{\"customdata\":[[\"A Moment Apart\",\"ODESZA\",\"odesza\"],[\"Across The Room (feat. Leon Bridges)\",\"ODESZA\",\"odesza\"],[\"Boy\",\"ODESZA\",\"odesza\"],[\"Corners Of The Earth (feat. RY X)\",\"ODESZA\",\"odesza\"],[\"Divide (feat. Kelsey Bulkin)\",\"ODESZA\",\"odesza\"],[\"Everything At Your Feet (feat. The Chamanas)\",\"ODESZA\",\"odesza\"],[\"Falls (feat. Sasha Alex Sloan)\",\"ODESZA\",\"odesza\"],[\"Falls (Reprise) (feat. Sasha Alex Sloan)\",\"ODESZA\",\"odesza\"],[\"Falls (Reprise) - Instrumental\",\"ODESZA\",\"odesza\"],[\"Higher Ground (feat. Naomi Wild)\",\"ODESZA\",\"odesza\"],[\"Higher Ground (Reprise) (feat. Naomi Wild)\",\"ODESZA\",\"odesza\"],[\"Higher Ground (Reprise) - Instrumental\",\"ODESZA\",\"odesza\"],[\"Intro\",\"ODESZA\",\"odesza\"],[\"It\\u2019s Only (feat. Zyra) - ODESZA VIP Remix\",\"ODESZA\",\"odesza\"],[\"Just A Memory (feat. Regina Spektor)\",\"ODESZA\",\"odesza\"],[\"La Ciudad\",\"ODESZA\",\"odesza\"],[\"Late Night\",\"ODESZA\",\"odesza\"],[\"Line Of Sight (feat. WYNNE & Mansionair)\",\"ODESZA\",\"odesza\"],[\"Line Of Sight (Reprise) (feat. WYNNE & Mansionair)\",\"ODESZA\",\"odesza\"],[\"Line Of Sight (Reprise) - Instrumental\",\"ODESZA\",\"odesza\"],[\"Loyal\",\"ODESZA\",\"odesza\"],[\"Memories That You Call (feat. Monsoonsiren) - ODESZA & Golden Features VIP Remix\",\"ODESZA\",\"odesza\"],[\"Meridian\",\"ODESZA\",\"odesza\"],[\"Show Me\",\"ODESZA\",\"odesza\"],[\"Thin Floors And Tall Ceilings\",\"ODESZA\",\"odesza\"]],\"hovertemplate\":\"playlist=%{customdata[2]}<br>chord_x=%{x}<br>chord_y=%{y}<br>song_name=%{customdata[0]}<br>artist=%{customdata[1]}<extra></extra>\",\"legendgroup\":\"odesza\",\"marker\":{\"color\":\"#FFA15A\",\"symbol\":\"circle\"},\"mode\":\"markers\",\"name\":\"odesza\",\"orientation\":\"v\",\"showlegend\":true,\"x\":[-0.4175507565878647,-0.8336329742753675,0.9885877313839811,0.8913006432346949,0.32164500626949605,0.8501472136285885,1.707089021742641,-0.5605640456860048,-0.6444273712143948,0.11777717710815624,-0.7457451405889731,-0.8118821934209068,0.393369695062802,0.4296056839056127,0.5286104957728699,0.9996018992031919,0.7039477812564943,-0.28205414799413775,-1.004974307859135,-0.9491324986837517,0.6184566133546543,1.2506888090871624,0.14300228468882514,0.547351373775399,-0.588149306085093],\"xaxis\":\"x\",\"y\":[-1.1459691737364461,1.2165455293751481,-0.19785219305266286,0.8756395957169918,-0.657205296855806,-0.10440293622665078,-0.4378031731829661,1.201593834235373,1.4563799057781812,0.6428003539745948,1.4740173401168999,1.5936792594795766,0.41299603503282495,0.2601233907795671,-1.0043334344961863,0.3819096785650671,0.10970387184644813,-1.0584893359247896,0.223721721460589,0.28380559688988116,0.5375760978657376,-0.167536201965794,0.37840350565603503,0.45557730646201333,-0.8834407634564286],\"yaxis\":\"y\",\"type\":\"scatter\"},{\"customdata\":[[\"April 10, 2019- Powehi - Image of a Black Hole\",\"Sleeping At Last\",\"sleeping-at-last\"],[\"August 12, 2018- Perseid Meteor Shower\",\"Sleeping At Last\",\"sleeping-at-last\"],[\"August 21, 2017- Total Solar Eclipse\",\"Sleeping At Last\",\"sleeping-at-last\"],[\"December 13, 2017- Geminid Meteor Shower\",\"Sleeping At Last\",\"sleeping-at-last\"],[\"December 17, 2018- Farout\",\"Sleeping At Last\",\"sleeping-at-last\"],[\"December 21, 2020- The Great Conjunction\",\"Sleeping At Last\",\"sleeping-at-last\"],[\"December 25, 2021- Webb Space Telescope - Launch\",\"Sleeping At Last\",\"sleeping-at-last\"],[\"February 1, 2023- C2022 E3 - Comet Ztf\",\"Sleeping At Last\",\"sleeping-at-last\"],[\"February 13, 2019- Opportunity - Mission Complete\",\"Sleeping At Last\",\"sleeping-at-last\"],[\"February 18, 2021- Perseverance - Mars Landing\",\"Sleeping At Last\",\"sleeping-at-last\"],[\"January 30, 2020- Spitzer - Final Voyage\",\"Sleeping At Last\",\"sleeping-at-last\"],[\"January 31, 2018- Super Blue Blood Moon\",\"Sleeping At Last\",\"sleeping-at-last\"],[\"July 22, 2020- C  2020 F3 - Comet Neowise\",\"Sleeping At Last\",\"sleeping-at-last\"],[\"July 27, 2018- Total Lunar Eclipse\",\"Sleeping At Last\",\"sleeping-at-last\"],[\"July 4, 2020- Aphelion\",\"Sleeping At Last\",\"sleeping-at-last\"],[\"June 24, 2022- Parade of Planets\",\"Sleeping At Last\",\"sleeping-at-last\"],[\"June 30, 2018- Pds 70b (Birth of a Planet)\",\"Sleeping At Last\",\"sleeping-at-last\"],[\"October 30, 2018- Kepler - Goodnight\",\"Sleeping At Last\",\"sleeping-at-last\"],[\"September 15, 2017- Cassini - The Grand Finale\",\"Sleeping At Last\",\"sleeping-at-last\"]],\"hovertemplate\":\"playlist=%{customdata[2]}<br>chord_x=%{x}<br>chord_y=%{y}<br>song_name=%{customdata[0]}<br>artist=%{customdata[1]}<extra></extra>\",\"legendgroup\":\"sleeping-at-last\",\"marker\":{\"color\":\"#19d3f3\",\"symbol\":\"circle\"},\"mode\":\"markers\",\"name\":\"sleeping-at-last\",\"orientation\":\"v\",\"showlegend\":true,\"x\":[0.7283024730225568,0.18398429798833635,-0.8793094044303997,-0.7886129983205578,0.15548157225296533,-0.9356138663041901,1.0801606869244227,-0.9880808237130886,1.2580087112288505,-0.773049201217028,0.25520368897040374,0.19118374142850122,0.4612324693645674,-1.4791841911562174,-0.14203005730380017,-0.21590938473523483,-0.1266845991648814,-1.0104334116669378,-1.1782321234875333],\"xaxis\":\"x\",\"y\":[-0.6154920618336788,1.128539564140038,1.005009858005452,0.5470293901043759,-0.8780419632096356,-0.2024778583759986,0.23327275250153945,-0.07047737627815877,-0.0060285920814941015,0.6101037451268042,-0.9182334487909873,-0.8529178712759438,1.131328492385211,0.16344569223354946,-0.48260017272628225,1.2412899628411274,0.7301108438725172,-0.14081475212648842,-0.7388858827751398],\"yaxis\":\"y\",\"type\":\"scatter\"},{\"customdata\":[[\"It's Ok If You Forget Me\",\"Astrid S\",\"synth-pop\"],[\"Young & Alive\",\"Bazzi\",\"synth-pop\"],[\"Paralyze\",\"Bj\\u00f8rnskov\",\"synth-pop\"],[\"San Diego\",\"BRDGS\",\"synth-pop\"],[\"Ear Candy\",\"Caye\",\"synth-pop\"],[\"12 Hours\",\"Chris James\",\"synth-pop\"],[\"My Universe\",\"Coldplay\",\"synth-pop\"],[\"Overdrive\",\"Conan Gray\",\"synth-pop\"],[\"Titanic\",\"Cosmo's Midnight\",\"synth-pop\"],[\"Champagne For Two\",\"Devin Kennedy\",\"synth-pop\"],[\"Another Round\",\"Elina\",\"synth-pop\"],[\"How\",\"Elina\",\"synth-pop\"],[\"Paper Planes\",\"Elina\",\"synth-pop\"],[\"Nirvana\",\"ELLIANA\",\"synth-pop\"],[\"Lost In Space\",\"Emmit Fenn\",\"synth-pop\"],[\"12-45 - Stripped\",\"Etham\",\"synth-pop\"],[\"Purpose - Stripped\",\"Etham\",\"synth-pop\"],[\"California\",\"Ethan Dufault\",\"synth-pop\"],[\"Hurt The Ones We Love The Most\",\"Evan Blum\",\"synth-pop\"],[\"Young Love\",\"Falcon\",\"synth-pop\"],[\"I Should've Told You\",\"Fiji Blue\",\"synth-pop\"],[\"Waves\",\"Fiji Blue\",\"synth-pop\"],[\"Healing\",\"FLETCHER\",\"synth-pop\"],[\"hold on\",\"flor\",\"synth-pop\"],[\"Automatic (feat. Jake Miller)\",\"Fly By Midnight\",\"synth-pop\"],[\"Lovely\",\"Fly By Midnight\",\"synth-pop\"],[\"Lonely\",\"Gatsby\",\"synth-pop\"],[\"dear me,\",\"Gentle Bones\",\"synth-pop\"],[\"I Wouldn't Know Any Better Than You\",\"Gentle Bones\",\"synth-pop\"],[\"So Far So Good\",\"Great Good Fine Ok\",\"synth-pop\"],[\"Falling\",\"Harry Styles\",\"synth-pop\"],[\"sometimes\",\"Heather Sommer\",\"synth-pop\"],[\"you heard me\",\"Heather Sommer\",\"synth-pop\"],[\"Crying Over You \\u25d0\",\"HONNE\",\"synth-pop\"],[\"Day Dreaming\",\"Jack & Jack\",\"synth-pop\"],[\"Ross And Rachel\",\"Jake Miller\",\"synth-pop\"],[\"Showing You Off\",\"Jake Miller\",\"synth-pop\"],[\"Like No One Does\",\"Jake Scott\",\"synth-pop\"],[\"CWJBHN\",\"Jake Scott\",\"synth-pop\"],[\"drive all night\",\"joan\",\"synth-pop\"],[\"i loved you first\",\"joan\",\"synth-pop\"],[\"love somebody like you\",\"joan\",\"synth-pop\"],[\"magnetic\",\"joan\",\"synth-pop\"],[\"6 months\",\"John K\",\"synth-pop\"],[\"ilym (feat. ROSIE)\",\"John K\",\"synth-pop\"],[\"I Believe\",\"Jonas Brothers\",\"synth-pop\"],[\"I Quit Drinking\",\"Kelsea Ballerini\",\"synth-pop\"],[\"13\",\"LANY\",\"synth-pop\"],[\"dancing in the kitchen\",\"LANY\",\"synth-pop\"],[\"dna\",\"LANY\",\"synth-pop\"],[\"get away\",\"LANY\",\"synth-pop\"],[\"I Don't Wanna Love You Anymore\",\"LANY\",\"synth-pop\"],[\"if this is the last time\",\"LANY\",\"synth-pop\"],[\"ILYSB - STRIPPED\",\"LANY\",\"synth-pop\"],[\"ILYSB\",\"LANY\",\"synth-pop\"],[\"Let Me Know\",\"LANY\",\"synth-pop\"],[\"Malibu Nights\",\"LANY\",\"synth-pop\"],[\"Super Far\",\"LANY\",\"synth-pop\"],[\"Thru These Tears\",\"LANY\",\"synth-pop\"],[\"up to me\",\"LANY\",\"synth-pop\"],[\"you!\",\"LANY\",\"synth-pop\"],[\"Tattoos Together\",\"Lauv\",\"synth-pop\"],[\"When We Were Younger\",\"Loving Caliber\",\"synth-pop\"],[\"Love You Back\",\"Madeon\",\"synth-pop\"],[\"colorblind\",\"Mokita\",\"synth-pop\"],[\"London\",\"Mokita\",\"synth-pop\"],[\"Ready Yet\",\"Mokita\",\"synth-pop\"],[\"Shut Up I Love U\",\"Neptune\",\"synth-pop\"],[\"This Is Heaven\",\"Nick Jonas\",\"synth-pop\"],[\"Plot Twist\",\"NIKI\",\"synth-pop\"],[\"Waves\",\"Paige\",\"synth-pop\"],[\"Shelter\",\"Porter Robinson\",\"synth-pop\"],[\"Outsider\",\"Rachel Grae\",\"synth-pop\"],[\"Dandelions\",\"Ruth B.\",\"synth-pop\"],[\"Lie\",\"Sasha Alex Sloan\",\"synth-pop\"],[\"Day Dreaming\",\"Sopha\",\"synth-pop\"],[\"I Always Wanna Die (Sometimes)\",\"The 1975\",\"synth-pop\"],[\"I'm In Love With You\",\"The 1975\",\"synth-pop\"],[\"It's Not Living (If It's Not With You)\",\"The 1975\",\"synth-pop\"],[\"Robbers\",\"The 1975\",\"synth-pop\"],[\"She's American\",\"The 1975\",\"synth-pop\"],[\"Somebody Else\",\"The 1975\",\"synth-pop\"],[\"Going Home\",\"The Aces\",\"synth-pop\"],[\"Sunset\",\"The Midnight\",\"synth-pop\"],[\"Say So\",\"The Sam Willows\",\"synth-pop\"],[\"I Can't Stop Thinking About You\",\"The Shadowboxers\",\"synth-pop\"],[\"Strawberries & Cigarettes\",\"Troye Sivan\",\"synth-pop\"],[\"If Only for Tonight\",\"Vacation Manor\",\"synth-pop\"],[\"rocket science\",\"vaultboy\",\"synth-pop\"],[\"no excuses\",\"Virginia To Vegas\",\"synth-pop\"],[\"Got A Little Crush On You\",\"Wildflowers\",\"synth-pop\"],[\"Talking To Myself\",\"Will Jay\",\"synth-pop\"],[\"Dance Like Nobody's Watching\",\"Yuna\",\"synth-pop\"],[\"dancing in the kitchen\",\"Zachary Knowles\",\"synth-pop\"],[\"stranger to me\",\"Zachary Knowles\",\"synth-pop\"],[\"could you love me while i hate myself\",\"Zeph\",\"synth-pop\"]],\"hovertemplate\":\"playlist=%{customdata[2]}<br>chord_x=%{x}<br>chord_y=%{y}<br>song_name=%{customdata[0]}<br>artist=%{customdata[1]}<extra></extra>\",\"legendgroup\":\"synth-pop\",\"marker\":{\"color\":\"#FF6692\",\"symbol\":\"circle\"},\"mode\":\"markers\",\"name\":\"synth-pop\",\"orientation\":\"v\",\"showlegend\":true,\"x\":[0.04311020131083447,-1.3718916304567976,1.24954728508469,0.21650170565282903,0.2124010165610426,-0.7964124542332732,0.2024533988029429,0.5045444052011328,0.810015018178466,0.8983089922144029,1.0515210934835202,-0.716006459940534,-0.7016505702852031,0.16528737805046692,-0.8631052423132973,-0.26532370873114525,-1.422586196830183,0.3892789832478437,0.3266761367226217,-0.5523266715547067,-1.0437428594630564,0.5519328404262752,0.990460151094239,0.8036026896430833,-0.6351499105748503,0.16853879217884282,-0.8296643728207652,-0.04365353230505049,0.9654923046618517,-0.1013081555582743,0.4117549971604634,0.36219152114155534,0.9062837517042421,0.8794223781099318,-0.46934757590144616,0.5493772255773534,0.3832058847676078,-1.1158743313766961,-1.027221957589167,0.3213110498604076,0.6095254410760919,0.8581702398638693,-0.8187248281479343,-1.1723871971851645,0.40666374760462654,0.23184590793155452,-0.8343315284680574,1.0514160861505757,0.16242376336168066,0.19188479765299588,-1.3067313411320767,0.11751249964248,-0.01038433722353084,0.03188990830426182,-0.6442756157177796,0.3465361842831612,0.27362741091749226,-0.12004781925526872,0.3399032589741455,-0.3874000692628168,-0.4106254399190519,0.9536745616592703,-0.9716631344050213,0.2867482618296847,-0.9022625464070402,-0.11955685982400441,0.7978037591370565,0.22200752492735196,0.21744855083354994,-0.11885645868624072,0.3454399394511029,0.6330431152871047,-0.9062606229794331,-0.3894108686290495,-0.17438544192377142,-0.21316881320017309,0.5592462635731155,0.9960139858858419,0.17171175276522865,0.23306908475494317,-0.96648486511028,0.19381695601997098,0.9125452681037626,0.806064586107018,1.1000122745598806,0.8917379892222597,0.3096882761797813,-0.4484991231988349,-1.0206457651418965,0.2403448111551878,0.977858005992926,0.029764417176421327,-0.24927163124979454,0.8738257001771238,0.027256915780004613,0.4236435549397679],\"xaxis\":\"x\",\"y\":[1.3878529837993367,-0.28743914757895356,-0.30016379360009704,0.4968718007495096,-0.29275374907759655,-0.6436874731549164,0.5695176252328785,-1.0370005881156947,-0.2947120955554678,-0.4838613669964616,0.5001924139376303,0.8781810674845653,0.6229075866558615,0.962521459752628,-0.09249476451118332,-1.2969319199241818,-0.004470893494226912,0.6119107699270455,0.5340695639000053,-0.24881671967737604,-0.0705120700522972,0.6180015549103968,0.04652474626165201,0.950932197241948,0.6916103440210496,-0.5778545839154557,-0.21705941081648825,1.097481573546008,0.7442920335676135,-0.9291387133631803,1.1181474385396064,0.5785653562912401,0.4131091652393753,0.285491596941498,-1.7055446580195877,0.4455701351534192,1.3812726661687456,-0.5001687857782688,-0.6900611298766026,0.43772574304019557,-1.1649093176924281,-0.5577062772419534,-0.8494070272448543,-0.5513402115817575,0.9791356257981932,0.4844916058446685,0.6309332738536781,0.8687199487525334,1.0630002995483896,0.7040296839513172,-0.6045936755024118,-0.7210421211928001,1.1699857146184405,-0.735583447708651,-1.021588687952459,0.4464490891545123,1.1733492088338546,0.439214414210078,1.251521887218642,0.35528846858675267,-1.3251272625832908,0.07072437177149044,-0.30065745557897977,0.7994373965585402,0.8751506835427377,1.1155115055603666,0.08181770866635137,0.5386084703075279,-1.033743666161941,1.1312987191549198,0.6386512740206323,-0.730860260358285,0.022647128708439775,0.9030659402718686,0.4196252737795016,0.749792888990368,0.9704356372785585,0.45592253615505846,0.3694748505498746,0.46760935634060813,0.7535628130523763,-0.8900177242862918,0.39161788917975265,-0.5461046887377204,0.2344091164658849,0.2760175667577534,0.44839445583130977,1.036751910923423,-0.8728254405398566,0.44404989716987686,0.46735087925389424,-0.5486748581640043,-0.13883295760479014,0.09104883268506755,1.2779851119217194,0.465405580923326],\"yaxis\":\"y\",\"type\":\"scatter\"},{\"customdata\":[[\"Allure\",\"Tony Anderson\",\"tony-anderson\"],[\"Aurora\",\"Tony Anderson\",\"tony-anderson\"],[\"Chasm\",\"Tony Anderson\",\"tony-anderson\"],[\"Darkest Night\",\"Tony Anderson\",\"tony-anderson\"],[\"Deep Waters - Original Sketch\",\"Tony Anderson\",\"tony-anderson\"],[\"Deep Waters\",\"Tony Anderson\",\"tony-anderson\"],[\"Delusion\",\"Tony Anderson\",\"tony-anderson\"],[\"Eyes Wide Open - Cinematic Mix\",\"Tony Anderson\",\"tony-anderson\"],[\"Eyes Wide Open\",\"Tony Anderson\",\"tony-anderson\"],[\"Face of the Father\",\"Tony Anderson\",\"tony-anderson\"],[\"Farthest Seas\",\"Tony Anderson\",\"tony-anderson\"],[\"Finding Your Heart\",\"Tony Anderson\",\"tony-anderson\"],[\"Halo\",\"Tony Anderson\",\"tony-anderson\"],[\"High Tide\",\"Tony Anderson\",\"tony-anderson\"],[\"Immanuel\",\"Tony Anderson\",\"tony-anderson\"],[\"Immersion\",\"Tony Anderson\",\"tony-anderson\"],[\"In the Distance\",\"Tony Anderson\",\"tony-anderson\"],[\"Incision\",\"Tony Anderson\",\"tony-anderson\"],[\"Like a Child - Cinematic Mix\",\"Tony Anderson\",\"tony-anderson\"],[\"Low Tide\",\"Tony Anderson\",\"tony-anderson\"],[\"Lune\",\"Tony Anderson\",\"tony-anderson\"],[\"Morning's Wings\",\"Tony Anderson\",\"tony-anderson\"],[\"Nightingale\",\"Tony Anderson\",\"tony-anderson\"],[\"No Place on Earth\",\"Tony Anderson\",\"tony-anderson\"],[\"Nocturne in Paris\",\"Tony Anderson\",\"tony-anderson\"],[\"Perennial\",\"Tony Anderson\",\"tony-anderson\"],[\"Resurrect\",\"Tony Anderson\",\"tony-anderson\"],[\"Retour\",\"Tony Anderson\",\"tony-anderson\"],[\"Shalom\",\"Tony Anderson\",\"tony-anderson\"],[\"Slipstream\",\"Tony Anderson\",\"tony-anderson\"],[\"Something Can Grow\",\"Tony Anderson\",\"tony-anderson\"],[\"Spiriteaux\",\"Tony Anderson\",\"tony-anderson\"],[\"The King\",\"Tony Anderson\",\"tony-anderson\"],[\"The Way Home\",\"Tony Anderson\",\"tony-anderson\"],[\"Thin Place - Abbreviated\",\"Tony Anderson\",\"tony-anderson\"],[\"Thin Place\",\"Tony Anderson\",\"tony-anderson\"],[\"We Are One\",\"Tony Anderson\",\"tony-anderson\"],[\"Wir Sind Gleich\",\"Tony Anderson\",\"tony-anderson\"],[\"Younger\",\"Tony Anderson\",\"tony-anderson\"],[\"\\u00c9closion\",\"Tony Anderson\",\"tony-anderson\"],[\"\\u00c9ph\\u00e9m\\u00e8re\",\"Tony Anderson\",\"tony-anderson\"],[\"Arp\\u00e8ge\",\"Tony Anderson\",\"tony-anderson\"],[\"Nuit\",\"Tony Anderson\",\"tony-anderson\"],[\"Tenderness - Woven Remix\",\"Tony Anderson\",\"tony-anderson\"],[\"Tenderness\",\"Tony Anderson\",\"tony-anderson\"],[\"Cambodia - Ross Lara Remix\",\"Tony Anderson\",\"tony-anderson\"],[\"Cambodia\",\"Tony Anderson\",\"tony-anderson\"],[\"Oyarsa\",\"Tony Anderson\",\"tony-anderson\"]],\"hovertemplate\":\"playlist=%{customdata[2]}<br>chord_x=%{x}<br>chord_y=%{y}<br>song_name=%{customdata[0]}<br>artist=%{customdata[1]}<extra></extra>\",\"legendgroup\":\"tony-anderson\",\"marker\":{\"color\":\"#B6E880\",\"symbol\":\"circle\"},\"mode\":\"markers\",\"name\":\"tony-anderson\",\"orientation\":\"v\",\"showlegend\":true,\"x\":[-0.04901053326610844,0.4088416306964372,-0.87753864062944,-0.38969763931776114,0.9171205575444576,0.9830555075657164,-0.17696902978019227,-1.064605191848282,-0.8432758379221976,1.1618286307844803,-0.9796289810459039,0.07249142874987852,0.22220293341123484,-0.9156275139810696,0.2011187446797951,0.09850643917728444,-0.7974341450509903,-0.29149187311960684,-1.182050022917847,0.8003894024046702,0.33436141010270576,0.18483315382326487,-0.8568297986213022,0.198905187579718,0.4398540929826955,0.37174256433197905,0.3402781644775472,0.12299166612424149,0.06750256380932662,-0.08435578100678001,0.21384291520362436,0.44184090709803964,-0.9052148132323437,-0.7769666253851627,-0.7660788322714838,-0.8087277426225988,-0.8564296382681112,0.36629621572323295,0.37498629333364264,0.4432680417658181,0.04992530898372867,0.10477057058418529,-0.22659351664488414,0.9800685143001051,-0.33478023105134014,0.07625173461116494,0.21621966844723994,-1.3048947976269956],\"xaxis\":\"x\",\"y\":[-0.8100817509373042,-0.35007318445589125,0.019935892280583463,-0.8288724269603945,-0.7642577675271971,-0.5703971904172861,-0.7495043681235481,-0.2912335798144401,-0.5399896811105088,-0.33600862361804223,-0.2816716282530007,-0.7274888790015573,0.3594988425331274,-0.47526189170345795,-0.6229315662685712,-0.6304141643115665,-0.13921256607512933,-1.1764790863537786,-0.4711175281501749,-0.8399388965980598,-0.839883854688773,0.400248188137799,-0.01335484526631575,0.3652603564355726,0.1748887921911358,-0.7445721801762184,-0.8074752235371764,0.31307735160235955,-0.7975038130001634,0.8947043892875388,-1.4428072685184332,-1.1968864547570839,-0.7117854218889543,-0.13011154820033877,-0.2542312875765119,-0.10523189206109457,-0.41102228092206716,-0.49818784215326,-0.8682777895913331,0.018098472739805575,-1.061009161462758,0.24707039894830934,-0.6764875756602825,-0.5013089213035729,-0.43225285593076335,0.13875697161029255,0.3165897691652059,-0.36465026629812697],\"yaxis\":\"y\",\"type\":\"scatter\"}],                        {\"template\":{\"data\":{\"histogram2dcontour\":[{\"type\":\"histogram2dcontour\",\"colorbar\":{\"outlinewidth\":0,\"ticks\":\"\"},\"colorscale\":[[0.0,\"#0d0887\"],[0.1111111111111111,\"#46039f\"],[0.2222222222222222,\"#7201a8\"],[0.3333333333333333,\"#9c179e\"],[0.4444444444444444,\"#bd3786\"],[0.5555555555555556,\"#d8576b\"],[0.6666666666666666,\"#ed7953\"],[0.7777777777777778,\"#fb9f3a\"],[0.8888888888888888,\"#fdca26\"],[1.0,\"#f0f921\"]]}],\"choropleth\":[{\"type\":\"choropleth\",\"colorbar\":{\"outlinewidth\":0,\"ticks\":\"\"}}],\"histogram2d\":[{\"type\":\"histogram2d\",\"colorbar\":{\"outlinewidth\":0,\"ticks\":\"\"},\"colorscale\":[[0.0,\"#0d0887\"],[0.1111111111111111,\"#46039f\"],[0.2222222222222222,\"#7201a8\"],[0.3333333333333333,\"#9c179e\"],[0.4444444444444444,\"#bd3786\"],[0.5555555555555556,\"#d8576b\"],[0.6666666666666666,\"#ed7953\"],[0.7777777777777778,\"#fb9f3a\"],[0.8888888888888888,\"#fdca26\"],[1.0,\"#f0f921\"]]}],\"heatmap\":[{\"type\":\"heatmap\",\"colorbar\":{\"outlinewidth\":0,\"ticks\":\"\"},\"colorscale\":[[0.0,\"#0d0887\"],[0.1111111111111111,\"#46039f\"],[0.2222222222222222,\"#7201a8\"],[0.3333333333333333,\"#9c179e\"],[0.4444444444444444,\"#bd3786\"],[0.5555555555555556,\"#d8576b\"],[0.6666666666666666,\"#ed7953\"],[0.7777777777777778,\"#fb9f3a\"],[0.8888888888888888,\"#fdca26\"],[1.0,\"#f0f921\"]]}],\"heatmapgl\":[{\"type\":\"heatmapgl\",\"colorbar\":{\"outlinewidth\":0,\"ticks\":\"\"},\"colorscale\":[[0.0,\"#0d0887\"],[0.1111111111111111,\"#46039f\"],[0.2222222222222222,\"#7201a8\"],[0.3333333333333333,\"#9c179e\"],[0.4444444444444444,\"#bd3786\"],[0.5555555555555556,\"#d8576b\"],[0.6666666666666666,\"#ed7953\"],[0.7777777777777778,\"#fb9f3a\"],[0.8888888888888888,\"#fdca26\"],[1.0,\"#f0f921\"]]}],\"contourcarpet\":[{\"type\":\"contourcarpet\",\"colorbar\":{\"outlinewidth\":0,\"ticks\":\"\"}}],\"contour\":[{\"type\":\"contour\",\"colorbar\":{\"outlinewidth\":0,\"ticks\":\"\"},\"colorscale\":[[0.0,\"#0d0887\"],[0.1111111111111111,\"#46039f\"],[0.2222222222222222,\"#7201a8\"],[0.3333333333333333,\"#9c179e\"],[0.4444444444444444,\"#bd3786\"],[0.5555555555555556,\"#d8576b\"],[0.6666666666666666,\"#ed7953\"],[0.7777777777777778,\"#fb9f3a\"],[0.8888888888888888,\"#fdca26\"],[1.0,\"#f0f921\"]]}],\"surface\":[{\"type\":\"surface\",\"colorbar\":{\"outlinewidth\":0,\"ticks\":\"\"},\"colorscale\":[[0.0,\"#0d0887\"],[0.1111111111111111,\"#46039f\"],[0.2222222222222222,\"#7201a8\"],[0.3333333333333333,\"#9c179e\"],[0.4444444444444444,\"#bd3786\"],[0.5555555555555556,\"#d8576b\"],[0.6666666666666666,\"#ed7953\"],[0.7777777777777778,\"#fb9f3a\"],[0.8888888888888888,\"#fdca26\"],[1.0,\"#f0f921\"]]}],\"mesh3d\":[{\"type\":\"mesh3d\",\"colorbar\":{\"outlinewidth\":0,\"ticks\":\"\"}}],\"scatter\":[{\"marker\":{\"line\":{\"color\":\"#283442\"}},\"type\":\"scatter\"}],\"parcoords\":[{\"type\":\"parcoords\",\"line\":{\"colorbar\":{\"outlinewidth\":0,\"ticks\":\"\"}}}],\"scatterpolargl\":[{\"type\":\"scatterpolargl\",\"marker\":{\"colorbar\":{\"outlinewidth\":0,\"ticks\":\"\"}}}],\"bar\":[{\"error_x\":{\"color\":\"#f2f5fa\"},\"error_y\":{\"color\":\"#f2f5fa\"},\"marker\":{\"line\":{\"color\":\"rgb(17,17,17)\",\"width\":0.5},\"pattern\":{\"fillmode\":\"overlay\",\"size\":10,\"solidity\":0.2}},\"type\":\"bar\"}],\"scattergeo\":[{\"type\":\"scattergeo\",\"marker\":{\"colorbar\":{\"outlinewidth\":0,\"ticks\":\"\"}}}],\"scatterpolar\":[{\"type\":\"scatterpolar\",\"marker\":{\"colorbar\":{\"outlinewidth\":0,\"ticks\":\"\"}}}],\"histogram\":[{\"marker\":{\"pattern\":{\"fillmode\":\"overlay\",\"size\":10,\"solidity\":0.2}},\"type\":\"histogram\"}],\"scattergl\":[{\"marker\":{\"line\":{\"color\":\"#283442\"}},\"type\":\"scattergl\"}],\"scatter3d\":[{\"type\":\"scatter3d\",\"line\":{\"colorbar\":{\"outlinewidth\":0,\"ticks\":\"\"}},\"marker\":{\"colorbar\":{\"outlinewidth\":0,\"ticks\":\"\"}}}],\"scattermapbox\":[{\"type\":\"scattermapbox\",\"marker\":{\"colorbar\":{\"outlinewidth\":0,\"ticks\":\"\"}}}],\"scatterternary\":[{\"type\":\"scatterternary\",\"marker\":{\"colorbar\":{\"outlinewidth\":0,\"ticks\":\"\"}}}],\"scattercarpet\":[{\"type\":\"scattercarpet\",\"marker\":{\"colorbar\":{\"outlinewidth\":0,\"ticks\":\"\"}}}],\"carpet\":[{\"aaxis\":{\"endlinecolor\":\"#A2B1C6\",\"gridcolor\":\"#506784\",\"linecolor\":\"#506784\",\"minorgridcolor\":\"#506784\",\"startlinecolor\":\"#A2B1C6\"},\"baxis\":{\"endlinecolor\":\"#A2B1C6\",\"gridcolor\":\"#506784\",\"linecolor\":\"#506784\",\"minorgridcolor\":\"#506784\",\"startlinecolor\":\"#A2B1C6\"},\"type\":\"carpet\"}],\"table\":[{\"cells\":{\"fill\":{\"color\":\"#506784\"},\"line\":{\"color\":\"rgb(17,17,17)\"}},\"header\":{\"fill\":{\"color\":\"#2a3f5f\"},\"line\":{\"color\":\"rgb(17,17,17)\"}},\"type\":\"table\"}],\"barpolar\":[{\"marker\":{\"line\":{\"color\":\"rgb(17,17,17)\",\"width\":0.5},\"pattern\":{\"fillmode\":\"overlay\",\"size\":10,\"solidity\":0.2}},\"type\":\"barpolar\"}],\"pie\":[{\"automargin\":true,\"type\":\"pie\"}]},\"layout\":{\"autotypenumbers\":\"strict\",\"colorway\":[\"#636efa\",\"#EF553B\",\"#00cc96\",\"#ab63fa\",\"#FFA15A\",\"#19d3f3\",\"#FF6692\",\"#B6E880\",\"#FF97FF\",\"#FECB52\"],\"font\":{\"color\":\"#f2f5fa\"},\"hovermode\":\"closest\",\"hoverlabel\":{\"align\":\"left\"},\"paper_bgcolor\":\"rgb(17,17,17)\",\"plot_bgcolor\":\"rgb(17,17,17)\",\"polar\":{\"bgcolor\":\"rgb(17,17,17)\",\"angularaxis\":{\"gridcolor\":\"#506784\",\"linecolor\":\"#506784\",\"ticks\":\"\"},\"radialaxis\":{\"gridcolor\":\"#506784\",\"linecolor\":\"#506784\",\"ticks\":\"\"}},\"ternary\":{\"bgcolor\":\"rgb(17,17,17)\",\"aaxis\":{\"gridcolor\":\"#506784\",\"linecolor\":\"#506784\",\"ticks\":\"\"},\"baxis\":{\"gridcolor\":\"#506784\",\"linecolor\":\"#506784\",\"ticks\":\"\"},\"caxis\":{\"gridcolor\":\"#506784\",\"linecolor\":\"#506784\",\"ticks\":\"\"}},\"coloraxis\":{\"colorbar\":{\"outlinewidth\":0,\"ticks\":\"\"}},\"colorscale\":{\"sequential\":[[0.0,\"#0d0887\"],[0.1111111111111111,\"#46039f\"],[0.2222222222222222,\"#7201a8\"],[0.3333333333333333,\"#9c179e\"],[0.4444444444444444,\"#bd3786\"],[0.5555555555555556,\"#d8576b\"],[0.6666666666666666,\"#ed7953\"],[0.7777777777777778,\"#fb9f3a\"],[0.8888888888888888,\"#fdca26\"],[1.0,\"#f0f921\"]],\"sequentialminus\":[[0.0,\"#0d0887\"],[0.1111111111111111,\"#46039f\"],[0.2222222222222222,\"#7201a8\"],[0.3333333333333333,\"#9c179e\"],[0.4444444444444444,\"#bd3786\"],[0.5555555555555556,\"#d8576b\"],[0.6666666666666666,\"#ed7953\"],[0.7777777777777778,\"#fb9f3a\"],[0.8888888888888888,\"#fdca26\"],[1.0,\"#f0f921\"]],\"diverging\":[[0,\"#8e0152\"],[0.1,\"#c51b7d\"],[0.2,\"#de77ae\"],[0.3,\"#f1b6da\"],[0.4,\"#fde0ef\"],[0.5,\"#f7f7f7\"],[0.6,\"#e6f5d0\"],[0.7,\"#b8e186\"],[0.8,\"#7fbc41\"],[0.9,\"#4d9221\"],[1,\"#276419\"]]},\"xaxis\":{\"gridcolor\":\"#283442\",\"linecolor\":\"#506784\",\"ticks\":\"\",\"title\":{\"standoff\":15},\"zerolinecolor\":\"#283442\",\"automargin\":true,\"zerolinewidth\":2},\"yaxis\":{\"gridcolor\":\"#283442\",\"linecolor\":\"#506784\",\"ticks\":\"\",\"title\":{\"standoff\":15},\"zerolinecolor\":\"#283442\",\"automargin\":true,\"zerolinewidth\":2},\"scene\":{\"xaxis\":{\"backgroundcolor\":\"rgb(17,17,17)\",\"gridcolor\":\"#506784\",\"linecolor\":\"#506784\",\"showbackground\":true,\"ticks\":\"\",\"zerolinecolor\":\"#C8D4E3\",\"gridwidth\":2},\"yaxis\":{\"backgroundcolor\":\"rgb(17,17,17)\",\"gridcolor\":\"#506784\",\"linecolor\":\"#506784\",\"showbackground\":true,\"ticks\":\"\",\"zerolinecolor\":\"#C8D4E3\",\"gridwidth\":2},\"zaxis\":{\"backgroundcolor\":\"rgb(17,17,17)\",\"gridcolor\":\"#506784\",\"linecolor\":\"#506784\",\"showbackground\":true,\"ticks\":\"\",\"zerolinecolor\":\"#C8D4E3\",\"gridwidth\":2}},\"shapedefaults\":{\"line\":{\"color\":\"#f2f5fa\"}},\"annotationdefaults\":{\"arrowcolor\":\"#f2f5fa\",\"arrowhead\":0,\"arrowwidth\":1},\"geo\":{\"bgcolor\":\"rgb(17,17,17)\",\"landcolor\":\"rgb(17,17,17)\",\"subunitcolor\":\"#506784\",\"showland\":true,\"showlakes\":true,\"lakecolor\":\"rgb(17,17,17)\"},\"title\":{\"x\":0.05},\"updatemenudefaults\":{\"bgcolor\":\"#506784\",\"borderwidth\":0},\"sliderdefaults\":{\"bgcolor\":\"#C8D4E3\",\"borderwidth\":1,\"bordercolor\":\"rgb(17,17,17)\",\"tickwidth\":0},\"mapbox\":{\"style\":\"dark\"}}},\"xaxis\":{\"anchor\":\"y\",\"domain\":[0.0,1.0],\"title\":{\"text\":\"chord_x\"}},\"yaxis\":{\"anchor\":\"x\",\"domain\":[0.0,1.0],\"title\":{\"text\":\"chord_y\"}},\"legend\":{\"title\":{\"text\":\"playlist\"},\"tracegroupgap\":0},\"margin\":{\"t\":60}},                        {\"responsive\": true}                    ).then(function(){\n                            \nvar gd = document.getElementById('6baa7663-ba77-44aa-b8bb-0fe754fc875f');\nvar x = new MutationObserver(function (mutations, observer) {{\n        var display = window.getComputedStyle(gd).display;\n        if (!display || display === 'none') {{\n            console.log([gd, 'removed!']);\n            Plotly.purge(gd);\n            observer.disconnect();\n        }}\n}});\n\n// Listen for the removal of the full notebook cells\nvar notebookContainer = gd.closest('#notebook-container');\nif (notebookContainer) {{\n    x.observe(notebookContainer, {childList: true});\n}}\n\n// Listen for the clearing of the current output cell\nvar outputEl = gd.closest('.output');\nif (outputEl) {{\n    x.observe(outputEl, {childList: true});\n}}\n\n                        })                };                });            </script>        </div>"
     },
     "metadata": {},
     "output_type": "display_data"
    }
   ],
   "source": [
    "chord_trajectory = px.scatter(dataset, x='chord_x', y='chord_y', color='playlist', hover_data=config.metadata_columns)\n",
    "chord_trajectory.write_image(config.image_dir + '/chord-trajectory-mds.png', width=1000, scale=2)\n",
    "chord_trajectory"
   ]
  },
  {
   "cell_type": "markdown",
   "metadata": {},
   "source": [
    "### Tonnetz Distances\n",
    "\n",
    "Clustering here looks the weakest compared to the first two which could be attributed to its high dimensionality and ability to capture subtler nuances, but it still manages to roughly group songs by playlist and key signature at first glance."
   ]
  },
  {
   "cell_type": "code",
   "execution_count": 24,
   "metadata": {},
   "outputs": [
    {
     "data": {
      "application/vnd.plotly.v1+json": {
       "data": [
        {
         "customdata": [
          [
           "Ivan Sings",
           "Aram Khachaturian",
           "kino"
          ],
          [
           "Prélude in E Minor, Op. 28, No. 4",
           "Frédéric Chopin",
           "kino"
          ],
          [
           "Above the Trees",
           "Kino",
           "kino"
          ],
          [
           "All",
           "Kino",
           "kino"
          ],
          [
           "Anew",
           "Kino",
           "kino"
          ],
          [
           "As a Cloud",
           "Kino",
           "kino"
          ],
          [
           "Away",
           "Kino",
           "kino"
          ],
          [
           "Bloom",
           "Kino",
           "kino"
          ],
          [
           "Charleston",
           "Kino",
           "kino"
          ],
          [
           "Donau",
           "Kino",
           "kino"
          ],
          [
           "Each and Every (Ambient Mix)",
           "Kino",
           "kino"
          ],
          [
           "Each and Every (Piano)",
           "Kino",
           "kino"
          ],
          [
           "Each and Every",
           "Kino",
           "kino"
          ],
          [
           "Erlöst  Redeemed",
           "Kino",
           "kino"
          ],
          [
           "Gathering",
           "Kino",
           "kino"
          ],
          [
           "God Bless Us, Every One",
           "Kino",
           "kino"
          ],
          [
           "Hearth",
           "Kino",
           "kino"
          ],
          [
           "Hēo",
           "Kino",
           "kino"
          ],
          [
           "In Earnest",
           "Kino",
           "kino"
          ],
          [
           "Leinwand (Piano)",
           "Kino",
           "kino"
          ],
          [
           "Leinwand",
           "Kino",
           "kino"
          ],
          [
           "Lightly Tread",
           "Kino",
           "kino"
          ],
          [
           "Lone",
           "Kino",
           "kino"
          ],
          [
           "Many Colors",
           "Kino",
           "kino"
          ],
          [
           "Merrily, Merrily",
           "Kino",
           "kino"
          ],
          [
           "O Tannenbaum",
           "Kino",
           "kino"
          ],
          [
           "Presidio",
           "Kino",
           "kino"
          ],
          [
           "Rambuteau",
           "Kino",
           "kino"
          ],
          [
           "Seafarer's Quartet",
           "Kino",
           "kino"
          ],
          [
           "Seems",
           "Kino",
           "kino"
          ],
          [
           "Silent Night",
           "Kino",
           "kino"
          ],
          [
           "Silver Lake",
           "Kino",
           "kino"
          ],
          [
           "St John's",
           "Kino",
           "kino"
          ],
          [
           "Sunshine - Original",
           "Kino",
           "kino"
          ],
          [
           "Swell",
           "Kino",
           "kino"
          ],
          [
           "The Holly and the Ivy",
           "Kino",
           "kino"
          ],
          [
           "The Weight Unbearable (Piano)",
           "Kino",
           "kino"
          ],
          [
           "The Weight Unbearable",
           "Kino",
           "kino"
          ],
          [
           "Till",
           "Kino",
           "kino"
          ],
          [
           "Trio in E-flat Minor",
           "Kino",
           "kino"
          ],
          [
           "Under",
           "Kino",
           "kino"
          ],
          [
           "Water Lilies",
           "Kino",
           "kino"
          ],
          [
           "Wide Awake",
           "Kino",
           "kino"
          ],
          [
           "Willeth",
           "Kino",
           "kino"
          ],
          [
           "Wolden",
           "Kino",
           "kino"
          ],
          [
           "Yule",
           "Kino",
           "kino"
          ],
          [
           "Piano Sonata No. 14 in C-Sharp Minor, Op. 27 No. 2 “Moonlight”- I. Adagio sostenuto",
           "Ludwig van Beethoven",
           "kino"
          ]
         ],
         "hovertemplate": "playlist=%{customdata[2]}<br>tonnetz_x=%{x}<br>tonnetz_y=%{y}<br>song_name=%{customdata[0]}<br>artist=%{customdata[1]}<extra></extra>",
         "legendgroup": "kino",
         "marker": {
          "color": "#636efa",
          "symbol": "circle"
         },
         "mode": "markers",
         "name": "kino",
         "orientation": "v",
         "showlegend": true,
         "x": [
          -2.7178110428985436,
          3.190414905927752,
          -6.844608356648539,
          8.00978589250915,
          -2.299284601748915,
          -10.611657934130982,
          -6.390679486992078,
          -8.961637745865277,
          0.030730188442848097,
          2.586183531067055,
          -7.538417875831564,
          -6.608801362877605,
          -5.66968544170765,
          3.830811210419643,
          4.878538822393109,
          -7.094074451734311,
          -7.34077657518277,
          0.13795537398261393,
          6.040750123937105,
          5.958785588369892,
          6.037208508279742,
          -5.418489854533246,
          -3.6556890374443776,
          4.606623322663614,
          -5.688138690179473,
          4.455269256490056,
          -8.126146605696803,
          -8.647434625530922,
          6.997713482696375,
          3.612670055765466,
          3.3090033955991904,
          5.484332667268725,
          -1.386308910488967,
          -0.9078768290451883,
          -3.426414243709445,
          -4.624998544086746,
          -2.501653235046584,
          -0.785613232761795,
          5.557989670265478,
          -7.174193631110439,
          6.269663657684278,
          -7.412959778658375,
          -6.442269513843108,
          3.09495449693032,
          4.434520970555711,
          -3.3166928332398125,
          -4.784711288938626
         ],
         "xaxis": "x",
         "y": [
          -4.500331765523123,
          2.3142019685431485,
          1.3126696408733707,
          3.2629772417982568,
          8.367365737056867,
          -6.9076880319829606,
          8.148890761573755,
          -1.2394324132654853,
          6.172389229134006,
          -6.900360883211387,
          -3.092908998838135,
          -3.3726463995678646,
          -2.8302674775581007,
          -4.286943464130111,
          -3.640587603715191,
          -4.003225566048342,
          -1.6456824908273715,
          -6.584226045289528,
          7.788417700536625,
          1.2718359327702904,
          1.9542121032717543,
          1.5691480428003355,
          -6.474539645117797,
          -1.9841593721463164,
          -1.8498078576653145,
          3.255899692853786,
          3.035776816776238,
          0.9520962602005262,
          -4.861359202207326,
          -4.280065549428375,
          4.013326023639743,
          0.3390924412551176,
          -2.8045899399785417,
          3.57519165808687,
          6.13083871383283,
          -4.024637369376494,
          -5.270107416306262,
          -6.960713725373496,
          9.852553343721771,
          1.0623656764296145,
          -2.795290537997761,
          -3.5885370708484685,
          -2.614740576123055,
          -8.84804735203506,
          -7.345303130504685,
          -1.0195966180090839,
          4.746757154315176
         ],
         "yaxis": "y",
         "type": "scatter"
        },
        {
         "customdata": [
          [
           "But it's Destiny",
           "10cm",
           "korean-ost"
          ],
          [
           "나의 어깨에 기대어요",
           "10cm",
           "korean-ost"
          ],
          [
           "Is You",
           "AILEE",
           "korean-ost"
          ],
          [
           "How can I love the heartbreak, you're the one I love",
           "AKMU",
           "korean-ost"
          ],
          [
           "How can I love the heartbreak, you`re the one I love",
           "AKMU",
           "korean-ost"
          ],
          [
           "Amusement Park",
           "BAEKHYUN",
           "korean-ost"
          ],
          [
           "너를 사랑하고 있어",
           "BAEKHYUN",
           "korean-ost"
          ],
          [
           "Beautiful goodbye",
           "CHEN",
           "korean-ost"
          ],
          [
           "Flower",
           "CHEN",
           "korean-ost"
          ],
          [
           "I'll be there",
           "CHEN",
           "korean-ost"
          ],
          [
           "My dear",
           "CHEN",
           "korean-ost"
          ],
          [
           "Sorry not sorry",
           "CHEN",
           "korean-ost"
          ],
          [
           "Everytime",
           "CHEN",
           "korean-ost"
          ],
          [
           "Wish",
           "Choi Yuree",
           "korean-ost"
          ],
          [
           "Beautiful",
           "Crush",
           "korean-ost"
          ],
          [
           "Let Us Go",
           "Crush",
           "korean-ost"
          ],
          [
           "No Words",
           "Crush",
           "korean-ost"
          ],
          [
           "My Love",
           "DAVICHI",
           "korean-ost"
          ],
          [
           "Please Don't Cry",
           "DAVICHI",
           "korean-ost"
          ],
          [
           "Sunset",
           "DAVICHI",
           "korean-ost"
          ],
          [
           "노력해볼게요 I'll try",
           "DAY6",
           "korean-ost"
          ],
          [
           "I'm In Love With You",
           "Dvwn",
           "korean-ost"
          ],
          [
           "No Problem",
           "Dvwn",
           "korean-ost"
          ],
          [
           "긴 밤이 오면",
           "Eddy Kim",
           "korean-ost"
          ],
          [
           "Rain or Shine",
           "Elaine",
           "korean-ost"
          ],
          [
           "Hate Everything - Korean Version",
           "GSoul",
           "korean-ost"
          ],
          [
           "기억해줘요 내 모든 날과 그때를",
           "Gummy",
           "korean-ost"
          ],
          [
           "Slowly Fall",
           "Ha Hyun Sang",
           "korean-ost"
          ],
          [
           "내 맘을 볼 수 있나요",
           "HEIZE",
           "korean-ost"
          ],
          [
           "Deeply",
           "HEN",
           "korean-ost"
          ],
          [
           "To You",
           "HEN",
           "korean-ost"
          ],
          [
           "It's You",
           "HENRY",
           "korean-ost"
          ],
          [
           "Untitled Love Song",
           "HENRY",
           "korean-ost"
          ],
          [
           "Ending Scene",
           "IU",
           "korean-ost"
          ],
          [
           "Give You My Heart",
           "IU",
           "korean-ost"
          ],
          [
           "Love poem",
           "IU",
           "korean-ost"
          ],
          [
           "My sea",
           "IU",
           "korean-ost"
          ],
          [
           "Holiday",
           "JeHwi",
           "korean-ost"
          ],
          [
           "Stardust love song",
           "JIHYO",
           "korean-ost"
          ],
          [
           "What Lies Ahead",
           "Joe Layne",
           "korean-ost"
          ],
          [
           "Times Like This",
           "Josh Daniel",
           "korean-ost"
          ],
          [
           "Do you want to walk with me (Romance 101 X Jukjae)",
           "Jukjae",
           "korean-ost"
          ],
          [
           "The Days Like Pictures",
           "Jukjae",
           "korean-ost"
          ],
          [
           "나를 찾아서",
           "Jukjae",
           "korean-ost"
          ],
          [
           "별 보러 가자",
           "Jukjae",
           "korean-ost"
          ],
          [
           "Day & Night",
           "Jung Seung Hwan",
           "korean-ost"
          ],
          [
           "Because I Miss You",
           "Jung Yong Hwa",
           "korean-ost"
          ],
          [
           "For First-time Lovers (Banmal-song)",
           "Jung Yong Hwa",
           "korean-ost"
          ],
          [
           "I Go",
           "Kei (Kim Ji Yeon)",
           "korean-ost"
          ],
          [
           "보고싶다 (From. '드라마 천국의 계단')",
           "Kim Bum Soo",
           "korean-ost"
          ],
          [
           "One Day",
           "Kim Feel",
           "korean-ost"
          ],
          [
           "Someday, The Boy",
           "Kim Feel",
           "korean-ost"
          ],
          [
           "Vacance in September",
           "KIM JAE HWAN",
           "korean-ost"
          ],
          [
           "All of My Days",
           "KIMSEJEONG",
           "korean-ost"
          ],
          [
           "If Only",
           "KIMSEJEONG",
           "korean-ost"
          ],
          [
           "Lonely Night",
           "Kwon Jin Ah",
           "korean-ost"
          ],
          [
           "The End",
           "Kwon Jin Ah",
           "korean-ost"
          ],
          [
           "I Won't Heartbreaken",
           "Lee KwangHee",
           "korean-ost"
          ],
          [
           "In My Heart",
           "LIM YEON",
           "korean-ost"
          ],
          [
           "Lost",
           "LIM YEON",
           "korean-ost"
          ],
          [
           "Say Yes",
           "Loco",
           "korean-ost"
          ],
          [
           "Be There For You",
           "NCT DREAM",
           "korean-ost"
          ],
          [
           "Rainbow - Acoustic Version",
           "O.WHEN",
           "korean-ost"
          ],
          [
           "Me After You",
           "Paul Kim",
           "korean-ost"
          ],
          [
           "안녕",
           "Paul Kim",
           "korean-ost"
          ],
          [
           "But I'm Trying to Tell You How Much I Love You (With Moonbit)",
           "saevom",
           "korean-ost"
          ],
          [
           "For You",
           "Sam Kim",
           "korean-ost"
          ],
          [
           "Sunny Day Rainy Day (feat. Kassy)",
           "Sanchez",
           "korean-ost"
          ],
          [
           "Your world",
           "Seol Hoseung (SURL)",
           "korean-ost"
          ],
          [
           "Grown Ups",
           "Sondia",
           "korean-ost"
          ],
          [
           "Hug",
           "Sondia",
           "korean-ost"
          ],
          [
           "Our Souls at Night",
           "Sondia",
           "korean-ost"
          ],
          [
           "우린 친구뿐일까",
           "Sondia",
           "korean-ost"
          ],
          [
           "She",
           "Standing Egg",
           "korean-ost"
          ],
          [
           "Miracle (Feat. Paul Kim)",
           "Stella Jang",
           "korean-ost"
          ],
          [
           "One more time, One more chance",
           "Sung Si Kyung",
           "korean-ost"
          ],
          [
           "君がいるよ",
           "Sung Si Kyung",
           "korean-ost"
          ],
          [
           "Two People",
           "SURAN",
           "korean-ost"
          ],
          [
           "Inevitable",
           "Suzy",
           "korean-ost"
          ],
          [
           "Starlight",
           "TAEIL",
           "korean-ost"
          ],
          [
           "그대라는 시",
           "TAEYEON",
           "korean-ost"
          ],
          [
           "Two Words",
           "WENDY",
           "korean-ost"
          ],
          [
           "What If Love",
           "WENDY",
           "korean-ost"
          ],
          [
           "내일도 또 내일도 Tomorrow After Tomorrow",
           "WISUE",
           "korean-ost"
          ],
          [
           "Your Existence",
           "Wonstein",
           "korean-ost"
          ],
          [
           "Free",
           "Xydo",
           "korean-ost"
          ],
          [
           "너만 너만 너만",
           "Yang Dail",
           "korean-ost"
          ],
          [
           "With me",
           "Yang Dail",
           "korean-ost"
          ],
          [
           "Here I Am Again",
           "Yerin Baek",
           "korean-ost"
          ],
          [
           "Maze",
           "YONGZOO",
           "korean-ost"
          ],
          [
           "ALWAYS",
           "Yoon Mirae",
           "korean-ost"
          ],
          [
           "Flower",
           "Yoon Mirae",
           "korean-ost"
          ],
          [
           "You Are My World",
           "Yoon Mirae",
           "korean-ost"
          ],
          [
           "I Just Want To Stay With You",
           "Zion.T",
           "korean-ost"
          ],
          [
           "Faith",
           "이준화",
           "korean-ost"
          ]
         ],
         "hovertemplate": "playlist=%{customdata[2]}<br>tonnetz_x=%{x}<br>tonnetz_y=%{y}<br>song_name=%{customdata[0]}<br>artist=%{customdata[1]}<extra></extra>",
         "legendgroup": "korean-ost",
         "marker": {
          "color": "#EF553B",
          "symbol": "circle"
         },
         "mode": "markers",
         "name": "korean-ost",
         "orientation": "v",
         "showlegend": true,
         "x": [
          -1.3720514158480956,
          -4.662351000384412,
          1.0920465342218335,
          1.3961287580691644,
          1.3961287580691644,
          0.16871532422412805,
          -0.9826527588768252,
          -4.341045032917878,
          1.4559673461960823,
          -3.6677040037879105,
          -0.026399007177704277,
          -1.6132642915530608,
          -0.7084517206868248,
          -6.70712792855573,
          -0.25900445794813826,
          0.9968409194217549,
          -4.330721430496474,
          -4.612800594324868,
          -0.021877319077811753,
          -4.783936847702066,
          1.9597825442102883,
          0.2541001610056436,
          5.6007891607000175,
          1.9198906340748565,
          -4.919986674995482,
          -0.9855798349523313,
          -2.6065882359640264,
          -6.217706415311705,
          1.7972207943347556,
          1.5453526699069033,
          -5.630388622179378,
          3.6378181874786697,
          0.6306034696594827,
          0.23478965977716915,
          -4.891746570217231,
          -3.1437677793333605,
          0.607426946449476,
          1.198389814743333,
          3.872444049989126,
          4.304081113017557,
          1.652363878636944,
          1.0795052018757259,
          4.211512797902754,
          1.2879280977129994,
          -3.2563095220290217,
          -3.558946665985802,
          3.9793885163391374,
          2.3330863996021614,
          -0.6113964082777094,
          0.9639884668365587,
          -3.4409470220042437,
          4.936127332446765,
          2.7469124474637554,
          -1.4106244973925701,
          -5.82684628854934,
          0.7043575998130918,
          -4.250043980288222,
          -0.3004262751968412,
          -3.0299269107944955,
          1.2851439029968752,
          -0.9966005838438234,
          -0.677947608665079,
          -3.901004231277805,
          2.5289716523969386,
          3.1462468410963353,
          4.565721284957106,
          -5.951484803959878,
          0.6761478390785,
          1.099292143346246,
          1.9648962240918073,
          4.77362277991519,
          -4.7975279266314965,
          -3.068311316730391,
          -1.4629909069042044,
          1.786456748361478,
          2.4081802545968696,
          3.044408044271569,
          -2.688534656262548,
          -5.749393983198873,
          0.651869944207125,
          0.7687611898731445,
          -4.286936982404852,
          -2.9875502031435266,
          -6.192722647589398,
          0.459099060113416,
          -0.7219666025235966,
          -3.87625166867028,
          -0.4724759874546986,
          1.9908413950673727,
          1.439248816084732,
          -1.8687642976081278,
          -5.7223292077612555,
          -1.4754722786862127,
          0.7578496813637268,
          6.202146029343687
         ],
         "xaxis": "x",
         "y": [
          -2.064858379821737,
          2.46109641718147,
          5.139480030455617,
          -4.3267946730237625,
          -4.3267946730237625,
          -0.8636848844536151,
          4.052418203956764,
          -4.12650529167255,
          4.854220313188278,
          0.17415401876922576,
          4.535671346872082,
          -4.582122400083341,
          -1.2109222126116717,
          0.8942240261696095,
          -4.745560211465627,
          -5.96674845269967,
          2.796974723915816,
          -2.2691539261436953,
          -4.425295486001092,
          -1.401446011295655,
          0.8274135426842052,
          -2.254651230880393,
          2.758905624634209,
          -3.8996979850356173,
          6.057287624702071,
          -4.3233990533039215,
          2.689987117576498,
          0.036124335926477444,
          6.414286880082658,
          -2.4192766770736016,
          4.563797595094288,
          1.1730165967269668,
          -1.2268289503238368,
          -4.647705666010091,
          -2.0349437431460435,
          4.710388920145498,
          5.095964651203848,
          2.9564725236560387,
          5.1950371133704785,
          2.874577361333956,
          5.185243447483318,
          1.981407607680875,
          -3.860718325323552,
          0.35425956637442585,
          -0.3631820179268135,
          -3.7926672438713216,
          -0.6674000878808113,
          1.2815293426082257,
          -1.9015184691957039,
          -3.5048423028226603,
          4.841288148521355,
          -5.3772809484610775,
          -0.9415612009822825,
          4.731230641192492,
          -1.1871644832227202,
          -6.65317553918739,
          -1.5328606322212597,
          7.1877784673653435,
          1.7238627232698427,
          6.238624654782714,
          1.5731859421655614,
          3.5596032573054517,
          5.235549072956232,
          -1.3020116921608123,
          -2.0779776457088563,
          1.3624087762537023,
          1.3563664137759917,
          -1.1146760830162463,
          -1.895816954305826,
          3.6290543928689116,
          2.830333488006102,
          3.421134931898079,
          -5.260284474572882,
          1.9153206420917697,
          -0.5025835605264934,
          3.3992617122525335,
          4.315204321472061,
          -3.535504303903736,
          -6.93301854992763,
          0.9459887459588184,
          4.706012684677836,
          0.21511555502891158,
          0.15943775637527696,
          1.8900810020233048,
          0.13037929236585327,
          1.4932122718062057,
          0.40337431554707137,
          2.41073055639148,
          5.383244998403713,
          -5.306963603290926,
          -3.7678008939738716,
          0.7041387468542197,
          -4.242978045596978,
          1.6135777228131782,
          4.165465111686907
         ],
         "yaxis": "y",
         "type": "scatter"
        },
        {
         "customdata": [
          [
           "A Speck of Light - Reimagined",
           "Lights & Motion",
           "lights-and-motion"
          ],
          [
           "A Speck of Light",
           "Lights & Motion",
           "lights-and-motion"
          ],
          [
           "All the Way",
           "Lights & Motion",
           "lights-and-motion"
          ],
          [
           "Anamorphic",
           "Lights & Motion",
           "lights-and-motion"
          ],
          [
           "Anchor",
           "Lights & Motion",
           "lights-and-motion"
          ],
          [
           "Anomaly",
           "Lights & Motion",
           "lights-and-motion"
          ],
          [
           "Antlers",
           "Lights & Motion",
           "lights-and-motion"
          ],
          [
           "Arms Wide Open",
           "Lights & Motion",
           "lights-and-motion"
          ],
          [
           "As the World Goes Away",
           "Lights & Motion",
           "lights-and-motion"
          ],
          [
           "As They Sleep",
           "Lights & Motion",
           "lights-and-motion"
          ],
          [
           "Aurora",
           "Lights & Motion",
           "lights-and-motion"
          ],
          [
           "Deafening Silence",
           "Lights & Motion",
           "lights-and-motion"
          ],
          [
           "DNA",
           "Lights & Motion",
           "lights-and-motion"
          ],
          [
           "Equals",
           "Lights & Motion",
           "lights-and-motion"
          ],
          [
           "Everest",
           "Lights & Motion",
           "lights-and-motion"
          ],
          [
           "Exhale",
           "Lights & Motion",
           "lights-and-motion"
          ],
          [
           "Feathers",
           "Lights & Motion",
           "lights-and-motion"
          ],
          [
           "Fireflies",
           "Lights & Motion",
           "lights-and-motion"
          ],
          [
           "From Dust",
           "Lights & Motion",
           "lights-and-motion"
          ],
          [
           "Glistening - Reimagined",
           "Lights & Motion",
           "lights-and-motion"
          ],
          [
           "Glistening",
           "Lights & Motion",
           "lights-and-motion"
          ],
          [
           "Glow",
           "Lights & Motion",
           "lights-and-motion"
          ],
          [
           "I See You (feat. Frida Sundemo)",
           "Lights & Motion",
           "lights-and-motion"
          ],
          [
           "I See You - Reimagined (feat. Frida Sundemo)",
           "Lights & Motion",
           "lights-and-motion"
          ],
          [
           "Lucid Dreaming",
           "Lights & Motion",
           "lights-and-motion"
          ],
          [
           "Northern Lights",
           "Lights & Motion",
           "lights-and-motion"
          ],
          [
           "Pandora",
           "Lights & Motion",
           "lights-and-motion"
          ],
          [
           "Panic Attack",
           "Lights & Motion",
           "lights-and-motion"
          ],
          [
           "Paper Wings",
           "Lights & Motion",
           "lights-and-motion"
          ],
          [
           "Parachutes",
           "Lights & Motion",
           "lights-and-motion"
          ],
          [
           "Particle Storm",
           "Lights & Motion",
           "lights-and-motion"
          ],
          [
           "Perfect Symmetry",
           "Lights & Motion",
           "lights-and-motion"
          ],
          [
           "Phoenix",
           "Lights & Motion",
           "lights-and-motion"
          ],
          [
           "Reanimation - Revisited 10th Anniversary Edition",
           "Lights & Motion",
           "lights-and-motion"
          ],
          [
           "Reborn",
           "Lights & Motion",
           "lights-and-motion"
          ],
          [
           "Separated Hearts - Reimagined",
           "Lights & Motion",
           "lights-and-motion"
          ],
          [
           "Separated Hearts",
           "Lights & Motion",
           "lights-and-motion"
          ],
          [
           "Silver Lining",
           "Lights & Motion",
           "lights-and-motion"
          ],
          [
           "Sleeping Giant",
           "Lights & Motion",
           "lights-and-motion"
          ],
          [
           "Sypher",
           "Lights & Motion",
           "lights-and-motion"
          ],
          [
           "The First Day",
           "Lights & Motion",
           "lights-and-motion"
          ],
          [
           "The Great Wide Open - Reimagined",
           "Lights & Motion",
           "lights-and-motion"
          ],
          [
           "The Great Wide Open",
           "Lights & Motion",
           "lights-and-motion"
          ],
          [
           "The Moments Before",
           "Lights & Motion",
           "lights-and-motion"
          ],
          [
           "The Spectacular Quiet",
           "Lights & Motion",
           "lights-and-motion"
          ],
          [
           "The World I Remember",
           "Lights & Motion",
           "lights-and-motion"
          ],
          [
           "This Explosion Within",
           "Lights & Motion",
           "lights-and-motion"
          ],
          [
           "Touching Sky",
           "Lights & Motion",
           "lights-and-motion"
          ],
          [
           "We Only Have Forever",
           "Lights & Motion",
           "lights-and-motion"
          ],
          [
           "When Everything Is Falling",
           "Lights & Motion",
           "lights-and-motion"
          ],
          [
           "Wilderness",
           "Lights & Motion",
           "lights-and-motion"
          ],
          [
           "Winter Solstice",
           "Lights & Motion",
           "lights-and-motion"
          ],
          [
           "Wolves (feat. Johan Hasselblom)",
           "Lights & Motion",
           "lights-and-motion"
          ],
          [
           "Wolves - Reimagined (feat. Johan Hasselblom)",
           "Lights & Motion",
           "lights-and-motion"
          ],
          [
           "Woven",
           "Lights & Motion",
           "lights-and-motion"
          ],
          [
           "Year Zero",
           "Lights & Motion",
           "lights-and-motion"
          ]
         ],
         "hovertemplate": "playlist=%{customdata[2]}<br>tonnetz_x=%{x}<br>tonnetz_y=%{y}<br>song_name=%{customdata[0]}<br>artist=%{customdata[1]}<extra></extra>",
         "legendgroup": "lights-and-motion",
         "marker": {
          "color": "#00cc96",
          "symbol": "circle"
         },
         "mode": "markers",
         "name": "lights-and-motion",
         "orientation": "v",
         "showlegend": true,
         "x": [
          5.347573874496753,
          4.920476633397219,
          2.814079793593497,
          6.490372828543248,
          1.5575754779135582,
          7.7120642167475015,
          -0.7842401051466572,
          2.0526142224470787,
          -1.1540810523800928,
          7.348505982136267,
          9.350728901952305,
          2.2533429651764063,
          -0.7832079245732172,
          5.862881728854914,
          3.413921886269272,
          2.3246174807581736,
          1.552205090587332,
          3.6052324888090794,
          1.8820063180238626,
          8.048792687846307,
          4.7923978675233725,
          6.497986148228059,
          5.861897001637251,
          7.329715063079338,
          0.4952993643639363,
          -8.856810435106018,
          -2.5688780990723012,
          0.049784227771762356,
          4.896696435985287,
          2.5316535132172064,
          4.657970166656723,
          0.9241495077159811,
          1.0828676577878689,
          1.950502715174606,
          5.429622327694767,
          4.812126841885781,
          1.4608712435139772,
          0.8580902605262595,
          2.7134455350190994,
          0.6114462870444464,
          2.506618097611163,
          4.753715175532262,
          4.195683288736841,
          6.286546468808637,
          6.7110670615278405,
          4.010092193624265,
          2.700562864491174,
          3.065135466385395,
          -0.7554337005909272,
          7.55252074423556,
          2.928035954830334,
          5.585829217275503,
          -1.398982295990414,
          -1.3068589110533404,
          3.715458880689102,
          0.6117198515711719
         ],
         "xaxis": "x",
         "y": [
          -6.044901088657604,
          -6.976127874914536,
          2.3576967593633986,
          -8.637741433027417,
          0.225392976876484,
          -1.7846783270255229,
          6.879864133608109,
          2.1044733545317142,
          5.588452334045392,
          -7.735348155696295,
          -4.130233948748755,
          -0.574345866291978,
          4.562493687734993,
          -4.2134576622738855,
          -2.6265799496473052,
          2.6849863362312916,
          -2.0220759384098703,
          0.678429612019794,
          2.8470426352783065,
          5.733024977047411,
          4.3116347315054275,
          -3.9727095647568094,
          -3.306853175225429,
          -2.8648408500060034,
          10.002427421618547,
          2.5151289677533044,
          3.321768153263403,
          2.3379497141664984,
          -2.859652159349409,
          -2.5617277256985074,
          -0.5004832974957865,
          10.765499948677133,
          6.0802657001255636,
          -2.630424326343553,
          -0.09964193280030031,
          9.541532228033834,
          3.9764090634688993,
          -3.6041330767312236,
          3.210754402867112,
          4.004502419750905,
          -2.275074087744541,
          2.131401797227832,
          1.127918768707618,
          3.2809759720893696,
          -5.874094907743121,
          -2.487679909718423,
          -3.410459936922047,
          -1.382439366265326,
          1.6337095206138887,
          3.9284499895669254,
          3.2469862986619598,
          -5.235722715776059,
          -1.4280994386473107,
          -6.086961640015884,
          5.759861756854252,
          7.595543562321627
         ],
         "yaxis": "y",
         "type": "scatter"
        },
        {
         "customdata": [
          [
           "Another Wave from You",
           "M83",
           "m83"
          ],
          [
           "Claudia Lewis",
           "M83",
           "m83"
          ],
          [
           "Echoes of Mine",
           "M83",
           "m83"
          ],
          [
           "Fountains",
           "M83",
           "m83"
          ],
          [
           "Intro",
           "M83",
           "m83"
          ],
          [
           "Klaus I Love You",
           "M83",
           "m83"
          ],
          [
           "Midnight City",
           "M83",
           "m83"
          ],
          [
           "My Tears Are Becoming a Sea",
           "M83",
           "m83"
          ],
          [
           "New Map",
           "M83",
           "m83"
          ],
          [
           "Ok Pal",
           "M83",
           "m83"
          ],
          [
           "Outro",
           "M83",
           "m83"
          ],
          [
           "Raconte-moi une histoire",
           "M83",
           "m83"
          ],
          [
           "Reunion",
           "M83",
           "m83"
          ],
          [
           "Soon, My Friend",
           "M83",
           "m83"
          ],
          [
           "Splendor",
           "M83",
           "m83"
          ],
          [
           "Steve Mcqueen",
           "M83",
           "m83"
          ],
          [
           "This Bright Flash",
           "M83",
           "m83"
          ],
          [
           "Train to Pluton",
           "M83",
           "m83"
          ],
          [
           "Wait",
           "M83",
           "m83"
          ],
          [
           "When Will You Come Home",
           "M83",
           "m83"
          ],
          [
           "Where the Boats Go",
           "M83",
           "m83"
          ],
          [
           "Year One, One Ufo",
           "M83",
           "m83"
          ],
          [
           "Ashes of Our Fathers",
           "M83",
           "m83"
          ],
          [
           "Canyon Battle",
           "M83",
           "m83"
          ],
          [
           "Earth 2077",
           "M83",
           "m83"
          ],
          [
           "Fearful Odds",
           "M83",
           "m83"
          ],
          [
           "I'm Sending You Away",
           "M83",
           "m83"
          ],
          [
           "Jack's Dream",
           "M83",
           "m83"
          ],
          [
           "Losing Control",
           "M83",
           "m83"
          ],
          [
           "Odyssey Rescue",
           "M83",
           "m83"
          ],
          [
           "Radiation Zone",
           "M83",
           "m83"
          ],
          [
           "Raven Rock",
           "M83",
           "m83"
          ],
          [
           "StarWaves",
           "M83",
           "m83"
          ],
          [
           "Tech 49",
           "M83",
           "m83"
          ],
          [
           "Temples of Our Gods",
           "M83",
           "m83"
          ],
          [
           "Undimmed by Time, Unbound by Death",
           "M83",
           "m83"
          ],
          [
           "Waking Up",
           "M83",
           "m83"
          ],
          [
           "You Can't Save Her",
           "M83",
           "m83"
          ],
          [
           "Oblivion",
           "M83",
           "m83"
          ]
         ],
         "hovertemplate": "playlist=%{customdata[2]}<br>tonnetz_x=%{x}<br>tonnetz_y=%{y}<br>song_name=%{customdata[0]}<br>artist=%{customdata[1]}<extra></extra>",
         "legendgroup": "m83",
         "marker": {
          "color": "#ab63fa",
          "symbol": "circle"
         },
         "mode": "markers",
         "name": "m83",
         "orientation": "v",
         "showlegend": true,
         "x": [
          -10.187347432792087,
          0.5951399933511059,
          1.097685728574022,
          -5.908851886296229,
          -4.2410220865265975,
          3.441360716520165,
          0.5656622316760108,
          -3.992126416201082,
          0.117229574832181,
          -1.8690342312522066,
          5.6878355437409915,
          -1.376679473118242,
          0.9343754750721612,
          3.24901258536204,
          3.0091605512388466,
          1.6753713108162571,
          3.84349115715464,
          1.126418121658428,
          4.58189235698124,
          -12.037585950450124,
          -8.713535442615608,
          -0.16350002313470455,
          -1.6286277925952621,
          -0.4937629649466651,
          1.4051537064546626,
          -3.406599609914926,
          8.1437236476838,
          -10.252690013192861,
          3.2924181845359315,
          -0.997171185538244,
          -1.87210143647247,
          -7.581140530232676,
          -2.443141698490013,
          5.510982238380733,
          -0.8738737241360733,
          -10.167964811904671,
          -0.7453102620925561,
          -5.827687241043898,
          5.431299399774842
         ],
         "xaxis": "x",
         "y": [
          3.610724277881576,
          -0.9304048928180128,
          -5.8006236566047E-4,
          6.6720015866339555,
          2.2242540197891536,
          9.722508484404658,
          1.4099641232132492,
          7.7204830606334385,
          2.491216301700137,
          1.394474528363162,
          3.7740629819024556,
          -1.1085272635309777,
          0.7357037731600985,
          -4.036632185300939,
          4.898282514374539,
          2.509633162239309,
          1.699550199981526,
          -1.0438588413504866,
          3.9797250051368125,
          3.2677824588356645,
          5.375915471449082,
          3.7824558097330514,
          1.2494785328685711,
          -0.055256046919222195,
          -0.4195564391130527,
          -1.9991493909502616,
          2.0023987219175923,
          -0.848349802373681,
          0.38694787771430633,
          0.5443666119713708,
          -0.5987753391752592,
          -6.009949238355452,
          -6.660588122656888,
          0.8612690448876266,
          -5.2077166489350875,
          -1.779364559887189,
          -2.9744713085384373,
          3.6954774578319203,
          2.2489497590709786
         ],
         "yaxis": "y",
         "type": "scatter"
        },
        {
         "customdata": [
          [
           "A Moment Apart",
           "ODESZA",
           "odesza"
          ],
          [
           "Across The Room (feat. Leon Bridges)",
           "ODESZA",
           "odesza"
          ],
          [
           "Boy",
           "ODESZA",
           "odesza"
          ],
          [
           "Corners Of The Earth (feat. RY X)",
           "ODESZA",
           "odesza"
          ],
          [
           "Divide (feat. Kelsey Bulkin)",
           "ODESZA",
           "odesza"
          ],
          [
           "Everything At Your Feet (feat. The Chamanas)",
           "ODESZA",
           "odesza"
          ],
          [
           "Falls (feat. Sasha Alex Sloan)",
           "ODESZA",
           "odesza"
          ],
          [
           "Falls (Reprise) (feat. Sasha Alex Sloan)",
           "ODESZA",
           "odesza"
          ],
          [
           "Falls (Reprise) - Instrumental",
           "ODESZA",
           "odesza"
          ],
          [
           "Higher Ground (feat. Naomi Wild)",
           "ODESZA",
           "odesza"
          ],
          [
           "Higher Ground (Reprise) (feat. Naomi Wild)",
           "ODESZA",
           "odesza"
          ],
          [
           "Higher Ground (Reprise) - Instrumental",
           "ODESZA",
           "odesza"
          ],
          [
           "Intro",
           "ODESZA",
           "odesza"
          ],
          [
           "It’s Only (feat. Zyra) - ODESZA VIP Remix",
           "ODESZA",
           "odesza"
          ],
          [
           "Just A Memory (feat. Regina Spektor)",
           "ODESZA",
           "odesza"
          ],
          [
           "La Ciudad",
           "ODESZA",
           "odesza"
          ],
          [
           "Late Night",
           "ODESZA",
           "odesza"
          ],
          [
           "Line Of Sight (feat. WYNNE & Mansionair)",
           "ODESZA",
           "odesza"
          ],
          [
           "Line Of Sight (Reprise) (feat. WYNNE & Mansionair)",
           "ODESZA",
           "odesza"
          ],
          [
           "Line Of Sight (Reprise) - Instrumental",
           "ODESZA",
           "odesza"
          ],
          [
           "Loyal",
           "ODESZA",
           "odesza"
          ],
          [
           "Memories That You Call (feat. Monsoonsiren) - ODESZA & Golden Features VIP Remix",
           "ODESZA",
           "odesza"
          ],
          [
           "Meridian",
           "ODESZA",
           "odesza"
          ],
          [
           "Show Me",
           "ODESZA",
           "odesza"
          ],
          [
           "Thin Floors And Tall Ceilings",
           "ODESZA",
           "odesza"
          ]
         ],
         "hovertemplate": "playlist=%{customdata[2]}<br>tonnetz_x=%{x}<br>tonnetz_y=%{y}<br>song_name=%{customdata[0]}<br>artist=%{customdata[1]}<extra></extra>",
         "legendgroup": "odesza",
         "marker": {
          "color": "#FFA15A",
          "symbol": "circle"
         },
         "mode": "markers",
         "name": "odesza",
         "orientation": "v",
         "showlegend": true,
         "x": [
          -0.6579218287978309,
          -4.033718167627603,
          1.4140582274347258,
          2.7109939524623123,
          1.9441199529629705,
          0.7726445505772089,
          -3.08364429369017,
          -4.191580684214891,
          -6.444681666924757,
          -2.3909377544907646,
          -6.999852990664304,
          -7.90447189964441,
          0.16193749498398896,
          3.9586756200146045,
          8.894193389370399,
          4.573666530906251,
          1.7841479145772068,
          -2.5240607538107787,
          -5.900458403837068,
          -8.75490401595997,
          -1.5004962535771678,
          0.478379631763383,
          -1.7743189171503089,
          4.463148103954809,
          -0.31607979626916827
         ],
         "xaxis": "x",
         "y": [
          -4.369328764779937,
          2.501856774928269,
          -0.7224545913032182,
          7.983893939147586,
          -1.1461465382854081,
          -0.2359075290798186,
          2.409176045481816,
          3.2756672815470407,
          5.002369095603122,
          1.593649844686725,
          5.884196175284314,
          7.667418393012655,
          1.8257117878947846,
          0.39161838390616494,
          -2.820692526284345,
          -0.825125304159386,
          1.5064531645147197,
          -1.2869198637477601,
          -3.9919497184328248,
          -5.003247655880613,
          4.0371259696601935,
          -2.467932588348209,
          -0.9300008144730993,
          5.348284476960389,
          -6.444651527334687
         ],
         "yaxis": "y",
         "type": "scatter"
        },
        {
         "customdata": [
          [
           "April 10, 2019- Powehi - Image of a Black Hole",
           "Sleeping At Last",
           "sleeping-at-last"
          ],
          [
           "August 12, 2018- Perseid Meteor Shower",
           "Sleeping At Last",
           "sleeping-at-last"
          ],
          [
           "August 21, 2017- Total Solar Eclipse",
           "Sleeping At Last",
           "sleeping-at-last"
          ],
          [
           "December 13, 2017- Geminid Meteor Shower",
           "Sleeping At Last",
           "sleeping-at-last"
          ],
          [
           "December 17, 2018- Farout",
           "Sleeping At Last",
           "sleeping-at-last"
          ],
          [
           "December 21, 2020- The Great Conjunction",
           "Sleeping At Last",
           "sleeping-at-last"
          ],
          [
           "December 25, 2021- Webb Space Telescope - Launch",
           "Sleeping At Last",
           "sleeping-at-last"
          ],
          [
           "February 1, 2023- C2022 E3 - Comet Ztf",
           "Sleeping At Last",
           "sleeping-at-last"
          ],
          [
           "February 13, 2019- Opportunity - Mission Complete",
           "Sleeping At Last",
           "sleeping-at-last"
          ],
          [
           "February 18, 2021- Perseverance - Mars Landing",
           "Sleeping At Last",
           "sleeping-at-last"
          ],
          [
           "January 30, 2020- Spitzer - Final Voyage",
           "Sleeping At Last",
           "sleeping-at-last"
          ],
          [
           "January 31, 2018- Super Blue Blood Moon",
           "Sleeping At Last",
           "sleeping-at-last"
          ],
          [
           "July 22, 2020- C  2020 F3 - Comet Neowise",
           "Sleeping At Last",
           "sleeping-at-last"
          ],
          [
           "July 27, 2018- Total Lunar Eclipse",
           "Sleeping At Last",
           "sleeping-at-last"
          ],
          [
           "July 4, 2020- Aphelion",
           "Sleeping At Last",
           "sleeping-at-last"
          ],
          [
           "June 24, 2022- Parade of Planets",
           "Sleeping At Last",
           "sleeping-at-last"
          ],
          [
           "June 30, 2018- Pds 70b (Birth of a Planet)",
           "Sleeping At Last",
           "sleeping-at-last"
          ],
          [
           "October 30, 2018- Kepler - Goodnight",
           "Sleeping At Last",
           "sleeping-at-last"
          ],
          [
           "September 15, 2017- Cassini - The Grand Finale",
           "Sleeping At Last",
           "sleeping-at-last"
          ]
         ],
         "hovertemplate": "playlist=%{customdata[2]}<br>tonnetz_x=%{x}<br>tonnetz_y=%{y}<br>song_name=%{customdata[0]}<br>artist=%{customdata[1]}<extra></extra>",
         "legendgroup": "sleeping-at-last",
         "marker": {
          "color": "#19d3f3",
          "symbol": "circle"
         },
         "mode": "markers",
         "name": "sleeping-at-last",
         "orientation": "v",
         "showlegend": true,
         "x": [
          5.160023665393652,
          -1.9485996632257827,
          -7.178095107460418,
          -5.352176759440869,
          3.1112145597673457,
          -3.4723379734670763,
          5.483505470365295,
          -4.494402282984985,
          3.116157437619408,
          -7.32746691968156,
          5.634444285036202,
          7.209497143661853,
          -1.5955311332415623,
          -5.756221526519929,
          4.380508631597111,
          -4.799293487113217,
          -3.6800547438000013,
          -2.560526946867758,
          -1.2482195987062241
         ],
         "xaxis": "x",
         "y": [
          1.8053756053009464,
          8.066171604238907,
          2.5417040668916577,
          -0.07972712020248603,
          -2.914291820680474,
          -4.24216193687764,
          5.6837897927861984,
          -6.723216848694907,
          5.909300831390965,
          0.4197222039639042,
          -1.7390252640143722,
          -4.279099401573975,
          8.743111488122176,
          -4.736711494062712,
          -4.179689318481313,
          5.45908163983102,
          1.0254380128476475,
          -2.3748660711098566,
          -5.416550302789678
         ],
         "yaxis": "y",
         "type": "scatter"
        },
        {
         "customdata": [
          [
           "It's Ok If You Forget Me",
           "Astrid S",
           "synth-pop"
          ],
          [
           "Young & Alive",
           "Bazzi",
           "synth-pop"
          ],
          [
           "Paralyze",
           "Bjørnskov",
           "synth-pop"
          ],
          [
           "San Diego",
           "BRDGS",
           "synth-pop"
          ],
          [
           "Ear Candy",
           "Caye",
           "synth-pop"
          ],
          [
           "12 Hours",
           "Chris James",
           "synth-pop"
          ],
          [
           "My Universe",
           "Coldplay",
           "synth-pop"
          ],
          [
           "Overdrive",
           "Conan Gray",
           "synth-pop"
          ],
          [
           "Titanic",
           "Cosmo's Midnight",
           "synth-pop"
          ],
          [
           "Champagne For Two",
           "Devin Kennedy",
           "synth-pop"
          ],
          [
           "Another Round",
           "Elina",
           "synth-pop"
          ],
          [
           "How",
           "Elina",
           "synth-pop"
          ],
          [
           "Paper Planes",
           "Elina",
           "synth-pop"
          ],
          [
           "Nirvana",
           "ELLIANA",
           "synth-pop"
          ],
          [
           "Lost In Space",
           "Emmit Fenn",
           "synth-pop"
          ],
          [
           "12-45 - Stripped",
           "Etham",
           "synth-pop"
          ],
          [
           "Purpose - Stripped",
           "Etham",
           "synth-pop"
          ],
          [
           "California",
           "Ethan Dufault",
           "synth-pop"
          ],
          [
           "Hurt The Ones We Love The Most",
           "Evan Blum",
           "synth-pop"
          ],
          [
           "Young Love",
           "Falcon",
           "synth-pop"
          ],
          [
           "I Should've Told You",
           "Fiji Blue",
           "synth-pop"
          ],
          [
           "Waves",
           "Fiji Blue",
           "synth-pop"
          ],
          [
           "Healing",
           "FLETCHER",
           "synth-pop"
          ],
          [
           "hold on",
           "flor",
           "synth-pop"
          ],
          [
           "Automatic (feat. Jake Miller)",
           "Fly By Midnight",
           "synth-pop"
          ],
          [
           "Lovely",
           "Fly By Midnight",
           "synth-pop"
          ],
          [
           "Lonely",
           "Gatsby",
           "synth-pop"
          ],
          [
           "dear me,",
           "Gentle Bones",
           "synth-pop"
          ],
          [
           "I Wouldn't Know Any Better Than You",
           "Gentle Bones",
           "synth-pop"
          ],
          [
           "So Far So Good",
           "Great Good Fine Ok",
           "synth-pop"
          ],
          [
           "Falling",
           "Harry Styles",
           "synth-pop"
          ],
          [
           "sometimes",
           "Heather Sommer",
           "synth-pop"
          ],
          [
           "you heard me",
           "Heather Sommer",
           "synth-pop"
          ],
          [
           "Crying Over You ◐",
           "HONNE",
           "synth-pop"
          ],
          [
           "Day Dreaming",
           "Jack & Jack",
           "synth-pop"
          ],
          [
           "Ross And Rachel",
           "Jake Miller",
           "synth-pop"
          ],
          [
           "Showing You Off",
           "Jake Miller",
           "synth-pop"
          ],
          [
           "Like No One Does",
           "Jake Scott",
           "synth-pop"
          ],
          [
           "CWJBHN",
           "Jake Scott",
           "synth-pop"
          ],
          [
           "drive all night",
           "joan",
           "synth-pop"
          ],
          [
           "i loved you first",
           "joan",
           "synth-pop"
          ],
          [
           "love somebody like you",
           "joan",
           "synth-pop"
          ],
          [
           "magnetic",
           "joan",
           "synth-pop"
          ],
          [
           "6 months",
           "John K",
           "synth-pop"
          ],
          [
           "ilym (feat. ROSIE)",
           "John K",
           "synth-pop"
          ],
          [
           "I Believe",
           "Jonas Brothers",
           "synth-pop"
          ],
          [
           "I Quit Drinking",
           "Kelsea Ballerini",
           "synth-pop"
          ],
          [
           "13",
           "LANY",
           "synth-pop"
          ],
          [
           "dancing in the kitchen",
           "LANY",
           "synth-pop"
          ],
          [
           "dna",
           "LANY",
           "synth-pop"
          ],
          [
           "get away",
           "LANY",
           "synth-pop"
          ],
          [
           "I Don't Wanna Love You Anymore",
           "LANY",
           "synth-pop"
          ],
          [
           "if this is the last time",
           "LANY",
           "synth-pop"
          ],
          [
           "ILYSB - STRIPPED",
           "LANY",
           "synth-pop"
          ],
          [
           "ILYSB",
           "LANY",
           "synth-pop"
          ],
          [
           "Let Me Know",
           "LANY",
           "synth-pop"
          ],
          [
           "Malibu Nights",
           "LANY",
           "synth-pop"
          ],
          [
           "Super Far",
           "LANY",
           "synth-pop"
          ],
          [
           "Thru These Tears",
           "LANY",
           "synth-pop"
          ],
          [
           "up to me",
           "LANY",
           "synth-pop"
          ],
          [
           "you!",
           "LANY",
           "synth-pop"
          ],
          [
           "Tattoos Together",
           "Lauv",
           "synth-pop"
          ],
          [
           "When We Were Younger",
           "Loving Caliber",
           "synth-pop"
          ],
          [
           "Love You Back",
           "Madeon",
           "synth-pop"
          ],
          [
           "colorblind",
           "Mokita",
           "synth-pop"
          ],
          [
           "London",
           "Mokita",
           "synth-pop"
          ],
          [
           "Ready Yet",
           "Mokita",
           "synth-pop"
          ],
          [
           "Shut Up I Love U",
           "Neptune",
           "synth-pop"
          ],
          [
           "This Is Heaven",
           "Nick Jonas",
           "synth-pop"
          ],
          [
           "Plot Twist",
           "NIKI",
           "synth-pop"
          ],
          [
           "Waves",
           "Paige",
           "synth-pop"
          ],
          [
           "Shelter",
           "Porter Robinson",
           "synth-pop"
          ],
          [
           "Outsider",
           "Rachel Grae",
           "synth-pop"
          ],
          [
           "Dandelions",
           "Ruth B.",
           "synth-pop"
          ],
          [
           "Lie",
           "Sasha Alex Sloan",
           "synth-pop"
          ],
          [
           "Day Dreaming",
           "Sopha",
           "synth-pop"
          ],
          [
           "I Always Wanna Die (Sometimes)",
           "The 1975",
           "synth-pop"
          ],
          [
           "I'm In Love With You",
           "The 1975",
           "synth-pop"
          ],
          [
           "It's Not Living (If It's Not With You)",
           "The 1975",
           "synth-pop"
          ],
          [
           "Robbers",
           "The 1975",
           "synth-pop"
          ],
          [
           "She's American",
           "The 1975",
           "synth-pop"
          ],
          [
           "Somebody Else",
           "The 1975",
           "synth-pop"
          ],
          [
           "Going Home",
           "The Aces",
           "synth-pop"
          ],
          [
           "Sunset",
           "The Midnight",
           "synth-pop"
          ],
          [
           "Say So",
           "The Sam Willows",
           "synth-pop"
          ],
          [
           "I Can't Stop Thinking About You",
           "The Shadowboxers",
           "synth-pop"
          ],
          [
           "Strawberries & Cigarettes",
           "Troye Sivan",
           "synth-pop"
          ],
          [
           "If Only for Tonight",
           "Vacation Manor",
           "synth-pop"
          ],
          [
           "rocket science",
           "vaultboy",
           "synth-pop"
          ],
          [
           "no excuses",
           "Virginia To Vegas",
           "synth-pop"
          ],
          [
           "Got A Little Crush On You",
           "Wildflowers",
           "synth-pop"
          ],
          [
           "Talking To Myself",
           "Will Jay",
           "synth-pop"
          ],
          [
           "Dance Like Nobody's Watching",
           "Yuna",
           "synth-pop"
          ],
          [
           "dancing in the kitchen",
           "Zachary Knowles",
           "synth-pop"
          ],
          [
           "stranger to me",
           "Zachary Knowles",
           "synth-pop"
          ],
          [
           "could you love me while i hate myself",
           "Zeph",
           "synth-pop"
          ]
         ],
         "hovertemplate": "playlist=%{customdata[2]}<br>tonnetz_x=%{x}<br>tonnetz_y=%{y}<br>song_name=%{customdata[0]}<br>artist=%{customdata[1]}<extra></extra>",
         "legendgroup": "synth-pop",
         "marker": {
          "color": "#FF6692",
          "symbol": "circle"
         },
         "mode": "markers",
         "name": "synth-pop",
         "orientation": "v",
         "showlegend": true,
         "x": [
          -3.1891345793921655,
          -1.9552623127446322,
          1.385874401283573,
          0.03512447551520773,
          0.21453335268095514,
          -1.0406610371642182,
          -0.5745342301323694,
          0.27714949093241664,
          -0.01084778307155411,
          0.8548024838575592,
          5.107398804397345,
          -5.749194583984184,
          -4.356882969269483,
          2.2031519974811555,
          -2.2092250809482445,
          1.026262671895252,
          -3.2007309907501122,
          0.5857233195320597,
          -0.7435651655122628,
          -5.188848530451188,
          -2.338325087171805,
          -1.2202124544578798,
          2.863685743595452,
          -1.320606477444044,
          -5.165276818900903,
          1.528523080810392,
          -3.8916930439627646,
          -3.0053015312729348,
          2.167606027976277,
          -0.8726741609401274,
          -0.4951889285544641,
          -0.6370489758365153,
          1.074654253537444,
          -0.7891718349521125,
          -0.4299208454684325,
          1.4740624531388593,
          -1.4779083306688514,
          -1.7270208081408633,
          -1.8929891627133808,
          0.7875149424529174,
          4.658477818030468,
          2.5456727294223875,
          -0.5921858254406794,
          -2.5269031432003253,
          -1.101027601213775,
          0.2143398520808761,
          -4.920691941957701,
          -1.6584182630614868,
          -2.1665005073017602,
          -1.3357187147707466,
          -2.4295761210496316,
          1.5359678696106238,
          -2.3502846897035425,
          0.12745889854494982,
          -0.0596196229758088,
          0.36593283955885875,
          -1.8557494640682255,
          -1.8989837986511529,
          -2.351970726824268,
          -2.398187478332741,
          -0.6532551607515371,
          -0.21967520285575767,
          -2.5720878284813686,
          -1.879755368165279,
          -4.324865319003965,
          -2.13255802527235,
          -1.2371586151441694,
          -0.5254081729415747,
          0.46083881685153016,
          -2.396586014674484,
          -0.9723235199126606,
          1.8690885393670176,
          -8.045088962413162,
          -2.541661945471094,
          -2.2412318125724333,
          -2.7966019553512074,
          0.1275282799180142,
          0.3213245534583587,
          -1.5064800009839245,
          -0.23512881226093627,
          -3.337606148482314,
          2.206236630174209,
          0.4557834960636269,
          0.021484345393392112,
          3.9035371954556846,
          1.1641993923772396,
          0.18868993656272767,
          -2.576551463046088,
          -1.1098808182646946,
          -0.10351084576294314,
          1.4145910070546404,
          -0.7794453723284879,
          1.0096183903442784,
          0.24520662453187034,
          -1.8991024070264741,
          0.5906515104435713
         ],
         "xaxis": "x",
         "y": [
          2.877625521882025,
          -1.56002697637192,
          -0.08866335594778901,
          3.4220150757031145,
          0.0885584296114086,
          -0.5144084998685087,
          1.7152607159713573,
          -0.5105791728606046,
          -0.5682832498310056,
          0.08590653119973084,
          3.685245784648049,
          2.5683566204620956,
          1.2567134931370112,
          8.043677050784334,
          -1.462540410782752,
          -4.422846410973118,
          -1.2372288811699168,
          3.6280054105456676,
          2.736198815611996,
          -3.1396340817208457,
          -0.7602500516599051,
          0.5614275397294018,
          1.858319965607418,
          -0.15148622953186233,
          -1.0119992210327828,
          -1.2064896191114673,
          -3.4137438108748004,
          4.229180987272753,
          4.258363359004755,
          -0.21218846999075883,
          8.004475705111561,
          1.8922713157264934,
          3.7659656559940884,
          1.26802498797597,
          -1.8282298333138847,
          3.7419192013694262,
          2.5765240484842207,
          -1.2657574111751513,
          -3.114553341882083,
          1.9749291485645024,
          -3.657620707416922,
          0.14392798256744918,
          -0.9865006246960725,
          -2.5337840772774376,
          7.959301025339427,
          2.06610100600867,
          0.9499227298482111,
          1.0848445306823313,
          2.510843090806695,
          2.4236369726119706,
          -2.2241515348739234,
          -1.489865410684851,
          5.2391400742885255,
          -3.9176072835054385,
          -1.5865272946438658,
          1.1372524561131554,
          3.590716208334835,
          -0.23609095046591644,
          4.580858560271883,
          0.37211327388258364,
          -4.047401473488909,
          1.5280507826031529,
          -5.723720758933632,
          3.2520416489059287,
          -0.5712436557670966,
          3.2791905272838298,
          -0.17731154470045976,
          1.463866105194028,
          -0.3707378379715054,
          1.4027023519991164,
          1.9948891228428327,
          -1.537906913808702,
          -1.3773242581659562,
          0.5220828322331302,
          0.15532932727915055,
          0.2936804162098855,
          5.580926288378216,
          0.9005184708145737,
          0.59406155299573,
          1.2676064195634569,
          1.0938724498349002,
          -0.8433548222196859,
          1.4682415409321339,
          -0.3746259624785075,
          3.4660188317146767,
          1.3683144080194622,
          1.5118535652055194,
          0.7580663420271762,
          -1.3607998786933817,
          0.9505258718494608,
          1.0881746711638653,
          -0.8098807854610574,
          -0.3242184514207845,
          0.6827514633705412,
          0.6394099611980303,
          3.109394693844203
         ],
         "yaxis": "y",
         "type": "scatter"
        },
        {
         "customdata": [
          [
           "Allure",
           "Tony Anderson",
           "tony-anderson"
          ],
          [
           "Aurora",
           "Tony Anderson",
           "tony-anderson"
          ],
          [
           "Chasm",
           "Tony Anderson",
           "tony-anderson"
          ],
          [
           "Darkest Night",
           "Tony Anderson",
           "tony-anderson"
          ],
          [
           "Deep Waters - Original Sketch",
           "Tony Anderson",
           "tony-anderson"
          ],
          [
           "Deep Waters",
           "Tony Anderson",
           "tony-anderson"
          ],
          [
           "Delusion",
           "Tony Anderson",
           "tony-anderson"
          ],
          [
           "Eyes Wide Open - Cinematic Mix",
           "Tony Anderson",
           "tony-anderson"
          ],
          [
           "Eyes Wide Open",
           "Tony Anderson",
           "tony-anderson"
          ],
          [
           "Face of the Father",
           "Tony Anderson",
           "tony-anderson"
          ],
          [
           "Farthest Seas",
           "Tony Anderson",
           "tony-anderson"
          ],
          [
           "Finding Your Heart",
           "Tony Anderson",
           "tony-anderson"
          ],
          [
           "Halo",
           "Tony Anderson",
           "tony-anderson"
          ],
          [
           "High Tide",
           "Tony Anderson",
           "tony-anderson"
          ],
          [
           "Immanuel",
           "Tony Anderson",
           "tony-anderson"
          ],
          [
           "Immersion",
           "Tony Anderson",
           "tony-anderson"
          ],
          [
           "In the Distance",
           "Tony Anderson",
           "tony-anderson"
          ],
          [
           "Incision",
           "Tony Anderson",
           "tony-anderson"
          ],
          [
           "Like a Child - Cinematic Mix",
           "Tony Anderson",
           "tony-anderson"
          ],
          [
           "Low Tide",
           "Tony Anderson",
           "tony-anderson"
          ],
          [
           "Lune",
           "Tony Anderson",
           "tony-anderson"
          ],
          [
           "Morning's Wings",
           "Tony Anderson",
           "tony-anderson"
          ],
          [
           "Nightingale",
           "Tony Anderson",
           "tony-anderson"
          ],
          [
           "No Place on Earth",
           "Tony Anderson",
           "tony-anderson"
          ],
          [
           "Nocturne in Paris",
           "Tony Anderson",
           "tony-anderson"
          ],
          [
           "Perennial",
           "Tony Anderson",
           "tony-anderson"
          ],
          [
           "Resurrect",
           "Tony Anderson",
           "tony-anderson"
          ],
          [
           "Retour",
           "Tony Anderson",
           "tony-anderson"
          ],
          [
           "Shalom",
           "Tony Anderson",
           "tony-anderson"
          ],
          [
           "Slipstream",
           "Tony Anderson",
           "tony-anderson"
          ],
          [
           "Something Can Grow",
           "Tony Anderson",
           "tony-anderson"
          ],
          [
           "Spiriteaux",
           "Tony Anderson",
           "tony-anderson"
          ],
          [
           "The King",
           "Tony Anderson",
           "tony-anderson"
          ],
          [
           "The Way Home",
           "Tony Anderson",
           "tony-anderson"
          ],
          [
           "Thin Place - Abbreviated",
           "Tony Anderson",
           "tony-anderson"
          ],
          [
           "Thin Place",
           "Tony Anderson",
           "tony-anderson"
          ],
          [
           "We Are One",
           "Tony Anderson",
           "tony-anderson"
          ],
          [
           "Wir Sind Gleich",
           "Tony Anderson",
           "tony-anderson"
          ],
          [
           "Younger",
           "Tony Anderson",
           "tony-anderson"
          ],
          [
           "Éclosion",
           "Tony Anderson",
           "tony-anderson"
          ],
          [
           "Éphémère",
           "Tony Anderson",
           "tony-anderson"
          ],
          [
           "Arpège",
           "Tony Anderson",
           "tony-anderson"
          ],
          [
           "Nuit",
           "Tony Anderson",
           "tony-anderson"
          ],
          [
           "Tenderness - Woven Remix",
           "Tony Anderson",
           "tony-anderson"
          ],
          [
           "Tenderness",
           "Tony Anderson",
           "tony-anderson"
          ],
          [
           "Cambodia - Ross Lara Remix",
           "Tony Anderson",
           "tony-anderson"
          ],
          [
           "Cambodia",
           "Tony Anderson",
           "tony-anderson"
          ],
          [
           "Oyarsa",
           "Tony Anderson",
           "tony-anderson"
          ]
         ],
         "hovertemplate": "playlist=%{customdata[2]}<br>tonnetz_x=%{x}<br>tonnetz_y=%{y}<br>song_name=%{customdata[0]}<br>artist=%{customdata[1]}<extra></extra>",
         "legendgroup": "tony-anderson",
         "marker": {
          "color": "#B6E880",
          "symbol": "circle"
         },
         "mode": "markers",
         "name": "tony-anderson",
         "orientation": "v",
         "showlegend": true,
         "x": [
          1.4842020085650418,
          2.8312567102304635,
          -8.717490309067953,
          0.48374364376793294,
          4.961247468162944,
          6.192849925712139,
          -0.6277692659219564,
          -4.390151206042649,
          -1.970159091946717,
          5.866404007706935,
          -4.268740354926925,
          3.976903511268916,
          7.434898816211489,
          -2.106540461245143,
          6.167541626830712,
          5.010503237992837,
          -4.795412727911551,
          1.9219712347902804,
          -3.689330265872014,
          6.898595816757871,
          4.070714528371029,
          9.683265831139366,
          -5.9982733127222465,
          10.00793458497287,
          8.667677320472306,
          3.216131005393001,
          3.925874025821234,
          6.920052780061997,
          5.626370583529025,
          -2.5996703374671712,
          2.1150087164876274,
          3.6411241422596468,
          -1.3857747022690385,
          -1.8940641506288662,
          0.5992279029187088,
          -0.7254304914703908,
          -2.1428801387030654,
          -0.2757434043532167,
          7.5917257308993396,
          5.795047647892842,
          2.6913410622327145,
          3.8665943537482597,
          5.344358180336193,
          -0.09412769780018707,
          2.392925909364451,
          3.6534068470095367,
          8.486875888440617,
          -5.031220150163773
         ],
         "xaxis": "x",
         "y": [
          -8.80053835899225,
          0.42721146175327257,
          -0.24963776794651454,
          -5.862701915037885,
          0.5235366437528234,
          0.5970676158547836,
          -5.32065736839461,
          -7.290234118964692,
          -7.07104387096409,
          5.098461829088697,
          -9.109240564366825,
          -6.224087253244101,
          1.9096041758947822,
          -5.544722490110078,
          -2.21311842876239,
          -0.9644371958180322,
          -9.965850015066986,
          -6.121129671167154,
          -7.220640366448422,
          0.966339736196289,
          -3.4000893222609174,
          -0.037011354219538155,
          -0.14119856604655567,
          -2.2134010881522705,
          0.9498771000430917,
          -5.7581830551451825,
          -1.6443746827073766,
          -1.0957384751374173,
          -6.093085098628223,
          5.475379697485938,
          -8.750951466112983,
          -7.856350961112795,
          -7.804541204158389,
          -2.3557515226424957,
          -9.291021980803439,
          -10.247267551172467,
          -9.176715345328867,
          -0.3177233675045681,
          -0.48536074586952044,
          -1.0666317933070104,
          -4.690167839090075,
          -1.883469097692608,
          -2.6103193430608824,
          -0.3901670230312585,
          -4.154973949267323,
          -1.2420722481736184,
          -0.5120561528233054,
          -5.831117324234435
         ],
         "yaxis": "y",
         "type": "scatter"
        }
       ],
       "layout": {
        "template": {
         "data": {
          "histogram2dcontour": [
           {
            "type": "histogram2dcontour",
            "colorbar": {
             "outlinewidth": 0,
             "ticks": ""
            },
            "colorscale": [
             [
              0.0,
              "#0d0887"
             ],
             [
              0.1111111111111111,
              "#46039f"
             ],
             [
              0.2222222222222222,
              "#7201a8"
             ],
             [
              0.3333333333333333,
              "#9c179e"
             ],
             [
              0.4444444444444444,
              "#bd3786"
             ],
             [
              0.5555555555555556,
              "#d8576b"
             ],
             [
              0.6666666666666666,
              "#ed7953"
             ],
             [
              0.7777777777777778,
              "#fb9f3a"
             ],
             [
              0.8888888888888888,
              "#fdca26"
             ],
             [
              1.0,
              "#f0f921"
             ]
            ]
           }
          ],
          "choropleth": [
           {
            "type": "choropleth",
            "colorbar": {
             "outlinewidth": 0,
             "ticks": ""
            }
           }
          ],
          "histogram2d": [
           {
            "type": "histogram2d",
            "colorbar": {
             "outlinewidth": 0,
             "ticks": ""
            },
            "colorscale": [
             [
              0.0,
              "#0d0887"
             ],
             [
              0.1111111111111111,
              "#46039f"
             ],
             [
              0.2222222222222222,
              "#7201a8"
             ],
             [
              0.3333333333333333,
              "#9c179e"
             ],
             [
              0.4444444444444444,
              "#bd3786"
             ],
             [
              0.5555555555555556,
              "#d8576b"
             ],
             [
              0.6666666666666666,
              "#ed7953"
             ],
             [
              0.7777777777777778,
              "#fb9f3a"
             ],
             [
              0.8888888888888888,
              "#fdca26"
             ],
             [
              1.0,
              "#f0f921"
             ]
            ]
           }
          ],
          "heatmap": [
           {
            "type": "heatmap",
            "colorbar": {
             "outlinewidth": 0,
             "ticks": ""
            },
            "colorscale": [
             [
              0.0,
              "#0d0887"
             ],
             [
              0.1111111111111111,
              "#46039f"
             ],
             [
              0.2222222222222222,
              "#7201a8"
             ],
             [
              0.3333333333333333,
              "#9c179e"
             ],
             [
              0.4444444444444444,
              "#bd3786"
             ],
             [
              0.5555555555555556,
              "#d8576b"
             ],
             [
              0.6666666666666666,
              "#ed7953"
             ],
             [
              0.7777777777777778,
              "#fb9f3a"
             ],
             [
              0.8888888888888888,
              "#fdca26"
             ],
             [
              1.0,
              "#f0f921"
             ]
            ]
           }
          ],
          "heatmapgl": [
           {
            "type": "heatmapgl",
            "colorbar": {
             "outlinewidth": 0,
             "ticks": ""
            },
            "colorscale": [
             [
              0.0,
              "#0d0887"
             ],
             [
              0.1111111111111111,
              "#46039f"
             ],
             [
              0.2222222222222222,
              "#7201a8"
             ],
             [
              0.3333333333333333,
              "#9c179e"
             ],
             [
              0.4444444444444444,
              "#bd3786"
             ],
             [
              0.5555555555555556,
              "#d8576b"
             ],
             [
              0.6666666666666666,
              "#ed7953"
             ],
             [
              0.7777777777777778,
              "#fb9f3a"
             ],
             [
              0.8888888888888888,
              "#fdca26"
             ],
             [
              1.0,
              "#f0f921"
             ]
            ]
           }
          ],
          "contourcarpet": [
           {
            "type": "contourcarpet",
            "colorbar": {
             "outlinewidth": 0,
             "ticks": ""
            }
           }
          ],
          "contour": [
           {
            "type": "contour",
            "colorbar": {
             "outlinewidth": 0,
             "ticks": ""
            },
            "colorscale": [
             [
              0.0,
              "#0d0887"
             ],
             [
              0.1111111111111111,
              "#46039f"
             ],
             [
              0.2222222222222222,
              "#7201a8"
             ],
             [
              0.3333333333333333,
              "#9c179e"
             ],
             [
              0.4444444444444444,
              "#bd3786"
             ],
             [
              0.5555555555555556,
              "#d8576b"
             ],
             [
              0.6666666666666666,
              "#ed7953"
             ],
             [
              0.7777777777777778,
              "#fb9f3a"
             ],
             [
              0.8888888888888888,
              "#fdca26"
             ],
             [
              1.0,
              "#f0f921"
             ]
            ]
           }
          ],
          "surface": [
           {
            "type": "surface",
            "colorbar": {
             "outlinewidth": 0,
             "ticks": ""
            },
            "colorscale": [
             [
              0.0,
              "#0d0887"
             ],
             [
              0.1111111111111111,
              "#46039f"
             ],
             [
              0.2222222222222222,
              "#7201a8"
             ],
             [
              0.3333333333333333,
              "#9c179e"
             ],
             [
              0.4444444444444444,
              "#bd3786"
             ],
             [
              0.5555555555555556,
              "#d8576b"
             ],
             [
              0.6666666666666666,
              "#ed7953"
             ],
             [
              0.7777777777777778,
              "#fb9f3a"
             ],
             [
              0.8888888888888888,
              "#fdca26"
             ],
             [
              1.0,
              "#f0f921"
             ]
            ]
           }
          ],
          "mesh3d": [
           {
            "type": "mesh3d",
            "colorbar": {
             "outlinewidth": 0,
             "ticks": ""
            }
           }
          ],
          "scatter": [
           {
            "marker": {
             "line": {
              "color": "#283442"
             }
            },
            "type": "scatter"
           }
          ],
          "parcoords": [
           {
            "type": "parcoords",
            "line": {
             "colorbar": {
              "outlinewidth": 0,
              "ticks": ""
             }
            }
           }
          ],
          "scatterpolargl": [
           {
            "type": "scatterpolargl",
            "marker": {
             "colorbar": {
              "outlinewidth": 0,
              "ticks": ""
             }
            }
           }
          ],
          "bar": [
           {
            "error_x": {
             "color": "#f2f5fa"
            },
            "error_y": {
             "color": "#f2f5fa"
            },
            "marker": {
             "line": {
              "color": "rgb(17,17,17)",
              "width": 0.5
             },
             "pattern": {
              "fillmode": "overlay",
              "size": 10,
              "solidity": 0.2
             }
            },
            "type": "bar"
           }
          ],
          "scattergeo": [
           {
            "type": "scattergeo",
            "marker": {
             "colorbar": {
              "outlinewidth": 0,
              "ticks": ""
             }
            }
           }
          ],
          "scatterpolar": [
           {
            "type": "scatterpolar",
            "marker": {
             "colorbar": {
              "outlinewidth": 0,
              "ticks": ""
             }
            }
           }
          ],
          "histogram": [
           {
            "marker": {
             "pattern": {
              "fillmode": "overlay",
              "size": 10,
              "solidity": 0.2
             }
            },
            "type": "histogram"
           }
          ],
          "scattergl": [
           {
            "marker": {
             "line": {
              "color": "#283442"
             }
            },
            "type": "scattergl"
           }
          ],
          "scatter3d": [
           {
            "type": "scatter3d",
            "line": {
             "colorbar": {
              "outlinewidth": 0,
              "ticks": ""
             }
            },
            "marker": {
             "colorbar": {
              "outlinewidth": 0,
              "ticks": ""
             }
            }
           }
          ],
          "scattermapbox": [
           {
            "type": "scattermapbox",
            "marker": {
             "colorbar": {
              "outlinewidth": 0,
              "ticks": ""
             }
            }
           }
          ],
          "scatterternary": [
           {
            "type": "scatterternary",
            "marker": {
             "colorbar": {
              "outlinewidth": 0,
              "ticks": ""
             }
            }
           }
          ],
          "scattercarpet": [
           {
            "type": "scattercarpet",
            "marker": {
             "colorbar": {
              "outlinewidth": 0,
              "ticks": ""
             }
            }
           }
          ],
          "carpet": [
           {
            "aaxis": {
             "endlinecolor": "#A2B1C6",
             "gridcolor": "#506784",
             "linecolor": "#506784",
             "minorgridcolor": "#506784",
             "startlinecolor": "#A2B1C6"
            },
            "baxis": {
             "endlinecolor": "#A2B1C6",
             "gridcolor": "#506784",
             "linecolor": "#506784",
             "minorgridcolor": "#506784",
             "startlinecolor": "#A2B1C6"
            },
            "type": "carpet"
           }
          ],
          "table": [
           {
            "cells": {
             "fill": {
              "color": "#506784"
             },
             "line": {
              "color": "rgb(17,17,17)"
             }
            },
            "header": {
             "fill": {
              "color": "#2a3f5f"
             },
             "line": {
              "color": "rgb(17,17,17)"
             }
            },
            "type": "table"
           }
          ],
          "barpolar": [
           {
            "marker": {
             "line": {
              "color": "rgb(17,17,17)",
              "width": 0.5
             },
             "pattern": {
              "fillmode": "overlay",
              "size": 10,
              "solidity": 0.2
             }
            },
            "type": "barpolar"
           }
          ],
          "pie": [
           {
            "automargin": true,
            "type": "pie"
           }
          ]
         },
         "layout": {
          "autotypenumbers": "strict",
          "colorway": [
           "#636efa",
           "#EF553B",
           "#00cc96",
           "#ab63fa",
           "#FFA15A",
           "#19d3f3",
           "#FF6692",
           "#B6E880",
           "#FF97FF",
           "#FECB52"
          ],
          "font": {
           "color": "#f2f5fa"
          },
          "hovermode": "closest",
          "hoverlabel": {
           "align": "left"
          },
          "paper_bgcolor": "rgb(17,17,17)",
          "plot_bgcolor": "rgb(17,17,17)",
          "polar": {
           "bgcolor": "rgb(17,17,17)",
           "angularaxis": {
            "gridcolor": "#506784",
            "linecolor": "#506784",
            "ticks": ""
           },
           "radialaxis": {
            "gridcolor": "#506784",
            "linecolor": "#506784",
            "ticks": ""
           }
          },
          "ternary": {
           "bgcolor": "rgb(17,17,17)",
           "aaxis": {
            "gridcolor": "#506784",
            "linecolor": "#506784",
            "ticks": ""
           },
           "baxis": {
            "gridcolor": "#506784",
            "linecolor": "#506784",
            "ticks": ""
           },
           "caxis": {
            "gridcolor": "#506784",
            "linecolor": "#506784",
            "ticks": ""
           }
          },
          "coloraxis": {
           "colorbar": {
            "outlinewidth": 0,
            "ticks": ""
           }
          },
          "colorscale": {
           "sequential": [
            [
             0.0,
             "#0d0887"
            ],
            [
             0.1111111111111111,
             "#46039f"
            ],
            [
             0.2222222222222222,
             "#7201a8"
            ],
            [
             0.3333333333333333,
             "#9c179e"
            ],
            [
             0.4444444444444444,
             "#bd3786"
            ],
            [
             0.5555555555555556,
             "#d8576b"
            ],
            [
             0.6666666666666666,
             "#ed7953"
            ],
            [
             0.7777777777777778,
             "#fb9f3a"
            ],
            [
             0.8888888888888888,
             "#fdca26"
            ],
            [
             1.0,
             "#f0f921"
            ]
           ],
           "sequentialminus": [
            [
             0.0,
             "#0d0887"
            ],
            [
             0.1111111111111111,
             "#46039f"
            ],
            [
             0.2222222222222222,
             "#7201a8"
            ],
            [
             0.3333333333333333,
             "#9c179e"
            ],
            [
             0.4444444444444444,
             "#bd3786"
            ],
            [
             0.5555555555555556,
             "#d8576b"
            ],
            [
             0.6666666666666666,
             "#ed7953"
            ],
            [
             0.7777777777777778,
             "#fb9f3a"
            ],
            [
             0.8888888888888888,
             "#fdca26"
            ],
            [
             1.0,
             "#f0f921"
            ]
           ],
           "diverging": [
            [
             0,
             "#8e0152"
            ],
            [
             0.1,
             "#c51b7d"
            ],
            [
             0.2,
             "#de77ae"
            ],
            [
             0.3,
             "#f1b6da"
            ],
            [
             0.4,
             "#fde0ef"
            ],
            [
             0.5,
             "#f7f7f7"
            ],
            [
             0.6,
             "#e6f5d0"
            ],
            [
             0.7,
             "#b8e186"
            ],
            [
             0.8,
             "#7fbc41"
            ],
            [
             0.9,
             "#4d9221"
            ],
            [
             1,
             "#276419"
            ]
           ]
          },
          "xaxis": {
           "gridcolor": "#283442",
           "linecolor": "#506784",
           "ticks": "",
           "title": {
            "standoff": 15
           },
           "zerolinecolor": "#283442",
           "automargin": true,
           "zerolinewidth": 2
          },
          "yaxis": {
           "gridcolor": "#283442",
           "linecolor": "#506784",
           "ticks": "",
           "title": {
            "standoff": 15
           },
           "zerolinecolor": "#283442",
           "automargin": true,
           "zerolinewidth": 2
          },
          "scene": {
           "xaxis": {
            "backgroundcolor": "rgb(17,17,17)",
            "gridcolor": "#506784",
            "linecolor": "#506784",
            "showbackground": true,
            "ticks": "",
            "zerolinecolor": "#C8D4E3",
            "gridwidth": 2
           },
           "yaxis": {
            "backgroundcolor": "rgb(17,17,17)",
            "gridcolor": "#506784",
            "linecolor": "#506784",
            "showbackground": true,
            "ticks": "",
            "zerolinecolor": "#C8D4E3",
            "gridwidth": 2
           },
           "zaxis": {
            "backgroundcolor": "rgb(17,17,17)",
            "gridcolor": "#506784",
            "linecolor": "#506784",
            "showbackground": true,
            "ticks": "",
            "zerolinecolor": "#C8D4E3",
            "gridwidth": 2
           }
          },
          "shapedefaults": {
           "line": {
            "color": "#f2f5fa"
           }
          },
          "annotationdefaults": {
           "arrowcolor": "#f2f5fa",
           "arrowhead": 0,
           "arrowwidth": 1
          },
          "geo": {
           "bgcolor": "rgb(17,17,17)",
           "landcolor": "rgb(17,17,17)",
           "subunitcolor": "#506784",
           "showland": true,
           "showlakes": true,
           "lakecolor": "rgb(17,17,17)"
          },
          "title": {
           "x": 0.05
          },
          "updatemenudefaults": {
           "bgcolor": "#506784",
           "borderwidth": 0
          },
          "sliderdefaults": {
           "bgcolor": "#C8D4E3",
           "borderwidth": 1,
           "bordercolor": "rgb(17,17,17)",
           "tickwidth": 0
          },
          "mapbox": {
           "style": "dark"
          }
         }
        },
        "xaxis": {
         "anchor": "y",
         "domain": [
          0.0,
          1.0
         ],
         "title": {
          "text": "tonnetz_x"
         }
        },
        "yaxis": {
         "anchor": "x",
         "domain": [
          0.0,
          1.0
         ],
         "title": {
          "text": "tonnetz_y"
         }
        },
        "legend": {
         "title": {
          "text": "playlist"
         },
         "tracegroupgap": 0
        },
        "margin": {
         "t": 60
        }
       },
       "config": {
        "plotlyServerURL": "https://plotly.com"
       }
      },
      "text/html": "<div>                            <div id=\"8265fb8c-4e55-4b79-8966-0a096194b53c\" class=\"plotly-graph-div\" style=\"height:525px; width:100%;\"></div>            <script type=\"text/javascript\">                require([\"plotly\"], function(Plotly) {                    window.PLOTLYENV=window.PLOTLYENV || {};                                    if (document.getElementById(\"8265fb8c-4e55-4b79-8966-0a096194b53c\")) {                    Plotly.newPlot(                        \"8265fb8c-4e55-4b79-8966-0a096194b53c\",                        [{\"customdata\":[[\"Ivan Sings\",\"Aram Khachaturian\",\"kino\"],[\"Pr\\u00e9lude in E Minor, Op. 28, No. 4\",\"Fr\\u00e9d\\u00e9ric Chopin\",\"kino\"],[\"Above the Trees\",\"Kino\",\"kino\"],[\"All\",\"Kino\",\"kino\"],[\"Anew\",\"Kino\",\"kino\"],[\"As a Cloud\",\"Kino\",\"kino\"],[\"Away\",\"Kino\",\"kino\"],[\"Bloom\",\"Kino\",\"kino\"],[\"Charleston\",\"Kino\",\"kino\"],[\"Donau\",\"Kino\",\"kino\"],[\"Each and Every (Ambient Mix)\",\"Kino\",\"kino\"],[\"Each and Every (Piano)\",\"Kino\",\"kino\"],[\"Each and Every\",\"Kino\",\"kino\"],[\"Erl\\u00f6st  Redeemed\",\"Kino\",\"kino\"],[\"Gathering\",\"Kino\",\"kino\"],[\"God Bless Us, Every One\",\"Kino\",\"kino\"],[\"Hearth\",\"Kino\",\"kino\"],[\"H\\u0113o\",\"Kino\",\"kino\"],[\"In Earnest\",\"Kino\",\"kino\"],[\"Leinwand (Piano)\",\"Kino\",\"kino\"],[\"Leinwand\",\"Kino\",\"kino\"],[\"Lightly Tread\",\"Kino\",\"kino\"],[\"Lone\",\"Kino\",\"kino\"],[\"Many Colors\",\"Kino\",\"kino\"],[\"Merrily, Merrily\",\"Kino\",\"kino\"],[\"O Tannenbaum\",\"Kino\",\"kino\"],[\"Presidio\",\"Kino\",\"kino\"],[\"Rambuteau\",\"Kino\",\"kino\"],[\"Seafarer's Quartet\",\"Kino\",\"kino\"],[\"Seems\",\"Kino\",\"kino\"],[\"Silent Night\",\"Kino\",\"kino\"],[\"Silver Lake\",\"Kino\",\"kino\"],[\"St John's\",\"Kino\",\"kino\"],[\"Sunshine - Original\",\"Kino\",\"kino\"],[\"Swell\",\"Kino\",\"kino\"],[\"The Holly and the Ivy\",\"Kino\",\"kino\"],[\"The Weight Unbearable (Piano)\",\"Kino\",\"kino\"],[\"The Weight Unbearable\",\"Kino\",\"kino\"],[\"Till\",\"Kino\",\"kino\"],[\"Trio in E-flat Minor\",\"Kino\",\"kino\"],[\"Under\",\"Kino\",\"kino\"],[\"Water Lilies\",\"Kino\",\"kino\"],[\"Wide Awake\",\"Kino\",\"kino\"],[\"Willeth\",\"Kino\",\"kino\"],[\"Wolden\",\"Kino\",\"kino\"],[\"Yule\",\"Kino\",\"kino\"],[\"Piano Sonata No. 14 in C-Sharp Minor, Op. 27 No. 2 \\u201cMoonlight\\u201d- I. Adagio sostenuto\",\"Ludwig van Beethoven\",\"kino\"]],\"hovertemplate\":\"playlist=%{customdata[2]}<br>tonnetz_x=%{x}<br>tonnetz_y=%{y}<br>song_name=%{customdata[0]}<br>artist=%{customdata[1]}<extra></extra>\",\"legendgroup\":\"kino\",\"marker\":{\"color\":\"#636efa\",\"symbol\":\"circle\"},\"mode\":\"markers\",\"name\":\"kino\",\"orientation\":\"v\",\"showlegend\":true,\"x\":[-2.7178110428985436,3.190414905927752,-6.844608356648539,8.00978589250915,-2.299284601748915,-10.611657934130982,-6.390679486992078,-8.961637745865277,0.030730188442848097,2.586183531067055,-7.538417875831564,-6.608801362877605,-5.66968544170765,3.830811210419643,4.878538822393109,-7.094074451734311,-7.34077657518277,0.13795537398261393,6.040750123937105,5.958785588369892,6.037208508279742,-5.418489854533246,-3.6556890374443776,4.606623322663614,-5.688138690179473,4.455269256490056,-8.126146605696803,-8.647434625530922,6.997713482696375,3.612670055765466,3.3090033955991904,5.484332667268725,-1.386308910488967,-0.9078768290451883,-3.426414243709445,-4.624998544086746,-2.501653235046584,-0.785613232761795,5.557989670265478,-7.174193631110439,6.269663657684278,-7.412959778658375,-6.442269513843108,3.09495449693032,4.434520970555711,-3.3166928332398125,-4.784711288938626],\"xaxis\":\"x\",\"y\":[-4.500331765523123,2.3142019685431485,1.3126696408733707,3.2629772417982568,8.367365737056867,-6.9076880319829606,8.148890761573755,-1.2394324132654853,6.172389229134006,-6.900360883211387,-3.092908998838135,-3.3726463995678646,-2.8302674775581007,-4.286943464130111,-3.640587603715191,-4.003225566048342,-1.6456824908273715,-6.584226045289528,7.788417700536625,1.2718359327702904,1.9542121032717543,1.5691480428003355,-6.474539645117797,-1.9841593721463164,-1.8498078576653145,3.255899692853786,3.035776816776238,0.9520962602005262,-4.861359202207326,-4.280065549428375,4.013326023639743,0.3390924412551176,-2.8045899399785417,3.57519165808687,6.13083871383283,-4.024637369376494,-5.270107416306262,-6.960713725373496,9.852553343721771,1.0623656764296145,-2.795290537997761,-3.5885370708484685,-2.614740576123055,-8.84804735203506,-7.345303130504685,-1.0195966180090839,4.746757154315176],\"yaxis\":\"y\",\"type\":\"scatter\"},{\"customdata\":[[\"But it's Destiny\",\"10cm\",\"korean-ost\"],[\"\\ub098\\uc758 \\uc5b4\\uae68\\uc5d0 \\uae30\\ub300\\uc5b4\\uc694\",\"10cm\",\"korean-ost\"],[\"Is You\",\"AILEE\",\"korean-ost\"],[\"How can I love the heartbreak, you're the one I love\",\"AKMU\",\"korean-ost\"],[\"How can I love the heartbreak, you`re the one I love\",\"AKMU\",\"korean-ost\"],[\"Amusement Park\",\"BAEKHYUN\",\"korean-ost\"],[\"\\ub108\\ub97c \\uc0ac\\ub791\\ud558\\uace0 \\uc788\\uc5b4\",\"BAEKHYUN\",\"korean-ost\"],[\"Beautiful goodbye\",\"CHEN\",\"korean-ost\"],[\"Flower\",\"CHEN\",\"korean-ost\"],[\"I'll be there\",\"CHEN\",\"korean-ost\"],[\"My dear\",\"CHEN\",\"korean-ost\"],[\"Sorry not sorry\",\"CHEN\",\"korean-ost\"],[\"Everytime\",\"CHEN\",\"korean-ost\"],[\"Wish\",\"Choi Yuree\",\"korean-ost\"],[\"Beautiful\",\"Crush\",\"korean-ost\"],[\"Let Us Go\",\"Crush\",\"korean-ost\"],[\"No Words\",\"Crush\",\"korean-ost\"],[\"My Love\",\"DAVICHI\",\"korean-ost\"],[\"Please Don't Cry\",\"DAVICHI\",\"korean-ost\"],[\"Sunset\",\"DAVICHI\",\"korean-ost\"],[\"\\ub178\\ub825\\ud574\\ubcfc\\uac8c\\uc694 I'll try\",\"DAY6\",\"korean-ost\"],[\"I'm In Love With You\",\"Dvwn\",\"korean-ost\"],[\"No Problem\",\"Dvwn\",\"korean-ost\"],[\"\\uae34 \\ubc24\\uc774 \\uc624\\uba74\",\"Eddy Kim\",\"korean-ost\"],[\"Rain or Shine\",\"Elaine\",\"korean-ost\"],[\"Hate Everything - Korean Version\",\"GSoul\",\"korean-ost\"],[\"\\uae30\\uc5b5\\ud574\\uc918\\uc694 \\ub0b4 \\ubaa8\\ub4e0 \\ub0a0\\uacfc \\uadf8\\ub54c\\ub97c\",\"Gummy\",\"korean-ost\"],[\"Slowly Fall\",\"Ha Hyun Sang\",\"korean-ost\"],[\"\\ub0b4 \\ub9d8\\uc744 \\ubcfc \\uc218 \\uc788\\ub098\\uc694\",\"HEIZE\",\"korean-ost\"],[\"Deeply\",\"HEN\",\"korean-ost\"],[\"To You\",\"HEN\",\"korean-ost\"],[\"It's You\",\"HENRY\",\"korean-ost\"],[\"Untitled Love Song\",\"HENRY\",\"korean-ost\"],[\"Ending Scene\",\"IU\",\"korean-ost\"],[\"Give You My Heart\",\"IU\",\"korean-ost\"],[\"Love poem\",\"IU\",\"korean-ost\"],[\"My sea\",\"IU\",\"korean-ost\"],[\"Holiday\",\"JeHwi\",\"korean-ost\"],[\"Stardust love song\",\"JIHYO\",\"korean-ost\"],[\"What Lies Ahead\",\"Joe Layne\",\"korean-ost\"],[\"Times Like This\",\"Josh Daniel\",\"korean-ost\"],[\"Do you want to walk with me (Romance 101 X Jukjae)\",\"Jukjae\",\"korean-ost\"],[\"The Days Like Pictures\",\"Jukjae\",\"korean-ost\"],[\"\\ub098\\ub97c \\ucc3e\\uc544\\uc11c\",\"Jukjae\",\"korean-ost\"],[\"\\ubcc4 \\ubcf4\\ub7ec \\uac00\\uc790\",\"Jukjae\",\"korean-ost\"],[\"Day & Night\",\"Jung Seung Hwan\",\"korean-ost\"],[\"Because I Miss You\",\"Jung Yong Hwa\",\"korean-ost\"],[\"For First-time Lovers (Banmal-song)\",\"Jung Yong Hwa\",\"korean-ost\"],[\"I Go\",\"Kei (Kim Ji Yeon)\",\"korean-ost\"],[\"\\ubcf4\\uace0\\uc2f6\\ub2e4 (From. '\\ub4dc\\ub77c\\ub9c8 \\ucc9c\\uad6d\\uc758 \\uacc4\\ub2e8')\",\"Kim Bum Soo\",\"korean-ost\"],[\"One Day\",\"Kim Feel\",\"korean-ost\"],[\"Someday, The Boy\",\"Kim Feel\",\"korean-ost\"],[\"Vacance in September\",\"KIM JAE HWAN\",\"korean-ost\"],[\"All of My Days\",\"KIMSEJEONG\",\"korean-ost\"],[\"If Only\",\"KIMSEJEONG\",\"korean-ost\"],[\"Lonely Night\",\"Kwon Jin Ah\",\"korean-ost\"],[\"The End\",\"Kwon Jin Ah\",\"korean-ost\"],[\"I Won't Heartbreaken\",\"Lee KwangHee\",\"korean-ost\"],[\"In My Heart\",\"LIM YEON\",\"korean-ost\"],[\"Lost\",\"LIM YEON\",\"korean-ost\"],[\"Say Yes\",\"Loco\",\"korean-ost\"],[\"Be There For You\",\"NCT DREAM\",\"korean-ost\"],[\"Rainbow - Acoustic Version\",\"O.WHEN\",\"korean-ost\"],[\"Me After You\",\"Paul Kim\",\"korean-ost\"],[\"\\uc548\\ub155\",\"Paul Kim\",\"korean-ost\"],[\"But I'm Trying to Tell You How Much I Love You (With Moonbit)\",\"saevom\",\"korean-ost\"],[\"For You\",\"Sam Kim\",\"korean-ost\"],[\"Sunny Day Rainy Day (feat. Kassy)\",\"Sanchez\",\"korean-ost\"],[\"Your world\",\"Seol Hoseung (SURL)\",\"korean-ost\"],[\"Grown Ups\",\"Sondia\",\"korean-ost\"],[\"Hug\",\"Sondia\",\"korean-ost\"],[\"Our Souls at Night\",\"Sondia\",\"korean-ost\"],[\"\\uc6b0\\ub9b0 \\uce5c\\uad6c\\ubfd0\\uc77c\\uae4c\",\"Sondia\",\"korean-ost\"],[\"She\",\"Standing Egg\",\"korean-ost\"],[\"Miracle (Feat. Paul Kim)\",\"Stella Jang\",\"korean-ost\"],[\"One more time, One more chance\",\"Sung Si Kyung\",\"korean-ost\"],[\"\\u541b\\u304c\\u3044\\u308b\\u3088\",\"Sung Si Kyung\",\"korean-ost\"],[\"Two People\",\"SURAN\",\"korean-ost\"],[\"Inevitable\",\"Suzy\",\"korean-ost\"],[\"Starlight\",\"TAEIL\",\"korean-ost\"],[\"\\uadf8\\ub300\\ub77c\\ub294 \\uc2dc\",\"TAEYEON\",\"korean-ost\"],[\"Two Words\",\"WENDY\",\"korean-ost\"],[\"What If Love\",\"WENDY\",\"korean-ost\"],[\"\\ub0b4\\uc77c\\ub3c4 \\ub610 \\ub0b4\\uc77c\\ub3c4 Tomorrow After Tomorrow\",\"WISUE\",\"korean-ost\"],[\"Your Existence\",\"Wonstein\",\"korean-ost\"],[\"Free\",\"Xydo\",\"korean-ost\"],[\"\\ub108\\ub9cc \\ub108\\ub9cc \\ub108\\ub9cc\",\"Yang Dail\",\"korean-ost\"],[\"With me\",\"Yang Dail\",\"korean-ost\"],[\"Here I Am Again\",\"Yerin Baek\",\"korean-ost\"],[\"Maze\",\"YONGZOO\",\"korean-ost\"],[\"ALWAYS\",\"Yoon Mirae\",\"korean-ost\"],[\"Flower\",\"Yoon Mirae\",\"korean-ost\"],[\"You Are My World\",\"Yoon Mirae\",\"korean-ost\"],[\"I Just Want To Stay With You\",\"Zion.T\",\"korean-ost\"],[\"Faith\",\"\\uc774\\uc900\\ud654\",\"korean-ost\"]],\"hovertemplate\":\"playlist=%{customdata[2]}<br>tonnetz_x=%{x}<br>tonnetz_y=%{y}<br>song_name=%{customdata[0]}<br>artist=%{customdata[1]}<extra></extra>\",\"legendgroup\":\"korean-ost\",\"marker\":{\"color\":\"#EF553B\",\"symbol\":\"circle\"},\"mode\":\"markers\",\"name\":\"korean-ost\",\"orientation\":\"v\",\"showlegend\":true,\"x\":[-1.3720514158480956,-4.662351000384412,1.0920465342218335,1.3961287580691644,1.3961287580691644,0.16871532422412805,-0.9826527588768252,-4.341045032917878,1.4559673461960823,-3.6677040037879105,-0.026399007177704277,-1.6132642915530608,-0.7084517206868248,-6.70712792855573,-0.25900445794813826,0.9968409194217549,-4.330721430496474,-4.612800594324868,-0.021877319077811753,-4.783936847702066,1.9597825442102883,0.2541001610056436,5.6007891607000175,1.9198906340748565,-4.919986674995482,-0.9855798349523313,-2.6065882359640264,-6.217706415311705,1.7972207943347556,1.5453526699069033,-5.630388622179378,3.6378181874786697,0.6306034696594827,0.23478965977716915,-4.891746570217231,-3.1437677793333605,0.607426946449476,1.198389814743333,3.872444049989126,4.304081113017557,1.652363878636944,1.0795052018757259,4.211512797902754,1.2879280977129994,-3.2563095220290217,-3.558946665985802,3.9793885163391374,2.3330863996021614,-0.6113964082777094,0.9639884668365587,-3.4409470220042437,4.936127332446765,2.7469124474637554,-1.4106244973925701,-5.82684628854934,0.7043575998130918,-4.250043980288222,-0.3004262751968412,-3.0299269107944955,1.2851439029968752,-0.9966005838438234,-0.677947608665079,-3.901004231277805,2.5289716523969386,3.1462468410963353,4.565721284957106,-5.951484803959878,0.6761478390785,1.099292143346246,1.9648962240918073,4.77362277991519,-4.7975279266314965,-3.068311316730391,-1.4629909069042044,1.786456748361478,2.4081802545968696,3.044408044271569,-2.688534656262548,-5.749393983198873,0.651869944207125,0.7687611898731445,-4.286936982404852,-2.9875502031435266,-6.192722647589398,0.459099060113416,-0.7219666025235966,-3.87625166867028,-0.4724759874546986,1.9908413950673727,1.439248816084732,-1.8687642976081278,-5.7223292077612555,-1.4754722786862127,0.7578496813637268,6.202146029343687],\"xaxis\":\"x\",\"y\":[-2.064858379821737,2.46109641718147,5.139480030455617,-4.3267946730237625,-4.3267946730237625,-0.8636848844536151,4.052418203956764,-4.12650529167255,4.854220313188278,0.17415401876922576,4.535671346872082,-4.582122400083341,-1.2109222126116717,0.8942240261696095,-4.745560211465627,-5.96674845269967,2.796974723915816,-2.2691539261436953,-4.425295486001092,-1.401446011295655,0.8274135426842052,-2.254651230880393,2.758905624634209,-3.8996979850356173,6.057287624702071,-4.3233990533039215,2.689987117576498,0.036124335926477444,6.414286880082658,-2.4192766770736016,4.563797595094288,1.1730165967269668,-1.2268289503238368,-4.647705666010091,-2.0349437431460435,4.710388920145498,5.095964651203848,2.9564725236560387,5.1950371133704785,2.874577361333956,5.185243447483318,1.981407607680875,-3.860718325323552,0.35425956637442585,-0.3631820179268135,-3.7926672438713216,-0.6674000878808113,1.2815293426082257,-1.9015184691957039,-3.5048423028226603,4.841288148521355,-5.3772809484610775,-0.9415612009822825,4.731230641192492,-1.1871644832227202,-6.65317553918739,-1.5328606322212597,7.1877784673653435,1.7238627232698427,6.238624654782714,1.5731859421655614,3.5596032573054517,5.235549072956232,-1.3020116921608123,-2.0779776457088563,1.3624087762537023,1.3563664137759917,-1.1146760830162463,-1.895816954305826,3.6290543928689116,2.830333488006102,3.421134931898079,-5.260284474572882,1.9153206420917697,-0.5025835605264934,3.3992617122525335,4.315204321472061,-3.535504303903736,-6.93301854992763,0.9459887459588184,4.706012684677836,0.21511555502891158,0.15943775637527696,1.8900810020233048,0.13037929236585327,1.4932122718062057,0.40337431554707137,2.41073055639148,5.383244998403713,-5.306963603290926,-3.7678008939738716,0.7041387468542197,-4.242978045596978,1.6135777228131782,4.165465111686907],\"yaxis\":\"y\",\"type\":\"scatter\"},{\"customdata\":[[\"A Speck of Light - Reimagined\",\"Lights & Motion\",\"lights-and-motion\"],[\"A Speck of Light\",\"Lights & Motion\",\"lights-and-motion\"],[\"All the Way\",\"Lights & Motion\",\"lights-and-motion\"],[\"Anamorphic\",\"Lights & Motion\",\"lights-and-motion\"],[\"Anchor\",\"Lights & Motion\",\"lights-and-motion\"],[\"Anomaly\",\"Lights & Motion\",\"lights-and-motion\"],[\"Antlers\",\"Lights & Motion\",\"lights-and-motion\"],[\"Arms Wide Open\",\"Lights & Motion\",\"lights-and-motion\"],[\"As the World Goes Away\",\"Lights & Motion\",\"lights-and-motion\"],[\"As They Sleep\",\"Lights & Motion\",\"lights-and-motion\"],[\"Aurora\",\"Lights & Motion\",\"lights-and-motion\"],[\"Deafening Silence\",\"Lights & Motion\",\"lights-and-motion\"],[\"DNA\",\"Lights & Motion\",\"lights-and-motion\"],[\"Equals\",\"Lights & Motion\",\"lights-and-motion\"],[\"Everest\",\"Lights & Motion\",\"lights-and-motion\"],[\"Exhale\",\"Lights & Motion\",\"lights-and-motion\"],[\"Feathers\",\"Lights & Motion\",\"lights-and-motion\"],[\"Fireflies\",\"Lights & Motion\",\"lights-and-motion\"],[\"From Dust\",\"Lights & Motion\",\"lights-and-motion\"],[\"Glistening - Reimagined\",\"Lights & Motion\",\"lights-and-motion\"],[\"Glistening\",\"Lights & Motion\",\"lights-and-motion\"],[\"Glow\",\"Lights & Motion\",\"lights-and-motion\"],[\"I See You (feat. Frida Sundemo)\",\"Lights & Motion\",\"lights-and-motion\"],[\"I See You - Reimagined (feat. Frida Sundemo)\",\"Lights & Motion\",\"lights-and-motion\"],[\"Lucid Dreaming\",\"Lights & Motion\",\"lights-and-motion\"],[\"Northern Lights\",\"Lights & Motion\",\"lights-and-motion\"],[\"Pandora\",\"Lights & Motion\",\"lights-and-motion\"],[\"Panic Attack\",\"Lights & Motion\",\"lights-and-motion\"],[\"Paper Wings\",\"Lights & Motion\",\"lights-and-motion\"],[\"Parachutes\",\"Lights & Motion\",\"lights-and-motion\"],[\"Particle Storm\",\"Lights & Motion\",\"lights-and-motion\"],[\"Perfect Symmetry\",\"Lights & Motion\",\"lights-and-motion\"],[\"Phoenix\",\"Lights & Motion\",\"lights-and-motion\"],[\"Reanimation - Revisited 10th Anniversary Edition\",\"Lights & Motion\",\"lights-and-motion\"],[\"Reborn\",\"Lights & Motion\",\"lights-and-motion\"],[\"Separated Hearts - Reimagined\",\"Lights & Motion\",\"lights-and-motion\"],[\"Separated Hearts\",\"Lights & Motion\",\"lights-and-motion\"],[\"Silver Lining\",\"Lights & Motion\",\"lights-and-motion\"],[\"Sleeping Giant\",\"Lights & Motion\",\"lights-and-motion\"],[\"Sypher\",\"Lights & Motion\",\"lights-and-motion\"],[\"The First Day\",\"Lights & Motion\",\"lights-and-motion\"],[\"The Great Wide Open - Reimagined\",\"Lights & Motion\",\"lights-and-motion\"],[\"The Great Wide Open\",\"Lights & Motion\",\"lights-and-motion\"],[\"The Moments Before\",\"Lights & Motion\",\"lights-and-motion\"],[\"The Spectacular Quiet\",\"Lights & Motion\",\"lights-and-motion\"],[\"The World I Remember\",\"Lights & Motion\",\"lights-and-motion\"],[\"This Explosion Within\",\"Lights & Motion\",\"lights-and-motion\"],[\"Touching Sky\",\"Lights & Motion\",\"lights-and-motion\"],[\"We Only Have Forever\",\"Lights & Motion\",\"lights-and-motion\"],[\"When Everything Is Falling\",\"Lights & Motion\",\"lights-and-motion\"],[\"Wilderness\",\"Lights & Motion\",\"lights-and-motion\"],[\"Winter Solstice\",\"Lights & Motion\",\"lights-and-motion\"],[\"Wolves (feat. Johan Hasselblom)\",\"Lights & Motion\",\"lights-and-motion\"],[\"Wolves - Reimagined (feat. Johan Hasselblom)\",\"Lights & Motion\",\"lights-and-motion\"],[\"Woven\",\"Lights & Motion\",\"lights-and-motion\"],[\"Year Zero\",\"Lights & Motion\",\"lights-and-motion\"]],\"hovertemplate\":\"playlist=%{customdata[2]}<br>tonnetz_x=%{x}<br>tonnetz_y=%{y}<br>song_name=%{customdata[0]}<br>artist=%{customdata[1]}<extra></extra>\",\"legendgroup\":\"lights-and-motion\",\"marker\":{\"color\":\"#00cc96\",\"symbol\":\"circle\"},\"mode\":\"markers\",\"name\":\"lights-and-motion\",\"orientation\":\"v\",\"showlegend\":true,\"x\":[5.347573874496753,4.920476633397219,2.814079793593497,6.490372828543248,1.5575754779135582,7.7120642167475015,-0.7842401051466572,2.0526142224470787,-1.1540810523800928,7.348505982136267,9.350728901952305,2.2533429651764063,-0.7832079245732172,5.862881728854914,3.413921886269272,2.3246174807581736,1.552205090587332,3.6052324888090794,1.8820063180238626,8.048792687846307,4.7923978675233725,6.497986148228059,5.861897001637251,7.329715063079338,0.4952993643639363,-8.856810435106018,-2.5688780990723012,0.049784227771762356,4.896696435985287,2.5316535132172064,4.657970166656723,0.9241495077159811,1.0828676577878689,1.950502715174606,5.429622327694767,4.812126841885781,1.4608712435139772,0.8580902605262595,2.7134455350190994,0.6114462870444464,2.506618097611163,4.753715175532262,4.195683288736841,6.286546468808637,6.7110670615278405,4.010092193624265,2.700562864491174,3.065135466385395,-0.7554337005909272,7.55252074423556,2.928035954830334,5.585829217275503,-1.398982295990414,-1.3068589110533404,3.715458880689102,0.6117198515711719],\"xaxis\":\"x\",\"y\":[-6.044901088657604,-6.976127874914536,2.3576967593633986,-8.637741433027417,0.225392976876484,-1.7846783270255229,6.879864133608109,2.1044733545317142,5.588452334045392,-7.735348155696295,-4.130233948748755,-0.574345866291978,4.562493687734993,-4.2134576622738855,-2.6265799496473052,2.6849863362312916,-2.0220759384098703,0.678429612019794,2.8470426352783065,5.733024977047411,4.3116347315054275,-3.9727095647568094,-3.306853175225429,-2.8648408500060034,10.002427421618547,2.5151289677533044,3.321768153263403,2.3379497141664984,-2.859652159349409,-2.5617277256985074,-0.5004832974957865,10.765499948677133,6.0802657001255636,-2.630424326343553,-0.09964193280030031,9.541532228033834,3.9764090634688993,-3.6041330767312236,3.210754402867112,4.004502419750905,-2.275074087744541,2.131401797227832,1.127918768707618,3.2809759720893696,-5.874094907743121,-2.487679909718423,-3.410459936922047,-1.382439366265326,1.6337095206138887,3.9284499895669254,3.2469862986619598,-5.235722715776059,-1.4280994386473107,-6.086961640015884,5.759861756854252,7.595543562321627],\"yaxis\":\"y\",\"type\":\"scatter\"},{\"customdata\":[[\"Another Wave from You\",\"M83\",\"m83\"],[\"Claudia Lewis\",\"M83\",\"m83\"],[\"Echoes of Mine\",\"M83\",\"m83\"],[\"Fountains\",\"M83\",\"m83\"],[\"Intro\",\"M83\",\"m83\"],[\"Klaus I Love You\",\"M83\",\"m83\"],[\"Midnight City\",\"M83\",\"m83\"],[\"My Tears Are Becoming a Sea\",\"M83\",\"m83\"],[\"New Map\",\"M83\",\"m83\"],[\"Ok Pal\",\"M83\",\"m83\"],[\"Outro\",\"M83\",\"m83\"],[\"Raconte-moi une histoire\",\"M83\",\"m83\"],[\"Reunion\",\"M83\",\"m83\"],[\"Soon, My Friend\",\"M83\",\"m83\"],[\"Splendor\",\"M83\",\"m83\"],[\"Steve Mcqueen\",\"M83\",\"m83\"],[\"This Bright Flash\",\"M83\",\"m83\"],[\"Train to Pluton\",\"M83\",\"m83\"],[\"Wait\",\"M83\",\"m83\"],[\"When Will You Come Home\",\"M83\",\"m83\"],[\"Where the Boats Go\",\"M83\",\"m83\"],[\"Year One, One Ufo\",\"M83\",\"m83\"],[\"Ashes of Our Fathers\",\"M83\",\"m83\"],[\"Canyon Battle\",\"M83\",\"m83\"],[\"Earth 2077\",\"M83\",\"m83\"],[\"Fearful Odds\",\"M83\",\"m83\"],[\"I'm Sending You Away\",\"M83\",\"m83\"],[\"Jack's Dream\",\"M83\",\"m83\"],[\"Losing Control\",\"M83\",\"m83\"],[\"Odyssey Rescue\",\"M83\",\"m83\"],[\"Radiation Zone\",\"M83\",\"m83\"],[\"Raven Rock\",\"M83\",\"m83\"],[\"StarWaves\",\"M83\",\"m83\"],[\"Tech 49\",\"M83\",\"m83\"],[\"Temples of Our Gods\",\"M83\",\"m83\"],[\"Undimmed by Time, Unbound by Death\",\"M83\",\"m83\"],[\"Waking Up\",\"M83\",\"m83\"],[\"You Can't Save Her\",\"M83\",\"m83\"],[\"Oblivion\",\"M83\",\"m83\"]],\"hovertemplate\":\"playlist=%{customdata[2]}<br>tonnetz_x=%{x}<br>tonnetz_y=%{y}<br>song_name=%{customdata[0]}<br>artist=%{customdata[1]}<extra></extra>\",\"legendgroup\":\"m83\",\"marker\":{\"color\":\"#ab63fa\",\"symbol\":\"circle\"},\"mode\":\"markers\",\"name\":\"m83\",\"orientation\":\"v\",\"showlegend\":true,\"x\":[-10.187347432792087,0.5951399933511059,1.097685728574022,-5.908851886296229,-4.2410220865265975,3.441360716520165,0.5656622316760108,-3.992126416201082,0.117229574832181,-1.8690342312522066,5.6878355437409915,-1.376679473118242,0.9343754750721612,3.24901258536204,3.0091605512388466,1.6753713108162571,3.84349115715464,1.126418121658428,4.58189235698124,-12.037585950450124,-8.713535442615608,-0.16350002313470455,-1.6286277925952621,-0.4937629649466651,1.4051537064546626,-3.406599609914926,8.1437236476838,-10.252690013192861,3.2924181845359315,-0.997171185538244,-1.87210143647247,-7.581140530232676,-2.443141698490013,5.510982238380733,-0.8738737241360733,-10.167964811904671,-0.7453102620925561,-5.827687241043898,5.431299399774842],\"xaxis\":\"x\",\"y\":[3.610724277881576,-0.9304048928180128,-0.00058006236566047,6.6720015866339555,2.2242540197891536,9.722508484404658,1.4099641232132492,7.7204830606334385,2.491216301700137,1.394474528363162,3.7740629819024556,-1.1085272635309777,0.7357037731600985,-4.036632185300939,4.898282514374539,2.509633162239309,1.699550199981526,-1.0438588413504866,3.9797250051368125,3.2677824588356645,5.375915471449082,3.7824558097330514,1.2494785328685711,-0.055256046919222195,-0.4195564391130527,-1.9991493909502616,2.0023987219175923,-0.848349802373681,0.38694787771430633,0.5443666119713708,-0.5987753391752592,-6.009949238355452,-6.660588122656888,0.8612690448876266,-5.2077166489350875,-1.779364559887189,-2.9744713085384373,3.6954774578319203,2.2489497590709786],\"yaxis\":\"y\",\"type\":\"scatter\"},{\"customdata\":[[\"A Moment Apart\",\"ODESZA\",\"odesza\"],[\"Across The Room (feat. Leon Bridges)\",\"ODESZA\",\"odesza\"],[\"Boy\",\"ODESZA\",\"odesza\"],[\"Corners Of The Earth (feat. RY X)\",\"ODESZA\",\"odesza\"],[\"Divide (feat. Kelsey Bulkin)\",\"ODESZA\",\"odesza\"],[\"Everything At Your Feet (feat. The Chamanas)\",\"ODESZA\",\"odesza\"],[\"Falls (feat. Sasha Alex Sloan)\",\"ODESZA\",\"odesza\"],[\"Falls (Reprise) (feat. Sasha Alex Sloan)\",\"ODESZA\",\"odesza\"],[\"Falls (Reprise) - Instrumental\",\"ODESZA\",\"odesza\"],[\"Higher Ground (feat. Naomi Wild)\",\"ODESZA\",\"odesza\"],[\"Higher Ground (Reprise) (feat. Naomi Wild)\",\"ODESZA\",\"odesza\"],[\"Higher Ground (Reprise) - Instrumental\",\"ODESZA\",\"odesza\"],[\"Intro\",\"ODESZA\",\"odesza\"],[\"It\\u2019s Only (feat. Zyra) - ODESZA VIP Remix\",\"ODESZA\",\"odesza\"],[\"Just A Memory (feat. Regina Spektor)\",\"ODESZA\",\"odesza\"],[\"La Ciudad\",\"ODESZA\",\"odesza\"],[\"Late Night\",\"ODESZA\",\"odesza\"],[\"Line Of Sight (feat. WYNNE & Mansionair)\",\"ODESZA\",\"odesza\"],[\"Line Of Sight (Reprise) (feat. WYNNE & Mansionair)\",\"ODESZA\",\"odesza\"],[\"Line Of Sight (Reprise) - Instrumental\",\"ODESZA\",\"odesza\"],[\"Loyal\",\"ODESZA\",\"odesza\"],[\"Memories That You Call (feat. Monsoonsiren) - ODESZA & Golden Features VIP Remix\",\"ODESZA\",\"odesza\"],[\"Meridian\",\"ODESZA\",\"odesza\"],[\"Show Me\",\"ODESZA\",\"odesza\"],[\"Thin Floors And Tall Ceilings\",\"ODESZA\",\"odesza\"]],\"hovertemplate\":\"playlist=%{customdata[2]}<br>tonnetz_x=%{x}<br>tonnetz_y=%{y}<br>song_name=%{customdata[0]}<br>artist=%{customdata[1]}<extra></extra>\",\"legendgroup\":\"odesza\",\"marker\":{\"color\":\"#FFA15A\",\"symbol\":\"circle\"},\"mode\":\"markers\",\"name\":\"odesza\",\"orientation\":\"v\",\"showlegend\":true,\"x\":[-0.6579218287978309,-4.033718167627603,1.4140582274347258,2.7109939524623123,1.9441199529629705,0.7726445505772089,-3.08364429369017,-4.191580684214891,-6.444681666924757,-2.3909377544907646,-6.999852990664304,-7.90447189964441,0.16193749498398896,3.9586756200146045,8.894193389370399,4.573666530906251,1.7841479145772068,-2.5240607538107787,-5.900458403837068,-8.75490401595997,-1.5004962535771678,0.478379631763383,-1.7743189171503089,4.463148103954809,-0.31607979626916827],\"xaxis\":\"x\",\"y\":[-4.369328764779937,2.501856774928269,-0.7224545913032182,7.983893939147586,-1.1461465382854081,-0.2359075290798186,2.409176045481816,3.2756672815470407,5.002369095603122,1.593649844686725,5.884196175284314,7.667418393012655,1.8257117878947846,0.39161838390616494,-2.820692526284345,-0.825125304159386,1.5064531645147197,-1.2869198637477601,-3.9919497184328248,-5.003247655880613,4.0371259696601935,-2.467932588348209,-0.9300008144730993,5.348284476960389,-6.444651527334687],\"yaxis\":\"y\",\"type\":\"scatter\"},{\"customdata\":[[\"April 10, 2019- Powehi - Image of a Black Hole\",\"Sleeping At Last\",\"sleeping-at-last\"],[\"August 12, 2018- Perseid Meteor Shower\",\"Sleeping At Last\",\"sleeping-at-last\"],[\"August 21, 2017- Total Solar Eclipse\",\"Sleeping At Last\",\"sleeping-at-last\"],[\"December 13, 2017- Geminid Meteor Shower\",\"Sleeping At Last\",\"sleeping-at-last\"],[\"December 17, 2018- Farout\",\"Sleeping At Last\",\"sleeping-at-last\"],[\"December 21, 2020- The Great Conjunction\",\"Sleeping At Last\",\"sleeping-at-last\"],[\"December 25, 2021- Webb Space Telescope - Launch\",\"Sleeping At Last\",\"sleeping-at-last\"],[\"February 1, 2023- C2022 E3 - Comet Ztf\",\"Sleeping At Last\",\"sleeping-at-last\"],[\"February 13, 2019- Opportunity - Mission Complete\",\"Sleeping At Last\",\"sleeping-at-last\"],[\"February 18, 2021- Perseverance - Mars Landing\",\"Sleeping At Last\",\"sleeping-at-last\"],[\"January 30, 2020- Spitzer - Final Voyage\",\"Sleeping At Last\",\"sleeping-at-last\"],[\"January 31, 2018- Super Blue Blood Moon\",\"Sleeping At Last\",\"sleeping-at-last\"],[\"July 22, 2020- C  2020 F3 - Comet Neowise\",\"Sleeping At Last\",\"sleeping-at-last\"],[\"July 27, 2018- Total Lunar Eclipse\",\"Sleeping At Last\",\"sleeping-at-last\"],[\"July 4, 2020- Aphelion\",\"Sleeping At Last\",\"sleeping-at-last\"],[\"June 24, 2022- Parade of Planets\",\"Sleeping At Last\",\"sleeping-at-last\"],[\"June 30, 2018- Pds 70b (Birth of a Planet)\",\"Sleeping At Last\",\"sleeping-at-last\"],[\"October 30, 2018- Kepler - Goodnight\",\"Sleeping At Last\",\"sleeping-at-last\"],[\"September 15, 2017- Cassini - The Grand Finale\",\"Sleeping At Last\",\"sleeping-at-last\"]],\"hovertemplate\":\"playlist=%{customdata[2]}<br>tonnetz_x=%{x}<br>tonnetz_y=%{y}<br>song_name=%{customdata[0]}<br>artist=%{customdata[1]}<extra></extra>\",\"legendgroup\":\"sleeping-at-last\",\"marker\":{\"color\":\"#19d3f3\",\"symbol\":\"circle\"},\"mode\":\"markers\",\"name\":\"sleeping-at-last\",\"orientation\":\"v\",\"showlegend\":true,\"x\":[5.160023665393652,-1.9485996632257827,-7.178095107460418,-5.352176759440869,3.1112145597673457,-3.4723379734670763,5.483505470365295,-4.494402282984985,3.116157437619408,-7.32746691968156,5.634444285036202,7.209497143661853,-1.5955311332415623,-5.756221526519929,4.380508631597111,-4.799293487113217,-3.6800547438000013,-2.560526946867758,-1.2482195987062241],\"xaxis\":\"x\",\"y\":[1.8053756053009464,8.066171604238907,2.5417040668916577,-0.07972712020248603,-2.914291820680474,-4.24216193687764,5.6837897927861984,-6.723216848694907,5.909300831390965,0.4197222039639042,-1.7390252640143722,-4.279099401573975,8.743111488122176,-4.736711494062712,-4.179689318481313,5.45908163983102,1.0254380128476475,-2.3748660711098566,-5.416550302789678],\"yaxis\":\"y\",\"type\":\"scatter\"},{\"customdata\":[[\"It's Ok If You Forget Me\",\"Astrid S\",\"synth-pop\"],[\"Young & Alive\",\"Bazzi\",\"synth-pop\"],[\"Paralyze\",\"Bj\\u00f8rnskov\",\"synth-pop\"],[\"San Diego\",\"BRDGS\",\"synth-pop\"],[\"Ear Candy\",\"Caye\",\"synth-pop\"],[\"12 Hours\",\"Chris James\",\"synth-pop\"],[\"My Universe\",\"Coldplay\",\"synth-pop\"],[\"Overdrive\",\"Conan Gray\",\"synth-pop\"],[\"Titanic\",\"Cosmo's Midnight\",\"synth-pop\"],[\"Champagne For Two\",\"Devin Kennedy\",\"synth-pop\"],[\"Another Round\",\"Elina\",\"synth-pop\"],[\"How\",\"Elina\",\"synth-pop\"],[\"Paper Planes\",\"Elina\",\"synth-pop\"],[\"Nirvana\",\"ELLIANA\",\"synth-pop\"],[\"Lost In Space\",\"Emmit Fenn\",\"synth-pop\"],[\"12-45 - Stripped\",\"Etham\",\"synth-pop\"],[\"Purpose - Stripped\",\"Etham\",\"synth-pop\"],[\"California\",\"Ethan Dufault\",\"synth-pop\"],[\"Hurt The Ones We Love The Most\",\"Evan Blum\",\"synth-pop\"],[\"Young Love\",\"Falcon\",\"synth-pop\"],[\"I Should've Told You\",\"Fiji Blue\",\"synth-pop\"],[\"Waves\",\"Fiji Blue\",\"synth-pop\"],[\"Healing\",\"FLETCHER\",\"synth-pop\"],[\"hold on\",\"flor\",\"synth-pop\"],[\"Automatic (feat. Jake Miller)\",\"Fly By Midnight\",\"synth-pop\"],[\"Lovely\",\"Fly By Midnight\",\"synth-pop\"],[\"Lonely\",\"Gatsby\",\"synth-pop\"],[\"dear me,\",\"Gentle Bones\",\"synth-pop\"],[\"I Wouldn't Know Any Better Than You\",\"Gentle Bones\",\"synth-pop\"],[\"So Far So Good\",\"Great Good Fine Ok\",\"synth-pop\"],[\"Falling\",\"Harry Styles\",\"synth-pop\"],[\"sometimes\",\"Heather Sommer\",\"synth-pop\"],[\"you heard me\",\"Heather Sommer\",\"synth-pop\"],[\"Crying Over You \\u25d0\",\"HONNE\",\"synth-pop\"],[\"Day Dreaming\",\"Jack & Jack\",\"synth-pop\"],[\"Ross And Rachel\",\"Jake Miller\",\"synth-pop\"],[\"Showing You Off\",\"Jake Miller\",\"synth-pop\"],[\"Like No One Does\",\"Jake Scott\",\"synth-pop\"],[\"CWJBHN\",\"Jake Scott\",\"synth-pop\"],[\"drive all night\",\"joan\",\"synth-pop\"],[\"i loved you first\",\"joan\",\"synth-pop\"],[\"love somebody like you\",\"joan\",\"synth-pop\"],[\"magnetic\",\"joan\",\"synth-pop\"],[\"6 months\",\"John K\",\"synth-pop\"],[\"ilym (feat. ROSIE)\",\"John K\",\"synth-pop\"],[\"I Believe\",\"Jonas Brothers\",\"synth-pop\"],[\"I Quit Drinking\",\"Kelsea Ballerini\",\"synth-pop\"],[\"13\",\"LANY\",\"synth-pop\"],[\"dancing in the kitchen\",\"LANY\",\"synth-pop\"],[\"dna\",\"LANY\",\"synth-pop\"],[\"get away\",\"LANY\",\"synth-pop\"],[\"I Don't Wanna Love You Anymore\",\"LANY\",\"synth-pop\"],[\"if this is the last time\",\"LANY\",\"synth-pop\"],[\"ILYSB - STRIPPED\",\"LANY\",\"synth-pop\"],[\"ILYSB\",\"LANY\",\"synth-pop\"],[\"Let Me Know\",\"LANY\",\"synth-pop\"],[\"Malibu Nights\",\"LANY\",\"synth-pop\"],[\"Super Far\",\"LANY\",\"synth-pop\"],[\"Thru These Tears\",\"LANY\",\"synth-pop\"],[\"up to me\",\"LANY\",\"synth-pop\"],[\"you!\",\"LANY\",\"synth-pop\"],[\"Tattoos Together\",\"Lauv\",\"synth-pop\"],[\"When We Were Younger\",\"Loving Caliber\",\"synth-pop\"],[\"Love You Back\",\"Madeon\",\"synth-pop\"],[\"colorblind\",\"Mokita\",\"synth-pop\"],[\"London\",\"Mokita\",\"synth-pop\"],[\"Ready Yet\",\"Mokita\",\"synth-pop\"],[\"Shut Up I Love U\",\"Neptune\",\"synth-pop\"],[\"This Is Heaven\",\"Nick Jonas\",\"synth-pop\"],[\"Plot Twist\",\"NIKI\",\"synth-pop\"],[\"Waves\",\"Paige\",\"synth-pop\"],[\"Shelter\",\"Porter Robinson\",\"synth-pop\"],[\"Outsider\",\"Rachel Grae\",\"synth-pop\"],[\"Dandelions\",\"Ruth B.\",\"synth-pop\"],[\"Lie\",\"Sasha Alex Sloan\",\"synth-pop\"],[\"Day Dreaming\",\"Sopha\",\"synth-pop\"],[\"I Always Wanna Die (Sometimes)\",\"The 1975\",\"synth-pop\"],[\"I'm In Love With You\",\"The 1975\",\"synth-pop\"],[\"It's Not Living (If It's Not With You)\",\"The 1975\",\"synth-pop\"],[\"Robbers\",\"The 1975\",\"synth-pop\"],[\"She's American\",\"The 1975\",\"synth-pop\"],[\"Somebody Else\",\"The 1975\",\"synth-pop\"],[\"Going Home\",\"The Aces\",\"synth-pop\"],[\"Sunset\",\"The Midnight\",\"synth-pop\"],[\"Say So\",\"The Sam Willows\",\"synth-pop\"],[\"I Can't Stop Thinking About You\",\"The Shadowboxers\",\"synth-pop\"],[\"Strawberries & Cigarettes\",\"Troye Sivan\",\"synth-pop\"],[\"If Only for Tonight\",\"Vacation Manor\",\"synth-pop\"],[\"rocket science\",\"vaultboy\",\"synth-pop\"],[\"no excuses\",\"Virginia To Vegas\",\"synth-pop\"],[\"Got A Little Crush On You\",\"Wildflowers\",\"synth-pop\"],[\"Talking To Myself\",\"Will Jay\",\"synth-pop\"],[\"Dance Like Nobody's Watching\",\"Yuna\",\"synth-pop\"],[\"dancing in the kitchen\",\"Zachary Knowles\",\"synth-pop\"],[\"stranger to me\",\"Zachary Knowles\",\"synth-pop\"],[\"could you love me while i hate myself\",\"Zeph\",\"synth-pop\"]],\"hovertemplate\":\"playlist=%{customdata[2]}<br>tonnetz_x=%{x}<br>tonnetz_y=%{y}<br>song_name=%{customdata[0]}<br>artist=%{customdata[1]}<extra></extra>\",\"legendgroup\":\"synth-pop\",\"marker\":{\"color\":\"#FF6692\",\"symbol\":\"circle\"},\"mode\":\"markers\",\"name\":\"synth-pop\",\"orientation\":\"v\",\"showlegend\":true,\"x\":[-3.1891345793921655,-1.9552623127446322,1.385874401283573,0.03512447551520773,0.21453335268095514,-1.0406610371642182,-0.5745342301323694,0.27714949093241664,-0.01084778307155411,0.8548024838575592,5.107398804397345,-5.749194583984184,-4.356882969269483,2.2031519974811555,-2.2092250809482445,1.026262671895252,-3.2007309907501122,0.5857233195320597,-0.7435651655122628,-5.188848530451188,-2.338325087171805,-1.2202124544578798,2.863685743595452,-1.320606477444044,-5.165276818900903,1.528523080810392,-3.8916930439627646,-3.0053015312729348,2.167606027976277,-0.8726741609401274,-0.4951889285544641,-0.6370489758365153,1.074654253537444,-0.7891718349521125,-0.4299208454684325,1.4740624531388593,-1.4779083306688514,-1.7270208081408633,-1.8929891627133808,0.7875149424529174,4.658477818030468,2.5456727294223875,-0.5921858254406794,-2.5269031432003253,-1.101027601213775,0.2143398520808761,-4.920691941957701,-1.6584182630614868,-2.1665005073017602,-1.3357187147707466,-2.4295761210496316,1.5359678696106238,-2.3502846897035425,0.12745889854494982,-0.0596196229758088,0.36593283955885875,-1.8557494640682255,-1.8989837986511529,-2.351970726824268,-2.398187478332741,-0.6532551607515371,-0.21967520285575767,-2.5720878284813686,-1.879755368165279,-4.324865319003965,-2.13255802527235,-1.2371586151441694,-0.5254081729415747,0.46083881685153016,-2.396586014674484,-0.9723235199126606,1.8690885393670176,-8.045088962413162,-2.541661945471094,-2.2412318125724333,-2.7966019553512074,0.1275282799180142,0.3213245534583587,-1.5064800009839245,-0.23512881226093627,-3.337606148482314,2.206236630174209,0.4557834960636269,0.021484345393392112,3.9035371954556846,1.1641993923772396,0.18868993656272767,-2.576551463046088,-1.1098808182646946,-0.10351084576294314,1.4145910070546404,-0.7794453723284879,1.0096183903442784,0.24520662453187034,-1.8991024070264741,0.5906515104435713],\"xaxis\":\"x\",\"y\":[2.877625521882025,-1.56002697637192,-0.08866335594778901,3.4220150757031145,0.0885584296114086,-0.5144084998685087,1.7152607159713573,-0.5105791728606046,-0.5682832498310056,0.08590653119973084,3.685245784648049,2.5683566204620956,1.2567134931370112,8.043677050784334,-1.462540410782752,-4.422846410973118,-1.2372288811699168,3.6280054105456676,2.736198815611996,-3.1396340817208457,-0.7602500516599051,0.5614275397294018,1.858319965607418,-0.15148622953186233,-1.0119992210327828,-1.2064896191114673,-3.4137438108748004,4.229180987272753,4.258363359004755,-0.21218846999075883,8.004475705111561,1.8922713157264934,3.7659656559940884,1.26802498797597,-1.8282298333138847,3.7419192013694262,2.5765240484842207,-1.2657574111751513,-3.114553341882083,1.9749291485645024,-3.657620707416922,0.14392798256744918,-0.9865006246960725,-2.5337840772774376,7.959301025339427,2.06610100600867,0.9499227298482111,1.0848445306823313,2.510843090806695,2.4236369726119706,-2.2241515348739234,-1.489865410684851,5.2391400742885255,-3.9176072835054385,-1.5865272946438658,1.1372524561131554,3.590716208334835,-0.23609095046591644,4.580858560271883,0.37211327388258364,-4.047401473488909,1.5280507826031529,-5.723720758933632,3.2520416489059287,-0.5712436557670966,3.2791905272838298,-0.17731154470045976,1.463866105194028,-0.3707378379715054,1.4027023519991164,1.9948891228428327,-1.537906913808702,-1.3773242581659562,0.5220828322331302,0.15532932727915055,0.2936804162098855,5.580926288378216,0.9005184708145737,0.59406155299573,1.2676064195634569,1.0938724498349002,-0.8433548222196859,1.4682415409321339,-0.3746259624785075,3.4660188317146767,1.3683144080194622,1.5118535652055194,0.7580663420271762,-1.3607998786933817,0.9505258718494608,1.0881746711638653,-0.8098807854610574,-0.3242184514207845,0.6827514633705412,0.6394099611980303,3.109394693844203],\"yaxis\":\"y\",\"type\":\"scatter\"},{\"customdata\":[[\"Allure\",\"Tony Anderson\",\"tony-anderson\"],[\"Aurora\",\"Tony Anderson\",\"tony-anderson\"],[\"Chasm\",\"Tony Anderson\",\"tony-anderson\"],[\"Darkest Night\",\"Tony Anderson\",\"tony-anderson\"],[\"Deep Waters - Original Sketch\",\"Tony Anderson\",\"tony-anderson\"],[\"Deep Waters\",\"Tony Anderson\",\"tony-anderson\"],[\"Delusion\",\"Tony Anderson\",\"tony-anderson\"],[\"Eyes Wide Open - Cinematic Mix\",\"Tony Anderson\",\"tony-anderson\"],[\"Eyes Wide Open\",\"Tony Anderson\",\"tony-anderson\"],[\"Face of the Father\",\"Tony Anderson\",\"tony-anderson\"],[\"Farthest Seas\",\"Tony Anderson\",\"tony-anderson\"],[\"Finding Your Heart\",\"Tony Anderson\",\"tony-anderson\"],[\"Halo\",\"Tony Anderson\",\"tony-anderson\"],[\"High Tide\",\"Tony Anderson\",\"tony-anderson\"],[\"Immanuel\",\"Tony Anderson\",\"tony-anderson\"],[\"Immersion\",\"Tony Anderson\",\"tony-anderson\"],[\"In the Distance\",\"Tony Anderson\",\"tony-anderson\"],[\"Incision\",\"Tony Anderson\",\"tony-anderson\"],[\"Like a Child - Cinematic Mix\",\"Tony Anderson\",\"tony-anderson\"],[\"Low Tide\",\"Tony Anderson\",\"tony-anderson\"],[\"Lune\",\"Tony Anderson\",\"tony-anderson\"],[\"Morning's Wings\",\"Tony Anderson\",\"tony-anderson\"],[\"Nightingale\",\"Tony Anderson\",\"tony-anderson\"],[\"No Place on Earth\",\"Tony Anderson\",\"tony-anderson\"],[\"Nocturne in Paris\",\"Tony Anderson\",\"tony-anderson\"],[\"Perennial\",\"Tony Anderson\",\"tony-anderson\"],[\"Resurrect\",\"Tony Anderson\",\"tony-anderson\"],[\"Retour\",\"Tony Anderson\",\"tony-anderson\"],[\"Shalom\",\"Tony Anderson\",\"tony-anderson\"],[\"Slipstream\",\"Tony Anderson\",\"tony-anderson\"],[\"Something Can Grow\",\"Tony Anderson\",\"tony-anderson\"],[\"Spiriteaux\",\"Tony Anderson\",\"tony-anderson\"],[\"The King\",\"Tony Anderson\",\"tony-anderson\"],[\"The Way Home\",\"Tony Anderson\",\"tony-anderson\"],[\"Thin Place - Abbreviated\",\"Tony Anderson\",\"tony-anderson\"],[\"Thin Place\",\"Tony Anderson\",\"tony-anderson\"],[\"We Are One\",\"Tony Anderson\",\"tony-anderson\"],[\"Wir Sind Gleich\",\"Tony Anderson\",\"tony-anderson\"],[\"Younger\",\"Tony Anderson\",\"tony-anderson\"],[\"\\u00c9closion\",\"Tony Anderson\",\"tony-anderson\"],[\"\\u00c9ph\\u00e9m\\u00e8re\",\"Tony Anderson\",\"tony-anderson\"],[\"Arp\\u00e8ge\",\"Tony Anderson\",\"tony-anderson\"],[\"Nuit\",\"Tony Anderson\",\"tony-anderson\"],[\"Tenderness - Woven Remix\",\"Tony Anderson\",\"tony-anderson\"],[\"Tenderness\",\"Tony Anderson\",\"tony-anderson\"],[\"Cambodia - Ross Lara Remix\",\"Tony Anderson\",\"tony-anderson\"],[\"Cambodia\",\"Tony Anderson\",\"tony-anderson\"],[\"Oyarsa\",\"Tony Anderson\",\"tony-anderson\"]],\"hovertemplate\":\"playlist=%{customdata[2]}<br>tonnetz_x=%{x}<br>tonnetz_y=%{y}<br>song_name=%{customdata[0]}<br>artist=%{customdata[1]}<extra></extra>\",\"legendgroup\":\"tony-anderson\",\"marker\":{\"color\":\"#B6E880\",\"symbol\":\"circle\"},\"mode\":\"markers\",\"name\":\"tony-anderson\",\"orientation\":\"v\",\"showlegend\":true,\"x\":[1.4842020085650418,2.8312567102304635,-8.717490309067953,0.48374364376793294,4.961247468162944,6.192849925712139,-0.6277692659219564,-4.390151206042649,-1.970159091946717,5.866404007706935,-4.268740354926925,3.976903511268916,7.434898816211489,-2.106540461245143,6.167541626830712,5.010503237992837,-4.795412727911551,1.9219712347902804,-3.689330265872014,6.898595816757871,4.070714528371029,9.683265831139366,-5.9982733127222465,10.00793458497287,8.667677320472306,3.216131005393001,3.925874025821234,6.920052780061997,5.626370583529025,-2.5996703374671712,2.1150087164876274,3.6411241422596468,-1.3857747022690385,-1.8940641506288662,0.5992279029187088,-0.7254304914703908,-2.1428801387030654,-0.2757434043532167,7.5917257308993396,5.795047647892842,2.6913410622327145,3.8665943537482597,5.344358180336193,-0.09412769780018707,2.392925909364451,3.6534068470095367,8.486875888440617,-5.031220150163773],\"xaxis\":\"x\",\"y\":[-8.80053835899225,0.42721146175327257,-0.24963776794651454,-5.862701915037885,0.5235366437528234,0.5970676158547836,-5.32065736839461,-7.290234118964692,-7.07104387096409,5.098461829088697,-9.109240564366825,-6.224087253244101,1.9096041758947822,-5.544722490110078,-2.21311842876239,-0.9644371958180322,-9.965850015066986,-6.121129671167154,-7.220640366448422,0.966339736196289,-3.4000893222609174,-0.037011354219538155,-0.14119856604655567,-2.2134010881522705,0.9498771000430917,-5.7581830551451825,-1.6443746827073766,-1.0957384751374173,-6.093085098628223,5.475379697485938,-8.750951466112983,-7.856350961112795,-7.804541204158389,-2.3557515226424957,-9.291021980803439,-10.247267551172467,-9.176715345328867,-0.3177233675045681,-0.48536074586952044,-1.0666317933070104,-4.690167839090075,-1.883469097692608,-2.6103193430608824,-0.3901670230312585,-4.154973949267323,-1.2420722481736184,-0.5120561528233054,-5.831117324234435],\"yaxis\":\"y\",\"type\":\"scatter\"}],                        {\"template\":{\"data\":{\"histogram2dcontour\":[{\"type\":\"histogram2dcontour\",\"colorbar\":{\"outlinewidth\":0,\"ticks\":\"\"},\"colorscale\":[[0.0,\"#0d0887\"],[0.1111111111111111,\"#46039f\"],[0.2222222222222222,\"#7201a8\"],[0.3333333333333333,\"#9c179e\"],[0.4444444444444444,\"#bd3786\"],[0.5555555555555556,\"#d8576b\"],[0.6666666666666666,\"#ed7953\"],[0.7777777777777778,\"#fb9f3a\"],[0.8888888888888888,\"#fdca26\"],[1.0,\"#f0f921\"]]}],\"choropleth\":[{\"type\":\"choropleth\",\"colorbar\":{\"outlinewidth\":0,\"ticks\":\"\"}}],\"histogram2d\":[{\"type\":\"histogram2d\",\"colorbar\":{\"outlinewidth\":0,\"ticks\":\"\"},\"colorscale\":[[0.0,\"#0d0887\"],[0.1111111111111111,\"#46039f\"],[0.2222222222222222,\"#7201a8\"],[0.3333333333333333,\"#9c179e\"],[0.4444444444444444,\"#bd3786\"],[0.5555555555555556,\"#d8576b\"],[0.6666666666666666,\"#ed7953\"],[0.7777777777777778,\"#fb9f3a\"],[0.8888888888888888,\"#fdca26\"],[1.0,\"#f0f921\"]]}],\"heatmap\":[{\"type\":\"heatmap\",\"colorbar\":{\"outlinewidth\":0,\"ticks\":\"\"},\"colorscale\":[[0.0,\"#0d0887\"],[0.1111111111111111,\"#46039f\"],[0.2222222222222222,\"#7201a8\"],[0.3333333333333333,\"#9c179e\"],[0.4444444444444444,\"#bd3786\"],[0.5555555555555556,\"#d8576b\"],[0.6666666666666666,\"#ed7953\"],[0.7777777777777778,\"#fb9f3a\"],[0.8888888888888888,\"#fdca26\"],[1.0,\"#f0f921\"]]}],\"heatmapgl\":[{\"type\":\"heatmapgl\",\"colorbar\":{\"outlinewidth\":0,\"ticks\":\"\"},\"colorscale\":[[0.0,\"#0d0887\"],[0.1111111111111111,\"#46039f\"],[0.2222222222222222,\"#7201a8\"],[0.3333333333333333,\"#9c179e\"],[0.4444444444444444,\"#bd3786\"],[0.5555555555555556,\"#d8576b\"],[0.6666666666666666,\"#ed7953\"],[0.7777777777777778,\"#fb9f3a\"],[0.8888888888888888,\"#fdca26\"],[1.0,\"#f0f921\"]]}],\"contourcarpet\":[{\"type\":\"contourcarpet\",\"colorbar\":{\"outlinewidth\":0,\"ticks\":\"\"}}],\"contour\":[{\"type\":\"contour\",\"colorbar\":{\"outlinewidth\":0,\"ticks\":\"\"},\"colorscale\":[[0.0,\"#0d0887\"],[0.1111111111111111,\"#46039f\"],[0.2222222222222222,\"#7201a8\"],[0.3333333333333333,\"#9c179e\"],[0.4444444444444444,\"#bd3786\"],[0.5555555555555556,\"#d8576b\"],[0.6666666666666666,\"#ed7953\"],[0.7777777777777778,\"#fb9f3a\"],[0.8888888888888888,\"#fdca26\"],[1.0,\"#f0f921\"]]}],\"surface\":[{\"type\":\"surface\",\"colorbar\":{\"outlinewidth\":0,\"ticks\":\"\"},\"colorscale\":[[0.0,\"#0d0887\"],[0.1111111111111111,\"#46039f\"],[0.2222222222222222,\"#7201a8\"],[0.3333333333333333,\"#9c179e\"],[0.4444444444444444,\"#bd3786\"],[0.5555555555555556,\"#d8576b\"],[0.6666666666666666,\"#ed7953\"],[0.7777777777777778,\"#fb9f3a\"],[0.8888888888888888,\"#fdca26\"],[1.0,\"#f0f921\"]]}],\"mesh3d\":[{\"type\":\"mesh3d\",\"colorbar\":{\"outlinewidth\":0,\"ticks\":\"\"}}],\"scatter\":[{\"marker\":{\"line\":{\"color\":\"#283442\"}},\"type\":\"scatter\"}],\"parcoords\":[{\"type\":\"parcoords\",\"line\":{\"colorbar\":{\"outlinewidth\":0,\"ticks\":\"\"}}}],\"scatterpolargl\":[{\"type\":\"scatterpolargl\",\"marker\":{\"colorbar\":{\"outlinewidth\":0,\"ticks\":\"\"}}}],\"bar\":[{\"error_x\":{\"color\":\"#f2f5fa\"},\"error_y\":{\"color\":\"#f2f5fa\"},\"marker\":{\"line\":{\"color\":\"rgb(17,17,17)\",\"width\":0.5},\"pattern\":{\"fillmode\":\"overlay\",\"size\":10,\"solidity\":0.2}},\"type\":\"bar\"}],\"scattergeo\":[{\"type\":\"scattergeo\",\"marker\":{\"colorbar\":{\"outlinewidth\":0,\"ticks\":\"\"}}}],\"scatterpolar\":[{\"type\":\"scatterpolar\",\"marker\":{\"colorbar\":{\"outlinewidth\":0,\"ticks\":\"\"}}}],\"histogram\":[{\"marker\":{\"pattern\":{\"fillmode\":\"overlay\",\"size\":10,\"solidity\":0.2}},\"type\":\"histogram\"}],\"scattergl\":[{\"marker\":{\"line\":{\"color\":\"#283442\"}},\"type\":\"scattergl\"}],\"scatter3d\":[{\"type\":\"scatter3d\",\"line\":{\"colorbar\":{\"outlinewidth\":0,\"ticks\":\"\"}},\"marker\":{\"colorbar\":{\"outlinewidth\":0,\"ticks\":\"\"}}}],\"scattermapbox\":[{\"type\":\"scattermapbox\",\"marker\":{\"colorbar\":{\"outlinewidth\":0,\"ticks\":\"\"}}}],\"scatterternary\":[{\"type\":\"scatterternary\",\"marker\":{\"colorbar\":{\"outlinewidth\":0,\"ticks\":\"\"}}}],\"scattercarpet\":[{\"type\":\"scattercarpet\",\"marker\":{\"colorbar\":{\"outlinewidth\":0,\"ticks\":\"\"}}}],\"carpet\":[{\"aaxis\":{\"endlinecolor\":\"#A2B1C6\",\"gridcolor\":\"#506784\",\"linecolor\":\"#506784\",\"minorgridcolor\":\"#506784\",\"startlinecolor\":\"#A2B1C6\"},\"baxis\":{\"endlinecolor\":\"#A2B1C6\",\"gridcolor\":\"#506784\",\"linecolor\":\"#506784\",\"minorgridcolor\":\"#506784\",\"startlinecolor\":\"#A2B1C6\"},\"type\":\"carpet\"}],\"table\":[{\"cells\":{\"fill\":{\"color\":\"#506784\"},\"line\":{\"color\":\"rgb(17,17,17)\"}},\"header\":{\"fill\":{\"color\":\"#2a3f5f\"},\"line\":{\"color\":\"rgb(17,17,17)\"}},\"type\":\"table\"}],\"barpolar\":[{\"marker\":{\"line\":{\"color\":\"rgb(17,17,17)\",\"width\":0.5},\"pattern\":{\"fillmode\":\"overlay\",\"size\":10,\"solidity\":0.2}},\"type\":\"barpolar\"}],\"pie\":[{\"automargin\":true,\"type\":\"pie\"}]},\"layout\":{\"autotypenumbers\":\"strict\",\"colorway\":[\"#636efa\",\"#EF553B\",\"#00cc96\",\"#ab63fa\",\"#FFA15A\",\"#19d3f3\",\"#FF6692\",\"#B6E880\",\"#FF97FF\",\"#FECB52\"],\"font\":{\"color\":\"#f2f5fa\"},\"hovermode\":\"closest\",\"hoverlabel\":{\"align\":\"left\"},\"paper_bgcolor\":\"rgb(17,17,17)\",\"plot_bgcolor\":\"rgb(17,17,17)\",\"polar\":{\"bgcolor\":\"rgb(17,17,17)\",\"angularaxis\":{\"gridcolor\":\"#506784\",\"linecolor\":\"#506784\",\"ticks\":\"\"},\"radialaxis\":{\"gridcolor\":\"#506784\",\"linecolor\":\"#506784\",\"ticks\":\"\"}},\"ternary\":{\"bgcolor\":\"rgb(17,17,17)\",\"aaxis\":{\"gridcolor\":\"#506784\",\"linecolor\":\"#506784\",\"ticks\":\"\"},\"baxis\":{\"gridcolor\":\"#506784\",\"linecolor\":\"#506784\",\"ticks\":\"\"},\"caxis\":{\"gridcolor\":\"#506784\",\"linecolor\":\"#506784\",\"ticks\":\"\"}},\"coloraxis\":{\"colorbar\":{\"outlinewidth\":0,\"ticks\":\"\"}},\"colorscale\":{\"sequential\":[[0.0,\"#0d0887\"],[0.1111111111111111,\"#46039f\"],[0.2222222222222222,\"#7201a8\"],[0.3333333333333333,\"#9c179e\"],[0.4444444444444444,\"#bd3786\"],[0.5555555555555556,\"#d8576b\"],[0.6666666666666666,\"#ed7953\"],[0.7777777777777778,\"#fb9f3a\"],[0.8888888888888888,\"#fdca26\"],[1.0,\"#f0f921\"]],\"sequentialminus\":[[0.0,\"#0d0887\"],[0.1111111111111111,\"#46039f\"],[0.2222222222222222,\"#7201a8\"],[0.3333333333333333,\"#9c179e\"],[0.4444444444444444,\"#bd3786\"],[0.5555555555555556,\"#d8576b\"],[0.6666666666666666,\"#ed7953\"],[0.7777777777777778,\"#fb9f3a\"],[0.8888888888888888,\"#fdca26\"],[1.0,\"#f0f921\"]],\"diverging\":[[0,\"#8e0152\"],[0.1,\"#c51b7d\"],[0.2,\"#de77ae\"],[0.3,\"#f1b6da\"],[0.4,\"#fde0ef\"],[0.5,\"#f7f7f7\"],[0.6,\"#e6f5d0\"],[0.7,\"#b8e186\"],[0.8,\"#7fbc41\"],[0.9,\"#4d9221\"],[1,\"#276419\"]]},\"xaxis\":{\"gridcolor\":\"#283442\",\"linecolor\":\"#506784\",\"ticks\":\"\",\"title\":{\"standoff\":15},\"zerolinecolor\":\"#283442\",\"automargin\":true,\"zerolinewidth\":2},\"yaxis\":{\"gridcolor\":\"#283442\",\"linecolor\":\"#506784\",\"ticks\":\"\",\"title\":{\"standoff\":15},\"zerolinecolor\":\"#283442\",\"automargin\":true,\"zerolinewidth\":2},\"scene\":{\"xaxis\":{\"backgroundcolor\":\"rgb(17,17,17)\",\"gridcolor\":\"#506784\",\"linecolor\":\"#506784\",\"showbackground\":true,\"ticks\":\"\",\"zerolinecolor\":\"#C8D4E3\",\"gridwidth\":2},\"yaxis\":{\"backgroundcolor\":\"rgb(17,17,17)\",\"gridcolor\":\"#506784\",\"linecolor\":\"#506784\",\"showbackground\":true,\"ticks\":\"\",\"zerolinecolor\":\"#C8D4E3\",\"gridwidth\":2},\"zaxis\":{\"backgroundcolor\":\"rgb(17,17,17)\",\"gridcolor\":\"#506784\",\"linecolor\":\"#506784\",\"showbackground\":true,\"ticks\":\"\",\"zerolinecolor\":\"#C8D4E3\",\"gridwidth\":2}},\"shapedefaults\":{\"line\":{\"color\":\"#f2f5fa\"}},\"annotationdefaults\":{\"arrowcolor\":\"#f2f5fa\",\"arrowhead\":0,\"arrowwidth\":1},\"geo\":{\"bgcolor\":\"rgb(17,17,17)\",\"landcolor\":\"rgb(17,17,17)\",\"subunitcolor\":\"#506784\",\"showland\":true,\"showlakes\":true,\"lakecolor\":\"rgb(17,17,17)\"},\"title\":{\"x\":0.05},\"updatemenudefaults\":{\"bgcolor\":\"#506784\",\"borderwidth\":0},\"sliderdefaults\":{\"bgcolor\":\"#C8D4E3\",\"borderwidth\":1,\"bordercolor\":\"rgb(17,17,17)\",\"tickwidth\":0},\"mapbox\":{\"style\":\"dark\"}}},\"xaxis\":{\"anchor\":\"y\",\"domain\":[0.0,1.0],\"title\":{\"text\":\"tonnetz_x\"}},\"yaxis\":{\"anchor\":\"x\",\"domain\":[0.0,1.0],\"title\":{\"text\":\"tonnetz_y\"}},\"legend\":{\"title\":{\"text\":\"playlist\"},\"tracegroupgap\":0},\"margin\":{\"t\":60}},                        {\"responsive\": true}                    ).then(function(){\n                            \nvar gd = document.getElementById('8265fb8c-4e55-4b79-8966-0a096194b53c');\nvar x = new MutationObserver(function (mutations, observer) {{\n        var display = window.getComputedStyle(gd).display;\n        if (!display || display === 'none') {{\n            console.log([gd, 'removed!']);\n            Plotly.purge(gd);\n            observer.disconnect();\n        }}\n}});\n\n// Listen for the removal of the full notebook cells\nvar notebookContainer = gd.closest('#notebook-container');\nif (notebookContainer) {{\n    x.observe(notebookContainer, {childList: true});\n}}\n\n// Listen for the clearing of the current output cell\nvar outputEl = gd.closest('.output');\nif (outputEl) {{\n    x.observe(outputEl, {childList: true});\n}}\n\n                        })                };                });            </script>        </div>"
     },
     "metadata": {},
     "output_type": "display_data"
    }
   ],
   "source": [
    "tonnetz_fig = px.scatter(dataset, x='tonnetz_x', y='tonnetz_y', color='playlist', hover_data=config.metadata_columns)\n",
    "tonnetz_fig.write_image(config.image_dir + '/tonnetz-mds.png', width=1000, scale=2)\n",
    "tonnetz_fig"
   ]
  }
 ],
 "metadata": {
  "kernelspec": {
   "display_name": "Python 3 (ipykernel)",
   "language": "python",
   "name": "python3"
  },
  "language_info": {
   "codemirror_mode": {
    "name": "ipython",
    "version": 3
   },
   "file_extension": ".py",
   "mimetype": "text/x-python",
   "name": "python",
   "nbconvert_exporter": "python",
   "pygments_lexer": "ipython3",
   "version": "3.10.9"
  }
 },
 "nbformat": 4,
 "nbformat_minor": 1
}
