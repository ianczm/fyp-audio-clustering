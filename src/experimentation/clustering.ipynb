{
 "cells": [
  {
   "cell_type": "code",
   "execution_count": 18,
   "outputs": [],
   "source": [
    "import pandas as pd\n",
    "\n",
    "from src.helpers.repositories import AudioRepository\n",
    "from src.models import *\n",
    "\n",
    "import matplotlib.pyplot as plt\n",
    "from sklearn.preprocessing import StandardScaler\n",
    "from sklearn.cluster import KMeans\n",
    "from sklearn.decomposition import PCA\n",
    "\n",
    "import plotly.express as px"
   ],
   "metadata": {
    "collapsed": false
   }
  },
  {
   "cell_type": "code",
   "execution_count": 19,
   "outputs": [],
   "source": [
    "data = AudioRepository.load_processed_audio([\n",
    "    '../../data\\\\playlist-1-extracted',\n",
    "    '../../data\\\\playlist-2-extracted',\n",
    "    '../../data\\\\playlist-3-extracted',\n",
    "    '../../data\\\\playlist-4-extracted'\n",
    "])\n",
    "vectors = [vector for vector, _ in data]"
   ],
   "metadata": {
    "collapsed": false
   }
  },
  {
   "cell_type": "code",
   "execution_count": 20,
   "outputs": [
    {
     "data": {
      "text/plain": "0                                Easily\n1                               Nothing\n2              The Most Beautiful Thing\n3     Lovesong (The Way) [feat. Bluets]\n4              Best Part (feat. H.E.R.)\n                    ...                \n70                          Crystallize\n71                               Retour\n72                            Civilized\n73                         Fire & Stone\n74                        I Caught Fire\nName: song_name, Length: 75, dtype: object"
     },
     "execution_count": 20,
     "metadata": {},
     "output_type": "execute_result"
    }
   ],
   "source": [
    "dataset = pd.DataFrame([vector.as_dict() for vector in vectors])\n",
    "song_names = dataset.pop('song_name')\n",
    "song_names"
   ],
   "metadata": {
    "collapsed": false
   }
  },
  {
   "cell_type": "code",
   "execution_count": 21,
   "outputs": [
    {
     "data": {
      "text/plain": "0          Bruno Major\n1          Bruno Major\n2          Bruno Major\n3         Charlie Burg\n4        Daniel Caesar\n            ...       \n70    Thomas Bergersen\n71       Tony Anderson\n72            Voyageur\n73            Voyageur\n74            Voyageur\nName: artist, Length: 75, dtype: object"
     },
     "execution_count": 21,
     "metadata": {},
     "output_type": "execute_result"
    }
   ],
   "source": [
    "artists = dataset.pop('artist')\n",
    "artists"
   ],
   "metadata": {
    "collapsed": false
   }
  },
  {
   "cell_type": "code",
   "execution_count": 22,
   "outputs": [
    {
     "data": {
      "text/plain": "0     playlist-1-extracted\n1     playlist-1-extracted\n2     playlist-1-extracted\n3     playlist-1-extracted\n4     playlist-1-extracted\n              ...         \n70    playlist-4-extracted\n71    playlist-4-extracted\n72    playlist-4-extracted\n73    playlist-4-extracted\n74    playlist-4-extracted\nName: playlist, Length: 75, dtype: object"
     },
     "execution_count": 22,
     "metadata": {},
     "output_type": "execute_result"
    }
   ],
   "source": [
    "playlists = dataset.pop('playlist')\n",
    "playlists"
   ],
   "metadata": {
    "collapsed": false
   }
  },
  {
   "cell_type": "code",
   "execution_count": 23,
   "outputs": [
    {
     "data": {
      "text/plain": "    zero_crossings_mean  zero_crossings_var         bpm  \\\n0              0.040950            0.039273  123.046875   \n1              0.031868            0.030852  143.554688   \n2              0.040446            0.038810  129.199219   \n3              0.096648            0.087307   75.999540   \n4              0.071633            0.066501  143.554688   \n..                  ...                 ...         ...   \n70             0.067735            0.063147  123.046875   \n71             0.023181            0.022644   95.703125   \n72             0.063476            0.059447   92.285156   \n73             0.062675            0.058747   75.999540   \n74             0.063666            0.059612  117.453835   \n\n    spectral_centroid_mean  spectral_centroid_var  spectral_rolloff_mean  \\\n0              1325.705462           1.281488e+06            2646.148866   \n1               750.569751           3.044683e+05            1319.636496   \n2              1266.167543           7.255832e+05            2489.469988   \n3              2266.903839           1.107634e+06            4889.516004   \n4              1931.093252           5.833559e+05            4200.484102   \n..                     ...                    ...                    ...   \n70             1552.861796           5.532690e+05            3168.619062   \n71              503.955003           1.046665e+05             788.013815   \n72             1603.264420           4.643250e+05            3322.297781   \n73             1566.899937           3.137780e+05            3209.446124   \n74             1582.125327           3.331511e+05            3124.704634   \n\n    spectral_rolloff_var  spectral_flux_mean  spectral_flux_var  mfcc_mean_1  \\\n0           6.999132e+06            1.405987           4.380646   122.607567   \n1           1.612754e+06            1.132027           1.644858   166.858704   \n2           3.907391e+06            1.428144           5.548598   125.978645   \n3           4.571252e+06            1.310032           2.629859    86.361046   \n4           3.314215e+06            1.247534           1.750443   107.245453   \n..                   ...                 ...                ...          ...   \n70          2.435322e+06            0.860111           0.193992   121.357773   \n71          6.424496e+05            0.835529           0.624931   187.431808   \n72          2.658560e+06            0.950252           0.474175   124.430542   \n73          2.399429e+06            0.996284           0.614221   127.884583   \n74          2.553557e+06            0.935182           0.712281   127.691864   \n\n     mfcc_var_1  mfcc_mean_2  mfcc_var_2  mfcc_mean_3  mfcc_var_3  \\\n0   2342.442383    41.752369  830.084106    29.401342  423.736786   \n1   1735.323975    21.118891  456.029633    19.709267  504.540619   \n2   1397.635986    25.613192  358.246765    28.354788  235.979935   \n3   1635.238281    12.115478  878.224487    29.897362  489.664551   \n4   1037.345459    14.395954  425.511444    18.686554  338.837616   \n..          ...          ...         ...          ...         ...   \n70   927.573242    -1.494154  950.097290    32.788578  121.798576   \n71  1902.659424    47.678169  647.584534    14.545411  212.372940   \n72  1319.083984     0.545243  266.261444    16.496122  246.155746   \n73   953.000000     1.270565  162.211731     9.160923  208.752747   \n74  1317.673950    -3.068520  480.605560    -3.081387  390.530334   \n\n    mfcc_mean_4  mfcc_var_4  mfcc_mean_5  mfcc_var_5  \n0     20.773031  245.108810    11.525144  202.638687  \n1     16.009113  387.933258    22.504009  190.261200  \n2     18.006464  166.277481    12.967431  143.211929  \n3     11.958034  249.108963    15.391748  269.410339  \n4      6.706423  310.398560     3.488143  212.048035  \n..          ...         ...          ...         ...  \n70     5.771464   68.384590     5.951822   45.975948  \n71    10.050799   94.826553     7.101512   64.315620  \n72    -3.790283  151.651932     5.472765  164.624512  \n73    -4.171951  139.620926     9.664831  104.385056  \n74   -11.728936  137.629547    -0.468727  131.854065  \n\n[75 rows x 19 columns]",
      "text/html": "<div>\n<style scoped>\n    .dataframe tbody tr th:only-of-type {\n        vertical-align: middle;\n    }\n\n    .dataframe tbody tr th {\n        vertical-align: top;\n    }\n\n    .dataframe thead th {\n        text-align: right;\n    }\n</style>\n<table border=\"1\" class=\"dataframe\">\n  <thead>\n    <tr style=\"text-align: right;\">\n      <th></th>\n      <th>zero_crossings_mean</th>\n      <th>zero_crossings_var</th>\n      <th>bpm</th>\n      <th>spectral_centroid_mean</th>\n      <th>spectral_centroid_var</th>\n      <th>spectral_rolloff_mean</th>\n      <th>spectral_rolloff_var</th>\n      <th>spectral_flux_mean</th>\n      <th>spectral_flux_var</th>\n      <th>mfcc_mean_1</th>\n      <th>mfcc_var_1</th>\n      <th>mfcc_mean_2</th>\n      <th>mfcc_var_2</th>\n      <th>mfcc_mean_3</th>\n      <th>mfcc_var_3</th>\n      <th>mfcc_mean_4</th>\n      <th>mfcc_var_4</th>\n      <th>mfcc_mean_5</th>\n      <th>mfcc_var_5</th>\n    </tr>\n  </thead>\n  <tbody>\n    <tr>\n      <th>0</th>\n      <td>0.040950</td>\n      <td>0.039273</td>\n      <td>123.046875</td>\n      <td>1325.705462</td>\n      <td>1.281488e+06</td>\n      <td>2646.148866</td>\n      <td>6.999132e+06</td>\n      <td>1.405987</td>\n      <td>4.380646</td>\n      <td>122.607567</td>\n      <td>2342.442383</td>\n      <td>41.752369</td>\n      <td>830.084106</td>\n      <td>29.401342</td>\n      <td>423.736786</td>\n      <td>20.773031</td>\n      <td>245.108810</td>\n      <td>11.525144</td>\n      <td>202.638687</td>\n    </tr>\n    <tr>\n      <th>1</th>\n      <td>0.031868</td>\n      <td>0.030852</td>\n      <td>143.554688</td>\n      <td>750.569751</td>\n      <td>3.044683e+05</td>\n      <td>1319.636496</td>\n      <td>1.612754e+06</td>\n      <td>1.132027</td>\n      <td>1.644858</td>\n      <td>166.858704</td>\n      <td>1735.323975</td>\n      <td>21.118891</td>\n      <td>456.029633</td>\n      <td>19.709267</td>\n      <td>504.540619</td>\n      <td>16.009113</td>\n      <td>387.933258</td>\n      <td>22.504009</td>\n      <td>190.261200</td>\n    </tr>\n    <tr>\n      <th>2</th>\n      <td>0.040446</td>\n      <td>0.038810</td>\n      <td>129.199219</td>\n      <td>1266.167543</td>\n      <td>7.255832e+05</td>\n      <td>2489.469988</td>\n      <td>3.907391e+06</td>\n      <td>1.428144</td>\n      <td>5.548598</td>\n      <td>125.978645</td>\n      <td>1397.635986</td>\n      <td>25.613192</td>\n      <td>358.246765</td>\n      <td>28.354788</td>\n      <td>235.979935</td>\n      <td>18.006464</td>\n      <td>166.277481</td>\n      <td>12.967431</td>\n      <td>143.211929</td>\n    </tr>\n    <tr>\n      <th>3</th>\n      <td>0.096648</td>\n      <td>0.087307</td>\n      <td>75.999540</td>\n      <td>2266.903839</td>\n      <td>1.107634e+06</td>\n      <td>4889.516004</td>\n      <td>4.571252e+06</td>\n      <td>1.310032</td>\n      <td>2.629859</td>\n      <td>86.361046</td>\n      <td>1635.238281</td>\n      <td>12.115478</td>\n      <td>878.224487</td>\n      <td>29.897362</td>\n      <td>489.664551</td>\n      <td>11.958034</td>\n      <td>249.108963</td>\n      <td>15.391748</td>\n      <td>269.410339</td>\n    </tr>\n    <tr>\n      <th>4</th>\n      <td>0.071633</td>\n      <td>0.066501</td>\n      <td>143.554688</td>\n      <td>1931.093252</td>\n      <td>5.833559e+05</td>\n      <td>4200.484102</td>\n      <td>3.314215e+06</td>\n      <td>1.247534</td>\n      <td>1.750443</td>\n      <td>107.245453</td>\n      <td>1037.345459</td>\n      <td>14.395954</td>\n      <td>425.511444</td>\n      <td>18.686554</td>\n      <td>338.837616</td>\n      <td>6.706423</td>\n      <td>310.398560</td>\n      <td>3.488143</td>\n      <td>212.048035</td>\n    </tr>\n    <tr>\n      <th>...</th>\n      <td>...</td>\n      <td>...</td>\n      <td>...</td>\n      <td>...</td>\n      <td>...</td>\n      <td>...</td>\n      <td>...</td>\n      <td>...</td>\n      <td>...</td>\n      <td>...</td>\n      <td>...</td>\n      <td>...</td>\n      <td>...</td>\n      <td>...</td>\n      <td>...</td>\n      <td>...</td>\n      <td>...</td>\n      <td>...</td>\n      <td>...</td>\n    </tr>\n    <tr>\n      <th>70</th>\n      <td>0.067735</td>\n      <td>0.063147</td>\n      <td>123.046875</td>\n      <td>1552.861796</td>\n      <td>5.532690e+05</td>\n      <td>3168.619062</td>\n      <td>2.435322e+06</td>\n      <td>0.860111</td>\n      <td>0.193992</td>\n      <td>121.357773</td>\n      <td>927.573242</td>\n      <td>-1.494154</td>\n      <td>950.097290</td>\n      <td>32.788578</td>\n      <td>121.798576</td>\n      <td>5.771464</td>\n      <td>68.384590</td>\n      <td>5.951822</td>\n      <td>45.975948</td>\n    </tr>\n    <tr>\n      <th>71</th>\n      <td>0.023181</td>\n      <td>0.022644</td>\n      <td>95.703125</td>\n      <td>503.955003</td>\n      <td>1.046665e+05</td>\n      <td>788.013815</td>\n      <td>6.424496e+05</td>\n      <td>0.835529</td>\n      <td>0.624931</td>\n      <td>187.431808</td>\n      <td>1902.659424</td>\n      <td>47.678169</td>\n      <td>647.584534</td>\n      <td>14.545411</td>\n      <td>212.372940</td>\n      <td>10.050799</td>\n      <td>94.826553</td>\n      <td>7.101512</td>\n      <td>64.315620</td>\n    </tr>\n    <tr>\n      <th>72</th>\n      <td>0.063476</td>\n      <td>0.059447</td>\n      <td>92.285156</td>\n      <td>1603.264420</td>\n      <td>4.643250e+05</td>\n      <td>3322.297781</td>\n      <td>2.658560e+06</td>\n      <td>0.950252</td>\n      <td>0.474175</td>\n      <td>124.430542</td>\n      <td>1319.083984</td>\n      <td>0.545243</td>\n      <td>266.261444</td>\n      <td>16.496122</td>\n      <td>246.155746</td>\n      <td>-3.790283</td>\n      <td>151.651932</td>\n      <td>5.472765</td>\n      <td>164.624512</td>\n    </tr>\n    <tr>\n      <th>73</th>\n      <td>0.062675</td>\n      <td>0.058747</td>\n      <td>75.999540</td>\n      <td>1566.899937</td>\n      <td>3.137780e+05</td>\n      <td>3209.446124</td>\n      <td>2.399429e+06</td>\n      <td>0.996284</td>\n      <td>0.614221</td>\n      <td>127.884583</td>\n      <td>953.000000</td>\n      <td>1.270565</td>\n      <td>162.211731</td>\n      <td>9.160923</td>\n      <td>208.752747</td>\n      <td>-4.171951</td>\n      <td>139.620926</td>\n      <td>9.664831</td>\n      <td>104.385056</td>\n    </tr>\n    <tr>\n      <th>74</th>\n      <td>0.063666</td>\n      <td>0.059612</td>\n      <td>117.453835</td>\n      <td>1582.125327</td>\n      <td>3.331511e+05</td>\n      <td>3124.704634</td>\n      <td>2.553557e+06</td>\n      <td>0.935182</td>\n      <td>0.712281</td>\n      <td>127.691864</td>\n      <td>1317.673950</td>\n      <td>-3.068520</td>\n      <td>480.605560</td>\n      <td>-3.081387</td>\n      <td>390.530334</td>\n      <td>-11.728936</td>\n      <td>137.629547</td>\n      <td>-0.468727</td>\n      <td>131.854065</td>\n    </tr>\n  </tbody>\n</table>\n<p>75 rows × 19 columns</p>\n</div>"
     },
     "execution_count": 23,
     "metadata": {},
     "output_type": "execute_result"
    }
   ],
   "source": [
    "dataset"
   ],
   "metadata": {
    "collapsed": false
   }
  },
  {
   "cell_type": "code",
   "execution_count": 24,
   "outputs": [
    {
     "data": {
      "text/plain": "    zero_crossings_mean  zero_crossings_var       bpm  spectral_centroid_mean  \\\n0             -1.310017           -1.353782  0.181330               -0.246661   \n1             -1.855906           -1.945730  0.956559               -1.461804   \n2             -1.340322           -1.386340  0.413899               -0.372452   \n3              2.037673            2.022738 -1.597134                1.741897   \n4              0.534135            0.560204  0.956559                1.032399   \n..                  ...                 ...       ...                     ...   \n70             0.299899            0.324436  0.181330                0.233274   \n71            -2.378029           -2.522758 -0.852307               -1.982850   \n72             0.043914            0.064335 -0.981512                0.339764   \n73            -0.004256            0.015105 -1.597134                0.262933   \n74             0.055277            0.075934 -0.030095                0.295102   \n\n    spectral_centroid_var  spectral_rolloff_mean  spectral_rolloff_var  \\\n0                2.156194              -0.204866              2.294897   \n1               -0.628464              -1.300638             -0.667528   \n2                0.571779              -0.334291              0.594487   \n3                1.660683               1.648279              0.959600   \n4                0.166409               1.079101              0.268249   \n..                    ...                    ...                   ...   \n70               0.080657               0.226723             -0.215128   \n71              -1.197930              -1.739788             -1.201180   \n72              -0.172847               0.353670             -0.092350   \n73              -0.601929               0.260449             -0.234869   \n74              -0.546713               0.190448             -0.150101   \n\n    spectral_flux_mean  spectral_flux_var  mfcc_mean_1  mfcc_var_1  \\\n0             1.692801           2.360134    -0.359377    1.328278   \n1             0.433764           0.249473     1.122129    0.248374   \n2             1.794631           3.261210    -0.246515   -0.352285   \n3             1.251823           1.009401    -1.572893    0.070347   \n4             0.964600           0.330932    -0.873693   -0.993147   \n..                 ...                ...          ...         ...   \n70           -0.815882          -0.869871    -0.401220   -1.188403   \n71           -0.928853          -0.537402     1.810906    0.546019   \n72           -0.401622          -0.653710    -0.298345   -0.492008   \n73           -0.190070          -0.545664    -0.182706   -1.143175   \n74           -0.470880          -0.470011    -0.189158   -0.494516   \n\n    mfcc_mean_2  mfcc_var_2  mfcc_mean_3  mfcc_var_3  mfcc_mean_4  mfcc_var_4  \\\n0      2.097092    0.431606     1.188846    0.853930     2.022802    0.579506   \n1      0.845940   -0.639848     0.353593    1.482203     1.437939    2.052155   \n2      1.118461   -0.919941     1.098655   -0.605933     1.683153   -0.233316   \n3      0.300000    0.569501     1.231592    1.366537     0.940592    0.620751   \n4      0.438282   -0.727266     0.265457    0.193815     0.295856    1.252702   \n..          ...         ...          ...         ...          ...         ...   \n70    -0.525246    0.775376     1.480754   -1.493726     0.181072   -1.242680   \n71     2.456414   -0.091152    -0.091422   -0.789484     0.706442   -0.970039   \n72    -0.401583   -1.183427     0.076688   -0.526813    -0.992816   -0.384118   \n73    -0.357602   -1.481471    -0.555452   -0.817632    -1.039674   -0.508169   \n74    -0.620711   -0.569452    -1.610481    0.595740    -1.967439   -0.528702   \n\n    mfcc_mean_5  mfcc_var_5  \n0      1.122242    0.832484  \n1      2.484052    0.640944  \n2      1.301142   -0.087137  \n3      1.601852    1.865766  \n4      0.125338    0.978092  \n..          ...         ...  \n70     0.430931   -1.591850  \n71     0.573538   -1.308046  \n72     0.371509    0.244220  \n73     0.891490   -0.687977  \n74    -0.365469   -0.262898  \n\n[75 rows x 19 columns]",
      "text/html": "<div>\n<style scoped>\n    .dataframe tbody tr th:only-of-type {\n        vertical-align: middle;\n    }\n\n    .dataframe tbody tr th {\n        vertical-align: top;\n    }\n\n    .dataframe thead th {\n        text-align: right;\n    }\n</style>\n<table border=\"1\" class=\"dataframe\">\n  <thead>\n    <tr style=\"text-align: right;\">\n      <th></th>\n      <th>zero_crossings_mean</th>\n      <th>zero_crossings_var</th>\n      <th>bpm</th>\n      <th>spectral_centroid_mean</th>\n      <th>spectral_centroid_var</th>\n      <th>spectral_rolloff_mean</th>\n      <th>spectral_rolloff_var</th>\n      <th>spectral_flux_mean</th>\n      <th>spectral_flux_var</th>\n      <th>mfcc_mean_1</th>\n      <th>mfcc_var_1</th>\n      <th>mfcc_mean_2</th>\n      <th>mfcc_var_2</th>\n      <th>mfcc_mean_3</th>\n      <th>mfcc_var_3</th>\n      <th>mfcc_mean_4</th>\n      <th>mfcc_var_4</th>\n      <th>mfcc_mean_5</th>\n      <th>mfcc_var_5</th>\n    </tr>\n  </thead>\n  <tbody>\n    <tr>\n      <th>0</th>\n      <td>-1.310017</td>\n      <td>-1.353782</td>\n      <td>0.181330</td>\n      <td>-0.246661</td>\n      <td>2.156194</td>\n      <td>-0.204866</td>\n      <td>2.294897</td>\n      <td>1.692801</td>\n      <td>2.360134</td>\n      <td>-0.359377</td>\n      <td>1.328278</td>\n      <td>2.097092</td>\n      <td>0.431606</td>\n      <td>1.188846</td>\n      <td>0.853930</td>\n      <td>2.022802</td>\n      <td>0.579506</td>\n      <td>1.122242</td>\n      <td>0.832484</td>\n    </tr>\n    <tr>\n      <th>1</th>\n      <td>-1.855906</td>\n      <td>-1.945730</td>\n      <td>0.956559</td>\n      <td>-1.461804</td>\n      <td>-0.628464</td>\n      <td>-1.300638</td>\n      <td>-0.667528</td>\n      <td>0.433764</td>\n      <td>0.249473</td>\n      <td>1.122129</td>\n      <td>0.248374</td>\n      <td>0.845940</td>\n      <td>-0.639848</td>\n      <td>0.353593</td>\n      <td>1.482203</td>\n      <td>1.437939</td>\n      <td>2.052155</td>\n      <td>2.484052</td>\n      <td>0.640944</td>\n    </tr>\n    <tr>\n      <th>2</th>\n      <td>-1.340322</td>\n      <td>-1.386340</td>\n      <td>0.413899</td>\n      <td>-0.372452</td>\n      <td>0.571779</td>\n      <td>-0.334291</td>\n      <td>0.594487</td>\n      <td>1.794631</td>\n      <td>3.261210</td>\n      <td>-0.246515</td>\n      <td>-0.352285</td>\n      <td>1.118461</td>\n      <td>-0.919941</td>\n      <td>1.098655</td>\n      <td>-0.605933</td>\n      <td>1.683153</td>\n      <td>-0.233316</td>\n      <td>1.301142</td>\n      <td>-0.087137</td>\n    </tr>\n    <tr>\n      <th>3</th>\n      <td>2.037673</td>\n      <td>2.022738</td>\n      <td>-1.597134</td>\n      <td>1.741897</td>\n      <td>1.660683</td>\n      <td>1.648279</td>\n      <td>0.959600</td>\n      <td>1.251823</td>\n      <td>1.009401</td>\n      <td>-1.572893</td>\n      <td>0.070347</td>\n      <td>0.300000</td>\n      <td>0.569501</td>\n      <td>1.231592</td>\n      <td>1.366537</td>\n      <td>0.940592</td>\n      <td>0.620751</td>\n      <td>1.601852</td>\n      <td>1.865766</td>\n    </tr>\n    <tr>\n      <th>4</th>\n      <td>0.534135</td>\n      <td>0.560204</td>\n      <td>0.956559</td>\n      <td>1.032399</td>\n      <td>0.166409</td>\n      <td>1.079101</td>\n      <td>0.268249</td>\n      <td>0.964600</td>\n      <td>0.330932</td>\n      <td>-0.873693</td>\n      <td>-0.993147</td>\n      <td>0.438282</td>\n      <td>-0.727266</td>\n      <td>0.265457</td>\n      <td>0.193815</td>\n      <td>0.295856</td>\n      <td>1.252702</td>\n      <td>0.125338</td>\n      <td>0.978092</td>\n    </tr>\n    <tr>\n      <th>...</th>\n      <td>...</td>\n      <td>...</td>\n      <td>...</td>\n      <td>...</td>\n      <td>...</td>\n      <td>...</td>\n      <td>...</td>\n      <td>...</td>\n      <td>...</td>\n      <td>...</td>\n      <td>...</td>\n      <td>...</td>\n      <td>...</td>\n      <td>...</td>\n      <td>...</td>\n      <td>...</td>\n      <td>...</td>\n      <td>...</td>\n      <td>...</td>\n    </tr>\n    <tr>\n      <th>70</th>\n      <td>0.299899</td>\n      <td>0.324436</td>\n      <td>0.181330</td>\n      <td>0.233274</td>\n      <td>0.080657</td>\n      <td>0.226723</td>\n      <td>-0.215128</td>\n      <td>-0.815882</td>\n      <td>-0.869871</td>\n      <td>-0.401220</td>\n      <td>-1.188403</td>\n      <td>-0.525246</td>\n      <td>0.775376</td>\n      <td>1.480754</td>\n      <td>-1.493726</td>\n      <td>0.181072</td>\n      <td>-1.242680</td>\n      <td>0.430931</td>\n      <td>-1.591850</td>\n    </tr>\n    <tr>\n      <th>71</th>\n      <td>-2.378029</td>\n      <td>-2.522758</td>\n      <td>-0.852307</td>\n      <td>-1.982850</td>\n      <td>-1.197930</td>\n      <td>-1.739788</td>\n      <td>-1.201180</td>\n      <td>-0.928853</td>\n      <td>-0.537402</td>\n      <td>1.810906</td>\n      <td>0.546019</td>\n      <td>2.456414</td>\n      <td>-0.091152</td>\n      <td>-0.091422</td>\n      <td>-0.789484</td>\n      <td>0.706442</td>\n      <td>-0.970039</td>\n      <td>0.573538</td>\n      <td>-1.308046</td>\n    </tr>\n    <tr>\n      <th>72</th>\n      <td>0.043914</td>\n      <td>0.064335</td>\n      <td>-0.981512</td>\n      <td>0.339764</td>\n      <td>-0.172847</td>\n      <td>0.353670</td>\n      <td>-0.092350</td>\n      <td>-0.401622</td>\n      <td>-0.653710</td>\n      <td>-0.298345</td>\n      <td>-0.492008</td>\n      <td>-0.401583</td>\n      <td>-1.183427</td>\n      <td>0.076688</td>\n      <td>-0.526813</td>\n      <td>-0.992816</td>\n      <td>-0.384118</td>\n      <td>0.371509</td>\n      <td>0.244220</td>\n    </tr>\n    <tr>\n      <th>73</th>\n      <td>-0.004256</td>\n      <td>0.015105</td>\n      <td>-1.597134</td>\n      <td>0.262933</td>\n      <td>-0.601929</td>\n      <td>0.260449</td>\n      <td>-0.234869</td>\n      <td>-0.190070</td>\n      <td>-0.545664</td>\n      <td>-0.182706</td>\n      <td>-1.143175</td>\n      <td>-0.357602</td>\n      <td>-1.481471</td>\n      <td>-0.555452</td>\n      <td>-0.817632</td>\n      <td>-1.039674</td>\n      <td>-0.508169</td>\n      <td>0.891490</td>\n      <td>-0.687977</td>\n    </tr>\n    <tr>\n      <th>74</th>\n      <td>0.055277</td>\n      <td>0.075934</td>\n      <td>-0.030095</td>\n      <td>0.295102</td>\n      <td>-0.546713</td>\n      <td>0.190448</td>\n      <td>-0.150101</td>\n      <td>-0.470880</td>\n      <td>-0.470011</td>\n      <td>-0.189158</td>\n      <td>-0.494516</td>\n      <td>-0.620711</td>\n      <td>-0.569452</td>\n      <td>-1.610481</td>\n      <td>0.595740</td>\n      <td>-1.967439</td>\n      <td>-0.528702</td>\n      <td>-0.365469</td>\n      <td>-0.262898</td>\n    </tr>\n  </tbody>\n</table>\n<p>75 rows × 19 columns</p>\n</div>"
     },
     "execution_count": 24,
     "metadata": {},
     "output_type": "execute_result"
    }
   ],
   "source": [
    "scaler = StandardScaler()\n",
    "normalised_dataset = pd.DataFrame(scaler.fit_transform(dataset), columns=dataset.columns)\n",
    "normalised_dataset"
   ],
   "metadata": {
    "collapsed": false
   }
  },
  {
   "cell_type": "code",
   "execution_count": 25,
   "outputs": [
    {
     "data": {
      "text/plain": "        PCA1      PCA2      PCA3\n0   2.919897  4.809986  1.916142\n1  -1.205138  3.603775  1.875852\n2   2.139175  2.246617  3.158388\n3   4.938939  1.078773 -2.432152\n4   2.275366 -0.046115 -0.827671\n..       ...       ...       ...\n70  0.385836 -2.174820  0.972916\n71 -3.595409  1.454182  4.389701\n72  0.078215 -1.333591  0.169466\n73 -0.097318 -2.001859  0.937398\n74 -1.082503 -1.564449 -0.733439\n\n[75 rows x 3 columns]",
      "text/html": "<div>\n<style scoped>\n    .dataframe tbody tr th:only-of-type {\n        vertical-align: middle;\n    }\n\n    .dataframe tbody tr th {\n        vertical-align: top;\n    }\n\n    .dataframe thead th {\n        text-align: right;\n    }\n</style>\n<table border=\"1\" class=\"dataframe\">\n  <thead>\n    <tr style=\"text-align: right;\">\n      <th></th>\n      <th>PCA1</th>\n      <th>PCA2</th>\n      <th>PCA3</th>\n    </tr>\n  </thead>\n  <tbody>\n    <tr>\n      <th>0</th>\n      <td>2.919897</td>\n      <td>4.809986</td>\n      <td>1.916142</td>\n    </tr>\n    <tr>\n      <th>1</th>\n      <td>-1.205138</td>\n      <td>3.603775</td>\n      <td>1.875852</td>\n    </tr>\n    <tr>\n      <th>2</th>\n      <td>2.139175</td>\n      <td>2.246617</td>\n      <td>3.158388</td>\n    </tr>\n    <tr>\n      <th>3</th>\n      <td>4.938939</td>\n      <td>1.078773</td>\n      <td>-2.432152</td>\n    </tr>\n    <tr>\n      <th>4</th>\n      <td>2.275366</td>\n      <td>-0.046115</td>\n      <td>-0.827671</td>\n    </tr>\n    <tr>\n      <th>...</th>\n      <td>...</td>\n      <td>...</td>\n      <td>...</td>\n    </tr>\n    <tr>\n      <th>70</th>\n      <td>0.385836</td>\n      <td>-2.174820</td>\n      <td>0.972916</td>\n    </tr>\n    <tr>\n      <th>71</th>\n      <td>-3.595409</td>\n      <td>1.454182</td>\n      <td>4.389701</td>\n    </tr>\n    <tr>\n      <th>72</th>\n      <td>0.078215</td>\n      <td>-1.333591</td>\n      <td>0.169466</td>\n    </tr>\n    <tr>\n      <th>73</th>\n      <td>-0.097318</td>\n      <td>-2.001859</td>\n      <td>0.937398</td>\n    </tr>\n    <tr>\n      <th>74</th>\n      <td>-1.082503</td>\n      <td>-1.564449</td>\n      <td>-0.733439</td>\n    </tr>\n  </tbody>\n</table>\n<p>75 rows × 3 columns</p>\n</div>"
     },
     "execution_count": 25,
     "metadata": {},
     "output_type": "execute_result"
    }
   ],
   "source": [
    "pca = PCA(n_components=3)\n",
    "pca_dataset = pd.DataFrame(pca.fit_transform(normalised_dataset), columns=['PCA1', 'PCA2', 'PCA3'])\n",
    "pca_dataset"
   ],
   "metadata": {
    "collapsed": false
   }
  },
  {
   "cell_type": "code",
   "execution_count": 26,
   "outputs": [],
   "source": [
    "named_pca_dataset = pca_dataset.copy()\n",
    "named_pca_dataset.insert(0, 'song_name', song_names)\n",
    "named_pca_dataset.insert(1, 'artist', artists)\n",
    "named_pca_dataset['playlist'] = playlists"
   ],
   "metadata": {
    "collapsed": false
   }
  },
  {
   "cell_type": "code",
   "execution_count": 27,
   "outputs": [
    {
     "data": {
      "application/vnd.plotly.v1+json": {
       "data": [
        {
         "customdata": [
          [
           "Bruno Major",
           "Easily"
          ],
          [
           "Bruno Major",
           "Nothing"
          ],
          [
           "Bruno Major",
           "The Most Beautiful Thing"
          ]
         ],
         "hovertemplate": "artist=%{customdata[0]}<br>PCA1=%{x}<br>PCA2=%{y}<br>PCA3=%{z}<br>song_name=%{customdata[1]}<extra></extra>",
         "legendgroup": "Bruno Major",
         "marker": {
          "color": "#636efa",
          "symbol": "circle"
         },
         "mode": "markers",
         "name": "Bruno Major",
         "scene": "scene",
         "showlegend": true,
         "x": [
          2.919897442557078,
          -1.205138466927359,
          2.139175473462971
         ],
         "y": [
          4.80998557861646,
          3.603774630180503,
          2.2466165280322326
         ],
         "z": [
          1.9161422993245498,
          1.8758520593790988,
          3.158387531719379
         ],
         "type": "scatter3d"
        },
        {
         "customdata": [
          [
           "Charlie Burg",
           "Lovesong (The Way) [feat. Bluets]"
          ]
         ],
         "hovertemplate": "artist=%{customdata[0]}<br>PCA1=%{x}<br>PCA2=%{y}<br>PCA3=%{z}<br>song_name=%{customdata[1]}<extra></extra>",
         "legendgroup": "Charlie Burg",
         "marker": {
          "color": "#EF553B",
          "symbol": "circle"
         },
         "mode": "markers",
         "name": "Charlie Burg",
         "scene": "scene",
         "showlegend": true,
         "x": [
          4.9389385261940895
         ],
         "y": [
          1.0787731925237378
         ],
         "z": [
          -2.432151739667434
         ],
         "type": "scatter3d"
        },
        {
         "customdata": [
          [
           "Daniel Caesar",
           "Best Part (feat. H.E.R.)"
          ],
          [
           "Daniel Caesar",
           "Japanese Denim"
          ],
          [
           "Daniel Caesar",
           "Streetcar"
          ],
          [
           "Daniel Caesar",
           "We Find Love"
          ]
         ],
         "hovertemplate": "artist=%{customdata[0]}<br>PCA1=%{x}<br>PCA2=%{y}<br>PCA3=%{z}<br>song_name=%{customdata[1]}<extra></extra>",
         "legendgroup": "Daniel Caesar",
         "marker": {
          "color": "#00cc96",
          "symbol": "circle"
         },
         "mode": "markers",
         "name": "Daniel Caesar",
         "scene": "scene",
         "showlegend": true,
         "x": [
          2.275366483872993,
          4.128504153309238,
          2.645350118909599,
          0.41865269834592245
         ],
         "y": [
          -0.04611487894067814,
          0.1161088989506067,
          -0.9989350660719026,
          0.003959414334340413
         ],
         "z": [
          -0.8276712367410616,
          -0.22319505272625503,
          -2.7597001122912608,
          0.9582050833679875
         ],
         "type": "scatter3d"
        },
        {
         "customdata": [
          [
           "FINNEAS",
           "Let's Fall in Love for the Night"
          ]
         ],
         "hovertemplate": "artist=%{customdata[0]}<br>PCA1=%{x}<br>PCA2=%{y}<br>PCA3=%{z}<br>song_name=%{customdata[1]}<extra></extra>",
         "legendgroup": "FINNEAS",
         "marker": {
          "color": "#ab63fa",
          "symbol": "circle"
         },
         "mode": "markers",
         "name": "FINNEAS",
         "scene": "scene",
         "showlegend": true,
         "x": [
          3.284523224200287
         ],
         "y": [
          2.7910366355620972
         ],
         "z": [
          -0.596782262646659
         ],
         "type": "scatter3d"
        },
        {
         "customdata": [
          [
           "Jeremy Zucker",
           "this is how you fall in love"
          ]
         ],
         "hovertemplate": "artist=%{customdata[0]}<br>PCA1=%{x}<br>PCA2=%{y}<br>PCA3=%{z}<br>song_name=%{customdata[1]}<extra></extra>",
         "legendgroup": "Jeremy Zucker",
         "marker": {
          "color": "#FFA15A",
          "symbol": "circle"
         },
         "mode": "markers",
         "name": "Jeremy Zucker",
         "scene": "scene",
         "showlegend": true,
         "x": [
          2.2392490827969445
         ],
         "y": [
          2.3723150631987773
         ],
         "z": [
          0.894577752327584
         ],
         "type": "scatter3d"
        },
        {
         "customdata": [
          [
           "John Mayer",
           "You're Gonna Live Forever in Me"
          ]
         ],
         "hovertemplate": "artist=%{customdata[0]}<br>PCA1=%{x}<br>PCA2=%{y}<br>PCA3=%{z}<br>song_name=%{customdata[1]}<extra></extra>",
         "legendgroup": "John Mayer",
         "marker": {
          "color": "#19d3f3",
          "symbol": "circle"
         },
         "mode": "markers",
         "name": "John Mayer",
         "scene": "scene",
         "showlegend": true,
         "x": [
          -1.7683547527590953
         ],
         "y": [
          0.29480763835181917
         ],
         "z": [
          0.1481758362035825
         ],
         "type": "scatter3d"
        },
        {
         "customdata": [
          [
           "John Park",
           "Sipping My life (Bonus Track)"
          ]
         ],
         "hovertemplate": "artist=%{customdata[0]}<br>PCA1=%{x}<br>PCA2=%{y}<br>PCA3=%{z}<br>song_name=%{customdata[1]}<extra></extra>",
         "legendgroup": "John Park",
         "marker": {
          "color": "#FF6692",
          "symbol": "circle"
         },
         "mode": "markers",
         "name": "John Park",
         "scene": "scene",
         "showlegend": true,
         "x": [
          1.548721184516819
         ],
         "y": [
          0.13673607569497465
         ],
         "z": [
          1.3023985904456694
         ],
         "type": "scatter3d"
        },
        {
         "customdata": [
          [
           "Joji",
           "Glimpse of Us"
          ]
         ],
         "hovertemplate": "artist=%{customdata[0]}<br>PCA1=%{x}<br>PCA2=%{y}<br>PCA3=%{z}<br>song_name=%{customdata[1]}<extra></extra>",
         "legendgroup": "Joji",
         "marker": {
          "color": "#B6E880",
          "symbol": "circle"
         },
         "mode": "markers",
         "name": "Joji",
         "scene": "scene",
         "showlegend": true,
         "x": [
          1.1114866276536366
         ],
         "y": [
          -0.10422808394615629
         ],
         "z": [
          1.1097558794124804
         ],
         "type": "scatter3d"
        },
        {
         "customdata": [
          [
           "Kamal.",
           "blue"
          ]
         ],
         "hovertemplate": "artist=%{customdata[0]}<br>PCA1=%{x}<br>PCA2=%{y}<br>PCA3=%{z}<br>song_name=%{customdata[1]}<extra></extra>",
         "legendgroup": "Kamal.",
         "marker": {
          "color": "#FF97FF",
          "symbol": "circle"
         },
         "mode": "markers",
         "name": "Kamal.",
         "scene": "scene",
         "showlegend": true,
         "x": [
          3.5925660509729416
         ],
         "y": [
          5.303299147620596
         ],
         "z": [
          -0.15595069005258327
         ],
         "type": "scatter3d"
        },
        {
         "customdata": [
          [
           "Luke Chiang",
           "Shouldn't Be"
          ]
         ],
         "hovertemplate": "artist=%{customdata[0]}<br>PCA1=%{x}<br>PCA2=%{y}<br>PCA3=%{z}<br>song_name=%{customdata[1]}<extra></extra>",
         "legendgroup": "Luke Chiang",
         "marker": {
          "color": "#FECB52",
          "symbol": "circle"
         },
         "mode": "markers",
         "name": "Luke Chiang",
         "scene": "scene",
         "showlegend": true,
         "x": [
          2.2100953759112474
         ],
         "y": [
          2.3715721815606607
         ],
         "z": [
          -0.1619336229080141
         ],
         "type": "scatter3d"
        },
        {
         "customdata": [
          [
           "Lyn Lapid",
           "In My Mind"
          ]
         ],
         "hovertemplate": "artist=%{customdata[0]}<br>PCA1=%{x}<br>PCA2=%{y}<br>PCA3=%{z}<br>song_name=%{customdata[1]}<extra></extra>",
         "legendgroup": "Lyn Lapid",
         "marker": {
          "color": "#636efa",
          "symbol": "circle"
         },
         "mode": "markers",
         "name": "Lyn Lapid",
         "scene": "scene",
         "showlegend": true,
         "x": [
          1.0165302988451883
         ],
         "y": [
          0.3954903023225221
         ],
         "z": [
          -0.7832876722646961
         ],
         "type": "scatter3d"
        },
        {
         "customdata": [
          [
           "Mac Ayres",
           "Easy"
          ]
         ],
         "hovertemplate": "artist=%{customdata[0]}<br>PCA1=%{x}<br>PCA2=%{y}<br>PCA3=%{z}<br>song_name=%{customdata[1]}<extra></extra>",
         "legendgroup": "Mac Ayres",
         "marker": {
          "color": "#EF553B",
          "symbol": "circle"
         },
         "mode": "markers",
         "name": "Mac Ayres",
         "scene": "scene",
         "showlegend": true,
         "x": [
          2.871704583766433
         ],
         "y": [
          3.6036811317844064
         ],
         "z": [
          0.30898272101836927
         ],
         "type": "scatter3d"
        },
        {
         "customdata": [
          [
           "Paul Partohap",
           "P.S. I LOVE YOU"
          ]
         ],
         "hovertemplate": "artist=%{customdata[0]}<br>PCA1=%{x}<br>PCA2=%{y}<br>PCA3=%{z}<br>song_name=%{customdata[1]}<extra></extra>",
         "legendgroup": "Paul Partohap",
         "marker": {
          "color": "#00cc96",
          "symbol": "circle"
         },
         "mode": "markers",
         "name": "Paul Partohap",
         "scene": "scene",
         "showlegend": true,
         "x": [
          0.8879149844705821
         ],
         "y": [
          1.9564118676563496
         ],
         "z": [
          -2.4413728932392837
         ],
         "type": "scatter3d"
        },
        {
         "customdata": [
          [
           "Rex Orange County",
           "Always"
          ],
          [
           "Rex Orange County",
           "Happiness"
          ],
          [
           "Rex Orange County",
           "Pluto Projector"
          ],
          [
           "Rex Orange County",
           "Untitled"
          ]
         ],
         "hovertemplate": "artist=%{customdata[0]}<br>PCA1=%{x}<br>PCA2=%{y}<br>PCA3=%{z}<br>song_name=%{customdata[1]}<extra></extra>",
         "legendgroup": "Rex Orange County",
         "marker": {
          "color": "#ab63fa",
          "symbol": "circle"
         },
         "mode": "markers",
         "name": "Rex Orange County",
         "scene": "scene",
         "showlegend": true,
         "x": [
          2.156769418302611,
          1.354156025505273,
          0.2980421401493835,
          3.207693272237201
         ],
         "y": [
          1.3300114642214589,
          0.3579735896789978,
          2.5870672839094313,
          3.0514788725367263
         ],
         "z": [
          -1.2762989892055236,
          -1.4565472160603243,
          -0.20413639662794517,
          -4.044395108033388
         ],
         "type": "scatter3d"
        },
        {
         "customdata": [
          [
           "Sleeping At Last",
           "April 10, 2019- Powehi - Image of a Black Hole"
          ],
          [
           "Sleeping At Last",
           "August 12, 2018- Perseid Meteor Shower"
          ],
          [
           "Sleeping At Last",
           "August 21, 2017- Total Solar Eclipse"
          ],
          [
           "Sleeping At Last",
           "December 13, 2017- Geminid Meteor Shower"
          ],
          [
           "Sleeping At Last",
           "December 17, 2018- Farout"
          ],
          [
           "Sleeping At Last",
           "December 21, 2020- The Great Conjunction"
          ],
          [
           "Sleeping At Last",
           "December 25, 2021- Webb Space Telescope - Launch"
          ],
          [
           "Sleeping At Last",
           "February 1, 2023- C2022 E3 - Comet Ztf"
          ],
          [
           "Sleeping At Last",
           "February 13, 2019- Opportunity - Mission Complete"
          ],
          [
           "Sleeping At Last",
           "February 18, 2021- Perseverance - Mars Landing"
          ],
          [
           "Sleeping At Last",
           "January 30, 2020- Spitzer - Final Voyage"
          ],
          [
           "Sleeping At Last",
           "January 31, 2018- Super Blue Blood Moon"
          ],
          [
           "Sleeping At Last",
           "July 22, 2020- C  2020 F3 - Comet Neowise"
          ],
          [
           "Sleeping At Last",
           "July 27, 2018- Total Lunar Eclipse"
          ],
          [
           "Sleeping At Last",
           "July 4, 2020- Aphelion"
          ],
          [
           "Sleeping At Last",
           "June 24, 2022- Parade of Planets"
          ],
          [
           "Sleeping At Last",
           "June 30, 2018- Pds 70b (Birth of a Planet)"
          ],
          [
           "Sleeping At Last",
           "October 30, 2018- Kepler - Goodnight"
          ],
          [
           "Sleeping At Last",
           "September 15, 2017- Cassini - The Grand Finale"
          ]
         ],
         "hovertemplate": "artist=%{customdata[0]}<br>PCA1=%{x}<br>PCA2=%{y}<br>PCA3=%{z}<br>song_name=%{customdata[1]}<extra></extra>",
         "legendgroup": "Sleeping At Last",
         "marker": {
          "color": "#FFA15A",
          "symbol": "circle"
         },
         "mode": "markers",
         "name": "Sleeping At Last",
         "scene": "scene",
         "showlegend": true,
         "x": [
          -3.7873199002338547,
          -2.8368599879810183,
          -3.744593386898355,
          -4.227648380471238,
          -3.082211188251799,
          -4.239822405715811,
          -1.3343118044217959,
          -2.9074859106951494,
          -2.34245704737218,
          -4.251205559816063,
          -3.173214912196978,
          -2.9080639446960883,
          -2.646000840643729,
          -4.063601384391101,
          -3.344005393136189,
          -2.4829307972861705,
          -1.925907955663537,
          -1.3542439442385892,
          -2.5037006413764664
         ],
         "y": [
          4.423585869208483,
          -1.5872652601134676,
          -1.4676036390501284,
          -0.8562150941382597,
          -0.6645504847678724,
          -1.0975801698939438,
          -0.7119498926927678,
          -0.22722162099225562,
          -0.7055878961498725,
          0.6815182121622562,
          1.847344122322291,
          -0.8736732413932693,
          0.25952348161479966,
          -0.23553170654076847,
          1.4128433482036418,
          -0.3322207900709863,
          2.2287889297037915,
          1.6258469523719987,
          -0.6007902728114533
         ],
         "z": [
          -3.9784268813386605,
          -0.5653648912984206,
          -0.8332012114190092,
          -1.0981479896716468,
          -0.8358777944523614,
          -0.27417397694715184,
          0.03604809535037236,
          1.7614924722385301,
          -0.1534132301812014,
          0.44696069611704736,
          -1.052626869831537,
          0.11200547522637459,
          1.2502331323749063,
          -1.2047064897344748,
          0.5991674928725569,
          0.869037847185924,
          -2.05585354480415,
          -0.5418729199114637,
          0.24376129219516132
         ],
         "type": "scatter3d"
        },
        {
         "customdata": [
          [
           "Antônio Carlos Jobim",
           "Desafinado"
          ],
          [
           "Antônio Carlos Jobim",
           "The Girl From Ipanema"
          ]
         ],
         "hovertemplate": "artist=%{customdata[0]}<br>PCA1=%{x}<br>PCA2=%{y}<br>PCA3=%{z}<br>song_name=%{customdata[1]}<extra></extra>",
         "legendgroup": "Antônio Carlos Jobim",
         "marker": {
          "color": "#19d3f3",
          "symbol": "circle"
         },
         "mode": "markers",
         "name": "Antônio Carlos Jobim",
         "scene": "scene",
         "showlegend": true,
         "x": [
          2.0992580701931516,
          2.479279954053973
         ],
         "y": [
          -0.610357081255341,
          0.8619009813134678
         ],
         "z": [
          0.5135299671409804,
          1.7471862821632818
         ],
         "type": "scatter3d"
        },
        {
         "customdata": [
          [
           "Bill Evans Trio",
           "Waltz for Debby (take 1) - Alternate Take"
          ]
         ],
         "hovertemplate": "artist=%{customdata[0]}<br>PCA1=%{x}<br>PCA2=%{y}<br>PCA3=%{z}<br>song_name=%{customdata[1]}<extra></extra>",
         "legendgroup": "Bill Evans Trio",
         "marker": {
          "color": "#FF6692",
          "symbol": "circle"
         },
         "mode": "markers",
         "name": "Bill Evans Trio",
         "scene": "scene",
         "showlegend": true,
         "x": [
          0.8921397039615384
         ],
         "y": [
          -0.1671725423181529
         ],
         "z": [
          2.746048667840422
         ],
         "type": "scatter3d"
        },
        {
         "customdata": [
          [
           "Bud Powell",
           "I'll Keep Loving You"
          ],
          [
           "Bud Powell",
           "It Could Happen To You - Rudy Van Gelder Edition  Remastered 1998"
          ]
         ],
         "hovertemplate": "artist=%{customdata[0]}<br>PCA1=%{x}<br>PCA2=%{y}<br>PCA3=%{z}<br>song_name=%{customdata[1]}<extra></extra>",
         "legendgroup": "Bud Powell",
         "marker": {
          "color": "#B6E880",
          "symbol": "circle"
         },
         "mode": "markers",
         "name": "Bud Powell",
         "scene": "scene",
         "showlegend": true,
         "x": [
          -4.2448881442460555,
          -3.7332168992893373
         ],
         "y": [
          -1.7433946562842644,
          -0.4560498415253619
         ],
         "z": [
          -1.0444363116142983,
          1.0274268570401937
         ],
         "type": "scatter3d"
        },
        {
         "customdata": [
          [
           "Henry Mancini",
           "Dear Heart"
          ]
         ],
         "hovertemplate": "artist=%{customdata[0]}<br>PCA1=%{x}<br>PCA2=%{y}<br>PCA3=%{z}<br>song_name=%{customdata[1]}<extra></extra>",
         "legendgroup": "Henry Mancini",
         "marker": {
          "color": "#FF97FF",
          "symbol": "circle"
         },
         "mode": "markers",
         "name": "Henry Mancini",
         "scene": "scene",
         "showlegend": true,
         "x": [
          -1.5877094166275285
         ],
         "y": [
          -2.528857097580935
         ],
         "z": [
          -2.444065020993102
         ],
         "type": "scatter3d"
        },
        {
         "customdata": [
          [
           "John Coltrane",
           "A Love Supreme, Pt. I – Acknowledgement"
          ]
         ],
         "hovertemplate": "artist=%{customdata[0]}<br>PCA1=%{x}<br>PCA2=%{y}<br>PCA3=%{z}<br>song_name=%{customdata[1]}<extra></extra>",
         "legendgroup": "John Coltrane",
         "marker": {
          "color": "#FECB52",
          "symbol": "circle"
         },
         "mode": "markers",
         "name": "John Coltrane",
         "scene": "scene",
         "showlegend": true,
         "x": [
          4.244740267279029
         ],
         "y": [
          -4.5418218565553214
         ],
         "z": [
          -0.9928821242306571
         ],
         "type": "scatter3d"
        },
        {
         "customdata": [
          [
           "Miles Davis",
           "So What (feat. John Coltrane, Cannonball Adderley & Bill Evans)"
          ]
         ],
         "hovertemplate": "artist=%{customdata[0]}<br>PCA1=%{x}<br>PCA2=%{y}<br>PCA3=%{z}<br>song_name=%{customdata[1]}<extra></extra>",
         "legendgroup": "Miles Davis",
         "marker": {
          "color": "#636efa",
          "symbol": "circle"
         },
         "mode": "markers",
         "name": "Miles Davis",
         "scene": "scene",
         "showlegend": true,
         "x": [
          3.2872995206561053
         ],
         "y": [
          -2.4070195043309672
         ],
         "z": [
          0.08655141039356945
         ],
         "type": "scatter3d"
        },
        {
         "customdata": [
          [
           "Ornette Coleman",
           "Lonely Woman"
          ]
         ],
         "hovertemplate": "artist=%{customdata[0]}<br>PCA1=%{x}<br>PCA2=%{y}<br>PCA3=%{z}<br>song_name=%{customdata[1]}<extra></extra>",
         "legendgroup": "Ornette Coleman",
         "marker": {
          "color": "#EF553B",
          "symbol": "circle"
         },
         "mode": "markers",
         "name": "Ornette Coleman",
         "scene": "scene",
         "showlegend": true,
         "x": [
          5.231505401054101
         ],
         "y": [
          -4.851521049286934
         ],
         "z": [
          -1.4387695992555583
         ],
         "type": "scatter3d"
        },
        {
         "customdata": [
          [
           "Sarah Vaughan",
           "Misty"
          ]
         ],
         "hovertemplate": "artist=%{customdata[0]}<br>PCA1=%{x}<br>PCA2=%{y}<br>PCA3=%{z}<br>song_name=%{customdata[1]}<extra></extra>",
         "legendgroup": "Sarah Vaughan",
         "marker": {
          "color": "#00cc96",
          "symbol": "circle"
         },
         "mode": "markers",
         "name": "Sarah Vaughan",
         "scene": "scene",
         "showlegend": true,
         "x": [
          -0.9991064308988553
         ],
         "y": [
          -1.3142499491035757
         ],
         "z": [
          -0.5932147374584043
         ],
         "type": "scatter3d"
        },
        {
         "customdata": [
          [
           "Thelonious Monk",
           "'Round Midnight"
          ],
          [
           "Thelonious Monk",
           "Honeysuckle Rose"
          ]
         ],
         "hovertemplate": "artist=%{customdata[0]}<br>PCA1=%{x}<br>PCA2=%{y}<br>PCA3=%{z}<br>song_name=%{customdata[1]}<extra></extra>",
         "legendgroup": "Thelonious Monk",
         "marker": {
          "color": "#ab63fa",
          "symbol": "circle"
         },
         "mode": "markers",
         "name": "Thelonious Monk",
         "scene": "scene",
         "showlegend": true,
         "x": [
          -0.351400518905681,
          2.921600919605539
         ],
         "y": [
          -2.095624260452146,
          0.008970150905684978
         ],
         "z": [
          0.024126709724696976,
          1.4549914439833374
         ],
         "type": "scatter3d"
        },
        {
         "customdata": [
          [
           "Tony Bennett",
           "(I Left My Heart) In San Francisco"
          ]
         ],
         "hovertemplate": "artist=%{customdata[0]}<br>PCA1=%{x}<br>PCA2=%{y}<br>PCA3=%{z}<br>song_name=%{customdata[1]}<extra></extra>",
         "legendgroup": "Tony Bennett",
         "marker": {
          "color": "#FFA15A",
          "symbol": "circle"
         },
         "mode": "markers",
         "name": "Tony Bennett",
         "scene": "scene",
         "showlegend": true,
         "x": [
          0.5025362329607841
         ],
         "y": [
          0.1443199345178632
         ],
         "z": [
          -0.6977502293583678
         ],
         "type": "scatter3d"
        },
        {
         "customdata": [
          [
           "Boundary Run",
           "Beggars"
          ]
         ],
         "hovertemplate": "artist=%{customdata[0]}<br>PCA1=%{x}<br>PCA2=%{y}<br>PCA3=%{z}<br>song_name=%{customdata[1]}<extra></extra>",
         "legendgroup": "Boundary Run",
         "marker": {
          "color": "#19d3f3",
          "symbol": "circle"
         },
         "mode": "markers",
         "name": "Boundary Run",
         "scene": "scene",
         "showlegend": true,
         "x": [
          -1.3193134485062963
         ],
         "y": [
          0.13423597323335057
         ],
         "z": [
          0.3048435474971833
         ],
         "type": "scatter3d"
        },
        {
         "customdata": [
          [
           "CHPTRS",
           "At Dawn"
          ],
          [
           "CHPTRS",
           "Last Chance (Alternate Version)"
          ],
          [
           "CHPTRS",
           "Obvious (Alternate Version)"
          ]
         ],
         "hovertemplate": "artist=%{customdata[0]}<br>PCA1=%{x}<br>PCA2=%{y}<br>PCA3=%{z}<br>song_name=%{customdata[1]}<extra></extra>",
         "legendgroup": "CHPTRS",
         "marker": {
          "color": "#FF6692",
          "symbol": "circle"
         },
         "mode": "markers",
         "name": "CHPTRS",
         "scene": "scene",
         "showlegend": true,
         "x": [
          1.1774999928730068,
          -0.7359948991381715,
          -0.6224936066892335
         ],
         "y": [
          -0.9637753353935214,
          -0.34937645907711984,
          -0.34691482471788
         ],
         "z": [
          0.6925200073629129,
          0.9934462349404642,
          0.8956735030905377
         ],
         "type": "scatter3d"
        },
        {
         "customdata": [
          [
           "Freya Ridings",
           "Love Is Fire"
          ]
         ],
         "hovertemplate": "artist=%{customdata[0]}<br>PCA1=%{x}<br>PCA2=%{y}<br>PCA3=%{z}<br>song_name=%{customdata[1]}<extra></extra>",
         "legendgroup": "Freya Ridings",
         "marker": {
          "color": "#B6E880",
          "symbol": "circle"
         },
         "mode": "markers",
         "name": "Freya Ridings",
         "scene": "scene",
         "showlegend": true,
         "x": [
          2.886759188748384
         ],
         "y": [
          -0.9407851713010934
         ],
         "z": [
          -0.3084267931393172
         ],
         "type": "scatter3d"
        },
        {
         "customdata": [
          [
           "HAEVN",
           "Where the Heart Is - Single Version"
          ]
         ],
         "hovertemplate": "artist=%{customdata[0]}<br>PCA1=%{x}<br>PCA2=%{y}<br>PCA3=%{z}<br>song_name=%{customdata[1]}<extra></extra>",
         "legendgroup": "HAEVN",
         "marker": {
          "color": "#FF97FF",
          "symbol": "circle"
         },
         "mode": "markers",
         "name": "HAEVN",
         "scene": "scene",
         "showlegend": true,
         "x": [
          2.2293183000775776
         ],
         "y": [
          1.152792000285173
         ],
         "z": [
          2.395054216669881
         ],
         "type": "scatter3d"
        },
        {
         "customdata": [
          [
           "Lights & Motion",
           "Anomaly"
          ]
         ],
         "hovertemplate": "artist=%{customdata[0]}<br>PCA1=%{x}<br>PCA2=%{y}<br>PCA3=%{z}<br>song_name=%{customdata[1]}<extra></extra>",
         "legendgroup": "Lights & Motion",
         "marker": {
          "color": "#FECB52",
          "symbol": "circle"
         },
         "mode": "markers",
         "name": "Lights & Motion",
         "scene": "scene",
         "showlegend": true,
         "x": [
          -2.9408225702800457
         ],
         "y": [
          -0.7104957273998466
         ],
         "z": [
          1.3841157706644651
         ],
         "type": "scatter3d"
        },
        {
         "customdata": [
          [
           "ODESZA",
           "A Moment Apart"
          ]
         ],
         "hovertemplate": "artist=%{customdata[0]}<br>PCA1=%{x}<br>PCA2=%{y}<br>PCA3=%{z}<br>song_name=%{customdata[1]}<extra></extra>",
         "legendgroup": "ODESZA",
         "marker": {
          "color": "#636efa",
          "symbol": "circle"
         },
         "mode": "markers",
         "name": "ODESZA",
         "scene": "scene",
         "showlegend": true,
         "x": [
          1.2679335692885578
         ],
         "y": [
          -2.825017198419962
         ],
         "z": [
          -2.172388386916083
         ],
         "type": "scatter3d"
        },
        {
         "customdata": [
          [
           "One Hundred Years",
           "Reborn"
          ]
         ],
         "hovertemplate": "artist=%{customdata[0]}<br>PCA1=%{x}<br>PCA2=%{y}<br>PCA3=%{z}<br>song_name=%{customdata[1]}<extra></extra>",
         "legendgroup": "One Hundred Years",
         "marker": {
          "color": "#EF553B",
          "symbol": "circle"
         },
         "mode": "markers",
         "name": "One Hundred Years",
         "scene": "scene",
         "showlegend": true,
         "x": [
          -2.8575043984856303
         ],
         "y": [
          1.3864105916167762
         ],
         "z": [
          -3.4384310940738314
         ],
         "type": "scatter3d"
        },
        {
         "customdata": [
          [
           "Roary",
           "Guardians"
          ],
          [
           "Roary",
           "Motion"
          ],
          [
           "Roary",
           "Breathe Again"
          ]
         ],
         "hovertemplate": "artist=%{customdata[0]}<br>PCA1=%{x}<br>PCA2=%{y}<br>PCA3=%{z}<br>song_name=%{customdata[1]}<extra></extra>",
         "legendgroup": "Roary",
         "marker": {
          "color": "#00cc96",
          "symbol": "circle"
         },
         "mode": "markers",
         "name": "Roary",
         "scene": "scene",
         "showlegend": true,
         "x": [
          -2.1716183518362024,
          1.3432934303913726,
          1.0437340743853825
         ],
         "y": [
          0.01739860420586462,
          -1.1531244104163492,
          -0.880615841011036
         ],
         "z": [
          1.0472324358866245,
          1.6910147389739232,
          -0.2693285682208501
         ],
         "type": "scatter3d"
        },
        {
         "customdata": [
          [
           "Secret Nation",
           "Love You Well"
          ]
         ],
         "hovertemplate": "artist=%{customdata[0]}<br>PCA1=%{x}<br>PCA2=%{y}<br>PCA3=%{z}<br>song_name=%{customdata[1]}<extra></extra>",
         "legendgroup": "Secret Nation",
         "marker": {
          "color": "#ab63fa",
          "symbol": "circle"
         },
         "mode": "markers",
         "name": "Secret Nation",
         "scene": "scene",
         "showlegend": true,
         "x": [
          1.2921812139929572
         ],
         "y": [
          -1.9335442567235297
         ],
         "z": [
          1.9235982532311893
         ],
         "type": "scatter3d"
        },
        {
         "customdata": [
          [
           "sød ven",
           "mystery"
          ]
         ],
         "hovertemplate": "artist=%{customdata[0]}<br>PCA1=%{x}<br>PCA2=%{y}<br>PCA3=%{z}<br>song_name=%{customdata[1]}<extra></extra>",
         "legendgroup": "sød ven",
         "marker": {
          "color": "#FFA15A",
          "symbol": "circle"
         },
         "mode": "markers",
         "name": "sød ven",
         "scene": "scene",
         "showlegend": true,
         "x": [
          1.575560491551125
         ],
         "y": [
          -1.304288929082047
         ],
         "z": [
          0.9203021257658135
         ],
         "type": "scatter3d"
        },
        {
         "customdata": [
          [
           "The Light the Heat",
           "Afterlight"
          ],
          [
           "The Light the Heat",
           "Feel Alive"
          ]
         ],
         "hovertemplate": "artist=%{customdata[0]}<br>PCA1=%{x}<br>PCA2=%{y}<br>PCA3=%{z}<br>song_name=%{customdata[1]}<extra></extra>",
         "legendgroup": "The Light the Heat",
         "marker": {
          "color": "#19d3f3",
          "symbol": "circle"
         },
         "mode": "markers",
         "name": "The Light the Heat",
         "scene": "scene",
         "showlegend": true,
         "x": [
          3.1366704053113366,
          3.1476793540204113
         ],
         "y": [
          -3.2833101418878945,
          -3.059258069875781
         ],
         "z": [
          -0.09027447919745524,
          0.8721687480239068
         ],
         "type": "scatter3d"
        },
        {
         "customdata": [
          [
           "Thomas Bergersen",
           "Crystallize"
          ]
         ],
         "hovertemplate": "artist=%{customdata[0]}<br>PCA1=%{x}<br>PCA2=%{y}<br>PCA3=%{z}<br>song_name=%{customdata[1]}<extra></extra>",
         "legendgroup": "Thomas Bergersen",
         "marker": {
          "color": "#FF6692",
          "symbol": "circle"
         },
         "mode": "markers",
         "name": "Thomas Bergersen",
         "scene": "scene",
         "showlegend": true,
         "x": [
          0.38583558665633744
         ],
         "y": [
          -2.1748195210102823
         ],
         "z": [
          0.9729162353514436
         ],
         "type": "scatter3d"
        },
        {
         "customdata": [
          [
           "Tony Anderson",
           "Retour"
          ]
         ],
         "hovertemplate": "artist=%{customdata[0]}<br>PCA1=%{x}<br>PCA2=%{y}<br>PCA3=%{z}<br>song_name=%{customdata[1]}<extra></extra>",
         "legendgroup": "Tony Anderson",
         "marker": {
          "color": "#B6E880",
          "symbol": "circle"
         },
         "mode": "markers",
         "name": "Tony Anderson",
         "scene": "scene",
         "showlegend": true,
         "x": [
          -3.595409141913977
         ],
         "y": [
          1.4541822239498796
         ],
         "z": [
          4.3897005840242524
         ],
         "type": "scatter3d"
        },
        {
         "customdata": [
          [
           "Voyageur",
           "Civilized"
          ],
          [
           "Voyageur",
           "Fire & Stone"
          ],
          [
           "Voyageur",
           "I Caught Fire"
          ]
         ],
         "hovertemplate": "artist=%{customdata[0]}<br>PCA1=%{x}<br>PCA2=%{y}<br>PCA3=%{z}<br>song_name=%{customdata[1]}<extra></extra>",
         "legendgroup": "Voyageur",
         "marker": {
          "color": "#FF97FF",
          "symbol": "circle"
         },
         "mode": "markers",
         "name": "Voyageur",
         "scene": "scene",
         "showlegend": true,
         "x": [
          0.07821453468322338,
          -0.09731777053798545,
          -1.0825031751967646
         ],
         "y": [
          -1.3335910850003019,
          -2.001858842220498,
          -1.5644491225480806
         ],
         "z": [
          0.16946568576960921,
          0.9373976102141206,
          -0.7334391559999534
         ],
         "type": "scatter3d"
        }
       ],
       "layout": {
        "template": {
         "data": {
          "histogram2dcontour": [
           {
            "type": "histogram2dcontour",
            "colorbar": {
             "outlinewidth": 0,
             "ticks": ""
            },
            "colorscale": [
             [
              0.0,
              "#0d0887"
             ],
             [
              0.1111111111111111,
              "#46039f"
             ],
             [
              0.2222222222222222,
              "#7201a8"
             ],
             [
              0.3333333333333333,
              "#9c179e"
             ],
             [
              0.4444444444444444,
              "#bd3786"
             ],
             [
              0.5555555555555556,
              "#d8576b"
             ],
             [
              0.6666666666666666,
              "#ed7953"
             ],
             [
              0.7777777777777778,
              "#fb9f3a"
             ],
             [
              0.8888888888888888,
              "#fdca26"
             ],
             [
              1.0,
              "#f0f921"
             ]
            ]
           }
          ],
          "choropleth": [
           {
            "type": "choropleth",
            "colorbar": {
             "outlinewidth": 0,
             "ticks": ""
            }
           }
          ],
          "histogram2d": [
           {
            "type": "histogram2d",
            "colorbar": {
             "outlinewidth": 0,
             "ticks": ""
            },
            "colorscale": [
             [
              0.0,
              "#0d0887"
             ],
             [
              0.1111111111111111,
              "#46039f"
             ],
             [
              0.2222222222222222,
              "#7201a8"
             ],
             [
              0.3333333333333333,
              "#9c179e"
             ],
             [
              0.4444444444444444,
              "#bd3786"
             ],
             [
              0.5555555555555556,
              "#d8576b"
             ],
             [
              0.6666666666666666,
              "#ed7953"
             ],
             [
              0.7777777777777778,
              "#fb9f3a"
             ],
             [
              0.8888888888888888,
              "#fdca26"
             ],
             [
              1.0,
              "#f0f921"
             ]
            ]
           }
          ],
          "heatmap": [
           {
            "type": "heatmap",
            "colorbar": {
             "outlinewidth": 0,
             "ticks": ""
            },
            "colorscale": [
             [
              0.0,
              "#0d0887"
             ],
             [
              0.1111111111111111,
              "#46039f"
             ],
             [
              0.2222222222222222,
              "#7201a8"
             ],
             [
              0.3333333333333333,
              "#9c179e"
             ],
             [
              0.4444444444444444,
              "#bd3786"
             ],
             [
              0.5555555555555556,
              "#d8576b"
             ],
             [
              0.6666666666666666,
              "#ed7953"
             ],
             [
              0.7777777777777778,
              "#fb9f3a"
             ],
             [
              0.8888888888888888,
              "#fdca26"
             ],
             [
              1.0,
              "#f0f921"
             ]
            ]
           }
          ],
          "heatmapgl": [
           {
            "type": "heatmapgl",
            "colorbar": {
             "outlinewidth": 0,
             "ticks": ""
            },
            "colorscale": [
             [
              0.0,
              "#0d0887"
             ],
             [
              0.1111111111111111,
              "#46039f"
             ],
             [
              0.2222222222222222,
              "#7201a8"
             ],
             [
              0.3333333333333333,
              "#9c179e"
             ],
             [
              0.4444444444444444,
              "#bd3786"
             ],
             [
              0.5555555555555556,
              "#d8576b"
             ],
             [
              0.6666666666666666,
              "#ed7953"
             ],
             [
              0.7777777777777778,
              "#fb9f3a"
             ],
             [
              0.8888888888888888,
              "#fdca26"
             ],
             [
              1.0,
              "#f0f921"
             ]
            ]
           }
          ],
          "contourcarpet": [
           {
            "type": "contourcarpet",
            "colorbar": {
             "outlinewidth": 0,
             "ticks": ""
            }
           }
          ],
          "contour": [
           {
            "type": "contour",
            "colorbar": {
             "outlinewidth": 0,
             "ticks": ""
            },
            "colorscale": [
             [
              0.0,
              "#0d0887"
             ],
             [
              0.1111111111111111,
              "#46039f"
             ],
             [
              0.2222222222222222,
              "#7201a8"
             ],
             [
              0.3333333333333333,
              "#9c179e"
             ],
             [
              0.4444444444444444,
              "#bd3786"
             ],
             [
              0.5555555555555556,
              "#d8576b"
             ],
             [
              0.6666666666666666,
              "#ed7953"
             ],
             [
              0.7777777777777778,
              "#fb9f3a"
             ],
             [
              0.8888888888888888,
              "#fdca26"
             ],
             [
              1.0,
              "#f0f921"
             ]
            ]
           }
          ],
          "surface": [
           {
            "type": "surface",
            "colorbar": {
             "outlinewidth": 0,
             "ticks": ""
            },
            "colorscale": [
             [
              0.0,
              "#0d0887"
             ],
             [
              0.1111111111111111,
              "#46039f"
             ],
             [
              0.2222222222222222,
              "#7201a8"
             ],
             [
              0.3333333333333333,
              "#9c179e"
             ],
             [
              0.4444444444444444,
              "#bd3786"
             ],
             [
              0.5555555555555556,
              "#d8576b"
             ],
             [
              0.6666666666666666,
              "#ed7953"
             ],
             [
              0.7777777777777778,
              "#fb9f3a"
             ],
             [
              0.8888888888888888,
              "#fdca26"
             ],
             [
              1.0,
              "#f0f921"
             ]
            ]
           }
          ],
          "mesh3d": [
           {
            "type": "mesh3d",
            "colorbar": {
             "outlinewidth": 0,
             "ticks": ""
            }
           }
          ],
          "scatter": [
           {
            "marker": {
             "line": {
              "color": "#283442"
             }
            },
            "type": "scatter"
           }
          ],
          "parcoords": [
           {
            "type": "parcoords",
            "line": {
             "colorbar": {
              "outlinewidth": 0,
              "ticks": ""
             }
            }
           }
          ],
          "scatterpolargl": [
           {
            "type": "scatterpolargl",
            "marker": {
             "colorbar": {
              "outlinewidth": 0,
              "ticks": ""
             }
            }
           }
          ],
          "bar": [
           {
            "error_x": {
             "color": "#f2f5fa"
            },
            "error_y": {
             "color": "#f2f5fa"
            },
            "marker": {
             "line": {
              "color": "rgb(17,17,17)",
              "width": 0.5
             },
             "pattern": {
              "fillmode": "overlay",
              "size": 10,
              "solidity": 0.2
             }
            },
            "type": "bar"
           }
          ],
          "scattergeo": [
           {
            "type": "scattergeo",
            "marker": {
             "colorbar": {
              "outlinewidth": 0,
              "ticks": ""
             }
            }
           }
          ],
          "scatterpolar": [
           {
            "type": "scatterpolar",
            "marker": {
             "colorbar": {
              "outlinewidth": 0,
              "ticks": ""
             }
            }
           }
          ],
          "histogram": [
           {
            "marker": {
             "pattern": {
              "fillmode": "overlay",
              "size": 10,
              "solidity": 0.2
             }
            },
            "type": "histogram"
           }
          ],
          "scattergl": [
           {
            "marker": {
             "line": {
              "color": "#283442"
             }
            },
            "type": "scattergl"
           }
          ],
          "scatter3d": [
           {
            "type": "scatter3d",
            "line": {
             "colorbar": {
              "outlinewidth": 0,
              "ticks": ""
             }
            },
            "marker": {
             "colorbar": {
              "outlinewidth": 0,
              "ticks": ""
             }
            }
           }
          ],
          "scattermapbox": [
           {
            "type": "scattermapbox",
            "marker": {
             "colorbar": {
              "outlinewidth": 0,
              "ticks": ""
             }
            }
           }
          ],
          "scatterternary": [
           {
            "type": "scatterternary",
            "marker": {
             "colorbar": {
              "outlinewidth": 0,
              "ticks": ""
             }
            }
           }
          ],
          "scattercarpet": [
           {
            "type": "scattercarpet",
            "marker": {
             "colorbar": {
              "outlinewidth": 0,
              "ticks": ""
             }
            }
           }
          ],
          "carpet": [
           {
            "aaxis": {
             "endlinecolor": "#A2B1C6",
             "gridcolor": "#506784",
             "linecolor": "#506784",
             "minorgridcolor": "#506784",
             "startlinecolor": "#A2B1C6"
            },
            "baxis": {
             "endlinecolor": "#A2B1C6",
             "gridcolor": "#506784",
             "linecolor": "#506784",
             "minorgridcolor": "#506784",
             "startlinecolor": "#A2B1C6"
            },
            "type": "carpet"
           }
          ],
          "table": [
           {
            "cells": {
             "fill": {
              "color": "#506784"
             },
             "line": {
              "color": "rgb(17,17,17)"
             }
            },
            "header": {
             "fill": {
              "color": "#2a3f5f"
             },
             "line": {
              "color": "rgb(17,17,17)"
             }
            },
            "type": "table"
           }
          ],
          "barpolar": [
           {
            "marker": {
             "line": {
              "color": "rgb(17,17,17)",
              "width": 0.5
             },
             "pattern": {
              "fillmode": "overlay",
              "size": 10,
              "solidity": 0.2
             }
            },
            "type": "barpolar"
           }
          ],
          "pie": [
           {
            "automargin": true,
            "type": "pie"
           }
          ]
         },
         "layout": {
          "autotypenumbers": "strict",
          "colorway": [
           "#636efa",
           "#EF553B",
           "#00cc96",
           "#ab63fa",
           "#FFA15A",
           "#19d3f3",
           "#FF6692",
           "#B6E880",
           "#FF97FF",
           "#FECB52"
          ],
          "font": {
           "color": "#f2f5fa"
          },
          "hovermode": "closest",
          "hoverlabel": {
           "align": "left"
          },
          "paper_bgcolor": "rgb(17,17,17)",
          "plot_bgcolor": "rgb(17,17,17)",
          "polar": {
           "bgcolor": "rgb(17,17,17)",
           "angularaxis": {
            "gridcolor": "#506784",
            "linecolor": "#506784",
            "ticks": ""
           },
           "radialaxis": {
            "gridcolor": "#506784",
            "linecolor": "#506784",
            "ticks": ""
           }
          },
          "ternary": {
           "bgcolor": "rgb(17,17,17)",
           "aaxis": {
            "gridcolor": "#506784",
            "linecolor": "#506784",
            "ticks": ""
           },
           "baxis": {
            "gridcolor": "#506784",
            "linecolor": "#506784",
            "ticks": ""
           },
           "caxis": {
            "gridcolor": "#506784",
            "linecolor": "#506784",
            "ticks": ""
           }
          },
          "coloraxis": {
           "colorbar": {
            "outlinewidth": 0,
            "ticks": ""
           }
          },
          "colorscale": {
           "sequential": [
            [
             0.0,
             "#0d0887"
            ],
            [
             0.1111111111111111,
             "#46039f"
            ],
            [
             0.2222222222222222,
             "#7201a8"
            ],
            [
             0.3333333333333333,
             "#9c179e"
            ],
            [
             0.4444444444444444,
             "#bd3786"
            ],
            [
             0.5555555555555556,
             "#d8576b"
            ],
            [
             0.6666666666666666,
             "#ed7953"
            ],
            [
             0.7777777777777778,
             "#fb9f3a"
            ],
            [
             0.8888888888888888,
             "#fdca26"
            ],
            [
             1.0,
             "#f0f921"
            ]
           ],
           "sequentialminus": [
            [
             0.0,
             "#0d0887"
            ],
            [
             0.1111111111111111,
             "#46039f"
            ],
            [
             0.2222222222222222,
             "#7201a8"
            ],
            [
             0.3333333333333333,
             "#9c179e"
            ],
            [
             0.4444444444444444,
             "#bd3786"
            ],
            [
             0.5555555555555556,
             "#d8576b"
            ],
            [
             0.6666666666666666,
             "#ed7953"
            ],
            [
             0.7777777777777778,
             "#fb9f3a"
            ],
            [
             0.8888888888888888,
             "#fdca26"
            ],
            [
             1.0,
             "#f0f921"
            ]
           ],
           "diverging": [
            [
             0,
             "#8e0152"
            ],
            [
             0.1,
             "#c51b7d"
            ],
            [
             0.2,
             "#de77ae"
            ],
            [
             0.3,
             "#f1b6da"
            ],
            [
             0.4,
             "#fde0ef"
            ],
            [
             0.5,
             "#f7f7f7"
            ],
            [
             0.6,
             "#e6f5d0"
            ],
            [
             0.7,
             "#b8e186"
            ],
            [
             0.8,
             "#7fbc41"
            ],
            [
             0.9,
             "#4d9221"
            ],
            [
             1,
             "#276419"
            ]
           ]
          },
          "xaxis": {
           "gridcolor": "#283442",
           "linecolor": "#506784",
           "ticks": "",
           "title": {
            "standoff": 15
           },
           "zerolinecolor": "#283442",
           "automargin": true,
           "zerolinewidth": 2
          },
          "yaxis": {
           "gridcolor": "#283442",
           "linecolor": "#506784",
           "ticks": "",
           "title": {
            "standoff": 15
           },
           "zerolinecolor": "#283442",
           "automargin": true,
           "zerolinewidth": 2
          },
          "scene": {
           "xaxis": {
            "backgroundcolor": "rgb(17,17,17)",
            "gridcolor": "#506784",
            "linecolor": "#506784",
            "showbackground": true,
            "ticks": "",
            "zerolinecolor": "#C8D4E3",
            "gridwidth": 2
           },
           "yaxis": {
            "backgroundcolor": "rgb(17,17,17)",
            "gridcolor": "#506784",
            "linecolor": "#506784",
            "showbackground": true,
            "ticks": "",
            "zerolinecolor": "#C8D4E3",
            "gridwidth": 2
           },
           "zaxis": {
            "backgroundcolor": "rgb(17,17,17)",
            "gridcolor": "#506784",
            "linecolor": "#506784",
            "showbackground": true,
            "ticks": "",
            "zerolinecolor": "#C8D4E3",
            "gridwidth": 2
           }
          },
          "shapedefaults": {
           "line": {
            "color": "#f2f5fa"
           }
          },
          "annotationdefaults": {
           "arrowcolor": "#f2f5fa",
           "arrowhead": 0,
           "arrowwidth": 1
          },
          "geo": {
           "bgcolor": "rgb(17,17,17)",
           "landcolor": "rgb(17,17,17)",
           "subunitcolor": "#506784",
           "showland": true,
           "showlakes": true,
           "lakecolor": "rgb(17,17,17)"
          },
          "title": {
           "x": 0.05
          },
          "updatemenudefaults": {
           "bgcolor": "#506784",
           "borderwidth": 0
          },
          "sliderdefaults": {
           "bgcolor": "#C8D4E3",
           "borderwidth": 1,
           "bordercolor": "rgb(17,17,17)",
           "tickwidth": 0
          },
          "mapbox": {
           "style": "dark"
          }
         }
        },
        "scene": {
         "domain": {
          "x": [
           0.0,
           1.0
          ],
          "y": [
           0.0,
           1.0
          ]
         },
         "xaxis": {
          "title": {
           "text": "PCA1"
          }
         },
         "yaxis": {
          "title": {
           "text": "PCA2"
          }
         },
         "zaxis": {
          "title": {
           "text": "PCA3"
          }
         }
        },
        "legend": {
         "title": {
          "text": "artist"
         },
         "tracegroupgap": 0
        },
        "margin": {
         "t": 60
        }
       },
       "config": {
        "plotlyServerURL": "https://plot.ly"
       }
      },
      "text/html": "<div>                            <div id=\"8f709b5f-8f15-4ad7-a2d1-7e60be9eb1a2\" class=\"plotly-graph-div\" style=\"height:525px; width:100%;\"></div>            <script type=\"text/javascript\">                require([\"plotly\"], function(Plotly) {                    window.PLOTLYENV=window.PLOTLYENV || {};                                    if (document.getElementById(\"8f709b5f-8f15-4ad7-a2d1-7e60be9eb1a2\")) {                    Plotly.newPlot(                        \"8f709b5f-8f15-4ad7-a2d1-7e60be9eb1a2\",                        [{\"customdata\":[[\"Bruno Major\",\"Easily\"],[\"Bruno Major\",\"Nothing\"],[\"Bruno Major\",\"The Most Beautiful Thing\"]],\"hovertemplate\":\"artist=%{customdata[0]}<br>PCA1=%{x}<br>PCA2=%{y}<br>PCA3=%{z}<br>song_name=%{customdata[1]}<extra></extra>\",\"legendgroup\":\"Bruno Major\",\"marker\":{\"color\":\"#636efa\",\"symbol\":\"circle\"},\"mode\":\"markers\",\"name\":\"Bruno Major\",\"scene\":\"scene\",\"showlegend\":true,\"x\":[2.919897442557078,-1.205138466927359,2.139175473462971],\"y\":[4.80998557861646,3.603774630180503,2.2466165280322326],\"z\":[1.9161422993245498,1.8758520593790988,3.158387531719379],\"type\":\"scatter3d\"},{\"customdata\":[[\"Charlie Burg\",\"Lovesong (The Way) [feat. Bluets]\"]],\"hovertemplate\":\"artist=%{customdata[0]}<br>PCA1=%{x}<br>PCA2=%{y}<br>PCA3=%{z}<br>song_name=%{customdata[1]}<extra></extra>\",\"legendgroup\":\"Charlie Burg\",\"marker\":{\"color\":\"#EF553B\",\"symbol\":\"circle\"},\"mode\":\"markers\",\"name\":\"Charlie Burg\",\"scene\":\"scene\",\"showlegend\":true,\"x\":[4.9389385261940895],\"y\":[1.0787731925237378],\"z\":[-2.432151739667434],\"type\":\"scatter3d\"},{\"customdata\":[[\"Daniel Caesar\",\"Best Part (feat. H.E.R.)\"],[\"Daniel Caesar\",\"Japanese Denim\"],[\"Daniel Caesar\",\"Streetcar\"],[\"Daniel Caesar\",\"We Find Love\"]],\"hovertemplate\":\"artist=%{customdata[0]}<br>PCA1=%{x}<br>PCA2=%{y}<br>PCA3=%{z}<br>song_name=%{customdata[1]}<extra></extra>\",\"legendgroup\":\"Daniel Caesar\",\"marker\":{\"color\":\"#00cc96\",\"symbol\":\"circle\"},\"mode\":\"markers\",\"name\":\"Daniel Caesar\",\"scene\":\"scene\",\"showlegend\":true,\"x\":[2.275366483872993,4.128504153309238,2.645350118909599,0.41865269834592245],\"y\":[-0.04611487894067814,0.1161088989506067,-0.9989350660719026,0.003959414334340413],\"z\":[-0.8276712367410616,-0.22319505272625503,-2.7597001122912608,0.9582050833679875],\"type\":\"scatter3d\"},{\"customdata\":[[\"FINNEAS\",\"Let's Fall in Love for the Night\"]],\"hovertemplate\":\"artist=%{customdata[0]}<br>PCA1=%{x}<br>PCA2=%{y}<br>PCA3=%{z}<br>song_name=%{customdata[1]}<extra></extra>\",\"legendgroup\":\"FINNEAS\",\"marker\":{\"color\":\"#ab63fa\",\"symbol\":\"circle\"},\"mode\":\"markers\",\"name\":\"FINNEAS\",\"scene\":\"scene\",\"showlegend\":true,\"x\":[3.284523224200287],\"y\":[2.7910366355620972],\"z\":[-0.596782262646659],\"type\":\"scatter3d\"},{\"customdata\":[[\"Jeremy Zucker\",\"this is how you fall in love\"]],\"hovertemplate\":\"artist=%{customdata[0]}<br>PCA1=%{x}<br>PCA2=%{y}<br>PCA3=%{z}<br>song_name=%{customdata[1]}<extra></extra>\",\"legendgroup\":\"Jeremy Zucker\",\"marker\":{\"color\":\"#FFA15A\",\"symbol\":\"circle\"},\"mode\":\"markers\",\"name\":\"Jeremy Zucker\",\"scene\":\"scene\",\"showlegend\":true,\"x\":[2.2392490827969445],\"y\":[2.3723150631987773],\"z\":[0.894577752327584],\"type\":\"scatter3d\"},{\"customdata\":[[\"John Mayer\",\"You're Gonna Live Forever in Me\"]],\"hovertemplate\":\"artist=%{customdata[0]}<br>PCA1=%{x}<br>PCA2=%{y}<br>PCA3=%{z}<br>song_name=%{customdata[1]}<extra></extra>\",\"legendgroup\":\"John Mayer\",\"marker\":{\"color\":\"#19d3f3\",\"symbol\":\"circle\"},\"mode\":\"markers\",\"name\":\"John Mayer\",\"scene\":\"scene\",\"showlegend\":true,\"x\":[-1.7683547527590953],\"y\":[0.29480763835181917],\"z\":[0.1481758362035825],\"type\":\"scatter3d\"},{\"customdata\":[[\"John Park\",\"Sipping My life (Bonus Track)\"]],\"hovertemplate\":\"artist=%{customdata[0]}<br>PCA1=%{x}<br>PCA2=%{y}<br>PCA3=%{z}<br>song_name=%{customdata[1]}<extra></extra>\",\"legendgroup\":\"John Park\",\"marker\":{\"color\":\"#FF6692\",\"symbol\":\"circle\"},\"mode\":\"markers\",\"name\":\"John Park\",\"scene\":\"scene\",\"showlegend\":true,\"x\":[1.548721184516819],\"y\":[0.13673607569497465],\"z\":[1.3023985904456694],\"type\":\"scatter3d\"},{\"customdata\":[[\"Joji\",\"Glimpse of Us\"]],\"hovertemplate\":\"artist=%{customdata[0]}<br>PCA1=%{x}<br>PCA2=%{y}<br>PCA3=%{z}<br>song_name=%{customdata[1]}<extra></extra>\",\"legendgroup\":\"Joji\",\"marker\":{\"color\":\"#B6E880\",\"symbol\":\"circle\"},\"mode\":\"markers\",\"name\":\"Joji\",\"scene\":\"scene\",\"showlegend\":true,\"x\":[1.1114866276536366],\"y\":[-0.10422808394615629],\"z\":[1.1097558794124804],\"type\":\"scatter3d\"},{\"customdata\":[[\"Kamal.\",\"blue\"]],\"hovertemplate\":\"artist=%{customdata[0]}<br>PCA1=%{x}<br>PCA2=%{y}<br>PCA3=%{z}<br>song_name=%{customdata[1]}<extra></extra>\",\"legendgroup\":\"Kamal.\",\"marker\":{\"color\":\"#FF97FF\",\"symbol\":\"circle\"},\"mode\":\"markers\",\"name\":\"Kamal.\",\"scene\":\"scene\",\"showlegend\":true,\"x\":[3.5925660509729416],\"y\":[5.303299147620596],\"z\":[-0.15595069005258327],\"type\":\"scatter3d\"},{\"customdata\":[[\"Luke Chiang\",\"Shouldn't Be\"]],\"hovertemplate\":\"artist=%{customdata[0]}<br>PCA1=%{x}<br>PCA2=%{y}<br>PCA3=%{z}<br>song_name=%{customdata[1]}<extra></extra>\",\"legendgroup\":\"Luke Chiang\",\"marker\":{\"color\":\"#FECB52\",\"symbol\":\"circle\"},\"mode\":\"markers\",\"name\":\"Luke Chiang\",\"scene\":\"scene\",\"showlegend\":true,\"x\":[2.2100953759112474],\"y\":[2.3715721815606607],\"z\":[-0.1619336229080141],\"type\":\"scatter3d\"},{\"customdata\":[[\"Lyn Lapid\",\"In My Mind\"]],\"hovertemplate\":\"artist=%{customdata[0]}<br>PCA1=%{x}<br>PCA2=%{y}<br>PCA3=%{z}<br>song_name=%{customdata[1]}<extra></extra>\",\"legendgroup\":\"Lyn Lapid\",\"marker\":{\"color\":\"#636efa\",\"symbol\":\"circle\"},\"mode\":\"markers\",\"name\":\"Lyn Lapid\",\"scene\":\"scene\",\"showlegend\":true,\"x\":[1.0165302988451883],\"y\":[0.3954903023225221],\"z\":[-0.7832876722646961],\"type\":\"scatter3d\"},{\"customdata\":[[\"Mac Ayres\",\"Easy\"]],\"hovertemplate\":\"artist=%{customdata[0]}<br>PCA1=%{x}<br>PCA2=%{y}<br>PCA3=%{z}<br>song_name=%{customdata[1]}<extra></extra>\",\"legendgroup\":\"Mac Ayres\",\"marker\":{\"color\":\"#EF553B\",\"symbol\":\"circle\"},\"mode\":\"markers\",\"name\":\"Mac Ayres\",\"scene\":\"scene\",\"showlegend\":true,\"x\":[2.871704583766433],\"y\":[3.6036811317844064],\"z\":[0.30898272101836927],\"type\":\"scatter3d\"},{\"customdata\":[[\"Paul Partohap\",\"P.S. I LOVE YOU\"]],\"hovertemplate\":\"artist=%{customdata[0]}<br>PCA1=%{x}<br>PCA2=%{y}<br>PCA3=%{z}<br>song_name=%{customdata[1]}<extra></extra>\",\"legendgroup\":\"Paul Partohap\",\"marker\":{\"color\":\"#00cc96\",\"symbol\":\"circle\"},\"mode\":\"markers\",\"name\":\"Paul Partohap\",\"scene\":\"scene\",\"showlegend\":true,\"x\":[0.8879149844705821],\"y\":[1.9564118676563496],\"z\":[-2.4413728932392837],\"type\":\"scatter3d\"},{\"customdata\":[[\"Rex Orange County\",\"Always\"],[\"Rex Orange County\",\"Happiness\"],[\"Rex Orange County\",\"Pluto Projector\"],[\"Rex Orange County\",\"Untitled\"]],\"hovertemplate\":\"artist=%{customdata[0]}<br>PCA1=%{x}<br>PCA2=%{y}<br>PCA3=%{z}<br>song_name=%{customdata[1]}<extra></extra>\",\"legendgroup\":\"Rex Orange County\",\"marker\":{\"color\":\"#ab63fa\",\"symbol\":\"circle\"},\"mode\":\"markers\",\"name\":\"Rex Orange County\",\"scene\":\"scene\",\"showlegend\":true,\"x\":[2.156769418302611,1.354156025505273,0.2980421401493835,3.207693272237201],\"y\":[1.3300114642214589,0.3579735896789978,2.5870672839094313,3.0514788725367263],\"z\":[-1.2762989892055236,-1.4565472160603243,-0.20413639662794517,-4.044395108033388],\"type\":\"scatter3d\"},{\"customdata\":[[\"Sleeping At Last\",\"April 10, 2019- Powehi - Image of a Black Hole\"],[\"Sleeping At Last\",\"August 12, 2018- Perseid Meteor Shower\"],[\"Sleeping At Last\",\"August 21, 2017- Total Solar Eclipse\"],[\"Sleeping At Last\",\"December 13, 2017- Geminid Meteor Shower\"],[\"Sleeping At Last\",\"December 17, 2018- Farout\"],[\"Sleeping At Last\",\"December 21, 2020- The Great Conjunction\"],[\"Sleeping At Last\",\"December 25, 2021- Webb Space Telescope - Launch\"],[\"Sleeping At Last\",\"February 1, 2023- C2022 E3 - Comet Ztf\"],[\"Sleeping At Last\",\"February 13, 2019- Opportunity - Mission Complete\"],[\"Sleeping At Last\",\"February 18, 2021- Perseverance - Mars Landing\"],[\"Sleeping At Last\",\"January 30, 2020- Spitzer - Final Voyage\"],[\"Sleeping At Last\",\"January 31, 2018- Super Blue Blood Moon\"],[\"Sleeping At Last\",\"July 22, 2020- C  2020 F3 - Comet Neowise\"],[\"Sleeping At Last\",\"July 27, 2018- Total Lunar Eclipse\"],[\"Sleeping At Last\",\"July 4, 2020- Aphelion\"],[\"Sleeping At Last\",\"June 24, 2022- Parade of Planets\"],[\"Sleeping At Last\",\"June 30, 2018- Pds 70b (Birth of a Planet)\"],[\"Sleeping At Last\",\"October 30, 2018- Kepler - Goodnight\"],[\"Sleeping At Last\",\"September 15, 2017- Cassini - The Grand Finale\"]],\"hovertemplate\":\"artist=%{customdata[0]}<br>PCA1=%{x}<br>PCA2=%{y}<br>PCA3=%{z}<br>song_name=%{customdata[1]}<extra></extra>\",\"legendgroup\":\"Sleeping At Last\",\"marker\":{\"color\":\"#FFA15A\",\"symbol\":\"circle\"},\"mode\":\"markers\",\"name\":\"Sleeping At Last\",\"scene\":\"scene\",\"showlegend\":true,\"x\":[-3.7873199002338547,-2.8368599879810183,-3.744593386898355,-4.227648380471238,-3.082211188251799,-4.239822405715811,-1.3343118044217959,-2.9074859106951494,-2.34245704737218,-4.251205559816063,-3.173214912196978,-2.9080639446960883,-2.646000840643729,-4.063601384391101,-3.344005393136189,-2.4829307972861705,-1.925907955663537,-1.3542439442385892,-2.5037006413764664],\"y\":[4.423585869208483,-1.5872652601134676,-1.4676036390501284,-0.8562150941382597,-0.6645504847678724,-1.0975801698939438,-0.7119498926927678,-0.22722162099225562,-0.7055878961498725,0.6815182121622562,1.847344122322291,-0.8736732413932693,0.25952348161479966,-0.23553170654076847,1.4128433482036418,-0.3322207900709863,2.2287889297037915,1.6258469523719987,-0.6007902728114533],\"z\":[-3.9784268813386605,-0.5653648912984206,-0.8332012114190092,-1.0981479896716468,-0.8358777944523614,-0.27417397694715184,0.03604809535037236,1.7614924722385301,-0.1534132301812014,0.44696069611704736,-1.052626869831537,0.11200547522637459,1.2502331323749063,-1.2047064897344748,0.5991674928725569,0.869037847185924,-2.05585354480415,-0.5418729199114637,0.24376129219516132],\"type\":\"scatter3d\"},{\"customdata\":[[\"Ant\\u00f4nio Carlos Jobim\",\"Desafinado\"],[\"Ant\\u00f4nio Carlos Jobim\",\"The Girl From Ipanema\"]],\"hovertemplate\":\"artist=%{customdata[0]}<br>PCA1=%{x}<br>PCA2=%{y}<br>PCA3=%{z}<br>song_name=%{customdata[1]}<extra></extra>\",\"legendgroup\":\"Ant\\u00f4nio Carlos Jobim\",\"marker\":{\"color\":\"#19d3f3\",\"symbol\":\"circle\"},\"mode\":\"markers\",\"name\":\"Ant\\u00f4nio Carlos Jobim\",\"scene\":\"scene\",\"showlegend\":true,\"x\":[2.0992580701931516,2.479279954053973],\"y\":[-0.610357081255341,0.8619009813134678],\"z\":[0.5135299671409804,1.7471862821632818],\"type\":\"scatter3d\"},{\"customdata\":[[\"Bill Evans Trio\",\"Waltz for Debby (take 1) - Alternate Take\"]],\"hovertemplate\":\"artist=%{customdata[0]}<br>PCA1=%{x}<br>PCA2=%{y}<br>PCA3=%{z}<br>song_name=%{customdata[1]}<extra></extra>\",\"legendgroup\":\"Bill Evans Trio\",\"marker\":{\"color\":\"#FF6692\",\"symbol\":\"circle\"},\"mode\":\"markers\",\"name\":\"Bill Evans Trio\",\"scene\":\"scene\",\"showlegend\":true,\"x\":[0.8921397039615384],\"y\":[-0.1671725423181529],\"z\":[2.746048667840422],\"type\":\"scatter3d\"},{\"customdata\":[[\"Bud Powell\",\"I'll Keep Loving You\"],[\"Bud Powell\",\"It Could Happen To You - Rudy Van Gelder Edition  Remastered 1998\"]],\"hovertemplate\":\"artist=%{customdata[0]}<br>PCA1=%{x}<br>PCA2=%{y}<br>PCA3=%{z}<br>song_name=%{customdata[1]}<extra></extra>\",\"legendgroup\":\"Bud Powell\",\"marker\":{\"color\":\"#B6E880\",\"symbol\":\"circle\"},\"mode\":\"markers\",\"name\":\"Bud Powell\",\"scene\":\"scene\",\"showlegend\":true,\"x\":[-4.2448881442460555,-3.7332168992893373],\"y\":[-1.7433946562842644,-0.4560498415253619],\"z\":[-1.0444363116142983,1.0274268570401937],\"type\":\"scatter3d\"},{\"customdata\":[[\"Henry Mancini\",\"Dear Heart\"]],\"hovertemplate\":\"artist=%{customdata[0]}<br>PCA1=%{x}<br>PCA2=%{y}<br>PCA3=%{z}<br>song_name=%{customdata[1]}<extra></extra>\",\"legendgroup\":\"Henry Mancini\",\"marker\":{\"color\":\"#FF97FF\",\"symbol\":\"circle\"},\"mode\":\"markers\",\"name\":\"Henry Mancini\",\"scene\":\"scene\",\"showlegend\":true,\"x\":[-1.5877094166275285],\"y\":[-2.528857097580935],\"z\":[-2.444065020993102],\"type\":\"scatter3d\"},{\"customdata\":[[\"John Coltrane\",\"A Love Supreme, Pt. I \\u2013 Acknowledgement\"]],\"hovertemplate\":\"artist=%{customdata[0]}<br>PCA1=%{x}<br>PCA2=%{y}<br>PCA3=%{z}<br>song_name=%{customdata[1]}<extra></extra>\",\"legendgroup\":\"John Coltrane\",\"marker\":{\"color\":\"#FECB52\",\"symbol\":\"circle\"},\"mode\":\"markers\",\"name\":\"John Coltrane\",\"scene\":\"scene\",\"showlegend\":true,\"x\":[4.244740267279029],\"y\":[-4.5418218565553214],\"z\":[-0.9928821242306571],\"type\":\"scatter3d\"},{\"customdata\":[[\"Miles Davis\",\"So What (feat. John Coltrane, Cannonball Adderley & Bill Evans)\"]],\"hovertemplate\":\"artist=%{customdata[0]}<br>PCA1=%{x}<br>PCA2=%{y}<br>PCA3=%{z}<br>song_name=%{customdata[1]}<extra></extra>\",\"legendgroup\":\"Miles Davis\",\"marker\":{\"color\":\"#636efa\",\"symbol\":\"circle\"},\"mode\":\"markers\",\"name\":\"Miles Davis\",\"scene\":\"scene\",\"showlegend\":true,\"x\":[3.2872995206561053],\"y\":[-2.4070195043309672],\"z\":[0.08655141039356945],\"type\":\"scatter3d\"},{\"customdata\":[[\"Ornette Coleman\",\"Lonely Woman\"]],\"hovertemplate\":\"artist=%{customdata[0]}<br>PCA1=%{x}<br>PCA2=%{y}<br>PCA3=%{z}<br>song_name=%{customdata[1]}<extra></extra>\",\"legendgroup\":\"Ornette Coleman\",\"marker\":{\"color\":\"#EF553B\",\"symbol\":\"circle\"},\"mode\":\"markers\",\"name\":\"Ornette Coleman\",\"scene\":\"scene\",\"showlegend\":true,\"x\":[5.231505401054101],\"y\":[-4.851521049286934],\"z\":[-1.4387695992555583],\"type\":\"scatter3d\"},{\"customdata\":[[\"Sarah Vaughan\",\"Misty\"]],\"hovertemplate\":\"artist=%{customdata[0]}<br>PCA1=%{x}<br>PCA2=%{y}<br>PCA3=%{z}<br>song_name=%{customdata[1]}<extra></extra>\",\"legendgroup\":\"Sarah Vaughan\",\"marker\":{\"color\":\"#00cc96\",\"symbol\":\"circle\"},\"mode\":\"markers\",\"name\":\"Sarah Vaughan\",\"scene\":\"scene\",\"showlegend\":true,\"x\":[-0.9991064308988553],\"y\":[-1.3142499491035757],\"z\":[-0.5932147374584043],\"type\":\"scatter3d\"},{\"customdata\":[[\"Thelonious Monk\",\"'Round Midnight\"],[\"Thelonious Monk\",\"Honeysuckle Rose\"]],\"hovertemplate\":\"artist=%{customdata[0]}<br>PCA1=%{x}<br>PCA2=%{y}<br>PCA3=%{z}<br>song_name=%{customdata[1]}<extra></extra>\",\"legendgroup\":\"Thelonious Monk\",\"marker\":{\"color\":\"#ab63fa\",\"symbol\":\"circle\"},\"mode\":\"markers\",\"name\":\"Thelonious Monk\",\"scene\":\"scene\",\"showlegend\":true,\"x\":[-0.351400518905681,2.921600919605539],\"y\":[-2.095624260452146,0.008970150905684978],\"z\":[0.024126709724696976,1.4549914439833374],\"type\":\"scatter3d\"},{\"customdata\":[[\"Tony Bennett\",\"(I Left My Heart) In San Francisco\"]],\"hovertemplate\":\"artist=%{customdata[0]}<br>PCA1=%{x}<br>PCA2=%{y}<br>PCA3=%{z}<br>song_name=%{customdata[1]}<extra></extra>\",\"legendgroup\":\"Tony Bennett\",\"marker\":{\"color\":\"#FFA15A\",\"symbol\":\"circle\"},\"mode\":\"markers\",\"name\":\"Tony Bennett\",\"scene\":\"scene\",\"showlegend\":true,\"x\":[0.5025362329607841],\"y\":[0.1443199345178632],\"z\":[-0.6977502293583678],\"type\":\"scatter3d\"},{\"customdata\":[[\"Boundary Run\",\"Beggars\"]],\"hovertemplate\":\"artist=%{customdata[0]}<br>PCA1=%{x}<br>PCA2=%{y}<br>PCA3=%{z}<br>song_name=%{customdata[1]}<extra></extra>\",\"legendgroup\":\"Boundary Run\",\"marker\":{\"color\":\"#19d3f3\",\"symbol\":\"circle\"},\"mode\":\"markers\",\"name\":\"Boundary Run\",\"scene\":\"scene\",\"showlegend\":true,\"x\":[-1.3193134485062963],\"y\":[0.13423597323335057],\"z\":[0.3048435474971833],\"type\":\"scatter3d\"},{\"customdata\":[[\"CHPTRS\",\"At Dawn\"],[\"CHPTRS\",\"Last Chance (Alternate Version)\"],[\"CHPTRS\",\"Obvious (Alternate Version)\"]],\"hovertemplate\":\"artist=%{customdata[0]}<br>PCA1=%{x}<br>PCA2=%{y}<br>PCA3=%{z}<br>song_name=%{customdata[1]}<extra></extra>\",\"legendgroup\":\"CHPTRS\",\"marker\":{\"color\":\"#FF6692\",\"symbol\":\"circle\"},\"mode\":\"markers\",\"name\":\"CHPTRS\",\"scene\":\"scene\",\"showlegend\":true,\"x\":[1.1774999928730068,-0.7359948991381715,-0.6224936066892335],\"y\":[-0.9637753353935214,-0.34937645907711984,-0.34691482471788],\"z\":[0.6925200073629129,0.9934462349404642,0.8956735030905377],\"type\":\"scatter3d\"},{\"customdata\":[[\"Freya Ridings\",\"Love Is Fire\"]],\"hovertemplate\":\"artist=%{customdata[0]}<br>PCA1=%{x}<br>PCA2=%{y}<br>PCA3=%{z}<br>song_name=%{customdata[1]}<extra></extra>\",\"legendgroup\":\"Freya Ridings\",\"marker\":{\"color\":\"#B6E880\",\"symbol\":\"circle\"},\"mode\":\"markers\",\"name\":\"Freya Ridings\",\"scene\":\"scene\",\"showlegend\":true,\"x\":[2.886759188748384],\"y\":[-0.9407851713010934],\"z\":[-0.3084267931393172],\"type\":\"scatter3d\"},{\"customdata\":[[\"HAEVN\",\"Where the Heart Is - Single Version\"]],\"hovertemplate\":\"artist=%{customdata[0]}<br>PCA1=%{x}<br>PCA2=%{y}<br>PCA3=%{z}<br>song_name=%{customdata[1]}<extra></extra>\",\"legendgroup\":\"HAEVN\",\"marker\":{\"color\":\"#FF97FF\",\"symbol\":\"circle\"},\"mode\":\"markers\",\"name\":\"HAEVN\",\"scene\":\"scene\",\"showlegend\":true,\"x\":[2.2293183000775776],\"y\":[1.152792000285173],\"z\":[2.395054216669881],\"type\":\"scatter3d\"},{\"customdata\":[[\"Lights & Motion\",\"Anomaly\"]],\"hovertemplate\":\"artist=%{customdata[0]}<br>PCA1=%{x}<br>PCA2=%{y}<br>PCA3=%{z}<br>song_name=%{customdata[1]}<extra></extra>\",\"legendgroup\":\"Lights & Motion\",\"marker\":{\"color\":\"#FECB52\",\"symbol\":\"circle\"},\"mode\":\"markers\",\"name\":\"Lights & Motion\",\"scene\":\"scene\",\"showlegend\":true,\"x\":[-2.9408225702800457],\"y\":[-0.7104957273998466],\"z\":[1.3841157706644651],\"type\":\"scatter3d\"},{\"customdata\":[[\"ODESZA\",\"A Moment Apart\"]],\"hovertemplate\":\"artist=%{customdata[0]}<br>PCA1=%{x}<br>PCA2=%{y}<br>PCA3=%{z}<br>song_name=%{customdata[1]}<extra></extra>\",\"legendgroup\":\"ODESZA\",\"marker\":{\"color\":\"#636efa\",\"symbol\":\"circle\"},\"mode\":\"markers\",\"name\":\"ODESZA\",\"scene\":\"scene\",\"showlegend\":true,\"x\":[1.2679335692885578],\"y\":[-2.825017198419962],\"z\":[-2.172388386916083],\"type\":\"scatter3d\"},{\"customdata\":[[\"One Hundred Years\",\"Reborn\"]],\"hovertemplate\":\"artist=%{customdata[0]}<br>PCA1=%{x}<br>PCA2=%{y}<br>PCA3=%{z}<br>song_name=%{customdata[1]}<extra></extra>\",\"legendgroup\":\"One Hundred Years\",\"marker\":{\"color\":\"#EF553B\",\"symbol\":\"circle\"},\"mode\":\"markers\",\"name\":\"One Hundred Years\",\"scene\":\"scene\",\"showlegend\":true,\"x\":[-2.8575043984856303],\"y\":[1.3864105916167762],\"z\":[-3.4384310940738314],\"type\":\"scatter3d\"},{\"customdata\":[[\"Roary\",\"Guardians\"],[\"Roary\",\"Motion\"],[\"Roary\",\"Breathe Again\"]],\"hovertemplate\":\"artist=%{customdata[0]}<br>PCA1=%{x}<br>PCA2=%{y}<br>PCA3=%{z}<br>song_name=%{customdata[1]}<extra></extra>\",\"legendgroup\":\"Roary\",\"marker\":{\"color\":\"#00cc96\",\"symbol\":\"circle\"},\"mode\":\"markers\",\"name\":\"Roary\",\"scene\":\"scene\",\"showlegend\":true,\"x\":[-2.1716183518362024,1.3432934303913726,1.0437340743853825],\"y\":[0.01739860420586462,-1.1531244104163492,-0.880615841011036],\"z\":[1.0472324358866245,1.6910147389739232,-0.2693285682208501],\"type\":\"scatter3d\"},{\"customdata\":[[\"Secret Nation\",\"Love You Well\"]],\"hovertemplate\":\"artist=%{customdata[0]}<br>PCA1=%{x}<br>PCA2=%{y}<br>PCA3=%{z}<br>song_name=%{customdata[1]}<extra></extra>\",\"legendgroup\":\"Secret Nation\",\"marker\":{\"color\":\"#ab63fa\",\"symbol\":\"circle\"},\"mode\":\"markers\",\"name\":\"Secret Nation\",\"scene\":\"scene\",\"showlegend\":true,\"x\":[1.2921812139929572],\"y\":[-1.9335442567235297],\"z\":[1.9235982532311893],\"type\":\"scatter3d\"},{\"customdata\":[[\"s\\u00f8d ven\",\"mystery\"]],\"hovertemplate\":\"artist=%{customdata[0]}<br>PCA1=%{x}<br>PCA2=%{y}<br>PCA3=%{z}<br>song_name=%{customdata[1]}<extra></extra>\",\"legendgroup\":\"s\\u00f8d ven\",\"marker\":{\"color\":\"#FFA15A\",\"symbol\":\"circle\"},\"mode\":\"markers\",\"name\":\"s\\u00f8d ven\",\"scene\":\"scene\",\"showlegend\":true,\"x\":[1.575560491551125],\"y\":[-1.304288929082047],\"z\":[0.9203021257658135],\"type\":\"scatter3d\"},{\"customdata\":[[\"The Light the Heat\",\"Afterlight\"],[\"The Light the Heat\",\"Feel Alive\"]],\"hovertemplate\":\"artist=%{customdata[0]}<br>PCA1=%{x}<br>PCA2=%{y}<br>PCA3=%{z}<br>song_name=%{customdata[1]}<extra></extra>\",\"legendgroup\":\"The Light the Heat\",\"marker\":{\"color\":\"#19d3f3\",\"symbol\":\"circle\"},\"mode\":\"markers\",\"name\":\"The Light the Heat\",\"scene\":\"scene\",\"showlegend\":true,\"x\":[3.1366704053113366,3.1476793540204113],\"y\":[-3.2833101418878945,-3.059258069875781],\"z\":[-0.09027447919745524,0.8721687480239068],\"type\":\"scatter3d\"},{\"customdata\":[[\"Thomas Bergersen\",\"Crystallize\"]],\"hovertemplate\":\"artist=%{customdata[0]}<br>PCA1=%{x}<br>PCA2=%{y}<br>PCA3=%{z}<br>song_name=%{customdata[1]}<extra></extra>\",\"legendgroup\":\"Thomas Bergersen\",\"marker\":{\"color\":\"#FF6692\",\"symbol\":\"circle\"},\"mode\":\"markers\",\"name\":\"Thomas Bergersen\",\"scene\":\"scene\",\"showlegend\":true,\"x\":[0.38583558665633744],\"y\":[-2.1748195210102823],\"z\":[0.9729162353514436],\"type\":\"scatter3d\"},{\"customdata\":[[\"Tony Anderson\",\"Retour\"]],\"hovertemplate\":\"artist=%{customdata[0]}<br>PCA1=%{x}<br>PCA2=%{y}<br>PCA3=%{z}<br>song_name=%{customdata[1]}<extra></extra>\",\"legendgroup\":\"Tony Anderson\",\"marker\":{\"color\":\"#B6E880\",\"symbol\":\"circle\"},\"mode\":\"markers\",\"name\":\"Tony Anderson\",\"scene\":\"scene\",\"showlegend\":true,\"x\":[-3.595409141913977],\"y\":[1.4541822239498796],\"z\":[4.3897005840242524],\"type\":\"scatter3d\"},{\"customdata\":[[\"Voyageur\",\"Civilized\"],[\"Voyageur\",\"Fire & Stone\"],[\"Voyageur\",\"I Caught Fire\"]],\"hovertemplate\":\"artist=%{customdata[0]}<br>PCA1=%{x}<br>PCA2=%{y}<br>PCA3=%{z}<br>song_name=%{customdata[1]}<extra></extra>\",\"legendgroup\":\"Voyageur\",\"marker\":{\"color\":\"#FF97FF\",\"symbol\":\"circle\"},\"mode\":\"markers\",\"name\":\"Voyageur\",\"scene\":\"scene\",\"showlegend\":true,\"x\":[0.07821453468322338,-0.09731777053798545,-1.0825031751967646],\"y\":[-1.3335910850003019,-2.001858842220498,-1.5644491225480806],\"z\":[0.16946568576960921,0.9373976102141206,-0.7334391559999534],\"type\":\"scatter3d\"}],                        {\"template\":{\"data\":{\"histogram2dcontour\":[{\"type\":\"histogram2dcontour\",\"colorbar\":{\"outlinewidth\":0,\"ticks\":\"\"},\"colorscale\":[[0.0,\"#0d0887\"],[0.1111111111111111,\"#46039f\"],[0.2222222222222222,\"#7201a8\"],[0.3333333333333333,\"#9c179e\"],[0.4444444444444444,\"#bd3786\"],[0.5555555555555556,\"#d8576b\"],[0.6666666666666666,\"#ed7953\"],[0.7777777777777778,\"#fb9f3a\"],[0.8888888888888888,\"#fdca26\"],[1.0,\"#f0f921\"]]}],\"choropleth\":[{\"type\":\"choropleth\",\"colorbar\":{\"outlinewidth\":0,\"ticks\":\"\"}}],\"histogram2d\":[{\"type\":\"histogram2d\",\"colorbar\":{\"outlinewidth\":0,\"ticks\":\"\"},\"colorscale\":[[0.0,\"#0d0887\"],[0.1111111111111111,\"#46039f\"],[0.2222222222222222,\"#7201a8\"],[0.3333333333333333,\"#9c179e\"],[0.4444444444444444,\"#bd3786\"],[0.5555555555555556,\"#d8576b\"],[0.6666666666666666,\"#ed7953\"],[0.7777777777777778,\"#fb9f3a\"],[0.8888888888888888,\"#fdca26\"],[1.0,\"#f0f921\"]]}],\"heatmap\":[{\"type\":\"heatmap\",\"colorbar\":{\"outlinewidth\":0,\"ticks\":\"\"},\"colorscale\":[[0.0,\"#0d0887\"],[0.1111111111111111,\"#46039f\"],[0.2222222222222222,\"#7201a8\"],[0.3333333333333333,\"#9c179e\"],[0.4444444444444444,\"#bd3786\"],[0.5555555555555556,\"#d8576b\"],[0.6666666666666666,\"#ed7953\"],[0.7777777777777778,\"#fb9f3a\"],[0.8888888888888888,\"#fdca26\"],[1.0,\"#f0f921\"]]}],\"heatmapgl\":[{\"type\":\"heatmapgl\",\"colorbar\":{\"outlinewidth\":0,\"ticks\":\"\"},\"colorscale\":[[0.0,\"#0d0887\"],[0.1111111111111111,\"#46039f\"],[0.2222222222222222,\"#7201a8\"],[0.3333333333333333,\"#9c179e\"],[0.4444444444444444,\"#bd3786\"],[0.5555555555555556,\"#d8576b\"],[0.6666666666666666,\"#ed7953\"],[0.7777777777777778,\"#fb9f3a\"],[0.8888888888888888,\"#fdca26\"],[1.0,\"#f0f921\"]]}],\"contourcarpet\":[{\"type\":\"contourcarpet\",\"colorbar\":{\"outlinewidth\":0,\"ticks\":\"\"}}],\"contour\":[{\"type\":\"contour\",\"colorbar\":{\"outlinewidth\":0,\"ticks\":\"\"},\"colorscale\":[[0.0,\"#0d0887\"],[0.1111111111111111,\"#46039f\"],[0.2222222222222222,\"#7201a8\"],[0.3333333333333333,\"#9c179e\"],[0.4444444444444444,\"#bd3786\"],[0.5555555555555556,\"#d8576b\"],[0.6666666666666666,\"#ed7953\"],[0.7777777777777778,\"#fb9f3a\"],[0.8888888888888888,\"#fdca26\"],[1.0,\"#f0f921\"]]}],\"surface\":[{\"type\":\"surface\",\"colorbar\":{\"outlinewidth\":0,\"ticks\":\"\"},\"colorscale\":[[0.0,\"#0d0887\"],[0.1111111111111111,\"#46039f\"],[0.2222222222222222,\"#7201a8\"],[0.3333333333333333,\"#9c179e\"],[0.4444444444444444,\"#bd3786\"],[0.5555555555555556,\"#d8576b\"],[0.6666666666666666,\"#ed7953\"],[0.7777777777777778,\"#fb9f3a\"],[0.8888888888888888,\"#fdca26\"],[1.0,\"#f0f921\"]]}],\"mesh3d\":[{\"type\":\"mesh3d\",\"colorbar\":{\"outlinewidth\":0,\"ticks\":\"\"}}],\"scatter\":[{\"marker\":{\"line\":{\"color\":\"#283442\"}},\"type\":\"scatter\"}],\"parcoords\":[{\"type\":\"parcoords\",\"line\":{\"colorbar\":{\"outlinewidth\":0,\"ticks\":\"\"}}}],\"scatterpolargl\":[{\"type\":\"scatterpolargl\",\"marker\":{\"colorbar\":{\"outlinewidth\":0,\"ticks\":\"\"}}}],\"bar\":[{\"error_x\":{\"color\":\"#f2f5fa\"},\"error_y\":{\"color\":\"#f2f5fa\"},\"marker\":{\"line\":{\"color\":\"rgb(17,17,17)\",\"width\":0.5},\"pattern\":{\"fillmode\":\"overlay\",\"size\":10,\"solidity\":0.2}},\"type\":\"bar\"}],\"scattergeo\":[{\"type\":\"scattergeo\",\"marker\":{\"colorbar\":{\"outlinewidth\":0,\"ticks\":\"\"}}}],\"scatterpolar\":[{\"type\":\"scatterpolar\",\"marker\":{\"colorbar\":{\"outlinewidth\":0,\"ticks\":\"\"}}}],\"histogram\":[{\"marker\":{\"pattern\":{\"fillmode\":\"overlay\",\"size\":10,\"solidity\":0.2}},\"type\":\"histogram\"}],\"scattergl\":[{\"marker\":{\"line\":{\"color\":\"#283442\"}},\"type\":\"scattergl\"}],\"scatter3d\":[{\"type\":\"scatter3d\",\"line\":{\"colorbar\":{\"outlinewidth\":0,\"ticks\":\"\"}},\"marker\":{\"colorbar\":{\"outlinewidth\":0,\"ticks\":\"\"}}}],\"scattermapbox\":[{\"type\":\"scattermapbox\",\"marker\":{\"colorbar\":{\"outlinewidth\":0,\"ticks\":\"\"}}}],\"scatterternary\":[{\"type\":\"scatterternary\",\"marker\":{\"colorbar\":{\"outlinewidth\":0,\"ticks\":\"\"}}}],\"scattercarpet\":[{\"type\":\"scattercarpet\",\"marker\":{\"colorbar\":{\"outlinewidth\":0,\"ticks\":\"\"}}}],\"carpet\":[{\"aaxis\":{\"endlinecolor\":\"#A2B1C6\",\"gridcolor\":\"#506784\",\"linecolor\":\"#506784\",\"minorgridcolor\":\"#506784\",\"startlinecolor\":\"#A2B1C6\"},\"baxis\":{\"endlinecolor\":\"#A2B1C6\",\"gridcolor\":\"#506784\",\"linecolor\":\"#506784\",\"minorgridcolor\":\"#506784\",\"startlinecolor\":\"#A2B1C6\"},\"type\":\"carpet\"}],\"table\":[{\"cells\":{\"fill\":{\"color\":\"#506784\"},\"line\":{\"color\":\"rgb(17,17,17)\"}},\"header\":{\"fill\":{\"color\":\"#2a3f5f\"},\"line\":{\"color\":\"rgb(17,17,17)\"}},\"type\":\"table\"}],\"barpolar\":[{\"marker\":{\"line\":{\"color\":\"rgb(17,17,17)\",\"width\":0.5},\"pattern\":{\"fillmode\":\"overlay\",\"size\":10,\"solidity\":0.2}},\"type\":\"barpolar\"}],\"pie\":[{\"automargin\":true,\"type\":\"pie\"}]},\"layout\":{\"autotypenumbers\":\"strict\",\"colorway\":[\"#636efa\",\"#EF553B\",\"#00cc96\",\"#ab63fa\",\"#FFA15A\",\"#19d3f3\",\"#FF6692\",\"#B6E880\",\"#FF97FF\",\"#FECB52\"],\"font\":{\"color\":\"#f2f5fa\"},\"hovermode\":\"closest\",\"hoverlabel\":{\"align\":\"left\"},\"paper_bgcolor\":\"rgb(17,17,17)\",\"plot_bgcolor\":\"rgb(17,17,17)\",\"polar\":{\"bgcolor\":\"rgb(17,17,17)\",\"angularaxis\":{\"gridcolor\":\"#506784\",\"linecolor\":\"#506784\",\"ticks\":\"\"},\"radialaxis\":{\"gridcolor\":\"#506784\",\"linecolor\":\"#506784\",\"ticks\":\"\"}},\"ternary\":{\"bgcolor\":\"rgb(17,17,17)\",\"aaxis\":{\"gridcolor\":\"#506784\",\"linecolor\":\"#506784\",\"ticks\":\"\"},\"baxis\":{\"gridcolor\":\"#506784\",\"linecolor\":\"#506784\",\"ticks\":\"\"},\"caxis\":{\"gridcolor\":\"#506784\",\"linecolor\":\"#506784\",\"ticks\":\"\"}},\"coloraxis\":{\"colorbar\":{\"outlinewidth\":0,\"ticks\":\"\"}},\"colorscale\":{\"sequential\":[[0.0,\"#0d0887\"],[0.1111111111111111,\"#46039f\"],[0.2222222222222222,\"#7201a8\"],[0.3333333333333333,\"#9c179e\"],[0.4444444444444444,\"#bd3786\"],[0.5555555555555556,\"#d8576b\"],[0.6666666666666666,\"#ed7953\"],[0.7777777777777778,\"#fb9f3a\"],[0.8888888888888888,\"#fdca26\"],[1.0,\"#f0f921\"]],\"sequentialminus\":[[0.0,\"#0d0887\"],[0.1111111111111111,\"#46039f\"],[0.2222222222222222,\"#7201a8\"],[0.3333333333333333,\"#9c179e\"],[0.4444444444444444,\"#bd3786\"],[0.5555555555555556,\"#d8576b\"],[0.6666666666666666,\"#ed7953\"],[0.7777777777777778,\"#fb9f3a\"],[0.8888888888888888,\"#fdca26\"],[1.0,\"#f0f921\"]],\"diverging\":[[0,\"#8e0152\"],[0.1,\"#c51b7d\"],[0.2,\"#de77ae\"],[0.3,\"#f1b6da\"],[0.4,\"#fde0ef\"],[0.5,\"#f7f7f7\"],[0.6,\"#e6f5d0\"],[0.7,\"#b8e186\"],[0.8,\"#7fbc41\"],[0.9,\"#4d9221\"],[1,\"#276419\"]]},\"xaxis\":{\"gridcolor\":\"#283442\",\"linecolor\":\"#506784\",\"ticks\":\"\",\"title\":{\"standoff\":15},\"zerolinecolor\":\"#283442\",\"automargin\":true,\"zerolinewidth\":2},\"yaxis\":{\"gridcolor\":\"#283442\",\"linecolor\":\"#506784\",\"ticks\":\"\",\"title\":{\"standoff\":15},\"zerolinecolor\":\"#283442\",\"automargin\":true,\"zerolinewidth\":2},\"scene\":{\"xaxis\":{\"backgroundcolor\":\"rgb(17,17,17)\",\"gridcolor\":\"#506784\",\"linecolor\":\"#506784\",\"showbackground\":true,\"ticks\":\"\",\"zerolinecolor\":\"#C8D4E3\",\"gridwidth\":2},\"yaxis\":{\"backgroundcolor\":\"rgb(17,17,17)\",\"gridcolor\":\"#506784\",\"linecolor\":\"#506784\",\"showbackground\":true,\"ticks\":\"\",\"zerolinecolor\":\"#C8D4E3\",\"gridwidth\":2},\"zaxis\":{\"backgroundcolor\":\"rgb(17,17,17)\",\"gridcolor\":\"#506784\",\"linecolor\":\"#506784\",\"showbackground\":true,\"ticks\":\"\",\"zerolinecolor\":\"#C8D4E3\",\"gridwidth\":2}},\"shapedefaults\":{\"line\":{\"color\":\"#f2f5fa\"}},\"annotationdefaults\":{\"arrowcolor\":\"#f2f5fa\",\"arrowhead\":0,\"arrowwidth\":1},\"geo\":{\"bgcolor\":\"rgb(17,17,17)\",\"landcolor\":\"rgb(17,17,17)\",\"subunitcolor\":\"#506784\",\"showland\":true,\"showlakes\":true,\"lakecolor\":\"rgb(17,17,17)\"},\"title\":{\"x\":0.05},\"updatemenudefaults\":{\"bgcolor\":\"#506784\",\"borderwidth\":0},\"sliderdefaults\":{\"bgcolor\":\"#C8D4E3\",\"borderwidth\":1,\"bordercolor\":\"rgb(17,17,17)\",\"tickwidth\":0},\"mapbox\":{\"style\":\"dark\"}}},\"scene\":{\"domain\":{\"x\":[0.0,1.0],\"y\":[0.0,1.0]},\"xaxis\":{\"title\":{\"text\":\"PCA1\"}},\"yaxis\":{\"title\":{\"text\":\"PCA2\"}},\"zaxis\":{\"title\":{\"text\":\"PCA3\"}}},\"legend\":{\"title\":{\"text\":\"artist\"},\"tracegroupgap\":0},\"margin\":{\"t\":60}},                        {\"responsive\": true}                    ).then(function(){\n                            \nvar gd = document.getElementById('8f709b5f-8f15-4ad7-a2d1-7e60be9eb1a2');\nvar x = new MutationObserver(function (mutations, observer) {{\n        var display = window.getComputedStyle(gd).display;\n        if (!display || display === 'none') {{\n            console.log([gd, 'removed!']);\n            Plotly.purge(gd);\n            observer.disconnect();\n        }}\n}});\n\n// Listen for the removal of the full notebook cells\nvar notebookContainer = gd.closest('#notebook-container');\nif (notebookContainer) {{\n    x.observe(notebookContainer, {childList: true});\n}}\n\n// Listen for the clearing of the current output cell\nvar outputEl = gd.closest('.output');\nif (outputEl) {{\n    x.observe(outputEl, {childList: true});\n}}\n\n                        })                };                });            </script>        </div>"
     },
     "metadata": {},
     "output_type": "display_data"
    }
   ],
   "source": [
    "fig = px.scatter_3d(\n",
    "    named_pca_dataset,\n",
    "    x='PCA1',\n",
    "    y='PCA2',\n",
    "    z='PCA3',\n",
    "    hover_data=['artist', 'song_name'],\n",
    "    template='plotly_dark',\n",
    "    color='artist'\n",
    ")\n",
    "fig.show()"
   ],
   "metadata": {
    "collapsed": false
   }
  },
  {
   "cell_type": "code",
   "execution_count": 28,
   "outputs": [
    {
     "data": {
      "application/vnd.plotly.v1+json": {
       "data": [
        {
         "customdata": [
          [
           "Bruno Major",
           "Easily"
          ],
          [
           "Bruno Major",
           "Nothing"
          ],
          [
           "Bruno Major",
           "The Most Beautiful Thing"
          ],
          [
           "Charlie Burg",
           "Lovesong (The Way) [feat. Bluets]"
          ],
          [
           "Daniel Caesar",
           "Best Part (feat. H.E.R.)"
          ],
          [
           "Daniel Caesar",
           "Japanese Denim"
          ],
          [
           "Daniel Caesar",
           "Streetcar"
          ],
          [
           "Daniel Caesar",
           "We Find Love"
          ],
          [
           "FINNEAS",
           "Let's Fall in Love for the Night"
          ],
          [
           "Jeremy Zucker",
           "this is how you fall in love"
          ],
          [
           "John Mayer",
           "You're Gonna Live Forever in Me"
          ],
          [
           "John Park",
           "Sipping My life (Bonus Track)"
          ],
          [
           "Joji",
           "Glimpse of Us"
          ],
          [
           "Kamal.",
           "blue"
          ],
          [
           "Luke Chiang",
           "Shouldn't Be"
          ],
          [
           "Lyn Lapid",
           "In My Mind"
          ],
          [
           "Mac Ayres",
           "Easy"
          ],
          [
           "Paul Partohap",
           "P.S. I LOVE YOU"
          ],
          [
           "Rex Orange County",
           "Always"
          ],
          [
           "Rex Orange County",
           "Happiness"
          ],
          [
           "Rex Orange County",
           "Pluto Projector"
          ],
          [
           "Rex Orange County",
           "Untitled"
          ]
         ],
         "hovertemplate": "playlist=playlist-1-extracted<br>PCA1=%{x}<br>PCA2=%{y}<br>PCA3=%{z}<br>artist=%{customdata[0]}<br>song_name=%{customdata[1]}<extra></extra>",
         "legendgroup": "playlist-1-extracted",
         "marker": {
          "color": "#636efa",
          "symbol": "circle"
         },
         "mode": "markers",
         "name": "playlist-1-extracted",
         "scene": "scene",
         "showlegend": true,
         "x": [
          2.919897442557078,
          -1.205138466927359,
          2.139175473462971,
          4.9389385261940895,
          2.275366483872993,
          4.128504153309238,
          2.645350118909599,
          0.41865269834592245,
          3.284523224200287,
          2.2392490827969445,
          -1.7683547527590953,
          1.548721184516819,
          1.1114866276536366,
          3.5925660509729416,
          2.2100953759112474,
          1.0165302988451883,
          2.871704583766433,
          0.8879149844705821,
          2.156769418302611,
          1.354156025505273,
          0.2980421401493835,
          3.207693272237201
         ],
         "y": [
          4.80998557861646,
          3.603774630180503,
          2.2466165280322326,
          1.0787731925237378,
          -0.04611487894067814,
          0.1161088989506067,
          -0.9989350660719026,
          0.003959414334340413,
          2.7910366355620972,
          2.3723150631987773,
          0.29480763835181917,
          0.13673607569497465,
          -0.10422808394615629,
          5.303299147620596,
          2.3715721815606607,
          0.3954903023225221,
          3.6036811317844064,
          1.9564118676563496,
          1.3300114642214589,
          0.3579735896789978,
          2.5870672839094313,
          3.0514788725367263
         ],
         "z": [
          1.9161422993245498,
          1.8758520593790988,
          3.158387531719379,
          -2.432151739667434,
          -0.8276712367410616,
          -0.22319505272625503,
          -2.7597001122912608,
          0.9582050833679875,
          -0.596782262646659,
          0.894577752327584,
          0.1481758362035825,
          1.3023985904456694,
          1.1097558794124804,
          -0.15595069005258327,
          -0.1619336229080141,
          -0.7832876722646961,
          0.30898272101836927,
          -2.4413728932392837,
          -1.2762989892055236,
          -1.4565472160603243,
          -0.20413639662794517,
          -4.044395108033388
         ],
         "type": "scatter3d"
        },
        {
         "customdata": [
          [
           "Sleeping At Last",
           "April 10, 2019- Powehi - Image of a Black Hole"
          ],
          [
           "Sleeping At Last",
           "August 12, 2018- Perseid Meteor Shower"
          ],
          [
           "Sleeping At Last",
           "August 21, 2017- Total Solar Eclipse"
          ],
          [
           "Sleeping At Last",
           "December 13, 2017- Geminid Meteor Shower"
          ],
          [
           "Sleeping At Last",
           "December 17, 2018- Farout"
          ],
          [
           "Sleeping At Last",
           "December 21, 2020- The Great Conjunction"
          ],
          [
           "Sleeping At Last",
           "December 25, 2021- Webb Space Telescope - Launch"
          ],
          [
           "Sleeping At Last",
           "February 1, 2023- C2022 E3 - Comet Ztf"
          ],
          [
           "Sleeping At Last",
           "February 13, 2019- Opportunity - Mission Complete"
          ],
          [
           "Sleeping At Last",
           "February 18, 2021- Perseverance - Mars Landing"
          ],
          [
           "Sleeping At Last",
           "January 30, 2020- Spitzer - Final Voyage"
          ],
          [
           "Sleeping At Last",
           "January 31, 2018- Super Blue Blood Moon"
          ],
          [
           "Sleeping At Last",
           "July 22, 2020- C  2020 F3 - Comet Neowise"
          ],
          [
           "Sleeping At Last",
           "July 27, 2018- Total Lunar Eclipse"
          ],
          [
           "Sleeping At Last",
           "July 4, 2020- Aphelion"
          ],
          [
           "Sleeping At Last",
           "June 24, 2022- Parade of Planets"
          ],
          [
           "Sleeping At Last",
           "June 30, 2018- Pds 70b (Birth of a Planet)"
          ],
          [
           "Sleeping At Last",
           "October 30, 2018- Kepler - Goodnight"
          ],
          [
           "Sleeping At Last",
           "September 15, 2017- Cassini - The Grand Finale"
          ]
         ],
         "hovertemplate": "playlist=playlist-2-extracted<br>PCA1=%{x}<br>PCA2=%{y}<br>PCA3=%{z}<br>artist=%{customdata[0]}<br>song_name=%{customdata[1]}<extra></extra>",
         "legendgroup": "playlist-2-extracted",
         "marker": {
          "color": "#EF553B",
          "symbol": "circle"
         },
         "mode": "markers",
         "name": "playlist-2-extracted",
         "scene": "scene",
         "showlegend": true,
         "x": [
          -3.7873199002338547,
          -2.8368599879810183,
          -3.744593386898355,
          -4.227648380471238,
          -3.082211188251799,
          -4.239822405715811,
          -1.3343118044217959,
          -2.9074859106951494,
          -2.34245704737218,
          -4.251205559816063,
          -3.173214912196978,
          -2.9080639446960883,
          -2.646000840643729,
          -4.063601384391101,
          -3.344005393136189,
          -2.4829307972861705,
          -1.925907955663537,
          -1.3542439442385892,
          -2.5037006413764664
         ],
         "y": [
          4.423585869208483,
          -1.5872652601134676,
          -1.4676036390501284,
          -0.8562150941382597,
          -0.6645504847678724,
          -1.0975801698939438,
          -0.7119498926927678,
          -0.22722162099225562,
          -0.7055878961498725,
          0.6815182121622562,
          1.847344122322291,
          -0.8736732413932693,
          0.25952348161479966,
          -0.23553170654076847,
          1.4128433482036418,
          -0.3322207900709863,
          2.2287889297037915,
          1.6258469523719987,
          -0.6007902728114533
         ],
         "z": [
          -3.9784268813386605,
          -0.5653648912984206,
          -0.8332012114190092,
          -1.0981479896716468,
          -0.8358777944523614,
          -0.27417397694715184,
          0.03604809535037236,
          1.7614924722385301,
          -0.1534132301812014,
          0.44696069611704736,
          -1.052626869831537,
          0.11200547522637459,
          1.2502331323749063,
          -1.2047064897344748,
          0.5991674928725569,
          0.869037847185924,
          -2.05585354480415,
          -0.5418729199114637,
          0.24376129219516132
         ],
         "type": "scatter3d"
        },
        {
         "customdata": [
          [
           "Antônio Carlos Jobim",
           "Desafinado"
          ],
          [
           "Antônio Carlos Jobim",
           "The Girl From Ipanema"
          ],
          [
           "Bill Evans Trio",
           "Waltz for Debby (take 1) - Alternate Take"
          ],
          [
           "Bud Powell",
           "I'll Keep Loving You"
          ],
          [
           "Bud Powell",
           "It Could Happen To You - Rudy Van Gelder Edition  Remastered 1998"
          ],
          [
           "Henry Mancini",
           "Dear Heart"
          ],
          [
           "John Coltrane",
           "A Love Supreme, Pt. I – Acknowledgement"
          ],
          [
           "Miles Davis",
           "So What (feat. John Coltrane, Cannonball Adderley & Bill Evans)"
          ],
          [
           "Ornette Coleman",
           "Lonely Woman"
          ],
          [
           "Sarah Vaughan",
           "Misty"
          ],
          [
           "Thelonious Monk",
           "'Round Midnight"
          ],
          [
           "Thelonious Monk",
           "Honeysuckle Rose"
          ],
          [
           "Tony Bennett",
           "(I Left My Heart) In San Francisco"
          ]
         ],
         "hovertemplate": "playlist=playlist-3-extracted<br>PCA1=%{x}<br>PCA2=%{y}<br>PCA3=%{z}<br>artist=%{customdata[0]}<br>song_name=%{customdata[1]}<extra></extra>",
         "legendgroup": "playlist-3-extracted",
         "marker": {
          "color": "#00cc96",
          "symbol": "circle"
         },
         "mode": "markers",
         "name": "playlist-3-extracted",
         "scene": "scene",
         "showlegend": true,
         "x": [
          2.0992580701931516,
          2.479279954053973,
          0.8921397039615384,
          -4.2448881442460555,
          -3.7332168992893373,
          -1.5877094166275285,
          4.244740267279029,
          3.2872995206561053,
          5.231505401054101,
          -0.9991064308988553,
          -0.351400518905681,
          2.921600919605539,
          0.5025362329607841
         ],
         "y": [
          -0.610357081255341,
          0.8619009813134678,
          -0.1671725423181529,
          -1.7433946562842644,
          -0.4560498415253619,
          -2.528857097580935,
          -4.5418218565553214,
          -2.4070195043309672,
          -4.851521049286934,
          -1.3142499491035757,
          -2.095624260452146,
          0.008970150905684978,
          0.1443199345178632
         ],
         "z": [
          0.5135299671409804,
          1.7471862821632818,
          2.746048667840422,
          -1.0444363116142983,
          1.0274268570401937,
          -2.444065020993102,
          -0.9928821242306571,
          0.08655141039356945,
          -1.4387695992555583,
          -0.5932147374584043,
          0.024126709724696976,
          1.4549914439833374,
          -0.6977502293583678
         ],
         "type": "scatter3d"
        },
        {
         "customdata": [
          [
           "Boundary Run",
           "Beggars"
          ],
          [
           "CHPTRS",
           "At Dawn"
          ],
          [
           "CHPTRS",
           "Last Chance (Alternate Version)"
          ],
          [
           "CHPTRS",
           "Obvious (Alternate Version)"
          ],
          [
           "Freya Ridings",
           "Love Is Fire"
          ],
          [
           "HAEVN",
           "Where the Heart Is - Single Version"
          ],
          [
           "Lights & Motion",
           "Anomaly"
          ],
          [
           "ODESZA",
           "A Moment Apart"
          ],
          [
           "One Hundred Years",
           "Reborn"
          ],
          [
           "Roary",
           "Guardians"
          ],
          [
           "Roary",
           "Motion"
          ],
          [
           "Roary",
           "Breathe Again"
          ],
          [
           "Secret Nation",
           "Love You Well"
          ],
          [
           "sød ven",
           "mystery"
          ],
          [
           "The Light the Heat",
           "Afterlight"
          ],
          [
           "The Light the Heat",
           "Feel Alive"
          ],
          [
           "Thomas Bergersen",
           "Crystallize"
          ],
          [
           "Tony Anderson",
           "Retour"
          ],
          [
           "Voyageur",
           "Civilized"
          ],
          [
           "Voyageur",
           "Fire & Stone"
          ],
          [
           "Voyageur",
           "I Caught Fire"
          ]
         ],
         "hovertemplate": "playlist=playlist-4-extracted<br>PCA1=%{x}<br>PCA2=%{y}<br>PCA3=%{z}<br>artist=%{customdata[0]}<br>song_name=%{customdata[1]}<extra></extra>",
         "legendgroup": "playlist-4-extracted",
         "marker": {
          "color": "#ab63fa",
          "symbol": "circle"
         },
         "mode": "markers",
         "name": "playlist-4-extracted",
         "scene": "scene",
         "showlegend": true,
         "x": [
          -1.3193134485062963,
          1.1774999928730068,
          -0.7359948991381715,
          -0.6224936066892335,
          2.886759188748384,
          2.2293183000775776,
          -2.9408225702800457,
          1.2679335692885578,
          -2.8575043984856303,
          -2.1716183518362024,
          1.3432934303913726,
          1.0437340743853825,
          1.2921812139929572,
          1.575560491551125,
          3.1366704053113366,
          3.1476793540204113,
          0.38583558665633744,
          -3.595409141913977,
          0.07821453468322338,
          -0.09731777053798545,
          -1.0825031751967646
         ],
         "y": [
          0.13423597323335057,
          -0.9637753353935214,
          -0.34937645907711984,
          -0.34691482471788,
          -0.9407851713010934,
          1.152792000285173,
          -0.7104957273998466,
          -2.825017198419962,
          1.3864105916167762,
          0.01739860420586462,
          -1.1531244104163492,
          -0.880615841011036,
          -1.9335442567235297,
          -1.304288929082047,
          -3.2833101418878945,
          -3.059258069875781,
          -2.1748195210102823,
          1.4541822239498796,
          -1.3335910850003019,
          -2.001858842220498,
          -1.5644491225480806
         ],
         "z": [
          0.3048435474971833,
          0.6925200073629129,
          0.9934462349404642,
          0.8956735030905377,
          -0.3084267931393172,
          2.395054216669881,
          1.3841157706644651,
          -2.172388386916083,
          -3.4384310940738314,
          1.0472324358866245,
          1.6910147389739232,
          -0.2693285682208501,
          1.9235982532311893,
          0.9203021257658135,
          -0.09027447919745524,
          0.8721687480239068,
          0.9729162353514436,
          4.3897005840242524,
          0.16946568576960921,
          0.9373976102141206,
          -0.7334391559999534
         ],
         "type": "scatter3d"
        }
       ],
       "layout": {
        "template": {
         "data": {
          "histogram2dcontour": [
           {
            "type": "histogram2dcontour",
            "colorbar": {
             "outlinewidth": 0,
             "ticks": ""
            },
            "colorscale": [
             [
              0.0,
              "#0d0887"
             ],
             [
              0.1111111111111111,
              "#46039f"
             ],
             [
              0.2222222222222222,
              "#7201a8"
             ],
             [
              0.3333333333333333,
              "#9c179e"
             ],
             [
              0.4444444444444444,
              "#bd3786"
             ],
             [
              0.5555555555555556,
              "#d8576b"
             ],
             [
              0.6666666666666666,
              "#ed7953"
             ],
             [
              0.7777777777777778,
              "#fb9f3a"
             ],
             [
              0.8888888888888888,
              "#fdca26"
             ],
             [
              1.0,
              "#f0f921"
             ]
            ]
           }
          ],
          "choropleth": [
           {
            "type": "choropleth",
            "colorbar": {
             "outlinewidth": 0,
             "ticks": ""
            }
           }
          ],
          "histogram2d": [
           {
            "type": "histogram2d",
            "colorbar": {
             "outlinewidth": 0,
             "ticks": ""
            },
            "colorscale": [
             [
              0.0,
              "#0d0887"
             ],
             [
              0.1111111111111111,
              "#46039f"
             ],
             [
              0.2222222222222222,
              "#7201a8"
             ],
             [
              0.3333333333333333,
              "#9c179e"
             ],
             [
              0.4444444444444444,
              "#bd3786"
             ],
             [
              0.5555555555555556,
              "#d8576b"
             ],
             [
              0.6666666666666666,
              "#ed7953"
             ],
             [
              0.7777777777777778,
              "#fb9f3a"
             ],
             [
              0.8888888888888888,
              "#fdca26"
             ],
             [
              1.0,
              "#f0f921"
             ]
            ]
           }
          ],
          "heatmap": [
           {
            "type": "heatmap",
            "colorbar": {
             "outlinewidth": 0,
             "ticks": ""
            },
            "colorscale": [
             [
              0.0,
              "#0d0887"
             ],
             [
              0.1111111111111111,
              "#46039f"
             ],
             [
              0.2222222222222222,
              "#7201a8"
             ],
             [
              0.3333333333333333,
              "#9c179e"
             ],
             [
              0.4444444444444444,
              "#bd3786"
             ],
             [
              0.5555555555555556,
              "#d8576b"
             ],
             [
              0.6666666666666666,
              "#ed7953"
             ],
             [
              0.7777777777777778,
              "#fb9f3a"
             ],
             [
              0.8888888888888888,
              "#fdca26"
             ],
             [
              1.0,
              "#f0f921"
             ]
            ]
           }
          ],
          "heatmapgl": [
           {
            "type": "heatmapgl",
            "colorbar": {
             "outlinewidth": 0,
             "ticks": ""
            },
            "colorscale": [
             [
              0.0,
              "#0d0887"
             ],
             [
              0.1111111111111111,
              "#46039f"
             ],
             [
              0.2222222222222222,
              "#7201a8"
             ],
             [
              0.3333333333333333,
              "#9c179e"
             ],
             [
              0.4444444444444444,
              "#bd3786"
             ],
             [
              0.5555555555555556,
              "#d8576b"
             ],
             [
              0.6666666666666666,
              "#ed7953"
             ],
             [
              0.7777777777777778,
              "#fb9f3a"
             ],
             [
              0.8888888888888888,
              "#fdca26"
             ],
             [
              1.0,
              "#f0f921"
             ]
            ]
           }
          ],
          "contourcarpet": [
           {
            "type": "contourcarpet",
            "colorbar": {
             "outlinewidth": 0,
             "ticks": ""
            }
           }
          ],
          "contour": [
           {
            "type": "contour",
            "colorbar": {
             "outlinewidth": 0,
             "ticks": ""
            },
            "colorscale": [
             [
              0.0,
              "#0d0887"
             ],
             [
              0.1111111111111111,
              "#46039f"
             ],
             [
              0.2222222222222222,
              "#7201a8"
             ],
             [
              0.3333333333333333,
              "#9c179e"
             ],
             [
              0.4444444444444444,
              "#bd3786"
             ],
             [
              0.5555555555555556,
              "#d8576b"
             ],
             [
              0.6666666666666666,
              "#ed7953"
             ],
             [
              0.7777777777777778,
              "#fb9f3a"
             ],
             [
              0.8888888888888888,
              "#fdca26"
             ],
             [
              1.0,
              "#f0f921"
             ]
            ]
           }
          ],
          "surface": [
           {
            "type": "surface",
            "colorbar": {
             "outlinewidth": 0,
             "ticks": ""
            },
            "colorscale": [
             [
              0.0,
              "#0d0887"
             ],
             [
              0.1111111111111111,
              "#46039f"
             ],
             [
              0.2222222222222222,
              "#7201a8"
             ],
             [
              0.3333333333333333,
              "#9c179e"
             ],
             [
              0.4444444444444444,
              "#bd3786"
             ],
             [
              0.5555555555555556,
              "#d8576b"
             ],
             [
              0.6666666666666666,
              "#ed7953"
             ],
             [
              0.7777777777777778,
              "#fb9f3a"
             ],
             [
              0.8888888888888888,
              "#fdca26"
             ],
             [
              1.0,
              "#f0f921"
             ]
            ]
           }
          ],
          "mesh3d": [
           {
            "type": "mesh3d",
            "colorbar": {
             "outlinewidth": 0,
             "ticks": ""
            }
           }
          ],
          "scatter": [
           {
            "marker": {
             "line": {
              "color": "#283442"
             }
            },
            "type": "scatter"
           }
          ],
          "parcoords": [
           {
            "type": "parcoords",
            "line": {
             "colorbar": {
              "outlinewidth": 0,
              "ticks": ""
             }
            }
           }
          ],
          "scatterpolargl": [
           {
            "type": "scatterpolargl",
            "marker": {
             "colorbar": {
              "outlinewidth": 0,
              "ticks": ""
             }
            }
           }
          ],
          "bar": [
           {
            "error_x": {
             "color": "#f2f5fa"
            },
            "error_y": {
             "color": "#f2f5fa"
            },
            "marker": {
             "line": {
              "color": "rgb(17,17,17)",
              "width": 0.5
             },
             "pattern": {
              "fillmode": "overlay",
              "size": 10,
              "solidity": 0.2
             }
            },
            "type": "bar"
           }
          ],
          "scattergeo": [
           {
            "type": "scattergeo",
            "marker": {
             "colorbar": {
              "outlinewidth": 0,
              "ticks": ""
             }
            }
           }
          ],
          "scatterpolar": [
           {
            "type": "scatterpolar",
            "marker": {
             "colorbar": {
              "outlinewidth": 0,
              "ticks": ""
             }
            }
           }
          ],
          "histogram": [
           {
            "marker": {
             "pattern": {
              "fillmode": "overlay",
              "size": 10,
              "solidity": 0.2
             }
            },
            "type": "histogram"
           }
          ],
          "scattergl": [
           {
            "marker": {
             "line": {
              "color": "#283442"
             }
            },
            "type": "scattergl"
           }
          ],
          "scatter3d": [
           {
            "type": "scatter3d",
            "line": {
             "colorbar": {
              "outlinewidth": 0,
              "ticks": ""
             }
            },
            "marker": {
             "colorbar": {
              "outlinewidth": 0,
              "ticks": ""
             }
            }
           }
          ],
          "scattermapbox": [
           {
            "type": "scattermapbox",
            "marker": {
             "colorbar": {
              "outlinewidth": 0,
              "ticks": ""
             }
            }
           }
          ],
          "scatterternary": [
           {
            "type": "scatterternary",
            "marker": {
             "colorbar": {
              "outlinewidth": 0,
              "ticks": ""
             }
            }
           }
          ],
          "scattercarpet": [
           {
            "type": "scattercarpet",
            "marker": {
             "colorbar": {
              "outlinewidth": 0,
              "ticks": ""
             }
            }
           }
          ],
          "carpet": [
           {
            "aaxis": {
             "endlinecolor": "#A2B1C6",
             "gridcolor": "#506784",
             "linecolor": "#506784",
             "minorgridcolor": "#506784",
             "startlinecolor": "#A2B1C6"
            },
            "baxis": {
             "endlinecolor": "#A2B1C6",
             "gridcolor": "#506784",
             "linecolor": "#506784",
             "minorgridcolor": "#506784",
             "startlinecolor": "#A2B1C6"
            },
            "type": "carpet"
           }
          ],
          "table": [
           {
            "cells": {
             "fill": {
              "color": "#506784"
             },
             "line": {
              "color": "rgb(17,17,17)"
             }
            },
            "header": {
             "fill": {
              "color": "#2a3f5f"
             },
             "line": {
              "color": "rgb(17,17,17)"
             }
            },
            "type": "table"
           }
          ],
          "barpolar": [
           {
            "marker": {
             "line": {
              "color": "rgb(17,17,17)",
              "width": 0.5
             },
             "pattern": {
              "fillmode": "overlay",
              "size": 10,
              "solidity": 0.2
             }
            },
            "type": "barpolar"
           }
          ],
          "pie": [
           {
            "automargin": true,
            "type": "pie"
           }
          ]
         },
         "layout": {
          "autotypenumbers": "strict",
          "colorway": [
           "#636efa",
           "#EF553B",
           "#00cc96",
           "#ab63fa",
           "#FFA15A",
           "#19d3f3",
           "#FF6692",
           "#B6E880",
           "#FF97FF",
           "#FECB52"
          ],
          "font": {
           "color": "#f2f5fa"
          },
          "hovermode": "closest",
          "hoverlabel": {
           "align": "left"
          },
          "paper_bgcolor": "rgb(17,17,17)",
          "plot_bgcolor": "rgb(17,17,17)",
          "polar": {
           "bgcolor": "rgb(17,17,17)",
           "angularaxis": {
            "gridcolor": "#506784",
            "linecolor": "#506784",
            "ticks": ""
           },
           "radialaxis": {
            "gridcolor": "#506784",
            "linecolor": "#506784",
            "ticks": ""
           }
          },
          "ternary": {
           "bgcolor": "rgb(17,17,17)",
           "aaxis": {
            "gridcolor": "#506784",
            "linecolor": "#506784",
            "ticks": ""
           },
           "baxis": {
            "gridcolor": "#506784",
            "linecolor": "#506784",
            "ticks": ""
           },
           "caxis": {
            "gridcolor": "#506784",
            "linecolor": "#506784",
            "ticks": ""
           }
          },
          "coloraxis": {
           "colorbar": {
            "outlinewidth": 0,
            "ticks": ""
           }
          },
          "colorscale": {
           "sequential": [
            [
             0.0,
             "#0d0887"
            ],
            [
             0.1111111111111111,
             "#46039f"
            ],
            [
             0.2222222222222222,
             "#7201a8"
            ],
            [
             0.3333333333333333,
             "#9c179e"
            ],
            [
             0.4444444444444444,
             "#bd3786"
            ],
            [
             0.5555555555555556,
             "#d8576b"
            ],
            [
             0.6666666666666666,
             "#ed7953"
            ],
            [
             0.7777777777777778,
             "#fb9f3a"
            ],
            [
             0.8888888888888888,
             "#fdca26"
            ],
            [
             1.0,
             "#f0f921"
            ]
           ],
           "sequentialminus": [
            [
             0.0,
             "#0d0887"
            ],
            [
             0.1111111111111111,
             "#46039f"
            ],
            [
             0.2222222222222222,
             "#7201a8"
            ],
            [
             0.3333333333333333,
             "#9c179e"
            ],
            [
             0.4444444444444444,
             "#bd3786"
            ],
            [
             0.5555555555555556,
             "#d8576b"
            ],
            [
             0.6666666666666666,
             "#ed7953"
            ],
            [
             0.7777777777777778,
             "#fb9f3a"
            ],
            [
             0.8888888888888888,
             "#fdca26"
            ],
            [
             1.0,
             "#f0f921"
            ]
           ],
           "diverging": [
            [
             0,
             "#8e0152"
            ],
            [
             0.1,
             "#c51b7d"
            ],
            [
             0.2,
             "#de77ae"
            ],
            [
             0.3,
             "#f1b6da"
            ],
            [
             0.4,
             "#fde0ef"
            ],
            [
             0.5,
             "#f7f7f7"
            ],
            [
             0.6,
             "#e6f5d0"
            ],
            [
             0.7,
             "#b8e186"
            ],
            [
             0.8,
             "#7fbc41"
            ],
            [
             0.9,
             "#4d9221"
            ],
            [
             1,
             "#276419"
            ]
           ]
          },
          "xaxis": {
           "gridcolor": "#283442",
           "linecolor": "#506784",
           "ticks": "",
           "title": {
            "standoff": 15
           },
           "zerolinecolor": "#283442",
           "automargin": true,
           "zerolinewidth": 2
          },
          "yaxis": {
           "gridcolor": "#283442",
           "linecolor": "#506784",
           "ticks": "",
           "title": {
            "standoff": 15
           },
           "zerolinecolor": "#283442",
           "automargin": true,
           "zerolinewidth": 2
          },
          "scene": {
           "xaxis": {
            "backgroundcolor": "rgb(17,17,17)",
            "gridcolor": "#506784",
            "linecolor": "#506784",
            "showbackground": true,
            "ticks": "",
            "zerolinecolor": "#C8D4E3",
            "gridwidth": 2
           },
           "yaxis": {
            "backgroundcolor": "rgb(17,17,17)",
            "gridcolor": "#506784",
            "linecolor": "#506784",
            "showbackground": true,
            "ticks": "",
            "zerolinecolor": "#C8D4E3",
            "gridwidth": 2
           },
           "zaxis": {
            "backgroundcolor": "rgb(17,17,17)",
            "gridcolor": "#506784",
            "linecolor": "#506784",
            "showbackground": true,
            "ticks": "",
            "zerolinecolor": "#C8D4E3",
            "gridwidth": 2
           }
          },
          "shapedefaults": {
           "line": {
            "color": "#f2f5fa"
           }
          },
          "annotationdefaults": {
           "arrowcolor": "#f2f5fa",
           "arrowhead": 0,
           "arrowwidth": 1
          },
          "geo": {
           "bgcolor": "rgb(17,17,17)",
           "landcolor": "rgb(17,17,17)",
           "subunitcolor": "#506784",
           "showland": true,
           "showlakes": true,
           "lakecolor": "rgb(17,17,17)"
          },
          "title": {
           "x": 0.05
          },
          "updatemenudefaults": {
           "bgcolor": "#506784",
           "borderwidth": 0
          },
          "sliderdefaults": {
           "bgcolor": "#C8D4E3",
           "borderwidth": 1,
           "bordercolor": "rgb(17,17,17)",
           "tickwidth": 0
          },
          "mapbox": {
           "style": "dark"
          }
         }
        },
        "scene": {
         "domain": {
          "x": [
           0.0,
           1.0
          ],
          "y": [
           0.0,
           1.0
          ]
         },
         "xaxis": {
          "title": {
           "text": "PCA1"
          }
         },
         "yaxis": {
          "title": {
           "text": "PCA2"
          }
         },
         "zaxis": {
          "title": {
           "text": "PCA3"
          }
         }
        },
        "legend": {
         "title": {
          "text": "playlist"
         },
         "tracegroupgap": 0
        },
        "margin": {
         "t": 60
        }
       },
       "config": {
        "plotlyServerURL": "https://plot.ly"
       }
      },
      "text/html": "<div>                            <div id=\"4a34acb1-44d6-401f-8719-059da83dea52\" class=\"plotly-graph-div\" style=\"height:525px; width:100%;\"></div>            <script type=\"text/javascript\">                require([\"plotly\"], function(Plotly) {                    window.PLOTLYENV=window.PLOTLYENV || {};                                    if (document.getElementById(\"4a34acb1-44d6-401f-8719-059da83dea52\")) {                    Plotly.newPlot(                        \"4a34acb1-44d6-401f-8719-059da83dea52\",                        [{\"customdata\":[[\"Bruno Major\",\"Easily\"],[\"Bruno Major\",\"Nothing\"],[\"Bruno Major\",\"The Most Beautiful Thing\"],[\"Charlie Burg\",\"Lovesong (The Way) [feat. Bluets]\"],[\"Daniel Caesar\",\"Best Part (feat. H.E.R.)\"],[\"Daniel Caesar\",\"Japanese Denim\"],[\"Daniel Caesar\",\"Streetcar\"],[\"Daniel Caesar\",\"We Find Love\"],[\"FINNEAS\",\"Let's Fall in Love for the Night\"],[\"Jeremy Zucker\",\"this is how you fall in love\"],[\"John Mayer\",\"You're Gonna Live Forever in Me\"],[\"John Park\",\"Sipping My life (Bonus Track)\"],[\"Joji\",\"Glimpse of Us\"],[\"Kamal.\",\"blue\"],[\"Luke Chiang\",\"Shouldn't Be\"],[\"Lyn Lapid\",\"In My Mind\"],[\"Mac Ayres\",\"Easy\"],[\"Paul Partohap\",\"P.S. I LOVE YOU\"],[\"Rex Orange County\",\"Always\"],[\"Rex Orange County\",\"Happiness\"],[\"Rex Orange County\",\"Pluto Projector\"],[\"Rex Orange County\",\"Untitled\"]],\"hovertemplate\":\"playlist=playlist-1-extracted<br>PCA1=%{x}<br>PCA2=%{y}<br>PCA3=%{z}<br>artist=%{customdata[0]}<br>song_name=%{customdata[1]}<extra></extra>\",\"legendgroup\":\"playlist-1-extracted\",\"marker\":{\"color\":\"#636efa\",\"symbol\":\"circle\"},\"mode\":\"markers\",\"name\":\"playlist-1-extracted\",\"scene\":\"scene\",\"showlegend\":true,\"x\":[2.919897442557078,-1.205138466927359,2.139175473462971,4.9389385261940895,2.275366483872993,4.128504153309238,2.645350118909599,0.41865269834592245,3.284523224200287,2.2392490827969445,-1.7683547527590953,1.548721184516819,1.1114866276536366,3.5925660509729416,2.2100953759112474,1.0165302988451883,2.871704583766433,0.8879149844705821,2.156769418302611,1.354156025505273,0.2980421401493835,3.207693272237201],\"y\":[4.80998557861646,3.603774630180503,2.2466165280322326,1.0787731925237378,-0.04611487894067814,0.1161088989506067,-0.9989350660719026,0.003959414334340413,2.7910366355620972,2.3723150631987773,0.29480763835181917,0.13673607569497465,-0.10422808394615629,5.303299147620596,2.3715721815606607,0.3954903023225221,3.6036811317844064,1.9564118676563496,1.3300114642214589,0.3579735896789978,2.5870672839094313,3.0514788725367263],\"z\":[1.9161422993245498,1.8758520593790988,3.158387531719379,-2.432151739667434,-0.8276712367410616,-0.22319505272625503,-2.7597001122912608,0.9582050833679875,-0.596782262646659,0.894577752327584,0.1481758362035825,1.3023985904456694,1.1097558794124804,-0.15595069005258327,-0.1619336229080141,-0.7832876722646961,0.30898272101836927,-2.4413728932392837,-1.2762989892055236,-1.4565472160603243,-0.20413639662794517,-4.044395108033388],\"type\":\"scatter3d\"},{\"customdata\":[[\"Sleeping At Last\",\"April 10, 2019- Powehi - Image of a Black Hole\"],[\"Sleeping At Last\",\"August 12, 2018- Perseid Meteor Shower\"],[\"Sleeping At Last\",\"August 21, 2017- Total Solar Eclipse\"],[\"Sleeping At Last\",\"December 13, 2017- Geminid Meteor Shower\"],[\"Sleeping At Last\",\"December 17, 2018- Farout\"],[\"Sleeping At Last\",\"December 21, 2020- The Great Conjunction\"],[\"Sleeping At Last\",\"December 25, 2021- Webb Space Telescope - Launch\"],[\"Sleeping At Last\",\"February 1, 2023- C2022 E3 - Comet Ztf\"],[\"Sleeping At Last\",\"February 13, 2019- Opportunity - Mission Complete\"],[\"Sleeping At Last\",\"February 18, 2021- Perseverance - Mars Landing\"],[\"Sleeping At Last\",\"January 30, 2020- Spitzer - Final Voyage\"],[\"Sleeping At Last\",\"January 31, 2018- Super Blue Blood Moon\"],[\"Sleeping At Last\",\"July 22, 2020- C  2020 F3 - Comet Neowise\"],[\"Sleeping At Last\",\"July 27, 2018- Total Lunar Eclipse\"],[\"Sleeping At Last\",\"July 4, 2020- Aphelion\"],[\"Sleeping At Last\",\"June 24, 2022- Parade of Planets\"],[\"Sleeping At Last\",\"June 30, 2018- Pds 70b (Birth of a Planet)\"],[\"Sleeping At Last\",\"October 30, 2018- Kepler - Goodnight\"],[\"Sleeping At Last\",\"September 15, 2017- Cassini - The Grand Finale\"]],\"hovertemplate\":\"playlist=playlist-2-extracted<br>PCA1=%{x}<br>PCA2=%{y}<br>PCA3=%{z}<br>artist=%{customdata[0]}<br>song_name=%{customdata[1]}<extra></extra>\",\"legendgroup\":\"playlist-2-extracted\",\"marker\":{\"color\":\"#EF553B\",\"symbol\":\"circle\"},\"mode\":\"markers\",\"name\":\"playlist-2-extracted\",\"scene\":\"scene\",\"showlegend\":true,\"x\":[-3.7873199002338547,-2.8368599879810183,-3.744593386898355,-4.227648380471238,-3.082211188251799,-4.239822405715811,-1.3343118044217959,-2.9074859106951494,-2.34245704737218,-4.251205559816063,-3.173214912196978,-2.9080639446960883,-2.646000840643729,-4.063601384391101,-3.344005393136189,-2.4829307972861705,-1.925907955663537,-1.3542439442385892,-2.5037006413764664],\"y\":[4.423585869208483,-1.5872652601134676,-1.4676036390501284,-0.8562150941382597,-0.6645504847678724,-1.0975801698939438,-0.7119498926927678,-0.22722162099225562,-0.7055878961498725,0.6815182121622562,1.847344122322291,-0.8736732413932693,0.25952348161479966,-0.23553170654076847,1.4128433482036418,-0.3322207900709863,2.2287889297037915,1.6258469523719987,-0.6007902728114533],\"z\":[-3.9784268813386605,-0.5653648912984206,-0.8332012114190092,-1.0981479896716468,-0.8358777944523614,-0.27417397694715184,0.03604809535037236,1.7614924722385301,-0.1534132301812014,0.44696069611704736,-1.052626869831537,0.11200547522637459,1.2502331323749063,-1.2047064897344748,0.5991674928725569,0.869037847185924,-2.05585354480415,-0.5418729199114637,0.24376129219516132],\"type\":\"scatter3d\"},{\"customdata\":[[\"Ant\\u00f4nio Carlos Jobim\",\"Desafinado\"],[\"Ant\\u00f4nio Carlos Jobim\",\"The Girl From Ipanema\"],[\"Bill Evans Trio\",\"Waltz for Debby (take 1) - Alternate Take\"],[\"Bud Powell\",\"I'll Keep Loving You\"],[\"Bud Powell\",\"It Could Happen To You - Rudy Van Gelder Edition  Remastered 1998\"],[\"Henry Mancini\",\"Dear Heart\"],[\"John Coltrane\",\"A Love Supreme, Pt. I \\u2013 Acknowledgement\"],[\"Miles Davis\",\"So What (feat. John Coltrane, Cannonball Adderley & Bill Evans)\"],[\"Ornette Coleman\",\"Lonely Woman\"],[\"Sarah Vaughan\",\"Misty\"],[\"Thelonious Monk\",\"'Round Midnight\"],[\"Thelonious Monk\",\"Honeysuckle Rose\"],[\"Tony Bennett\",\"(I Left My Heart) In San Francisco\"]],\"hovertemplate\":\"playlist=playlist-3-extracted<br>PCA1=%{x}<br>PCA2=%{y}<br>PCA3=%{z}<br>artist=%{customdata[0]}<br>song_name=%{customdata[1]}<extra></extra>\",\"legendgroup\":\"playlist-3-extracted\",\"marker\":{\"color\":\"#00cc96\",\"symbol\":\"circle\"},\"mode\":\"markers\",\"name\":\"playlist-3-extracted\",\"scene\":\"scene\",\"showlegend\":true,\"x\":[2.0992580701931516,2.479279954053973,0.8921397039615384,-4.2448881442460555,-3.7332168992893373,-1.5877094166275285,4.244740267279029,3.2872995206561053,5.231505401054101,-0.9991064308988553,-0.351400518905681,2.921600919605539,0.5025362329607841],\"y\":[-0.610357081255341,0.8619009813134678,-0.1671725423181529,-1.7433946562842644,-0.4560498415253619,-2.528857097580935,-4.5418218565553214,-2.4070195043309672,-4.851521049286934,-1.3142499491035757,-2.095624260452146,0.008970150905684978,0.1443199345178632],\"z\":[0.5135299671409804,1.7471862821632818,2.746048667840422,-1.0444363116142983,1.0274268570401937,-2.444065020993102,-0.9928821242306571,0.08655141039356945,-1.4387695992555583,-0.5932147374584043,0.024126709724696976,1.4549914439833374,-0.6977502293583678],\"type\":\"scatter3d\"},{\"customdata\":[[\"Boundary Run\",\"Beggars\"],[\"CHPTRS\",\"At Dawn\"],[\"CHPTRS\",\"Last Chance (Alternate Version)\"],[\"CHPTRS\",\"Obvious (Alternate Version)\"],[\"Freya Ridings\",\"Love Is Fire\"],[\"HAEVN\",\"Where the Heart Is - Single Version\"],[\"Lights & Motion\",\"Anomaly\"],[\"ODESZA\",\"A Moment Apart\"],[\"One Hundred Years\",\"Reborn\"],[\"Roary\",\"Guardians\"],[\"Roary\",\"Motion\"],[\"Roary\",\"Breathe Again\"],[\"Secret Nation\",\"Love You Well\"],[\"s\\u00f8d ven\",\"mystery\"],[\"The Light the Heat\",\"Afterlight\"],[\"The Light the Heat\",\"Feel Alive\"],[\"Thomas Bergersen\",\"Crystallize\"],[\"Tony Anderson\",\"Retour\"],[\"Voyageur\",\"Civilized\"],[\"Voyageur\",\"Fire & Stone\"],[\"Voyageur\",\"I Caught Fire\"]],\"hovertemplate\":\"playlist=playlist-4-extracted<br>PCA1=%{x}<br>PCA2=%{y}<br>PCA3=%{z}<br>artist=%{customdata[0]}<br>song_name=%{customdata[1]}<extra></extra>\",\"legendgroup\":\"playlist-4-extracted\",\"marker\":{\"color\":\"#ab63fa\",\"symbol\":\"circle\"},\"mode\":\"markers\",\"name\":\"playlist-4-extracted\",\"scene\":\"scene\",\"showlegend\":true,\"x\":[-1.3193134485062963,1.1774999928730068,-0.7359948991381715,-0.6224936066892335,2.886759188748384,2.2293183000775776,-2.9408225702800457,1.2679335692885578,-2.8575043984856303,-2.1716183518362024,1.3432934303913726,1.0437340743853825,1.2921812139929572,1.575560491551125,3.1366704053113366,3.1476793540204113,0.38583558665633744,-3.595409141913977,0.07821453468322338,-0.09731777053798545,-1.0825031751967646],\"y\":[0.13423597323335057,-0.9637753353935214,-0.34937645907711984,-0.34691482471788,-0.9407851713010934,1.152792000285173,-0.7104957273998466,-2.825017198419962,1.3864105916167762,0.01739860420586462,-1.1531244104163492,-0.880615841011036,-1.9335442567235297,-1.304288929082047,-3.2833101418878945,-3.059258069875781,-2.1748195210102823,1.4541822239498796,-1.3335910850003019,-2.001858842220498,-1.5644491225480806],\"z\":[0.3048435474971833,0.6925200073629129,0.9934462349404642,0.8956735030905377,-0.3084267931393172,2.395054216669881,1.3841157706644651,-2.172388386916083,-3.4384310940738314,1.0472324358866245,1.6910147389739232,-0.2693285682208501,1.9235982532311893,0.9203021257658135,-0.09027447919745524,0.8721687480239068,0.9729162353514436,4.3897005840242524,0.16946568576960921,0.9373976102141206,-0.7334391559999534],\"type\":\"scatter3d\"}],                        {\"template\":{\"data\":{\"histogram2dcontour\":[{\"type\":\"histogram2dcontour\",\"colorbar\":{\"outlinewidth\":0,\"ticks\":\"\"},\"colorscale\":[[0.0,\"#0d0887\"],[0.1111111111111111,\"#46039f\"],[0.2222222222222222,\"#7201a8\"],[0.3333333333333333,\"#9c179e\"],[0.4444444444444444,\"#bd3786\"],[0.5555555555555556,\"#d8576b\"],[0.6666666666666666,\"#ed7953\"],[0.7777777777777778,\"#fb9f3a\"],[0.8888888888888888,\"#fdca26\"],[1.0,\"#f0f921\"]]}],\"choropleth\":[{\"type\":\"choropleth\",\"colorbar\":{\"outlinewidth\":0,\"ticks\":\"\"}}],\"histogram2d\":[{\"type\":\"histogram2d\",\"colorbar\":{\"outlinewidth\":0,\"ticks\":\"\"},\"colorscale\":[[0.0,\"#0d0887\"],[0.1111111111111111,\"#46039f\"],[0.2222222222222222,\"#7201a8\"],[0.3333333333333333,\"#9c179e\"],[0.4444444444444444,\"#bd3786\"],[0.5555555555555556,\"#d8576b\"],[0.6666666666666666,\"#ed7953\"],[0.7777777777777778,\"#fb9f3a\"],[0.8888888888888888,\"#fdca26\"],[1.0,\"#f0f921\"]]}],\"heatmap\":[{\"type\":\"heatmap\",\"colorbar\":{\"outlinewidth\":0,\"ticks\":\"\"},\"colorscale\":[[0.0,\"#0d0887\"],[0.1111111111111111,\"#46039f\"],[0.2222222222222222,\"#7201a8\"],[0.3333333333333333,\"#9c179e\"],[0.4444444444444444,\"#bd3786\"],[0.5555555555555556,\"#d8576b\"],[0.6666666666666666,\"#ed7953\"],[0.7777777777777778,\"#fb9f3a\"],[0.8888888888888888,\"#fdca26\"],[1.0,\"#f0f921\"]]}],\"heatmapgl\":[{\"type\":\"heatmapgl\",\"colorbar\":{\"outlinewidth\":0,\"ticks\":\"\"},\"colorscale\":[[0.0,\"#0d0887\"],[0.1111111111111111,\"#46039f\"],[0.2222222222222222,\"#7201a8\"],[0.3333333333333333,\"#9c179e\"],[0.4444444444444444,\"#bd3786\"],[0.5555555555555556,\"#d8576b\"],[0.6666666666666666,\"#ed7953\"],[0.7777777777777778,\"#fb9f3a\"],[0.8888888888888888,\"#fdca26\"],[1.0,\"#f0f921\"]]}],\"contourcarpet\":[{\"type\":\"contourcarpet\",\"colorbar\":{\"outlinewidth\":0,\"ticks\":\"\"}}],\"contour\":[{\"type\":\"contour\",\"colorbar\":{\"outlinewidth\":0,\"ticks\":\"\"},\"colorscale\":[[0.0,\"#0d0887\"],[0.1111111111111111,\"#46039f\"],[0.2222222222222222,\"#7201a8\"],[0.3333333333333333,\"#9c179e\"],[0.4444444444444444,\"#bd3786\"],[0.5555555555555556,\"#d8576b\"],[0.6666666666666666,\"#ed7953\"],[0.7777777777777778,\"#fb9f3a\"],[0.8888888888888888,\"#fdca26\"],[1.0,\"#f0f921\"]]}],\"surface\":[{\"type\":\"surface\",\"colorbar\":{\"outlinewidth\":0,\"ticks\":\"\"},\"colorscale\":[[0.0,\"#0d0887\"],[0.1111111111111111,\"#46039f\"],[0.2222222222222222,\"#7201a8\"],[0.3333333333333333,\"#9c179e\"],[0.4444444444444444,\"#bd3786\"],[0.5555555555555556,\"#d8576b\"],[0.6666666666666666,\"#ed7953\"],[0.7777777777777778,\"#fb9f3a\"],[0.8888888888888888,\"#fdca26\"],[1.0,\"#f0f921\"]]}],\"mesh3d\":[{\"type\":\"mesh3d\",\"colorbar\":{\"outlinewidth\":0,\"ticks\":\"\"}}],\"scatter\":[{\"marker\":{\"line\":{\"color\":\"#283442\"}},\"type\":\"scatter\"}],\"parcoords\":[{\"type\":\"parcoords\",\"line\":{\"colorbar\":{\"outlinewidth\":0,\"ticks\":\"\"}}}],\"scatterpolargl\":[{\"type\":\"scatterpolargl\",\"marker\":{\"colorbar\":{\"outlinewidth\":0,\"ticks\":\"\"}}}],\"bar\":[{\"error_x\":{\"color\":\"#f2f5fa\"},\"error_y\":{\"color\":\"#f2f5fa\"},\"marker\":{\"line\":{\"color\":\"rgb(17,17,17)\",\"width\":0.5},\"pattern\":{\"fillmode\":\"overlay\",\"size\":10,\"solidity\":0.2}},\"type\":\"bar\"}],\"scattergeo\":[{\"type\":\"scattergeo\",\"marker\":{\"colorbar\":{\"outlinewidth\":0,\"ticks\":\"\"}}}],\"scatterpolar\":[{\"type\":\"scatterpolar\",\"marker\":{\"colorbar\":{\"outlinewidth\":0,\"ticks\":\"\"}}}],\"histogram\":[{\"marker\":{\"pattern\":{\"fillmode\":\"overlay\",\"size\":10,\"solidity\":0.2}},\"type\":\"histogram\"}],\"scattergl\":[{\"marker\":{\"line\":{\"color\":\"#283442\"}},\"type\":\"scattergl\"}],\"scatter3d\":[{\"type\":\"scatter3d\",\"line\":{\"colorbar\":{\"outlinewidth\":0,\"ticks\":\"\"}},\"marker\":{\"colorbar\":{\"outlinewidth\":0,\"ticks\":\"\"}}}],\"scattermapbox\":[{\"type\":\"scattermapbox\",\"marker\":{\"colorbar\":{\"outlinewidth\":0,\"ticks\":\"\"}}}],\"scatterternary\":[{\"type\":\"scatterternary\",\"marker\":{\"colorbar\":{\"outlinewidth\":0,\"ticks\":\"\"}}}],\"scattercarpet\":[{\"type\":\"scattercarpet\",\"marker\":{\"colorbar\":{\"outlinewidth\":0,\"ticks\":\"\"}}}],\"carpet\":[{\"aaxis\":{\"endlinecolor\":\"#A2B1C6\",\"gridcolor\":\"#506784\",\"linecolor\":\"#506784\",\"minorgridcolor\":\"#506784\",\"startlinecolor\":\"#A2B1C6\"},\"baxis\":{\"endlinecolor\":\"#A2B1C6\",\"gridcolor\":\"#506784\",\"linecolor\":\"#506784\",\"minorgridcolor\":\"#506784\",\"startlinecolor\":\"#A2B1C6\"},\"type\":\"carpet\"}],\"table\":[{\"cells\":{\"fill\":{\"color\":\"#506784\"},\"line\":{\"color\":\"rgb(17,17,17)\"}},\"header\":{\"fill\":{\"color\":\"#2a3f5f\"},\"line\":{\"color\":\"rgb(17,17,17)\"}},\"type\":\"table\"}],\"barpolar\":[{\"marker\":{\"line\":{\"color\":\"rgb(17,17,17)\",\"width\":0.5},\"pattern\":{\"fillmode\":\"overlay\",\"size\":10,\"solidity\":0.2}},\"type\":\"barpolar\"}],\"pie\":[{\"automargin\":true,\"type\":\"pie\"}]},\"layout\":{\"autotypenumbers\":\"strict\",\"colorway\":[\"#636efa\",\"#EF553B\",\"#00cc96\",\"#ab63fa\",\"#FFA15A\",\"#19d3f3\",\"#FF6692\",\"#B6E880\",\"#FF97FF\",\"#FECB52\"],\"font\":{\"color\":\"#f2f5fa\"},\"hovermode\":\"closest\",\"hoverlabel\":{\"align\":\"left\"},\"paper_bgcolor\":\"rgb(17,17,17)\",\"plot_bgcolor\":\"rgb(17,17,17)\",\"polar\":{\"bgcolor\":\"rgb(17,17,17)\",\"angularaxis\":{\"gridcolor\":\"#506784\",\"linecolor\":\"#506784\",\"ticks\":\"\"},\"radialaxis\":{\"gridcolor\":\"#506784\",\"linecolor\":\"#506784\",\"ticks\":\"\"}},\"ternary\":{\"bgcolor\":\"rgb(17,17,17)\",\"aaxis\":{\"gridcolor\":\"#506784\",\"linecolor\":\"#506784\",\"ticks\":\"\"},\"baxis\":{\"gridcolor\":\"#506784\",\"linecolor\":\"#506784\",\"ticks\":\"\"},\"caxis\":{\"gridcolor\":\"#506784\",\"linecolor\":\"#506784\",\"ticks\":\"\"}},\"coloraxis\":{\"colorbar\":{\"outlinewidth\":0,\"ticks\":\"\"}},\"colorscale\":{\"sequential\":[[0.0,\"#0d0887\"],[0.1111111111111111,\"#46039f\"],[0.2222222222222222,\"#7201a8\"],[0.3333333333333333,\"#9c179e\"],[0.4444444444444444,\"#bd3786\"],[0.5555555555555556,\"#d8576b\"],[0.6666666666666666,\"#ed7953\"],[0.7777777777777778,\"#fb9f3a\"],[0.8888888888888888,\"#fdca26\"],[1.0,\"#f0f921\"]],\"sequentialminus\":[[0.0,\"#0d0887\"],[0.1111111111111111,\"#46039f\"],[0.2222222222222222,\"#7201a8\"],[0.3333333333333333,\"#9c179e\"],[0.4444444444444444,\"#bd3786\"],[0.5555555555555556,\"#d8576b\"],[0.6666666666666666,\"#ed7953\"],[0.7777777777777778,\"#fb9f3a\"],[0.8888888888888888,\"#fdca26\"],[1.0,\"#f0f921\"]],\"diverging\":[[0,\"#8e0152\"],[0.1,\"#c51b7d\"],[0.2,\"#de77ae\"],[0.3,\"#f1b6da\"],[0.4,\"#fde0ef\"],[0.5,\"#f7f7f7\"],[0.6,\"#e6f5d0\"],[0.7,\"#b8e186\"],[0.8,\"#7fbc41\"],[0.9,\"#4d9221\"],[1,\"#276419\"]]},\"xaxis\":{\"gridcolor\":\"#283442\",\"linecolor\":\"#506784\",\"ticks\":\"\",\"title\":{\"standoff\":15},\"zerolinecolor\":\"#283442\",\"automargin\":true,\"zerolinewidth\":2},\"yaxis\":{\"gridcolor\":\"#283442\",\"linecolor\":\"#506784\",\"ticks\":\"\",\"title\":{\"standoff\":15},\"zerolinecolor\":\"#283442\",\"automargin\":true,\"zerolinewidth\":2},\"scene\":{\"xaxis\":{\"backgroundcolor\":\"rgb(17,17,17)\",\"gridcolor\":\"#506784\",\"linecolor\":\"#506784\",\"showbackground\":true,\"ticks\":\"\",\"zerolinecolor\":\"#C8D4E3\",\"gridwidth\":2},\"yaxis\":{\"backgroundcolor\":\"rgb(17,17,17)\",\"gridcolor\":\"#506784\",\"linecolor\":\"#506784\",\"showbackground\":true,\"ticks\":\"\",\"zerolinecolor\":\"#C8D4E3\",\"gridwidth\":2},\"zaxis\":{\"backgroundcolor\":\"rgb(17,17,17)\",\"gridcolor\":\"#506784\",\"linecolor\":\"#506784\",\"showbackground\":true,\"ticks\":\"\",\"zerolinecolor\":\"#C8D4E3\",\"gridwidth\":2}},\"shapedefaults\":{\"line\":{\"color\":\"#f2f5fa\"}},\"annotationdefaults\":{\"arrowcolor\":\"#f2f5fa\",\"arrowhead\":0,\"arrowwidth\":1},\"geo\":{\"bgcolor\":\"rgb(17,17,17)\",\"landcolor\":\"rgb(17,17,17)\",\"subunitcolor\":\"#506784\",\"showland\":true,\"showlakes\":true,\"lakecolor\":\"rgb(17,17,17)\"},\"title\":{\"x\":0.05},\"updatemenudefaults\":{\"bgcolor\":\"#506784\",\"borderwidth\":0},\"sliderdefaults\":{\"bgcolor\":\"#C8D4E3\",\"borderwidth\":1,\"bordercolor\":\"rgb(17,17,17)\",\"tickwidth\":0},\"mapbox\":{\"style\":\"dark\"}}},\"scene\":{\"domain\":{\"x\":[0.0,1.0],\"y\":[0.0,1.0]},\"xaxis\":{\"title\":{\"text\":\"PCA1\"}},\"yaxis\":{\"title\":{\"text\":\"PCA2\"}},\"zaxis\":{\"title\":{\"text\":\"PCA3\"}}},\"legend\":{\"title\":{\"text\":\"playlist\"},\"tracegroupgap\":0},\"margin\":{\"t\":60}},                        {\"responsive\": true}                    ).then(function(){\n                            \nvar gd = document.getElementById('4a34acb1-44d6-401f-8719-059da83dea52');\nvar x = new MutationObserver(function (mutations, observer) {{\n        var display = window.getComputedStyle(gd).display;\n        if (!display || display === 'none') {{\n            console.log([gd, 'removed!']);\n            Plotly.purge(gd);\n            observer.disconnect();\n        }}\n}});\n\n// Listen for the removal of the full notebook cells\nvar notebookContainer = gd.closest('#notebook-container');\nif (notebookContainer) {{\n    x.observe(notebookContainer, {childList: true});\n}}\n\n// Listen for the clearing of the current output cell\nvar outputEl = gd.closest('.output');\nif (outputEl) {{\n    x.observe(outputEl, {childList: true});\n}}\n\n                        })                };                });            </script>        </div>"
     },
     "metadata": {},
     "output_type": "display_data"
    }
   ],
   "source": [
    "fig = px.scatter_3d(\n",
    "    named_pca_dataset,\n",
    "    x='PCA1',\n",
    "    y='PCA2',\n",
    "    z='PCA3',\n",
    "    hover_data=['artist', 'song_name'],\n",
    "    template='plotly_dark',\n",
    "    color='playlist'\n",
    ")\n",
    "fig.show()"
   ],
   "metadata": {
    "collapsed": false
   }
  },
  {
   "cell_type": "code",
   "execution_count": 29,
   "outputs": [
    {
     "name": "stderr",
     "output_type": "stream",
     "text": [
      "C:\\Users\\iancz\\.conda\\envs\\tf\\lib\\site-packages\\sklearn\\cluster\\_kmeans.py:870: FutureWarning:\n",
      "\n",
      "The default value of `n_init` will change from 10 to 'auto' in 1.4. Set the value of `n_init` explicitly to suppress the warning\n",
      "\n",
      "C:\\Users\\iancz\\.conda\\envs\\tf\\lib\\site-packages\\sklearn\\cluster\\_kmeans.py:1382: UserWarning:\n",
      "\n",
      "KMeans is known to have a memory leak on Windows with MKL, when there are less chunks than available threads. You can avoid it by setting the environment variable OMP_NUM_THREADS=1.\n",
      "\n"
     ]
    },
    {
     "data": {
      "text/plain": "                            song_name            artist      PCA1      PCA2  \\\n0                              Easily       Bruno Major  2.919897  4.809986   \n1                             Nothing       Bruno Major -1.205138  3.603775   \n2            The Most Beautiful Thing       Bruno Major  2.139175  2.246617   \n3   Lovesong (The Way) [feat. Bluets]      Charlie Burg  4.938939  1.078773   \n4            Best Part (feat. H.E.R.)     Daniel Caesar  2.275366 -0.046115   \n..                                ...               ...       ...       ...   \n70                        Crystallize  Thomas Bergersen  0.385836 -2.174820   \n71                             Retour     Tony Anderson -3.595409  1.454182   \n72                          Civilized          Voyageur  0.078215 -1.333591   \n73                       Fire & Stone          Voyageur -0.097318 -2.001859   \n74                      I Caught Fire          Voyageur -1.082503 -1.564449   \n\n        PCA3              playlist  cluster  \n0   1.916142  playlist-1-extracted        3  \n1   1.875852  playlist-1-extracted        4  \n2   3.158388  playlist-1-extracted        2  \n3  -2.432152  playlist-1-extracted        3  \n4  -0.827671  playlist-1-extracted        2  \n..       ...                   ...      ...  \n70  0.972916  playlist-4-extracted        2  \n71  4.389701  playlist-4-extracted        0  \n72  0.169466  playlist-4-extracted        2  \n73  0.937398  playlist-4-extracted        2  \n74 -0.733439  playlist-4-extracted        0  \n\n[75 rows x 7 columns]",
      "text/html": "<div>\n<style scoped>\n    .dataframe tbody tr th:only-of-type {\n        vertical-align: middle;\n    }\n\n    .dataframe tbody tr th {\n        vertical-align: top;\n    }\n\n    .dataframe thead th {\n        text-align: right;\n    }\n</style>\n<table border=\"1\" class=\"dataframe\">\n  <thead>\n    <tr style=\"text-align: right;\">\n      <th></th>\n      <th>song_name</th>\n      <th>artist</th>\n      <th>PCA1</th>\n      <th>PCA2</th>\n      <th>PCA3</th>\n      <th>playlist</th>\n      <th>cluster</th>\n    </tr>\n  </thead>\n  <tbody>\n    <tr>\n      <th>0</th>\n      <td>Easily</td>\n      <td>Bruno Major</td>\n      <td>2.919897</td>\n      <td>4.809986</td>\n      <td>1.916142</td>\n      <td>playlist-1-extracted</td>\n      <td>3</td>\n    </tr>\n    <tr>\n      <th>1</th>\n      <td>Nothing</td>\n      <td>Bruno Major</td>\n      <td>-1.205138</td>\n      <td>3.603775</td>\n      <td>1.875852</td>\n      <td>playlist-1-extracted</td>\n      <td>4</td>\n    </tr>\n    <tr>\n      <th>2</th>\n      <td>The Most Beautiful Thing</td>\n      <td>Bruno Major</td>\n      <td>2.139175</td>\n      <td>2.246617</td>\n      <td>3.158388</td>\n      <td>playlist-1-extracted</td>\n      <td>2</td>\n    </tr>\n    <tr>\n      <th>3</th>\n      <td>Lovesong (The Way) [feat. Bluets]</td>\n      <td>Charlie Burg</td>\n      <td>4.938939</td>\n      <td>1.078773</td>\n      <td>-2.432152</td>\n      <td>playlist-1-extracted</td>\n      <td>3</td>\n    </tr>\n    <tr>\n      <th>4</th>\n      <td>Best Part (feat. H.E.R.)</td>\n      <td>Daniel Caesar</td>\n      <td>2.275366</td>\n      <td>-0.046115</td>\n      <td>-0.827671</td>\n      <td>playlist-1-extracted</td>\n      <td>2</td>\n    </tr>\n    <tr>\n      <th>...</th>\n      <td>...</td>\n      <td>...</td>\n      <td>...</td>\n      <td>...</td>\n      <td>...</td>\n      <td>...</td>\n      <td>...</td>\n    </tr>\n    <tr>\n      <th>70</th>\n      <td>Crystallize</td>\n      <td>Thomas Bergersen</td>\n      <td>0.385836</td>\n      <td>-2.174820</td>\n      <td>0.972916</td>\n      <td>playlist-4-extracted</td>\n      <td>2</td>\n    </tr>\n    <tr>\n      <th>71</th>\n      <td>Retour</td>\n      <td>Tony Anderson</td>\n      <td>-3.595409</td>\n      <td>1.454182</td>\n      <td>4.389701</td>\n      <td>playlist-4-extracted</td>\n      <td>0</td>\n    </tr>\n    <tr>\n      <th>72</th>\n      <td>Civilized</td>\n      <td>Voyageur</td>\n      <td>0.078215</td>\n      <td>-1.333591</td>\n      <td>0.169466</td>\n      <td>playlist-4-extracted</td>\n      <td>2</td>\n    </tr>\n    <tr>\n      <th>73</th>\n      <td>Fire &amp; Stone</td>\n      <td>Voyageur</td>\n      <td>-0.097318</td>\n      <td>-2.001859</td>\n      <td>0.937398</td>\n      <td>playlist-4-extracted</td>\n      <td>2</td>\n    </tr>\n    <tr>\n      <th>74</th>\n      <td>I Caught Fire</td>\n      <td>Voyageur</td>\n      <td>-1.082503</td>\n      <td>-1.564449</td>\n      <td>-0.733439</td>\n      <td>playlist-4-extracted</td>\n      <td>0</td>\n    </tr>\n  </tbody>\n</table>\n<p>75 rows × 7 columns</p>\n</div>"
     },
     "execution_count": 29,
     "metadata": {},
     "output_type": "execute_result"
    }
   ],
   "source": [
    "kmeans = KMeans(n_clusters=5)\n",
    "kmeans.fit(pca_dataset)\n",
    "named_pca_dataset['cluster'] = kmeans.labels_\n",
    "named_pca_dataset"
   ],
   "metadata": {
    "collapsed": false
   }
  },
  {
   "cell_type": "code",
   "execution_count": 30,
   "outputs": [
    {
     "data": {
      "application/vnd.plotly.v1+json": {
       "data": [
        {
         "customdata": [
          [
           "Bruno Major",
           "Easily"
          ],
          [
           "Bruno Major",
           "Nothing"
          ],
          [
           "Bruno Major",
           "The Most Beautiful Thing"
          ],
          [
           "Charlie Burg",
           "Lovesong (The Way) [feat. Bluets]"
          ],
          [
           "Daniel Caesar",
           "Best Part (feat. H.E.R.)"
          ],
          [
           "Daniel Caesar",
           "Japanese Denim"
          ],
          [
           "Daniel Caesar",
           "Streetcar"
          ],
          [
           "Daniel Caesar",
           "We Find Love"
          ],
          [
           "FINNEAS",
           "Let's Fall in Love for the Night"
          ],
          [
           "Jeremy Zucker",
           "this is how you fall in love"
          ],
          [
           "John Mayer",
           "You're Gonna Live Forever in Me"
          ],
          [
           "John Park",
           "Sipping My life (Bonus Track)"
          ],
          [
           "Joji",
           "Glimpse of Us"
          ],
          [
           "Kamal.",
           "blue"
          ],
          [
           "Luke Chiang",
           "Shouldn't Be"
          ],
          [
           "Lyn Lapid",
           "In My Mind"
          ],
          [
           "Mac Ayres",
           "Easy"
          ],
          [
           "Paul Partohap",
           "P.S. I LOVE YOU"
          ],
          [
           "Rex Orange County",
           "Always"
          ],
          [
           "Rex Orange County",
           "Happiness"
          ],
          [
           "Rex Orange County",
           "Pluto Projector"
          ],
          [
           "Rex Orange County",
           "Untitled"
          ],
          [
           "Sleeping At Last",
           "April 10, 2019- Powehi - Image of a Black Hole"
          ],
          [
           "Sleeping At Last",
           "August 12, 2018- Perseid Meteor Shower"
          ],
          [
           "Sleeping At Last",
           "August 21, 2017- Total Solar Eclipse"
          ],
          [
           "Sleeping At Last",
           "December 13, 2017- Geminid Meteor Shower"
          ],
          [
           "Sleeping At Last",
           "December 17, 2018- Farout"
          ],
          [
           "Sleeping At Last",
           "December 21, 2020- The Great Conjunction"
          ],
          [
           "Sleeping At Last",
           "December 25, 2021- Webb Space Telescope - Launch"
          ],
          [
           "Sleeping At Last",
           "February 1, 2023- C2022 E3 - Comet Ztf"
          ],
          [
           "Sleeping At Last",
           "February 13, 2019- Opportunity - Mission Complete"
          ],
          [
           "Sleeping At Last",
           "February 18, 2021- Perseverance - Mars Landing"
          ],
          [
           "Sleeping At Last",
           "January 30, 2020- Spitzer - Final Voyage"
          ],
          [
           "Sleeping At Last",
           "January 31, 2018- Super Blue Blood Moon"
          ],
          [
           "Sleeping At Last",
           "July 22, 2020- C  2020 F3 - Comet Neowise"
          ],
          [
           "Sleeping At Last",
           "July 27, 2018- Total Lunar Eclipse"
          ],
          [
           "Sleeping At Last",
           "July 4, 2020- Aphelion"
          ],
          [
           "Sleeping At Last",
           "June 24, 2022- Parade of Planets"
          ],
          [
           "Sleeping At Last",
           "June 30, 2018- Pds 70b (Birth of a Planet)"
          ],
          [
           "Sleeping At Last",
           "October 30, 2018- Kepler - Goodnight"
          ],
          [
           "Sleeping At Last",
           "September 15, 2017- Cassini - The Grand Finale"
          ],
          [
           "Antônio Carlos Jobim",
           "Desafinado"
          ],
          [
           "Antônio Carlos Jobim",
           "The Girl From Ipanema"
          ],
          [
           "Bill Evans Trio",
           "Waltz for Debby (take 1) - Alternate Take"
          ],
          [
           "Bud Powell",
           "I'll Keep Loving You"
          ],
          [
           "Bud Powell",
           "It Could Happen To You - Rudy Van Gelder Edition  Remastered 1998"
          ],
          [
           "Henry Mancini",
           "Dear Heart"
          ],
          [
           "John Coltrane",
           "A Love Supreme, Pt. I – Acknowledgement"
          ],
          [
           "Miles Davis",
           "So What (feat. John Coltrane, Cannonball Adderley & Bill Evans)"
          ],
          [
           "Ornette Coleman",
           "Lonely Woman"
          ],
          [
           "Sarah Vaughan",
           "Misty"
          ],
          [
           "Thelonious Monk",
           "'Round Midnight"
          ],
          [
           "Thelonious Monk",
           "Honeysuckle Rose"
          ],
          [
           "Tony Bennett",
           "(I Left My Heart) In San Francisco"
          ],
          [
           "Boundary Run",
           "Beggars"
          ],
          [
           "CHPTRS",
           "At Dawn"
          ],
          [
           "CHPTRS",
           "Last Chance (Alternate Version)"
          ],
          [
           "CHPTRS",
           "Obvious (Alternate Version)"
          ],
          [
           "Freya Ridings",
           "Love Is Fire"
          ],
          [
           "HAEVN",
           "Where the Heart Is - Single Version"
          ],
          [
           "Lights & Motion",
           "Anomaly"
          ],
          [
           "ODESZA",
           "A Moment Apart"
          ],
          [
           "One Hundred Years",
           "Reborn"
          ],
          [
           "Roary",
           "Guardians"
          ],
          [
           "Roary",
           "Motion"
          ],
          [
           "Roary",
           "Breathe Again"
          ],
          [
           "Secret Nation",
           "Love You Well"
          ],
          [
           "sød ven",
           "mystery"
          ],
          [
           "The Light the Heat",
           "Afterlight"
          ],
          [
           "The Light the Heat",
           "Feel Alive"
          ],
          [
           "Thomas Bergersen",
           "Crystallize"
          ],
          [
           "Tony Anderson",
           "Retour"
          ],
          [
           "Voyageur",
           "Civilized"
          ],
          [
           "Voyageur",
           "Fire & Stone"
          ],
          [
           "Voyageur",
           "I Caught Fire"
          ]
         ],
         "hovertemplate": "PCA1=%{x}<br>PCA2=%{y}<br>PCA3=%{z}<br>artist=%{customdata[0]}<br>song_name=%{customdata[1]}<br>cluster=%{marker.color}<extra></extra>",
         "legendgroup": "",
         "marker": {
          "color": [
           3,
           4,
           2,
           3,
           2,
           1,
           1,
           2,
           3,
           3,
           0,
           2,
           2,
           3,
           3,
           2,
           3,
           3,
           3,
           2,
           3,
           3,
           4,
           0,
           0,
           0,
           0,
           0,
           0,
           0,
           0,
           0,
           4,
           0,
           0,
           0,
           0,
           0,
           4,
           4,
           0,
           2,
           2,
           2,
           0,
           0,
           0,
           1,
           1,
           1,
           0,
           2,
           2,
           2,
           0,
           2,
           2,
           2,
           1,
           2,
           0,
           1,
           4,
           0,
           2,
           2,
           2,
           2,
           1,
           1,
           2,
           0,
           2,
           2,
           0
          ],
          "coloraxis": "coloraxis",
          "symbol": "circle"
         },
         "mode": "markers",
         "name": "",
         "scene": "scene",
         "showlegend": false,
         "x": [
          2.919897442557078,
          -1.205138466927359,
          2.139175473462971,
          4.9389385261940895,
          2.275366483872993,
          4.128504153309238,
          2.645350118909599,
          0.41865269834592245,
          3.284523224200287,
          2.2392490827969445,
          -1.7683547527590953,
          1.548721184516819,
          1.1114866276536366,
          3.5925660509729416,
          2.2100953759112474,
          1.0165302988451883,
          2.871704583766433,
          0.8879149844705821,
          2.156769418302611,
          1.354156025505273,
          0.2980421401493835,
          3.207693272237201,
          -3.7873199002338547,
          -2.8368599879810183,
          -3.744593386898355,
          -4.227648380471238,
          -3.082211188251799,
          -4.239822405715811,
          -1.3343118044217959,
          -2.9074859106951494,
          -2.34245704737218,
          -4.251205559816063,
          -3.173214912196978,
          -2.9080639446960883,
          -2.646000840643729,
          -4.063601384391101,
          -3.344005393136189,
          -2.4829307972861705,
          -1.925907955663537,
          -1.3542439442385892,
          -2.5037006413764664,
          2.0992580701931516,
          2.479279954053973,
          0.8921397039615384,
          -4.2448881442460555,
          -3.7332168992893373,
          -1.5877094166275285,
          4.244740267279029,
          3.2872995206561053,
          5.231505401054101,
          -0.9991064308988553,
          -0.351400518905681,
          2.921600919605539,
          0.5025362329607841,
          -1.3193134485062963,
          1.1774999928730068,
          -0.7359948991381715,
          -0.6224936066892335,
          2.886759188748384,
          2.2293183000775776,
          -2.9408225702800457,
          1.2679335692885578,
          -2.8575043984856303,
          -2.1716183518362024,
          1.3432934303913726,
          1.0437340743853825,
          1.2921812139929572,
          1.575560491551125,
          3.1366704053113366,
          3.1476793540204113,
          0.38583558665633744,
          -3.595409141913977,
          0.07821453468322338,
          -0.09731777053798545,
          -1.0825031751967646
         ],
         "y": [
          4.80998557861646,
          3.603774630180503,
          2.2466165280322326,
          1.0787731925237378,
          -0.04611487894067814,
          0.1161088989506067,
          -0.9989350660719026,
          0.003959414334340413,
          2.7910366355620972,
          2.3723150631987773,
          0.29480763835181917,
          0.13673607569497465,
          -0.10422808394615629,
          5.303299147620596,
          2.3715721815606607,
          0.3954903023225221,
          3.6036811317844064,
          1.9564118676563496,
          1.3300114642214589,
          0.3579735896789978,
          2.5870672839094313,
          3.0514788725367263,
          4.423585869208483,
          -1.5872652601134676,
          -1.4676036390501284,
          -0.8562150941382597,
          -0.6645504847678724,
          -1.0975801698939438,
          -0.7119498926927678,
          -0.22722162099225562,
          -0.7055878961498725,
          0.6815182121622562,
          1.847344122322291,
          -0.8736732413932693,
          0.25952348161479966,
          -0.23553170654076847,
          1.4128433482036418,
          -0.3322207900709863,
          2.2287889297037915,
          1.6258469523719987,
          -0.6007902728114533,
          -0.610357081255341,
          0.8619009813134678,
          -0.1671725423181529,
          -1.7433946562842644,
          -0.4560498415253619,
          -2.528857097580935,
          -4.5418218565553214,
          -2.4070195043309672,
          -4.851521049286934,
          -1.3142499491035757,
          -2.095624260452146,
          0.008970150905684978,
          0.1443199345178632,
          0.13423597323335057,
          -0.9637753353935214,
          -0.34937645907711984,
          -0.34691482471788,
          -0.9407851713010934,
          1.152792000285173,
          -0.7104957273998466,
          -2.825017198419962,
          1.3864105916167762,
          0.01739860420586462,
          -1.1531244104163492,
          -0.880615841011036,
          -1.9335442567235297,
          -1.304288929082047,
          -3.2833101418878945,
          -3.059258069875781,
          -2.1748195210102823,
          1.4541822239498796,
          -1.3335910850003019,
          -2.001858842220498,
          -1.5644491225480806
         ],
         "z": [
          1.9161422993245498,
          1.8758520593790988,
          3.158387531719379,
          -2.432151739667434,
          -0.8276712367410616,
          -0.22319505272625503,
          -2.7597001122912608,
          0.9582050833679875,
          -0.596782262646659,
          0.894577752327584,
          0.1481758362035825,
          1.3023985904456694,
          1.1097558794124804,
          -0.15595069005258327,
          -0.1619336229080141,
          -0.7832876722646961,
          0.30898272101836927,
          -2.4413728932392837,
          -1.2762989892055236,
          -1.4565472160603243,
          -0.20413639662794517,
          -4.044395108033388,
          -3.9784268813386605,
          -0.5653648912984206,
          -0.8332012114190092,
          -1.0981479896716468,
          -0.8358777944523614,
          -0.27417397694715184,
          0.03604809535037236,
          1.7614924722385301,
          -0.1534132301812014,
          0.44696069611704736,
          -1.052626869831537,
          0.11200547522637459,
          1.2502331323749063,
          -1.2047064897344748,
          0.5991674928725569,
          0.869037847185924,
          -2.05585354480415,
          -0.5418729199114637,
          0.24376129219516132,
          0.5135299671409804,
          1.7471862821632818,
          2.746048667840422,
          -1.0444363116142983,
          1.0274268570401937,
          -2.444065020993102,
          -0.9928821242306571,
          0.08655141039356945,
          -1.4387695992555583,
          -0.5932147374584043,
          0.024126709724696976,
          1.4549914439833374,
          -0.6977502293583678,
          0.3048435474971833,
          0.6925200073629129,
          0.9934462349404642,
          0.8956735030905377,
          -0.3084267931393172,
          2.395054216669881,
          1.3841157706644651,
          -2.172388386916083,
          -3.4384310940738314,
          1.0472324358866245,
          1.6910147389739232,
          -0.2693285682208501,
          1.9235982532311893,
          0.9203021257658135,
          -0.09027447919745524,
          0.8721687480239068,
          0.9729162353514436,
          4.3897005840242524,
          0.16946568576960921,
          0.9373976102141206,
          -0.7334391559999534
         ],
         "type": "scatter3d"
        }
       ],
       "layout": {
        "template": {
         "data": {
          "histogram2dcontour": [
           {
            "type": "histogram2dcontour",
            "colorbar": {
             "outlinewidth": 0,
             "ticks": ""
            },
            "colorscale": [
             [
              0.0,
              "#0d0887"
             ],
             [
              0.1111111111111111,
              "#46039f"
             ],
             [
              0.2222222222222222,
              "#7201a8"
             ],
             [
              0.3333333333333333,
              "#9c179e"
             ],
             [
              0.4444444444444444,
              "#bd3786"
             ],
             [
              0.5555555555555556,
              "#d8576b"
             ],
             [
              0.6666666666666666,
              "#ed7953"
             ],
             [
              0.7777777777777778,
              "#fb9f3a"
             ],
             [
              0.8888888888888888,
              "#fdca26"
             ],
             [
              1.0,
              "#f0f921"
             ]
            ]
           }
          ],
          "choropleth": [
           {
            "type": "choropleth",
            "colorbar": {
             "outlinewidth": 0,
             "ticks": ""
            }
           }
          ],
          "histogram2d": [
           {
            "type": "histogram2d",
            "colorbar": {
             "outlinewidth": 0,
             "ticks": ""
            },
            "colorscale": [
             [
              0.0,
              "#0d0887"
             ],
             [
              0.1111111111111111,
              "#46039f"
             ],
             [
              0.2222222222222222,
              "#7201a8"
             ],
             [
              0.3333333333333333,
              "#9c179e"
             ],
             [
              0.4444444444444444,
              "#bd3786"
             ],
             [
              0.5555555555555556,
              "#d8576b"
             ],
             [
              0.6666666666666666,
              "#ed7953"
             ],
             [
              0.7777777777777778,
              "#fb9f3a"
             ],
             [
              0.8888888888888888,
              "#fdca26"
             ],
             [
              1.0,
              "#f0f921"
             ]
            ]
           }
          ],
          "heatmap": [
           {
            "type": "heatmap",
            "colorbar": {
             "outlinewidth": 0,
             "ticks": ""
            },
            "colorscale": [
             [
              0.0,
              "#0d0887"
             ],
             [
              0.1111111111111111,
              "#46039f"
             ],
             [
              0.2222222222222222,
              "#7201a8"
             ],
             [
              0.3333333333333333,
              "#9c179e"
             ],
             [
              0.4444444444444444,
              "#bd3786"
             ],
             [
              0.5555555555555556,
              "#d8576b"
             ],
             [
              0.6666666666666666,
              "#ed7953"
             ],
             [
              0.7777777777777778,
              "#fb9f3a"
             ],
             [
              0.8888888888888888,
              "#fdca26"
             ],
             [
              1.0,
              "#f0f921"
             ]
            ]
           }
          ],
          "heatmapgl": [
           {
            "type": "heatmapgl",
            "colorbar": {
             "outlinewidth": 0,
             "ticks": ""
            },
            "colorscale": [
             [
              0.0,
              "#0d0887"
             ],
             [
              0.1111111111111111,
              "#46039f"
             ],
             [
              0.2222222222222222,
              "#7201a8"
             ],
             [
              0.3333333333333333,
              "#9c179e"
             ],
             [
              0.4444444444444444,
              "#bd3786"
             ],
             [
              0.5555555555555556,
              "#d8576b"
             ],
             [
              0.6666666666666666,
              "#ed7953"
             ],
             [
              0.7777777777777778,
              "#fb9f3a"
             ],
             [
              0.8888888888888888,
              "#fdca26"
             ],
             [
              1.0,
              "#f0f921"
             ]
            ]
           }
          ],
          "contourcarpet": [
           {
            "type": "contourcarpet",
            "colorbar": {
             "outlinewidth": 0,
             "ticks": ""
            }
           }
          ],
          "contour": [
           {
            "type": "contour",
            "colorbar": {
             "outlinewidth": 0,
             "ticks": ""
            },
            "colorscale": [
             [
              0.0,
              "#0d0887"
             ],
             [
              0.1111111111111111,
              "#46039f"
             ],
             [
              0.2222222222222222,
              "#7201a8"
             ],
             [
              0.3333333333333333,
              "#9c179e"
             ],
             [
              0.4444444444444444,
              "#bd3786"
             ],
             [
              0.5555555555555556,
              "#d8576b"
             ],
             [
              0.6666666666666666,
              "#ed7953"
             ],
             [
              0.7777777777777778,
              "#fb9f3a"
             ],
             [
              0.8888888888888888,
              "#fdca26"
             ],
             [
              1.0,
              "#f0f921"
             ]
            ]
           }
          ],
          "surface": [
           {
            "type": "surface",
            "colorbar": {
             "outlinewidth": 0,
             "ticks": ""
            },
            "colorscale": [
             [
              0.0,
              "#0d0887"
             ],
             [
              0.1111111111111111,
              "#46039f"
             ],
             [
              0.2222222222222222,
              "#7201a8"
             ],
             [
              0.3333333333333333,
              "#9c179e"
             ],
             [
              0.4444444444444444,
              "#bd3786"
             ],
             [
              0.5555555555555556,
              "#d8576b"
             ],
             [
              0.6666666666666666,
              "#ed7953"
             ],
             [
              0.7777777777777778,
              "#fb9f3a"
             ],
             [
              0.8888888888888888,
              "#fdca26"
             ],
             [
              1.0,
              "#f0f921"
             ]
            ]
           }
          ],
          "mesh3d": [
           {
            "type": "mesh3d",
            "colorbar": {
             "outlinewidth": 0,
             "ticks": ""
            }
           }
          ],
          "scatter": [
           {
            "marker": {
             "line": {
              "color": "#283442"
             }
            },
            "type": "scatter"
           }
          ],
          "parcoords": [
           {
            "type": "parcoords",
            "line": {
             "colorbar": {
              "outlinewidth": 0,
              "ticks": ""
             }
            }
           }
          ],
          "scatterpolargl": [
           {
            "type": "scatterpolargl",
            "marker": {
             "colorbar": {
              "outlinewidth": 0,
              "ticks": ""
             }
            }
           }
          ],
          "bar": [
           {
            "error_x": {
             "color": "#f2f5fa"
            },
            "error_y": {
             "color": "#f2f5fa"
            },
            "marker": {
             "line": {
              "color": "rgb(17,17,17)",
              "width": 0.5
             },
             "pattern": {
              "fillmode": "overlay",
              "size": 10,
              "solidity": 0.2
             }
            },
            "type": "bar"
           }
          ],
          "scattergeo": [
           {
            "type": "scattergeo",
            "marker": {
             "colorbar": {
              "outlinewidth": 0,
              "ticks": ""
             }
            }
           }
          ],
          "scatterpolar": [
           {
            "type": "scatterpolar",
            "marker": {
             "colorbar": {
              "outlinewidth": 0,
              "ticks": ""
             }
            }
           }
          ],
          "histogram": [
           {
            "marker": {
             "pattern": {
              "fillmode": "overlay",
              "size": 10,
              "solidity": 0.2
             }
            },
            "type": "histogram"
           }
          ],
          "scattergl": [
           {
            "marker": {
             "line": {
              "color": "#283442"
             }
            },
            "type": "scattergl"
           }
          ],
          "scatter3d": [
           {
            "type": "scatter3d",
            "line": {
             "colorbar": {
              "outlinewidth": 0,
              "ticks": ""
             }
            },
            "marker": {
             "colorbar": {
              "outlinewidth": 0,
              "ticks": ""
             }
            }
           }
          ],
          "scattermapbox": [
           {
            "type": "scattermapbox",
            "marker": {
             "colorbar": {
              "outlinewidth": 0,
              "ticks": ""
             }
            }
           }
          ],
          "scatterternary": [
           {
            "type": "scatterternary",
            "marker": {
             "colorbar": {
              "outlinewidth": 0,
              "ticks": ""
             }
            }
           }
          ],
          "scattercarpet": [
           {
            "type": "scattercarpet",
            "marker": {
             "colorbar": {
              "outlinewidth": 0,
              "ticks": ""
             }
            }
           }
          ],
          "carpet": [
           {
            "aaxis": {
             "endlinecolor": "#A2B1C6",
             "gridcolor": "#506784",
             "linecolor": "#506784",
             "minorgridcolor": "#506784",
             "startlinecolor": "#A2B1C6"
            },
            "baxis": {
             "endlinecolor": "#A2B1C6",
             "gridcolor": "#506784",
             "linecolor": "#506784",
             "minorgridcolor": "#506784",
             "startlinecolor": "#A2B1C6"
            },
            "type": "carpet"
           }
          ],
          "table": [
           {
            "cells": {
             "fill": {
              "color": "#506784"
             },
             "line": {
              "color": "rgb(17,17,17)"
             }
            },
            "header": {
             "fill": {
              "color": "#2a3f5f"
             },
             "line": {
              "color": "rgb(17,17,17)"
             }
            },
            "type": "table"
           }
          ],
          "barpolar": [
           {
            "marker": {
             "line": {
              "color": "rgb(17,17,17)",
              "width": 0.5
             },
             "pattern": {
              "fillmode": "overlay",
              "size": 10,
              "solidity": 0.2
             }
            },
            "type": "barpolar"
           }
          ],
          "pie": [
           {
            "automargin": true,
            "type": "pie"
           }
          ]
         },
         "layout": {
          "autotypenumbers": "strict",
          "colorway": [
           "#636efa",
           "#EF553B",
           "#00cc96",
           "#ab63fa",
           "#FFA15A",
           "#19d3f3",
           "#FF6692",
           "#B6E880",
           "#FF97FF",
           "#FECB52"
          ],
          "font": {
           "color": "#f2f5fa"
          },
          "hovermode": "closest",
          "hoverlabel": {
           "align": "left"
          },
          "paper_bgcolor": "rgb(17,17,17)",
          "plot_bgcolor": "rgb(17,17,17)",
          "polar": {
           "bgcolor": "rgb(17,17,17)",
           "angularaxis": {
            "gridcolor": "#506784",
            "linecolor": "#506784",
            "ticks": ""
           },
           "radialaxis": {
            "gridcolor": "#506784",
            "linecolor": "#506784",
            "ticks": ""
           }
          },
          "ternary": {
           "bgcolor": "rgb(17,17,17)",
           "aaxis": {
            "gridcolor": "#506784",
            "linecolor": "#506784",
            "ticks": ""
           },
           "baxis": {
            "gridcolor": "#506784",
            "linecolor": "#506784",
            "ticks": ""
           },
           "caxis": {
            "gridcolor": "#506784",
            "linecolor": "#506784",
            "ticks": ""
           }
          },
          "coloraxis": {
           "colorbar": {
            "outlinewidth": 0,
            "ticks": ""
           }
          },
          "colorscale": {
           "sequential": [
            [
             0.0,
             "#0d0887"
            ],
            [
             0.1111111111111111,
             "#46039f"
            ],
            [
             0.2222222222222222,
             "#7201a8"
            ],
            [
             0.3333333333333333,
             "#9c179e"
            ],
            [
             0.4444444444444444,
             "#bd3786"
            ],
            [
             0.5555555555555556,
             "#d8576b"
            ],
            [
             0.6666666666666666,
             "#ed7953"
            ],
            [
             0.7777777777777778,
             "#fb9f3a"
            ],
            [
             0.8888888888888888,
             "#fdca26"
            ],
            [
             1.0,
             "#f0f921"
            ]
           ],
           "sequentialminus": [
            [
             0.0,
             "#0d0887"
            ],
            [
             0.1111111111111111,
             "#46039f"
            ],
            [
             0.2222222222222222,
             "#7201a8"
            ],
            [
             0.3333333333333333,
             "#9c179e"
            ],
            [
             0.4444444444444444,
             "#bd3786"
            ],
            [
             0.5555555555555556,
             "#d8576b"
            ],
            [
             0.6666666666666666,
             "#ed7953"
            ],
            [
             0.7777777777777778,
             "#fb9f3a"
            ],
            [
             0.8888888888888888,
             "#fdca26"
            ],
            [
             1.0,
             "#f0f921"
            ]
           ],
           "diverging": [
            [
             0,
             "#8e0152"
            ],
            [
             0.1,
             "#c51b7d"
            ],
            [
             0.2,
             "#de77ae"
            ],
            [
             0.3,
             "#f1b6da"
            ],
            [
             0.4,
             "#fde0ef"
            ],
            [
             0.5,
             "#f7f7f7"
            ],
            [
             0.6,
             "#e6f5d0"
            ],
            [
             0.7,
             "#b8e186"
            ],
            [
             0.8,
             "#7fbc41"
            ],
            [
             0.9,
             "#4d9221"
            ],
            [
             1,
             "#276419"
            ]
           ]
          },
          "xaxis": {
           "gridcolor": "#283442",
           "linecolor": "#506784",
           "ticks": "",
           "title": {
            "standoff": 15
           },
           "zerolinecolor": "#283442",
           "automargin": true,
           "zerolinewidth": 2
          },
          "yaxis": {
           "gridcolor": "#283442",
           "linecolor": "#506784",
           "ticks": "",
           "title": {
            "standoff": 15
           },
           "zerolinecolor": "#283442",
           "automargin": true,
           "zerolinewidth": 2
          },
          "scene": {
           "xaxis": {
            "backgroundcolor": "rgb(17,17,17)",
            "gridcolor": "#506784",
            "linecolor": "#506784",
            "showbackground": true,
            "ticks": "",
            "zerolinecolor": "#C8D4E3",
            "gridwidth": 2
           },
           "yaxis": {
            "backgroundcolor": "rgb(17,17,17)",
            "gridcolor": "#506784",
            "linecolor": "#506784",
            "showbackground": true,
            "ticks": "",
            "zerolinecolor": "#C8D4E3",
            "gridwidth": 2
           },
           "zaxis": {
            "backgroundcolor": "rgb(17,17,17)",
            "gridcolor": "#506784",
            "linecolor": "#506784",
            "showbackground": true,
            "ticks": "",
            "zerolinecolor": "#C8D4E3",
            "gridwidth": 2
           }
          },
          "shapedefaults": {
           "line": {
            "color": "#f2f5fa"
           }
          },
          "annotationdefaults": {
           "arrowcolor": "#f2f5fa",
           "arrowhead": 0,
           "arrowwidth": 1
          },
          "geo": {
           "bgcolor": "rgb(17,17,17)",
           "landcolor": "rgb(17,17,17)",
           "subunitcolor": "#506784",
           "showland": true,
           "showlakes": true,
           "lakecolor": "rgb(17,17,17)"
          },
          "title": {
           "x": 0.05
          },
          "updatemenudefaults": {
           "bgcolor": "#506784",
           "borderwidth": 0
          },
          "sliderdefaults": {
           "bgcolor": "#C8D4E3",
           "borderwidth": 1,
           "bordercolor": "rgb(17,17,17)",
           "tickwidth": 0
          },
          "mapbox": {
           "style": "dark"
          }
         }
        },
        "scene": {
         "domain": {
          "x": [
           0.0,
           1.0
          ],
          "y": [
           0.0,
           1.0
          ]
         },
         "xaxis": {
          "title": {
           "text": "PCA1"
          }
         },
         "yaxis": {
          "title": {
           "text": "PCA2"
          }
         },
         "zaxis": {
          "title": {
           "text": "PCA3"
          }
         }
        },
        "coloraxis": {
         "colorbar": {
          "title": {
           "text": "cluster"
          }
         },
         "colorscale": [
          [
           0.0,
           "#0d0887"
          ],
          [
           0.1111111111111111,
           "#46039f"
          ],
          [
           0.2222222222222222,
           "#7201a8"
          ],
          [
           0.3333333333333333,
           "#9c179e"
          ],
          [
           0.4444444444444444,
           "#bd3786"
          ],
          [
           0.5555555555555556,
           "#d8576b"
          ],
          [
           0.6666666666666666,
           "#ed7953"
          ],
          [
           0.7777777777777778,
           "#fb9f3a"
          ],
          [
           0.8888888888888888,
           "#fdca26"
          ],
          [
           1.0,
           "#f0f921"
          ]
         ]
        },
        "legend": {
         "tracegroupgap": 0
        },
        "margin": {
         "t": 60
        }
       },
       "config": {
        "plotlyServerURL": "https://plot.ly"
       }
      },
      "text/html": "<div>                            <div id=\"46e47976-dc99-4ff7-8fb8-275272c50f26\" class=\"plotly-graph-div\" style=\"height:525px; width:100%;\"></div>            <script type=\"text/javascript\">                require([\"plotly\"], function(Plotly) {                    window.PLOTLYENV=window.PLOTLYENV || {};                                    if (document.getElementById(\"46e47976-dc99-4ff7-8fb8-275272c50f26\")) {                    Plotly.newPlot(                        \"46e47976-dc99-4ff7-8fb8-275272c50f26\",                        [{\"customdata\":[[\"Bruno Major\",\"Easily\"],[\"Bruno Major\",\"Nothing\"],[\"Bruno Major\",\"The Most Beautiful Thing\"],[\"Charlie Burg\",\"Lovesong (The Way) [feat. Bluets]\"],[\"Daniel Caesar\",\"Best Part (feat. H.E.R.)\"],[\"Daniel Caesar\",\"Japanese Denim\"],[\"Daniel Caesar\",\"Streetcar\"],[\"Daniel Caesar\",\"We Find Love\"],[\"FINNEAS\",\"Let's Fall in Love for the Night\"],[\"Jeremy Zucker\",\"this is how you fall in love\"],[\"John Mayer\",\"You're Gonna Live Forever in Me\"],[\"John Park\",\"Sipping My life (Bonus Track)\"],[\"Joji\",\"Glimpse of Us\"],[\"Kamal.\",\"blue\"],[\"Luke Chiang\",\"Shouldn't Be\"],[\"Lyn Lapid\",\"In My Mind\"],[\"Mac Ayres\",\"Easy\"],[\"Paul Partohap\",\"P.S. I LOVE YOU\"],[\"Rex Orange County\",\"Always\"],[\"Rex Orange County\",\"Happiness\"],[\"Rex Orange County\",\"Pluto Projector\"],[\"Rex Orange County\",\"Untitled\"],[\"Sleeping At Last\",\"April 10, 2019- Powehi - Image of a Black Hole\"],[\"Sleeping At Last\",\"August 12, 2018- Perseid Meteor Shower\"],[\"Sleeping At Last\",\"August 21, 2017- Total Solar Eclipse\"],[\"Sleeping At Last\",\"December 13, 2017- Geminid Meteor Shower\"],[\"Sleeping At Last\",\"December 17, 2018- Farout\"],[\"Sleeping At Last\",\"December 21, 2020- The Great Conjunction\"],[\"Sleeping At Last\",\"December 25, 2021- Webb Space Telescope - Launch\"],[\"Sleeping At Last\",\"February 1, 2023- C2022 E3 - Comet Ztf\"],[\"Sleeping At Last\",\"February 13, 2019- Opportunity - Mission Complete\"],[\"Sleeping At Last\",\"February 18, 2021- Perseverance - Mars Landing\"],[\"Sleeping At Last\",\"January 30, 2020- Spitzer - Final Voyage\"],[\"Sleeping At Last\",\"January 31, 2018- Super Blue Blood Moon\"],[\"Sleeping At Last\",\"July 22, 2020- C  2020 F3 - Comet Neowise\"],[\"Sleeping At Last\",\"July 27, 2018- Total Lunar Eclipse\"],[\"Sleeping At Last\",\"July 4, 2020- Aphelion\"],[\"Sleeping At Last\",\"June 24, 2022- Parade of Planets\"],[\"Sleeping At Last\",\"June 30, 2018- Pds 70b (Birth of a Planet)\"],[\"Sleeping At Last\",\"October 30, 2018- Kepler - Goodnight\"],[\"Sleeping At Last\",\"September 15, 2017- Cassini - The Grand Finale\"],[\"Ant\\u00f4nio Carlos Jobim\",\"Desafinado\"],[\"Ant\\u00f4nio Carlos Jobim\",\"The Girl From Ipanema\"],[\"Bill Evans Trio\",\"Waltz for Debby (take 1) - Alternate Take\"],[\"Bud Powell\",\"I'll Keep Loving You\"],[\"Bud Powell\",\"It Could Happen To You - Rudy Van Gelder Edition  Remastered 1998\"],[\"Henry Mancini\",\"Dear Heart\"],[\"John Coltrane\",\"A Love Supreme, Pt. I \\u2013 Acknowledgement\"],[\"Miles Davis\",\"So What (feat. John Coltrane, Cannonball Adderley & Bill Evans)\"],[\"Ornette Coleman\",\"Lonely Woman\"],[\"Sarah Vaughan\",\"Misty\"],[\"Thelonious Monk\",\"'Round Midnight\"],[\"Thelonious Monk\",\"Honeysuckle Rose\"],[\"Tony Bennett\",\"(I Left My Heart) In San Francisco\"],[\"Boundary Run\",\"Beggars\"],[\"CHPTRS\",\"At Dawn\"],[\"CHPTRS\",\"Last Chance (Alternate Version)\"],[\"CHPTRS\",\"Obvious (Alternate Version)\"],[\"Freya Ridings\",\"Love Is Fire\"],[\"HAEVN\",\"Where the Heart Is - Single Version\"],[\"Lights & Motion\",\"Anomaly\"],[\"ODESZA\",\"A Moment Apart\"],[\"One Hundred Years\",\"Reborn\"],[\"Roary\",\"Guardians\"],[\"Roary\",\"Motion\"],[\"Roary\",\"Breathe Again\"],[\"Secret Nation\",\"Love You Well\"],[\"s\\u00f8d ven\",\"mystery\"],[\"The Light the Heat\",\"Afterlight\"],[\"The Light the Heat\",\"Feel Alive\"],[\"Thomas Bergersen\",\"Crystallize\"],[\"Tony Anderson\",\"Retour\"],[\"Voyageur\",\"Civilized\"],[\"Voyageur\",\"Fire & Stone\"],[\"Voyageur\",\"I Caught Fire\"]],\"hovertemplate\":\"PCA1=%{x}<br>PCA2=%{y}<br>PCA3=%{z}<br>artist=%{customdata[0]}<br>song_name=%{customdata[1]}<br>cluster=%{marker.color}<extra></extra>\",\"legendgroup\":\"\",\"marker\":{\"color\":[3,4,2,3,2,1,1,2,3,3,0,2,2,3,3,2,3,3,3,2,3,3,4,0,0,0,0,0,0,0,0,0,4,0,0,0,0,0,4,4,0,2,2,2,0,0,0,1,1,1,0,2,2,2,0,2,2,2,1,2,0,1,4,0,2,2,2,2,1,1,2,0,2,2,0],\"coloraxis\":\"coloraxis\",\"symbol\":\"circle\"},\"mode\":\"markers\",\"name\":\"\",\"scene\":\"scene\",\"showlegend\":false,\"x\":[2.919897442557078,-1.205138466927359,2.139175473462971,4.9389385261940895,2.275366483872993,4.128504153309238,2.645350118909599,0.41865269834592245,3.284523224200287,2.2392490827969445,-1.7683547527590953,1.548721184516819,1.1114866276536366,3.5925660509729416,2.2100953759112474,1.0165302988451883,2.871704583766433,0.8879149844705821,2.156769418302611,1.354156025505273,0.2980421401493835,3.207693272237201,-3.7873199002338547,-2.8368599879810183,-3.744593386898355,-4.227648380471238,-3.082211188251799,-4.239822405715811,-1.3343118044217959,-2.9074859106951494,-2.34245704737218,-4.251205559816063,-3.173214912196978,-2.9080639446960883,-2.646000840643729,-4.063601384391101,-3.344005393136189,-2.4829307972861705,-1.925907955663537,-1.3542439442385892,-2.5037006413764664,2.0992580701931516,2.479279954053973,0.8921397039615384,-4.2448881442460555,-3.7332168992893373,-1.5877094166275285,4.244740267279029,3.2872995206561053,5.231505401054101,-0.9991064308988553,-0.351400518905681,2.921600919605539,0.5025362329607841,-1.3193134485062963,1.1774999928730068,-0.7359948991381715,-0.6224936066892335,2.886759188748384,2.2293183000775776,-2.9408225702800457,1.2679335692885578,-2.8575043984856303,-2.1716183518362024,1.3432934303913726,1.0437340743853825,1.2921812139929572,1.575560491551125,3.1366704053113366,3.1476793540204113,0.38583558665633744,-3.595409141913977,0.07821453468322338,-0.09731777053798545,-1.0825031751967646],\"y\":[4.80998557861646,3.603774630180503,2.2466165280322326,1.0787731925237378,-0.04611487894067814,0.1161088989506067,-0.9989350660719026,0.003959414334340413,2.7910366355620972,2.3723150631987773,0.29480763835181917,0.13673607569497465,-0.10422808394615629,5.303299147620596,2.3715721815606607,0.3954903023225221,3.6036811317844064,1.9564118676563496,1.3300114642214589,0.3579735896789978,2.5870672839094313,3.0514788725367263,4.423585869208483,-1.5872652601134676,-1.4676036390501284,-0.8562150941382597,-0.6645504847678724,-1.0975801698939438,-0.7119498926927678,-0.22722162099225562,-0.7055878961498725,0.6815182121622562,1.847344122322291,-0.8736732413932693,0.25952348161479966,-0.23553170654076847,1.4128433482036418,-0.3322207900709863,2.2287889297037915,1.6258469523719987,-0.6007902728114533,-0.610357081255341,0.8619009813134678,-0.1671725423181529,-1.7433946562842644,-0.4560498415253619,-2.528857097580935,-4.5418218565553214,-2.4070195043309672,-4.851521049286934,-1.3142499491035757,-2.095624260452146,0.008970150905684978,0.1443199345178632,0.13423597323335057,-0.9637753353935214,-0.34937645907711984,-0.34691482471788,-0.9407851713010934,1.152792000285173,-0.7104957273998466,-2.825017198419962,1.3864105916167762,0.01739860420586462,-1.1531244104163492,-0.880615841011036,-1.9335442567235297,-1.304288929082047,-3.2833101418878945,-3.059258069875781,-2.1748195210102823,1.4541822239498796,-1.3335910850003019,-2.001858842220498,-1.5644491225480806],\"z\":[1.9161422993245498,1.8758520593790988,3.158387531719379,-2.432151739667434,-0.8276712367410616,-0.22319505272625503,-2.7597001122912608,0.9582050833679875,-0.596782262646659,0.894577752327584,0.1481758362035825,1.3023985904456694,1.1097558794124804,-0.15595069005258327,-0.1619336229080141,-0.7832876722646961,0.30898272101836927,-2.4413728932392837,-1.2762989892055236,-1.4565472160603243,-0.20413639662794517,-4.044395108033388,-3.9784268813386605,-0.5653648912984206,-0.8332012114190092,-1.0981479896716468,-0.8358777944523614,-0.27417397694715184,0.03604809535037236,1.7614924722385301,-0.1534132301812014,0.44696069611704736,-1.052626869831537,0.11200547522637459,1.2502331323749063,-1.2047064897344748,0.5991674928725569,0.869037847185924,-2.05585354480415,-0.5418729199114637,0.24376129219516132,0.5135299671409804,1.7471862821632818,2.746048667840422,-1.0444363116142983,1.0274268570401937,-2.444065020993102,-0.9928821242306571,0.08655141039356945,-1.4387695992555583,-0.5932147374584043,0.024126709724696976,1.4549914439833374,-0.6977502293583678,0.3048435474971833,0.6925200073629129,0.9934462349404642,0.8956735030905377,-0.3084267931393172,2.395054216669881,1.3841157706644651,-2.172388386916083,-3.4384310940738314,1.0472324358866245,1.6910147389739232,-0.2693285682208501,1.9235982532311893,0.9203021257658135,-0.09027447919745524,0.8721687480239068,0.9729162353514436,4.3897005840242524,0.16946568576960921,0.9373976102141206,-0.7334391559999534],\"type\":\"scatter3d\"}],                        {\"template\":{\"data\":{\"histogram2dcontour\":[{\"type\":\"histogram2dcontour\",\"colorbar\":{\"outlinewidth\":0,\"ticks\":\"\"},\"colorscale\":[[0.0,\"#0d0887\"],[0.1111111111111111,\"#46039f\"],[0.2222222222222222,\"#7201a8\"],[0.3333333333333333,\"#9c179e\"],[0.4444444444444444,\"#bd3786\"],[0.5555555555555556,\"#d8576b\"],[0.6666666666666666,\"#ed7953\"],[0.7777777777777778,\"#fb9f3a\"],[0.8888888888888888,\"#fdca26\"],[1.0,\"#f0f921\"]]}],\"choropleth\":[{\"type\":\"choropleth\",\"colorbar\":{\"outlinewidth\":0,\"ticks\":\"\"}}],\"histogram2d\":[{\"type\":\"histogram2d\",\"colorbar\":{\"outlinewidth\":0,\"ticks\":\"\"},\"colorscale\":[[0.0,\"#0d0887\"],[0.1111111111111111,\"#46039f\"],[0.2222222222222222,\"#7201a8\"],[0.3333333333333333,\"#9c179e\"],[0.4444444444444444,\"#bd3786\"],[0.5555555555555556,\"#d8576b\"],[0.6666666666666666,\"#ed7953\"],[0.7777777777777778,\"#fb9f3a\"],[0.8888888888888888,\"#fdca26\"],[1.0,\"#f0f921\"]]}],\"heatmap\":[{\"type\":\"heatmap\",\"colorbar\":{\"outlinewidth\":0,\"ticks\":\"\"},\"colorscale\":[[0.0,\"#0d0887\"],[0.1111111111111111,\"#46039f\"],[0.2222222222222222,\"#7201a8\"],[0.3333333333333333,\"#9c179e\"],[0.4444444444444444,\"#bd3786\"],[0.5555555555555556,\"#d8576b\"],[0.6666666666666666,\"#ed7953\"],[0.7777777777777778,\"#fb9f3a\"],[0.8888888888888888,\"#fdca26\"],[1.0,\"#f0f921\"]]}],\"heatmapgl\":[{\"type\":\"heatmapgl\",\"colorbar\":{\"outlinewidth\":0,\"ticks\":\"\"},\"colorscale\":[[0.0,\"#0d0887\"],[0.1111111111111111,\"#46039f\"],[0.2222222222222222,\"#7201a8\"],[0.3333333333333333,\"#9c179e\"],[0.4444444444444444,\"#bd3786\"],[0.5555555555555556,\"#d8576b\"],[0.6666666666666666,\"#ed7953\"],[0.7777777777777778,\"#fb9f3a\"],[0.8888888888888888,\"#fdca26\"],[1.0,\"#f0f921\"]]}],\"contourcarpet\":[{\"type\":\"contourcarpet\",\"colorbar\":{\"outlinewidth\":0,\"ticks\":\"\"}}],\"contour\":[{\"type\":\"contour\",\"colorbar\":{\"outlinewidth\":0,\"ticks\":\"\"},\"colorscale\":[[0.0,\"#0d0887\"],[0.1111111111111111,\"#46039f\"],[0.2222222222222222,\"#7201a8\"],[0.3333333333333333,\"#9c179e\"],[0.4444444444444444,\"#bd3786\"],[0.5555555555555556,\"#d8576b\"],[0.6666666666666666,\"#ed7953\"],[0.7777777777777778,\"#fb9f3a\"],[0.8888888888888888,\"#fdca26\"],[1.0,\"#f0f921\"]]}],\"surface\":[{\"type\":\"surface\",\"colorbar\":{\"outlinewidth\":0,\"ticks\":\"\"},\"colorscale\":[[0.0,\"#0d0887\"],[0.1111111111111111,\"#46039f\"],[0.2222222222222222,\"#7201a8\"],[0.3333333333333333,\"#9c179e\"],[0.4444444444444444,\"#bd3786\"],[0.5555555555555556,\"#d8576b\"],[0.6666666666666666,\"#ed7953\"],[0.7777777777777778,\"#fb9f3a\"],[0.8888888888888888,\"#fdca26\"],[1.0,\"#f0f921\"]]}],\"mesh3d\":[{\"type\":\"mesh3d\",\"colorbar\":{\"outlinewidth\":0,\"ticks\":\"\"}}],\"scatter\":[{\"marker\":{\"line\":{\"color\":\"#283442\"}},\"type\":\"scatter\"}],\"parcoords\":[{\"type\":\"parcoords\",\"line\":{\"colorbar\":{\"outlinewidth\":0,\"ticks\":\"\"}}}],\"scatterpolargl\":[{\"type\":\"scatterpolargl\",\"marker\":{\"colorbar\":{\"outlinewidth\":0,\"ticks\":\"\"}}}],\"bar\":[{\"error_x\":{\"color\":\"#f2f5fa\"},\"error_y\":{\"color\":\"#f2f5fa\"},\"marker\":{\"line\":{\"color\":\"rgb(17,17,17)\",\"width\":0.5},\"pattern\":{\"fillmode\":\"overlay\",\"size\":10,\"solidity\":0.2}},\"type\":\"bar\"}],\"scattergeo\":[{\"type\":\"scattergeo\",\"marker\":{\"colorbar\":{\"outlinewidth\":0,\"ticks\":\"\"}}}],\"scatterpolar\":[{\"type\":\"scatterpolar\",\"marker\":{\"colorbar\":{\"outlinewidth\":0,\"ticks\":\"\"}}}],\"histogram\":[{\"marker\":{\"pattern\":{\"fillmode\":\"overlay\",\"size\":10,\"solidity\":0.2}},\"type\":\"histogram\"}],\"scattergl\":[{\"marker\":{\"line\":{\"color\":\"#283442\"}},\"type\":\"scattergl\"}],\"scatter3d\":[{\"type\":\"scatter3d\",\"line\":{\"colorbar\":{\"outlinewidth\":0,\"ticks\":\"\"}},\"marker\":{\"colorbar\":{\"outlinewidth\":0,\"ticks\":\"\"}}}],\"scattermapbox\":[{\"type\":\"scattermapbox\",\"marker\":{\"colorbar\":{\"outlinewidth\":0,\"ticks\":\"\"}}}],\"scatterternary\":[{\"type\":\"scatterternary\",\"marker\":{\"colorbar\":{\"outlinewidth\":0,\"ticks\":\"\"}}}],\"scattercarpet\":[{\"type\":\"scattercarpet\",\"marker\":{\"colorbar\":{\"outlinewidth\":0,\"ticks\":\"\"}}}],\"carpet\":[{\"aaxis\":{\"endlinecolor\":\"#A2B1C6\",\"gridcolor\":\"#506784\",\"linecolor\":\"#506784\",\"minorgridcolor\":\"#506784\",\"startlinecolor\":\"#A2B1C6\"},\"baxis\":{\"endlinecolor\":\"#A2B1C6\",\"gridcolor\":\"#506784\",\"linecolor\":\"#506784\",\"minorgridcolor\":\"#506784\",\"startlinecolor\":\"#A2B1C6\"},\"type\":\"carpet\"}],\"table\":[{\"cells\":{\"fill\":{\"color\":\"#506784\"},\"line\":{\"color\":\"rgb(17,17,17)\"}},\"header\":{\"fill\":{\"color\":\"#2a3f5f\"},\"line\":{\"color\":\"rgb(17,17,17)\"}},\"type\":\"table\"}],\"barpolar\":[{\"marker\":{\"line\":{\"color\":\"rgb(17,17,17)\",\"width\":0.5},\"pattern\":{\"fillmode\":\"overlay\",\"size\":10,\"solidity\":0.2}},\"type\":\"barpolar\"}],\"pie\":[{\"automargin\":true,\"type\":\"pie\"}]},\"layout\":{\"autotypenumbers\":\"strict\",\"colorway\":[\"#636efa\",\"#EF553B\",\"#00cc96\",\"#ab63fa\",\"#FFA15A\",\"#19d3f3\",\"#FF6692\",\"#B6E880\",\"#FF97FF\",\"#FECB52\"],\"font\":{\"color\":\"#f2f5fa\"},\"hovermode\":\"closest\",\"hoverlabel\":{\"align\":\"left\"},\"paper_bgcolor\":\"rgb(17,17,17)\",\"plot_bgcolor\":\"rgb(17,17,17)\",\"polar\":{\"bgcolor\":\"rgb(17,17,17)\",\"angularaxis\":{\"gridcolor\":\"#506784\",\"linecolor\":\"#506784\",\"ticks\":\"\"},\"radialaxis\":{\"gridcolor\":\"#506784\",\"linecolor\":\"#506784\",\"ticks\":\"\"}},\"ternary\":{\"bgcolor\":\"rgb(17,17,17)\",\"aaxis\":{\"gridcolor\":\"#506784\",\"linecolor\":\"#506784\",\"ticks\":\"\"},\"baxis\":{\"gridcolor\":\"#506784\",\"linecolor\":\"#506784\",\"ticks\":\"\"},\"caxis\":{\"gridcolor\":\"#506784\",\"linecolor\":\"#506784\",\"ticks\":\"\"}},\"coloraxis\":{\"colorbar\":{\"outlinewidth\":0,\"ticks\":\"\"}},\"colorscale\":{\"sequential\":[[0.0,\"#0d0887\"],[0.1111111111111111,\"#46039f\"],[0.2222222222222222,\"#7201a8\"],[0.3333333333333333,\"#9c179e\"],[0.4444444444444444,\"#bd3786\"],[0.5555555555555556,\"#d8576b\"],[0.6666666666666666,\"#ed7953\"],[0.7777777777777778,\"#fb9f3a\"],[0.8888888888888888,\"#fdca26\"],[1.0,\"#f0f921\"]],\"sequentialminus\":[[0.0,\"#0d0887\"],[0.1111111111111111,\"#46039f\"],[0.2222222222222222,\"#7201a8\"],[0.3333333333333333,\"#9c179e\"],[0.4444444444444444,\"#bd3786\"],[0.5555555555555556,\"#d8576b\"],[0.6666666666666666,\"#ed7953\"],[0.7777777777777778,\"#fb9f3a\"],[0.8888888888888888,\"#fdca26\"],[1.0,\"#f0f921\"]],\"diverging\":[[0,\"#8e0152\"],[0.1,\"#c51b7d\"],[0.2,\"#de77ae\"],[0.3,\"#f1b6da\"],[0.4,\"#fde0ef\"],[0.5,\"#f7f7f7\"],[0.6,\"#e6f5d0\"],[0.7,\"#b8e186\"],[0.8,\"#7fbc41\"],[0.9,\"#4d9221\"],[1,\"#276419\"]]},\"xaxis\":{\"gridcolor\":\"#283442\",\"linecolor\":\"#506784\",\"ticks\":\"\",\"title\":{\"standoff\":15},\"zerolinecolor\":\"#283442\",\"automargin\":true,\"zerolinewidth\":2},\"yaxis\":{\"gridcolor\":\"#283442\",\"linecolor\":\"#506784\",\"ticks\":\"\",\"title\":{\"standoff\":15},\"zerolinecolor\":\"#283442\",\"automargin\":true,\"zerolinewidth\":2},\"scene\":{\"xaxis\":{\"backgroundcolor\":\"rgb(17,17,17)\",\"gridcolor\":\"#506784\",\"linecolor\":\"#506784\",\"showbackground\":true,\"ticks\":\"\",\"zerolinecolor\":\"#C8D4E3\",\"gridwidth\":2},\"yaxis\":{\"backgroundcolor\":\"rgb(17,17,17)\",\"gridcolor\":\"#506784\",\"linecolor\":\"#506784\",\"showbackground\":true,\"ticks\":\"\",\"zerolinecolor\":\"#C8D4E3\",\"gridwidth\":2},\"zaxis\":{\"backgroundcolor\":\"rgb(17,17,17)\",\"gridcolor\":\"#506784\",\"linecolor\":\"#506784\",\"showbackground\":true,\"ticks\":\"\",\"zerolinecolor\":\"#C8D4E3\",\"gridwidth\":2}},\"shapedefaults\":{\"line\":{\"color\":\"#f2f5fa\"}},\"annotationdefaults\":{\"arrowcolor\":\"#f2f5fa\",\"arrowhead\":0,\"arrowwidth\":1},\"geo\":{\"bgcolor\":\"rgb(17,17,17)\",\"landcolor\":\"rgb(17,17,17)\",\"subunitcolor\":\"#506784\",\"showland\":true,\"showlakes\":true,\"lakecolor\":\"rgb(17,17,17)\"},\"title\":{\"x\":0.05},\"updatemenudefaults\":{\"bgcolor\":\"#506784\",\"borderwidth\":0},\"sliderdefaults\":{\"bgcolor\":\"#C8D4E3\",\"borderwidth\":1,\"bordercolor\":\"rgb(17,17,17)\",\"tickwidth\":0},\"mapbox\":{\"style\":\"dark\"}}},\"scene\":{\"domain\":{\"x\":[0.0,1.0],\"y\":[0.0,1.0]},\"xaxis\":{\"title\":{\"text\":\"PCA1\"}},\"yaxis\":{\"title\":{\"text\":\"PCA2\"}},\"zaxis\":{\"title\":{\"text\":\"PCA3\"}}},\"coloraxis\":{\"colorbar\":{\"title\":{\"text\":\"cluster\"}},\"colorscale\":[[0.0,\"#0d0887\"],[0.1111111111111111,\"#46039f\"],[0.2222222222222222,\"#7201a8\"],[0.3333333333333333,\"#9c179e\"],[0.4444444444444444,\"#bd3786\"],[0.5555555555555556,\"#d8576b\"],[0.6666666666666666,\"#ed7953\"],[0.7777777777777778,\"#fb9f3a\"],[0.8888888888888888,\"#fdca26\"],[1.0,\"#f0f921\"]]},\"legend\":{\"tracegroupgap\":0},\"margin\":{\"t\":60}},                        {\"responsive\": true}                    ).then(function(){\n                            \nvar gd = document.getElementById('46e47976-dc99-4ff7-8fb8-275272c50f26');\nvar x = new MutationObserver(function (mutations, observer) {{\n        var display = window.getComputedStyle(gd).display;\n        if (!display || display === 'none') {{\n            console.log([gd, 'removed!']);\n            Plotly.purge(gd);\n            observer.disconnect();\n        }}\n}});\n\n// Listen for the removal of the full notebook cells\nvar notebookContainer = gd.closest('#notebook-container');\nif (notebookContainer) {{\n    x.observe(notebookContainer, {childList: true});\n}}\n\n// Listen for the clearing of the current output cell\nvar outputEl = gd.closest('.output');\nif (outputEl) {{\n    x.observe(outputEl, {childList: true});\n}}\n\n                        })                };                });            </script>        </div>"
     },
     "metadata": {},
     "output_type": "display_data"
    }
   ],
   "source": [
    "fig = px.scatter_3d(\n",
    "    named_pca_dataset,\n",
    "    x='PCA1',\n",
    "    y='PCA2',\n",
    "    z='PCA3',\n",
    "    hover_data=['artist', 'song_name'],\n",
    "    template='plotly_dark',\n",
    "    color='cluster'\n",
    ")\n",
    "fig.show()"
   ],
   "metadata": {
    "collapsed": false
   }
  },
  {
   "cell_type": "code",
   "execution_count": 31,
   "outputs": [],
   "source": [
    "# Todo: (1) Compress trajectories into feature vectors\n",
    "# Todo: (2) Automatic elbow method / hierarchical clustering\n",
    "# Todo: (3) Allow user to input new song, process it and place it within the clustering grid\n",
    "# Todo: (4) Return nearest (cluster?) neighbours as recommendations"
   ],
   "metadata": {
    "collapsed": false
   }
  }
 ],
 "metadata": {
  "kernelspec": {
   "display_name": "Python 3",
   "language": "python",
   "name": "python3"
  },
  "language_info": {
   "codemirror_mode": {
    "name": "ipython",
    "version": 2
   },
   "file_extension": ".py",
   "mimetype": "text/x-python",
   "name": "python",
   "nbconvert_exporter": "python",
   "pygments_lexer": "ipython2",
   "version": "2.7.6"
  }
 },
 "nbformat": 4,
 "nbformat_minor": 0
}
